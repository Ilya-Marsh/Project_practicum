{
  "cells": [
    {
      "cell_type": "markdown",
      "id": "6a49ecbc",
      "metadata": {
        "deletable": false,
        "editable": false,
        "id": "6a49ecbc"
      },
      "source": [
        "# Исследование надежности заемщиков\n"
      ]
    },
    {
      "cell_type": "markdown",
      "id": "58b2ea42",
      "metadata": {
        "deletable": false,
        "editable": false,
        "id": "58b2ea42"
      },
      "source": [
        "## Откройте таблицу и изучите общую информацию о данных"
      ]
    },
    {
      "cell_type": "code",
      "execution_count": null,
      "id": "4943aabd",
      "metadata": {
        "deletable": false,
        "id": "4943aabd"
      },
      "outputs": [],
      "source": [
        "import pandas as pd\n",
        "\n",
        "try:\n",
        "    data = pd.read_csv('/datasets/data.csv')\n",
        "except:\n",
        "    data = pd.read_csv('https://code.s3.yandex.net/datasets/data.csv')"
      ]
    },
    {
      "cell_type": "code",
      "execution_count": null,
      "id": "0df9af13",
      "metadata": {
        "deletable": false,
        "id": "0df9af13",
        "outputId": "1a8f3ef2-d323-4ec2-ddf7-89670b5944c4"
      },
      "outputs": [
        {
          "data": {
            "text/html": [
              "<div>\n",
              "<style scoped>\n",
              "    .dataframe tbody tr th:only-of-type {\n",
              "        vertical-align: middle;\n",
              "    }\n",
              "\n",
              "    .dataframe tbody tr th {\n",
              "        vertical-align: top;\n",
              "    }\n",
              "\n",
              "    .dataframe thead th {\n",
              "        text-align: right;\n",
              "    }\n",
              "</style>\n",
              "<table border=\"1\" class=\"dataframe\">\n",
              "  <thead>\n",
              "    <tr style=\"text-align: right;\">\n",
              "      <th></th>\n",
              "      <th>children</th>\n",
              "      <th>days_employed</th>\n",
              "      <th>dob_years</th>\n",
              "      <th>education</th>\n",
              "      <th>education_id</th>\n",
              "      <th>family_status</th>\n",
              "      <th>family_status_id</th>\n",
              "      <th>gender</th>\n",
              "      <th>income_type</th>\n",
              "      <th>debt</th>\n",
              "      <th>total_income</th>\n",
              "      <th>purpose</th>\n",
              "    </tr>\n",
              "  </thead>\n",
              "  <tbody>\n",
              "    <tr>\n",
              "      <th>0</th>\n",
              "      <td>1</td>\n",
              "      <td>-8437.673028</td>\n",
              "      <td>42</td>\n",
              "      <td>высшее</td>\n",
              "      <td>0</td>\n",
              "      <td>женат / замужем</td>\n",
              "      <td>0</td>\n",
              "      <td>F</td>\n",
              "      <td>сотрудник</td>\n",
              "      <td>0</td>\n",
              "      <td>253875.639453</td>\n",
              "      <td>покупка жилья</td>\n",
              "    </tr>\n",
              "    <tr>\n",
              "      <th>1</th>\n",
              "      <td>1</td>\n",
              "      <td>-4024.803754</td>\n",
              "      <td>36</td>\n",
              "      <td>среднее</td>\n",
              "      <td>1</td>\n",
              "      <td>женат / замужем</td>\n",
              "      <td>0</td>\n",
              "      <td>F</td>\n",
              "      <td>сотрудник</td>\n",
              "      <td>0</td>\n",
              "      <td>112080.014102</td>\n",
              "      <td>приобретение автомобиля</td>\n",
              "    </tr>\n",
              "    <tr>\n",
              "      <th>2</th>\n",
              "      <td>0</td>\n",
              "      <td>-5623.422610</td>\n",
              "      <td>33</td>\n",
              "      <td>Среднее</td>\n",
              "      <td>1</td>\n",
              "      <td>женат / замужем</td>\n",
              "      <td>0</td>\n",
              "      <td>M</td>\n",
              "      <td>сотрудник</td>\n",
              "      <td>0</td>\n",
              "      <td>145885.952297</td>\n",
              "      <td>покупка жилья</td>\n",
              "    </tr>\n",
              "    <tr>\n",
              "      <th>3</th>\n",
              "      <td>3</td>\n",
              "      <td>-4124.747207</td>\n",
              "      <td>32</td>\n",
              "      <td>среднее</td>\n",
              "      <td>1</td>\n",
              "      <td>женат / замужем</td>\n",
              "      <td>0</td>\n",
              "      <td>M</td>\n",
              "      <td>сотрудник</td>\n",
              "      <td>0</td>\n",
              "      <td>267628.550329</td>\n",
              "      <td>дополнительное образование</td>\n",
              "    </tr>\n",
              "    <tr>\n",
              "      <th>4</th>\n",
              "      <td>0</td>\n",
              "      <td>340266.072047</td>\n",
              "      <td>53</td>\n",
              "      <td>среднее</td>\n",
              "      <td>1</td>\n",
              "      <td>гражданский брак</td>\n",
              "      <td>1</td>\n",
              "      <td>F</td>\n",
              "      <td>пенсионер</td>\n",
              "      <td>0</td>\n",
              "      <td>158616.077870</td>\n",
              "      <td>сыграть свадьбу</td>\n",
              "    </tr>\n",
              "    <tr>\n",
              "      <th>5</th>\n",
              "      <td>0</td>\n",
              "      <td>-926.185831</td>\n",
              "      <td>27</td>\n",
              "      <td>высшее</td>\n",
              "      <td>0</td>\n",
              "      <td>гражданский брак</td>\n",
              "      <td>1</td>\n",
              "      <td>M</td>\n",
              "      <td>компаньон</td>\n",
              "      <td>0</td>\n",
              "      <td>255763.565419</td>\n",
              "      <td>покупка жилья</td>\n",
              "    </tr>\n",
              "    <tr>\n",
              "      <th>6</th>\n",
              "      <td>0</td>\n",
              "      <td>-2879.202052</td>\n",
              "      <td>43</td>\n",
              "      <td>высшее</td>\n",
              "      <td>0</td>\n",
              "      <td>женат / замужем</td>\n",
              "      <td>0</td>\n",
              "      <td>F</td>\n",
              "      <td>компаньон</td>\n",
              "      <td>0</td>\n",
              "      <td>240525.971920</td>\n",
              "      <td>операции с жильем</td>\n",
              "    </tr>\n",
              "    <tr>\n",
              "      <th>7</th>\n",
              "      <td>0</td>\n",
              "      <td>-152.779569</td>\n",
              "      <td>50</td>\n",
              "      <td>СРЕДНЕЕ</td>\n",
              "      <td>1</td>\n",
              "      <td>женат / замужем</td>\n",
              "      <td>0</td>\n",
              "      <td>M</td>\n",
              "      <td>сотрудник</td>\n",
              "      <td>0</td>\n",
              "      <td>135823.934197</td>\n",
              "      <td>образование</td>\n",
              "    </tr>\n",
              "    <tr>\n",
              "      <th>8</th>\n",
              "      <td>2</td>\n",
              "      <td>-6929.865299</td>\n",
              "      <td>35</td>\n",
              "      <td>ВЫСШЕЕ</td>\n",
              "      <td>0</td>\n",
              "      <td>гражданский брак</td>\n",
              "      <td>1</td>\n",
              "      <td>F</td>\n",
              "      <td>сотрудник</td>\n",
              "      <td>0</td>\n",
              "      <td>95856.832424</td>\n",
              "      <td>на проведение свадьбы</td>\n",
              "    </tr>\n",
              "    <tr>\n",
              "      <th>9</th>\n",
              "      <td>0</td>\n",
              "      <td>-2188.756445</td>\n",
              "      <td>41</td>\n",
              "      <td>среднее</td>\n",
              "      <td>1</td>\n",
              "      <td>женат / замужем</td>\n",
              "      <td>0</td>\n",
              "      <td>M</td>\n",
              "      <td>сотрудник</td>\n",
              "      <td>0</td>\n",
              "      <td>144425.938277</td>\n",
              "      <td>покупка жилья для семьи</td>\n",
              "    </tr>\n",
              "    <tr>\n",
              "      <th>10</th>\n",
              "      <td>2</td>\n",
              "      <td>-4171.483647</td>\n",
              "      <td>36</td>\n",
              "      <td>высшее</td>\n",
              "      <td>0</td>\n",
              "      <td>женат / замужем</td>\n",
              "      <td>0</td>\n",
              "      <td>M</td>\n",
              "      <td>компаньон</td>\n",
              "      <td>0</td>\n",
              "      <td>113943.491460</td>\n",
              "      <td>покупка недвижимости</td>\n",
              "    </tr>\n",
              "    <tr>\n",
              "      <th>11</th>\n",
              "      <td>0</td>\n",
              "      <td>-792.701887</td>\n",
              "      <td>40</td>\n",
              "      <td>среднее</td>\n",
              "      <td>1</td>\n",
              "      <td>женат / замужем</td>\n",
              "      <td>0</td>\n",
              "      <td>F</td>\n",
              "      <td>сотрудник</td>\n",
              "      <td>0</td>\n",
              "      <td>77069.234271</td>\n",
              "      <td>покупка коммерческой недвижимости</td>\n",
              "    </tr>\n",
              "    <tr>\n",
              "      <th>12</th>\n",
              "      <td>0</td>\n",
              "      <td>NaN</td>\n",
              "      <td>65</td>\n",
              "      <td>среднее</td>\n",
              "      <td>1</td>\n",
              "      <td>гражданский брак</td>\n",
              "      <td>1</td>\n",
              "      <td>M</td>\n",
              "      <td>пенсионер</td>\n",
              "      <td>0</td>\n",
              "      <td>NaN</td>\n",
              "      <td>сыграть свадьбу</td>\n",
              "    </tr>\n",
              "    <tr>\n",
              "      <th>13</th>\n",
              "      <td>0</td>\n",
              "      <td>-1846.641941</td>\n",
              "      <td>54</td>\n",
              "      <td>неоконченное высшее</td>\n",
              "      <td>2</td>\n",
              "      <td>женат / замужем</td>\n",
              "      <td>0</td>\n",
              "      <td>F</td>\n",
              "      <td>сотрудник</td>\n",
              "      <td>0</td>\n",
              "      <td>130458.228857</td>\n",
              "      <td>приобретение автомобиля</td>\n",
              "    </tr>\n",
              "    <tr>\n",
              "      <th>14</th>\n",
              "      <td>0</td>\n",
              "      <td>-1844.956182</td>\n",
              "      <td>56</td>\n",
              "      <td>высшее</td>\n",
              "      <td>0</td>\n",
              "      <td>гражданский брак</td>\n",
              "      <td>1</td>\n",
              "      <td>F</td>\n",
              "      <td>компаньон</td>\n",
              "      <td>1</td>\n",
              "      <td>165127.911772</td>\n",
              "      <td>покупка жилой недвижимости</td>\n",
              "    </tr>\n",
              "    <tr>\n",
              "      <th>15</th>\n",
              "      <td>1</td>\n",
              "      <td>-972.364419</td>\n",
              "      <td>26</td>\n",
              "      <td>среднее</td>\n",
              "      <td>1</td>\n",
              "      <td>женат / замужем</td>\n",
              "      <td>0</td>\n",
              "      <td>F</td>\n",
              "      <td>сотрудник</td>\n",
              "      <td>0</td>\n",
              "      <td>116820.904450</td>\n",
              "      <td>строительство собственной недвижимости</td>\n",
              "    </tr>\n",
              "    <tr>\n",
              "      <th>16</th>\n",
              "      <td>0</td>\n",
              "      <td>-1719.934226</td>\n",
              "      <td>35</td>\n",
              "      <td>среднее</td>\n",
              "      <td>1</td>\n",
              "      <td>женат / замужем</td>\n",
              "      <td>0</td>\n",
              "      <td>F</td>\n",
              "      <td>сотрудник</td>\n",
              "      <td>0</td>\n",
              "      <td>289202.704229</td>\n",
              "      <td>недвижимость</td>\n",
              "    </tr>\n",
              "    <tr>\n",
              "      <th>17</th>\n",
              "      <td>0</td>\n",
              "      <td>-2369.999720</td>\n",
              "      <td>33</td>\n",
              "      <td>высшее</td>\n",
              "      <td>0</td>\n",
              "      <td>гражданский брак</td>\n",
              "      <td>1</td>\n",
              "      <td>M</td>\n",
              "      <td>сотрудник</td>\n",
              "      <td>0</td>\n",
              "      <td>90410.586745</td>\n",
              "      <td>строительство недвижимости</td>\n",
              "    </tr>\n",
              "    <tr>\n",
              "      <th>18</th>\n",
              "      <td>0</td>\n",
              "      <td>400281.136913</td>\n",
              "      <td>53</td>\n",
              "      <td>среднее</td>\n",
              "      <td>1</td>\n",
              "      <td>вдовец / вдова</td>\n",
              "      <td>2</td>\n",
              "      <td>F</td>\n",
              "      <td>пенсионер</td>\n",
              "      <td>0</td>\n",
              "      <td>56823.777243</td>\n",
              "      <td>на покупку подержанного автомобиля</td>\n",
              "    </tr>\n",
              "    <tr>\n",
              "      <th>19</th>\n",
              "      <td>0</td>\n",
              "      <td>-10038.818549</td>\n",
              "      <td>48</td>\n",
              "      <td>СРЕДНЕЕ</td>\n",
              "      <td>1</td>\n",
              "      <td>в разводе</td>\n",
              "      <td>3</td>\n",
              "      <td>F</td>\n",
              "      <td>сотрудник</td>\n",
              "      <td>0</td>\n",
              "      <td>242831.107982</td>\n",
              "      <td>на покупку своего автомобиля</td>\n",
              "    </tr>\n",
              "  </tbody>\n",
              "</table>\n",
              "</div>"
            ],
            "text/plain": [
              "    children  days_employed  dob_years            education  education_id  \\\n",
              "0          1   -8437.673028         42               высшее             0   \n",
              "1          1   -4024.803754         36              среднее             1   \n",
              "2          0   -5623.422610         33              Среднее             1   \n",
              "3          3   -4124.747207         32              среднее             1   \n",
              "4          0  340266.072047         53              среднее             1   \n",
              "5          0    -926.185831         27               высшее             0   \n",
              "6          0   -2879.202052         43               высшее             0   \n",
              "7          0    -152.779569         50              СРЕДНЕЕ             1   \n",
              "8          2   -6929.865299         35               ВЫСШЕЕ             0   \n",
              "9          0   -2188.756445         41              среднее             1   \n",
              "10         2   -4171.483647         36               высшее             0   \n",
              "11         0    -792.701887         40              среднее             1   \n",
              "12         0            NaN         65              среднее             1   \n",
              "13         0   -1846.641941         54  неоконченное высшее             2   \n",
              "14         0   -1844.956182         56               высшее             0   \n",
              "15         1    -972.364419         26              среднее             1   \n",
              "16         0   -1719.934226         35              среднее             1   \n",
              "17         0   -2369.999720         33               высшее             0   \n",
              "18         0  400281.136913         53              среднее             1   \n",
              "19         0  -10038.818549         48              СРЕДНЕЕ             1   \n",
              "\n",
              "       family_status  family_status_id gender income_type  debt  \\\n",
              "0    женат / замужем                 0      F   сотрудник     0   \n",
              "1    женат / замужем                 0      F   сотрудник     0   \n",
              "2    женат / замужем                 0      M   сотрудник     0   \n",
              "3    женат / замужем                 0      M   сотрудник     0   \n",
              "4   гражданский брак                 1      F   пенсионер     0   \n",
              "5   гражданский брак                 1      M   компаньон     0   \n",
              "6    женат / замужем                 0      F   компаньон     0   \n",
              "7    женат / замужем                 0      M   сотрудник     0   \n",
              "8   гражданский брак                 1      F   сотрудник     0   \n",
              "9    женат / замужем                 0      M   сотрудник     0   \n",
              "10   женат / замужем                 0      M   компаньон     0   \n",
              "11   женат / замужем                 0      F   сотрудник     0   \n",
              "12  гражданский брак                 1      M   пенсионер     0   \n",
              "13   женат / замужем                 0      F   сотрудник     0   \n",
              "14  гражданский брак                 1      F   компаньон     1   \n",
              "15   женат / замужем                 0      F   сотрудник     0   \n",
              "16   женат / замужем                 0      F   сотрудник     0   \n",
              "17  гражданский брак                 1      M   сотрудник     0   \n",
              "18    вдовец / вдова                 2      F   пенсионер     0   \n",
              "19         в разводе                 3      F   сотрудник     0   \n",
              "\n",
              "     total_income                                 purpose  \n",
              "0   253875.639453                           покупка жилья  \n",
              "1   112080.014102                 приобретение автомобиля  \n",
              "2   145885.952297                           покупка жилья  \n",
              "3   267628.550329              дополнительное образование  \n",
              "4   158616.077870                         сыграть свадьбу  \n",
              "5   255763.565419                           покупка жилья  \n",
              "6   240525.971920                       операции с жильем  \n",
              "7   135823.934197                             образование  \n",
              "8    95856.832424                   на проведение свадьбы  \n",
              "9   144425.938277                 покупка жилья для семьи  \n",
              "10  113943.491460                    покупка недвижимости  \n",
              "11   77069.234271       покупка коммерческой недвижимости  \n",
              "12            NaN                         сыграть свадьбу  \n",
              "13  130458.228857                 приобретение автомобиля  \n",
              "14  165127.911772              покупка жилой недвижимости  \n",
              "15  116820.904450  строительство собственной недвижимости  \n",
              "16  289202.704229                            недвижимость  \n",
              "17   90410.586745              строительство недвижимости  \n",
              "18   56823.777243      на покупку подержанного автомобиля  \n",
              "19  242831.107982            на покупку своего автомобиля  "
            ]
          },
          "execution_count": 49,
          "metadata": {},
          "output_type": "execute_result"
        }
      ],
      "source": [
        "data.head(20)"
      ]
    },
    {
      "cell_type": "code",
      "execution_count": null,
      "id": "06815a08",
      "metadata": {
        "deletable": false,
        "id": "06815a08",
        "outputId": "15376089-8dad-46c9-b520-c05248d43158"
      },
      "outputs": [
        {
          "name": "stdout",
          "output_type": "stream",
          "text": [
            "<class 'pandas.core.frame.DataFrame'>\n",
            "RangeIndex: 21525 entries, 0 to 21524\n",
            "Data columns (total 12 columns):\n",
            " #   Column            Non-Null Count  Dtype  \n",
            "---  ------            --------------  -----  \n",
            " 0   children          21525 non-null  int64  \n",
            " 1   days_employed     19351 non-null  float64\n",
            " 2   dob_years         21525 non-null  int64  \n",
            " 3   education         21525 non-null  object \n",
            " 4   education_id      21525 non-null  int64  \n",
            " 5   family_status     21525 non-null  object \n",
            " 6   family_status_id  21525 non-null  int64  \n",
            " 7   gender            21525 non-null  object \n",
            " 8   income_type       21525 non-null  object \n",
            " 9   debt              21525 non-null  int64  \n",
            " 10  total_income      19351 non-null  float64\n",
            " 11  purpose           21525 non-null  object \n",
            "dtypes: float64(2), int64(5), object(5)\n",
            "memory usage: 2.0+ MB\n"
          ]
        }
      ],
      "source": [
        "data.info()"
      ]
    },
    {
      "cell_type": "markdown",
      "id": "a44497f1",
      "metadata": {
        "deletable": false,
        "editable": false,
        "id": "a44497f1"
      },
      "source": [
        "## Предобработка данных"
      ]
    },
    {
      "cell_type": "markdown",
      "id": "32472669",
      "metadata": {
        "deletable": false,
        "editable": false,
        "id": "32472669"
      },
      "source": [
        "### Удаление пропусков"
      ]
    },
    {
      "cell_type": "code",
      "execution_count": null,
      "id": "e2821a4c",
      "metadata": {
        "deletable": false,
        "id": "e2821a4c",
        "outputId": "81f4d817-781c-465c-ed15-91ce4446810d"
      },
      "outputs": [
        {
          "data": {
            "text/plain": [
              "children               0\n",
              "days_employed       2174\n",
              "dob_years              0\n",
              "education              0\n",
              "education_id           0\n",
              "family_status          0\n",
              "family_status_id       0\n",
              "gender                 0\n",
              "income_type            0\n",
              "debt                   0\n",
              "total_income        2174\n",
              "purpose                0\n",
              "dtype: int64"
            ]
          },
          "execution_count": 51,
          "metadata": {},
          "output_type": "execute_result"
        }
      ],
      "source": [
        "data.isna().sum()"
      ]
    },
    {
      "cell_type": "markdown",
      "id": "8e4e3dd1",
      "metadata": {
        "deletable": false,
        "editable": false,
        "id": "8e4e3dd1"
      },
      "source": [
        "**В двух столбцах есть пропущенные значения. Один из них — `days_employed`. Пропуски в этом столбце вы обработаете на следующем этапе. Другой столбец с пропущенными значениями — `total_income` — хранит данные о доходах. На сумму дохода сильнее всего влияет тип занятости, поэтому заполнить пропуски в этом столбце нужно медианным значением по каждому типу из столбца `income_type`. Например, у человека с типом занятости `сотрудник` пропуск в столбце `total_income` должен быть заполнен медианным доходом среди всех записей с тем же типом.**"
      ]
    },
    {
      "cell_type": "code",
      "execution_count": null,
      "id": "d98a7d5a",
      "metadata": {
        "deletable": false,
        "id": "d98a7d5a"
      },
      "outputs": [],
      "source": [
        "for t in data['income_type'].unique():\n",
        "    data.loc[(data['income_type'] == t) & (data['total_income'].isna()), 'total_income'] = \\\n",
        "    data.loc[(data['income_type'] == t), 'total_income'].median()"
      ]
    },
    {
      "cell_type": "markdown",
      "id": "d4b0bc39",
      "metadata": {
        "deletable": false,
        "editable": false,
        "id": "d4b0bc39"
      },
      "source": [
        "### Обработка аномальных значений"
      ]
    },
    {
      "cell_type": "markdown",
      "id": "df9e2815",
      "metadata": {
        "deletable": false,
        "editable": false,
        "id": "df9e2815"
      },
      "source": [
        "**В данных могут встречаться артефакты (аномалии) — значения, которые не отражают действительность и появились по какой-то ошибке. таким артефактом будет отрицательное количество дней трудового стажа в столбце `days_employed`. Для реальных данных это нормально. Обработайте значения в этом столбце: замените все отрицательные значения положительными с помощью метода `abs()`.**"
      ]
    },
    {
      "cell_type": "code",
      "execution_count": null,
      "id": "65a205ee",
      "metadata": {
        "deletable": false,
        "id": "65a205ee"
      },
      "outputs": [],
      "source": [
        "data['days_employed'] = data['days_employed'].abs()"
      ]
    },
    {
      "cell_type": "code",
      "execution_count": null,
      "id": "f39433ae",
      "metadata": {
        "deletable": false,
        "id": "f39433ae",
        "outputId": "801ef80e-522b-4668-f34e-565af7432bcf"
      },
      "outputs": [
        {
          "data": {
            "text/plain": [
              "income_type\n",
              "безработный        366413.652744\n",
              "в декрете            3296.759962\n",
              "госслужащий          2689.368353\n",
              "компаньон            1547.382223\n",
              "пенсионер          365213.306266\n",
              "предприниматель       520.848083\n",
              "сотрудник            1574.202821\n",
              "студент               578.751554\n",
              "Name: days_employed, dtype: float64"
            ]
          },
          "execution_count": 54,
          "metadata": {},
          "output_type": "execute_result"
        }
      ],
      "source": [
        "data.groupby('income_type')['days_employed'].agg('median')"
      ]
    },
    {
      "cell_type": "markdown",
      "id": "ba68c49d",
      "metadata": {
        "deletable": false,
        "editable": false,
        "id": "ba68c49d"
      },
      "source": [
        "У двух типов (безработные и пенсионеры) получатся аномально большие значения. Исправить такие значения сложно, поэтому оставьте их как есть. Тем более этот столбец не понадобится вам для исследования."
      ]
    },
    {
      "cell_type": "code",
      "execution_count": null,
      "id": "b2d21787",
      "metadata": {
        "deletable": false,
        "id": "b2d21787",
        "outputId": "6975b15c-7f95-4697-d16d-a0c79b657b03"
      },
      "outputs": [
        {
          "data": {
            "text/plain": [
              "array([ 1,  0,  3,  2, -1,  4, 20,  5])"
            ]
          },
          "execution_count": 55,
          "metadata": {},
          "output_type": "execute_result"
        }
      ],
      "source": [
        "data['children'].unique()"
      ]
    },
    {
      "cell_type": "code",
      "execution_count": null,
      "id": "a767b06d",
      "metadata": {
        "deletable": false,
        "id": "a767b06d"
      },
      "outputs": [],
      "source": [
        "data = data[(data['children'] != -1) & (data['children'] != 20)]"
      ]
    },
    {
      "cell_type": "code",
      "execution_count": null,
      "id": "a0a5266d",
      "metadata": {
        "deletable": false,
        "id": "a0a5266d",
        "outputId": "b2097101-d49d-44d9-901b-32a65c9463d1"
      },
      "outputs": [
        {
          "data": {
            "text/plain": [
              "array([1, 0, 3, 2, 4, 5])"
            ]
          },
          "execution_count": 57,
          "metadata": {},
          "output_type": "execute_result"
        }
      ],
      "source": [
        "data['children'].unique()"
      ]
    },
    {
      "cell_type": "markdown",
      "id": "cd9be54d",
      "metadata": {
        "deletable": false,
        "editable": false,
        "id": "cd9be54d"
      },
      "source": [
        "### Удаление пропусков (продолжение)"
      ]
    },
    {
      "cell_type": "code",
      "execution_count": null,
      "id": "d36eab86",
      "metadata": {
        "deletable": false,
        "id": "d36eab86"
      },
      "outputs": [],
      "source": [
        "for t in data['income_type'].unique():\n",
        "    data.loc[(data['income_type'] == t) & (data['days_employed'].isna()), 'days_employed'] = \\\n",
        "    data.loc[(data['income_type'] == t), 'days_employed'].median()"
      ]
    },
    {
      "cell_type": "code",
      "execution_count": null,
      "id": "cdc78d0a",
      "metadata": {
        "deletable": false,
        "id": "cdc78d0a",
        "outputId": "8da1e4e1-358e-4e87-98c9-f261bce0a7b2"
      },
      "outputs": [
        {
          "data": {
            "text/plain": [
              "children            0\n",
              "days_employed       0\n",
              "dob_years           0\n",
              "education           0\n",
              "education_id        0\n",
              "family_status       0\n",
              "family_status_id    0\n",
              "gender              0\n",
              "income_type         0\n",
              "debt                0\n",
              "total_income        0\n",
              "purpose             0\n",
              "dtype: int64"
            ]
          },
          "execution_count": 59,
          "metadata": {},
          "output_type": "execute_result"
        }
      ],
      "source": [
        "data.isna().sum()"
      ]
    },
    {
      "cell_type": "markdown",
      "id": "513b51b9",
      "metadata": {
        "deletable": false,
        "editable": false,
        "id": "513b51b9"
      },
      "source": [
        "### Изменение типов данных"
      ]
    },
    {
      "cell_type": "code",
      "execution_count": null,
      "id": "420b1d44",
      "metadata": {
        "deletable": false,
        "id": "420b1d44"
      },
      "outputs": [],
      "source": [
        "data['total_income'] = data['total_income'].astype(int)"
      ]
    },
    {
      "cell_type": "markdown",
      "id": "5bf6d2bb",
      "metadata": {
        "deletable": false,
        "editable": false,
        "id": "5bf6d2bb"
      },
      "source": [
        "### Обработка дубликатов"
      ]
    },
    {
      "cell_type": "code",
      "execution_count": null,
      "id": "5fda4b52",
      "metadata": {
        "deletable": false,
        "id": "5fda4b52"
      },
      "outputs": [],
      "source": [
        "data['education'] = data['education'].str.lower()"
      ]
    },
    {
      "cell_type": "code",
      "execution_count": null,
      "id": "8ed01af5",
      "metadata": {
        "deletable": false,
        "id": "8ed01af5",
        "outputId": "9684deba-1934-42d1-99e1-cda61740f822"
      },
      "outputs": [
        {
          "data": {
            "text/plain": [
              "71"
            ]
          },
          "execution_count": 62,
          "metadata": {},
          "output_type": "execute_result"
        }
      ],
      "source": [
        "data.duplicated().sum()"
      ]
    },
    {
      "cell_type": "code",
      "execution_count": null,
      "id": "c019fd0e",
      "metadata": {
        "deletable": false,
        "id": "c019fd0e"
      },
      "outputs": [],
      "source": [
        "data = data.drop_duplicates()"
      ]
    },
    {
      "cell_type": "markdown",
      "id": "e94aee2b",
      "metadata": {
        "deletable": false,
        "editable": false,
        "id": "e94aee2b"
      },
      "source": [
        "### Категоризация данных"
      ]
    },
    {
      "cell_type": "markdown",
      "id": "8e2b82a7",
      "metadata": {
        "deletable": false,
        "editable": false,
        "id": "8e2b82a7"
      },
      "source": [
        "** На основании диапазонов, указанных ниже, создайте в датафрейме `data` столбец `total_income_category` с категориями:**\n",
        "\n",
        "- 0–30000 — `'E'`;\n",
        "- 30001–50000 — `'D'`;\n",
        "- 50001–200000 — `'C'`;\n",
        "- 200001–1000000 — `'B'`;\n",
        "- 1000001 и выше — `'A'`.\n",
        "\n",
        "\n",
        "**Например, кредитополучателю с доходом 25000 нужно назначить категорию `'E'`, а клиенту, получающему 235000, — `'B'`. Используйте собственную функцию с именем `categorize_income()` и метод `apply()`.**"
      ]
    },
    {
      "cell_type": "code",
      "execution_count": null,
      "id": "40907832",
      "metadata": {
        "deletable": false,
        "id": "40907832"
      },
      "outputs": [],
      "source": [
        "def categorize_income(income):\n",
        "    try:\n",
        "        if 0 <= income <= 30000:\n",
        "            return 'E'\n",
        "        elif 30001 <= income <= 50000:\n",
        "            return 'D'\n",
        "        elif 50001 <= income <= 200000:\n",
        "            return 'C'\n",
        "        elif 200001 <= income <= 1000000:\n",
        "            return 'B'\n",
        "        elif income >= 1000001:\n",
        "            return 'A'\n",
        "    except:\n",
        "        pass"
      ]
    },
    {
      "cell_type": "code",
      "execution_count": null,
      "id": "2e4bb7a6",
      "metadata": {
        "deletable": false,
        "id": "2e4bb7a6"
      },
      "outputs": [],
      "source": [
        "data['total_income_category'] = data['total_income'].apply(categorize_income)"
      ]
    },
    {
      "cell_type": "code",
      "execution_count": null,
      "id": "da2e7987",
      "metadata": {
        "deletable": false,
        "id": "da2e7987",
        "outputId": "673c12d9-7d7e-4ae0-9812-c622c89dd244"
      },
      "outputs": [
        {
          "data": {
            "text/plain": [
              "array(['покупка жилья', 'приобретение автомобиля',\n",
              "       'дополнительное образование', 'сыграть свадьбу',\n",
              "       'операции с жильем', 'образование', 'на проведение свадьбы',\n",
              "       'покупка жилья для семьи', 'покупка недвижимости',\n",
              "       'покупка коммерческой недвижимости', 'покупка жилой недвижимости',\n",
              "       'строительство собственной недвижимости', 'недвижимость',\n",
              "       'строительство недвижимости', 'на покупку подержанного автомобиля',\n",
              "       'на покупку своего автомобиля',\n",
              "       'операции с коммерческой недвижимостью',\n",
              "       'строительство жилой недвижимости', 'жилье',\n",
              "       'операции со своей недвижимостью', 'автомобили',\n",
              "       'заняться образованием', 'сделка с подержанным автомобилем',\n",
              "       'получение образования', 'автомобиль', 'свадьба',\n",
              "       'получение дополнительного образования', 'покупка своего жилья',\n",
              "       'операции с недвижимостью', 'получение высшего образования',\n",
              "       'свой автомобиль', 'сделка с автомобилем',\n",
              "       'профильное образование', 'высшее образование',\n",
              "       'покупка жилья для сдачи', 'на покупку автомобиля', 'ремонт жилью',\n",
              "       'заняться высшим образованием'], dtype=object)"
            ]
          },
          "execution_count": 66,
          "metadata": {},
          "output_type": "execute_result"
        }
      ],
      "source": [
        "data['purpose'].unique()"
      ]
    },
    {
      "cell_type": "markdown",
      "id": "faaac7ca",
      "metadata": {
        "deletable": false,
        "editable": false,
        "id": "faaac7ca"
      },
      "source": [
        "** Создайте функцию, которая на основании данных из столбца `purpose` сформирует новый столбец `purpose_category`, в который войдут следующие категории:**\n",
        "\n",
        "- `'операции с автомобилем'`,\n",
        "- `'операции с недвижимостью'`,\n",
        "- `'проведение свадьбы'`,\n",
        "- `'получение образования'`.\n",
        "\n",
        "**Например, если в столбце `purpose` находится подстрока `'на покупку автомобиля'`, то в столбце `purpose_category` должна появиться строка `'операции с автомобилем'`.**\n"
      ]
    },
    {
      "cell_type": "code",
      "execution_count": null,
      "id": "2689f896",
      "metadata": {
        "deletable": false,
        "id": "2689f896"
      },
      "outputs": [],
      "source": [
        "def categorize_purpose(row):\n",
        "    try:\n",
        "        if 'автом' in row:\n",
        "            return 'операции с автомобилем'\n",
        "        elif 'жил' in row or 'недвиж' in row:\n",
        "            return 'операции с недвижимостью'\n",
        "        elif 'свад' in row:\n",
        "            return 'проведение свадьбы'\n",
        "        elif 'образов' in row:\n",
        "            return 'получение образования'\n",
        "    except:\n",
        "        return 'нет категории'"
      ]
    },
    {
      "cell_type": "code",
      "execution_count": null,
      "id": "f4fa0db7",
      "metadata": {
        "deletable": false,
        "id": "f4fa0db7"
      },
      "outputs": [],
      "source": [
        "data['purpose_category'] = data['purpose'].apply(categorize_purpose)"
      ]
    },
    {
      "cell_type": "markdown",
      "id": "119058ec",
      "metadata": {
        "deletable": false,
        "editable": false,
        "id": "119058ec"
      },
      "source": [
        "### Шаг 3. Исследуйте данные и ответьте на вопросы"
      ]
    },
    {
      "cell_type": "markdown",
      "id": "83204bed",
      "metadata": {
        "deletable": false,
        "editable": false,
        "id": "83204bed"
      },
      "source": [
        "#### 3.1 Есть ли зависимость между количеством детей и возвратом кредита в срок?"
      ]
    },
    {
      "cell_type": "code",
      "execution_count": null,
      "id": "3bcb6642",
      "metadata": {
        "id": "3bcb6642",
        "outputId": "7eb6fc37-7692-47cd-b3ed-88ddaa035131"
      },
      "outputs": [
        {
          "data": {
            "text/html": [
              "<div>\n",
              "<style scoped>\n",
              "    .dataframe tbody tr th:only-of-type {\n",
              "        vertical-align: middle;\n",
              "    }\n",
              "\n",
              "    .dataframe tbody tr th {\n",
              "        vertical-align: top;\n",
              "    }\n",
              "\n",
              "    .dataframe thead th {\n",
              "        text-align: right;\n",
              "    }\n",
              "</style>\n",
              "<table border=\"1\" class=\"dataframe\">\n",
              "  <thead>\n",
              "    <tr style=\"text-align: right;\">\n",
              "      <th></th>\n",
              "      <th>children</th>\n",
              "      <th>debt</th>\n",
              "      <th>all_people</th>\n",
              "      <th>percent</th>\n",
              "    </tr>\n",
              "  </thead>\n",
              "  <tbody>\n",
              "    <tr>\n",
              "      <th>0</th>\n",
              "      <td>5</td>\n",
              "      <td>0</td>\n",
              "      <td>9</td>\n",
              "      <td>0.00</td>\n",
              "    </tr>\n",
              "    <tr>\n",
              "      <th>1</th>\n",
              "      <td>0</td>\n",
              "      <td>1063</td>\n",
              "      <td>14091</td>\n",
              "      <td>7.54</td>\n",
              "    </tr>\n",
              "    <tr>\n",
              "      <th>2</th>\n",
              "      <td>3</td>\n",
              "      <td>27</td>\n",
              "      <td>330</td>\n",
              "      <td>8.18</td>\n",
              "    </tr>\n",
              "    <tr>\n",
              "      <th>3</th>\n",
              "      <td>1</td>\n",
              "      <td>444</td>\n",
              "      <td>4808</td>\n",
              "      <td>9.23</td>\n",
              "    </tr>\n",
              "    <tr>\n",
              "      <th>4</th>\n",
              "      <td>2</td>\n",
              "      <td>194</td>\n",
              "      <td>2052</td>\n",
              "      <td>9.45</td>\n",
              "    </tr>\n",
              "    <tr>\n",
              "      <th>5</th>\n",
              "      <td>4</td>\n",
              "      <td>4</td>\n",
              "      <td>41</td>\n",
              "      <td>9.76</td>\n",
              "    </tr>\n",
              "  </tbody>\n",
              "</table>\n",
              "</div>"
            ],
            "text/plain": [
              "   children  debt  all_people  percent\n",
              "0         5     0           9     0.00\n",
              "1         0  1063       14091     7.54\n",
              "2         3    27         330     8.18\n",
              "3         1   444        4808     9.23\n",
              "4         2   194        2052     9.45\n",
              "5         4     4          41     9.76"
            ]
          },
          "execution_count": 69,
          "metadata": {},
          "output_type": "execute_result"
        }
      ],
      "source": [
        "#Сводная таблица количество должников, количеством человек в группе и процентное соотношение\n",
        "data_pivot_debt = pd.pivot_table(data, index = 'children', values = 'debt', aggfunc = 'sum')\n",
        "data_pivot_debt['all_people'] = data.loc[:, 'children'].value_counts()\n",
        "data_pivot_debt['percent'] = round((data_pivot_debt['debt'] / data_pivot_debt['all_people']) * 100, 2)\n",
        "data_pivot_debt.sort_values(by = 'percent').reset_index()"
      ]
    },
    {
      "cell_type": "code",
      "execution_count": null,
      "id": "bab36f03",
      "metadata": {
        "id": "bab36f03",
        "outputId": "5170b1ad-c370-4b38-cd3f-1d7fc925bf90"
      },
      "outputs": [
        {
          "data": {
            "image/png": "[encoded data removed]",
            "text/plain": [
              "<Figure size 432x288 with 1 Axes>"
            ]
          },
          "metadata": {
            "needs_background": "light"
          },
          "output_type": "display_data"
        }
      ],
      "source": [
        "# Импорт библиотке matplotlib и визуализация изучаемых зависимостей\n",
        "import matplotlib.pyplot as plt\n",
        "plt.plot(data_pivot_debt['debt'])\n",
        "plt.xlabel( \"Количество детей\" , size = 10 )\n",
        "plt.ylabel( \"Количество должников\" , size = 10 )\n",
        "plt.title( \"Зависимость между количеством детей и количеством должников\" , size = 10 )\n",
        "plt.show()"
      ]
    },
    {
      "cell_type": "code",
      "execution_count": null,
      "id": "28814535",
      "metadata": {
        "id": "28814535",
        "outputId": "9d5ed0d3-38d8-4323-9ea1-0ccdce0dc71b"
      },
      "outputs": [
        {
          "data": {
            "image/png": "[encoded data removed]",
            "text/plain": [
              "<Figure size 432x288 with 1 Axes>"
            ]
          },
          "metadata": {
            "needs_background": "light"
          },
          "output_type": "display_data"
        }
      ],
      "source": [
        "plt.plot(data_pivot_debt['percent'].sort_values(ascending = True))\n",
        "plt.xlabel( \"Количество детей\" , size = 10 )\n",
        "plt.ylabel( \"Процент должников\" , size = 10 )\n",
        "plt.title( \"Зависимость между количеством детей и процентом должников\" , size = 8 )\n",
        "plt.show()"
      ]
    },
    {
      "cell_type": "markdown",
      "id": "65b26a61",
      "metadata": {
        "deletable": false,
        "id": "65b26a61"
      },
      "source": [
        "**Вывод:**\n",
        "<div class=\"alert alert-block alert-info\">\n",
        "    В результате анализа, полученной сводной таблицы, и построения первого графика можно сказать, что количество должников уменьшается с увеличением количества детей, но однако так оценивать зависимость не корректно, потому что не учтено общее количество людей в категории, разделённых по количеству детей. Для этого нужно посмотреть на процентное соотношение, о чем и говорит второй график, и последний столбец в таблице, из него уже можно сделать вывод, что самыми платежноспособными заёмщики являются люди без детей, так как их процент составляет 7,54 %, а самая большая доля должников в семьях с 4 детьми с процентом 9,76 %, также стоит отметить группу людей с 5-ю детьми, там должников вообще нету, но и всего в этой группе 9 человек.\n",
        "</div>"
      ]
    },
    {
      "cell_type": "markdown",
      "id": "8f556137",
      "metadata": {
        "deletable": false,
        "editable": false,
        "id": "8f556137"
      },
      "source": [
        "#### 3.2 Есть ли зависимость между семейным положением и возвратом кредита в срок?"
      ]
    },
    {
      "cell_type": "markdown",
      "id": "6fb2ae5b",
      "metadata": {
        "deletable": false,
        "id": "6fb2ae5b"
      },
      "source": [
        "<div class=\"alert alert-block alert-info\">\n",
        "    Тут также добавил сводную таблицу, надо было учесть размеры категорий, если правильно понял, то добавить столбец <b>all_people </b>.\n",
        "</div>"
      ]
    },
    {
      "cell_type": "code",
      "execution_count": null,
      "id": "5c0b677c",
      "metadata": {
        "id": "5c0b677c",
        "outputId": "5a81ee29-e88b-4ffd-d30c-d8f3172ad0c2"
      },
      "outputs": [
        {
          "data": {
            "text/html": [
              "<div>\n",
              "<style scoped>\n",
              "    .dataframe tbody tr th:only-of-type {\n",
              "        vertical-align: middle;\n",
              "    }\n",
              "\n",
              "    .dataframe tbody tr th {\n",
              "        vertical-align: top;\n",
              "    }\n",
              "\n",
              "    .dataframe thead th {\n",
              "        text-align: right;\n",
              "    }\n",
              "</style>\n",
              "<table border=\"1\" class=\"dataframe\">\n",
              "  <thead>\n",
              "    <tr style=\"text-align: right;\">\n",
              "      <th></th>\n",
              "      <th>family_status</th>\n",
              "      <th>debt</th>\n",
              "      <th>all_people</th>\n",
              "      <th>percent</th>\n",
              "    </tr>\n",
              "  </thead>\n",
              "  <tbody>\n",
              "    <tr>\n",
              "      <th>0</th>\n",
              "      <td>вдовец / вдова</td>\n",
              "      <td>63</td>\n",
              "      <td>951</td>\n",
              "      <td>6.62</td>\n",
              "    </tr>\n",
              "    <tr>\n",
              "      <th>1</th>\n",
              "      <td>в разводе</td>\n",
              "      <td>84</td>\n",
              "      <td>1189</td>\n",
              "      <td>7.06</td>\n",
              "    </tr>\n",
              "    <tr>\n",
              "      <th>2</th>\n",
              "      <td>женат / замужем</td>\n",
              "      <td>927</td>\n",
              "      <td>12261</td>\n",
              "      <td>7.56</td>\n",
              "    </tr>\n",
              "    <tr>\n",
              "      <th>3</th>\n",
              "      <td>гражданский брак</td>\n",
              "      <td>385</td>\n",
              "      <td>4134</td>\n",
              "      <td>9.31</td>\n",
              "    </tr>\n",
              "    <tr>\n",
              "      <th>4</th>\n",
              "      <td>Не женат / не замужем</td>\n",
              "      <td>273</td>\n",
              "      <td>2796</td>\n",
              "      <td>9.76</td>\n",
              "    </tr>\n",
              "  </tbody>\n",
              "</table>\n",
              "</div>"
            ],
            "text/plain": [
              "           family_status  debt  all_people  percent\n",
              "0         вдовец / вдова    63         951     6.62\n",
              "1              в разводе    84        1189     7.06\n",
              "2        женат / замужем   927       12261     7.56\n",
              "3       гражданский брак   385        4134     9.31\n",
              "4  Не женат / не замужем   273        2796     9.76"
            ]
          },
          "execution_count": 72,
          "metadata": {},
          "output_type": "execute_result"
        }
      ],
      "source": [
        "#Сводная таблица количество должников, количеством человек в группе по семейному положению и процентное соотношение\n",
        "data_pivot_family = pd.pivot_table(data, index = 'family_status', values = 'debt', aggfunc = 'sum')\n",
        "data_pivot_family['all_people'] = data.loc[:, 'family_status'].value_counts()\n",
        "data_pivot_family['percent'] = round((data_pivot_family['debt'] / data_pivot_family['all_people']) * 100, 2)\n",
        "data_pivot_family.sort_values(by = 'percent').reset_index()"
      ]
    },
    {
      "cell_type": "markdown",
      "id": "d5c00044",
      "metadata": {
        "deletable": false,
        "id": "d5c00044"
      },
      "source": [
        "**Вывод:**\n",
        "<div class=\"alert alert-block alert-info\">\n",
        "    Как и в предыдущем случае можно посмотреть на количество задолжностей в каждой категории семейного статуса и видим, что самое большое число у людей с семьёй, но в соотношении с общем количеством людей в категории, семейные пары показывают результат лучше, чем люди <b>в разводе или не женатые/не замужем</b>, в данных категориях процент должников самый большой, а самые кредитоспособные это люди из разряда <b>вдовец / вдова </b>.\n",
        "</div>"
      ]
    },
    {
      "cell_type": "markdown",
      "id": "3ccf8536",
      "metadata": {
        "deletable": false,
        "editable": false,
        "id": "3ccf8536"
      },
      "source": [
        "#### 3.3 Есть ли зависимость между уровнем дохода и возвратом кредита в срок?"
      ]
    },
    {
      "cell_type": "code",
      "execution_count": null,
      "id": "29a545c8",
      "metadata": {
        "id": "29a545c8",
        "outputId": "1ad0bf07-a51c-4f2c-c2a1-a94189dc3d6b"
      },
      "outputs": [
        {
          "data": {
            "text/html": [
              "<div>\n",
              "<style scoped>\n",
              "    .dataframe tbody tr th:only-of-type {\n",
              "        vertical-align: middle;\n",
              "    }\n",
              "\n",
              "    .dataframe tbody tr th {\n",
              "        vertical-align: top;\n",
              "    }\n",
              "\n",
              "    .dataframe thead th {\n",
              "        text-align: right;\n",
              "    }\n",
              "</style>\n",
              "<table border=\"1\" class=\"dataframe\">\n",
              "  <thead>\n",
              "    <tr style=\"text-align: right;\">\n",
              "      <th></th>\n",
              "      <th>total_income_category</th>\n",
              "      <th>debt</th>\n",
              "      <th>all_people</th>\n",
              "      <th>percent</th>\n",
              "    </tr>\n",
              "  </thead>\n",
              "  <tbody>\n",
              "    <tr>\n",
              "      <th>0</th>\n",
              "      <td>D</td>\n",
              "      <td>21</td>\n",
              "      <td>349</td>\n",
              "      <td>6.02</td>\n",
              "    </tr>\n",
              "    <tr>\n",
              "      <th>1</th>\n",
              "      <td>B</td>\n",
              "      <td>354</td>\n",
              "      <td>5014</td>\n",
              "      <td>7.06</td>\n",
              "    </tr>\n",
              "    <tr>\n",
              "      <th>2</th>\n",
              "      <td>A</td>\n",
              "      <td>2</td>\n",
              "      <td>25</td>\n",
              "      <td>8.00</td>\n",
              "    </tr>\n",
              "    <tr>\n",
              "      <th>3</th>\n",
              "      <td>C</td>\n",
              "      <td>1353</td>\n",
              "      <td>15921</td>\n",
              "      <td>8.50</td>\n",
              "    </tr>\n",
              "    <tr>\n",
              "      <th>4</th>\n",
              "      <td>E</td>\n",
              "      <td>2</td>\n",
              "      <td>22</td>\n",
              "      <td>9.09</td>\n",
              "    </tr>\n",
              "  </tbody>\n",
              "</table>\n",
              "</div>"
            ],
            "text/plain": [
              "  total_income_category  debt  all_people  percent\n",
              "0                     D    21         349     6.02\n",
              "1                     B   354        5014     7.06\n",
              "2                     A     2          25     8.00\n",
              "3                     C  1353       15921     8.50\n",
              "4                     E     2          22     9.09"
            ]
          },
          "execution_count": 73,
          "metadata": {},
          "output_type": "execute_result"
        }
      ],
      "source": [
        "#Сводная таблица количество должников, количеством человек в группе по уровню дохода и процентное соотношение\n",
        "data_pivot_income = pd.pivot_table(data, index = 'total_income_category', values = 'debt', aggfunc = 'sum')\n",
        "data_pivot_income['all_people'] = data.loc[:, 'total_income_category'].value_counts()\n",
        "data_pivot_income['percent'] = round((data_pivot_income['debt'] / data_pivot_income['all_people']) * 100, 2)\n",
        "data_pivot_income.sort_values(by = 'percent').reset_index()"
      ]
    },
    {
      "cell_type": "markdown",
      "id": "3e4571b6",
      "metadata": {
        "deletable": false,
        "id": "3e4571b6"
      },
      "source": [
        "**Вывод:**\n",
        "<div class=\"alert alert-block alert-info\">\n",
        "Вспоним как именно мы разделили людей на категории по их доходам:\n",
        "    \n",
        "- 0–30000 — `'E'`;\n",
        "- 30001–50000 — `'D'`;\n",
        "- 50001–200000 — `'C'`;\n",
        "- 200001–1000000 — `'B'`;\n",
        "- 1000001 и выше — `'A'`.\n",
        "    \n",
        "Видим, что из всех 21331 - ого  человека больше всего должников в категории `'C'` - 1353. Но, оценивая возможность выплачивать кредит во время данная категория находится на втором месте, возможно данные люди, будучи уверенными в своих доходах, берут кредит в больших размерах или короткий срок и не успевают выплатить, в свою очередб лучший показатель у категории `'D'`, эти люди более размерены и умеют грамотно распределить свои доходы, сложнее всего уложиться в срок людям из группы `'E'`, исходя из целей взятия кредита, этим заёмщиках нужна большая сумма, но так как доход не большой, возвращать будет тяжело.\n",
        "</div>"
      ]
    },
    {
      "cell_type": "markdown",
      "id": "d7bd5af1",
      "metadata": {
        "deletable": false,
        "editable": false,
        "id": "d7bd5af1"
      },
      "source": [
        "#### 3.4 Как разные цели кредита влияют на его возврат в срок?"
      ]
    },
    {
      "cell_type": "code",
      "execution_count": null,
      "id": "950a21e1",
      "metadata": {
        "deletable": false,
        "id": "950a21e1",
        "outputId": "db3968f8-9a6d-46c7-b7c8-7c1a1a25b737"
      },
      "outputs": [
        {
          "data": {
            "text/html": [
              "<div>\n",
              "<style scoped>\n",
              "    .dataframe tbody tr th:only-of-type {\n",
              "        vertical-align: middle;\n",
              "    }\n",
              "\n",
              "    .dataframe tbody tr th {\n",
              "        vertical-align: top;\n",
              "    }\n",
              "\n",
              "    .dataframe thead th {\n",
              "        text-align: right;\n",
              "    }\n",
              "</style>\n",
              "<table border=\"1\" class=\"dataframe\">\n",
              "  <thead>\n",
              "    <tr style=\"text-align: right;\">\n",
              "      <th></th>\n",
              "      <th>purpose_category</th>\n",
              "      <th>debt</th>\n",
              "      <th>all_people</th>\n",
              "      <th>percent</th>\n",
              "    </tr>\n",
              "  </thead>\n",
              "  <tbody>\n",
              "    <tr>\n",
              "      <th>0</th>\n",
              "      <td>операции с недвижимостью</td>\n",
              "      <td>780</td>\n",
              "      <td>10751</td>\n",
              "      <td>7.26</td>\n",
              "    </tr>\n",
              "    <tr>\n",
              "      <th>1</th>\n",
              "      <td>проведение свадьбы</td>\n",
              "      <td>183</td>\n",
              "      <td>2313</td>\n",
              "      <td>7.91</td>\n",
              "    </tr>\n",
              "    <tr>\n",
              "      <th>2</th>\n",
              "      <td>получение образования</td>\n",
              "      <td>369</td>\n",
              "      <td>3988</td>\n",
              "      <td>9.25</td>\n",
              "    </tr>\n",
              "    <tr>\n",
              "      <th>3</th>\n",
              "      <td>операции с автомобилем</td>\n",
              "      <td>400</td>\n",
              "      <td>4279</td>\n",
              "      <td>9.35</td>\n",
              "    </tr>\n",
              "  </tbody>\n",
              "</table>\n",
              "</div>"
            ],
            "text/plain": [
              "           purpose_category  debt  all_people  percent\n",
              "0  операции с недвижимостью   780       10751     7.26\n",
              "1        проведение свадьбы   183        2313     7.91\n",
              "2     получение образования   369        3988     9.25\n",
              "3    операции с автомобилем   400        4279     9.35"
            ]
          },
          "execution_count": 74,
          "metadata": {},
          "output_type": "execute_result"
        }
      ],
      "source": [
        "#Сводная таблица количество должников, количеством человек в группе по их целям и процентное соотношение\n",
        "data_pivot_purpose = pd.pivot_table(data, index = 'purpose_category', values = 'debt', aggfunc = 'sum')\n",
        "data_pivot_purpose['all_people'] = data.loc[:, 'purpose_category'].value_counts()\n",
        "data_pivot_purpose['percent'] = round((data_pivot_purpose['debt'] / data_pivot_purpose['all_people']) * 100, 2)\n",
        "data_pivot_purpose.sort_values(by = 'percent').reset_index()"
      ]
    },
    {
      "cell_type": "markdown",
      "id": "0668d732",
      "metadata": {
        "deletable": false,
        "id": "0668d732"
      },
      "source": [
        "**Вывод:**\n",
        "<div class=\"alert alert-block alert-info\">\n",
        "    Из общей массы заёмщиков больше всего должников у тех, кто манипулирует с недвижимостью, это и следовало ожидать, так как траты на недвижимость будут больше, чем цели в остальных категориях. Но данная часть людей показывает наилучший показатель по закрытию кредита в срок, самыми не надежными являются обладатели нового трапспортного средства, а также граждане, которые хотят чему то научиться новому и получить образование.\n",
        "</div>"
      ]
    },
    {
      "cell_type": "markdown",
      "id": "d15e3e83",
      "metadata": {
        "deletable": false,
        "editable": false,
        "id": "d15e3e83"
      },
      "source": [
        "#### 3.5 Приведите возможные причины появления пропусков в исходных данных."
      ]
    },
    {
      "cell_type": "markdown",
      "id": "9d3225e1",
      "metadata": {
        "deletable": false,
        "id": "9d3225e1"
      },
      "source": [
        "*Ответ:*\n",
        "Пропуски были найдены в столбцах с трудовым стажем и доходом. Можно сказать, что произошел сбой в системе и данные значение не прогрузились, но также клиент банка мог их не указать и данная информация была на уточнении у работников банка, при заполнении анкеты были установлены требования записи, но клиент их не учел и система их не приняла."
      ]
    },
    {
      "cell_type": "markdown",
      "id": "01b61ce8",
      "metadata": {
        "deletable": false,
        "editable": false,
        "id": "01b61ce8"
      },
      "source": [
        "#### 3.6 Объясните, почему заполнить пропуски медианным значением — лучшее решение для количественных переменных."
      ]
    },
    {
      "cell_type": "markdown",
      "id": "d06fbc61",
      "metadata": {
        "deletable": false,
        "id": "d06fbc61"
      },
      "source": [
        "*Ответ:* Медиана является несмещенной мерой центральной тенденции данных и не подвержена влиянию выбросов. При использовании среднего значения для заполнения пропусков существует риск искажения распределения данных, особенно если среднее сильно отличается от медианы. Медиана представляет собой значение, которое делит набор данных ровно пополам"
      ]
    },
    {
      "cell_type": "markdown",
      "id": "d38c3504",
      "metadata": {
        "deletable": false,
        "editable": false,
        "id": "d38c3504"
      },
      "source": [
        "### Шаг 4: общий вывод."
      ]
    },
    {
      "cell_type": "markdown",
      "id": "0d81133c",
      "metadata": {
        "deletable": false,
        "id": "0d81133c"
      },
      "source": [
        "В ходе выполнения проекта была исследована надежность заёмщиков банка. При анализе предоставленной таблицы были найдены ячейки с пропусками и аномальными значениями, которые могли бы помешать произвести вычисления каких-либо параметров, для устронения были выполнены следующие действия:\n",
        "* устранены пропуски в стобцах с трудовым стажем и доходами клиентов, всего их было по 2174 из 21331, вместо них появились медианные значения по каждому столбцу и по каждому типу занятости;\n",
        "* аномальные значения по типу: отрицательный срок трудового стажа, отрицательное количество детей и слишком большое число детей. В случае с трудовым стажем значения взяли по модулю, а в случае с количеством детей данные строки удалены;\n",
        "* было найдено 71 дубликат в данных, лишние строки удалены;\n",
        "* кроме работы с исправлением данных, было добавлено два столбца, в которых отражено разбиение клиентов по категориям, в зависимости от дохода и цели взятия кредита;\n",
        "\n",
        "После полной обработки таблицы была изучена возможность закрывать кредит в установленное время.Таким образом, получились следующие результаты:\n",
        "\n",
        "- иссследование зависимости от количества детей показало, что лучше всего возвращают кредит клиенты с 5-ю детьми, должников в этой категории 0, также хороший показатель у людей без детей - 7,54% не вернувших кредит в срок, а хуже всего возвращают деньги клиенты с 4-мя детьми - 9,76%, близко к ним располагаются семьи с 2-мя детьми - 9,45% должников;\n",
        "\n",
        "- зависимость от семейного положения показала, что клиенты, являющиеся вдовой и вдовцом, более кредитоспособные, доля неплательщиков составляет - 6,62%, чем остальные, и хуже всего выплачивали кредит клиенты, не состоящие в браке - 9,76% заёмщиков, близки к ним кленты состоящие в гражданском браке - 9,31%;\n",
        "\n",
        "- анализ зависимости от дохода доказал, что самые пунктуальные люди с доходом от 30 000 до 50 000 тысяч, всего 6,02% не смогли вернуть деньги в установленное время, а противоположную сторону занимают клиенты с доходом менее 30 000 - 9,09% людей остались с не хорошей репутацией перед банком;\n",
        "\n",
        "- последняя зависимость, от цели взятия кредита, утвердила, что дорогостоящая покупка в форме недвижимости не является проблемой выплачивать кредит в срок, обладатели нового жилья лучшие в погашении долга - 7,26% должниов, а вот покупка нового автомобиля вызывает трудности и данная цель затрудняет выплату денег банку, не вернувших кредит в срок составляет 9,35% от всех людей в данной категории.\n",
        "\n",
        "\n",
        "Таким образом, сотрудникам банка следует опираться на предоставленную статистику по возврату кредита в установленные сроки и оценивать насколько клиент кредитоспособен.\n"
      ]
    },
    {
      "cell_type": "code",
      "execution_count": null,
      "id": "1fee77cc",
      "metadata": {
        "id": "1fee77cc"
      },
      "outputs": [],
      "source": []
    }
  ],
  "metadata": {
    "ExecuteTimeLog": [
      {
        "duration": 90,
        "start_time": "2024-04-20T19:57:07.974Z"
      },
      {
        "duration": 492,
        "start_time": "2024-04-20T19:57:17.932Z"
      },
      {
        "duration": 30,
        "start_time": "2024-04-20T19:57:23.109Z"
      },
      {
        "duration": 18,
        "start_time": "2024-04-20T19:57:27.513Z"
      },
      {
        "duration": 11,
        "start_time": "2024-04-20T19:57:30.645Z"
      },
      {
        "duration": 50,
        "start_time": "2024-04-20T19:57:33.685Z"
      },
      {
        "duration": 4,
        "start_time": "2024-04-20T19:57:35.917Z"
      },
      {
        "duration": 18,
        "start_time": "2024-04-20T19:57:37.784Z"
      },
      {
        "duration": 12,
        "start_time": "2024-04-20T19:57:40.196Z"
      },
      {
        "duration": 9,
        "start_time": "2024-04-20T19:57:42.878Z"
      },
      {
        "duration": 6,
        "start_time": "2024-04-20T19:57:44.708Z"
      },
      {
        "duration": 37,
        "start_time": "2024-04-20T19:57:47.209Z"
      },
      {
        "duration": 12,
        "start_time": "2024-04-20T19:57:49.447Z"
      },
      {
        "duration": 4,
        "start_time": "2024-04-20T19:57:51.894Z"
      },
      {
        "duration": 28,
        "start_time": "2024-04-20T19:57:53.680Z"
      },
      {
        "duration": 20,
        "start_time": "2024-04-20T19:57:55.930Z"
      },
      {
        "duration": 36,
        "start_time": "2024-04-20T19:57:58.179Z"
      },
      {
        "duration": 5,
        "start_time": "2024-04-20T19:58:00.808Z"
      },
      {
        "duration": 35,
        "start_time": "2024-04-20T19:58:03.489Z"
      },
      {
        "duration": 6,
        "start_time": "2024-04-20T19:58:05.613Z"
      },
      {
        "duration": 8,
        "start_time": "2024-04-20T19:58:08.777Z"
      },
      {
        "duration": 9,
        "start_time": "2024-04-20T19:58:11.126Z"
      },
      {
        "duration": 34,
        "start_time": "2024-04-20T19:58:15.705Z"
      },
      {
        "duration": 11,
        "start_time": "2024-04-20T19:58:45.122Z"
      },
      {
        "duration": 641,
        "start_time": "2024-04-20T19:58:52.706Z"
      },
      {
        "duration": 129,
        "start_time": "2024-04-20T19:59:00.788Z"
      },
      {
        "duration": 131,
        "start_time": "2024-04-20T19:59:30.289Z"
      },
      {
        "duration": 100,
        "start_time": "2024-04-20T20:02:32.396Z"
      },
      {
        "duration": 92,
        "start_time": "2024-04-20T20:02:44.727Z"
      },
      {
        "duration": 120,
        "start_time": "2024-04-20T20:03:09.014Z"
      },
      {
        "duration": 150,
        "start_time": "2024-04-20T20:03:47.646Z"
      },
      {
        "duration": 152,
        "start_time": "2024-04-20T20:03:50.186Z"
      },
      {
        "duration": 678,
        "start_time": "2024-04-21T07:54:03.493Z"
      },
      {
        "duration": 7,
        "start_time": "2024-04-21T07:54:19.062Z"
      },
      {
        "duration": 8,
        "start_time": "2024-04-21T07:54:29.989Z"
      },
      {
        "duration": 465,
        "start_time": "2024-04-21T07:55:08.244Z"
      },
      {
        "duration": 19,
        "start_time": "2024-04-21T07:55:13.739Z"
      },
      {
        "duration": 17,
        "start_time": "2024-04-21T07:55:16.911Z"
      },
      {
        "duration": 11,
        "start_time": "2024-04-21T07:55:19.987Z"
      },
      {
        "duration": 36,
        "start_time": "2024-04-21T07:55:23.262Z"
      },
      {
        "duration": 3,
        "start_time": "2024-04-21T07:55:25.442Z"
      },
      {
        "duration": 8,
        "start_time": "2024-04-21T07:55:27.353Z"
      },
      {
        "duration": 4,
        "start_time": "2024-04-21T07:55:30.637Z"
      },
      {
        "duration": 6,
        "start_time": "2024-04-21T07:55:32.991Z"
      },
      {
        "duration": 4,
        "start_time": "2024-04-21T07:55:35.039Z"
      },
      {
        "duration": 35,
        "start_time": "2024-04-21T07:55:37.810Z"
      },
      {
        "duration": 10,
        "start_time": "2024-04-21T07:55:39.599Z"
      },
      {
        "duration": 4,
        "start_time": "2024-04-21T07:55:41.900Z"
      },
      {
        "duration": 12,
        "start_time": "2024-04-21T07:55:43.436Z"
      },
      {
        "duration": 20,
        "start_time": "2024-04-21T07:55:45.796Z"
      },
      {
        "duration": 17,
        "start_time": "2024-04-21T07:55:47.882Z"
      },
      {
        "duration": 3,
        "start_time": "2024-04-21T07:55:50.631Z"
      },
      {
        "duration": 10,
        "start_time": "2024-04-21T07:55:52.856Z"
      },
      {
        "duration": 6,
        "start_time": "2024-04-21T07:55:54.801Z"
      },
      {
        "duration": 3,
        "start_time": "2024-04-21T07:55:58.969Z"
      },
      {
        "duration": 9,
        "start_time": "2024-04-21T07:56:01.118Z"
      },
      {
        "duration": 10,
        "start_time": "2024-04-21T07:56:05.800Z"
      },
      {
        "duration": 12,
        "start_time": "2024-04-21T07:56:21.426Z"
      },
      {
        "duration": 7,
        "start_time": "2024-04-21T07:56:41.219Z"
      },
      {
        "duration": 7,
        "start_time": "2024-04-21T07:56:43.664Z"
      },
      {
        "duration": 129,
        "start_time": "2024-04-21T07:56:53.690Z"
      },
      {
        "duration": 133,
        "start_time": "2024-04-21T07:56:58.597Z"
      },
      {
        "duration": 41,
        "start_time": "2024-04-21T08:04:09.965Z"
      },
      {
        "duration": 7,
        "start_time": "2024-04-21T08:04:34.707Z"
      },
      {
        "duration": 22,
        "start_time": "2024-04-21T08:09:04.006Z"
      },
      {
        "duration": 8,
        "start_time": "2024-04-21T08:09:13.105Z"
      },
      {
        "duration": 9,
        "start_time": "2024-04-21T08:09:15.368Z"
      },
      {
        "duration": 7,
        "start_time": "2024-04-21T08:42:32.164Z"
      },
      {
        "duration": 8,
        "start_time": "2024-04-21T08:42:34.591Z"
      },
      {
        "duration": 9,
        "start_time": "2024-04-21T09:01:59.231Z"
      },
      {
        "duration": 8,
        "start_time": "2024-04-21T09:03:48.372Z"
      },
      {
        "duration": 10,
        "start_time": "2024-04-21T09:03:50.625Z"
      },
      {
        "duration": 174,
        "start_time": "2024-04-21T10:05:48.816Z"
      },
      {
        "duration": 16,
        "start_time": "2024-04-21T10:05:48.993Z"
      },
      {
        "duration": 17,
        "start_time": "2024-04-21T10:05:49.010Z"
      },
      {
        "duration": 15,
        "start_time": "2024-04-21T10:05:49.028Z"
      },
      {
        "duration": 48,
        "start_time": "2024-04-21T10:05:49.046Z"
      },
      {
        "duration": 3,
        "start_time": "2024-04-21T10:05:49.096Z"
      },
      {
        "duration": 32,
        "start_time": "2024-04-21T10:05:49.100Z"
      },
      {
        "duration": 4,
        "start_time": "2024-04-21T10:05:49.133Z"
      },
      {
        "duration": 7,
        "start_time": "2024-04-21T10:05:49.139Z"
      },
      {
        "duration": 24,
        "start_time": "2024-04-21T10:05:49.148Z"
      },
      {
        "duration": 39,
        "start_time": "2024-04-21T10:05:49.174Z"
      },
      {
        "duration": 10,
        "start_time": "2024-04-21T10:05:49.215Z"
      },
      {
        "duration": 13,
        "start_time": "2024-04-21T10:05:49.226Z"
      },
      {
        "duration": 27,
        "start_time": "2024-04-21T10:05:49.242Z"
      },
      {
        "duration": 47,
        "start_time": "2024-04-21T10:05:49.272Z"
      },
      {
        "duration": 16,
        "start_time": "2024-04-21T10:05:49.320Z"
      },
      {
        "duration": 3,
        "start_time": "2024-04-21T10:05:49.338Z"
      },
      {
        "duration": 18,
        "start_time": "2024-04-21T10:05:49.343Z"
      },
      {
        "duration": 23,
        "start_time": "2024-04-21T10:05:49.362Z"
      },
      {
        "duration": 8,
        "start_time": "2024-04-21T10:05:49.387Z"
      },
      {
        "duration": 12,
        "start_time": "2024-04-21T10:05:49.396Z"
      },
      {
        "duration": 11,
        "start_time": "2024-04-21T10:05:49.410Z"
      },
      {
        "duration": 8,
        "start_time": "2024-04-21T10:05:49.422Z"
      },
      {
        "duration": 144,
        "start_time": "2024-04-21T10:05:49.431Z"
      },
      {
        "duration": 134,
        "start_time": "2024-04-21T10:05:49.580Z"
      },
      {
        "duration": 8,
        "start_time": "2024-04-21T10:05:49.716Z"
      },
      {
        "duration": 9,
        "start_time": "2024-04-21T10:05:49.726Z"
      },
      {
        "duration": 35,
        "start_time": "2024-04-21T10:05:49.736Z"
      },
      {
        "duration": 15,
        "start_time": "2024-04-21T10:05:49.774Z"
      },
      {
        "duration": 9,
        "start_time": "2024-04-21T10:05:49.791Z"
      },
      {
        "duration": 9,
        "start_time": "2024-04-21T10:05:49.801Z"
      },
      {
        "duration": 624,
        "start_time": "2024-04-23T09:11:10.271Z"
      },
      {
        "duration": 7,
        "start_time": "2024-04-23T09:11:14.756Z"
      },
      {
        "duration": 433,
        "start_time": "2024-04-23T09:12:43.883Z"
      },
      {
        "duration": 17,
        "start_time": "2024-04-23T09:12:44.317Z"
      },
      {
        "duration": 13,
        "start_time": "2024-04-23T09:12:44.335Z"
      },
      {
        "duration": 8,
        "start_time": "2024-04-23T09:12:44.350Z"
      },
      {
        "duration": 31,
        "start_time": "2024-04-23T09:12:44.359Z"
      },
      {
        "duration": 3,
        "start_time": "2024-04-23T09:12:44.391Z"
      },
      {
        "duration": 10,
        "start_time": "2024-04-23T09:12:44.395Z"
      },
      {
        "duration": 3,
        "start_time": "2024-04-23T09:12:44.406Z"
      },
      {
        "duration": 7,
        "start_time": "2024-04-23T09:12:44.410Z"
      },
      {
        "duration": 3,
        "start_time": "2024-04-23T09:12:44.419Z"
      },
      {
        "duration": 33,
        "start_time": "2024-04-23T09:12:44.423Z"
      },
      {
        "duration": 31,
        "start_time": "2024-04-23T09:12:44.457Z"
      },
      {
        "duration": 3,
        "start_time": "2024-04-23T09:12:44.489Z"
      },
      {
        "duration": 25,
        "start_time": "2024-04-23T09:12:44.493Z"
      },
      {
        "duration": 23,
        "start_time": "2024-04-23T09:12:44.520Z"
      },
      {
        "duration": 16,
        "start_time": "2024-04-23T09:12:44.544Z"
      },
      {
        "duration": 3,
        "start_time": "2024-04-23T09:12:44.562Z"
      },
      {
        "duration": 21,
        "start_time": "2024-04-23T09:12:44.566Z"
      },
      {
        "duration": 7,
        "start_time": "2024-04-23T09:12:44.588Z"
      },
      {
        "duration": 4,
        "start_time": "2024-04-23T09:12:44.596Z"
      },
      {
        "duration": 16,
        "start_time": "2024-04-23T09:12:44.601Z"
      },
      {
        "duration": 13,
        "start_time": "2024-04-23T09:12:44.618Z"
      },
      {
        "duration": 6,
        "start_time": "2024-04-23T09:12:44.632Z"
      },
      {
        "duration": 16,
        "start_time": "2024-04-23T09:12:44.639Z"
      },
      {
        "duration": 121,
        "start_time": "2024-04-23T09:12:44.656Z"
      },
      {
        "duration": 109,
        "start_time": "2024-04-23T09:12:44.778Z"
      },
      {
        "duration": 6,
        "start_time": "2024-04-23T09:12:44.888Z"
      },
      {
        "duration": 7,
        "start_time": "2024-04-23T09:12:44.897Z"
      },
      {
        "duration": 11,
        "start_time": "2024-04-23T09:12:44.905Z"
      },
      {
        "duration": 11,
        "start_time": "2024-04-23T09:12:44.918Z"
      },
      {
        "duration": 8,
        "start_time": "2024-04-23T09:12:44.930Z"
      },
      {
        "duration": 7,
        "start_time": "2024-04-23T09:12:44.939Z"
      },
      {
        "duration": 17,
        "start_time": "2024-04-23T09:35:06.897Z"
      },
      {
        "duration": 16,
        "start_time": "2024-04-23T09:49:33.116Z"
      },
      {
        "duration": 17,
        "start_time": "2024-04-23T09:59:31.132Z"
      },
      {
        "duration": 14,
        "start_time": "2024-04-23T09:59:56.398Z"
      },
      {
        "duration": 100,
        "start_time": "2024-04-23T10:00:01.132Z"
      },
      {
        "duration": 99,
        "start_time": "2024-04-23T10:00:03.426Z"
      },
      {
        "duration": 17,
        "start_time": "2024-04-23T10:00:08.989Z"
      },
      {
        "duration": 16,
        "start_time": "2024-04-23T10:00:18.559Z"
      },
      {
        "duration": 17,
        "start_time": "2024-04-23T10:00:25.749Z"
      },
      {
        "duration": 17,
        "start_time": "2024-04-23T10:30:14.013Z"
      },
      {
        "duration": 46,
        "start_time": "2024-04-23T10:30:27.491Z"
      },
      {
        "duration": 17,
        "start_time": "2024-04-23T10:31:10.564Z"
      },
      {
        "duration": 15,
        "start_time": "2024-04-23T10:31:32.613Z"
      },
      {
        "duration": 62,
        "start_time": "2024-04-23T11:26:40.506Z"
      },
      {
        "duration": 12,
        "start_time": "2024-04-23T11:26:40.569Z"
      },
      {
        "duration": 19,
        "start_time": "2024-04-23T11:26:40.583Z"
      },
      {
        "duration": 8,
        "start_time": "2024-04-23T11:26:40.603Z"
      },
      {
        "duration": 41,
        "start_time": "2024-04-23T11:26:40.613Z"
      },
      {
        "duration": 3,
        "start_time": "2024-04-23T11:26:40.655Z"
      },
      {
        "duration": 9,
        "start_time": "2024-04-23T11:26:40.659Z"
      },
      {
        "duration": 37,
        "start_time": "2024-04-23T11:26:40.669Z"
      },
      {
        "duration": 84,
        "start_time": "2024-04-23T11:26:40.707Z"
      },
      {
        "duration": 12,
        "start_time": "2024-04-23T11:26:40.793Z"
      },
      {
        "duration": 37,
        "start_time": "2024-04-23T11:26:40.807Z"
      },
      {
        "duration": 8,
        "start_time": "2024-04-23T11:26:40.845Z"
      },
      {
        "duration": 16,
        "start_time": "2024-04-23T11:26:40.854Z"
      },
      {
        "duration": 13,
        "start_time": "2024-04-23T11:26:40.872Z"
      },
      {
        "duration": 17,
        "start_time": "2024-04-23T11:26:40.886Z"
      },
      {
        "duration": 14,
        "start_time": "2024-04-23T11:26:40.905Z"
      },
      {
        "duration": 3,
        "start_time": "2024-04-23T11:26:40.920Z"
      },
      {
        "duration": 21,
        "start_time": "2024-04-23T11:26:40.924Z"
      },
      {
        "duration": 5,
        "start_time": "2024-04-23T11:26:40.946Z"
      },
      {
        "duration": 13,
        "start_time": "2024-04-23T11:26:40.952Z"
      },
      {
        "duration": 14,
        "start_time": "2024-04-23T11:26:40.966Z"
      },
      {
        "duration": 20,
        "start_time": "2024-04-23T11:26:40.981Z"
      },
      {
        "duration": 96,
        "start_time": "2024-04-23T11:26:41.002Z"
      },
      {
        "duration": 105,
        "start_time": "2024-04-23T11:26:41.099Z"
      },
      {
        "duration": 16,
        "start_time": "2024-04-23T11:26:41.205Z"
      },
      {
        "duration": 37,
        "start_time": "2024-04-23T11:26:41.222Z"
      },
      {
        "duration": 18,
        "start_time": "2024-04-23T11:26:41.261Z"
      }
    ],
    "colab": {
      "provenance": []
    },
    "kernelspec": {
      "display_name": "Python 3 (ipykernel)",
      "language": "python",
      "name": "python3"
    },
    "language_info": {
      "codemirror_mode": {
        "name": "ipython",
        "version": 3
      },
      "file_extension": ".py",
      "mimetype": "text/x-python",
      "name": "python",
      "nbconvert_exporter": "python",
      "pygments_lexer": "ipython3",
      "version": "3.11.7"
    },
    "toc": {
      "base_numbering": 1,
      "nav_menu": {},
      "number_sections": true,
      "sideBar": true,
      "skip_h1_title": true,
      "title_cell": "Table of Contents",
      "title_sidebar": "Contents",
      "toc_cell": false,
      "toc_position": {},
      "toc_section_display": true,
      "toc_window_display": false
    }
  },
  "nbformat": 4,
  "nbformat_minor": 5
}