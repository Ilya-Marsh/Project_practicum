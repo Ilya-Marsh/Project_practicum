{
  "cells": [
    {
      "cell_type": "markdown",
      "id": "2a812fe0",
      "metadata": {
        "id": "2a812fe0"
      },
      "source": [
        "# Проект: Статистический аналих данных"
      ]
    },
    {
      "cell_type": "markdown",
      "id": "d11f62f0",
      "metadata": {
        "id": "d11f62f0"
      },
      "source": [
        "**В ходе этой работы необходимо проанализоровать переданные данные о некоторых пользователях из нескольких городов, а также об их поездках. Проверить некоторые гипотезы, которые могут помочь бизнесу вырасти.**"
      ]
    },
    {
      "cell_type": "markdown",
      "id": "98dc07c5",
      "metadata": {
        "id": "98dc07c5"
      },
      "source": [
        "Чтобы совершать поездки по городу, пользователи сервиса GoFast пользуются мобильным приложением. Сервисом можно пользоваться:\n",
        " - без подписки\n",
        "      - абонентская плата отсутствует;\n",
        "      - стоимость одной минуты поездки — 8 рублей;\n",
        "      - стоимость старта (начала поездки) — 50 рублей;\n",
        " - с подпиской Ultra\n",
        "      - абонентская плата — 199 рублей в месяц;\n",
        "      - стоимость одной минуты поездки — 6 рублей;\n",
        "      - стоимость старта — бесплатно.\n",
        "      \n",
        "      \n",
        "      \n",
        "План выполнения:\n",
        " - Загрузка и просмотр начальных данных\n",
        " - Предобработка данных\n",
        " - Исследовательский анализ\n",
        " - Объединение таблиц\n",
        " - Подсчетаем выручку(за весь период)\n",
        " - Проверка гипотез\n",
        " - Просмотрим некоторые распределение"
      ]
    },
    {
      "cell_type": "code",
      "execution_count": null,
      "id": "1a416906",
      "metadata": {
        "id": "1a416906"
      },
      "outputs": [],
      "source": [
        "import pandas as pd\n",
        "import matplotlib.pyplot as plt\n",
        "import numpy as np\n",
        "from scipy.stats import ttest_ind, ttest_1samp, binom, norm, ttest_rel\n",
        "import seaborn as sns"
      ]
    },
    {
      "cell_type": "markdown",
      "id": "c42cbe00",
      "metadata": {
        "id": "c42cbe00"
      },
      "source": [
        "#### Шаг 1. Загрузка данных"
      ]
    },
    {
      "cell_type": "code",
      "execution_count": null,
      "id": "eff9f206",
      "metadata": {
        "id": "eff9f206"
      },
      "outputs": [],
      "source": [
        "try:\n",
        "    data_users = pd.read_csv('/datasets/users_go.csv')\n",
        "    data_rides = pd.read_csv('/datasets/rides_go.csv')\n",
        "    data_subscriptions = pd.read_csv('/datasets/subscriptions_go.csv')\n",
        "except:\n",
        "    data_users = pd.read_csv('users_go.csv')\n",
        "    data_rides = pd.read_csv('rides_go.csv')\n",
        "    data_subscriptions = pd.read_csv('subscriptions_go.csv')"
      ]
    },
    {
      "cell_type": "code",
      "execution_count": null,
      "id": "a879c10d",
      "metadata": {
        "id": "a879c10d",
        "outputId": "d6a3bb68-984b-4261-8bca-aef6b2c1aa2f"
      },
      "outputs": [
        {
          "data": {
            "text/plain": [
              "'Первые 5 строк: '"
            ]
          },
          "metadata": {},
          "output_type": "display_data"
        },
        {
          "data": {
            "text/html": [
              "<div>\n",
              "<style scoped>\n",
              "    .dataframe tbody tr th:only-of-type {\n",
              "        vertical-align: middle;\n",
              "    }\n",
              "\n",
              "    .dataframe tbody tr th {\n",
              "        vertical-align: top;\n",
              "    }\n",
              "\n",
              "    .dataframe thead th {\n",
              "        text-align: right;\n",
              "    }\n",
              "</style>\n",
              "<table border=\"1\" class=\"dataframe\">\n",
              "  <thead>\n",
              "    <tr style=\"text-align: right;\">\n",
              "      <th></th>\n",
              "      <th>user_id</th>\n",
              "      <th>name</th>\n",
              "      <th>age</th>\n",
              "      <th>city</th>\n",
              "      <th>subscription_type</th>\n",
              "    </tr>\n",
              "  </thead>\n",
              "  <tbody>\n",
              "    <tr>\n",
              "      <th>0</th>\n",
              "      <td>1</td>\n",
              "      <td>Кира</td>\n",
              "      <td>22</td>\n",
              "      <td>Тюмень</td>\n",
              "      <td>ultra</td>\n",
              "    </tr>\n",
              "    <tr>\n",
              "      <th>1</th>\n",
              "      <td>2</td>\n",
              "      <td>Станислав</td>\n",
              "      <td>31</td>\n",
              "      <td>Омск</td>\n",
              "      <td>ultra</td>\n",
              "    </tr>\n",
              "    <tr>\n",
              "      <th>2</th>\n",
              "      <td>3</td>\n",
              "      <td>Алексей</td>\n",
              "      <td>20</td>\n",
              "      <td>Москва</td>\n",
              "      <td>ultra</td>\n",
              "    </tr>\n",
              "    <tr>\n",
              "      <th>3</th>\n",
              "      <td>4</td>\n",
              "      <td>Константин</td>\n",
              "      <td>26</td>\n",
              "      <td>Ростов-на-Дону</td>\n",
              "      <td>ultra</td>\n",
              "    </tr>\n",
              "    <tr>\n",
              "      <th>4</th>\n",
              "      <td>5</td>\n",
              "      <td>Адель</td>\n",
              "      <td>28</td>\n",
              "      <td>Омск</td>\n",
              "      <td>ultra</td>\n",
              "    </tr>\n",
              "  </tbody>\n",
              "</table>\n",
              "</div>"
            ],
            "text/plain": [
              "   user_id        name  age            city subscription_type\n",
              "0        1        Кира   22          Тюмень             ultra\n",
              "1        2   Станислав   31            Омск             ultra\n",
              "2        3     Алексей   20          Москва             ultra\n",
              "3        4  Константин   26  Ростов-на-Дону             ultra\n",
              "4        5       Адель   28            Омск             ultra"
            ]
          },
          "metadata": {},
          "output_type": "display_data"
        },
        {
          "data": {
            "text/plain": [
              "'Общая информация:'"
            ]
          },
          "metadata": {},
          "output_type": "display_data"
        },
        {
          "name": "stdout",
          "output_type": "stream",
          "text": [
            "<class 'pandas.core.frame.DataFrame'>\n",
            "RangeIndex: 1565 entries, 0 to 1564\n",
            "Data columns (total 5 columns):\n",
            " #   Column             Non-Null Count  Dtype \n",
            "---  ------             --------------  ----- \n",
            " 0   user_id            1565 non-null   int64 \n",
            " 1   name               1565 non-null   object\n",
            " 2   age                1565 non-null   int64 \n",
            " 3   city               1565 non-null   object\n",
            " 4   subscription_type  1565 non-null   object\n",
            "dtypes: int64(2), object(3)\n",
            "memory usage: 61.3+ KB\n"
          ]
        }
      ],
      "source": [
        "display('Первые 5 строк: ',\n",
        "        data_users.head(),\n",
        "        'Общая информация:')\n",
        "data_users.info()"
      ]
    },
    {
      "cell_type": "code",
      "execution_count": null,
      "id": "517e9be1",
      "metadata": {
        "id": "517e9be1",
        "outputId": "553c8a71-702c-4681-ef73-0a4e36919299"
      },
      "outputs": [
        {
          "data": {
            "text/plain": [
              "'Первые 5 строк: '"
            ]
          },
          "metadata": {},
          "output_type": "display_data"
        },
        {
          "data": {
            "text/html": [
              "<div>\n",
              "<style scoped>\n",
              "    .dataframe tbody tr th:only-of-type {\n",
              "        vertical-align: middle;\n",
              "    }\n",
              "\n",
              "    .dataframe tbody tr th {\n",
              "        vertical-align: top;\n",
              "    }\n",
              "\n",
              "    .dataframe thead th {\n",
              "        text-align: right;\n",
              "    }\n",
              "</style>\n",
              "<table border=\"1\" class=\"dataframe\">\n",
              "  <thead>\n",
              "    <tr style=\"text-align: right;\">\n",
              "      <th></th>\n",
              "      <th>user_id</th>\n",
              "      <th>distance</th>\n",
              "      <th>duration</th>\n",
              "      <th>date</th>\n",
              "    </tr>\n",
              "  </thead>\n",
              "  <tbody>\n",
              "    <tr>\n",
              "      <th>0</th>\n",
              "      <td>1</td>\n",
              "      <td>4409.919140</td>\n",
              "      <td>25.599769</td>\n",
              "      <td>2021-01-01</td>\n",
              "    </tr>\n",
              "    <tr>\n",
              "      <th>1</th>\n",
              "      <td>1</td>\n",
              "      <td>2617.592153</td>\n",
              "      <td>15.816871</td>\n",
              "      <td>2021-01-18</td>\n",
              "    </tr>\n",
              "    <tr>\n",
              "      <th>2</th>\n",
              "      <td>1</td>\n",
              "      <td>754.159807</td>\n",
              "      <td>6.232113</td>\n",
              "      <td>2021-04-20</td>\n",
              "    </tr>\n",
              "    <tr>\n",
              "      <th>3</th>\n",
              "      <td>1</td>\n",
              "      <td>2694.783254</td>\n",
              "      <td>18.511000</td>\n",
              "      <td>2021-08-11</td>\n",
              "    </tr>\n",
              "    <tr>\n",
              "      <th>4</th>\n",
              "      <td>1</td>\n",
              "      <td>4028.687306</td>\n",
              "      <td>26.265803</td>\n",
              "      <td>2021-08-28</td>\n",
              "    </tr>\n",
              "  </tbody>\n",
              "</table>\n",
              "</div>"
            ],
            "text/plain": [
              "   user_id     distance   duration        date\n",
              "0        1  4409.919140  25.599769  2021-01-01\n",
              "1        1  2617.592153  15.816871  2021-01-18\n",
              "2        1   754.159807   6.232113  2021-04-20\n",
              "3        1  2694.783254  18.511000  2021-08-11\n",
              "4        1  4028.687306  26.265803  2021-08-28"
            ]
          },
          "metadata": {},
          "output_type": "display_data"
        },
        {
          "data": {
            "text/plain": [
              "'Общая информация:'"
            ]
          },
          "metadata": {},
          "output_type": "display_data"
        },
        {
          "name": "stdout",
          "output_type": "stream",
          "text": [
            "<class 'pandas.core.frame.DataFrame'>\n",
            "RangeIndex: 18068 entries, 0 to 18067\n",
            "Data columns (total 4 columns):\n",
            " #   Column    Non-Null Count  Dtype  \n",
            "---  ------    --------------  -----  \n",
            " 0   user_id   18068 non-null  int64  \n",
            " 1   distance  18068 non-null  float64\n",
            " 2   duration  18068 non-null  float64\n",
            " 3   date      18068 non-null  object \n",
            "dtypes: float64(2), int64(1), object(1)\n",
            "memory usage: 564.8+ KB\n"
          ]
        }
      ],
      "source": [
        "display('Первые 5 строк: ',\n",
        "        data_rides.head(),\n",
        "        'Общая информация:')\n",
        "data_rides.info()"
      ]
    },
    {
      "cell_type": "code",
      "execution_count": null,
      "id": "195904cb",
      "metadata": {
        "id": "195904cb",
        "outputId": "0258fb3d-503b-4c7e-be68-dafd026ce36b"
      },
      "outputs": [
        {
          "data": {
            "text/plain": [
              "'Первые 5 строк: '"
            ]
          },
          "metadata": {},
          "output_type": "display_data"
        },
        {
          "data": {
            "text/html": [
              "<div>\n",
              "<style scoped>\n",
              "    .dataframe tbody tr th:only-of-type {\n",
              "        vertical-align: middle;\n",
              "    }\n",
              "\n",
              "    .dataframe tbody tr th {\n",
              "        vertical-align: top;\n",
              "    }\n",
              "\n",
              "    .dataframe thead th {\n",
              "        text-align: right;\n",
              "    }\n",
              "</style>\n",
              "<table border=\"1\" class=\"dataframe\">\n",
              "  <thead>\n",
              "    <tr style=\"text-align: right;\">\n",
              "      <th></th>\n",
              "      <th>subscription_type</th>\n",
              "      <th>minute_price</th>\n",
              "      <th>start_ride_price</th>\n",
              "      <th>subscription_fee</th>\n",
              "    </tr>\n",
              "  </thead>\n",
              "  <tbody>\n",
              "    <tr>\n",
              "      <th>0</th>\n",
              "      <td>free</td>\n",
              "      <td>8</td>\n",
              "      <td>50</td>\n",
              "      <td>0</td>\n",
              "    </tr>\n",
              "    <tr>\n",
              "      <th>1</th>\n",
              "      <td>ultra</td>\n",
              "      <td>6</td>\n",
              "      <td>0</td>\n",
              "      <td>199</td>\n",
              "    </tr>\n",
              "  </tbody>\n",
              "</table>\n",
              "</div>"
            ],
            "text/plain": [
              "  subscription_type  minute_price  start_ride_price  subscription_fee\n",
              "0              free             8                50                 0\n",
              "1             ultra             6                 0               199"
            ]
          },
          "metadata": {},
          "output_type": "display_data"
        },
        {
          "data": {
            "text/plain": [
              "'Общая информация:'"
            ]
          },
          "metadata": {},
          "output_type": "display_data"
        },
        {
          "name": "stdout",
          "output_type": "stream",
          "text": [
            "<class 'pandas.core.frame.DataFrame'>\n",
            "RangeIndex: 2 entries, 0 to 1\n",
            "Data columns (total 4 columns):\n",
            " #   Column             Non-Null Count  Dtype \n",
            "---  ------             --------------  ----- \n",
            " 0   subscription_type  2 non-null      object\n",
            " 1   minute_price       2 non-null      int64 \n",
            " 2   start_ride_price   2 non-null      int64 \n",
            " 3   subscription_fee   2 non-null      int64 \n",
            "dtypes: int64(3), object(1)\n",
            "memory usage: 192.0+ bytes\n"
          ]
        }
      ],
      "source": [
        "#subscriptions\n",
        "display('Первые 5 строк: ',\n",
        "        data_subscriptions.head(),\n",
        "        'Общая информация:')\n",
        "data_subscriptions.info()"
      ]
    },
    {
      "cell_type": "markdown",
      "id": "47a8a843",
      "metadata": {
        "id": "47a8a843"
      },
      "source": [
        "<div class='alert alert-info'>\n",
        "    По результатам загрузки данных  и выводе общей информации можно сказать, что пропущенных значений нету, но это будет далее исследовано подробнее. Есть не корректные типы столбцов. Достаточно сильно различаются размеры датафреймов.\n",
        "</div>"
      ]
    },
    {
      "cell_type": "markdown",
      "id": "e95ebca7",
      "metadata": {
        "id": "e95ebca7"
      },
      "source": [
        "#### Шаг 2. Предобработка данных"
      ]
    },
    {
      "cell_type": "markdown",
      "id": "0001a6fb",
      "metadata": {
        "id": "0001a6fb"
      },
      "source": [
        "##### Изменение типов столбцов"
      ]
    },
    {
      "cell_type": "markdown",
      "id": "5bdf502e",
      "metadata": {
        "id": "5bdf502e"
      },
      "source": [
        "**Во всех трех ДатаФреймах столбцы соответствуют своему типу, кроме столбца с датой в data_rides. Изменим тип этого столбца на соответствующий дате**"
      ]
    },
    {
      "cell_type": "code",
      "execution_count": null,
      "id": "ed9b695b",
      "metadata": {
        "id": "ed9b695b"
      },
      "outputs": [],
      "source": [
        "data_rides['date'] = pd.to_datetime(data_rides['date'], format = '%Y-%m-%d')"
      ]
    },
    {
      "cell_type": "markdown",
      "id": "68fa1933",
      "metadata": {
        "id": "68fa1933"
      },
      "source": [
        "**Проверка на корректность изменения.**"
      ]
    },
    {
      "cell_type": "code",
      "execution_count": null,
      "id": "af6d202c",
      "metadata": {
        "id": "af6d202c",
        "outputId": "112f24c4-da41-4345-cc07-e9a12f3f1c94"
      },
      "outputs": [
        {
          "name": "stdout",
          "output_type": "stream",
          "text": [
            "<class 'pandas.core.frame.DataFrame'>\n",
            "RangeIndex: 18068 entries, 0 to 18067\n",
            "Data columns (total 4 columns):\n",
            " #   Column    Non-Null Count  Dtype         \n",
            "---  ------    --------------  -----         \n",
            " 0   user_id   18068 non-null  int64         \n",
            " 1   distance  18068 non-null  float64       \n",
            " 2   duration  18068 non-null  float64       \n",
            " 3   date      18068 non-null  datetime64[ns]\n",
            "dtypes: datetime64[ns](1), float64(2), int64(1)\n",
            "memory usage: 564.8 KB\n"
          ]
        }
      ],
      "source": [
        "data_rides.info()"
      ]
    },
    {
      "cell_type": "markdown",
      "id": "92e659ac",
      "metadata": {
        "id": "92e659ac"
      },
      "source": [
        "##### Создание нового столбца с номером месяца"
      ]
    },
    {
      "cell_type": "code",
      "execution_count": null,
      "id": "96733319",
      "metadata": {
        "id": "96733319"
      },
      "outputs": [],
      "source": [
        "data_rides['month'] = pd.DatetimeIndex(data_rides['date']).month"
      ]
    },
    {
      "cell_type": "code",
      "execution_count": null,
      "id": "2eaeaee8",
      "metadata": {
        "id": "2eaeaee8",
        "outputId": "b71b5073-9bb4-4f04-c443-c1edf85e19f3"
      },
      "outputs": [
        {
          "name": "stdout",
          "output_type": "stream",
          "text": [
            "Int64Index([1, 2, 3, 4, 5, 6, 7, 8, 9, 10, 11, 12], dtype='int64', name='date')\n"
          ]
        },
        {
          "data": {
            "text/plain": [
              "Int64Index([2021], dtype='int64', name='date')"
            ]
          },
          "execution_count": 9,
          "metadata": {},
          "output_type": "execute_result"
        }
      ],
      "source": [
        "print(pd.DatetimeIndex(data_rides['date']).month.unique().sort_values())\n",
        "pd.DatetimeIndex(data_rides['date']).year.unique()"
      ]
    },
    {
      "cell_type": "markdown",
      "id": "68090bfe",
      "metadata": {
        "id": "68090bfe"
      },
      "source": [
        "<div class='alert alert-info'>\n",
        "    По результатам вывода информации о всех возможных месяцах и годах делаем вывод, что данные собраны за весь 2021 год по всем месяцам.\n",
        "</div>"
      ]
    },
    {
      "cell_type": "markdown",
      "id": "69f3002c",
      "metadata": {
        "id": "69f3002c"
      },
      "source": [
        "**Проверка на корректность появления нового столбца.**"
      ]
    },
    {
      "cell_type": "code",
      "execution_count": null,
      "id": "656ede8f",
      "metadata": {
        "id": "656ede8f",
        "outputId": "2d820f03-c0d5-468f-8d6a-c750c4b1b86c"
      },
      "outputs": [
        {
          "data": {
            "text/html": [
              "<div>\n",
              "<style scoped>\n",
              "    .dataframe tbody tr th:only-of-type {\n",
              "        vertical-align: middle;\n",
              "    }\n",
              "\n",
              "    .dataframe tbody tr th {\n",
              "        vertical-align: top;\n",
              "    }\n",
              "\n",
              "    .dataframe thead th {\n",
              "        text-align: right;\n",
              "    }\n",
              "</style>\n",
              "<table border=\"1\" class=\"dataframe\">\n",
              "  <thead>\n",
              "    <tr style=\"text-align: right;\">\n",
              "      <th></th>\n",
              "      <th>user_id</th>\n",
              "      <th>distance</th>\n",
              "      <th>duration</th>\n",
              "      <th>date</th>\n",
              "      <th>month</th>\n",
              "    </tr>\n",
              "  </thead>\n",
              "  <tbody>\n",
              "    <tr>\n",
              "      <th>0</th>\n",
              "      <td>1</td>\n",
              "      <td>4409.919140</td>\n",
              "      <td>25.599769</td>\n",
              "      <td>2021-01-01</td>\n",
              "      <td>1</td>\n",
              "    </tr>\n",
              "    <tr>\n",
              "      <th>1</th>\n",
              "      <td>1</td>\n",
              "      <td>2617.592153</td>\n",
              "      <td>15.816871</td>\n",
              "      <td>2021-01-18</td>\n",
              "      <td>1</td>\n",
              "    </tr>\n",
              "    <tr>\n",
              "      <th>2</th>\n",
              "      <td>1</td>\n",
              "      <td>754.159807</td>\n",
              "      <td>6.232113</td>\n",
              "      <td>2021-04-20</td>\n",
              "      <td>4</td>\n",
              "    </tr>\n",
              "    <tr>\n",
              "      <th>3</th>\n",
              "      <td>1</td>\n",
              "      <td>2694.783254</td>\n",
              "      <td>18.511000</td>\n",
              "      <td>2021-08-11</td>\n",
              "      <td>8</td>\n",
              "    </tr>\n",
              "    <tr>\n",
              "      <th>4</th>\n",
              "      <td>1</td>\n",
              "      <td>4028.687306</td>\n",
              "      <td>26.265803</td>\n",
              "      <td>2021-08-28</td>\n",
              "      <td>8</td>\n",
              "    </tr>\n",
              "  </tbody>\n",
              "</table>\n",
              "</div>"
            ],
            "text/plain": [
              "   user_id     distance   duration       date  month\n",
              "0        1  4409.919140  25.599769 2021-01-01      1\n",
              "1        1  2617.592153  15.816871 2021-01-18      1\n",
              "2        1   754.159807   6.232113 2021-04-20      4\n",
              "3        1  2694.783254  18.511000 2021-08-11      8\n",
              "4        1  4028.687306  26.265803 2021-08-28      8"
            ]
          },
          "execution_count": 10,
          "metadata": {},
          "output_type": "execute_result"
        }
      ],
      "source": [
        "data_rides.head()"
      ]
    },
    {
      "cell_type": "markdown",
      "id": "4d58b39a",
      "metadata": {
        "id": "4d58b39a"
      },
      "source": [
        "##### Проверка на пропущенные значения и дубликаты"
      ]
    },
    {
      "cell_type": "markdown",
      "id": "086a2907",
      "metadata": {
        "id": "086a2907"
      },
      "source": [
        "**1) data_users**"
      ]
    },
    {
      "cell_type": "code",
      "execution_count": null,
      "id": "febc8178",
      "metadata": {
        "id": "febc8178",
        "outputId": "93970e22-1427-41b5-cd56-f08aa821019f"
      },
      "outputs": [
        {
          "data": {
            "text/plain": [
              "user_id              0\n",
              "name                 0\n",
              "age                  0\n",
              "city                 0\n",
              "subscription_type    0\n",
              "dtype: int64"
            ]
          },
          "execution_count": 11,
          "metadata": {},
          "output_type": "execute_result"
        }
      ],
      "source": [
        "data_users.isna().sum()"
      ]
    },
    {
      "cell_type": "code",
      "execution_count": null,
      "id": "1bfc62c1",
      "metadata": {
        "scrolled": true,
        "id": "1bfc62c1",
        "outputId": "b5c24ef8-0b50-42dc-bcad-2f0f4d94f7f7"
      },
      "outputs": [
        {
          "name": "stdout",
          "output_type": "stream",
          "text": [
            "      user_id        name  age            city subscription_type\n",
            "1534      293       Агата   26       Краснодар             ultra\n",
            "1535       16      Амалия   27       Краснодар             ultra\n",
            "1536      909  Константин   20    Екатеринбург              free\n",
            "1537      403      Полина   19            Сочи             ultra\n",
            "1538      908      Рустам   30          Тюмень              free\n",
            "1539       43    Стефания   22            Омск             ultra\n",
            "1540      127       Павел   25       Пятигорск             ultra\n",
            "1541      659       Злата   27  Ростов-на-Дону             ultra\n",
            "1542      204      Руслан   30       Пятигорск             ultra\n",
            "1543      153      Герман   23          Москва             ultra\n",
            "1544     1245      Регина   27       Пятигорск              free\n",
            "1545      807   Александр   28    Екатеринбург              free\n",
            "1546      924       Мария   23       Пятигорск              free\n",
            "1547      635      Герман   21          Москва             ultra\n",
            "1548      136     Марсель   25          Тюмень             ultra\n",
            "1549      108       Влада   29          Тюмень             ultra\n",
            "1550      737     Мелания   27  Ростов-на-Дону              free\n",
            "1551      666      Зарина   29          Москва             ultra\n",
            "1552      297        Егор   33       Пятигорск             ultra\n",
            "1553      121       Алина   25       Пятигорск             ultra\n",
            "1554     1198       Демид   29  Ростов-на-Дону              free\n",
            "1555       72      Никита   25          Москва             ultra\n",
            "1556      422      Кирилл   27            Сочи             ultra\n",
            "1557      611    Владимир   28            Омск             ultra\n",
            "1558     1237     Евгения   23          Тюмень              free\n",
            "1559      209      Андрей   23            Омск             ultra\n",
            "1560      829       Федор   29       Пятигорск              free\n",
            "1561      809        Юрий   26            Сочи              free\n",
            "1562      307      Ясмина   19       Краснодар             ultra\n",
            "1563       47        Юрий   28          Тюмень             ultra\n",
            "1564     1045     Артемий   28  Ростов-на-Дону              free\n"
          ]
        },
        {
          "data": {
            "text/plain": [
              "31"
            ]
          },
          "execution_count": 12,
          "metadata": {},
          "output_type": "execute_result"
        }
      ],
      "source": [
        "print(data_users[data_users.duplicated()])\n",
        "data_users.duplicated().sum()"
      ]
    },
    {
      "cell_type": "markdown",
      "id": "89004ca1",
      "metadata": {
        "id": "89004ca1"
      },
      "source": [
        "**Видим 31 дубликат не очень много, поэтому можно удалить**"
      ]
    },
    {
      "cell_type": "code",
      "execution_count": null,
      "id": "0de2f0af",
      "metadata": {
        "id": "0de2f0af"
      },
      "outputs": [],
      "source": [
        "start_user_shape = data_users.shape[0]"
      ]
    },
    {
      "cell_type": "code",
      "execution_count": null,
      "id": "d3c1868e",
      "metadata": {
        "id": "d3c1868e"
      },
      "outputs": [],
      "source": [
        "data_users = data_users.drop_duplicates()"
      ]
    },
    {
      "cell_type": "code",
      "execution_count": null,
      "id": "af9a6193",
      "metadata": {
        "id": "af9a6193"
      },
      "outputs": [],
      "source": [
        "finish_user_shape = data_users.shape[0]"
      ]
    },
    {
      "cell_type": "code",
      "execution_count": null,
      "id": "53559fca",
      "metadata": {
        "id": "53559fca",
        "outputId": "3f141fd4-519b-40d3-edce-b06819be2d33"
      },
      "outputs": [
        {
          "data": {
            "text/plain": [
              "1.9808306709265175"
            ]
          },
          "execution_count": 16,
          "metadata": {},
          "output_type": "execute_result"
        }
      ],
      "source": [
        "((start_user_shape - finish_user_shape) / start_user_shape) * 100"
      ]
    },
    {
      "cell_type": "markdown",
      "id": "cea730af",
      "metadata": {
        "id": "cea730af"
      },
      "source": [
        "**По итогу обработки удалено почти 2 % строк из-за наличия дубликатов, что является допустимым. Пропущенных значений не обнаружено.**"
      ]
    },
    {
      "cell_type": "markdown",
      "id": "42c45039",
      "metadata": {
        "id": "42c45039"
      },
      "source": [
        "**2) data_rides**"
      ]
    },
    {
      "cell_type": "code",
      "execution_count": null,
      "id": "116d16f0",
      "metadata": {
        "id": "116d16f0",
        "outputId": "666f08b4-f27b-40ca-cbb0-a8cc7f7b5d08"
      },
      "outputs": [
        {
          "data": {
            "text/plain": [
              "user_id     0\n",
              "distance    0\n",
              "duration    0\n",
              "date        0\n",
              "month       0\n",
              "dtype: int64"
            ]
          },
          "execution_count": 17,
          "metadata": {},
          "output_type": "execute_result"
        }
      ],
      "source": [
        "data_rides.isna().sum()"
      ]
    },
    {
      "cell_type": "code",
      "execution_count": null,
      "id": "94769acf",
      "metadata": {
        "id": "94769acf",
        "outputId": "f26b456b-9b68-46fd-fd4a-efbf7600ec3a"
      },
      "outputs": [
        {
          "data": {
            "text/plain": [
              "0"
            ]
          },
          "execution_count": 18,
          "metadata": {},
          "output_type": "execute_result"
        }
      ],
      "source": [
        "data_users.duplicated().sum()"
      ]
    },
    {
      "cell_type": "markdown",
      "id": "f392db02",
      "metadata": {
        "id": "f392db02"
      },
      "source": [
        "**Пропущенных значений нету и дубликатов тоже.**"
      ]
    },
    {
      "cell_type": "markdown",
      "id": "50bf05e0",
      "metadata": {
        "id": "50bf05e0"
      },
      "source": [
        "**3)data_subscriptions**"
      ]
    },
    {
      "cell_type": "code",
      "execution_count": null,
      "id": "95fc2b65",
      "metadata": {
        "id": "95fc2b65",
        "outputId": "0da56956-18d2-48d9-d8e7-021144f7eec6"
      },
      "outputs": [
        {
          "data": {
            "text/plain": [
              "subscription_type    0\n",
              "minute_price         0\n",
              "start_ride_price     0\n",
              "subscription_fee     0\n",
              "dtype: int64"
            ]
          },
          "execution_count": 19,
          "metadata": {},
          "output_type": "execute_result"
        }
      ],
      "source": [
        "data_subscriptions.isna().sum()"
      ]
    },
    {
      "cell_type": "code",
      "execution_count": null,
      "id": "dacda73e",
      "metadata": {
        "id": "dacda73e",
        "outputId": "0b901677-e1f6-4c1b-c4c3-9ae8743a1245"
      },
      "outputs": [
        {
          "data": {
            "text/plain": [
              "0"
            ]
          },
          "execution_count": 20,
          "metadata": {},
          "output_type": "execute_result"
        }
      ],
      "source": [
        "data_subscriptions.duplicated().sum()"
      ]
    },
    {
      "cell_type": "markdown",
      "id": "dce93093",
      "metadata": {
        "id": "dce93093"
      },
      "source": [
        "**Пропущенных значений и дубликатов нету**"
      ]
    },
    {
      "cell_type": "markdown",
      "id": "212593c7",
      "metadata": {
        "id": "212593c7"
      },
      "source": [
        "#### Шаг 3. Исследовательский анализ данных"
      ]
    },
    {
      "cell_type": "markdown",
      "id": "6693b545",
      "metadata": {
        "id": "6693b545"
      },
      "source": [
        "##### Частота встречаемости городов"
      ]
    },
    {
      "cell_type": "code",
      "execution_count": null,
      "id": "57b56fae",
      "metadata": {
        "scrolled": false,
        "id": "57b56fae",
        "outputId": "7dc52d22-326a-4f7e-f8a5-9de1902dbb52"
      },
      "outputs": [
        {
          "data": {
            "text/html": [
              "<div>\n",
              "<style scoped>\n",
              "    .dataframe tbody tr th:only-of-type {\n",
              "        vertical-align: middle;\n",
              "    }\n",
              "\n",
              "    .dataframe tbody tr th {\n",
              "        vertical-align: top;\n",
              "    }\n",
              "\n",
              "    .dataframe thead th {\n",
              "        text-align: right;\n",
              "    }\n",
              "</style>\n",
              "<table border=\"1\" class=\"dataframe\">\n",
              "  <thead>\n",
              "    <tr style=\"text-align: right;\">\n",
              "      <th></th>\n",
              "      <th>city</th>\n",
              "      <th>counts</th>\n",
              "    </tr>\n",
              "  </thead>\n",
              "  <tbody>\n",
              "    <tr>\n",
              "      <th>0</th>\n",
              "      <td>Пятигорск</td>\n",
              "      <td>219</td>\n",
              "    </tr>\n",
              "    <tr>\n",
              "      <th>1</th>\n",
              "      <td>Екатеринбург</td>\n",
              "      <td>204</td>\n",
              "    </tr>\n",
              "    <tr>\n",
              "      <th>2</th>\n",
              "      <td>Ростов-на-Дону</td>\n",
              "      <td>198</td>\n",
              "    </tr>\n",
              "    <tr>\n",
              "      <th>3</th>\n",
              "      <td>Краснодар</td>\n",
              "      <td>193</td>\n",
              "    </tr>\n",
              "    <tr>\n",
              "      <th>4</th>\n",
              "      <td>Сочи</td>\n",
              "      <td>189</td>\n",
              "    </tr>\n",
              "    <tr>\n",
              "      <th>5</th>\n",
              "      <td>Омск</td>\n",
              "      <td>183</td>\n",
              "    </tr>\n",
              "    <tr>\n",
              "      <th>6</th>\n",
              "      <td>Тюмень</td>\n",
              "      <td>180</td>\n",
              "    </tr>\n",
              "    <tr>\n",
              "      <th>7</th>\n",
              "      <td>Москва</td>\n",
              "      <td>168</td>\n",
              "    </tr>\n",
              "  </tbody>\n",
              "</table>\n",
              "</div>"
            ],
            "text/plain": [
              "             city  counts\n",
              "0       Пятигорск     219\n",
              "1    Екатеринбург     204\n",
              "2  Ростов-на-Дону     198\n",
              "3       Краснодар     193\n",
              "4            Сочи     189\n",
              "5            Омск     183\n",
              "6          Тюмень     180\n",
              "7          Москва     168"
            ]
          },
          "execution_count": 21,
          "metadata": {},
          "output_type": "execute_result"
        },
        {
          "data": {
            "image/png": "[encoded data removed]",
            "text/plain": [
              "<Figure size 432x288 with 1 Axes>"
            ]
          },
          "metadata": {
            "needs_background": "light"
          },
          "output_type": "display_data"
        }
      ],
      "source": [
        "pivot_users = data_users['city'].value_counts().reset_index()\n",
        "pivot_users = pivot_users.rename(columns = {'index':'city',\n",
        "                                            'city': 'counts'})\n",
        "plt.barh(pivot_users['city'], pivot_users['counts'], color='b')\n",
        "plt.title('Часстота встречаемости городов')\n",
        "plt.xlabel('Частота')\n",
        "plt.ylabel('Города')\n",
        "pivot_users"
      ]
    },
    {
      "cell_type": "code",
      "execution_count": null,
      "id": "39702df0",
      "metadata": {
        "id": "39702df0",
        "outputId": "47c8b202-f7d8-45c2-cc53-417db9454a88"
      },
      "outputs": [
        {
          "data": {
            "text/plain": [
              "23.3"
            ]
          },
          "execution_count": 22,
          "metadata": {},
          "output_type": "execute_result"
        }
      ],
      "source": [
        "(round(((pivot_users.loc[0, 'counts'] - pivot_users.loc[pivot_users.shape[0] - 1, 'counts']) /\n",
        "       pivot_users.loc[0, 'counts']) * 100, 1))"
      ]
    },
    {
      "cell_type": "markdown",
      "id": "09c55a10",
      "metadata": {
        "id": "09c55a10"
      },
      "source": [
        "<div class='alert alert-info'>\n",
        "Из постоенной диаграммы можно сделать вывод, что больше всего пользователей находятся в пятигорске, а меньше всего в Москве. Отличие между количеством пользователей в этих городах составляет 23.3 % достаточно существенно\n",
        "</div>"
      ]
    },
    {
      "cell_type": "markdown",
      "id": "0dedf3b7",
      "metadata": {
        "id": "0dedf3b7"
      },
      "source": [
        "##### Cоотношение пользователей с подпиской и без подписки"
      ]
    },
    {
      "cell_type": "code",
      "execution_count": null,
      "id": "9484f389",
      "metadata": {
        "id": "9484f389",
        "outputId": "47b74154-9025-4e05-a895-3e19fc71fa4f"
      },
      "outputs": [
        {
          "data": {
            "text/html": [
              "<div>\n",
              "<style scoped>\n",
              "    .dataframe tbody tr th:only-of-type {\n",
              "        vertical-align: middle;\n",
              "    }\n",
              "\n",
              "    .dataframe tbody tr th {\n",
              "        vertical-align: top;\n",
              "    }\n",
              "\n",
              "    .dataframe thead th {\n",
              "        text-align: right;\n",
              "    }\n",
              "</style>\n",
              "<table border=\"1\" class=\"dataframe\">\n",
              "  <thead>\n",
              "    <tr style=\"text-align: right;\">\n",
              "      <th></th>\n",
              "      <th>subscription</th>\n",
              "      <th>counts</th>\n",
              "    </tr>\n",
              "  </thead>\n",
              "  <tbody>\n",
              "    <tr>\n",
              "      <th>0</th>\n",
              "      <td>free</td>\n",
              "      <td>835</td>\n",
              "    </tr>\n",
              "    <tr>\n",
              "      <th>1</th>\n",
              "      <td>ultra</td>\n",
              "      <td>699</td>\n",
              "    </tr>\n",
              "  </tbody>\n",
              "</table>\n",
              "</div>"
            ],
            "text/plain": [
              "  subscription  counts\n",
              "0         free     835\n",
              "1        ultra     699"
            ]
          },
          "execution_count": 23,
          "metadata": {},
          "output_type": "execute_result"
        },
        {
          "data": {
            "image/png": "[encoded data removed]",
            "text/plain": [
              "<Figure size 432x288 with 1 Axes>"
            ]
          },
          "metadata": {},
          "output_type": "display_data"
        }
      ],
      "source": [
        "pivot_subscription = data_users['subscription_type'].value_counts().reset_index()\n",
        "pivot_subscription = pivot_subscription.rename(columns = {'index':'subscription',\n",
        "                                            'subscription_type': 'counts'})\n",
        "plt.pie(pivot_subscription['counts'], labels = pivot_subscription['subscription'],\n",
        "  autopct='%1.0f%%', explode = (0.05, 0.05), colors = ['pink', 'yellow'])\n",
        "plt.title('Соотношения количества подписок разных типов')\n",
        "pivot_subscription"
      ]
    },
    {
      "cell_type": "markdown",
      "id": "426d24a4",
      "metadata": {
        "id": "426d24a4"
      },
      "source": [
        "**Приложение без подписки используют чаще, чем с подпиской.**"
      ]
    },
    {
      "cell_type": "markdown",
      "id": "84875854",
      "metadata": {
        "id": "84875854"
      },
      "source": [
        "#####  Возраст пользователей"
      ]
    },
    {
      "cell_type": "code",
      "execution_count": null,
      "id": "23fb85af",
      "metadata": {
        "scrolled": true,
        "id": "23fb85af",
        "outputId": "de7e3af4-338b-494c-c664-8f8f4b13fea3"
      },
      "outputs": [
        {
          "data": {
            "text/html": [
              "<div>\n",
              "<style scoped>\n",
              "    .dataframe tbody tr th:only-of-type {\n",
              "        vertical-align: middle;\n",
              "    }\n",
              "\n",
              "    .dataframe tbody tr th {\n",
              "        vertical-align: top;\n",
              "    }\n",
              "\n",
              "    .dataframe thead th {\n",
              "        text-align: right;\n",
              "    }\n",
              "</style>\n",
              "<table border=\"1\" class=\"dataframe\">\n",
              "  <thead>\n",
              "    <tr style=\"text-align: right;\">\n",
              "      <th></th>\n",
              "      <th>age</th>\n",
              "      <th>counts</th>\n",
              "    </tr>\n",
              "  </thead>\n",
              "  <tbody>\n",
              "    <tr>\n",
              "      <th>28</th>\n",
              "      <td>43</td>\n",
              "      <td>1</td>\n",
              "    </tr>\n",
              "    <tr>\n",
              "      <th>27</th>\n",
              "      <td>39</td>\n",
              "      <td>1</td>\n",
              "    </tr>\n",
              "    <tr>\n",
              "      <th>26</th>\n",
              "      <td>37</td>\n",
              "      <td>2</td>\n",
              "    </tr>\n",
              "    <tr>\n",
              "      <th>25</th>\n",
              "      <td>38</td>\n",
              "      <td>3</td>\n",
              "    </tr>\n",
              "    <tr>\n",
              "      <th>24</th>\n",
              "      <td>12</td>\n",
              "      <td>4</td>\n",
              "    </tr>\n",
              "    <tr>\n",
              "      <th>23</th>\n",
              "      <td>36</td>\n",
              "      <td>6</td>\n",
              "    </tr>\n",
              "    <tr>\n",
              "      <th>22</th>\n",
              "      <td>13</td>\n",
              "      <td>8</td>\n",
              "    </tr>\n",
              "    <tr>\n",
              "      <th>21</th>\n",
              "      <td>14</td>\n",
              "      <td>9</td>\n",
              "    </tr>\n",
              "    <tr>\n",
              "      <th>20</th>\n",
              "      <td>15</td>\n",
              "      <td>13</td>\n",
              "    </tr>\n",
              "    <tr>\n",
              "      <th>19</th>\n",
              "      <td>35</td>\n",
              "      <td>15</td>\n",
              "    </tr>\n",
              "    <tr>\n",
              "      <th>18</th>\n",
              "      <td>16</td>\n",
              "      <td>19</td>\n",
              "    </tr>\n",
              "    <tr>\n",
              "      <th>17</th>\n",
              "      <td>34</td>\n",
              "      <td>19</td>\n",
              "    </tr>\n",
              "    <tr>\n",
              "      <th>16</th>\n",
              "      <td>17</td>\n",
              "      <td>26</td>\n",
              "    </tr>\n",
              "    <tr>\n",
              "      <th>15</th>\n",
              "      <td>33</td>\n",
              "      <td>39</td>\n",
              "    </tr>\n",
              "    <tr>\n",
              "      <th>14</th>\n",
              "      <td>32</td>\n",
              "      <td>41</td>\n",
              "    </tr>\n",
              "    <tr>\n",
              "      <th>13</th>\n",
              "      <td>18</td>\n",
              "      <td>46</td>\n",
              "    </tr>\n",
              "    <tr>\n",
              "      <th>12</th>\n",
              "      <td>19</td>\n",
              "      <td>47</td>\n",
              "    </tr>\n",
              "    <tr>\n",
              "      <th>11</th>\n",
              "      <td>31</td>\n",
              "      <td>48</td>\n",
              "    </tr>\n",
              "    <tr>\n",
              "      <th>10</th>\n",
              "      <td>29</td>\n",
              "      <td>68</td>\n",
              "    </tr>\n",
              "    <tr>\n",
              "      <th>9</th>\n",
              "      <td>30</td>\n",
              "      <td>68</td>\n",
              "    </tr>\n",
              "    <tr>\n",
              "      <th>8</th>\n",
              "      <td>20</td>\n",
              "      <td>71</td>\n",
              "    </tr>\n",
              "    <tr>\n",
              "      <th>7</th>\n",
              "      <td>21</td>\n",
              "      <td>93</td>\n",
              "    </tr>\n",
              "    <tr>\n",
              "      <th>6</th>\n",
              "      <td>28</td>\n",
              "      <td>112</td>\n",
              "    </tr>\n",
              "    <tr>\n",
              "      <th>5</th>\n",
              "      <td>22</td>\n",
              "      <td>119</td>\n",
              "    </tr>\n",
              "    <tr>\n",
              "      <th>4</th>\n",
              "      <td>27</td>\n",
              "      <td>119</td>\n",
              "    </tr>\n",
              "    <tr>\n",
              "      <th>3</th>\n",
              "      <td>23</td>\n",
              "      <td>129</td>\n",
              "    </tr>\n",
              "    <tr>\n",
              "      <th>2</th>\n",
              "      <td>26</td>\n",
              "      <td>131</td>\n",
              "    </tr>\n",
              "    <tr>\n",
              "      <th>1</th>\n",
              "      <td>24</td>\n",
              "      <td>132</td>\n",
              "    </tr>\n",
              "    <tr>\n",
              "      <th>0</th>\n",
              "      <td>25</td>\n",
              "      <td>145</td>\n",
              "    </tr>\n",
              "  </tbody>\n",
              "</table>\n",
              "</div>"
            ],
            "text/plain": [
              "    age  counts\n",
              "28   43       1\n",
              "27   39       1\n",
              "26   37       2\n",
              "25   38       3\n",
              "24   12       4\n",
              "23   36       6\n",
              "22   13       8\n",
              "21   14       9\n",
              "20   15      13\n",
              "19   35      15\n",
              "18   16      19\n",
              "17   34      19\n",
              "16   17      26\n",
              "15   33      39\n",
              "14   32      41\n",
              "13   18      46\n",
              "12   19      47\n",
              "11   31      48\n",
              "10   29      68\n",
              "9    30      68\n",
              "8    20      71\n",
              "7    21      93\n",
              "6    28     112\n",
              "5    22     119\n",
              "4    27     119\n",
              "3    23     129\n",
              "2    26     131\n",
              "1    24     132\n",
              "0    25     145"
            ]
          },
          "execution_count": 24,
          "metadata": {},
          "output_type": "execute_result"
        },
        {
          "data": {
            "image/png": "[encoded data removed]",
            "text/plain": [
              "<Figure size 432x288 with 1 Axes>"
            ]
          },
          "metadata": {
            "needs_background": "light"
          },
          "output_type": "display_data"
        }
      ],
      "source": [
        "pivot_age = data_users['age'].value_counts().reset_index()\n",
        "pivot_age = pivot_age.rename(columns = {'index':'age',\n",
        "                                            'age': 'counts'}).sort_values(by = 'counts')\n",
        "plt.bar(pivot_age['age'], pivot_age['counts'], color='b')\n",
        "plt.title('Возраст пользователей')\n",
        "plt.xlabel('Возраст')\n",
        "plt.ylabel('Частота')\n",
        "pivot_age"
      ]
    },
    {
      "cell_type": "code",
      "execution_count": null,
      "id": "aa3f66ff",
      "metadata": {
        "id": "aa3f66ff",
        "outputId": "41081262-d264-4963-b3ec-ad906feef946"
      },
      "outputs": [
        {
          "data": {
            "text/plain": [
              "count    1534.000000\n",
              "mean       24.903520\n",
              "std         4.572367\n",
              "min        12.000000\n",
              "25%        22.000000\n",
              "50%        25.000000\n",
              "75%        28.000000\n",
              "max        43.000000\n",
              "Name: age, dtype: float64"
            ]
          },
          "execution_count": 25,
          "metadata": {},
          "output_type": "execute_result"
        },
        {
          "data": {
            "image/png": "[encoded data removed]",
            "text/plain": [
              "<Figure size 432x288 with 1 Axes>"
            ]
          },
          "metadata": {
            "needs_background": "light"
          },
          "output_type": "display_data"
        }
      ],
      "source": [
        "plt.boxplot(data_users['age'])\n",
        "plt.title('Диаграмма размаха для возраста пользователей')\n",
        "plt.ylabel('Возраст')\n",
        "data_users['age'].describe()"
      ]
    },
    {
      "cell_type": "markdown",
      "id": "9db13e32",
      "metadata": {
        "id": "9db13e32"
      },
      "source": [
        "<div class='alert alert-info'>\n",
        "Из диаграммы размаха можно cделать вывод, что в этой статистике есть несколько выбивающихся значений, а основуную часть данных состаляют люди от 22 до 28 лет.\n",
        "</div>"
      ]
    },
    {
      "cell_type": "markdown",
      "id": "e71de184",
      "metadata": {
        "id": "e71de184"
      },
      "source": [
        "##### Расстояние, которое пользователь преодолел за одну поездку"
      ]
    },
    {
      "cell_type": "code",
      "execution_count": null,
      "id": "459702a9",
      "metadata": {
        "id": "459702a9",
        "outputId": "34d3294d-8450-4559-e244-971fa3fc9faa"
      },
      "outputs": [
        {
          "data": {
            "text/plain": [
              "Text(0, 0.5, 'Количество пользователей')"
            ]
          },
          "execution_count": 26,
          "metadata": {},
          "output_type": "execute_result"
        },
        {
          "data": {
            "image/png": "[encoded data removed]",
            "text/plain": [
              "<Figure size 432x288 with 1 Axes>"
            ]
          },
          "metadata": {
            "needs_background": "light"
          },
          "output_type": "display_data"
        }
      ],
      "source": [
        "plt.hist(data_rides['distance'], bins=100, alpha=0.7, color='b')\n",
        "plt.title('Расстояние каждого пользователя за поездку')\n",
        "plt.xlabel('Расстояние')\n",
        "plt.ylabel('Количество пользователей')"
      ]
    },
    {
      "cell_type": "code",
      "execution_count": null,
      "id": "3d98de10",
      "metadata": {
        "id": "3d98de10",
        "outputId": "7d8a70ea-c2dc-4f91-b3e2-ae194cbb2edb"
      },
      "outputs": [
        {
          "data": {
            "text/plain": [
              "count    18068.000000\n",
              "mean      3070.659976\n",
              "std       1116.831209\n",
              "min          0.855683\n",
              "25%       2543.226360\n",
              "50%       3133.609994\n",
              "75%       3776.222735\n",
              "max       7211.007745\n",
              "Name: distance, dtype: float64"
            ]
          },
          "execution_count": 27,
          "metadata": {},
          "output_type": "execute_result"
        },
        {
          "data": {
            "image/png": "[encoded data removed]",
            "text/plain": [
              "<Figure size 432x288 with 1 Axes>"
            ]
          },
          "metadata": {
            "needs_background": "light"
          },
          "output_type": "display_data"
        }
      ],
      "source": [
        "plt.boxplot(data_rides['distance'])\n",
        "plt.title('Диаграмма размаха для дистанции поездок')\n",
        "plt.ylabel('Дистация')\n",
        "data_rides['distance'].describe()"
      ]
    },
    {
      "cell_type": "code",
      "execution_count": null,
      "id": "fcc1872d",
      "metadata": {
        "id": "fcc1872d",
        "outputId": "8860837c-53f7-4486-e221-b71c0b7bf7ed"
      },
      "outputs": [
        {
          "data": {
            "text/plain": [
              "0.07610139473101618"
            ]
          },
          "execution_count": 28,
          "metadata": {},
          "output_type": "execute_result"
        }
      ],
      "source": [
        "1 - (data_rides.shape[0] - data_rides.query('(distance > 6800) | (distance < 1000) ').shape[0]) / data_rides.shape[0]"
      ]
    },
    {
      "cell_type": "markdown",
      "id": "e5713fa4",
      "metadata": {
        "id": "e5713fa4"
      },
      "source": [
        "<div class='alert alert-info'>\n",
        "Из полученного диаграммы размаха можно сказать, что в основном  пользователи ездят на расстояния от 2500 до 3700 метров. Выбросов оказалось около 1400, что составляет почти 7.6 % всего датафрейма, удалять не следует.\n",
        "</div>"
      ]
    },
    {
      "cell_type": "markdown",
      "id": "6e032d31",
      "metadata": {
        "id": "6e032d31"
      },
      "source": [
        "##### Продолжительность поездок"
      ]
    },
    {
      "cell_type": "code",
      "execution_count": null,
      "id": "d97e9e93",
      "metadata": {
        "id": "d97e9e93",
        "outputId": "2ac16b96-ba47-462e-e9fa-4d5c080569a1"
      },
      "outputs": [
        {
          "data": {
            "text/plain": [
              "Text(0, 0.5, 'Количество пользователей')"
            ]
          },
          "execution_count": 29,
          "metadata": {},
          "output_type": "execute_result"
        },
        {
          "data": {
            "image/png": "[encoded data removed]",
            "text/plain": [
              "<Figure size 432x288 with 1 Axes>"
            ]
          },
          "metadata": {
            "needs_background": "light"
          },
          "output_type": "display_data"
        }
      ],
      "source": [
        "plt.hist(data_rides['duration'], bins=70, alpha=0.7, color='b')\n",
        "plt.title('Время каждого пользователя за поездку')\n",
        "plt.xlabel('Время в минутах')\n",
        "plt.ylabel('Количество пользователей')"
      ]
    },
    {
      "cell_type": "code",
      "execution_count": null,
      "id": "7939aa3c",
      "metadata": {
        "id": "7939aa3c",
        "outputId": "18a1666a-3fb9-441f-c7b3-99794e2f53f3"
      },
      "outputs": [
        {
          "data": {
            "text/plain": [
              "count    18068.000000\n",
              "mean        17.805011\n",
              "std          6.091051\n",
              "min          0.500000\n",
              "25%         13.597563\n",
              "50%         17.678395\n",
              "75%         21.724800\n",
              "max         40.823963\n",
              "Name: duration, dtype: float64"
            ]
          },
          "execution_count": 30,
          "metadata": {},
          "output_type": "execute_result"
        },
        {
          "data": {
            "image/png": "[encoded data removed]",
            "text/plain": [
              "<Figure size 432x288 with 1 Axes>"
            ]
          },
          "metadata": {
            "needs_background": "light"
          },
          "output_type": "display_data"
        }
      ],
      "source": [
        "plt.boxplot(data_rides['duration'])\n",
        "plt.title('Диаграмма размаха для продолжительности поездок')\n",
        "plt.ylabel('Продолжительность')\n",
        "data_rides['duration'].describe()"
      ]
    },
    {
      "cell_type": "code",
      "execution_count": null,
      "id": "12f23105",
      "metadata": {
        "id": "12f23105",
        "outputId": "775746b9-8deb-4321-aab4-76d77e14177c"
      },
      "outputs": [
        {
          "data": {
            "text/plain": [
              "0.009408899712198382"
            ]
          },
          "execution_count": 31,
          "metadata": {},
          "output_type": "execute_result"
        }
      ],
      "source": [
        "1 - (data_rides.shape[0] - data_rides.query('(duration > 34) | (duration < 1.5)').shape[0]) / data_rides.shape[0]"
      ]
    },
    {
      "cell_type": "markdown",
      "id": "c3387558",
      "metadata": {
        "id": "c3387558"
      },
      "source": [
        "<div class='alert alert-info'>\n",
        "    Получаем, что в основном поездка затрачивает от 13 до 22 минут. Выбросы составляют около 1 % .\n",
        "</div>"
      ]
    },
    {
      "cell_type": "markdown",
      "id": "4ef51331",
      "metadata": {
        "id": "4ef51331"
      },
      "source": [
        "#### Шаг 4. Объединение данных"
      ]
    },
    {
      "cell_type": "code",
      "execution_count": null,
      "id": "6bf288b5",
      "metadata": {
        "id": "6bf288b5",
        "outputId": "9c34a7fd-3b5c-4550-fa53-daff57994849"
      },
      "outputs": [
        {
          "data": {
            "text/html": [
              "<div>\n",
              "<style scoped>\n",
              "    .dataframe tbody tr th:only-of-type {\n",
              "        vertical-align: middle;\n",
              "    }\n",
              "\n",
              "    .dataframe tbody tr th {\n",
              "        vertical-align: top;\n",
              "    }\n",
              "\n",
              "    .dataframe thead th {\n",
              "        text-align: right;\n",
              "    }\n",
              "</style>\n",
              "<table border=\"1\" class=\"dataframe\">\n",
              "  <thead>\n",
              "    <tr style=\"text-align: right;\">\n",
              "      <th></th>\n",
              "      <th>user_id</th>\n",
              "      <th>name</th>\n",
              "      <th>age</th>\n",
              "      <th>city</th>\n",
              "      <th>subscription_type</th>\n",
              "      <th>distance</th>\n",
              "      <th>duration</th>\n",
              "      <th>date</th>\n",
              "      <th>month</th>\n",
              "      <th>minute_price</th>\n",
              "      <th>start_ride_price</th>\n",
              "      <th>subscription_fee</th>\n",
              "    </tr>\n",
              "  </thead>\n",
              "  <tbody>\n",
              "    <tr>\n",
              "      <th>0</th>\n",
              "      <td>1</td>\n",
              "      <td>Кира</td>\n",
              "      <td>22</td>\n",
              "      <td>Тюмень</td>\n",
              "      <td>ultra</td>\n",
              "      <td>4409.919140</td>\n",
              "      <td>25.599769</td>\n",
              "      <td>2021-01-01</td>\n",
              "      <td>1</td>\n",
              "      <td>6</td>\n",
              "      <td>0</td>\n",
              "      <td>199</td>\n",
              "    </tr>\n",
              "    <tr>\n",
              "      <th>1</th>\n",
              "      <td>1</td>\n",
              "      <td>Кира</td>\n",
              "      <td>22</td>\n",
              "      <td>Тюмень</td>\n",
              "      <td>ultra</td>\n",
              "      <td>2617.592153</td>\n",
              "      <td>15.816871</td>\n",
              "      <td>2021-01-18</td>\n",
              "      <td>1</td>\n",
              "      <td>6</td>\n",
              "      <td>0</td>\n",
              "      <td>199</td>\n",
              "    </tr>\n",
              "    <tr>\n",
              "      <th>2</th>\n",
              "      <td>1</td>\n",
              "      <td>Кира</td>\n",
              "      <td>22</td>\n",
              "      <td>Тюмень</td>\n",
              "      <td>ultra</td>\n",
              "      <td>754.159807</td>\n",
              "      <td>6.232113</td>\n",
              "      <td>2021-04-20</td>\n",
              "      <td>4</td>\n",
              "      <td>6</td>\n",
              "      <td>0</td>\n",
              "      <td>199</td>\n",
              "    </tr>\n",
              "    <tr>\n",
              "      <th>3</th>\n",
              "      <td>1</td>\n",
              "      <td>Кира</td>\n",
              "      <td>22</td>\n",
              "      <td>Тюмень</td>\n",
              "      <td>ultra</td>\n",
              "      <td>2694.783254</td>\n",
              "      <td>18.511000</td>\n",
              "      <td>2021-08-11</td>\n",
              "      <td>8</td>\n",
              "      <td>6</td>\n",
              "      <td>0</td>\n",
              "      <td>199</td>\n",
              "    </tr>\n",
              "    <tr>\n",
              "      <th>4</th>\n",
              "      <td>1</td>\n",
              "      <td>Кира</td>\n",
              "      <td>22</td>\n",
              "      <td>Тюмень</td>\n",
              "      <td>ultra</td>\n",
              "      <td>4028.687306</td>\n",
              "      <td>26.265803</td>\n",
              "      <td>2021-08-28</td>\n",
              "      <td>8</td>\n",
              "      <td>6</td>\n",
              "      <td>0</td>\n",
              "      <td>199</td>\n",
              "    </tr>\n",
              "  </tbody>\n",
              "</table>\n",
              "</div>"
            ],
            "text/plain": [
              "   user_id  name  age    city subscription_type     distance   duration  \\\n",
              "0        1  Кира   22  Тюмень             ultra  4409.919140  25.599769   \n",
              "1        1  Кира   22  Тюмень             ultra  2617.592153  15.816871   \n",
              "2        1  Кира   22  Тюмень             ultra   754.159807   6.232113   \n",
              "3        1  Кира   22  Тюмень             ultra  2694.783254  18.511000   \n",
              "4        1  Кира   22  Тюмень             ultra  4028.687306  26.265803   \n",
              "\n",
              "        date  month  minute_price  start_ride_price  subscription_fee  \n",
              "0 2021-01-01      1             6                 0               199  \n",
              "1 2021-01-18      1             6                 0               199  \n",
              "2 2021-04-20      4             6                 0               199  \n",
              "3 2021-08-11      8             6                 0               199  \n",
              "4 2021-08-28      8             6                 0               199  "
            ]
          },
          "execution_count": 32,
          "metadata": {},
          "output_type": "execute_result"
        }
      ],
      "source": [
        "# Объединение данных о пользователях, поездках и подписках\n",
        "data_all = pd.merge(data_users, data_rides, on='user_id', how='inner')\n",
        "data_all = pd.merge(data_all, data_subscriptions, on = 'subscription_type', how='inner')\n",
        "data_all.head()"
      ]
    },
    {
      "cell_type": "code",
      "execution_count": null,
      "id": "a1052ab9",
      "metadata": {
        "id": "a1052ab9"
      },
      "outputs": [],
      "source": [
        "data_ultra = data_all[data_all['subscription_type'] == 'ultra']\n",
        "data_free = data_all[data_all['subscription_type'] == 'free']"
      ]
    },
    {
      "cell_type": "code",
      "execution_count": null,
      "id": "f6448d24",
      "metadata": {
        "id": "f6448d24",
        "outputId": "b7296a1a-86e1-482d-e54d-afa24a540156"
      },
      "outputs": [
        {
          "name": "stdout",
          "output_type": "stream",
          "text": [
            "Размерность первого датафрейма:  (6500, 12) Размерность второго датафрейма:  (11568, 12)\n"
          ]
        }
      ],
      "source": [
        "print('Размерность первого датафрейма: ', data_ultra.shape,'Размерность второго датафрейма: ', data_free.shape)"
      ]
    },
    {
      "cell_type": "code",
      "execution_count": null,
      "id": "2e7c0559",
      "metadata": {
        "id": "2e7c0559",
        "outputId": "aaea5ff0-1014-4626-f25c-8d0a05e7ec1f"
      },
      "outputs": [
        {
          "name": "stdout",
          "output_type": "stream",
          "text": [
            "18068\n",
            "18068\n",
            "['ultra']\n",
            "['free']\n"
          ]
        }
      ],
      "source": [
        "print(data_ultra.shape[0] + data_free.shape[0])\n",
        "print(data_rides.shape[0])\n",
        "print(data_ultra['subscription_type'].unique())\n",
        "print(data_free['subscription_type'].unique())"
      ]
    },
    {
      "cell_type": "code",
      "execution_count": null,
      "id": "ff7d7aaf",
      "metadata": {
        "id": "ff7d7aaf",
        "outputId": "e98378d0-beb6-4c9a-8620-fb43a9e803c1"
      },
      "outputs": [
        {
          "data": {
            "text/plain": [
              "user_id              0\n",
              "name                 0\n",
              "age                  0\n",
              "city                 0\n",
              "subscription_type    0\n",
              "distance             0\n",
              "duration             0\n",
              "date                 0\n",
              "month                0\n",
              "minute_price         0\n",
              "start_ride_price     0\n",
              "subscription_fee     0\n",
              "dtype: int64"
            ]
          },
          "metadata": {},
          "output_type": "display_data"
        },
        {
          "data": {
            "text/plain": [
              "user_id              0\n",
              "name                 0\n",
              "age                  0\n",
              "city                 0\n",
              "subscription_type    0\n",
              "distance             0\n",
              "duration             0\n",
              "date                 0\n",
              "month                0\n",
              "minute_price         0\n",
              "start_ride_price     0\n",
              "subscription_fee     0\n",
              "dtype: int64"
            ]
          },
          "metadata": {},
          "output_type": "display_data"
        },
        {
          "data": {
            "text/plain": [
              "user_id              0\n",
              "name                 0\n",
              "age                  0\n",
              "city                 0\n",
              "subscription_type    0\n",
              "distance             0\n",
              "duration             0\n",
              "date                 0\n",
              "month                0\n",
              "minute_price         0\n",
              "start_ride_price     0\n",
              "subscription_fee     0\n",
              "dtype: int64"
            ]
          },
          "metadata": {},
          "output_type": "display_data"
        }
      ],
      "source": [
        "display(data_all.isna().sum(),\n",
        "data_ultra.isna().sum(),\n",
        "data_free.isna().sum())"
      ]
    },
    {
      "cell_type": "markdown",
      "id": "e31d8ede",
      "metadata": {
        "id": "e31d8ede"
      },
      "source": [
        "<div class='alert alert-info'>\n",
        "Cумма размерностей датафреймов равна размерности самого большого из загруженных, значит распределения произошли корректно. Также новые датафреймы были изучены на наличие пропусков, их не обнаружено\n",
        "</div>"
      ]
    },
    {
      "cell_type": "code",
      "execution_count": null,
      "id": "ed079df2",
      "metadata": {
        "id": "ed079df2"
      },
      "outputs": [],
      "source": [
        "def addlabels(x,y):\n",
        "    for i in range(len(x)):\n",
        "        plt.text(i, round(y[i] // 2, 2), round(y[i],2), ha = 'center')"
      ]
    },
    {
      "cell_type": "code",
      "execution_count": null,
      "id": "3bd7f8cd",
      "metadata": {
        "id": "3bd7f8cd",
        "outputId": "38d1eb03-f66f-4610-8156-76f57b3de002"
      },
      "outputs": [
        {
          "data": {
            "text/html": [
              "<div>\n",
              "<style scoped>\n",
              "    .dataframe tbody tr th:only-of-type {\n",
              "        vertical-align: middle;\n",
              "    }\n",
              "\n",
              "    .dataframe tbody tr th {\n",
              "        vertical-align: top;\n",
              "    }\n",
              "\n",
              "    .dataframe thead th {\n",
              "        text-align: right;\n",
              "    }\n",
              "</style>\n",
              "<table border=\"1\" class=\"dataframe\">\n",
              "  <thead>\n",
              "    <tr style=\"text-align: right;\">\n",
              "      <th></th>\n",
              "      <th>subscription_type</th>\n",
              "      <th>distance</th>\n",
              "    </tr>\n",
              "  </thead>\n",
              "  <tbody>\n",
              "    <tr>\n",
              "      <th>0</th>\n",
              "      <td>free</td>\n",
              "      <td>3045.495282</td>\n",
              "    </tr>\n",
              "    <tr>\n",
              "      <th>1</th>\n",
              "      <td>ultra</td>\n",
              "      <td>3115.445388</td>\n",
              "    </tr>\n",
              "  </tbody>\n",
              "</table>\n",
              "</div>"
            ],
            "text/plain": [
              "  subscription_type     distance\n",
              "0              free  3045.495282\n",
              "1             ultra  3115.445388"
            ]
          },
          "execution_count": 38,
          "metadata": {},
          "output_type": "execute_result"
        },
        {
          "data": {
            "image/png": "[encoded data removed]",
            "text/plain": [
              "<Figure size 432x288 with 1 Axes>"
            ]
          },
          "metadata": {
            "needs_background": "light"
          },
          "output_type": "display_data"
        }
      ],
      "source": [
        "data_distance_pivot = (data_all.pivot_table(index = 'subscription_type', values = 'distance', aggfunc = 'mean').\n",
        "                  reset_index())\n",
        "plt.bar(data_distance_pivot['subscription_type'], data_distance_pivot['distance'], color = 'b', alpha = 0.3)\n",
        "plt.title('Среднее расстояние пользователей по подпискам')\n",
        "plt.ylabel('Среднее расстояние')\n",
        "plt.xlabel('Тип подписки')\n",
        "addlabels(data_distance_pivot['subscription_type'], data_distance_pivot['distance'])\n",
        "data_distance_pivot"
      ]
    },
    {
      "cell_type": "markdown",
      "id": "64172f68",
      "metadata": {
        "id": "64172f68"
      },
      "source": [
        "**Пользователи с подпиской проезжают большее расстояние, чем без подписки.**"
      ]
    },
    {
      "cell_type": "code",
      "execution_count": null,
      "id": "f7d833f4",
      "metadata": {
        "id": "f7d833f4",
        "outputId": "df33829d-e5d6-4ea5-9d68-40570ef35948"
      },
      "outputs": [
        {
          "data": {
            "text/html": [
              "<div>\n",
              "<style scoped>\n",
              "    .dataframe tbody tr th:only-of-type {\n",
              "        vertical-align: middle;\n",
              "    }\n",
              "\n",
              "    .dataframe tbody tr th {\n",
              "        vertical-align: top;\n",
              "    }\n",
              "\n",
              "    .dataframe thead th {\n",
              "        text-align: right;\n",
              "    }\n",
              "</style>\n",
              "<table border=\"1\" class=\"dataframe\">\n",
              "  <thead>\n",
              "    <tr style=\"text-align: right;\">\n",
              "      <th></th>\n",
              "      <th>subscription_type</th>\n",
              "      <th>duration</th>\n",
              "    </tr>\n",
              "  </thead>\n",
              "  <tbody>\n",
              "    <tr>\n",
              "      <th>0</th>\n",
              "      <td>free</td>\n",
              "      <td>17.390909</td>\n",
              "    </tr>\n",
              "    <tr>\n",
              "      <th>1</th>\n",
              "      <td>ultra</td>\n",
              "      <td>18.541985</td>\n",
              "    </tr>\n",
              "  </tbody>\n",
              "</table>\n",
              "</div>"
            ],
            "text/plain": [
              "  subscription_type   duration\n",
              "0              free  17.390909\n",
              "1             ultra  18.541985"
            ]
          },
          "execution_count": 39,
          "metadata": {},
          "output_type": "execute_result"
        },
        {
          "data": {
            "image/png": "[encoded data removed]",
            "text/plain": [
              "<Figure size 432x288 with 1 Axes>"
            ]
          },
          "metadata": {
            "needs_background": "light"
          },
          "output_type": "display_data"
        }
      ],
      "source": [
        "data_time_pivot = (data_all.pivot_table(index = 'subscription_type', values = 'duration', aggfunc = 'mean').\n",
        "                  reset_index())\n",
        "plt.bar(data_time_pivot['subscription_type'], data_time_pivot['duration'], color = 'b', alpha = 0.3)\n",
        "plt.title('Среднее время пользователей по подпискам')\n",
        "plt.ylabel('Среднее время в минутах')\n",
        "plt.xlabel('Тип подписки')\n",
        "addlabels(data_time_pivot['subscription_type'], data_time_pivot['duration'])\n",
        "data_time_pivot"
      ]
    },
    {
      "cell_type": "markdown",
      "id": "c6c27221",
      "metadata": {
        "id": "c6c27221"
      },
      "source": [
        "**Пользователи с подпиской также тратят больше времени на поездки, чем без подписки.**"
      ]
    },
    {
      "cell_type": "code",
      "execution_count": null,
      "id": "bdd74838",
      "metadata": {
        "id": "bdd74838",
        "outputId": "c65cedc8-2343-4f88-f54c-49c34a2b83f4"
      },
      "outputs": [
        {
          "data": {
            "text/plain": [
              "'Статистика пользователей с подпиской'"
            ]
          },
          "metadata": {},
          "output_type": "display_data"
        },
        {
          "data": {
            "text/html": [
              "<div>\n",
              "<style scoped>\n",
              "    .dataframe tbody tr th:only-of-type {\n",
              "        vertical-align: middle;\n",
              "    }\n",
              "\n",
              "    .dataframe tbody tr th {\n",
              "        vertical-align: top;\n",
              "    }\n",
              "\n",
              "    .dataframe thead th {\n",
              "        text-align: right;\n",
              "    }\n",
              "</style>\n",
              "<table border=\"1\" class=\"dataframe\">\n",
              "  <thead>\n",
              "    <tr style=\"text-align: right;\">\n",
              "      <th></th>\n",
              "      <th>distance</th>\n",
              "      <th>duration</th>\n",
              "    </tr>\n",
              "  </thead>\n",
              "  <tbody>\n",
              "    <tr>\n",
              "      <th>count</th>\n",
              "      <td>6500.00</td>\n",
              "      <td>6500.00</td>\n",
              "    </tr>\n",
              "    <tr>\n",
              "      <th>mean</th>\n",
              "      <td>3115.45</td>\n",
              "      <td>18.54</td>\n",
              "    </tr>\n",
              "    <tr>\n",
              "      <th>std</th>\n",
              "      <td>836.90</td>\n",
              "      <td>5.57</td>\n",
              "    </tr>\n",
              "    <tr>\n",
              "      <th>min</th>\n",
              "      <td>244.21</td>\n",
              "      <td>3.76</td>\n",
              "    </tr>\n",
              "    <tr>\n",
              "      <th>25%</th>\n",
              "      <td>2785.44</td>\n",
              "      <td>14.52</td>\n",
              "    </tr>\n",
              "    <tr>\n",
              "      <th>50%</th>\n",
              "      <td>3148.64</td>\n",
              "      <td>18.18</td>\n",
              "    </tr>\n",
              "    <tr>\n",
              "      <th>75%</th>\n",
              "      <td>3560.57</td>\n",
              "      <td>21.88</td>\n",
              "    </tr>\n",
              "    <tr>\n",
              "      <th>max</th>\n",
              "      <td>5699.77</td>\n",
              "      <td>40.82</td>\n",
              "    </tr>\n",
              "  </tbody>\n",
              "</table>\n",
              "</div>"
            ],
            "text/plain": [
              "       distance  duration\n",
              "count   6500.00   6500.00\n",
              "mean    3115.45     18.54\n",
              "std      836.90      5.57\n",
              "min      244.21      3.76\n",
              "25%     2785.44     14.52\n",
              "50%     3148.64     18.18\n",
              "75%     3560.57     21.88\n",
              "max     5699.77     40.82"
            ]
          },
          "metadata": {},
          "output_type": "display_data"
        },
        {
          "data": {
            "text/plain": [
              "'Cтатистика пользователей без подписки'"
            ]
          },
          "metadata": {},
          "output_type": "display_data"
        },
        {
          "data": {
            "text/html": [
              "<div>\n",
              "<style scoped>\n",
              "    .dataframe tbody tr th:only-of-type {\n",
              "        vertical-align: middle;\n",
              "    }\n",
              "\n",
              "    .dataframe tbody tr th {\n",
              "        vertical-align: top;\n",
              "    }\n",
              "\n",
              "    .dataframe thead th {\n",
              "        text-align: right;\n",
              "    }\n",
              "</style>\n",
              "<table border=\"1\" class=\"dataframe\">\n",
              "  <thead>\n",
              "    <tr style=\"text-align: right;\">\n",
              "      <th></th>\n",
              "      <th>distance</th>\n",
              "      <th>duration</th>\n",
              "    </tr>\n",
              "  </thead>\n",
              "  <tbody>\n",
              "    <tr>\n",
              "      <th>count</th>\n",
              "      <td>11568.00</td>\n",
              "      <td>11568.00</td>\n",
              "    </tr>\n",
              "    <tr>\n",
              "      <th>mean</th>\n",
              "      <td>3045.50</td>\n",
              "      <td>17.39</td>\n",
              "    </tr>\n",
              "    <tr>\n",
              "      <th>std</th>\n",
              "      <td>1246.17</td>\n",
              "      <td>6.33</td>\n",
              "    </tr>\n",
              "    <tr>\n",
              "      <th>min</th>\n",
              "      <td>0.86</td>\n",
              "      <td>0.50</td>\n",
              "    </tr>\n",
              "    <tr>\n",
              "      <th>25%</th>\n",
              "      <td>2366.56</td>\n",
              "      <td>12.96</td>\n",
              "    </tr>\n",
              "    <tr>\n",
              "      <th>50%</th>\n",
              "      <td>3114.65</td>\n",
              "      <td>17.33</td>\n",
              "    </tr>\n",
              "    <tr>\n",
              "      <th>75%</th>\n",
              "      <td>3905.70</td>\n",
              "      <td>21.59</td>\n",
              "    </tr>\n",
              "    <tr>\n",
              "      <th>max</th>\n",
              "      <td>7211.01</td>\n",
              "      <td>34.95</td>\n",
              "    </tr>\n",
              "  </tbody>\n",
              "</table>\n",
              "</div>"
            ],
            "text/plain": [
              "       distance  duration\n",
              "count  11568.00  11568.00\n",
              "mean    3045.50     17.39\n",
              "std     1246.17      6.33\n",
              "min        0.86      0.50\n",
              "25%     2366.56     12.96\n",
              "50%     3114.65     17.33\n",
              "75%     3905.70     21.59\n",
              "max     7211.01     34.95"
            ]
          },
          "metadata": {},
          "output_type": "display_data"
        }
      ],
      "source": [
        "display('Статистика пользователей с подпиской', round(data_ultra[['distance', 'duration']].describe(), 2),\n",
        "        'Cтатистика пользователей без подписки', round(data_free[['distance', 'duration']].describe(), 2))"
      ]
    },
    {
      "cell_type": "markdown",
      "id": "5f3db042",
      "metadata": {
        "id": "5f3db042"
      },
      "source": [
        "<div class='alert alert-info'>\n",
        "Из выведенной статистики можно сказать, что у пользователей с подпиской в основном дорога составляет от 2785 до 3560 метров, что занимает от 14 до 21 минуты. В свою очередь в людей без подписки интервал дистанции шире от 2366 до 3900 и на это они тратят в основном от 13 до 22 минут.\n",
        "</div>"
      ]
    },
    {
      "cell_type": "markdown",
      "id": "402d620f",
      "metadata": {
        "id": "402d620f"
      },
      "source": [
        "#### Шаг 5. Подсчёт выручки"
      ]
    },
    {
      "cell_type": "code",
      "execution_count": null,
      "id": "10dcf7a7",
      "metadata": {
        "id": "10dcf7a7",
        "outputId": "9a9f572a-7b12-4392-c701-3de19c91feeb"
      },
      "outputs": [
        {
          "data": {
            "text/html": [
              "<div>\n",
              "<style scoped>\n",
              "    .dataframe tbody tr th:only-of-type {\n",
              "        vertical-align: middle;\n",
              "    }\n",
              "\n",
              "    .dataframe tbody tr th {\n",
              "        vertical-align: top;\n",
              "    }\n",
              "\n",
              "    .dataframe thead th {\n",
              "        text-align: right;\n",
              "    }\n",
              "</style>\n",
              "<table border=\"1\" class=\"dataframe\">\n",
              "  <thead>\n",
              "    <tr style=\"text-align: right;\">\n",
              "      <th></th>\n",
              "      <th>user_id</th>\n",
              "      <th>name</th>\n",
              "      <th>age</th>\n",
              "      <th>city</th>\n",
              "      <th>subscription_type</th>\n",
              "      <th>distance</th>\n",
              "      <th>duration</th>\n",
              "      <th>date</th>\n",
              "      <th>month</th>\n",
              "      <th>minute_price</th>\n",
              "      <th>start_ride_price</th>\n",
              "      <th>subscription_fee</th>\n",
              "    </tr>\n",
              "  </thead>\n",
              "  <tbody>\n",
              "    <tr>\n",
              "      <th>0</th>\n",
              "      <td>1</td>\n",
              "      <td>Кира</td>\n",
              "      <td>22</td>\n",
              "      <td>Тюмень</td>\n",
              "      <td>ultra</td>\n",
              "      <td>4409.919140</td>\n",
              "      <td>25.599769</td>\n",
              "      <td>2021-01-01</td>\n",
              "      <td>1</td>\n",
              "      <td>6</td>\n",
              "      <td>0</td>\n",
              "      <td>199</td>\n",
              "    </tr>\n",
              "    <tr>\n",
              "      <th>1</th>\n",
              "      <td>1</td>\n",
              "      <td>Кира</td>\n",
              "      <td>22</td>\n",
              "      <td>Тюмень</td>\n",
              "      <td>ultra</td>\n",
              "      <td>2617.592153</td>\n",
              "      <td>15.816871</td>\n",
              "      <td>2021-01-18</td>\n",
              "      <td>1</td>\n",
              "      <td>6</td>\n",
              "      <td>0</td>\n",
              "      <td>199</td>\n",
              "    </tr>\n",
              "    <tr>\n",
              "      <th>2</th>\n",
              "      <td>1</td>\n",
              "      <td>Кира</td>\n",
              "      <td>22</td>\n",
              "      <td>Тюмень</td>\n",
              "      <td>ultra</td>\n",
              "      <td>754.159807</td>\n",
              "      <td>6.232113</td>\n",
              "      <td>2021-04-20</td>\n",
              "      <td>4</td>\n",
              "      <td>6</td>\n",
              "      <td>0</td>\n",
              "      <td>199</td>\n",
              "    </tr>\n",
              "    <tr>\n",
              "      <th>3</th>\n",
              "      <td>1</td>\n",
              "      <td>Кира</td>\n",
              "      <td>22</td>\n",
              "      <td>Тюмень</td>\n",
              "      <td>ultra</td>\n",
              "      <td>2694.783254</td>\n",
              "      <td>18.511000</td>\n",
              "      <td>2021-08-11</td>\n",
              "      <td>8</td>\n",
              "      <td>6</td>\n",
              "      <td>0</td>\n",
              "      <td>199</td>\n",
              "    </tr>\n",
              "    <tr>\n",
              "      <th>4</th>\n",
              "      <td>1</td>\n",
              "      <td>Кира</td>\n",
              "      <td>22</td>\n",
              "      <td>Тюмень</td>\n",
              "      <td>ultra</td>\n",
              "      <td>4028.687306</td>\n",
              "      <td>26.265803</td>\n",
              "      <td>2021-08-28</td>\n",
              "      <td>8</td>\n",
              "      <td>6</td>\n",
              "      <td>0</td>\n",
              "      <td>199</td>\n",
              "    </tr>\n",
              "  </tbody>\n",
              "</table>\n",
              "</div>"
            ],
            "text/plain": [
              "   user_id  name  age    city subscription_type     distance   duration  \\\n",
              "0        1  Кира   22  Тюмень             ultra  4409.919140  25.599769   \n",
              "1        1  Кира   22  Тюмень             ultra  2617.592153  15.816871   \n",
              "2        1  Кира   22  Тюмень             ultra   754.159807   6.232113   \n",
              "3        1  Кира   22  Тюмень             ultra  2694.783254  18.511000   \n",
              "4        1  Кира   22  Тюмень             ultra  4028.687306  26.265803   \n",
              "\n",
              "        date  month  minute_price  start_ride_price  subscription_fee  \n",
              "0 2021-01-01      1             6                 0               199  \n",
              "1 2021-01-18      1             6                 0               199  \n",
              "2 2021-04-20      4             6                 0               199  \n",
              "3 2021-08-11      8             6                 0               199  \n",
              "4 2021-08-28      8             6                 0               199  "
            ]
          },
          "execution_count": 41,
          "metadata": {},
          "output_type": "execute_result"
        }
      ],
      "source": [
        "data_ultra.head()"
      ]
    },
    {
      "cell_type": "code",
      "execution_count": null,
      "id": "53049e0a",
      "metadata": {
        "id": "53049e0a",
        "outputId": "9cb6b111-328d-40fc-c24b-a8cabee34ac8"
      },
      "outputs": [
        {
          "name": "stderr",
          "output_type": "stream",
          "text": [
            "/opt/conda/lib/python3.9/site-packages/pandas/core/indexing.py:1787: SettingWithCopyWarning: \n",
            "A value is trying to be set on a copy of a slice from a DataFrame.\n",
            "Try using .loc[row_indexer,col_indexer] = value instead\n",
            "\n",
            "See the caveats in the documentation: https://pandas.pydata.org/pandas-docs/stable/user_guide/indexing.html#returning-a-view-versus-a-copy\n",
            "  self._setitem_single_column(loc, val, pi)\n"
          ]
        },
        {
          "data": {
            "text/html": [
              "<div>\n",
              "<style scoped>\n",
              "    .dataframe tbody tr th:only-of-type {\n",
              "        vertical-align: middle;\n",
              "    }\n",
              "\n",
              "    .dataframe tbody tr th {\n",
              "        vertical-align: top;\n",
              "    }\n",
              "\n",
              "    .dataframe thead th {\n",
              "        text-align: right;\n",
              "    }\n",
              "</style>\n",
              "<table border=\"1\" class=\"dataframe\">\n",
              "  <thead>\n",
              "    <tr style=\"text-align: right;\">\n",
              "      <th></th>\n",
              "      <th>user_id</th>\n",
              "      <th>month</th>\n",
              "      <th>distance</th>\n",
              "      <th>trips</th>\n",
              "      <th>duration</th>\n",
              "    </tr>\n",
              "  </thead>\n",
              "  <tbody>\n",
              "    <tr>\n",
              "      <th>0</th>\n",
              "      <td>1</td>\n",
              "      <td>1</td>\n",
              "      <td>7028.0</td>\n",
              "      <td>2</td>\n",
              "      <td>42.0</td>\n",
              "    </tr>\n",
              "    <tr>\n",
              "      <th>1</th>\n",
              "      <td>1</td>\n",
              "      <td>4</td>\n",
              "      <td>755.0</td>\n",
              "      <td>1</td>\n",
              "      <td>7.0</td>\n",
              "    </tr>\n",
              "    <tr>\n",
              "      <th>2</th>\n",
              "      <td>1</td>\n",
              "      <td>8</td>\n",
              "      <td>6724.0</td>\n",
              "      <td>2</td>\n",
              "      <td>46.0</td>\n",
              "    </tr>\n",
              "    <tr>\n",
              "      <th>3</th>\n",
              "      <td>1</td>\n",
              "      <td>10</td>\n",
              "      <td>5811.0</td>\n",
              "      <td>2</td>\n",
              "      <td>32.0</td>\n",
              "    </tr>\n",
              "    <tr>\n",
              "      <th>4</th>\n",
              "      <td>1</td>\n",
              "      <td>11</td>\n",
              "      <td>7005.0</td>\n",
              "      <td>3</td>\n",
              "      <td>56.0</td>\n",
              "    </tr>\n",
              "    <tr>\n",
              "      <th>...</th>\n",
              "      <td>...</td>\n",
              "      <td>...</td>\n",
              "      <td>...</td>\n",
              "      <td>...</td>\n",
              "      <td>...</td>\n",
              "    </tr>\n",
              "    <tr>\n",
              "      <th>4528</th>\n",
              "      <td>699</td>\n",
              "      <td>6</td>\n",
              "      <td>4073.0</td>\n",
              "      <td>1</td>\n",
              "      <td>17.0</td>\n",
              "    </tr>\n",
              "    <tr>\n",
              "      <th>4529</th>\n",
              "      <td>699</td>\n",
              "      <td>8</td>\n",
              "      <td>7020.0</td>\n",
              "      <td>2</td>\n",
              "      <td>45.0</td>\n",
              "    </tr>\n",
              "    <tr>\n",
              "      <th>4530</th>\n",
              "      <td>699</td>\n",
              "      <td>9</td>\n",
              "      <td>6366.0</td>\n",
              "      <td>2</td>\n",
              "      <td>31.0</td>\n",
              "    </tr>\n",
              "    <tr>\n",
              "      <th>4531</th>\n",
              "      <td>699</td>\n",
              "      <td>10</td>\n",
              "      <td>4708.0</td>\n",
              "      <td>1</td>\n",
              "      <td>16.0</td>\n",
              "    </tr>\n",
              "    <tr>\n",
              "      <th>4532</th>\n",
              "      <td>699</td>\n",
              "      <td>12</td>\n",
              "      <td>3203.0</td>\n",
              "      <td>1</td>\n",
              "      <td>26.0</td>\n",
              "    </tr>\n",
              "  </tbody>\n",
              "</table>\n",
              "<p>4533 rows × 5 columns</p>\n",
              "</div>"
            ],
            "text/plain": [
              "      user_id  month  distance  trips  duration\n",
              "0           1      1    7028.0      2      42.0\n",
              "1           1      4     755.0      1       7.0\n",
              "2           1      8    6724.0      2      46.0\n",
              "3           1     10    5811.0      2      32.0\n",
              "4           1     11    7005.0      3      56.0\n",
              "...       ...    ...       ...    ...       ...\n",
              "4528      699      6    4073.0      1      17.0\n",
              "4529      699      8    7020.0      2      45.0\n",
              "4530      699      9    6366.0      2      31.0\n",
              "4531      699     10    4708.0      1      16.0\n",
              "4532      699     12    3203.0      1      26.0\n",
              "\n",
              "[4533 rows x 5 columns]"
            ]
          },
          "execution_count": 42,
          "metadata": {},
          "output_type": "execute_result"
        }
      ],
      "source": [
        "data_ultra_price = data_ultra\n",
        "data_ultra_price.loc[:, ['distance', 'duration']] =np.ceil(data_ultra_price.loc[:, ['distance', 'duration']])\n",
        "data_aggregated_ultra  = data_ultra_price.groupby(['user_id', 'month']).agg({\n",
        "    'distance': 'sum',\n",
        "    'city': 'count',\n",
        "    'duration': 'sum'\n",
        "}).reset_index().rename(columns = {'city':'trips'})\n",
        "data_aggregated_ultra['duration'] = np.ceil(data_aggregated_ultra['duration'])\n",
        "data_aggregated_ultra"
      ]
    },
    {
      "cell_type": "code",
      "execution_count": null,
      "id": "72e76e4e",
      "metadata": {
        "id": "72e76e4e",
        "outputId": "9c7c1898-0809-4de4-ff3e-2fef645fad93"
      },
      "outputs": [
        {
          "data": {
            "text/plain": [
              "user_id     0\n",
              "month       0\n",
              "distance    0\n",
              "trips       0\n",
              "duration    0\n",
              "dtype: int64"
            ]
          },
          "execution_count": 43,
          "metadata": {},
          "output_type": "execute_result"
        }
      ],
      "source": [
        "data_aggregated_ultra.isna().sum()"
      ]
    },
    {
      "cell_type": "code",
      "execution_count": null,
      "id": "b50cf7c8",
      "metadata": {
        "id": "b50cf7c8",
        "outputId": "e033b53d-806a-4564-ce8f-5c0629eac268"
      },
      "outputs": [
        {
          "name": "stderr",
          "output_type": "stream",
          "text": [
            "/opt/conda/lib/python3.9/site-packages/pandas/core/indexing.py:1787: SettingWithCopyWarning: \n",
            "A value is trying to be set on a copy of a slice from a DataFrame.\n",
            "Try using .loc[row_indexer,col_indexer] = value instead\n",
            "\n",
            "See the caveats in the documentation: https://pandas.pydata.org/pandas-docs/stable/user_guide/indexing.html#returning-a-view-versus-a-copy\n",
            "  self._setitem_single_column(loc, val, pi)\n"
          ]
        },
        {
          "data": {
            "text/html": [
              "<div>\n",
              "<style scoped>\n",
              "    .dataframe tbody tr th:only-of-type {\n",
              "        vertical-align: middle;\n",
              "    }\n",
              "\n",
              "    .dataframe tbody tr th {\n",
              "        vertical-align: top;\n",
              "    }\n",
              "\n",
              "    .dataframe thead th {\n",
              "        text-align: right;\n",
              "    }\n",
              "</style>\n",
              "<table border=\"1\" class=\"dataframe\">\n",
              "  <thead>\n",
              "    <tr style=\"text-align: right;\">\n",
              "      <th></th>\n",
              "      <th>user_id</th>\n",
              "      <th>month</th>\n",
              "      <th>distance</th>\n",
              "      <th>trips</th>\n",
              "      <th>duration</th>\n",
              "    </tr>\n",
              "  </thead>\n",
              "  <tbody>\n",
              "    <tr>\n",
              "      <th>0</th>\n",
              "      <td>700</td>\n",
              "      <td>1</td>\n",
              "      <td>2516.0</td>\n",
              "      <td>1</td>\n",
              "      <td>15.0</td>\n",
              "    </tr>\n",
              "    <tr>\n",
              "      <th>1</th>\n",
              "      <td>700</td>\n",
              "      <td>2</td>\n",
              "      <td>13449.0</td>\n",
              "      <td>5</td>\n",
              "      <td>89.0</td>\n",
              "    </tr>\n",
              "    <tr>\n",
              "      <th>2</th>\n",
              "      <td>700</td>\n",
              "      <td>3</td>\n",
              "      <td>3799.0</td>\n",
              "      <td>1</td>\n",
              "      <td>19.0</td>\n",
              "    </tr>\n",
              "    <tr>\n",
              "      <th>3</th>\n",
              "      <td>700</td>\n",
              "      <td>4</td>\n",
              "      <td>2985.0</td>\n",
              "      <td>1</td>\n",
              "      <td>16.0</td>\n",
              "    </tr>\n",
              "    <tr>\n",
              "      <th>4</th>\n",
              "      <td>700</td>\n",
              "      <td>6</td>\n",
              "      <td>5929.0</td>\n",
              "      <td>2</td>\n",
              "      <td>29.0</td>\n",
              "    </tr>\n",
              "    <tr>\n",
              "      <th>...</th>\n",
              "      <td>...</td>\n",
              "      <td>...</td>\n",
              "      <td>...</td>\n",
              "      <td>...</td>\n",
              "      <td>...</td>\n",
              "    </tr>\n",
              "    <tr>\n",
              "      <th>6793</th>\n",
              "      <td>1534</td>\n",
              "      <td>6</td>\n",
              "      <td>3411.0</td>\n",
              "      <td>2</td>\n",
              "      <td>26.0</td>\n",
              "    </tr>\n",
              "    <tr>\n",
              "      <th>6794</th>\n",
              "      <td>1534</td>\n",
              "      <td>8</td>\n",
              "      <td>7623.0</td>\n",
              "      <td>2</td>\n",
              "      <td>48.0</td>\n",
              "    </tr>\n",
              "    <tr>\n",
              "      <th>6795</th>\n",
              "      <td>1534</td>\n",
              "      <td>9</td>\n",
              "      <td>4929.0</td>\n",
              "      <td>1</td>\n",
              "      <td>23.0</td>\n",
              "    </tr>\n",
              "    <tr>\n",
              "      <th>6796</th>\n",
              "      <td>1534</td>\n",
              "      <td>11</td>\n",
              "      <td>13353.0</td>\n",
              "      <td>4</td>\n",
              "      <td>78.0</td>\n",
              "    </tr>\n",
              "    <tr>\n",
              "      <th>6797</th>\n",
              "      <td>1534</td>\n",
              "      <td>12</td>\n",
              "      <td>2372.0</td>\n",
              "      <td>1</td>\n",
              "      <td>16.0</td>\n",
              "    </tr>\n",
              "  </tbody>\n",
              "</table>\n",
              "<p>6798 rows × 5 columns</p>\n",
              "</div>"
            ],
            "text/plain": [
              "      user_id  month  distance  trips  duration\n",
              "0         700      1    2516.0      1      15.0\n",
              "1         700      2   13449.0      5      89.0\n",
              "2         700      3    3799.0      1      19.0\n",
              "3         700      4    2985.0      1      16.0\n",
              "4         700      6    5929.0      2      29.0\n",
              "...       ...    ...       ...    ...       ...\n",
              "6793     1534      6    3411.0      2      26.0\n",
              "6794     1534      8    7623.0      2      48.0\n",
              "6795     1534      9    4929.0      1      23.0\n",
              "6796     1534     11   13353.0      4      78.0\n",
              "6797     1534     12    2372.0      1      16.0\n",
              "\n",
              "[6798 rows x 5 columns]"
            ]
          },
          "execution_count": 44,
          "metadata": {},
          "output_type": "execute_result"
        }
      ],
      "source": [
        "data_free_price = data_free\n",
        "data_free_price.loc[:, ['distance', 'duration']] =np.ceil(data_free_price.loc[:, ['distance', 'duration']])\n",
        "data_aggregated_free  = data_free.groupby(['user_id', 'month']).agg({\n",
        "    'distance': 'sum',\n",
        "    'city': 'count',\n",
        "    'duration': 'sum'\n",
        "}).reset_index().rename(columns = {'city':'trips'})\n",
        "data_aggregated_free['duration'] = np.ceil(data_aggregated_free['duration'])\n",
        "data_aggregated_free"
      ]
    },
    {
      "cell_type": "code",
      "execution_count": null,
      "id": "b1bc8f24",
      "metadata": {
        "id": "b1bc8f24",
        "outputId": "d570be4c-5665-4772-d2cb-b64104d86b7d"
      },
      "outputs": [
        {
          "data": {
            "text/plain": [
              "user_id     0\n",
              "month       0\n",
              "distance    0\n",
              "trips       0\n",
              "duration    0\n",
              "dtype: int64"
            ]
          },
          "execution_count": 45,
          "metadata": {},
          "output_type": "execute_result"
        }
      ],
      "source": [
        "data_aggregated_free.isna().sum()"
      ]
    },
    {
      "cell_type": "code",
      "execution_count": null,
      "id": "366d21ed",
      "metadata": {
        "id": "366d21ed",
        "outputId": "8e11ae07-a299-472d-c0b6-d967cb77b31f"
      },
      "outputs": [
        {
          "data": {
            "text/html": [
              "<div>\n",
              "<style scoped>\n",
              "    .dataframe tbody tr th:only-of-type {\n",
              "        vertical-align: middle;\n",
              "    }\n",
              "\n",
              "    .dataframe tbody tr th {\n",
              "        vertical-align: top;\n",
              "    }\n",
              "\n",
              "    .dataframe thead th {\n",
              "        text-align: right;\n",
              "    }\n",
              "</style>\n",
              "<table border=\"1\" class=\"dataframe\">\n",
              "  <thead>\n",
              "    <tr style=\"text-align: right;\">\n",
              "      <th></th>\n",
              "      <th>subscription_type</th>\n",
              "      <th>minute_price</th>\n",
              "      <th>start_ride_price</th>\n",
              "      <th>subscription_fee</th>\n",
              "    </tr>\n",
              "  </thead>\n",
              "  <tbody>\n",
              "    <tr>\n",
              "      <th>0</th>\n",
              "      <td>free</td>\n",
              "      <td>8</td>\n",
              "      <td>50</td>\n",
              "      <td>0</td>\n",
              "    </tr>\n",
              "    <tr>\n",
              "      <th>1</th>\n",
              "      <td>ultra</td>\n",
              "      <td>6</td>\n",
              "      <td>0</td>\n",
              "      <td>199</td>\n",
              "    </tr>\n",
              "  </tbody>\n",
              "</table>\n",
              "</div>"
            ],
            "text/plain": [
              "  subscription_type  minute_price  start_ride_price  subscription_fee\n",
              "0              free             8                50                 0\n",
              "1             ultra             6                 0               199"
            ]
          },
          "execution_count": 46,
          "metadata": {},
          "output_type": "execute_result"
        }
      ],
      "source": [
        "data_subscriptions.head()"
      ]
    },
    {
      "cell_type": "code",
      "execution_count": null,
      "id": "61227ff7",
      "metadata": {
        "id": "61227ff7",
        "outputId": "fff618f5-2b5a-4c95-fcc2-dbfbad0f5882"
      },
      "outputs": [
        {
          "data": {
            "text/html": [
              "<div>\n",
              "<style scoped>\n",
              "    .dataframe tbody tr th:only-of-type {\n",
              "        vertical-align: middle;\n",
              "    }\n",
              "\n",
              "    .dataframe tbody tr th {\n",
              "        vertical-align: top;\n",
              "    }\n",
              "\n",
              "    .dataframe thead th {\n",
              "        text-align: right;\n",
              "    }\n",
              "</style>\n",
              "<table border=\"1\" class=\"dataframe\">\n",
              "  <thead>\n",
              "    <tr style=\"text-align: right;\">\n",
              "      <th></th>\n",
              "      <th>user_id</th>\n",
              "      <th>month</th>\n",
              "      <th>distance</th>\n",
              "      <th>trips</th>\n",
              "      <th>duration</th>\n",
              "      <th>price</th>\n",
              "    </tr>\n",
              "  </thead>\n",
              "  <tbody>\n",
              "    <tr>\n",
              "      <th>0</th>\n",
              "      <td>1</td>\n",
              "      <td>1</td>\n",
              "      <td>7028.0</td>\n",
              "      <td>2</td>\n",
              "      <td>42.0</td>\n",
              "      <td>451.0</td>\n",
              "    </tr>\n",
              "    <tr>\n",
              "      <th>1</th>\n",
              "      <td>1</td>\n",
              "      <td>4</td>\n",
              "      <td>755.0</td>\n",
              "      <td>1</td>\n",
              "      <td>7.0</td>\n",
              "      <td>241.0</td>\n",
              "    </tr>\n",
              "    <tr>\n",
              "      <th>2</th>\n",
              "      <td>1</td>\n",
              "      <td>8</td>\n",
              "      <td>6724.0</td>\n",
              "      <td>2</td>\n",
              "      <td>46.0</td>\n",
              "      <td>475.0</td>\n",
              "    </tr>\n",
              "    <tr>\n",
              "      <th>3</th>\n",
              "      <td>1</td>\n",
              "      <td>10</td>\n",
              "      <td>5811.0</td>\n",
              "      <td>2</td>\n",
              "      <td>32.0</td>\n",
              "      <td>391.0</td>\n",
              "    </tr>\n",
              "    <tr>\n",
              "      <th>4</th>\n",
              "      <td>1</td>\n",
              "      <td>11</td>\n",
              "      <td>7005.0</td>\n",
              "      <td>3</td>\n",
              "      <td>56.0</td>\n",
              "      <td>535.0</td>\n",
              "    </tr>\n",
              "    <tr>\n",
              "      <th>...</th>\n",
              "      <td>...</td>\n",
              "      <td>...</td>\n",
              "      <td>...</td>\n",
              "      <td>...</td>\n",
              "      <td>...</td>\n",
              "      <td>...</td>\n",
              "    </tr>\n",
              "    <tr>\n",
              "      <th>4528</th>\n",
              "      <td>699</td>\n",
              "      <td>6</td>\n",
              "      <td>4073.0</td>\n",
              "      <td>1</td>\n",
              "      <td>17.0</td>\n",
              "      <td>301.0</td>\n",
              "    </tr>\n",
              "    <tr>\n",
              "      <th>4529</th>\n",
              "      <td>699</td>\n",
              "      <td>8</td>\n",
              "      <td>7020.0</td>\n",
              "      <td>2</td>\n",
              "      <td>45.0</td>\n",
              "      <td>469.0</td>\n",
              "    </tr>\n",
              "    <tr>\n",
              "      <th>4530</th>\n",
              "      <td>699</td>\n",
              "      <td>9</td>\n",
              "      <td>6366.0</td>\n",
              "      <td>2</td>\n",
              "      <td>31.0</td>\n",
              "      <td>385.0</td>\n",
              "    </tr>\n",
              "    <tr>\n",
              "      <th>4531</th>\n",
              "      <td>699</td>\n",
              "      <td>10</td>\n",
              "      <td>4708.0</td>\n",
              "      <td>1</td>\n",
              "      <td>16.0</td>\n",
              "      <td>295.0</td>\n",
              "    </tr>\n",
              "    <tr>\n",
              "      <th>4532</th>\n",
              "      <td>699</td>\n",
              "      <td>12</td>\n",
              "      <td>3203.0</td>\n",
              "      <td>1</td>\n",
              "      <td>26.0</td>\n",
              "      <td>355.0</td>\n",
              "    </tr>\n",
              "  </tbody>\n",
              "</table>\n",
              "<p>4533 rows × 6 columns</p>\n",
              "</div>"
            ],
            "text/plain": [
              "      user_id  month  distance  trips  duration  price\n",
              "0           1      1    7028.0      2      42.0  451.0\n",
              "1           1      4     755.0      1       7.0  241.0\n",
              "2           1      8    6724.0      2      46.0  475.0\n",
              "3           1     10    5811.0      2      32.0  391.0\n",
              "4           1     11    7005.0      3      56.0  535.0\n",
              "...       ...    ...       ...    ...       ...    ...\n",
              "4528      699      6    4073.0      1      17.0  301.0\n",
              "4529      699      8    7020.0      2      45.0  469.0\n",
              "4530      699      9    6366.0      2      31.0  385.0\n",
              "4531      699     10    4708.0      1      16.0  295.0\n",
              "4532      699     12    3203.0      1      26.0  355.0\n",
              "\n",
              "[4533 rows x 6 columns]"
            ]
          },
          "execution_count": 47,
          "metadata": {},
          "output_type": "execute_result"
        }
      ],
      "source": [
        "data_aggregated_ultra['price'] = np.ceil(data_subscriptions.loc[1, 'subscription_fee'] +\n",
        "                                  data_subscriptions.loc[1, 'minute_price'] * data_aggregated_ultra['duration'])\n",
        "data_aggregated_ultra"
      ]
    },
    {
      "cell_type": "code",
      "execution_count": null,
      "id": "7d68a5a6",
      "metadata": {
        "id": "7d68a5a6",
        "outputId": "47ac88df-71b2-460b-a98f-e8749d26ea48"
      },
      "outputs": [
        {
          "data": {
            "text/html": [
              "<div>\n",
              "<style scoped>\n",
              "    .dataframe tbody tr th:only-of-type {\n",
              "        vertical-align: middle;\n",
              "    }\n",
              "\n",
              "    .dataframe tbody tr th {\n",
              "        vertical-align: top;\n",
              "    }\n",
              "\n",
              "    .dataframe thead th {\n",
              "        text-align: right;\n",
              "    }\n",
              "</style>\n",
              "<table border=\"1\" class=\"dataframe\">\n",
              "  <thead>\n",
              "    <tr style=\"text-align: right;\">\n",
              "      <th></th>\n",
              "      <th>user_id</th>\n",
              "      <th>month</th>\n",
              "      <th>distance</th>\n",
              "      <th>trips</th>\n",
              "      <th>duration</th>\n",
              "      <th>price</th>\n",
              "    </tr>\n",
              "  </thead>\n",
              "  <tbody>\n",
              "    <tr>\n",
              "      <th>0</th>\n",
              "      <td>700</td>\n",
              "      <td>1</td>\n",
              "      <td>2516.0</td>\n",
              "      <td>1</td>\n",
              "      <td>15.0</td>\n",
              "      <td>170.0</td>\n",
              "    </tr>\n",
              "    <tr>\n",
              "      <th>1</th>\n",
              "      <td>700</td>\n",
              "      <td>2</td>\n",
              "      <td>13449.0</td>\n",
              "      <td>5</td>\n",
              "      <td>89.0</td>\n",
              "      <td>962.0</td>\n",
              "    </tr>\n",
              "    <tr>\n",
              "      <th>2</th>\n",
              "      <td>700</td>\n",
              "      <td>3</td>\n",
              "      <td>3799.0</td>\n",
              "      <td>1</td>\n",
              "      <td>19.0</td>\n",
              "      <td>202.0</td>\n",
              "    </tr>\n",
              "    <tr>\n",
              "      <th>3</th>\n",
              "      <td>700</td>\n",
              "      <td>4</td>\n",
              "      <td>2985.0</td>\n",
              "      <td>1</td>\n",
              "      <td>16.0</td>\n",
              "      <td>178.0</td>\n",
              "    </tr>\n",
              "    <tr>\n",
              "      <th>4</th>\n",
              "      <td>700</td>\n",
              "      <td>6</td>\n",
              "      <td>5929.0</td>\n",
              "      <td>2</td>\n",
              "      <td>29.0</td>\n",
              "      <td>332.0</td>\n",
              "    </tr>\n",
              "    <tr>\n",
              "      <th>...</th>\n",
              "      <td>...</td>\n",
              "      <td>...</td>\n",
              "      <td>...</td>\n",
              "      <td>...</td>\n",
              "      <td>...</td>\n",
              "      <td>...</td>\n",
              "    </tr>\n",
              "    <tr>\n",
              "      <th>6793</th>\n",
              "      <td>1534</td>\n",
              "      <td>6</td>\n",
              "      <td>3411.0</td>\n",
              "      <td>2</td>\n",
              "      <td>26.0</td>\n",
              "      <td>308.0</td>\n",
              "    </tr>\n",
              "    <tr>\n",
              "      <th>6794</th>\n",
              "      <td>1534</td>\n",
              "      <td>8</td>\n",
              "      <td>7623.0</td>\n",
              "      <td>2</td>\n",
              "      <td>48.0</td>\n",
              "      <td>484.0</td>\n",
              "    </tr>\n",
              "    <tr>\n",
              "      <th>6795</th>\n",
              "      <td>1534</td>\n",
              "      <td>9</td>\n",
              "      <td>4929.0</td>\n",
              "      <td>1</td>\n",
              "      <td>23.0</td>\n",
              "      <td>234.0</td>\n",
              "    </tr>\n",
              "    <tr>\n",
              "      <th>6796</th>\n",
              "      <td>1534</td>\n",
              "      <td>11</td>\n",
              "      <td>13353.0</td>\n",
              "      <td>4</td>\n",
              "      <td>78.0</td>\n",
              "      <td>824.0</td>\n",
              "    </tr>\n",
              "    <tr>\n",
              "      <th>6797</th>\n",
              "      <td>1534</td>\n",
              "      <td>12</td>\n",
              "      <td>2372.0</td>\n",
              "      <td>1</td>\n",
              "      <td>16.0</td>\n",
              "      <td>178.0</td>\n",
              "    </tr>\n",
              "  </tbody>\n",
              "</table>\n",
              "<p>6798 rows × 6 columns</p>\n",
              "</div>"
            ],
            "text/plain": [
              "      user_id  month  distance  trips  duration  price\n",
              "0         700      1    2516.0      1      15.0  170.0\n",
              "1         700      2   13449.0      5      89.0  962.0\n",
              "2         700      3    3799.0      1      19.0  202.0\n",
              "3         700      4    2985.0      1      16.0  178.0\n",
              "4         700      6    5929.0      2      29.0  332.0\n",
              "...       ...    ...       ...    ...       ...    ...\n",
              "6793     1534      6    3411.0      2      26.0  308.0\n",
              "6794     1534      8    7623.0      2      48.0  484.0\n",
              "6795     1534      9    4929.0      1      23.0  234.0\n",
              "6796     1534     11   13353.0      4      78.0  824.0\n",
              "6797     1534     12    2372.0      1      16.0  178.0\n",
              "\n",
              "[6798 rows x 6 columns]"
            ]
          },
          "execution_count": 48,
          "metadata": {},
          "output_type": "execute_result"
        }
      ],
      "source": [
        "data_aggregated_free['price'] = np.ceil(data_subscriptions.loc[0, 'start_ride_price'] * data_aggregated_free['trips'] +\n",
        "                                  data_subscriptions.loc[0, 'minute_price'] * data_aggregated_free['duration'])\n",
        "data_aggregated_free"
      ]
    },
    {
      "cell_type": "code",
      "execution_count": null,
      "id": "62e172a0",
      "metadata": {
        "id": "62e172a0",
        "outputId": "ddcac3c7-4f51-42e2-9e74-ad265367ba3b"
      },
      "outputs": [
        {
          "data": {
            "text/plain": [
              "3878641.0"
            ]
          },
          "execution_count": 49,
          "metadata": {},
          "output_type": "execute_result"
        }
      ],
      "source": [
        "# check\n",
        "data_aggregated_free['price'].sum() + data_aggregated_ultra['price'].sum()"
      ]
    },
    {
      "cell_type": "code",
      "execution_count": null,
      "id": "d5f7d7de",
      "metadata": {
        "id": "d5f7d7de",
        "outputId": "7d7ccf97-138e-402a-b82e-a1733645ca69"
      },
      "outputs": [
        {
          "name": "stdout",
          "output_type": "stream",
          "text": [
            "Годовая выручка пользователей с подпиской:  1644537.0\n",
            "Выпучка компании за месяц в среднем за пользователя с подпиской  363\n"
          ]
        }
      ],
      "source": [
        "print('Годовая выручка пользователей с подпиской: ', data_aggregated_ultra['price'].sum())\n",
        "print('Выпучка компании за месяц в среднем за пользователя с подпиской ',\n",
        "      round(np.mean(data_aggregated_ultra.groupby('month')['price'].mean())))"
      ]
    },
    {
      "cell_type": "code",
      "execution_count": null,
      "id": "3e109329",
      "metadata": {
        "id": "3e109329",
        "outputId": "c24b870d-a7eb-4c71-a6f8-b531bdc04b4a"
      },
      "outputs": [
        {
          "name": "stdout",
          "output_type": "stream",
          "text": [
            "Годовая выручка пользователей без подписки:  2234104.0\n",
            "Выпучка компании за месяц в среднем за пользователя без подписки 329\n"
          ]
        }
      ],
      "source": [
        "print('Годовая выручка пользователей без подписки: ', data_aggregated_free['price'].sum())\n",
        "print('Выпучка компании за месяц в среднем за пользователя без подписки',\n",
        "      round(np.mean(data_aggregated_free.groupby('month')['price'].mean())))"
      ]
    },
    {
      "cell_type": "code",
      "execution_count": null,
      "id": "39c63f56",
      "metadata": {
        "id": "39c63f56",
        "outputId": "e34c358c-9c86-4131-deb5-1af6a56a5dae"
      },
      "outputs": [
        {
          "data": {
            "text/plain": [
              "2234104.0"
            ]
          },
          "execution_count": 52,
          "metadata": {},
          "output_type": "execute_result"
        }
      ],
      "source": [
        "data_aggregated_free['price'].sum()"
      ]
    },
    {
      "cell_type": "markdown",
      "id": "41545ac0",
      "metadata": {
        "id": "41545ac0"
      },
      "source": [
        "#### Шаг 6. Проверка гипотез"
      ]
    },
    {
      "cell_type": "markdown",
      "id": "c36b3d14",
      "metadata": {
        "id": "c36b3d14"
      },
      "source": [
        "##### Выгоднее ли пользователи с подпиской или нет"
      ]
    },
    {
      "cell_type": "markdown",
      "id": "61114f30",
      "metadata": {
        "id": "61114f30"
      },
      "source": [
        "<div class='alert alert-info'>\n",
        "Задаем гипотезу:\n",
        "\n",
        "\n",
        "H0: Средняя продолжительность поездок пользователей с подпиской не больше средней продолжительности поездок пользователей без подписки.\n",
        "\n",
        "\n",
        "H1: Средняя продолжительность поездок пользователей с подпиской больше средней продолжительности поездок пользователей без подписки.\n",
        "</div>"
      ]
    },
    {
      "cell_type": "code",
      "execution_count": null,
      "id": "23ea867b",
      "metadata": {
        "id": "23ea867b",
        "outputId": "ae1f980f-19f2-46d0-95be-1e8dc2d450da"
      },
      "outputs": [
        {
          "data": {
            "image/png": "[encoded data removed]",
            "text/plain": [
              "<Figure size 864x432 with 1 Axes>"
            ]
          },
          "metadata": {
            "needs_background": "light"
          },
          "output_type": "display_data"
        }
      ],
      "source": [
        "plt.figure(figsize=(12, 6))\n",
        "sns.histplot(data_ultra['duration'], kde=True, color='blue', label='С подпиской')\n",
        "sns.histplot(data_free['duration'], kde=True, color='red', label='Без подписки')\n",
        "plt.legend()\n",
        "plt.title('Распределение продолжительности поездок')\n",
        "plt.xlabel('Время')\n",
        "plt.ylabel('Частота')\n",
        "plt.show()"
      ]
    },
    {
      "cell_type": "code",
      "execution_count": null,
      "id": "f10d8b0b",
      "metadata": {
        "id": "f10d8b0b",
        "outputId": "8ea94a66-8202-4173-fa38-6a612dc8ff50"
      },
      "outputs": [
        {
          "name": "stdout",
          "output_type": "stream",
          "text": [
            "t-test statistic: 12.186464491247767\n",
            "p-value: 4.991890744147325e-34\n"
          ]
        }
      ],
      "source": [
        "# Проведение t-теста\n",
        "t_stat, p_val = ttest_ind(data_ultra['duration'], data_free['duration'])\n",
        "print('t-test statistic:', t_stat)\n",
        "print('p-value:', p_val)"
      ]
    },
    {
      "cell_type": "markdown",
      "id": "3c626ca1",
      "metadata": {
        "id": "3c626ca1"
      },
      "source": [
        "<div class='alert alert-info'>\n",
        "При p-значении\n",
        "2.5608196633291235e−34\n",
        "  мы можем отклонить нулевую гипотезу. Это свидетельствует о том, что полученные результаты являются статистически значимыми и нулевую гипотезу отвергаем.\n",
        "</div>"
      ]
    },
    {
      "cell_type": "code",
      "execution_count": null,
      "id": "b648d112",
      "metadata": {
        "id": "b648d112",
        "outputId": "476e0f63-76ca-4088-8b06-29bab695e9e2"
      },
      "outputs": [
        {
          "name": "stdout",
          "output_type": "stream",
          "text": [
            "Пользователи с подпиской тратят значительно больше cреднего времени на поездки.\n"
          ]
        }
      ],
      "source": [
        "if p_val < 0.05:\n",
        "    print(\"Пользователи с подпиской тратят значительно больше cреднего времени на поездки.\")\n",
        "else:\n",
        "    print(\"Нет значимых различий в среднем времени поездок между пользователями с подпиской и без.\")"
      ]
    },
    {
      "cell_type": "markdown",
      "id": "f69a38e6",
      "metadata": {
        "id": "f69a38e6"
      },
      "source": [
        "**Данный результат можно было ещё увидеть в пункте 4, на диграмме соотношения среднего времени. Отсюда можно сказать, что действительно пользователи с подпиской являются выгоднее для компании**"
      ]
    },
    {
      "cell_type": "markdown",
      "id": "4a4ac319",
      "metadata": {
        "id": "4a4ac319"
      },
      "source": [
        "##### Гипотеза про расстояние пользователей с подпиской"
      ]
    },
    {
      "cell_type": "code",
      "execution_count": null,
      "id": "4a077afa",
      "metadata": {
        "id": "4a077afa",
        "outputId": "c0a77e20-f77b-4a75-e7a9-1d42b62ac3de"
      },
      "outputs": [
        {
          "data": {
            "image/png": "[encoded data removed]",
            "text/plain": [
              "<Figure size 864x432 with 1 Axes>"
            ]
          },
          "metadata": {
            "needs_background": "light"
          },
          "output_type": "display_data"
        }
      ],
      "source": [
        "plt.figure(figsize=(12, 6))\n",
        "sns.histplot(data_ultra['distance'], kde=True, color='blue', label='C подпиской')\n",
        "sns.histplot(data_free['distance'], kde=True, color='red', label='Без подписки')\n",
        "plt.legend()\n",
        "plt.title('Распределение расстояния поездок')\n",
        "plt.xlabel('Время')\n",
        "plt.ylabel('Частота')\n",
        "plt.show()"
      ]
    },
    {
      "cell_type": "markdown",
      "id": "fec94199",
      "metadata": {
        "id": "fec94199"
      },
      "source": [
        "<div class='alert alert-info'>\n",
        "Задаем гипотезу:\n",
        "\n",
        "\n",
        "H0: Среднее расстояние, которое проезжают пользователи с подпиской, равно 3130 метров\n",
        "\n",
        "\n",
        "H1: Среднее расстояние, которое проезжают пользователи с подпиской, больше 3130 метров\n",
        "</div>"
      ]
    },
    {
      "cell_type": "code",
      "execution_count": null,
      "id": "1888287b",
      "metadata": {
        "scrolled": true,
        "id": "1888287b",
        "outputId": "c428e2c9-befd-42fe-c0f0-2879538ed8ee"
      },
      "outputs": [
        {
          "name": "stdout",
          "output_type": "stream",
          "text": [
            "t-test statistic: -1.353586112987382\n",
            "p-value (one-tailed): 0.9120422337080507\n"
          ]
        }
      ],
      "source": [
        "# Поскольку мы проводим односторонний тест, делим p-value на 2 и проверяем, если t_stat отрицательный\n",
        "print('t-test statistic:', t_stat)\n",
        "print('p-value (one-tailed):', p_val)"
      ]
    },
    {
      "cell_type": "code",
      "execution_count": null,
      "id": "1b6169ea",
      "metadata": {
        "scrolled": false,
        "id": "1b6169ea",
        "outputId": "14872817-27b3-4bc2-c545-421f9cb66d45"
      },
      "outputs": [
        {
          "name": "stdout",
          "output_type": "stream",
          "text": [
            "Нет оснований отвергать нулевую гипотезу, возможно среднее расстояние,\n",
            "    которое проезжают подписчики равно 3130 метров\n"
          ]
        }
      ],
      "source": [
        "# Интерпретация результата\n",
        "alpha = 0.05\n",
        "if p_val < alpha:\n",
        "    print('''Отвергаем нулевую гипотезу, среднее расстояние,\n",
        "          которое проезжают пользователи с подпиской, больше 3130 метров.''')\n",
        "else:\n",
        "    print('''Нет оснований отвергать нулевую гипотезу, возможно среднее расстояние,\n",
        "    которое проезжают подписчики равно 3130 метров''')"
      ]
    },
    {
      "cell_type": "markdown",
      "id": "e632ad9a",
      "metadata": {
        "id": "e632ad9a"
      },
      "source": [
        "<div class='alert alert-info'>\n",
        "По результатам проведенного статистического анализа нет оснований отвергать нулевую гипотезу. Это означает, что на основании имеющихся данных мы не можем утверждать, что среднее расстояние, которое проезжают пользователи с подпиской, больше 3130 метров. Следовательно, можно предположить, что среднее расстояние действительно равно 3130 метрам, или по крайней мере не отличается от него в статистически значимой степени.\n",
        "</div>"
      ]
    },
    {
      "cell_type": "markdown",
      "id": "7934cc89",
      "metadata": {
        "id": "7934cc89"
      },
      "source": [
        "##### Проверка гипотезы о цене"
      ]
    },
    {
      "cell_type": "markdown",
      "id": "8e715b45",
      "metadata": {
        "id": "8e715b45"
      },
      "source": [
        "<div class='alert alert-info'>\n",
        "Задаем гипотезы:\n",
        "\n",
        "H0: Средняя помесячная выручка от пользователей с подпиской не больше средней помесячной выручки от пользователей без подписки.\n",
        "\n",
        "\n",
        "H1: Средняя помесячная выручка от пользователей с подпиской больше средней помесячной выручки от пользователей без подписки.\n",
        "</div>"
      ]
    },
    {
      "cell_type": "code",
      "execution_count": null,
      "id": "3a4e8399",
      "metadata": {
        "id": "3a4e8399",
        "outputId": "a42e02a2-b47a-4b5a-8268-9b98d1a3d5cd"
      },
      "outputs": [
        {
          "data": {
            "image/png": "[encoded data removed]",
            "text/plain": [
              "<Figure size 864x432 with 1 Axes>"
            ]
          },
          "metadata": {
            "needs_background": "light"
          },
          "output_type": "display_data"
        }
      ],
      "source": [
        "plt.figure(figsize=(12, 6))\n",
        "sns.histplot(data_aggregated_ultra['price'], kde=True, color='blue', label='C подпиской')\n",
        "sns.histplot(data_aggregated_free['price'], kde=True, color='red', label='Без подписки')\n",
        "plt.legend()\n",
        "plt.title('Распределение цены поездок по месяцам')\n",
        "plt.xlabel('Цена')\n",
        "plt.ylabel('Частота')\n",
        "plt.show()"
      ]
    },
    {
      "cell_type": "code",
      "execution_count": null,
      "id": "b90e3cd4",
      "metadata": {
        "scrolled": true,
        "id": "b90e3cd4",
        "outputId": "d4925c2f-22ee-4e27-af5c-7bf5f4b65464"
      },
      "outputs": [
        {
          "name": "stdout",
          "output_type": "stream",
          "text": [
            "t-test statistic: 11.64246602360774\n",
            "p-value: 1.8850394384715216e-31\n",
            "Помесячная выручка от пользователей с подпиской значительно выше, чем выручка от пользователей без подписки.\n"
          ]
        }
      ],
      "source": [
        "# Проведение t-теста для независимых выборок\n",
        "t_stat, p_val = ttest_ind(data_aggregated_ultra['price'], data_aggregated_free['price'], alternative='greater')\n",
        "print('t-test statistic:', t_stat)\n",
        "print('p-value:', p_val)\n",
        "# Интерпретация результата\n",
        "alpha = 0.05\n",
        "if p_val < alpha:\n",
        "    print(\"Помесячная выручка от пользователей с подпиской значительно выше, чем выручка от пользователей без подписки.\")\n",
        "else:\n",
        "    print(\"Нет значимых различий в помесячной выручке между пользователями с подпиской и без.\")"
      ]
    },
    {
      "cell_type": "markdown",
      "id": "e78db08c",
      "metadata": {
        "id": "e78db08c"
      },
      "source": [
        "**Помесячная выручка от пользователей с подпиской значительно выше, чем выручка от пользователей без подписки. Это не отвергается статистически значимыми результатами t-теста, который показал, что средняя выручка от подписчиков существенно превышает среднюю выручку от пользователей без подписки. Данный результат свидетельствует о том, что пользователи с подпиской приносят компании больше дохода на регулярной основе по сравнению с пользователями без подписки.**"
      ]
    },
    {
      "cell_type": "markdown",
      "id": "869d484b",
      "metadata": {
        "id": "869d484b"
      },
      "source": [
        "##### Гипотеза про техническую поддержку"
      ]
    },
    {
      "cell_type": "markdown",
      "id": "0f71d0e6",
      "metadata": {
        "id": "0f71d0e6"
      },
      "source": [
        "**Для проверки гипотезы о том, что количество обращений в техподдержку снизилось после обновления серверов, потребуется использовать парный t-тест. Парный t-тест сравнивает средние значения двух зависимых выборок (в данном случае, количества обращений до и после обновления серверов для одних и тех же пользователей).**"
      ]
    },
    {
      "cell_type": "markdown",
      "id": "60a3de61",
      "metadata": {
        "id": "60a3de61"
      },
      "source": [
        "<div class='alert alert-info'>\n",
        "Задаем гипотезы:\n",
        "\n",
        "\n",
        "H0: Количество обращений в техническую поддержку не изменилось или незначительно изменилось после обновления серверов.\n",
        "\n",
        "\n",
        "H1:Количество обращений в техническую поддержку значительно снизилось после обновления серверов.\n",
        "</div>"
      ]
    },
    {
      "cell_type": "code",
      "execution_count": null,
      "id": "1999d301",
      "metadata": {
        "scrolled": false,
        "id": "1999d301",
        "outputId": "81f8a713-77b3-483f-ab58-2d0f033244db"
      },
      "outputs": [
        {
          "name": "stdout",
          "output_type": "stream",
          "text": [
            "Статистика t-теста: 11.64246602360774\n",
            "Одностороннее p-значение: 1.8850394384715216e-31\n",
            "Гипотеза о равенстве количества обращений отвергается\n",
            "Гипотеза о снижении количества обращений не отвергается\n"
          ]
        }
      ],
      "source": [
        "calls_before = np.array([10, 15, 7, 8, 12, 14, 9, 11, 13, 10,\n",
        "                         16, 19, 20, 18, 21, 17, 23, 22, 25, 24,\n",
        "                         26, 28, 27, 29, 30, 35, 33, 31, 32, 34])\n",
        "calls_after = np.array([6, 10, 5, 7, 10, 12, 8, 9, 11, 8,\n",
        "                        15, 18, 19, 17, 20, 16, 21, 19, 23, 22,\n",
        "                        14, 18, 5, 27, 20, 3, 30, 8, 10, 11])\n",
        "\n",
        "# Проводим t-тест для гипотезы \"количество обращений не изменилось\"\n",
        "t_statistic_1, p_value_1 = ttest_rel(calls_before, calls_after)\n",
        "\n",
        "# Проводим t-тест для гипотезы \"количество обращений снизилось\"\n",
        "t_statistic_2, p_value_2 = ttest_rel(calls_before, calls_after, alternative='less')\n",
        "\n",
        "print('Статистика t-теста:', t_stat)\n",
        "print('Одностороннее p-значение:', p_val)\n",
        "\n",
        "# Интерпретация результата\n",
        "alpha = 0.05\n",
        "if p_value_1 > alpha:\n",
        "    print(\"Гипотеза о равенстве количества обращений не отвергается\")\n",
        "else:\n",
        "    print(\"Гипотеза о равенстве количества обращений отвергается\")\n",
        "\n",
        "if p_value_2 > alpha:\n",
        "    print(\"Гипотеза о снижении количества обращений не отвергается\")\n",
        "else:\n",
        "    print(\"Гипотеза о снижении количества обращений отвергается\")\n"
      ]
    },
    {
      "cell_type": "code",
      "execution_count": null,
      "id": "1af8ca56",
      "metadata": {
        "scrolled": true,
        "id": "1af8ca56",
        "outputId": "371961f2-8b37-42c3-9c04-0ab62efb142b"
      },
      "outputs": [
        {
          "data": {
            "text/plain": [
              "(20.6, 14.1)"
            ]
          },
          "execution_count": 65,
          "metadata": {},
          "output_type": "execute_result"
        }
      ],
      "source": [
        "# check\n",
        "calls_before.mean().round(1), calls_after.mean().round(1)"
      ]
    },
    {
      "cell_type": "markdown",
      "id": "61213c5e",
      "metadata": {
        "id": "61213c5e"
      },
      "source": [
        "#### Шаг 7. Распределения"
      ]
    },
    {
      "cell_type": "markdown",
      "id": "cc9e367b",
      "metadata": {
        "id": "cc9e367b"
      },
      "source": [
        "##### Промокоды"
      ]
    },
    {
      "cell_type": "code",
      "execution_count": null,
      "id": "fc14dd15",
      "metadata": {
        "id": "fc14dd15"
      },
      "outputs": [],
      "source": [
        "# Заданные параметры\n",
        "p = 0.1\n",
        "k = 100\n",
        "probability_threshold = 0.05"
      ]
    },
    {
      "cell_type": "code",
      "execution_count": null,
      "id": "d62a5bbc",
      "metadata": {
        "id": "d62a5bbc",
        "outputId": "52c93d16-5174-40e1-ca62-1df1eab59b98"
      },
      "outputs": [
        {
          "name": "stdout",
          "output_type": "stream",
          "text": [
            "Минимальное количество промокодов, которые нужно разослать: 1161\n"
          ]
        }
      ],
      "source": [
        "# Функция для нахождения минимального N\n",
        "def find_min_n(k, p, probability_threshold):\n",
        "    N = k\n",
        "    while True:\n",
        "        cdf_value = binom.cdf(k - 1, N, p)\n",
        "        if cdf_value <= probability_threshold:\n",
        "            return N\n",
        "        N += 1\n",
        "\n",
        "# Найти минимальное N\n",
        "min_N = find_min_n(k, p, probability_threshold)\n",
        "print(f\"Минимальное количество промокодов, которые нужно разослать: {min_N}\")\n"
      ]
    },
    {
      "cell_type": "code",
      "execution_count": null,
      "id": "abf50ea5",
      "metadata": {
        "id": "abf50ea5"
      },
      "outputs": [],
      "source": [
        "# Построение графика распределения\n",
        "n_values = np.arange(min_N - 50, min_N + 50)\n",
        "probabilities = binom.cdf(k - 1, n_values, p)\n"
      ]
    },
    {
      "cell_type": "code",
      "execution_count": null,
      "id": "0b8c3257",
      "metadata": {
        "id": "0b8c3257",
        "outputId": "512e9fe2-b91d-415e-db42-3d9cae6a218c"
      },
      "outputs": [
        {
          "data": {
            "image/png": "[encoded data removed]",
            "text/plain": [
              "<Figure size 720x432 with 1 Axes>"
            ]
          },
          "metadata": {
            "needs_background": "light"
          },
          "output_type": "display_data"
        }
      ],
      "source": [
        "\n",
        "plt.figure(figsize=(10, 6))\n",
        "plt.plot(n_values, probabilities, label='CDF')\n",
        "plt.axhline(y=probability_threshold, color='r', linestyle='--', label='Порог (0.05)')\n",
        "plt.axvline(x=min_N, color='g', linestyle='--', label=f'Минимальное N ({min_N})')\n",
        "plt.xlabel('Количество отправленных промо-кодов (N)')\n",
        "plt.ylabel('Совокупная вероятность')\n",
        "plt.title('Кумулятивная функция распределения биномиального распределения')\n",
        "plt.legend()\n",
        "plt.grid()\n",
        "plt.show()"
      ]
    },
    {
      "cell_type": "markdown",
      "id": "63be9aa4",
      "metadata": {
        "id": "63be9aa4"
      },
      "source": [
        "**Минимальное количество промокодов, которые нужно разослать, чтобы вероятность не выполнения плана была примерно 5%, составляет 1161. На графике видно распределение вероятностей числа пользователей, продливших подписку, с выделением планового значения и уровня порога вероятности.**"
      ]
    },
    {
      "cell_type": "markdown",
      "id": "daa6ac38",
      "metadata": {
        "id": "daa6ac38"
      },
      "source": [
        "##### Push-уведомления"
      ]
    },
    {
      "cell_type": "code",
      "execution_count": null,
      "id": "b46600f0",
      "metadata": {
        "id": "b46600f0"
      },
      "outputs": [],
      "source": [
        "# Параметры биномиального распределения\n",
        "n = 1_000_000\n",
        "p = 0.4"
      ]
    },
    {
      "cell_type": "code",
      "execution_count": null,
      "id": "03fb94c4",
      "metadata": {
        "id": "03fb94c4"
      },
      "outputs": [],
      "source": [
        "# Параметры нормального распределения\n",
        "mu = n * p\n",
        "sigma = np.sqrt(n * p * (1 - p))\n",
        "# Значение, для которого нужно найти вероятность\n",
        "x = 399_500\n",
        "# Вычисление вероятности с использованием нормальной аппроксимации\n",
        "probability = norm.cdf(x, mu, sigma)"
      ]
    },
    {
      "cell_type": "code",
      "execution_count": null,
      "id": "eb128a9c",
      "metadata": {
        "id": "eb128a9c",
        "outputId": "32f18f5f-96e4-486f-da73-6728c5252015"
      },
      "outputs": [
        {
          "name": "stdout",
          "output_type": "stream",
          "text": [
            "Среднее (mu): 400000.0\n",
            "Стандартное отклонение (sigma): 489.89794855663564\n",
            "Вероятность того, что уведомление откроют не более 399500 пользователей: 15.37\n"
          ]
        }
      ],
      "source": [
        "print(f\"Среднее (mu): {mu}\")\n",
        "print(f\"Стандартное отклонение (sigma): {sigma}\")\n",
        "print(f\"Вероятность того, что уведомление откроют не более {x} пользователей: {round(probability * 100, 2)}\")\n"
      ]
    },
    {
      "cell_type": "code",
      "execution_count": null,
      "id": "978b6006",
      "metadata": {
        "id": "978b6006",
        "outputId": "df2d1f23-f99a-4f19-86bf-1605a542927c"
      },
      "outputs": [
        {
          "data": {
            "image/png": "[encoded data removed]",
            "text/plain": [
              "<Figure size 720x432 with 1 Axes>"
            ]
          },
          "metadata": {
            "needs_background": "light"
          },
          "output_type": "display_data"
        }
      ],
      "source": [
        "# Построение графика\n",
        "x_values = np.linspace(mu - 4*sigma, mu + 4*sigma, 1000)\n",
        "y_values = norm.pdf(x_values, mu, sigma)\n",
        "plt.figure(figsize=(10, 6))\n",
        "plt.plot(x_values, y_values, label='Нормальное приближение')\n",
        "plt.axvline(x, color='r', linestyle='--', label=f'x = {x}')\n",
        "plt.fill_between(x_values, y_values, where=(x_values <= x), color='b', alpha=0.5, label='P(X <= x)')\n",
        "plt.xlabel('Количество пользователей, открывших уведомление')\n",
        "plt.ylabel('Плотность вероятности')\n",
        "plt.title('Нормальная аппроксимация биномиального распределения')\n",
        "plt.legend()\n",
        "plt.grid(True)\n",
        "plt.show()"
      ]
    },
    {
      "cell_type": "markdown",
      "id": "fc1476cd",
      "metadata": {
        "id": "fc1476cd"
      },
      "source": [
        "**На основании нормальной аппроксимации биномиального распределения, вероятность того, что уведомление откроют не более 399.500 пользователей, можно оценить как P( X <= 399.500 ) = 15.37 %**"
      ]
    },
    {
      "cell_type": "markdown",
      "id": "61fddc40",
      "metadata": {
        "id": "61fddc40"
      },
      "source": [
        "<div class='alert alert-info'>\n",
        "На основании биномиального распределения вероятность того, что уведомление откроют не более 359,900 пользователей из 1,000,000, составляет 15%. Это указывает на то, что в 15% случаев количество открытий уведомлений будет значительно ниже ожидаемого уровня в 40%. В зависимости от целей кампании и средних показателей открытия уведомлений, такая вероятность может быть неприемлемой и сигнализировать о необходимости улучшения стратегии рассылки. Если текущее положение дел не удовлетворяет бизнес-целям, необходимо рассмотреть возможные меры по увеличению вовлеченности пользователей.\n",
        "</div>"
      ]
    },
    {
      "cell_type": "markdown",
      "id": "b4496ba8",
      "metadata": {
        "id": "b4496ba8"
      },
      "source": [
        "#### Шаг 8. Общий вывод"
      ]
    },
    {
      "cell_type": "markdown",
      "id": "0be9781c",
      "metadata": {
        "id": "0be9781c"
      },
      "source": [
        "1)   В ходе проекта был проведен анализ данных компании по прокату самокатов. Для начала были загружены датафреймы с инфомацией о пользователях, поездками и расценками. Изучена основная информация и выведены первые строки.\n",
        "\n",
        "\n",
        "2)  Далее проведена предобработка данных во всех трех таблицах, пропущенных значений не обнаружено, удалены некоторые дубликаты, в итоге потеряно было около 2 % строк. Изменён тип столбца с датой и также добавлен новый столбец с номером месяца поездки для каждого пользователя.\n",
        "  \n",
        "  \n",
        "3)  После представлены распределения некоторых параметров. А именно частота встречаемости городов, в Пятигорске используют самокаты чаще всего, а в Москве реже. Соотношение между пользователями с подпиской и без подписки. Без подписки пользователей больше, чем с подпиской. Диаграмма возраста показала, что больше всего людей с возрастом в 25 лет, меньше всего пользователей с возрастом меньше 15 и больше 35 лет. По расстояниям, которые пользователь преодолел можно сказать, что в основном дистация составляет от 2700 до 3400 метров. По диаграмме продолжительности поездок делаем вывод, что чаще всего поездка составляет от 17-20 минут.\n",
        "  \n",
        "  \n",
        "4)  Произведено объединение всех трех таблиц, а после она была разбита на две, пользователи с подпиской и без.\n",
        "  \n",
        "5)  Созданы ещё два датафрейма с агрегированными данными о поездках. Найдено суммарное расстояние, количество поездок и суммарное время для каждого пользователя за каждый месяц. А также вычислена помесечная выручка компании за месяц с каждого пользователя. Также выявлено, что с подписчиков за год компания заработала 1644537 рублей, в месяц это около 363 рубля с подписчика, а с пользователей без подписки выручка составила 2234104 рублей, с ценой в 329 рублей в месяц с пользователя.\n",
        "  \n",
        "6) При проверке гипотез были сделаны следующие выводы:\n",
        "- пользователи с подпиской являются выгоднее для компании;\n",
        "- Нельзя утверждать, что износ самокатов будет происходить быстро, так как скорее всего среднее расстояние не больше 3130 метров;\n",
        "- помесячная выручка от пользователей с подпиской значительно выше, чем выручка от пользователей без подписки.\n",
        "- для проверки гипотезы о том, что количество обращений в техподдержку снизилось после обновления серверов, потребуется использовать парный t-тест, который показал, что количество обращений в техподдержку значительно снизилось после обновления серверов.\n",
        "\n",
        "7) Сначала была построена нормальная аппроксимация биномиального распределения, основываясь на известной вероятности открытия уведомления (примерно 40%) и количестве уведомлений, которые планируется разослать (1 миллион). Это позволило быстро оценить вероятность открытия уведомления до определенного количества пользователей.Далее был построен график распределения вероятностей, показывающий, как вероятность того, что уведомление будет открыто, изменяется в зависимости от количества пользователей, которые его открыли. На графике была выделена область, соответствующая заданной вероятности открытия уведомления не более 399,500 пользователей. Таким образом, на основе проведенного анализа, мы можем с уверенностью сказать, что вероятность того, что уведомление откроют не более указанного числа пользователей, составляет примерно 15%. Это позволяет отделу маркетинга GoFast более точно спланировать и оценить эффективность своей кампании по разсылке уведомлений. Также выявлено, что надо разослать 1161 промокодов, чтобы вероятность не выполнить план была примерно 5%.\n",
        "\n",
        "\n",
        " Сотрудникам кампании следует опираться на выводы и числовые характеристики представленные в проекте, чтобы улучшать свой сервис и прибыль. Если текущее положение дел не удовлетворяет бизнес-целям, необходимо рассмотреть возможные меры по увеличению вовлеченности пользователей."
      ]
    }
  ],
  "metadata": {
    "ExecuteTimeLog": [
      {
        "duration": 402,
        "start_time": "2024-05-26T09:38:40.976Z"
      },
      {
        "duration": 207,
        "start_time": "2024-05-26T09:38:45.303Z"
      },
      {
        "duration": 14,
        "start_time": "2024-05-26T09:38:47.145Z"
      },
      {
        "duration": 13,
        "start_time": "2024-05-26T09:39:55.037Z"
      },
      {
        "duration": 13,
        "start_time": "2024-05-26T09:40:03.126Z"
      },
      {
        "duration": 13,
        "start_time": "2024-05-26T09:44:45.033Z"
      },
      {
        "duration": 14,
        "start_time": "2024-05-26T09:44:49.039Z"
      },
      {
        "duration": 12,
        "start_time": "2024-05-26T09:45:00.597Z"
      },
      {
        "duration": 12,
        "start_time": "2024-05-26T09:45:30.600Z"
      },
      {
        "duration": 12,
        "start_time": "2024-05-26T09:45:42.274Z"
      },
      {
        "duration": 13,
        "start_time": "2024-05-26T09:52:38.987Z"
      },
      {
        "duration": 8,
        "start_time": "2024-05-26T09:52:42.095Z"
      },
      {
        "duration": 12,
        "start_time": "2024-05-26T09:52:43.013Z"
      },
      {
        "duration": 68,
        "start_time": "2024-05-26T09:55:28.730Z"
      },
      {
        "duration": 7,
        "start_time": "2024-05-26T09:55:43.976Z"
      },
      {
        "duration": 7,
        "start_time": "2024-05-26T09:55:45.335Z"
      },
      {
        "duration": 15,
        "start_time": "2024-05-26T09:55:53.189Z"
      },
      {
        "duration": 6,
        "start_time": "2024-05-26T09:58:03.851Z"
      },
      {
        "duration": 10,
        "start_time": "2024-05-26T10:44:29.525Z"
      },
      {
        "duration": 6,
        "start_time": "2024-05-26T10:44:49.632Z"
      },
      {
        "duration": 5,
        "start_time": "2024-05-26T10:48:01.151Z"
      },
      {
        "duration": 7,
        "start_time": "2024-05-26T10:48:17.945Z"
      },
      {
        "duration": 10,
        "start_time": "2024-05-26T10:48:36.695Z"
      },
      {
        "duration": 11,
        "start_time": "2024-05-26T10:48:42.440Z"
      },
      {
        "duration": 7,
        "start_time": "2024-05-26T10:50:57.041Z"
      },
      {
        "duration": 11,
        "start_time": "2024-05-26T10:51:56.293Z"
      },
      {
        "duration": 12,
        "start_time": "2024-05-26T10:52:33.107Z"
      },
      {
        "duration": 11,
        "start_time": "2024-05-26T10:52:55.548Z"
      },
      {
        "duration": 9,
        "start_time": "2024-05-26T10:53:06.399Z"
      },
      {
        "duration": 9,
        "start_time": "2024-05-26T10:53:49.676Z"
      },
      {
        "duration": 8,
        "start_time": "2024-05-26T10:55:26.932Z"
      },
      {
        "duration": 8,
        "start_time": "2024-05-26T10:55:32.101Z"
      },
      {
        "duration": 6,
        "start_time": "2024-05-26T10:55:35.819Z"
      },
      {
        "duration": 5,
        "start_time": "2024-05-26T10:56:15.081Z"
      },
      {
        "duration": 4,
        "start_time": "2024-05-26T10:56:15.720Z"
      },
      {
        "duration": 8,
        "start_time": "2024-05-26T10:56:48.775Z"
      },
      {
        "duration": 5,
        "start_time": "2024-05-26T10:57:13.341Z"
      },
      {
        "duration": 4,
        "start_time": "2024-05-26T10:57:15.336Z"
      },
      {
        "duration": 733,
        "start_time": "2024-05-26T10:57:18.118Z"
      },
      {
        "duration": 3,
        "start_time": "2024-05-26T10:58:02.354Z"
      },
      {
        "duration": 94,
        "start_time": "2024-05-26T10:58:02.359Z"
      },
      {
        "duration": 18,
        "start_time": "2024-05-26T10:58:02.455Z"
      },
      {
        "duration": 34,
        "start_time": "2024-05-26T10:58:02.475Z"
      },
      {
        "duration": 20,
        "start_time": "2024-05-26T10:58:02.511Z"
      },
      {
        "duration": 23,
        "start_time": "2024-05-26T10:58:02.533Z"
      },
      {
        "duration": 40,
        "start_time": "2024-05-26T10:58:02.557Z"
      },
      {
        "duration": 14,
        "start_time": "2024-05-26T10:58:02.599Z"
      },
      {
        "duration": 29,
        "start_time": "2024-05-26T10:58:02.614Z"
      },
      {
        "duration": 43,
        "start_time": "2024-05-26T10:58:02.644Z"
      },
      {
        "duration": 17,
        "start_time": "2024-05-26T10:58:02.689Z"
      },
      {
        "duration": 31,
        "start_time": "2024-05-26T10:58:02.707Z"
      },
      {
        "duration": 6,
        "start_time": "2024-05-26T11:00:10.418Z"
      },
      {
        "duration": 4,
        "start_time": "2024-05-26T11:00:11.316Z"
      },
      {
        "duration": 7,
        "start_time": "2024-05-26T11:02:13.595Z"
      },
      {
        "duration": 2,
        "start_time": "2024-05-26T11:02:22.664Z"
      },
      {
        "duration": 82,
        "start_time": "2024-05-26T11:02:22.668Z"
      },
      {
        "duration": 14,
        "start_time": "2024-05-26T11:02:22.752Z"
      },
      {
        "duration": 34,
        "start_time": "2024-05-26T11:02:22.768Z"
      },
      {
        "duration": 19,
        "start_time": "2024-05-26T11:02:22.805Z"
      },
      {
        "duration": 11,
        "start_time": "2024-05-26T11:02:22.830Z"
      },
      {
        "duration": 25,
        "start_time": "2024-05-26T11:02:22.842Z"
      },
      {
        "duration": 6,
        "start_time": "2024-05-26T11:02:22.869Z"
      },
      {
        "duration": 10,
        "start_time": "2024-05-26T11:02:22.877Z"
      },
      {
        "duration": 8,
        "start_time": "2024-05-26T11:02:22.889Z"
      },
      {
        "duration": 15,
        "start_time": "2024-05-26T11:02:22.899Z"
      },
      {
        "duration": 13,
        "start_time": "2024-05-26T11:02:22.916Z"
      },
      {
        "duration": 21,
        "start_time": "2024-05-26T11:02:22.931Z"
      },
      {
        "duration": 19,
        "start_time": "2024-05-26T11:02:22.961Z"
      },
      {
        "duration": 14,
        "start_time": "2024-05-26T11:02:22.982Z"
      },
      {
        "duration": 8,
        "start_time": "2024-05-26T11:04:26.553Z"
      },
      {
        "duration": 14,
        "start_time": "2024-05-26T11:06:35.828Z"
      },
      {
        "duration": 10,
        "start_time": "2024-05-26T11:06:58.918Z"
      },
      {
        "duration": 16,
        "start_time": "2024-05-26T11:08:43.574Z"
      },
      {
        "duration": 11,
        "start_time": "2024-05-26T11:09:52.429Z"
      },
      {
        "duration": 7,
        "start_time": "2024-05-26T11:11:51.732Z"
      },
      {
        "duration": 3,
        "start_time": "2024-05-26T11:12:15.716Z"
      },
      {
        "duration": 86,
        "start_time": "2024-05-26T11:12:15.720Z"
      },
      {
        "duration": 13,
        "start_time": "2024-05-26T11:12:15.807Z"
      },
      {
        "duration": 25,
        "start_time": "2024-05-26T11:12:15.822Z"
      },
      {
        "duration": 24,
        "start_time": "2024-05-26T11:12:15.849Z"
      },
      {
        "duration": 14,
        "start_time": "2024-05-26T11:12:15.875Z"
      },
      {
        "duration": 39,
        "start_time": "2024-05-26T11:12:15.891Z"
      },
      {
        "duration": 4,
        "start_time": "2024-05-26T11:12:15.931Z"
      },
      {
        "duration": 10,
        "start_time": "2024-05-26T11:12:15.937Z"
      },
      {
        "duration": 8,
        "start_time": "2024-05-26T11:12:15.949Z"
      },
      {
        "duration": 12,
        "start_time": "2024-05-26T11:12:15.958Z"
      },
      {
        "duration": 9,
        "start_time": "2024-05-26T11:12:15.975Z"
      },
      {
        "duration": 7,
        "start_time": "2024-05-26T11:12:15.986Z"
      },
      {
        "duration": 9,
        "start_time": "2024-05-26T11:12:15.995Z"
      },
      {
        "duration": 2,
        "start_time": "2024-05-26T11:12:16.006Z"
      },
      {
        "duration": 4,
        "start_time": "2024-05-26T11:12:16.010Z"
      },
      {
        "duration": 12,
        "start_time": "2024-05-26T11:12:16.016Z"
      },
      {
        "duration": 6,
        "start_time": "2024-05-26T11:12:16.030Z"
      },
      {
        "duration": 7,
        "start_time": "2024-05-26T11:12:48.167Z"
      },
      {
        "duration": 72,
        "start_time": "2024-05-26T11:12:48.176Z"
      },
      {
        "duration": 27,
        "start_time": "2024-05-26T11:12:48.249Z"
      },
      {
        "duration": 22,
        "start_time": "2024-05-26T11:12:48.278Z"
      },
      {
        "duration": 38,
        "start_time": "2024-05-26T11:12:48.302Z"
      },
      {
        "duration": 16,
        "start_time": "2024-05-26T11:12:48.342Z"
      },
      {
        "duration": 24,
        "start_time": "2024-05-26T11:12:48.360Z"
      },
      {
        "duration": 14,
        "start_time": "2024-05-26T11:12:48.386Z"
      },
      {
        "duration": 21,
        "start_time": "2024-05-26T11:12:48.402Z"
      },
      {
        "duration": 15,
        "start_time": "2024-05-26T11:12:48.426Z"
      },
      {
        "duration": 17,
        "start_time": "2024-05-26T11:12:48.442Z"
      },
      {
        "duration": 4,
        "start_time": "2024-05-26T11:12:48.461Z"
      },
      {
        "duration": 15,
        "start_time": "2024-05-26T11:12:48.468Z"
      },
      {
        "duration": 5,
        "start_time": "2024-05-26T11:12:48.485Z"
      },
      {
        "duration": 7,
        "start_time": "2024-05-26T11:12:48.491Z"
      },
      {
        "duration": 9,
        "start_time": "2024-05-26T11:12:48.499Z"
      },
      {
        "duration": 10,
        "start_time": "2024-05-26T11:12:48.509Z"
      },
      {
        "duration": 6,
        "start_time": "2024-05-26T11:14:26.170Z"
      },
      {
        "duration": 6,
        "start_time": "2024-05-26T11:14:53.787Z"
      },
      {
        "duration": 6,
        "start_time": "2024-05-26T11:14:59.825Z"
      },
      {
        "duration": 961,
        "start_time": "2024-05-26T11:17:01.415Z"
      },
      {
        "duration": 77,
        "start_time": "2024-05-26T11:17:02.379Z"
      },
      {
        "duration": 23,
        "start_time": "2024-05-26T11:17:02.458Z"
      },
      {
        "duration": 25,
        "start_time": "2024-05-26T11:17:02.483Z"
      },
      {
        "duration": 12,
        "start_time": "2024-05-26T11:17:02.510Z"
      },
      {
        "duration": 18,
        "start_time": "2024-05-26T11:17:02.524Z"
      },
      {
        "duration": 27,
        "start_time": "2024-05-26T11:17:02.544Z"
      },
      {
        "duration": 17,
        "start_time": "2024-05-26T11:17:02.573Z"
      },
      {
        "duration": 24,
        "start_time": "2024-05-26T11:17:02.592Z"
      },
      {
        "duration": 11,
        "start_time": "2024-05-26T11:17:02.618Z"
      },
      {
        "duration": 13,
        "start_time": "2024-05-26T11:17:02.630Z"
      },
      {
        "duration": 3,
        "start_time": "2024-05-26T11:17:02.644Z"
      },
      {
        "duration": 17,
        "start_time": "2024-05-26T11:17:02.649Z"
      },
      {
        "duration": 22,
        "start_time": "2024-05-26T11:17:02.669Z"
      },
      {
        "duration": 35,
        "start_time": "2024-05-26T11:17:02.693Z"
      },
      {
        "duration": 23,
        "start_time": "2024-05-26T11:17:02.730Z"
      },
      {
        "duration": 12,
        "start_time": "2024-05-26T11:17:02.756Z"
      },
      {
        "duration": 8,
        "start_time": "2024-05-26T11:17:02.770Z"
      },
      {
        "duration": 12,
        "start_time": "2024-05-26T11:17:02.779Z"
      },
      {
        "duration": 9,
        "start_time": "2024-05-26T11:19:10.963Z"
      },
      {
        "duration": 12,
        "start_time": "2024-05-26T11:19:54.213Z"
      },
      {
        "duration": 345,
        "start_time": "2024-05-26T11:20:15.256Z"
      },
      {
        "duration": 116,
        "start_time": "2024-05-26T11:20:21.576Z"
      },
      {
        "duration": 103,
        "start_time": "2024-05-26T11:20:37.274Z"
      },
      {
        "duration": 144,
        "start_time": "2024-05-26T11:20:57.698Z"
      },
      {
        "duration": 10,
        "start_time": "2024-05-26T11:21:20.586Z"
      },
      {
        "duration": 10,
        "start_time": "2024-05-26T11:22:04.978Z"
      },
      {
        "duration": 154,
        "start_time": "2024-05-26T11:22:26.689Z"
      },
      {
        "duration": 236,
        "start_time": "2024-05-26T11:22:45.846Z"
      },
      {
        "duration": 176,
        "start_time": "2024-05-26T11:23:00.178Z"
      },
      {
        "duration": 165,
        "start_time": "2024-05-26T11:23:08.481Z"
      },
      {
        "duration": 8,
        "start_time": "2024-05-26T11:24:40.428Z"
      },
      {
        "duration": 19,
        "start_time": "2024-05-26T11:24:48.258Z"
      },
      {
        "duration": 8,
        "start_time": "2024-05-26T11:25:24.310Z"
      },
      {
        "duration": 8,
        "start_time": "2024-05-26T11:25:46.994Z"
      },
      {
        "duration": 7,
        "start_time": "2024-05-26T11:26:01.640Z"
      },
      {
        "duration": 8,
        "start_time": "2024-05-26T11:26:16.773Z"
      },
      {
        "duration": 153,
        "start_time": "2024-05-26T11:26:33.298Z"
      },
      {
        "duration": 158,
        "start_time": "2024-05-26T11:26:54.834Z"
      },
      {
        "duration": 144,
        "start_time": "2024-05-26T11:27:31.561Z"
      },
      {
        "duration": 124,
        "start_time": "2024-05-26T11:27:54.163Z"
      },
      {
        "duration": 138,
        "start_time": "2024-05-26T11:28:12.768Z"
      },
      {
        "duration": 112,
        "start_time": "2024-05-26T11:28:28.507Z"
      },
      {
        "duration": 98,
        "start_time": "2024-05-26T11:28:45.604Z"
      },
      {
        "duration": 186,
        "start_time": "2024-05-26T11:29:01.474Z"
      },
      {
        "duration": 232,
        "start_time": "2024-05-26T11:31:06.035Z"
      },
      {
        "duration": 9,
        "start_time": "2024-05-26T11:34:12.230Z"
      },
      {
        "duration": 121,
        "start_time": "2024-05-26T11:35:45.487Z"
      },
      {
        "duration": 12,
        "start_time": "2024-05-26T11:39:38.436Z"
      },
      {
        "duration": 15,
        "start_time": "2024-05-26T11:39:54.012Z"
      },
      {
        "duration": 11,
        "start_time": "2024-05-26T11:40:23.317Z"
      },
      {
        "duration": 169,
        "start_time": "2024-05-26T11:40:56.414Z"
      },
      {
        "duration": 188,
        "start_time": "2024-05-26T11:41:32.963Z"
      },
      {
        "duration": 8,
        "start_time": "2024-05-26T11:48:15.312Z"
      },
      {
        "duration": 12,
        "start_time": "2024-05-26T11:48:22.657Z"
      },
      {
        "duration": 20,
        "start_time": "2024-05-26T11:48:35.588Z"
      },
      {
        "duration": 19,
        "start_time": "2024-05-26T11:48:46.408Z"
      },
      {
        "duration": 21,
        "start_time": "2024-05-26T11:50:03.612Z"
      },
      {
        "duration": 15,
        "start_time": "2024-05-26T11:50:38.901Z"
      },
      {
        "duration": 2295,
        "start_time": "2024-05-26T11:51:25.417Z"
      },
      {
        "duration": 365,
        "start_time": "2024-05-26T11:51:50.747Z"
      },
      {
        "duration": 58,
        "start_time": "2024-05-26T11:52:09.354Z"
      },
      {
        "duration": 54,
        "start_time": "2024-05-26T11:52:16.094Z"
      },
      {
        "duration": 368,
        "start_time": "2024-05-26T11:52:40.302Z"
      },
      {
        "duration": 102,
        "start_time": "2024-05-26T11:54:05.743Z"
      },
      {
        "duration": 23,
        "start_time": "2024-05-26T11:55:14.559Z"
      },
      {
        "duration": 51,
        "start_time": "2024-05-26T11:55:52.319Z"
      },
      {
        "duration": 211,
        "start_time": "2024-05-26T11:55:56.941Z"
      },
      {
        "duration": 17,
        "start_time": "2024-05-26T11:56:15.982Z"
      },
      {
        "duration": 161,
        "start_time": "2024-05-26T11:56:37.326Z"
      },
      {
        "duration": 125,
        "start_time": "2024-05-26T11:57:17.143Z"
      },
      {
        "duration": 129,
        "start_time": "2024-05-26T11:57:32.788Z"
      },
      {
        "duration": 207,
        "start_time": "2024-05-26T11:58:08.492Z"
      },
      {
        "duration": 196,
        "start_time": "2024-05-26T12:04:38.880Z"
      },
      {
        "duration": 150,
        "start_time": "2024-05-26T12:04:51.511Z"
      },
      {
        "duration": 170,
        "start_time": "2024-05-26T12:07:31.097Z"
      },
      {
        "duration": 232,
        "start_time": "2024-05-26T12:07:40.191Z"
      },
      {
        "duration": 245,
        "start_time": "2024-05-26T12:07:58.630Z"
      },
      {
        "duration": 240,
        "start_time": "2024-05-26T12:10:43.158Z"
      },
      {
        "duration": 251,
        "start_time": "2024-05-26T12:10:55.999Z"
      },
      {
        "duration": 24,
        "start_time": "2024-05-26T13:01:08.435Z"
      },
      {
        "duration": 18,
        "start_time": "2024-05-26T13:04:39.194Z"
      },
      {
        "duration": 17,
        "start_time": "2024-05-26T13:05:25.812Z"
      },
      {
        "duration": 17,
        "start_time": "2024-05-26T13:05:33.418Z"
      },
      {
        "duration": 18,
        "start_time": "2024-05-26T13:06:37.277Z"
      },
      {
        "duration": 25,
        "start_time": "2024-05-26T13:07:42.934Z"
      },
      {
        "duration": 39,
        "start_time": "2024-05-26T13:08:58.548Z"
      },
      {
        "duration": 27,
        "start_time": "2024-05-26T13:10:21.110Z"
      },
      {
        "duration": 176,
        "start_time": "2024-05-26T13:10:54.526Z"
      },
      {
        "duration": 17,
        "start_time": "2024-05-26T13:13:11.335Z"
      },
      {
        "duration": 5,
        "start_time": "2024-05-26T13:17:54.327Z"
      },
      {
        "duration": 2,
        "start_time": "2024-05-26T13:18:18.031Z"
      },
      {
        "duration": 71,
        "start_time": "2024-05-26T13:18:18.036Z"
      },
      {
        "duration": 12,
        "start_time": "2024-05-26T13:18:18.109Z"
      },
      {
        "duration": 115,
        "start_time": "2024-05-26T13:18:18.124Z"
      },
      {
        "duration": 22,
        "start_time": "2024-05-26T13:18:18.241Z"
      },
      {
        "duration": 10,
        "start_time": "2024-05-26T13:18:18.265Z"
      },
      {
        "duration": 6,
        "start_time": "2024-05-26T13:18:18.277Z"
      },
      {
        "duration": 24,
        "start_time": "2024-05-26T13:18:18.285Z"
      },
      {
        "duration": 6,
        "start_time": "2024-05-26T13:18:18.312Z"
      },
      {
        "duration": 42,
        "start_time": "2024-05-26T13:18:18.320Z"
      },
      {
        "duration": 7,
        "start_time": "2024-05-26T13:18:18.364Z"
      },
      {
        "duration": 13,
        "start_time": "2024-05-26T13:18:18.373Z"
      },
      {
        "duration": 6,
        "start_time": "2024-05-26T13:18:18.389Z"
      },
      {
        "duration": 9,
        "start_time": "2024-05-26T13:18:18.396Z"
      },
      {
        "duration": 3,
        "start_time": "2024-05-26T13:18:18.406Z"
      },
      {
        "duration": 7,
        "start_time": "2024-05-26T13:18:18.410Z"
      },
      {
        "duration": 6,
        "start_time": "2024-05-26T13:18:18.419Z"
      },
      {
        "duration": 7,
        "start_time": "2024-05-26T13:18:18.460Z"
      },
      {
        "duration": 6,
        "start_time": "2024-05-26T13:18:18.468Z"
      },
      {
        "duration": 8,
        "start_time": "2024-05-26T13:18:18.475Z"
      },
      {
        "duration": 178,
        "start_time": "2024-05-26T13:18:18.485Z"
      },
      {
        "duration": 134,
        "start_time": "2024-05-26T13:18:18.664Z"
      },
      {
        "duration": 182,
        "start_time": "2024-05-26T13:18:18.799Z"
      },
      {
        "duration": 241,
        "start_time": "2024-05-26T13:18:18.984Z"
      },
      {
        "duration": 244,
        "start_time": "2024-05-26T13:18:19.226Z"
      },
      {
        "duration": 23,
        "start_time": "2024-05-26T13:18:19.472Z"
      },
      {
        "duration": 15,
        "start_time": "2024-05-26T13:18:19.497Z"
      },
      {
        "duration": 0,
        "start_time": "2024-05-26T13:18:19.514Z"
      },
      {
        "duration": 16,
        "start_time": "2024-05-26T13:20:06.285Z"
      },
      {
        "duration": 13,
        "start_time": "2024-05-26T13:20:41.219Z"
      },
      {
        "duration": 3,
        "start_time": "2024-05-26T13:20:53.778Z"
      },
      {
        "duration": 77,
        "start_time": "2024-05-26T13:20:53.783Z"
      },
      {
        "duration": 14,
        "start_time": "2024-05-26T13:20:53.862Z"
      },
      {
        "duration": 17,
        "start_time": "2024-05-26T13:20:53.877Z"
      },
      {
        "duration": 16,
        "start_time": "2024-05-26T13:20:53.896Z"
      },
      {
        "duration": 7,
        "start_time": "2024-05-26T13:20:53.914Z"
      },
      {
        "duration": 10,
        "start_time": "2024-05-26T13:20:53.923Z"
      },
      {
        "duration": 28,
        "start_time": "2024-05-26T13:20:53.934Z"
      },
      {
        "duration": 8,
        "start_time": "2024-05-26T13:20:53.964Z"
      },
      {
        "duration": 5,
        "start_time": "2024-05-26T13:20:53.973Z"
      },
      {
        "duration": 9,
        "start_time": "2024-05-26T13:20:53.980Z"
      },
      {
        "duration": 2,
        "start_time": "2024-05-26T13:20:53.991Z"
      },
      {
        "duration": 5,
        "start_time": "2024-05-26T13:20:53.995Z"
      },
      {
        "duration": 3,
        "start_time": "2024-05-26T13:20:54.001Z"
      },
      {
        "duration": 9,
        "start_time": "2024-05-26T13:20:54.005Z"
      },
      {
        "duration": 50,
        "start_time": "2024-05-26T13:20:54.015Z"
      },
      {
        "duration": 6,
        "start_time": "2024-05-26T13:20:54.066Z"
      },
      {
        "duration": 7,
        "start_time": "2024-05-26T13:20:54.073Z"
      },
      {
        "duration": 6,
        "start_time": "2024-05-26T13:20:54.081Z"
      },
      {
        "duration": 160,
        "start_time": "2024-05-26T13:20:54.088Z"
      },
      {
        "duration": 118,
        "start_time": "2024-05-26T13:20:54.250Z"
      },
      {
        "duration": 172,
        "start_time": "2024-05-26T13:20:54.370Z"
      },
      {
        "duration": 313,
        "start_time": "2024-05-26T13:20:54.544Z"
      },
      {
        "duration": 245,
        "start_time": "2024-05-26T13:20:54.858Z"
      },
      {
        "duration": 23,
        "start_time": "2024-05-26T13:20:55.105Z"
      },
      {
        "duration": 32,
        "start_time": "2024-05-26T13:20:55.130Z"
      },
      {
        "duration": 0,
        "start_time": "2024-05-26T13:20:55.163Z"
      },
      {
        "duration": 20,
        "start_time": "2024-05-26T13:21:06.374Z"
      },
      {
        "duration": 82,
        "start_time": "2024-05-26T13:22:20.003Z"
      },
      {
        "duration": 7,
        "start_time": "2024-05-26T13:22:24.376Z"
      },
      {
        "duration": 9,
        "start_time": "2024-05-26T13:22:49.893Z"
      },
      {
        "duration": 4,
        "start_time": "2024-05-26T13:22:50.489Z"
      },
      {
        "duration": 4,
        "start_time": "2024-05-26T13:23:17.979Z"
      },
      {
        "duration": 6,
        "start_time": "2024-05-26T13:23:45.257Z"
      },
      {
        "duration": 4,
        "start_time": "2024-05-26T13:24:59.891Z"
      },
      {
        "duration": 7,
        "start_time": "2024-05-26T13:27:49.688Z"
      },
      {
        "duration": 16,
        "start_time": "2024-05-26T13:44:03.332Z"
      },
      {
        "duration": 31,
        "start_time": "2024-05-26T13:44:28.490Z"
      },
      {
        "duration": 19,
        "start_time": "2024-05-26T13:45:27.132Z"
      },
      {
        "duration": 98,
        "start_time": "2024-05-26T13:46:08.014Z"
      },
      {
        "duration": 301,
        "start_time": "2024-05-26T13:46:31.294Z"
      },
      {
        "duration": 277,
        "start_time": "2024-05-26T13:46:44.986Z"
      },
      {
        "duration": 92,
        "start_time": "2024-05-26T13:47:26.808Z"
      },
      {
        "duration": 121,
        "start_time": "2024-05-26T13:47:40.559Z"
      },
      {
        "duration": 118,
        "start_time": "2024-05-26T13:47:54.780Z"
      },
      {
        "duration": 1099,
        "start_time": "2024-05-26T13:49:18.611Z"
      },
      {
        "duration": 221,
        "start_time": "2024-05-26T13:49:54.076Z"
      },
      {
        "duration": 119,
        "start_time": "2024-05-26T13:55:57.320Z"
      },
      {
        "duration": 125,
        "start_time": "2024-05-26T13:56:22.388Z"
      },
      {
        "duration": 120,
        "start_time": "2024-05-26T13:56:26.898Z"
      },
      {
        "duration": 15,
        "start_time": "2024-05-26T14:02:12.351Z"
      },
      {
        "duration": 27,
        "start_time": "2024-05-26T14:02:32.347Z"
      },
      {
        "duration": 28,
        "start_time": "2024-05-26T14:02:50.262Z"
      },
      {
        "duration": 25,
        "start_time": "2024-05-26T14:05:19.507Z"
      },
      {
        "duration": 20,
        "start_time": "2024-05-26T14:06:51.204Z"
      },
      {
        "duration": 18,
        "start_time": "2024-05-26T14:09:52.729Z"
      },
      {
        "duration": 16,
        "start_time": "2024-05-26T14:10:13.576Z"
      },
      {
        "duration": 52,
        "start_time": "2024-05-26T14:14:15.688Z"
      },
      {
        "duration": 51,
        "start_time": "2024-05-26T14:14:40.557Z"
      },
      {
        "duration": 14,
        "start_time": "2024-05-26T14:14:48.856Z"
      },
      {
        "duration": 13,
        "start_time": "2024-05-26T14:15:23.690Z"
      },
      {
        "duration": 15,
        "start_time": "2024-05-26T14:15:42.793Z"
      },
      {
        "duration": 23,
        "start_time": "2024-05-26T14:16:36.917Z"
      },
      {
        "duration": 16,
        "start_time": "2024-05-26T14:17:21.198Z"
      },
      {
        "duration": 11,
        "start_time": "2024-05-26T14:18:25.737Z"
      },
      {
        "duration": 16,
        "start_time": "2024-05-26T14:18:33.033Z"
      },
      {
        "duration": 31,
        "start_time": "2024-05-26T14:19:34.841Z"
      },
      {
        "duration": 53,
        "start_time": "2024-05-26T14:20:52.892Z"
      },
      {
        "duration": 108,
        "start_time": "2024-05-26T14:21:09.564Z"
      },
      {
        "duration": 10,
        "start_time": "2024-05-26T14:21:58.441Z"
      },
      {
        "duration": 18,
        "start_time": "2024-05-26T14:22:04.300Z"
      },
      {
        "duration": 22,
        "start_time": "2024-05-26T14:24:23.232Z"
      },
      {
        "duration": 8,
        "start_time": "2024-05-26T14:27:59.166Z"
      },
      {
        "duration": 970,
        "start_time": "2024-05-26T14:33:10.230Z"
      },
      {
        "duration": 982,
        "start_time": "2024-05-26T14:33:23.380Z"
      },
      {
        "duration": 943,
        "start_time": "2024-05-26T14:33:33.444Z"
      },
      {
        "duration": 474,
        "start_time": "2024-05-26T14:34:01.039Z"
      },
      {
        "duration": 12,
        "start_time": "2024-05-26T14:36:34.921Z"
      },
      {
        "duration": 11,
        "start_time": "2024-05-26T14:37:03.782Z"
      },
      {
        "duration": 16,
        "start_time": "2024-05-26T14:38:47.859Z"
      },
      {
        "duration": 4,
        "start_time": "2024-05-26T14:39:01.865Z"
      },
      {
        "duration": 9,
        "start_time": "2024-05-26T14:43:55.612Z"
      },
      {
        "duration": 19,
        "start_time": "2024-05-26T14:44:08.216Z"
      },
      {
        "duration": 23,
        "start_time": "2024-05-26T14:44:08.954Z"
      },
      {
        "duration": 7,
        "start_time": "2024-05-26T14:44:11.880Z"
      },
      {
        "duration": 15,
        "start_time": "2024-05-26T14:44:12.390Z"
      },
      {
        "duration": 3,
        "start_time": "2024-05-26T14:45:09.091Z"
      },
      {
        "duration": 16,
        "start_time": "2024-05-26T14:45:19.212Z"
      },
      {
        "duration": 17,
        "start_time": "2024-05-26T14:47:42.114Z"
      },
      {
        "duration": 17,
        "start_time": "2024-05-26T14:49:51.533Z"
      },
      {
        "duration": 429,
        "start_time": "2024-05-26T15:33:33.675Z"
      },
      {
        "duration": 38,
        "start_time": "2024-05-26T15:34:43.203Z"
      },
      {
        "duration": 139,
        "start_time": "2024-05-26T15:35:04.502Z"
      },
      {
        "duration": 428,
        "start_time": "2024-05-26T15:35:10.844Z"
      },
      {
        "duration": 6,
        "start_time": "2024-05-26T15:39:32.139Z"
      },
      {
        "duration": 4,
        "start_time": "2024-05-26T15:39:45.590Z"
      },
      {
        "duration": 3,
        "start_time": "2024-05-26T15:49:18.366Z"
      },
      {
        "duration": 5,
        "start_time": "2024-05-26T15:51:27.127Z"
      },
      {
        "duration": 5,
        "start_time": "2024-05-26T15:51:52.625Z"
      },
      {
        "duration": 5,
        "start_time": "2024-05-26T15:52:40.139Z"
      },
      {
        "duration": 599,
        "start_time": "2024-05-26T15:54:23.574Z"
      },
      {
        "duration": 6,
        "start_time": "2024-05-26T15:54:39.945Z"
      },
      {
        "duration": 3,
        "start_time": "2024-05-26T15:54:42.505Z"
      },
      {
        "duration": 5,
        "start_time": "2024-05-26T15:55:06.261Z"
      },
      {
        "duration": 4,
        "start_time": "2024-05-26T15:55:29.091Z"
      },
      {
        "duration": 5,
        "start_time": "2024-05-26T15:55:49.484Z"
      },
      {
        "duration": 4,
        "start_time": "2024-05-26T15:56:25.622Z"
      },
      {
        "duration": 4,
        "start_time": "2024-05-26T15:58:22.971Z"
      },
      {
        "duration": 4,
        "start_time": "2024-05-26T15:58:23.586Z"
      },
      {
        "duration": 4,
        "start_time": "2024-05-26T15:58:24.098Z"
      },
      {
        "duration": 26,
        "start_time": "2024-05-26T16:03:01.396Z"
      },
      {
        "duration": 7,
        "start_time": "2024-05-26T16:03:25.562Z"
      },
      {
        "duration": 665,
        "start_time": "2024-05-26T16:13:22.246Z"
      },
      {
        "duration": 568,
        "start_time": "2024-05-26T16:14:24.606Z"
      },
      {
        "duration": 752,
        "start_time": "2024-05-26T16:14:52.836Z"
      },
      {
        "duration": 451,
        "start_time": "2024-05-26T16:15:36.465Z"
      },
      {
        "duration": 447,
        "start_time": "2024-05-26T16:16:19.914Z"
      },
      {
        "duration": 4,
        "start_time": "2024-05-26T16:25:45.857Z"
      },
      {
        "duration": 421,
        "start_time": "2024-05-26T16:25:54.970Z"
      },
      {
        "duration": 3,
        "start_time": "2024-05-26T16:28:46.592Z"
      },
      {
        "duration": 131,
        "start_time": "2024-05-26T16:28:47.732Z"
      },
      {
        "duration": 4,
        "start_time": "2024-05-26T16:28:50.074Z"
      },
      {
        "duration": 293,
        "start_time": "2024-05-26T16:28:58.779Z"
      },
      {
        "duration": 13,
        "start_time": "2024-05-26T16:30:44.148Z"
      },
      {
        "duration": 5,
        "start_time": "2024-05-26T16:30:52.136Z"
      },
      {
        "duration": 2647,
        "start_time": "2024-05-26T16:31:04.730Z"
      },
      {
        "duration": 2398,
        "start_time": "2024-05-26T16:33:03.534Z"
      },
      {
        "duration": 4,
        "start_time": "2024-05-26T16:34:03.676Z"
      },
      {
        "duration": 2678,
        "start_time": "2024-05-26T16:34:06.209Z"
      },
      {
        "duration": 4,
        "start_time": "2024-05-26T16:34:41.110Z"
      },
      {
        "duration": 263,
        "start_time": "2024-05-26T16:34:41.713Z"
      },
      {
        "duration": 268,
        "start_time": "2024-05-26T16:35:49.818Z"
      },
      {
        "duration": 3,
        "start_time": "2024-05-26T16:39:05.086Z"
      },
      {
        "duration": 366,
        "start_time": "2024-05-26T16:39:32.836Z"
      },
      {
        "duration": 2,
        "start_time": "2024-05-26T16:41:12.366Z"
      },
      {
        "duration": 4,
        "start_time": "2024-05-26T16:41:13.498Z"
      },
      {
        "duration": 4,
        "start_time": "2024-05-26T16:41:14.237Z"
      },
      {
        "duration": 331,
        "start_time": "2024-05-26T16:41:59.895Z"
      },
      {
        "duration": 4,
        "start_time": "2024-05-26T16:46:11.578Z"
      },
      {
        "duration": 5,
        "start_time": "2024-05-26T16:46:19.775Z"
      },
      {
        "duration": 303,
        "start_time": "2024-05-26T16:47:33.499Z"
      },
      {
        "duration": 3,
        "start_time": "2024-05-26T16:49:00.031Z"
      },
      {
        "duration": 3,
        "start_time": "2024-05-26T16:58:10.221Z"
      },
      {
        "duration": 77,
        "start_time": "2024-05-26T16:58:10.226Z"
      },
      {
        "duration": 14,
        "start_time": "2024-05-26T16:58:10.304Z"
      },
      {
        "duration": 16,
        "start_time": "2024-05-26T16:58:10.319Z"
      },
      {
        "duration": 14,
        "start_time": "2024-05-26T16:58:10.337Z"
      },
      {
        "duration": 13,
        "start_time": "2024-05-26T16:58:10.352Z"
      },
      {
        "duration": 22,
        "start_time": "2024-05-26T16:58:10.367Z"
      },
      {
        "duration": 6,
        "start_time": "2024-05-26T16:58:10.391Z"
      },
      {
        "duration": 9,
        "start_time": "2024-05-26T16:58:10.398Z"
      },
      {
        "duration": 6,
        "start_time": "2024-05-26T16:58:10.409Z"
      },
      {
        "duration": 13,
        "start_time": "2024-05-26T16:58:10.416Z"
      },
      {
        "duration": 31,
        "start_time": "2024-05-26T16:58:10.430Z"
      },
      {
        "duration": 5,
        "start_time": "2024-05-26T16:58:10.462Z"
      },
      {
        "duration": 4,
        "start_time": "2024-05-26T16:58:10.470Z"
      },
      {
        "duration": 7,
        "start_time": "2024-05-26T16:58:10.475Z"
      },
      {
        "duration": 8,
        "start_time": "2024-05-26T16:58:10.483Z"
      },
      {
        "duration": 17,
        "start_time": "2024-05-26T16:58:10.493Z"
      },
      {
        "duration": 7,
        "start_time": "2024-05-26T16:58:10.512Z"
      },
      {
        "duration": 14,
        "start_time": "2024-05-26T16:58:10.521Z"
      },
      {
        "duration": 184,
        "start_time": "2024-05-26T16:58:10.537Z"
      },
      {
        "duration": 129,
        "start_time": "2024-05-26T16:58:10.723Z"
      },
      {
        "duration": 182,
        "start_time": "2024-05-26T16:58:10.854Z"
      },
      {
        "duration": 246,
        "start_time": "2024-05-26T16:58:11.038Z"
      },
      {
        "duration": 236,
        "start_time": "2024-05-26T16:58:11.286Z"
      },
      {
        "duration": 24,
        "start_time": "2024-05-26T16:58:11.523Z"
      },
      {
        "duration": 10,
        "start_time": "2024-05-26T16:58:11.560Z"
      },
      {
        "duration": 4,
        "start_time": "2024-05-26T16:58:11.572Z"
      },
      {
        "duration": 7,
        "start_time": "2024-05-26T16:58:11.577Z"
      },
      {
        "duration": 139,
        "start_time": "2024-05-26T16:58:11.586Z"
      },
      {
        "duration": 136,
        "start_time": "2024-05-26T16:58:11.726Z"
      },
      {
        "duration": 21,
        "start_time": "2024-05-26T16:58:11.864Z"
      },
      {
        "duration": 19,
        "start_time": "2024-05-26T16:58:11.887Z"
      },
      {
        "duration": 8,
        "start_time": "2024-05-26T16:58:11.908Z"
      },
      {
        "duration": 45,
        "start_time": "2024-05-26T16:58:11.917Z"
      },
      {
        "duration": 17,
        "start_time": "2024-05-26T16:58:11.963Z"
      },
      {
        "duration": 787,
        "start_time": "2024-05-26T16:58:11.982Z"
      },
      {
        "duration": 5,
        "start_time": "2024-05-26T16:58:12.771Z"
      },
      {
        "duration": 5,
        "start_time": "2024-05-26T16:58:12.777Z"
      },
      {
        "duration": 612,
        "start_time": "2024-05-26T16:58:12.783Z"
      },
      {
        "duration": 3,
        "start_time": "2024-05-26T16:58:13.397Z"
      },
      {
        "duration": 4,
        "start_time": "2024-05-26T16:58:13.404Z"
      },
      {
        "duration": 7,
        "start_time": "2024-05-26T16:58:13.409Z"
      },
      {
        "duration": 434,
        "start_time": "2024-05-26T16:58:13.418Z"
      },
      {
        "duration": 6,
        "start_time": "2024-05-26T16:58:13.861Z"
      },
      {
        "duration": 5,
        "start_time": "2024-05-26T16:58:13.869Z"
      },
      {
        "duration": 186,
        "start_time": "2024-05-26T16:58:13.876Z"
      },
      {
        "duration": 3,
        "start_time": "2024-05-26T16:58:14.064Z"
      },
      {
        "duration": 297,
        "start_time": "2024-05-26T16:58:14.069Z"
      },
      {
        "duration": 3,
        "start_time": "2024-05-26T16:58:14.367Z"
      },
      {
        "duration": 8,
        "start_time": "2024-05-26T16:58:14.371Z"
      },
      {
        "duration": 9,
        "start_time": "2024-05-26T16:58:14.380Z"
      },
      {
        "duration": 330,
        "start_time": "2024-05-26T16:58:14.391Z"
      },
      {
        "duration": 4,
        "start_time": "2024-05-26T17:47:25.523Z"
      },
      {
        "duration": 81,
        "start_time": "2024-05-26T17:47:25.529Z"
      },
      {
        "duration": 18,
        "start_time": "2024-05-26T17:47:25.612Z"
      },
      {
        "duration": 13,
        "start_time": "2024-05-26T17:47:25.632Z"
      },
      {
        "duration": 22,
        "start_time": "2024-05-26T17:47:25.647Z"
      },
      {
        "duration": 9,
        "start_time": "2024-05-26T17:47:25.670Z"
      },
      {
        "duration": 10,
        "start_time": "2024-05-26T17:47:25.680Z"
      },
      {
        "duration": 5,
        "start_time": "2024-05-26T17:47:25.691Z"
      },
      {
        "duration": 14,
        "start_time": "2024-05-26T17:47:25.698Z"
      },
      {
        "duration": 7,
        "start_time": "2024-05-26T17:47:25.714Z"
      },
      {
        "duration": 43,
        "start_time": "2024-05-26T17:47:25.722Z"
      },
      {
        "duration": 3,
        "start_time": "2024-05-26T17:47:25.766Z"
      },
      {
        "duration": 6,
        "start_time": "2024-05-26T17:47:25.770Z"
      },
      {
        "duration": 3,
        "start_time": "2024-05-26T17:47:25.778Z"
      },
      {
        "duration": 5,
        "start_time": "2024-05-26T17:47:25.782Z"
      },
      {
        "duration": 11,
        "start_time": "2024-05-26T17:47:25.788Z"
      },
      {
        "duration": 5,
        "start_time": "2024-05-26T17:47:25.801Z"
      },
      {
        "duration": 9,
        "start_time": "2024-05-26T17:47:25.807Z"
      },
      {
        "duration": 4,
        "start_time": "2024-05-26T17:47:25.818Z"
      },
      {
        "duration": 193,
        "start_time": "2024-05-26T17:47:25.824Z"
      },
      {
        "duration": 143,
        "start_time": "2024-05-26T17:47:26.019Z"
      },
      {
        "duration": 186,
        "start_time": "2024-05-26T17:47:26.164Z"
      },
      {
        "duration": 347,
        "start_time": "2024-05-26T17:47:26.352Z"
      },
      {
        "duration": 243,
        "start_time": "2024-05-26T17:47:26.703Z"
      },
      {
        "duration": 27,
        "start_time": "2024-05-26T17:47:26.948Z"
      },
      {
        "duration": 8,
        "start_time": "2024-05-26T17:47:26.977Z"
      },
      {
        "duration": 5,
        "start_time": "2024-05-26T17:47:26.987Z"
      },
      {
        "duration": 19,
        "start_time": "2024-05-26T17:47:26.994Z"
      },
      {
        "duration": 148,
        "start_time": "2024-05-26T17:47:27.015Z"
      },
      {
        "duration": 130,
        "start_time": "2024-05-26T17:47:27.165Z"
      },
      {
        "duration": 20,
        "start_time": "2024-05-26T17:47:27.297Z"
      },
      {
        "duration": 26,
        "start_time": "2024-05-26T17:47:27.318Z"
      },
      {
        "duration": 20,
        "start_time": "2024-05-26T17:47:27.346Z"
      },
      {
        "duration": 36,
        "start_time": "2024-05-26T17:47:27.368Z"
      },
      {
        "duration": 34,
        "start_time": "2024-05-26T17:47:27.405Z"
      },
      {
        "duration": 623,
        "start_time": "2024-05-26T17:47:27.440Z"
      },
      {
        "duration": 4,
        "start_time": "2024-05-26T17:47:28.065Z"
      },
      {
        "duration": 4,
        "start_time": "2024-05-26T17:47:28.071Z"
      },
      {
        "duration": 610,
        "start_time": "2024-05-26T17:47:28.076Z"
      },
      {
        "duration": 4,
        "start_time": "2024-05-26T17:47:28.687Z"
      },
      {
        "duration": 10,
        "start_time": "2024-05-26T17:47:28.692Z"
      },
      {
        "duration": 4,
        "start_time": "2024-05-26T17:47:28.703Z"
      },
      {
        "duration": 425,
        "start_time": "2024-05-26T17:47:28.709Z"
      },
      {
        "duration": 6,
        "start_time": "2024-05-26T17:47:29.135Z"
      },
      {
        "duration": 15,
        "start_time": "2024-05-26T17:47:29.142Z"
      },
      {
        "duration": 231,
        "start_time": "2024-05-26T17:47:29.160Z"
      },
      {
        "duration": 3,
        "start_time": "2024-05-26T17:47:29.393Z"
      },
      {
        "duration": 278,
        "start_time": "2024-05-26T17:47:29.399Z"
      },
      {
        "duration": 2,
        "start_time": "2024-05-26T17:47:29.679Z"
      },
      {
        "duration": 5,
        "start_time": "2024-05-26T17:47:29.683Z"
      },
      {
        "duration": 8,
        "start_time": "2024-05-26T17:47:29.689Z"
      },
      {
        "duration": 321,
        "start_time": "2024-05-26T17:47:29.698Z"
      },
      {
        "duration": 1608,
        "start_time": "2024-05-26T18:08:15.613Z"
      },
      {
        "duration": 68,
        "start_time": "2024-05-26T18:08:17.223Z"
      },
      {
        "duration": 15,
        "start_time": "2024-05-26T18:08:17.292Z"
      },
      {
        "duration": 14,
        "start_time": "2024-05-26T18:08:17.309Z"
      },
      {
        "duration": 10,
        "start_time": "2024-05-26T18:08:17.324Z"
      },
      {
        "duration": 10,
        "start_time": "2024-05-26T18:08:17.336Z"
      },
      {
        "duration": 9,
        "start_time": "2024-05-26T18:08:17.347Z"
      },
      {
        "duration": 4,
        "start_time": "2024-05-26T18:08:17.357Z"
      },
      {
        "duration": 38,
        "start_time": "2024-05-26T18:08:17.363Z"
      },
      {
        "duration": 6,
        "start_time": "2024-05-26T18:08:17.403Z"
      },
      {
        "duration": 12,
        "start_time": "2024-05-26T18:08:17.410Z"
      },
      {
        "duration": 3,
        "start_time": "2024-05-26T18:08:17.423Z"
      },
      {
        "duration": 8,
        "start_time": "2024-05-26T18:08:17.427Z"
      },
      {
        "duration": 2,
        "start_time": "2024-05-26T18:08:17.436Z"
      },
      {
        "duration": 6,
        "start_time": "2024-05-26T18:08:17.439Z"
      },
      {
        "duration": 18,
        "start_time": "2024-05-26T18:08:17.446Z"
      },
      {
        "duration": 6,
        "start_time": "2024-05-26T18:08:17.465Z"
      },
      {
        "duration": 27,
        "start_time": "2024-05-26T18:08:17.472Z"
      },
      {
        "duration": 4,
        "start_time": "2024-05-26T18:08:17.501Z"
      },
      {
        "duration": 307,
        "start_time": "2024-05-26T18:08:17.506Z"
      },
      {
        "duration": 206,
        "start_time": "2024-05-26T18:08:17.815Z"
      },
      {
        "duration": 239,
        "start_time": "2024-05-26T18:08:18.022Z"
      },
      {
        "duration": 329,
        "start_time": "2024-05-26T18:08:18.263Z"
      },
      {
        "duration": 389,
        "start_time": "2024-05-26T18:08:18.593Z"
      },
      {
        "duration": 28,
        "start_time": "2024-05-26T18:08:18.984Z"
      },
      {
        "duration": 8,
        "start_time": "2024-05-26T18:08:19.013Z"
      },
      {
        "duration": 4,
        "start_time": "2024-05-26T18:08:19.022Z"
      },
      {
        "duration": 16,
        "start_time": "2024-05-26T18:08:19.029Z"
      },
      {
        "duration": 179,
        "start_time": "2024-05-26T18:08:19.047Z"
      },
      {
        "duration": 308,
        "start_time": "2024-05-26T18:08:19.228Z"
      },
      {
        "duration": 15,
        "start_time": "2024-05-26T18:08:19.537Z"
      },
      {
        "duration": 14,
        "start_time": "2024-05-26T18:08:19.554Z"
      },
      {
        "duration": 6,
        "start_time": "2024-05-26T18:08:19.570Z"
      },
      {
        "duration": 12,
        "start_time": "2024-05-26T18:08:19.599Z"
      },
      {
        "duration": 12,
        "start_time": "2024-05-26T18:08:19.612Z"
      },
      {
        "duration": 639,
        "start_time": "2024-05-26T18:08:19.626Z"
      },
      {
        "duration": 4,
        "start_time": "2024-05-26T18:08:20.266Z"
      },
      {
        "duration": 4,
        "start_time": "2024-05-26T18:08:20.271Z"
      },
      {
        "duration": 607,
        "start_time": "2024-05-26T18:08:20.276Z"
      },
      {
        "duration": 3,
        "start_time": "2024-05-26T18:08:20.885Z"
      },
      {
        "duration": 10,
        "start_time": "2024-05-26T18:08:20.889Z"
      },
      {
        "duration": 5,
        "start_time": "2024-05-26T18:08:20.900Z"
      },
      {
        "duration": 482,
        "start_time": "2024-05-26T18:08:20.906Z"
      },
      {
        "duration": 5,
        "start_time": "2024-05-26T18:08:21.389Z"
      },
      {
        "duration": 10,
        "start_time": "2024-05-26T18:08:21.400Z"
      },
      {
        "duration": 88,
        "start_time": "2024-05-26T18:08:21.411Z"
      },
      {
        "duration": 3,
        "start_time": "2024-05-26T18:08:21.500Z"
      },
      {
        "duration": 263,
        "start_time": "2024-05-26T18:08:21.505Z"
      },
      {
        "duration": 2,
        "start_time": "2024-05-26T18:08:21.770Z"
      },
      {
        "duration": 5,
        "start_time": "2024-05-26T18:08:21.773Z"
      },
      {
        "duration": 21,
        "start_time": "2024-05-26T18:08:21.779Z"
      },
      {
        "duration": 382,
        "start_time": "2024-05-26T18:08:21.802Z"
      },
      {
        "duration": 5,
        "start_time": "2024-05-26T18:26:39.804Z"
      },
      {
        "duration": 11,
        "start_time": "2024-05-26T18:27:15.391Z"
      },
      {
        "duration": 5,
        "start_time": "2024-05-26T18:29:19.235Z"
      },
      {
        "duration": 1700,
        "start_time": "2024-05-26T18:39:58.499Z"
      },
      {
        "duration": 69,
        "start_time": "2024-05-26T18:40:00.201Z"
      },
      {
        "duration": 13,
        "start_time": "2024-05-26T18:40:00.272Z"
      },
      {
        "duration": 69,
        "start_time": "2024-05-26T18:40:00.286Z"
      },
      {
        "duration": 39,
        "start_time": "2024-05-26T18:40:00.357Z"
      },
      {
        "duration": 30,
        "start_time": "2024-05-26T18:40:00.397Z"
      },
      {
        "duration": 22,
        "start_time": "2024-05-26T18:40:00.429Z"
      },
      {
        "duration": 26,
        "start_time": "2024-05-26T18:40:00.453Z"
      },
      {
        "duration": 52,
        "start_time": "2024-05-26T18:40:00.481Z"
      },
      {
        "duration": 26,
        "start_time": "2024-05-26T18:40:00.535Z"
      },
      {
        "duration": 46,
        "start_time": "2024-05-26T18:40:00.562Z"
      },
      {
        "duration": 19,
        "start_time": "2024-05-26T18:40:00.609Z"
      },
      {
        "duration": 29,
        "start_time": "2024-05-26T18:40:00.629Z"
      },
      {
        "duration": 20,
        "start_time": "2024-05-26T18:40:00.660Z"
      },
      {
        "duration": 35,
        "start_time": "2024-05-26T18:40:00.681Z"
      },
      {
        "duration": 31,
        "start_time": "2024-05-26T18:40:00.718Z"
      },
      {
        "duration": 66,
        "start_time": "2024-05-26T18:40:00.751Z"
      },
      {
        "duration": 59,
        "start_time": "2024-05-26T18:40:00.818Z"
      },
      {
        "duration": 36,
        "start_time": "2024-05-26T18:40:00.879Z"
      },
      {
        "duration": 355,
        "start_time": "2024-05-26T18:40:00.916Z"
      },
      {
        "duration": 232,
        "start_time": "2024-05-26T18:40:01.273Z"
      },
      {
        "duration": 262,
        "start_time": "2024-05-26T18:40:01.506Z"
      },
      {
        "duration": 323,
        "start_time": "2024-05-26T18:40:01.770Z"
      },
      {
        "duration": 424,
        "start_time": "2024-05-26T18:40:02.100Z"
      },
      {
        "duration": 22,
        "start_time": "2024-05-26T18:40:02.525Z"
      },
      {
        "duration": 9,
        "start_time": "2024-05-26T18:40:02.548Z"
      },
      {
        "duration": 4,
        "start_time": "2024-05-26T18:40:02.558Z"
      },
      {
        "duration": 5,
        "start_time": "2024-05-26T18:40:02.564Z"
      },
      {
        "duration": 260,
        "start_time": "2024-05-26T18:40:02.570Z"
      },
      {
        "duration": 209,
        "start_time": "2024-05-26T18:40:02.831Z"
      },
      {
        "duration": 15,
        "start_time": "2024-05-26T18:40:03.041Z"
      },
      {
        "duration": 31,
        "start_time": "2024-05-26T18:40:03.057Z"
      },
      {
        "duration": 12,
        "start_time": "2024-05-26T18:40:03.089Z"
      },
      {
        "duration": 14,
        "start_time": "2024-05-26T18:40:03.102Z"
      },
      {
        "duration": 13,
        "start_time": "2024-05-26T18:40:03.117Z"
      },
      {
        "duration": 10,
        "start_time": "2024-05-26T18:40:03.131Z"
      },
      {
        "duration": 726,
        "start_time": "2024-05-26T18:40:03.143Z"
      },
      {
        "duration": 4,
        "start_time": "2024-05-26T18:40:03.871Z"
      },
      {
        "duration": 2,
        "start_time": "2024-05-26T18:40:03.877Z"
      },
      {
        "duration": 605,
        "start_time": "2024-05-26T18:40:03.881Z"
      },
      {
        "duration": 3,
        "start_time": "2024-05-26T18:40:04.489Z"
      },
      {
        "duration": 4,
        "start_time": "2024-05-26T18:40:04.499Z"
      },
      {
        "duration": 4,
        "start_time": "2024-05-26T18:40:04.504Z"
      },
      {
        "duration": 547,
        "start_time": "2024-05-26T18:40:04.510Z"
      },
      {
        "duration": 5,
        "start_time": "2024-05-26T18:40:05.059Z"
      },
      {
        "duration": 3,
        "start_time": "2024-05-26T18:40:05.065Z"
      },
      {
        "duration": 103,
        "start_time": "2024-05-26T18:40:05.069Z"
      },
      {
        "duration": 3,
        "start_time": "2024-05-26T18:40:05.174Z"
      },
      {
        "duration": 290,
        "start_time": "2024-05-26T18:40:05.178Z"
      },
      {
        "duration": 2,
        "start_time": "2024-05-26T18:40:05.469Z"
      },
      {
        "duration": 8,
        "start_time": "2024-05-26T18:40:05.473Z"
      },
      {
        "duration": 9,
        "start_time": "2024-05-26T18:40:05.482Z"
      },
      {
        "duration": 407,
        "start_time": "2024-05-26T18:40:05.500Z"
      },
      {
        "duration": 1558,
        "start_time": "2024-05-26T18:42:22.958Z"
      },
      {
        "duration": 67,
        "start_time": "2024-05-26T18:42:24.518Z"
      },
      {
        "duration": 13,
        "start_time": "2024-05-26T18:42:24.586Z"
      },
      {
        "duration": 12,
        "start_time": "2024-05-26T18:42:24.601Z"
      },
      {
        "duration": 9,
        "start_time": "2024-05-26T18:42:24.615Z"
      },
      {
        "duration": 5,
        "start_time": "2024-05-26T18:42:24.626Z"
      },
      {
        "duration": 8,
        "start_time": "2024-05-26T18:42:24.632Z"
      },
      {
        "duration": 4,
        "start_time": "2024-05-26T18:42:24.641Z"
      },
      {
        "duration": 11,
        "start_time": "2024-05-26T18:42:24.647Z"
      },
      {
        "duration": 7,
        "start_time": "2024-05-26T18:42:24.659Z"
      },
      {
        "duration": 10,
        "start_time": "2024-05-26T18:42:24.699Z"
      },
      {
        "duration": 2,
        "start_time": "2024-05-26T18:42:24.711Z"
      },
      {
        "duration": 5,
        "start_time": "2024-05-26T18:42:24.714Z"
      },
      {
        "duration": 12,
        "start_time": "2024-05-26T18:42:24.721Z"
      },
      {
        "duration": 8,
        "start_time": "2024-05-26T18:42:24.734Z"
      },
      {
        "duration": 5,
        "start_time": "2024-05-26T18:42:24.743Z"
      },
      {
        "duration": 6,
        "start_time": "2024-05-26T18:42:24.749Z"
      },
      {
        "duration": 4,
        "start_time": "2024-05-26T18:42:24.756Z"
      },
      {
        "duration": 8,
        "start_time": "2024-05-26T18:42:24.762Z"
      },
      {
        "duration": 305,
        "start_time": "2024-05-26T18:42:24.771Z"
      },
      {
        "duration": 231,
        "start_time": "2024-05-26T18:42:25.078Z"
      },
      {
        "duration": 243,
        "start_time": "2024-05-26T18:42:25.310Z"
      },
      {
        "duration": 325,
        "start_time": "2024-05-26T18:42:25.554Z"
      },
      {
        "duration": 400,
        "start_time": "2024-05-26T18:42:25.880Z"
      },
      {
        "duration": 28,
        "start_time": "2024-05-26T18:42:26.282Z"
      },
      {
        "duration": 8,
        "start_time": "2024-05-26T18:42:26.312Z"
      },
      {
        "duration": 3,
        "start_time": "2024-05-26T18:42:26.322Z"
      },
      {
        "duration": 5,
        "start_time": "2024-05-26T18:42:26.327Z"
      },
      {
        "duration": 190,
        "start_time": "2024-05-26T18:42:26.334Z"
      },
      {
        "duration": 194,
        "start_time": "2024-05-26T18:42:26.525Z"
      },
      {
        "duration": 16,
        "start_time": "2024-05-26T18:42:26.720Z"
      },
      {
        "duration": 15,
        "start_time": "2024-05-26T18:42:26.738Z"
      },
      {
        "duration": 5,
        "start_time": "2024-05-26T18:42:26.755Z"
      },
      {
        "duration": 38,
        "start_time": "2024-05-26T18:42:26.762Z"
      },
      {
        "duration": 12,
        "start_time": "2024-05-26T18:42:26.802Z"
      },
      {
        "duration": 8,
        "start_time": "2024-05-26T18:42:26.815Z"
      },
      {
        "duration": 623,
        "start_time": "2024-05-26T18:42:26.824Z"
      },
      {
        "duration": 4,
        "start_time": "2024-05-26T18:42:27.449Z"
      },
      {
        "duration": 5,
        "start_time": "2024-05-26T18:42:27.454Z"
      },
      {
        "duration": 621,
        "start_time": "2024-05-26T18:42:27.460Z"
      },
      {
        "duration": 3,
        "start_time": "2024-05-26T18:42:28.086Z"
      },
      {
        "duration": 4,
        "start_time": "2024-05-26T18:42:28.099Z"
      },
      {
        "duration": 4,
        "start_time": "2024-05-26T18:42:28.104Z"
      },
      {
        "duration": 478,
        "start_time": "2024-05-26T18:42:28.109Z"
      },
      {
        "duration": 4,
        "start_time": "2024-05-26T18:42:28.589Z"
      },
      {
        "duration": 2,
        "start_time": "2024-05-26T18:42:28.600Z"
      },
      {
        "duration": 96,
        "start_time": "2024-05-26T18:42:28.603Z"
      },
      {
        "duration": 3,
        "start_time": "2024-05-26T18:42:28.701Z"
      },
      {
        "duration": 269,
        "start_time": "2024-05-26T18:42:28.705Z"
      },
      {
        "duration": 3,
        "start_time": "2024-05-26T18:42:28.975Z"
      },
      {
        "duration": 13,
        "start_time": "2024-05-26T18:42:28.979Z"
      },
      {
        "duration": 9,
        "start_time": "2024-05-26T18:42:28.993Z"
      },
      {
        "duration": 384,
        "start_time": "2024-05-26T18:42:29.003Z"
      },
      {
        "duration": 1626,
        "start_time": "2024-05-26T18:42:39.071Z"
      },
      {
        "duration": 65,
        "start_time": "2024-05-26T18:42:40.700Z"
      },
      {
        "duration": 14,
        "start_time": "2024-05-26T18:42:40.766Z"
      },
      {
        "duration": 13,
        "start_time": "2024-05-26T18:42:40.781Z"
      },
      {
        "duration": 10,
        "start_time": "2024-05-26T18:42:40.796Z"
      },
      {
        "duration": 7,
        "start_time": "2024-05-26T18:42:40.807Z"
      },
      {
        "duration": 8,
        "start_time": "2024-05-26T18:42:40.815Z"
      },
      {
        "duration": 4,
        "start_time": "2024-05-26T18:42:40.825Z"
      },
      {
        "duration": 18,
        "start_time": "2024-05-26T18:42:40.830Z"
      },
      {
        "duration": 5,
        "start_time": "2024-05-26T18:42:40.850Z"
      },
      {
        "duration": 10,
        "start_time": "2024-05-26T18:42:40.856Z"
      },
      {
        "duration": 2,
        "start_time": "2024-05-26T18:42:40.867Z"
      },
      {
        "duration": 28,
        "start_time": "2024-05-26T18:42:40.871Z"
      },
      {
        "duration": 2,
        "start_time": "2024-05-26T18:42:40.902Z"
      },
      {
        "duration": 4,
        "start_time": "2024-05-26T18:42:40.905Z"
      },
      {
        "duration": 5,
        "start_time": "2024-05-26T18:42:40.910Z"
      },
      {
        "duration": 5,
        "start_time": "2024-05-26T18:42:40.917Z"
      },
      {
        "duration": 5,
        "start_time": "2024-05-26T18:42:40.924Z"
      },
      {
        "duration": 4,
        "start_time": "2024-05-26T18:42:40.930Z"
      },
      {
        "duration": 333,
        "start_time": "2024-05-26T18:42:40.935Z"
      },
      {
        "duration": 236,
        "start_time": "2024-05-26T18:42:41.269Z"
      },
      {
        "duration": 267,
        "start_time": "2024-05-26T18:42:41.507Z"
      },
      {
        "duration": 310,
        "start_time": "2024-05-26T18:42:41.775Z"
      },
      {
        "duration": 403,
        "start_time": "2024-05-26T18:42:42.086Z"
      },
      {
        "duration": 27,
        "start_time": "2024-05-26T18:42:42.490Z"
      },
      {
        "duration": 8,
        "start_time": "2024-05-26T18:42:42.518Z"
      },
      {
        "duration": 3,
        "start_time": "2024-05-26T18:42:42.527Z"
      },
      {
        "duration": 5,
        "start_time": "2024-05-26T18:42:42.531Z"
      },
      {
        "duration": 197,
        "start_time": "2024-05-26T18:42:42.537Z"
      },
      {
        "duration": 202,
        "start_time": "2024-05-26T18:42:42.735Z"
      },
      {
        "duration": 17,
        "start_time": "2024-05-26T18:42:42.938Z"
      },
      {
        "duration": 16,
        "start_time": "2024-05-26T18:42:42.957Z"
      },
      {
        "duration": 31,
        "start_time": "2024-05-26T18:42:42.974Z"
      },
      {
        "duration": 18,
        "start_time": "2024-05-26T18:42:43.006Z"
      },
      {
        "duration": 12,
        "start_time": "2024-05-26T18:42:43.026Z"
      },
      {
        "duration": 8,
        "start_time": "2024-05-26T18:42:43.039Z"
      },
      {
        "duration": 616,
        "start_time": "2024-05-26T18:42:43.048Z"
      },
      {
        "duration": 5,
        "start_time": "2024-05-26T18:42:43.665Z"
      },
      {
        "duration": 3,
        "start_time": "2024-05-26T18:42:43.671Z"
      },
      {
        "duration": 626,
        "start_time": "2024-05-26T18:42:43.675Z"
      },
      {
        "duration": 3,
        "start_time": "2024-05-26T18:42:44.305Z"
      },
      {
        "duration": 11,
        "start_time": "2024-05-26T18:42:44.310Z"
      },
      {
        "duration": 10,
        "start_time": "2024-05-26T18:42:44.322Z"
      },
      {
        "duration": 533,
        "start_time": "2024-05-26T18:42:44.334Z"
      },
      {
        "duration": 5,
        "start_time": "2024-05-26T18:42:44.869Z"
      },
      {
        "duration": 4,
        "start_time": "2024-05-26T18:42:44.875Z"
      },
      {
        "duration": 101,
        "start_time": "2024-05-26T18:42:44.881Z"
      },
      {
        "duration": 3,
        "start_time": "2024-05-26T18:42:44.985Z"
      },
      {
        "duration": 271,
        "start_time": "2024-05-26T18:42:45.000Z"
      },
      {
        "duration": 2,
        "start_time": "2024-05-26T18:42:45.273Z"
      },
      {
        "duration": 8,
        "start_time": "2024-05-26T18:42:45.276Z"
      },
      {
        "duration": 4,
        "start_time": "2024-05-26T18:42:45.286Z"
      },
      {
        "duration": 390,
        "start_time": "2024-05-26T18:42:45.300Z"
      },
      {
        "duration": 1417,
        "start_time": "2024-05-27T11:08:01.832Z"
      },
      {
        "duration": 205,
        "start_time": "2024-05-27T11:08:06.627Z"
      },
      {
        "duration": 22,
        "start_time": "2024-05-27T11:09:38.055Z"
      },
      {
        "duration": 63,
        "start_time": "2024-05-27T11:09:55.196Z"
      },
      {
        "duration": 18,
        "start_time": "2024-05-27T11:10:09.513Z"
      },
      {
        "duration": 18,
        "start_time": "2024-05-27T11:10:38.897Z"
      },
      {
        "duration": 19,
        "start_time": "2024-05-27T11:11:13.700Z"
      },
      {
        "duration": 18,
        "start_time": "2024-05-27T11:11:37.942Z"
      },
      {
        "duration": 13,
        "start_time": "2024-05-27T11:14:49.862Z"
      },
      {
        "duration": 97,
        "start_time": "2024-05-27T11:15:11.955Z"
      },
      {
        "duration": 8,
        "start_time": "2024-05-27T11:15:15.306Z"
      },
      {
        "duration": 16,
        "start_time": "2024-05-27T11:15:55.112Z"
      },
      {
        "duration": 14,
        "start_time": "2024-05-27T11:16:06.560Z"
      },
      {
        "duration": 9,
        "start_time": "2024-05-27T11:18:06.151Z"
      },
      {
        "duration": 6,
        "start_time": "2024-05-27T11:19:22.428Z"
      },
      {
        "duration": 11,
        "start_time": "2024-05-27T11:19:23.138Z"
      },
      {
        "duration": 3,
        "start_time": "2024-05-27T11:19:27.603Z"
      },
      {
        "duration": 5,
        "start_time": "2024-05-27T11:19:28.144Z"
      },
      {
        "duration": 2,
        "start_time": "2024-05-27T11:19:28.571Z"
      },
      {
        "duration": 3,
        "start_time": "2024-05-27T11:19:29.800Z"
      },
      {
        "duration": 7,
        "start_time": "2024-05-27T11:19:36.010Z"
      },
      {
        "duration": 7,
        "start_time": "2024-05-27T11:19:36.616Z"
      },
      {
        "duration": 6,
        "start_time": "2024-05-27T11:19:40.728Z"
      },
      {
        "duration": 5,
        "start_time": "2024-05-27T11:19:41.214Z"
      },
      {
        "duration": 166,
        "start_time": "2024-05-27T11:20:47.838Z"
      },
      {
        "duration": 171,
        "start_time": "2024-05-27T11:22:04.049Z"
      },
      {
        "duration": 139,
        "start_time": "2024-05-27T11:22:31.707Z"
      },
      {
        "duration": 1102,
        "start_time": "2024-05-27T11:25:37.262Z"
      },
      {
        "duration": 131,
        "start_time": "2024-05-27T11:25:42.130Z"
      },
      {
        "duration": 1023,
        "start_time": "2024-05-27T11:26:42.460Z"
      },
      {
        "duration": 16,
        "start_time": "2024-05-27T11:26:59.329Z"
      },
      {
        "duration": 5,
        "start_time": "2024-05-27T11:27:52.802Z"
      },
      {
        "duration": 4,
        "start_time": "2024-05-27T11:28:42.436Z"
      },
      {
        "duration": 5,
        "start_time": "2024-05-27T11:29:31.278Z"
      },
      {
        "duration": 13,
        "start_time": "2024-05-27T11:30:44.408Z"
      },
      {
        "duration": 129,
        "start_time": "2024-05-27T11:30:53.777Z"
      },
      {
        "duration": 86,
        "start_time": "2024-05-27T11:31:31.229Z"
      },
      {
        "duration": 138,
        "start_time": "2024-05-27T11:33:25.558Z"
      },
      {
        "duration": 14,
        "start_time": "2024-05-27T11:34:34.803Z"
      },
      {
        "duration": 90,
        "start_time": "2024-05-27T11:34:39.077Z"
      },
      {
        "duration": 13,
        "start_time": "2024-05-27T11:35:32.259Z"
      },
      {
        "duration": 154,
        "start_time": "2024-05-27T11:35:38.030Z"
      },
      {
        "duration": 12,
        "start_time": "2024-05-27T11:37:10.750Z"
      },
      {
        "duration": 13,
        "start_time": "2024-05-27T11:38:12.076Z"
      },
      {
        "duration": 82,
        "start_time": "2024-05-27T11:38:30.925Z"
      },
      {
        "duration": 13,
        "start_time": "2024-05-27T11:38:52.654Z"
      },
      {
        "duration": 88,
        "start_time": "2024-05-27T11:38:57.234Z"
      },
      {
        "duration": 186,
        "start_time": "2024-05-27T11:40:17.482Z"
      },
      {
        "duration": 250,
        "start_time": "2024-05-27T11:40:27.476Z"
      },
      {
        "duration": 232,
        "start_time": "2024-05-27T11:41:54.854Z"
      },
      {
        "duration": 252,
        "start_time": "2024-05-27T11:44:33.755Z"
      },
      {
        "duration": 101,
        "start_time": "2024-05-27T11:46:13.352Z"
      },
      {
        "duration": 176,
        "start_time": "2024-05-27T11:48:32.610Z"
      },
      {
        "duration": 117,
        "start_time": "2024-05-27T11:50:01.159Z"
      },
      {
        "duration": 111,
        "start_time": "2024-05-27T11:50:22.091Z"
      },
      {
        "duration": 113,
        "start_time": "2024-05-27T11:51:03.292Z"
      },
      {
        "duration": 126,
        "start_time": "2024-05-27T11:52:49.662Z"
      },
      {
        "duration": 111,
        "start_time": "2024-05-27T11:53:18.409Z"
      },
      {
        "duration": 112,
        "start_time": "2024-05-27T11:53:26.971Z"
      },
      {
        "duration": 102,
        "start_time": "2024-05-27T11:54:24.657Z"
      },
      {
        "duration": 132,
        "start_time": "2024-05-27T12:15:15.923Z"
      },
      {
        "duration": 8,
        "start_time": "2024-05-27T12:18:15.038Z"
      },
      {
        "duration": 6,
        "start_time": "2024-05-27T12:18:26.504Z"
      },
      {
        "duration": 6,
        "start_time": "2024-05-27T12:18:38.005Z"
      },
      {
        "duration": 10,
        "start_time": "2024-05-27T12:18:42.608Z"
      },
      {
        "duration": 7,
        "start_time": "2024-05-27T12:25:33.198Z"
      },
      {
        "duration": 276,
        "start_time": "2024-05-27T12:26:52.001Z"
      },
      {
        "duration": 229,
        "start_time": "2024-05-27T12:30:15.294Z"
      },
      {
        "duration": 9,
        "start_time": "2024-05-27T12:33:04.634Z"
      },
      {
        "duration": 9,
        "start_time": "2024-05-27T12:34:13.180Z"
      },
      {
        "duration": 10,
        "start_time": "2024-05-27T12:34:22.544Z"
      },
      {
        "duration": 10,
        "start_time": "2024-05-27T12:34:52.492Z"
      },
      {
        "duration": 8,
        "start_time": "2024-05-27T12:35:24.117Z"
      },
      {
        "duration": 7,
        "start_time": "2024-05-27T12:35:35.314Z"
      },
      {
        "duration": 7,
        "start_time": "2024-05-27T12:35:51.579Z"
      },
      {
        "duration": 7,
        "start_time": "2024-05-27T12:39:23.734Z"
      },
      {
        "duration": 8,
        "start_time": "2024-05-27T12:39:35.442Z"
      },
      {
        "duration": 8,
        "start_time": "2024-05-27T12:41:14.703Z"
      },
      {
        "duration": 32,
        "start_time": "2024-05-27T12:41:21.897Z"
      },
      {
        "duration": 10,
        "start_time": "2024-05-27T12:41:24.643Z"
      },
      {
        "duration": 3,
        "start_time": "2024-05-27T12:41:25.156Z"
      },
      {
        "duration": 6,
        "start_time": "2024-05-27T12:41:26.066Z"
      },
      {
        "duration": 10,
        "start_time": "2024-05-27T12:41:29.524Z"
      },
      {
        "duration": 19,
        "start_time": "2024-05-27T12:42:27.862Z"
      },
      {
        "duration": 92,
        "start_time": "2024-05-27T12:44:52.841Z"
      },
      {
        "duration": 118,
        "start_time": "2024-05-27T12:45:09.110Z"
      },
      {
        "duration": 124,
        "start_time": "2024-05-27T12:49:32.654Z"
      },
      {
        "duration": 120,
        "start_time": "2024-05-27T12:49:40.063Z"
      },
      {
        "duration": 131,
        "start_time": "2024-05-27T12:51:37.331Z"
      },
      {
        "duration": 125,
        "start_time": "2024-05-27T12:52:05.029Z"
      },
      {
        "duration": 124,
        "start_time": "2024-05-27T12:55:34.750Z"
      },
      {
        "duration": 140,
        "start_time": "2024-05-27T12:55:52.041Z"
      },
      {
        "duration": 134,
        "start_time": "2024-05-27T12:56:09.391Z"
      },
      {
        "duration": 127,
        "start_time": "2024-05-27T12:56:18.452Z"
      },
      {
        "duration": 127,
        "start_time": "2024-05-27T12:57:01.884Z"
      },
      {
        "duration": 3,
        "start_time": "2024-05-27T12:57:17.244Z"
      },
      {
        "duration": 111,
        "start_time": "2024-05-27T12:57:36.950Z"
      },
      {
        "duration": 4,
        "start_time": "2024-05-27T12:58:16.590Z"
      },
      {
        "duration": 125,
        "start_time": "2024-05-27T12:58:19.037Z"
      },
      {
        "duration": 129,
        "start_time": "2024-05-27T12:58:30.177Z"
      },
      {
        "duration": 157,
        "start_time": "2024-05-27T12:58:50.987Z"
      },
      {
        "duration": 226,
        "start_time": "2024-05-27T12:59:03.222Z"
      },
      {
        "duration": 9,
        "start_time": "2024-05-27T13:01:10.260Z"
      },
      {
        "duration": 66,
        "start_time": "2024-05-27T13:01:15.189Z"
      },
      {
        "duration": 1083,
        "start_time": "2024-05-27T13:02:15.748Z"
      },
      {
        "duration": 39,
        "start_time": "2024-05-27T13:02:37.781Z"
      },
      {
        "duration": 27,
        "start_time": "2024-05-27T13:02:54.881Z"
      },
      {
        "duration": 29,
        "start_time": "2024-05-27T13:03:58.784Z"
      },
      {
        "duration": 32,
        "start_time": "2024-05-27T13:14:43.495Z"
      },
      {
        "duration": 24,
        "start_time": "2024-05-27T13:15:00.601Z"
      },
      {
        "duration": 10,
        "start_time": "2024-05-27T13:15:06.122Z"
      },
      {
        "duration": 18,
        "start_time": "2024-05-27T13:15:06.842Z"
      },
      {
        "duration": 17,
        "start_time": "2024-05-27T13:15:08.256Z"
      },
      {
        "duration": 7,
        "start_time": "2024-05-27T13:15:18.521Z"
      },
      {
        "duration": 7,
        "start_time": "2024-05-27T13:17:03.256Z"
      },
      {
        "duration": 8,
        "start_time": "2024-05-27T13:17:21.490Z"
      },
      {
        "duration": 607,
        "start_time": "2024-05-27T13:33:23.980Z"
      },
      {
        "duration": 4,
        "start_time": "2024-05-27T13:33:27.151Z"
      },
      {
        "duration": 3,
        "start_time": "2024-05-27T13:33:29.607Z"
      },
      {
        "duration": 3,
        "start_time": "2024-05-27T13:38:37.049Z"
      },
      {
        "duration": 4,
        "start_time": "2024-05-27T13:39:37.933Z"
      },
      {
        "duration": 4,
        "start_time": "2024-05-27T13:39:43.399Z"
      },
      {
        "duration": 5,
        "start_time": "2024-05-27T13:39:49.695Z"
      },
      {
        "duration": 4,
        "start_time": "2024-05-27T13:43:02.778Z"
      },
      {
        "duration": 7,
        "start_time": "2024-05-27T13:50:56.723Z"
      },
      {
        "duration": 5,
        "start_time": "2024-05-27T13:55:20.254Z"
      },
      {
        "duration": 11,
        "start_time": "2024-05-27T13:55:21.648Z"
      },
      {
        "duration": 3,
        "start_time": "2024-05-27T13:55:44.095Z"
      },
      {
        "duration": 5,
        "start_time": "2024-05-27T13:55:50.316Z"
      },
      {
        "duration": 3,
        "start_time": "2024-05-27T13:55:52.269Z"
      },
      {
        "duration": 4,
        "start_time": "2024-05-27T13:56:51.673Z"
      },
      {
        "duration": 5,
        "start_time": "2024-05-27T14:10:40.873Z"
      },
      {
        "duration": 5,
        "start_time": "2024-05-27T14:11:03.831Z"
      },
      {
        "duration": 6,
        "start_time": "2024-05-27T14:11:13.871Z"
      },
      {
        "duration": 12,
        "start_time": "2024-05-27T14:14:38.756Z"
      },
      {
        "duration": 11,
        "start_time": "2024-05-27T14:14:50.231Z"
      },
      {
        "duration": 8,
        "start_time": "2024-05-27T14:15:31.305Z"
      },
      {
        "duration": 5,
        "start_time": "2024-05-27T14:16:09.807Z"
      },
      {
        "duration": 8,
        "start_time": "2024-05-27T14:19:38.534Z"
      },
      {
        "duration": 8,
        "start_time": "2024-05-27T14:20:03.421Z"
      },
      {
        "duration": 8,
        "start_time": "2024-05-27T14:20:19.027Z"
      },
      {
        "duration": 1194,
        "start_time": "2024-05-27T14:22:54.293Z"
      },
      {
        "duration": 19,
        "start_time": "2024-05-27T14:23:00.766Z"
      },
      {
        "duration": 12,
        "start_time": "2024-05-27T14:23:45.266Z"
      },
      {
        "duration": 6,
        "start_time": "2024-05-27T14:25:38.129Z"
      },
      {
        "duration": 6,
        "start_time": "2024-05-27T14:25:54.760Z"
      },
      {
        "duration": 7,
        "start_time": "2024-05-27T14:26:21.103Z"
      },
      {
        "duration": 7,
        "start_time": "2024-05-27T14:27:12.817Z"
      },
      {
        "duration": 7,
        "start_time": "2024-05-27T14:31:10.105Z"
      },
      {
        "duration": 8,
        "start_time": "2024-05-27T14:31:27.335Z"
      },
      {
        "duration": 11,
        "start_time": "2024-05-27T14:31:36.181Z"
      },
      {
        "duration": 1043,
        "start_time": "2024-05-27T21:17:11.007Z"
      },
      {
        "duration": 203,
        "start_time": "2024-05-27T21:17:12.052Z"
      },
      {
        "duration": 19,
        "start_time": "2024-05-27T21:17:12.256Z"
      },
      {
        "duration": 14,
        "start_time": "2024-05-27T21:17:12.276Z"
      },
      {
        "duration": 12,
        "start_time": "2024-05-27T21:17:12.291Z"
      },
      {
        "duration": 5,
        "start_time": "2024-05-27T21:17:12.304Z"
      },
      {
        "duration": 24,
        "start_time": "2024-05-27T21:17:12.310Z"
      },
      {
        "duration": 16,
        "start_time": "2024-05-27T21:17:12.336Z"
      },
      {
        "duration": 21,
        "start_time": "2024-05-27T21:17:12.354Z"
      },
      {
        "duration": 15,
        "start_time": "2024-05-27T21:17:12.376Z"
      },
      {
        "duration": 14,
        "start_time": "2024-05-27T21:17:12.392Z"
      },
      {
        "duration": 14,
        "start_time": "2024-05-27T21:17:12.407Z"
      },
      {
        "duration": 22,
        "start_time": "2024-05-27T21:17:12.422Z"
      },
      {
        "duration": 27,
        "start_time": "2024-05-27T21:17:12.446Z"
      },
      {
        "duration": 2,
        "start_time": "2024-05-27T21:17:12.474Z"
      },
      {
        "duration": 5,
        "start_time": "2024-05-27T21:17:12.477Z"
      },
      {
        "duration": 14,
        "start_time": "2024-05-27T21:17:12.483Z"
      },
      {
        "duration": 7,
        "start_time": "2024-05-27T21:17:12.499Z"
      },
      {
        "duration": 7,
        "start_time": "2024-05-27T21:17:12.507Z"
      },
      {
        "duration": 7,
        "start_time": "2024-05-27T21:17:12.515Z"
      },
      {
        "duration": 131,
        "start_time": "2024-05-27T21:17:12.523Z"
      },
      {
        "duration": 4,
        "start_time": "2024-05-27T21:17:12.655Z"
      },
      {
        "duration": 77,
        "start_time": "2024-05-27T21:17:12.660Z"
      },
      {
        "duration": 143,
        "start_time": "2024-05-27T21:17:12.738Z"
      },
      {
        "duration": 89,
        "start_time": "2024-05-27T21:17:12.882Z"
      },
      {
        "duration": 219,
        "start_time": "2024-05-27T21:17:12.972Z"
      },
      {
        "duration": 112,
        "start_time": "2024-05-27T21:17:13.192Z"
      },
      {
        "duration": 7,
        "start_time": "2024-05-27T21:17:13.305Z"
      },
      {
        "duration": 248,
        "start_time": "2024-05-27T21:17:13.314Z"
      },
      {
        "duration": 103,
        "start_time": "2024-05-27T21:17:13.563Z"
      },
      {
        "duration": 6,
        "start_time": "2024-05-27T21:17:13.667Z"
      },
      {
        "duration": 37,
        "start_time": "2024-05-27T21:17:13.674Z"
      },
      {
        "duration": 11,
        "start_time": "2024-05-27T21:17:13.712Z"
      },
      {
        "duration": 3,
        "start_time": "2024-05-27T21:17:13.724Z"
      },
      {
        "duration": 5,
        "start_time": "2024-05-27T21:17:13.728Z"
      },
      {
        "duration": 12,
        "start_time": "2024-05-27T21:17:13.734Z"
      },
      {
        "duration": 3,
        "start_time": "2024-05-27T21:17:13.747Z"
      },
      {
        "duration": 123,
        "start_time": "2024-05-27T21:17:13.751Z"
      },
      {
        "duration": 103,
        "start_time": "2024-05-27T21:17:13.875Z"
      },
      {
        "duration": 32,
        "start_time": "2024-05-27T21:17:13.980Z"
      },
      {
        "duration": 15,
        "start_time": "2024-05-27T21:17:14.015Z"
      },
      {
        "duration": 5,
        "start_time": "2024-05-27T21:17:14.031Z"
      },
      {
        "duration": 28,
        "start_time": "2024-05-27T21:17:14.037Z"
      },
      {
        "duration": 5,
        "start_time": "2024-05-27T21:17:14.066Z"
      },
      {
        "duration": 13,
        "start_time": "2024-05-27T21:17:14.072Z"
      },
      {
        "duration": 26,
        "start_time": "2024-05-27T21:17:14.086Z"
      },
      {
        "duration": 12,
        "start_time": "2024-05-27T21:17:14.113Z"
      },
      {
        "duration": 4,
        "start_time": "2024-05-27T21:17:14.126Z"
      },
      {
        "duration": 4,
        "start_time": "2024-05-27T21:17:14.131Z"
      },
      {
        "duration": 4,
        "start_time": "2024-05-27T21:17:14.136Z"
      },
      {
        "duration": 9,
        "start_time": "2024-05-27T21:17:14.141Z"
      },
      {
        "duration": 480,
        "start_time": "2024-05-27T21:17:14.151Z"
      },
      {
        "duration": 4,
        "start_time": "2024-05-27T21:17:14.632Z"
      },
      {
        "duration": 10,
        "start_time": "2024-05-27T21:17:14.637Z"
      },
      {
        "duration": 510,
        "start_time": "2024-05-27T21:17:14.648Z"
      },
      {
        "duration": 3,
        "start_time": "2024-05-27T21:17:15.159Z"
      },
      {
        "duration": 14,
        "start_time": "2024-05-27T21:17:15.163Z"
      },
      {
        "duration": 12,
        "start_time": "2024-05-27T21:17:15.178Z"
      },
      {
        "duration": 345,
        "start_time": "2024-05-27T21:17:15.191Z"
      },
      {
        "duration": 4,
        "start_time": "2024-05-27T21:17:15.537Z"
      },
      {
        "duration": 12,
        "start_time": "2024-05-27T21:17:15.543Z"
      },
      {
        "duration": 8,
        "start_time": "2024-05-27T21:17:15.556Z"
      },
      {
        "duration": 4,
        "start_time": "2024-05-27T21:17:15.566Z"
      },
      {
        "duration": 11,
        "start_time": "2024-05-27T21:17:15.571Z"
      },
      {
        "duration": 104,
        "start_time": "2024-05-27T21:17:15.584Z"
      },
      {
        "duration": 3,
        "start_time": "2024-05-27T21:17:15.689Z"
      },
      {
        "duration": 275,
        "start_time": "2024-05-27T21:17:15.693Z"
      },
      {
        "duration": 2,
        "start_time": "2024-05-27T21:17:15.970Z"
      },
      {
        "duration": 21,
        "start_time": "2024-05-27T21:17:15.974Z"
      },
      {
        "duration": 16,
        "start_time": "2024-05-27T21:17:15.996Z"
      },
      {
        "duration": 395,
        "start_time": "2024-05-27T21:17:16.013Z"
      },
      {
        "duration": 86,
        "start_time": "2024-05-27T21:25:46.666Z"
      },
      {
        "duration": 9,
        "start_time": "2024-05-27T21:25:55.492Z"
      },
      {
        "duration": 8,
        "start_time": "2024-05-27T21:25:57.740Z"
      },
      {
        "duration": 5,
        "start_time": "2024-05-27T21:26:39.597Z"
      },
      {
        "duration": 1036,
        "start_time": "2024-05-27T21:37:59.342Z"
      },
      {
        "duration": 66,
        "start_time": "2024-05-27T21:38:00.380Z"
      },
      {
        "duration": 49,
        "start_time": "2024-05-27T21:38:00.448Z"
      },
      {
        "duration": 104,
        "start_time": "2024-05-27T21:38:00.498Z"
      },
      {
        "duration": 52,
        "start_time": "2024-05-27T21:38:00.603Z"
      },
      {
        "duration": 25,
        "start_time": "2024-05-27T21:38:00.657Z"
      },
      {
        "duration": 52,
        "start_time": "2024-05-27T21:38:00.683Z"
      },
      {
        "duration": 18,
        "start_time": "2024-05-27T21:38:00.737Z"
      },
      {
        "duration": 46,
        "start_time": "2024-05-27T21:38:00.756Z"
      },
      {
        "duration": 36,
        "start_time": "2024-05-27T21:38:00.805Z"
      },
      {
        "duration": 30,
        "start_time": "2024-05-27T21:38:00.843Z"
      },
      {
        "duration": 59,
        "start_time": "2024-05-27T21:38:00.874Z"
      },
      {
        "duration": 15,
        "start_time": "2024-05-27T21:38:00.934Z"
      },
      {
        "duration": 47,
        "start_time": "2024-05-27T21:38:00.950Z"
      },
      {
        "duration": 59,
        "start_time": "2024-05-27T21:38:00.998Z"
      },
      {
        "duration": 51,
        "start_time": "2024-05-27T21:38:01.059Z"
      },
      {
        "duration": 67,
        "start_time": "2024-05-27T21:38:01.111Z"
      },
      {
        "duration": 113,
        "start_time": "2024-05-27T21:38:01.180Z"
      },
      {
        "duration": 54,
        "start_time": "2024-05-27T21:38:01.295Z"
      },
      {
        "duration": 83,
        "start_time": "2024-05-27T21:38:01.351Z"
      },
      {
        "duration": 240,
        "start_time": "2024-05-27T21:38:01.436Z"
      },
      {
        "duration": 4,
        "start_time": "2024-05-27T21:38:01.678Z"
      },
      {
        "duration": 130,
        "start_time": "2024-05-27T21:38:01.683Z"
      },
      {
        "duration": 136,
        "start_time": "2024-05-27T21:38:01.814Z"
      },
      {
        "duration": 86,
        "start_time": "2024-05-27T21:38:01.952Z"
      },
      {
        "duration": 207,
        "start_time": "2024-05-27T21:38:02.039Z"
      },
      {
        "duration": 103,
        "start_time": "2024-05-27T21:38:02.248Z"
      },
      {
        "duration": 8,
        "start_time": "2024-05-27T21:38:02.356Z"
      },
      {
        "duration": 249,
        "start_time": "2024-05-27T21:38:02.366Z"
      },
      {
        "duration": 113,
        "start_time": "2024-05-27T21:38:02.617Z"
      },
      {
        "duration": 7,
        "start_time": "2024-05-27T21:38:02.731Z"
      },
      {
        "duration": 25,
        "start_time": "2024-05-27T21:38:02.740Z"
      },
      {
        "duration": 8,
        "start_time": "2024-05-27T21:38:02.766Z"
      },
      {
        "duration": 7,
        "start_time": "2024-05-27T21:38:02.775Z"
      },
      {
        "duration": 21,
        "start_time": "2024-05-27T21:38:02.783Z"
      },
      {
        "duration": 22,
        "start_time": "2024-05-27T21:38:02.806Z"
      },
      {
        "duration": 3,
        "start_time": "2024-05-27T21:38:02.829Z"
      },
      {
        "duration": 110,
        "start_time": "2024-05-27T21:38:02.833Z"
      },
      {
        "duration": 109,
        "start_time": "2024-05-27T21:38:02.944Z"
      },
      {
        "duration": 22,
        "start_time": "2024-05-27T21:38:03.054Z"
      },
      {
        "duration": 32,
        "start_time": "2024-05-27T21:38:03.078Z"
      },
      {
        "duration": 5,
        "start_time": "2024-05-27T21:38:03.111Z"
      },
      {
        "duration": 16,
        "start_time": "2024-05-27T21:38:03.117Z"
      },
      {
        "duration": 4,
        "start_time": "2024-05-27T21:38:03.134Z"
      },
      {
        "duration": 6,
        "start_time": "2024-05-27T21:38:03.139Z"
      },
      {
        "duration": 13,
        "start_time": "2024-05-27T21:38:03.146Z"
      },
      {
        "duration": 47,
        "start_time": "2024-05-27T21:38:03.160Z"
      },
      {
        "duration": 5,
        "start_time": "2024-05-27T21:38:03.208Z"
      },
      {
        "duration": 7,
        "start_time": "2024-05-27T21:38:03.214Z"
      },
      {
        "duration": 4,
        "start_time": "2024-05-27T21:38:03.222Z"
      },
      {
        "duration": 5,
        "start_time": "2024-05-27T21:38:03.227Z"
      },
      {
        "duration": 496,
        "start_time": "2024-05-27T21:38:03.233Z"
      },
      {
        "duration": 4,
        "start_time": "2024-05-27T21:38:03.730Z"
      },
      {
        "duration": 18,
        "start_time": "2024-05-27T21:38:03.735Z"
      },
      {
        "duration": 3,
        "start_time": "2024-05-27T21:38:03.754Z"
      },
      {
        "duration": 542,
        "start_time": "2024-05-27T21:38:03.758Z"
      },
      {
        "duration": 3,
        "start_time": "2024-05-27T21:38:04.302Z"
      },
      {
        "duration": 7,
        "start_time": "2024-05-27T21:38:04.307Z"
      },
      {
        "duration": 9,
        "start_time": "2024-05-27T21:38:04.315Z"
      },
      {
        "duration": 341,
        "start_time": "2024-05-27T21:38:04.325Z"
      },
      {
        "duration": 5,
        "start_time": "2024-05-27T21:38:04.668Z"
      },
      {
        "duration": 10,
        "start_time": "2024-05-27T21:38:04.674Z"
      },
      {
        "duration": 8,
        "start_time": "2024-05-27T21:38:04.687Z"
      },
      {
        "duration": 6,
        "start_time": "2024-05-27T21:38:04.701Z"
      },
      {
        "duration": 11,
        "start_time": "2024-05-27T21:38:04.709Z"
      },
      {
        "duration": 108,
        "start_time": "2024-05-27T21:38:04.722Z"
      },
      {
        "duration": 3,
        "start_time": "2024-05-27T21:38:04.832Z"
      },
      {
        "duration": 258,
        "start_time": "2024-05-27T21:38:04.836Z"
      },
      {
        "duration": 6,
        "start_time": "2024-05-27T21:38:05.096Z"
      },
      {
        "duration": 10,
        "start_time": "2024-05-27T21:38:05.103Z"
      },
      {
        "duration": 28,
        "start_time": "2024-05-27T21:38:05.115Z"
      },
      {
        "duration": 366,
        "start_time": "2024-05-27T21:38:05.144Z"
      },
      {
        "duration": 1041,
        "start_time": "2024-05-27T21:40:07.327Z"
      },
      {
        "duration": 65,
        "start_time": "2024-05-27T21:40:08.370Z"
      },
      {
        "duration": 19,
        "start_time": "2024-05-27T21:40:08.436Z"
      },
      {
        "duration": 16,
        "start_time": "2024-05-27T21:40:08.456Z"
      },
      {
        "duration": 33,
        "start_time": "2024-05-27T21:40:08.474Z"
      },
      {
        "duration": 14,
        "start_time": "2024-05-27T21:40:08.509Z"
      },
      {
        "duration": 98,
        "start_time": "2024-05-27T21:40:08.524Z"
      },
      {
        "duration": 18,
        "start_time": "2024-05-27T21:40:08.623Z"
      },
      {
        "duration": 24,
        "start_time": "2024-05-27T21:40:08.642Z"
      },
      {
        "duration": 13,
        "start_time": "2024-05-27T21:40:08.667Z"
      },
      {
        "duration": 24,
        "start_time": "2024-05-27T21:40:08.681Z"
      },
      {
        "duration": 22,
        "start_time": "2024-05-27T21:40:08.706Z"
      },
      {
        "duration": 2,
        "start_time": "2024-05-27T21:40:08.730Z"
      },
      {
        "duration": 8,
        "start_time": "2024-05-27T21:40:08.734Z"
      },
      {
        "duration": 6,
        "start_time": "2024-05-27T21:40:08.743Z"
      },
      {
        "duration": 10,
        "start_time": "2024-05-27T21:40:08.751Z"
      },
      {
        "duration": 18,
        "start_time": "2024-05-27T21:40:08.763Z"
      },
      {
        "duration": 5,
        "start_time": "2024-05-27T21:40:08.782Z"
      },
      {
        "duration": 15,
        "start_time": "2024-05-27T21:40:08.788Z"
      },
      {
        "duration": 9,
        "start_time": "2024-05-27T21:40:08.804Z"
      },
      {
        "duration": 130,
        "start_time": "2024-05-27T21:40:08.815Z"
      },
      {
        "duration": 4,
        "start_time": "2024-05-27T21:40:08.946Z"
      },
      {
        "duration": 78,
        "start_time": "2024-05-27T21:40:08.952Z"
      },
      {
        "duration": 162,
        "start_time": "2024-05-27T21:40:09.031Z"
      },
      {
        "duration": 90,
        "start_time": "2024-05-27T21:40:09.194Z"
      },
      {
        "duration": 224,
        "start_time": "2024-05-27T21:40:09.286Z"
      },
      {
        "duration": 112,
        "start_time": "2024-05-27T21:40:09.511Z"
      },
      {
        "duration": 8,
        "start_time": "2024-05-27T21:40:09.624Z"
      },
      {
        "duration": 239,
        "start_time": "2024-05-27T21:40:09.633Z"
      },
      {
        "duration": 100,
        "start_time": "2024-05-27T21:40:09.873Z"
      },
      {
        "duration": 7,
        "start_time": "2024-05-27T21:40:09.974Z"
      },
      {
        "duration": 36,
        "start_time": "2024-05-27T21:40:09.982Z"
      },
      {
        "duration": 29,
        "start_time": "2024-05-27T21:40:10.019Z"
      },
      {
        "duration": 24,
        "start_time": "2024-05-27T21:40:10.049Z"
      },
      {
        "duration": 22,
        "start_time": "2024-05-27T21:40:10.074Z"
      },
      {
        "duration": 25,
        "start_time": "2024-05-27T21:40:10.097Z"
      },
      {
        "duration": 4,
        "start_time": "2024-05-27T21:40:10.123Z"
      },
      {
        "duration": 102,
        "start_time": "2024-05-27T21:40:10.128Z"
      },
      {
        "duration": 121,
        "start_time": "2024-05-27T21:40:10.232Z"
      },
      {
        "duration": 27,
        "start_time": "2024-05-27T21:40:10.355Z"
      },
      {
        "duration": 30,
        "start_time": "2024-05-27T21:40:10.386Z"
      },
      {
        "duration": 5,
        "start_time": "2024-05-27T21:40:10.417Z"
      },
      {
        "duration": 30,
        "start_time": "2024-05-27T21:40:10.423Z"
      },
      {
        "duration": 4,
        "start_time": "2024-05-27T21:40:10.454Z"
      },
      {
        "duration": 8,
        "start_time": "2024-05-27T21:40:10.459Z"
      },
      {
        "duration": 20,
        "start_time": "2024-05-27T21:40:10.468Z"
      },
      {
        "duration": 18,
        "start_time": "2024-05-27T21:40:10.490Z"
      },
      {
        "duration": 3,
        "start_time": "2024-05-27T21:40:10.509Z"
      },
      {
        "duration": 94,
        "start_time": "2024-05-27T21:40:10.513Z"
      },
      {
        "duration": 15,
        "start_time": "2024-05-27T21:40:10.608Z"
      },
      {
        "duration": 9,
        "start_time": "2024-05-27T21:40:10.624Z"
      },
      {
        "duration": 704,
        "start_time": "2024-05-27T21:40:10.635Z"
      },
      {
        "duration": 4,
        "start_time": "2024-05-27T21:40:11.340Z"
      },
      {
        "duration": 59,
        "start_time": "2024-05-27T21:40:11.345Z"
      },
      {
        "duration": 6,
        "start_time": "2024-05-27T21:40:11.405Z"
      },
      {
        "duration": 857,
        "start_time": "2024-05-27T21:40:11.412Z"
      },
      {
        "duration": 3,
        "start_time": "2024-05-27T21:40:12.301Z"
      },
      {
        "duration": 13,
        "start_time": "2024-05-27T21:40:12.305Z"
      },
      {
        "duration": 18,
        "start_time": "2024-05-27T21:40:12.319Z"
      },
      {
        "duration": 362,
        "start_time": "2024-05-27T21:40:12.339Z"
      },
      {
        "duration": 5,
        "start_time": "2024-05-27T21:40:12.702Z"
      },
      {
        "duration": 12,
        "start_time": "2024-05-27T21:40:12.708Z"
      },
      {
        "duration": 7,
        "start_time": "2024-05-27T21:40:12.721Z"
      },
      {
        "duration": 9,
        "start_time": "2024-05-27T21:40:12.729Z"
      },
      {
        "duration": 10,
        "start_time": "2024-05-27T21:40:12.739Z"
      },
      {
        "duration": 113,
        "start_time": "2024-05-27T21:40:12.750Z"
      },
      {
        "duration": 3,
        "start_time": "2024-05-27T21:40:12.864Z"
      },
      {
        "duration": 286,
        "start_time": "2024-05-27T21:40:12.868Z"
      },
      {
        "duration": 2,
        "start_time": "2024-05-27T21:40:13.156Z"
      },
      {
        "duration": 20,
        "start_time": "2024-05-27T21:40:13.160Z"
      },
      {
        "duration": 12,
        "start_time": "2024-05-27T21:40:13.181Z"
      },
      {
        "duration": 407,
        "start_time": "2024-05-27T21:40:13.194Z"
      },
      {
        "duration": 1520,
        "start_time": "2024-05-28T06:46:23.679Z"
      },
      {
        "duration": 218,
        "start_time": "2024-05-28T06:46:25.202Z"
      },
      {
        "duration": 27,
        "start_time": "2024-05-28T06:46:25.422Z"
      },
      {
        "duration": 20,
        "start_time": "2024-05-28T06:46:25.450Z"
      },
      {
        "duration": 21,
        "start_time": "2024-05-28T06:46:25.473Z"
      },
      {
        "duration": 40,
        "start_time": "2024-05-28T06:46:25.496Z"
      },
      {
        "duration": 14,
        "start_time": "2024-05-28T06:46:25.539Z"
      },
      {
        "duration": 6,
        "start_time": "2024-05-28T06:46:25.555Z"
      },
      {
        "duration": 15,
        "start_time": "2024-05-28T06:46:25.563Z"
      },
      {
        "duration": 9,
        "start_time": "2024-05-28T06:46:25.580Z"
      },
      {
        "duration": 43,
        "start_time": "2024-05-28T06:46:25.591Z"
      },
      {
        "duration": 23,
        "start_time": "2024-05-28T06:46:25.636Z"
      },
      {
        "duration": 3,
        "start_time": "2024-05-28T06:46:25.661Z"
      },
      {
        "duration": 10,
        "start_time": "2024-05-28T06:46:25.668Z"
      },
      {
        "duration": 5,
        "start_time": "2024-05-28T06:46:25.680Z"
      },
      {
        "duration": 10,
        "start_time": "2024-05-28T06:46:25.687Z"
      },
      {
        "duration": 32,
        "start_time": "2024-05-28T06:46:25.701Z"
      },
      {
        "duration": 7,
        "start_time": "2024-05-28T06:46:25.736Z"
      },
      {
        "duration": 8,
        "start_time": "2024-05-28T06:46:25.745Z"
      },
      {
        "duration": 11,
        "start_time": "2024-05-28T06:46:25.755Z"
      },
      {
        "duration": 205,
        "start_time": "2024-05-28T06:46:25.767Z"
      },
      {
        "duration": 5,
        "start_time": "2024-05-28T06:46:25.974Z"
      },
      {
        "duration": 101,
        "start_time": "2024-05-28T06:46:25.981Z"
      },
      {
        "duration": 191,
        "start_time": "2024-05-28T06:46:26.084Z"
      },
      {
        "duration": 115,
        "start_time": "2024-05-28T06:46:26.277Z"
      },
      {
        "duration": 282,
        "start_time": "2024-05-28T06:46:26.394Z"
      },
      {
        "duration": 129,
        "start_time": "2024-05-28T06:46:26.677Z"
      },
      {
        "duration": 9,
        "start_time": "2024-05-28T06:46:26.808Z"
      },
      {
        "duration": 333,
        "start_time": "2024-05-28T06:46:26.828Z"
      },
      {
        "duration": 133,
        "start_time": "2024-05-28T06:46:27.163Z"
      },
      {
        "duration": 11,
        "start_time": "2024-05-28T06:46:27.298Z"
      },
      {
        "duration": 53,
        "start_time": "2024-05-28T06:46:27.310Z"
      },
      {
        "duration": 10,
        "start_time": "2024-05-28T06:46:27.364Z"
      },
      {
        "duration": 3,
        "start_time": "2024-05-28T06:46:27.375Z"
      },
      {
        "duration": 6,
        "start_time": "2024-05-28T06:46:27.380Z"
      },
      {
        "duration": 43,
        "start_time": "2024-05-28T06:46:27.387Z"
      },
      {
        "duration": 35,
        "start_time": "2024-05-28T06:46:27.431Z"
      },
      {
        "duration": 201,
        "start_time": "2024-05-28T06:46:27.467Z"
      },
      {
        "duration": 138,
        "start_time": "2024-05-28T06:46:27.669Z"
      },
      {
        "duration": 36,
        "start_time": "2024-05-28T06:46:27.809Z"
      },
      {
        "duration": 22,
        "start_time": "2024-05-28T06:46:27.848Z"
      },
      {
        "duration": 6,
        "start_time": "2024-05-28T06:46:27.871Z"
      },
      {
        "duration": 24,
        "start_time": "2024-05-28T06:46:27.879Z"
      },
      {
        "duration": 28,
        "start_time": "2024-05-28T06:46:27.905Z"
      },
      {
        "duration": 18,
        "start_time": "2024-05-28T06:46:27.935Z"
      },
      {
        "duration": 19,
        "start_time": "2024-05-28T06:46:27.956Z"
      },
      {
        "duration": 22,
        "start_time": "2024-05-28T06:46:27.977Z"
      },
      {
        "duration": 28,
        "start_time": "2024-05-28T06:46:28.001Z"
      },
      {
        "duration": 7,
        "start_time": "2024-05-28T06:46:28.031Z"
      },
      {
        "duration": 75,
        "start_time": "2024-05-28T06:46:28.039Z"
      },
      {
        "duration": 21,
        "start_time": "2024-05-28T06:46:28.116Z"
      },
      {
        "duration": 645,
        "start_time": "2024-05-28T06:46:28.139Z"
      },
      {
        "duration": 5,
        "start_time": "2024-05-28T06:46:28.786Z"
      },
      {
        "duration": 10,
        "start_time": "2024-05-28T06:46:28.793Z"
      },
      {
        "duration": 31,
        "start_time": "2024-05-28T06:46:28.805Z"
      },
      {
        "duration": 630,
        "start_time": "2024-05-28T06:46:28.837Z"
      },
      {
        "duration": 3,
        "start_time": "2024-05-28T06:46:29.469Z"
      },
      {
        "duration": 51,
        "start_time": "2024-05-28T06:46:29.474Z"
      },
      {
        "duration": 12,
        "start_time": "2024-05-28T06:46:29.527Z"
      },
      {
        "duration": 448,
        "start_time": "2024-05-28T06:46:29.541Z"
      },
      {
        "duration": 5,
        "start_time": "2024-05-28T06:46:29.991Z"
      },
      {
        "duration": 48,
        "start_time": "2024-05-28T06:46:29.997Z"
      },
      {
        "duration": 63,
        "start_time": "2024-05-28T06:46:30.048Z"
      },
      {
        "duration": 65,
        "start_time": "2024-05-28T06:46:30.112Z"
      },
      {
        "duration": 114,
        "start_time": "2024-05-28T06:46:30.178Z"
      },
      {
        "duration": 265,
        "start_time": "2024-05-28T06:46:30.294Z"
      },
      {
        "duration": 4,
        "start_time": "2024-05-28T06:46:30.561Z"
      },
      {
        "duration": 375,
        "start_time": "2024-05-28T06:46:30.567Z"
      },
      {
        "duration": 3,
        "start_time": "2024-05-28T06:46:30.944Z"
      },
      {
        "duration": 75,
        "start_time": "2024-05-28T06:46:30.948Z"
      },
      {
        "duration": 44,
        "start_time": "2024-05-28T06:46:31.024Z"
      },
      {
        "duration": 522,
        "start_time": "2024-05-28T06:46:31.070Z"
      },
      {
        "duration": 80,
        "start_time": "2024-05-28T06:46:45.285Z"
      },
      {
        "duration": 191,
        "start_time": "2024-05-28T06:49:42.755Z"
      },
      {
        "duration": 115,
        "start_time": "2024-05-28T06:49:50.116Z"
      },
      {
        "duration": 124,
        "start_time": "2024-05-28T06:50:00.292Z"
      },
      {
        "duration": 125,
        "start_time": "2024-05-28T06:50:41.990Z"
      },
      {
        "duration": 124,
        "start_time": "2024-05-28T06:51:39.171Z"
      },
      {
        "duration": 124,
        "start_time": "2024-05-28T06:51:43.139Z"
      },
      {
        "duration": 127,
        "start_time": "2024-05-28T06:54:40.526Z"
      },
      {
        "duration": 33,
        "start_time": "2024-05-28T06:55:30.230Z"
      },
      {
        "duration": 48,
        "start_time": "2024-05-28T06:55:43.812Z"
      },
      {
        "duration": 34,
        "start_time": "2024-05-28T06:55:49.334Z"
      },
      {
        "duration": 13,
        "start_time": "2024-05-28T07:01:26.628Z"
      },
      {
        "duration": 16,
        "start_time": "2024-05-28T07:03:09.549Z"
      },
      {
        "duration": 27,
        "start_time": "2024-05-28T07:03:24.962Z"
      },
      {
        "duration": 15,
        "start_time": "2024-05-28T07:04:00.905Z"
      },
      {
        "duration": 35,
        "start_time": "2024-05-28T07:04:39.558Z"
      },
      {
        "duration": 26,
        "start_time": "2024-05-28T07:05:40.178Z"
      },
      {
        "duration": 6,
        "start_time": "2024-05-28T07:06:30.150Z"
      },
      {
        "duration": 24,
        "start_time": "2024-05-28T07:06:38.137Z"
      },
      {
        "duration": 8,
        "start_time": "2024-05-28T07:06:42.588Z"
      },
      {
        "duration": 7,
        "start_time": "2024-05-28T07:06:43.565Z"
      },
      {
        "duration": 17,
        "start_time": "2024-05-28T07:06:47.250Z"
      },
      {
        "duration": 17,
        "start_time": "2024-05-28T07:06:48.786Z"
      },
      {
        "duration": 4,
        "start_time": "2024-05-28T07:07:04.556Z"
      },
      {
        "duration": 6,
        "start_time": "2024-05-28T07:07:31.227Z"
      },
      {
        "duration": 6,
        "start_time": "2024-05-28T07:07:34.558Z"
      },
      {
        "duration": 5,
        "start_time": "2024-05-28T07:07:37.425Z"
      },
      {
        "duration": 4,
        "start_time": "2024-05-28T07:21:51.746Z"
      },
      {
        "duration": 4,
        "start_time": "2024-05-28T07:21:55.228Z"
      },
      {
        "duration": 4,
        "start_time": "2024-05-28T07:22:06.183Z"
      },
      {
        "duration": 5,
        "start_time": "2024-05-28T07:31:44.127Z"
      },
      {
        "duration": 5,
        "start_time": "2024-05-28T07:32:49.764Z"
      },
      {
        "duration": 5,
        "start_time": "2024-05-28T07:38:12.630Z"
      },
      {
        "duration": 5,
        "start_time": "2024-05-28T07:38:15.394Z"
      },
      {
        "duration": 4,
        "start_time": "2024-05-28T07:38:34.266Z"
      },
      {
        "duration": 8,
        "start_time": "2024-05-28T07:45:48.102Z"
      },
      {
        "duration": 8,
        "start_time": "2024-05-28T07:46:31.828Z"
      },
      {
        "duration": 6,
        "start_time": "2024-05-28T07:48:03.066Z"
      },
      {
        "duration": 7,
        "start_time": "2024-05-28T07:48:09.110Z"
      },
      {
        "duration": 13,
        "start_time": "2024-05-28T07:55:04.030Z"
      },
      {
        "duration": 17,
        "start_time": "2024-05-28T07:55:27.786Z"
      },
      {
        "duration": 4,
        "start_time": "2024-05-28T07:55:42.123Z"
      },
      {
        "duration": 13,
        "start_time": "2024-05-28T07:55:47.141Z"
      },
      {
        "duration": 20,
        "start_time": "2024-05-28T07:57:34.148Z"
      },
      {
        "duration": 8,
        "start_time": "2024-05-28T07:57:47.256Z"
      },
      {
        "duration": 15,
        "start_time": "2024-05-28T07:59:47.984Z"
      },
      {
        "duration": 14,
        "start_time": "2024-05-28T08:01:14.001Z"
      },
      {
        "duration": 10,
        "start_time": "2024-05-28T08:06:42.398Z"
      },
      {
        "duration": 11,
        "start_time": "2024-05-28T08:07:02.162Z"
      },
      {
        "duration": 18,
        "start_time": "2024-05-28T08:07:25.508Z"
      },
      {
        "duration": 13,
        "start_time": "2024-05-28T08:07:56.127Z"
      },
      {
        "duration": 1992,
        "start_time": "2024-05-28T08:08:58.078Z"
      },
      {
        "duration": 4,
        "start_time": "2024-05-28T08:09:56.767Z"
      },
      {
        "duration": 565,
        "start_time": "2024-05-28T08:10:01.567Z"
      },
      {
        "duration": 446,
        "start_time": "2024-05-28T08:10:48.698Z"
      },
      {
        "duration": 345,
        "start_time": "2024-05-28T08:10:58.090Z"
      },
      {
        "duration": 339,
        "start_time": "2024-05-28T08:11:02.359Z"
      },
      {
        "duration": 502,
        "start_time": "2024-05-28T08:11:17.341Z"
      },
      {
        "duration": 344,
        "start_time": "2024-05-28T08:11:52.571Z"
      },
      {
        "duration": 344,
        "start_time": "2024-05-28T08:12:07.731Z"
      },
      {
        "duration": 15,
        "start_time": "2024-05-28T08:16:12.988Z"
      },
      {
        "duration": 12,
        "start_time": "2024-05-28T08:16:33.961Z"
      },
      {
        "duration": 11,
        "start_time": "2024-05-28T08:16:50.041Z"
      },
      {
        "duration": 11,
        "start_time": "2024-05-28T08:18:35.855Z"
      },
      {
        "duration": 11,
        "start_time": "2024-05-28T08:18:48.755Z"
      },
      {
        "duration": 108,
        "start_time": "2024-05-28T08:19:10.467Z"
      },
      {
        "duration": 22,
        "start_time": "2024-05-28T08:20:21.588Z"
      },
      {
        "duration": 56,
        "start_time": "2024-05-28T08:27:18.975Z"
      },
      {
        "duration": 28,
        "start_time": "2024-05-28T08:27:27.372Z"
      },
      {
        "duration": 12,
        "start_time": "2024-05-28T08:27:34.540Z"
      },
      {
        "duration": 13,
        "start_time": "2024-05-28T08:27:56.467Z"
      },
      {
        "duration": 17,
        "start_time": "2024-05-28T08:28:05.874Z"
      },
      {
        "duration": 20,
        "start_time": "2024-05-28T08:29:34.450Z"
      },
      {
        "duration": 62,
        "start_time": "2024-05-28T08:30:22.577Z"
      },
      {
        "duration": 14,
        "start_time": "2024-05-28T08:30:26.878Z"
      },
      {
        "duration": 19,
        "start_time": "2024-05-28T08:30:39.473Z"
      },
      {
        "duration": 14,
        "start_time": "2024-05-28T08:30:54.027Z"
      },
      {
        "duration": 53,
        "start_time": "2024-05-28T08:35:04.180Z"
      },
      {
        "duration": 12,
        "start_time": "2024-05-28T08:35:09.095Z"
      },
      {
        "duration": 1283,
        "start_time": "2024-05-28T17:33:04.886Z"
      },
      {
        "duration": 207,
        "start_time": "2024-05-28T17:33:06.171Z"
      },
      {
        "duration": 20,
        "start_time": "2024-05-28T17:33:06.380Z"
      },
      {
        "duration": 16,
        "start_time": "2024-05-28T17:33:06.401Z"
      },
      {
        "duration": 14,
        "start_time": "2024-05-28T17:33:06.419Z"
      },
      {
        "duration": 6,
        "start_time": "2024-05-28T17:33:06.435Z"
      },
      {
        "duration": 9,
        "start_time": "2024-05-28T17:33:06.465Z"
      },
      {
        "duration": 35,
        "start_time": "2024-05-28T17:33:06.476Z"
      },
      {
        "duration": 14,
        "start_time": "2024-05-28T17:33:06.512Z"
      },
      {
        "duration": 9,
        "start_time": "2024-05-28T17:33:06.528Z"
      },
      {
        "duration": 6,
        "start_time": "2024-05-28T17:33:06.539Z"
      },
      {
        "duration": 11,
        "start_time": "2024-05-28T17:33:06.546Z"
      },
      {
        "duration": 2,
        "start_time": "2024-05-28T17:33:06.559Z"
      },
      {
        "duration": 23,
        "start_time": "2024-05-28T17:33:06.562Z"
      },
      {
        "duration": 3,
        "start_time": "2024-05-28T17:33:06.586Z"
      },
      {
        "duration": 4,
        "start_time": "2024-05-28T17:33:06.590Z"
      },
      {
        "duration": 5,
        "start_time": "2024-05-28T17:33:06.596Z"
      },
      {
        "duration": 6,
        "start_time": "2024-05-28T17:33:06.602Z"
      },
      {
        "duration": 5,
        "start_time": "2024-05-28T17:33:06.610Z"
      },
      {
        "duration": 8,
        "start_time": "2024-05-28T17:33:06.617Z"
      },
      {
        "duration": 153,
        "start_time": "2024-05-28T17:33:06.626Z"
      },
      {
        "duration": 4,
        "start_time": "2024-05-28T17:33:06.780Z"
      },
      {
        "duration": 84,
        "start_time": "2024-05-28T17:33:06.785Z"
      },
      {
        "duration": 161,
        "start_time": "2024-05-28T17:33:06.870Z"
      },
      {
        "duration": 103,
        "start_time": "2024-05-28T17:33:07.032Z"
      },
      {
        "duration": 249,
        "start_time": "2024-05-28T17:33:07.136Z"
      },
      {
        "duration": 118,
        "start_time": "2024-05-28T17:33:07.388Z"
      },
      {
        "duration": 11,
        "start_time": "2024-05-28T17:33:07.511Z"
      },
      {
        "duration": 316,
        "start_time": "2024-05-28T17:33:07.524Z"
      },
      {
        "duration": 130,
        "start_time": "2024-05-28T17:33:07.842Z"
      },
      {
        "duration": 6,
        "start_time": "2024-05-28T17:33:07.974Z"
      },
      {
        "duration": 33,
        "start_time": "2024-05-28T17:33:07.981Z"
      },
      {
        "duration": 7,
        "start_time": "2024-05-28T17:33:08.016Z"
      },
      {
        "duration": 3,
        "start_time": "2024-05-28T17:33:08.025Z"
      },
      {
        "duration": 6,
        "start_time": "2024-05-28T17:33:08.029Z"
      },
      {
        "duration": 37,
        "start_time": "2024-05-28T17:33:08.036Z"
      },
      {
        "duration": 3,
        "start_time": "2024-05-28T17:33:08.074Z"
      },
      {
        "duration": 115,
        "start_time": "2024-05-28T17:33:08.078Z"
      },
      {
        "duration": 125,
        "start_time": "2024-05-28T17:33:08.195Z"
      },
      {
        "duration": 29,
        "start_time": "2024-05-28T17:33:08.322Z"
      },
      {
        "duration": 20,
        "start_time": "2024-05-28T17:33:08.352Z"
      },
      {
        "duration": 22,
        "start_time": "2024-05-28T17:33:08.374Z"
      },
      {
        "duration": 5,
        "start_time": "2024-05-28T17:33:08.397Z"
      },
      {
        "duration": 24,
        "start_time": "2024-05-28T17:33:08.403Z"
      },
      {
        "duration": 4,
        "start_time": "2024-05-28T17:33:08.428Z"
      },
      {
        "duration": 36,
        "start_time": "2024-05-28T17:33:08.434Z"
      },
      {
        "duration": 16,
        "start_time": "2024-05-28T17:33:08.471Z"
      },
      {
        "duration": 14,
        "start_time": "2024-05-28T17:33:08.489Z"
      },
      {
        "duration": 4,
        "start_time": "2024-05-28T17:33:08.505Z"
      },
      {
        "duration": 8,
        "start_time": "2024-05-28T17:33:08.511Z"
      },
      {
        "duration": 6,
        "start_time": "2024-05-28T17:33:08.521Z"
      },
      {
        "duration": 38,
        "start_time": "2024-05-28T17:33:08.528Z"
      },
      {
        "duration": 577,
        "start_time": "2024-05-28T17:33:08.568Z"
      },
      {
        "duration": 5,
        "start_time": "2024-05-28T17:33:09.147Z"
      },
      {
        "duration": 12,
        "start_time": "2024-05-28T17:33:09.154Z"
      },
      {
        "duration": 5,
        "start_time": "2024-05-28T17:33:09.167Z"
      },
      {
        "duration": 593,
        "start_time": "2024-05-28T17:33:09.173Z"
      },
      {
        "duration": 3,
        "start_time": "2024-05-28T17:33:09.768Z"
      },
      {
        "duration": 4,
        "start_time": "2024-05-28T17:33:09.773Z"
      },
      {
        "duration": 130,
        "start_time": "2024-05-28T17:33:09.778Z"
      },
      {
        "duration": 0,
        "start_time": "2024-05-28T17:33:09.910Z"
      },
      {
        "duration": 0,
        "start_time": "2024-05-28T17:33:09.911Z"
      },
      {
        "duration": 0,
        "start_time": "2024-05-28T17:33:09.912Z"
      },
      {
        "duration": 0,
        "start_time": "2024-05-28T17:33:09.913Z"
      },
      {
        "duration": 0,
        "start_time": "2024-05-28T17:33:09.914Z"
      },
      {
        "duration": 0,
        "start_time": "2024-05-28T17:33:09.916Z"
      },
      {
        "duration": 0,
        "start_time": "2024-05-28T17:33:09.916Z"
      },
      {
        "duration": 0,
        "start_time": "2024-05-28T17:33:09.918Z"
      },
      {
        "duration": 0,
        "start_time": "2024-05-28T17:33:09.919Z"
      },
      {
        "duration": 0,
        "start_time": "2024-05-28T17:33:09.920Z"
      },
      {
        "duration": 0,
        "start_time": "2024-05-28T17:33:09.921Z"
      },
      {
        "duration": 2,
        "start_time": "2024-05-28T17:37:37.110Z"
      },
      {
        "duration": 11,
        "start_time": "2024-05-28T17:37:59.156Z"
      },
      {
        "duration": 7,
        "start_time": "2024-05-28T17:38:10.402Z"
      },
      {
        "duration": 3,
        "start_time": "2024-05-28T17:38:35.608Z"
      },
      {
        "duration": 3,
        "start_time": "2024-05-28T17:38:44.944Z"
      },
      {
        "duration": 4,
        "start_time": "2024-05-28T17:38:53.120Z"
      },
      {
        "duration": 400,
        "start_time": "2024-05-28T17:40:01.226Z"
      },
      {
        "duration": 6,
        "start_time": "2024-05-28T17:40:09.370Z"
      },
      {
        "duration": 6,
        "start_time": "2024-05-28T17:40:33.355Z"
      },
      {
        "duration": 7,
        "start_time": "2024-05-28T17:53:22.629Z"
      },
      {
        "duration": 1093,
        "start_time": "2024-05-28T17:54:50.979Z"
      },
      {
        "duration": 73,
        "start_time": "2024-05-28T17:54:52.074Z"
      },
      {
        "duration": 28,
        "start_time": "2024-05-28T17:54:52.149Z"
      },
      {
        "duration": 36,
        "start_time": "2024-05-28T17:54:52.179Z"
      },
      {
        "duration": 19,
        "start_time": "2024-05-28T17:54:52.217Z"
      },
      {
        "duration": 27,
        "start_time": "2024-05-28T17:54:52.238Z"
      },
      {
        "duration": 25,
        "start_time": "2024-05-28T17:54:52.267Z"
      },
      {
        "duration": 10,
        "start_time": "2024-05-28T17:54:52.294Z"
      },
      {
        "duration": 39,
        "start_time": "2024-05-28T17:54:52.305Z"
      },
      {
        "duration": 8,
        "start_time": "2024-05-28T17:54:52.346Z"
      },
      {
        "duration": 8,
        "start_time": "2024-05-28T17:54:52.355Z"
      },
      {
        "duration": 45,
        "start_time": "2024-05-28T17:54:52.364Z"
      },
      {
        "duration": 3,
        "start_time": "2024-05-28T17:54:52.412Z"
      },
      {
        "duration": 7,
        "start_time": "2024-05-28T17:54:52.419Z"
      },
      {
        "duration": 11,
        "start_time": "2024-05-28T17:54:52.428Z"
      },
      {
        "duration": 6,
        "start_time": "2024-05-28T17:54:52.441Z"
      },
      {
        "duration": 15,
        "start_time": "2024-05-28T17:54:52.449Z"
      },
      {
        "duration": 8,
        "start_time": "2024-05-28T17:54:52.466Z"
      },
      {
        "duration": 10,
        "start_time": "2024-05-28T17:54:52.476Z"
      },
      {
        "duration": 8,
        "start_time": "2024-05-28T17:54:52.488Z"
      },
      {
        "duration": 171,
        "start_time": "2024-05-28T17:54:52.497Z"
      },
      {
        "duration": 5,
        "start_time": "2024-05-28T17:54:52.672Z"
      },
      {
        "duration": 101,
        "start_time": "2024-05-28T17:54:52.679Z"
      },
      {
        "duration": 169,
        "start_time": "2024-05-28T17:54:52.782Z"
      },
      {
        "duration": 100,
        "start_time": "2024-05-28T17:54:52.952Z"
      },
      {
        "duration": 279,
        "start_time": "2024-05-28T17:54:53.053Z"
      },
      {
        "duration": 117,
        "start_time": "2024-05-28T17:54:53.333Z"
      },
      {
        "duration": 17,
        "start_time": "2024-05-28T17:54:53.452Z"
      },
      {
        "duration": 298,
        "start_time": "2024-05-28T17:54:53.471Z"
      },
      {
        "duration": 122,
        "start_time": "2024-05-28T17:54:53.771Z"
      },
      {
        "duration": 7,
        "start_time": "2024-05-28T17:54:53.894Z"
      },
      {
        "duration": 26,
        "start_time": "2024-05-28T17:54:53.902Z"
      },
      {
        "duration": 36,
        "start_time": "2024-05-28T17:54:53.929Z"
      },
      {
        "duration": 3,
        "start_time": "2024-05-28T17:54:53.967Z"
      },
      {
        "duration": 14,
        "start_time": "2024-05-28T17:54:53.971Z"
      },
      {
        "duration": 19,
        "start_time": "2024-05-28T17:54:53.986Z"
      },
      {
        "duration": 4,
        "start_time": "2024-05-28T17:54:54.007Z"
      },
      {
        "duration": 122,
        "start_time": "2024-05-28T17:54:54.012Z"
      },
      {
        "duration": 137,
        "start_time": "2024-05-28T17:54:54.135Z"
      },
      {
        "duration": 32,
        "start_time": "2024-05-28T17:54:54.274Z"
      },
      {
        "duration": 10,
        "start_time": "2024-05-28T17:54:54.310Z"
      },
      {
        "duration": 48,
        "start_time": "2024-05-28T17:54:54.322Z"
      },
      {
        "duration": 6,
        "start_time": "2024-05-28T17:54:54.371Z"
      },
      {
        "duration": 40,
        "start_time": "2024-05-28T17:54:54.378Z"
      },
      {
        "duration": 35,
        "start_time": "2024-05-28T17:54:54.419Z"
      },
      {
        "duration": 43,
        "start_time": "2024-05-28T17:54:54.456Z"
      },
      {
        "duration": 25,
        "start_time": "2024-05-28T17:54:54.501Z"
      },
      {
        "duration": 91,
        "start_time": "2024-05-28T17:54:54.527Z"
      },
      {
        "duration": 4,
        "start_time": "2024-05-28T17:54:54.619Z"
      },
      {
        "duration": 7,
        "start_time": "2024-05-28T17:54:54.625Z"
      },
      {
        "duration": 5,
        "start_time": "2024-05-28T17:54:54.634Z"
      },
      {
        "duration": 4,
        "start_time": "2024-05-28T17:54:54.640Z"
      },
      {
        "duration": 599,
        "start_time": "2024-05-28T17:54:54.645Z"
      },
      {
        "duration": 5,
        "start_time": "2024-05-28T17:54:55.245Z"
      },
      {
        "duration": 14,
        "start_time": "2024-05-28T17:54:55.251Z"
      },
      {
        "duration": 8,
        "start_time": "2024-05-28T17:54:55.267Z"
      },
      {
        "duration": 628,
        "start_time": "2024-05-28T17:54:55.276Z"
      },
      {
        "duration": 4,
        "start_time": "2024-05-28T17:54:55.906Z"
      },
      {
        "duration": 10,
        "start_time": "2024-05-28T17:54:55.911Z"
      },
      {
        "duration": 14,
        "start_time": "2024-05-28T17:54:55.923Z"
      },
      {
        "duration": 33,
        "start_time": "2024-05-28T17:54:55.938Z"
      },
      {
        "duration": 387,
        "start_time": "2024-05-28T17:54:55.972Z"
      },
      {
        "duration": 8,
        "start_time": "2024-05-28T17:54:56.360Z"
      },
      {
        "duration": 7,
        "start_time": "2024-05-28T17:54:56.369Z"
      },
      {
        "duration": 3,
        "start_time": "2024-05-28T17:54:56.377Z"
      },
      {
        "duration": 136,
        "start_time": "2024-05-28T17:54:56.382Z"
      },
      {
        "duration": 3,
        "start_time": "2024-05-28T17:54:56.520Z"
      },
      {
        "duration": 315,
        "start_time": "2024-05-28T17:54:56.524Z"
      },
      {
        "duration": 2,
        "start_time": "2024-05-28T17:54:56.841Z"
      },
      {
        "duration": 7,
        "start_time": "2024-05-28T17:54:56.845Z"
      },
      {
        "duration": 7,
        "start_time": "2024-05-28T17:54:56.853Z"
      },
      {
        "duration": 541,
        "start_time": "2024-05-28T17:54:56.865Z"
      },
      {
        "duration": 90,
        "start_time": "2024-05-28T17:59:44.006Z"
      },
      {
        "duration": 11,
        "start_time": "2024-05-28T17:59:55.336Z"
      },
      {
        "duration": 5,
        "start_time": "2024-05-28T18:00:20.160Z"
      },
      {
        "duration": 5,
        "start_time": "2024-05-28T18:00:22.527Z"
      },
      {
        "duration": 4,
        "start_time": "2024-05-28T18:00:26.663Z"
      },
      {
        "duration": 13,
        "start_time": "2024-05-28T18:00:28.088Z"
      },
      {
        "duration": 4,
        "start_time": "2024-05-28T18:00:34.544Z"
      },
      {
        "duration": 16,
        "start_time": "2024-05-28T18:01:02.162Z"
      },
      {
        "duration": 3,
        "start_time": "2024-05-28T18:01:40.003Z"
      },
      {
        "duration": 6,
        "start_time": "2024-05-28T18:01:43.482Z"
      },
      {
        "duration": 5,
        "start_time": "2024-05-28T18:01:44.035Z"
      },
      {
        "duration": 4,
        "start_time": "2024-05-28T18:01:44.899Z"
      },
      {
        "duration": 13,
        "start_time": "2024-05-28T18:01:45.434Z"
      },
      {
        "duration": 8,
        "start_time": "2024-05-28T18:02:00.876Z"
      },
      {
        "duration": 18,
        "start_time": "2024-05-28T18:02:09.828Z"
      },
      {
        "duration": 11,
        "start_time": "2024-05-28T18:02:18.708Z"
      },
      {
        "duration": 1170,
        "start_time": "2024-05-28T18:02:30.595Z"
      },
      {
        "duration": 68,
        "start_time": "2024-05-28T18:02:31.766Z"
      },
      {
        "duration": 25,
        "start_time": "2024-05-28T18:02:31.836Z"
      },
      {
        "duration": 78,
        "start_time": "2024-05-28T18:02:31.863Z"
      },
      {
        "duration": 202,
        "start_time": "2024-05-28T18:02:31.943Z"
      },
      {
        "duration": 25,
        "start_time": "2024-05-28T18:02:32.146Z"
      },
      {
        "duration": 17,
        "start_time": "2024-05-28T18:02:32.173Z"
      },
      {
        "duration": 50,
        "start_time": "2024-05-28T18:02:32.191Z"
      },
      {
        "duration": 33,
        "start_time": "2024-05-28T18:02:32.243Z"
      },
      {
        "duration": 12,
        "start_time": "2024-05-28T18:02:32.277Z"
      },
      {
        "duration": 25,
        "start_time": "2024-05-28T18:02:32.290Z"
      },
      {
        "duration": 12,
        "start_time": "2024-05-28T18:02:32.316Z"
      },
      {
        "duration": 3,
        "start_time": "2024-05-28T18:02:32.329Z"
      },
      {
        "duration": 16,
        "start_time": "2024-05-28T18:02:32.334Z"
      },
      {
        "duration": 11,
        "start_time": "2024-05-28T18:02:32.351Z"
      },
      {
        "duration": 26,
        "start_time": "2024-05-28T18:02:32.363Z"
      },
      {
        "duration": 16,
        "start_time": "2024-05-28T18:02:32.391Z"
      },
      {
        "duration": 22,
        "start_time": "2024-05-28T18:02:32.408Z"
      },
      {
        "duration": 13,
        "start_time": "2024-05-28T18:02:32.432Z"
      },
      {
        "duration": 13,
        "start_time": "2024-05-28T18:02:32.446Z"
      },
      {
        "duration": 145,
        "start_time": "2024-05-28T18:02:32.460Z"
      },
      {
        "duration": 4,
        "start_time": "2024-05-28T18:02:32.607Z"
      },
      {
        "duration": 103,
        "start_time": "2024-05-28T18:02:32.612Z"
      },
      {
        "duration": 171,
        "start_time": "2024-05-28T18:02:32.717Z"
      },
      {
        "duration": 101,
        "start_time": "2024-05-28T18:02:32.890Z"
      },
      {
        "duration": 245,
        "start_time": "2024-05-28T18:02:32.993Z"
      },
      {
        "duration": 105,
        "start_time": "2024-05-28T18:02:33.239Z"
      },
      {
        "duration": 8,
        "start_time": "2024-05-28T18:02:33.345Z"
      },
      {
        "duration": 283,
        "start_time": "2024-05-28T18:02:33.365Z"
      },
      {
        "duration": 117,
        "start_time": "2024-05-28T18:02:33.649Z"
      },
      {
        "duration": 7,
        "start_time": "2024-05-28T18:02:33.768Z"
      },
      {
        "duration": 24,
        "start_time": "2024-05-28T18:02:33.776Z"
      },
      {
        "duration": 8,
        "start_time": "2024-05-28T18:02:33.802Z"
      },
      {
        "duration": 10,
        "start_time": "2024-05-28T18:02:33.811Z"
      },
      {
        "duration": 5,
        "start_time": "2024-05-28T18:02:33.822Z"
      },
      {
        "duration": 41,
        "start_time": "2024-05-28T18:02:33.828Z"
      },
      {
        "duration": 3,
        "start_time": "2024-05-28T18:02:33.871Z"
      },
      {
        "duration": 131,
        "start_time": "2024-05-28T18:02:33.875Z"
      },
      {
        "duration": 131,
        "start_time": "2024-05-28T18:02:34.008Z"
      },
      {
        "duration": 46,
        "start_time": "2024-05-28T18:02:34.141Z"
      },
      {
        "duration": 16,
        "start_time": "2024-05-28T18:02:34.194Z"
      },
      {
        "duration": 35,
        "start_time": "2024-05-28T18:02:34.211Z"
      },
      {
        "duration": 21,
        "start_time": "2024-05-28T18:02:34.247Z"
      },
      {
        "duration": 25,
        "start_time": "2024-05-28T18:02:34.269Z"
      },
      {
        "duration": 5,
        "start_time": "2024-05-28T18:02:34.296Z"
      },
      {
        "duration": 8,
        "start_time": "2024-05-28T18:02:34.302Z"
      },
      {
        "duration": 30,
        "start_time": "2024-05-28T18:02:34.312Z"
      },
      {
        "duration": 30,
        "start_time": "2024-05-28T18:02:34.344Z"
      },
      {
        "duration": 4,
        "start_time": "2024-05-28T18:02:34.376Z"
      },
      {
        "duration": 5,
        "start_time": "2024-05-28T18:02:34.382Z"
      },
      {
        "duration": 6,
        "start_time": "2024-05-28T18:02:34.389Z"
      },
      {
        "duration": 10,
        "start_time": "2024-05-28T18:02:34.396Z"
      },
      {
        "duration": 690,
        "start_time": "2024-05-28T18:02:34.407Z"
      },
      {
        "duration": 5,
        "start_time": "2024-05-28T18:02:35.098Z"
      },
      {
        "duration": 86,
        "start_time": "2024-05-28T18:02:35.104Z"
      },
      {
        "duration": 42,
        "start_time": "2024-05-28T18:02:35.192Z"
      },
      {
        "duration": 1046,
        "start_time": "2024-05-28T18:02:35.236Z"
      },
      {
        "duration": 4,
        "start_time": "2024-05-28T18:02:36.283Z"
      },
      {
        "duration": 12,
        "start_time": "2024-05-28T18:02:36.288Z"
      },
      {
        "duration": 7,
        "start_time": "2024-05-28T18:02:36.301Z"
      },
      {
        "duration": 4,
        "start_time": "2024-05-28T18:02:36.309Z"
      },
      {
        "duration": 399,
        "start_time": "2024-05-28T18:02:36.314Z"
      },
      {
        "duration": 5,
        "start_time": "2024-05-28T18:02:36.715Z"
      },
      {
        "duration": 6,
        "start_time": "2024-05-28T18:02:36.721Z"
      },
      {
        "duration": 5,
        "start_time": "2024-05-28T18:02:36.728Z"
      },
      {
        "duration": 133,
        "start_time": "2024-05-28T18:02:36.735Z"
      },
      {
        "duration": 3,
        "start_time": "2024-05-28T18:02:36.869Z"
      },
      {
        "duration": 283,
        "start_time": "2024-05-28T18:02:36.874Z"
      },
      {
        "duration": 7,
        "start_time": "2024-05-28T18:02:37.158Z"
      },
      {
        "duration": 17,
        "start_time": "2024-05-28T18:02:37.167Z"
      },
      {
        "duration": 3,
        "start_time": "2024-05-28T18:02:37.186Z"
      },
      {
        "duration": 412,
        "start_time": "2024-05-28T18:02:37.191Z"
      },
      {
        "duration": 7,
        "start_time": "2024-05-28T18:02:37.605Z"
      },
      {
        "duration": 27,
        "start_time": "2024-05-28T18:02:37.613Z"
      },
      {
        "duration": 15,
        "start_time": "2024-05-28T18:02:37.642Z"
      },
      {
        "duration": 23,
        "start_time": "2024-05-28T18:02:37.658Z"
      },
      {
        "duration": 11,
        "start_time": "2024-05-28T18:02:37.683Z"
      },
      {
        "duration": 28,
        "start_time": "2024-05-28T18:02:37.696Z"
      },
      {
        "duration": 8,
        "start_time": "2024-05-28T18:02:37.726Z"
      },
      {
        "duration": 12,
        "start_time": "2024-05-28T18:02:37.736Z"
      },
      {
        "duration": 5,
        "start_time": "2024-05-28T18:02:37.749Z"
      },
      {
        "duration": 36,
        "start_time": "2024-05-28T18:02:37.755Z"
      },
      {
        "duration": 5,
        "start_time": "2024-05-28T18:02:37.792Z"
      },
      {
        "duration": 11,
        "start_time": "2024-05-28T18:02:37.799Z"
      },
      {
        "duration": 5,
        "start_time": "2024-05-28T18:02:37.812Z"
      },
      {
        "duration": 122,
        "start_time": "2024-05-28T18:02:37.818Z"
      },
      {
        "duration": 0,
        "start_time": "2024-05-28T18:02:37.942Z"
      },
      {
        "duration": 0,
        "start_time": "2024-05-28T18:02:37.943Z"
      },
      {
        "duration": 0,
        "start_time": "2024-05-28T18:02:37.946Z"
      },
      {
        "duration": 0,
        "start_time": "2024-05-28T18:02:37.948Z"
      },
      {
        "duration": 0,
        "start_time": "2024-05-28T18:02:37.949Z"
      },
      {
        "duration": 0,
        "start_time": "2024-05-28T18:02:37.950Z"
      },
      {
        "duration": 0,
        "start_time": "2024-05-28T18:02:37.965Z"
      },
      {
        "duration": 4,
        "start_time": "2024-05-28T18:03:22.367Z"
      },
      {
        "duration": 7,
        "start_time": "2024-05-28T18:03:23.119Z"
      },
      {
        "duration": 3,
        "start_time": "2024-05-28T18:03:31.791Z"
      },
      {
        "duration": 1168,
        "start_time": "2024-05-28T18:03:36.309Z"
      },
      {
        "duration": 67,
        "start_time": "2024-05-28T18:03:37.478Z"
      },
      {
        "duration": 21,
        "start_time": "2024-05-28T18:03:37.546Z"
      },
      {
        "duration": 16,
        "start_time": "2024-05-28T18:03:37.568Z"
      },
      {
        "duration": 16,
        "start_time": "2024-05-28T18:03:37.586Z"
      },
      {
        "duration": 8,
        "start_time": "2024-05-28T18:03:37.603Z"
      },
      {
        "duration": 13,
        "start_time": "2024-05-28T18:03:37.613Z"
      },
      {
        "duration": 39,
        "start_time": "2024-05-28T18:03:37.628Z"
      },
      {
        "duration": 11,
        "start_time": "2024-05-28T18:03:37.669Z"
      },
      {
        "duration": 9,
        "start_time": "2024-05-28T18:03:37.682Z"
      },
      {
        "duration": 16,
        "start_time": "2024-05-28T18:03:37.692Z"
      },
      {
        "duration": 14,
        "start_time": "2024-05-28T18:03:37.709Z"
      },
      {
        "duration": 3,
        "start_time": "2024-05-28T18:03:37.724Z"
      },
      {
        "duration": 6,
        "start_time": "2024-05-28T18:03:37.730Z"
      },
      {
        "duration": 28,
        "start_time": "2024-05-28T18:03:37.737Z"
      },
      {
        "duration": 20,
        "start_time": "2024-05-28T18:03:37.767Z"
      },
      {
        "duration": 13,
        "start_time": "2024-05-28T18:03:37.788Z"
      },
      {
        "duration": 6,
        "start_time": "2024-05-28T18:03:37.803Z"
      },
      {
        "duration": 17,
        "start_time": "2024-05-28T18:03:37.811Z"
      },
      {
        "duration": 48,
        "start_time": "2024-05-28T18:03:37.830Z"
      },
      {
        "duration": 147,
        "start_time": "2024-05-28T18:03:37.880Z"
      },
      {
        "duration": 5,
        "start_time": "2024-05-28T18:03:38.028Z"
      },
      {
        "duration": 98,
        "start_time": "2024-05-28T18:03:38.034Z"
      },
      {
        "duration": 166,
        "start_time": "2024-05-28T18:03:38.134Z"
      },
      {
        "duration": 111,
        "start_time": "2024-05-28T18:03:38.301Z"
      },
      {
        "duration": 255,
        "start_time": "2024-05-28T18:03:38.413Z"
      },
      {
        "duration": 110,
        "start_time": "2024-05-28T18:03:38.669Z"
      },
      {
        "duration": 9,
        "start_time": "2024-05-28T18:03:38.781Z"
      },
      {
        "duration": 313,
        "start_time": "2024-05-28T18:03:38.792Z"
      },
      {
        "duration": 118,
        "start_time": "2024-05-28T18:03:39.106Z"
      },
      {
        "duration": 8,
        "start_time": "2024-05-28T18:03:39.226Z"
      },
      {
        "duration": 38,
        "start_time": "2024-05-28T18:03:39.236Z"
      },
      {
        "duration": 10,
        "start_time": "2024-05-28T18:03:39.276Z"
      },
      {
        "duration": 4,
        "start_time": "2024-05-28T18:03:39.287Z"
      },
      {
        "duration": 6,
        "start_time": "2024-05-28T18:03:39.292Z"
      },
      {
        "duration": 15,
        "start_time": "2024-05-28T18:03:39.300Z"
      },
      {
        "duration": 6,
        "start_time": "2024-05-28T18:03:39.316Z"
      },
      {
        "duration": 157,
        "start_time": "2024-05-28T18:03:39.323Z"
      },
      {
        "duration": 130,
        "start_time": "2024-05-28T18:03:39.482Z"
      },
      {
        "duration": 48,
        "start_time": "2024-05-28T18:03:39.613Z"
      },
      {
        "duration": 13,
        "start_time": "2024-05-28T18:03:39.670Z"
      },
      {
        "duration": 26,
        "start_time": "2024-05-28T18:03:39.685Z"
      },
      {
        "duration": 7,
        "start_time": "2024-05-28T18:03:39.713Z"
      },
      {
        "duration": 57,
        "start_time": "2024-05-28T18:03:39.721Z"
      },
      {
        "duration": 7,
        "start_time": "2024-05-28T18:03:39.780Z"
      },
      {
        "duration": 16,
        "start_time": "2024-05-28T18:03:39.788Z"
      },
      {
        "duration": 16,
        "start_time": "2024-05-28T18:03:39.806Z"
      },
      {
        "duration": 17,
        "start_time": "2024-05-28T18:03:39.824Z"
      },
      {
        "duration": 26,
        "start_time": "2024-05-28T18:03:39.842Z"
      },
      {
        "duration": 6,
        "start_time": "2024-05-28T18:03:39.870Z"
      },
      {
        "duration": 8,
        "start_time": "2024-05-28T18:03:39.877Z"
      },
      {
        "duration": 6,
        "start_time": "2024-05-28T18:03:39.887Z"
      },
      {
        "duration": 552,
        "start_time": "2024-05-28T18:03:39.895Z"
      },
      {
        "duration": 5,
        "start_time": "2024-05-28T18:03:40.448Z"
      },
      {
        "duration": 32,
        "start_time": "2024-05-28T18:03:40.454Z"
      },
      {
        "duration": 6,
        "start_time": "2024-05-28T18:03:40.487Z"
      },
      {
        "duration": 597,
        "start_time": "2024-05-28T18:03:40.494Z"
      },
      {
        "duration": 4,
        "start_time": "2024-05-28T18:03:41.093Z"
      },
      {
        "duration": 5,
        "start_time": "2024-05-28T18:03:41.099Z"
      },
      {
        "duration": 4,
        "start_time": "2024-05-28T18:03:41.106Z"
      },
      {
        "duration": 4,
        "start_time": "2024-05-28T18:03:41.111Z"
      },
      {
        "duration": 434,
        "start_time": "2024-05-28T18:03:41.116Z"
      },
      {
        "duration": 5,
        "start_time": "2024-05-28T18:03:41.552Z"
      },
      {
        "duration": 9,
        "start_time": "2024-05-28T18:03:41.565Z"
      },
      {
        "duration": 5,
        "start_time": "2024-05-28T18:03:41.575Z"
      },
      {
        "duration": 124,
        "start_time": "2024-05-28T18:03:41.582Z"
      },
      {
        "duration": 3,
        "start_time": "2024-05-28T18:03:41.708Z"
      },
      {
        "duration": 268,
        "start_time": "2024-05-28T18:03:41.713Z"
      },
      {
        "duration": 2,
        "start_time": "2024-05-28T18:03:41.982Z"
      },
      {
        "duration": 5,
        "start_time": "2024-05-28T18:03:41.986Z"
      },
      {
        "duration": 4,
        "start_time": "2024-05-28T18:03:41.993Z"
      },
      {
        "duration": 412,
        "start_time": "2024-05-28T18:03:41.999Z"
      },
      {
        "duration": 6,
        "start_time": "2024-05-28T18:03:42.413Z"
      },
      {
        "duration": 22,
        "start_time": "2024-05-28T18:03:42.421Z"
      },
      {
        "duration": 34,
        "start_time": "2024-05-28T18:03:42.446Z"
      },
      {
        "duration": 20,
        "start_time": "2024-05-28T18:03:42.482Z"
      },
      {
        "duration": 14,
        "start_time": "2024-05-28T18:03:42.503Z"
      },
      {
        "duration": 24,
        "start_time": "2024-05-28T18:03:42.518Z"
      },
      {
        "duration": 8,
        "start_time": "2024-05-28T18:03:42.543Z"
      },
      {
        "duration": 23,
        "start_time": "2024-05-28T18:03:42.553Z"
      },
      {
        "duration": 69,
        "start_time": "2024-05-28T18:03:42.578Z"
      },
      {
        "duration": 33,
        "start_time": "2024-05-28T18:03:42.649Z"
      },
      {
        "duration": 3,
        "start_time": "2024-05-28T18:03:42.684Z"
      },
      {
        "duration": 20,
        "start_time": "2024-05-28T18:03:42.689Z"
      },
      {
        "duration": 8,
        "start_time": "2024-05-28T18:03:42.711Z"
      },
      {
        "duration": 14,
        "start_time": "2024-05-28T18:03:42.720Z"
      },
      {
        "duration": 700,
        "start_time": "2024-05-28T18:03:42.735Z"
      },
      {
        "duration": 3,
        "start_time": "2024-05-28T18:03:43.436Z"
      },
      {
        "duration": 14,
        "start_time": "2024-05-28T18:03:43.440Z"
      },
      {
        "duration": 35,
        "start_time": "2024-05-28T18:03:43.455Z"
      },
      {
        "duration": 10,
        "start_time": "2024-05-28T18:03:43.492Z"
      },
      {
        "duration": 8,
        "start_time": "2024-05-28T18:03:43.503Z"
      },
      {
        "duration": 848,
        "start_time": "2024-05-28T18:03:43.512Z"
      },
      {
        "duration": 1247,
        "start_time": "2024-05-28T18:06:30.159Z"
      },
      {
        "duration": 68,
        "start_time": "2024-05-28T18:06:31.408Z"
      },
      {
        "duration": 21,
        "start_time": "2024-05-28T18:06:31.479Z"
      },
      {
        "duration": 17,
        "start_time": "2024-05-28T18:06:31.501Z"
      },
      {
        "duration": 15,
        "start_time": "2024-05-28T18:06:31.520Z"
      },
      {
        "duration": 31,
        "start_time": "2024-05-28T18:06:31.536Z"
      },
      {
        "duration": 13,
        "start_time": "2024-05-28T18:06:31.569Z"
      },
      {
        "duration": 6,
        "start_time": "2024-05-28T18:06:31.584Z"
      },
      {
        "duration": 26,
        "start_time": "2024-05-28T18:06:31.592Z"
      },
      {
        "duration": 18,
        "start_time": "2024-05-28T18:06:31.619Z"
      },
      {
        "duration": 15,
        "start_time": "2024-05-28T18:06:31.639Z"
      },
      {
        "duration": 16,
        "start_time": "2024-05-28T18:06:31.656Z"
      },
      {
        "duration": 3,
        "start_time": "2024-05-28T18:06:31.673Z"
      },
      {
        "duration": 17,
        "start_time": "2024-05-28T18:06:31.680Z"
      },
      {
        "duration": 5,
        "start_time": "2024-05-28T18:06:31.698Z"
      },
      {
        "duration": 17,
        "start_time": "2024-05-28T18:06:31.704Z"
      },
      {
        "duration": 19,
        "start_time": "2024-05-28T18:06:31.722Z"
      },
      {
        "duration": 11,
        "start_time": "2024-05-28T18:06:31.743Z"
      },
      {
        "duration": 15,
        "start_time": "2024-05-28T18:06:31.755Z"
      },
      {
        "duration": 19,
        "start_time": "2024-05-28T18:06:31.772Z"
      },
      {
        "duration": 164,
        "start_time": "2024-05-28T18:06:31.793Z"
      },
      {
        "duration": 7,
        "start_time": "2024-05-28T18:06:31.958Z"
      },
      {
        "duration": 81,
        "start_time": "2024-05-28T18:06:31.967Z"
      },
      {
        "duration": 192,
        "start_time": "2024-05-28T18:06:32.050Z"
      },
      {
        "duration": 94,
        "start_time": "2024-05-28T18:06:32.243Z"
      },
      {
        "duration": 256,
        "start_time": "2024-05-28T18:06:32.339Z"
      },
      {
        "duration": 107,
        "start_time": "2024-05-28T18:06:32.596Z"
      },
      {
        "duration": 8,
        "start_time": "2024-05-28T18:06:32.704Z"
      },
      {
        "duration": 293,
        "start_time": "2024-05-28T18:06:32.713Z"
      },
      {
        "duration": 109,
        "start_time": "2024-05-28T18:06:33.008Z"
      },
      {
        "duration": 6,
        "start_time": "2024-05-28T18:06:33.118Z"
      },
      {
        "duration": 79,
        "start_time": "2024-05-28T18:06:33.126Z"
      },
      {
        "duration": 8,
        "start_time": "2024-05-28T18:06:33.206Z"
      },
      {
        "duration": 14,
        "start_time": "2024-05-28T18:06:33.215Z"
      },
      {
        "duration": 9,
        "start_time": "2024-05-28T18:06:33.230Z"
      },
      {
        "duration": 18,
        "start_time": "2024-05-28T18:06:33.240Z"
      },
      {
        "duration": 7,
        "start_time": "2024-05-28T18:06:33.260Z"
      },
      {
        "duration": 131,
        "start_time": "2024-05-28T18:06:33.268Z"
      },
      {
        "duration": 115,
        "start_time": "2024-05-28T18:06:33.401Z"
      },
      {
        "duration": 29,
        "start_time": "2024-05-28T18:06:33.517Z"
      },
      {
        "duration": 25,
        "start_time": "2024-05-28T18:06:33.549Z"
      },
      {
        "duration": 47,
        "start_time": "2024-05-28T18:06:33.575Z"
      },
      {
        "duration": 7,
        "start_time": "2024-05-28T18:06:33.624Z"
      },
      {
        "duration": 34,
        "start_time": "2024-05-28T18:06:33.632Z"
      },
      {
        "duration": 5,
        "start_time": "2024-05-28T18:06:33.668Z"
      },
      {
        "duration": 15,
        "start_time": "2024-05-28T18:06:33.675Z"
      },
      {
        "duration": 45,
        "start_time": "2024-05-28T18:06:33.692Z"
      },
      {
        "duration": 29,
        "start_time": "2024-05-28T18:06:33.739Z"
      },
      {
        "duration": 4,
        "start_time": "2024-05-28T18:06:33.770Z"
      },
      {
        "duration": 13,
        "start_time": "2024-05-28T18:06:33.776Z"
      },
      {
        "duration": 6,
        "start_time": "2024-05-28T18:06:33.792Z"
      },
      {
        "duration": 17,
        "start_time": "2024-05-28T18:06:33.799Z"
      },
      {
        "duration": 537,
        "start_time": "2024-05-28T18:06:33.817Z"
      },
      {
        "duration": 5,
        "start_time": "2024-05-28T18:06:34.355Z"
      },
      {
        "duration": 16,
        "start_time": "2024-05-28T18:06:34.365Z"
      },
      {
        "duration": 26,
        "start_time": "2024-05-28T18:06:34.382Z"
      },
      {
        "duration": 560,
        "start_time": "2024-05-28T18:06:34.410Z"
      },
      {
        "duration": 3,
        "start_time": "2024-05-28T18:06:34.971Z"
      },
      {
        "duration": 54,
        "start_time": "2024-05-28T18:06:34.976Z"
      },
      {
        "duration": 45,
        "start_time": "2024-05-28T18:06:35.032Z"
      },
      {
        "duration": 27,
        "start_time": "2024-05-28T18:06:35.079Z"
      },
      {
        "duration": 492,
        "start_time": "2024-05-28T18:06:35.107Z"
      },
      {
        "duration": 6,
        "start_time": "2024-05-28T18:06:35.600Z"
      },
      {
        "duration": 17,
        "start_time": "2024-05-28T18:06:35.608Z"
      },
      {
        "duration": 2,
        "start_time": "2024-05-28T18:06:35.627Z"
      },
      {
        "duration": 135,
        "start_time": "2024-05-28T18:06:35.630Z"
      },
      {
        "duration": 4,
        "start_time": "2024-05-28T18:06:35.766Z"
      },
      {
        "duration": 298,
        "start_time": "2024-05-28T18:06:35.771Z"
      },
      {
        "duration": 3,
        "start_time": "2024-05-28T18:06:36.070Z"
      },
      {
        "duration": 4,
        "start_time": "2024-05-28T18:06:36.074Z"
      },
      {
        "duration": 4,
        "start_time": "2024-05-28T18:06:36.080Z"
      },
      {
        "duration": 416,
        "start_time": "2024-05-28T18:06:36.085Z"
      },
      {
        "duration": 6,
        "start_time": "2024-05-28T18:06:36.502Z"
      },
      {
        "duration": 13,
        "start_time": "2024-05-28T18:06:36.509Z"
      },
      {
        "duration": 13,
        "start_time": "2024-05-28T18:06:36.523Z"
      },
      {
        "duration": 39,
        "start_time": "2024-05-28T18:06:36.537Z"
      },
      {
        "duration": 81,
        "start_time": "2024-05-28T18:06:36.577Z"
      },
      {
        "duration": 12,
        "start_time": "2024-05-28T18:06:36.659Z"
      },
      {
        "duration": 5,
        "start_time": "2024-05-28T18:06:36.672Z"
      },
      {
        "duration": 11,
        "start_time": "2024-05-28T18:06:36.679Z"
      },
      {
        "duration": 3,
        "start_time": "2024-05-28T18:06:36.692Z"
      },
      {
        "duration": 18,
        "start_time": "2024-05-28T18:06:36.696Z"
      },
      {
        "duration": 4,
        "start_time": "2024-05-28T18:06:36.716Z"
      },
      {
        "duration": 8,
        "start_time": "2024-05-28T18:06:36.721Z"
      },
      {
        "duration": 7,
        "start_time": "2024-05-28T18:06:36.731Z"
      },
      {
        "duration": 26,
        "start_time": "2024-05-28T18:06:36.739Z"
      },
      {
        "duration": 731,
        "start_time": "2024-05-28T18:06:36.767Z"
      },
      {
        "duration": 3,
        "start_time": "2024-05-28T18:06:37.500Z"
      },
      {
        "duration": 15,
        "start_time": "2024-05-28T18:06:37.504Z"
      },
      {
        "duration": 28,
        "start_time": "2024-05-28T18:06:37.520Z"
      },
      {
        "duration": 24,
        "start_time": "2024-05-28T18:06:37.549Z"
      },
      {
        "duration": 23,
        "start_time": "2024-05-28T18:06:37.574Z"
      },
      {
        "duration": 803,
        "start_time": "2024-05-28T18:06:37.598Z"
      },
      {
        "duration": 4,
        "start_time": "2024-05-28T18:07:30.895Z"
      },
      {
        "duration": 5,
        "start_time": "2024-05-28T18:07:46.801Z"
      },
      {
        "duration": 5,
        "start_time": "2024-05-28T18:07:56.169Z"
      },
      {
        "duration": 1121,
        "start_time": "2024-05-28T18:09:13.161Z"
      },
      {
        "duration": 66,
        "start_time": "2024-05-28T18:09:14.284Z"
      },
      {
        "duration": 20,
        "start_time": "2024-05-28T18:09:14.352Z"
      },
      {
        "duration": 17,
        "start_time": "2024-05-28T18:09:14.374Z"
      },
      {
        "duration": 15,
        "start_time": "2024-05-28T18:09:14.392Z"
      },
      {
        "duration": 7,
        "start_time": "2024-05-28T18:09:14.409Z"
      },
      {
        "duration": 11,
        "start_time": "2024-05-28T18:09:14.417Z"
      },
      {
        "duration": 36,
        "start_time": "2024-05-28T18:09:14.429Z"
      },
      {
        "duration": 9,
        "start_time": "2024-05-28T18:09:14.467Z"
      },
      {
        "duration": 8,
        "start_time": "2024-05-28T18:09:14.479Z"
      },
      {
        "duration": 6,
        "start_time": "2024-05-28T18:09:14.488Z"
      },
      {
        "duration": 10,
        "start_time": "2024-05-28T18:09:14.495Z"
      },
      {
        "duration": 2,
        "start_time": "2024-05-28T18:09:14.507Z"
      },
      {
        "duration": 5,
        "start_time": "2024-05-28T18:09:14.510Z"
      },
      {
        "duration": 2,
        "start_time": "2024-05-28T18:09:14.517Z"
      },
      {
        "duration": 5,
        "start_time": "2024-05-28T18:09:14.520Z"
      },
      {
        "duration": 5,
        "start_time": "2024-05-28T18:09:14.565Z"
      },
      {
        "duration": 11,
        "start_time": "2024-05-28T18:09:14.572Z"
      },
      {
        "duration": 64,
        "start_time": "2024-05-28T18:09:14.584Z"
      },
      {
        "duration": 7,
        "start_time": "2024-05-28T18:09:14.649Z"
      },
      {
        "duration": 132,
        "start_time": "2024-05-28T18:09:14.657Z"
      },
      {
        "duration": 4,
        "start_time": "2024-05-28T18:09:14.790Z"
      },
      {
        "duration": 100,
        "start_time": "2024-05-28T18:09:14.796Z"
      },
      {
        "duration": 184,
        "start_time": "2024-05-28T18:09:14.897Z"
      },
      {
        "duration": 100,
        "start_time": "2024-05-28T18:09:15.083Z"
      },
      {
        "duration": 260,
        "start_time": "2024-05-28T18:09:15.185Z"
      },
      {
        "duration": 120,
        "start_time": "2024-05-28T18:09:15.446Z"
      },
      {
        "duration": 10,
        "start_time": "2024-05-28T18:09:15.570Z"
      },
      {
        "duration": 318,
        "start_time": "2024-05-28T18:09:15.581Z"
      },
      {
        "duration": 120,
        "start_time": "2024-05-28T18:09:15.901Z"
      },
      {
        "duration": 7,
        "start_time": "2024-05-28T18:09:16.023Z"
      },
      {
        "duration": 23,
        "start_time": "2024-05-28T18:09:16.031Z"
      },
      {
        "duration": 8,
        "start_time": "2024-05-28T18:09:16.065Z"
      },
      {
        "duration": 6,
        "start_time": "2024-05-28T18:09:16.075Z"
      },
      {
        "duration": 9,
        "start_time": "2024-05-28T18:09:16.082Z"
      },
      {
        "duration": 18,
        "start_time": "2024-05-28T18:09:16.092Z"
      },
      {
        "duration": 2,
        "start_time": "2024-05-28T18:09:16.112Z"
      },
      {
        "duration": 149,
        "start_time": "2024-05-28T18:09:16.116Z"
      },
      {
        "duration": 129,
        "start_time": "2024-05-28T18:09:16.267Z"
      },
      {
        "duration": 30,
        "start_time": "2024-05-28T18:09:16.398Z"
      },
      {
        "duration": 10,
        "start_time": "2024-05-28T18:09:16.430Z"
      },
      {
        "duration": 45,
        "start_time": "2024-05-28T18:09:16.442Z"
      },
      {
        "duration": 5,
        "start_time": "2024-05-28T18:09:16.488Z"
      },
      {
        "duration": 23,
        "start_time": "2024-05-28T18:09:16.495Z"
      },
      {
        "duration": 6,
        "start_time": "2024-05-28T18:09:16.519Z"
      },
      {
        "duration": 11,
        "start_time": "2024-05-28T18:09:16.526Z"
      },
      {
        "duration": 22,
        "start_time": "2024-05-28T18:09:16.571Z"
      },
      {
        "duration": 73,
        "start_time": "2024-05-28T18:09:16.595Z"
      },
      {
        "duration": 4,
        "start_time": "2024-05-28T18:09:16.670Z"
      },
      {
        "duration": 6,
        "start_time": "2024-05-28T18:09:16.675Z"
      },
      {
        "duration": 6,
        "start_time": "2024-05-28T18:09:16.682Z"
      },
      {
        "duration": 8,
        "start_time": "2024-05-28T18:09:16.689Z"
      },
      {
        "duration": 554,
        "start_time": "2024-05-28T18:09:16.698Z"
      },
      {
        "duration": 5,
        "start_time": "2024-05-28T18:09:17.253Z"
      },
      {
        "duration": 11,
        "start_time": "2024-05-28T18:09:17.265Z"
      },
      {
        "duration": 5,
        "start_time": "2024-05-28T18:09:17.277Z"
      },
      {
        "duration": 625,
        "start_time": "2024-05-28T18:09:17.284Z"
      },
      {
        "duration": 3,
        "start_time": "2024-05-28T18:09:17.911Z"
      },
      {
        "duration": 5,
        "start_time": "2024-05-28T18:09:17.916Z"
      },
      {
        "duration": 5,
        "start_time": "2024-05-28T18:09:17.922Z"
      },
      {
        "duration": 5,
        "start_time": "2024-05-28T18:09:17.929Z"
      },
      {
        "duration": 432,
        "start_time": "2024-05-28T18:09:17.935Z"
      },
      {
        "duration": 5,
        "start_time": "2024-05-28T18:09:18.369Z"
      },
      {
        "duration": 6,
        "start_time": "2024-05-28T18:09:18.376Z"
      },
      {
        "duration": 4,
        "start_time": "2024-05-28T18:09:18.383Z"
      },
      {
        "duration": 3,
        "start_time": "2024-05-28T18:09:18.388Z"
      },
      {
        "duration": 140,
        "start_time": "2024-05-28T18:09:18.392Z"
      },
      {
        "duration": 3,
        "start_time": "2024-05-28T18:09:18.533Z"
      },
      {
        "duration": 314,
        "start_time": "2024-05-28T18:09:18.538Z"
      },
      {
        "duration": 13,
        "start_time": "2024-05-28T18:09:18.853Z"
      },
      {
        "duration": 6,
        "start_time": "2024-05-28T18:09:18.868Z"
      },
      {
        "duration": 18,
        "start_time": "2024-05-28T18:09:18.875Z"
      },
      {
        "duration": 407,
        "start_time": "2024-05-28T18:09:18.895Z"
      },
      {
        "duration": 5,
        "start_time": "2024-05-28T18:09:19.304Z"
      },
      {
        "duration": 44,
        "start_time": "2024-05-28T18:09:19.310Z"
      },
      {
        "duration": 13,
        "start_time": "2024-05-28T18:09:19.356Z"
      },
      {
        "duration": 14,
        "start_time": "2024-05-28T18:09:19.370Z"
      },
      {
        "duration": 19,
        "start_time": "2024-05-28T18:09:19.386Z"
      },
      {
        "duration": 11,
        "start_time": "2024-05-28T18:09:19.407Z"
      },
      {
        "duration": 6,
        "start_time": "2024-05-28T18:09:19.419Z"
      },
      {
        "duration": 16,
        "start_time": "2024-05-28T18:09:19.426Z"
      },
      {
        "duration": 3,
        "start_time": "2024-05-28T18:09:19.465Z"
      },
      {
        "duration": 7,
        "start_time": "2024-05-28T18:09:19.470Z"
      },
      {
        "duration": 4,
        "start_time": "2024-05-28T18:09:19.478Z"
      },
      {
        "duration": 4,
        "start_time": "2024-05-28T18:09:19.484Z"
      },
      {
        "duration": 7,
        "start_time": "2024-05-28T18:09:19.489Z"
      },
      {
        "duration": 14,
        "start_time": "2024-05-28T18:09:19.497Z"
      },
      {
        "duration": 763,
        "start_time": "2024-05-28T18:09:19.512Z"
      },
      {
        "duration": 2,
        "start_time": "2024-05-28T18:09:20.277Z"
      },
      {
        "duration": 13,
        "start_time": "2024-05-28T18:09:20.281Z"
      },
      {
        "duration": 26,
        "start_time": "2024-05-28T18:09:20.296Z"
      },
      {
        "duration": 10,
        "start_time": "2024-05-28T18:09:20.323Z"
      },
      {
        "duration": 31,
        "start_time": "2024-05-28T18:09:20.334Z"
      },
      {
        "duration": 809,
        "start_time": "2024-05-28T18:09:20.367Z"
      },
      {
        "duration": 56,
        "start_time": "2024-05-28T18:24:50.878Z"
      },
      {
        "duration": 1556,
        "start_time": "2024-05-28T18:25:03.386Z"
      },
      {
        "duration": 205,
        "start_time": "2024-05-28T18:25:04.945Z"
      },
      {
        "duration": 32,
        "start_time": "2024-05-28T18:25:05.151Z"
      },
      {
        "duration": 29,
        "start_time": "2024-05-28T18:25:05.185Z"
      },
      {
        "duration": 45,
        "start_time": "2024-05-28T18:25:05.216Z"
      },
      {
        "duration": 10,
        "start_time": "2024-05-28T18:25:05.262Z"
      },
      {
        "duration": 40,
        "start_time": "2024-05-28T18:25:05.274Z"
      },
      {
        "duration": 7,
        "start_time": "2024-05-28T18:25:05.317Z"
      },
      {
        "duration": 20,
        "start_time": "2024-05-28T18:25:05.326Z"
      },
      {
        "duration": 10,
        "start_time": "2024-05-28T18:25:05.349Z"
      },
      {
        "duration": 8,
        "start_time": "2024-05-28T18:25:05.361Z"
      },
      {
        "duration": 19,
        "start_time": "2024-05-28T18:25:05.371Z"
      },
      {
        "duration": 4,
        "start_time": "2024-05-28T18:25:05.391Z"
      },
      {
        "duration": 46,
        "start_time": "2024-05-28T18:25:05.397Z"
      },
      {
        "duration": 3,
        "start_time": "2024-05-28T18:25:05.446Z"
      },
      {
        "duration": 7,
        "start_time": "2024-05-28T18:25:05.452Z"
      },
      {
        "duration": 28,
        "start_time": "2024-05-28T18:25:05.461Z"
      },
      {
        "duration": 18,
        "start_time": "2024-05-28T18:25:05.491Z"
      },
      {
        "duration": 8,
        "start_time": "2024-05-28T18:25:05.511Z"
      },
      {
        "duration": 8,
        "start_time": "2024-05-28T18:25:05.521Z"
      },
      {
        "duration": 185,
        "start_time": "2024-05-28T18:25:05.531Z"
      },
      {
        "duration": 6,
        "start_time": "2024-05-28T18:25:05.718Z"
      },
      {
        "duration": 104,
        "start_time": "2024-05-28T18:25:05.725Z"
      },
      {
        "duration": 217,
        "start_time": "2024-05-28T18:25:05.831Z"
      },
      {
        "duration": 126,
        "start_time": "2024-05-28T18:25:06.049Z"
      },
      {
        "duration": 322,
        "start_time": "2024-05-28T18:25:06.177Z"
      },
      {
        "duration": 145,
        "start_time": "2024-05-28T18:25:06.501Z"
      },
      {
        "duration": 10,
        "start_time": "2024-05-28T18:25:06.650Z"
      },
      {
        "duration": 343,
        "start_time": "2024-05-28T18:25:06.661Z"
      },
      {
        "duration": 133,
        "start_time": "2024-05-28T18:25:07.006Z"
      },
      {
        "duration": 8,
        "start_time": "2024-05-28T18:25:07.146Z"
      },
      {
        "duration": 48,
        "start_time": "2024-05-28T18:25:07.155Z"
      },
      {
        "duration": 10,
        "start_time": "2024-05-28T18:25:07.205Z"
      },
      {
        "duration": 16,
        "start_time": "2024-05-28T18:25:07.217Z"
      },
      {
        "duration": 18,
        "start_time": "2024-05-28T18:25:07.235Z"
      },
      {
        "duration": 34,
        "start_time": "2024-05-28T18:25:07.254Z"
      },
      {
        "duration": 3,
        "start_time": "2024-05-28T18:25:07.289Z"
      },
      {
        "duration": 139,
        "start_time": "2024-05-28T18:25:07.294Z"
      },
      {
        "duration": 157,
        "start_time": "2024-05-28T18:25:07.435Z"
      },
      {
        "duration": 56,
        "start_time": "2024-05-28T18:25:07.593Z"
      },
      {
        "duration": 31,
        "start_time": "2024-05-28T18:25:07.651Z"
      },
      {
        "duration": 49,
        "start_time": "2024-05-28T18:25:07.684Z"
      },
      {
        "duration": 7,
        "start_time": "2024-05-28T18:25:07.734Z"
      },
      {
        "duration": 40,
        "start_time": "2024-05-28T18:25:07.744Z"
      },
      {
        "duration": 9,
        "start_time": "2024-05-28T18:25:07.787Z"
      },
      {
        "duration": 16,
        "start_time": "2024-05-28T18:25:07.798Z"
      },
      {
        "duration": 45,
        "start_time": "2024-05-28T18:25:07.817Z"
      },
      {
        "duration": 28,
        "start_time": "2024-05-28T18:25:07.864Z"
      },
      {
        "duration": 7,
        "start_time": "2024-05-28T18:25:07.895Z"
      },
      {
        "duration": 8,
        "start_time": "2024-05-28T18:25:07.904Z"
      },
      {
        "duration": 37,
        "start_time": "2024-05-28T18:25:07.914Z"
      },
      {
        "duration": 6,
        "start_time": "2024-05-28T18:25:07.953Z"
      },
      {
        "duration": 716,
        "start_time": "2024-05-28T18:25:07.961Z"
      },
      {
        "duration": 6,
        "start_time": "2024-05-28T18:25:08.679Z"
      },
      {
        "duration": 7,
        "start_time": "2024-05-28T18:25:08.686Z"
      },
      {
        "duration": 6,
        "start_time": "2024-05-28T18:25:08.695Z"
      },
      {
        "duration": 721,
        "start_time": "2024-05-28T18:25:08.703Z"
      },
      {
        "duration": 4,
        "start_time": "2024-05-28T18:25:09.426Z"
      },
      {
        "duration": 17,
        "start_time": "2024-05-28T18:25:09.432Z"
      },
      {
        "duration": 7,
        "start_time": "2024-05-28T18:25:09.450Z"
      },
      {
        "duration": 6,
        "start_time": "2024-05-28T18:25:09.459Z"
      },
      {
        "duration": 496,
        "start_time": "2024-05-28T18:25:09.466Z"
      },
      {
        "duration": 6,
        "start_time": "2024-05-28T18:25:09.964Z"
      },
      {
        "duration": 12,
        "start_time": "2024-05-28T18:25:09.972Z"
      },
      {
        "duration": 9,
        "start_time": "2024-05-28T18:25:09.986Z"
      },
      {
        "duration": 19,
        "start_time": "2024-05-28T18:25:09.996Z"
      },
      {
        "duration": 152,
        "start_time": "2024-05-28T18:25:10.017Z"
      },
      {
        "duration": 4,
        "start_time": "2024-05-28T18:25:10.170Z"
      },
      {
        "duration": 307,
        "start_time": "2024-05-28T18:25:10.176Z"
      },
      {
        "duration": 2,
        "start_time": "2024-05-28T18:25:10.485Z"
      },
      {
        "duration": 7,
        "start_time": "2024-05-28T18:25:10.489Z"
      },
      {
        "duration": 5,
        "start_time": "2024-05-28T18:25:10.499Z"
      },
      {
        "duration": 514,
        "start_time": "2024-05-28T18:25:10.506Z"
      },
      {
        "duration": 7,
        "start_time": "2024-05-28T18:25:11.021Z"
      },
      {
        "duration": 35,
        "start_time": "2024-05-28T18:25:11.030Z"
      },
      {
        "duration": 26,
        "start_time": "2024-05-28T18:25:11.067Z"
      },
      {
        "duration": 23,
        "start_time": "2024-05-28T18:25:11.095Z"
      },
      {
        "duration": 44,
        "start_time": "2024-05-28T18:25:11.121Z"
      },
      {
        "duration": 20,
        "start_time": "2024-05-28T18:25:11.167Z"
      },
      {
        "duration": 11,
        "start_time": "2024-05-28T18:25:11.189Z"
      },
      {
        "duration": 23,
        "start_time": "2024-05-28T18:25:11.202Z"
      },
      {
        "duration": 4,
        "start_time": "2024-05-28T18:25:11.251Z"
      },
      {
        "duration": 18,
        "start_time": "2024-05-28T18:25:11.256Z"
      },
      {
        "duration": 8,
        "start_time": "2024-05-28T18:25:11.276Z"
      },
      {
        "duration": 17,
        "start_time": "2024-05-28T18:25:11.286Z"
      },
      {
        "duration": 12,
        "start_time": "2024-05-28T18:25:11.305Z"
      },
      {
        "duration": 14,
        "start_time": "2024-05-28T18:25:11.319Z"
      },
      {
        "duration": 835,
        "start_time": "2024-05-28T18:25:11.334Z"
      },
      {
        "duration": 6,
        "start_time": "2024-05-28T18:25:12.171Z"
      },
      {
        "duration": 16,
        "start_time": "2024-05-28T18:25:12.178Z"
      },
      {
        "duration": 30,
        "start_time": "2024-05-28T18:25:12.196Z"
      },
      {
        "duration": 27,
        "start_time": "2024-05-28T18:25:12.228Z"
      },
      {
        "duration": 12,
        "start_time": "2024-05-28T18:25:12.256Z"
      },
      {
        "duration": 975,
        "start_time": "2024-05-28T18:25:12.271Z"
      },
      {
        "duration": 73,
        "start_time": "2024-05-28T18:43:58.917Z"
      },
      {
        "duration": 113,
        "start_time": "2024-05-28T18:44:13.531Z"
      },
      {
        "duration": 8,
        "start_time": "2024-05-28T18:44:26.024Z"
      },
      {
        "duration": 6,
        "start_time": "2024-05-28T18:45:46.299Z"
      },
      {
        "duration": 11,
        "start_time": "2024-05-28T18:47:34.531Z"
      },
      {
        "duration": 9,
        "start_time": "2024-05-28T18:47:47.920Z"
      },
      {
        "duration": 8,
        "start_time": "2024-05-28T18:47:52.829Z"
      },
      {
        "duration": 1277,
        "start_time": "2024-05-28T18:48:10.304Z"
      },
      {
        "duration": 70,
        "start_time": "2024-05-28T18:48:11.583Z"
      },
      {
        "duration": 22,
        "start_time": "2024-05-28T18:48:11.655Z"
      },
      {
        "duration": 46,
        "start_time": "2024-05-28T18:48:11.679Z"
      },
      {
        "duration": 23,
        "start_time": "2024-05-28T18:48:11.728Z"
      },
      {
        "duration": 8,
        "start_time": "2024-05-28T18:48:11.753Z"
      },
      {
        "duration": 28,
        "start_time": "2024-05-28T18:48:11.763Z"
      },
      {
        "duration": 6,
        "start_time": "2024-05-28T18:48:11.793Z"
      },
      {
        "duration": 25,
        "start_time": "2024-05-28T18:48:11.801Z"
      },
      {
        "duration": 17,
        "start_time": "2024-05-28T18:48:11.828Z"
      },
      {
        "duration": 14,
        "start_time": "2024-05-28T18:48:11.847Z"
      },
      {
        "duration": 27,
        "start_time": "2024-05-28T18:48:11.862Z"
      },
      {
        "duration": 2,
        "start_time": "2024-05-28T18:48:11.891Z"
      },
      {
        "duration": 10,
        "start_time": "2024-05-28T18:48:11.896Z"
      },
      {
        "duration": 11,
        "start_time": "2024-05-28T18:48:11.907Z"
      },
      {
        "duration": 21,
        "start_time": "2024-05-28T18:48:11.919Z"
      },
      {
        "duration": 28,
        "start_time": "2024-05-28T18:48:11.942Z"
      },
      {
        "duration": 6,
        "start_time": "2024-05-28T18:48:11.972Z"
      },
      {
        "duration": 17,
        "start_time": "2024-05-28T18:48:11.980Z"
      },
      {
        "duration": 10,
        "start_time": "2024-05-28T18:48:11.999Z"
      },
      {
        "duration": 160,
        "start_time": "2024-05-28T18:48:12.010Z"
      },
      {
        "duration": 5,
        "start_time": "2024-05-28T18:48:12.172Z"
      },
      {
        "duration": 106,
        "start_time": "2024-05-28T18:48:12.178Z"
      },
      {
        "duration": 189,
        "start_time": "2024-05-28T18:48:12.285Z"
      },
      {
        "duration": 132,
        "start_time": "2024-05-28T18:48:12.476Z"
      },
      {
        "duration": 284,
        "start_time": "2024-05-28T18:48:12.610Z"
      },
      {
        "duration": 137,
        "start_time": "2024-05-28T18:48:12.895Z"
      },
      {
        "duration": 16,
        "start_time": "2024-05-28T18:48:13.034Z"
      },
      {
        "duration": 336,
        "start_time": "2024-05-28T18:48:13.052Z"
      },
      {
        "duration": 131,
        "start_time": "2024-05-28T18:48:13.390Z"
      },
      {
        "duration": 8,
        "start_time": "2024-05-28T18:48:13.522Z"
      },
      {
        "duration": 25,
        "start_time": "2024-05-28T18:48:13.546Z"
      },
      {
        "duration": 10,
        "start_time": "2024-05-28T18:48:13.573Z"
      },
      {
        "duration": 6,
        "start_time": "2024-05-28T18:48:13.584Z"
      },
      {
        "duration": 12,
        "start_time": "2024-05-28T18:48:13.591Z"
      },
      {
        "duration": 51,
        "start_time": "2024-05-28T18:48:13.605Z"
      },
      {
        "duration": 3,
        "start_time": "2024-05-28T18:48:13.658Z"
      },
      {
        "duration": 145,
        "start_time": "2024-05-28T18:48:13.662Z"
      },
      {
        "duration": 159,
        "start_time": "2024-05-28T18:48:13.809Z"
      },
      {
        "duration": 33,
        "start_time": "2024-05-28T18:48:13.971Z"
      },
      {
        "duration": 12,
        "start_time": "2024-05-28T18:48:14.009Z"
      },
      {
        "duration": 48,
        "start_time": "2024-05-28T18:48:14.023Z"
      },
      {
        "duration": 6,
        "start_time": "2024-05-28T18:48:14.072Z"
      },
      {
        "duration": 26,
        "start_time": "2024-05-28T18:48:14.080Z"
      },
      {
        "duration": 41,
        "start_time": "2024-05-28T18:48:14.107Z"
      },
      {
        "duration": 23,
        "start_time": "2024-05-28T18:48:14.150Z"
      },
      {
        "duration": 58,
        "start_time": "2024-05-28T18:48:14.175Z"
      },
      {
        "duration": 19,
        "start_time": "2024-05-28T18:48:14.235Z"
      },
      {
        "duration": 5,
        "start_time": "2024-05-28T18:48:14.256Z"
      },
      {
        "duration": 10,
        "start_time": "2024-05-28T18:48:14.264Z"
      },
      {
        "duration": 17,
        "start_time": "2024-05-28T18:48:14.275Z"
      },
      {
        "duration": 9,
        "start_time": "2024-05-28T18:48:14.294Z"
      },
      {
        "duration": 672,
        "start_time": "2024-05-28T18:48:14.305Z"
      },
      {
        "duration": 7,
        "start_time": "2024-05-28T18:48:14.979Z"
      },
      {
        "duration": 9,
        "start_time": "2024-05-28T18:48:14.988Z"
      },
      {
        "duration": 75,
        "start_time": "2024-05-28T18:48:14.999Z"
      },
      {
        "duration": 730,
        "start_time": "2024-05-28T18:48:15.076Z"
      },
      {
        "duration": 5,
        "start_time": "2024-05-28T18:48:15.808Z"
      },
      {
        "duration": 14,
        "start_time": "2024-05-28T18:48:15.815Z"
      },
      {
        "duration": 6,
        "start_time": "2024-05-28T18:48:15.832Z"
      },
      {
        "duration": 9,
        "start_time": "2024-05-28T18:48:15.846Z"
      },
      {
        "duration": 456,
        "start_time": "2024-05-28T18:48:15.856Z"
      },
      {
        "duration": 7,
        "start_time": "2024-05-28T18:48:16.313Z"
      },
      {
        "duration": 28,
        "start_time": "2024-05-28T18:48:16.321Z"
      },
      {
        "duration": 6,
        "start_time": "2024-05-28T18:48:16.350Z"
      },
      {
        "duration": 3,
        "start_time": "2024-05-28T18:48:16.358Z"
      },
      {
        "duration": 150,
        "start_time": "2024-05-28T18:48:16.362Z"
      },
      {
        "duration": 4,
        "start_time": "2024-05-28T18:48:16.514Z"
      },
      {
        "duration": 337,
        "start_time": "2024-05-28T18:48:16.519Z"
      },
      {
        "duration": 3,
        "start_time": "2024-05-28T18:48:16.858Z"
      },
      {
        "duration": 10,
        "start_time": "2024-05-28T18:48:16.863Z"
      },
      {
        "duration": 8,
        "start_time": "2024-05-28T18:48:16.875Z"
      },
      {
        "duration": 517,
        "start_time": "2024-05-28T18:48:16.885Z"
      },
      {
        "duration": 6,
        "start_time": "2024-05-28T18:48:17.404Z"
      },
      {
        "duration": 20,
        "start_time": "2024-05-28T18:48:17.412Z"
      },
      {
        "duration": 24,
        "start_time": "2024-05-28T18:48:17.434Z"
      },
      {
        "duration": 15,
        "start_time": "2024-05-28T18:48:17.460Z"
      },
      {
        "duration": 22,
        "start_time": "2024-05-28T18:48:17.476Z"
      },
      {
        "duration": 13,
        "start_time": "2024-05-28T18:48:17.499Z"
      },
      {
        "duration": 6,
        "start_time": "2024-05-28T18:48:17.513Z"
      },
      {
        "duration": 37,
        "start_time": "2024-05-28T18:48:17.521Z"
      },
      {
        "duration": 6,
        "start_time": "2024-05-28T18:48:17.560Z"
      },
      {
        "duration": 9,
        "start_time": "2024-05-28T18:48:17.568Z"
      },
      {
        "duration": 5,
        "start_time": "2024-05-28T18:48:17.579Z"
      },
      {
        "duration": 9,
        "start_time": "2024-05-28T18:48:17.585Z"
      },
      {
        "duration": 7,
        "start_time": "2024-05-28T18:48:17.596Z"
      },
      {
        "duration": 10,
        "start_time": "2024-05-28T18:48:17.604Z"
      },
      {
        "duration": 848,
        "start_time": "2024-05-28T18:48:17.615Z"
      },
      {
        "duration": 4,
        "start_time": "2024-05-28T18:48:18.464Z"
      },
      {
        "duration": 17,
        "start_time": "2024-05-28T18:48:18.469Z"
      },
      {
        "duration": 31,
        "start_time": "2024-05-28T18:48:18.488Z"
      },
      {
        "duration": 32,
        "start_time": "2024-05-28T18:48:18.521Z"
      },
      {
        "duration": 48,
        "start_time": "2024-05-28T18:48:18.555Z"
      },
      {
        "duration": 934,
        "start_time": "2024-05-28T18:48:18.605Z"
      }
    ],
    "kernelspec": {
      "display_name": "Python 3 (ipykernel)",
      "language": "python",
      "name": "python3"
    },
    "language_info": {
      "codemirror_mode": {
        "name": "ipython",
        "version": 3
      },
      "file_extension": ".py",
      "mimetype": "text/x-python",
      "name": "python",
      "nbconvert_exporter": "python",
      "pygments_lexer": "ipython3",
      "version": "3.9.5"
    },
    "toc": {
      "base_numbering": 1,
      "nav_menu": {},
      "number_sections": true,
      "sideBar": true,
      "skip_h1_title": true,
      "title_cell": "Table of Contents",
      "title_sidebar": "Contents",
      "toc_cell": false,
      "toc_position": {
        "height": "calc(100% - 180px)",
        "left": "10px",
        "top": "150px",
        "width": "297.6px"
      },
      "toc_section_display": true,
      "toc_window_display": false
    },
    "colab": {
      "provenance": []
    }
  },
  "nbformat": 4,
  "nbformat_minor": 5
}