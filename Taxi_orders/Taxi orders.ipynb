{
 "cells": [
  {
   "cell_type": "markdown",
   "metadata": {
    "toc": true
   },
   "source": [
    "<h1>Содержание<span class=\"tocSkip\"></span></h1>\n",
    "<div class=\"toc\"><ul class=\"toc-item\"><li><span><a href=\"#Подготовка\" data-toc-modified-id=\"Подготовка-1\"><span class=\"toc-item-num\">1&nbsp;&nbsp;</span>Подготовка</a></span></li><li><span><a href=\"#Анализ\" data-toc-modified-id=\"Анализ-2\"><span class=\"toc-item-num\">2&nbsp;&nbsp;</span>Анализ</a></span><ul class=\"toc-item\"><li><span><a href=\"#Общая-информация\" data-toc-modified-id=\"Общая-информация-2.1\"><span class=\"toc-item-num\">2.1&nbsp;&nbsp;</span>Общая информация</a></span></li><li><span><a href=\"#Скользящее-среднее\" data-toc-modified-id=\"Скользящее-среднее-2.2\"><span class=\"toc-item-num\">2.2&nbsp;&nbsp;</span>Скользящее среднее</a></span></li><li><span><a href=\"#Тренды-и-сезонность\" data-toc-modified-id=\"Тренды-и-сезонность-2.3\"><span class=\"toc-item-num\">2.3&nbsp;&nbsp;</span>Тренды и сезонность</a></span></li><li><span><a href=\"#Разность-временного-ряда\" data-toc-modified-id=\"Разность-временного-ряда-2.4\"><span class=\"toc-item-num\">2.4&nbsp;&nbsp;</span>Разность временного ряда</a></span></li><li><span><a href=\"#Создание-признаков\" data-toc-modified-id=\"Создание-признаков-2.5\"><span class=\"toc-item-num\">2.5&nbsp;&nbsp;</span>Создание признаков</a></span></li></ul></li><li><span><a href=\"#Обучение\" data-toc-modified-id=\"Обучение-3\"><span class=\"toc-item-num\">3&nbsp;&nbsp;</span>Обучение</a></span><ul class=\"toc-item\"><li><span><a href=\"#Линейная-регрессия\" data-toc-modified-id=\"Линейная-регрессия-3.1\"><span class=\"toc-item-num\">3.1&nbsp;&nbsp;</span>Линейная регрессия</a></span></li><li><span><a href=\"#Дерево-решений\" data-toc-modified-id=\"Дерево-решений-3.2\"><span class=\"toc-item-num\">3.2&nbsp;&nbsp;</span>Дерево решений</a></span></li></ul></li><li><span><a href=\"#Тестирование\" data-toc-modified-id=\"Тестирование-4\"><span class=\"toc-item-num\">4&nbsp;&nbsp;</span>Тестирование</a></span></li><li><span><a href=\"#Чек-лист-проверки\" data-toc-modified-id=\"Чек-лист-проверки-5\"><span class=\"toc-item-num\">5&nbsp;&nbsp;</span>Чек-лист проверки</a></span></li></ul></div>"
   ]
  },
  {
   "cell_type": "markdown",
   "metadata": {},
   "source": [
    "#  Прогнозирование заказов такси"
   ]
  },
  {
   "cell_type": "markdown",
   "metadata": {},
   "source": [
    "Компания «Чётенькое такси» собрала исторические данные о заказах такси в аэропортах. Чтобы привлекать больше водителей в период пиковой нагрузки, нужно спрогнозировать количество заказов такси на следующий час. Постройте модель для такого предсказания.\n",
    "\n",
    "Значение метрики *RMSE* на тестовой выборке должно быть не больше 48.\n",
    "\n",
    "Вам нужно:\n",
    "\n",
    "1. Загрузить данные и выполнить их ресемплирование по одному часу.\n",
    "2. Проанализировать данные.\n",
    "3. Обучить разные модели с различными гиперпараметрами. Сделать тестовую выборку размером 10% от исходных данных.\n",
    "4. Проверить данные на тестовой выборке и сделать выводы.\n",
    "\n",
    "\n",
    "Данные лежат в файле `taxi.csv`. Количество заказов находится в столбце `num_orders` (от англ. *number of orders*, «число заказов»)."
   ]
  },
  {
   "cell_type": "code",
   "execution_count": 1,
   "metadata": {},
   "outputs": [
    {
     "name": "stdout",
     "output_type": "stream",
     "text": [
      "Requirement already satisfied: sweetviz in /opt/conda/lib/python3.9/site-packages (2.3.1)\n",
      "Requirement already satisfied: importlib-resources>=1.2.0 in /opt/conda/lib/python3.9/site-packages (from sweetviz) (6.4.5)\n",
      "Requirement already satisfied: numpy>=1.16.0 in /opt/conda/lib/python3.9/site-packages (from sweetviz) (1.21.1)\n",
      "Requirement already satisfied: jinja2>=2.11.1 in /opt/conda/lib/python3.9/site-packages (from sweetviz) (3.0.1)\n",
      "Requirement already satisfied: matplotlib>=3.1.3 in /opt/conda/lib/python3.9/site-packages (from sweetviz) (3.3.4)\n",
      "Requirement already satisfied: pandas!=1.0.0,!=1.0.1,!=1.0.2,>=0.25.3 in /opt/conda/lib/python3.9/site-packages (from sweetviz) (1.2.4)\n",
      "Requirement already satisfied: scipy>=1.3.2 in /opt/conda/lib/python3.9/site-packages (from sweetviz) (1.9.1)\n",
      "Requirement already satisfied: tqdm>=4.43.0 in /opt/conda/lib/python3.9/site-packages (from sweetviz) (4.61.2)\n",
      "Requirement already satisfied: zipp>=3.1.0 in /opt/conda/lib/python3.9/site-packages (from importlib-resources>=1.2.0->sweetviz) (3.5.0)\n",
      "Requirement already satisfied: MarkupSafe>=2.0 in /opt/conda/lib/python3.9/site-packages (from jinja2>=2.11.1->sweetviz) (2.1.1)\n",
      "Requirement already satisfied: python-dateutil>=2.1 in /opt/conda/lib/python3.9/site-packages (from matplotlib>=3.1.3->sweetviz) (2.8.1)\n",
      "Requirement already satisfied: pillow>=6.2.0 in /opt/conda/lib/python3.9/site-packages (from matplotlib>=3.1.3->sweetviz) (8.4.0)\n",
      "Requirement already satisfied: kiwisolver>=1.0.1 in /opt/conda/lib/python3.9/site-packages (from matplotlib>=3.1.3->sweetviz) (1.4.4)\n",
      "Requirement already satisfied: pyparsing!=2.0.4,!=2.1.2,!=2.1.6,>=2.0.3 in /opt/conda/lib/python3.9/site-packages (from matplotlib>=3.1.3->sweetviz) (2.4.7)\n",
      "Requirement already satisfied: cycler>=0.10 in /opt/conda/lib/python3.9/site-packages (from matplotlib>=3.1.3->sweetviz) (0.11.0)\n",
      "Requirement already satisfied: pytz>=2017.3 in /opt/conda/lib/python3.9/site-packages (from pandas!=1.0.0,!=1.0.1,!=1.0.2,>=0.25.3->sweetviz) (2021.1)\n",
      "Requirement already satisfied: six>=1.5 in /opt/conda/lib/python3.9/site-packages (from python-dateutil>=2.1->matplotlib>=3.1.3->sweetviz) (1.16.0)\n",
      "Note: you may need to restart the kernel to use updated packages.\n"
     ]
    }
   ],
   "source": [
    "pip install sweetviz"
   ]
  },
  {
   "cell_type": "code",
   "execution_count": 2,
   "metadata": {},
   "outputs": [
    {
     "name": "stdout",
     "output_type": "stream",
     "text": [
      "Requirement already satisfied: scikit-learn in /opt/conda/lib/python3.9/site-packages (1.5.2)\n",
      "Requirement already satisfied: numpy>=1.19.5 in /opt/conda/lib/python3.9/site-packages (from scikit-learn) (1.21.1)\n",
      "Requirement already satisfied: joblib>=1.2.0 in /opt/conda/lib/python3.9/site-packages (from scikit-learn) (1.4.2)\n",
      "Requirement already satisfied: scipy>=1.6.0 in /opt/conda/lib/python3.9/site-packages (from scikit-learn) (1.9.1)\n",
      "Requirement already satisfied: threadpoolctl>=3.1.0 in /opt/conda/lib/python3.9/site-packages (from scikit-learn) (3.1.0)\n",
      "Note: you may need to restart the kernel to use updated packages.\n"
     ]
    }
   ],
   "source": [
    "pip install --upgrade scikit-learn"
   ]
  },
  {
   "cell_type": "markdown",
   "metadata": {},
   "source": [
    "## Подготовка"
   ]
  },
  {
   "cell_type": "code",
   "execution_count": 3,
   "metadata": {},
   "outputs": [],
   "source": [
    "import pandas as pd\n",
    "import matplotlib.pyplot as plt\n",
    "import numpy as np\n",
    "import sweetviz as sw\n",
    "import warnings\n",
    "from IPython.display import display, HTML\n",
    "from statsmodels.tsa.seasonal import seasonal_decompose\n",
    "from sklearn.linear_model import LinearRegression\n",
    "from sklearn.model_selection import train_test_split, GridSearchCV, TimeSeriesSplit\n",
    "from sklearn.compose import ColumnTransformer\n",
    "from sklearn.preprocessing import StandardScaler, MinMaxScaler, OneHotEncoder\n",
    "from sklearn.metrics import mean_squared_error\n",
    "from sklearn.tree import DecisionTreeRegressor\n",
    "from sklearn.pipeline import Pipeline"
   ]
  },
  {
   "cell_type": "code",
   "execution_count": 4,
   "metadata": {},
   "outputs": [],
   "source": [
    "warnings.filterwarnings('ignore')"
   ]
  },
  {
   "cell_type": "code",
   "execution_count": 5,
   "metadata": {},
   "outputs": [],
   "source": [
    "try:\n",
    "    data = pd.read_csv('/datasets/taxi.csv')\n",
    "except:\n",
    "    data = pd.read_csv('taxi.csv')"
   ]
  },
  {
   "cell_type": "code",
   "execution_count": 6,
   "metadata": {},
   "outputs": [
    {
     "name": "stdout",
     "output_type": "stream",
     "text": [
      "<class 'pandas.core.frame.DataFrame'>\n",
      "RangeIndex: 26496 entries, 0 to 26495\n",
      "Data columns (total 2 columns):\n",
      " #   Column      Non-Null Count  Dtype \n",
      "---  ------      --------------  ----- \n",
      " 0   datetime    26496 non-null  object\n",
      " 1   num_orders  26496 non-null  int64 \n",
      "dtypes: int64(1), object(1)\n",
      "memory usage: 414.1+ KB\n"
     ]
    }
   ],
   "source": [
    "data.info()"
   ]
  },
  {
   "cell_type": "code",
   "execution_count": 7,
   "metadata": {},
   "outputs": [
    {
     "data": {
      "text/html": [
       "<div>\n",
       "<style scoped>\n",
       "    .dataframe tbody tr th:only-of-type {\n",
       "        vertical-align: middle;\n",
       "    }\n",
       "\n",
       "    .dataframe tbody tr th {\n",
       "        vertical-align: top;\n",
       "    }\n",
       "\n",
       "    .dataframe thead th {\n",
       "        text-align: right;\n",
       "    }\n",
       "</style>\n",
       "<table border=\"1\" class=\"dataframe\">\n",
       "  <thead>\n",
       "    <tr style=\"text-align: right;\">\n",
       "      <th></th>\n",
       "      <th>datetime</th>\n",
       "      <th>num_orders</th>\n",
       "    </tr>\n",
       "  </thead>\n",
       "  <tbody>\n",
       "    <tr>\n",
       "      <th>0</th>\n",
       "      <td>2018-03-01 00:00:00</td>\n",
       "      <td>9</td>\n",
       "    </tr>\n",
       "    <tr>\n",
       "      <th>1</th>\n",
       "      <td>2018-03-01 00:10:00</td>\n",
       "      <td>14</td>\n",
       "    </tr>\n",
       "    <tr>\n",
       "      <th>2</th>\n",
       "      <td>2018-03-01 00:20:00</td>\n",
       "      <td>28</td>\n",
       "    </tr>\n",
       "    <tr>\n",
       "      <th>3</th>\n",
       "      <td>2018-03-01 00:30:00</td>\n",
       "      <td>20</td>\n",
       "    </tr>\n",
       "    <tr>\n",
       "      <th>4</th>\n",
       "      <td>2018-03-01 00:40:00</td>\n",
       "      <td>32</td>\n",
       "    </tr>\n",
       "  </tbody>\n",
       "</table>\n",
       "</div>"
      ],
      "text/plain": [
       "              datetime  num_orders\n",
       "0  2018-03-01 00:00:00           9\n",
       "1  2018-03-01 00:10:00          14\n",
       "2  2018-03-01 00:20:00          28\n",
       "3  2018-03-01 00:30:00          20\n",
       "4  2018-03-01 00:40:00          32"
      ]
     },
     "execution_count": 7,
     "metadata": {},
     "output_type": "execute_result"
    }
   ],
   "source": [
    "data.head()"
   ]
  },
  {
   "cell_type": "code",
   "execution_count": 8,
   "metadata": {},
   "outputs": [],
   "source": [
    "data['datetime'] = data['datetime'].astype('datetime64')"
   ]
  },
  {
   "cell_type": "code",
   "execution_count": 9,
   "metadata": {},
   "outputs": [
    {
     "data": {
      "text/plain": [
       "True"
      ]
     },
     "execution_count": 9,
     "metadata": {},
     "output_type": "execute_result"
    }
   ],
   "source": [
    "data['datetime'].is_monotonic"
   ]
  },
  {
   "cell_type": "code",
   "execution_count": 10,
   "metadata": {},
   "outputs": [],
   "source": [
    "data_resample = data.set_index('datetime').resample('1H').sum()"
   ]
  },
  {
   "cell_type": "code",
   "execution_count": 11,
   "metadata": {},
   "outputs": [
    {
     "data": {
      "text/html": [
       "<div>\n",
       "<style scoped>\n",
       "    .dataframe tbody tr th:only-of-type {\n",
       "        vertical-align: middle;\n",
       "    }\n",
       "\n",
       "    .dataframe tbody tr th {\n",
       "        vertical-align: top;\n",
       "    }\n",
       "\n",
       "    .dataframe thead th {\n",
       "        text-align: right;\n",
       "    }\n",
       "</style>\n",
       "<table border=\"1\" class=\"dataframe\">\n",
       "  <thead>\n",
       "    <tr style=\"text-align: right;\">\n",
       "      <th></th>\n",
       "      <th>num_orders</th>\n",
       "    </tr>\n",
       "  </thead>\n",
       "  <tbody>\n",
       "    <tr>\n",
       "      <th>count</th>\n",
       "      <td>4416.000000</td>\n",
       "    </tr>\n",
       "    <tr>\n",
       "      <th>mean</th>\n",
       "      <td>84.422781</td>\n",
       "    </tr>\n",
       "    <tr>\n",
       "      <th>std</th>\n",
       "      <td>45.023853</td>\n",
       "    </tr>\n",
       "    <tr>\n",
       "      <th>min</th>\n",
       "      <td>0.000000</td>\n",
       "    </tr>\n",
       "    <tr>\n",
       "      <th>25%</th>\n",
       "      <td>54.000000</td>\n",
       "    </tr>\n",
       "    <tr>\n",
       "      <th>50%</th>\n",
       "      <td>78.000000</td>\n",
       "    </tr>\n",
       "    <tr>\n",
       "      <th>75%</th>\n",
       "      <td>107.000000</td>\n",
       "    </tr>\n",
       "    <tr>\n",
       "      <th>max</th>\n",
       "      <td>462.000000</td>\n",
       "    </tr>\n",
       "  </tbody>\n",
       "</table>\n",
       "</div>"
      ],
      "text/plain": [
       "        num_orders\n",
       "count  4416.000000\n",
       "mean     84.422781\n",
       "std      45.023853\n",
       "min       0.000000\n",
       "25%      54.000000\n",
       "50%      78.000000\n",
       "75%     107.000000\n",
       "max     462.000000"
      ]
     },
     "execution_count": 11,
     "metadata": {},
     "output_type": "execute_result"
    }
   ],
   "source": [
    "data_resample.describe()"
   ]
  },
  {
   "cell_type": "markdown",
   "metadata": {},
   "source": [
    "**Вывод по 1 шагу: В 1 части проекта были подключены необходимые инстременты для работы. Загружен датасет. Вывели общую информацию о нем и первые 5 строк для ознакомления с данными. В данных был обнаружен столбец с датой, поменял его тип на datetime64. Проверил последовательны ли расположены даты в столбце, соответствуюшая функция показала, что данные расположены в хронологическом порядке. Ресемплировал датасет по часам, агрегировав суммой.**"
   ]
  },
  {
   "cell_type": "markdown",
   "metadata": {},
   "source": [
    "## Анализ"
   ]
  },
  {
   "cell_type": "markdown",
   "metadata": {},
   "source": [
    "### Общая информация"
   ]
  },
  {
   "cell_type": "code",
   "execution_count": 12,
   "metadata": {},
   "outputs": [
    {
     "data": {
      "application/vnd.jupyter.widget-view+json": {
       "model_id": "136ccd4ee54d4ec4b601014cc9e20392",
       "version_major": 2,
       "version_minor": 0
      },
      "text/plain": [
       "                                             |          | [  0%]   00:00 -> (? left)"
      ]
     },
     "metadata": {},
     "output_type": "display_data"
    },
    {
     "name": "stdout",
     "output_type": "stream",
     "text": [
      "Report common_analysis_taxi.html was generated! NOTEBOOK/COLAB USERS: the web browser MAY not pop up, regardless, the report IS saved in your notebook/colab files.\n"
     ]
    }
   ],
   "source": [
    "report = sw.analyze([data, \"Taxi\"])\n",
    "report.show_html('common_analysis_taxi.html')"
   ]
  },
  {
   "cell_type": "code",
   "execution_count": 13,
   "metadata": {},
   "outputs": [
    {
     "data": {
      "text/html": [
       "<script type=\"text/javascript\">\n",
       "                   window.open(\"common_analysis_taxi.html\", \"_blank\");\n",
       "               </script>"
      ],
      "text/plain": [
       "<IPython.core.display.HTML object>"
      ]
     },
     "metadata": {},
     "output_type": "display_data"
    }
   ],
   "source": [
    "display(HTML('''<script type=\"text/javascript\">\n",
    "                   window.open(\"common_analysis_taxi.html\", \"_blank\");\n",
    "               </script>'''))"
   ]
  },
  {
   "cell_type": "markdown",
   "metadata": {},
   "source": [
    "**Маленький датасет можно изучить с помощью готовых инструментов из библиотеки sweetviz. Выведенные отчет показал отсутствие пропусков и дубликатов, что очень важно для дальнейшего исследования. Другие интересующие параметры можно найти в отчете.**"
   ]
  },
  {
   "cell_type": "markdown",
   "metadata": {},
   "source": [
    "### Скользящее среднее"
   ]
  },
  {
   "cell_type": "code",
   "execution_count": 14,
   "metadata": {},
   "outputs": [
    {
     "data": {
      "image/png": "[encoded data removed]",
      "text/plain": [
       "<Figure size 1000x700 with 1 Axes>"
      ]
     },
     "metadata": {},
     "output_type": "display_data"
    }
   ],
   "source": [
    "plt.figure(figsize=(10,7))\n",
    "plt.plot(data_resample, color='b', label='Полная осциляция')\n",
    "plt.plot(data_resample.rolling(40).mean(), color='r', label='Сгруппированная осциляция')\n",
    "plt.xlabel('Месяц')\n",
    "plt.ylabel('Среднее количество заказов')\n",
    "plt.title('График Скользящего среднего')\n",
    "plt.legend()\n",
    "plt.show()"
   ]
  },
  {
   "cell_type": "markdown",
   "metadata": {},
   "source": [
    "**Видим, что какие либо наблюдения сложно делать по полному графику распределения количества заказов по часам, поэтому пришлось данные немного скорректировать, красным показано как колеблется среднее количетсво заказов по часам каждые 40 наблюдений. Заметно, что с марта до сентябрь рассматриваемое среднее плавно растет, но колебания продолжаются все равно. Особенно выделяются участки в конце мая и в конце августа, где виден резкий скачек величины**"
   ]
  },
  {
   "cell_type": "markdown",
   "metadata": {},
   "source": [
    "### Тренды и сезонность"
   ]
  },
  {
   "cell_type": "code",
   "execution_count": 15,
   "metadata": {},
   "outputs": [
    {
     "data": {
      "image/png": "[encoded data removed]",
      "text/plain": [
       "<Figure size 1000x800 with 1 Axes>"
      ]
     },
     "metadata": {},
     "output_type": "display_data"
    }
   ],
   "source": [
    "plt.figure(figsize=(10,8))\n",
    "plt.plot(seasonal_decompose(data_resample).trend, color='b', label='Тренд')\n",
    "plt.plot(seasonal_decompose(data_resample).resid, color='r', label='Шум')\n",
    "\n",
    "plt.xlabel('Месяц')\n",
    "plt.ylabel('Количество заказов')\n",
    "plt.title('График тренда и шума')\n",
    "plt.legend()\n",
    "plt.show()"
   ]
  },
  {
   "cell_type": "code",
   "execution_count": 16,
   "metadata": {},
   "outputs": [
    {
     "data": {
      "image/png": "[encoded data removed]",
      "text/plain": [
       "<Figure size 1000x800 with 1 Axes>"
      ]
     },
     "metadata": {},
     "output_type": "display_data"
    }
   ],
   "source": [
    "plt.figure(figsize=(10,8))\n",
    "plt.plot(seasonal_decompose(data_resample).seasonal['2018-03-01':'2018-03-10'], color='g', label='Сезонность')\n",
    "plt.xlabel('Месяц')\n",
    "plt.ylabel('Количество заказов')\n",
    "plt.title('График сезонности')\n",
    "plt.legend()\n",
    "plt.show()"
   ]
  },
  {
   "cell_type": "markdown",
   "metadata": {},
   "source": [
    "**Теперь рассмотрим графики тренда, сезонности и шума в данных.**\n",
    "\n",
    "**Тренд:**\n",
    "\n",
    "- На графике видно, что тренд показывает устойчивый рост количества заказов такси с течением времени. Это может свидетельствовать о росте популярности сервиса такси или увеличении общей активности в определённый период.\n",
    "Рост тренда сопровождается колебаниями, но основное направление линии — восходящее.\n",
    "\n",
    "**Cезонность:**\n",
    "\n",
    "- Сезонность выражена довольно стабильно и повторяется с регулярными интервалами. Это означает, что в определённые периоды времени наблюдаются цикличные колебания в количестве заказов.\n",
    "Сезонные колебания могут отражать особенности спроса на такси в зависимости от времени суток, дня недели или месяца. Например, это может быть связано с определёнными пиковыми часами (утром, вечером) или днями с высокой активностью.\n",
    "\n",
    "**Шум:**\n",
    "\n",
    "- Красная линия представляет собой шум, т.е. остаточную составляющую, которая не объясняется трендом и сезонностью. Здесь шум сильно варьируется, включая резкие пики, особенно в последние периоды временного ряда.\n",
    "Высокий уровень шума указывает на наличие значительных случайных колебаний в количестве заказов такси, что может быть вызвано непредсказуемыми факторами (например, погодные условия, массовые мероприятия, аварии на дорогах)."
   ]
  },
  {
   "cell_type": "markdown",
   "metadata": {},
   "source": [
    "### Разность временного ряда"
   ]
  },
  {
   "cell_type": "code",
   "execution_count": 17,
   "metadata": {},
   "outputs": [],
   "source": [
    "data_shift = data_resample - data_resample.shift()\n",
    "data_shift['mean'] = data_shift['num_orders'].rolling(40).mean()\n",
    "data_shift['std'] = data_shift['num_orders'].rolling(40).std()"
   ]
  },
  {
   "cell_type": "code",
   "execution_count": 18,
   "metadata": {},
   "outputs": [
    {
     "data": {
      "text/html": [
       "<div>\n",
       "<style scoped>\n",
       "    .dataframe tbody tr th:only-of-type {\n",
       "        vertical-align: middle;\n",
       "    }\n",
       "\n",
       "    .dataframe tbody tr th {\n",
       "        vertical-align: top;\n",
       "    }\n",
       "\n",
       "    .dataframe thead th {\n",
       "        text-align: right;\n",
       "    }\n",
       "</style>\n",
       "<table border=\"1\" class=\"dataframe\">\n",
       "  <thead>\n",
       "    <tr style=\"text-align: right;\">\n",
       "      <th></th>\n",
       "      <th>num_orders</th>\n",
       "      <th>mean</th>\n",
       "      <th>std</th>\n",
       "    </tr>\n",
       "    <tr>\n",
       "      <th>datetime</th>\n",
       "      <th></th>\n",
       "      <th></th>\n",
       "      <th></th>\n",
       "    </tr>\n",
       "  </thead>\n",
       "  <tbody>\n",
       "    <tr>\n",
       "      <th>2018-03-01 00:00:00</th>\n",
       "      <td>NaN</td>\n",
       "      <td>NaN</td>\n",
       "      <td>NaN</td>\n",
       "    </tr>\n",
       "    <tr>\n",
       "      <th>2018-03-01 01:00:00</th>\n",
       "      <td>-39.0</td>\n",
       "      <td>NaN</td>\n",
       "      <td>NaN</td>\n",
       "    </tr>\n",
       "    <tr>\n",
       "      <th>2018-03-01 02:00:00</th>\n",
       "      <td>-14.0</td>\n",
       "      <td>NaN</td>\n",
       "      <td>NaN</td>\n",
       "    </tr>\n",
       "    <tr>\n",
       "      <th>2018-03-01 03:00:00</th>\n",
       "      <td>-5.0</td>\n",
       "      <td>NaN</td>\n",
       "      <td>NaN</td>\n",
       "    </tr>\n",
       "    <tr>\n",
       "      <th>2018-03-01 04:00:00</th>\n",
       "      <td>-23.0</td>\n",
       "      <td>NaN</td>\n",
       "      <td>NaN</td>\n",
       "    </tr>\n",
       "    <tr>\n",
       "      <th>...</th>\n",
       "      <td>...</td>\n",
       "      <td>...</td>\n",
       "      <td>...</td>\n",
       "    </tr>\n",
       "    <tr>\n",
       "      <th>2018-08-31 19:00:00</th>\n",
       "      <td>-71.0</td>\n",
       "      <td>-1.425</td>\n",
       "      <td>80.653703</td>\n",
       "    </tr>\n",
       "    <tr>\n",
       "      <th>2018-08-31 20:00:00</th>\n",
       "      <td>18.0</td>\n",
       "      <td>-0.800</td>\n",
       "      <td>80.706242</td>\n",
       "    </tr>\n",
       "    <tr>\n",
       "      <th>2018-08-31 21:00:00</th>\n",
       "      <td>5.0</td>\n",
       "      <td>2.575</td>\n",
       "      <td>77.940111</td>\n",
       "    </tr>\n",
       "    <tr>\n",
       "      <th>2018-08-31 22:00:00</th>\n",
       "      <td>64.0</td>\n",
       "      <td>5.250</td>\n",
       "      <td>78.171655</td>\n",
       "    </tr>\n",
       "    <tr>\n",
       "      <th>2018-08-31 23:00:00</th>\n",
       "      <td>-18.0</td>\n",
       "      <td>4.150</td>\n",
       "      <td>78.181757</td>\n",
       "    </tr>\n",
       "  </tbody>\n",
       "</table>\n",
       "<p>4416 rows × 3 columns</p>\n",
       "</div>"
      ],
      "text/plain": [
       "                     num_orders   mean        std\n",
       "datetime                                         \n",
       "2018-03-01 00:00:00         NaN    NaN        NaN\n",
       "2018-03-01 01:00:00       -39.0    NaN        NaN\n",
       "2018-03-01 02:00:00       -14.0    NaN        NaN\n",
       "2018-03-01 03:00:00        -5.0    NaN        NaN\n",
       "2018-03-01 04:00:00       -23.0    NaN        NaN\n",
       "...                         ...    ...        ...\n",
       "2018-08-31 19:00:00       -71.0 -1.425  80.653703\n",
       "2018-08-31 20:00:00        18.0 -0.800  80.706242\n",
       "2018-08-31 21:00:00         5.0  2.575  77.940111\n",
       "2018-08-31 22:00:00        64.0  5.250  78.171655\n",
       "2018-08-31 23:00:00       -18.0  4.150  78.181757\n",
       "\n",
       "[4416 rows x 3 columns]"
      ]
     },
     "execution_count": 18,
     "metadata": {},
     "output_type": "execute_result"
    }
   ],
   "source": [
    "data_shift"
   ]
  },
  {
   "cell_type": "code",
   "execution_count": 19,
   "metadata": {},
   "outputs": [
    {
     "data": {
      "image/png": "[encoded data removed]",
      "text/plain": [
       "<Figure size 1000x700 with 1 Axes>"
      ]
     },
     "metadata": {},
     "output_type": "display_data"
    }
   ],
   "source": [
    "plt.figure(figsize=(10,7))\n",
    "plt.plot(data_shift)\n",
    "plt.xlabel('Дата')\n",
    "plt.ylabel('Количество заказов')\n",
    "plt.title('График сдвига величины количества заказов, среднее и стандартное отклонение')\n",
    "plt.legend(['num_orders', 'mean', 'std'])\n",
    "plt.show()"
   ]
  },
  {
   "cell_type": "markdown",
   "metadata": {},
   "source": [
    "Сдвиг величины количества заказов (синяя линия)"
   ]
  },
  {
   "cell_type": "markdown",
   "metadata": {},
   "source": [
    "На графике представлены три компонента: сдвиг количества заказов такси (`num_orders`), среднее значение (`mean`) и стандартное отклонение (`std`), вычисленные с помощью скользящего окна.\n",
    "\n",
    "1. **Сдвиг величины количества заказов (синяя линия)**:\n",
    "   - Сдвиг представляет собой разность между текущим значением и предыдущим, что показывает изменения в заказах такси от одного момента к другому.\n",
    "   - Можно заметить значительные колебания вверх и вниз, включая как положительные, так и отрицательные пики.\n",
    "   - Это указывает на высокую изменчивость данных, где на одни часы может приходиться резкий рост заказов, а на другие — резкое снижение.\n",
    "\n",
    "2. **Среднее значение (оранжевая линия)**:\n",
    "   - Оранжевая линия показывает сглаженную динамику изменений, усреднённую по скользящему окну длиной в 40 периодов.\n",
    "   - Среднее значение остаётся относительно стабильным, что говорит о том, что в долгосрочной перспективе изменения в количестве заказов имеют сбалансированный характер, хотя краткосрочные колебания могут быть значительными.\n",
    "\n",
    "3. **Стандартное отклонение (зелёная линия)**:\n",
    "   - Зелёная линия отражает изменчивость данных в пределах каждого скользящего окна. Чем выше стандартное отклонение, тем больше вариаций в количестве заказов в данный момент времени.\n",
    "   - Видно, что стандартное отклонение периодически увеличивается, что соответствует моментам больших изменений (всплесков) в количестве заказов.\n",
    "   - Это может указывать на периоды повышенной нестабильности спроса на такси, когда различия в заказах в пределах одного дня становятся более выраженными."
   ]
  },
  {
   "cell_type": "markdown",
   "metadata": {},
   "source": [
    "### Создание признаков"
   ]
  },
  {
   "cell_type": "code",
   "execution_count": 20,
   "metadata": {},
   "outputs": [],
   "source": [
    "def make_features(data, column, lag, rolling_mean_size):\n",
    "    data_new = data.copy()\n",
    "    data_new['month'] = data_new.index.month\n",
    "    data_new['day'] = data_new.index.day\n",
    "    data_new['dayofweek'] = data_new.index.dayofweek\n",
    "    \n",
    "    for lag in range(1, lag + 1):\n",
    "        data_new['lag_' + str(lag)] = data_new[column].shift(lag)\n",
    "\n",
    "    data_new['rolling_mean'] = data_new[column].shift().rolling(rolling_mean_size).sum()\n",
    "    \n",
    "    return data_new\n",
    "    "
   ]
  },
  {
   "cell_type": "code",
   "execution_count": 21,
   "metadata": {},
   "outputs": [],
   "source": [
    "data_new = make_features(data_resample, 'num_orders', 25, 6)"
   ]
  },
  {
   "cell_type": "markdown",
   "metadata": {},
   "source": [
    "**make_features - функция, которая создает в датасете дополнительные признаки для обучения модели. Данные представлены за 2018 год, поэтому год можно не добавлять. появяться месяц, день и день недели, а также 25 столбцов со смещенными данными и 1 с суммарным количеством заказов при сдвиге с окном 6.**"
   ]
  },
  {
   "cell_type": "markdown",
   "metadata": {},
   "source": [
    "## Обучение"
   ]
  },
  {
   "cell_type": "code",
   "execution_count": 22,
   "metadata": {},
   "outputs": [],
   "source": [
    "num_columns = data_new.drop(['num_orders', 'month', 'day', 'dayofweek'], axis=1).columns\n",
    "ohe_columns = ['month', 'day', 'dayofweek']"
   ]
  },
  {
   "cell_type": "markdown",
   "metadata": {},
   "source": [
    "**Разделение признаков на две части под 2 типа кодирования.**"
   ]
  },
  {
   "cell_type": "code",
   "execution_count": 23,
   "metadata": {},
   "outputs": [],
   "source": [
    "train, test = train_test_split(data_new, shuffle=False, test_size=0.1)\n",
    "train = train.dropna()"
   ]
  },
  {
   "cell_type": "code",
   "execution_count": 24,
   "metadata": {},
   "outputs": [],
   "source": [
    "X_train, y_train, X_test, y_test = (train.drop('num_orders', axis=1), train['num_orders'].reset_index()['num_orders'], \n",
    "                                    test.drop('num_orders', axis=1), test['num_orders'].reset_index()['num_orders'])"
   ]
  },
  {
   "cell_type": "code",
   "execution_count": 25,
   "metadata": {},
   "outputs": [],
   "source": [
    "data_preprocessor = ColumnTransformer([\n",
    "    ('num', StandardScaler(), num_columns),\n",
    "        ],\n",
    "    remainder = 'passthrough')"
   ]
  },
  {
   "cell_type": "markdown",
   "metadata": {},
   "source": [
    "### Линейная регрессия"
   ]
  },
  {
   "cell_type": "code",
   "execution_count": 26,
   "metadata": {},
   "outputs": [],
   "source": [
    "pipe_final = Pipeline([\n",
    "    ('preprocessor', data_preprocessor),\n",
    "    ('model', LinearRegression())\n",
    "])"
   ]
  },
  {
   "cell_type": "code",
   "execution_count": 27,
   "metadata": {},
   "outputs": [],
   "source": [
    "param_grid = {\n",
    "    'preprocessor__num': ['passthrough', StandardScaler(), MinMaxScaler()]\n",
    "}"
   ]
  },
  {
   "cell_type": "code",
   "execution_count": 28,
   "metadata": {},
   "outputs": [],
   "source": [
    "grid_search = GridSearchCV(\n",
    "    pipe_final,\n",
    "    param_grid,\n",
    "    cv=TimeSeriesSplit(5),\n",
    "    scoring='neg_root_mean_squared_error',\n",
    "    n_jobs=-1\n",
    "            )"
   ]
  },
  {
   "cell_type": "code",
   "execution_count": 29,
   "metadata": {},
   "outputs": [
    {
     "data": {
      "text/html": [
       "<style>#sk-container-id-1 {\n",
       "  /* Definition of color scheme common for light and dark mode */\n",
       "  --sklearn-color-text: black;\n",
       "  --sklearn-color-line: gray;\n",
       "  /* Definition of color scheme for unfitted estimators */\n",
       "  --sklearn-color-unfitted-level-0: #fff5e6;\n",
       "  --sklearn-color-unfitted-level-1: #f6e4d2;\n",
       "  --sklearn-color-unfitted-level-2: #ffe0b3;\n",
       "  --sklearn-color-unfitted-level-3: chocolate;\n",
       "  /* Definition of color scheme for fitted estimators */\n",
       "  --sklearn-color-fitted-level-0: #f0f8ff;\n",
       "  --sklearn-color-fitted-level-1: #d4ebff;\n",
       "  --sklearn-color-fitted-level-2: #b3dbfd;\n",
       "  --sklearn-color-fitted-level-3: cornflowerblue;\n",
       "\n",
       "  /* Specific color for light theme */\n",
       "  --sklearn-color-text-on-default-background: var(--sg-text-color, var(--theme-code-foreground, var(--jp-content-font-color1, black)));\n",
       "  --sklearn-color-background: var(--sg-background-color, var(--theme-background, var(--jp-layout-color0, white)));\n",
       "  --sklearn-color-border-box: var(--sg-text-color, var(--theme-code-foreground, var(--jp-content-font-color1, black)));\n",
       "  --sklearn-color-icon: #696969;\n",
       "\n",
       "  @media (prefers-color-scheme: dark) {\n",
       "    /* Redefinition of color scheme for dark theme */\n",
       "    --sklearn-color-text-on-default-background: var(--sg-text-color, var(--theme-code-foreground, var(--jp-content-font-color1, white)));\n",
       "    --sklearn-color-background: var(--sg-background-color, var(--theme-background, var(--jp-layout-color0, #111)));\n",
       "    --sklearn-color-border-box: var(--sg-text-color, var(--theme-code-foreground, var(--jp-content-font-color1, white)));\n",
       "    --sklearn-color-icon: #878787;\n",
       "  }\n",
       "}\n",
       "\n",
       "#sk-container-id-1 {\n",
       "  color: var(--sklearn-color-text);\n",
       "}\n",
       "\n",
       "#sk-container-id-1 pre {\n",
       "  padding: 0;\n",
       "}\n",
       "\n",
       "#sk-container-id-1 input.sk-hidden--visually {\n",
       "  border: 0;\n",
       "  clip: rect(1px 1px 1px 1px);\n",
       "  clip: rect(1px, 1px, 1px, 1px);\n",
       "  height: 1px;\n",
       "  margin: -1px;\n",
       "  overflow: hidden;\n",
       "  padding: 0;\n",
       "  position: absolute;\n",
       "  width: 1px;\n",
       "}\n",
       "\n",
       "#sk-container-id-1 div.sk-dashed-wrapped {\n",
       "  border: 1px dashed var(--sklearn-color-line);\n",
       "  margin: 0 0.4em 0.5em 0.4em;\n",
       "  box-sizing: border-box;\n",
       "  padding-bottom: 0.4em;\n",
       "  background-color: var(--sklearn-color-background);\n",
       "}\n",
       "\n",
       "#sk-container-id-1 div.sk-container {\n",
       "  /* jupyter's `normalize.less` sets `[hidden] { display: none; }`\n",
       "     but bootstrap.min.css set `[hidden] { display: none !important; }`\n",
       "     so we also need the `!important` here to be able to override the\n",
       "     default hidden behavior on the sphinx rendered scikit-learn.org.\n",
       "     See: https://github.com/scikit-learn/scikit-learn/issues/21755 */\n",
       "  display: inline-block !important;\n",
       "  position: relative;\n",
       "}\n",
       "\n",
       "#sk-container-id-1 div.sk-text-repr-fallback {\n",
       "  display: none;\n",
       "}\n",
       "\n",
       "div.sk-parallel-item,\n",
       "div.sk-serial,\n",
       "div.sk-item {\n",
       "  /* draw centered vertical line to link estimators */\n",
       "  background-image: linear-gradient(var(--sklearn-color-text-on-default-background), var(--sklearn-color-text-on-default-background));\n",
       "  background-size: 2px 100%;\n",
       "  background-repeat: no-repeat;\n",
       "  background-position: center center;\n",
       "}\n",
       "\n",
       "/* Parallel-specific style estimator block */\n",
       "\n",
       "#sk-container-id-1 div.sk-parallel-item::after {\n",
       "  content: \"\";\n",
       "  width: 100%;\n",
       "  border-bottom: 2px solid var(--sklearn-color-text-on-default-background);\n",
       "  flex-grow: 1;\n",
       "}\n",
       "\n",
       "#sk-container-id-1 div.sk-parallel {\n",
       "  display: flex;\n",
       "  align-items: stretch;\n",
       "  justify-content: center;\n",
       "  background-color: var(--sklearn-color-background);\n",
       "  position: relative;\n",
       "}\n",
       "\n",
       "#sk-container-id-1 div.sk-parallel-item {\n",
       "  display: flex;\n",
       "  flex-direction: column;\n",
       "}\n",
       "\n",
       "#sk-container-id-1 div.sk-parallel-item:first-child::after {\n",
       "  align-self: flex-end;\n",
       "  width: 50%;\n",
       "}\n",
       "\n",
       "#sk-container-id-1 div.sk-parallel-item:last-child::after {\n",
       "  align-self: flex-start;\n",
       "  width: 50%;\n",
       "}\n",
       "\n",
       "#sk-container-id-1 div.sk-parallel-item:only-child::after {\n",
       "  width: 0;\n",
       "}\n",
       "\n",
       "/* Serial-specific style estimator block */\n",
       "\n",
       "#sk-container-id-1 div.sk-serial {\n",
       "  display: flex;\n",
       "  flex-direction: column;\n",
       "  align-items: center;\n",
       "  background-color: var(--sklearn-color-background);\n",
       "  padding-right: 1em;\n",
       "  padding-left: 1em;\n",
       "}\n",
       "\n",
       "\n",
       "/* Toggleable style: style used for estimator/Pipeline/ColumnTransformer box that is\n",
       "clickable and can be expanded/collapsed.\n",
       "- Pipeline and ColumnTransformer use this feature and define the default style\n",
       "- Estimators will overwrite some part of the style using the `sk-estimator` class\n",
       "*/\n",
       "\n",
       "/* Pipeline and ColumnTransformer style (default) */\n",
       "\n",
       "#sk-container-id-1 div.sk-toggleable {\n",
       "  /* Default theme specific background. It is overwritten whether we have a\n",
       "  specific estimator or a Pipeline/ColumnTransformer */\n",
       "  background-color: var(--sklearn-color-background);\n",
       "}\n",
       "\n",
       "/* Toggleable label */\n",
       "#sk-container-id-1 label.sk-toggleable__label {\n",
       "  cursor: pointer;\n",
       "  display: block;\n",
       "  width: 100%;\n",
       "  margin-bottom: 0;\n",
       "  padding: 0.5em;\n",
       "  box-sizing: border-box;\n",
       "  text-align: center;\n",
       "}\n",
       "\n",
       "#sk-container-id-1 label.sk-toggleable__label-arrow:before {\n",
       "  /* Arrow on the left of the label */\n",
       "  content: \"▸\";\n",
       "  float: left;\n",
       "  margin-right: 0.25em;\n",
       "  color: var(--sklearn-color-icon);\n",
       "}\n",
       "\n",
       "#sk-container-id-1 label.sk-toggleable__label-arrow:hover:before {\n",
       "  color: var(--sklearn-color-text);\n",
       "}\n",
       "\n",
       "/* Toggleable content - dropdown */\n",
       "\n",
       "#sk-container-id-1 div.sk-toggleable__content {\n",
       "  max-height: 0;\n",
       "  max-width: 0;\n",
       "  overflow: hidden;\n",
       "  text-align: left;\n",
       "  /* unfitted */\n",
       "  background-color: var(--sklearn-color-unfitted-level-0);\n",
       "}\n",
       "\n",
       "#sk-container-id-1 div.sk-toggleable__content.fitted {\n",
       "  /* fitted */\n",
       "  background-color: var(--sklearn-color-fitted-level-0);\n",
       "}\n",
       "\n",
       "#sk-container-id-1 div.sk-toggleable__content pre {\n",
       "  margin: 0.2em;\n",
       "  border-radius: 0.25em;\n",
       "  color: var(--sklearn-color-text);\n",
       "  /* unfitted */\n",
       "  background-color: var(--sklearn-color-unfitted-level-0);\n",
       "}\n",
       "\n",
       "#sk-container-id-1 div.sk-toggleable__content.fitted pre {\n",
       "  /* unfitted */\n",
       "  background-color: var(--sklearn-color-fitted-level-0);\n",
       "}\n",
       "\n",
       "#sk-container-id-1 input.sk-toggleable__control:checked~div.sk-toggleable__content {\n",
       "  /* Expand drop-down */\n",
       "  max-height: 200px;\n",
       "  max-width: 100%;\n",
       "  overflow: auto;\n",
       "}\n",
       "\n",
       "#sk-container-id-1 input.sk-toggleable__control:checked~label.sk-toggleable__label-arrow:before {\n",
       "  content: \"▾\";\n",
       "}\n",
       "\n",
       "/* Pipeline/ColumnTransformer-specific style */\n",
       "\n",
       "#sk-container-id-1 div.sk-label input.sk-toggleable__control:checked~label.sk-toggleable__label {\n",
       "  color: var(--sklearn-color-text);\n",
       "  background-color: var(--sklearn-color-unfitted-level-2);\n",
       "}\n",
       "\n",
       "#sk-container-id-1 div.sk-label.fitted input.sk-toggleable__control:checked~label.sk-toggleable__label {\n",
       "  background-color: var(--sklearn-color-fitted-level-2);\n",
       "}\n",
       "\n",
       "/* Estimator-specific style */\n",
       "\n",
       "/* Colorize estimator box */\n",
       "#sk-container-id-1 div.sk-estimator input.sk-toggleable__control:checked~label.sk-toggleable__label {\n",
       "  /* unfitted */\n",
       "  background-color: var(--sklearn-color-unfitted-level-2);\n",
       "}\n",
       "\n",
       "#sk-container-id-1 div.sk-estimator.fitted input.sk-toggleable__control:checked~label.sk-toggleable__label {\n",
       "  /* fitted */\n",
       "  background-color: var(--sklearn-color-fitted-level-2);\n",
       "}\n",
       "\n",
       "#sk-container-id-1 div.sk-label label.sk-toggleable__label,\n",
       "#sk-container-id-1 div.sk-label label {\n",
       "  /* The background is the default theme color */\n",
       "  color: var(--sklearn-color-text-on-default-background);\n",
       "}\n",
       "\n",
       "/* On hover, darken the color of the background */\n",
       "#sk-container-id-1 div.sk-label:hover label.sk-toggleable__label {\n",
       "  color: var(--sklearn-color-text);\n",
       "  background-color: var(--sklearn-color-unfitted-level-2);\n",
       "}\n",
       "\n",
       "/* Label box, darken color on hover, fitted */\n",
       "#sk-container-id-1 div.sk-label.fitted:hover label.sk-toggleable__label.fitted {\n",
       "  color: var(--sklearn-color-text);\n",
       "  background-color: var(--sklearn-color-fitted-level-2);\n",
       "}\n",
       "\n",
       "/* Estimator label */\n",
       "\n",
       "#sk-container-id-1 div.sk-label label {\n",
       "  font-family: monospace;\n",
       "  font-weight: bold;\n",
       "  display: inline-block;\n",
       "  line-height: 1.2em;\n",
       "}\n",
       "\n",
       "#sk-container-id-1 div.sk-label-container {\n",
       "  text-align: center;\n",
       "}\n",
       "\n",
       "/* Estimator-specific */\n",
       "#sk-container-id-1 div.sk-estimator {\n",
       "  font-family: monospace;\n",
       "  border: 1px dotted var(--sklearn-color-border-box);\n",
       "  border-radius: 0.25em;\n",
       "  box-sizing: border-box;\n",
       "  margin-bottom: 0.5em;\n",
       "  /* unfitted */\n",
       "  background-color: var(--sklearn-color-unfitted-level-0);\n",
       "}\n",
       "\n",
       "#sk-container-id-1 div.sk-estimator.fitted {\n",
       "  /* fitted */\n",
       "  background-color: var(--sklearn-color-fitted-level-0);\n",
       "}\n",
       "\n",
       "/* on hover */\n",
       "#sk-container-id-1 div.sk-estimator:hover {\n",
       "  /* unfitted */\n",
       "  background-color: var(--sklearn-color-unfitted-level-2);\n",
       "}\n",
       "\n",
       "#sk-container-id-1 div.sk-estimator.fitted:hover {\n",
       "  /* fitted */\n",
       "  background-color: var(--sklearn-color-fitted-level-2);\n",
       "}\n",
       "\n",
       "/* Specification for estimator info (e.g. \"i\" and \"?\") */\n",
       "\n",
       "/* Common style for \"i\" and \"?\" */\n",
       "\n",
       ".sk-estimator-doc-link,\n",
       "a:link.sk-estimator-doc-link,\n",
       "a:visited.sk-estimator-doc-link {\n",
       "  float: right;\n",
       "  font-size: smaller;\n",
       "  line-height: 1em;\n",
       "  font-family: monospace;\n",
       "  background-color: var(--sklearn-color-background);\n",
       "  border-radius: 1em;\n",
       "  height: 1em;\n",
       "  width: 1em;\n",
       "  text-decoration: none !important;\n",
       "  margin-left: 1ex;\n",
       "  /* unfitted */\n",
       "  border: var(--sklearn-color-unfitted-level-1) 1pt solid;\n",
       "  color: var(--sklearn-color-unfitted-level-1);\n",
       "}\n",
       "\n",
       ".sk-estimator-doc-link.fitted,\n",
       "a:link.sk-estimator-doc-link.fitted,\n",
       "a:visited.sk-estimator-doc-link.fitted {\n",
       "  /* fitted */\n",
       "  border: var(--sklearn-color-fitted-level-1) 1pt solid;\n",
       "  color: var(--sklearn-color-fitted-level-1);\n",
       "}\n",
       "\n",
       "/* On hover */\n",
       "div.sk-estimator:hover .sk-estimator-doc-link:hover,\n",
       ".sk-estimator-doc-link:hover,\n",
       "div.sk-label-container:hover .sk-estimator-doc-link:hover,\n",
       ".sk-estimator-doc-link:hover {\n",
       "  /* unfitted */\n",
       "  background-color: var(--sklearn-color-unfitted-level-3);\n",
       "  color: var(--sklearn-color-background);\n",
       "  text-decoration: none;\n",
       "}\n",
       "\n",
       "div.sk-estimator.fitted:hover .sk-estimator-doc-link.fitted:hover,\n",
       ".sk-estimator-doc-link.fitted:hover,\n",
       "div.sk-label-container:hover .sk-estimator-doc-link.fitted:hover,\n",
       ".sk-estimator-doc-link.fitted:hover {\n",
       "  /* fitted */\n",
       "  background-color: var(--sklearn-color-fitted-level-3);\n",
       "  color: var(--sklearn-color-background);\n",
       "  text-decoration: none;\n",
       "}\n",
       "\n",
       "/* Span, style for the box shown on hovering the info icon */\n",
       ".sk-estimator-doc-link span {\n",
       "  display: none;\n",
       "  z-index: 9999;\n",
       "  position: relative;\n",
       "  font-weight: normal;\n",
       "  right: .2ex;\n",
       "  padding: .5ex;\n",
       "  margin: .5ex;\n",
       "  width: min-content;\n",
       "  min-width: 20ex;\n",
       "  max-width: 50ex;\n",
       "  color: var(--sklearn-color-text);\n",
       "  box-shadow: 2pt 2pt 4pt #999;\n",
       "  /* unfitted */\n",
       "  background: var(--sklearn-color-unfitted-level-0);\n",
       "  border: .5pt solid var(--sklearn-color-unfitted-level-3);\n",
       "}\n",
       "\n",
       ".sk-estimator-doc-link.fitted span {\n",
       "  /* fitted */\n",
       "  background: var(--sklearn-color-fitted-level-0);\n",
       "  border: var(--sklearn-color-fitted-level-3);\n",
       "}\n",
       "\n",
       ".sk-estimator-doc-link:hover span {\n",
       "  display: block;\n",
       "}\n",
       "\n",
       "/* \"?\"-specific style due to the `<a>` HTML tag */\n",
       "\n",
       "#sk-container-id-1 a.estimator_doc_link {\n",
       "  float: right;\n",
       "  font-size: 1rem;\n",
       "  line-height: 1em;\n",
       "  font-family: monospace;\n",
       "  background-color: var(--sklearn-color-background);\n",
       "  border-radius: 1rem;\n",
       "  height: 1rem;\n",
       "  width: 1rem;\n",
       "  text-decoration: none;\n",
       "  /* unfitted */\n",
       "  color: var(--sklearn-color-unfitted-level-1);\n",
       "  border: var(--sklearn-color-unfitted-level-1) 1pt solid;\n",
       "}\n",
       "\n",
       "#sk-container-id-1 a.estimator_doc_link.fitted {\n",
       "  /* fitted */\n",
       "  border: var(--sklearn-color-fitted-level-1) 1pt solid;\n",
       "  color: var(--sklearn-color-fitted-level-1);\n",
       "}\n",
       "\n",
       "/* On hover */\n",
       "#sk-container-id-1 a.estimator_doc_link:hover {\n",
       "  /* unfitted */\n",
       "  background-color: var(--sklearn-color-unfitted-level-3);\n",
       "  color: var(--sklearn-color-background);\n",
       "  text-decoration: none;\n",
       "}\n",
       "\n",
       "#sk-container-id-1 a.estimator_doc_link.fitted:hover {\n",
       "  /* fitted */\n",
       "  background-color: var(--sklearn-color-fitted-level-3);\n",
       "}\n",
       "</style><div id=\"sk-container-id-1\" class=\"sk-top-container\"><div class=\"sk-text-repr-fallback\"><pre>GridSearchCV(cv=TimeSeriesSplit(gap=0, max_train_size=None, n_splits=5, test_size=None),\n",
       "             estimator=Pipeline(steps=[(&#x27;preprocessor&#x27;,\n",
       "                                        ColumnTransformer(remainder=&#x27;passthrough&#x27;,\n",
       "                                                          transformers=[(&#x27;num&#x27;,\n",
       "                                                                         StandardScaler(),\n",
       "                                                                         Index([&#x27;lag_1&#x27;, &#x27;lag_2&#x27;, &#x27;lag_3&#x27;, &#x27;lag_4&#x27;, &#x27;lag_5&#x27;, &#x27;lag_6&#x27;, &#x27;lag_7&#x27;, &#x27;lag_8&#x27;,\n",
       "       &#x27;lag_9&#x27;, &#x27;lag_10&#x27;, &#x27;lag_11&#x27;, &#x27;lag_12&#x27;, &#x27;lag_13&#x27;, &#x27;lag_14&#x27;, &#x27;lag_15&#x27;,\n",
       "       &#x27;lag_16&#x27;, &#x27;lag_17&#x27;, &#x27;lag_18&#x27;, &#x27;lag_19&#x27;, &#x27;lag_20&#x27;, &#x27;lag_21&#x27;, &#x27;lag_22&#x27;,\n",
       "       &#x27;lag_23&#x27;, &#x27;lag_24&#x27;, &#x27;lag_25&#x27;, &#x27;rolling_mean&#x27;],\n",
       "      dtype=&#x27;object&#x27;))])),\n",
       "                                       (&#x27;model&#x27;, LinearRegression())]),\n",
       "             n_jobs=-1,\n",
       "             param_grid={&#x27;preprocessor__num&#x27;: [&#x27;passthrough&#x27;, StandardScaler(),\n",
       "                                               MinMaxScaler()]},\n",
       "             scoring=&#x27;neg_root_mean_squared_error&#x27;)</pre><b>In a Jupyter environment, please rerun this cell to show the HTML representation or trust the notebook. <br />On GitHub, the HTML representation is unable to render, please try loading this page with nbviewer.org.</b></div><div class=\"sk-container\" hidden><div class=\"sk-item sk-dashed-wrapped\"><div class=\"sk-label-container\"><div class=\"sk-label fitted sk-toggleable\"><input class=\"sk-toggleable__control sk-hidden--visually\" id=\"sk-estimator-id-1\" type=\"checkbox\" ><label for=\"sk-estimator-id-1\" class=\"sk-toggleable__label fitted sk-toggleable__label-arrow fitted\">&nbsp;&nbsp;GridSearchCV<a class=\"sk-estimator-doc-link fitted\" rel=\"noreferrer\" target=\"_blank\" href=\"https://scikit-learn.org/1.5/modules/generated/sklearn.model_selection.GridSearchCV.html\">?<span>Documentation for GridSearchCV</span></a><span class=\"sk-estimator-doc-link fitted\">i<span>Fitted</span></span></label><div class=\"sk-toggleable__content fitted\"><pre>GridSearchCV(cv=TimeSeriesSplit(gap=0, max_train_size=None, n_splits=5, test_size=None),\n",
       "             estimator=Pipeline(steps=[(&#x27;preprocessor&#x27;,\n",
       "                                        ColumnTransformer(remainder=&#x27;passthrough&#x27;,\n",
       "                                                          transformers=[(&#x27;num&#x27;,\n",
       "                                                                         StandardScaler(),\n",
       "                                                                         Index([&#x27;lag_1&#x27;, &#x27;lag_2&#x27;, &#x27;lag_3&#x27;, &#x27;lag_4&#x27;, &#x27;lag_5&#x27;, &#x27;lag_6&#x27;, &#x27;lag_7&#x27;, &#x27;lag_8&#x27;,\n",
       "       &#x27;lag_9&#x27;, &#x27;lag_10&#x27;, &#x27;lag_11&#x27;, &#x27;lag_12&#x27;, &#x27;lag_13&#x27;, &#x27;lag_14&#x27;, &#x27;lag_15&#x27;,\n",
       "       &#x27;lag_16&#x27;, &#x27;lag_17&#x27;, &#x27;lag_18&#x27;, &#x27;lag_19&#x27;, &#x27;lag_20&#x27;, &#x27;lag_21&#x27;, &#x27;lag_22&#x27;,\n",
       "       &#x27;lag_23&#x27;, &#x27;lag_24&#x27;, &#x27;lag_25&#x27;, &#x27;rolling_mean&#x27;],\n",
       "      dtype=&#x27;object&#x27;))])),\n",
       "                                       (&#x27;model&#x27;, LinearRegression())]),\n",
       "             n_jobs=-1,\n",
       "             param_grid={&#x27;preprocessor__num&#x27;: [&#x27;passthrough&#x27;, StandardScaler(),\n",
       "                                               MinMaxScaler()]},\n",
       "             scoring=&#x27;neg_root_mean_squared_error&#x27;)</pre></div> </div></div><div class=\"sk-parallel\"><div class=\"sk-parallel-item\"><div class=\"sk-item\"><div class=\"sk-label-container\"><div class=\"sk-label fitted sk-toggleable\"><input class=\"sk-toggleable__control sk-hidden--visually\" id=\"sk-estimator-id-2\" type=\"checkbox\" ><label for=\"sk-estimator-id-2\" class=\"sk-toggleable__label fitted sk-toggleable__label-arrow fitted\">best_estimator_: Pipeline</label><div class=\"sk-toggleable__content fitted\"><pre>Pipeline(steps=[(&#x27;preprocessor&#x27;,\n",
       "                 ColumnTransformer(remainder=&#x27;passthrough&#x27;,\n",
       "                                   transformers=[(&#x27;num&#x27;, &#x27;passthrough&#x27;,\n",
       "                                                  Index([&#x27;lag_1&#x27;, &#x27;lag_2&#x27;, &#x27;lag_3&#x27;, &#x27;lag_4&#x27;, &#x27;lag_5&#x27;, &#x27;lag_6&#x27;, &#x27;lag_7&#x27;, &#x27;lag_8&#x27;,\n",
       "       &#x27;lag_9&#x27;, &#x27;lag_10&#x27;, &#x27;lag_11&#x27;, &#x27;lag_12&#x27;, &#x27;lag_13&#x27;, &#x27;lag_14&#x27;, &#x27;lag_15&#x27;,\n",
       "       &#x27;lag_16&#x27;, &#x27;lag_17&#x27;, &#x27;lag_18&#x27;, &#x27;lag_19&#x27;, &#x27;lag_20&#x27;, &#x27;lag_21&#x27;, &#x27;lag_22&#x27;,\n",
       "       &#x27;lag_23&#x27;, &#x27;lag_24&#x27;, &#x27;lag_25&#x27;, &#x27;rolling_mean&#x27;],\n",
       "      dtype=&#x27;object&#x27;))])),\n",
       "                (&#x27;model&#x27;, LinearRegression())])</pre></div> </div></div><div class=\"sk-serial\"><div class=\"sk-item\"><div class=\"sk-serial\"><div class=\"sk-item sk-dashed-wrapped\"><div class=\"sk-label-container\"><div class=\"sk-label fitted sk-toggleable\"><input class=\"sk-toggleable__control sk-hidden--visually\" id=\"sk-estimator-id-3\" type=\"checkbox\" ><label for=\"sk-estimator-id-3\" class=\"sk-toggleable__label fitted sk-toggleable__label-arrow fitted\">&nbsp;preprocessor: ColumnTransformer<a class=\"sk-estimator-doc-link fitted\" rel=\"noreferrer\" target=\"_blank\" href=\"https://scikit-learn.org/1.5/modules/generated/sklearn.compose.ColumnTransformer.html\">?<span>Documentation for preprocessor: ColumnTransformer</span></a></label><div class=\"sk-toggleable__content fitted\"><pre>ColumnTransformer(remainder=&#x27;passthrough&#x27;,\n",
       "                  transformers=[(&#x27;num&#x27;, &#x27;passthrough&#x27;,\n",
       "                                 Index([&#x27;lag_1&#x27;, &#x27;lag_2&#x27;, &#x27;lag_3&#x27;, &#x27;lag_4&#x27;, &#x27;lag_5&#x27;, &#x27;lag_6&#x27;, &#x27;lag_7&#x27;, &#x27;lag_8&#x27;,\n",
       "       &#x27;lag_9&#x27;, &#x27;lag_10&#x27;, &#x27;lag_11&#x27;, &#x27;lag_12&#x27;, &#x27;lag_13&#x27;, &#x27;lag_14&#x27;, &#x27;lag_15&#x27;,\n",
       "       &#x27;lag_16&#x27;, &#x27;lag_17&#x27;, &#x27;lag_18&#x27;, &#x27;lag_19&#x27;, &#x27;lag_20&#x27;, &#x27;lag_21&#x27;, &#x27;lag_22&#x27;,\n",
       "       &#x27;lag_23&#x27;, &#x27;lag_24&#x27;, &#x27;lag_25&#x27;, &#x27;rolling_mean&#x27;],\n",
       "      dtype=&#x27;object&#x27;))])</pre></div> </div></div><div class=\"sk-parallel\"><div class=\"sk-parallel-item\"><div class=\"sk-item\"><div class=\"sk-label-container\"><div class=\"sk-label fitted sk-toggleable\"><input class=\"sk-toggleable__control sk-hidden--visually\" id=\"sk-estimator-id-4\" type=\"checkbox\" ><label for=\"sk-estimator-id-4\" class=\"sk-toggleable__label fitted sk-toggleable__label-arrow fitted\">num</label><div class=\"sk-toggleable__content fitted\"><pre>Index([&#x27;lag_1&#x27;, &#x27;lag_2&#x27;, &#x27;lag_3&#x27;, &#x27;lag_4&#x27;, &#x27;lag_5&#x27;, &#x27;lag_6&#x27;, &#x27;lag_7&#x27;, &#x27;lag_8&#x27;,\n",
       "       &#x27;lag_9&#x27;, &#x27;lag_10&#x27;, &#x27;lag_11&#x27;, &#x27;lag_12&#x27;, &#x27;lag_13&#x27;, &#x27;lag_14&#x27;, &#x27;lag_15&#x27;,\n",
       "       &#x27;lag_16&#x27;, &#x27;lag_17&#x27;, &#x27;lag_18&#x27;, &#x27;lag_19&#x27;, &#x27;lag_20&#x27;, &#x27;lag_21&#x27;, &#x27;lag_22&#x27;,\n",
       "       &#x27;lag_23&#x27;, &#x27;lag_24&#x27;, &#x27;lag_25&#x27;, &#x27;rolling_mean&#x27;],\n",
       "      dtype=&#x27;object&#x27;)</pre></div> </div></div><div class=\"sk-serial\"><div class=\"sk-item\"><div class=\"sk-estimator fitted sk-toggleable\"><input class=\"sk-toggleable__control sk-hidden--visually\" id=\"sk-estimator-id-5\" type=\"checkbox\" ><label for=\"sk-estimator-id-5\" class=\"sk-toggleable__label fitted sk-toggleable__label-arrow fitted\">passthrough</label><div class=\"sk-toggleable__content fitted\"><pre>passthrough</pre></div> </div></div></div></div></div><div class=\"sk-parallel-item\"><div class=\"sk-item\"><div class=\"sk-label-container\"><div class=\"sk-label fitted sk-toggleable\"><input class=\"sk-toggleable__control sk-hidden--visually\" id=\"sk-estimator-id-6\" type=\"checkbox\" ><label for=\"sk-estimator-id-6\" class=\"sk-toggleable__label fitted sk-toggleable__label-arrow fitted\">remainder</label><div class=\"sk-toggleable__content fitted\"><pre>[&#x27;month&#x27;, &#x27;day&#x27;, &#x27;dayofweek&#x27;]</pre></div> </div></div><div class=\"sk-serial\"><div class=\"sk-item\"><div class=\"sk-estimator fitted sk-toggleable\"><input class=\"sk-toggleable__control sk-hidden--visually\" id=\"sk-estimator-id-7\" type=\"checkbox\" ><label for=\"sk-estimator-id-7\" class=\"sk-toggleable__label fitted sk-toggleable__label-arrow fitted\">passthrough</label><div class=\"sk-toggleable__content fitted\"><pre>passthrough</pre></div> </div></div></div></div></div></div></div><div class=\"sk-item\"><div class=\"sk-estimator fitted sk-toggleable\"><input class=\"sk-toggleable__control sk-hidden--visually\" id=\"sk-estimator-id-8\" type=\"checkbox\" ><label for=\"sk-estimator-id-8\" class=\"sk-toggleable__label fitted sk-toggleable__label-arrow fitted\">&nbsp;LinearRegression<a class=\"sk-estimator-doc-link fitted\" rel=\"noreferrer\" target=\"_blank\" href=\"https://scikit-learn.org/1.5/modules/generated/sklearn.linear_model.LinearRegression.html\">?<span>Documentation for LinearRegression</span></a></label><div class=\"sk-toggleable__content fitted\"><pre>LinearRegression()</pre></div> </div></div></div></div></div></div></div></div></div></div></div>"
      ],
      "text/plain": [
       "GridSearchCV(cv=TimeSeriesSplit(gap=0, max_train_size=None, n_splits=5, test_size=None),\n",
       "             estimator=Pipeline(steps=[('preprocessor',\n",
       "                                        ColumnTransformer(remainder='passthrough',\n",
       "                                                          transformers=[('num',\n",
       "                                                                         StandardScaler(),\n",
       "                                                                         Index(['lag_1', 'lag_2', 'lag_3', 'lag_4', 'lag_5', 'lag_6', 'lag_7', 'lag_8',\n",
       "       'lag_9', 'lag_10', 'lag_11', 'lag_12', 'lag_13', 'lag_14', 'lag_15',\n",
       "       'lag_16', 'lag_17', 'lag_18', 'lag_19', 'lag_20', 'lag_21', 'lag_22',\n",
       "       'lag_23', 'lag_24', 'lag_25', 'rolling_mean'],\n",
       "      dtype='object'))])),\n",
       "                                       ('model', LinearRegression())]),\n",
       "             n_jobs=-1,\n",
       "             param_grid={'preprocessor__num': ['passthrough', StandardScaler(),\n",
       "                                               MinMaxScaler()]},\n",
       "             scoring='neg_root_mean_squared_error')"
      ]
     },
     "execution_count": 29,
     "metadata": {},
     "output_type": "execute_result"
    }
   ],
   "source": [
    "grid_search.fit(X_train, y_train)"
   ]
  },
  {
   "cell_type": "code",
   "execution_count": 30,
   "metadata": {},
   "outputs": [
    {
     "data": {
      "text/html": [
       "<style>#sk-container-id-2 {\n",
       "  /* Definition of color scheme common for light and dark mode */\n",
       "  --sklearn-color-text: black;\n",
       "  --sklearn-color-line: gray;\n",
       "  /* Definition of color scheme for unfitted estimators */\n",
       "  --sklearn-color-unfitted-level-0: #fff5e6;\n",
       "  --sklearn-color-unfitted-level-1: #f6e4d2;\n",
       "  --sklearn-color-unfitted-level-2: #ffe0b3;\n",
       "  --sklearn-color-unfitted-level-3: chocolate;\n",
       "  /* Definition of color scheme for fitted estimators */\n",
       "  --sklearn-color-fitted-level-0: #f0f8ff;\n",
       "  --sklearn-color-fitted-level-1: #d4ebff;\n",
       "  --sklearn-color-fitted-level-2: #b3dbfd;\n",
       "  --sklearn-color-fitted-level-3: cornflowerblue;\n",
       "\n",
       "  /* Specific color for light theme */\n",
       "  --sklearn-color-text-on-default-background: var(--sg-text-color, var(--theme-code-foreground, var(--jp-content-font-color1, black)));\n",
       "  --sklearn-color-background: var(--sg-background-color, var(--theme-background, var(--jp-layout-color0, white)));\n",
       "  --sklearn-color-border-box: var(--sg-text-color, var(--theme-code-foreground, var(--jp-content-font-color1, black)));\n",
       "  --sklearn-color-icon: #696969;\n",
       "\n",
       "  @media (prefers-color-scheme: dark) {\n",
       "    /* Redefinition of color scheme for dark theme */\n",
       "    --sklearn-color-text-on-default-background: var(--sg-text-color, var(--theme-code-foreground, var(--jp-content-font-color1, white)));\n",
       "    --sklearn-color-background: var(--sg-background-color, var(--theme-background, var(--jp-layout-color0, #111)));\n",
       "    --sklearn-color-border-box: var(--sg-text-color, var(--theme-code-foreground, var(--jp-content-font-color1, white)));\n",
       "    --sklearn-color-icon: #878787;\n",
       "  }\n",
       "}\n",
       "\n",
       "#sk-container-id-2 {\n",
       "  color: var(--sklearn-color-text);\n",
       "}\n",
       "\n",
       "#sk-container-id-2 pre {\n",
       "  padding: 0;\n",
       "}\n",
       "\n",
       "#sk-container-id-2 input.sk-hidden--visually {\n",
       "  border: 0;\n",
       "  clip: rect(1px 1px 1px 1px);\n",
       "  clip: rect(1px, 1px, 1px, 1px);\n",
       "  height: 1px;\n",
       "  margin: -1px;\n",
       "  overflow: hidden;\n",
       "  padding: 0;\n",
       "  position: absolute;\n",
       "  width: 1px;\n",
       "}\n",
       "\n",
       "#sk-container-id-2 div.sk-dashed-wrapped {\n",
       "  border: 1px dashed var(--sklearn-color-line);\n",
       "  margin: 0 0.4em 0.5em 0.4em;\n",
       "  box-sizing: border-box;\n",
       "  padding-bottom: 0.4em;\n",
       "  background-color: var(--sklearn-color-background);\n",
       "}\n",
       "\n",
       "#sk-container-id-2 div.sk-container {\n",
       "  /* jupyter's `normalize.less` sets `[hidden] { display: none; }`\n",
       "     but bootstrap.min.css set `[hidden] { display: none !important; }`\n",
       "     so we also need the `!important` here to be able to override the\n",
       "     default hidden behavior on the sphinx rendered scikit-learn.org.\n",
       "     See: https://github.com/scikit-learn/scikit-learn/issues/21755 */\n",
       "  display: inline-block !important;\n",
       "  position: relative;\n",
       "}\n",
       "\n",
       "#sk-container-id-2 div.sk-text-repr-fallback {\n",
       "  display: none;\n",
       "}\n",
       "\n",
       "div.sk-parallel-item,\n",
       "div.sk-serial,\n",
       "div.sk-item {\n",
       "  /* draw centered vertical line to link estimators */\n",
       "  background-image: linear-gradient(var(--sklearn-color-text-on-default-background), var(--sklearn-color-text-on-default-background));\n",
       "  background-size: 2px 100%;\n",
       "  background-repeat: no-repeat;\n",
       "  background-position: center center;\n",
       "}\n",
       "\n",
       "/* Parallel-specific style estimator block */\n",
       "\n",
       "#sk-container-id-2 div.sk-parallel-item::after {\n",
       "  content: \"\";\n",
       "  width: 100%;\n",
       "  border-bottom: 2px solid var(--sklearn-color-text-on-default-background);\n",
       "  flex-grow: 1;\n",
       "}\n",
       "\n",
       "#sk-container-id-2 div.sk-parallel {\n",
       "  display: flex;\n",
       "  align-items: stretch;\n",
       "  justify-content: center;\n",
       "  background-color: var(--sklearn-color-background);\n",
       "  position: relative;\n",
       "}\n",
       "\n",
       "#sk-container-id-2 div.sk-parallel-item {\n",
       "  display: flex;\n",
       "  flex-direction: column;\n",
       "}\n",
       "\n",
       "#sk-container-id-2 div.sk-parallel-item:first-child::after {\n",
       "  align-self: flex-end;\n",
       "  width: 50%;\n",
       "}\n",
       "\n",
       "#sk-container-id-2 div.sk-parallel-item:last-child::after {\n",
       "  align-self: flex-start;\n",
       "  width: 50%;\n",
       "}\n",
       "\n",
       "#sk-container-id-2 div.sk-parallel-item:only-child::after {\n",
       "  width: 0;\n",
       "}\n",
       "\n",
       "/* Serial-specific style estimator block */\n",
       "\n",
       "#sk-container-id-2 div.sk-serial {\n",
       "  display: flex;\n",
       "  flex-direction: column;\n",
       "  align-items: center;\n",
       "  background-color: var(--sklearn-color-background);\n",
       "  padding-right: 1em;\n",
       "  padding-left: 1em;\n",
       "}\n",
       "\n",
       "\n",
       "/* Toggleable style: style used for estimator/Pipeline/ColumnTransformer box that is\n",
       "clickable and can be expanded/collapsed.\n",
       "- Pipeline and ColumnTransformer use this feature and define the default style\n",
       "- Estimators will overwrite some part of the style using the `sk-estimator` class\n",
       "*/\n",
       "\n",
       "/* Pipeline and ColumnTransformer style (default) */\n",
       "\n",
       "#sk-container-id-2 div.sk-toggleable {\n",
       "  /* Default theme specific background. It is overwritten whether we have a\n",
       "  specific estimator or a Pipeline/ColumnTransformer */\n",
       "  background-color: var(--sklearn-color-background);\n",
       "}\n",
       "\n",
       "/* Toggleable label */\n",
       "#sk-container-id-2 label.sk-toggleable__label {\n",
       "  cursor: pointer;\n",
       "  display: block;\n",
       "  width: 100%;\n",
       "  margin-bottom: 0;\n",
       "  padding: 0.5em;\n",
       "  box-sizing: border-box;\n",
       "  text-align: center;\n",
       "}\n",
       "\n",
       "#sk-container-id-2 label.sk-toggleable__label-arrow:before {\n",
       "  /* Arrow on the left of the label */\n",
       "  content: \"▸\";\n",
       "  float: left;\n",
       "  margin-right: 0.25em;\n",
       "  color: var(--sklearn-color-icon);\n",
       "}\n",
       "\n",
       "#sk-container-id-2 label.sk-toggleable__label-arrow:hover:before {\n",
       "  color: var(--sklearn-color-text);\n",
       "}\n",
       "\n",
       "/* Toggleable content - dropdown */\n",
       "\n",
       "#sk-container-id-2 div.sk-toggleable__content {\n",
       "  max-height: 0;\n",
       "  max-width: 0;\n",
       "  overflow: hidden;\n",
       "  text-align: left;\n",
       "  /* unfitted */\n",
       "  background-color: var(--sklearn-color-unfitted-level-0);\n",
       "}\n",
       "\n",
       "#sk-container-id-2 div.sk-toggleable__content.fitted {\n",
       "  /* fitted */\n",
       "  background-color: var(--sklearn-color-fitted-level-0);\n",
       "}\n",
       "\n",
       "#sk-container-id-2 div.sk-toggleable__content pre {\n",
       "  margin: 0.2em;\n",
       "  border-radius: 0.25em;\n",
       "  color: var(--sklearn-color-text);\n",
       "  /* unfitted */\n",
       "  background-color: var(--sklearn-color-unfitted-level-0);\n",
       "}\n",
       "\n",
       "#sk-container-id-2 div.sk-toggleable__content.fitted pre {\n",
       "  /* unfitted */\n",
       "  background-color: var(--sklearn-color-fitted-level-0);\n",
       "}\n",
       "\n",
       "#sk-container-id-2 input.sk-toggleable__control:checked~div.sk-toggleable__content {\n",
       "  /* Expand drop-down */\n",
       "  max-height: 200px;\n",
       "  max-width: 100%;\n",
       "  overflow: auto;\n",
       "}\n",
       "\n",
       "#sk-container-id-2 input.sk-toggleable__control:checked~label.sk-toggleable__label-arrow:before {\n",
       "  content: \"▾\";\n",
       "}\n",
       "\n",
       "/* Pipeline/ColumnTransformer-specific style */\n",
       "\n",
       "#sk-container-id-2 div.sk-label input.sk-toggleable__control:checked~label.sk-toggleable__label {\n",
       "  color: var(--sklearn-color-text);\n",
       "  background-color: var(--sklearn-color-unfitted-level-2);\n",
       "}\n",
       "\n",
       "#sk-container-id-2 div.sk-label.fitted input.sk-toggleable__control:checked~label.sk-toggleable__label {\n",
       "  background-color: var(--sklearn-color-fitted-level-2);\n",
       "}\n",
       "\n",
       "/* Estimator-specific style */\n",
       "\n",
       "/* Colorize estimator box */\n",
       "#sk-container-id-2 div.sk-estimator input.sk-toggleable__control:checked~label.sk-toggleable__label {\n",
       "  /* unfitted */\n",
       "  background-color: var(--sklearn-color-unfitted-level-2);\n",
       "}\n",
       "\n",
       "#sk-container-id-2 div.sk-estimator.fitted input.sk-toggleable__control:checked~label.sk-toggleable__label {\n",
       "  /* fitted */\n",
       "  background-color: var(--sklearn-color-fitted-level-2);\n",
       "}\n",
       "\n",
       "#sk-container-id-2 div.sk-label label.sk-toggleable__label,\n",
       "#sk-container-id-2 div.sk-label label {\n",
       "  /* The background is the default theme color */\n",
       "  color: var(--sklearn-color-text-on-default-background);\n",
       "}\n",
       "\n",
       "/* On hover, darken the color of the background */\n",
       "#sk-container-id-2 div.sk-label:hover label.sk-toggleable__label {\n",
       "  color: var(--sklearn-color-text);\n",
       "  background-color: var(--sklearn-color-unfitted-level-2);\n",
       "}\n",
       "\n",
       "/* Label box, darken color on hover, fitted */\n",
       "#sk-container-id-2 div.sk-label.fitted:hover label.sk-toggleable__label.fitted {\n",
       "  color: var(--sklearn-color-text);\n",
       "  background-color: var(--sklearn-color-fitted-level-2);\n",
       "}\n",
       "\n",
       "/* Estimator label */\n",
       "\n",
       "#sk-container-id-2 div.sk-label label {\n",
       "  font-family: monospace;\n",
       "  font-weight: bold;\n",
       "  display: inline-block;\n",
       "  line-height: 1.2em;\n",
       "}\n",
       "\n",
       "#sk-container-id-2 div.sk-label-container {\n",
       "  text-align: center;\n",
       "}\n",
       "\n",
       "/* Estimator-specific */\n",
       "#sk-container-id-2 div.sk-estimator {\n",
       "  font-family: monospace;\n",
       "  border: 1px dotted var(--sklearn-color-border-box);\n",
       "  border-radius: 0.25em;\n",
       "  box-sizing: border-box;\n",
       "  margin-bottom: 0.5em;\n",
       "  /* unfitted */\n",
       "  background-color: var(--sklearn-color-unfitted-level-0);\n",
       "}\n",
       "\n",
       "#sk-container-id-2 div.sk-estimator.fitted {\n",
       "  /* fitted */\n",
       "  background-color: var(--sklearn-color-fitted-level-0);\n",
       "}\n",
       "\n",
       "/* on hover */\n",
       "#sk-container-id-2 div.sk-estimator:hover {\n",
       "  /* unfitted */\n",
       "  background-color: var(--sklearn-color-unfitted-level-2);\n",
       "}\n",
       "\n",
       "#sk-container-id-2 div.sk-estimator.fitted:hover {\n",
       "  /* fitted */\n",
       "  background-color: var(--sklearn-color-fitted-level-2);\n",
       "}\n",
       "\n",
       "/* Specification for estimator info (e.g. \"i\" and \"?\") */\n",
       "\n",
       "/* Common style for \"i\" and \"?\" */\n",
       "\n",
       ".sk-estimator-doc-link,\n",
       "a:link.sk-estimator-doc-link,\n",
       "a:visited.sk-estimator-doc-link {\n",
       "  float: right;\n",
       "  font-size: smaller;\n",
       "  line-height: 1em;\n",
       "  font-family: monospace;\n",
       "  background-color: var(--sklearn-color-background);\n",
       "  border-radius: 1em;\n",
       "  height: 1em;\n",
       "  width: 1em;\n",
       "  text-decoration: none !important;\n",
       "  margin-left: 1ex;\n",
       "  /* unfitted */\n",
       "  border: var(--sklearn-color-unfitted-level-1) 1pt solid;\n",
       "  color: var(--sklearn-color-unfitted-level-1);\n",
       "}\n",
       "\n",
       ".sk-estimator-doc-link.fitted,\n",
       "a:link.sk-estimator-doc-link.fitted,\n",
       "a:visited.sk-estimator-doc-link.fitted {\n",
       "  /* fitted */\n",
       "  border: var(--sklearn-color-fitted-level-1) 1pt solid;\n",
       "  color: var(--sklearn-color-fitted-level-1);\n",
       "}\n",
       "\n",
       "/* On hover */\n",
       "div.sk-estimator:hover .sk-estimator-doc-link:hover,\n",
       ".sk-estimator-doc-link:hover,\n",
       "div.sk-label-container:hover .sk-estimator-doc-link:hover,\n",
       ".sk-estimator-doc-link:hover {\n",
       "  /* unfitted */\n",
       "  background-color: var(--sklearn-color-unfitted-level-3);\n",
       "  color: var(--sklearn-color-background);\n",
       "  text-decoration: none;\n",
       "}\n",
       "\n",
       "div.sk-estimator.fitted:hover .sk-estimator-doc-link.fitted:hover,\n",
       ".sk-estimator-doc-link.fitted:hover,\n",
       "div.sk-label-container:hover .sk-estimator-doc-link.fitted:hover,\n",
       ".sk-estimator-doc-link.fitted:hover {\n",
       "  /* fitted */\n",
       "  background-color: var(--sklearn-color-fitted-level-3);\n",
       "  color: var(--sklearn-color-background);\n",
       "  text-decoration: none;\n",
       "}\n",
       "\n",
       "/* Span, style for the box shown on hovering the info icon */\n",
       ".sk-estimator-doc-link span {\n",
       "  display: none;\n",
       "  z-index: 9999;\n",
       "  position: relative;\n",
       "  font-weight: normal;\n",
       "  right: .2ex;\n",
       "  padding: .5ex;\n",
       "  margin: .5ex;\n",
       "  width: min-content;\n",
       "  min-width: 20ex;\n",
       "  max-width: 50ex;\n",
       "  color: var(--sklearn-color-text);\n",
       "  box-shadow: 2pt 2pt 4pt #999;\n",
       "  /* unfitted */\n",
       "  background: var(--sklearn-color-unfitted-level-0);\n",
       "  border: .5pt solid var(--sklearn-color-unfitted-level-3);\n",
       "}\n",
       "\n",
       ".sk-estimator-doc-link.fitted span {\n",
       "  /* fitted */\n",
       "  background: var(--sklearn-color-fitted-level-0);\n",
       "  border: var(--sklearn-color-fitted-level-3);\n",
       "}\n",
       "\n",
       ".sk-estimator-doc-link:hover span {\n",
       "  display: block;\n",
       "}\n",
       "\n",
       "/* \"?\"-specific style due to the `<a>` HTML tag */\n",
       "\n",
       "#sk-container-id-2 a.estimator_doc_link {\n",
       "  float: right;\n",
       "  font-size: 1rem;\n",
       "  line-height: 1em;\n",
       "  font-family: monospace;\n",
       "  background-color: var(--sklearn-color-background);\n",
       "  border-radius: 1rem;\n",
       "  height: 1rem;\n",
       "  width: 1rem;\n",
       "  text-decoration: none;\n",
       "  /* unfitted */\n",
       "  color: var(--sklearn-color-unfitted-level-1);\n",
       "  border: var(--sklearn-color-unfitted-level-1) 1pt solid;\n",
       "}\n",
       "\n",
       "#sk-container-id-2 a.estimator_doc_link.fitted {\n",
       "  /* fitted */\n",
       "  border: var(--sklearn-color-fitted-level-1) 1pt solid;\n",
       "  color: var(--sklearn-color-fitted-level-1);\n",
       "}\n",
       "\n",
       "/* On hover */\n",
       "#sk-container-id-2 a.estimator_doc_link:hover {\n",
       "  /* unfitted */\n",
       "  background-color: var(--sklearn-color-unfitted-level-3);\n",
       "  color: var(--sklearn-color-background);\n",
       "  text-decoration: none;\n",
       "}\n",
       "\n",
       "#sk-container-id-2 a.estimator_doc_link.fitted:hover {\n",
       "  /* fitted */\n",
       "  background-color: var(--sklearn-color-fitted-level-3);\n",
       "}\n",
       "</style><div id=\"sk-container-id-2\" class=\"sk-top-container\"><div class=\"sk-text-repr-fallback\"><pre>Pipeline(steps=[(&#x27;preprocessor&#x27;,\n",
       "                 ColumnTransformer(remainder=&#x27;passthrough&#x27;,\n",
       "                                   transformers=[(&#x27;num&#x27;, &#x27;passthrough&#x27;,\n",
       "                                                  Index([&#x27;lag_1&#x27;, &#x27;lag_2&#x27;, &#x27;lag_3&#x27;, &#x27;lag_4&#x27;, &#x27;lag_5&#x27;, &#x27;lag_6&#x27;, &#x27;lag_7&#x27;, &#x27;lag_8&#x27;,\n",
       "       &#x27;lag_9&#x27;, &#x27;lag_10&#x27;, &#x27;lag_11&#x27;, &#x27;lag_12&#x27;, &#x27;lag_13&#x27;, &#x27;lag_14&#x27;, &#x27;lag_15&#x27;,\n",
       "       &#x27;lag_16&#x27;, &#x27;lag_17&#x27;, &#x27;lag_18&#x27;, &#x27;lag_19&#x27;, &#x27;lag_20&#x27;, &#x27;lag_21&#x27;, &#x27;lag_22&#x27;,\n",
       "       &#x27;lag_23&#x27;, &#x27;lag_24&#x27;, &#x27;lag_25&#x27;, &#x27;rolling_mean&#x27;],\n",
       "      dtype=&#x27;object&#x27;))])),\n",
       "                (&#x27;model&#x27;, LinearRegression())])</pre><b>In a Jupyter environment, please rerun this cell to show the HTML representation or trust the notebook. <br />On GitHub, the HTML representation is unable to render, please try loading this page with nbviewer.org.</b></div><div class=\"sk-container\" hidden><div class=\"sk-item sk-dashed-wrapped\"><div class=\"sk-label-container\"><div class=\"sk-label fitted sk-toggleable\"><input class=\"sk-toggleable__control sk-hidden--visually\" id=\"sk-estimator-id-9\" type=\"checkbox\" ><label for=\"sk-estimator-id-9\" class=\"sk-toggleable__label fitted sk-toggleable__label-arrow fitted\">&nbsp;&nbsp;Pipeline<a class=\"sk-estimator-doc-link fitted\" rel=\"noreferrer\" target=\"_blank\" href=\"https://scikit-learn.org/1.5/modules/generated/sklearn.pipeline.Pipeline.html\">?<span>Documentation for Pipeline</span></a><span class=\"sk-estimator-doc-link fitted\">i<span>Fitted</span></span></label><div class=\"sk-toggleable__content fitted\"><pre>Pipeline(steps=[(&#x27;preprocessor&#x27;,\n",
       "                 ColumnTransformer(remainder=&#x27;passthrough&#x27;,\n",
       "                                   transformers=[(&#x27;num&#x27;, &#x27;passthrough&#x27;,\n",
       "                                                  Index([&#x27;lag_1&#x27;, &#x27;lag_2&#x27;, &#x27;lag_3&#x27;, &#x27;lag_4&#x27;, &#x27;lag_5&#x27;, &#x27;lag_6&#x27;, &#x27;lag_7&#x27;, &#x27;lag_8&#x27;,\n",
       "       &#x27;lag_9&#x27;, &#x27;lag_10&#x27;, &#x27;lag_11&#x27;, &#x27;lag_12&#x27;, &#x27;lag_13&#x27;, &#x27;lag_14&#x27;, &#x27;lag_15&#x27;,\n",
       "       &#x27;lag_16&#x27;, &#x27;lag_17&#x27;, &#x27;lag_18&#x27;, &#x27;lag_19&#x27;, &#x27;lag_20&#x27;, &#x27;lag_21&#x27;, &#x27;lag_22&#x27;,\n",
       "       &#x27;lag_23&#x27;, &#x27;lag_24&#x27;, &#x27;lag_25&#x27;, &#x27;rolling_mean&#x27;],\n",
       "      dtype=&#x27;object&#x27;))])),\n",
       "                (&#x27;model&#x27;, LinearRegression())])</pre></div> </div></div><div class=\"sk-serial\"><div class=\"sk-item sk-dashed-wrapped\"><div class=\"sk-label-container\"><div class=\"sk-label fitted sk-toggleable\"><input class=\"sk-toggleable__control sk-hidden--visually\" id=\"sk-estimator-id-10\" type=\"checkbox\" ><label for=\"sk-estimator-id-10\" class=\"sk-toggleable__label fitted sk-toggleable__label-arrow fitted\">&nbsp;preprocessor: ColumnTransformer<a class=\"sk-estimator-doc-link fitted\" rel=\"noreferrer\" target=\"_blank\" href=\"https://scikit-learn.org/1.5/modules/generated/sklearn.compose.ColumnTransformer.html\">?<span>Documentation for preprocessor: ColumnTransformer</span></a></label><div class=\"sk-toggleable__content fitted\"><pre>ColumnTransformer(remainder=&#x27;passthrough&#x27;,\n",
       "                  transformers=[(&#x27;num&#x27;, &#x27;passthrough&#x27;,\n",
       "                                 Index([&#x27;lag_1&#x27;, &#x27;lag_2&#x27;, &#x27;lag_3&#x27;, &#x27;lag_4&#x27;, &#x27;lag_5&#x27;, &#x27;lag_6&#x27;, &#x27;lag_7&#x27;, &#x27;lag_8&#x27;,\n",
       "       &#x27;lag_9&#x27;, &#x27;lag_10&#x27;, &#x27;lag_11&#x27;, &#x27;lag_12&#x27;, &#x27;lag_13&#x27;, &#x27;lag_14&#x27;, &#x27;lag_15&#x27;,\n",
       "       &#x27;lag_16&#x27;, &#x27;lag_17&#x27;, &#x27;lag_18&#x27;, &#x27;lag_19&#x27;, &#x27;lag_20&#x27;, &#x27;lag_21&#x27;, &#x27;lag_22&#x27;,\n",
       "       &#x27;lag_23&#x27;, &#x27;lag_24&#x27;, &#x27;lag_25&#x27;, &#x27;rolling_mean&#x27;],\n",
       "      dtype=&#x27;object&#x27;))])</pre></div> </div></div><div class=\"sk-parallel\"><div class=\"sk-parallel-item\"><div class=\"sk-item\"><div class=\"sk-label-container\"><div class=\"sk-label fitted sk-toggleable\"><input class=\"sk-toggleable__control sk-hidden--visually\" id=\"sk-estimator-id-11\" type=\"checkbox\" ><label for=\"sk-estimator-id-11\" class=\"sk-toggleable__label fitted sk-toggleable__label-arrow fitted\">num</label><div class=\"sk-toggleable__content fitted\"><pre>Index([&#x27;lag_1&#x27;, &#x27;lag_2&#x27;, &#x27;lag_3&#x27;, &#x27;lag_4&#x27;, &#x27;lag_5&#x27;, &#x27;lag_6&#x27;, &#x27;lag_7&#x27;, &#x27;lag_8&#x27;,\n",
       "       &#x27;lag_9&#x27;, &#x27;lag_10&#x27;, &#x27;lag_11&#x27;, &#x27;lag_12&#x27;, &#x27;lag_13&#x27;, &#x27;lag_14&#x27;, &#x27;lag_15&#x27;,\n",
       "       &#x27;lag_16&#x27;, &#x27;lag_17&#x27;, &#x27;lag_18&#x27;, &#x27;lag_19&#x27;, &#x27;lag_20&#x27;, &#x27;lag_21&#x27;, &#x27;lag_22&#x27;,\n",
       "       &#x27;lag_23&#x27;, &#x27;lag_24&#x27;, &#x27;lag_25&#x27;, &#x27;rolling_mean&#x27;],\n",
       "      dtype=&#x27;object&#x27;)</pre></div> </div></div><div class=\"sk-serial\"><div class=\"sk-item\"><div class=\"sk-estimator fitted sk-toggleable\"><input class=\"sk-toggleable__control sk-hidden--visually\" id=\"sk-estimator-id-12\" type=\"checkbox\" ><label for=\"sk-estimator-id-12\" class=\"sk-toggleable__label fitted sk-toggleable__label-arrow fitted\">passthrough</label><div class=\"sk-toggleable__content fitted\"><pre>passthrough</pre></div> </div></div></div></div></div><div class=\"sk-parallel-item\"><div class=\"sk-item\"><div class=\"sk-label-container\"><div class=\"sk-label fitted sk-toggleable\"><input class=\"sk-toggleable__control sk-hidden--visually\" id=\"sk-estimator-id-13\" type=\"checkbox\" ><label for=\"sk-estimator-id-13\" class=\"sk-toggleable__label fitted sk-toggleable__label-arrow fitted\">remainder</label><div class=\"sk-toggleable__content fitted\"><pre>[&#x27;month&#x27;, &#x27;day&#x27;, &#x27;dayofweek&#x27;]</pre></div> </div></div><div class=\"sk-serial\"><div class=\"sk-item\"><div class=\"sk-estimator fitted sk-toggleable\"><input class=\"sk-toggleable__control sk-hidden--visually\" id=\"sk-estimator-id-14\" type=\"checkbox\" ><label for=\"sk-estimator-id-14\" class=\"sk-toggleable__label fitted sk-toggleable__label-arrow fitted\">passthrough</label><div class=\"sk-toggleable__content fitted\"><pre>passthrough</pre></div> </div></div></div></div></div></div></div><div class=\"sk-item\"><div class=\"sk-estimator fitted sk-toggleable\"><input class=\"sk-toggleable__control sk-hidden--visually\" id=\"sk-estimator-id-15\" type=\"checkbox\" ><label for=\"sk-estimator-id-15\" class=\"sk-toggleable__label fitted sk-toggleable__label-arrow fitted\">&nbsp;LinearRegression<a class=\"sk-estimator-doc-link fitted\" rel=\"noreferrer\" target=\"_blank\" href=\"https://scikit-learn.org/1.5/modules/generated/sklearn.linear_model.LinearRegression.html\">?<span>Documentation for LinearRegression</span></a></label><div class=\"sk-toggleable__content fitted\"><pre>LinearRegression()</pre></div> </div></div></div></div></div></div>"
      ],
      "text/plain": [
       "Pipeline(steps=[('preprocessor',\n",
       "                 ColumnTransformer(remainder='passthrough',\n",
       "                                   transformers=[('num', 'passthrough',\n",
       "                                                  Index(['lag_1', 'lag_2', 'lag_3', 'lag_4', 'lag_5', 'lag_6', 'lag_7', 'lag_8',\n",
       "       'lag_9', 'lag_10', 'lag_11', 'lag_12', 'lag_13', 'lag_14', 'lag_15',\n",
       "       'lag_16', 'lag_17', 'lag_18', 'lag_19', 'lag_20', 'lag_21', 'lag_22',\n",
       "       'lag_23', 'lag_24', 'lag_25', 'rolling_mean'],\n",
       "      dtype='object'))])),\n",
       "                ('model', LinearRegression())])"
      ]
     },
     "execution_count": 30,
     "metadata": {},
     "output_type": "execute_result"
    }
   ],
   "source": [
    "grid_search.best_estimator_.fit(X_train, y_train)"
   ]
  },
  {
   "cell_type": "code",
   "execution_count": 31,
   "metadata": {},
   "outputs": [
    {
     "name": "stdout",
     "output_type": "stream",
     "text": [
      "RMSE на кросс-валидации 27.009624800356413\n"
     ]
    }
   ],
   "source": [
    "print('RMSE на кросс-валидации', -grid_search.best_score_)"
   ]
  },
  {
   "cell_type": "code",
   "execution_count": 32,
   "metadata": {},
   "outputs": [
    {
     "name": "stdout",
     "output_type": "stream",
     "text": [
      "RMSE на тренировочной выборке:  25.7759432278792\n"
     ]
    }
   ],
   "source": [
    "y_pred_train = grid_search.best_estimator_.predict(X_train)\n",
    "print('RMSE на тренировочной выборке: ', mean_squared_error(y_train, y_pred_train, squared=False))"
   ]
  },
  {
   "cell_type": "markdown",
   "metadata": {},
   "source": [
    "### Дерево решений"
   ]
  },
  {
   "cell_type": "code",
   "execution_count": 33,
   "metadata": {},
   "outputs": [],
   "source": [
    "pipe_final_tree = Pipeline([\n",
    "    ('preprocessor', data_preprocessor),\n",
    "    ('model', DecisionTreeRegressor(random_state=42))\n",
    "])"
   ]
  },
  {
   "cell_type": "code",
   "execution_count": 34,
   "metadata": {},
   "outputs": [],
   "source": [
    "param_grid_tree = {\n",
    "    'model__max_depth': range(2, 10),\n",
    "    'model__max_features': range(2, 10),\n",
    "    'model__min_samples_split': range(2, 10)\n",
    "}"
   ]
  },
  {
   "cell_type": "code",
   "execution_count": 35,
   "metadata": {},
   "outputs": [],
   "source": [
    "grid_search_tree = GridSearchCV(\n",
    "    pipe_final_tree,\n",
    "    param_grid_tree,\n",
    "    cv=TimeSeriesSplit(5),\n",
    "    scoring='neg_root_mean_squared_error',\n",
    "    n_jobs=-1\n",
    "            )"
   ]
  },
  {
   "cell_type": "code",
   "execution_count": 36,
   "metadata": {},
   "outputs": [
    {
     "data": {
      "text/html": [
       "<style>#sk-container-id-3 {\n",
       "  /* Definition of color scheme common for light and dark mode */\n",
       "  --sklearn-color-text: black;\n",
       "  --sklearn-color-line: gray;\n",
       "  /* Definition of color scheme for unfitted estimators */\n",
       "  --sklearn-color-unfitted-level-0: #fff5e6;\n",
       "  --sklearn-color-unfitted-level-1: #f6e4d2;\n",
       "  --sklearn-color-unfitted-level-2: #ffe0b3;\n",
       "  --sklearn-color-unfitted-level-3: chocolate;\n",
       "  /* Definition of color scheme for fitted estimators */\n",
       "  --sklearn-color-fitted-level-0: #f0f8ff;\n",
       "  --sklearn-color-fitted-level-1: #d4ebff;\n",
       "  --sklearn-color-fitted-level-2: #b3dbfd;\n",
       "  --sklearn-color-fitted-level-3: cornflowerblue;\n",
       "\n",
       "  /* Specific color for light theme */\n",
       "  --sklearn-color-text-on-default-background: var(--sg-text-color, var(--theme-code-foreground, var(--jp-content-font-color1, black)));\n",
       "  --sklearn-color-background: var(--sg-background-color, var(--theme-background, var(--jp-layout-color0, white)));\n",
       "  --sklearn-color-border-box: var(--sg-text-color, var(--theme-code-foreground, var(--jp-content-font-color1, black)));\n",
       "  --sklearn-color-icon: #696969;\n",
       "\n",
       "  @media (prefers-color-scheme: dark) {\n",
       "    /* Redefinition of color scheme for dark theme */\n",
       "    --sklearn-color-text-on-default-background: var(--sg-text-color, var(--theme-code-foreground, var(--jp-content-font-color1, white)));\n",
       "    --sklearn-color-background: var(--sg-background-color, var(--theme-background, var(--jp-layout-color0, #111)));\n",
       "    --sklearn-color-border-box: var(--sg-text-color, var(--theme-code-foreground, var(--jp-content-font-color1, white)));\n",
       "    --sklearn-color-icon: #878787;\n",
       "  }\n",
       "}\n",
       "\n",
       "#sk-container-id-3 {\n",
       "  color: var(--sklearn-color-text);\n",
       "}\n",
       "\n",
       "#sk-container-id-3 pre {\n",
       "  padding: 0;\n",
       "}\n",
       "\n",
       "#sk-container-id-3 input.sk-hidden--visually {\n",
       "  border: 0;\n",
       "  clip: rect(1px 1px 1px 1px);\n",
       "  clip: rect(1px, 1px, 1px, 1px);\n",
       "  height: 1px;\n",
       "  margin: -1px;\n",
       "  overflow: hidden;\n",
       "  padding: 0;\n",
       "  position: absolute;\n",
       "  width: 1px;\n",
       "}\n",
       "\n",
       "#sk-container-id-3 div.sk-dashed-wrapped {\n",
       "  border: 1px dashed var(--sklearn-color-line);\n",
       "  margin: 0 0.4em 0.5em 0.4em;\n",
       "  box-sizing: border-box;\n",
       "  padding-bottom: 0.4em;\n",
       "  background-color: var(--sklearn-color-background);\n",
       "}\n",
       "\n",
       "#sk-container-id-3 div.sk-container {\n",
       "  /* jupyter's `normalize.less` sets `[hidden] { display: none; }`\n",
       "     but bootstrap.min.css set `[hidden] { display: none !important; }`\n",
       "     so we also need the `!important` here to be able to override the\n",
       "     default hidden behavior on the sphinx rendered scikit-learn.org.\n",
       "     See: https://github.com/scikit-learn/scikit-learn/issues/21755 */\n",
       "  display: inline-block !important;\n",
       "  position: relative;\n",
       "}\n",
       "\n",
       "#sk-container-id-3 div.sk-text-repr-fallback {\n",
       "  display: none;\n",
       "}\n",
       "\n",
       "div.sk-parallel-item,\n",
       "div.sk-serial,\n",
       "div.sk-item {\n",
       "  /* draw centered vertical line to link estimators */\n",
       "  background-image: linear-gradient(var(--sklearn-color-text-on-default-background), var(--sklearn-color-text-on-default-background));\n",
       "  background-size: 2px 100%;\n",
       "  background-repeat: no-repeat;\n",
       "  background-position: center center;\n",
       "}\n",
       "\n",
       "/* Parallel-specific style estimator block */\n",
       "\n",
       "#sk-container-id-3 div.sk-parallel-item::after {\n",
       "  content: \"\";\n",
       "  width: 100%;\n",
       "  border-bottom: 2px solid var(--sklearn-color-text-on-default-background);\n",
       "  flex-grow: 1;\n",
       "}\n",
       "\n",
       "#sk-container-id-3 div.sk-parallel {\n",
       "  display: flex;\n",
       "  align-items: stretch;\n",
       "  justify-content: center;\n",
       "  background-color: var(--sklearn-color-background);\n",
       "  position: relative;\n",
       "}\n",
       "\n",
       "#sk-container-id-3 div.sk-parallel-item {\n",
       "  display: flex;\n",
       "  flex-direction: column;\n",
       "}\n",
       "\n",
       "#sk-container-id-3 div.sk-parallel-item:first-child::after {\n",
       "  align-self: flex-end;\n",
       "  width: 50%;\n",
       "}\n",
       "\n",
       "#sk-container-id-3 div.sk-parallel-item:last-child::after {\n",
       "  align-self: flex-start;\n",
       "  width: 50%;\n",
       "}\n",
       "\n",
       "#sk-container-id-3 div.sk-parallel-item:only-child::after {\n",
       "  width: 0;\n",
       "}\n",
       "\n",
       "/* Serial-specific style estimator block */\n",
       "\n",
       "#sk-container-id-3 div.sk-serial {\n",
       "  display: flex;\n",
       "  flex-direction: column;\n",
       "  align-items: center;\n",
       "  background-color: var(--sklearn-color-background);\n",
       "  padding-right: 1em;\n",
       "  padding-left: 1em;\n",
       "}\n",
       "\n",
       "\n",
       "/* Toggleable style: style used for estimator/Pipeline/ColumnTransformer box that is\n",
       "clickable and can be expanded/collapsed.\n",
       "- Pipeline and ColumnTransformer use this feature and define the default style\n",
       "- Estimators will overwrite some part of the style using the `sk-estimator` class\n",
       "*/\n",
       "\n",
       "/* Pipeline and ColumnTransformer style (default) */\n",
       "\n",
       "#sk-container-id-3 div.sk-toggleable {\n",
       "  /* Default theme specific background. It is overwritten whether we have a\n",
       "  specific estimator or a Pipeline/ColumnTransformer */\n",
       "  background-color: var(--sklearn-color-background);\n",
       "}\n",
       "\n",
       "/* Toggleable label */\n",
       "#sk-container-id-3 label.sk-toggleable__label {\n",
       "  cursor: pointer;\n",
       "  display: block;\n",
       "  width: 100%;\n",
       "  margin-bottom: 0;\n",
       "  padding: 0.5em;\n",
       "  box-sizing: border-box;\n",
       "  text-align: center;\n",
       "}\n",
       "\n",
       "#sk-container-id-3 label.sk-toggleable__label-arrow:before {\n",
       "  /* Arrow on the left of the label */\n",
       "  content: \"▸\";\n",
       "  float: left;\n",
       "  margin-right: 0.25em;\n",
       "  color: var(--sklearn-color-icon);\n",
       "}\n",
       "\n",
       "#sk-container-id-3 label.sk-toggleable__label-arrow:hover:before {\n",
       "  color: var(--sklearn-color-text);\n",
       "}\n",
       "\n",
       "/* Toggleable content - dropdown */\n",
       "\n",
       "#sk-container-id-3 div.sk-toggleable__content {\n",
       "  max-height: 0;\n",
       "  max-width: 0;\n",
       "  overflow: hidden;\n",
       "  text-align: left;\n",
       "  /* unfitted */\n",
       "  background-color: var(--sklearn-color-unfitted-level-0);\n",
       "}\n",
       "\n",
       "#sk-container-id-3 div.sk-toggleable__content.fitted {\n",
       "  /* fitted */\n",
       "  background-color: var(--sklearn-color-fitted-level-0);\n",
       "}\n",
       "\n",
       "#sk-container-id-3 div.sk-toggleable__content pre {\n",
       "  margin: 0.2em;\n",
       "  border-radius: 0.25em;\n",
       "  color: var(--sklearn-color-text);\n",
       "  /* unfitted */\n",
       "  background-color: var(--sklearn-color-unfitted-level-0);\n",
       "}\n",
       "\n",
       "#sk-container-id-3 div.sk-toggleable__content.fitted pre {\n",
       "  /* unfitted */\n",
       "  background-color: var(--sklearn-color-fitted-level-0);\n",
       "}\n",
       "\n",
       "#sk-container-id-3 input.sk-toggleable__control:checked~div.sk-toggleable__content {\n",
       "  /* Expand drop-down */\n",
       "  max-height: 200px;\n",
       "  max-width: 100%;\n",
       "  overflow: auto;\n",
       "}\n",
       "\n",
       "#sk-container-id-3 input.sk-toggleable__control:checked~label.sk-toggleable__label-arrow:before {\n",
       "  content: \"▾\";\n",
       "}\n",
       "\n",
       "/* Pipeline/ColumnTransformer-specific style */\n",
       "\n",
       "#sk-container-id-3 div.sk-label input.sk-toggleable__control:checked~label.sk-toggleable__label {\n",
       "  color: var(--sklearn-color-text);\n",
       "  background-color: var(--sklearn-color-unfitted-level-2);\n",
       "}\n",
       "\n",
       "#sk-container-id-3 div.sk-label.fitted input.sk-toggleable__control:checked~label.sk-toggleable__label {\n",
       "  background-color: var(--sklearn-color-fitted-level-2);\n",
       "}\n",
       "\n",
       "/* Estimator-specific style */\n",
       "\n",
       "/* Colorize estimator box */\n",
       "#sk-container-id-3 div.sk-estimator input.sk-toggleable__control:checked~label.sk-toggleable__label {\n",
       "  /* unfitted */\n",
       "  background-color: var(--sklearn-color-unfitted-level-2);\n",
       "}\n",
       "\n",
       "#sk-container-id-3 div.sk-estimator.fitted input.sk-toggleable__control:checked~label.sk-toggleable__label {\n",
       "  /* fitted */\n",
       "  background-color: var(--sklearn-color-fitted-level-2);\n",
       "}\n",
       "\n",
       "#sk-container-id-3 div.sk-label label.sk-toggleable__label,\n",
       "#sk-container-id-3 div.sk-label label {\n",
       "  /* The background is the default theme color */\n",
       "  color: var(--sklearn-color-text-on-default-background);\n",
       "}\n",
       "\n",
       "/* On hover, darken the color of the background */\n",
       "#sk-container-id-3 div.sk-label:hover label.sk-toggleable__label {\n",
       "  color: var(--sklearn-color-text);\n",
       "  background-color: var(--sklearn-color-unfitted-level-2);\n",
       "}\n",
       "\n",
       "/* Label box, darken color on hover, fitted */\n",
       "#sk-container-id-3 div.sk-label.fitted:hover label.sk-toggleable__label.fitted {\n",
       "  color: var(--sklearn-color-text);\n",
       "  background-color: var(--sklearn-color-fitted-level-2);\n",
       "}\n",
       "\n",
       "/* Estimator label */\n",
       "\n",
       "#sk-container-id-3 div.sk-label label {\n",
       "  font-family: monospace;\n",
       "  font-weight: bold;\n",
       "  display: inline-block;\n",
       "  line-height: 1.2em;\n",
       "}\n",
       "\n",
       "#sk-container-id-3 div.sk-label-container {\n",
       "  text-align: center;\n",
       "}\n",
       "\n",
       "/* Estimator-specific */\n",
       "#sk-container-id-3 div.sk-estimator {\n",
       "  font-family: monospace;\n",
       "  border: 1px dotted var(--sklearn-color-border-box);\n",
       "  border-radius: 0.25em;\n",
       "  box-sizing: border-box;\n",
       "  margin-bottom: 0.5em;\n",
       "  /* unfitted */\n",
       "  background-color: var(--sklearn-color-unfitted-level-0);\n",
       "}\n",
       "\n",
       "#sk-container-id-3 div.sk-estimator.fitted {\n",
       "  /* fitted */\n",
       "  background-color: var(--sklearn-color-fitted-level-0);\n",
       "}\n",
       "\n",
       "/* on hover */\n",
       "#sk-container-id-3 div.sk-estimator:hover {\n",
       "  /* unfitted */\n",
       "  background-color: var(--sklearn-color-unfitted-level-2);\n",
       "}\n",
       "\n",
       "#sk-container-id-3 div.sk-estimator.fitted:hover {\n",
       "  /* fitted */\n",
       "  background-color: var(--sklearn-color-fitted-level-2);\n",
       "}\n",
       "\n",
       "/* Specification for estimator info (e.g. \"i\" and \"?\") */\n",
       "\n",
       "/* Common style for \"i\" and \"?\" */\n",
       "\n",
       ".sk-estimator-doc-link,\n",
       "a:link.sk-estimator-doc-link,\n",
       "a:visited.sk-estimator-doc-link {\n",
       "  float: right;\n",
       "  font-size: smaller;\n",
       "  line-height: 1em;\n",
       "  font-family: monospace;\n",
       "  background-color: var(--sklearn-color-background);\n",
       "  border-radius: 1em;\n",
       "  height: 1em;\n",
       "  width: 1em;\n",
       "  text-decoration: none !important;\n",
       "  margin-left: 1ex;\n",
       "  /* unfitted */\n",
       "  border: var(--sklearn-color-unfitted-level-1) 1pt solid;\n",
       "  color: var(--sklearn-color-unfitted-level-1);\n",
       "}\n",
       "\n",
       ".sk-estimator-doc-link.fitted,\n",
       "a:link.sk-estimator-doc-link.fitted,\n",
       "a:visited.sk-estimator-doc-link.fitted {\n",
       "  /* fitted */\n",
       "  border: var(--sklearn-color-fitted-level-1) 1pt solid;\n",
       "  color: var(--sklearn-color-fitted-level-1);\n",
       "}\n",
       "\n",
       "/* On hover */\n",
       "div.sk-estimator:hover .sk-estimator-doc-link:hover,\n",
       ".sk-estimator-doc-link:hover,\n",
       "div.sk-label-container:hover .sk-estimator-doc-link:hover,\n",
       ".sk-estimator-doc-link:hover {\n",
       "  /* unfitted */\n",
       "  background-color: var(--sklearn-color-unfitted-level-3);\n",
       "  color: var(--sklearn-color-background);\n",
       "  text-decoration: none;\n",
       "}\n",
       "\n",
       "div.sk-estimator.fitted:hover .sk-estimator-doc-link.fitted:hover,\n",
       ".sk-estimator-doc-link.fitted:hover,\n",
       "div.sk-label-container:hover .sk-estimator-doc-link.fitted:hover,\n",
       ".sk-estimator-doc-link.fitted:hover {\n",
       "  /* fitted */\n",
       "  background-color: var(--sklearn-color-fitted-level-3);\n",
       "  color: var(--sklearn-color-background);\n",
       "  text-decoration: none;\n",
       "}\n",
       "\n",
       "/* Span, style for the box shown on hovering the info icon */\n",
       ".sk-estimator-doc-link span {\n",
       "  display: none;\n",
       "  z-index: 9999;\n",
       "  position: relative;\n",
       "  font-weight: normal;\n",
       "  right: .2ex;\n",
       "  padding: .5ex;\n",
       "  margin: .5ex;\n",
       "  width: min-content;\n",
       "  min-width: 20ex;\n",
       "  max-width: 50ex;\n",
       "  color: var(--sklearn-color-text);\n",
       "  box-shadow: 2pt 2pt 4pt #999;\n",
       "  /* unfitted */\n",
       "  background: var(--sklearn-color-unfitted-level-0);\n",
       "  border: .5pt solid var(--sklearn-color-unfitted-level-3);\n",
       "}\n",
       "\n",
       ".sk-estimator-doc-link.fitted span {\n",
       "  /* fitted */\n",
       "  background: var(--sklearn-color-fitted-level-0);\n",
       "  border: var(--sklearn-color-fitted-level-3);\n",
       "}\n",
       "\n",
       ".sk-estimator-doc-link:hover span {\n",
       "  display: block;\n",
       "}\n",
       "\n",
       "/* \"?\"-specific style due to the `<a>` HTML tag */\n",
       "\n",
       "#sk-container-id-3 a.estimator_doc_link {\n",
       "  float: right;\n",
       "  font-size: 1rem;\n",
       "  line-height: 1em;\n",
       "  font-family: monospace;\n",
       "  background-color: var(--sklearn-color-background);\n",
       "  border-radius: 1rem;\n",
       "  height: 1rem;\n",
       "  width: 1rem;\n",
       "  text-decoration: none;\n",
       "  /* unfitted */\n",
       "  color: var(--sklearn-color-unfitted-level-1);\n",
       "  border: var(--sklearn-color-unfitted-level-1) 1pt solid;\n",
       "}\n",
       "\n",
       "#sk-container-id-3 a.estimator_doc_link.fitted {\n",
       "  /* fitted */\n",
       "  border: var(--sklearn-color-fitted-level-1) 1pt solid;\n",
       "  color: var(--sklearn-color-fitted-level-1);\n",
       "}\n",
       "\n",
       "/* On hover */\n",
       "#sk-container-id-3 a.estimator_doc_link:hover {\n",
       "  /* unfitted */\n",
       "  background-color: var(--sklearn-color-unfitted-level-3);\n",
       "  color: var(--sklearn-color-background);\n",
       "  text-decoration: none;\n",
       "}\n",
       "\n",
       "#sk-container-id-3 a.estimator_doc_link.fitted:hover {\n",
       "  /* fitted */\n",
       "  background-color: var(--sklearn-color-fitted-level-3);\n",
       "}\n",
       "</style><div id=\"sk-container-id-3\" class=\"sk-top-container\"><div class=\"sk-text-repr-fallback\"><pre>GridSearchCV(cv=TimeSeriesSplit(gap=0, max_train_size=None, n_splits=5, test_size=None),\n",
       "             estimator=Pipeline(steps=[(&#x27;preprocessor&#x27;,\n",
       "                                        ColumnTransformer(remainder=&#x27;passthrough&#x27;,\n",
       "                                                          transformers=[(&#x27;num&#x27;,\n",
       "                                                                         StandardScaler(),\n",
       "                                                                         Index([&#x27;lag_1&#x27;, &#x27;lag_2&#x27;, &#x27;lag_3&#x27;, &#x27;lag_4&#x27;, &#x27;lag_5&#x27;, &#x27;lag_6&#x27;, &#x27;lag_7&#x27;, &#x27;lag_8&#x27;,\n",
       "       &#x27;lag_9&#x27;, &#x27;lag_10&#x27;, &#x27;lag_11&#x27;, &#x27;lag_12&#x27;, &#x27;lag_13&#x27;, &#x27;lag_14&#x27;, &#x27;lag_15&#x27;,\n",
       "       &#x27;lag_16&#x27;, &#x27;lag_17&#x27;, &#x27;lag_18&#x27;, &#x27;lag_19&#x27;, &#x27;lag_20&#x27;, &#x27;lag_21&#x27;, &#x27;lag_22&#x27;,\n",
       "       &#x27;lag_23&#x27;, &#x27;lag_24&#x27;, &#x27;lag_25&#x27;, &#x27;rolling_mean&#x27;],\n",
       "      dtype=&#x27;object&#x27;))])),\n",
       "                                       (&#x27;model&#x27;,\n",
       "                                        DecisionTreeRegressor(random_state=42))]),\n",
       "             n_jobs=-1,\n",
       "             param_grid={&#x27;model__max_depth&#x27;: range(2, 10),\n",
       "                         &#x27;model__max_features&#x27;: range(2, 10),\n",
       "                         &#x27;model__min_samples_split&#x27;: range(2, 10)},\n",
       "             scoring=&#x27;neg_root_mean_squared_error&#x27;)</pre><b>In a Jupyter environment, please rerun this cell to show the HTML representation or trust the notebook. <br />On GitHub, the HTML representation is unable to render, please try loading this page with nbviewer.org.</b></div><div class=\"sk-container\" hidden><div class=\"sk-item sk-dashed-wrapped\"><div class=\"sk-label-container\"><div class=\"sk-label fitted sk-toggleable\"><input class=\"sk-toggleable__control sk-hidden--visually\" id=\"sk-estimator-id-16\" type=\"checkbox\" ><label for=\"sk-estimator-id-16\" class=\"sk-toggleable__label fitted sk-toggleable__label-arrow fitted\">&nbsp;&nbsp;GridSearchCV<a class=\"sk-estimator-doc-link fitted\" rel=\"noreferrer\" target=\"_blank\" href=\"https://scikit-learn.org/1.5/modules/generated/sklearn.model_selection.GridSearchCV.html\">?<span>Documentation for GridSearchCV</span></a><span class=\"sk-estimator-doc-link fitted\">i<span>Fitted</span></span></label><div class=\"sk-toggleable__content fitted\"><pre>GridSearchCV(cv=TimeSeriesSplit(gap=0, max_train_size=None, n_splits=5, test_size=None),\n",
       "             estimator=Pipeline(steps=[(&#x27;preprocessor&#x27;,\n",
       "                                        ColumnTransformer(remainder=&#x27;passthrough&#x27;,\n",
       "                                                          transformers=[(&#x27;num&#x27;,\n",
       "                                                                         StandardScaler(),\n",
       "                                                                         Index([&#x27;lag_1&#x27;, &#x27;lag_2&#x27;, &#x27;lag_3&#x27;, &#x27;lag_4&#x27;, &#x27;lag_5&#x27;, &#x27;lag_6&#x27;, &#x27;lag_7&#x27;, &#x27;lag_8&#x27;,\n",
       "       &#x27;lag_9&#x27;, &#x27;lag_10&#x27;, &#x27;lag_11&#x27;, &#x27;lag_12&#x27;, &#x27;lag_13&#x27;, &#x27;lag_14&#x27;, &#x27;lag_15&#x27;,\n",
       "       &#x27;lag_16&#x27;, &#x27;lag_17&#x27;, &#x27;lag_18&#x27;, &#x27;lag_19&#x27;, &#x27;lag_20&#x27;, &#x27;lag_21&#x27;, &#x27;lag_22&#x27;,\n",
       "       &#x27;lag_23&#x27;, &#x27;lag_24&#x27;, &#x27;lag_25&#x27;, &#x27;rolling_mean&#x27;],\n",
       "      dtype=&#x27;object&#x27;))])),\n",
       "                                       (&#x27;model&#x27;,\n",
       "                                        DecisionTreeRegressor(random_state=42))]),\n",
       "             n_jobs=-1,\n",
       "             param_grid={&#x27;model__max_depth&#x27;: range(2, 10),\n",
       "                         &#x27;model__max_features&#x27;: range(2, 10),\n",
       "                         &#x27;model__min_samples_split&#x27;: range(2, 10)},\n",
       "             scoring=&#x27;neg_root_mean_squared_error&#x27;)</pre></div> </div></div><div class=\"sk-parallel\"><div class=\"sk-parallel-item\"><div class=\"sk-item\"><div class=\"sk-label-container\"><div class=\"sk-label fitted sk-toggleable\"><input class=\"sk-toggleable__control sk-hidden--visually\" id=\"sk-estimator-id-17\" type=\"checkbox\" ><label for=\"sk-estimator-id-17\" class=\"sk-toggleable__label fitted sk-toggleable__label-arrow fitted\">best_estimator_: Pipeline</label><div class=\"sk-toggleable__content fitted\"><pre>Pipeline(steps=[(&#x27;preprocessor&#x27;,\n",
       "                 ColumnTransformer(remainder=&#x27;passthrough&#x27;,\n",
       "                                   transformers=[(&#x27;num&#x27;, StandardScaler(),\n",
       "                                                  Index([&#x27;lag_1&#x27;, &#x27;lag_2&#x27;, &#x27;lag_3&#x27;, &#x27;lag_4&#x27;, &#x27;lag_5&#x27;, &#x27;lag_6&#x27;, &#x27;lag_7&#x27;, &#x27;lag_8&#x27;,\n",
       "       &#x27;lag_9&#x27;, &#x27;lag_10&#x27;, &#x27;lag_11&#x27;, &#x27;lag_12&#x27;, &#x27;lag_13&#x27;, &#x27;lag_14&#x27;, &#x27;lag_15&#x27;,\n",
       "       &#x27;lag_16&#x27;, &#x27;lag_17&#x27;, &#x27;lag_18&#x27;, &#x27;lag_19&#x27;, &#x27;lag_20&#x27;, &#x27;lag_21&#x27;, &#x27;lag_22&#x27;,\n",
       "       &#x27;lag_23&#x27;, &#x27;lag_24&#x27;, &#x27;lag_25&#x27;, &#x27;rolling_mean&#x27;],\n",
       "      dtype=&#x27;object&#x27;))])),\n",
       "                (&#x27;model&#x27;,\n",
       "                 DecisionTreeRegressor(max_depth=6, max_features=8,\n",
       "                                       min_samples_split=8, random_state=42))])</pre></div> </div></div><div class=\"sk-serial\"><div class=\"sk-item\"><div class=\"sk-serial\"><div class=\"sk-item sk-dashed-wrapped\"><div class=\"sk-label-container\"><div class=\"sk-label fitted sk-toggleable\"><input class=\"sk-toggleable__control sk-hidden--visually\" id=\"sk-estimator-id-18\" type=\"checkbox\" ><label for=\"sk-estimator-id-18\" class=\"sk-toggleable__label fitted sk-toggleable__label-arrow fitted\">&nbsp;preprocessor: ColumnTransformer<a class=\"sk-estimator-doc-link fitted\" rel=\"noreferrer\" target=\"_blank\" href=\"https://scikit-learn.org/1.5/modules/generated/sklearn.compose.ColumnTransformer.html\">?<span>Documentation for preprocessor: ColumnTransformer</span></a></label><div class=\"sk-toggleable__content fitted\"><pre>ColumnTransformer(remainder=&#x27;passthrough&#x27;,\n",
       "                  transformers=[(&#x27;num&#x27;, StandardScaler(),\n",
       "                                 Index([&#x27;lag_1&#x27;, &#x27;lag_2&#x27;, &#x27;lag_3&#x27;, &#x27;lag_4&#x27;, &#x27;lag_5&#x27;, &#x27;lag_6&#x27;, &#x27;lag_7&#x27;, &#x27;lag_8&#x27;,\n",
       "       &#x27;lag_9&#x27;, &#x27;lag_10&#x27;, &#x27;lag_11&#x27;, &#x27;lag_12&#x27;, &#x27;lag_13&#x27;, &#x27;lag_14&#x27;, &#x27;lag_15&#x27;,\n",
       "       &#x27;lag_16&#x27;, &#x27;lag_17&#x27;, &#x27;lag_18&#x27;, &#x27;lag_19&#x27;, &#x27;lag_20&#x27;, &#x27;lag_21&#x27;, &#x27;lag_22&#x27;,\n",
       "       &#x27;lag_23&#x27;, &#x27;lag_24&#x27;, &#x27;lag_25&#x27;, &#x27;rolling_mean&#x27;],\n",
       "      dtype=&#x27;object&#x27;))])</pre></div> </div></div><div class=\"sk-parallel\"><div class=\"sk-parallel-item\"><div class=\"sk-item\"><div class=\"sk-label-container\"><div class=\"sk-label fitted sk-toggleable\"><input class=\"sk-toggleable__control sk-hidden--visually\" id=\"sk-estimator-id-19\" type=\"checkbox\" ><label for=\"sk-estimator-id-19\" class=\"sk-toggleable__label fitted sk-toggleable__label-arrow fitted\">num</label><div class=\"sk-toggleable__content fitted\"><pre>Index([&#x27;lag_1&#x27;, &#x27;lag_2&#x27;, &#x27;lag_3&#x27;, &#x27;lag_4&#x27;, &#x27;lag_5&#x27;, &#x27;lag_6&#x27;, &#x27;lag_7&#x27;, &#x27;lag_8&#x27;,\n",
       "       &#x27;lag_9&#x27;, &#x27;lag_10&#x27;, &#x27;lag_11&#x27;, &#x27;lag_12&#x27;, &#x27;lag_13&#x27;, &#x27;lag_14&#x27;, &#x27;lag_15&#x27;,\n",
       "       &#x27;lag_16&#x27;, &#x27;lag_17&#x27;, &#x27;lag_18&#x27;, &#x27;lag_19&#x27;, &#x27;lag_20&#x27;, &#x27;lag_21&#x27;, &#x27;lag_22&#x27;,\n",
       "       &#x27;lag_23&#x27;, &#x27;lag_24&#x27;, &#x27;lag_25&#x27;, &#x27;rolling_mean&#x27;],\n",
       "      dtype=&#x27;object&#x27;)</pre></div> </div></div><div class=\"sk-serial\"><div class=\"sk-item\"><div class=\"sk-estimator fitted sk-toggleable\"><input class=\"sk-toggleable__control sk-hidden--visually\" id=\"sk-estimator-id-20\" type=\"checkbox\" ><label for=\"sk-estimator-id-20\" class=\"sk-toggleable__label fitted sk-toggleable__label-arrow fitted\">&nbsp;StandardScaler<a class=\"sk-estimator-doc-link fitted\" rel=\"noreferrer\" target=\"_blank\" href=\"https://scikit-learn.org/1.5/modules/generated/sklearn.preprocessing.StandardScaler.html\">?<span>Documentation for StandardScaler</span></a></label><div class=\"sk-toggleable__content fitted\"><pre>StandardScaler()</pre></div> </div></div></div></div></div><div class=\"sk-parallel-item\"><div class=\"sk-item\"><div class=\"sk-label-container\"><div class=\"sk-label fitted sk-toggleable\"><input class=\"sk-toggleable__control sk-hidden--visually\" id=\"sk-estimator-id-21\" type=\"checkbox\" ><label for=\"sk-estimator-id-21\" class=\"sk-toggleable__label fitted sk-toggleable__label-arrow fitted\">remainder</label><div class=\"sk-toggleable__content fitted\"><pre>[&#x27;month&#x27;, &#x27;day&#x27;, &#x27;dayofweek&#x27;]</pre></div> </div></div><div class=\"sk-serial\"><div class=\"sk-item\"><div class=\"sk-estimator fitted sk-toggleable\"><input class=\"sk-toggleable__control sk-hidden--visually\" id=\"sk-estimator-id-22\" type=\"checkbox\" ><label for=\"sk-estimator-id-22\" class=\"sk-toggleable__label fitted sk-toggleable__label-arrow fitted\">passthrough</label><div class=\"sk-toggleable__content fitted\"><pre>passthrough</pre></div> </div></div></div></div></div></div></div><div class=\"sk-item\"><div class=\"sk-estimator fitted sk-toggleable\"><input class=\"sk-toggleable__control sk-hidden--visually\" id=\"sk-estimator-id-23\" type=\"checkbox\" ><label for=\"sk-estimator-id-23\" class=\"sk-toggleable__label fitted sk-toggleable__label-arrow fitted\">&nbsp;DecisionTreeRegressor<a class=\"sk-estimator-doc-link fitted\" rel=\"noreferrer\" target=\"_blank\" href=\"https://scikit-learn.org/1.5/modules/generated/sklearn.tree.DecisionTreeRegressor.html\">?<span>Documentation for DecisionTreeRegressor</span></a></label><div class=\"sk-toggleable__content fitted\"><pre>DecisionTreeRegressor(max_depth=6, max_features=8, min_samples_split=8,\n",
       "                      random_state=42)</pre></div> </div></div></div></div></div></div></div></div></div></div></div>"
      ],
      "text/plain": [
       "GridSearchCV(cv=TimeSeriesSplit(gap=0, max_train_size=None, n_splits=5, test_size=None),\n",
       "             estimator=Pipeline(steps=[('preprocessor',\n",
       "                                        ColumnTransformer(remainder='passthrough',\n",
       "                                                          transformers=[('num',\n",
       "                                                                         StandardScaler(),\n",
       "                                                                         Index(['lag_1', 'lag_2', 'lag_3', 'lag_4', 'lag_5', 'lag_6', 'lag_7', 'lag_8',\n",
       "       'lag_9', 'lag_10', 'lag_11', 'lag_12', 'lag_13', 'lag_14', 'lag_15',\n",
       "       'lag_16', 'lag_17', 'lag_18', 'lag_19', 'lag_20', 'lag_21', 'lag_22',\n",
       "       'lag_23', 'lag_24', 'lag_25', 'rolling_mean'],\n",
       "      dtype='object'))])),\n",
       "                                       ('model',\n",
       "                                        DecisionTreeRegressor(random_state=42))]),\n",
       "             n_jobs=-1,\n",
       "             param_grid={'model__max_depth': range(2, 10),\n",
       "                         'model__max_features': range(2, 10),\n",
       "                         'model__min_samples_split': range(2, 10)},\n",
       "             scoring='neg_root_mean_squared_error')"
      ]
     },
     "execution_count": 36,
     "metadata": {},
     "output_type": "execute_result"
    }
   ],
   "source": [
    "grid_search_tree.fit(X_train, y_train)"
   ]
  },
  {
   "cell_type": "code",
   "execution_count": 37,
   "metadata": {},
   "outputs": [
    {
     "data": {
      "text/html": [
       "<style>#sk-container-id-4 {\n",
       "  /* Definition of color scheme common for light and dark mode */\n",
       "  --sklearn-color-text: black;\n",
       "  --sklearn-color-line: gray;\n",
       "  /* Definition of color scheme for unfitted estimators */\n",
       "  --sklearn-color-unfitted-level-0: #fff5e6;\n",
       "  --sklearn-color-unfitted-level-1: #f6e4d2;\n",
       "  --sklearn-color-unfitted-level-2: #ffe0b3;\n",
       "  --sklearn-color-unfitted-level-3: chocolate;\n",
       "  /* Definition of color scheme for fitted estimators */\n",
       "  --sklearn-color-fitted-level-0: #f0f8ff;\n",
       "  --sklearn-color-fitted-level-1: #d4ebff;\n",
       "  --sklearn-color-fitted-level-2: #b3dbfd;\n",
       "  --sklearn-color-fitted-level-3: cornflowerblue;\n",
       "\n",
       "  /* Specific color for light theme */\n",
       "  --sklearn-color-text-on-default-background: var(--sg-text-color, var(--theme-code-foreground, var(--jp-content-font-color1, black)));\n",
       "  --sklearn-color-background: var(--sg-background-color, var(--theme-background, var(--jp-layout-color0, white)));\n",
       "  --sklearn-color-border-box: var(--sg-text-color, var(--theme-code-foreground, var(--jp-content-font-color1, black)));\n",
       "  --sklearn-color-icon: #696969;\n",
       "\n",
       "  @media (prefers-color-scheme: dark) {\n",
       "    /* Redefinition of color scheme for dark theme */\n",
       "    --sklearn-color-text-on-default-background: var(--sg-text-color, var(--theme-code-foreground, var(--jp-content-font-color1, white)));\n",
       "    --sklearn-color-background: var(--sg-background-color, var(--theme-background, var(--jp-layout-color0, #111)));\n",
       "    --sklearn-color-border-box: var(--sg-text-color, var(--theme-code-foreground, var(--jp-content-font-color1, white)));\n",
       "    --sklearn-color-icon: #878787;\n",
       "  }\n",
       "}\n",
       "\n",
       "#sk-container-id-4 {\n",
       "  color: var(--sklearn-color-text);\n",
       "}\n",
       "\n",
       "#sk-container-id-4 pre {\n",
       "  padding: 0;\n",
       "}\n",
       "\n",
       "#sk-container-id-4 input.sk-hidden--visually {\n",
       "  border: 0;\n",
       "  clip: rect(1px 1px 1px 1px);\n",
       "  clip: rect(1px, 1px, 1px, 1px);\n",
       "  height: 1px;\n",
       "  margin: -1px;\n",
       "  overflow: hidden;\n",
       "  padding: 0;\n",
       "  position: absolute;\n",
       "  width: 1px;\n",
       "}\n",
       "\n",
       "#sk-container-id-4 div.sk-dashed-wrapped {\n",
       "  border: 1px dashed var(--sklearn-color-line);\n",
       "  margin: 0 0.4em 0.5em 0.4em;\n",
       "  box-sizing: border-box;\n",
       "  padding-bottom: 0.4em;\n",
       "  background-color: var(--sklearn-color-background);\n",
       "}\n",
       "\n",
       "#sk-container-id-4 div.sk-container {\n",
       "  /* jupyter's `normalize.less` sets `[hidden] { display: none; }`\n",
       "     but bootstrap.min.css set `[hidden] { display: none !important; }`\n",
       "     so we also need the `!important` here to be able to override the\n",
       "     default hidden behavior on the sphinx rendered scikit-learn.org.\n",
       "     See: https://github.com/scikit-learn/scikit-learn/issues/21755 */\n",
       "  display: inline-block !important;\n",
       "  position: relative;\n",
       "}\n",
       "\n",
       "#sk-container-id-4 div.sk-text-repr-fallback {\n",
       "  display: none;\n",
       "}\n",
       "\n",
       "div.sk-parallel-item,\n",
       "div.sk-serial,\n",
       "div.sk-item {\n",
       "  /* draw centered vertical line to link estimators */\n",
       "  background-image: linear-gradient(var(--sklearn-color-text-on-default-background), var(--sklearn-color-text-on-default-background));\n",
       "  background-size: 2px 100%;\n",
       "  background-repeat: no-repeat;\n",
       "  background-position: center center;\n",
       "}\n",
       "\n",
       "/* Parallel-specific style estimator block */\n",
       "\n",
       "#sk-container-id-4 div.sk-parallel-item::after {\n",
       "  content: \"\";\n",
       "  width: 100%;\n",
       "  border-bottom: 2px solid var(--sklearn-color-text-on-default-background);\n",
       "  flex-grow: 1;\n",
       "}\n",
       "\n",
       "#sk-container-id-4 div.sk-parallel {\n",
       "  display: flex;\n",
       "  align-items: stretch;\n",
       "  justify-content: center;\n",
       "  background-color: var(--sklearn-color-background);\n",
       "  position: relative;\n",
       "}\n",
       "\n",
       "#sk-container-id-4 div.sk-parallel-item {\n",
       "  display: flex;\n",
       "  flex-direction: column;\n",
       "}\n",
       "\n",
       "#sk-container-id-4 div.sk-parallel-item:first-child::after {\n",
       "  align-self: flex-end;\n",
       "  width: 50%;\n",
       "}\n",
       "\n",
       "#sk-container-id-4 div.sk-parallel-item:last-child::after {\n",
       "  align-self: flex-start;\n",
       "  width: 50%;\n",
       "}\n",
       "\n",
       "#sk-container-id-4 div.sk-parallel-item:only-child::after {\n",
       "  width: 0;\n",
       "}\n",
       "\n",
       "/* Serial-specific style estimator block */\n",
       "\n",
       "#sk-container-id-4 div.sk-serial {\n",
       "  display: flex;\n",
       "  flex-direction: column;\n",
       "  align-items: center;\n",
       "  background-color: var(--sklearn-color-background);\n",
       "  padding-right: 1em;\n",
       "  padding-left: 1em;\n",
       "}\n",
       "\n",
       "\n",
       "/* Toggleable style: style used for estimator/Pipeline/ColumnTransformer box that is\n",
       "clickable and can be expanded/collapsed.\n",
       "- Pipeline and ColumnTransformer use this feature and define the default style\n",
       "- Estimators will overwrite some part of the style using the `sk-estimator` class\n",
       "*/\n",
       "\n",
       "/* Pipeline and ColumnTransformer style (default) */\n",
       "\n",
       "#sk-container-id-4 div.sk-toggleable {\n",
       "  /* Default theme specific background. It is overwritten whether we have a\n",
       "  specific estimator or a Pipeline/ColumnTransformer */\n",
       "  background-color: var(--sklearn-color-background);\n",
       "}\n",
       "\n",
       "/* Toggleable label */\n",
       "#sk-container-id-4 label.sk-toggleable__label {\n",
       "  cursor: pointer;\n",
       "  display: block;\n",
       "  width: 100%;\n",
       "  margin-bottom: 0;\n",
       "  padding: 0.5em;\n",
       "  box-sizing: border-box;\n",
       "  text-align: center;\n",
       "}\n",
       "\n",
       "#sk-container-id-4 label.sk-toggleable__label-arrow:before {\n",
       "  /* Arrow on the left of the label */\n",
       "  content: \"▸\";\n",
       "  float: left;\n",
       "  margin-right: 0.25em;\n",
       "  color: var(--sklearn-color-icon);\n",
       "}\n",
       "\n",
       "#sk-container-id-4 label.sk-toggleable__label-arrow:hover:before {\n",
       "  color: var(--sklearn-color-text);\n",
       "}\n",
       "\n",
       "/* Toggleable content - dropdown */\n",
       "\n",
       "#sk-container-id-4 div.sk-toggleable__content {\n",
       "  max-height: 0;\n",
       "  max-width: 0;\n",
       "  overflow: hidden;\n",
       "  text-align: left;\n",
       "  /* unfitted */\n",
       "  background-color: var(--sklearn-color-unfitted-level-0);\n",
       "}\n",
       "\n",
       "#sk-container-id-4 div.sk-toggleable__content.fitted {\n",
       "  /* fitted */\n",
       "  background-color: var(--sklearn-color-fitted-level-0);\n",
       "}\n",
       "\n",
       "#sk-container-id-4 div.sk-toggleable__content pre {\n",
       "  margin: 0.2em;\n",
       "  border-radius: 0.25em;\n",
       "  color: var(--sklearn-color-text);\n",
       "  /* unfitted */\n",
       "  background-color: var(--sklearn-color-unfitted-level-0);\n",
       "}\n",
       "\n",
       "#sk-container-id-4 div.sk-toggleable__content.fitted pre {\n",
       "  /* unfitted */\n",
       "  background-color: var(--sklearn-color-fitted-level-0);\n",
       "}\n",
       "\n",
       "#sk-container-id-4 input.sk-toggleable__control:checked~div.sk-toggleable__content {\n",
       "  /* Expand drop-down */\n",
       "  max-height: 200px;\n",
       "  max-width: 100%;\n",
       "  overflow: auto;\n",
       "}\n",
       "\n",
       "#sk-container-id-4 input.sk-toggleable__control:checked~label.sk-toggleable__label-arrow:before {\n",
       "  content: \"▾\";\n",
       "}\n",
       "\n",
       "/* Pipeline/ColumnTransformer-specific style */\n",
       "\n",
       "#sk-container-id-4 div.sk-label input.sk-toggleable__control:checked~label.sk-toggleable__label {\n",
       "  color: var(--sklearn-color-text);\n",
       "  background-color: var(--sklearn-color-unfitted-level-2);\n",
       "}\n",
       "\n",
       "#sk-container-id-4 div.sk-label.fitted input.sk-toggleable__control:checked~label.sk-toggleable__label {\n",
       "  background-color: var(--sklearn-color-fitted-level-2);\n",
       "}\n",
       "\n",
       "/* Estimator-specific style */\n",
       "\n",
       "/* Colorize estimator box */\n",
       "#sk-container-id-4 div.sk-estimator input.sk-toggleable__control:checked~label.sk-toggleable__label {\n",
       "  /* unfitted */\n",
       "  background-color: var(--sklearn-color-unfitted-level-2);\n",
       "}\n",
       "\n",
       "#sk-container-id-4 div.sk-estimator.fitted input.sk-toggleable__control:checked~label.sk-toggleable__label {\n",
       "  /* fitted */\n",
       "  background-color: var(--sklearn-color-fitted-level-2);\n",
       "}\n",
       "\n",
       "#sk-container-id-4 div.sk-label label.sk-toggleable__label,\n",
       "#sk-container-id-4 div.sk-label label {\n",
       "  /* The background is the default theme color */\n",
       "  color: var(--sklearn-color-text-on-default-background);\n",
       "}\n",
       "\n",
       "/* On hover, darken the color of the background */\n",
       "#sk-container-id-4 div.sk-label:hover label.sk-toggleable__label {\n",
       "  color: var(--sklearn-color-text);\n",
       "  background-color: var(--sklearn-color-unfitted-level-2);\n",
       "}\n",
       "\n",
       "/* Label box, darken color on hover, fitted */\n",
       "#sk-container-id-4 div.sk-label.fitted:hover label.sk-toggleable__label.fitted {\n",
       "  color: var(--sklearn-color-text);\n",
       "  background-color: var(--sklearn-color-fitted-level-2);\n",
       "}\n",
       "\n",
       "/* Estimator label */\n",
       "\n",
       "#sk-container-id-4 div.sk-label label {\n",
       "  font-family: monospace;\n",
       "  font-weight: bold;\n",
       "  display: inline-block;\n",
       "  line-height: 1.2em;\n",
       "}\n",
       "\n",
       "#sk-container-id-4 div.sk-label-container {\n",
       "  text-align: center;\n",
       "}\n",
       "\n",
       "/* Estimator-specific */\n",
       "#sk-container-id-4 div.sk-estimator {\n",
       "  font-family: monospace;\n",
       "  border: 1px dotted var(--sklearn-color-border-box);\n",
       "  border-radius: 0.25em;\n",
       "  box-sizing: border-box;\n",
       "  margin-bottom: 0.5em;\n",
       "  /* unfitted */\n",
       "  background-color: var(--sklearn-color-unfitted-level-0);\n",
       "}\n",
       "\n",
       "#sk-container-id-4 div.sk-estimator.fitted {\n",
       "  /* fitted */\n",
       "  background-color: var(--sklearn-color-fitted-level-0);\n",
       "}\n",
       "\n",
       "/* on hover */\n",
       "#sk-container-id-4 div.sk-estimator:hover {\n",
       "  /* unfitted */\n",
       "  background-color: var(--sklearn-color-unfitted-level-2);\n",
       "}\n",
       "\n",
       "#sk-container-id-4 div.sk-estimator.fitted:hover {\n",
       "  /* fitted */\n",
       "  background-color: var(--sklearn-color-fitted-level-2);\n",
       "}\n",
       "\n",
       "/* Specification for estimator info (e.g. \"i\" and \"?\") */\n",
       "\n",
       "/* Common style for \"i\" and \"?\" */\n",
       "\n",
       ".sk-estimator-doc-link,\n",
       "a:link.sk-estimator-doc-link,\n",
       "a:visited.sk-estimator-doc-link {\n",
       "  float: right;\n",
       "  font-size: smaller;\n",
       "  line-height: 1em;\n",
       "  font-family: monospace;\n",
       "  background-color: var(--sklearn-color-background);\n",
       "  border-radius: 1em;\n",
       "  height: 1em;\n",
       "  width: 1em;\n",
       "  text-decoration: none !important;\n",
       "  margin-left: 1ex;\n",
       "  /* unfitted */\n",
       "  border: var(--sklearn-color-unfitted-level-1) 1pt solid;\n",
       "  color: var(--sklearn-color-unfitted-level-1);\n",
       "}\n",
       "\n",
       ".sk-estimator-doc-link.fitted,\n",
       "a:link.sk-estimator-doc-link.fitted,\n",
       "a:visited.sk-estimator-doc-link.fitted {\n",
       "  /* fitted */\n",
       "  border: var(--sklearn-color-fitted-level-1) 1pt solid;\n",
       "  color: var(--sklearn-color-fitted-level-1);\n",
       "}\n",
       "\n",
       "/* On hover */\n",
       "div.sk-estimator:hover .sk-estimator-doc-link:hover,\n",
       ".sk-estimator-doc-link:hover,\n",
       "div.sk-label-container:hover .sk-estimator-doc-link:hover,\n",
       ".sk-estimator-doc-link:hover {\n",
       "  /* unfitted */\n",
       "  background-color: var(--sklearn-color-unfitted-level-3);\n",
       "  color: var(--sklearn-color-background);\n",
       "  text-decoration: none;\n",
       "}\n",
       "\n",
       "div.sk-estimator.fitted:hover .sk-estimator-doc-link.fitted:hover,\n",
       ".sk-estimator-doc-link.fitted:hover,\n",
       "div.sk-label-container:hover .sk-estimator-doc-link.fitted:hover,\n",
       ".sk-estimator-doc-link.fitted:hover {\n",
       "  /* fitted */\n",
       "  background-color: var(--sklearn-color-fitted-level-3);\n",
       "  color: var(--sklearn-color-background);\n",
       "  text-decoration: none;\n",
       "}\n",
       "\n",
       "/* Span, style for the box shown on hovering the info icon */\n",
       ".sk-estimator-doc-link span {\n",
       "  display: none;\n",
       "  z-index: 9999;\n",
       "  position: relative;\n",
       "  font-weight: normal;\n",
       "  right: .2ex;\n",
       "  padding: .5ex;\n",
       "  margin: .5ex;\n",
       "  width: min-content;\n",
       "  min-width: 20ex;\n",
       "  max-width: 50ex;\n",
       "  color: var(--sklearn-color-text);\n",
       "  box-shadow: 2pt 2pt 4pt #999;\n",
       "  /* unfitted */\n",
       "  background: var(--sklearn-color-unfitted-level-0);\n",
       "  border: .5pt solid var(--sklearn-color-unfitted-level-3);\n",
       "}\n",
       "\n",
       ".sk-estimator-doc-link.fitted span {\n",
       "  /* fitted */\n",
       "  background: var(--sklearn-color-fitted-level-0);\n",
       "  border: var(--sklearn-color-fitted-level-3);\n",
       "}\n",
       "\n",
       ".sk-estimator-doc-link:hover span {\n",
       "  display: block;\n",
       "}\n",
       "\n",
       "/* \"?\"-specific style due to the `<a>` HTML tag */\n",
       "\n",
       "#sk-container-id-4 a.estimator_doc_link {\n",
       "  float: right;\n",
       "  font-size: 1rem;\n",
       "  line-height: 1em;\n",
       "  font-family: monospace;\n",
       "  background-color: var(--sklearn-color-background);\n",
       "  border-radius: 1rem;\n",
       "  height: 1rem;\n",
       "  width: 1rem;\n",
       "  text-decoration: none;\n",
       "  /* unfitted */\n",
       "  color: var(--sklearn-color-unfitted-level-1);\n",
       "  border: var(--sklearn-color-unfitted-level-1) 1pt solid;\n",
       "}\n",
       "\n",
       "#sk-container-id-4 a.estimator_doc_link.fitted {\n",
       "  /* fitted */\n",
       "  border: var(--sklearn-color-fitted-level-1) 1pt solid;\n",
       "  color: var(--sklearn-color-fitted-level-1);\n",
       "}\n",
       "\n",
       "/* On hover */\n",
       "#sk-container-id-4 a.estimator_doc_link:hover {\n",
       "  /* unfitted */\n",
       "  background-color: var(--sklearn-color-unfitted-level-3);\n",
       "  color: var(--sklearn-color-background);\n",
       "  text-decoration: none;\n",
       "}\n",
       "\n",
       "#sk-container-id-4 a.estimator_doc_link.fitted:hover {\n",
       "  /* fitted */\n",
       "  background-color: var(--sklearn-color-fitted-level-3);\n",
       "}\n",
       "</style><div id=\"sk-container-id-4\" class=\"sk-top-container\"><div class=\"sk-text-repr-fallback\"><pre>Pipeline(steps=[(&#x27;preprocessor&#x27;,\n",
       "                 ColumnTransformer(remainder=&#x27;passthrough&#x27;,\n",
       "                                   transformers=[(&#x27;num&#x27;, StandardScaler(),\n",
       "                                                  Index([&#x27;lag_1&#x27;, &#x27;lag_2&#x27;, &#x27;lag_3&#x27;, &#x27;lag_4&#x27;, &#x27;lag_5&#x27;, &#x27;lag_6&#x27;, &#x27;lag_7&#x27;, &#x27;lag_8&#x27;,\n",
       "       &#x27;lag_9&#x27;, &#x27;lag_10&#x27;, &#x27;lag_11&#x27;, &#x27;lag_12&#x27;, &#x27;lag_13&#x27;, &#x27;lag_14&#x27;, &#x27;lag_15&#x27;,\n",
       "       &#x27;lag_16&#x27;, &#x27;lag_17&#x27;, &#x27;lag_18&#x27;, &#x27;lag_19&#x27;, &#x27;lag_20&#x27;, &#x27;lag_21&#x27;, &#x27;lag_22&#x27;,\n",
       "       &#x27;lag_23&#x27;, &#x27;lag_24&#x27;, &#x27;lag_25&#x27;, &#x27;rolling_mean&#x27;],\n",
       "      dtype=&#x27;object&#x27;))])),\n",
       "                (&#x27;model&#x27;,\n",
       "                 DecisionTreeRegressor(max_depth=6, max_features=8,\n",
       "                                       min_samples_split=8, random_state=42))])</pre><b>In a Jupyter environment, please rerun this cell to show the HTML representation or trust the notebook. <br />On GitHub, the HTML representation is unable to render, please try loading this page with nbviewer.org.</b></div><div class=\"sk-container\" hidden><div class=\"sk-item sk-dashed-wrapped\"><div class=\"sk-label-container\"><div class=\"sk-label fitted sk-toggleable\"><input class=\"sk-toggleable__control sk-hidden--visually\" id=\"sk-estimator-id-24\" type=\"checkbox\" ><label for=\"sk-estimator-id-24\" class=\"sk-toggleable__label fitted sk-toggleable__label-arrow fitted\">&nbsp;&nbsp;Pipeline<a class=\"sk-estimator-doc-link fitted\" rel=\"noreferrer\" target=\"_blank\" href=\"https://scikit-learn.org/1.5/modules/generated/sklearn.pipeline.Pipeline.html\">?<span>Documentation for Pipeline</span></a><span class=\"sk-estimator-doc-link fitted\">i<span>Fitted</span></span></label><div class=\"sk-toggleable__content fitted\"><pre>Pipeline(steps=[(&#x27;preprocessor&#x27;,\n",
       "                 ColumnTransformer(remainder=&#x27;passthrough&#x27;,\n",
       "                                   transformers=[(&#x27;num&#x27;, StandardScaler(),\n",
       "                                                  Index([&#x27;lag_1&#x27;, &#x27;lag_2&#x27;, &#x27;lag_3&#x27;, &#x27;lag_4&#x27;, &#x27;lag_5&#x27;, &#x27;lag_6&#x27;, &#x27;lag_7&#x27;, &#x27;lag_8&#x27;,\n",
       "       &#x27;lag_9&#x27;, &#x27;lag_10&#x27;, &#x27;lag_11&#x27;, &#x27;lag_12&#x27;, &#x27;lag_13&#x27;, &#x27;lag_14&#x27;, &#x27;lag_15&#x27;,\n",
       "       &#x27;lag_16&#x27;, &#x27;lag_17&#x27;, &#x27;lag_18&#x27;, &#x27;lag_19&#x27;, &#x27;lag_20&#x27;, &#x27;lag_21&#x27;, &#x27;lag_22&#x27;,\n",
       "       &#x27;lag_23&#x27;, &#x27;lag_24&#x27;, &#x27;lag_25&#x27;, &#x27;rolling_mean&#x27;],\n",
       "      dtype=&#x27;object&#x27;))])),\n",
       "                (&#x27;model&#x27;,\n",
       "                 DecisionTreeRegressor(max_depth=6, max_features=8,\n",
       "                                       min_samples_split=8, random_state=42))])</pre></div> </div></div><div class=\"sk-serial\"><div class=\"sk-item sk-dashed-wrapped\"><div class=\"sk-label-container\"><div class=\"sk-label fitted sk-toggleable\"><input class=\"sk-toggleable__control sk-hidden--visually\" id=\"sk-estimator-id-25\" type=\"checkbox\" ><label for=\"sk-estimator-id-25\" class=\"sk-toggleable__label fitted sk-toggleable__label-arrow fitted\">&nbsp;preprocessor: ColumnTransformer<a class=\"sk-estimator-doc-link fitted\" rel=\"noreferrer\" target=\"_blank\" href=\"https://scikit-learn.org/1.5/modules/generated/sklearn.compose.ColumnTransformer.html\">?<span>Documentation for preprocessor: ColumnTransformer</span></a></label><div class=\"sk-toggleable__content fitted\"><pre>ColumnTransformer(remainder=&#x27;passthrough&#x27;,\n",
       "                  transformers=[(&#x27;num&#x27;, StandardScaler(),\n",
       "                                 Index([&#x27;lag_1&#x27;, &#x27;lag_2&#x27;, &#x27;lag_3&#x27;, &#x27;lag_4&#x27;, &#x27;lag_5&#x27;, &#x27;lag_6&#x27;, &#x27;lag_7&#x27;, &#x27;lag_8&#x27;,\n",
       "       &#x27;lag_9&#x27;, &#x27;lag_10&#x27;, &#x27;lag_11&#x27;, &#x27;lag_12&#x27;, &#x27;lag_13&#x27;, &#x27;lag_14&#x27;, &#x27;lag_15&#x27;,\n",
       "       &#x27;lag_16&#x27;, &#x27;lag_17&#x27;, &#x27;lag_18&#x27;, &#x27;lag_19&#x27;, &#x27;lag_20&#x27;, &#x27;lag_21&#x27;, &#x27;lag_22&#x27;,\n",
       "       &#x27;lag_23&#x27;, &#x27;lag_24&#x27;, &#x27;lag_25&#x27;, &#x27;rolling_mean&#x27;],\n",
       "      dtype=&#x27;object&#x27;))])</pre></div> </div></div><div class=\"sk-parallel\"><div class=\"sk-parallel-item\"><div class=\"sk-item\"><div class=\"sk-label-container\"><div class=\"sk-label fitted sk-toggleable\"><input class=\"sk-toggleable__control sk-hidden--visually\" id=\"sk-estimator-id-26\" type=\"checkbox\" ><label for=\"sk-estimator-id-26\" class=\"sk-toggleable__label fitted sk-toggleable__label-arrow fitted\">num</label><div class=\"sk-toggleable__content fitted\"><pre>Index([&#x27;lag_1&#x27;, &#x27;lag_2&#x27;, &#x27;lag_3&#x27;, &#x27;lag_4&#x27;, &#x27;lag_5&#x27;, &#x27;lag_6&#x27;, &#x27;lag_7&#x27;, &#x27;lag_8&#x27;,\n",
       "       &#x27;lag_9&#x27;, &#x27;lag_10&#x27;, &#x27;lag_11&#x27;, &#x27;lag_12&#x27;, &#x27;lag_13&#x27;, &#x27;lag_14&#x27;, &#x27;lag_15&#x27;,\n",
       "       &#x27;lag_16&#x27;, &#x27;lag_17&#x27;, &#x27;lag_18&#x27;, &#x27;lag_19&#x27;, &#x27;lag_20&#x27;, &#x27;lag_21&#x27;, &#x27;lag_22&#x27;,\n",
       "       &#x27;lag_23&#x27;, &#x27;lag_24&#x27;, &#x27;lag_25&#x27;, &#x27;rolling_mean&#x27;],\n",
       "      dtype=&#x27;object&#x27;)</pre></div> </div></div><div class=\"sk-serial\"><div class=\"sk-item\"><div class=\"sk-estimator fitted sk-toggleable\"><input class=\"sk-toggleable__control sk-hidden--visually\" id=\"sk-estimator-id-27\" type=\"checkbox\" ><label for=\"sk-estimator-id-27\" class=\"sk-toggleable__label fitted sk-toggleable__label-arrow fitted\">&nbsp;StandardScaler<a class=\"sk-estimator-doc-link fitted\" rel=\"noreferrer\" target=\"_blank\" href=\"https://scikit-learn.org/1.5/modules/generated/sklearn.preprocessing.StandardScaler.html\">?<span>Documentation for StandardScaler</span></a></label><div class=\"sk-toggleable__content fitted\"><pre>StandardScaler()</pre></div> </div></div></div></div></div><div class=\"sk-parallel-item\"><div class=\"sk-item\"><div class=\"sk-label-container\"><div class=\"sk-label fitted sk-toggleable\"><input class=\"sk-toggleable__control sk-hidden--visually\" id=\"sk-estimator-id-28\" type=\"checkbox\" ><label for=\"sk-estimator-id-28\" class=\"sk-toggleable__label fitted sk-toggleable__label-arrow fitted\">remainder</label><div class=\"sk-toggleable__content fitted\"><pre>[&#x27;month&#x27;, &#x27;day&#x27;, &#x27;dayofweek&#x27;]</pre></div> </div></div><div class=\"sk-serial\"><div class=\"sk-item\"><div class=\"sk-estimator fitted sk-toggleable\"><input class=\"sk-toggleable__control sk-hidden--visually\" id=\"sk-estimator-id-29\" type=\"checkbox\" ><label for=\"sk-estimator-id-29\" class=\"sk-toggleable__label fitted sk-toggleable__label-arrow fitted\">passthrough</label><div class=\"sk-toggleable__content fitted\"><pre>passthrough</pre></div> </div></div></div></div></div></div></div><div class=\"sk-item\"><div class=\"sk-estimator fitted sk-toggleable\"><input class=\"sk-toggleable__control sk-hidden--visually\" id=\"sk-estimator-id-30\" type=\"checkbox\" ><label for=\"sk-estimator-id-30\" class=\"sk-toggleable__label fitted sk-toggleable__label-arrow fitted\">&nbsp;DecisionTreeRegressor<a class=\"sk-estimator-doc-link fitted\" rel=\"noreferrer\" target=\"_blank\" href=\"https://scikit-learn.org/1.5/modules/generated/sklearn.tree.DecisionTreeRegressor.html\">?<span>Documentation for DecisionTreeRegressor</span></a></label><div class=\"sk-toggleable__content fitted\"><pre>DecisionTreeRegressor(max_depth=6, max_features=8, min_samples_split=8,\n",
       "                      random_state=42)</pre></div> </div></div></div></div></div></div>"
      ],
      "text/plain": [
       "Pipeline(steps=[('preprocessor',\n",
       "                 ColumnTransformer(remainder='passthrough',\n",
       "                                   transformers=[('num', StandardScaler(),\n",
       "                                                  Index(['lag_1', 'lag_2', 'lag_3', 'lag_4', 'lag_5', 'lag_6', 'lag_7', 'lag_8',\n",
       "       'lag_9', 'lag_10', 'lag_11', 'lag_12', 'lag_13', 'lag_14', 'lag_15',\n",
       "       'lag_16', 'lag_17', 'lag_18', 'lag_19', 'lag_20', 'lag_21', 'lag_22',\n",
       "       'lag_23', 'lag_24', 'lag_25', 'rolling_mean'],\n",
       "      dtype='object'))])),\n",
       "                ('model',\n",
       "                 DecisionTreeRegressor(max_depth=6, max_features=8,\n",
       "                                       min_samples_split=8, random_state=42))])"
      ]
     },
     "execution_count": 37,
     "metadata": {},
     "output_type": "execute_result"
    }
   ],
   "source": [
    "grid_search_tree.best_estimator_.fit(X_train, y_train)"
   ]
  },
  {
   "cell_type": "code",
   "execution_count": 38,
   "metadata": {},
   "outputs": [
    {
     "name": "stdout",
     "output_type": "stream",
     "text": [
      "RMSE на кросс-валидации 29.565010738673454\n"
     ]
    }
   ],
   "source": [
    "print('RMSE на кросс-валидации', -grid_search_tree.best_score_)"
   ]
  },
  {
   "cell_type": "code",
   "execution_count": 39,
   "metadata": {},
   "outputs": [
    {
     "name": "stdout",
     "output_type": "stream",
     "text": [
      "RMSE на тренировочной выборке:  25.66862046405886\n"
     ]
    }
   ],
   "source": [
    "y_pred_train = grid_search_tree.best_estimator_.predict(X_train)\n",
    "print('RMSE на тренировочной выборке: ', mean_squared_error(y_train, y_pred_train, squared=False))"
   ]
  },
  {
   "cell_type": "markdown",
   "metadata": {},
   "source": [
    "**В данной части проекта была обучена модель линейной регрессии для прогнозирования количества заказов в час. Произведено распределение признаков по типу кодирования. Данные резъединены на тестовую и тренировочную выборку, а также выделен таргет. Тестовая выборка составляет 10% от всего датасета. Модель была найдена на кросс-валидации с параметрами кодирования количественных признаков. В GridSearch применён специальный инструмент TimeSeriesSplit для корректного разъединения данных при поиске гиперпараметров.**"
   ]
  },
  {
   "cell_type": "markdown",
   "metadata": {},
   "source": [
    "## Тестирование"
   ]
  },
  {
   "cell_type": "code",
   "execution_count": 40,
   "metadata": {
    "scrolled": true
   },
   "outputs": [
    {
     "name": "stdout",
     "output_type": "stream",
     "text": [
      "RMSE на тренировочной выборке:  45.671435011292914\n"
     ]
    }
   ],
   "source": [
    "y_pred_test = grid_search.best_estimator_.predict(X_test)\n",
    "print('RMSE на тренировочной выборке: ', mean_squared_error(y_test, y_pred_test, squared=False))"
   ]
  },
  {
   "cell_type": "code",
   "execution_count": 41,
   "metadata": {},
   "outputs": [
    {
     "data": {
      "image/png": "[encoded data removed]",
      "text/plain": [
       "<Figure size 800x600 with 1 Axes>"
      ]
     },
     "metadata": {},
     "output_type": "display_data"
    }
   ],
   "source": [
    "plt.figure(figsize=(8,6))\n",
    "plt.plot(y_pred_test, color='r', label='Предсказанное')\n",
    "plt.plot(y_test, color='b', label='Тестовые')\n",
    "plt.xlabel('Индекс наблюдения')\n",
    "plt.ylabel('Количество заказов')\n",
    "plt.title('График соотношения предсказанных и тестовых значений')\n",
    "plt.legend()\n",
    "plt.show()"
   ]
  },
  {
   "cell_type": "markdown",
   "metadata": {},
   "source": [
    "**Тестирование обученой модели**"
   ]
  },
  {
   "cell_type": "code",
   "execution_count": null,
   "metadata": {},
   "outputs": [],
   "source": []
  }
 ],
 "metadata": {
  "ExecuteTimeLog": [
   {
    "duration": 874,
    "start_time": "2024-09-23T18:42:55.206Z"
   },
   {
    "duration": 175,
    "start_time": "2024-09-23T18:43:42.352Z"
   },
   {
    "duration": 15,
    "start_time": "2024-09-23T18:43:53.596Z"
   },
   {
    "duration": 14,
    "start_time": "2024-09-23T18:44:03.409Z"
   },
   {
    "duration": 110,
    "start_time": "2024-09-23T18:44:43.405Z"
   },
   {
    "duration": 16,
    "start_time": "2024-09-23T18:45:17.520Z"
   },
   {
    "duration": 10,
    "start_time": "2024-09-23T18:45:24.699Z"
   },
   {
    "duration": 15,
    "start_time": "2024-09-23T18:46:45.853Z"
   },
   {
    "duration": 10,
    "start_time": "2024-09-23T18:47:27.125Z"
   },
   {
    "duration": 15,
    "start_time": "2024-09-23T18:47:47.500Z"
   },
   {
    "duration": 10,
    "start_time": "2024-09-23T18:48:05.429Z"
   },
   {
    "duration": 15,
    "start_time": "2024-09-23T18:48:17.855Z"
   },
   {
    "duration": 5,
    "start_time": "2024-09-23T18:48:23.305Z"
   },
   {
    "duration": 14,
    "start_time": "2024-09-23T18:48:32.143Z"
   },
   {
    "duration": 7,
    "start_time": "2024-09-23T18:48:58.737Z"
   },
   {
    "duration": 47,
    "start_time": "2024-09-23T18:49:33.235Z"
   },
   {
    "duration": 7,
    "start_time": "2024-09-23T18:50:07.709Z"
   },
   {
    "duration": 18,
    "start_time": "2024-09-23T18:50:25.309Z"
   },
   {
    "duration": 3,
    "start_time": "2024-09-23T18:50:38.442Z"
   },
   {
    "duration": 53,
    "start_time": "2024-09-23T18:50:38.838Z"
   },
   {
    "duration": 12,
    "start_time": "2024-09-23T18:50:39.328Z"
   },
   {
    "duration": 7,
    "start_time": "2024-09-23T18:50:39.714Z"
   },
   {
    "duration": 9,
    "start_time": "2024-09-23T18:50:40.200Z"
   },
   {
    "duration": 4,
    "start_time": "2024-09-23T18:50:40.867Z"
   },
   {
    "duration": 7,
    "start_time": "2024-09-23T18:50:41.459Z"
   },
   {
    "duration": 6,
    "start_time": "2024-09-23T18:52:28.540Z"
   },
   {
    "duration": 4522,
    "start_time": "2024-09-23T18:53:11.844Z"
   },
   {
    "duration": 736,
    "start_time": "2024-09-23T18:53:36.188Z"
   },
   {
    "duration": 43,
    "start_time": "2024-09-23T18:55:24.579Z"
   },
   {
    "duration": 1769,
    "start_time": "2024-09-23T18:55:42.905Z"
   },
   {
    "duration": 1439,
    "start_time": "2024-09-23T18:59:14.505Z"
   },
   {
    "duration": 91,
    "start_time": "2024-09-23T18:59:17.261Z"
   },
   {
    "duration": 86,
    "start_time": "2024-09-23T19:01:04.070Z"
   },
   {
    "duration": 1502,
    "start_time": "2024-09-23T19:01:28.666Z"
   },
   {
    "duration": 142,
    "start_time": "2024-09-23T19:01:30.170Z"
   },
   {
    "duration": 4,
    "start_time": "2024-09-23T19:05:10.224Z"
   },
   {
    "duration": 12,
    "start_time": "2024-09-23T19:06:16.576Z"
   },
   {
    "duration": 30,
    "start_time": "2024-09-23T19:06:16.933Z"
   },
   {
    "duration": 1645,
    "start_time": "2024-09-23T19:06:32.001Z"
   },
   {
    "duration": 32,
    "start_time": "2024-09-23T19:06:34.713Z"
   },
   {
    "duration": 181,
    "start_time": "2024-09-23T19:09:36.836Z"
   },
   {
    "duration": 172,
    "start_time": "2024-09-23T19:09:44.886Z"
   },
   {
    "duration": 166,
    "start_time": "2024-09-23T19:09:50.253Z"
   },
   {
    "duration": 171,
    "start_time": "2024-09-23T19:09:57.635Z"
   },
   {
    "duration": 158,
    "start_time": "2024-09-23T19:10:11.473Z"
   },
   {
    "duration": 5,
    "start_time": "2024-09-23T19:12:17.105Z"
   },
   {
    "duration": 10,
    "start_time": "2024-09-23T19:12:29.313Z"
   },
   {
    "duration": 10,
    "start_time": "2024-09-23T19:12:53.584Z"
   },
   {
    "duration": 10,
    "start_time": "2024-09-23T19:12:57.095Z"
   },
   {
    "duration": 9,
    "start_time": "2024-09-23T19:13:10.769Z"
   },
   {
    "duration": 4,
    "start_time": "2024-09-23T19:13:29.239Z"
   },
   {
    "duration": 10,
    "start_time": "2024-09-23T19:13:34.288Z"
   },
   {
    "duration": 225,
    "start_time": "2024-09-23T19:13:40.382Z"
   },
   {
    "duration": 242,
    "start_time": "2024-09-23T19:15:01.954Z"
   },
   {
    "duration": 361,
    "start_time": "2024-09-23T19:15:06.743Z"
   },
   {
    "duration": 223,
    "start_time": "2024-09-23T19:15:10.702Z"
   },
   {
    "duration": 12,
    "start_time": "2024-09-23T19:15:52.648Z"
   },
   {
    "duration": 217,
    "start_time": "2024-09-23T19:19:49.945Z"
   },
   {
    "duration": 233,
    "start_time": "2024-09-23T19:25:48.130Z"
   },
   {
    "duration": 274,
    "start_time": "2024-09-23T19:28:30.814Z"
   },
   {
    "duration": 104,
    "start_time": "2024-09-23T19:29:08.661Z"
   },
   {
    "duration": 10,
    "start_time": "2024-09-23T19:29:27.940Z"
   },
   {
    "duration": 246,
    "start_time": "2024-09-23T19:29:55.635Z"
   },
   {
    "duration": 600,
    "start_time": "2024-09-23T19:30:02.689Z"
   },
   {
    "duration": 53,
    "start_time": "2024-09-23T19:31:46.437Z"
   },
   {
    "duration": 178,
    "start_time": "2024-09-23T19:31:51.231Z"
   },
   {
    "duration": 173,
    "start_time": "2024-09-23T19:32:12.036Z"
   },
   {
    "duration": 525,
    "start_time": "2024-09-23T19:32:33.924Z"
   },
   {
    "duration": 489,
    "start_time": "2024-09-23T19:33:00.046Z"
   },
   {
    "duration": 10,
    "start_time": "2024-09-23T19:33:55.837Z"
   },
   {
    "duration": 180,
    "start_time": "2024-09-23T19:34:05.843Z"
   },
   {
    "duration": 10,
    "start_time": "2024-09-23T19:36:27.387Z"
   },
   {
    "duration": 3,
    "start_time": "2024-09-23T19:36:59.113Z"
   },
   {
    "duration": 165,
    "start_time": "2024-09-23T19:37:07.305Z"
   },
   {
    "duration": 187,
    "start_time": "2024-09-23T19:37:41.500Z"
   },
   {
    "duration": 197,
    "start_time": "2024-09-23T19:38:14.052Z"
   },
   {
    "duration": 190,
    "start_time": "2024-09-23T19:38:21.227Z"
   },
   {
    "duration": 194,
    "start_time": "2024-09-23T19:38:25.982Z"
   },
   {
    "duration": 191,
    "start_time": "2024-09-23T19:38:34.794Z"
   },
   {
    "duration": 192,
    "start_time": "2024-09-23T19:38:51.826Z"
   },
   {
    "duration": 15,
    "start_time": "2024-09-23T19:40:07.835Z"
   },
   {
    "duration": 22,
    "start_time": "2024-09-23T19:40:31.473Z"
   },
   {
    "duration": 8,
    "start_time": "2024-09-23T19:40:54.420Z"
   },
   {
    "duration": 10,
    "start_time": "2024-09-23T19:41:22.259Z"
   },
   {
    "duration": 345,
    "start_time": "2024-09-23T19:41:29.170Z"
   },
   {
    "duration": 221,
    "start_time": "2024-09-23T19:42:09.448Z"
   },
   {
    "duration": 236,
    "start_time": "2024-09-23T19:42:57.159Z"
   },
   {
    "duration": 342,
    "start_time": "2024-09-23T19:43:33.538Z"
   },
   {
    "duration": 275,
    "start_time": "2024-09-23T19:43:45.404Z"
   },
   {
    "duration": 286,
    "start_time": "2024-09-23T19:43:54.272Z"
   },
   {
    "duration": 276,
    "start_time": "2024-09-23T19:44:02.004Z"
   },
   {
    "duration": 14,
    "start_time": "2024-09-23T19:44:21.600Z"
   },
   {
    "duration": 147,
    "start_time": "2024-09-23T19:44:28.373Z"
   },
   {
    "duration": 154,
    "start_time": "2024-09-23T19:44:56.271Z"
   },
   {
    "duration": 179,
    "start_time": "2024-09-23T19:45:03.829Z"
   },
   {
    "duration": 186,
    "start_time": "2024-09-23T19:45:45.169Z"
   },
   {
    "duration": 2,
    "start_time": "2024-09-23T19:47:12.074Z"
   },
   {
    "duration": 4199,
    "start_time": "2024-09-24T12:17:56.489Z"
   },
   {
    "duration": 1557,
    "start_time": "2024-09-24T12:18:00.690Z"
   },
   {
    "duration": 95,
    "start_time": "2024-09-24T12:18:02.249Z"
   },
   {
    "duration": 12,
    "start_time": "2024-09-24T12:18:02.346Z"
   },
   {
    "duration": 88,
    "start_time": "2024-09-24T12:18:02.360Z"
   },
   {
    "duration": 42,
    "start_time": "2024-09-24T12:18:02.450Z"
   },
   {
    "duration": 16,
    "start_time": "2024-09-24T12:18:02.494Z"
   },
   {
    "duration": 23,
    "start_time": "2024-09-24T12:18:02.511Z"
   },
   {
    "duration": 12,
    "start_time": "2024-09-24T12:18:02.536Z"
   },
   {
    "duration": 1768,
    "start_time": "2024-09-24T12:18:02.550Z"
   },
   {
    "duration": 39,
    "start_time": "2024-09-24T12:18:04.320Z"
   },
   {
    "duration": 14,
    "start_time": "2024-09-24T12:18:04.361Z"
   },
   {
    "duration": 418,
    "start_time": "2024-09-24T12:18:04.377Z"
   },
   {
    "duration": 191,
    "start_time": "2024-09-24T12:18:04.798Z"
   },
   {
    "duration": 312,
    "start_time": "2024-09-24T12:41:05.698Z"
   },
   {
    "duration": 11,
    "start_time": "2024-09-24T12:42:56.372Z"
   },
   {
    "duration": 10,
    "start_time": "2024-09-24T12:43:15.624Z"
   },
   {
    "duration": 9,
    "start_time": "2024-09-24T12:44:20.020Z"
   },
   {
    "duration": 12,
    "start_time": "2024-09-24T12:44:20.366Z"
   },
   {
    "duration": 1542,
    "start_time": "2024-09-24T12:44:30.602Z"
   },
   {
    "duration": 31,
    "start_time": "2024-09-24T12:44:32.146Z"
   },
   {
    "duration": 273,
    "start_time": "2024-09-24T12:44:40.464Z"
   },
   {
    "duration": 310,
    "start_time": "2024-09-24T12:44:45.843Z"
   },
   {
    "duration": 343,
    "start_time": "2024-09-24T12:46:07.463Z"
   },
   {
    "duration": 102,
    "start_time": "2024-09-24T12:46:38.892Z"
   },
   {
    "duration": 276,
    "start_time": "2024-09-24T12:46:48.746Z"
   },
   {
    "duration": 10,
    "start_time": "2024-09-24T12:46:59.576Z"
   },
   {
    "duration": 5,
    "start_time": "2024-09-24T12:47:11.248Z"
   },
   {
    "duration": 6,
    "start_time": "2024-09-24T12:47:22.204Z"
   },
   {
    "duration": 4,
    "start_time": "2024-09-24T12:47:42.378Z"
   },
   {
    "duration": 4,
    "start_time": "2024-09-24T12:48:55.246Z"
   },
   {
    "duration": 1306,
    "start_time": "2024-09-24T12:50:16.298Z"
   },
   {
    "duration": 290,
    "start_time": "2024-09-24T12:51:16.826Z"
   },
   {
    "duration": 310,
    "start_time": "2024-09-24T12:51:50.144Z"
   },
   {
    "duration": 287,
    "start_time": "2024-09-24T12:51:59.160Z"
   },
   {
    "duration": 411,
    "start_time": "2024-09-24T12:52:08.009Z"
   },
   {
    "duration": 258,
    "start_time": "2024-09-24T12:52:39.955Z"
   },
   {
    "duration": 249,
    "start_time": "2024-09-24T12:53:06.067Z"
   },
   {
    "duration": 250,
    "start_time": "2024-09-24T12:53:22.144Z"
   },
   {
    "duration": 6,
    "start_time": "2024-09-24T12:54:10.666Z"
   },
   {
    "duration": 13,
    "start_time": "2024-09-24T12:54:22.682Z"
   },
   {
    "duration": 279,
    "start_time": "2024-09-24T12:54:49.901Z"
   },
   {
    "duration": 7,
    "start_time": "2024-09-24T12:56:52.582Z"
   },
   {
    "duration": 17,
    "start_time": "2024-09-24T12:56:53.228Z"
   },
   {
    "duration": 272,
    "start_time": "2024-09-24T12:56:54.215Z"
   },
   {
    "duration": 282,
    "start_time": "2024-09-24T12:57:41.477Z"
   },
   {
    "duration": 9,
    "start_time": "2024-09-24T13:00:21.684Z"
   },
   {
    "duration": 5,
    "start_time": "2024-09-24T13:01:16.149Z"
   },
   {
    "duration": 12,
    "start_time": "2024-09-24T13:02:06.294Z"
   },
   {
    "duration": 20,
    "start_time": "2024-09-24T13:02:06.897Z"
   },
   {
    "duration": 6,
    "start_time": "2024-09-24T13:02:32.281Z"
   },
   {
    "duration": 5,
    "start_time": "2024-09-24T13:02:39.990Z"
   },
   {
    "duration": 6,
    "start_time": "2024-09-24T13:02:41.984Z"
   },
   {
    "duration": 20,
    "start_time": "2024-09-24T13:02:46.166Z"
   },
   {
    "duration": 4,
    "start_time": "2024-09-24T13:06:15.985Z"
   },
   {
    "duration": 7,
    "start_time": "2024-09-24T13:06:16.395Z"
   },
   {
    "duration": 20,
    "start_time": "2024-09-24T13:06:16.804Z"
   },
   {
    "duration": 8,
    "start_time": "2024-09-24T13:08:57.781Z"
   },
   {
    "duration": 36,
    "start_time": "2024-09-24T13:10:36.186Z"
   },
   {
    "duration": 30,
    "start_time": "2024-09-24T13:10:38.335Z"
   },
   {
    "duration": 12,
    "start_time": "2024-09-24T13:10:46.320Z"
   },
   {
    "duration": 6,
    "start_time": "2024-09-24T13:10:49.473Z"
   },
   {
    "duration": 8,
    "start_time": "2024-09-24T13:11:08.237Z"
   },
   {
    "duration": 7,
    "start_time": "2024-09-24T13:11:12.137Z"
   },
   {
    "duration": 8,
    "start_time": "2024-09-24T13:11:21.550Z"
   },
   {
    "duration": 88,
    "start_time": "2024-09-24T13:14:27.182Z"
   },
   {
    "duration": 11,
    "start_time": "2024-09-24T13:14:37.426Z"
   },
   {
    "duration": 13,
    "start_time": "2024-09-24T13:14:44.518Z"
   },
   {
    "duration": 3,
    "start_time": "2024-09-24T13:15:27.522Z"
   },
   {
    "duration": 38,
    "start_time": "2024-09-24T13:16:53.021Z"
   },
   {
    "duration": 21,
    "start_time": "2024-09-24T13:24:03.421Z"
   },
   {
    "duration": 21,
    "start_time": "2024-09-24T13:24:43.860Z"
   },
   {
    "duration": 4,
    "start_time": "2024-09-24T13:27:50.898Z"
   },
   {
    "duration": 20,
    "start_time": "2024-09-24T13:27:51.254Z"
   },
   {
    "duration": 32,
    "start_time": "2024-09-24T13:27:51.554Z"
   },
   {
    "duration": 6,
    "start_time": "2024-09-24T13:27:56.271Z"
   },
   {
    "duration": 33,
    "start_time": "2024-09-24T13:27:59.756Z"
   },
   {
    "duration": 4,
    "start_time": "2024-09-24T13:28:07.635Z"
   },
   {
    "duration": 7,
    "start_time": "2024-09-24T13:28:07.986Z"
   },
   {
    "duration": 29,
    "start_time": "2024-09-24T13:28:08.359Z"
   },
   {
    "duration": 2572,
    "start_time": "2024-09-24T13:28:22.390Z"
   },
   {
    "duration": 1496,
    "start_time": "2024-09-24T13:28:24.964Z"
   },
   {
    "duration": 47,
    "start_time": "2024-09-24T13:28:26.461Z"
   },
   {
    "duration": 14,
    "start_time": "2024-09-24T13:28:26.509Z"
   },
   {
    "duration": 13,
    "start_time": "2024-09-24T13:28:26.524Z"
   },
   {
    "duration": 21,
    "start_time": "2024-09-24T13:28:26.539Z"
   },
   {
    "duration": 10,
    "start_time": "2024-09-24T13:28:26.562Z"
   },
   {
    "duration": 12,
    "start_time": "2024-09-24T13:28:26.574Z"
   },
   {
    "duration": 11,
    "start_time": "2024-09-24T13:28:26.587Z"
   },
   {
    "duration": 1719,
    "start_time": "2024-09-24T13:28:26.600Z"
   },
   {
    "duration": 37,
    "start_time": "2024-09-24T13:28:28.321Z"
   },
   {
    "duration": 395,
    "start_time": "2024-09-24T13:28:28.360Z"
   },
   {
    "duration": 412,
    "start_time": "2024-09-24T13:28:28.757Z"
   },
   {
    "duration": 7,
    "start_time": "2024-09-24T13:28:29.171Z"
   },
   {
    "duration": 58,
    "start_time": "2024-09-24T13:28:29.180Z"
   },
   {
    "duration": 298,
    "start_time": "2024-09-24T13:28:29.240Z"
   },
   {
    "duration": 11,
    "start_time": "2024-09-24T13:28:29.540Z"
   },
   {
    "duration": 89,
    "start_time": "2024-09-24T13:28:29.553Z"
   },
   {
    "duration": 19,
    "start_time": "2024-09-24T13:28:29.654Z"
   },
   {
    "duration": 26,
    "start_time": "2024-09-24T13:28:29.675Z"
   },
   {
    "duration": 40,
    "start_time": "2024-09-24T13:28:29.703Z"
   },
   {
    "duration": 129,
    "start_time": "2024-09-24T13:30:07.666Z"
   },
   {
    "duration": 4,
    "start_time": "2024-09-24T13:30:21.888Z"
   },
   {
    "duration": 6,
    "start_time": "2024-09-24T13:30:28.742Z"
   },
   {
    "duration": 6,
    "start_time": "2024-09-24T13:32:07.967Z"
   },
   {
    "duration": 7,
    "start_time": "2024-09-24T13:32:57.500Z"
   },
   {
    "duration": 5,
    "start_time": "2024-09-24T13:33:14.322Z"
   },
   {
    "duration": 10,
    "start_time": "2024-09-24T13:34:00.403Z"
   },
   {
    "duration": 11,
    "start_time": "2024-09-24T13:34:05.523Z"
   },
   {
    "duration": 10,
    "start_time": "2024-09-24T13:34:13.410Z"
   },
   {
    "duration": 10,
    "start_time": "2024-09-24T13:34:15.883Z"
   },
   {
    "duration": 12,
    "start_time": "2024-09-24T13:35:10.139Z"
   },
   {
    "duration": 7,
    "start_time": "2024-09-24T13:38:11.952Z"
   },
   {
    "duration": 3,
    "start_time": "2024-09-24T13:38:19.583Z"
   },
   {
    "duration": 6,
    "start_time": "2024-09-24T13:38:50.095Z"
   },
   {
    "duration": 4,
    "start_time": "2024-09-24T13:39:33.184Z"
   },
   {
    "duration": 70,
    "start_time": "2024-09-24T13:40:43.646Z"
   },
   {
    "duration": 4,
    "start_time": "2024-09-24T13:41:05.870Z"
   },
   {
    "duration": 4,
    "start_time": "2024-09-24T13:45:09.911Z"
   },
   {
    "duration": 3,
    "start_time": "2024-09-24T13:45:20.038Z"
   },
   {
    "duration": 4,
    "start_time": "2024-09-24T13:48:05.555Z"
   },
   {
    "duration": 3,
    "start_time": "2024-09-24T13:52:47.219Z"
   },
   {
    "duration": 310,
    "start_time": "2024-09-24T13:53:14.855Z"
   },
   {
    "duration": 13,
    "start_time": "2024-09-24T13:53:45.998Z"
   },
   {
    "duration": 9,
    "start_time": "2024-09-24T13:53:50.877Z"
   },
   {
    "duration": 3,
    "start_time": "2024-09-24T13:54:29.021Z"
   },
   {
    "duration": 3,
    "start_time": "2024-09-24T13:55:55.669Z"
   },
   {
    "duration": 19,
    "start_time": "2024-09-24T13:56:39.157Z"
   },
   {
    "duration": 10,
    "start_time": "2024-09-24T13:57:56.028Z"
   },
   {
    "duration": 8,
    "start_time": "2024-09-24T13:58:24.692Z"
   },
   {
    "duration": 11025,
    "start_time": "2024-09-24T14:01:01.203Z"
   },
   {
    "duration": 30,
    "start_time": "2024-09-24T14:01:55.698Z"
   },
   {
    "duration": 5,
    "start_time": "2024-09-24T14:03:44.059Z"
   },
   {
    "duration": 4,
    "start_time": "2024-09-24T14:03:53.744Z"
   },
   {
    "duration": 4,
    "start_time": "2024-09-24T14:03:55.314Z"
   },
   {
    "duration": 3,
    "start_time": "2024-09-24T14:03:55.861Z"
   },
   {
    "duration": 53,
    "start_time": "2024-09-24T14:04:14.755Z"
   },
   {
    "duration": 3,
    "start_time": "2024-09-24T14:05:24.016Z"
   },
   {
    "duration": 2,
    "start_time": "2024-09-24T14:05:24.373Z"
   },
   {
    "duration": 87081,
    "start_time": "2024-09-24T14:05:24.787Z"
   },
   {
    "duration": 10,
    "start_time": "2024-09-24T14:06:51.870Z"
   },
   {
    "duration": 18,
    "start_time": "2024-09-24T14:07:49.356Z"
   },
   {
    "duration": 11,
    "start_time": "2024-09-24T14:07:50.106Z"
   },
   {
    "duration": 8,
    "start_time": "2024-09-24T14:08:39.089Z"
   },
   {
    "duration": 22,
    "start_time": "2024-09-24T14:08:40.579Z"
   },
   {
    "duration": 7,
    "start_time": "2024-09-24T14:08:52.025Z"
   },
   {
    "duration": 8,
    "start_time": "2024-09-24T14:08:52.853Z"
   },
   {
    "duration": 4,
    "start_time": "2024-09-24T14:08:53.455Z"
   },
   {
    "duration": 5,
    "start_time": "2024-09-24T14:08:54.455Z"
   },
   {
    "duration": 4,
    "start_time": "2024-09-24T14:08:55.554Z"
   },
   {
    "duration": 3,
    "start_time": "2024-09-24T14:08:57.762Z"
   },
   {
    "duration": 4,
    "start_time": "2024-09-24T14:08:58.418Z"
   },
   {
    "duration": 698,
    "start_time": "2024-09-24T14:08:58.871Z"
   },
   {
    "duration": 8,
    "start_time": "2024-09-24T14:08:59.648Z"
   },
   {
    "duration": 3,
    "start_time": "2024-09-24T14:09:05.061Z"
   },
   {
    "duration": 38,
    "start_time": "2024-09-24T14:09:06.928Z"
   },
   {
    "duration": 13,
    "start_time": "2024-09-24T14:09:08.314Z"
   },
   {
    "duration": 9,
    "start_time": "2024-09-24T14:09:10.500Z"
   },
   {
    "duration": 3,
    "start_time": "2024-09-24T14:09:15.401Z"
   },
   {
    "duration": 2,
    "start_time": "2024-09-24T14:09:16.255Z"
   },
   {
    "duration": 9,
    "start_time": "2024-09-24T14:09:17.341Z"
   },
   {
    "duration": 97816,
    "start_time": "2024-09-24T14:09:18.255Z"
   },
   {
    "duration": 10,
    "start_time": "2024-09-24T14:10:56.073Z"
   },
   {
    "duration": 71,
    "start_time": "2024-09-24T14:10:56.084Z"
   },
   {
    "duration": 11,
    "start_time": "2024-09-24T14:10:56.157Z"
   },
   {
    "duration": 4,
    "start_time": "2024-09-24T14:11:51.679Z"
   },
   {
    "duration": 4,
    "start_time": "2024-09-24T14:13:21.706Z"
   },
   {
    "duration": 11,
    "start_time": "2024-09-24T14:13:26.682Z"
   },
   {
    "duration": 5,
    "start_time": "2024-09-24T14:13:54.754Z"
   },
   {
    "duration": 20,
    "start_time": "2024-09-24T14:14:00.595Z"
   },
   {
    "duration": 10,
    "start_time": "2024-09-24T14:15:21.796Z"
   },
   {
    "duration": 3,
    "start_time": "2024-09-24T14:15:41.175Z"
   },
   {
    "duration": 2626,
    "start_time": "2024-09-24T14:16:03.185Z"
   },
   {
    "duration": 3063,
    "start_time": "2024-09-24T14:16:05.814Z"
   },
   {
    "duration": 1562,
    "start_time": "2024-09-24T14:16:08.879Z"
   },
   {
    "duration": 46,
    "start_time": "2024-09-24T14:16:10.443Z"
   },
   {
    "duration": 64,
    "start_time": "2024-09-24T14:16:10.491Z"
   },
   {
    "duration": 11,
    "start_time": "2024-09-24T14:16:10.557Z"
   },
   {
    "duration": 14,
    "start_time": "2024-09-24T14:16:10.570Z"
   },
   {
    "duration": 12,
    "start_time": "2024-09-24T14:16:10.585Z"
   },
   {
    "duration": 16,
    "start_time": "2024-09-24T14:16:10.599Z"
   },
   {
    "duration": 33,
    "start_time": "2024-09-24T14:16:10.616Z"
   },
   {
    "duration": 1676,
    "start_time": "2024-09-24T14:16:10.651Z"
   },
   {
    "duration": 40,
    "start_time": "2024-09-24T14:16:12.329Z"
   },
   {
    "duration": 489,
    "start_time": "2024-09-24T14:16:12.370Z"
   },
   {
    "duration": 301,
    "start_time": "2024-09-24T14:16:12.862Z"
   },
   {
    "duration": 8,
    "start_time": "2024-09-24T14:16:13.165Z"
   },
   {
    "duration": 13,
    "start_time": "2024-09-24T14:16:13.174Z"
   },
   {
    "duration": 316,
    "start_time": "2024-09-24T14:16:13.188Z"
   },
   {
    "duration": 4,
    "start_time": "2024-09-24T14:16:13.506Z"
   },
   {
    "duration": 12,
    "start_time": "2024-09-24T14:16:13.512Z"
   },
   {
    "duration": 33,
    "start_time": "2024-09-24T14:16:13.526Z"
   },
   {
    "duration": 4,
    "start_time": "2024-09-24T14:16:13.561Z"
   },
   {
    "duration": 15,
    "start_time": "2024-09-24T14:16:13.566Z"
   },
   {
    "duration": 6,
    "start_time": "2024-09-24T14:16:13.582Z"
   },
   {
    "duration": 4,
    "start_time": "2024-09-24T14:16:13.590Z"
   },
   {
    "duration": 124,
    "start_time": "2024-09-24T14:16:13.596Z"
   },
   {
    "duration": 0,
    "start_time": "2024-09-24T14:16:13.721Z"
   },
   {
    "duration": 0,
    "start_time": "2024-09-24T14:16:13.722Z"
   },
   {
    "duration": 0,
    "start_time": "2024-09-24T14:16:13.724Z"
   },
   {
    "duration": 0,
    "start_time": "2024-09-24T14:16:13.725Z"
   },
   {
    "duration": 0,
    "start_time": "2024-09-24T14:16:13.726Z"
   },
   {
    "duration": 0,
    "start_time": "2024-09-24T14:16:13.727Z"
   },
   {
    "duration": 0,
    "start_time": "2024-09-24T14:16:13.728Z"
   },
   {
    "duration": 0,
    "start_time": "2024-09-24T14:16:13.729Z"
   },
   {
    "duration": 0,
    "start_time": "2024-09-24T14:16:13.743Z"
   },
   {
    "duration": 0,
    "start_time": "2024-09-24T14:16:13.744Z"
   },
   {
    "duration": 0,
    "start_time": "2024-09-24T14:16:13.745Z"
   },
   {
    "duration": 0,
    "start_time": "2024-09-24T14:16:13.746Z"
   },
   {
    "duration": 0,
    "start_time": "2024-09-24T14:16:13.747Z"
   },
   {
    "duration": 0,
    "start_time": "2024-09-24T14:16:13.748Z"
   },
   {
    "duration": 0,
    "start_time": "2024-09-24T14:16:13.749Z"
   },
   {
    "duration": 11,
    "start_time": "2024-09-24T14:16:38.227Z"
   },
   {
    "duration": 3,
    "start_time": "2024-09-24T14:16:48.930Z"
   },
   {
    "duration": 3,
    "start_time": "2024-09-24T14:16:50.410Z"
   },
   {
    "duration": 4,
    "start_time": "2024-09-24T14:16:51.652Z"
   },
   {
    "duration": 4,
    "start_time": "2024-09-24T14:16:52.059Z"
   },
   {
    "duration": 4212,
    "start_time": "2024-09-24T14:16:52.683Z"
   },
   {
    "duration": 4,
    "start_time": "2024-09-24T14:16:56.898Z"
   },
   {
    "duration": 4,
    "start_time": "2024-09-24T14:17:22.226Z"
   },
   {
    "duration": 3,
    "start_time": "2024-09-24T14:17:57.257Z"
   },
   {
    "duration": 3725,
    "start_time": "2024-09-24T14:18:04.773Z"
   },
   {
    "duration": 227,
    "start_time": "2024-09-24T14:18:52.230Z"
   },
   {
    "duration": 80,
    "start_time": "2024-09-24T14:18:54.566Z"
   },
   {
    "duration": 14,
    "start_time": "2024-09-24T14:18:54.920Z"
   },
   {
    "duration": 3,
    "start_time": "2024-09-24T14:19:01.585Z"
   },
   {
    "duration": 3,
    "start_time": "2024-09-24T14:19:02.103Z"
   },
   {
    "duration": 3,
    "start_time": "2024-09-24T14:19:03.869Z"
   },
   {
    "duration": 26462,
    "start_time": "2024-09-24T14:19:06.857Z"
   },
   {
    "duration": 52,
    "start_time": "2024-09-24T14:19:33.321Z"
   },
   {
    "duration": 54,
    "start_time": "2024-09-24T14:19:33.374Z"
   },
   {
    "duration": 19,
    "start_time": "2024-09-24T14:19:33.430Z"
   },
   {
    "duration": 3,
    "start_time": "2024-09-24T14:20:08.907Z"
   },
   {
    "duration": 3,
    "start_time": "2024-09-24T14:20:09.321Z"
   },
   {
    "duration": 749502,
    "start_time": "2024-09-24T14:20:09.663Z"
   },
   {
    "duration": 0,
    "start_time": "2024-09-24T14:32:39.167Z"
   },
   {
    "duration": 0,
    "start_time": "2024-09-24T14:32:39.169Z"
   },
   {
    "duration": 0,
    "start_time": "2024-09-24T14:32:39.170Z"
   },
   {
    "duration": 0,
    "start_time": "2024-09-24T14:32:39.171Z"
   },
   {
    "duration": 0,
    "start_time": "2024-09-24T14:32:39.172Z"
   },
   {
    "duration": 0,
    "start_time": "2024-09-24T14:32:39.173Z"
   },
   {
    "duration": 0,
    "start_time": "2024-09-24T14:32:39.175Z"
   },
   {
    "duration": 0,
    "start_time": "2024-09-24T14:32:39.176Z"
   },
   {
    "duration": 0,
    "start_time": "2024-09-24T14:32:39.177Z"
   },
   {
    "duration": 3,
    "start_time": "2024-09-24T14:32:57.717Z"
   },
   {
    "duration": 8039,
    "start_time": "2024-09-24T14:32:58.156Z"
   },
   {
    "duration": 3,
    "start_time": "2024-09-24T14:33:06.197Z"
   },
   {
    "duration": 262,
    "start_time": "2024-09-24T14:33:06.202Z"
   },
   {
    "duration": 18,
    "start_time": "2024-09-24T14:33:06.467Z"
   },
   {
    "duration": 110,
    "start_time": "2024-09-24T14:33:06.548Z"
   },
   {
    "duration": 17,
    "start_time": "2024-09-24T14:35:04.226Z"
   },
   {
    "duration": 31,
    "start_time": "2024-09-24T14:35:04.554Z"
   },
   {
    "duration": 5,
    "start_time": "2024-09-24T14:35:11.432Z"
   },
   {
    "duration": 8,
    "start_time": "2024-09-24T14:35:11.854Z"
   },
   {
    "duration": 5,
    "start_time": "2024-09-24T14:35:12.294Z"
   },
   {
    "duration": 5,
    "start_time": "2024-09-24T14:35:12.755Z"
   },
   {
    "duration": 3,
    "start_time": "2024-09-24T14:35:13.267Z"
   },
   {
    "duration": 3,
    "start_time": "2024-09-24T14:35:13.898Z"
   },
   {
    "duration": 3,
    "start_time": "2024-09-24T14:35:16.454Z"
   },
   {
    "duration": 4,
    "start_time": "2024-09-24T14:35:16.816Z"
   },
   {
    "duration": 10554,
    "start_time": "2024-09-24T14:35:17.554Z"
   },
   {
    "duration": 3,
    "start_time": "2024-09-24T14:35:28.110Z"
   },
   {
    "duration": 243,
    "start_time": "2024-09-24T14:35:28.115Z"
   },
   {
    "duration": 16,
    "start_time": "2024-09-24T14:35:28.362Z"
   },
   {
    "duration": 168,
    "start_time": "2024-09-24T14:35:28.380Z"
   },
   {
    "duration": 19,
    "start_time": "2024-09-24T14:36:03.535Z"
   },
   {
    "duration": 32,
    "start_time": "2024-09-24T14:36:03.880Z"
   },
   {
    "duration": 5,
    "start_time": "2024-09-24T14:36:08.014Z"
   },
   {
    "duration": 8,
    "start_time": "2024-09-24T14:36:08.419Z"
   },
   {
    "duration": 5,
    "start_time": "2024-09-24T14:36:08.775Z"
   },
   {
    "duration": 2,
    "start_time": "2024-09-24T14:36:09.155Z"
   },
   {
    "duration": 2,
    "start_time": "2024-09-24T14:36:09.519Z"
   },
   {
    "duration": 3,
    "start_time": "2024-09-24T14:36:09.893Z"
   },
   {
    "duration": 5,
    "start_time": "2024-09-24T14:36:10.350Z"
   },
   {
    "duration": 3,
    "start_time": "2024-09-24T14:36:10.704Z"
   },
   {
    "duration": 10279,
    "start_time": "2024-09-24T14:36:11.337Z"
   },
   {
    "duration": 3,
    "start_time": "2024-09-24T14:36:21.618Z"
   },
   {
    "duration": 240,
    "start_time": "2024-09-24T14:36:21.622Z"
   },
   {
    "duration": 86,
    "start_time": "2024-09-24T14:36:21.864Z"
   },
   {
    "duration": 109,
    "start_time": "2024-09-24T14:36:21.951Z"
   },
   {
    "duration": 11,
    "start_time": "2024-09-24T14:38:01.614Z"
   },
   {
    "duration": 12,
    "start_time": "2024-09-24T14:38:38.654Z"
   },
   {
    "duration": 33,
    "start_time": "2024-09-24T14:38:39.162Z"
   },
   {
    "duration": 2614,
    "start_time": "2024-09-24T14:38:47.490Z"
   },
   {
    "duration": 3162,
    "start_time": "2024-09-24T14:38:50.106Z"
   },
   {
    "duration": 1560,
    "start_time": "2024-09-24T14:38:53.270Z"
   },
   {
    "duration": 2,
    "start_time": "2024-09-24T14:38:54.832Z"
   },
   {
    "duration": 65,
    "start_time": "2024-09-24T14:38:54.836Z"
   },
   {
    "duration": 12,
    "start_time": "2024-09-24T14:38:54.902Z"
   },
   {
    "duration": 31,
    "start_time": "2024-09-24T14:38:54.916Z"
   },
   {
    "duration": 13,
    "start_time": "2024-09-24T14:38:54.949Z"
   },
   {
    "duration": 5,
    "start_time": "2024-09-24T14:38:54.964Z"
   },
   {
    "duration": 10,
    "start_time": "2024-09-24T14:38:54.970Z"
   },
   {
    "duration": 11,
    "start_time": "2024-09-24T14:38:54.982Z"
   },
   {
    "duration": 1719,
    "start_time": "2024-09-24T14:38:54.995Z"
   },
   {
    "duration": 52,
    "start_time": "2024-09-24T14:38:56.715Z"
   },
   {
    "duration": 493,
    "start_time": "2024-09-24T14:38:56.770Z"
   },
   {
    "duration": 315,
    "start_time": "2024-09-24T14:38:57.265Z"
   },
   {
    "duration": 7,
    "start_time": "2024-09-24T14:38:57.582Z"
   },
   {
    "duration": 32,
    "start_time": "2024-09-24T14:38:57.591Z"
   },
   {
    "duration": 297,
    "start_time": "2024-09-24T14:38:57.624Z"
   },
   {
    "duration": 4,
    "start_time": "2024-09-24T14:38:57.923Z"
   },
   {
    "duration": 95,
    "start_time": "2024-09-24T14:38:57.929Z"
   },
   {
    "duration": 40,
    "start_time": "2024-09-24T14:38:58.026Z"
   },
   {
    "duration": 6,
    "start_time": "2024-09-24T14:38:58.068Z"
   },
   {
    "duration": 8,
    "start_time": "2024-09-24T14:38:58.075Z"
   },
   {
    "duration": 7,
    "start_time": "2024-09-24T14:38:58.085Z"
   },
   {
    "duration": 7,
    "start_time": "2024-09-24T14:38:58.093Z"
   },
   {
    "duration": 3,
    "start_time": "2024-09-24T14:38:58.101Z"
   },
   {
    "duration": 8,
    "start_time": "2024-09-24T14:38:58.106Z"
   },
   {
    "duration": 5,
    "start_time": "2024-09-24T14:38:58.116Z"
   },
   {
    "duration": 31,
    "start_time": "2024-09-24T14:38:58.123Z"
   },
   {
    "duration": 10218,
    "start_time": "2024-09-24T14:38:58.156Z"
   },
   {
    "duration": 3,
    "start_time": "2024-09-24T14:39:08.376Z"
   },
   {
    "duration": 192,
    "start_time": "2024-09-24T14:39:08.380Z"
   },
   {
    "duration": 72,
    "start_time": "2024-09-24T14:39:08.574Z"
   },
   {
    "duration": 112,
    "start_time": "2024-09-24T14:39:08.649Z"
   },
   {
    "duration": 2488,
    "start_time": "2024-09-24T14:45:24.059Z"
   },
   {
    "duration": 2942,
    "start_time": "2024-09-24T14:45:26.549Z"
   },
   {
    "duration": 1501,
    "start_time": "2024-09-24T14:45:29.493Z"
   },
   {
    "duration": 4,
    "start_time": "2024-09-24T14:45:30.995Z"
   },
   {
    "duration": 68,
    "start_time": "2024-09-24T14:45:31.001Z"
   },
   {
    "duration": 11,
    "start_time": "2024-09-24T14:45:31.071Z"
   },
   {
    "duration": 43,
    "start_time": "2024-09-24T14:45:31.083Z"
   },
   {
    "duration": 27,
    "start_time": "2024-09-24T14:45:31.127Z"
   },
   {
    "duration": 17,
    "start_time": "2024-09-24T14:45:31.155Z"
   },
   {
    "duration": 33,
    "start_time": "2024-09-24T14:45:31.173Z"
   },
   {
    "duration": 14,
    "start_time": "2024-09-24T14:45:31.208Z"
   },
   {
    "duration": 1619,
    "start_time": "2024-09-24T14:45:31.224Z"
   },
   {
    "duration": 246,
    "start_time": "2024-09-24T14:45:32.844Z"
   },
   {
    "duration": 474,
    "start_time": "2024-09-24T14:45:33.093Z"
   },
   {
    "duration": 289,
    "start_time": "2024-09-24T14:45:33.569Z"
   },
   {
    "duration": 8,
    "start_time": "2024-09-24T14:45:33.859Z"
   },
   {
    "duration": 42,
    "start_time": "2024-09-24T14:45:33.869Z"
   },
   {
    "duration": 281,
    "start_time": "2024-09-24T14:45:33.913Z"
   },
   {
    "duration": 4,
    "start_time": "2024-09-24T14:45:34.196Z"
   },
   {
    "duration": 112,
    "start_time": "2024-09-24T14:45:34.202Z"
   },
   {
    "duration": 31,
    "start_time": "2024-09-24T14:45:34.316Z"
   },
   {
    "duration": 5,
    "start_time": "2024-09-24T14:45:34.349Z"
   },
   {
    "duration": 11,
    "start_time": "2024-09-24T14:45:34.355Z"
   },
   {
    "duration": 20,
    "start_time": "2024-09-24T14:45:34.368Z"
   },
   {
    "duration": 16,
    "start_time": "2024-09-24T14:45:34.390Z"
   },
   {
    "duration": 32,
    "start_time": "2024-09-24T14:45:34.407Z"
   },
   {
    "duration": 40,
    "start_time": "2024-09-24T14:45:34.440Z"
   },
   {
    "duration": 24,
    "start_time": "2024-09-24T14:45:34.482Z"
   },
   {
    "duration": 155,
    "start_time": "2024-09-24T14:45:34.508Z"
   },
   {
    "duration": 8343,
    "start_time": "2024-09-24T14:45:34.665Z"
   },
   {
    "duration": 4,
    "start_time": "2024-09-24T14:45:43.010Z"
   },
   {
    "duration": 249,
    "start_time": "2024-09-24T14:45:43.015Z"
   },
   {
    "duration": 17,
    "start_time": "2024-09-24T14:45:43.266Z"
   },
   {
    "duration": 165,
    "start_time": "2024-09-24T14:45:43.285Z"
   },
   {
    "duration": 2399,
    "start_time": "2024-09-24T14:48:15.316Z"
   },
   {
    "duration": 2944,
    "start_time": "2024-09-24T14:48:17.718Z"
   },
   {
    "duration": 1489,
    "start_time": "2024-09-24T14:48:20.664Z"
   },
   {
    "duration": 3,
    "start_time": "2024-09-24T14:48:22.155Z"
   },
   {
    "duration": 54,
    "start_time": "2024-09-24T14:48:22.161Z"
   },
   {
    "duration": 12,
    "start_time": "2024-09-24T14:48:22.217Z"
   },
   {
    "duration": 51,
    "start_time": "2024-09-24T14:48:22.231Z"
   },
   {
    "duration": 11,
    "start_time": "2024-09-24T14:48:22.284Z"
   },
   {
    "duration": 5,
    "start_time": "2024-09-24T14:48:22.296Z"
   },
   {
    "duration": 13,
    "start_time": "2024-09-24T14:48:22.303Z"
   },
   {
    "duration": 13,
    "start_time": "2024-09-24T14:48:22.318Z"
   },
   {
    "duration": 1652,
    "start_time": "2024-09-24T14:48:22.332Z"
   },
   {
    "duration": 33,
    "start_time": "2024-09-24T14:48:23.985Z"
   },
   {
    "duration": 454,
    "start_time": "2024-09-24T14:48:24.021Z"
   },
   {
    "duration": 294,
    "start_time": "2024-09-24T14:48:24.477Z"
   },
   {
    "duration": 8,
    "start_time": "2024-09-24T14:48:24.773Z"
   },
   {
    "duration": 20,
    "start_time": "2024-09-24T14:48:24.782Z"
   },
   {
    "duration": 289,
    "start_time": "2024-09-24T14:48:24.803Z"
   },
   {
    "duration": 4,
    "start_time": "2024-09-24T14:48:25.093Z"
   },
   {
    "duration": 22,
    "start_time": "2024-09-24T14:48:25.098Z"
   },
   {
    "duration": 23,
    "start_time": "2024-09-24T14:48:25.122Z"
   },
   {
    "duration": 8,
    "start_time": "2024-09-24T14:48:25.146Z"
   },
   {
    "duration": 4,
    "start_time": "2024-09-24T14:48:25.156Z"
   },
   {
    "duration": 8,
    "start_time": "2024-09-24T14:48:25.161Z"
   },
   {
    "duration": 10,
    "start_time": "2024-09-24T14:48:25.170Z"
   },
   {
    "duration": 8,
    "start_time": "2024-09-24T14:48:25.181Z"
   },
   {
    "duration": 7,
    "start_time": "2024-09-24T14:48:25.190Z"
   },
   {
    "duration": 6,
    "start_time": "2024-09-24T14:48:25.198Z"
   },
   {
    "duration": 8197,
    "start_time": "2024-09-24T14:48:25.205Z"
   },
   {
    "duration": 250,
    "start_time": "2024-09-24T14:48:33.404Z"
   },
   {
    "duration": 87,
    "start_time": "2024-09-24T14:48:33.656Z"
   },
   {
    "duration": 102,
    "start_time": "2024-09-24T14:48:33.745Z"
   },
   {
    "duration": 86,
    "start_time": "2024-09-24T15:28:14.184Z"
   },
   {
    "duration": 17,
    "start_time": "2024-09-24T15:28:25.543Z"
   },
   {
    "duration": 11,
    "start_time": "2024-09-24T15:29:21.044Z"
   },
   {
    "duration": 42,
    "start_time": "2024-09-24T15:49:29.782Z"
   },
   {
    "duration": 1894,
    "start_time": "2024-09-24T15:52:36.901Z"
   },
   {
    "duration": 1865,
    "start_time": "2024-09-24T15:52:52.535Z"
   },
   {
    "duration": 1845,
    "start_time": "2024-09-24T15:53:19.364Z"
   },
   {
    "duration": 2421,
    "start_time": "2024-09-24T15:53:34.959Z"
   },
   {
    "duration": 3077,
    "start_time": "2024-09-24T15:53:37.383Z"
   },
   {
    "duration": 1505,
    "start_time": "2024-09-24T15:53:40.463Z"
   },
   {
    "duration": 2,
    "start_time": "2024-09-24T15:53:41.970Z"
   },
   {
    "duration": 56,
    "start_time": "2024-09-24T15:53:41.975Z"
   },
   {
    "duration": 19,
    "start_time": "2024-09-24T15:53:42.033Z"
   },
   {
    "duration": 13,
    "start_time": "2024-09-24T15:53:42.053Z"
   },
   {
    "duration": 20,
    "start_time": "2024-09-24T15:53:42.067Z"
   },
   {
    "duration": 5,
    "start_time": "2024-09-24T15:53:42.089Z"
   },
   {
    "duration": 10,
    "start_time": "2024-09-24T15:53:42.095Z"
   },
   {
    "duration": 14,
    "start_time": "2024-09-24T15:53:42.106Z"
   },
   {
    "duration": 1692,
    "start_time": "2024-09-24T15:53:42.121Z"
   },
   {
    "duration": 33,
    "start_time": "2024-09-24T15:53:43.815Z"
   },
   {
    "duration": 459,
    "start_time": "2024-09-24T15:53:43.852Z"
   },
   {
    "duration": 306,
    "start_time": "2024-09-24T15:53:44.313Z"
   },
   {
    "duration": 23,
    "start_time": "2024-09-24T15:53:44.620Z"
   },
   {
    "duration": 13,
    "start_time": "2024-09-24T15:53:44.644Z"
   },
   {
    "duration": 307,
    "start_time": "2024-09-24T15:53:44.659Z"
   },
   {
    "duration": 4,
    "start_time": "2024-09-24T15:53:44.968Z"
   },
   {
    "duration": 28,
    "start_time": "2024-09-24T15:53:44.974Z"
   },
   {
    "duration": 7,
    "start_time": "2024-09-24T15:53:45.005Z"
   },
   {
    "duration": 30,
    "start_time": "2024-09-24T15:53:45.014Z"
   },
   {
    "duration": 16,
    "start_time": "2024-09-24T15:53:45.046Z"
   },
   {
    "duration": 20,
    "start_time": "2024-09-24T15:53:45.063Z"
   },
   {
    "duration": 13,
    "start_time": "2024-09-24T15:53:45.085Z"
   },
   {
    "duration": 19,
    "start_time": "2024-09-24T15:53:45.100Z"
   },
   {
    "duration": 14,
    "start_time": "2024-09-24T15:53:45.121Z"
   },
   {
    "duration": 17,
    "start_time": "2024-09-24T15:53:45.136Z"
   },
   {
    "duration": 9060,
    "start_time": "2024-09-24T15:53:45.155Z"
   },
   {
    "duration": 250,
    "start_time": "2024-09-24T15:53:54.217Z"
   },
   {
    "duration": 21,
    "start_time": "2024-09-24T15:53:54.469Z"
   },
   {
    "duration": 100,
    "start_time": "2024-09-24T15:53:54.544Z"
   },
   {
    "duration": 129,
    "start_time": "2024-09-24T16:05:34.093Z"
   },
   {
    "duration": 2443,
    "start_time": "2024-09-24T16:05:59.293Z"
   },
   {
    "duration": 2970,
    "start_time": "2024-09-24T16:06:01.738Z"
   },
   {
    "duration": 1458,
    "start_time": "2024-09-24T16:06:04.710Z"
   },
   {
    "duration": 3,
    "start_time": "2024-09-24T16:06:06.169Z"
   },
   {
    "duration": 72,
    "start_time": "2024-09-24T16:06:06.174Z"
   },
   {
    "duration": 13,
    "start_time": "2024-09-24T16:06:06.248Z"
   },
   {
    "duration": 9,
    "start_time": "2024-09-24T16:06:06.263Z"
   },
   {
    "duration": 22,
    "start_time": "2024-09-24T16:06:06.274Z"
   },
   {
    "duration": 6,
    "start_time": "2024-09-24T16:06:06.298Z"
   },
   {
    "duration": 9,
    "start_time": "2024-09-24T16:06:06.306Z"
   },
   {
    "duration": 27,
    "start_time": "2024-09-24T16:06:06.317Z"
   },
   {
    "duration": 1619,
    "start_time": "2024-09-24T16:06:06.345Z"
   },
   {
    "duration": 43,
    "start_time": "2024-09-24T16:06:07.965Z"
   },
   {
    "duration": 484,
    "start_time": "2024-09-24T16:06:08.011Z"
   },
   {
    "duration": 291,
    "start_time": "2024-09-24T16:06:08.496Z"
   },
   {
    "duration": 7,
    "start_time": "2024-09-24T16:06:08.789Z"
   },
   {
    "duration": 16,
    "start_time": "2024-09-24T16:06:08.798Z"
   },
   {
    "duration": 302,
    "start_time": "2024-09-24T16:06:08.815Z"
   },
   {
    "duration": 4,
    "start_time": "2024-09-24T16:06:09.119Z"
   },
   {
    "duration": 35,
    "start_time": "2024-09-24T16:06:09.124Z"
   },
   {
    "duration": 8,
    "start_time": "2024-09-24T16:06:09.161Z"
   },
   {
    "duration": 21,
    "start_time": "2024-09-24T16:06:09.171Z"
   },
   {
    "duration": 10,
    "start_time": "2024-09-24T16:06:09.194Z"
   },
   {
    "duration": 10,
    "start_time": "2024-09-24T16:06:09.206Z"
   },
   {
    "duration": 3,
    "start_time": "2024-09-24T16:06:09.218Z"
   },
   {
    "duration": 13,
    "start_time": "2024-09-24T16:06:09.223Z"
   },
   {
    "duration": 4,
    "start_time": "2024-09-24T16:06:09.238Z"
   },
   {
    "duration": 4,
    "start_time": "2024-09-24T16:06:09.243Z"
   },
   {
    "duration": 8183,
    "start_time": "2024-09-24T16:06:09.249Z"
   },
   {
    "duration": 226,
    "start_time": "2024-09-24T16:06:17.434Z"
   },
   {
    "duration": 15,
    "start_time": "2024-09-24T16:06:17.661Z"
   },
   {
    "duration": 77,
    "start_time": "2024-09-24T16:06:17.678Z"
   },
   {
    "duration": 114,
    "start_time": "2024-09-24T16:06:25.186Z"
   },
   {
    "duration": 2428,
    "start_time": "2024-09-24T16:06:31.909Z"
   },
   {
    "duration": 2972,
    "start_time": "2024-09-24T16:06:34.340Z"
   },
   {
    "duration": 1540,
    "start_time": "2024-09-24T16:06:37.314Z"
   },
   {
    "duration": 3,
    "start_time": "2024-09-24T16:06:38.856Z"
   },
   {
    "duration": 133,
    "start_time": "2024-09-24T16:06:38.861Z"
   },
   {
    "duration": 14,
    "start_time": "2024-09-24T16:06:38.996Z"
   },
   {
    "duration": 58,
    "start_time": "2024-09-24T16:06:39.012Z"
   },
   {
    "duration": 22,
    "start_time": "2024-09-24T16:06:39.072Z"
   },
   {
    "duration": 17,
    "start_time": "2024-09-24T16:06:39.096Z"
   },
   {
    "duration": 27,
    "start_time": "2024-09-24T16:06:39.115Z"
   },
   {
    "duration": 33,
    "start_time": "2024-09-24T16:06:39.143Z"
   },
   {
    "duration": 1664,
    "start_time": "2024-09-24T16:06:39.178Z"
   },
   {
    "duration": 37,
    "start_time": "2024-09-24T16:06:40.844Z"
   },
   {
    "duration": 453,
    "start_time": "2024-09-24T16:06:40.882Z"
   },
   {
    "duration": 318,
    "start_time": "2024-09-24T16:06:41.337Z"
   },
   {
    "duration": 8,
    "start_time": "2024-09-24T16:06:41.657Z"
   },
   {
    "duration": 19,
    "start_time": "2024-09-24T16:06:41.667Z"
   },
   {
    "duration": 296,
    "start_time": "2024-09-24T16:06:41.688Z"
   },
   {
    "duration": 3,
    "start_time": "2024-09-24T16:06:41.986Z"
   },
   {
    "duration": 22,
    "start_time": "2024-09-24T16:06:41.991Z"
   },
   {
    "duration": 20,
    "start_time": "2024-09-24T16:06:42.014Z"
   },
   {
    "duration": 12,
    "start_time": "2024-09-24T16:06:42.036Z"
   },
   {
    "duration": 7,
    "start_time": "2024-09-24T16:06:42.049Z"
   },
   {
    "duration": 4,
    "start_time": "2024-09-24T16:06:42.058Z"
   },
   {
    "duration": 4,
    "start_time": "2024-09-24T16:06:42.063Z"
   },
   {
    "duration": 6,
    "start_time": "2024-09-24T16:06:42.068Z"
   },
   {
    "duration": 4,
    "start_time": "2024-09-24T16:06:42.076Z"
   },
   {
    "duration": 3,
    "start_time": "2024-09-24T16:06:42.082Z"
   },
   {
    "duration": 8326,
    "start_time": "2024-09-24T16:06:42.086Z"
   },
   {
    "duration": 248,
    "start_time": "2024-09-24T16:06:50.414Z"
   },
   {
    "duration": 21,
    "start_time": "2024-09-24T16:06:50.664Z"
   },
   {
    "duration": 62,
    "start_time": "2024-09-24T16:06:50.688Z"
   },
   {
    "duration": 33,
    "start_time": "2024-09-24T16:20:46.069Z"
   },
   {
    "duration": 6,
    "start_time": "2024-09-24T16:32:55.575Z"
   },
   {
    "duration": 136,
    "start_time": "2024-09-24T16:33:23.012Z"
   },
   {
    "duration": 74,
    "start_time": "2024-09-24T16:39:19.571Z"
   },
   {
    "duration": 14,
    "start_time": "2024-09-24T16:39:25.796Z"
   },
   {
    "duration": 10,
    "start_time": "2024-09-24T16:39:26.945Z"
   },
   {
    "duration": 3,
    "start_time": "2024-09-24T16:40:18.454Z"
   },
   {
    "duration": 4641,
    "start_time": "2024-09-24T16:40:19.477Z"
   },
   {
    "duration": 243,
    "start_time": "2024-09-24T16:40:24.121Z"
   },
   {
    "duration": 86,
    "start_time": "2024-09-24T16:40:24.366Z"
   },
   {
    "duration": 96,
    "start_time": "2024-09-24T16:40:24.455Z"
   },
   {
    "duration": 49,
    "start_time": "2024-09-24T18:09:55.102Z"
   },
   {
    "duration": 4692,
    "start_time": "2024-09-24T18:10:22.397Z"
   },
   {
    "duration": 6761,
    "start_time": "2024-09-24T18:10:27.092Z"
   },
   {
    "duration": 1759,
    "start_time": "2024-09-24T18:10:33.855Z"
   },
   {
    "duration": 2,
    "start_time": "2024-09-24T18:10:35.616Z"
   },
   {
    "duration": 103,
    "start_time": "2024-09-24T18:10:35.620Z"
   },
   {
    "duration": 14,
    "start_time": "2024-09-24T18:10:35.724Z"
   },
   {
    "duration": 9,
    "start_time": "2024-09-24T18:10:35.740Z"
   },
   {
    "duration": 13,
    "start_time": "2024-09-24T18:10:35.751Z"
   },
   {
    "duration": 5,
    "start_time": "2024-09-24T18:10:35.766Z"
   },
   {
    "duration": 10,
    "start_time": "2024-09-24T18:10:35.773Z"
   },
   {
    "duration": 12,
    "start_time": "2024-09-24T18:10:35.785Z"
   },
   {
    "duration": 1845,
    "start_time": "2024-09-24T18:10:35.798Z"
   },
   {
    "duration": 55,
    "start_time": "2024-09-24T18:10:37.644Z"
   },
   {
    "duration": 510,
    "start_time": "2024-09-24T18:10:37.702Z"
   },
   {
    "duration": 302,
    "start_time": "2024-09-24T18:10:38.214Z"
   },
   {
    "duration": 351,
    "start_time": "2024-09-24T18:10:38.518Z"
   },
   {
    "duration": 9,
    "start_time": "2024-09-24T18:10:38.871Z"
   },
   {
    "duration": 22,
    "start_time": "2024-09-24T18:10:38.882Z"
   },
   {
    "duration": 321,
    "start_time": "2024-09-24T18:10:38.908Z"
   },
   {
    "duration": 5,
    "start_time": "2024-09-24T18:10:39.231Z"
   },
   {
    "duration": 44,
    "start_time": "2024-09-24T18:10:39.238Z"
   },
   {
    "duration": 5,
    "start_time": "2024-09-24T18:10:39.283Z"
   },
   {
    "duration": 6,
    "start_time": "2024-09-24T18:10:39.290Z"
   },
   {
    "duration": 4,
    "start_time": "2024-09-24T18:10:39.298Z"
   },
   {
    "duration": 3,
    "start_time": "2024-09-24T18:10:39.304Z"
   },
   {
    "duration": 14,
    "start_time": "2024-09-24T18:10:39.308Z"
   },
   {
    "duration": 5,
    "start_time": "2024-09-24T18:10:39.324Z"
   },
   {
    "duration": 5,
    "start_time": "2024-09-24T18:10:39.330Z"
   },
   {
    "duration": 4,
    "start_time": "2024-09-24T18:10:39.336Z"
   },
   {
    "duration": 4611,
    "start_time": "2024-09-24T18:10:39.341Z"
   },
   {
    "duration": 320,
    "start_time": "2024-09-24T18:10:43.954Z"
   },
   {
    "duration": 17,
    "start_time": "2024-09-24T18:10:44.276Z"
   },
   {
    "duration": 85,
    "start_time": "2024-09-24T18:10:44.295Z"
   },
   {
    "duration": 154,
    "start_time": "2024-09-24T18:20:45.862Z"
   },
   {
    "duration": 2634,
    "start_time": "2024-09-24T18:20:59.082Z"
   },
   {
    "duration": 3206,
    "start_time": "2024-09-24T18:21:01.718Z"
   },
   {
    "duration": 1606,
    "start_time": "2024-09-24T18:21:04.926Z"
   },
   {
    "duration": 3,
    "start_time": "2024-09-24T18:21:06.534Z"
   },
   {
    "duration": 74,
    "start_time": "2024-09-24T18:21:06.539Z"
   },
   {
    "duration": 15,
    "start_time": "2024-09-24T18:21:06.615Z"
   },
   {
    "duration": 13,
    "start_time": "2024-09-24T18:21:06.631Z"
   },
   {
    "duration": 17,
    "start_time": "2024-09-24T18:21:06.646Z"
   },
   {
    "duration": 8,
    "start_time": "2024-09-24T18:21:06.666Z"
   },
   {
    "duration": 10,
    "start_time": "2024-09-24T18:21:06.677Z"
   },
   {
    "duration": 11,
    "start_time": "2024-09-24T18:21:06.688Z"
   },
   {
    "duration": 1787,
    "start_time": "2024-09-24T18:21:06.701Z"
   },
   {
    "duration": 37,
    "start_time": "2024-09-24T18:21:08.490Z"
   },
   {
    "duration": 518,
    "start_time": "2024-09-24T18:21:08.529Z"
   },
   {
    "duration": 316,
    "start_time": "2024-09-24T18:21:09.049Z"
   },
   {
    "duration": 317,
    "start_time": "2024-09-24T18:21:09.367Z"
   },
   {
    "duration": 8,
    "start_time": "2024-09-24T18:21:09.686Z"
   },
   {
    "duration": 13,
    "start_time": "2024-09-24T18:21:09.695Z"
   },
   {
    "duration": 337,
    "start_time": "2024-09-24T18:21:09.709Z"
   },
   {
    "duration": 5,
    "start_time": "2024-09-24T18:21:10.049Z"
   },
   {
    "duration": 33,
    "start_time": "2024-09-24T18:21:10.056Z"
   },
   {
    "duration": 5,
    "start_time": "2024-09-24T18:21:10.091Z"
   },
   {
    "duration": 7,
    "start_time": "2024-09-24T18:21:10.097Z"
   },
   {
    "duration": 5,
    "start_time": "2024-09-24T18:21:10.106Z"
   },
   {
    "duration": 7,
    "start_time": "2024-09-24T18:21:10.113Z"
   },
   {
    "duration": 4,
    "start_time": "2024-09-24T18:21:10.121Z"
   },
   {
    "duration": 3,
    "start_time": "2024-09-24T18:21:10.127Z"
   },
   {
    "duration": 3,
    "start_time": "2024-09-24T18:21:10.165Z"
   },
   {
    "duration": 35,
    "start_time": "2024-09-24T18:21:10.170Z"
   },
   {
    "duration": 4623,
    "start_time": "2024-09-24T18:21:10.207Z"
   },
   {
    "duration": 248,
    "start_time": "2024-09-24T18:21:14.832Z"
   },
   {
    "duration": 16,
    "start_time": "2024-09-24T18:21:15.081Z"
   },
   {
    "duration": 101,
    "start_time": "2024-09-24T18:21:15.165Z"
   },
   {
    "duration": 2694,
    "start_time": "2024-09-24T18:21:44.958Z"
   },
   {
    "duration": 3287,
    "start_time": "2024-09-24T18:21:47.654Z"
   },
   {
    "duration": 1546,
    "start_time": "2024-09-24T18:21:50.943Z"
   },
   {
    "duration": 2,
    "start_time": "2024-09-24T18:21:52.491Z"
   },
   {
    "duration": 55,
    "start_time": "2024-09-24T18:21:52.496Z"
   },
   {
    "duration": 20,
    "start_time": "2024-09-24T18:21:52.553Z"
   },
   {
    "duration": 15,
    "start_time": "2024-09-24T18:21:52.575Z"
   },
   {
    "duration": 15,
    "start_time": "2024-09-24T18:21:52.592Z"
   },
   {
    "duration": 9,
    "start_time": "2024-09-24T18:21:52.609Z"
   },
   {
    "duration": 13,
    "start_time": "2024-09-24T18:21:52.620Z"
   },
   {
    "duration": 34,
    "start_time": "2024-09-24T18:21:52.636Z"
   },
   {
    "duration": 1810,
    "start_time": "2024-09-24T18:21:52.672Z"
   },
   {
    "duration": 33,
    "start_time": "2024-09-24T18:21:54.483Z"
   },
   {
    "duration": 485,
    "start_time": "2024-09-24T18:21:54.519Z"
   },
   {
    "duration": 311,
    "start_time": "2024-09-24T18:21:55.006Z"
   },
   {
    "duration": 284,
    "start_time": "2024-09-24T18:21:55.319Z"
   },
   {
    "duration": 7,
    "start_time": "2024-09-24T18:21:55.605Z"
   },
   {
    "duration": 13,
    "start_time": "2024-09-24T18:21:55.613Z"
   },
   {
    "duration": 334,
    "start_time": "2024-09-24T18:21:55.628Z"
   },
   {
    "duration": 5,
    "start_time": "2024-09-24T18:21:55.965Z"
   },
   {
    "duration": 27,
    "start_time": "2024-09-24T18:21:55.972Z"
   },
   {
    "duration": 4,
    "start_time": "2024-09-24T18:21:56.001Z"
   },
   {
    "duration": 7,
    "start_time": "2024-09-24T18:21:56.007Z"
   },
   {
    "duration": 5,
    "start_time": "2024-09-24T18:21:56.015Z"
   },
   {
    "duration": 3,
    "start_time": "2024-09-24T18:21:56.021Z"
   },
   {
    "duration": 3,
    "start_time": "2024-09-24T18:21:56.026Z"
   },
   {
    "duration": 3,
    "start_time": "2024-09-24T18:21:56.066Z"
   },
   {
    "duration": 3,
    "start_time": "2024-09-24T18:21:56.071Z"
   },
   {
    "duration": 3,
    "start_time": "2024-09-24T18:21:56.076Z"
   },
   {
    "duration": 4974,
    "start_time": "2024-09-24T18:21:56.081Z"
   },
   {
    "duration": 236,
    "start_time": "2024-09-24T18:22:01.057Z"
   },
   {
    "duration": 14,
    "start_time": "2024-09-24T18:22:01.295Z"
   },
   {
    "duration": 69,
    "start_time": "2024-09-24T18:22:01.312Z"
   },
   {
    "duration": 2629,
    "start_time": "2024-09-24T18:22:33.493Z"
   },
   {
    "duration": 3292,
    "start_time": "2024-09-24T18:22:36.125Z"
   },
   {
    "duration": 1608,
    "start_time": "2024-09-24T18:22:39.420Z"
   },
   {
    "duration": 3,
    "start_time": "2024-09-24T18:22:41.029Z"
   },
   {
    "duration": 56,
    "start_time": "2024-09-24T18:22:41.034Z"
   },
   {
    "duration": 14,
    "start_time": "2024-09-24T18:22:41.092Z"
   },
   {
    "duration": 9,
    "start_time": "2024-09-24T18:22:41.108Z"
   },
   {
    "duration": 9,
    "start_time": "2024-09-24T18:22:41.119Z"
   },
   {
    "duration": 5,
    "start_time": "2024-09-24T18:22:41.129Z"
   },
   {
    "duration": 35,
    "start_time": "2024-09-24T18:22:41.135Z"
   },
   {
    "duration": 15,
    "start_time": "2024-09-24T18:22:41.172Z"
   },
   {
    "duration": 1826,
    "start_time": "2024-09-24T18:22:41.189Z"
   },
   {
    "duration": 31,
    "start_time": "2024-09-24T18:22:43.018Z"
   },
   {
    "duration": 500,
    "start_time": "2024-09-24T18:22:43.052Z"
   },
   {
    "duration": 302,
    "start_time": "2024-09-24T18:22:43.553Z"
   },
   {
    "duration": 275,
    "start_time": "2024-09-24T18:22:43.857Z"
   },
   {
    "duration": 7,
    "start_time": "2024-09-24T18:22:44.133Z"
   },
   {
    "duration": 27,
    "start_time": "2024-09-24T18:22:44.141Z"
   },
   {
    "duration": 391,
    "start_time": "2024-09-24T18:22:44.170Z"
   },
   {
    "duration": 4,
    "start_time": "2024-09-24T18:22:44.564Z"
   },
   {
    "duration": 22,
    "start_time": "2024-09-24T18:22:44.570Z"
   },
   {
    "duration": 5,
    "start_time": "2024-09-24T18:22:44.594Z"
   },
   {
    "duration": 7,
    "start_time": "2024-09-24T18:22:44.601Z"
   },
   {
    "duration": 5,
    "start_time": "2024-09-24T18:22:44.609Z"
   },
   {
    "duration": 6,
    "start_time": "2024-09-24T18:22:44.616Z"
   },
   {
    "duration": 47,
    "start_time": "2024-09-24T18:22:44.623Z"
   },
   {
    "duration": 3,
    "start_time": "2024-09-24T18:22:44.672Z"
   },
   {
    "duration": 5,
    "start_time": "2024-09-24T18:22:44.676Z"
   },
   {
    "duration": 4,
    "start_time": "2024-09-24T18:22:44.682Z"
   },
   {
    "duration": 4734,
    "start_time": "2024-09-24T18:22:44.688Z"
   },
   {
    "duration": 260,
    "start_time": "2024-09-24T18:22:49.423Z"
   },
   {
    "duration": 16,
    "start_time": "2024-09-24T18:22:49.686Z"
   },
   {
    "duration": 164,
    "start_time": "2024-09-24T18:22:49.704Z"
   },
   {
    "duration": 2663,
    "start_time": "2024-09-24T18:36:51.274Z"
   },
   {
    "duration": 3173,
    "start_time": "2024-09-24T18:36:53.939Z"
   },
   {
    "duration": 1509,
    "start_time": "2024-09-24T18:36:57.114Z"
   },
   {
    "duration": 3,
    "start_time": "2024-09-24T18:36:58.625Z"
   },
   {
    "duration": 51,
    "start_time": "2024-09-24T18:36:58.630Z"
   },
   {
    "duration": 14,
    "start_time": "2024-09-24T18:36:58.682Z"
   },
   {
    "duration": 11,
    "start_time": "2024-09-24T18:36:58.697Z"
   },
   {
    "duration": 8,
    "start_time": "2024-09-24T18:36:58.709Z"
   },
   {
    "duration": 6,
    "start_time": "2024-09-24T18:36:58.719Z"
   },
   {
    "duration": 9,
    "start_time": "2024-09-24T18:36:58.726Z"
   },
   {
    "duration": 39,
    "start_time": "2024-09-24T18:36:58.737Z"
   },
   {
    "duration": 1767,
    "start_time": "2024-09-24T18:36:58.778Z"
   },
   {
    "duration": 34,
    "start_time": "2024-09-24T18:37:00.547Z"
   },
   {
    "duration": 492,
    "start_time": "2024-09-24T18:37:00.584Z"
   },
   {
    "duration": 321,
    "start_time": "2024-09-24T18:37:01.078Z"
   },
   {
    "duration": 289,
    "start_time": "2024-09-24T18:37:01.401Z"
   },
   {
    "duration": 6,
    "start_time": "2024-09-24T18:37:01.692Z"
   },
   {
    "duration": 14,
    "start_time": "2024-09-24T18:37:01.700Z"
   },
   {
    "duration": 342,
    "start_time": "2024-09-24T18:37:01.715Z"
   },
   {
    "duration": 4,
    "start_time": "2024-09-24T18:37:02.065Z"
   },
   {
    "duration": 28,
    "start_time": "2024-09-24T18:37:02.071Z"
   },
   {
    "duration": 6,
    "start_time": "2024-09-24T18:37:02.101Z"
   },
   {
    "duration": 25,
    "start_time": "2024-09-24T18:37:02.108Z"
   },
   {
    "duration": 7,
    "start_time": "2024-09-24T18:37:02.135Z"
   },
   {
    "duration": 20,
    "start_time": "2024-09-24T18:37:02.143Z"
   },
   {
    "duration": 9,
    "start_time": "2024-09-24T18:37:02.165Z"
   },
   {
    "duration": 15,
    "start_time": "2024-09-24T18:37:02.176Z"
   },
   {
    "duration": 4,
    "start_time": "2024-09-24T18:37:02.194Z"
   },
   {
    "duration": 44,
    "start_time": "2024-09-24T18:37:02.199Z"
   },
   {
    "duration": 4391,
    "start_time": "2024-09-24T18:37:02.245Z"
   },
   {
    "duration": 350,
    "start_time": "2024-09-24T18:37:06.638Z"
   },
   {
    "duration": 18,
    "start_time": "2024-09-24T18:37:06.991Z"
   },
   {
    "duration": 92,
    "start_time": "2024-09-24T18:37:07.077Z"
   },
   {
    "duration": 10,
    "start_time": "2024-09-24T18:38:52.465Z"
   },
   {
    "duration": 119,
    "start_time": "2024-09-24T18:57:12.417Z"
   },
   {
    "duration": 36,
    "start_time": "2024-09-24T18:57:32.281Z"
   },
   {
    "duration": 3,
    "start_time": "2024-09-24T18:57:36.480Z"
   },
   {
    "duration": 3,
    "start_time": "2024-09-24T18:57:38.221Z"
   },
   {
    "duration": 3,
    "start_time": "2024-09-24T18:57:38.733Z"
   },
   {
    "duration": 213222,
    "start_time": "2024-09-24T18:57:57.574Z"
   },
   {
    "duration": 3,
    "start_time": "2024-09-24T19:01:40.092Z"
   },
   {
    "duration": 3,
    "start_time": "2024-09-24T19:01:40.503Z"
   },
   {
    "duration": 51980,
    "start_time": "2024-09-24T19:01:41.013Z"
   },
   {
    "duration": 5,
    "start_time": "2024-09-24T19:04:11.029Z"
   },
   {
    "duration": 4,
    "start_time": "2024-09-24T19:04:15.232Z"
   },
   {
    "duration": 4,
    "start_time": "2024-09-24T19:04:42.435Z"
   },
   {
    "duration": 52882,
    "start_time": "2024-09-24T19:04:42.876Z"
   },
   {
    "duration": 10,
    "start_time": "2024-09-24T19:05:35.760Z"
   },
   {
    "duration": 6,
    "start_time": "2024-09-24T19:06:12.672Z"
   },
   {
    "duration": 2676,
    "start_time": "2024-09-24T19:06:36.942Z"
   },
   {
    "duration": 3277,
    "start_time": "2024-09-24T19:06:39.621Z"
   },
   {
    "duration": 1530,
    "start_time": "2024-09-24T19:06:42.900Z"
   },
   {
    "duration": 3,
    "start_time": "2024-09-24T19:06:44.432Z"
   },
   {
    "duration": 58,
    "start_time": "2024-09-24T19:06:44.437Z"
   },
   {
    "duration": 15,
    "start_time": "2024-09-24T19:06:44.497Z"
   },
   {
    "duration": 12,
    "start_time": "2024-09-24T19:06:44.514Z"
   },
   {
    "duration": 18,
    "start_time": "2024-09-24T19:06:44.527Z"
   },
   {
    "duration": 5,
    "start_time": "2024-09-24T19:06:44.547Z"
   },
   {
    "duration": 11,
    "start_time": "2024-09-24T19:06:44.568Z"
   },
   {
    "duration": 13,
    "start_time": "2024-09-24T19:06:44.581Z"
   },
   {
    "duration": 1831,
    "start_time": "2024-09-24T19:06:44.595Z"
   },
   {
    "duration": 36,
    "start_time": "2024-09-24T19:06:46.428Z"
   },
   {
    "duration": 542,
    "start_time": "2024-09-24T19:06:46.466Z"
   },
   {
    "duration": 294,
    "start_time": "2024-09-24T19:06:47.010Z"
   },
   {
    "duration": 271,
    "start_time": "2024-09-24T19:06:47.305Z"
   },
   {
    "duration": 8,
    "start_time": "2024-09-24T19:06:47.577Z"
   },
   {
    "duration": 14,
    "start_time": "2024-09-24T19:06:47.587Z"
   },
   {
    "duration": 336,
    "start_time": "2024-09-24T19:06:47.603Z"
   },
   {
    "duration": 5,
    "start_time": "2024-09-24T19:06:47.941Z"
   },
   {
    "duration": 43,
    "start_time": "2024-09-24T19:06:47.948Z"
   },
   {
    "duration": 7,
    "start_time": "2024-09-24T19:06:47.993Z"
   },
   {
    "duration": 13,
    "start_time": "2024-09-24T19:06:48.002Z"
   },
   {
    "duration": 6,
    "start_time": "2024-09-24T19:06:48.017Z"
   },
   {
    "duration": 5,
    "start_time": "2024-09-24T19:06:48.025Z"
   },
   {
    "duration": 3,
    "start_time": "2024-09-24T19:06:48.032Z"
   },
   {
    "duration": 30,
    "start_time": "2024-09-24T19:06:48.037Z"
   },
   {
    "duration": 5,
    "start_time": "2024-09-24T19:06:48.073Z"
   },
   {
    "duration": 17,
    "start_time": "2024-09-24T19:06:48.081Z"
   },
   {
    "duration": 5051,
    "start_time": "2024-09-24T19:06:48.099Z"
   },
   {
    "duration": 6,
    "start_time": "2024-09-24T19:06:53.165Z"
   },
   {
    "duration": 214,
    "start_time": "2024-09-24T19:06:53.179Z"
   },
   {
    "duration": 4,
    "start_time": "2024-09-24T19:06:53.395Z"
   },
   {
    "duration": 4,
    "start_time": "2024-09-24T19:06:53.400Z"
   },
   {
    "duration": 3,
    "start_time": "2024-09-24T19:06:53.405Z"
   },
   {
    "duration": 51408,
    "start_time": "2024-09-24T19:06:53.410Z"
   },
   {
    "duration": 4,
    "start_time": "2024-09-24T19:07:44.819Z"
   },
   {
    "duration": 51,
    "start_time": "2024-09-24T19:07:44.824Z"
   },
   {
    "duration": 95,
    "start_time": "2024-09-24T19:07:44.878Z"
   },
   {
    "duration": 20,
    "start_time": "2024-09-24T19:08:49.365Z"
   },
   {
    "duration": 12,
    "start_time": "2024-09-24T19:08:56.017Z"
   },
   {
    "duration": 18,
    "start_time": "2024-09-24T19:10:30.323Z"
   },
   {
    "duration": 3,
    "start_time": "2024-09-24T19:11:33.299Z"
   },
   {
    "duration": 6,
    "start_time": "2024-09-24T19:11:37.352Z"
   },
   {
    "duration": 4,
    "start_time": "2024-09-24T19:35:14.549Z"
   },
   {
    "duration": 3,
    "start_time": "2024-09-24T19:35:15.131Z"
   },
   {
    "duration": 3449,
    "start_time": "2024-09-24T19:35:17.486Z"
   },
   {
    "duration": 4,
    "start_time": "2024-09-24T19:35:20.937Z"
   },
   {
    "duration": 19,
    "start_time": "2024-09-24T19:36:37.365Z"
   },
   {
    "duration": 16,
    "start_time": "2024-09-24T19:36:37.785Z"
   },
   {
    "duration": 24,
    "start_time": "2024-09-24T19:38:58.057Z"
   },
   {
    "duration": 13,
    "start_time": "2024-09-24T19:39:50.384Z"
   },
   {
    "duration": 4,
    "start_time": "2024-09-24T19:40:34.953Z"
   },
   {
    "duration": 67,
    "start_time": "2024-09-24T19:41:35.881Z"
   },
   {
    "duration": 14,
    "start_time": "2024-09-24T19:41:38.175Z"
   },
   {
    "duration": 4,
    "start_time": "2024-09-24T19:41:52.854Z"
   },
   {
    "duration": 3,
    "start_time": "2024-09-24T19:42:00.023Z"
   },
   {
    "duration": 14,
    "start_time": "2024-09-24T19:42:16.714Z"
   },
   {
    "duration": 19,
    "start_time": "2024-09-24T19:42:26.970Z"
   },
   {
    "duration": 68,
    "start_time": "2024-09-24T19:42:43.441Z"
   },
   {
    "duration": 2658,
    "start_time": "2024-09-24T19:43:02.495Z"
   },
   {
    "duration": 3251,
    "start_time": "2024-09-24T19:43:05.156Z"
   },
   {
    "duration": 1579,
    "start_time": "2024-09-24T19:43:08.409Z"
   },
   {
    "duration": 3,
    "start_time": "2024-09-24T19:43:09.990Z"
   },
   {
    "duration": 78,
    "start_time": "2024-09-24T19:43:09.995Z"
   },
   {
    "duration": 15,
    "start_time": "2024-09-24T19:43:10.075Z"
   },
   {
    "duration": 10,
    "start_time": "2024-09-24T19:43:10.091Z"
   },
   {
    "duration": 9,
    "start_time": "2024-09-24T19:43:10.102Z"
   },
   {
    "duration": 5,
    "start_time": "2024-09-24T19:43:10.112Z"
   },
   {
    "duration": 10,
    "start_time": "2024-09-24T19:43:10.118Z"
   },
   {
    "duration": 54,
    "start_time": "2024-09-24T19:43:10.129Z"
   },
   {
    "duration": 1762,
    "start_time": "2024-09-24T19:43:10.185Z"
   },
   {
    "duration": 39,
    "start_time": "2024-09-24T19:43:11.949Z"
   },
   {
    "duration": 510,
    "start_time": "2024-09-24T19:43:11.991Z"
   },
   {
    "duration": 329,
    "start_time": "2024-09-24T19:43:12.503Z"
   },
   {
    "duration": 281,
    "start_time": "2024-09-24T19:43:12.833Z"
   },
   {
    "duration": 6,
    "start_time": "2024-09-24T19:43:13.116Z"
   },
   {
    "duration": 13,
    "start_time": "2024-09-24T19:43:13.124Z"
   },
   {
    "duration": 323,
    "start_time": "2024-09-24T19:43:13.138Z"
   },
   {
    "duration": 7,
    "start_time": "2024-09-24T19:43:13.464Z"
   },
   {
    "duration": 25,
    "start_time": "2024-09-24T19:43:13.473Z"
   },
   {
    "duration": 5,
    "start_time": "2024-09-24T19:43:13.500Z"
   },
   {
    "duration": 9,
    "start_time": "2024-09-24T19:43:13.506Z"
   },
   {
    "duration": 5,
    "start_time": "2024-09-24T19:43:13.517Z"
   },
   {
    "duration": 6,
    "start_time": "2024-09-24T19:43:13.523Z"
   },
   {
    "duration": 3,
    "start_time": "2024-09-24T19:43:13.530Z"
   },
   {
    "duration": 3,
    "start_time": "2024-09-24T19:43:13.565Z"
   },
   {
    "duration": 5,
    "start_time": "2024-09-24T19:43:13.569Z"
   },
   {
    "duration": 6,
    "start_time": "2024-09-24T19:43:13.575Z"
   },
   {
    "duration": 2967,
    "start_time": "2024-09-24T19:43:13.583Z"
   },
   {
    "duration": 319,
    "start_time": "2024-09-24T19:43:16.565Z"
   },
   {
    "duration": 4,
    "start_time": "2024-09-24T19:43:16.886Z"
   },
   {
    "duration": 29,
    "start_time": "2024-09-24T19:43:16.891Z"
   },
   {
    "duration": 49,
    "start_time": "2024-09-24T19:43:16.922Z"
   },
   {
    "duration": 91,
    "start_time": "2024-09-24T19:43:16.976Z"
   },
   {
    "duration": 5,
    "start_time": "2024-09-24T19:43:17.069Z"
   },
   {
    "duration": 52694,
    "start_time": "2024-09-24T19:45:49.912Z"
   },
   {
    "duration": 90,
    "start_time": "2024-09-24T19:46:42.607Z"
   },
   {
    "duration": 4,
    "start_time": "2024-09-24T19:46:42.699Z"
   },
   {
    "duration": 15,
    "start_time": "2024-09-24T19:46:42.705Z"
   },
   {
    "duration": 11,
    "start_time": "2024-09-24T19:47:21.254Z"
   },
   {
    "duration": 130,
    "start_time": "2024-09-24T19:48:04.774Z"
   },
   {
    "duration": 9,
    "start_time": "2024-09-24T19:48:25.458Z"
   },
   {
    "duration": 8,
    "start_time": "2024-09-24T19:48:36.445Z"
   },
   {
    "duration": 4,
    "start_time": "2024-09-24T19:48:51.058Z"
   },
   {
    "duration": 6,
    "start_time": "2024-09-24T19:49:30.501Z"
   },
   {
    "duration": 14,
    "start_time": "2024-09-24T19:49:46.150Z"
   },
   {
    "duration": 9,
    "start_time": "2024-09-24T19:50:51.015Z"
   },
   {
    "duration": 9,
    "start_time": "2024-09-24T19:51:35.147Z"
   },
   {
    "duration": 3226,
    "start_time": "2024-09-24T19:51:44.612Z"
   },
   {
    "duration": 250,
    "start_time": "2024-09-24T19:51:47.840Z"
   },
   {
    "duration": 3,
    "start_time": "2024-09-24T19:51:48.239Z"
   },
   {
    "duration": 22,
    "start_time": "2024-09-24T19:51:49.156Z"
   },
   {
    "duration": 3,
    "start_time": "2024-09-24T19:51:55.192Z"
   },
   {
    "duration": 3,
    "start_time": "2024-09-24T19:51:55.529Z"
   },
   {
    "duration": 4,
    "start_time": "2024-09-24T19:51:55.862Z"
   },
   {
    "duration": 51956,
    "start_time": "2024-09-24T19:51:56.420Z"
   },
   {
    "duration": 61,
    "start_time": "2024-09-24T19:52:48.380Z"
   },
   {
    "duration": 3,
    "start_time": "2024-09-24T19:52:48.443Z"
   },
   {
    "duration": 46,
    "start_time": "2024-09-24T19:52:48.448Z"
   },
   {
    "duration": 169,
    "start_time": "2024-09-24T19:52:48.496Z"
   },
   {
    "duration": 5,
    "start_time": "2024-09-24T19:52:54.222Z"
   },
   {
    "duration": 4,
    "start_time": "2024-09-24T19:53:02.480Z"
   },
   {
    "duration": 2678,
    "start_time": "2024-09-24T19:53:19.669Z"
   },
   {
    "duration": 3170,
    "start_time": "2024-09-24T19:53:22.349Z"
   },
   {
    "duration": 1579,
    "start_time": "2024-09-24T19:53:25.521Z"
   },
   {
    "duration": 3,
    "start_time": "2024-09-24T19:53:27.102Z"
   },
   {
    "duration": 52,
    "start_time": "2024-09-24T19:53:27.108Z"
   },
   {
    "duration": 17,
    "start_time": "2024-09-24T19:53:27.161Z"
   },
   {
    "duration": 11,
    "start_time": "2024-09-24T19:53:27.180Z"
   },
   {
    "duration": 9,
    "start_time": "2024-09-24T19:53:27.193Z"
   },
   {
    "duration": 9,
    "start_time": "2024-09-24T19:53:27.204Z"
   },
   {
    "duration": 20,
    "start_time": "2024-09-24T19:53:27.215Z"
   },
   {
    "duration": 11,
    "start_time": "2024-09-24T19:53:27.236Z"
   },
   {
    "duration": 1738,
    "start_time": "2024-09-24T19:53:27.249Z"
   },
   {
    "duration": 36,
    "start_time": "2024-09-24T19:53:28.988Z"
   },
   {
    "duration": 462,
    "start_time": "2024-09-24T19:53:29.027Z"
   },
   {
    "duration": 295,
    "start_time": "2024-09-24T19:53:29.491Z"
   },
   {
    "duration": 313,
    "start_time": "2024-09-24T19:53:29.789Z"
   },
   {
    "duration": 7,
    "start_time": "2024-09-24T19:53:30.104Z"
   },
   {
    "duration": 40,
    "start_time": "2024-09-24T19:53:30.112Z"
   },
   {
    "duration": 452,
    "start_time": "2024-09-24T19:53:30.153Z"
   },
   {
    "duration": 4,
    "start_time": "2024-09-24T19:53:30.607Z"
   },
   {
    "duration": 42,
    "start_time": "2024-09-24T19:53:30.613Z"
   },
   {
    "duration": 15,
    "start_time": "2024-09-24T19:53:30.657Z"
   },
   {
    "duration": 22,
    "start_time": "2024-09-24T19:53:30.674Z"
   },
   {
    "duration": 8,
    "start_time": "2024-09-24T19:53:30.698Z"
   },
   {
    "duration": 19,
    "start_time": "2024-09-24T19:53:30.707Z"
   },
   {
    "duration": 6,
    "start_time": "2024-09-24T19:53:30.727Z"
   },
   {
    "duration": 13,
    "start_time": "2024-09-24T19:53:30.734Z"
   },
   {
    "duration": 20,
    "start_time": "2024-09-24T19:53:30.749Z"
   },
   {
    "duration": 8,
    "start_time": "2024-09-24T19:53:30.771Z"
   },
   {
    "duration": 2966,
    "start_time": "2024-09-24T19:53:30.781Z"
   },
   {
    "duration": 245,
    "start_time": "2024-09-24T19:53:33.749Z"
   },
   {
    "duration": 3,
    "start_time": "2024-09-24T19:53:33.996Z"
   },
   {
    "duration": 74,
    "start_time": "2024-09-24T19:53:34.001Z"
   },
   {
    "duration": 88,
    "start_time": "2024-09-24T19:53:34.078Z"
   },
   {
    "duration": 8,
    "start_time": "2024-09-24T19:53:34.168Z"
   },
   {
    "duration": 4,
    "start_time": "2024-09-24T19:53:34.177Z"
   },
   {
    "duration": 52567,
    "start_time": "2024-09-24T19:53:34.183Z"
   },
   {
    "duration": 75,
    "start_time": "2024-09-24T19:54:26.752Z"
   },
   {
    "duration": 4,
    "start_time": "2024-09-24T19:54:26.829Z"
   },
   {
    "duration": 32,
    "start_time": "2024-09-24T19:54:26.835Z"
   },
   {
    "duration": 18,
    "start_time": "2024-09-24T19:54:26.873Z"
   },
   {
    "duration": 345,
    "start_time": "2024-09-24T19:54:26.893Z"
   },
   {
    "duration": 224,
    "start_time": "2024-09-24T19:55:54.183Z"
   },
   {
    "duration": 210,
    "start_time": "2024-09-24T19:56:09.201Z"
   },
   {
    "duration": 194,
    "start_time": "2024-09-24T19:56:20.712Z"
   },
   {
    "duration": 216,
    "start_time": "2024-09-24T19:59:01.936Z"
   },
   {
    "duration": 245,
    "start_time": "2024-09-24T20:00:26.635Z"
   },
   {
    "duration": 4446,
    "start_time": "2024-09-25T11:26:48.805Z"
   },
   {
    "duration": 6482,
    "start_time": "2024-09-25T11:26:53.253Z"
   },
   {
    "duration": 1892,
    "start_time": "2024-09-25T11:26:59.737Z"
   },
   {
    "duration": 3,
    "start_time": "2024-09-25T11:27:01.631Z"
   },
   {
    "duration": 114,
    "start_time": "2024-09-25T11:27:01.637Z"
   },
   {
    "duration": 13,
    "start_time": "2024-09-25T11:27:01.753Z"
   },
   {
    "duration": 42,
    "start_time": "2024-09-25T11:27:01.767Z"
   },
   {
    "duration": 8,
    "start_time": "2024-09-25T11:27:01.811Z"
   },
   {
    "duration": 20,
    "start_time": "2024-09-25T11:27:01.821Z"
   },
   {
    "duration": 23,
    "start_time": "2024-09-25T11:27:01.842Z"
   },
   {
    "duration": 35,
    "start_time": "2024-09-25T11:27:01.867Z"
   },
   {
    "duration": 1701,
    "start_time": "2024-09-25T11:27:01.904Z"
   },
   {
    "duration": 34,
    "start_time": "2024-09-25T11:27:03.607Z"
   },
   {
    "duration": 475,
    "start_time": "2024-09-25T11:27:03.644Z"
   },
   {
    "duration": 280,
    "start_time": "2024-09-25T11:27:04.121Z"
   },
   {
    "duration": 294,
    "start_time": "2024-09-25T11:27:04.403Z"
   },
   {
    "duration": 7,
    "start_time": "2024-09-25T11:27:04.699Z"
   },
   {
    "duration": 54,
    "start_time": "2024-09-25T11:27:04.707Z"
   },
   {
    "duration": 291,
    "start_time": "2024-09-25T11:27:04.763Z"
   },
   {
    "duration": 4,
    "start_time": "2024-09-25T11:27:05.056Z"
   },
   {
    "duration": 43,
    "start_time": "2024-09-25T11:27:05.062Z"
   },
   {
    "duration": 5,
    "start_time": "2024-09-25T11:27:05.106Z"
   },
   {
    "duration": 11,
    "start_time": "2024-09-25T11:27:05.113Z"
   },
   {
    "duration": 16,
    "start_time": "2024-09-25T11:27:05.125Z"
   },
   {
    "duration": 10,
    "start_time": "2024-09-25T11:27:05.143Z"
   },
   {
    "duration": 16,
    "start_time": "2024-09-25T11:27:05.155Z"
   },
   {
    "duration": 29,
    "start_time": "2024-09-25T11:27:05.172Z"
   },
   {
    "duration": 11,
    "start_time": "2024-09-25T11:27:05.203Z"
   },
   {
    "duration": 4,
    "start_time": "2024-09-25T11:27:05.216Z"
   },
   {
    "duration": 3382,
    "start_time": "2024-09-25T11:27:05.222Z"
   },
   {
    "duration": 258,
    "start_time": "2024-09-25T11:27:08.605Z"
   },
   {
    "duration": 3,
    "start_time": "2024-09-25T11:27:08.865Z"
   },
   {
    "duration": 21,
    "start_time": "2024-09-25T11:27:08.870Z"
   },
   {
    "duration": 53,
    "start_time": "2024-09-25T11:27:08.893Z"
   },
   {
    "duration": 5,
    "start_time": "2024-09-25T11:27:08.948Z"
   },
   {
    "duration": 4,
    "start_time": "2024-09-25T11:27:09.042Z"
   },
   {
    "duration": 47277,
    "start_time": "2024-09-25T11:27:09.048Z"
   },
   {
    "duration": 63,
    "start_time": "2024-09-25T11:27:56.326Z"
   },
   {
    "duration": 4,
    "start_time": "2024-09-25T11:27:56.391Z"
   },
   {
    "duration": 18,
    "start_time": "2024-09-25T11:27:56.397Z"
   },
   {
    "duration": 38,
    "start_time": "2024-09-25T11:27:56.419Z"
   },
   {
    "duration": 375,
    "start_time": "2024-09-25T11:27:56.459Z"
   },
   {
    "duration": 73,
    "start_time": "2024-09-25T11:35:40.966Z"
   },
   {
    "duration": 202,
    "start_time": "2024-09-25T11:36:06.469Z"
   },
   {
    "duration": 117,
    "start_time": "2024-09-25T11:36:15.265Z"
   },
   {
    "duration": 3,
    "start_time": "2024-09-25T11:36:39.437Z"
   },
   {
    "duration": 3,
    "start_time": "2024-09-25T11:36:41.689Z"
   },
   {
    "duration": 3,
    "start_time": "2024-09-25T11:36:42.406Z"
   },
   {
    "duration": 3,
    "start_time": "2024-09-25T11:36:42.951Z"
   },
   {
    "duration": 28,
    "start_time": "2024-09-25T11:36:45.376Z"
   },
   {
    "duration": 3,
    "start_time": "2024-09-25T11:37:13.474Z"
   },
   {
    "duration": 3,
    "start_time": "2024-09-25T11:37:14.980Z"
   },
   {
    "duration": 2,
    "start_time": "2024-09-25T11:37:15.380Z"
   },
   {
    "duration": 3,
    "start_time": "2024-09-25T11:37:16.403Z"
   },
   {
    "duration": 873,
    "start_time": "2024-09-25T11:37:18.390Z"
   },
   {
    "duration": 184,
    "start_time": "2024-09-25T11:37:19.264Z"
   },
   {
    "duration": 4,
    "start_time": "2024-09-25T11:37:22.283Z"
   },
   {
    "duration": 2462,
    "start_time": "2024-09-25T11:38:07.810Z"
   },
   {
    "duration": 2956,
    "start_time": "2024-09-25T11:38:10.274Z"
   },
   {
    "duration": 2200,
    "start_time": "2024-09-25T11:38:13.232Z"
   },
   {
    "duration": 2,
    "start_time": "2024-09-25T11:38:15.434Z"
   },
   {
    "duration": 90,
    "start_time": "2024-09-25T11:38:15.438Z"
   },
   {
    "duration": 12,
    "start_time": "2024-09-25T11:38:15.530Z"
   },
   {
    "duration": 19,
    "start_time": "2024-09-25T11:38:15.543Z"
   },
   {
    "duration": 24,
    "start_time": "2024-09-25T11:38:15.564Z"
   },
   {
    "duration": 5,
    "start_time": "2024-09-25T11:38:15.590Z"
   },
   {
    "duration": 10,
    "start_time": "2024-09-25T11:38:15.596Z"
   },
   {
    "duration": 17,
    "start_time": "2024-09-25T11:38:15.608Z"
   },
   {
    "duration": 1648,
    "start_time": "2024-09-25T11:38:15.628Z"
   },
   {
    "duration": 32,
    "start_time": "2024-09-25T11:38:17.278Z"
   },
   {
    "duration": 474,
    "start_time": "2024-09-25T11:38:17.313Z"
   },
   {
    "duration": 279,
    "start_time": "2024-09-25T11:38:17.789Z"
   },
   {
    "duration": 266,
    "start_time": "2024-09-25T11:38:18.069Z"
   },
   {
    "duration": 10,
    "start_time": "2024-09-25T11:38:18.337Z"
   },
   {
    "duration": 13,
    "start_time": "2024-09-25T11:38:18.349Z"
   },
   {
    "duration": 312,
    "start_time": "2024-09-25T11:38:18.364Z"
   },
   {
    "duration": 4,
    "start_time": "2024-09-25T11:38:18.677Z"
   },
   {
    "duration": 25,
    "start_time": "2024-09-25T11:38:18.682Z"
   },
   {
    "duration": 5,
    "start_time": "2024-09-25T11:38:18.709Z"
   },
   {
    "duration": 7,
    "start_time": "2024-09-25T11:38:18.715Z"
   },
   {
    "duration": 66,
    "start_time": "2024-09-25T11:38:18.742Z"
   },
   {
    "duration": 8,
    "start_time": "2024-09-25T11:38:18.810Z"
   },
   {
    "duration": 4,
    "start_time": "2024-09-25T11:38:18.820Z"
   },
   {
    "duration": 7,
    "start_time": "2024-09-25T11:38:18.826Z"
   },
   {
    "duration": 7,
    "start_time": "2024-09-25T11:38:18.835Z"
   },
   {
    "duration": 1143,
    "start_time": "2024-09-25T11:38:18.843Z"
   },
   {
    "duration": 158,
    "start_time": "2024-09-25T11:38:19.988Z"
   },
   {
    "duration": 4,
    "start_time": "2024-09-25T11:38:20.148Z"
   },
   {
    "duration": 16,
    "start_time": "2024-09-25T11:38:20.153Z"
   },
   {
    "duration": 5,
    "start_time": "2024-09-25T11:38:20.247Z"
   },
   {
    "duration": 4,
    "start_time": "2024-09-25T11:38:20.343Z"
   },
   {
    "duration": 15,
    "start_time": "2024-09-25T11:38:20.348Z"
   },
   {
    "duration": 2527,
    "start_time": "2024-09-25T11:38:44.164Z"
   },
   {
    "duration": 3081,
    "start_time": "2024-09-25T11:38:46.693Z"
   },
   {
    "duration": 1640,
    "start_time": "2024-09-25T11:38:49.776Z"
   },
   {
    "duration": 3,
    "start_time": "2024-09-25T11:38:51.419Z"
   },
   {
    "duration": 125,
    "start_time": "2024-09-25T11:38:51.423Z"
   },
   {
    "duration": 12,
    "start_time": "2024-09-25T11:38:51.549Z"
   },
   {
    "duration": 26,
    "start_time": "2024-09-25T11:38:51.562Z"
   },
   {
    "duration": 30,
    "start_time": "2024-09-25T11:38:51.589Z"
   },
   {
    "duration": 16,
    "start_time": "2024-09-25T11:38:51.621Z"
   },
   {
    "duration": 48,
    "start_time": "2024-09-25T11:38:51.638Z"
   },
   {
    "duration": 24,
    "start_time": "2024-09-25T11:38:51.688Z"
   },
   {
    "duration": 1819,
    "start_time": "2024-09-25T11:38:51.715Z"
   },
   {
    "duration": 36,
    "start_time": "2024-09-25T11:38:53.536Z"
   },
   {
    "duration": 489,
    "start_time": "2024-09-25T11:38:53.574Z"
   },
   {
    "duration": 277,
    "start_time": "2024-09-25T11:38:54.065Z"
   },
   {
    "duration": 261,
    "start_time": "2024-09-25T11:38:54.344Z"
   },
   {
    "duration": 7,
    "start_time": "2024-09-25T11:38:54.607Z"
   },
   {
    "duration": 85,
    "start_time": "2024-09-25T11:38:54.615Z"
   },
   {
    "duration": 405,
    "start_time": "2024-09-25T11:38:54.701Z"
   },
   {
    "duration": 5,
    "start_time": "2024-09-25T11:38:55.107Z"
   },
   {
    "duration": 37,
    "start_time": "2024-09-25T11:38:55.113Z"
   },
   {
    "duration": 5,
    "start_time": "2024-09-25T11:38:55.151Z"
   },
   {
    "duration": 23,
    "start_time": "2024-09-25T11:38:55.158Z"
   },
   {
    "duration": 11,
    "start_time": "2024-09-25T11:38:55.183Z"
   },
   {
    "duration": 24,
    "start_time": "2024-09-25T11:38:55.196Z"
   },
   {
    "duration": 25,
    "start_time": "2024-09-25T11:38:55.222Z"
   },
   {
    "duration": 43,
    "start_time": "2024-09-25T11:38:55.249Z"
   },
   {
    "duration": 16,
    "start_time": "2024-09-25T11:38:55.294Z"
   },
   {
    "duration": 3448,
    "start_time": "2024-09-25T11:38:55.312Z"
   },
   {
    "duration": 99,
    "start_time": "2024-09-25T11:38:58.762Z"
   },
   {
    "duration": 4,
    "start_time": "2024-09-25T11:38:58.943Z"
   },
   {
    "duration": 30,
    "start_time": "2024-09-25T11:38:58.948Z"
   },
   {
    "duration": 108,
    "start_time": "2024-09-25T11:38:59.043Z"
   },
   {
    "duration": 37,
    "start_time": "2024-09-25T11:38:59.153Z"
   },
   {
    "duration": 37,
    "start_time": "2024-09-25T11:38:59.191Z"
   },
   {
    "duration": 42885,
    "start_time": "2024-09-25T11:38:59.232Z"
   },
   {
    "duration": 47,
    "start_time": "2024-09-25T11:39:42.119Z"
   },
   {
    "duration": 7,
    "start_time": "2024-09-25T11:39:42.167Z"
   },
   {
    "duration": 32,
    "start_time": "2024-09-25T11:39:42.176Z"
   },
   {
    "duration": 34,
    "start_time": "2024-09-25T11:39:42.210Z"
   },
   {
    "duration": 305,
    "start_time": "2024-09-25T11:39:42.246Z"
   }
  ],
  "kernelspec": {
   "display_name": "Python 3 (ipykernel)",
   "language": "python",
   "name": "python3"
  },
  "language_info": {
   "codemirror_mode": {
    "name": "ipython",
    "version": 3
   },
   "file_extension": ".py",
   "mimetype": "text/x-python",
   "name": "python",
   "nbconvert_exporter": "python",
   "pygments_lexer": "ipython3",
   "version": "3.9.5"
  },
  "toc": {
   "base_numbering": 1,
   "nav_menu": {},
   "number_sections": true,
   "sideBar": true,
   "skip_h1_title": true,
   "title_cell": "Содержание",
   "title_sidebar": "Contents",
   "toc_cell": true,
   "toc_position": {
    "height": "calc(100% - 180px)",
    "left": "10px",
    "top": "150px",
    "width": "260px"
   },
   "toc_section_display": true,
   "toc_window_display": true
  }
 },
 "nbformat": 4,
 "nbformat_minor": 2
}
