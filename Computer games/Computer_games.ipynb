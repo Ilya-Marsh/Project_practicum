{
 "cells": [
  {
   "cell_type": "markdown",
   "metadata": {},
   "source": [
    "# Проект: Интернет-магазин \"Стримчик\""
   ]
  },
  {
   "cell_type": "markdown",
   "metadata": {},
   "source": [
    "Есть  интернет-магазин «Стримчик», который продаёт по всему миру компьютерные игры. Из открытых источников доступны исторические данные о продажах игр, оценки пользователей и экспертов, жанры и платформы (например, Xbox или PlayStation). Необходимо выявить определяющие успешность игры закономерности. Это позволит сделать ставку на потенциально популярный продукт и спланировать рекламные кампании. Данные представленны до 2016 года. \n",
    "\n",
    "\n",
    "План:\n",
    " - Загрузить данные;\n",
    " - Провести обработку данных: обработать пропущенные значения, проверить дубликаты, преобразовать типы данных, посчитать суммарные продажи, а также обработать не стандартное значение 'tbd';\n",
    " - Провести исследовательский анализ и выявить некоторые закономерности;\n",
    " - Описать пользователя каждого региона;\n",
    " - Проверить заданные гипотезы."
   ]
  },
  {
   "cell_type": "markdown",
   "metadata": {},
   "source": [
    "#### Загрузка данных"
   ]
  },
  {
   "cell_type": "code",
   "execution_count": 1,
   "metadata": {},
   "outputs": [],
   "source": [
    "#Объявление библиотек\n",
    "import pandas as pd\n",
    "import matplotlib.pyplot as plt\n",
    "import scipy.stats as st\n",
    "import numpy as np\n",
    "import seaborn as sns"
   ]
  },
  {
   "cell_type": "code",
   "execution_count": 2,
   "metadata": {},
   "outputs": [],
   "source": [
    "try:\n",
    "    data = pd.read_csv('/datasets/games.csv')\n",
    "except:\n",
    "    data = pd.read_csv('games.csv')"
   ]
  },
  {
   "cell_type": "code",
   "execution_count": 3,
   "metadata": {},
   "outputs": [
    {
     "name": "stdout",
     "output_type": "stream",
     "text": [
      "<class 'pandas.core.frame.DataFrame'>\n",
      "RangeIndex: 16715 entries, 0 to 16714\n",
      "Data columns (total 11 columns):\n",
      " #   Column           Non-Null Count  Dtype  \n",
      "---  ------           --------------  -----  \n",
      " 0   Name             16713 non-null  object \n",
      " 1   Platform         16715 non-null  object \n",
      " 2   Year_of_Release  16446 non-null  float64\n",
      " 3   Genre            16713 non-null  object \n",
      " 4   NA_sales         16715 non-null  float64\n",
      " 5   EU_sales         16715 non-null  float64\n",
      " 6   JP_sales         16715 non-null  float64\n",
      " 7   Other_sales      16715 non-null  float64\n",
      " 8   Critic_Score     8137 non-null   float64\n",
      " 9   User_Score       10014 non-null  object \n",
      " 10  Rating           9949 non-null   object \n",
      "dtypes: float64(6), object(5)\n",
      "memory usage: 1.4+ MB\n"
     ]
    }
   ],
   "source": [
    "#Вывод общей информации\n",
    "data.info()"
   ]
  },
  {
   "cell_type": "code",
   "execution_count": 4,
   "metadata": {},
   "outputs": [
    {
     "data": {
      "text/html": [
       "<div>\n",
       "<style scoped>\n",
       "    .dataframe tbody tr th:only-of-type {\n",
       "        vertical-align: middle;\n",
       "    }\n",
       "\n",
       "    .dataframe tbody tr th {\n",
       "        vertical-align: top;\n",
       "    }\n",
       "\n",
       "    .dataframe thead th {\n",
       "        text-align: right;\n",
       "    }\n",
       "</style>\n",
       "<table border=\"1\" class=\"dataframe\">\n",
       "  <thead>\n",
       "    <tr style=\"text-align: right;\">\n",
       "      <th></th>\n",
       "      <th>Name</th>\n",
       "      <th>Platform</th>\n",
       "      <th>Year_of_Release</th>\n",
       "      <th>Genre</th>\n",
       "      <th>NA_sales</th>\n",
       "      <th>EU_sales</th>\n",
       "      <th>JP_sales</th>\n",
       "      <th>Other_sales</th>\n",
       "      <th>Critic_Score</th>\n",
       "      <th>User_Score</th>\n",
       "      <th>Rating</th>\n",
       "    </tr>\n",
       "  </thead>\n",
       "  <tbody>\n",
       "    <tr>\n",
       "      <th>0</th>\n",
       "      <td>Wii Sports</td>\n",
       "      <td>Wii</td>\n",
       "      <td>2006.0</td>\n",
       "      <td>Sports</td>\n",
       "      <td>41.36</td>\n",
       "      <td>28.96</td>\n",
       "      <td>3.77</td>\n",
       "      <td>8.45</td>\n",
       "      <td>76.0</td>\n",
       "      <td>8</td>\n",
       "      <td>E</td>\n",
       "    </tr>\n",
       "    <tr>\n",
       "      <th>1</th>\n",
       "      <td>Super Mario Bros.</td>\n",
       "      <td>NES</td>\n",
       "      <td>1985.0</td>\n",
       "      <td>Platform</td>\n",
       "      <td>29.08</td>\n",
       "      <td>3.58</td>\n",
       "      <td>6.81</td>\n",
       "      <td>0.77</td>\n",
       "      <td>NaN</td>\n",
       "      <td>NaN</td>\n",
       "      <td>NaN</td>\n",
       "    </tr>\n",
       "    <tr>\n",
       "      <th>2</th>\n",
       "      <td>Mario Kart Wii</td>\n",
       "      <td>Wii</td>\n",
       "      <td>2008.0</td>\n",
       "      <td>Racing</td>\n",
       "      <td>15.68</td>\n",
       "      <td>12.76</td>\n",
       "      <td>3.79</td>\n",
       "      <td>3.29</td>\n",
       "      <td>82.0</td>\n",
       "      <td>8.3</td>\n",
       "      <td>E</td>\n",
       "    </tr>\n",
       "    <tr>\n",
       "      <th>3</th>\n",
       "      <td>Wii Sports Resort</td>\n",
       "      <td>Wii</td>\n",
       "      <td>2009.0</td>\n",
       "      <td>Sports</td>\n",
       "      <td>15.61</td>\n",
       "      <td>10.93</td>\n",
       "      <td>3.28</td>\n",
       "      <td>2.95</td>\n",
       "      <td>80.0</td>\n",
       "      <td>8</td>\n",
       "      <td>E</td>\n",
       "    </tr>\n",
       "    <tr>\n",
       "      <th>4</th>\n",
       "      <td>Pokemon Red/Pokemon Blue</td>\n",
       "      <td>GB</td>\n",
       "      <td>1996.0</td>\n",
       "      <td>Role-Playing</td>\n",
       "      <td>11.27</td>\n",
       "      <td>8.89</td>\n",
       "      <td>10.22</td>\n",
       "      <td>1.00</td>\n",
       "      <td>NaN</td>\n",
       "      <td>NaN</td>\n",
       "      <td>NaN</td>\n",
       "    </tr>\n",
       "  </tbody>\n",
       "</table>\n",
       "</div>"
      ],
      "text/plain": [
       "                       Name Platform  Year_of_Release         Genre  NA_sales  \\\n",
       "0                Wii Sports      Wii           2006.0        Sports     41.36   \n",
       "1         Super Mario Bros.      NES           1985.0      Platform     29.08   \n",
       "2            Mario Kart Wii      Wii           2008.0        Racing     15.68   \n",
       "3         Wii Sports Resort      Wii           2009.0        Sports     15.61   \n",
       "4  Pokemon Red/Pokemon Blue       GB           1996.0  Role-Playing     11.27   \n",
       "\n",
       "   EU_sales  JP_sales  Other_sales  Critic_Score User_Score Rating  \n",
       "0     28.96      3.77         8.45          76.0          8      E  \n",
       "1      3.58      6.81         0.77           NaN        NaN    NaN  \n",
       "2     12.76      3.79         3.29          82.0        8.3      E  \n",
       "3     10.93      3.28         2.95          80.0          8      E  \n",
       "4      8.89     10.22         1.00           NaN        NaN    NaN  "
      ]
     },
     "execution_count": 4,
     "metadata": {},
     "output_type": "execute_result"
    }
   ],
   "source": [
    "#Вывод первых строк\n",
    "data.head()"
   ]
  },
  {
   "cell_type": "markdown",
   "metadata": {},
   "source": [
    "<div class='alert alert-info'>\n",
    "    На данном этапе для загрузки данных был применена структура 'try-except' для исключения возникновения ошибки при запуске программы на разных устройствах. Датасет содержит 16715 строк, в некоторых столбцах заметно очень много пропусков. При выводе первых 5 строк можно увидеть как структурированы данные и какие обозначения присутствуют для каждого столбца.\n",
    "</div>"
   ]
  },
  {
   "cell_type": "markdown",
   "metadata": {},
   "source": [
    "#### Предобработка данных"
   ]
  },
  {
   "cell_type": "markdown",
   "metadata": {},
   "source": [
    "##### Замена названий столбцов"
   ]
  },
  {
   "cell_type": "code",
   "execution_count": 5,
   "metadata": {},
   "outputs": [],
   "source": [
    "data.columns = data.columns.str.lower()"
   ]
  },
  {
   "cell_type": "markdown",
   "metadata": {},
   "source": [
    "##### Обработка пропусков"
   ]
  },
  {
   "cell_type": "code",
   "execution_count": 6,
   "metadata": {},
   "outputs": [],
   "source": [
    "start_shape = data.shape[0]"
   ]
  },
  {
   "cell_type": "code",
   "execution_count": 7,
   "metadata": {},
   "outputs": [
    {
     "data": {
      "text/plain": [
       "platform              0\n",
       "na_sales              0\n",
       "eu_sales              0\n",
       "jp_sales              0\n",
       "other_sales           0\n",
       "name                  2\n",
       "genre                 2\n",
       "year_of_release     269\n",
       "user_score         6701\n",
       "rating             6766\n",
       "critic_score       8578\n",
       "dtype: int64"
      ]
     },
     "execution_count": 7,
     "metadata": {},
     "output_type": "execute_result"
    }
   ],
   "source": [
    "data.isna().sum().sort_values()"
   ]
  },
  {
   "cell_type": "code",
   "execution_count": 8,
   "metadata": {},
   "outputs": [],
   "source": [
    "data = data.dropna(subset = ['name', 'year_of_release'])"
   ]
  },
  {
   "cell_type": "code",
   "execution_count": 9,
   "metadata": {},
   "outputs": [
    {
     "data": {
      "text/plain": [
       "name                  0\n",
       "platform              0\n",
       "year_of_release       0\n",
       "genre                 0\n",
       "na_sales              0\n",
       "eu_sales              0\n",
       "jp_sales              0\n",
       "other_sales           0\n",
       "critic_score       8461\n",
       "user_score         6605\n",
       "rating             6676\n",
       "dtype: int64"
      ]
     },
     "execution_count": 9,
     "metadata": {},
     "output_type": "execute_result"
    }
   ],
   "source": [
    "data.isna().sum()"
   ]
  },
  {
   "cell_type": "markdown",
   "metadata": {},
   "source": [
    "**В столбцах с названием игры и годом выпуска было мало пропусков, поэтому их можно удалить.**"
   ]
  },
  {
   "cell_type": "code",
   "execution_count": 10,
   "metadata": {},
   "outputs": [],
   "source": [
    "data['critic_score'] = data.groupby(['platform', 'genre'])['critic_score'].transform(lambda x: x.fillna(x.mean()))"
   ]
  },
  {
   "cell_type": "markdown",
   "metadata": {},
   "source": [
    "**Оценка критиков вполне может быть связана с платформой и жанром игры, поэтому можно сгруппировать по этим столбцам и заполнить средним**"
   ]
  },
  {
   "cell_type": "code",
   "execution_count": 11,
   "metadata": {},
   "outputs": [
    {
     "data": {
      "text/plain": [
       "name                  0\n",
       "platform              0\n",
       "year_of_release       0\n",
       "genre                 0\n",
       "na_sales              0\n",
       "eu_sales              0\n",
       "jp_sales              0\n",
       "other_sales           0\n",
       "critic_score       1111\n",
       "user_score         6605\n",
       "rating             6676\n",
       "dtype: int64"
      ]
     },
     "execution_count": 11,
     "metadata": {},
     "output_type": "execute_result"
    }
   ],
   "source": [
    "data.isna().sum()"
   ]
  },
  {
   "cell_type": "code",
   "execution_count": 12,
   "metadata": {},
   "outputs": [],
   "source": [
    "data['rating'] = data['rating'].fillna('unknown')"
   ]
  },
  {
   "cell_type": "markdown",
   "metadata": {},
   "source": [
    "**Данный столбец содержит категорию игры, заполним неопределенным названием категории**"
   ]
  },
  {
   "cell_type": "code",
   "execution_count": 13,
   "metadata": {},
   "outputs": [
    {
     "data": {
      "text/plain": [
       "name                  0\n",
       "platform              0\n",
       "year_of_release       0\n",
       "genre                 0\n",
       "na_sales              0\n",
       "eu_sales              0\n",
       "jp_sales              0\n",
       "other_sales           0\n",
       "critic_score       1111\n",
       "user_score         6605\n",
       "rating                0\n",
       "dtype: int64"
      ]
     },
     "execution_count": 13,
     "metadata": {},
     "output_type": "execute_result"
    }
   ],
   "source": [
    "data.isna().sum()"
   ]
  },
  {
   "cell_type": "markdown",
   "metadata": {},
   "source": [
    "###### Обработка столбца user_score"
   ]
  },
  {
   "cell_type": "code",
   "execution_count": 14,
   "metadata": {},
   "outputs": [
    {
     "data": {
      "text/plain": [
       "array(['8', nan, '8.3', '8.5', '6.6', '8.4', '8.6', '7.7', '6.3', '7.4',\n",
       "       '8.2', '9', '7.9', '8.1', '8.7', '7.1', '3.4', '5.3', '4.8', '3.2',\n",
       "       '8.9', '6.4', '7.8', '7.5', '2.6', '7.2', '9.2', '7', '7.3', '4.3',\n",
       "       '7.6', '5.7', '5', '9.1', '6.5', 'tbd', '8.8', '6.9', '9.4', '6.8',\n",
       "       '6.1', '6.7', '5.4', '4', '4.9', '4.5', '9.3', '6.2', '4.2', '6',\n",
       "       '3.7', '4.1', '5.8', '5.6', '5.5', '4.4', '4.6', '5.9', '3.9',\n",
       "       '3.1', '2.9', '5.2', '3.3', '4.7', '5.1', '3.5', '2.5', '1.9', '3',\n",
       "       '2.7', '2.2', '2', '9.5', '2.1', '3.6', '2.8', '1.8', '3.8', '0',\n",
       "       '1.6', '9.6', '2.4', '1.7', '1.1', '0.3', '1.5', '0.7', '1.2',\n",
       "       '2.3', '0.5', '1.3', '0.2', '0.6', '1.4', '0.9', '1', '9.7'],\n",
       "      dtype=object)"
      ]
     },
     "execution_count": 14,
     "metadata": {},
     "output_type": "execute_result"
    }
   ],
   "source": [
    "data['user_score'].unique()"
   ]
  },
  {
   "cell_type": "markdown",
   "metadata": {},
   "source": [
    "**Видим значение 'tbd', что означает, что рейтинг ещё не определён, поэтому заменим это значение на nan и обработаем как и столбец\n",
    "critic_score.**"
   ]
  },
  {
   "cell_type": "code",
   "execution_count": 15,
   "metadata": {},
   "outputs": [],
   "source": [
    "data['user_score'].replace('tbd', np.nan, inplace=True)"
   ]
  },
  {
   "cell_type": "code",
   "execution_count": 16,
   "metadata": {},
   "outputs": [
    {
     "data": {
      "text/plain": [
       "array(['8', nan, '8.3', '8.5', '6.6', '8.4', '8.6', '7.7', '6.3', '7.4',\n",
       "       '8.2', '9', '7.9', '8.1', '8.7', '7.1', '3.4', '5.3', '4.8', '3.2',\n",
       "       '8.9', '6.4', '7.8', '7.5', '2.6', '7.2', '9.2', '7', '7.3', '4.3',\n",
       "       '7.6', '5.7', '5', '9.1', '6.5', '8.8', '6.9', '9.4', '6.8', '6.1',\n",
       "       '6.7', '5.4', '4', '4.9', '4.5', '9.3', '6.2', '4.2', '6', '3.7',\n",
       "       '4.1', '5.8', '5.6', '5.5', '4.4', '4.6', '5.9', '3.9', '3.1',\n",
       "       '2.9', '5.2', '3.3', '4.7', '5.1', '3.5', '2.5', '1.9', '3', '2.7',\n",
       "       '2.2', '2', '9.5', '2.1', '3.6', '2.8', '1.8', '3.8', '0', '1.6',\n",
       "       '9.6', '2.4', '1.7', '1.1', '0.3', '1.5', '0.7', '1.2', '2.3',\n",
       "       '0.5', '1.3', '0.2', '0.6', '1.4', '0.9', '1', '9.7'], dtype=object)"
      ]
     },
     "execution_count": 16,
     "metadata": {},
     "output_type": "execute_result"
    }
   ],
   "source": [
    "data['user_score'].unique()"
   ]
  },
  {
   "cell_type": "code",
   "execution_count": 17,
   "metadata": {},
   "outputs": [],
   "source": [
    "data['user_score'] = data['user_score'].astype('float64')\n",
    "data['user_score'] = data.groupby(['platform', 'genre'])['user_score'].transform(lambda x: x.fillna(x.mean()))"
   ]
  },
  {
   "cell_type": "code",
   "execution_count": 18,
   "metadata": {},
   "outputs": [
    {
     "data": {
      "text/plain": [
       "name                  0\n",
       "platform              0\n",
       "year_of_release       0\n",
       "genre                 0\n",
       "na_sales              0\n",
       "eu_sales              0\n",
       "jp_sales              0\n",
       "other_sales           0\n",
       "critic_score       1111\n",
       "user_score         1104\n",
       "rating                0\n",
       "dtype: int64"
      ]
     },
     "execution_count": 18,
     "metadata": {},
     "output_type": "execute_result"
    }
   ],
   "source": [
    "data.isna().sum()"
   ]
  },
  {
   "cell_type": "code",
   "execution_count": 19,
   "metadata": {},
   "outputs": [
    {
     "data": {
      "text/plain": [
       "16444"
      ]
     },
     "execution_count": 19,
     "metadata": {},
     "output_type": "execute_result"
    }
   ],
   "source": [
    "finish_shape = data.shape[0]\n",
    "finish_shape"
   ]
  },
  {
   "cell_type": "code",
   "execution_count": 20,
   "metadata": {},
   "outputs": [
    {
     "data": {
      "text/plain": [
       "1.6212982351181575"
      ]
     },
     "execution_count": 20,
     "metadata": {},
     "output_type": "execute_result"
    }
   ],
   "source": [
    "((start_shape - finish_shape) / start_shape) * 100"
   ]
  },
  {
   "cell_type": "markdown",
   "metadata": {},
   "source": [
    "**По итогам обработки пропусков можно сказать, что неопределенные значения были обнаружены в 6 столбцах, в трех из них пропуски были удалены, так как количество строк с пропусщенными значениями позволяло это сделать, в столбце с рейтингом критиков, заполнение происходило по средним значениям группировки по столбцам platform и genre, в столбце с рейтингом пользователей также, но прежде необходимо было обработать значение 'tbd', в столбце rating, заполнили 'unknown'. Пропуски могли появится из-за технических проблем, либо рейтинг игр не был сформирован или проставлен теми, кто их оценивал. По итогу удалено 1.6 % строк, что является допустимым.**"
   ]
  },
  {
   "cell_type": "markdown",
   "metadata": {},
   "source": [
    "##### Проверка на дубликаты"
   ]
  },
  {
   "cell_type": "code",
   "execution_count": 21,
   "metadata": {},
   "outputs": [
    {
     "data": {
      "text/plain": [
       "0"
      ]
     },
     "execution_count": 21,
     "metadata": {},
     "output_type": "execute_result"
    }
   ],
   "source": [
    "data.duplicated().sum()"
   ]
  },
  {
   "cell_type": "markdown",
   "metadata": {},
   "source": [
    "##### Преобразование типов столбцов"
   ]
  },
  {
   "cell_type": "code",
   "execution_count": 22,
   "metadata": {},
   "outputs": [],
   "source": [
    "data['year_of_release'] = data['year_of_release'].astype('int32')"
   ]
  },
  {
   "cell_type": "markdown",
   "metadata": {},
   "source": [
    "**Столбец с годом выхода игры следует преобразовать в целочисленный тип, а также столбец user_score уже был преобразован в float тип.**"
   ]
  },
  {
   "cell_type": "markdown",
   "metadata": {},
   "source": [
    "##### Суммарные продажи"
   ]
  },
  {
   "cell_type": "code",
   "execution_count": 23,
   "metadata": {},
   "outputs": [],
   "source": [
    "data['total_sales'] = data[['eu_sales', 'na_sales', 'jp_sales', 'other_sales']].sum(axis=1)"
   ]
  },
  {
   "cell_type": "code",
   "execution_count": 24,
   "metadata": {},
   "outputs": [
    {
     "data": {
      "text/html": [
       "<div>\n",
       "<style scoped>\n",
       "    .dataframe tbody tr th:only-of-type {\n",
       "        vertical-align: middle;\n",
       "    }\n",
       "\n",
       "    .dataframe tbody tr th {\n",
       "        vertical-align: top;\n",
       "    }\n",
       "\n",
       "    .dataframe thead th {\n",
       "        text-align: right;\n",
       "    }\n",
       "</style>\n",
       "<table border=\"1\" class=\"dataframe\">\n",
       "  <thead>\n",
       "    <tr style=\"text-align: right;\">\n",
       "      <th></th>\n",
       "      <th>name</th>\n",
       "      <th>platform</th>\n",
       "      <th>year_of_release</th>\n",
       "      <th>genre</th>\n",
       "      <th>na_sales</th>\n",
       "      <th>eu_sales</th>\n",
       "      <th>jp_sales</th>\n",
       "      <th>other_sales</th>\n",
       "      <th>critic_score</th>\n",
       "      <th>user_score</th>\n",
       "      <th>rating</th>\n",
       "      <th>total_sales</th>\n",
       "    </tr>\n",
       "  </thead>\n",
       "  <tbody>\n",
       "    <tr>\n",
       "      <th>0</th>\n",
       "      <td>Wii Sports</td>\n",
       "      <td>Wii</td>\n",
       "      <td>2006</td>\n",
       "      <td>Sports</td>\n",
       "      <td>41.36</td>\n",
       "      <td>28.96</td>\n",
       "      <td>3.77</td>\n",
       "      <td>8.45</td>\n",
       "      <td>76.0</td>\n",
       "      <td>8.0</td>\n",
       "      <td>E</td>\n",
       "      <td>82.54</td>\n",
       "    </tr>\n",
       "    <tr>\n",
       "      <th>1</th>\n",
       "      <td>Super Mario Bros.</td>\n",
       "      <td>NES</td>\n",
       "      <td>1985</td>\n",
       "      <td>Platform</td>\n",
       "      <td>29.08</td>\n",
       "      <td>3.58</td>\n",
       "      <td>6.81</td>\n",
       "      <td>0.77</td>\n",
       "      <td>NaN</td>\n",
       "      <td>NaN</td>\n",
       "      <td>unknown</td>\n",
       "      <td>40.24</td>\n",
       "    </tr>\n",
       "    <tr>\n",
       "      <th>2</th>\n",
       "      <td>Mario Kart Wii</td>\n",
       "      <td>Wii</td>\n",
       "      <td>2008</td>\n",
       "      <td>Racing</td>\n",
       "      <td>15.68</td>\n",
       "      <td>12.76</td>\n",
       "      <td>3.79</td>\n",
       "      <td>3.29</td>\n",
       "      <td>82.0</td>\n",
       "      <td>8.3</td>\n",
       "      <td>E</td>\n",
       "      <td>35.52</td>\n",
       "    </tr>\n",
       "    <tr>\n",
       "      <th>3</th>\n",
       "      <td>Wii Sports Resort</td>\n",
       "      <td>Wii</td>\n",
       "      <td>2009</td>\n",
       "      <td>Sports</td>\n",
       "      <td>15.61</td>\n",
       "      <td>10.93</td>\n",
       "      <td>3.28</td>\n",
       "      <td>2.95</td>\n",
       "      <td>80.0</td>\n",
       "      <td>8.0</td>\n",
       "      <td>E</td>\n",
       "      <td>32.77</td>\n",
       "    </tr>\n",
       "    <tr>\n",
       "      <th>4</th>\n",
       "      <td>Pokemon Red/Pokemon Blue</td>\n",
       "      <td>GB</td>\n",
       "      <td>1996</td>\n",
       "      <td>Role-Playing</td>\n",
       "      <td>11.27</td>\n",
       "      <td>8.89</td>\n",
       "      <td>10.22</td>\n",
       "      <td>1.00</td>\n",
       "      <td>NaN</td>\n",
       "      <td>NaN</td>\n",
       "      <td>unknown</td>\n",
       "      <td>31.38</td>\n",
       "    </tr>\n",
       "  </tbody>\n",
       "</table>\n",
       "</div>"
      ],
      "text/plain": [
       "                       name platform  year_of_release         genre  na_sales  \\\n",
       "0                Wii Sports      Wii             2006        Sports     41.36   \n",
       "1         Super Mario Bros.      NES             1985      Platform     29.08   \n",
       "2            Mario Kart Wii      Wii             2008        Racing     15.68   \n",
       "3         Wii Sports Resort      Wii             2009        Sports     15.61   \n",
       "4  Pokemon Red/Pokemon Blue       GB             1996  Role-Playing     11.27   \n",
       "\n",
       "   eu_sales  jp_sales  other_sales  critic_score  user_score   rating  \\\n",
       "0     28.96      3.77         8.45          76.0         8.0        E   \n",
       "1      3.58      6.81         0.77           NaN         NaN  unknown   \n",
       "2     12.76      3.79         3.29          82.0         8.3        E   \n",
       "3     10.93      3.28         2.95          80.0         8.0        E   \n",
       "4      8.89     10.22         1.00           NaN         NaN  unknown   \n",
       "\n",
       "   total_sales  \n",
       "0        82.54  \n",
       "1        40.24  \n",
       "2        35.52  \n",
       "3        32.77  \n",
       "4        31.38  "
      ]
     },
     "execution_count": 24,
     "metadata": {},
     "output_type": "execute_result"
    }
   ],
   "source": [
    "data.head()"
   ]
  },
  {
   "cell_type": "markdown",
   "metadata": {},
   "source": [
    "<div class='alert alert-info'>\n",
    "  По итогам обработки данных, ко всем изменениям, которые описаны выше, после удаления пропусков, была сделана проверка на наличие дубликатов, обнаружено их не было. Преобразован ещё один тип столбца year_of_release из float в int. Добавлен столбец с суммарной продажей по всем регионам для каждый игры.\n",
    "</div>"
   ]
  },
  {
   "cell_type": "markdown",
   "metadata": {},
   "source": [
    "#### Исследовательский анализ"
   ]
  },
  {
   "cell_type": "markdown",
   "metadata": {},
   "source": [
    "##### Зависимость количества выпущенных игр от года выпуска"
   ]
  },
  {
   "cell_type": "code",
   "execution_count": 25,
   "metadata": {},
   "outputs": [
    {
     "data": {
      "image/png": "[encoded data removed]",
      "text/plain": [
       "<Figure size 432x288 with 1 Axes>"
      ]
     },
     "metadata": {
      "needs_background": "light"
     },
     "output_type": "display_data"
    },
    {
     "data": {
      "text/html": [
       "<div>\n",
       "<style scoped>\n",
       "    .dataframe tbody tr th:only-of-type {\n",
       "        vertical-align: middle;\n",
       "    }\n",
       "\n",
       "    .dataframe tbody tr th {\n",
       "        vertical-align: top;\n",
       "    }\n",
       "\n",
       "    .dataframe thead th {\n",
       "        text-align: right;\n",
       "    }\n",
       "</style>\n",
       "<table border=\"1\" class=\"dataframe\">\n",
       "  <thead>\n",
       "    <tr style=\"text-align: right;\">\n",
       "      <th></th>\n",
       "      <th>year_of_release</th>\n",
       "      <th>count</th>\n",
       "    </tr>\n",
       "  </thead>\n",
       "  <tbody>\n",
       "    <tr>\n",
       "      <th>0</th>\n",
       "      <td>1980</td>\n",
       "      <td>9</td>\n",
       "    </tr>\n",
       "    <tr>\n",
       "      <th>4</th>\n",
       "      <td>1984</td>\n",
       "      <td>14</td>\n",
       "    </tr>\n",
       "    <tr>\n",
       "      <th>5</th>\n",
       "      <td>1985</td>\n",
       "      <td>14</td>\n",
       "    </tr>\n",
       "    <tr>\n",
       "      <th>8</th>\n",
       "      <td>1988</td>\n",
       "      <td>15</td>\n",
       "    </tr>\n",
       "    <tr>\n",
       "      <th>10</th>\n",
       "      <td>1990</td>\n",
       "      <td>16</td>\n",
       "    </tr>\n",
       "    <tr>\n",
       "      <th>7</th>\n",
       "      <td>1987</td>\n",
       "      <td>16</td>\n",
       "    </tr>\n",
       "    <tr>\n",
       "      <th>9</th>\n",
       "      <td>1989</td>\n",
       "      <td>17</td>\n",
       "    </tr>\n",
       "    <tr>\n",
       "      <th>3</th>\n",
       "      <td>1983</td>\n",
       "      <td>17</td>\n",
       "    </tr>\n",
       "    <tr>\n",
       "      <th>6</th>\n",
       "      <td>1986</td>\n",
       "      <td>21</td>\n",
       "    </tr>\n",
       "    <tr>\n",
       "      <th>2</th>\n",
       "      <td>1982</td>\n",
       "      <td>36</td>\n",
       "    </tr>\n",
       "  </tbody>\n",
       "</table>\n",
       "</div>"
      ],
      "text/plain": [
       "    year_of_release  count\n",
       "0              1980      9\n",
       "4              1984     14\n",
       "5              1985     14\n",
       "8              1988     15\n",
       "10             1990     16\n",
       "7              1987     16\n",
       "9              1989     17\n",
       "3              1983     17\n",
       "6              1986     21\n",
       "2              1982     36"
      ]
     },
     "execution_count": 25,
     "metadata": {},
     "output_type": "execute_result"
    }
   ],
   "source": [
    "pivot_year = (data.pivot_table(index = 'year_of_release', values = 'name', aggfunc = 'count').reset_index().\n",
    "              rename(columns = {'name':'count'}))\n",
    "plt.bar(pivot_year['year_of_release'], pivot_year['count'])\n",
    "plt.title('Распределение количества игр выпущенных в определенный год')\n",
    "plt.xlabel('Год')\n",
    "plt.ylabel('Количество')\n",
    "plt.show()\n",
    "pivot_year.sort_values(by='count').head(10)"
   ]
  },
  {
   "cell_type": "markdown",
   "metadata": {},
   "source": [
    "**Из полученного распределения можно сказать, что в основном игры стали выпускаться после 1990 года, до этого было очень мало, поэтому датафрейм можно сократить и убрать период до 1990 года**"
   ]
  },
  {
   "cell_type": "code",
   "execution_count": 26,
   "metadata": {},
   "outputs": [],
   "source": [
    "data = data.query('year_of_release >= 1990')"
   ]
  },
  {
   "cell_type": "markdown",
   "metadata": {},
   "source": [
    "##### Анализ продаж в зависимости от платформы"
   ]
  },
  {
   "cell_type": "code",
   "execution_count": 27,
   "metadata": {},
   "outputs": [
    {
     "data": {
      "image/png": "[encoded data removed]",
      "text/plain": [
       "<Figure size 1440x360 with 1 Axes>"
      ]
     },
     "metadata": {
      "needs_background": "light"
     },
     "output_type": "display_data"
    },
    {
     "data": {
      "text/html": [
       "<div>\n",
       "<style scoped>\n",
       "    .dataframe tbody tr th:only-of-type {\n",
       "        vertical-align: middle;\n",
       "    }\n",
       "\n",
       "    .dataframe tbody tr th {\n",
       "        vertical-align: top;\n",
       "    }\n",
       "\n",
       "    .dataframe thead th {\n",
       "        text-align: right;\n",
       "    }\n",
       "</style>\n",
       "<table border=\"1\" class=\"dataframe\">\n",
       "  <thead>\n",
       "    <tr style=\"text-align: right;\">\n",
       "      <th></th>\n",
       "      <th>platform</th>\n",
       "      <th>total_sales</th>\n",
       "    </tr>\n",
       "  </thead>\n",
       "  <tbody>\n",
       "    <tr>\n",
       "      <th>15</th>\n",
       "      <td>PS2</td>\n",
       "      <td>1233.56</td>\n",
       "    </tr>\n",
       "    <tr>\n",
       "      <th>27</th>\n",
       "      <td>X360</td>\n",
       "      <td>961.24</td>\n",
       "    </tr>\n",
       "    <tr>\n",
       "      <th>16</th>\n",
       "      <td>PS3</td>\n",
       "      <td>931.34</td>\n",
       "    </tr>\n",
       "    <tr>\n",
       "      <th>25</th>\n",
       "      <td>Wii</td>\n",
       "      <td>891.18</td>\n",
       "    </tr>\n",
       "    <tr>\n",
       "      <th>3</th>\n",
       "      <td>DS</td>\n",
       "      <td>802.76</td>\n",
       "    </tr>\n",
       "    <tr>\n",
       "      <th>14</th>\n",
       "      <td>PS</td>\n",
       "      <td>727.58</td>\n",
       "    </tr>\n",
       "    <tr>\n",
       "      <th>17</th>\n",
       "      <td>PS4</td>\n",
       "      <td>314.14</td>\n",
       "    </tr>\n",
       "    <tr>\n",
       "      <th>5</th>\n",
       "      <td>GBA</td>\n",
       "      <td>312.88</td>\n",
       "    </tr>\n",
       "    <tr>\n",
       "      <th>18</th>\n",
       "      <td>PSP</td>\n",
       "      <td>289.53</td>\n",
       "    </tr>\n",
       "    <tr>\n",
       "      <th>1</th>\n",
       "      <td>3DS</td>\n",
       "      <td>257.81</td>\n",
       "    </tr>\n",
       "  </tbody>\n",
       "</table>\n",
       "</div>"
      ],
      "text/plain": [
       "   platform  total_sales\n",
       "15      PS2      1233.56\n",
       "27     X360       961.24\n",
       "16      PS3       931.34\n",
       "25      Wii       891.18\n",
       "3        DS       802.76\n",
       "14       PS       727.58\n",
       "17      PS4       314.14\n",
       "5       GBA       312.88\n",
       "18      PSP       289.53\n",
       "1       3DS       257.81"
      ]
     },
     "execution_count": 27,
     "metadata": {},
     "output_type": "execute_result"
    }
   ],
   "source": [
    "pivot_platform = (data.pivot_table(index = 'platform', values = 'total_sales', aggfunc = 'sum').reset_index().\n",
    "              sort_values(by = 'total_sales', ascending = False))\n",
    "plt.figure(figsize=(20, 5))\n",
    "plt.bar(pivot_platform['platform'], pivot_platform['total_sales'])\n",
    "plt.title('Распределение количества игр в зависимости от платформы')\n",
    "plt.xlabel('Платформа')\n",
    "plt.ylabel('Суммарные продажи')\n",
    "plt.show()\n",
    "pivot_platform.head(10)"
   ]
  },
  {
   "cell_type": "markdown",
   "metadata": {},
   "source": [
    "**Выберем первые 10 платформ с наибольшими продажами.**"
   ]
  },
  {
   "cell_type": "code",
   "execution_count": 28,
   "metadata": {},
   "outputs": [
    {
     "data": {
      "text/html": [
       "<div>\n",
       "<style scoped>\n",
       "    .dataframe tbody tr th:only-of-type {\n",
       "        vertical-align: middle;\n",
       "    }\n",
       "\n",
       "    .dataframe tbody tr th {\n",
       "        vertical-align: top;\n",
       "    }\n",
       "\n",
       "    .dataframe thead th {\n",
       "        text-align: right;\n",
       "    }\n",
       "</style>\n",
       "<table border=\"1\" class=\"dataframe\">\n",
       "  <thead>\n",
       "    <tr style=\"text-align: right;\">\n",
       "      <th></th>\n",
       "      <th>name</th>\n",
       "      <th>platform</th>\n",
       "      <th>year_of_release</th>\n",
       "      <th>genre</th>\n",
       "      <th>na_sales</th>\n",
       "      <th>eu_sales</th>\n",
       "      <th>jp_sales</th>\n",
       "      <th>other_sales</th>\n",
       "      <th>critic_score</th>\n",
       "      <th>user_score</th>\n",
       "      <th>rating</th>\n",
       "      <th>total_sales</th>\n",
       "    </tr>\n",
       "  </thead>\n",
       "  <tbody>\n",
       "    <tr>\n",
       "      <th>0</th>\n",
       "      <td>Wii Sports</td>\n",
       "      <td>Wii</td>\n",
       "      <td>2006</td>\n",
       "      <td>Sports</td>\n",
       "      <td>41.36</td>\n",
       "      <td>28.96</td>\n",
       "      <td>3.77</td>\n",
       "      <td>8.45</td>\n",
       "      <td>76.0</td>\n",
       "      <td>8.0</td>\n",
       "      <td>E</td>\n",
       "      <td>82.54</td>\n",
       "    </tr>\n",
       "    <tr>\n",
       "      <th>2</th>\n",
       "      <td>Mario Kart Wii</td>\n",
       "      <td>Wii</td>\n",
       "      <td>2008</td>\n",
       "      <td>Racing</td>\n",
       "      <td>15.68</td>\n",
       "      <td>12.76</td>\n",
       "      <td>3.79</td>\n",
       "      <td>3.29</td>\n",
       "      <td>82.0</td>\n",
       "      <td>8.3</td>\n",
       "      <td>E</td>\n",
       "      <td>35.52</td>\n",
       "    </tr>\n",
       "    <tr>\n",
       "      <th>3</th>\n",
       "      <td>Wii Sports Resort</td>\n",
       "      <td>Wii</td>\n",
       "      <td>2009</td>\n",
       "      <td>Sports</td>\n",
       "      <td>15.61</td>\n",
       "      <td>10.93</td>\n",
       "      <td>3.28</td>\n",
       "      <td>2.95</td>\n",
       "      <td>80.0</td>\n",
       "      <td>8.0</td>\n",
       "      <td>E</td>\n",
       "      <td>32.77</td>\n",
       "    </tr>\n",
       "    <tr>\n",
       "      <th>6</th>\n",
       "      <td>New Super Mario Bros.</td>\n",
       "      <td>DS</td>\n",
       "      <td>2006</td>\n",
       "      <td>Platform</td>\n",
       "      <td>11.28</td>\n",
       "      <td>9.14</td>\n",
       "      <td>6.50</td>\n",
       "      <td>2.88</td>\n",
       "      <td>89.0</td>\n",
       "      <td>8.5</td>\n",
       "      <td>E</td>\n",
       "      <td>29.80</td>\n",
       "    </tr>\n",
       "    <tr>\n",
       "      <th>7</th>\n",
       "      <td>Wii Play</td>\n",
       "      <td>Wii</td>\n",
       "      <td>2006</td>\n",
       "      <td>Misc</td>\n",
       "      <td>13.96</td>\n",
       "      <td>9.18</td>\n",
       "      <td>2.93</td>\n",
       "      <td>2.84</td>\n",
       "      <td>58.0</td>\n",
       "      <td>6.6</td>\n",
       "      <td>E</td>\n",
       "      <td>28.91</td>\n",
       "    </tr>\n",
       "  </tbody>\n",
       "</table>\n",
       "</div>"
      ],
      "text/plain": [
       "                    name platform  year_of_release     genre  na_sales  \\\n",
       "0             Wii Sports      Wii             2006    Sports     41.36   \n",
       "2         Mario Kart Wii      Wii             2008    Racing     15.68   \n",
       "3      Wii Sports Resort      Wii             2009    Sports     15.61   \n",
       "6  New Super Mario Bros.       DS             2006  Platform     11.28   \n",
       "7               Wii Play      Wii             2006      Misc     13.96   \n",
       "\n",
       "   eu_sales  jp_sales  other_sales  critic_score  user_score rating  \\\n",
       "0     28.96      3.77         8.45          76.0         8.0      E   \n",
       "2     12.76      3.79         3.29          82.0         8.3      E   \n",
       "3     10.93      3.28         2.95          80.0         8.0      E   \n",
       "6      9.14      6.50         2.88          89.0         8.5      E   \n",
       "7      9.18      2.93         2.84          58.0         6.6      E   \n",
       "\n",
       "   total_sales  \n",
       "0        82.54  \n",
       "2        35.52  \n",
       "3        32.77  \n",
       "6        29.80  \n",
       "7        28.91  "
      ]
     },
     "execution_count": 28,
     "metadata": {},
     "output_type": "execute_result"
    }
   ],
   "source": [
    "data_top_platform = data.query('platform in @ pivot_platform[\"platform\"].head(10).unique()')\n",
    "data_top_platform.head()"
   ]
  },
  {
   "cell_type": "code",
   "execution_count": 29,
   "metadata": {},
   "outputs": [
    {
     "data": {
      "image/png": "[encoded data removed]",
      "text/plain": [
       "<Figure size 1008x576 with 1 Axes>"
      ]
     },
     "metadata": {
      "needs_background": "light"
     },
     "output_type": "display_data"
    }
   ],
   "source": [
    "platform_year_sales = data_top_platform.groupby(['year_of_release', 'platform'])['total_sales'].sum().unstack()\n",
    "platform_year_sales.plot(kind='bar', stacked=True, figsize=(14, 8))\n",
    "plt.title('Распределение продаж по платформам и годам')\n",
    "plt.xlabel('Год выпуска')\n",
    "plt.ylabel('Суммарные продажи (млн копий)')\n",
    "plt.legend(title='Платформа')\n",
    "plt.show()"
   ]
  },
  {
   "cell_type": "code",
   "execution_count": 30,
   "metadata": {},
   "outputs": [
    {
     "data": {
      "text/html": [
       "<div>\n",
       "<style scoped>\n",
       "    .dataframe tbody tr th:only-of-type {\n",
       "        vertical-align: middle;\n",
       "    }\n",
       "\n",
       "    .dataframe tbody tr th {\n",
       "        vertical-align: top;\n",
       "    }\n",
       "\n",
       "    .dataframe thead th {\n",
       "        text-align: right;\n",
       "    }\n",
       "</style>\n",
       "<table border=\"1\" class=\"dataframe\">\n",
       "  <thead>\n",
       "    <tr style=\"text-align: right;\">\n",
       "      <th></th>\n",
       "      <th>platform</th>\n",
       "      <th>min</th>\n",
       "      <th>max</th>\n",
       "      <th>lifetime</th>\n",
       "    </tr>\n",
       "  </thead>\n",
       "  <tbody>\n",
       "    <tr>\n",
       "      <th>0</th>\n",
       "      <td>3DS</td>\n",
       "      <td>2011</td>\n",
       "      <td>2016</td>\n",
       "      <td>5</td>\n",
       "    </tr>\n",
       "    <tr>\n",
       "      <th>1</th>\n",
       "      <td>DS</td>\n",
       "      <td>2004</td>\n",
       "      <td>2013</td>\n",
       "      <td>9</td>\n",
       "    </tr>\n",
       "    <tr>\n",
       "      <th>2</th>\n",
       "      <td>GBA</td>\n",
       "      <td>2000</td>\n",
       "      <td>2007</td>\n",
       "      <td>7</td>\n",
       "    </tr>\n",
       "    <tr>\n",
       "      <th>3</th>\n",
       "      <td>PS</td>\n",
       "      <td>1994</td>\n",
       "      <td>2003</td>\n",
       "      <td>9</td>\n",
       "    </tr>\n",
       "    <tr>\n",
       "      <th>4</th>\n",
       "      <td>PS2</td>\n",
       "      <td>2000</td>\n",
       "      <td>2011</td>\n",
       "      <td>11</td>\n",
       "    </tr>\n",
       "    <tr>\n",
       "      <th>5</th>\n",
       "      <td>PS3</td>\n",
       "      <td>2006</td>\n",
       "      <td>2016</td>\n",
       "      <td>10</td>\n",
       "    </tr>\n",
       "    <tr>\n",
       "      <th>6</th>\n",
       "      <td>PS4</td>\n",
       "      <td>2013</td>\n",
       "      <td>2016</td>\n",
       "      <td>3</td>\n",
       "    </tr>\n",
       "    <tr>\n",
       "      <th>7</th>\n",
       "      <td>PSP</td>\n",
       "      <td>2004</td>\n",
       "      <td>2015</td>\n",
       "      <td>11</td>\n",
       "    </tr>\n",
       "    <tr>\n",
       "      <th>8</th>\n",
       "      <td>Wii</td>\n",
       "      <td>2006</td>\n",
       "      <td>2016</td>\n",
       "      <td>10</td>\n",
       "    </tr>\n",
       "    <tr>\n",
       "      <th>9</th>\n",
       "      <td>X360</td>\n",
       "      <td>2005</td>\n",
       "      <td>2016</td>\n",
       "      <td>11</td>\n",
       "    </tr>\n",
       "  </tbody>\n",
       "</table>\n",
       "</div>"
      ],
      "text/plain": [
       "  platform   min   max  lifetime\n",
       "0      3DS  2011  2016         5\n",
       "1       DS  2004  2013         9\n",
       "2      GBA  2000  2007         7\n",
       "3       PS  1994  2003         9\n",
       "4      PS2  2000  2011        11\n",
       "5      PS3  2006  2016        10\n",
       "6      PS4  2013  2016         3\n",
       "7      PSP  2004  2015        11\n",
       "8      Wii  2006  2016        10\n",
       "9     X360  2005  2016        11"
      ]
     },
     "execution_count": 30,
     "metadata": {},
     "output_type": "execute_result"
    }
   ],
   "source": [
    "platform_lifetimes = data_top_platform.groupby('platform')['year_of_release'].agg(['min', 'max'])\n",
    "platform_lifetimes['lifetime'] = platform_lifetimes['max'] - platform_lifetimes['min']\n",
    "\n",
    "# Вывод временного диапазона существования платформ\n",
    "platform_lifetimes.reset_index()"
   ]
  },
  {
   "cell_type": "markdown",
   "metadata": {},
   "source": [
    "**По выше приведенной таблице, можно оценить в какие годы и в какой срок платформа была актуальной, срок колеблется от 3 до 11 лет.**"
   ]
  },
  {
   "cell_type": "markdown",
   "metadata": {},
   "source": [
    "##### Определение платформ лидирующих по продажам, растут или падают"
   ]
  },
  {
   "cell_type": "markdown",
   "metadata": {},
   "source": [
    "<div class='alert alert-info'>\n",
    "Рассмотрим актуальный период последние 3 года доступные в датасете.(2014, 2015, 2016)\n",
    "</div>"
   ]
  },
  {
   "cell_type": "code",
   "execution_count": 31,
   "metadata": {},
   "outputs": [
    {
     "data": {
      "text/plain": [
       "array([2014, 2015, 2016], dtype=int32)"
      ]
     },
     "execution_count": 31,
     "metadata": {},
     "output_type": "execute_result"
    }
   ],
   "source": [
    "data_sales = data.query('year_of_release >= 2014')\n",
    "np.sort(data_sales['year_of_release'].unique())"
   ]
  },
  {
   "cell_type": "code",
   "execution_count": 32,
   "metadata": {},
   "outputs": [
    {
     "name": "stdout",
     "output_type": "stream",
     "text": [
      "Лучшие платформы по общему объему продаж:\n",
      "['PS4', 'XOne', '3DS', 'PS3', 'X360', 'WiiU', 'PC', 'PSV', 'Wii', 'PSP']\n"
     ]
    }
   ],
   "source": [
    "platform_sales = data_sales.groupby('platform')['total_sales'].sum()\n",
    "\n",
    "# Выбор платформ с наибольшими суммарными продажами \n",
    "top_platforms = platform_sales.nlargest(10).index.tolist()\n",
    "print(\"Лучшие платформы по общему объему продаж:\")\n",
    "print(top_platforms)"
   ]
  },
  {
   "cell_type": "code",
   "execution_count": 33,
   "metadata": {},
   "outputs": [
    {
     "data": {
      "image/png": "[encoded data removed]",
      "text/plain": [
       "<Figure size 1008x576 with 1 Axes>"
      ]
     },
     "metadata": {
      "needs_background": "light"
     },
     "output_type": "display_data"
    }
   ],
   "source": [
    "top_platforms_data = data_sales[data_sales['platform'].isin(top_platforms)]\n",
    "# Группировка по платформам и годам, суммирование продаж\n",
    "platform_year_sales = top_platforms_data.groupby(['platform', 'year_of_release'])['total_sales'].sum().unstack().T\n",
    "platform_year_sales.plot(figsize=(14, 8), marker='o')\n",
    "plt.title('Динамика продаж по платформам за последние годы')\n",
    "plt.xlabel('Годы')\n",
    "plt.ylabel('Суммарные продажи')\n",
    "plt.legend(title='Платформа')\n",
    "plt.show()"
   ]
  },
  {
   "cell_type": "code",
   "execution_count": 34,
   "metadata": {},
   "outputs": [
    {
     "name": "stdout",
     "output_type": "stream",
     "text": [
      "Платформы, демонстрирующие рост:\n",
      "[]\n",
      "Платформы демонстрируют спад:\n"
     ]
    },
    {
     "data": {
      "text/plain": [
       "['3DS', 'PC', 'PS3', 'PS4', 'PSP', 'PSV', 'Wii', 'WiiU', 'X360', 'XOne']"
      ]
     },
     "execution_count": 34,
     "metadata": {},
     "output_type": "execute_result"
    }
   ],
   "source": [
    "# Вычисление среднегодового изменения продаж для каждой платформы\n",
    "yearly_changes = platform_year_sales.diff().mean()\n",
    "\n",
    "# Определение роста или падения\n",
    "growth_platforms = yearly_changes[yearly_changes > 0].index.tolist()\n",
    "decline_platforms = yearly_changes[yearly_changes < 0].index.tolist()\n",
    "\n",
    "print('Платформы, демонстрирующие рост:')\n",
    "print(growth_platforms)\n",
    "\n",
    "print(\"Платформы демонстрируют спад:\")\n",
    "decline_platforms"
   ]
  },
  {
   "cell_type": "markdown",
   "metadata": {},
   "source": [
    "<div class='alert alert-info'>\n",
    "По результатам анализа получили, что к 2016 году все рассматриваемые платформы демонстируют спад своих продаж. \n",
    "</div>"
   ]
  },
  {
   "cell_type": "markdown",
   "metadata": {},
   "source": [
    "##### Ящик с усами с глобальными продажами игр"
   ]
  },
  {
   "cell_type": "code",
   "execution_count": 35,
   "metadata": {},
   "outputs": [],
   "source": [
    "data_top_platform_five = data.query('platform in @ pivot_platform[\"platform\"].head(5).unique()')"
   ]
  },
  {
   "cell_type": "code",
   "execution_count": 36,
   "metadata": {},
   "outputs": [
    {
     "data": {
      "image/png": "[encoded data removed]",
      "text/plain": [
       "<Figure size 1440x720 with 1 Axes>"
      ]
     },
     "metadata": {
      "needs_background": "light"
     },
     "output_type": "display_data"
    }
   ],
   "source": [
    "plt.figure(figsize=(20, 10))\n",
    "sns.boxplot(x='platform', y='total_sales', data=data_top_platform_five.query('total_sales < 2'))\n",
    "plt.title('Распределение глобальных продаж по платформам')\n",
    "plt.xlabel('Платформа')\n",
    "plt.ylabel('Продажи')\n",
    "plt.xticks(rotation=45)\n",
    "plt.show()"
   ]
  },
  {
   "cell_type": "markdown",
   "metadata": {},
   "source": [
    "<div class='alert alert-info'>\n",
    " Из построенной диаграммы с ящиками для топ 5 перспективных платформ, можно сделать вывод, что очень много выбросов(очень больших значений продаж) имеют данные о этих платформах. Самое высокое значение продаж (1.4 млн), не являющееся выбросами имеют данные о платформе PS3, меньше всего у DS(около 0.6 млн), средние значения примерно на одинаковом уровне.\n",
    "</div>"
   ]
  },
  {
   "cell_type": "markdown",
   "metadata": {},
   "source": [
    "##### Рассмотрим одну популярную платформу"
   ]
  },
  {
   "cell_type": "markdown",
   "metadata": {},
   "source": [
    "###### Оценки критиков"
   ]
  },
  {
   "cell_type": "code",
   "execution_count": 37,
   "metadata": {},
   "outputs": [
    {
     "data": {
      "text/html": [
       "<div>\n",
       "<style scoped>\n",
       "    .dataframe tbody tr th:only-of-type {\n",
       "        vertical-align: middle;\n",
       "    }\n",
       "\n",
       "    .dataframe tbody tr th {\n",
       "        vertical-align: top;\n",
       "    }\n",
       "\n",
       "    .dataframe thead th {\n",
       "        text-align: right;\n",
       "    }\n",
       "</style>\n",
       "<table border=\"1\" class=\"dataframe\">\n",
       "  <thead>\n",
       "    <tr style=\"text-align: right;\">\n",
       "      <th></th>\n",
       "      <th>index</th>\n",
       "      <th>name</th>\n",
       "      <th>platform</th>\n",
       "      <th>year_of_release</th>\n",
       "      <th>genre</th>\n",
       "      <th>na_sales</th>\n",
       "      <th>eu_sales</th>\n",
       "      <th>jp_sales</th>\n",
       "      <th>other_sales</th>\n",
       "      <th>critic_score</th>\n",
       "      <th>user_score</th>\n",
       "      <th>rating</th>\n",
       "      <th>total_sales</th>\n",
       "    </tr>\n",
       "  </thead>\n",
       "  <tbody>\n",
       "    <tr>\n",
       "      <th>0</th>\n",
       "      <td>0</td>\n",
       "      <td>Wii Sports</td>\n",
       "      <td>Wii</td>\n",
       "      <td>2006</td>\n",
       "      <td>Sports</td>\n",
       "      <td>41.36</td>\n",
       "      <td>28.96</td>\n",
       "      <td>3.77</td>\n",
       "      <td>8.45</td>\n",
       "      <td>76.000000</td>\n",
       "      <td>8.000000</td>\n",
       "      <td>E</td>\n",
       "      <td>82.54</td>\n",
       "    </tr>\n",
       "    <tr>\n",
       "      <th>1</th>\n",
       "      <td>2</td>\n",
       "      <td>Mario Kart Wii</td>\n",
       "      <td>Wii</td>\n",
       "      <td>2008</td>\n",
       "      <td>Racing</td>\n",
       "      <td>15.68</td>\n",
       "      <td>12.76</td>\n",
       "      <td>3.79</td>\n",
       "      <td>3.29</td>\n",
       "      <td>82.000000</td>\n",
       "      <td>8.300000</td>\n",
       "      <td>E</td>\n",
       "      <td>35.52</td>\n",
       "    </tr>\n",
       "    <tr>\n",
       "      <th>2</th>\n",
       "      <td>3</td>\n",
       "      <td>Wii Sports Resort</td>\n",
       "      <td>Wii</td>\n",
       "      <td>2009</td>\n",
       "      <td>Sports</td>\n",
       "      <td>15.61</td>\n",
       "      <td>10.93</td>\n",
       "      <td>3.28</td>\n",
       "      <td>2.95</td>\n",
       "      <td>80.000000</td>\n",
       "      <td>8.000000</td>\n",
       "      <td>E</td>\n",
       "      <td>32.77</td>\n",
       "    </tr>\n",
       "    <tr>\n",
       "      <th>3</th>\n",
       "      <td>6</td>\n",
       "      <td>New Super Mario Bros.</td>\n",
       "      <td>DS</td>\n",
       "      <td>2006</td>\n",
       "      <td>Platform</td>\n",
       "      <td>11.28</td>\n",
       "      <td>9.14</td>\n",
       "      <td>6.50</td>\n",
       "      <td>2.88</td>\n",
       "      <td>89.000000</td>\n",
       "      <td>8.500000</td>\n",
       "      <td>E</td>\n",
       "      <td>29.80</td>\n",
       "    </tr>\n",
       "    <tr>\n",
       "      <th>4</th>\n",
       "      <td>7</td>\n",
       "      <td>Wii Play</td>\n",
       "      <td>Wii</td>\n",
       "      <td>2006</td>\n",
       "      <td>Misc</td>\n",
       "      <td>13.96</td>\n",
       "      <td>9.18</td>\n",
       "      <td>2.93</td>\n",
       "      <td>2.84</td>\n",
       "      <td>58.000000</td>\n",
       "      <td>6.600000</td>\n",
       "      <td>E</td>\n",
       "      <td>28.91</td>\n",
       "    </tr>\n",
       "    <tr>\n",
       "      <th>...</th>\n",
       "      <td>...</td>\n",
       "      <td>...</td>\n",
       "      <td>...</td>\n",
       "      <td>...</td>\n",
       "      <td>...</td>\n",
       "      <td>...</td>\n",
       "      <td>...</td>\n",
       "      <td>...</td>\n",
       "      <td>...</td>\n",
       "      <td>...</td>\n",
       "      <td>...</td>\n",
       "      <td>...</td>\n",
       "      <td>...</td>\n",
       "    </tr>\n",
       "    <tr>\n",
       "      <th>12164</th>\n",
       "      <td>16708</td>\n",
       "      <td>Woody Woodpecker in Crazy Castle 5</td>\n",
       "      <td>GBA</td>\n",
       "      <td>2002</td>\n",
       "      <td>Platform</td>\n",
       "      <td>0.01</td>\n",
       "      <td>0.00</td>\n",
       "      <td>0.00</td>\n",
       "      <td>0.00</td>\n",
       "      <td>67.807692</td>\n",
       "      <td>7.686000</td>\n",
       "      <td>unknown</td>\n",
       "      <td>0.01</td>\n",
       "    </tr>\n",
       "    <tr>\n",
       "      <th>12165</th>\n",
       "      <td>16709</td>\n",
       "      <td>SCORE International Baja 1000: The Official Game</td>\n",
       "      <td>PS2</td>\n",
       "      <td>2008</td>\n",
       "      <td>Racing</td>\n",
       "      <td>0.00</td>\n",
       "      <td>0.00</td>\n",
       "      <td>0.00</td>\n",
       "      <td>0.00</td>\n",
       "      <td>66.844720</td>\n",
       "      <td>7.539437</td>\n",
       "      <td>unknown</td>\n",
       "      <td>0.00</td>\n",
       "    </tr>\n",
       "    <tr>\n",
       "      <th>12166</th>\n",
       "      <td>16710</td>\n",
       "      <td>Samurai Warriors: Sanada Maru</td>\n",
       "      <td>PS3</td>\n",
       "      <td>2016</td>\n",
       "      <td>Action</td>\n",
       "      <td>0.00</td>\n",
       "      <td>0.00</td>\n",
       "      <td>0.01</td>\n",
       "      <td>0.00</td>\n",
       "      <td>69.012766</td>\n",
       "      <td>6.901550</td>\n",
       "      <td>unknown</td>\n",
       "      <td>0.01</td>\n",
       "    </tr>\n",
       "    <tr>\n",
       "      <th>12167</th>\n",
       "      <td>16711</td>\n",
       "      <td>LMA Manager 2007</td>\n",
       "      <td>X360</td>\n",
       "      <td>2006</td>\n",
       "      <td>Sports</td>\n",
       "      <td>0.00</td>\n",
       "      <td>0.01</td>\n",
       "      <td>0.00</td>\n",
       "      <td>0.00</td>\n",
       "      <td>69.758170</td>\n",
       "      <td>6.291463</td>\n",
       "      <td>unknown</td>\n",
       "      <td>0.01</td>\n",
       "    </tr>\n",
       "    <tr>\n",
       "      <th>12168</th>\n",
       "      <td>16713</td>\n",
       "      <td>Spirits &amp; Spells</td>\n",
       "      <td>GBA</td>\n",
       "      <td>2003</td>\n",
       "      <td>Platform</td>\n",
       "      <td>0.01</td>\n",
       "      <td>0.00</td>\n",
       "      <td>0.00</td>\n",
       "      <td>0.00</td>\n",
       "      <td>67.807692</td>\n",
       "      <td>7.686000</td>\n",
       "      <td>unknown</td>\n",
       "      <td>0.01</td>\n",
       "    </tr>\n",
       "  </tbody>\n",
       "</table>\n",
       "<p>12169 rows × 13 columns</p>\n",
       "</div>"
      ],
      "text/plain": [
       "       index                                              name platform  \\\n",
       "0          0                                        Wii Sports      Wii   \n",
       "1          2                                    Mario Kart Wii      Wii   \n",
       "2          3                                 Wii Sports Resort      Wii   \n",
       "3          6                             New Super Mario Bros.       DS   \n",
       "4          7                                          Wii Play      Wii   \n",
       "...      ...                                               ...      ...   \n",
       "12164  16708                Woody Woodpecker in Crazy Castle 5      GBA   \n",
       "12165  16709  SCORE International Baja 1000: The Official Game      PS2   \n",
       "12166  16710                     Samurai Warriors: Sanada Maru      PS3   \n",
       "12167  16711                                  LMA Manager 2007     X360   \n",
       "12168  16713                                  Spirits & Spells      GBA   \n",
       "\n",
       "       year_of_release     genre  na_sales  eu_sales  jp_sales  other_sales  \\\n",
       "0                 2006    Sports     41.36     28.96      3.77         8.45   \n",
       "1                 2008    Racing     15.68     12.76      3.79         3.29   \n",
       "2                 2009    Sports     15.61     10.93      3.28         2.95   \n",
       "3                 2006  Platform     11.28      9.14      6.50         2.88   \n",
       "4                 2006      Misc     13.96      9.18      2.93         2.84   \n",
       "...                ...       ...       ...       ...       ...          ...   \n",
       "12164             2002  Platform      0.01      0.00      0.00         0.00   \n",
       "12165             2008    Racing      0.00      0.00      0.00         0.00   \n",
       "12166             2016    Action      0.00      0.00      0.01         0.00   \n",
       "12167             2006    Sports      0.00      0.01      0.00         0.00   \n",
       "12168             2003  Platform      0.01      0.00      0.00         0.00   \n",
       "\n",
       "       critic_score  user_score   rating  total_sales  \n",
       "0         76.000000    8.000000        E        82.54  \n",
       "1         82.000000    8.300000        E        35.52  \n",
       "2         80.000000    8.000000        E        32.77  \n",
       "3         89.000000    8.500000        E        29.80  \n",
       "4         58.000000    6.600000        E        28.91  \n",
       "...             ...         ...      ...          ...  \n",
       "12164     67.807692    7.686000  unknown         0.01  \n",
       "12165     66.844720    7.539437  unknown         0.00  \n",
       "12166     69.012766    6.901550  unknown         0.01  \n",
       "12167     69.758170    6.291463  unknown         0.01  \n",
       "12168     67.807692    7.686000  unknown         0.01  \n",
       "\n",
       "[12169 rows x 13 columns]"
      ]
     },
     "execution_count": 37,
     "metadata": {},
     "output_type": "execute_result"
    }
   ],
   "source": [
    "# Выведем таблицу, с топ 10 платформами про продажам\n",
    "data_top_platform = data_top_platform.reset_index()\n",
    "data_top_platform"
   ]
  },
  {
   "cell_type": "code",
   "execution_count": 38,
   "metadata": {},
   "outputs": [
    {
     "data": {
      "text/plain": [
       "array(['Wii', 'DS', 'X360', 'PS3', 'PS2', 'GBA', 'PS4', '3DS', 'PS',\n",
       "       'PSP'], dtype=object)"
      ]
     },
     "execution_count": 38,
     "metadata": {},
     "output_type": "execute_result"
    }
   ],
   "source": [
    "data_top_platform['platform'].unique()"
   ]
  },
  {
   "cell_type": "markdown",
   "metadata": {},
   "source": [
    "<div class='alert alert-info'>\n",
    "Для исследования возьмём PS4 и X360.\n",
    "</div>"
   ]
  },
  {
   "cell_type": "code",
   "execution_count": 39,
   "metadata": {},
   "outputs": [],
   "source": [
    "data_ps4 = data.query('platform == \"PS4\"')\n",
    "data_x360 = data.query('platform == \"X360\"')"
   ]
  },
  {
   "cell_type": "code",
   "execution_count": 40,
   "metadata": {},
   "outputs": [
    {
     "data": {
      "image/png": "[encoded data removed]",
      "text/plain": [
       "<Figure size 432x288 with 1 Axes>"
      ]
     },
     "metadata": {
      "needs_background": "light"
     },
     "output_type": "display_data"
    }
   ],
   "source": [
    "# Диаграмма рассениями между продажами и отзывами критиков\n",
    "plt.scatter(data_ps4['critic_score'], data_ps4['total_sales'])\n",
    "plt.title('Диаграмма рассениями между продажами и отзывами критиков для PS4')\n",
    "plt.xlabel('Продажи')\n",
    "plt.ylabel('Оценка критиков')\n",
    "plt.show()"
   ]
  },
  {
   "cell_type": "code",
   "execution_count": 41,
   "metadata": {},
   "outputs": [
    {
     "data": {
      "image/png": "[encoded data removed]",
      "text/plain": [
       "<Figure size 432x288 with 1 Axes>"
      ]
     },
     "metadata": {
      "needs_background": "light"
     },
     "output_type": "display_data"
    }
   ],
   "source": [
    "plt.scatter(data_x360['critic_score'], data_x360['total_sales'])\n",
    "plt.title('Диаграмма рассениями между продажами и отзывами критиков для X360')\n",
    "plt.xlabel('Продажи')\n",
    "plt.ylabel('Оценка критиков')\n",
    "plt.show()"
   ]
  },
  {
   "cell_type": "code",
   "execution_count": 42,
   "metadata": {},
   "outputs": [
    {
     "name": "stdout",
     "output_type": "stream",
     "text": [
      "Коэффициент корреляции для PS4:  0.33949\n",
      "Коэффициент корреляции для X360:  0.38002\n"
     ]
    }
   ],
   "source": [
    "# Коэффициент корреляции\n",
    "print('Коэффициент корреляции для PS4: ', round(data_ps4['critic_score'].corr(data_ps4['total_sales']), 5))\n",
    "print('Коэффициент корреляции для X360: ', round(data_x360['critic_score'].corr(data_x360['total_sales']), 5))"
   ]
  },
  {
   "cell_type": "markdown",
   "metadata": {},
   "source": [
    "<div class='alert alert-info'>\n",
    "Получили коэффициент корреляции 0.34 для PS4 и 0.38 для X360, значения достаточно близки для того, чтобы сделать один и тот же вывод для обоих платформ, что говорит о достаточно слабой линейной свзяи между продажами и оценкой критиков.\n",
    "</div>"
   ]
  },
  {
   "cell_type": "markdown",
   "metadata": {},
   "source": [
    "###### Оценки пользователей"
   ]
  },
  {
   "cell_type": "code",
   "execution_count": 43,
   "metadata": {},
   "outputs": [
    {
     "data": {
      "image/png": "[encoded data removed]",
      "text/plain": [
       "<Figure size 432x288 with 1 Axes>"
      ]
     },
     "metadata": {
      "needs_background": "light"
     },
     "output_type": "display_data"
    }
   ],
   "source": [
    "# Диаграмма рассениями между продажами и отзывами пользователей\n",
    "plt.scatter(data_ps4['user_score'], data_ps4['total_sales'])\n",
    "plt.title('Диаграмма рассениями между продажами и отзывами пользователей PS4')\n",
    "plt.xlabel('Продажи')\n",
    "plt.ylabel('Оценка критиков')\n",
    "plt.show()"
   ]
  },
  {
   "cell_type": "code",
   "execution_count": 44,
   "metadata": {},
   "outputs": [
    {
     "data": {
      "image/png": "[encoded data removed]",
      "text/plain": [
       "<Figure size 432x288 with 1 Axes>"
      ]
     },
     "metadata": {
      "needs_background": "light"
     },
     "output_type": "display_data"
    }
   ],
   "source": [
    "# Диаграмма рассениями между продажами и отзывами пользователей\n",
    "plt.scatter(data_x360['user_score'], data_x360['total_sales'])\n",
    "plt.title('Диаграмма рассениями между продажами и отзывами пользователей X360')\n",
    "plt.xlabel('Продажи')\n",
    "plt.ylabel('Оценка критиков')\n",
    "plt.show()"
   ]
  },
  {
   "cell_type": "code",
   "execution_count": 45,
   "metadata": {},
   "outputs": [
    {
     "name": "stdout",
     "output_type": "stream",
     "text": [
      "Коэффициент корреляции для PS4:  -0.05366\n",
      "Коэффициент корреляции для X360:  0.11512\n"
     ]
    }
   ],
   "source": [
    "# Коэффициент корреляции\n",
    "print('Коэффициент корреляции для PS4: ', round(data_ps4['user_score'].corr(data_ps4['total_sales']), 5))\n",
    "print('Коэффициент корреляции для X360: ', round(data_x360['user_score'].corr(data_x360['total_sales']), 5))"
   ]
  },
  {
   "cell_type": "markdown",
   "metadata": {},
   "source": [
    "<div class='alert alert-info'>\n",
    "Коэффициент корреляции в -0.054 для PS4  и 0.115 для X360 говорит о том, что между продажами и отзывами пользователей практически нету линейной зависимости.\n",
    "</div>"
   ]
  },
  {
   "cell_type": "markdown",
   "metadata": {},
   "source": [
    "##### Распределение игр по жанрам"
   ]
  },
  {
   "cell_type": "code",
   "execution_count": 46,
   "metadata": {},
   "outputs": [
    {
     "data": {
      "image/png": "[encoded data removed]",
      "text/plain": [
       "<Figure size 1080x360 with 1 Axes>"
      ]
     },
     "metadata": {
      "needs_background": "light"
     },
     "output_type": "display_data"
    }
   ],
   "source": [
    "plt.figure(figsize=(15,5))\n",
    "plt.bar(data.groupby('genre')['genre'].count().index, data.groupby('genre')['genre'].count())\n",
    "plt.title('Диаграмма количества игра с определенным жанром')\n",
    "plt.xlabel('Жанр')\n",
    "plt.ylabel('Количество')\n",
    "plt.show()"
   ]
  },
  {
   "cell_type": "code",
   "execution_count": 47,
   "metadata": {},
   "outputs": [
    {
     "data": {
      "image/png": "[encoded data removed]",
      "text/plain": [
       "<Figure size 1080x360 with 1 Axes>"
      ]
     },
     "metadata": {
      "needs_background": "light"
     },
     "output_type": "display_data"
    }
   ],
   "source": [
    "plt.figure(figsize=(15,5))\n",
    "pivot_genre = data.pivot_table(index = 'genre', values = 'total_sales', aggfunc = 'mean').reset_index()\n",
    "plt.bar(pivot_genre['genre'], pivot_genre['total_sales'])\n",
    "plt.title('Диаграмма средних продаж по жанрам')\n",
    "plt.xlabel('Жанр')\n",
    "plt.ylabel('Продажи')\n",
    "plt.show()"
   ]
  },
  {
   "cell_type": "markdown",
   "metadata": {},
   "source": [
    "<div class='alert alert-info'>\n",
    "    По результатам построений диаграмм, можно сказать, что самый часто продаваемые жанр Action и Sports, а самый низко продаваемые Puzzle и Strategy. Относительно продаж, рассмотрен вариант средних продаж. Из полученной диаграммы видим, что самые высокие продажи имеют жанры игр: Platform, Shooter и Role-Playing, а самые низкие: Adventure, Puzzle и Strategy.\n",
    "</div>"
   ]
  },
  {
   "cell_type": "markdown",
   "metadata": {},
   "source": [
    "#### Портрет  пользователя региона"
   ]
  },
  {
   "cell_type": "markdown",
   "metadata": {},
   "source": [
    "##### Пользователи Северной Америки"
   ]
  },
  {
   "cell_type": "code",
   "execution_count": 48,
   "metadata": {},
   "outputs": [
    {
     "data": {
      "text/html": [
       "<div>\n",
       "<style scoped>\n",
       "    .dataframe tbody tr th:only-of-type {\n",
       "        vertical-align: middle;\n",
       "    }\n",
       "\n",
       "    .dataframe tbody tr th {\n",
       "        vertical-align: top;\n",
       "    }\n",
       "\n",
       "    .dataframe thead th {\n",
       "        text-align: right;\n",
       "    }\n",
       "</style>\n",
       "<table border=\"1\" class=\"dataframe\">\n",
       "  <thead>\n",
       "    <tr style=\"text-align: right;\">\n",
       "      <th></th>\n",
       "      <th>platform</th>\n",
       "      <th>na_sales</th>\n",
       "      <th>shares</th>\n",
       "    </tr>\n",
       "  </thead>\n",
       "  <tbody>\n",
       "    <tr>\n",
       "      <th>27</th>\n",
       "      <td>X360</td>\n",
       "      <td>595.74</td>\n",
       "      <td>0.145099</td>\n",
       "    </tr>\n",
       "    <tr>\n",
       "      <th>15</th>\n",
       "      <td>PS2</td>\n",
       "      <td>572.92</td>\n",
       "      <td>0.139541</td>\n",
       "    </tr>\n",
       "    <tr>\n",
       "      <th>25</th>\n",
       "      <td>Wii</td>\n",
       "      <td>486.87</td>\n",
       "      <td>0.118582</td>\n",
       "    </tr>\n",
       "    <tr>\n",
       "      <th>16</th>\n",
       "      <td>PS3</td>\n",
       "      <td>390.13</td>\n",
       "      <td>0.095020</td>\n",
       "    </tr>\n",
       "    <tr>\n",
       "      <th>3</th>\n",
       "      <td>DS</td>\n",
       "      <td>380.31</td>\n",
       "      <td>0.092628</td>\n",
       "    </tr>\n",
       "  </tbody>\n",
       "</table>\n",
       "</div>"
      ],
      "text/plain": [
       "   platform  na_sales    shares\n",
       "27     X360    595.74  0.145099\n",
       "15      PS2    572.92  0.139541\n",
       "25      Wii    486.87  0.118582\n",
       "16      PS3    390.13  0.095020\n",
       "3        DS    380.31  0.092628"
      ]
     },
     "execution_count": 48,
     "metadata": {},
     "output_type": "execute_result"
    }
   ],
   "source": [
    "pivot_na_platform = data.pivot_table(index='platform', values='na_sales', aggfunc = 'sum')\n",
    "sum_sales = pivot_na_platform['na_sales'].sum()\n",
    "pivot_na_platform['shares'] = pivot_na_platform['na_sales'] / sum_sales\n",
    "pivot_na_platform.reset_index().sort_values(by='na_sales', ascending=False).head()"
   ]
  },
  {
   "cell_type": "code",
   "execution_count": 49,
   "metadata": {},
   "outputs": [
    {
     "data": {
      "text/html": [
       "<div>\n",
       "<style scoped>\n",
       "    .dataframe tbody tr th:only-of-type {\n",
       "        vertical-align: middle;\n",
       "    }\n",
       "\n",
       "    .dataframe tbody tr th {\n",
       "        vertical-align: top;\n",
       "    }\n",
       "\n",
       "    .dataframe thead th {\n",
       "        text-align: right;\n",
       "    }\n",
       "</style>\n",
       "<table border=\"1\" class=\"dataframe\">\n",
       "  <thead>\n",
       "    <tr style=\"text-align: right;\">\n",
       "      <th></th>\n",
       "      <th>genre</th>\n",
       "      <th>na_sales</th>\n",
       "    </tr>\n",
       "  </thead>\n",
       "  <tbody>\n",
       "    <tr>\n",
       "      <th>0</th>\n",
       "      <td>Action</td>\n",
       "      <td>825.27</td>\n",
       "    </tr>\n",
       "    <tr>\n",
       "      <th>10</th>\n",
       "      <td>Sports</td>\n",
       "      <td>660.05</td>\n",
       "    </tr>\n",
       "    <tr>\n",
       "      <th>8</th>\n",
       "      <td>Shooter</td>\n",
       "      <td>533.99</td>\n",
       "    </tr>\n",
       "    <tr>\n",
       "      <th>3</th>\n",
       "      <td>Misc</td>\n",
       "      <td>396.22</td>\n",
       "    </tr>\n",
       "    <tr>\n",
       "      <th>4</th>\n",
       "      <td>Platform</td>\n",
       "      <td>370.10</td>\n",
       "    </tr>\n",
       "  </tbody>\n",
       "</table>\n",
       "</div>"
      ],
      "text/plain": [
       "       genre  na_sales\n",
       "0     Action    825.27\n",
       "10    Sports    660.05\n",
       "8    Shooter    533.99\n",
       "3       Misc    396.22\n",
       "4   Platform    370.10"
      ]
     },
     "execution_count": 49,
     "metadata": {},
     "output_type": "execute_result"
    }
   ],
   "source": [
    "pivot_na_genre = data.pivot_table(index='genre', values='na_sales', aggfunc = 'sum')\n",
    "pivot_na_genre.reset_index().sort_values(by='na_sales', ascending=False).head()"
   ]
  },
  {
   "cell_type": "code",
   "execution_count": 50,
   "metadata": {},
   "outputs": [
    {
     "data": {
      "text/html": [
       "<div>\n",
       "<style scoped>\n",
       "    .dataframe tbody tr th:only-of-type {\n",
       "        vertical-align: middle;\n",
       "    }\n",
       "\n",
       "    .dataframe tbody tr th {\n",
       "        vertical-align: top;\n",
       "    }\n",
       "\n",
       "    .dataframe thead th {\n",
       "        text-align: right;\n",
       "    }\n",
       "</style>\n",
       "<table border=\"1\" class=\"dataframe\">\n",
       "  <thead>\n",
       "    <tr style=\"text-align: right;\">\n",
       "      <th></th>\n",
       "      <th>index</th>\n",
       "      <th>rating</th>\n",
       "      <th>na_sales</th>\n",
       "    </tr>\n",
       "  </thead>\n",
       "  <tbody>\n",
       "    <tr>\n",
       "      <th>0</th>\n",
       "      <td>6</td>\n",
       "      <td>RP</td>\n",
       "      <td>0.00</td>\n",
       "    </tr>\n",
       "    <tr>\n",
       "      <th>1</th>\n",
       "      <td>0</td>\n",
       "      <td>AO</td>\n",
       "      <td>1.26</td>\n",
       "    </tr>\n",
       "    <tr>\n",
       "      <th>2</th>\n",
       "      <td>3</td>\n",
       "      <td>EC</td>\n",
       "      <td>1.53</td>\n",
       "    </tr>\n",
       "    <tr>\n",
       "      <th>3</th>\n",
       "      <td>4</td>\n",
       "      <td>K-A</td>\n",
       "      <td>2.56</td>\n",
       "    </tr>\n",
       "    <tr>\n",
       "      <th>4</th>\n",
       "      <td>2</td>\n",
       "      <td>E10+</td>\n",
       "      <td>345.50</td>\n",
       "    </tr>\n",
       "    <tr>\n",
       "      <th>5</th>\n",
       "      <td>5</td>\n",
       "      <td>M</td>\n",
       "      <td>742.89</td>\n",
       "    </tr>\n",
       "    <tr>\n",
       "      <th>6</th>\n",
       "      <td>7</td>\n",
       "      <td>T</td>\n",
       "      <td>747.60</td>\n",
       "    </tr>\n",
       "    <tr>\n",
       "      <th>7</th>\n",
       "      <td>8</td>\n",
       "      <td>unknown</td>\n",
       "      <td>990.18</td>\n",
       "    </tr>\n",
       "    <tr>\n",
       "      <th>8</th>\n",
       "      <td>1</td>\n",
       "      <td>E</td>\n",
       "      <td>1274.24</td>\n",
       "    </tr>\n",
       "  </tbody>\n",
       "</table>\n",
       "</div>"
      ],
      "text/plain": [
       "   index   rating  na_sales\n",
       "0      6       RP      0.00\n",
       "1      0       AO      1.26\n",
       "2      3       EC      1.53\n",
       "3      4      K-A      2.56\n",
       "4      2     E10+    345.50\n",
       "5      5        M    742.89\n",
       "6      7        T    747.60\n",
       "7      8  unknown    990.18\n",
       "8      1        E   1274.24"
      ]
     },
     "execution_count": 50,
     "metadata": {},
     "output_type": "execute_result"
    }
   ],
   "source": [
    "pivot_na_rating = data.pivot_table(index='rating', values='na_sales', aggfunc = 'sum').reset_index().sort_values(by='na_sales')\n",
    "pivot_na_rating.reset_index()"
   ]
  },
  {
   "cell_type": "markdown",
   "metadata": {},
   "source": [
    "Вывод: по итогам группировок исходного датасета по исследуемым столбцам, можно выделить следующее: \n",
    "\n",
    "1) В Северной Америке топ 5 платформ для игр являются: X360, PS2, Wii, PS3, DS. Доля их вовлеченности в продаваемостьсоставляет от 14,5 до 9.2%.\n",
    "\n",
    "2) Преобладающими жанрами являются: Action, Sport, Shooter, Misc, Platform. \n",
    "\n",
    "3) Из категорий больше всего преобладают E, unknown(та которая была задана самостоятельно), T, M, E+10, вовлеченность остальных категорий очень мала."
   ]
  },
  {
   "cell_type": "markdown",
   "metadata": {},
   "source": [
    "##### Пользователи Европы"
   ]
  },
  {
   "cell_type": "code",
   "execution_count": 51,
   "metadata": {},
   "outputs": [
    {
     "data": {
      "text/html": [
       "<div>\n",
       "<style scoped>\n",
       "    .dataframe tbody tr th:only-of-type {\n",
       "        vertical-align: middle;\n",
       "    }\n",
       "\n",
       "    .dataframe tbody tr th {\n",
       "        vertical-align: top;\n",
       "    }\n",
       "\n",
       "    .dataframe thead th {\n",
       "        text-align: right;\n",
       "    }\n",
       "</style>\n",
       "<table border=\"1\" class=\"dataframe\">\n",
       "  <thead>\n",
       "    <tr style=\"text-align: right;\">\n",
       "      <th></th>\n",
       "      <th>platform</th>\n",
       "      <th>eu_sales</th>\n",
       "      <th>shares</th>\n",
       "    </tr>\n",
       "  </thead>\n",
       "  <tbody>\n",
       "    <tr>\n",
       "      <th>15</th>\n",
       "      <td>PS2</td>\n",
       "      <td>332.63</td>\n",
       "      <td>0.140440</td>\n",
       "    </tr>\n",
       "    <tr>\n",
       "      <th>16</th>\n",
       "      <td>PS3</td>\n",
       "      <td>327.21</td>\n",
       "      <td>0.138152</td>\n",
       "    </tr>\n",
       "    <tr>\n",
       "      <th>27</th>\n",
       "      <td>X360</td>\n",
       "      <td>268.32</td>\n",
       "      <td>0.113288</td>\n",
       "    </tr>\n",
       "    <tr>\n",
       "      <th>25</th>\n",
       "      <td>Wii</td>\n",
       "      <td>258.32</td>\n",
       "      <td>0.109066</td>\n",
       "    </tr>\n",
       "    <tr>\n",
       "      <th>14</th>\n",
       "      <td>PS</td>\n",
       "      <td>212.39</td>\n",
       "      <td>0.089674</td>\n",
       "    </tr>\n",
       "  </tbody>\n",
       "</table>\n",
       "</div>"
      ],
      "text/plain": [
       "   platform  eu_sales    shares\n",
       "15      PS2    332.63  0.140440\n",
       "16      PS3    327.21  0.138152\n",
       "27     X360    268.32  0.113288\n",
       "25      Wii    258.32  0.109066\n",
       "14       PS    212.39  0.089674"
      ]
     },
     "execution_count": 51,
     "metadata": {},
     "output_type": "execute_result"
    }
   ],
   "source": [
    "pivot_eu_platform = data.pivot_table(index='platform', values='eu_sales', aggfunc = 'sum')\n",
    "sum_sales = pivot_eu_platform['eu_sales'].sum()\n",
    "pivot_eu_platform['shares'] = pivot_eu_platform['eu_sales'] / sum_sales\n",
    "pivot_eu_platform.reset_index().sort_values(by='eu_sales', ascending=False).head()"
   ]
  },
  {
   "cell_type": "code",
   "execution_count": 52,
   "metadata": {},
   "outputs": [
    {
     "data": {
      "text/html": [
       "<div>\n",
       "<style scoped>\n",
       "    .dataframe tbody tr th:only-of-type {\n",
       "        vertical-align: middle;\n",
       "    }\n",
       "\n",
       "    .dataframe tbody tr th {\n",
       "        vertical-align: top;\n",
       "    }\n",
       "\n",
       "    .dataframe thead th {\n",
       "        text-align: right;\n",
       "    }\n",
       "</style>\n",
       "<table border=\"1\" class=\"dataframe\">\n",
       "  <thead>\n",
       "    <tr style=\"text-align: right;\">\n",
       "      <th></th>\n",
       "      <th>genre</th>\n",
       "      <th>eu_sales</th>\n",
       "    </tr>\n",
       "  </thead>\n",
       "  <tbody>\n",
       "    <tr>\n",
       "      <th>0</th>\n",
       "      <td>Action</td>\n",
       "      <td>506.70</td>\n",
       "    </tr>\n",
       "    <tr>\n",
       "      <th>10</th>\n",
       "      <td>Sports</td>\n",
       "      <td>368.76</td>\n",
       "    </tr>\n",
       "    <tr>\n",
       "      <th>8</th>\n",
       "      <td>Shooter</td>\n",
       "      <td>311.69</td>\n",
       "    </tr>\n",
       "    <tr>\n",
       "      <th>6</th>\n",
       "      <td>Racing</td>\n",
       "      <td>233.13</td>\n",
       "    </tr>\n",
       "    <tr>\n",
       "      <th>3</th>\n",
       "      <td>Misc</td>\n",
       "      <td>210.40</td>\n",
       "    </tr>\n",
       "  </tbody>\n",
       "</table>\n",
       "</div>"
      ],
      "text/plain": [
       "      genre  eu_sales\n",
       "0    Action    506.70\n",
       "10   Sports    368.76\n",
       "8   Shooter    311.69\n",
       "6    Racing    233.13\n",
       "3      Misc    210.40"
      ]
     },
     "execution_count": 52,
     "metadata": {},
     "output_type": "execute_result"
    }
   ],
   "source": [
    "pivot_eu_genre = data.pivot_table(index='genre', values='eu_sales', aggfunc = 'sum')\n",
    "pivot_eu_genre.reset_index().sort_values(by='eu_sales', ascending=False).head()"
   ]
  },
  {
   "cell_type": "code",
   "execution_count": 53,
   "metadata": {},
   "outputs": [
    {
     "data": {
      "text/html": [
       "<div>\n",
       "<style scoped>\n",
       "    .dataframe tbody tr th:only-of-type {\n",
       "        vertical-align: middle;\n",
       "    }\n",
       "\n",
       "    .dataframe tbody tr th {\n",
       "        vertical-align: top;\n",
       "    }\n",
       "\n",
       "    .dataframe thead th {\n",
       "        text-align: right;\n",
       "    }\n",
       "</style>\n",
       "<table border=\"1\" class=\"dataframe\">\n",
       "  <thead>\n",
       "    <tr style=\"text-align: right;\">\n",
       "      <th></th>\n",
       "      <th>index</th>\n",
       "      <th>rating</th>\n",
       "      <th>eu_sales</th>\n",
       "    </tr>\n",
       "  </thead>\n",
       "  <tbody>\n",
       "    <tr>\n",
       "      <th>0</th>\n",
       "      <td>6</td>\n",
       "      <td>RP</td>\n",
       "      <td>0.03</td>\n",
       "    </tr>\n",
       "    <tr>\n",
       "      <th>1</th>\n",
       "      <td>3</td>\n",
       "      <td>EC</td>\n",
       "      <td>0.11</td>\n",
       "    </tr>\n",
       "    <tr>\n",
       "      <th>2</th>\n",
       "      <td>4</td>\n",
       "      <td>K-A</td>\n",
       "      <td>0.27</td>\n",
       "    </tr>\n",
       "    <tr>\n",
       "      <th>3</th>\n",
       "      <td>0</td>\n",
       "      <td>AO</td>\n",
       "      <td>0.61</td>\n",
       "    </tr>\n",
       "    <tr>\n",
       "      <th>4</th>\n",
       "      <td>2</td>\n",
       "      <td>E10+</td>\n",
       "      <td>183.33</td>\n",
       "    </tr>\n",
       "    <tr>\n",
       "      <th>5</th>\n",
       "      <td>7</td>\n",
       "      <td>T</td>\n",
       "      <td>421.76</td>\n",
       "    </tr>\n",
       "    <tr>\n",
       "      <th>6</th>\n",
       "      <td>5</td>\n",
       "      <td>M</td>\n",
       "      <td>480.00</td>\n",
       "    </tr>\n",
       "    <tr>\n",
       "      <th>7</th>\n",
       "      <td>8</td>\n",
       "      <td>unknown</td>\n",
       "      <td>578.50</td>\n",
       "    </tr>\n",
       "    <tr>\n",
       "      <th>8</th>\n",
       "      <td>1</td>\n",
       "      <td>E</td>\n",
       "      <td>703.87</td>\n",
       "    </tr>\n",
       "  </tbody>\n",
       "</table>\n",
       "</div>"
      ],
      "text/plain": [
       "   index   rating  eu_sales\n",
       "0      6       RP      0.03\n",
       "1      3       EC      0.11\n",
       "2      4      K-A      0.27\n",
       "3      0       AO      0.61\n",
       "4      2     E10+    183.33\n",
       "5      7        T    421.76\n",
       "6      5        M    480.00\n",
       "7      8  unknown    578.50\n",
       "8      1        E    703.87"
      ]
     },
     "execution_count": 53,
     "metadata": {},
     "output_type": "execute_result"
    }
   ],
   "source": [
    "pivot_eu_rating = data.pivot_table(index='rating', values='eu_sales', aggfunc = 'sum').reset_index().sort_values(by='eu_sales')\n",
    "pivot_eu_rating.reset_index()"
   ]
  },
  {
   "cell_type": "markdown",
   "metadata": {},
   "source": [
    "Вывод: по итогам группировок исходного датасета по исследуемым столбцам, можно выделить следующее: \n",
    "\n",
    "1) В Европе топ 5 платформ для игр являются: X360, PS2, Wii, PS3, PS(Одно отличение от Северой Америки). Доля их вовлеченности в продаваемостьсоставляет от 14 до 9%.\n",
    "\n",
    "2) Преобладающими жанрами являются: Action, Sport, Shooter, Misc, Racing(одно отличие от Северной Америки). \n",
    "\n",
    "3) Из категорий больше всего преобладают E, unknown(та которая была задана самостоятельно), T, M, E+10, вовлеченность остальных категорий очень мала."
   ]
  },
  {
   "cell_type": "markdown",
   "metadata": {},
   "source": [
    "##### Пользователи Японии"
   ]
  },
  {
   "cell_type": "code",
   "execution_count": 54,
   "metadata": {},
   "outputs": [
    {
     "data": {
      "text/html": [
       "<div>\n",
       "<style scoped>\n",
       "    .dataframe tbody tr th:only-of-type {\n",
       "        vertical-align: middle;\n",
       "    }\n",
       "\n",
       "    .dataframe tbody tr th {\n",
       "        vertical-align: top;\n",
       "    }\n",
       "\n",
       "    .dataframe thead th {\n",
       "        text-align: right;\n",
       "    }\n",
       "</style>\n",
       "<table border=\"1\" class=\"dataframe\">\n",
       "  <thead>\n",
       "    <tr style=\"text-align: right;\">\n",
       "      <th></th>\n",
       "      <th>platform</th>\n",
       "      <th>jp_sales</th>\n",
       "      <th>shares</th>\n",
       "    </tr>\n",
       "  </thead>\n",
       "  <tbody>\n",
       "    <tr>\n",
       "      <th>3</th>\n",
       "      <td>DS</td>\n",
       "      <td>175.00</td>\n",
       "      <td>0.147288</td>\n",
       "    </tr>\n",
       "    <tr>\n",
       "      <th>14</th>\n",
       "      <td>PS</td>\n",
       "      <td>139.78</td>\n",
       "      <td>0.117645</td>\n",
       "    </tr>\n",
       "    <tr>\n",
       "      <th>15</th>\n",
       "      <td>PS2</td>\n",
       "      <td>137.54</td>\n",
       "      <td>0.115760</td>\n",
       "    </tr>\n",
       "    <tr>\n",
       "      <th>22</th>\n",
       "      <td>SNES</td>\n",
       "      <td>116.55</td>\n",
       "      <td>0.098094</td>\n",
       "    </tr>\n",
       "    <tr>\n",
       "      <th>1</th>\n",
       "      <td>3DS</td>\n",
       "      <td>100.62</td>\n",
       "      <td>0.084686</td>\n",
       "    </tr>\n",
       "  </tbody>\n",
       "</table>\n",
       "</div>"
      ],
      "text/plain": [
       "   platform  jp_sales    shares\n",
       "3        DS    175.00  0.147288\n",
       "14       PS    139.78  0.117645\n",
       "15      PS2    137.54  0.115760\n",
       "22     SNES    116.55  0.098094\n",
       "1       3DS    100.62  0.084686"
      ]
     },
     "execution_count": 54,
     "metadata": {},
     "output_type": "execute_result"
    }
   ],
   "source": [
    "pivot_jp_platform = data.pivot_table(index='platform', values='jp_sales', aggfunc = 'sum')\n",
    "sum_sales = pivot_jp_platform['jp_sales'].sum()\n",
    "pivot_jp_platform['shares'] = pivot_jp_platform['jp_sales'] / sum_sales\n",
    "pivot_jp_platform.reset_index().sort_values(by='jp_sales', ascending=False).head()"
   ]
  },
  {
   "cell_type": "code",
   "execution_count": 55,
   "metadata": {},
   "outputs": [
    {
     "data": {
      "text/html": [
       "<div>\n",
       "<style scoped>\n",
       "    .dataframe tbody tr th:only-of-type {\n",
       "        vertical-align: middle;\n",
       "    }\n",
       "\n",
       "    .dataframe tbody tr th {\n",
       "        vertical-align: top;\n",
       "    }\n",
       "\n",
       "    .dataframe thead th {\n",
       "        text-align: right;\n",
       "    }\n",
       "</style>\n",
       "<table border=\"1\" class=\"dataframe\">\n",
       "  <thead>\n",
       "    <tr style=\"text-align: right;\">\n",
       "      <th></th>\n",
       "      <th>genre</th>\n",
       "      <th>jp_sales</th>\n",
       "    </tr>\n",
       "  </thead>\n",
       "  <tbody>\n",
       "    <tr>\n",
       "      <th>7</th>\n",
       "      <td>Role-Playing</td>\n",
       "      <td>340.71</td>\n",
       "    </tr>\n",
       "    <tr>\n",
       "      <th>0</th>\n",
       "      <td>Action</td>\n",
       "      <td>151.83</td>\n",
       "    </tr>\n",
       "    <tr>\n",
       "      <th>10</th>\n",
       "      <td>Sports</td>\n",
       "      <td>116.73</td>\n",
       "    </tr>\n",
       "    <tr>\n",
       "      <th>3</th>\n",
       "      <td>Misc</td>\n",
       "      <td>102.16</td>\n",
       "    </tr>\n",
       "    <tr>\n",
       "      <th>4</th>\n",
       "      <td>Platform</td>\n",
       "      <td>98.26</td>\n",
       "    </tr>\n",
       "  </tbody>\n",
       "</table>\n",
       "</div>"
      ],
      "text/plain": [
       "           genre  jp_sales\n",
       "7   Role-Playing    340.71\n",
       "0         Action    151.83\n",
       "10        Sports    116.73\n",
       "3           Misc    102.16\n",
       "4       Platform     98.26"
      ]
     },
     "execution_count": 55,
     "metadata": {},
     "output_type": "execute_result"
    }
   ],
   "source": [
    "pivot_jp_genre = data.pivot_table(index='genre', values='jp_sales', aggfunc = 'sum')\n",
    "pivot_jp_genre.reset_index().sort_values(by='jp_sales', ascending=False).head()"
   ]
  },
  {
   "cell_type": "code",
   "execution_count": 56,
   "metadata": {},
   "outputs": [
    {
     "data": {
      "text/html": [
       "<div>\n",
       "<style scoped>\n",
       "    .dataframe tbody tr th:only-of-type {\n",
       "        vertical-align: middle;\n",
       "    }\n",
       "\n",
       "    .dataframe tbody tr th {\n",
       "        vertical-align: top;\n",
       "    }\n",
       "\n",
       "    .dataframe thead th {\n",
       "        text-align: right;\n",
       "    }\n",
       "</style>\n",
       "<table border=\"1\" class=\"dataframe\">\n",
       "  <thead>\n",
       "    <tr style=\"text-align: right;\">\n",
       "      <th></th>\n",
       "      <th>index</th>\n",
       "      <th>rating</th>\n",
       "      <th>jp_sales</th>\n",
       "    </tr>\n",
       "  </thead>\n",
       "  <tbody>\n",
       "    <tr>\n",
       "      <th>0</th>\n",
       "      <td>0</td>\n",
       "      <td>AO</td>\n",
       "      <td>0.00</td>\n",
       "    </tr>\n",
       "    <tr>\n",
       "      <th>1</th>\n",
       "      <td>3</td>\n",
       "      <td>EC</td>\n",
       "      <td>0.00</td>\n",
       "    </tr>\n",
       "    <tr>\n",
       "      <th>2</th>\n",
       "      <td>6</td>\n",
       "      <td>RP</td>\n",
       "      <td>0.00</td>\n",
       "    </tr>\n",
       "    <tr>\n",
       "      <th>3</th>\n",
       "      <td>4</td>\n",
       "      <td>K-A</td>\n",
       "      <td>1.46</td>\n",
       "    </tr>\n",
       "    <tr>\n",
       "      <th>4</th>\n",
       "      <td>2</td>\n",
       "      <td>E10+</td>\n",
       "      <td>40.20</td>\n",
       "    </tr>\n",
       "    <tr>\n",
       "      <th>5</th>\n",
       "      <td>5</td>\n",
       "      <td>M</td>\n",
       "      <td>63.58</td>\n",
       "    </tr>\n",
       "    <tr>\n",
       "      <th>6</th>\n",
       "      <td>7</td>\n",
       "      <td>T</td>\n",
       "      <td>150.70</td>\n",
       "    </tr>\n",
       "    <tr>\n",
       "      <th>7</th>\n",
       "      <td>1</td>\n",
       "      <td>E</td>\n",
       "      <td>197.96</td>\n",
       "    </tr>\n",
       "    <tr>\n",
       "      <th>8</th>\n",
       "      <td>8</td>\n",
       "      <td>unknown</td>\n",
       "      <td>734.25</td>\n",
       "    </tr>\n",
       "  </tbody>\n",
       "</table>\n",
       "</div>"
      ],
      "text/plain": [
       "   index   rating  jp_sales\n",
       "0      0       AO      0.00\n",
       "1      3       EC      0.00\n",
       "2      6       RP      0.00\n",
       "3      4      K-A      1.46\n",
       "4      2     E10+     40.20\n",
       "5      5        M     63.58\n",
       "6      7        T    150.70\n",
       "7      1        E    197.96\n",
       "8      8  unknown    734.25"
      ]
     },
     "execution_count": 56,
     "metadata": {},
     "output_type": "execute_result"
    }
   ],
   "source": [
    "pivot_jp_rating = data.pivot_table(index='rating', values='jp_sales', aggfunc = 'sum').reset_index().sort_values(by='jp_sales')\n",
    "pivot_jp_rating.reset_index()"
   ]
  },
  {
   "cell_type": "markdown",
   "metadata": {},
   "source": [
    "Вывод: по итогам группировок исходного датасета по исследуемым столбцам, можно выделить следующее: \n",
    "\n",
    "1) В Яполнии топ 5 платформ для игр являются: PS, DS, PS2, SNES, 3DS. Доля их вовлеченности в продаваемостьсоставляет от 14,7 до 8.5%.\n",
    "\n",
    "2) Преобладающими жанрами являются: Action, Sport, Role-Playing, Misc, Platform. \n",
    "\n",
    "3) Из категорий больше всего преобладают E, unknown(та которая была задана самостоятельно), T, а вот в  M, E+10, уже в меньшей степени, вовлеченность остальных категорий очень мала(у некоторых вообще нулевая)."
   ]
  },
  {
   "cell_type": "markdown",
   "metadata": {},
   "source": [
    "#### Проверка гипотез"
   ]
  },
  {
   "cell_type": "markdown",
   "metadata": {},
   "source": [
    "##### Средние пользовательские рейтинги платформ"
   ]
  },
  {
   "cell_type": "markdown",
   "metadata": {},
   "source": [
    "Задаем гипотезы:\n",
    "\n",
    "\n",
    "H0: Средние пользовательские рейтинги платформ Xbox One и PC одинаковые\n",
    "\n",
    "\n",
    "H1: Средние пользовательские рейтинги платформ Xbox One и PC различаются."
   ]
  },
  {
   "cell_type": "code",
   "execution_count": 57,
   "metadata": {},
   "outputs": [],
   "source": [
    "xbox_one_scores = data[data['platform'] == 'XOne']['user_score'].dropna()\n",
    "pc_scores = data[data['platform'] == 'PC']['user_score'].dropna()"
   ]
  },
  {
   "cell_type": "code",
   "execution_count": 58,
   "metadata": {},
   "outputs": [
    {
     "name": "stdout",
     "output_type": "stream",
     "text": [
      "Средний пользовательский рейтинг Xbox One: 6.586171675792931\n",
      "Средний пользовательский рейтинг PC: 7.095690342964553\n"
     ]
    }
   ],
   "source": [
    "# Проверка среднего значения для каждой группы\n",
    "print(f\"Средний пользовательский рейтинг Xbox One: {xbox_one_scores.mean()}\")\n",
    "print(f\"Средний пользовательский рейтинг PC: {pc_scores.mean()}\")"
   ]
  },
  {
   "cell_type": "code",
   "execution_count": 59,
   "metadata": {},
   "outputs": [
    {
     "name": "stdout",
     "output_type": "stream",
     "text": [
      "T-статистика: -5.720495382186805\n",
      "P-значение: 2.012858690105811e-08\n"
     ]
    }
   ],
   "source": [
    "# Выполнение t-теста для независимых выборок\n",
    "t_stat, p_value = st.ttest_ind(xbox_one_scores, pc_scores, equal_var=False)\n",
    "\n",
    "# Вывод результатов\n",
    "print(f\"T-статистика: {t_stat}\")\n",
    "print(f\"P-значение: {p_value}\")\n"
   ]
  },
  {
   "cell_type": "code",
   "execution_count": 60,
   "metadata": {},
   "outputs": [
    {
     "name": "stdout",
     "output_type": "stream",
     "text": [
      "Отклоняем нулевую гипотезу: Средние пользовательские рейтинги различаются.\n"
     ]
    }
   ],
   "source": [
    "# Интерпретация результатов\n",
    "alpha = 0.05\n",
    "if p_value < alpha:\n",
    "    print(\"Отклоняем нулевую гипотезу: Средние пользовательские рейтинги различаются.\")\n",
    "else:\n",
    "    print(\"Не отклоняем нулевую гипотезу: Средние пользовательские рейтинги одинаковые.\")"
   ]
  },
  {
   "cell_type": "markdown",
   "metadata": {},
   "source": [
    "##### Средние пользовательские рейтинги жанров"
   ]
  },
  {
   "cell_type": "markdown",
   "metadata": {},
   "source": [
    "Задаем гипотезы:\n",
    "\n",
    "H0: Средние пользовательские рейтинги жанров Action и Sports одинаковые.\n",
    "\n",
    "H1: Средние пользовательские рейтинги жанров Action и Sports различаются."
   ]
  },
  {
   "cell_type": "code",
   "execution_count": 61,
   "metadata": {},
   "outputs": [],
   "source": [
    "# Фильтрация данных для жанров Action и Sports\n",
    "action_scores = data[data['genre'] == 'Action']['user_score'].dropna()\n",
    "sports_scores = data[data['genre'] == 'Sports']['user_score'].dropna()"
   ]
  },
  {
   "cell_type": "code",
   "execution_count": 62,
   "metadata": {},
   "outputs": [
    {
     "name": "stdout",
     "output_type": "stream",
     "text": [
      "Средний пользовательский рейтинг Action: 7.030255609434802\n",
      "Средний пользовательский рейтинг Sports: 7.1183529036390985\n"
     ]
    }
   ],
   "source": [
    "# Проверка среднего значения для каждой группы\n",
    "print(f\"Средний пользовательский рейтинг Action: {action_scores.mean()}\")\n",
    "print(f\"Средний пользовательский рейтинг Sports: {sports_scores.mean()}\")"
   ]
  },
  {
   "cell_type": "code",
   "execution_count": 63,
   "metadata": {},
   "outputs": [
    {
     "name": "stdout",
     "output_type": "stream",
     "text": [
      "T-статистика: -2.6150705052170404\n",
      "P-значение: 0.008953561922559574\n"
     ]
    }
   ],
   "source": [
    "# Выполнение t-теста для независимых выборок\n",
    "t_stat, p_value = st.ttest_ind(action_scores, sports_scores, equal_var=False)\n",
    "print(f\"T-статистика: {t_stat}\")\n",
    "print(f\"P-значение: {p_value}\")"
   ]
  },
  {
   "cell_type": "code",
   "execution_count": 64,
   "metadata": {},
   "outputs": [
    {
     "name": "stdout",
     "output_type": "stream",
     "text": [
      "Отклоняем нулевую гипотезу: Средние пользовательские рейтинги различаются.\n"
     ]
    }
   ],
   "source": [
    "# Интерпретация результатов\n",
    "alpha = 0.05\n",
    "if p_value < alpha:\n",
    "    print(\"Отклоняем нулевую гипотезу: Средние пользовательские рейтинги различаются.\")\n",
    "else:\n",
    "    print(\"Не отклоняем нулевую гипотезу: Средние пользовательские рейтинги одинаковые.\")"
   ]
  },
  {
   "cell_type": "code",
   "execution_count": 65,
   "metadata": {},
   "outputs": [
    {
     "data": {
      "text/plain": [
       "2.8477415495064315"
      ]
     },
     "execution_count": 65,
     "metadata": {},
     "output_type": "execute_result"
    }
   ],
   "source": [
    "((start_shape - data.shape[0]) / start_shape) * 100"
   ]
  },
  {
   "cell_type": "markdown",
   "metadata": {},
   "source": [
    "**Пользовательские рейтинги жанров Action и Sports, а также рейтинги платформ XONe и PC представляют  по две разных групп данных, которые не зависят друг от друга. Пользовательские рейтинги являются числовыми значениями, что подходит для использования t-теста. Предполагается, что данные распределены нормально, особенно при большом количестве наблюдений, что позволяет применять t-тест. Тест проверяет, есть ли статистически значимое различие между средними значениями двух групп. Параметр сравнения alpha выбирается либо 0.05, либо 0.01, был использован 0.05.**"
   ]
  },
  {
   "cell_type": "markdown",
   "metadata": {},
   "source": [
    "#### Итоговый вывод:"
   ]
  },
  {
   "cell_type": "markdown",
   "metadata": {},
   "source": [
    "В результате выполнения проекта было проведено исследование магазина \"Стримчик\". Были выполненны следующие действия:\n",
    "\n",
    "* Проведена обработка данных: Заменили названия столбцов, а точнее названия были зависаны с учетом верхнего регистра, перевели в   нижний. Далее обработка пропусков показала, что неопределенные значения были обнаружены в 6 столбцах, в трех из них пропуски были удалены, так как количество строк с пропущенными значениями позволяло это сделать, в столбце с рейтингом критиков, заполнение происходило по средним значениям группировки по столбцам platform и genre, в столбце с рейтингом пользователей также, но прежде необходимо было обработать значение 'tbd', в столбце rating, заполнили 'unknown'. Пропуски могли появится из-за технических проблем, либо рейтинг игр не был сформирован или проставлен теми, кто их оценивал. По итогу с учетом дальнейших преобразований датасета удалено 2.85 % строк, что является допустимым. Дубликаты не обнаружены.\n",
    "* В исследовательском анализе были получены следующие данные: \n",
    " - в основном игры стали выпускаться после 1990 года, данные до этого года были проигнорированы, так как практически никакой информации не давали бы.\n",
    " - При оценке вовлеченности платформы можно сказать, что самыми популярными платформами являются PS2, X360, PS3, Wii, DS, PS, PS4, GBA, PSP, 3DS. После этого оценили временной диапазон актуальности данных платформ в основном срок актуальности входит в интервал от 3 до 11 лет. Если брать относительно всего датасета то самой популярной является PS2, а самой менее популярной PCFX.\n",
    " - Далее выявили какие платформы демонстрируют рост по продажам, а какие спад. Получили, что все платформы демонстрируют спад в период с 2014 и до 2016 года.\n",
    " - Построение графика \"ящик с усами\" (box plot) для глобальных продаж игр по платформам показало значительные различия в продажах между различными платформами. Платформы с наибольшими суммарными продажами (например, PS2, Xbox 360) имели более высокие медианные значения и больший разброс в продажах, что указывает на их популярность и разнообразие в успешности игр. Выбросы на графиках указали на отдельные игры с чрезвычайно высокими продажами, что говорит о наличии хитов, значительно влияющих на общие показатели платформы.\n",
    " - Для того, чтобы отследить зависимость продаж платформ по оценкам критиков и пользователей была выбрана платформа PS4 и для сравнения X360, посчитан коэффициент корреляции для критиков, который составил 0.34 и 0.38, соответственно, что говорит о достаточно слабой линейной свзяи между продажами и оценкой критиков. Отсносительно пользователей получилось -0.054 и 0.115 , соответственно, говорит о том, что между продажами и отзывами пользователей практически нету линейной зависимости.\n",
    " - Проведено исследование по самым популярным жанрам.  По результатам построений диаграмм, можно сказать, что самый часто продаваемые жанр Action и Sports, а самый низко продаваемые Puzzle и Strategy. Относительно продаж, рассмотрен вариант средних продаж. Из полученной диаграммы видим, что самые высокие продажи имеют жанры игр: Platform, Shooter и Role-Playing, а самые низкие: Adventure, Puzzle и Strategy.\n",
    "* Составлен портрет пользователя из заданного региона:\n",
    " - Севереная Америка: \n",
    "   - В Северной Америке топ 5 платформ для игр являются: X360, PS2, Wii, PS3, DS. Доля их вовлеченности в продаваемость составляет от 14,5 до 9.2%.\n",
    "   - Преобладающими жанрами являются: Action, Sport, Shooter, Misc, Platform.\n",
    "   - Из категорий больше всего преобладают E, unknown(та которая была задана самостоятельно), T, M, E+10, вовлеченность остальных категорий очень мала.\n",
    " - Европа:\n",
    "   - В Европе топ 5 платформ для игр являются: X360, PS2, Wii, PS3, PS(Одно отличение от Северой Америки). Доля их вовлеченности в продаваемостьсоставляет от 14 до 9%.\n",
    "   - Преобладающими жанрами являются: Action, Sport, Shooter, Misc, Racing(одно отличие от Северной Америки).\n",
    "   - Из категорий больше всего преобладают E, unknown(та которая была задана самостоятельно), T, M, E+10, вовлеченность остальных категорий очень мала.\n",
    " - Япония: \n",
    "   - В Яполнии топ 5 платформ для игр являются: PS, DS, PS2, SNES, 3DS. Доля их вовлеченности в продаваемостьсоставляет от 14,7 до 8.5%.\n",
    "   - Преобладающими жанрами являются: Action, Sport, Role-Playing, Misc, Platform.\n",
    "   - Из категорий больше всего преобладают E, unknown(та которая была задана самостоятельно), T, а вот в M, E+10, уже в меньшей степени, вовлеченность остальных категорий очень мала(у некоторых вообще нулевая).\n",
    "   \n",
    "   По итогам можно отметить, что пользователи всех регионов имеют практически одинаковые предпочтения относительно жанров игр. Жители Европы и Северной Америки имеют почти одинаковые препочтения относительно платформ для игр.\n",
    "* Проверка гипотез показала, что средние пользовательские рейтинги платформ Xbox One и PC различаются, как и средние пользовательские рейтинги жанров Action и Sports тоже будут различаться.\n",
    "\n",
    "\n",
    "\n",
    "\n",
    "Проведенный анализ показал, что средние пользовательские рейтинги могут значительно различаться в зависимости от жанра игры, что необходимо учитывать при разработке и маркетинге игр. В то же время рейтинги платформ Xbox One и PC оказались схожими, что может свидетельствовать о схожих предпочтениях пользователей этих платформ. Визуализация глобальных продаж по платформам и анализ жизненного цикла платформ предоставили важные инсайты для стратегического планирования в игровой индустрии.\n",
    "\n",
    "Эти результаты могут быть полезны разработчикам игр, маркетологам и аналитикам для принятия обоснованных решений, направленных на повышение успеха и популярности игр на различных платформах и в различных жанрах."
   ]
  },
  {
   "cell_type": "code",
   "execution_count": null,
   "metadata": {},
   "outputs": [],
   "source": []
  }
 ],
 "metadata": {
  "ExecuteTimeLog": [
   {
    "duration": 1317,
    "start_time": "2024-06-01T14:30:27.139Z"
   },
   {
    "duration": 201,
    "start_time": "2024-06-01T14:31:47.218Z"
   },
   {
    "duration": 26,
    "start_time": "2024-06-01T14:32:24.657Z"
   },
   {
    "duration": 19,
    "start_time": "2024-06-01T14:33:00.655Z"
   },
   {
    "duration": 11,
    "start_time": "2024-06-01T14:35:36.101Z"
   },
   {
    "duration": 110,
    "start_time": "2024-06-01T14:36:42.020Z"
   },
   {
    "duration": 4,
    "start_time": "2024-06-01T14:36:44.928Z"
   },
   {
    "duration": 13,
    "start_time": "2024-06-01T14:37:20.684Z"
   },
   {
    "duration": 5,
    "start_time": "2024-06-01T14:37:24.587Z"
   },
   {
    "duration": 16,
    "start_time": "2024-06-01T14:37:43.711Z"
   },
   {
    "duration": 14,
    "start_time": "2024-06-01T14:41:50.836Z"
   },
   {
    "duration": 9,
    "start_time": "2024-06-01T14:42:26.217Z"
   },
   {
    "duration": 11,
    "start_time": "2024-06-01T14:42:36.470Z"
   },
   {
    "duration": 6,
    "start_time": "2024-06-01T14:42:52.349Z"
   },
   {
    "duration": 21,
    "start_time": "2024-06-01T14:43:04.858Z"
   },
   {
    "duration": 16,
    "start_time": "2024-06-01T14:45:23.183Z"
   },
   {
    "duration": 14,
    "start_time": "2024-06-01T14:45:31.560Z"
   },
   {
    "duration": 16,
    "start_time": "2024-06-01T14:46:14.859Z"
   },
   {
    "duration": 16,
    "start_time": "2024-06-01T14:46:34.618Z"
   },
   {
    "duration": 15,
    "start_time": "2024-06-01T14:48:08.912Z"
   },
   {
    "duration": 2,
    "start_time": "2024-06-01T14:48:25.108Z"
   },
   {
    "duration": 83,
    "start_time": "2024-06-01T14:48:25.113Z"
   },
   {
    "duration": 20,
    "start_time": "2024-06-01T14:48:25.199Z"
   },
   {
    "duration": 18,
    "start_time": "2024-06-01T14:48:25.221Z"
   },
   {
    "duration": 19,
    "start_time": "2024-06-01T14:48:25.241Z"
   },
   {
    "duration": 21,
    "start_time": "2024-06-01T14:48:25.263Z"
   },
   {
    "duration": 9,
    "start_time": "2024-06-01T14:49:48.290Z"
   },
   {
    "duration": 11,
    "start_time": "2024-06-01T14:49:58.344Z"
   },
   {
    "duration": 10,
    "start_time": "2024-06-01T14:50:03.643Z"
   },
   {
    "duration": 10,
    "start_time": "2024-06-01T14:50:24.115Z"
   },
   {
    "duration": 10,
    "start_time": "2024-06-01T14:50:34.773Z"
   },
   {
    "duration": 14,
    "start_time": "2024-06-01T14:50:41.201Z"
   },
   {
    "duration": 11,
    "start_time": "2024-06-01T14:50:49.873Z"
   },
   {
    "duration": 14,
    "start_time": "2024-06-01T14:50:55.133Z"
   },
   {
    "duration": 14,
    "start_time": "2024-06-01T14:51:18.853Z"
   },
   {
    "duration": 13,
    "start_time": "2024-06-01T14:52:05.689Z"
   },
   {
    "duration": 15,
    "start_time": "2024-06-01T14:52:31.925Z"
   },
   {
    "duration": 6,
    "start_time": "2024-06-01T14:54:31.503Z"
   },
   {
    "duration": 12,
    "start_time": "2024-06-01T14:54:37.177Z"
   },
   {
    "duration": 15,
    "start_time": "2024-06-01T14:55:38.204Z"
   },
   {
    "duration": 21,
    "start_time": "2024-06-01T14:55:54.720Z"
   },
   {
    "duration": 10,
    "start_time": "2024-06-01T14:55:56.145Z"
   },
   {
    "duration": 9,
    "start_time": "2024-06-01T14:56:21.263Z"
   },
   {
    "duration": 163,
    "start_time": "2024-06-01T14:56:21.807Z"
   },
   {
    "duration": 98,
    "start_time": "2024-06-01T15:05:34.100Z"
   },
   {
    "duration": 10,
    "start_time": "2024-06-01T15:05:34.876Z"
   },
   {
    "duration": 33,
    "start_time": "2024-06-01T15:06:04.728Z"
   },
   {
    "duration": 3,
    "start_time": "2024-06-01T15:06:36.889Z"
   },
   {
    "duration": 77,
    "start_time": "2024-06-01T15:06:36.893Z"
   },
   {
    "duration": 15,
    "start_time": "2024-06-01T15:06:36.971Z"
   },
   {
    "duration": 46,
    "start_time": "2024-06-01T15:06:36.988Z"
   },
   {
    "duration": 25,
    "start_time": "2024-06-01T15:06:37.036Z"
   },
   {
    "duration": 22,
    "start_time": "2024-06-01T15:06:37.062Z"
   },
   {
    "duration": 26,
    "start_time": "2024-06-01T15:06:37.085Z"
   },
   {
    "duration": 30,
    "start_time": "2024-06-01T15:06:37.113Z"
   },
   {
    "duration": 99,
    "start_time": "2024-06-01T15:06:37.145Z"
   },
   {
    "duration": 15,
    "start_time": "2024-06-01T15:06:37.246Z"
   },
   {
    "duration": 62,
    "start_time": "2024-06-01T15:06:37.263Z"
   },
   {
    "duration": 0,
    "start_time": "2024-06-01T15:06:37.327Z"
   },
   {
    "duration": 19,
    "start_time": "2024-06-01T15:07:38.995Z"
   },
   {
    "duration": 5,
    "start_time": "2024-06-01T15:09:43.655Z"
   },
   {
    "duration": 7,
    "start_time": "2024-06-01T15:11:37.113Z"
   },
   {
    "duration": 11,
    "start_time": "2024-06-01T15:11:45.551Z"
   },
   {
    "duration": 6,
    "start_time": "2024-06-01T15:13:35.592Z"
   },
   {
    "duration": 31,
    "start_time": "2024-06-01T15:14:04.411Z"
   },
   {
    "duration": 6,
    "start_time": "2024-06-01T15:19:09.411Z"
   },
   {
    "duration": 9,
    "start_time": "2024-06-01T15:19:15.603Z"
   },
   {
    "duration": 13,
    "start_time": "2024-06-01T15:19:22.726Z"
   },
   {
    "duration": 3,
    "start_time": "2024-06-01T15:19:52.952Z"
   },
   {
    "duration": 4,
    "start_time": "2024-06-01T15:19:57.489Z"
   },
   {
    "duration": 5,
    "start_time": "2024-06-01T15:20:04.502Z"
   },
   {
    "duration": 11,
    "start_time": "2024-06-01T15:26:13.936Z"
   },
   {
    "duration": 18,
    "start_time": "2024-06-01T15:26:52.657Z"
   },
   {
    "duration": 181,
    "start_time": "2024-06-01T15:27:11.135Z"
   },
   {
    "duration": 96,
    "start_time": "2024-06-01T15:27:20.831Z"
   },
   {
    "duration": 9,
    "start_time": "2024-06-01T15:27:29.391Z"
   },
   {
    "duration": 10,
    "start_time": "2024-06-01T15:28:24.792Z"
   },
   {
    "duration": 3,
    "start_time": "2024-06-01T15:32:28.125Z"
   },
   {
    "duration": 4,
    "start_time": "2024-06-01T15:32:47.782Z"
   },
   {
    "duration": 69,
    "start_time": "2024-06-01T15:32:47.788Z"
   },
   {
    "duration": 17,
    "start_time": "2024-06-01T15:32:47.858Z"
   },
   {
    "duration": 16,
    "start_time": "2024-06-01T15:32:47.876Z"
   },
   {
    "duration": 4,
    "start_time": "2024-06-01T15:32:47.894Z"
   },
   {
    "duration": 16,
    "start_time": "2024-06-01T15:32:47.899Z"
   },
   {
    "duration": 8,
    "start_time": "2024-06-01T15:32:47.916Z"
   },
   {
    "duration": 34,
    "start_time": "2024-06-01T15:32:47.926Z"
   },
   {
    "duration": 98,
    "start_time": "2024-06-01T15:32:47.962Z"
   },
   {
    "duration": 11,
    "start_time": "2024-06-01T15:32:48.061Z"
   },
   {
    "duration": 5,
    "start_time": "2024-06-01T15:32:48.074Z"
   },
   {
    "duration": 22,
    "start_time": "2024-06-01T15:32:48.081Z"
   },
   {
    "duration": 6,
    "start_time": "2024-06-01T15:32:48.105Z"
   },
   {
    "duration": 13,
    "start_time": "2024-06-01T15:32:48.113Z"
   },
   {
    "duration": 7,
    "start_time": "2024-06-01T15:32:48.127Z"
   },
   {
    "duration": 111,
    "start_time": "2024-06-01T15:32:48.136Z"
   },
   {
    "duration": 9,
    "start_time": "2024-06-01T15:32:48.248Z"
   },
   {
    "duration": 4,
    "start_time": "2024-06-01T15:33:30.766Z"
   },
   {
    "duration": 14,
    "start_time": "2024-06-01T15:34:30.979Z"
   },
   {
    "duration": 5,
    "start_time": "2024-06-01T15:43:13.868Z"
   },
   {
    "duration": 4,
    "start_time": "2024-06-01T15:47:39.107Z"
   },
   {
    "duration": 83,
    "start_time": "2024-06-01T15:47:39.113Z"
   },
   {
    "duration": 15,
    "start_time": "2024-06-01T15:47:39.198Z"
   },
   {
    "duration": 14,
    "start_time": "2024-06-01T15:47:39.215Z"
   },
   {
    "duration": 11,
    "start_time": "2024-06-01T15:47:39.231Z"
   },
   {
    "duration": 19,
    "start_time": "2024-06-01T15:47:39.254Z"
   },
   {
    "duration": 17,
    "start_time": "2024-06-01T15:47:39.276Z"
   },
   {
    "duration": 8,
    "start_time": "2024-06-01T15:47:39.294Z"
   },
   {
    "duration": 18,
    "start_time": "2024-06-01T15:47:39.303Z"
   },
   {
    "duration": 127,
    "start_time": "2024-06-01T15:47:39.323Z"
   },
   {
    "duration": 22,
    "start_time": "2024-06-01T15:47:39.452Z"
   },
   {
    "duration": 6,
    "start_time": "2024-06-01T15:47:39.476Z"
   },
   {
    "duration": 12,
    "start_time": "2024-06-01T15:47:39.483Z"
   },
   {
    "duration": 7,
    "start_time": "2024-06-01T15:47:39.498Z"
   },
   {
    "duration": 6,
    "start_time": "2024-06-01T15:47:39.507Z"
   },
   {
    "duration": 13,
    "start_time": "2024-06-01T15:47:39.515Z"
   },
   {
    "duration": 145,
    "start_time": "2024-06-01T15:47:39.529Z"
   },
   {
    "duration": 9,
    "start_time": "2024-06-01T15:47:39.676Z"
   },
   {
    "duration": 2,
    "start_time": "2024-06-01T15:47:39.687Z"
   },
   {
    "duration": 13,
    "start_time": "2024-06-01T15:47:39.691Z"
   },
   {
    "duration": 8,
    "start_time": "2024-06-01T15:47:39.705Z"
   },
   {
    "duration": 14,
    "start_time": "2024-06-01T15:48:27.435Z"
   },
   {
    "duration": 6,
    "start_time": "2024-06-01T15:50:46.608Z"
   },
   {
    "duration": 24,
    "start_time": "2024-06-01T15:50:48.077Z"
   },
   {
    "duration": 26,
    "start_time": "2024-06-01T15:53:59.399Z"
   },
   {
    "duration": 22,
    "start_time": "2024-06-01T15:54:10.661Z"
   },
   {
    "duration": 13,
    "start_time": "2024-06-01T15:54:23.354Z"
   },
   {
    "duration": 5,
    "start_time": "2024-06-01T15:54:35.621Z"
   },
   {
    "duration": 15,
    "start_time": "2024-06-01T15:54:41.553Z"
   },
   {
    "duration": 10,
    "start_time": "2024-06-01T15:55:59.586Z"
   },
   {
    "duration": 24,
    "start_time": "2024-06-01T15:56:05.931Z"
   },
   {
    "duration": 192,
    "start_time": "2024-06-01T15:57:04.408Z"
   },
   {
    "duration": 288,
    "start_time": "2024-06-01T15:57:56.023Z"
   },
   {
    "duration": 208,
    "start_time": "2024-06-01T15:59:18.803Z"
   },
   {
    "duration": 254,
    "start_time": "2024-06-01T15:59:30.590Z"
   },
   {
    "duration": 212,
    "start_time": "2024-06-01T15:59:48.043Z"
   },
   {
    "duration": 299,
    "start_time": "2024-06-01T16:00:06.633Z"
   },
   {
    "duration": 219,
    "start_time": "2024-06-01T16:00:29.865Z"
   },
   {
    "duration": 9,
    "start_time": "2024-06-01T16:03:33.069Z"
   },
   {
    "duration": 7,
    "start_time": "2024-06-01T16:03:50.057Z"
   },
   {
    "duration": 3,
    "start_time": "2024-06-01T16:04:30.245Z"
   },
   {
    "duration": 15,
    "start_time": "2024-06-01T16:14:14.946Z"
   },
   {
    "duration": 17,
    "start_time": "2024-06-01T16:14:28.779Z"
   },
   {
    "duration": 15,
    "start_time": "2024-06-01T16:15:13.443Z"
   },
   {
    "duration": 149,
    "start_time": "2024-06-01T16:15:25.684Z"
   },
   {
    "duration": 17,
    "start_time": "2024-06-01T16:16:29.600Z"
   },
   {
    "duration": 16,
    "start_time": "2024-06-01T16:16:43.509Z"
   },
   {
    "duration": 16,
    "start_time": "2024-06-01T16:22:32.612Z"
   },
   {
    "duration": 8,
    "start_time": "2024-06-01T16:22:48.038Z"
   },
   {
    "duration": 10,
    "start_time": "2024-06-01T16:22:56.514Z"
   },
   {
    "duration": 9,
    "start_time": "2024-06-01T16:23:16.688Z"
   },
   {
    "duration": 8,
    "start_time": "2024-06-01T16:23:24.936Z"
   },
   {
    "duration": 8,
    "start_time": "2024-06-01T16:23:37.763Z"
   },
   {
    "duration": 19,
    "start_time": "2024-06-01T16:24:20.671Z"
   },
   {
    "duration": 667,
    "start_time": "2024-06-01T16:24:32.881Z"
   },
   {
    "duration": 177,
    "start_time": "2024-06-01T16:24:59.383Z"
   },
   {
    "duration": 17,
    "start_time": "2024-06-01T16:25:09.992Z"
   },
   {
    "duration": 20,
    "start_time": "2024-06-01T16:26:52.735Z"
   },
   {
    "duration": 19,
    "start_time": "2024-06-01T16:27:00.920Z"
   },
   {
    "duration": 17,
    "start_time": "2024-06-01T16:27:14.396Z"
   },
   {
    "duration": 24,
    "start_time": "2024-06-01T16:27:26.680Z"
   },
   {
    "duration": 253,
    "start_time": "2024-06-01T16:27:31.452Z"
   },
   {
    "duration": 144,
    "start_time": "2024-06-01T16:28:00.915Z"
   },
   {
    "duration": 19,
    "start_time": "2024-06-01T16:28:17.720Z"
   },
   {
    "duration": 287,
    "start_time": "2024-06-01T16:29:01.964Z"
   },
   {
    "duration": 305,
    "start_time": "2024-06-01T16:29:07.715Z"
   },
   {
    "duration": 399,
    "start_time": "2024-06-01T16:46:10.555Z"
   },
   {
    "duration": 306,
    "start_time": "2024-06-01T16:46:25.538Z"
   },
   {
    "duration": 292,
    "start_time": "2024-06-01T16:51:45.115Z"
   },
   {
    "duration": 5,
    "start_time": "2024-06-01T16:55:12.257Z"
   },
   {
    "duration": 4,
    "start_time": "2024-06-01T16:55:47.083Z"
   },
   {
    "duration": 12,
    "start_time": "2024-06-01T16:55:53.324Z"
   },
   {
    "duration": 44,
    "start_time": "2024-06-01T16:58:44.792Z"
   },
   {
    "duration": 6,
    "start_time": "2024-06-01T16:59:08.230Z"
   },
   {
    "duration": 6,
    "start_time": "2024-06-01T16:59:55.990Z"
   },
   {
    "duration": 6,
    "start_time": "2024-06-01T17:00:48.831Z"
   },
   {
    "duration": 38,
    "start_time": "2024-06-01T17:01:12.672Z"
   },
   {
    "duration": 12,
    "start_time": "2024-06-01T17:01:52.553Z"
   },
   {
    "duration": 5,
    "start_time": "2024-06-01T17:02:25.280Z"
   },
   {
    "duration": 6,
    "start_time": "2024-06-01T17:02:30.638Z"
   },
   {
    "duration": 6,
    "start_time": "2024-06-01T17:03:06.371Z"
   },
   {
    "duration": 12,
    "start_time": "2024-06-01T17:03:14.737Z"
   },
   {
    "duration": 24,
    "start_time": "2024-06-01T17:04:14.977Z"
   },
   {
    "duration": 79,
    "start_time": "2024-06-01T17:04:36.811Z"
   },
   {
    "duration": 12,
    "start_time": "2024-06-01T17:04:40.835Z"
   },
   {
    "duration": 25,
    "start_time": "2024-06-01T17:07:33.953Z"
   },
   {
    "duration": 43,
    "start_time": "2024-06-01T17:07:57.729Z"
   },
   {
    "duration": 206,
    "start_time": "2024-06-01T17:09:29.171Z"
   },
   {
    "duration": 195,
    "start_time": "2024-06-01T17:09:56.814Z"
   },
   {
    "duration": 31,
    "start_time": "2024-06-01T17:10:24.570Z"
   },
   {
    "duration": 197,
    "start_time": "2024-06-01T17:11:03.178Z"
   },
   {
    "duration": 196,
    "start_time": "2024-06-01T17:11:58.845Z"
   },
   {
    "duration": 19250,
    "start_time": "2024-06-01T17:12:53.471Z"
   },
   {
    "duration": 19452,
    "start_time": "2024-06-01T17:15:51.579Z"
   },
   {
    "duration": 207,
    "start_time": "2024-06-01T17:17:27.889Z"
   },
   {
    "duration": 200,
    "start_time": "2024-06-01T17:17:43.697Z"
   },
   {
    "duration": 714,
    "start_time": "2024-06-01T17:22:26.815Z"
   },
   {
    "duration": 11,
    "start_time": "2024-06-01T17:22:59.691Z"
   },
   {
    "duration": 13,
    "start_time": "2024-06-01T17:23:12.415Z"
   },
   {
    "duration": 13,
    "start_time": "2024-06-01T17:25:02.511Z"
   },
   {
    "duration": 7,
    "start_time": "2024-06-01T17:31:40.775Z"
   },
   {
    "duration": 7,
    "start_time": "2024-06-01T17:31:48.761Z"
   },
   {
    "duration": 1861,
    "start_time": "2024-06-01T17:31:54.103Z"
   },
   {
    "duration": 8,
    "start_time": "2024-06-01T17:35:51.331Z"
   },
   {
    "duration": 267,
    "start_time": "2024-06-01T17:37:04.282Z"
   },
   {
    "duration": 447,
    "start_time": "2024-06-01T17:37:57.813Z"
   },
   {
    "duration": 276,
    "start_time": "2024-06-01T17:38:06.946Z"
   },
   {
    "duration": 9,
    "start_time": "2024-06-01T17:40:25.642Z"
   },
   {
    "duration": 127,
    "start_time": "2024-06-01T17:43:26.530Z"
   },
   {
    "duration": 111,
    "start_time": "2024-06-01T17:43:52.424Z"
   },
   {
    "duration": 9,
    "start_time": "2024-06-01T17:46:38.277Z"
   },
   {
    "duration": 9,
    "start_time": "2024-06-01T17:46:45.009Z"
   },
   {
    "duration": 191,
    "start_time": "2024-06-01T17:46:56.440Z"
   },
   {
    "duration": 187,
    "start_time": "2024-06-01T17:47:22.326Z"
   },
   {
    "duration": 653,
    "start_time": "2024-06-01T17:49:12.522Z"
   },
   {
    "duration": 648,
    "start_time": "2024-06-01T17:49:22.936Z"
   },
   {
    "duration": 12,
    "start_time": "2024-06-01T17:51:06.909Z"
   },
   {
    "duration": 12,
    "start_time": "2024-06-01T17:51:16.755Z"
   },
   {
    "duration": 143,
    "start_time": "2024-06-01T17:51:41.508Z"
   },
   {
    "duration": 542,
    "start_time": "2024-06-01T17:51:49.464Z"
   },
   {
    "duration": 530,
    "start_time": "2024-06-01T17:52:16.371Z"
   },
   {
    "duration": 535,
    "start_time": "2024-06-01T17:52:21.582Z"
   },
   {
    "duration": 618,
    "start_time": "2024-06-01T17:52:29.777Z"
   },
   {
    "duration": 549,
    "start_time": "2024-06-01T17:53:24.395Z"
   },
   {
    "duration": 4,
    "start_time": "2024-06-01T17:54:43.598Z"
   },
   {
    "duration": 259,
    "start_time": "2024-06-01T17:54:47.231Z"
   },
   {
    "duration": 277,
    "start_time": "2024-06-01T17:55:21.444Z"
   },
   {
    "duration": 640,
    "start_time": "2024-06-01T17:58:27.769Z"
   },
   {
    "duration": 35,
    "start_time": "2024-06-01T17:59:02.808Z"
   },
   {
    "duration": 10,
    "start_time": "2024-06-01T17:59:47.004Z"
   },
   {
    "duration": 590,
    "start_time": "2024-06-01T18:02:51.554Z"
   },
   {
    "duration": 602,
    "start_time": "2024-06-01T18:03:03.868Z"
   },
   {
    "duration": 607,
    "start_time": "2024-06-01T18:03:21.921Z"
   },
   {
    "duration": 680,
    "start_time": "2024-06-01T18:03:29.096Z"
   },
   {
    "duration": 579,
    "start_time": "2024-06-01T18:03:59.492Z"
   },
   {
    "duration": 602,
    "start_time": "2024-06-01T18:04:10.250Z"
   },
   {
    "duration": 718,
    "start_time": "2024-06-01T18:04:27.823Z"
   },
   {
    "duration": 603,
    "start_time": "2024-06-01T18:04:38.999Z"
   },
   {
    "duration": 10,
    "start_time": "2024-06-01T18:11:37.355Z"
   },
   {
    "duration": 22,
    "start_time": "2024-06-01T18:11:45.054Z"
   },
   {
    "duration": 9,
    "start_time": "2024-06-01T18:11:57.090Z"
   },
   {
    "duration": 10,
    "start_time": "2024-06-01T18:12:08.494Z"
   },
   {
    "duration": 19,
    "start_time": "2024-06-01T18:12:21.653Z"
   },
   {
    "duration": 69,
    "start_time": "2024-06-01T18:12:26.861Z"
   },
   {
    "duration": 7,
    "start_time": "2024-06-01T18:12:30.889Z"
   },
   {
    "duration": 30,
    "start_time": "2024-06-01T18:22:26.349Z"
   },
   {
    "duration": 17,
    "start_time": "2024-06-01T18:22:32.574Z"
   },
   {
    "duration": 31,
    "start_time": "2024-06-01T18:22:52.147Z"
   },
   {
    "duration": 6,
    "start_time": "2024-06-01T18:25:07.666Z"
   },
   {
    "duration": 6,
    "start_time": "2024-06-01T18:26:33.895Z"
   },
   {
    "duration": 29,
    "start_time": "2024-06-01T18:26:34.540Z"
   },
   {
    "duration": 695,
    "start_time": "2024-06-01T18:30:09.446Z"
   },
   {
    "duration": 149,
    "start_time": "2024-06-01T18:30:28.341Z"
   },
   {
    "duration": 5,
    "start_time": "2024-06-01T18:45:05.297Z"
   },
   {
    "duration": 160,
    "start_time": "2024-06-01T18:45:12.186Z"
   },
   {
    "duration": 6,
    "start_time": "2024-06-01T18:47:14.338Z"
   },
   {
    "duration": 176,
    "start_time": "2024-06-01T18:53:15.015Z"
   },
   {
    "duration": 5,
    "start_time": "2024-06-01T18:53:36.725Z"
   },
   {
    "duration": 5,
    "start_time": "2024-06-01T18:53:57.471Z"
   },
   {
    "duration": 5,
    "start_time": "2024-06-01T18:54:21.285Z"
   },
   {
    "duration": 5,
    "start_time": "2024-06-01T18:54:29.013Z"
   },
   {
    "duration": 15,
    "start_time": "2024-06-01T18:59:53.064Z"
   },
   {
    "duration": 13,
    "start_time": "2024-06-01T18:59:59.057Z"
   },
   {
    "duration": 139,
    "start_time": "2024-06-01T19:01:18.986Z"
   },
   {
    "duration": 17,
    "start_time": "2024-06-01T19:01:53.790Z"
   },
   {
    "duration": 15,
    "start_time": "2024-06-01T19:01:56.649Z"
   },
   {
    "duration": 11,
    "start_time": "2024-06-01T19:11:02.133Z"
   },
   {
    "duration": 15,
    "start_time": "2024-06-01T19:11:14.879Z"
   },
   {
    "duration": 7,
    "start_time": "2024-06-01T19:11:21.312Z"
   },
   {
    "duration": 7,
    "start_time": "2024-06-01T19:12:33.399Z"
   },
   {
    "duration": 10,
    "start_time": "2024-06-01T19:12:44.834Z"
   },
   {
    "duration": 6,
    "start_time": "2024-06-01T19:13:21.511Z"
   },
   {
    "duration": 8,
    "start_time": "2024-06-01T19:14:09.897Z"
   },
   {
    "duration": 7,
    "start_time": "2024-06-01T19:14:24.632Z"
   },
   {
    "duration": 295,
    "start_time": "2024-06-01T19:15:10.207Z"
   },
   {
    "duration": 169,
    "start_time": "2024-06-01T19:16:41.387Z"
   },
   {
    "duration": 161,
    "start_time": "2024-06-01T19:16:48.484Z"
   },
   {
    "duration": 170,
    "start_time": "2024-06-01T19:16:53.211Z"
   },
   {
    "duration": 188,
    "start_time": "2024-06-01T19:18:04.449Z"
   },
   {
    "duration": 24,
    "start_time": "2024-06-01T19:19:46.549Z"
   },
   {
    "duration": 18,
    "start_time": "2024-06-01T19:20:48.680Z"
   },
   {
    "duration": 15,
    "start_time": "2024-06-01T19:20:55.794Z"
   },
   {
    "duration": 681,
    "start_time": "2024-06-01T19:22:48.540Z"
   },
   {
    "duration": 165,
    "start_time": "2024-06-01T19:23:07.277Z"
   },
   {
    "duration": 233,
    "start_time": "2024-06-01T19:23:16.172Z"
   },
   {
    "duration": 209,
    "start_time": "2024-06-01T19:26:44.773Z"
   },
   {
    "duration": 374,
    "start_time": "2024-06-01T19:38:02.030Z"
   },
   {
    "duration": 17,
    "start_time": "2024-06-01T19:57:56.257Z"
   },
   {
    "duration": 65,
    "start_time": "2024-06-01T19:58:36.239Z"
   },
   {
    "duration": 25,
    "start_time": "2024-06-01T19:58:42.095Z"
   },
   {
    "duration": 18,
    "start_time": "2024-06-01T19:59:38.508Z"
   },
   {
    "duration": 19,
    "start_time": "2024-06-01T20:00:56.560Z"
   },
   {
    "duration": 18,
    "start_time": "2024-06-01T20:01:41.334Z"
   },
   {
    "duration": 17,
    "start_time": "2024-06-01T20:02:07.504Z"
   },
   {
    "duration": 15,
    "start_time": "2024-06-01T20:02:11.607Z"
   },
   {
    "duration": 23,
    "start_time": "2024-06-01T20:04:18.914Z"
   },
   {
    "duration": 20,
    "start_time": "2024-06-01T20:04:41.234Z"
   },
   {
    "duration": 17,
    "start_time": "2024-06-01T20:04:47.265Z"
   },
   {
    "duration": 16,
    "start_time": "2024-06-01T20:04:52.994Z"
   },
   {
    "duration": 16,
    "start_time": "2024-06-01T20:05:13.268Z"
   },
   {
    "duration": 21,
    "start_time": "2024-06-01T20:58:27.916Z"
   },
   {
    "duration": 20,
    "start_time": "2024-06-01T21:00:09.700Z"
   },
   {
    "duration": 22,
    "start_time": "2024-06-01T21:02:55.589Z"
   },
   {
    "duration": 20,
    "start_time": "2024-06-01T21:03:04.751Z"
   },
   {
    "duration": 19,
    "start_time": "2024-06-01T21:03:18.705Z"
   },
   {
    "duration": 18,
    "start_time": "2024-06-01T21:03:28.511Z"
   },
   {
    "duration": 19,
    "start_time": "2024-06-01T21:03:31.265Z"
   },
   {
    "duration": 16,
    "start_time": "2024-06-01T21:03:37.210Z"
   },
   {
    "duration": 23,
    "start_time": "2024-06-01T21:03:44.614Z"
   },
   {
    "duration": 17,
    "start_time": "2024-06-01T21:03:50.058Z"
   },
   {
    "duration": 696,
    "start_time": "2024-06-01T21:04:58.554Z"
   },
   {
    "duration": 17,
    "start_time": "2024-06-01T21:05:06.472Z"
   },
   {
    "duration": 19,
    "start_time": "2024-06-01T21:06:49.111Z"
   },
   {
    "duration": 15,
    "start_time": "2024-06-01T21:06:52.856Z"
   },
   {
    "duration": 18,
    "start_time": "2024-06-01T21:06:58.097Z"
   },
   {
    "duration": 3,
    "start_time": "2024-06-01T21:08:07.570Z"
   },
   {
    "duration": 13,
    "start_time": "2024-06-01T21:14:15.221Z"
   },
   {
    "duration": 4,
    "start_time": "2024-06-01T21:14:40.975Z"
   },
   {
    "duration": 15,
    "start_time": "2024-06-01T21:14:54.700Z"
   },
   {
    "duration": 5,
    "start_time": "2024-06-01T21:15:00.742Z"
   },
   {
    "duration": 3,
    "start_time": "2024-06-01T21:15:08.485Z"
   },
   {
    "duration": 12,
    "start_time": "2024-06-01T21:17:33.366Z"
   },
   {
    "duration": 5,
    "start_time": "2024-06-01T21:17:34.151Z"
   },
   {
    "duration": 10,
    "start_time": "2024-06-01T21:17:35.783Z"
   },
   {
    "duration": 5,
    "start_time": "2024-06-01T21:17:40.583Z"
   },
   {
    "duration": 3,
    "start_time": "2024-06-01T21:17:42.586Z"
   },
   {
    "duration": 1470,
    "start_time": "2024-06-02T05:46:14.828Z"
   },
   {
    "duration": 109,
    "start_time": "2024-06-02T05:46:16.300Z"
   },
   {
    "duration": 16,
    "start_time": "2024-06-02T05:46:16.410Z"
   },
   {
    "duration": 18,
    "start_time": "2024-06-02T05:46:16.428Z"
   },
   {
    "duration": 5,
    "start_time": "2024-06-02T05:46:16.448Z"
   },
   {
    "duration": 13,
    "start_time": "2024-06-02T05:46:16.455Z"
   },
   {
    "duration": 22,
    "start_time": "2024-06-02T05:46:16.470Z"
   },
   {
    "duration": 13,
    "start_time": "2024-06-02T05:46:16.494Z"
   },
   {
    "duration": 17,
    "start_time": "2024-06-02T05:46:16.508Z"
   },
   {
    "duration": 100,
    "start_time": "2024-06-02T05:46:16.526Z"
   },
   {
    "duration": 11,
    "start_time": "2024-06-02T05:46:16.627Z"
   },
   {
    "duration": 15,
    "start_time": "2024-06-02T05:46:16.640Z"
   },
   {
    "duration": 13,
    "start_time": "2024-06-02T05:46:16.660Z"
   },
   {
    "duration": 9,
    "start_time": "2024-06-02T05:46:16.678Z"
   },
   {
    "duration": 13,
    "start_time": "2024-06-02T05:46:16.688Z"
   },
   {
    "duration": 12,
    "start_time": "2024-06-02T05:46:16.704Z"
   },
   {
    "duration": 110,
    "start_time": "2024-06-02T05:46:16.718Z"
   },
   {
    "duration": 9,
    "start_time": "2024-06-02T05:46:16.830Z"
   },
   {
    "duration": 7,
    "start_time": "2024-06-02T05:46:16.840Z"
   },
   {
    "duration": 14,
    "start_time": "2024-06-02T05:46:16.849Z"
   },
   {
    "duration": 14,
    "start_time": "2024-06-02T05:46:16.864Z"
   },
   {
    "duration": 7,
    "start_time": "2024-06-02T05:46:16.879Z"
   },
   {
    "duration": 21,
    "start_time": "2024-06-02T05:46:16.887Z"
   },
   {
    "duration": 241,
    "start_time": "2024-06-02T05:46:16.910Z"
   },
   {
    "duration": 8,
    "start_time": "2024-06-02T05:46:17.161Z"
   },
   {
    "duration": 313,
    "start_time": "2024-06-02T05:46:17.171Z"
   },
   {
    "duration": 129,
    "start_time": "2024-06-02T05:46:17.486Z"
   },
   {
    "duration": 709,
    "start_time": "2024-06-02T05:46:17.617Z"
   },
   {
    "duration": 12,
    "start_time": "2024-06-02T05:46:18.328Z"
   },
   {
    "duration": 20,
    "start_time": "2024-06-02T05:46:18.342Z"
   },
   {
    "duration": 383,
    "start_time": "2024-06-02T05:46:18.363Z"
   },
   {
    "duration": 9,
    "start_time": "2024-06-02T05:46:18.748Z"
   },
   {
    "duration": 627,
    "start_time": "2024-06-02T05:46:18.759Z"
   },
   {
    "duration": 24,
    "start_time": "2024-06-02T05:46:19.388Z"
   },
   {
    "duration": 11,
    "start_time": "2024-06-02T05:46:19.414Z"
   },
   {
    "duration": 12,
    "start_time": "2024-06-02T05:46:19.427Z"
   },
   {
    "duration": 169,
    "start_time": "2024-06-02T05:46:19.441Z"
   },
   {
    "duration": 6,
    "start_time": "2024-06-02T05:46:19.612Z"
   },
   {
    "duration": 165,
    "start_time": "2024-06-02T05:46:19.619Z"
   },
   {
    "duration": 5,
    "start_time": "2024-06-02T05:46:19.786Z"
   },
   {
    "duration": 207,
    "start_time": "2024-06-02T05:46:19.795Z"
   },
   {
    "duration": 202,
    "start_time": "2024-06-02T05:46:20.005Z"
   },
   {
    "duration": 19,
    "start_time": "2024-06-02T05:46:20.209Z"
   },
   {
    "duration": 0,
    "start_time": "2024-06-02T05:46:20.230Z"
   },
   {
    "duration": 0,
    "start_time": "2024-06-02T05:46:20.232Z"
   },
   {
    "duration": 0,
    "start_time": "2024-06-02T05:46:20.234Z"
   },
   {
    "duration": 0,
    "start_time": "2024-06-02T05:46:20.235Z"
   },
   {
    "duration": 0,
    "start_time": "2024-06-02T05:46:20.237Z"
   },
   {
    "duration": 0,
    "start_time": "2024-06-02T05:46:20.260Z"
   },
   {
    "duration": 0,
    "start_time": "2024-06-02T05:46:20.262Z"
   },
   {
    "duration": 0,
    "start_time": "2024-06-02T05:46:20.263Z"
   },
   {
    "duration": 0,
    "start_time": "2024-06-02T05:46:20.265Z"
   },
   {
    "duration": 0,
    "start_time": "2024-06-02T05:46:20.267Z"
   },
   {
    "duration": 0,
    "start_time": "2024-06-02T05:46:20.268Z"
   },
   {
    "duration": 0,
    "start_time": "2024-06-02T05:46:20.269Z"
   },
   {
    "duration": 0,
    "start_time": "2024-06-02T05:46:20.271Z"
   },
   {
    "duration": 0,
    "start_time": "2024-06-02T05:46:20.272Z"
   },
   {
    "duration": 0,
    "start_time": "2024-06-02T05:46:20.274Z"
   },
   {
    "duration": 0,
    "start_time": "2024-06-02T05:46:20.275Z"
   },
   {
    "duration": 3,
    "start_time": "2024-06-02T05:46:58.373Z"
   },
   {
    "duration": 59,
    "start_time": "2024-06-02T05:46:58.378Z"
   },
   {
    "duration": 13,
    "start_time": "2024-06-02T05:46:58.439Z"
   },
   {
    "duration": 14,
    "start_time": "2024-06-02T05:46:58.454Z"
   },
   {
    "duration": 9,
    "start_time": "2024-06-02T05:46:58.470Z"
   },
   {
    "duration": 5,
    "start_time": "2024-06-02T05:46:58.480Z"
   },
   {
    "duration": 13,
    "start_time": "2024-06-02T05:46:58.487Z"
   },
   {
    "duration": 8,
    "start_time": "2024-06-02T05:46:58.501Z"
   },
   {
    "duration": 11,
    "start_time": "2024-06-02T05:46:58.511Z"
   },
   {
    "duration": 120,
    "start_time": "2024-06-02T05:46:58.524Z"
   },
   {
    "duration": 23,
    "start_time": "2024-06-02T05:46:58.646Z"
   },
   {
    "duration": 7,
    "start_time": "2024-06-02T05:46:58.670Z"
   },
   {
    "duration": 12,
    "start_time": "2024-06-02T05:46:58.678Z"
   },
   {
    "duration": 5,
    "start_time": "2024-06-02T05:46:58.692Z"
   },
   {
    "duration": 13,
    "start_time": "2024-06-02T05:46:58.699Z"
   },
   {
    "duration": 7,
    "start_time": "2024-06-02T05:46:58.714Z"
   },
   {
    "duration": 117,
    "start_time": "2024-06-02T05:46:58.722Z"
   },
   {
    "duration": 10,
    "start_time": "2024-06-02T05:46:58.841Z"
   },
   {
    "duration": 5,
    "start_time": "2024-06-02T05:46:58.860Z"
   },
   {
    "duration": 5,
    "start_time": "2024-06-02T05:46:58.866Z"
   },
   {
    "duration": 5,
    "start_time": "2024-06-02T05:46:58.873Z"
   },
   {
    "duration": 6,
    "start_time": "2024-06-02T05:46:58.879Z"
   },
   {
    "duration": 15,
    "start_time": "2024-06-02T05:46:58.887Z"
   },
   {
    "duration": 261,
    "start_time": "2024-06-02T05:46:58.904Z"
   },
   {
    "duration": 7,
    "start_time": "2024-06-02T05:46:59.166Z"
   },
   {
    "duration": 422,
    "start_time": "2024-06-02T05:46:59.175Z"
   },
   {
    "duration": 30,
    "start_time": "2024-06-02T05:46:59.598Z"
   },
   {
    "duration": 685,
    "start_time": "2024-06-02T05:46:59.630Z"
   },
   {
    "duration": 13,
    "start_time": "2024-06-02T05:47:00.319Z"
   },
   {
    "duration": 46,
    "start_time": "2024-06-02T05:47:00.334Z"
   },
   {
    "duration": 306,
    "start_time": "2024-06-02T05:47:00.382Z"
   },
   {
    "duration": 8,
    "start_time": "2024-06-02T05:47:00.690Z"
   },
   {
    "duration": 655,
    "start_time": "2024-06-02T05:47:00.699Z"
   },
   {
    "duration": 26,
    "start_time": "2024-06-02T05:47:01.356Z"
   },
   {
    "duration": 20,
    "start_time": "2024-06-02T05:47:01.384Z"
   },
   {
    "duration": 102,
    "start_time": "2024-06-02T05:47:01.406Z"
   },
   {
    "duration": 249,
    "start_time": "2024-06-02T05:47:01.510Z"
   },
   {
    "duration": 5,
    "start_time": "2024-06-02T05:47:01.760Z"
   },
   {
    "duration": 182,
    "start_time": "2024-06-02T05:47:01.766Z"
   },
   {
    "duration": 5,
    "start_time": "2024-06-02T05:47:01.950Z"
   },
   {
    "duration": 354,
    "start_time": "2024-06-02T05:47:01.956Z"
   },
   {
    "duration": 210,
    "start_time": "2024-06-02T05:47:02.311Z"
   },
   {
    "duration": 23,
    "start_time": "2024-06-02T05:47:02.522Z"
   },
   {
    "duration": 19,
    "start_time": "2024-06-02T05:47:02.560Z"
   },
   {
    "duration": 16,
    "start_time": "2024-06-02T05:47:02.581Z"
   },
   {
    "duration": 18,
    "start_time": "2024-06-02T05:47:02.599Z"
   },
   {
    "duration": 14,
    "start_time": "2024-06-02T05:47:02.618Z"
   },
   {
    "duration": 17,
    "start_time": "2024-06-02T05:47:02.661Z"
   },
   {
    "duration": 38,
    "start_time": "2024-06-02T05:47:02.680Z"
   },
   {
    "duration": 16,
    "start_time": "2024-06-02T05:47:02.720Z"
   },
   {
    "duration": 24,
    "start_time": "2024-06-02T05:47:02.737Z"
   },
   {
    "duration": 9,
    "start_time": "2024-06-02T05:47:02.763Z"
   },
   {
    "duration": 7,
    "start_time": "2024-06-02T05:47:02.774Z"
   },
   {
    "duration": 9,
    "start_time": "2024-06-02T05:47:02.782Z"
   },
   {
    "duration": 5,
    "start_time": "2024-06-02T05:47:02.792Z"
   },
   {
    "duration": 9,
    "start_time": "2024-06-02T05:47:02.799Z"
   },
   {
    "duration": 8,
    "start_time": "2024-06-02T05:47:02.809Z"
   },
   {
    "duration": 5,
    "start_time": "2024-06-02T05:47:02.818Z"
   },
   {
    "duration": 38,
    "start_time": "2024-06-02T05:47:02.825Z"
   },
   {
    "duration": 5,
    "start_time": "2024-06-02T06:20:03.692Z"
   },
   {
    "duration": 6,
    "start_time": "2024-06-02T06:25:44.725Z"
   },
   {
    "duration": 5,
    "start_time": "2024-06-02T06:26:10.757Z"
   },
   {
    "duration": 80,
    "start_time": "2024-06-02T08:10:42.473Z"
   },
   {
    "duration": 1403,
    "start_time": "2024-06-02T08:10:47.476Z"
   },
   {
    "duration": 120,
    "start_time": "2024-06-02T08:10:48.881Z"
   },
   {
    "duration": 15,
    "start_time": "2024-06-02T08:10:49.003Z"
   },
   {
    "duration": 21,
    "start_time": "2024-06-02T08:10:49.020Z"
   },
   {
    "duration": 6,
    "start_time": "2024-06-02T08:10:49.043Z"
   },
   {
    "duration": 30,
    "start_time": "2024-06-02T08:10:49.051Z"
   },
   {
    "duration": 22,
    "start_time": "2024-06-02T08:10:49.082Z"
   },
   {
    "duration": 10,
    "start_time": "2024-06-02T08:10:49.106Z"
   },
   {
    "duration": 10,
    "start_time": "2024-06-02T08:10:49.117Z"
   },
   {
    "duration": 103,
    "start_time": "2024-06-02T08:10:49.129Z"
   },
   {
    "duration": 13,
    "start_time": "2024-06-02T08:10:49.234Z"
   },
   {
    "duration": 6,
    "start_time": "2024-06-02T08:10:49.249Z"
   },
   {
    "duration": 16,
    "start_time": "2024-06-02T08:10:49.256Z"
   },
   {
    "duration": 20,
    "start_time": "2024-06-02T08:10:49.276Z"
   },
   {
    "duration": 14,
    "start_time": "2024-06-02T08:10:49.298Z"
   },
   {
    "duration": 8,
    "start_time": "2024-06-02T08:10:49.315Z"
   },
   {
    "duration": 116,
    "start_time": "2024-06-02T08:10:49.325Z"
   },
   {
    "duration": 10,
    "start_time": "2024-06-02T08:10:49.445Z"
   },
   {
    "duration": 14,
    "start_time": "2024-06-02T08:10:49.457Z"
   },
   {
    "duration": 61,
    "start_time": "2024-06-02T08:10:49.472Z"
   },
   {
    "duration": 86,
    "start_time": "2024-06-02T08:10:49.534Z"
   },
   {
    "duration": 21,
    "start_time": "2024-06-02T08:10:49.622Z"
   },
   {
    "duration": 48,
    "start_time": "2024-06-02T08:10:49.644Z"
   },
   {
    "duration": 225,
    "start_time": "2024-06-02T08:10:49.694Z"
   },
   {
    "duration": 7,
    "start_time": "2024-06-02T08:10:49.921Z"
   },
   {
    "duration": 300,
    "start_time": "2024-06-02T08:10:49.930Z"
   },
   {
    "duration": 95,
    "start_time": "2024-06-02T08:10:50.232Z"
   },
   {
    "duration": 683,
    "start_time": "2024-06-02T08:10:50.329Z"
   },
   {
    "duration": 15,
    "start_time": "2024-06-02T08:10:51.014Z"
   },
   {
    "duration": 19,
    "start_time": "2024-06-02T08:10:51.031Z"
   },
   {
    "duration": 418,
    "start_time": "2024-06-02T08:10:51.051Z"
   },
   {
    "duration": 9,
    "start_time": "2024-06-02T08:10:51.471Z"
   },
   {
    "duration": 593,
    "start_time": "2024-06-02T08:10:51.481Z"
   },
   {
    "duration": 23,
    "start_time": "2024-06-02T08:10:52.076Z"
   },
   {
    "duration": 6,
    "start_time": "2024-06-02T08:10:52.101Z"
   },
   {
    "duration": 35,
    "start_time": "2024-06-02T08:10:52.109Z"
   },
   {
    "duration": 165,
    "start_time": "2024-06-02T08:10:52.146Z"
   },
   {
    "duration": 5,
    "start_time": "2024-06-02T08:10:52.312Z"
   },
   {
    "duration": 162,
    "start_time": "2024-06-02T08:10:52.319Z"
   },
   {
    "duration": 5,
    "start_time": "2024-06-02T08:10:52.483Z"
   },
   {
    "duration": 226,
    "start_time": "2024-06-02T08:10:52.491Z"
   },
   {
    "duration": 221,
    "start_time": "2024-06-02T08:10:52.719Z"
   },
   {
    "duration": 19,
    "start_time": "2024-06-02T08:10:52.941Z"
   },
   {
    "duration": 36,
    "start_time": "2024-06-02T08:10:52.961Z"
   },
   {
    "duration": 35,
    "start_time": "2024-06-02T08:10:52.998Z"
   },
   {
    "duration": 17,
    "start_time": "2024-06-02T08:10:53.034Z"
   },
   {
    "duration": 14,
    "start_time": "2024-06-02T08:10:53.053Z"
   },
   {
    "duration": 16,
    "start_time": "2024-06-02T08:10:53.068Z"
   },
   {
    "duration": 26,
    "start_time": "2024-06-02T08:10:53.086Z"
   },
   {
    "duration": 27,
    "start_time": "2024-06-02T08:10:53.113Z"
   },
   {
    "duration": 34,
    "start_time": "2024-06-02T08:10:53.141Z"
   },
   {
    "duration": 7,
    "start_time": "2024-06-02T08:10:53.177Z"
   },
   {
    "duration": 11,
    "start_time": "2024-06-02T08:10:53.185Z"
   },
   {
    "duration": 4,
    "start_time": "2024-06-02T08:10:53.198Z"
   },
   {
    "duration": 10,
    "start_time": "2024-06-02T08:10:53.203Z"
   },
   {
    "duration": 16,
    "start_time": "2024-06-02T08:10:53.215Z"
   },
   {
    "duration": 4,
    "start_time": "2024-06-02T08:10:53.233Z"
   },
   {
    "duration": 7,
    "start_time": "2024-06-02T08:10:53.238Z"
   },
   {
    "duration": 5,
    "start_time": "2024-06-02T08:10:53.247Z"
   },
   {
    "duration": 7,
    "start_time": "2024-06-02T08:10:53.253Z"
   },
   {
    "duration": 15,
    "start_time": "2024-06-02T08:11:13.260Z"
   },
   {
    "duration": 1180,
    "start_time": "2024-06-02T08:26:27.178Z"
   },
   {
    "duration": 63,
    "start_time": "2024-06-02T08:26:28.360Z"
   },
   {
    "duration": 21,
    "start_time": "2024-06-02T08:26:28.425Z"
   },
   {
    "duration": 19,
    "start_time": "2024-06-02T08:26:28.448Z"
   },
   {
    "duration": 5,
    "start_time": "2024-06-02T08:26:28.469Z"
   },
   {
    "duration": 11,
    "start_time": "2024-06-02T08:26:28.476Z"
   },
   {
    "duration": 12,
    "start_time": "2024-06-02T08:26:28.488Z"
   },
   {
    "duration": 11,
    "start_time": "2024-06-02T08:26:28.502Z"
   },
   {
    "duration": 37,
    "start_time": "2024-06-02T08:26:28.516Z"
   },
   {
    "duration": 115,
    "start_time": "2024-06-02T08:26:28.554Z"
   },
   {
    "duration": 9,
    "start_time": "2024-06-02T08:26:28.670Z"
   },
   {
    "duration": 28,
    "start_time": "2024-06-02T08:26:28.680Z"
   },
   {
    "duration": 13,
    "start_time": "2024-06-02T08:26:28.709Z"
   },
   {
    "duration": 8,
    "start_time": "2024-06-02T08:26:28.724Z"
   },
   {
    "duration": 10,
    "start_time": "2024-06-02T08:26:28.734Z"
   },
   {
    "duration": 29,
    "start_time": "2024-06-02T08:26:28.746Z"
   },
   {
    "duration": 101,
    "start_time": "2024-06-02T08:26:28.776Z"
   },
   {
    "duration": 9,
    "start_time": "2024-06-02T08:26:28.879Z"
   },
   {
    "duration": 10,
    "start_time": "2024-06-02T08:26:28.889Z"
   },
   {
    "duration": 33,
    "start_time": "2024-06-02T08:26:28.900Z"
   },
   {
    "duration": 43,
    "start_time": "2024-06-02T08:26:28.935Z"
   },
   {
    "duration": 15,
    "start_time": "2024-06-02T08:26:28.979Z"
   },
   {
    "duration": 9,
    "start_time": "2024-06-02T08:26:28.996Z"
   },
   {
    "duration": 31,
    "start_time": "2024-06-02T08:26:29.006Z"
   },
   {
    "duration": 230,
    "start_time": "2024-06-02T08:26:29.038Z"
   },
   {
    "duration": 7,
    "start_time": "2024-06-02T08:26:29.270Z"
   },
   {
    "duration": 309,
    "start_time": "2024-06-02T08:26:29.278Z"
   },
   {
    "duration": 140,
    "start_time": "2024-06-02T08:26:29.589Z"
   },
   {
    "duration": 724,
    "start_time": "2024-06-02T08:26:29.731Z"
   },
   {
    "duration": 14,
    "start_time": "2024-06-02T08:26:30.457Z"
   },
   {
    "duration": 27,
    "start_time": "2024-06-02T08:26:30.473Z"
   },
   {
    "duration": 383,
    "start_time": "2024-06-02T08:26:30.502Z"
   },
   {
    "duration": 8,
    "start_time": "2024-06-02T08:26:30.887Z"
   },
   {
    "duration": 660,
    "start_time": "2024-06-02T08:26:30.897Z"
   },
   {
    "duration": 31,
    "start_time": "2024-06-02T08:26:31.559Z"
   },
   {
    "duration": 31,
    "start_time": "2024-06-02T08:26:31.592Z"
   },
   {
    "duration": 18,
    "start_time": "2024-06-02T08:26:31.625Z"
   },
   {
    "duration": 203,
    "start_time": "2024-06-02T08:26:31.644Z"
   },
   {
    "duration": 5,
    "start_time": "2024-06-02T08:26:31.848Z"
   },
   {
    "duration": 200,
    "start_time": "2024-06-02T08:26:31.854Z"
   },
   {
    "duration": 4,
    "start_time": "2024-06-02T08:26:32.058Z"
   },
   {
    "duration": 430,
    "start_time": "2024-06-02T08:26:32.064Z"
   },
   {
    "duration": 261,
    "start_time": "2024-06-02T08:26:32.496Z"
   },
   {
    "duration": 17,
    "start_time": "2024-06-02T08:26:32.758Z"
   },
   {
    "duration": 14,
    "start_time": "2024-06-02T08:26:32.777Z"
   },
   {
    "duration": 33,
    "start_time": "2024-06-02T08:26:32.793Z"
   },
   {
    "duration": 81,
    "start_time": "2024-06-02T08:26:32.827Z"
   },
   {
    "duration": 56,
    "start_time": "2024-06-02T08:26:32.910Z"
   },
   {
    "duration": 46,
    "start_time": "2024-06-02T08:26:32.967Z"
   },
   {
    "duration": 446,
    "start_time": "2024-06-02T08:26:33.015Z"
   },
   {
    "duration": 109,
    "start_time": "2024-06-02T08:26:33.462Z"
   },
   {
    "duration": 15,
    "start_time": "2024-06-02T08:26:33.573Z"
   },
   {
    "duration": 7,
    "start_time": "2024-06-02T08:26:33.590Z"
   },
   {
    "duration": 4,
    "start_time": "2024-06-02T08:26:33.599Z"
   },
   {
    "duration": 27,
    "start_time": "2024-06-02T08:26:33.604Z"
   },
   {
    "duration": 17,
    "start_time": "2024-06-02T08:26:33.633Z"
   },
   {
    "duration": 10,
    "start_time": "2024-06-02T08:26:33.652Z"
   },
   {
    "duration": 6,
    "start_time": "2024-06-02T08:26:33.664Z"
   },
   {
    "duration": 6,
    "start_time": "2024-06-02T08:26:33.671Z"
   },
   {
    "duration": 7,
    "start_time": "2024-06-02T08:26:33.678Z"
   },
   {
    "duration": 18,
    "start_time": "2024-06-02T08:26:33.686Z"
   },
   {
    "duration": 1439,
    "start_time": "2024-06-02T18:48:37.548Z"
   },
   {
    "duration": 105,
    "start_time": "2024-06-02T18:48:38.989Z"
   },
   {
    "duration": 16,
    "start_time": "2024-06-02T18:48:39.096Z"
   },
   {
    "duration": 17,
    "start_time": "2024-06-02T18:48:39.113Z"
   },
   {
    "duration": 3,
    "start_time": "2024-06-02T18:48:39.132Z"
   },
   {
    "duration": 3,
    "start_time": "2024-06-02T18:48:39.137Z"
   },
   {
    "duration": 12,
    "start_time": "2024-06-02T18:48:39.141Z"
   },
   {
    "duration": 28,
    "start_time": "2024-06-02T18:48:39.155Z"
   },
   {
    "duration": 11,
    "start_time": "2024-06-02T18:48:39.185Z"
   },
   {
    "duration": 107,
    "start_time": "2024-06-02T18:48:39.198Z"
   },
   {
    "duration": 11,
    "start_time": "2024-06-02T18:48:39.307Z"
   },
   {
    "duration": 5,
    "start_time": "2024-06-02T18:48:39.320Z"
   },
   {
    "duration": 11,
    "start_time": "2024-06-02T18:48:39.327Z"
   },
   {
    "duration": 5,
    "start_time": "2024-06-02T18:48:39.342Z"
   },
   {
    "duration": 33,
    "start_time": "2024-06-02T18:48:39.349Z"
   },
   {
    "duration": 69,
    "start_time": "2024-06-02T18:48:39.384Z"
   },
   {
    "duration": 91,
    "start_time": "2024-06-02T18:48:39.455Z"
   },
   {
    "duration": 13,
    "start_time": "2024-06-02T18:48:39.548Z"
   },
   {
    "duration": 4,
    "start_time": "2024-06-02T18:48:39.564Z"
   },
   {
    "duration": 15,
    "start_time": "2024-06-02T18:48:39.570Z"
   },
   {
    "duration": 23,
    "start_time": "2024-06-02T18:48:39.586Z"
   },
   {
    "duration": 4,
    "start_time": "2024-06-02T18:48:39.611Z"
   },
   {
    "duration": 11,
    "start_time": "2024-06-02T18:48:39.617Z"
   },
   {
    "duration": 15,
    "start_time": "2024-06-02T18:48:39.630Z"
   },
   {
    "duration": 247,
    "start_time": "2024-06-02T18:48:39.648Z"
   },
   {
    "duration": 7,
    "start_time": "2024-06-02T18:48:39.897Z"
   },
   {
    "duration": 317,
    "start_time": "2024-06-02T18:48:39.906Z"
   },
   {
    "duration": 124,
    "start_time": "2024-06-02T18:48:40.225Z"
   },
   {
    "duration": 659,
    "start_time": "2024-06-02T18:48:40.351Z"
   },
   {
    "duration": 13,
    "start_time": "2024-06-02T18:48:41.012Z"
   },
   {
    "duration": 17,
    "start_time": "2024-06-02T18:48:41.026Z"
   },
   {
    "duration": 371,
    "start_time": "2024-06-02T18:48:41.045Z"
   },
   {
    "duration": 9,
    "start_time": "2024-06-02T18:48:41.418Z"
   },
   {
    "duration": 622,
    "start_time": "2024-06-02T18:48:41.428Z"
   },
   {
    "duration": 32,
    "start_time": "2024-06-02T18:48:42.052Z"
   },
   {
    "duration": 5,
    "start_time": "2024-06-02T18:48:42.085Z"
   },
   {
    "duration": 12,
    "start_time": "2024-06-02T18:48:42.091Z"
   },
   {
    "duration": 161,
    "start_time": "2024-06-02T18:48:42.104Z"
   },
   {
    "duration": 5,
    "start_time": "2024-06-02T18:48:42.267Z"
   },
   {
    "duration": 160,
    "start_time": "2024-06-02T18:48:42.273Z"
   },
   {
    "duration": 4,
    "start_time": "2024-06-02T18:48:42.438Z"
   },
   {
    "duration": 225,
    "start_time": "2024-06-02T18:48:42.444Z"
   },
   {
    "duration": 206,
    "start_time": "2024-06-02T18:48:42.671Z"
   },
   {
    "duration": 19,
    "start_time": "2024-06-02T18:48:42.881Z"
   },
   {
    "duration": 19,
    "start_time": "2024-06-02T18:48:42.902Z"
   },
   {
    "duration": 17,
    "start_time": "2024-06-02T18:48:42.923Z"
   },
   {
    "duration": 44,
    "start_time": "2024-06-02T18:48:42.941Z"
   },
   {
    "duration": 16,
    "start_time": "2024-06-02T18:48:42.987Z"
   },
   {
    "duration": 16,
    "start_time": "2024-06-02T18:48:43.005Z"
   },
   {
    "duration": 18,
    "start_time": "2024-06-02T18:48:43.022Z"
   },
   {
    "duration": 43,
    "start_time": "2024-06-02T18:48:43.041Z"
   },
   {
    "duration": 17,
    "start_time": "2024-06-02T18:48:43.086Z"
   },
   {
    "duration": 8,
    "start_time": "2024-06-02T18:48:43.104Z"
   },
   {
    "duration": 6,
    "start_time": "2024-06-02T18:48:43.114Z"
   },
   {
    "duration": 7,
    "start_time": "2024-06-02T18:48:43.122Z"
   },
   {
    "duration": 8,
    "start_time": "2024-06-02T18:48:43.133Z"
   },
   {
    "duration": 44,
    "start_time": "2024-06-02T18:48:43.142Z"
   },
   {
    "duration": 4,
    "start_time": "2024-06-02T18:48:43.188Z"
   },
   {
    "duration": 9,
    "start_time": "2024-06-02T18:48:43.193Z"
   },
   {
    "duration": 4,
    "start_time": "2024-06-02T18:48:43.204Z"
   },
   {
    "duration": 6,
    "start_time": "2024-06-02T18:48:43.209Z"
   },
   {
    "duration": 10,
    "start_time": "2024-06-02T18:50:06.484Z"
   },
   {
    "duration": 2,
    "start_time": "2024-06-02T18:51:21.973Z"
   },
   {
    "duration": 4,
    "start_time": "2024-06-02T18:56:13.224Z"
   },
   {
    "duration": 5,
    "start_time": "2024-06-02T18:57:20.884Z"
   },
   {
    "duration": 6,
    "start_time": "2024-06-02T19:31:27.115Z"
   },
   {
    "duration": 11,
    "start_time": "2024-06-02T19:31:44.608Z"
   },
   {
    "duration": 10,
    "start_time": "2024-06-02T19:31:56.190Z"
   },
   {
    "duration": 3,
    "start_time": "2024-06-02T19:32:32.951Z"
   },
   {
    "duration": 9,
    "start_time": "2024-06-02T19:32:53.186Z"
   },
   {
    "duration": 5,
    "start_time": "2024-06-02T19:33:25.243Z"
   },
   {
    "duration": 9,
    "start_time": "2024-06-02T19:35:54.999Z"
   },
   {
    "duration": 7,
    "start_time": "2024-06-02T19:36:38.936Z"
   },
   {
    "duration": 316,
    "start_time": "2024-06-02T19:37:08.166Z"
   },
   {
    "duration": 299,
    "start_time": "2024-06-02T19:37:52.751Z"
   },
   {
    "duration": 195,
    "start_time": "2024-06-02T19:53:20.698Z"
   },
   {
    "duration": 298,
    "start_time": "2024-06-02T19:53:36.693Z"
   },
   {
    "duration": 22,
    "start_time": "2024-06-02T19:54:07.263Z"
   },
   {
    "duration": 17,
    "start_time": "2024-06-02T19:54:24.621Z"
   },
   {
    "duration": 314,
    "start_time": "2024-06-02T19:54:43.450Z"
   },
   {
    "duration": 15,
    "start_time": "2024-06-02T19:57:44.700Z"
   },
   {
    "duration": 182,
    "start_time": "2024-06-02T19:58:06.520Z"
   },
   {
    "duration": 1026,
    "start_time": "2024-06-02T19:59:35.454Z"
   },
   {
    "duration": 156,
    "start_time": "2024-06-02T19:59:49.983Z"
   },
   {
    "duration": 317,
    "start_time": "2024-06-02T20:00:00.241Z"
   },
   {
    "duration": 52,
    "start_time": "2024-06-02T20:00:33.728Z"
   },
   {
    "duration": 147,
    "start_time": "2024-06-02T20:00:38.356Z"
   },
   {
    "duration": 168,
    "start_time": "2024-06-02T20:01:52.414Z"
   },
   {
    "duration": 16,
    "start_time": "2024-06-02T20:02:51.867Z"
   },
   {
    "duration": 117,
    "start_time": "2024-06-02T20:02:57.433Z"
   },
   {
    "duration": 64,
    "start_time": "2024-06-02T20:06:44.238Z"
   },
   {
    "duration": 309,
    "start_time": "2024-06-02T20:06:48.401Z"
   },
   {
    "duration": 8,
    "start_time": "2024-06-02T20:07:46.143Z"
   },
   {
    "duration": 17,
    "start_time": "2024-06-02T20:10:34.320Z"
   },
   {
    "duration": 400,
    "start_time": "2024-06-02T20:11:29.443Z"
   },
   {
    "duration": 353,
    "start_time": "2024-06-02T20:12:05.124Z"
   },
   {
    "duration": 328,
    "start_time": "2024-06-02T20:12:16.109Z"
   },
   {
    "duration": 18,
    "start_time": "2024-06-02T20:13:41.245Z"
   },
   {
    "duration": 266,
    "start_time": "2024-06-02T20:13:42.399Z"
   },
   {
    "duration": 152,
    "start_time": "2024-06-02T20:22:39.314Z"
   },
   {
    "duration": 10,
    "start_time": "2024-06-02T20:22:44.782Z"
   },
   {
    "duration": 9,
    "start_time": "2024-06-02T20:22:49.549Z"
   },
   {
    "duration": 160,
    "start_time": "2024-06-02T20:22:52.517Z"
   },
   {
    "duration": 6,
    "start_time": "2024-06-02T20:24:20.953Z"
   },
   {
    "duration": 7,
    "start_time": "2024-06-02T20:24:35.424Z"
   },
   {
    "duration": 6,
    "start_time": "2024-06-02T20:25:05.557Z"
   },
   {
    "duration": 6,
    "start_time": "2024-06-02T20:25:11.547Z"
   },
   {
    "duration": 6,
    "start_time": "2024-06-02T20:25:15.439Z"
   },
   {
    "duration": 6,
    "start_time": "2024-06-02T20:25:21.760Z"
   },
   {
    "duration": 5,
    "start_time": "2024-06-02T20:25:29.293Z"
   },
   {
    "duration": 6,
    "start_time": "2024-06-02T20:25:33.644Z"
   },
   {
    "duration": 159,
    "start_time": "2024-06-02T20:26:14.617Z"
   },
   {
    "duration": 130,
    "start_time": "2024-06-02T20:26:17.041Z"
   },
   {
    "duration": 4,
    "start_time": "2024-06-02T20:26:56.728Z"
   },
   {
    "duration": 3,
    "start_time": "2024-06-02T20:27:03.845Z"
   },
   {
    "duration": 7,
    "start_time": "2024-06-02T20:27:19.344Z"
   },
   {
    "duration": 5,
    "start_time": "2024-06-02T20:27:34.302Z"
   },
   {
    "duration": 7,
    "start_time": "2024-06-02T20:27:41.919Z"
   },
   {
    "duration": 20,
    "start_time": "2024-06-02T20:34:32.342Z"
   },
   {
    "duration": 336,
    "start_time": "2024-06-02T20:34:40.701Z"
   },
   {
    "duration": 194,
    "start_time": "2024-06-02T20:35:02.021Z"
   },
   {
    "duration": 186,
    "start_time": "2024-06-02T20:41:23.517Z"
   },
   {
    "duration": 1238,
    "start_time": "2024-06-02T20:52:36.159Z"
   },
   {
    "duration": 58,
    "start_time": "2024-06-02T20:52:37.398Z"
   },
   {
    "duration": 17,
    "start_time": "2024-06-02T20:52:37.458Z"
   },
   {
    "duration": 18,
    "start_time": "2024-06-02T20:52:37.477Z"
   },
   {
    "duration": 3,
    "start_time": "2024-06-02T20:52:37.497Z"
   },
   {
    "duration": 6,
    "start_time": "2024-06-02T20:52:37.501Z"
   },
   {
    "duration": 12,
    "start_time": "2024-06-02T20:52:37.509Z"
   },
   {
    "duration": 11,
    "start_time": "2024-06-02T20:52:37.522Z"
   },
   {
    "duration": 10,
    "start_time": "2024-06-02T20:52:37.534Z"
   },
   {
    "duration": 121,
    "start_time": "2024-06-02T20:52:37.546Z"
   },
   {
    "duration": 16,
    "start_time": "2024-06-02T20:52:37.668Z"
   },
   {
    "duration": 4,
    "start_time": "2024-06-02T20:52:37.685Z"
   },
   {
    "duration": 10,
    "start_time": "2024-06-02T20:52:37.691Z"
   },
   {
    "duration": 5,
    "start_time": "2024-06-02T20:52:37.702Z"
   },
   {
    "duration": 4,
    "start_time": "2024-06-02T20:52:37.708Z"
   },
   {
    "duration": 5,
    "start_time": "2024-06-02T20:52:37.714Z"
   },
   {
    "duration": 117,
    "start_time": "2024-06-02T20:52:37.720Z"
   },
   {
    "duration": 9,
    "start_time": "2024-06-02T20:52:37.839Z"
   },
   {
    "duration": 10,
    "start_time": "2024-06-02T20:52:37.849Z"
   },
   {
    "duration": 5,
    "start_time": "2024-06-02T20:52:37.860Z"
   },
   {
    "duration": 30,
    "start_time": "2024-06-02T20:52:37.866Z"
   },
   {
    "duration": 4,
    "start_time": "2024-06-02T20:52:37.897Z"
   },
   {
    "duration": 6,
    "start_time": "2024-06-02T20:52:37.903Z"
   },
   {
    "duration": 15,
    "start_time": "2024-06-02T20:52:37.910Z"
   },
   {
    "duration": 245,
    "start_time": "2024-06-02T20:52:37.927Z"
   },
   {
    "duration": 10,
    "start_time": "2024-06-02T20:52:38.174Z"
   },
   {
    "duration": 320,
    "start_time": "2024-06-02T20:52:38.185Z"
   },
   {
    "duration": 133,
    "start_time": "2024-06-02T20:52:38.510Z"
   },
   {
    "duration": 663,
    "start_time": "2024-06-02T20:52:38.645Z"
   },
   {
    "duration": 13,
    "start_time": "2024-06-02T20:52:39.310Z"
   },
   {
    "duration": 10,
    "start_time": "2024-06-02T20:52:39.324Z"
   },
   {
    "duration": 6,
    "start_time": "2024-06-02T20:52:39.335Z"
   },
   {
    "duration": 434,
    "start_time": "2024-06-02T20:52:39.342Z"
   },
   {
    "duration": 8,
    "start_time": "2024-06-02T20:52:39.778Z"
   },
   {
    "duration": 18,
    "start_time": "2024-06-02T20:52:39.788Z"
   },
   {
    "duration": 271,
    "start_time": "2024-06-02T20:52:39.808Z"
   },
   {
    "duration": 24,
    "start_time": "2024-06-02T20:52:40.081Z"
   },
   {
    "duration": 33,
    "start_time": "2024-06-02T20:52:40.107Z"
   },
   {
    "duration": 8,
    "start_time": "2024-06-02T20:52:40.142Z"
   },
   {
    "duration": 167,
    "start_time": "2024-06-02T20:52:40.151Z"
   },
   {
    "duration": 159,
    "start_time": "2024-06-02T20:52:40.319Z"
   },
   {
    "duration": 6,
    "start_time": "2024-06-02T20:52:40.481Z"
   },
   {
    "duration": 167,
    "start_time": "2024-06-02T20:52:40.488Z"
   },
   {
    "duration": 133,
    "start_time": "2024-06-02T20:52:40.657Z"
   },
   {
    "duration": 5,
    "start_time": "2024-06-02T20:52:40.792Z"
   },
   {
    "duration": 193,
    "start_time": "2024-06-02T20:52:40.798Z"
   },
   {
    "duration": 205,
    "start_time": "2024-06-02T20:52:40.993Z"
   },
   {
    "duration": 18,
    "start_time": "2024-06-02T20:52:41.200Z"
   },
   {
    "duration": 16,
    "start_time": "2024-06-02T20:52:41.220Z"
   },
   {
    "duration": 45,
    "start_time": "2024-06-02T20:52:41.237Z"
   },
   {
    "duration": 17,
    "start_time": "2024-06-02T20:52:41.284Z"
   },
   {
    "duration": 20,
    "start_time": "2024-06-02T20:52:41.303Z"
   },
   {
    "duration": 21,
    "start_time": "2024-06-02T20:52:41.325Z"
   },
   {
    "duration": 47,
    "start_time": "2024-06-02T20:52:41.347Z"
   },
   {
    "duration": 15,
    "start_time": "2024-06-02T20:52:41.396Z"
   },
   {
    "duration": 16,
    "start_time": "2024-06-02T20:52:41.413Z"
   },
   {
    "duration": 8,
    "start_time": "2024-06-02T20:52:41.430Z"
   },
   {
    "duration": 4,
    "start_time": "2024-06-02T20:52:41.439Z"
   },
   {
    "duration": 39,
    "start_time": "2024-06-02T20:52:41.445Z"
   },
   {
    "duration": 12,
    "start_time": "2024-06-02T20:52:41.486Z"
   },
   {
    "duration": 19,
    "start_time": "2024-06-02T20:52:41.500Z"
   },
   {
    "duration": 6,
    "start_time": "2024-06-02T20:52:41.521Z"
   },
   {
    "duration": 5,
    "start_time": "2024-06-02T20:52:41.529Z"
   },
   {
    "duration": 8,
    "start_time": "2024-06-02T20:52:41.535Z"
   },
   {
    "duration": 6,
    "start_time": "2024-06-02T20:52:41.544Z"
   },
   {
    "duration": 83,
    "start_time": "2024-06-03T20:01:37.422Z"
   },
   {
    "duration": 1349,
    "start_time": "2024-06-03T20:02:04.963Z"
   },
   {
    "duration": 61,
    "start_time": "2024-06-03T20:02:06.314Z"
   },
   {
    "duration": 0,
    "start_time": "2024-06-03T20:02:06.379Z"
   },
   {
    "duration": 0,
    "start_time": "2024-06-03T20:02:06.381Z"
   },
   {
    "duration": 0,
    "start_time": "2024-06-03T20:02:06.382Z"
   },
   {
    "duration": 0,
    "start_time": "2024-06-03T20:02:06.383Z"
   },
   {
    "duration": 0,
    "start_time": "2024-06-03T20:02:06.385Z"
   },
   {
    "duration": 0,
    "start_time": "2024-06-03T20:02:06.386Z"
   },
   {
    "duration": 0,
    "start_time": "2024-06-03T20:02:06.387Z"
   },
   {
    "duration": 0,
    "start_time": "2024-06-03T20:02:06.389Z"
   },
   {
    "duration": 0,
    "start_time": "2024-06-03T20:02:06.390Z"
   },
   {
    "duration": 0,
    "start_time": "2024-06-03T20:02:06.392Z"
   },
   {
    "duration": 0,
    "start_time": "2024-06-03T20:02:06.393Z"
   },
   {
    "duration": 0,
    "start_time": "2024-06-03T20:02:06.395Z"
   },
   {
    "duration": 0,
    "start_time": "2024-06-03T20:02:06.396Z"
   },
   {
    "duration": 0,
    "start_time": "2024-06-03T20:02:06.397Z"
   },
   {
    "duration": 1,
    "start_time": "2024-06-03T20:02:06.398Z"
   },
   {
    "duration": 0,
    "start_time": "2024-06-03T20:02:06.400Z"
   },
   {
    "duration": 0,
    "start_time": "2024-06-03T20:02:06.402Z"
   },
   {
    "duration": 0,
    "start_time": "2024-06-03T20:02:06.403Z"
   },
   {
    "duration": 0,
    "start_time": "2024-06-03T20:02:06.405Z"
   },
   {
    "duration": 0,
    "start_time": "2024-06-03T20:02:06.406Z"
   },
   {
    "duration": 0,
    "start_time": "2024-06-03T20:02:06.408Z"
   },
   {
    "duration": 0,
    "start_time": "2024-06-03T20:02:06.409Z"
   },
   {
    "duration": 0,
    "start_time": "2024-06-03T20:02:06.411Z"
   },
   {
    "duration": 1,
    "start_time": "2024-06-03T20:02:06.411Z"
   },
   {
    "duration": 0,
    "start_time": "2024-06-03T20:02:06.413Z"
   },
   {
    "duration": 0,
    "start_time": "2024-06-03T20:02:06.414Z"
   },
   {
    "duration": 0,
    "start_time": "2024-06-03T20:02:06.416Z"
   },
   {
    "duration": 0,
    "start_time": "2024-06-03T20:02:06.417Z"
   },
   {
    "duration": 0,
    "start_time": "2024-06-03T20:02:06.418Z"
   },
   {
    "duration": 0,
    "start_time": "2024-06-03T20:02:06.419Z"
   },
   {
    "duration": 0,
    "start_time": "2024-06-03T20:02:06.420Z"
   },
   {
    "duration": 0,
    "start_time": "2024-06-03T20:02:06.421Z"
   },
   {
    "duration": 0,
    "start_time": "2024-06-03T20:02:06.422Z"
   },
   {
    "duration": 0,
    "start_time": "2024-06-03T20:02:06.423Z"
   },
   {
    "duration": 0,
    "start_time": "2024-06-03T20:02:06.492Z"
   },
   {
    "duration": 0,
    "start_time": "2024-06-03T20:02:06.494Z"
   },
   {
    "duration": 0,
    "start_time": "2024-06-03T20:02:06.495Z"
   },
   {
    "duration": 0,
    "start_time": "2024-06-03T20:02:06.496Z"
   },
   {
    "duration": 0,
    "start_time": "2024-06-03T20:02:06.498Z"
   },
   {
    "duration": 0,
    "start_time": "2024-06-03T20:02:06.499Z"
   },
   {
    "duration": 0,
    "start_time": "2024-06-03T20:02:06.501Z"
   },
   {
    "duration": 0,
    "start_time": "2024-06-03T20:02:06.502Z"
   },
   {
    "duration": 0,
    "start_time": "2024-06-03T20:02:06.504Z"
   },
   {
    "duration": 0,
    "start_time": "2024-06-03T20:02:06.506Z"
   },
   {
    "duration": 0,
    "start_time": "2024-06-03T20:02:06.507Z"
   },
   {
    "duration": 0,
    "start_time": "2024-06-03T20:02:06.508Z"
   },
   {
    "duration": 0,
    "start_time": "2024-06-03T20:02:06.509Z"
   },
   {
    "duration": 0,
    "start_time": "2024-06-03T20:02:06.511Z"
   },
   {
    "duration": 0,
    "start_time": "2024-06-03T20:02:06.512Z"
   },
   {
    "duration": 0,
    "start_time": "2024-06-03T20:02:06.514Z"
   },
   {
    "duration": 0,
    "start_time": "2024-06-03T20:02:06.515Z"
   },
   {
    "duration": 0,
    "start_time": "2024-06-03T20:02:06.516Z"
   },
   {
    "duration": 0,
    "start_time": "2024-06-03T20:02:06.518Z"
   },
   {
    "duration": 0,
    "start_time": "2024-06-03T20:02:06.519Z"
   },
   {
    "duration": 0,
    "start_time": "2024-06-03T20:02:06.521Z"
   },
   {
    "duration": 0,
    "start_time": "2024-06-03T20:02:06.522Z"
   },
   {
    "duration": 0,
    "start_time": "2024-06-03T20:02:06.524Z"
   },
   {
    "duration": 0,
    "start_time": "2024-06-03T20:02:06.525Z"
   },
   {
    "duration": 0,
    "start_time": "2024-06-03T20:02:06.583Z"
   },
   {
    "duration": 0,
    "start_time": "2024-06-03T20:02:06.584Z"
   },
   {
    "duration": 0,
    "start_time": "2024-06-03T20:02:06.586Z"
   },
   {
    "duration": 0,
    "start_time": "2024-06-03T20:02:06.587Z"
   },
   {
    "duration": 0,
    "start_time": "2024-06-03T20:02:06.588Z"
   },
   {
    "duration": 0,
    "start_time": "2024-06-03T20:02:06.590Z"
   },
   {
    "duration": 1137,
    "start_time": "2024-06-03T20:02:32.972Z"
   },
   {
    "duration": 107,
    "start_time": "2024-06-03T20:02:34.111Z"
   },
   {
    "duration": 15,
    "start_time": "2024-06-03T20:02:34.220Z"
   },
   {
    "duration": 31,
    "start_time": "2024-06-03T20:02:34.236Z"
   },
   {
    "duration": 12,
    "start_time": "2024-06-03T20:02:34.269Z"
   },
   {
    "duration": 7,
    "start_time": "2024-06-03T20:02:34.283Z"
   },
   {
    "duration": 25,
    "start_time": "2024-06-03T20:02:34.291Z"
   },
   {
    "duration": 21,
    "start_time": "2024-06-03T20:02:34.318Z"
   },
   {
    "duration": 12,
    "start_time": "2024-06-03T20:02:34.341Z"
   },
   {
    "duration": 91,
    "start_time": "2024-06-03T20:02:34.355Z"
   },
   {
    "duration": 10,
    "start_time": "2024-06-03T20:02:34.448Z"
   },
   {
    "duration": 8,
    "start_time": "2024-06-03T20:02:34.460Z"
   },
   {
    "duration": 24,
    "start_time": "2024-06-03T20:02:34.470Z"
   },
   {
    "duration": 7,
    "start_time": "2024-06-03T20:02:34.498Z"
   },
   {
    "duration": 4,
    "start_time": "2024-06-03T20:02:34.507Z"
   },
   {
    "duration": 13,
    "start_time": "2024-06-03T20:02:34.513Z"
   },
   {
    "duration": 123,
    "start_time": "2024-06-03T20:02:34.528Z"
   },
   {
    "duration": 13,
    "start_time": "2024-06-03T20:02:34.653Z"
   },
   {
    "duration": 16,
    "start_time": "2024-06-03T20:02:34.667Z"
   },
   {
    "duration": 9,
    "start_time": "2024-06-03T20:02:34.684Z"
   },
   {
    "duration": 20,
    "start_time": "2024-06-03T20:02:34.695Z"
   },
   {
    "duration": 4,
    "start_time": "2024-06-03T20:02:34.717Z"
   },
   {
    "duration": 14,
    "start_time": "2024-06-03T20:02:34.722Z"
   },
   {
    "duration": 17,
    "start_time": "2024-06-03T20:02:34.738Z"
   },
   {
    "duration": 222,
    "start_time": "2024-06-03T20:02:34.757Z"
   },
   {
    "duration": 6,
    "start_time": "2024-06-03T20:02:34.982Z"
   },
   {
    "duration": 301,
    "start_time": "2024-06-03T20:02:34.990Z"
   },
   {
    "duration": 131,
    "start_time": "2024-06-03T20:02:35.292Z"
   },
   {
    "duration": 697,
    "start_time": "2024-06-03T20:02:35.425Z"
   },
   {
    "duration": 14,
    "start_time": "2024-06-03T20:02:36.123Z"
   },
   {
    "duration": 16,
    "start_time": "2024-06-03T20:02:36.138Z"
   },
   {
    "duration": 13,
    "start_time": "2024-06-03T20:02:36.155Z"
   },
   {
    "duration": 442,
    "start_time": "2024-06-03T20:02:36.170Z"
   },
   {
    "duration": 8,
    "start_time": "2024-06-03T20:02:36.614Z"
   },
   {
    "duration": 32,
    "start_time": "2024-06-03T20:02:36.624Z"
   },
   {
    "duration": 239,
    "start_time": "2024-06-03T20:02:36.658Z"
   },
   {
    "duration": 21,
    "start_time": "2024-06-03T20:02:36.899Z"
   },
   {
    "duration": 4,
    "start_time": "2024-06-03T20:02:36.921Z"
   },
   {
    "duration": 9,
    "start_time": "2024-06-03T20:02:36.927Z"
   },
   {
    "duration": 169,
    "start_time": "2024-06-03T20:02:36.937Z"
   },
   {
    "duration": 147,
    "start_time": "2024-06-03T20:02:37.110Z"
   },
   {
    "duration": 6,
    "start_time": "2024-06-03T20:02:37.258Z"
   },
   {
    "duration": 163,
    "start_time": "2024-06-03T20:02:37.265Z"
   },
   {
    "duration": 137,
    "start_time": "2024-06-03T20:02:37.429Z"
   },
   {
    "duration": 6,
    "start_time": "2024-06-03T20:02:37.568Z"
   },
   {
    "duration": 192,
    "start_time": "2024-06-03T20:02:37.582Z"
   },
   {
    "duration": 227,
    "start_time": "2024-06-03T20:02:37.777Z"
   },
   {
    "duration": 19,
    "start_time": "2024-06-03T20:02:38.007Z"
   },
   {
    "duration": 16,
    "start_time": "2024-06-03T20:02:38.028Z"
   },
   {
    "duration": 40,
    "start_time": "2024-06-03T20:02:38.046Z"
   },
   {
    "duration": 16,
    "start_time": "2024-06-03T20:02:38.089Z"
   },
   {
    "duration": 21,
    "start_time": "2024-06-03T20:02:38.107Z"
   },
   {
    "duration": 17,
    "start_time": "2024-06-03T20:02:38.129Z"
   },
   {
    "duration": 40,
    "start_time": "2024-06-03T20:02:38.148Z"
   },
   {
    "duration": 16,
    "start_time": "2024-06-03T20:02:38.190Z"
   },
   {
    "duration": 17,
    "start_time": "2024-06-03T20:02:38.208Z"
   },
   {
    "duration": 11,
    "start_time": "2024-06-03T20:02:38.227Z"
   },
   {
    "duration": 8,
    "start_time": "2024-06-03T20:02:38.240Z"
   },
   {
    "duration": 34,
    "start_time": "2024-06-03T20:02:38.249Z"
   },
   {
    "duration": 5,
    "start_time": "2024-06-03T20:02:38.285Z"
   },
   {
    "duration": 13,
    "start_time": "2024-06-03T20:02:38.291Z"
   },
   {
    "duration": 4,
    "start_time": "2024-06-03T20:02:38.305Z"
   },
   {
    "duration": 10,
    "start_time": "2024-06-03T20:02:38.311Z"
   },
   {
    "duration": 15,
    "start_time": "2024-06-03T20:02:38.323Z"
   },
   {
    "duration": 6,
    "start_time": "2024-06-03T20:02:38.339Z"
   },
   {
    "duration": 1383,
    "start_time": "2024-12-10T18:10:18.879Z"
   },
   {
    "duration": 122,
    "start_time": "2024-12-10T18:10:20.264Z"
   },
   {
    "duration": 16,
    "start_time": "2024-12-10T18:10:20.387Z"
   },
   {
    "duration": 66,
    "start_time": "2024-12-10T18:10:20.404Z"
   },
   {
    "duration": 3,
    "start_time": "2024-12-10T18:10:20.472Z"
   },
   {
    "duration": 11,
    "start_time": "2024-12-10T18:10:20.477Z"
   },
   {
    "duration": 34,
    "start_time": "2024-12-10T18:10:20.489Z"
   },
   {
    "duration": 16,
    "start_time": "2024-12-10T18:10:20.525Z"
   },
   {
    "duration": 10,
    "start_time": "2024-12-10T18:10:20.544Z"
   },
   {
    "duration": 100,
    "start_time": "2024-12-10T18:10:20.555Z"
   },
   {
    "duration": 10,
    "start_time": "2024-12-10T18:10:20.656Z"
   },
   {
    "duration": 29,
    "start_time": "2024-12-10T18:10:20.667Z"
   },
   {
    "duration": 11,
    "start_time": "2024-12-10T18:10:20.698Z"
   },
   {
    "duration": 15,
    "start_time": "2024-12-10T18:10:20.712Z"
   },
   {
    "duration": 28,
    "start_time": "2024-12-10T18:10:20.729Z"
   },
   {
    "duration": 61,
    "start_time": "2024-12-10T18:10:20.758Z"
   },
   {
    "duration": 94,
    "start_time": "2024-12-10T18:10:20.821Z"
   },
   {
    "duration": 20,
    "start_time": "2024-12-10T18:10:20.917Z"
   },
   {
    "duration": 5,
    "start_time": "2024-12-10T18:10:20.942Z"
   },
   {
    "duration": 41,
    "start_time": "2024-12-10T18:10:20.948Z"
   },
   {
    "duration": 22,
    "start_time": "2024-12-10T18:10:20.990Z"
   },
   {
    "duration": 3,
    "start_time": "2024-12-10T18:10:21.014Z"
   },
   {
    "duration": 11,
    "start_time": "2024-12-10T18:10:21.018Z"
   },
   {
    "duration": 31,
    "start_time": "2024-12-10T18:10:21.038Z"
   },
   {
    "duration": 213,
    "start_time": "2024-12-10T18:10:21.071Z"
   },
   {
    "duration": 7,
    "start_time": "2024-12-10T18:10:21.285Z"
   },
   {
    "duration": 321,
    "start_time": "2024-12-10T18:10:21.294Z"
   },
   {
    "duration": 155,
    "start_time": "2024-12-10T18:10:21.617Z"
   },
   {
    "duration": 724,
    "start_time": "2024-12-10T18:10:21.773Z"
   },
   {
    "duration": 15,
    "start_time": "2024-12-10T18:10:22.498Z"
   },
   {
    "duration": 29,
    "start_time": "2024-12-10T18:10:22.514Z"
   },
   {
    "duration": 11,
    "start_time": "2024-12-10T18:10:22.545Z"
   },
   {
    "duration": 440,
    "start_time": "2024-12-10T18:10:22.558Z"
   },
   {
    "duration": 8,
    "start_time": "2024-12-10T18:10:23.000Z"
   },
   {
    "duration": 19,
    "start_time": "2024-12-10T18:10:23.009Z"
   },
   {
    "duration": 261,
    "start_time": "2024-12-10T18:10:23.031Z"
   },
   {
    "duration": 22,
    "start_time": "2024-12-10T18:10:23.293Z"
   },
   {
    "duration": 5,
    "start_time": "2024-12-10T18:10:23.316Z"
   },
   {
    "duration": 11,
    "start_time": "2024-12-10T18:10:23.330Z"
   },
   {
    "duration": 172,
    "start_time": "2024-12-10T18:10:23.344Z"
   },
   {
    "duration": 158,
    "start_time": "2024-12-10T18:10:23.522Z"
   },
   {
    "duration": 5,
    "start_time": "2024-12-10T18:10:23.682Z"
   },
   {
    "duration": 176,
    "start_time": "2024-12-10T18:10:23.688Z"
   },
   {
    "duration": 140,
    "start_time": "2024-12-10T18:10:23.865Z"
   },
   {
    "duration": 7,
    "start_time": "2024-12-10T18:10:24.007Z"
   },
   {
    "duration": 198,
    "start_time": "2024-12-10T18:10:24.029Z"
   },
   {
    "duration": 209,
    "start_time": "2024-12-10T18:10:24.228Z"
   },
   {
    "duration": 19,
    "start_time": "2024-12-10T18:10:24.439Z"
   },
   {
    "duration": 15,
    "start_time": "2024-12-10T18:10:24.459Z"
   },
   {
    "duration": 32,
    "start_time": "2024-12-10T18:10:24.476Z"
   },
   {
    "duration": 27,
    "start_time": "2024-12-10T18:10:24.510Z"
   },
   {
    "duration": 15,
    "start_time": "2024-12-10T18:10:24.543Z"
   },
   {
    "duration": 15,
    "start_time": "2024-12-10T18:10:24.560Z"
   },
   {
    "duration": 18,
    "start_time": "2024-12-10T18:10:24.576Z"
   },
   {
    "duration": 38,
    "start_time": "2024-12-10T18:10:24.595Z"
   },
   {
    "duration": 16,
    "start_time": "2024-12-10T18:10:24.642Z"
   },
   {
    "duration": 14,
    "start_time": "2024-12-10T18:10:24.660Z"
   },
   {
    "duration": 4,
    "start_time": "2024-12-10T18:10:24.677Z"
   },
   {
    "duration": 6,
    "start_time": "2024-12-10T18:10:24.687Z"
   },
   {
    "duration": 6,
    "start_time": "2024-12-10T18:10:24.695Z"
   },
   {
    "duration": 34,
    "start_time": "2024-12-10T18:10:24.703Z"
   },
   {
    "duration": 5,
    "start_time": "2024-12-10T18:10:24.744Z"
   },
   {
    "duration": 5,
    "start_time": "2024-12-10T18:10:24.750Z"
   },
   {
    "duration": 7,
    "start_time": "2024-12-10T18:10:24.757Z"
   },
   {
    "duration": 5,
    "start_time": "2024-12-10T18:10:24.765Z"
   },
   {
    "duration": 1282,
    "start_time": "2024-12-10T18:13:58.963Z"
   },
   {
    "duration": 61,
    "start_time": "2024-12-10T18:14:00.247Z"
   },
   {
    "duration": 15,
    "start_time": "2024-12-10T18:14:00.309Z"
   },
   {
    "duration": 93,
    "start_time": "2024-12-10T18:14:00.325Z"
   },
   {
    "duration": 70,
    "start_time": "2024-12-10T18:14:00.420Z"
   },
   {
    "duration": 128,
    "start_time": "2024-12-10T18:14:00.492Z"
   },
   {
    "duration": 69,
    "start_time": "2024-12-10T18:14:00.622Z"
   },
   {
    "duration": 26,
    "start_time": "2024-12-10T18:14:00.692Z"
   },
   {
    "duration": 24,
    "start_time": "2024-12-10T18:14:00.720Z"
   },
   {
    "duration": 103,
    "start_time": "2024-12-10T18:14:00.746Z"
   },
   {
    "duration": 10,
    "start_time": "2024-12-10T18:14:00.850Z"
   },
   {
    "duration": 22,
    "start_time": "2024-12-10T18:14:00.861Z"
   },
   {
    "duration": 24,
    "start_time": "2024-12-10T18:14:00.884Z"
   },
   {
    "duration": 10,
    "start_time": "2024-12-10T18:14:00.911Z"
   },
   {
    "duration": 35,
    "start_time": "2024-12-10T18:14:00.922Z"
   },
   {
    "duration": 37,
    "start_time": "2024-12-10T18:14:00.959Z"
   },
   {
    "duration": 96,
    "start_time": "2024-12-10T18:14:00.998Z"
   },
   {
    "duration": 9,
    "start_time": "2024-12-10T18:14:01.096Z"
   },
   {
    "duration": 17,
    "start_time": "2024-12-10T18:14:01.107Z"
   },
   {
    "duration": 18,
    "start_time": "2024-12-10T18:14:01.134Z"
   },
   {
    "duration": 29,
    "start_time": "2024-12-10T18:14:01.154Z"
   },
   {
    "duration": 10,
    "start_time": "2024-12-10T18:14:01.185Z"
   },
   {
    "duration": 14,
    "start_time": "2024-12-10T18:14:01.196Z"
   },
   {
    "duration": 31,
    "start_time": "2024-12-10T18:14:01.212Z"
   },
   {
    "duration": 222,
    "start_time": "2024-12-10T18:14:01.245Z"
   },
   {
    "duration": 7,
    "start_time": "2024-12-10T18:14:01.468Z"
   },
   {
    "duration": 326,
    "start_time": "2024-12-10T18:14:01.476Z"
   },
   {
    "duration": 151,
    "start_time": "2024-12-10T18:14:01.803Z"
   },
   {
    "duration": 739,
    "start_time": "2024-12-10T18:14:01.956Z"
   },
   {
    "duration": 14,
    "start_time": "2024-12-10T18:14:02.697Z"
   },
   {
    "duration": 30,
    "start_time": "2024-12-10T18:14:02.712Z"
   },
   {
    "duration": 16,
    "start_time": "2024-12-10T18:14:02.744Z"
   },
   {
    "duration": 457,
    "start_time": "2024-12-10T18:14:02.762Z"
   },
   {
    "duration": 8,
    "start_time": "2024-12-10T18:14:03.220Z"
   },
   {
    "duration": 29,
    "start_time": "2024-12-10T18:14:03.236Z"
   },
   {
    "duration": 292,
    "start_time": "2024-12-10T18:14:03.267Z"
   },
   {
    "duration": 23,
    "start_time": "2024-12-10T18:14:03.561Z"
   },
   {
    "duration": 5,
    "start_time": "2024-12-10T18:14:03.586Z"
   },
   {
    "duration": 20,
    "start_time": "2024-12-10T18:14:03.593Z"
   },
   {
    "duration": 174,
    "start_time": "2024-12-10T18:14:03.629Z"
   },
   {
    "duration": 172,
    "start_time": "2024-12-10T18:14:03.807Z"
   },
   {
    "duration": 7,
    "start_time": "2024-12-10T18:14:03.982Z"
   },
   {
    "duration": 183,
    "start_time": "2024-12-10T18:14:03.991Z"
   },
   {
    "duration": 142,
    "start_time": "2024-12-10T18:14:04.176Z"
   },
   {
    "duration": 5,
    "start_time": "2024-12-10T18:14:04.320Z"
   },
   {
    "duration": 221,
    "start_time": "2024-12-10T18:14:04.336Z"
   },
   {
    "duration": 234,
    "start_time": "2024-12-10T18:14:04.559Z"
   },
   {
    "duration": 18,
    "start_time": "2024-12-10T18:14:04.795Z"
   },
   {
    "duration": 33,
    "start_time": "2024-12-10T18:14:04.815Z"
   },
   {
    "duration": 41,
    "start_time": "2024-12-10T18:14:04.850Z"
   },
   {
    "duration": 18,
    "start_time": "2024-12-10T18:14:04.893Z"
   },
   {
    "duration": 28,
    "start_time": "2024-12-10T18:14:04.913Z"
   },
   {
    "duration": 17,
    "start_time": "2024-12-10T18:14:04.946Z"
   },
   {
    "duration": 22,
    "start_time": "2024-12-10T18:14:04.965Z"
   },
   {
    "duration": 16,
    "start_time": "2024-12-10T18:14:04.989Z"
   },
   {
    "duration": 38,
    "start_time": "2024-12-10T18:14:05.007Z"
   },
   {
    "duration": 19,
    "start_time": "2024-12-10T18:14:05.047Z"
   },
   {
    "duration": 17,
    "start_time": "2024-12-10T18:14:05.068Z"
   },
   {
    "duration": 8,
    "start_time": "2024-12-10T18:14:05.086Z"
   },
   {
    "duration": 4,
    "start_time": "2024-12-10T18:14:05.095Z"
   },
   {
    "duration": 30,
    "start_time": "2024-12-10T18:14:05.101Z"
   },
   {
    "duration": 20,
    "start_time": "2024-12-10T18:14:05.133Z"
   },
   {
    "duration": 8,
    "start_time": "2024-12-10T18:14:05.154Z"
   },
   {
    "duration": 8,
    "start_time": "2024-12-10T18:14:05.163Z"
   },
   {
    "duration": 25,
    "start_time": "2024-12-10T18:14:05.173Z"
   }
  ],
  "kernelspec": {
   "display_name": "Python 3 (ipykernel)",
   "language": "python",
   "name": "python3"
  },
  "language_info": {
   "codemirror_mode": {
    "name": "ipython",
    "version": 3
   },
   "file_extension": ".py",
   "mimetype": "text/x-python",
   "name": "python",
   "nbconvert_exporter": "python",
   "pygments_lexer": "ipython3",
   "version": "3.9.5"
  },
  "toc": {
   "base_numbering": 1,
   "nav_menu": {},
   "number_sections": true,
   "sideBar": true,
   "skip_h1_title": true,
   "title_cell": "Table of Contents",
   "title_sidebar": "Contents",
   "toc_cell": false,
   "toc_position": {
    "height": "calc(100% - 180px)",
    "left": "10px",
    "top": "150px",
    "width": "297.6px"
   },
   "toc_section_display": true,
   "toc_window_display": true
  }
 },
 "nbformat": 4,
 "nbformat_minor": 2
}
