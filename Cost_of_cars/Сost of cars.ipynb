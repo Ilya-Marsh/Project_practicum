{
 "cells": [
  {
   "cell_type": "markdown",
   "metadata": {},
   "source": [
    "# Определение стоимости автомобилей"
   ]
  },
  {
   "cell_type": "markdown",
   "metadata": {},
   "source": [
    "Сервис по продаже автомобилей с пробегом «Не бит, не крашен» разрабатывает приложение для привлечения новых клиентов. В нём можно быстро узнать рыночную стоимость своего автомобиля. В вашем распоряжении исторические данные: технические характеристики, комплектации и цены автомобилей. Вам нужно построить модель для определения стоимости. \n",
    "\n",
    "Заказчику важны:\n",
    "\n",
    "- качество предсказания;\n",
    "- скорость предсказания;\n",
    "- время обучения."
   ]
  },
  {
   "cell_type": "code",
   "execution_count": 1,
   "metadata": {},
   "outputs": [
    {
     "name": "stdout",
     "output_type": "stream",
     "text": [
      "Collecting missingno\n",
      "  Downloading missingno-0.5.2-py3-none-any.whl (8.7 kB)\n",
      "Requirement already satisfied: numpy in /opt/conda/lib/python3.9/site-packages (from missingno) (1.21.1)\n",
      "Requirement already satisfied: scipy in /opt/conda/lib/python3.9/site-packages (from missingno) (1.9.1)\n",
      "Requirement already satisfied: seaborn in /opt/conda/lib/python3.9/site-packages (from missingno) (0.11.1)\n",
      "Requirement already satisfied: matplotlib in /opt/conda/lib/python3.9/site-packages (from missingno) (3.3.4)\n",
      "Requirement already satisfied: cycler>=0.10 in /opt/conda/lib/python3.9/site-packages (from matplotlib->missingno) (0.11.0)\n",
      "Requirement already satisfied: pillow>=6.2.0 in /opt/conda/lib/python3.9/site-packages (from matplotlib->missingno) (8.4.0)\n",
      "Requirement already satisfied: python-dateutil>=2.1 in /opt/conda/lib/python3.9/site-packages (from matplotlib->missingno) (2.8.1)\n",
      "Requirement already satisfied: kiwisolver>=1.0.1 in /opt/conda/lib/python3.9/site-packages (from matplotlib->missingno) (1.4.4)\n",
      "Requirement already satisfied: pyparsing!=2.0.4,!=2.1.2,!=2.1.6,>=2.0.3 in /opt/conda/lib/python3.9/site-packages (from matplotlib->missingno) (2.4.7)\n",
      "Requirement already satisfied: six>=1.5 in /opt/conda/lib/python3.9/site-packages (from python-dateutil>=2.1->matplotlib->missingno) (1.16.0)\n",
      "Requirement already satisfied: pandas>=0.23 in /opt/conda/lib/python3.9/site-packages (from seaborn->missingno) (1.2.4)\n",
      "Requirement already satisfied: pytz>=2017.3 in /opt/conda/lib/python3.9/site-packages (from pandas>=0.23->seaborn->missingno) (2021.1)\n",
      "Installing collected packages: missingno\n",
      "Successfully installed missingno-0.5.2\n",
      "Note: you may need to restart the kernel to use updated packages.\n"
     ]
    }
   ],
   "source": [
    "pip install missingno"
   ]
  },
  {
   "cell_type": "code",
   "execution_count": 2,
   "metadata": {},
   "outputs": [
    {
     "name": "stdout",
     "output_type": "stream",
     "text": [
      "Requirement already satisfied: scikit-learn in /opt/conda/lib/python3.9/site-packages (0.24.1)\n",
      "Collecting scikit-learn\n",
      "  Downloading scikit_learn-1.5.2-cp39-cp39-manylinux_2_17_x86_64.manylinux2014_x86_64.whl (13.4 MB)\n",
      "\u001b[K     |████████████████████████████████| 13.4 MB 1.2 MB/s eta 0:00:01\n",
      "\u001b[?25hCollecting joblib>=1.2.0\n",
      "  Downloading joblib-1.4.2-py3-none-any.whl (301 kB)\n",
      "\u001b[K     |████████████████████████████████| 301 kB 44.2 MB/s eta 0:00:01\n",
      "\u001b[?25hRequirement already satisfied: threadpoolctl>=3.1.0 in /opt/conda/lib/python3.9/site-packages (from scikit-learn) (3.1.0)\n",
      "Requirement already satisfied: scipy>=1.6.0 in /opt/conda/lib/python3.9/site-packages (from scikit-learn) (1.9.1)\n",
      "Requirement already satisfied: numpy>=1.19.5 in /opt/conda/lib/python3.9/site-packages (from scikit-learn) (1.21.1)\n",
      "Installing collected packages: joblib, scikit-learn\n",
      "  Attempting uninstall: joblib\n",
      "    Found existing installation: joblib 1.1.0\n",
      "    Uninstalling joblib-1.1.0:\n",
      "      Successfully uninstalled joblib-1.1.0\n",
      "  Attempting uninstall: scikit-learn\n",
      "    Found existing installation: scikit-learn 0.24.1\n",
      "    Uninstalling scikit-learn-0.24.1:\n",
      "      Successfully uninstalled scikit-learn-0.24.1\n",
      "Successfully installed joblib-1.4.2 scikit-learn-1.5.2\n",
      "Note: you may need to restart the kernel to use updated packages.\n"
     ]
    }
   ],
   "source": [
    "pip install --upgrade scikit-learn"
   ]
  },
  {
   "cell_type": "code",
   "execution_count": 3,
   "metadata": {},
   "outputs": [
    {
     "name": "stdout",
     "output_type": "stream",
     "text": [
      "Collecting shap\n",
      "  Downloading shap-0.46.0-cp39-cp39-manylinux_2_12_x86_64.manylinux2010_x86_64.manylinux_2_17_x86_64.manylinux2014_x86_64.whl (539 kB)\n",
      "\u001b[K     |████████████████████████████████| 539 kB 1.2 MB/s eta 0:00:01\n",
      "\u001b[?25hRequirement already satisfied: scikit-learn in /opt/conda/lib/python3.9/site-packages (from shap) (1.5.2)\n",
      "Requirement already satisfied: packaging>20.9 in /opt/conda/lib/python3.9/site-packages (from shap) (21.3)\n",
      "Collecting slicer==0.0.8\n",
      "  Downloading slicer-0.0.8-py3-none-any.whl (15 kB)\n",
      "Requirement already satisfied: scipy in /opt/conda/lib/python3.9/site-packages (from shap) (1.9.1)\n",
      "Requirement already satisfied: pandas in /opt/conda/lib/python3.9/site-packages (from shap) (1.2.4)\n",
      "Collecting cloudpickle\n",
      "  Downloading cloudpickle-3.0.0-py3-none-any.whl (20 kB)\n",
      "Requirement already satisfied: numpy in /opt/conda/lib/python3.9/site-packages (from shap) (1.21.1)\n",
      "Requirement already satisfied: numba in /opt/conda/lib/python3.9/site-packages (from shap) (0.56.0)\n",
      "Requirement already satisfied: tqdm>=4.27.0 in /opt/conda/lib/python3.9/site-packages (from shap) (4.61.2)\n",
      "Requirement already satisfied: pyparsing!=3.0.5,>=2.0.2 in /opt/conda/lib/python3.9/site-packages (from packaging>20.9->shap) (2.4.7)\n",
      "Requirement already satisfied: llvmlite<0.40,>=0.39.0dev0 in /opt/conda/lib/python3.9/site-packages (from numba->shap) (0.39.0)\n",
      "Requirement already satisfied: setuptools in /opt/conda/lib/python3.9/site-packages (from numba->shap) (49.6.0.post20210108)\n",
      "Requirement already satisfied: python-dateutil>=2.7.3 in /opt/conda/lib/python3.9/site-packages (from pandas->shap) (2.8.1)\n",
      "Requirement already satisfied: pytz>=2017.3 in /opt/conda/lib/python3.9/site-packages (from pandas->shap) (2021.1)\n",
      "Requirement already satisfied: six>=1.5 in /opt/conda/lib/python3.9/site-packages (from python-dateutil>=2.7.3->pandas->shap) (1.16.0)\n",
      "Requirement already satisfied: joblib>=1.2.0 in /opt/conda/lib/python3.9/site-packages (from scikit-learn->shap) (1.4.2)\n",
      "Requirement already satisfied: threadpoolctl>=3.1.0 in /opt/conda/lib/python3.9/site-packages (from scikit-learn->shap) (3.1.0)\n",
      "Installing collected packages: slicer, cloudpickle, shap\n",
      "Successfully installed cloudpickle-3.0.0 shap-0.46.0 slicer-0.0.8\n",
      "Note: you may need to restart the kernel to use updated packages.\n"
     ]
    }
   ],
   "source": [
    "pip install shap --upgrade"
   ]
  },
  {
   "cell_type": "markdown",
   "metadata": {},
   "source": [
    "## Подготовка данных"
   ]
  },
  {
   "cell_type": "code",
   "execution_count": 4,
   "metadata": {},
   "outputs": [],
   "source": [
    "import pandas as pd\n",
    "import matplotlib.pyplot as plt\n",
    "import warnings\n",
    "from time import time\n",
    "import missingno as msno\n",
    "import seaborn as sns\n",
    "import lightgbm as lgb\n",
    "import numpy as np\n",
    "from sklearn.impute import SimpleImputer\n",
    "from sklearn.pipeline import Pipeline\n",
    "from sklearn.compose import ColumnTransformer\n",
    "from sklearn.linear_model import LinearRegression, Ridge, Lasso\n",
    "from sklearn.metrics import mean_squared_error\n",
    "from sklearn.dummy import DummyRegressor\n",
    "from sklearn.model_selection import RandomizedSearchCV, train_test_split, cross_val_score\n",
    "from sklearn.preprocessing import OneHotEncoder, StandardScaler, OrdinalEncoder"
   ]
  },
  {
   "cell_type": "code",
   "execution_count": 5,
   "metadata": {},
   "outputs": [],
   "source": [
    "warnings.filterwarnings('ignore')"
   ]
  },
  {
   "cell_type": "code",
   "execution_count": 6,
   "metadata": {},
   "outputs": [],
   "source": [
    "try:\n",
    "    data = pd.read_csv('/datasets/autos.csv')\n",
    "except:\n",
    "    data = pd.read_csv('autos.csv')"
   ]
  },
  {
   "cell_type": "code",
   "execution_count": 7,
   "metadata": {},
   "outputs": [
    {
     "name": "stdout",
     "output_type": "stream",
     "text": [
      "<class 'pandas.core.frame.DataFrame'>\n",
      "RangeIndex: 354369 entries, 0 to 354368\n",
      "Data columns (total 16 columns):\n",
      " #   Column             Non-Null Count   Dtype \n",
      "---  ------             --------------   ----- \n",
      " 0   DateCrawled        354369 non-null  object\n",
      " 1   Price              354369 non-null  int64 \n",
      " 2   VehicleType        316879 non-null  object\n",
      " 3   RegistrationYear   354369 non-null  int64 \n",
      " 4   Gearbox            334536 non-null  object\n",
      " 5   Power              354369 non-null  int64 \n",
      " 6   Model              334664 non-null  object\n",
      " 7   Kilometer          354369 non-null  int64 \n",
      " 8   RegistrationMonth  354369 non-null  int64 \n",
      " 9   FuelType           321474 non-null  object\n",
      " 10  Brand              354369 non-null  object\n",
      " 11  Repaired           283215 non-null  object\n",
      " 12  DateCreated        354369 non-null  object\n",
      " 13  NumberOfPictures   354369 non-null  int64 \n",
      " 14  PostalCode         354369 non-null  int64 \n",
      " 15  LastSeen           354369 non-null  object\n",
      "dtypes: int64(7), object(9)\n",
      "memory usage: 43.3+ MB\n"
     ]
    }
   ],
   "source": [
    "data.info()"
   ]
  },
  {
   "cell_type": "code",
   "execution_count": 8,
   "metadata": {},
   "outputs": [
    {
     "data": {
      "text/html": [
       "<div>\n",
       "<style scoped>\n",
       "    .dataframe tbody tr th:only-of-type {\n",
       "        vertical-align: middle;\n",
       "    }\n",
       "\n",
       "    .dataframe tbody tr th {\n",
       "        vertical-align: top;\n",
       "    }\n",
       "\n",
       "    .dataframe thead th {\n",
       "        text-align: right;\n",
       "    }\n",
       "</style>\n",
       "<table border=\"1\" class=\"dataframe\">\n",
       "  <thead>\n",
       "    <tr style=\"text-align: right;\">\n",
       "      <th></th>\n",
       "      <th>DateCrawled</th>\n",
       "      <th>Price</th>\n",
       "      <th>VehicleType</th>\n",
       "      <th>RegistrationYear</th>\n",
       "      <th>Gearbox</th>\n",
       "      <th>Power</th>\n",
       "      <th>Model</th>\n",
       "      <th>Kilometer</th>\n",
       "      <th>RegistrationMonth</th>\n",
       "      <th>FuelType</th>\n",
       "      <th>Brand</th>\n",
       "      <th>Repaired</th>\n",
       "      <th>DateCreated</th>\n",
       "      <th>NumberOfPictures</th>\n",
       "      <th>PostalCode</th>\n",
       "      <th>LastSeen</th>\n",
       "    </tr>\n",
       "  </thead>\n",
       "  <tbody>\n",
       "    <tr>\n",
       "      <th>0</th>\n",
       "      <td>2016-03-24 11:52:17</td>\n",
       "      <td>480</td>\n",
       "      <td>NaN</td>\n",
       "      <td>1993</td>\n",
       "      <td>manual</td>\n",
       "      <td>0</td>\n",
       "      <td>golf</td>\n",
       "      <td>150000</td>\n",
       "      <td>0</td>\n",
       "      <td>petrol</td>\n",
       "      <td>volkswagen</td>\n",
       "      <td>NaN</td>\n",
       "      <td>2016-03-24 00:00:00</td>\n",
       "      <td>0</td>\n",
       "      <td>70435</td>\n",
       "      <td>2016-04-07 03:16:57</td>\n",
       "    </tr>\n",
       "    <tr>\n",
       "      <th>1</th>\n",
       "      <td>2016-03-24 10:58:45</td>\n",
       "      <td>18300</td>\n",
       "      <td>coupe</td>\n",
       "      <td>2011</td>\n",
       "      <td>manual</td>\n",
       "      <td>190</td>\n",
       "      <td>NaN</td>\n",
       "      <td>125000</td>\n",
       "      <td>5</td>\n",
       "      <td>gasoline</td>\n",
       "      <td>audi</td>\n",
       "      <td>yes</td>\n",
       "      <td>2016-03-24 00:00:00</td>\n",
       "      <td>0</td>\n",
       "      <td>66954</td>\n",
       "      <td>2016-04-07 01:46:50</td>\n",
       "    </tr>\n",
       "    <tr>\n",
       "      <th>2</th>\n",
       "      <td>2016-03-14 12:52:21</td>\n",
       "      <td>9800</td>\n",
       "      <td>suv</td>\n",
       "      <td>2004</td>\n",
       "      <td>auto</td>\n",
       "      <td>163</td>\n",
       "      <td>grand</td>\n",
       "      <td>125000</td>\n",
       "      <td>8</td>\n",
       "      <td>gasoline</td>\n",
       "      <td>jeep</td>\n",
       "      <td>NaN</td>\n",
       "      <td>2016-03-14 00:00:00</td>\n",
       "      <td>0</td>\n",
       "      <td>90480</td>\n",
       "      <td>2016-04-05 12:47:46</td>\n",
       "    </tr>\n",
       "    <tr>\n",
       "      <th>3</th>\n",
       "      <td>2016-03-17 16:54:04</td>\n",
       "      <td>1500</td>\n",
       "      <td>small</td>\n",
       "      <td>2001</td>\n",
       "      <td>manual</td>\n",
       "      <td>75</td>\n",
       "      <td>golf</td>\n",
       "      <td>150000</td>\n",
       "      <td>6</td>\n",
       "      <td>petrol</td>\n",
       "      <td>volkswagen</td>\n",
       "      <td>no</td>\n",
       "      <td>2016-03-17 00:00:00</td>\n",
       "      <td>0</td>\n",
       "      <td>91074</td>\n",
       "      <td>2016-03-17 17:40:17</td>\n",
       "    </tr>\n",
       "    <tr>\n",
       "      <th>4</th>\n",
       "      <td>2016-03-31 17:25:20</td>\n",
       "      <td>3600</td>\n",
       "      <td>small</td>\n",
       "      <td>2008</td>\n",
       "      <td>manual</td>\n",
       "      <td>69</td>\n",
       "      <td>fabia</td>\n",
       "      <td>90000</td>\n",
       "      <td>7</td>\n",
       "      <td>gasoline</td>\n",
       "      <td>skoda</td>\n",
       "      <td>no</td>\n",
       "      <td>2016-03-31 00:00:00</td>\n",
       "      <td>0</td>\n",
       "      <td>60437</td>\n",
       "      <td>2016-04-06 10:17:21</td>\n",
       "    </tr>\n",
       "  </tbody>\n",
       "</table>\n",
       "</div>"
      ],
      "text/plain": [
       "           DateCrawled  Price VehicleType  RegistrationYear Gearbox  Power  \\\n",
       "0  2016-03-24 11:52:17    480         NaN              1993  manual      0   \n",
       "1  2016-03-24 10:58:45  18300       coupe              2011  manual    190   \n",
       "2  2016-03-14 12:52:21   9800         suv              2004    auto    163   \n",
       "3  2016-03-17 16:54:04   1500       small              2001  manual     75   \n",
       "4  2016-03-31 17:25:20   3600       small              2008  manual     69   \n",
       "\n",
       "   Model  Kilometer  RegistrationMonth  FuelType       Brand Repaired  \\\n",
       "0   golf     150000                  0    petrol  volkswagen      NaN   \n",
       "1    NaN     125000                  5  gasoline        audi      yes   \n",
       "2  grand     125000                  8  gasoline        jeep      NaN   \n",
       "3   golf     150000                  6    petrol  volkswagen       no   \n",
       "4  fabia      90000                  7  gasoline       skoda       no   \n",
       "\n",
       "           DateCreated  NumberOfPictures  PostalCode             LastSeen  \n",
       "0  2016-03-24 00:00:00                 0       70435  2016-04-07 03:16:57  \n",
       "1  2016-03-24 00:00:00                 0       66954  2016-04-07 01:46:50  \n",
       "2  2016-03-14 00:00:00                 0       90480  2016-04-05 12:47:46  \n",
       "3  2016-03-17 00:00:00                 0       91074  2016-03-17 17:40:17  \n",
       "4  2016-03-31 00:00:00                 0       60437  2016-04-06 10:17:21  "
      ]
     },
     "execution_count": 8,
     "metadata": {},
     "output_type": "execute_result"
    }
   ],
   "source": [
    "data.head()"
   ]
  },
  {
   "cell_type": "markdown",
   "metadata": {},
   "source": [
    "**Вывод: На данном этапе проекта были подключены все необходимые библиотеки и инструменты для работы. Загружены данные. Объем данных оказался очень большим. По выводу первых пяти строк сразу можно заметить наличие пропусков.**"
   ]
  },
  {
   "cell_type": "markdown",
   "metadata": {},
   "source": [
    "### Проверка на пропуски"
   ]
  },
  {
   "cell_type": "code",
   "execution_count": 9,
   "metadata": {},
   "outputs": [
    {
     "data": {
      "image/png": "[encoded data removed]",
      "text/plain": [
       "<Figure size 1800x720 with 3 Axes>"
      ]
     },
     "metadata": {
      "needs_background": "light"
     },
     "output_type": "display_data"
    }
   ],
   "source": [
    "msno.bar(data)\n",
    "plt.show()"
   ]
  },
  {
   "cell_type": "markdown",
   "metadata": {},
   "source": [
    "**Пропуски обнаружены в пяти столбцах. Столбцы содержат категориальные данные, поэтому можно организовать заполнение с помощью инструмента SimpleImputer. Данный инструмент заполнит пропуски наиболее частым значение в каждом столбце.**"
   ]
  },
  {
   "cell_type": "code",
   "execution_count": 10,
   "metadata": {},
   "outputs": [],
   "source": [
    "data_train, data_test = train_test_split(data, test_size=0.2, random_state=42)"
   ]
  },
  {
   "cell_type": "code",
   "execution_count": 11,
   "metadata": {},
   "outputs": [],
   "source": [
    "omissions = ['VehicleType', 'Gearbox', 'Model', 'FuelType', 'Repaired']"
   ]
  },
  {
   "cell_type": "code",
   "execution_count": 12,
   "metadata": {},
   "outputs": [],
   "source": [
    "imputer = SimpleImputer(strategy='most_frequent')"
   ]
  },
  {
   "cell_type": "code",
   "execution_count": 13,
   "metadata": {},
   "outputs": [],
   "source": [
    "data_train[omissions] = imputer.fit_transform(data_train[omissions])\n",
    "data_test[omissions] = imputer.transform(data_test[omissions])"
   ]
  },
  {
   "cell_type": "code",
   "execution_count": 14,
   "metadata": {},
   "outputs": [
    {
     "data": {
      "image/png": "[encoded data removed]",
      "text/plain": [
       "<Figure size 1800x720 with 3 Axes>"
      ]
     },
     "metadata": {
      "needs_background": "light"
     },
     "output_type": "display_data"
    }
   ],
   "source": [
    "msno.bar(data_train)\n",
    "plt.show()"
   ]
  },
  {
   "cell_type": "code",
   "execution_count": 15,
   "metadata": {},
   "outputs": [
    {
     "data": {
      "image/png": "[encoded data removed]",
      "text/plain": [
       "<Figure size 1800x720 with 3 Axes>"
      ]
     },
     "metadata": {
      "needs_background": "light"
     },
     "output_type": "display_data"
    }
   ],
   "source": [
    "msno.bar(data_test)\n",
    "plt.show()"
   ]
  },
  {
   "cell_type": "markdown",
   "metadata": {},
   "source": [
    "**Пропуски корректно заполнены**"
   ]
  },
  {
   "cell_type": "markdown",
   "metadata": {},
   "source": [
    "### Проверка на дубликаты"
   ]
  },
  {
   "cell_type": "code",
   "execution_count": 16,
   "metadata": {},
   "outputs": [
    {
     "name": "stdout",
     "output_type": "stream",
     "text": [
      "3\n"
     ]
    },
    {
     "data": {
      "text/plain": [
       "0"
      ]
     },
     "execution_count": 16,
     "metadata": {},
     "output_type": "execute_result"
    }
   ],
   "source": [
    "print(data_train.duplicated().sum())\n",
    "data_test.duplicated().sum()"
   ]
  },
  {
   "cell_type": "code",
   "execution_count": 17,
   "metadata": {},
   "outputs": [
    {
     "data": {
      "text/plain": [
       "(283495, 16)"
      ]
     },
     "execution_count": 17,
     "metadata": {},
     "output_type": "execute_result"
    }
   ],
   "source": [
    "data_train.shape"
   ]
  },
  {
   "cell_type": "code",
   "execution_count": 18,
   "metadata": {},
   "outputs": [],
   "source": [
    "data_train = data_train.drop_duplicates()"
   ]
  },
  {
   "cell_type": "code",
   "execution_count": 19,
   "metadata": {},
   "outputs": [
    {
     "data": {
      "text/plain": [
       "(283492, 16)"
      ]
     },
     "execution_count": 19,
     "metadata": {},
     "output_type": "execute_result"
    }
   ],
   "source": [
    "data_train.shape"
   ]
  },
  {
   "cell_type": "markdown",
   "metadata": {},
   "source": [
    "**В данных обнаружены дубликаты в тренировочной выборке, которые можно спокойно удалить.**"
   ]
  },
  {
   "cell_type": "markdown",
   "metadata": {},
   "source": [
    "### Анализ аномалий и неявных дубликатов"
   ]
  },
  {
   "cell_type": "code",
   "execution_count": 20,
   "metadata": {},
   "outputs": [],
   "source": [
    "def categorical_features(data, column):\n",
    "    plt.figure(figsize=(12, 9))\n",
    "    plt.pie(data[column].value_counts(), labels=data[column].unique(), autopct='%1.1f%%')\n",
    "    plt.title('Круговая диаграммы столбца ' + column, fontsize=14)\n",
    "    plt.show()"
   ]
  },
  {
   "cell_type": "code",
   "execution_count": 21,
   "metadata": {},
   "outputs": [],
   "source": [
    "def numeric_features(data, column, bins):\n",
    "    plt.figure(figsize=(12, 9))\n",
    "    plt.hist(data[column], bins = bins)\n",
    "    plt.xlabel('Значения столбца ' + column, fontsize=14)\n",
    "    plt.ylabel('Частота', fontsize=14)\n",
    "    plt.title('Распределение столбца ' + column, fontsize=14)\n",
    "    plt.show()"
   ]
  },
  {
   "cell_type": "markdown",
   "metadata": {},
   "source": [
    "**Две функции, которые будут строить распределение данных в столбце в зависимости от его типа, для категориальных и количественных соответственно.**"
   ]
  },
  {
   "cell_type": "code",
   "execution_count": 22,
   "metadata": {},
   "outputs": [
    {
     "data": {
      "image/png": "[encoded data removed]",
      "text/plain": [
       "<Figure size 864x648 with 1 Axes>"
      ]
     },
     "metadata": {},
     "output_type": "display_data"
    }
   ],
   "source": [
    "categorical_features(data_train, 'VehicleType')"
   ]
  },
  {
   "cell_type": "markdown",
   "metadata": {},
   "source": [
    "**Больше всего автомобилей с типом транспортного средства - sedan. Меньше всего автомобилей с типом - wagon, а также некоторые другие.**"
   ]
  },
  {
   "cell_type": "code",
   "execution_count": 23,
   "metadata": {},
   "outputs": [
    {
     "data": {
      "image/png": "[encoded data removed]",
      "text/plain": [
       "<Figure size 864x648 with 1 Axes>"
      ]
     },
     "metadata": {},
     "output_type": "display_data"
    }
   ],
   "source": [
    "categorical_features(data_train, 'Gearbox')"
   ]
  },
  {
   "cell_type": "markdown",
   "metadata": {},
   "source": [
    "**Более 80% продаваемых автомобилей имеют механическую коробку передач.**"
   ]
  },
  {
   "cell_type": "code",
   "execution_count": 24,
   "metadata": {},
   "outputs": [
    {
     "data": {
      "text/plain": [
       "(250,)"
      ]
     },
     "execution_count": 24,
     "metadata": {},
     "output_type": "execute_result"
    }
   ],
   "source": [
    "data_train['Model'].unique().shape"
   ]
  },
  {
   "cell_type": "markdown",
   "metadata": {},
   "source": [
    "**Моделей представлено 250 видов** \n",
    "\n",
    "**Ревьюеру(к сожалению, рассмотреть распределение такого количества значений не знаю как показать)**"
   ]
  },
  {
   "cell_type": "code",
   "execution_count": 25,
   "metadata": {},
   "outputs": [
    {
     "name": "stdout",
     "output_type": "stream",
     "text": [
      "petrol      199467\n",
      "gasoline     78847\n",
      "lpg           4309\n",
      "cng            444\n",
      "hybrid         194\n",
      "other          156\n",
      "electric        75\n",
      "Name: FuelType, dtype: int64\n"
     ]
    },
    {
     "data": {
      "image/png": "[encoded data removed]",
      "text/plain": [
       "<Figure size 720x576 with 1 Axes>"
      ]
     },
     "metadata": {
      "needs_background": "light"
     },
     "output_type": "display_data"
    }
   ],
   "source": [
    "print(data_train['FuelType'].value_counts().sort_values(ascending=False))\n",
    "plt.figure(figsize=(10, 8))\n",
    "plt.bar(data_train['FuelType'].unique(), data_train['FuelType'].value_counts().sort_values(ascending=False))\n",
    "plt.xlabel('Значения столбца FuelType', fontsize=14)\n",
    "plt.ylabel('Частота', fontsize=14)\n",
    "plt.title('Распределение столбца FuelType', fontsize=14)\n",
    "plt.show()"
   ]
  },
  {
   "cell_type": "markdown",
   "metadata": {},
   "source": [
    "**Для большинсва автомобилей используют бензин и газ, остальные виды топлива не так популярны.**"
   ]
  },
  {
   "cell_type": "code",
   "execution_count": 26,
   "metadata": {},
   "outputs": [
    {
     "data": {
      "text/plain": [
       "(40,)"
      ]
     },
     "execution_count": 26,
     "metadata": {},
     "output_type": "execute_result"
    }
   ],
   "source": [
    "data_train['Brand'].unique().shape"
   ]
  },
  {
   "cell_type": "markdown",
   "metadata": {},
   "source": [
    "**Марок автомобилей, выставленных на продажу, составило 40 видов**"
   ]
  },
  {
   "cell_type": "code",
   "execution_count": 27,
   "metadata": {},
   "outputs": [
    {
     "data": {
      "image/png": "[encoded data removed]",
      "text/plain": [
       "<Figure size 864x648 with 1 Axes>"
      ]
     },
     "metadata": {},
     "output_type": "display_data"
    }
   ],
   "source": [
    "categorical_features(data_train, 'Repaired')"
   ]
  },
  {
   "cell_type": "markdown",
   "metadata": {},
   "source": [
    "**Почти 90% автомобилей не нуждались в ремонте к моменту продажи.**"
   ]
  },
  {
   "cell_type": "code",
   "execution_count": 28,
   "metadata": {},
   "outputs": [
    {
     "data": {
      "image/png": "[encoded data removed]",
      "text/plain": [
       "<Figure size 720x576 with 1 Axes>"
      ]
     },
     "metadata": {
      "needs_background": "light"
     },
     "output_type": "display_data"
    }
   ],
   "source": [
    "plt.figure(figsize=(10, 8))\n",
    "plt.hist(data_train['Price'], bins=75)\n",
    "plt.xlabel('Значения столбца Price', fontsize=14)\n",
    "plt.ylabel('Частота', fontsize=14)\n",
    "plt.title('Распределение столбца Price', fontsize=14)\n",
    "plt.show()"
   ]
  },
  {
   "cell_type": "markdown",
   "metadata": {},
   "source": [
    "**Основная масса автомобилей выставлена на продажу со стоимостью до 5000 евро. Но и автмобилей со стоимостью в 20000 евро тоже достаточно.**"
   ]
  },
  {
   "cell_type": "code",
   "execution_count": 29,
   "metadata": {},
   "outputs": [
    {
     "data": {
      "image/png": "[encoded data removed]",
      "text/plain": [
       "<Figure size 864x648 with 1 Axes>"
      ]
     },
     "metadata": {
      "needs_background": "light"
     },
     "output_type": "display_data"
    }
   ],
   "source": [
    "numeric_features(data_train[data_train['Power'] < 500], 'Power', 50)"
   ]
  },
  {
   "cell_type": "markdown",
   "metadata": {},
   "source": [
    "**Около 40000 экземляров имеют нулевую мощность, но такого не может быть. Данные значения подлежат корректировке.**"
   ]
  },
  {
   "cell_type": "code",
   "execution_count": 30,
   "metadata": {},
   "outputs": [
    {
     "data": {
      "text/plain": [
       "150000    190688\n",
       "125000     29112\n",
       "100000     11857\n",
       "90000       9262\n",
       "80000       8078\n",
       "70000       6886\n",
       "60000       5966\n",
       "5000        5090\n",
       "50000       4999\n",
       "40000       3895\n",
       "30000       3561\n",
       "20000       3122\n",
       "10000        976\n",
       "Name: Kilometer, dtype: int64"
      ]
     },
     "execution_count": 30,
     "metadata": {},
     "output_type": "execute_result"
    }
   ],
   "source": [
    "data_train['Kilometer'].value_counts()"
   ]
  },
  {
   "cell_type": "code",
   "execution_count": 31,
   "metadata": {},
   "outputs": [
    {
     "data": {
      "image/png": "[encoded data removed]",
      "text/plain": [
       "<Figure size 864x648 with 1 Axes>"
      ]
     },
     "metadata": {
      "needs_background": "light"
     },
     "output_type": "display_data"
    }
   ],
   "source": [
    "numeric_features(data_train, 'Kilometer', 10)"
   ]
  },
  {
   "cell_type": "markdown",
   "metadata": {},
   "source": [
    "**Около 240 тыс. автомобилей имеют пробег 150000 км, возможно продажи происходят по мере изношенности.**"
   ]
  },
  {
   "cell_type": "code",
   "execution_count": 32,
   "metadata": {},
   "outputs": [
    {
     "data": {
      "image/png": "[encoded data removed]",
      "text/plain": [
       "<Figure size 864x648 with 1 Axes>"
      ]
     },
     "metadata": {
      "needs_background": "light"
     },
     "output_type": "display_data"
    }
   ],
   "source": [
    "numeric_features(data_train, 'RegistrationMonth', 30)"
   ]
  },
  {
   "cell_type": "markdown",
   "metadata": {},
   "source": [
    "**Сразу видно наличие как и 0 так и 12 месяца, но скорее всего не корректным значением будет 0 месяц, такие значения нужно будет исправлять. Наибольшую частоту регистрации можно заметить с 3 по 7 месяц, иначе с марта по июль, но особо выраженного фактора сезонности не наблюдается.**"
   ]
  },
  {
   "cell_type": "code",
   "execution_count": 33,
   "metadata": {},
   "outputs": [
    {
     "data": {
      "text/html": [
       "<div>\n",
       "<style scoped>\n",
       "    .dataframe tbody tr th:only-of-type {\n",
       "        vertical-align: middle;\n",
       "    }\n",
       "\n",
       "    .dataframe tbody tr th {\n",
       "        vertical-align: top;\n",
       "    }\n",
       "\n",
       "    .dataframe thead th {\n",
       "        text-align: right;\n",
       "    }\n",
       "</style>\n",
       "<table border=\"1\" class=\"dataframe\">\n",
       "  <thead>\n",
       "    <tr style=\"text-align: right;\">\n",
       "      <th></th>\n",
       "      <th>DateCrawled</th>\n",
       "      <th>Price</th>\n",
       "      <th>VehicleType</th>\n",
       "      <th>RegistrationYear</th>\n",
       "      <th>Gearbox</th>\n",
       "      <th>Power</th>\n",
       "      <th>Model</th>\n",
       "      <th>Kilometer</th>\n",
       "      <th>RegistrationMonth</th>\n",
       "      <th>FuelType</th>\n",
       "      <th>Brand</th>\n",
       "      <th>Repaired</th>\n",
       "      <th>DateCreated</th>\n",
       "      <th>NumberOfPictures</th>\n",
       "      <th>PostalCode</th>\n",
       "      <th>LastSeen</th>\n",
       "    </tr>\n",
       "  </thead>\n",
       "  <tbody>\n",
       "  </tbody>\n",
       "</table>\n",
       "</div>"
      ],
      "text/plain": [
       "Empty DataFrame\n",
       "Columns: [DateCrawled, Price, VehicleType, RegistrationYear, Gearbox, Power, Model, Kilometer, RegistrationMonth, FuelType, Brand, Repaired, DateCreated, NumberOfPictures, PostalCode, LastSeen]\n",
       "Index: []"
      ]
     },
     "execution_count": 33,
     "metadata": {},
     "output_type": "execute_result"
    }
   ],
   "source": [
    "data_train[data_train['NumberOfPictures'] != 0]"
   ]
  },
  {
   "cell_type": "markdown",
   "metadata": {},
   "source": [
    "**Столбец определяющий количество фотографий автомобиля имеет одни 0 и является не информативным, в дальнейшем его можно будет удалить.**"
   ]
  },
  {
   "cell_type": "code",
   "execution_count": 34,
   "metadata": {},
   "outputs": [
    {
     "data": {
      "image/png": "[encoded data removed]",
      "text/plain": [
       "<Figure size 864x648 with 1 Axes>"
      ]
     },
     "metadata": {
      "needs_background": "light"
     },
     "output_type": "display_data"
    }
   ],
   "source": [
    "(numeric_features(data_train[(data_train['RegistrationYear'] < 2024) &\n",
    "                            (data_train['RegistrationYear'] > 1960)], 'RegistrationYear', 50))"
   ]
  },
  {
   "cell_type": "code",
   "execution_count": 35,
   "metadata": {},
   "outputs": [
    {
     "data": {
      "text/plain": [
       "(427, 16)"
      ]
     },
     "execution_count": 35,
     "metadata": {},
     "output_type": "execute_result"
    }
   ],
   "source": [
    "data_train[(data_train['RegistrationYear'] > 2024) | (data_train['RegistrationYear'] < 1960)].shape"
   ]
  },
  {
   "cell_type": "markdown",
   "metadata": {},
   "source": [
    "**В датасете наблюдаются строки, которые содержат год регистрации автомобиля более действительного года(2024), что является не корректным, сильно давний срок регистрации также можно убрать из датасета в дальнейшем. Чаще всего регистрация происходила с 1995 по 2013 год**"
   ]
  },
  {
   "cell_type": "markdown",
   "metadata": {},
   "source": [
    "### Анализ признаков содержащих даты"
   ]
  },
  {
   "cell_type": "code",
   "execution_count": 36,
   "metadata": {},
   "outputs": [],
   "source": [
    "data_train['DateCrawled'] = pd.to_datetime(data_train['DateCrawled'])\n",
    "data_train['DateCreated'] = pd.to_datetime(data_train['DateCreated'])\n",
    "data_train['LastSeen'] = pd.to_datetime(data_train['LastSeen'])"
   ]
  },
  {
   "cell_type": "markdown",
   "metadata": {},
   "source": [
    "**Изменим тип столбцов, которые содержат дату для корректной работы с данными столбцами.**"
   ]
  },
  {
   "cell_type": "code",
   "execution_count": 37,
   "metadata": {},
   "outputs": [
    {
     "data": {
      "text/plain": [
       "count                  283492\n",
       "unique                 229409\n",
       "top       2016-03-19 21:49:56\n",
       "freq                        6\n",
       "first     2016-03-05 14:06:22\n",
       "last      2016-04-07 14:36:58\n",
       "Name: DateCrawled, dtype: object"
      ]
     },
     "execution_count": 37,
     "metadata": {},
     "output_type": "execute_result"
    }
   ],
   "source": [
    "data_train['DateCrawled'].describe()"
   ]
  },
  {
   "cell_type": "code",
   "execution_count": 38,
   "metadata": {},
   "outputs": [],
   "source": [
    "data_d = pd.DataFrame()\n",
    "data_d['Month'] = data_train['DateCrawled'].dt.month\n",
    "data_d['Day'] = data_train['DateCrawled'].dt.day_name()"
   ]
  },
  {
   "cell_type": "code",
   "execution_count": 39,
   "metadata": {},
   "outputs": [
    {
     "data": {
      "image/png": "[encoded data removed]",
      "text/plain": [
       "<Figure size 720x504 with 2 Axes>"
      ]
     },
     "metadata": {
      "needs_background": "light"
     },
     "output_type": "display_data"
    }
   ],
   "source": [
    "# Построение heatmap по часам и дням\n",
    "plt.figure(figsize=(10,7))\n",
    "heatmap_data = data_d.groupby(['Day', 'Month']).size().unstack()\n",
    "sns.heatmap(heatmap_data, cmap='YlGnBu')\n",
    "plt.title('Распределение по дням и месяцам')\n",
    "plt.show()"
   ]
  },
  {
   "cell_type": "markdown",
   "metadata": {},
   "source": [
    "**По выведенной информации о столбце, которые содержит дату скачивания анкеты из базы можно сказать, чаще всего скачивали анкету в понедельник и вторник в марте, реже всего в апреле в среду и четверг.**"
   ]
  },
  {
   "cell_type": "code",
   "execution_count": 40,
   "metadata": {},
   "outputs": [
    {
     "data": {
      "text/plain": [
       "count                  283492\n",
       "unique                    106\n",
       "top       2016-04-03 00:00:00\n",
       "freq                    11006\n",
       "first     2014-03-10 00:00:00\n",
       "last      2016-04-07 00:00:00\n",
       "Name: DateCreated, dtype: object"
      ]
     },
     "execution_count": 40,
     "metadata": {},
     "output_type": "execute_result"
    }
   ],
   "source": [
    "data_train['DateCreated'].describe()"
   ]
  },
  {
   "cell_type": "code",
   "execution_count": 41,
   "metadata": {},
   "outputs": [],
   "source": [
    "data_d['Month_created'] = data_train['DateCreated'].dt.month\n",
    "data_d['Day_created'] = data_train['DateCreated'].dt.day_name()"
   ]
  },
  {
   "cell_type": "code",
   "execution_count": 42,
   "metadata": {},
   "outputs": [
    {
     "data": {
      "image/png": "[encoded data removed]",
      "text/plain": [
       "<Figure size 720x504 with 2 Axes>"
      ]
     },
     "metadata": {
      "needs_background": "light"
     },
     "output_type": "display_data"
    }
   ],
   "source": [
    "# Построение heatmap по часам и дням\n",
    "plt.figure(figsize=(10,7))\n",
    "heatmap_data = data_d.groupby(['Day_created', 'Month_created']).size().unstack()\n",
    "sns.heatmap(heatmap_data, cmap='YlGnBu')\n",
    "plt.title('Распределение по дням и часам')\n",
    "plt.show()"
   ]
  },
  {
   "cell_type": "markdown",
   "metadata": {},
   "source": [
    "**В этой части выведена интерпретация данных о дате создания анкеты. Получаем, что чаще всего создают анкеты в марте во вторник, а реже всего в августе, практические во все дни недели.**"
   ]
  },
  {
   "cell_type": "code",
   "execution_count": 43,
   "metadata": {},
   "outputs": [
    {
     "data": {
      "text/plain": [
       "count                  283492\n",
       "unique                 152368\n",
       "top       2016-04-06 09:17:58\n",
       "freq                       16\n",
       "first     2016-03-05 14:15:08\n",
       "last      2016-04-07 14:58:51\n",
       "Name: LastSeen, dtype: object"
      ]
     },
     "execution_count": 43,
     "metadata": {},
     "output_type": "execute_result"
    }
   ],
   "source": [
    "data_train['LastSeen'].describe()"
   ]
  },
  {
   "cell_type": "code",
   "execution_count": 44,
   "metadata": {},
   "outputs": [],
   "source": [
    "data_d['Month_LastSeen'] = data_train['LastSeen'].dt.month\n",
    "data_d['Day_LastSeen'] = data_train['LastSeen'].dt.day_name()"
   ]
  },
  {
   "cell_type": "code",
   "execution_count": 45,
   "metadata": {},
   "outputs": [
    {
     "data": {
      "image/png": "[encoded data removed]",
      "text/plain": [
       "<Figure size 720x504 with 2 Axes>"
      ]
     },
     "metadata": {
      "needs_background": "light"
     },
     "output_type": "display_data"
    }
   ],
   "source": [
    "# Построение heatmap по часам и дням\n",
    "plt.figure(figsize=(10,7))\n",
    "heatmap_data = data_d.groupby(['Day_LastSeen', 'Month_LastSeen']).size().unstack()\n",
    "sns.heatmap(heatmap_data, cmap='YlGnBu')\n",
    "plt.title('Распределение по дням и часам')\n",
    "plt.show()"
   ]
  },
  {
   "cell_type": "markdown",
   "metadata": {},
   "source": [
    "**Теперь разберем информацию о активностях пользователя в сервисе продаж. В основном последняя активность пользователей была по средам в апреле, а меньше всего также в апреле в субботу, воскресенье, понедельник, пятницу.**"
   ]
  },
  {
   "cell_type": "markdown",
   "metadata": {},
   "source": [
    "### Корректировка данных"
   ]
  },
  {
   "cell_type": "code",
   "execution_count": 46,
   "metadata": {},
   "outputs": [],
   "source": [
    "(data_train.drop(['NumberOfPictures', 'PostalCode', 'DateCrawled', 'LastSeen',\n",
    "           'DateCreated', 'RegistrationMonth'], axis=1, inplace=True))\n",
    "(data_test.drop(['NumberOfPictures', 'PostalCode', 'DateCrawled', 'LastSeen',\n",
    "           'DateCreated', 'RegistrationMonth'], axis=1, inplace=True))"
   ]
  },
  {
   "cell_type": "markdown",
   "metadata": {},
   "source": [
    "Удалим не нужные столбцы:\n",
    "\n",
    "\n",
    "**NumberOfPictures - содержит одни нули, поэтому является не информативным столбцом.**\n",
    "\n",
    "**PostalCode - почтовый индекс владельца вряд ли может влиять на цену автомобиля**\n",
    "\n",
    "**DateCrawled, LastSeen, DateCreated  -  представленные даты тоже вряд ли могут влиять на цену автомобиля, цель предсказать которую нам необходимо.**\n",
    "\n",
    "**RegistrationMonth - так как особой сезонности в регистрации автомобилей мы не увидели, а дистация по годам достаточно большая, то больше информации дадут именно года. а не месяцы. К тому же в данном столбце около 40000 значений с 0 месяцем, удалять нельзя, так как пропадет много строк, поэтому легче избавиться от всего столбца.**"
   ]
  },
  {
   "cell_type": "code",
   "execution_count": 47,
   "metadata": {},
   "outputs": [
    {
     "data": {
      "text/html": [
       "<div>\n",
       "<style scoped>\n",
       "    .dataframe tbody tr th:only-of-type {\n",
       "        vertical-align: middle;\n",
       "    }\n",
       "\n",
       "    .dataframe tbody tr th {\n",
       "        vertical-align: top;\n",
       "    }\n",
       "\n",
       "    .dataframe thead th {\n",
       "        text-align: right;\n",
       "    }\n",
       "</style>\n",
       "<table border=\"1\" class=\"dataframe\">\n",
       "  <thead>\n",
       "    <tr style=\"text-align: right;\">\n",
       "      <th></th>\n",
       "      <th>Price</th>\n",
       "      <th>VehicleType</th>\n",
       "      <th>RegistrationYear</th>\n",
       "      <th>Gearbox</th>\n",
       "      <th>Power</th>\n",
       "      <th>Model</th>\n",
       "      <th>Kilometer</th>\n",
       "      <th>FuelType</th>\n",
       "      <th>Brand</th>\n",
       "      <th>Repaired</th>\n",
       "    </tr>\n",
       "  </thead>\n",
       "  <tbody>\n",
       "    <tr>\n",
       "      <th>107156</th>\n",
       "      <td>16780</td>\n",
       "      <td>suv</td>\n",
       "      <td>2009</td>\n",
       "      <td>manual</td>\n",
       "      <td>140</td>\n",
       "      <td>tiguan</td>\n",
       "      <td>90000</td>\n",
       "      <td>gasoline</td>\n",
       "      <td>volkswagen</td>\n",
       "      <td>yes</td>\n",
       "    </tr>\n",
       "    <tr>\n",
       "      <th>20206</th>\n",
       "      <td>9100</td>\n",
       "      <td>coupe</td>\n",
       "      <td>1987</td>\n",
       "      <td>manual</td>\n",
       "      <td>160</td>\n",
       "      <td>other</td>\n",
       "      <td>150000</td>\n",
       "      <td>petrol</td>\n",
       "      <td>porsche</td>\n",
       "      <td>no</td>\n",
       "    </tr>\n",
       "    <tr>\n",
       "      <th>287570</th>\n",
       "      <td>9999</td>\n",
       "      <td>coupe</td>\n",
       "      <td>1968</td>\n",
       "      <td>manual</td>\n",
       "      <td>94</td>\n",
       "      <td>other</td>\n",
       "      <td>30000</td>\n",
       "      <td>petrol</td>\n",
       "      <td>porsche</td>\n",
       "      <td>no</td>\n",
       "    </tr>\n",
       "    <tr>\n",
       "      <th>323736</th>\n",
       "      <td>2500</td>\n",
       "      <td>convertible</td>\n",
       "      <td>2001</td>\n",
       "      <td>manual</td>\n",
       "      <td>147</td>\n",
       "      <td>astra</td>\n",
       "      <td>150000</td>\n",
       "      <td>petrol</td>\n",
       "      <td>opel</td>\n",
       "      <td>no</td>\n",
       "    </tr>\n",
       "    <tr>\n",
       "      <th>233344</th>\n",
       "      <td>600</td>\n",
       "      <td>sedan</td>\n",
       "      <td>2000</td>\n",
       "      <td>manual</td>\n",
       "      <td>193</td>\n",
       "      <td>5er</td>\n",
       "      <td>150000</td>\n",
       "      <td>petrol</td>\n",
       "      <td>bmw</td>\n",
       "      <td>no</td>\n",
       "    </tr>\n",
       "  </tbody>\n",
       "</table>\n",
       "</div>"
      ],
      "text/plain": [
       "        Price  VehicleType  RegistrationYear Gearbox  Power   Model  \\\n",
       "107156  16780          suv              2009  manual    140  tiguan   \n",
       "20206    9100        coupe              1987  manual    160   other   \n",
       "287570   9999        coupe              1968  manual     94   other   \n",
       "323736   2500  convertible              2001  manual    147   astra   \n",
       "233344    600        sedan              2000  manual    193     5er   \n",
       "\n",
       "        Kilometer  FuelType       Brand Repaired  \n",
       "107156      90000  gasoline  volkswagen      yes  \n",
       "20206      150000    petrol     porsche       no  \n",
       "287570      30000    petrol     porsche       no  \n",
       "323736     150000    petrol        opel       no  \n",
       "233344     150000    petrol         bmw       no  "
      ]
     },
     "execution_count": 47,
     "metadata": {},
     "output_type": "execute_result"
    }
   ],
   "source": [
    "data_train.head()"
   ]
  },
  {
   "cell_type": "code",
   "execution_count": 48,
   "metadata": {},
   "outputs": [
    {
     "data": {
      "text/html": [
       "<div>\n",
       "<style scoped>\n",
       "    .dataframe tbody tr th:only-of-type {\n",
       "        vertical-align: middle;\n",
       "    }\n",
       "\n",
       "    .dataframe tbody tr th {\n",
       "        vertical-align: top;\n",
       "    }\n",
       "\n",
       "    .dataframe thead th {\n",
       "        text-align: right;\n",
       "    }\n",
       "</style>\n",
       "<table border=\"1\" class=\"dataframe\">\n",
       "  <thead>\n",
       "    <tr style=\"text-align: right;\">\n",
       "      <th></th>\n",
       "      <th>Price</th>\n",
       "      <th>VehicleType</th>\n",
       "      <th>RegistrationYear</th>\n",
       "      <th>Gearbox</th>\n",
       "      <th>Power</th>\n",
       "      <th>Model</th>\n",
       "      <th>Kilometer</th>\n",
       "      <th>FuelType</th>\n",
       "      <th>Brand</th>\n",
       "      <th>Repaired</th>\n",
       "    </tr>\n",
       "  </thead>\n",
       "  <tbody>\n",
       "    <tr>\n",
       "      <th>294049</th>\n",
       "      <td>19999</td>\n",
       "      <td>wagon</td>\n",
       "      <td>2014</td>\n",
       "      <td>manual</td>\n",
       "      <td>122</td>\n",
       "      <td>leon</td>\n",
       "      <td>30000</td>\n",
       "      <td>petrol</td>\n",
       "      <td>seat</td>\n",
       "      <td>no</td>\n",
       "    </tr>\n",
       "    <tr>\n",
       "      <th>76415</th>\n",
       "      <td>14250</td>\n",
       "      <td>wagon</td>\n",
       "      <td>2011</td>\n",
       "      <td>manual</td>\n",
       "      <td>140</td>\n",
       "      <td>a3</td>\n",
       "      <td>70000</td>\n",
       "      <td>gasoline</td>\n",
       "      <td>audi</td>\n",
       "      <td>no</td>\n",
       "    </tr>\n",
       "    <tr>\n",
       "      <th>212563</th>\n",
       "      <td>2850</td>\n",
       "      <td>wagon</td>\n",
       "      <td>2001</td>\n",
       "      <td>manual</td>\n",
       "      <td>131</td>\n",
       "      <td>passat</td>\n",
       "      <td>150000</td>\n",
       "      <td>gasoline</td>\n",
       "      <td>volkswagen</td>\n",
       "      <td>no</td>\n",
       "    </tr>\n",
       "    <tr>\n",
       "      <th>109307</th>\n",
       "      <td>50</td>\n",
       "      <td>small</td>\n",
       "      <td>1996</td>\n",
       "      <td>manual</td>\n",
       "      <td>60</td>\n",
       "      <td>corsa</td>\n",
       "      <td>150000</td>\n",
       "      <td>petrol</td>\n",
       "      <td>opel</td>\n",
       "      <td>yes</td>\n",
       "    </tr>\n",
       "    <tr>\n",
       "      <th>248545</th>\n",
       "      <td>500</td>\n",
       "      <td>sedan</td>\n",
       "      <td>2016</td>\n",
       "      <td>manual</td>\n",
       "      <td>82</td>\n",
       "      <td>a_klasse</td>\n",
       "      <td>150000</td>\n",
       "      <td>petrol</td>\n",
       "      <td>mercedes_benz</td>\n",
       "      <td>no</td>\n",
       "    </tr>\n",
       "  </tbody>\n",
       "</table>\n",
       "</div>"
      ],
      "text/plain": [
       "        Price VehicleType  RegistrationYear Gearbox  Power     Model  \\\n",
       "294049  19999       wagon              2014  manual    122      leon   \n",
       "76415   14250       wagon              2011  manual    140        a3   \n",
       "212563   2850       wagon              2001  manual    131    passat   \n",
       "109307     50       small              1996  manual     60     corsa   \n",
       "248545    500       sedan              2016  manual     82  a_klasse   \n",
       "\n",
       "        Kilometer  FuelType          Brand Repaired  \n",
       "294049      30000    petrol           seat       no  \n",
       "76415       70000  gasoline           audi       no  \n",
       "212563     150000  gasoline     volkswagen       no  \n",
       "109307     150000    petrol           opel      yes  \n",
       "248545     150000    petrol  mercedes_benz       no  "
      ]
     },
     "execution_count": 48,
     "metadata": {},
     "output_type": "execute_result"
    }
   ],
   "source": [
    "data_test.head()"
   ]
  },
  {
   "cell_type": "code",
   "execution_count": 49,
   "metadata": {},
   "outputs": [],
   "source": [
    "#Корректировка признака Power тренировочной выборки\n",
    "data_train = data_train[data_train['Power'] < 1000]\n",
    "data_train['Power'] = data_train['Power'].replace(0, data_train[data_train['Power'] != 0]['Power'].mean())\n",
    "data_train = data_train[data_train['Power'] > 40]\n",
    "#Корректировка признака Power тестовой выборки\n",
    "data_test = data_test[data_test['Power'] < 1000]\n",
    "data_test['Power'] = data_test['Power'].replace(0, data_test[data_test['Power'] != 0]['Power'].mean())\n",
    "data_test = data_test[data_test['Power'] > 40]"
   ]
  },
  {
   "cell_type": "code",
   "execution_count": 50,
   "metadata": {},
   "outputs": [
    {
     "name": "stdout",
     "output_type": "stream",
     "text": [
      "(281845, 10)\n"
     ]
    },
    {
     "data": {
      "text/plain": [
       "(70460, 10)"
      ]
     },
     "execution_count": 50,
     "metadata": {},
     "output_type": "execute_result"
    }
   ],
   "source": [
    "print(data_train.shape)\n",
    "data_test.shape"
   ]
  },
  {
   "cell_type": "markdown",
   "metadata": {},
   "source": [
    "**Оставляем в датафрейме только те автомобили мощность которых меньше 1000 и больше 40 л.с.**"
   ]
  },
  {
   "cell_type": "code",
   "execution_count": 51,
   "metadata": {},
   "outputs": [
    {
     "data": {
      "text/plain": [
       "array([2016])"
      ]
     },
     "execution_count": 51,
     "metadata": {},
     "output_type": "execute_result"
    }
   ],
   "source": [
    "pd.to_datetime(data['DateCrawled']).dt.year.unique()"
   ]
  },
  {
   "cell_type": "code",
   "execution_count": 52,
   "metadata": {},
   "outputs": [
    {
     "name": "stdout",
     "output_type": "stream",
     "text": [
      "(281845, 10)\n"
     ]
    },
    {
     "data": {
      "text/plain": [
       "(70460, 10)"
      ]
     },
     "execution_count": 52,
     "metadata": {},
     "output_type": "execute_result"
    }
   ],
   "source": [
    "print(data_train.shape)\n",
    "data_test.shape"
   ]
  },
  {
   "cell_type": "code",
   "execution_count": 53,
   "metadata": {},
   "outputs": [],
   "source": [
    "data_train = data_train[(data_train['RegistrationYear'] < 2016) & (data_train['RegistrationYear'] > 1960)]\n",
    "data_test = data_test[(data_test['RegistrationYear'] < 2016) & (data_test['RegistrationYear'] > 1960)]"
   ]
  },
  {
   "cell_type": "code",
   "execution_count": 54,
   "metadata": {},
   "outputs": [
    {
     "name": "stdout",
     "output_type": "stream",
     "text": [
      "(262247, 10)\n"
     ]
    },
    {
     "data": {
      "text/plain": [
       "(65568, 10)"
      ]
     },
     "execution_count": 54,
     "metadata": {},
     "output_type": "execute_result"
    }
   ],
   "source": [
    "print(data_train.shape)\n",
    "data_test.shape"
   ]
  },
  {
   "cell_type": "code",
   "execution_count": 55,
   "metadata": {},
   "outputs": [
    {
     "name": "stdout",
     "output_type": "stream",
     "text": [
      "(7299, 10)\n"
     ]
    },
    {
     "data": {
      "text/plain": [
       "(1875, 10)"
      ]
     },
     "execution_count": 55,
     "metadata": {},
     "output_type": "execute_result"
    }
   ],
   "source": [
    "print(data_train[data_train['Price'] == 0].shape)\n",
    "data_test[data_test['Price'] == 0].shape"
   ]
  },
  {
   "cell_type": "code",
   "execution_count": 56,
   "metadata": {},
   "outputs": [],
   "source": [
    "data_train = data_train[data_train['Price'] != 0]\n",
    "data_test = data_test[data_test['Price'] != 0]"
   ]
  },
  {
   "cell_type": "code",
   "execution_count": 57,
   "metadata": {},
   "outputs": [
    {
     "name": "stdout",
     "output_type": "stream",
     "text": [
      "35631\n"
     ]
    },
    {
     "data": {
      "text/plain": [
       "3122"
      ]
     },
     "execution_count": 57,
     "metadata": {},
     "output_type": "execute_result"
    }
   ],
   "source": [
    "print(data_train.duplicated().sum())\n",
    "data_test.duplicated().sum()"
   ]
  },
  {
   "cell_type": "markdown",
   "metadata": {},
   "source": [
    "**После корректировки данных появились дубликаты, удалим их.**"
   ]
  },
  {
   "cell_type": "code",
   "execution_count": 58,
   "metadata": {},
   "outputs": [],
   "source": [
    "data_train = data_train.drop_duplicates()"
   ]
  },
  {
   "cell_type": "code",
   "execution_count": 59,
   "metadata": {},
   "outputs": [
    {
     "data": {
      "text/plain": [
       "20.136919425796272"
      ]
     },
     "execution_count": 59,
     "metadata": {},
     "output_type": "execute_result"
    }
   ],
   "source": [
    "shape_end = data_train.shape[0] + data_test.shape[0]\n",
    "((data.shape[0] - shape_end) / data.shape[0]) * 100"
   ]
  },
  {
   "cell_type": "markdown",
   "metadata": {},
   "source": [
    "### Подготовка данных"
   ]
  },
  {
   "cell_type": "code",
   "execution_count": 60,
   "metadata": {},
   "outputs": [],
   "source": [
    "#Формирование групп признаков\n",
    "RANDOM_STATE = 42\n",
    "num_columns = ['Kilometer', 'Power', 'RegistrationYear']\n",
    "ohe_columns = ['Repaired', 'Brand', 'FuelType', 'Gearbox', 'VehicleType', 'Model']\n",
    "ord_columns = ['Repaired', 'Brand', 'FuelType', 'Gearbox', 'VehicleType', 'Model']"
   ]
  },
  {
   "cell_type": "markdown",
   "metadata": {},
   "source": [
    "**В подготовке данных распределим столбцы по категориям. 3 Количественных или числовых и 6 категориальных, причем в каждом столбце нету значений которые были бы выше рангом чем остальные, все значения имеют одинаковую важность, поэтому используем OneHotEncoder кодирование.**"
   ]
  },
  {
   "cell_type": "markdown",
   "metadata": {},
   "source": [
    "**Вывод по первому шагу: По итогу данной части проекта данные были полностью подготовлены для обучения моделей. Обработаны пропущенные значения, по диаграммам распределения значений столбцов определены некоторые недостатки данных, много не корректных значений, которые в дальнейшем также были обработаны, путем заполнения средним, либо удалением столбца с месяцем регистрации автомобиля. А также получены срезы данных по столбцам мощности и года регистрации автомобиля.**"
   ]
  },
  {
   "cell_type": "markdown",
   "metadata": {},
   "source": [
    "## Обучение моделей"
   ]
  },
  {
   "cell_type": "code",
   "execution_count": 61,
   "metadata": {},
   "outputs": [],
   "source": [
    "X_train, X_test = data_train.drop('Price', axis=1), data_test.drop('Price', axis=1)\n",
    "y_train, y_test = data_train['Price'], data_test['Price']"
   ]
  },
  {
   "cell_type": "code",
   "execution_count": 62,
   "metadata": {},
   "outputs": [
    {
     "data": {
      "text/plain": [
       "['Repaired', 'Brand', 'FuelType', 'Gearbox', 'VehicleType', 'Model']"
      ]
     },
     "execution_count": 62,
     "metadata": {},
     "output_type": "execute_result"
    }
   ],
   "source": [
    "ord_columns"
   ]
  },
  {
   "cell_type": "code",
   "execution_count": 63,
   "metadata": {},
   "outputs": [],
   "source": [
    "ord_pipe = Pipeline(\n",
    "                [('simple_Imputer_before_ord',\n",
    "                   SimpleImputer(missing_values=np.nan, strategy='most_frequent')),\n",
    "                 ('ord',\n",
    "                  OrdinalEncoder(categories=[data_train[ord_columns[0]].unique(),\n",
    "                                             data_train[ord_columns[1]].unique(),\n",
    "                                             data_train[ord_columns[2]].unique(),\n",
    "                                             data_train[ord_columns[3]].unique(),\n",
    "                                             data_train[ord_columns[4]].unique(),\n",
    "                                             data_train[ord_columns[5]].unique()\n",
    "                                            ], \n",
    "                                            handle_unknown='use_encoded_value', \n",
    "                                            unknown_value=np.nan)),\n",
    "                 ('simple_Imputer_after_ord',\n",
    "                   SimpleImputer(missing_values=np.nan, strategy='most_frequent'))\n",
    "                ])"
   ]
  },
  {
   "cell_type": "code",
   "execution_count": 64,
   "metadata": {},
   "outputs": [],
   "source": [
    "data_preprocessor = [ColumnTransformer(\n",
    "    transformers=[\n",
    "        ('num', StandardScaler(), num_columns),\n",
    "        ('ord', ord_pipe, ord_columns)\n",
    "    ]\n",
    "), \n",
    "                     ColumnTransformer(\n",
    "    transformers=[\n",
    "        ('num', StandardScaler(), num_columns),\n",
    "        ('ohe', OneHotEncoder(drop='first', handle_unknown='ignore', sparse_output=False), ohe_columns)\n",
    "    ]\n",
    ")]"
   ]
  },
  {
   "cell_type": "markdown",
   "metadata": {},
   "source": [
    "### Линейная регрессия"
   ]
  },
  {
   "cell_type": "code",
   "execution_count": 65,
   "metadata": {},
   "outputs": [],
   "source": [
    "pipeline_linear = Pipeline(steps=[\n",
    "    ('preprocessor', data_preprocessor[1]),\n",
    "    ('regressor', LinearRegression())\n",
    "])"
   ]
  },
  {
   "cell_type": "code",
   "execution_count": 66,
   "metadata": {},
   "outputs": [
    {
     "data": {
      "text/html": [
       "<style>#sk-container-id-1 {\n",
       "  /* Definition of color scheme common for light and dark mode */\n",
       "  --sklearn-color-text: black;\n",
       "  --sklearn-color-line: gray;\n",
       "  /* Definition of color scheme for unfitted estimators */\n",
       "  --sklearn-color-unfitted-level-0: #fff5e6;\n",
       "  --sklearn-color-unfitted-level-1: #f6e4d2;\n",
       "  --sklearn-color-unfitted-level-2: #ffe0b3;\n",
       "  --sklearn-color-unfitted-level-3: chocolate;\n",
       "  /* Definition of color scheme for fitted estimators */\n",
       "  --sklearn-color-fitted-level-0: #f0f8ff;\n",
       "  --sklearn-color-fitted-level-1: #d4ebff;\n",
       "  --sklearn-color-fitted-level-2: #b3dbfd;\n",
       "  --sklearn-color-fitted-level-3: cornflowerblue;\n",
       "\n",
       "  /* Specific color for light theme */\n",
       "  --sklearn-color-text-on-default-background: var(--sg-text-color, var(--theme-code-foreground, var(--jp-content-font-color1, black)));\n",
       "  --sklearn-color-background: var(--sg-background-color, var(--theme-background, var(--jp-layout-color0, white)));\n",
       "  --sklearn-color-border-box: var(--sg-text-color, var(--theme-code-foreground, var(--jp-content-font-color1, black)));\n",
       "  --sklearn-color-icon: #696969;\n",
       "\n",
       "  @media (prefers-color-scheme: dark) {\n",
       "    /* Redefinition of color scheme for dark theme */\n",
       "    --sklearn-color-text-on-default-background: var(--sg-text-color, var(--theme-code-foreground, var(--jp-content-font-color1, white)));\n",
       "    --sklearn-color-background: var(--sg-background-color, var(--theme-background, var(--jp-layout-color0, #111)));\n",
       "    --sklearn-color-border-box: var(--sg-text-color, var(--theme-code-foreground, var(--jp-content-font-color1, white)));\n",
       "    --sklearn-color-icon: #878787;\n",
       "  }\n",
       "}\n",
       "\n",
       "#sk-container-id-1 {\n",
       "  color: var(--sklearn-color-text);\n",
       "}\n",
       "\n",
       "#sk-container-id-1 pre {\n",
       "  padding: 0;\n",
       "}\n",
       "\n",
       "#sk-container-id-1 input.sk-hidden--visually {\n",
       "  border: 0;\n",
       "  clip: rect(1px 1px 1px 1px);\n",
       "  clip: rect(1px, 1px, 1px, 1px);\n",
       "  height: 1px;\n",
       "  margin: -1px;\n",
       "  overflow: hidden;\n",
       "  padding: 0;\n",
       "  position: absolute;\n",
       "  width: 1px;\n",
       "}\n",
       "\n",
       "#sk-container-id-1 div.sk-dashed-wrapped {\n",
       "  border: 1px dashed var(--sklearn-color-line);\n",
       "  margin: 0 0.4em 0.5em 0.4em;\n",
       "  box-sizing: border-box;\n",
       "  padding-bottom: 0.4em;\n",
       "  background-color: var(--sklearn-color-background);\n",
       "}\n",
       "\n",
       "#sk-container-id-1 div.sk-container {\n",
       "  /* jupyter's `normalize.less` sets `[hidden] { display: none; }`\n",
       "     but bootstrap.min.css set `[hidden] { display: none !important; }`\n",
       "     so we also need the `!important` here to be able to override the\n",
       "     default hidden behavior on the sphinx rendered scikit-learn.org.\n",
       "     See: https://github.com/scikit-learn/scikit-learn/issues/21755 */\n",
       "  display: inline-block !important;\n",
       "  position: relative;\n",
       "}\n",
       "\n",
       "#sk-container-id-1 div.sk-text-repr-fallback {\n",
       "  display: none;\n",
       "}\n",
       "\n",
       "div.sk-parallel-item,\n",
       "div.sk-serial,\n",
       "div.sk-item {\n",
       "  /* draw centered vertical line to link estimators */\n",
       "  background-image: linear-gradient(var(--sklearn-color-text-on-default-background), var(--sklearn-color-text-on-default-background));\n",
       "  background-size: 2px 100%;\n",
       "  background-repeat: no-repeat;\n",
       "  background-position: center center;\n",
       "}\n",
       "\n",
       "/* Parallel-specific style estimator block */\n",
       "\n",
       "#sk-container-id-1 div.sk-parallel-item::after {\n",
       "  content: \"\";\n",
       "  width: 100%;\n",
       "  border-bottom: 2px solid var(--sklearn-color-text-on-default-background);\n",
       "  flex-grow: 1;\n",
       "}\n",
       "\n",
       "#sk-container-id-1 div.sk-parallel {\n",
       "  display: flex;\n",
       "  align-items: stretch;\n",
       "  justify-content: center;\n",
       "  background-color: var(--sklearn-color-background);\n",
       "  position: relative;\n",
       "}\n",
       "\n",
       "#sk-container-id-1 div.sk-parallel-item {\n",
       "  display: flex;\n",
       "  flex-direction: column;\n",
       "}\n",
       "\n",
       "#sk-container-id-1 div.sk-parallel-item:first-child::after {\n",
       "  align-self: flex-end;\n",
       "  width: 50%;\n",
       "}\n",
       "\n",
       "#sk-container-id-1 div.sk-parallel-item:last-child::after {\n",
       "  align-self: flex-start;\n",
       "  width: 50%;\n",
       "}\n",
       "\n",
       "#sk-container-id-1 div.sk-parallel-item:only-child::after {\n",
       "  width: 0;\n",
       "}\n",
       "\n",
       "/* Serial-specific style estimator block */\n",
       "\n",
       "#sk-container-id-1 div.sk-serial {\n",
       "  display: flex;\n",
       "  flex-direction: column;\n",
       "  align-items: center;\n",
       "  background-color: var(--sklearn-color-background);\n",
       "  padding-right: 1em;\n",
       "  padding-left: 1em;\n",
       "}\n",
       "\n",
       "\n",
       "/* Toggleable style: style used for estimator/Pipeline/ColumnTransformer box that is\n",
       "clickable and can be expanded/collapsed.\n",
       "- Pipeline and ColumnTransformer use this feature and define the default style\n",
       "- Estimators will overwrite some part of the style using the `sk-estimator` class\n",
       "*/\n",
       "\n",
       "/* Pipeline and ColumnTransformer style (default) */\n",
       "\n",
       "#sk-container-id-1 div.sk-toggleable {\n",
       "  /* Default theme specific background. It is overwritten whether we have a\n",
       "  specific estimator or a Pipeline/ColumnTransformer */\n",
       "  background-color: var(--sklearn-color-background);\n",
       "}\n",
       "\n",
       "/* Toggleable label */\n",
       "#sk-container-id-1 label.sk-toggleable__label {\n",
       "  cursor: pointer;\n",
       "  display: block;\n",
       "  width: 100%;\n",
       "  margin-bottom: 0;\n",
       "  padding: 0.5em;\n",
       "  box-sizing: border-box;\n",
       "  text-align: center;\n",
       "}\n",
       "\n",
       "#sk-container-id-1 label.sk-toggleable__label-arrow:before {\n",
       "  /* Arrow on the left of the label */\n",
       "  content: \"▸\";\n",
       "  float: left;\n",
       "  margin-right: 0.25em;\n",
       "  color: var(--sklearn-color-icon);\n",
       "}\n",
       "\n",
       "#sk-container-id-1 label.sk-toggleable__label-arrow:hover:before {\n",
       "  color: var(--sklearn-color-text);\n",
       "}\n",
       "\n",
       "/* Toggleable content - dropdown */\n",
       "\n",
       "#sk-container-id-1 div.sk-toggleable__content {\n",
       "  max-height: 0;\n",
       "  max-width: 0;\n",
       "  overflow: hidden;\n",
       "  text-align: left;\n",
       "  /* unfitted */\n",
       "  background-color: var(--sklearn-color-unfitted-level-0);\n",
       "}\n",
       "\n",
       "#sk-container-id-1 div.sk-toggleable__content.fitted {\n",
       "  /* fitted */\n",
       "  background-color: var(--sklearn-color-fitted-level-0);\n",
       "}\n",
       "\n",
       "#sk-container-id-1 div.sk-toggleable__content pre {\n",
       "  margin: 0.2em;\n",
       "  border-radius: 0.25em;\n",
       "  color: var(--sklearn-color-text);\n",
       "  /* unfitted */\n",
       "  background-color: var(--sklearn-color-unfitted-level-0);\n",
       "}\n",
       "\n",
       "#sk-container-id-1 div.sk-toggleable__content.fitted pre {\n",
       "  /* unfitted */\n",
       "  background-color: var(--sklearn-color-fitted-level-0);\n",
       "}\n",
       "\n",
       "#sk-container-id-1 input.sk-toggleable__control:checked~div.sk-toggleable__content {\n",
       "  /* Expand drop-down */\n",
       "  max-height: 200px;\n",
       "  max-width: 100%;\n",
       "  overflow: auto;\n",
       "}\n",
       "\n",
       "#sk-container-id-1 input.sk-toggleable__control:checked~label.sk-toggleable__label-arrow:before {\n",
       "  content: \"▾\";\n",
       "}\n",
       "\n",
       "/* Pipeline/ColumnTransformer-specific style */\n",
       "\n",
       "#sk-container-id-1 div.sk-label input.sk-toggleable__control:checked~label.sk-toggleable__label {\n",
       "  color: var(--sklearn-color-text);\n",
       "  background-color: var(--sklearn-color-unfitted-level-2);\n",
       "}\n",
       "\n",
       "#sk-container-id-1 div.sk-label.fitted input.sk-toggleable__control:checked~label.sk-toggleable__label {\n",
       "  background-color: var(--sklearn-color-fitted-level-2);\n",
       "}\n",
       "\n",
       "/* Estimator-specific style */\n",
       "\n",
       "/* Colorize estimator box */\n",
       "#sk-container-id-1 div.sk-estimator input.sk-toggleable__control:checked~label.sk-toggleable__label {\n",
       "  /* unfitted */\n",
       "  background-color: var(--sklearn-color-unfitted-level-2);\n",
       "}\n",
       "\n",
       "#sk-container-id-1 div.sk-estimator.fitted input.sk-toggleable__control:checked~label.sk-toggleable__label {\n",
       "  /* fitted */\n",
       "  background-color: var(--sklearn-color-fitted-level-2);\n",
       "}\n",
       "\n",
       "#sk-container-id-1 div.sk-label label.sk-toggleable__label,\n",
       "#sk-container-id-1 div.sk-label label {\n",
       "  /* The background is the default theme color */\n",
       "  color: var(--sklearn-color-text-on-default-background);\n",
       "}\n",
       "\n",
       "/* On hover, darken the color of the background */\n",
       "#sk-container-id-1 div.sk-label:hover label.sk-toggleable__label {\n",
       "  color: var(--sklearn-color-text);\n",
       "  background-color: var(--sklearn-color-unfitted-level-2);\n",
       "}\n",
       "\n",
       "/* Label box, darken color on hover, fitted */\n",
       "#sk-container-id-1 div.sk-label.fitted:hover label.sk-toggleable__label.fitted {\n",
       "  color: var(--sklearn-color-text);\n",
       "  background-color: var(--sklearn-color-fitted-level-2);\n",
       "}\n",
       "\n",
       "/* Estimator label */\n",
       "\n",
       "#sk-container-id-1 div.sk-label label {\n",
       "  font-family: monospace;\n",
       "  font-weight: bold;\n",
       "  display: inline-block;\n",
       "  line-height: 1.2em;\n",
       "}\n",
       "\n",
       "#sk-container-id-1 div.sk-label-container {\n",
       "  text-align: center;\n",
       "}\n",
       "\n",
       "/* Estimator-specific */\n",
       "#sk-container-id-1 div.sk-estimator {\n",
       "  font-family: monospace;\n",
       "  border: 1px dotted var(--sklearn-color-border-box);\n",
       "  border-radius: 0.25em;\n",
       "  box-sizing: border-box;\n",
       "  margin-bottom: 0.5em;\n",
       "  /* unfitted */\n",
       "  background-color: var(--sklearn-color-unfitted-level-0);\n",
       "}\n",
       "\n",
       "#sk-container-id-1 div.sk-estimator.fitted {\n",
       "  /* fitted */\n",
       "  background-color: var(--sklearn-color-fitted-level-0);\n",
       "}\n",
       "\n",
       "/* on hover */\n",
       "#sk-container-id-1 div.sk-estimator:hover {\n",
       "  /* unfitted */\n",
       "  background-color: var(--sklearn-color-unfitted-level-2);\n",
       "}\n",
       "\n",
       "#sk-container-id-1 div.sk-estimator.fitted:hover {\n",
       "  /* fitted */\n",
       "  background-color: var(--sklearn-color-fitted-level-2);\n",
       "}\n",
       "\n",
       "/* Specification for estimator info (e.g. \"i\" and \"?\") */\n",
       "\n",
       "/* Common style for \"i\" and \"?\" */\n",
       "\n",
       ".sk-estimator-doc-link,\n",
       "a:link.sk-estimator-doc-link,\n",
       "a:visited.sk-estimator-doc-link {\n",
       "  float: right;\n",
       "  font-size: smaller;\n",
       "  line-height: 1em;\n",
       "  font-family: monospace;\n",
       "  background-color: var(--sklearn-color-background);\n",
       "  border-radius: 1em;\n",
       "  height: 1em;\n",
       "  width: 1em;\n",
       "  text-decoration: none !important;\n",
       "  margin-left: 1ex;\n",
       "  /* unfitted */\n",
       "  border: var(--sklearn-color-unfitted-level-1) 1pt solid;\n",
       "  color: var(--sklearn-color-unfitted-level-1);\n",
       "}\n",
       "\n",
       ".sk-estimator-doc-link.fitted,\n",
       "a:link.sk-estimator-doc-link.fitted,\n",
       "a:visited.sk-estimator-doc-link.fitted {\n",
       "  /* fitted */\n",
       "  border: var(--sklearn-color-fitted-level-1) 1pt solid;\n",
       "  color: var(--sklearn-color-fitted-level-1);\n",
       "}\n",
       "\n",
       "/* On hover */\n",
       "div.sk-estimator:hover .sk-estimator-doc-link:hover,\n",
       ".sk-estimator-doc-link:hover,\n",
       "div.sk-label-container:hover .sk-estimator-doc-link:hover,\n",
       ".sk-estimator-doc-link:hover {\n",
       "  /* unfitted */\n",
       "  background-color: var(--sklearn-color-unfitted-level-3);\n",
       "  color: var(--sklearn-color-background);\n",
       "  text-decoration: none;\n",
       "}\n",
       "\n",
       "div.sk-estimator.fitted:hover .sk-estimator-doc-link.fitted:hover,\n",
       ".sk-estimator-doc-link.fitted:hover,\n",
       "div.sk-label-container:hover .sk-estimator-doc-link.fitted:hover,\n",
       ".sk-estimator-doc-link.fitted:hover {\n",
       "  /* fitted */\n",
       "  background-color: var(--sklearn-color-fitted-level-3);\n",
       "  color: var(--sklearn-color-background);\n",
       "  text-decoration: none;\n",
       "}\n",
       "\n",
       "/* Span, style for the box shown on hovering the info icon */\n",
       ".sk-estimator-doc-link span {\n",
       "  display: none;\n",
       "  z-index: 9999;\n",
       "  position: relative;\n",
       "  font-weight: normal;\n",
       "  right: .2ex;\n",
       "  padding: .5ex;\n",
       "  margin: .5ex;\n",
       "  width: min-content;\n",
       "  min-width: 20ex;\n",
       "  max-width: 50ex;\n",
       "  color: var(--sklearn-color-text);\n",
       "  box-shadow: 2pt 2pt 4pt #999;\n",
       "  /* unfitted */\n",
       "  background: var(--sklearn-color-unfitted-level-0);\n",
       "  border: .5pt solid var(--sklearn-color-unfitted-level-3);\n",
       "}\n",
       "\n",
       ".sk-estimator-doc-link.fitted span {\n",
       "  /* fitted */\n",
       "  background: var(--sklearn-color-fitted-level-0);\n",
       "  border: var(--sklearn-color-fitted-level-3);\n",
       "}\n",
       "\n",
       ".sk-estimator-doc-link:hover span {\n",
       "  display: block;\n",
       "}\n",
       "\n",
       "/* \"?\"-specific style due to the `<a>` HTML tag */\n",
       "\n",
       "#sk-container-id-1 a.estimator_doc_link {\n",
       "  float: right;\n",
       "  font-size: 1rem;\n",
       "  line-height: 1em;\n",
       "  font-family: monospace;\n",
       "  background-color: var(--sklearn-color-background);\n",
       "  border-radius: 1rem;\n",
       "  height: 1rem;\n",
       "  width: 1rem;\n",
       "  text-decoration: none;\n",
       "  /* unfitted */\n",
       "  color: var(--sklearn-color-unfitted-level-1);\n",
       "  border: var(--sklearn-color-unfitted-level-1) 1pt solid;\n",
       "}\n",
       "\n",
       "#sk-container-id-1 a.estimator_doc_link.fitted {\n",
       "  /* fitted */\n",
       "  border: var(--sklearn-color-fitted-level-1) 1pt solid;\n",
       "  color: var(--sklearn-color-fitted-level-1);\n",
       "}\n",
       "\n",
       "/* On hover */\n",
       "#sk-container-id-1 a.estimator_doc_link:hover {\n",
       "  /* unfitted */\n",
       "  background-color: var(--sklearn-color-unfitted-level-3);\n",
       "  color: var(--sklearn-color-background);\n",
       "  text-decoration: none;\n",
       "}\n",
       "\n",
       "#sk-container-id-1 a.estimator_doc_link.fitted:hover {\n",
       "  /* fitted */\n",
       "  background-color: var(--sklearn-color-fitted-level-3);\n",
       "}\n",
       "</style><div id=\"sk-container-id-1\" class=\"sk-top-container\"><div class=\"sk-text-repr-fallback\"><pre>Pipeline(steps=[(&#x27;preprocessor&#x27;,\n",
       "                 ColumnTransformer(transformers=[(&#x27;num&#x27;, StandardScaler(),\n",
       "                                                  [&#x27;Kilometer&#x27;, &#x27;Power&#x27;,\n",
       "                                                   &#x27;RegistrationYear&#x27;]),\n",
       "                                                 (&#x27;ohe&#x27;,\n",
       "                                                  OneHotEncoder(drop=&#x27;first&#x27;,\n",
       "                                                                handle_unknown=&#x27;ignore&#x27;,\n",
       "                                                                sparse_output=False),\n",
       "                                                  [&#x27;Repaired&#x27;, &#x27;Brand&#x27;,\n",
       "                                                   &#x27;FuelType&#x27;, &#x27;Gearbox&#x27;,\n",
       "                                                   &#x27;VehicleType&#x27;, &#x27;Model&#x27;])])),\n",
       "                (&#x27;regressor&#x27;, LinearRegression())])</pre><b>In a Jupyter environment, please rerun this cell to show the HTML representation or trust the notebook. <br />On GitHub, the HTML representation is unable to render, please try loading this page with nbviewer.org.</b></div><div class=\"sk-container\" hidden><div class=\"sk-item sk-dashed-wrapped\"><div class=\"sk-label-container\"><div class=\"sk-label fitted sk-toggleable\"><input class=\"sk-toggleable__control sk-hidden--visually\" id=\"sk-estimator-id-1\" type=\"checkbox\" ><label for=\"sk-estimator-id-1\" class=\"sk-toggleable__label fitted sk-toggleable__label-arrow fitted\">&nbsp;&nbsp;Pipeline<a class=\"sk-estimator-doc-link fitted\" rel=\"noreferrer\" target=\"_blank\" href=\"https://scikit-learn.org/1.5/modules/generated/sklearn.pipeline.Pipeline.html\">?<span>Documentation for Pipeline</span></a><span class=\"sk-estimator-doc-link fitted\">i<span>Fitted</span></span></label><div class=\"sk-toggleable__content fitted\"><pre>Pipeline(steps=[(&#x27;preprocessor&#x27;,\n",
       "                 ColumnTransformer(transformers=[(&#x27;num&#x27;, StandardScaler(),\n",
       "                                                  [&#x27;Kilometer&#x27;, &#x27;Power&#x27;,\n",
       "                                                   &#x27;RegistrationYear&#x27;]),\n",
       "                                                 (&#x27;ohe&#x27;,\n",
       "                                                  OneHotEncoder(drop=&#x27;first&#x27;,\n",
       "                                                                handle_unknown=&#x27;ignore&#x27;,\n",
       "                                                                sparse_output=False),\n",
       "                                                  [&#x27;Repaired&#x27;, &#x27;Brand&#x27;,\n",
       "                                                   &#x27;FuelType&#x27;, &#x27;Gearbox&#x27;,\n",
       "                                                   &#x27;VehicleType&#x27;, &#x27;Model&#x27;])])),\n",
       "                (&#x27;regressor&#x27;, LinearRegression())])</pre></div> </div></div><div class=\"sk-serial\"><div class=\"sk-item sk-dashed-wrapped\"><div class=\"sk-label-container\"><div class=\"sk-label fitted sk-toggleable\"><input class=\"sk-toggleable__control sk-hidden--visually\" id=\"sk-estimator-id-2\" type=\"checkbox\" ><label for=\"sk-estimator-id-2\" class=\"sk-toggleable__label fitted sk-toggleable__label-arrow fitted\">&nbsp;preprocessor: ColumnTransformer<a class=\"sk-estimator-doc-link fitted\" rel=\"noreferrer\" target=\"_blank\" href=\"https://scikit-learn.org/1.5/modules/generated/sklearn.compose.ColumnTransformer.html\">?<span>Documentation for preprocessor: ColumnTransformer</span></a></label><div class=\"sk-toggleable__content fitted\"><pre>ColumnTransformer(transformers=[(&#x27;num&#x27;, StandardScaler(),\n",
       "                                 [&#x27;Kilometer&#x27;, &#x27;Power&#x27;, &#x27;RegistrationYear&#x27;]),\n",
       "                                (&#x27;ohe&#x27;,\n",
       "                                 OneHotEncoder(drop=&#x27;first&#x27;,\n",
       "                                               handle_unknown=&#x27;ignore&#x27;,\n",
       "                                               sparse_output=False),\n",
       "                                 [&#x27;Repaired&#x27;, &#x27;Brand&#x27;, &#x27;FuelType&#x27;, &#x27;Gearbox&#x27;,\n",
       "                                  &#x27;VehicleType&#x27;, &#x27;Model&#x27;])])</pre></div> </div></div><div class=\"sk-parallel\"><div class=\"sk-parallel-item\"><div class=\"sk-item\"><div class=\"sk-label-container\"><div class=\"sk-label fitted sk-toggleable\"><input class=\"sk-toggleable__control sk-hidden--visually\" id=\"sk-estimator-id-3\" type=\"checkbox\" ><label for=\"sk-estimator-id-3\" class=\"sk-toggleable__label fitted sk-toggleable__label-arrow fitted\">num</label><div class=\"sk-toggleable__content fitted\"><pre>[&#x27;Kilometer&#x27;, &#x27;Power&#x27;, &#x27;RegistrationYear&#x27;]</pre></div> </div></div><div class=\"sk-serial\"><div class=\"sk-item\"><div class=\"sk-estimator fitted sk-toggleable\"><input class=\"sk-toggleable__control sk-hidden--visually\" id=\"sk-estimator-id-4\" type=\"checkbox\" ><label for=\"sk-estimator-id-4\" class=\"sk-toggleable__label fitted sk-toggleable__label-arrow fitted\">&nbsp;StandardScaler<a class=\"sk-estimator-doc-link fitted\" rel=\"noreferrer\" target=\"_blank\" href=\"https://scikit-learn.org/1.5/modules/generated/sklearn.preprocessing.StandardScaler.html\">?<span>Documentation for StandardScaler</span></a></label><div class=\"sk-toggleable__content fitted\"><pre>StandardScaler()</pre></div> </div></div></div></div></div><div class=\"sk-parallel-item\"><div class=\"sk-item\"><div class=\"sk-label-container\"><div class=\"sk-label fitted sk-toggleable\"><input class=\"sk-toggleable__control sk-hidden--visually\" id=\"sk-estimator-id-5\" type=\"checkbox\" ><label for=\"sk-estimator-id-5\" class=\"sk-toggleable__label fitted sk-toggleable__label-arrow fitted\">ohe</label><div class=\"sk-toggleable__content fitted\"><pre>[&#x27;Repaired&#x27;, &#x27;Brand&#x27;, &#x27;FuelType&#x27;, &#x27;Gearbox&#x27;, &#x27;VehicleType&#x27;, &#x27;Model&#x27;]</pre></div> </div></div><div class=\"sk-serial\"><div class=\"sk-item\"><div class=\"sk-estimator fitted sk-toggleable\"><input class=\"sk-toggleable__control sk-hidden--visually\" id=\"sk-estimator-id-6\" type=\"checkbox\" ><label for=\"sk-estimator-id-6\" class=\"sk-toggleable__label fitted sk-toggleable__label-arrow fitted\">&nbsp;OneHotEncoder<a class=\"sk-estimator-doc-link fitted\" rel=\"noreferrer\" target=\"_blank\" href=\"https://scikit-learn.org/1.5/modules/generated/sklearn.preprocessing.OneHotEncoder.html\">?<span>Documentation for OneHotEncoder</span></a></label><div class=\"sk-toggleable__content fitted\"><pre>OneHotEncoder(drop=&#x27;first&#x27;, handle_unknown=&#x27;ignore&#x27;, sparse_output=False)</pre></div> </div></div></div></div></div></div></div><div class=\"sk-item\"><div class=\"sk-estimator fitted sk-toggleable\"><input class=\"sk-toggleable__control sk-hidden--visually\" id=\"sk-estimator-id-7\" type=\"checkbox\" ><label for=\"sk-estimator-id-7\" class=\"sk-toggleable__label fitted sk-toggleable__label-arrow fitted\">&nbsp;LinearRegression<a class=\"sk-estimator-doc-link fitted\" rel=\"noreferrer\" target=\"_blank\" href=\"https://scikit-learn.org/1.5/modules/generated/sklearn.linear_model.LinearRegression.html\">?<span>Documentation for LinearRegression</span></a></label><div class=\"sk-toggleable__content fitted\"><pre>LinearRegression()</pre></div> </div></div></div></div></div></div>"
      ],
      "text/plain": [
       "Pipeline(steps=[('preprocessor',\n",
       "                 ColumnTransformer(transformers=[('num', StandardScaler(),\n",
       "                                                  ['Kilometer', 'Power',\n",
       "                                                   'RegistrationYear']),\n",
       "                                                 ('ohe',\n",
       "                                                  OneHotEncoder(drop='first',\n",
       "                                                                handle_unknown='ignore',\n",
       "                                                                sparse_output=False),\n",
       "                                                  ['Repaired', 'Brand',\n",
       "                                                   'FuelType', 'Gearbox',\n",
       "                                                   'VehicleType', 'Model'])])),\n",
       "                ('regressor', LinearRegression())])"
      ]
     },
     "execution_count": 66,
     "metadata": {},
     "output_type": "execute_result"
    }
   ],
   "source": [
    "rmse_linear = np.sqrt(-cross_val_score(pipeline_linear, X_train, y_train, cv=5, scoring='neg_mean_squared_error').mean())"
   ]
  },
  {
   "cell_type": "code",
   "execution_count": 68,
   "metadata": {},
   "outputs": [],
   "source": [
    "start_train = time()\n",
    "pipeline_linear.fit(X_train, y_train) \n",
    "train_time_linear = (time() - start_train) / 60  "
   ]
  },
  {
   "cell_type": "code",
   "execution_count": 69,
   "metadata": {},
   "outputs": [],
   "source": [
    "# Замер времени предсказания\n",
    "start_predict = time()\n",
    "y_pred_train = pipeline_linear.predict(X_train)  \n",
    "predict_time_linear = (time() - start_predict) / 60  "
   ]
  },
  {
   "cell_type": "code",
   "execution_count": 70,
   "metadata": {},
   "outputs": [
    {
     "name": "stdout",
     "output_type": "stream",
     "text": [
      "Linear Regression RMSE (CV): 2689.9358\n",
      "Training Time: 0.4448 minutes\n",
      "Prediction Time on Train: 0.0246 minutes\n"
     ]
    }
   ],
   "source": [
    "# Вывод результатов\n",
    "print(f\"Linear Regression RMSE (CV): {rmse_linear:.4f}\")\n",
    "print(f\"Training Time: {train_time_linear:.4f} minutes\")\n",
    "print(f\"Prediction Time on Train: {predict_time_linear:.4f} minutes\")"
   ]
  },
  {
   "cell_type": "markdown",
   "metadata": {},
   "source": [
    "### Модель Ridge"
   ]
  },
  {
   "cell_type": "code",
   "execution_count": 71,
   "metadata": {},
   "outputs": [],
   "source": [
    "pipeline = Pipeline(steps=[\n",
    "    ('preprocessor', data_preprocessor[1]),\n",
    "    ('regressor', Ridge())\n",
    "])"
   ]
  },
  {
   "cell_type": "code",
   "execution_count": 72,
   "metadata": {},
   "outputs": [],
   "source": [
    "param_ridge = {\n",
    "    'regressor__alpha': [0.3, 0.5, 0.7, 1],\n",
    "    'regressor__solver': ['auto', 'svd', 'cholesky', 'lsqr']\n",
    "}"
   ]
  },
  {
   "cell_type": "code",
   "execution_count": 76,
   "metadata": {},
   "outputs": [
    {
     "data": {
      "text/html": [
       "<style>#sk-container-id-2 {\n",
       "  /* Definition of color scheme common for light and dark mode */\n",
       "  --sklearn-color-text: black;\n",
       "  --sklearn-color-line: gray;\n",
       "  /* Definition of color scheme for unfitted estimators */\n",
       "  --sklearn-color-unfitted-level-0: #fff5e6;\n",
       "  --sklearn-color-unfitted-level-1: #f6e4d2;\n",
       "  --sklearn-color-unfitted-level-2: #ffe0b3;\n",
       "  --sklearn-color-unfitted-level-3: chocolate;\n",
       "  /* Definition of color scheme for fitted estimators */\n",
       "  --sklearn-color-fitted-level-0: #f0f8ff;\n",
       "  --sklearn-color-fitted-level-1: #d4ebff;\n",
       "  --sklearn-color-fitted-level-2: #b3dbfd;\n",
       "  --sklearn-color-fitted-level-3: cornflowerblue;\n",
       "\n",
       "  /* Specific color for light theme */\n",
       "  --sklearn-color-text-on-default-background: var(--sg-text-color, var(--theme-code-foreground, var(--jp-content-font-color1, black)));\n",
       "  --sklearn-color-background: var(--sg-background-color, var(--theme-background, var(--jp-layout-color0, white)));\n",
       "  --sklearn-color-border-box: var(--sg-text-color, var(--theme-code-foreground, var(--jp-content-font-color1, black)));\n",
       "  --sklearn-color-icon: #696969;\n",
       "\n",
       "  @media (prefers-color-scheme: dark) {\n",
       "    /* Redefinition of color scheme for dark theme */\n",
       "    --sklearn-color-text-on-default-background: var(--sg-text-color, var(--theme-code-foreground, var(--jp-content-font-color1, white)));\n",
       "    --sklearn-color-background: var(--sg-background-color, var(--theme-background, var(--jp-layout-color0, #111)));\n",
       "    --sklearn-color-border-box: var(--sg-text-color, var(--theme-code-foreground, var(--jp-content-font-color1, white)));\n",
       "    --sklearn-color-icon: #878787;\n",
       "  }\n",
       "}\n",
       "\n",
       "#sk-container-id-2 {\n",
       "  color: var(--sklearn-color-text);\n",
       "}\n",
       "\n",
       "#sk-container-id-2 pre {\n",
       "  padding: 0;\n",
       "}\n",
       "\n",
       "#sk-container-id-2 input.sk-hidden--visually {\n",
       "  border: 0;\n",
       "  clip: rect(1px 1px 1px 1px);\n",
       "  clip: rect(1px, 1px, 1px, 1px);\n",
       "  height: 1px;\n",
       "  margin: -1px;\n",
       "  overflow: hidden;\n",
       "  padding: 0;\n",
       "  position: absolute;\n",
       "  width: 1px;\n",
       "}\n",
       "\n",
       "#sk-container-id-2 div.sk-dashed-wrapped {\n",
       "  border: 1px dashed var(--sklearn-color-line);\n",
       "  margin: 0 0.4em 0.5em 0.4em;\n",
       "  box-sizing: border-box;\n",
       "  padding-bottom: 0.4em;\n",
       "  background-color: var(--sklearn-color-background);\n",
       "}\n",
       "\n",
       "#sk-container-id-2 div.sk-container {\n",
       "  /* jupyter's `normalize.less` sets `[hidden] { display: none; }`\n",
       "     but bootstrap.min.css set `[hidden] { display: none !important; }`\n",
       "     so we also need the `!important` here to be able to override the\n",
       "     default hidden behavior on the sphinx rendered scikit-learn.org.\n",
       "     See: https://github.com/scikit-learn/scikit-learn/issues/21755 */\n",
       "  display: inline-block !important;\n",
       "  position: relative;\n",
       "}\n",
       "\n",
       "#sk-container-id-2 div.sk-text-repr-fallback {\n",
       "  display: none;\n",
       "}\n",
       "\n",
       "div.sk-parallel-item,\n",
       "div.sk-serial,\n",
       "div.sk-item {\n",
       "  /* draw centered vertical line to link estimators */\n",
       "  background-image: linear-gradient(var(--sklearn-color-text-on-default-background), var(--sklearn-color-text-on-default-background));\n",
       "  background-size: 2px 100%;\n",
       "  background-repeat: no-repeat;\n",
       "  background-position: center center;\n",
       "}\n",
       "\n",
       "/* Parallel-specific style estimator block */\n",
       "\n",
       "#sk-container-id-2 div.sk-parallel-item::after {\n",
       "  content: \"\";\n",
       "  width: 100%;\n",
       "  border-bottom: 2px solid var(--sklearn-color-text-on-default-background);\n",
       "  flex-grow: 1;\n",
       "}\n",
       "\n",
       "#sk-container-id-2 div.sk-parallel {\n",
       "  display: flex;\n",
       "  align-items: stretch;\n",
       "  justify-content: center;\n",
       "  background-color: var(--sklearn-color-background);\n",
       "  position: relative;\n",
       "}\n",
       "\n",
       "#sk-container-id-2 div.sk-parallel-item {\n",
       "  display: flex;\n",
       "  flex-direction: column;\n",
       "}\n",
       "\n",
       "#sk-container-id-2 div.sk-parallel-item:first-child::after {\n",
       "  align-self: flex-end;\n",
       "  width: 50%;\n",
       "}\n",
       "\n",
       "#sk-container-id-2 div.sk-parallel-item:last-child::after {\n",
       "  align-self: flex-start;\n",
       "  width: 50%;\n",
       "}\n",
       "\n",
       "#sk-container-id-2 div.sk-parallel-item:only-child::after {\n",
       "  width: 0;\n",
       "}\n",
       "\n",
       "/* Serial-specific style estimator block */\n",
       "\n",
       "#sk-container-id-2 div.sk-serial {\n",
       "  display: flex;\n",
       "  flex-direction: column;\n",
       "  align-items: center;\n",
       "  background-color: var(--sklearn-color-background);\n",
       "  padding-right: 1em;\n",
       "  padding-left: 1em;\n",
       "}\n",
       "\n",
       "\n",
       "/* Toggleable style: style used for estimator/Pipeline/ColumnTransformer box that is\n",
       "clickable and can be expanded/collapsed.\n",
       "- Pipeline and ColumnTransformer use this feature and define the default style\n",
       "- Estimators will overwrite some part of the style using the `sk-estimator` class\n",
       "*/\n",
       "\n",
       "/* Pipeline and ColumnTransformer style (default) */\n",
       "\n",
       "#sk-container-id-2 div.sk-toggleable {\n",
       "  /* Default theme specific background. It is overwritten whether we have a\n",
       "  specific estimator or a Pipeline/ColumnTransformer */\n",
       "  background-color: var(--sklearn-color-background);\n",
       "}\n",
       "\n",
       "/* Toggleable label */\n",
       "#sk-container-id-2 label.sk-toggleable__label {\n",
       "  cursor: pointer;\n",
       "  display: block;\n",
       "  width: 100%;\n",
       "  margin-bottom: 0;\n",
       "  padding: 0.5em;\n",
       "  box-sizing: border-box;\n",
       "  text-align: center;\n",
       "}\n",
       "\n",
       "#sk-container-id-2 label.sk-toggleable__label-arrow:before {\n",
       "  /* Arrow on the left of the label */\n",
       "  content: \"▸\";\n",
       "  float: left;\n",
       "  margin-right: 0.25em;\n",
       "  color: var(--sklearn-color-icon);\n",
       "}\n",
       "\n",
       "#sk-container-id-2 label.sk-toggleable__label-arrow:hover:before {\n",
       "  color: var(--sklearn-color-text);\n",
       "}\n",
       "\n",
       "/* Toggleable content - dropdown */\n",
       "\n",
       "#sk-container-id-2 div.sk-toggleable__content {\n",
       "  max-height: 0;\n",
       "  max-width: 0;\n",
       "  overflow: hidden;\n",
       "  text-align: left;\n",
       "  /* unfitted */\n",
       "  background-color: var(--sklearn-color-unfitted-level-0);\n",
       "}\n",
       "\n",
       "#sk-container-id-2 div.sk-toggleable__content.fitted {\n",
       "  /* fitted */\n",
       "  background-color: var(--sklearn-color-fitted-level-0);\n",
       "}\n",
       "\n",
       "#sk-container-id-2 div.sk-toggleable__content pre {\n",
       "  margin: 0.2em;\n",
       "  border-radius: 0.25em;\n",
       "  color: var(--sklearn-color-text);\n",
       "  /* unfitted */\n",
       "  background-color: var(--sklearn-color-unfitted-level-0);\n",
       "}\n",
       "\n",
       "#sk-container-id-2 div.sk-toggleable__content.fitted pre {\n",
       "  /* unfitted */\n",
       "  background-color: var(--sklearn-color-fitted-level-0);\n",
       "}\n",
       "\n",
       "#sk-container-id-2 input.sk-toggleable__control:checked~div.sk-toggleable__content {\n",
       "  /* Expand drop-down */\n",
       "  max-height: 200px;\n",
       "  max-width: 100%;\n",
       "  overflow: auto;\n",
       "}\n",
       "\n",
       "#sk-container-id-2 input.sk-toggleable__control:checked~label.sk-toggleable__label-arrow:before {\n",
       "  content: \"▾\";\n",
       "}\n",
       "\n",
       "/* Pipeline/ColumnTransformer-specific style */\n",
       "\n",
       "#sk-container-id-2 div.sk-label input.sk-toggleable__control:checked~label.sk-toggleable__label {\n",
       "  color: var(--sklearn-color-text);\n",
       "  background-color: var(--sklearn-color-unfitted-level-2);\n",
       "}\n",
       "\n",
       "#sk-container-id-2 div.sk-label.fitted input.sk-toggleable__control:checked~label.sk-toggleable__label {\n",
       "  background-color: var(--sklearn-color-fitted-level-2);\n",
       "}\n",
       "\n",
       "/* Estimator-specific style */\n",
       "\n",
       "/* Colorize estimator box */\n",
       "#sk-container-id-2 div.sk-estimator input.sk-toggleable__control:checked~label.sk-toggleable__label {\n",
       "  /* unfitted */\n",
       "  background-color: var(--sklearn-color-unfitted-level-2);\n",
       "}\n",
       "\n",
       "#sk-container-id-2 div.sk-estimator.fitted input.sk-toggleable__control:checked~label.sk-toggleable__label {\n",
       "  /* fitted */\n",
       "  background-color: var(--sklearn-color-fitted-level-2);\n",
       "}\n",
       "\n",
       "#sk-container-id-2 div.sk-label label.sk-toggleable__label,\n",
       "#sk-container-id-2 div.sk-label label {\n",
       "  /* The background is the default theme color */\n",
       "  color: var(--sklearn-color-text-on-default-background);\n",
       "}\n",
       "\n",
       "/* On hover, darken the color of the background */\n",
       "#sk-container-id-2 div.sk-label:hover label.sk-toggleable__label {\n",
       "  color: var(--sklearn-color-text);\n",
       "  background-color: var(--sklearn-color-unfitted-level-2);\n",
       "}\n",
       "\n",
       "/* Label box, darken color on hover, fitted */\n",
       "#sk-container-id-2 div.sk-label.fitted:hover label.sk-toggleable__label.fitted {\n",
       "  color: var(--sklearn-color-text);\n",
       "  background-color: var(--sklearn-color-fitted-level-2);\n",
       "}\n",
       "\n",
       "/* Estimator label */\n",
       "\n",
       "#sk-container-id-2 div.sk-label label {\n",
       "  font-family: monospace;\n",
       "  font-weight: bold;\n",
       "  display: inline-block;\n",
       "  line-height: 1.2em;\n",
       "}\n",
       "\n",
       "#sk-container-id-2 div.sk-label-container {\n",
       "  text-align: center;\n",
       "}\n",
       "\n",
       "/* Estimator-specific */\n",
       "#sk-container-id-2 div.sk-estimator {\n",
       "  font-family: monospace;\n",
       "  border: 1px dotted var(--sklearn-color-border-box);\n",
       "  border-radius: 0.25em;\n",
       "  box-sizing: border-box;\n",
       "  margin-bottom: 0.5em;\n",
       "  /* unfitted */\n",
       "  background-color: var(--sklearn-color-unfitted-level-0);\n",
       "}\n",
       "\n",
       "#sk-container-id-2 div.sk-estimator.fitted {\n",
       "  /* fitted */\n",
       "  background-color: var(--sklearn-color-fitted-level-0);\n",
       "}\n",
       "\n",
       "/* on hover */\n",
       "#sk-container-id-2 div.sk-estimator:hover {\n",
       "  /* unfitted */\n",
       "  background-color: var(--sklearn-color-unfitted-level-2);\n",
       "}\n",
       "\n",
       "#sk-container-id-2 div.sk-estimator.fitted:hover {\n",
       "  /* fitted */\n",
       "  background-color: var(--sklearn-color-fitted-level-2);\n",
       "}\n",
       "\n",
       "/* Specification for estimator info (e.g. \"i\" and \"?\") */\n",
       "\n",
       "/* Common style for \"i\" and \"?\" */\n",
       "\n",
       ".sk-estimator-doc-link,\n",
       "a:link.sk-estimator-doc-link,\n",
       "a:visited.sk-estimator-doc-link {\n",
       "  float: right;\n",
       "  font-size: smaller;\n",
       "  line-height: 1em;\n",
       "  font-family: monospace;\n",
       "  background-color: var(--sklearn-color-background);\n",
       "  border-radius: 1em;\n",
       "  height: 1em;\n",
       "  width: 1em;\n",
       "  text-decoration: none !important;\n",
       "  margin-left: 1ex;\n",
       "  /* unfitted */\n",
       "  border: var(--sklearn-color-unfitted-level-1) 1pt solid;\n",
       "  color: var(--sklearn-color-unfitted-level-1);\n",
       "}\n",
       "\n",
       ".sk-estimator-doc-link.fitted,\n",
       "a:link.sk-estimator-doc-link.fitted,\n",
       "a:visited.sk-estimator-doc-link.fitted {\n",
       "  /* fitted */\n",
       "  border: var(--sklearn-color-fitted-level-1) 1pt solid;\n",
       "  color: var(--sklearn-color-fitted-level-1);\n",
       "}\n",
       "\n",
       "/* On hover */\n",
       "div.sk-estimator:hover .sk-estimator-doc-link:hover,\n",
       ".sk-estimator-doc-link:hover,\n",
       "div.sk-label-container:hover .sk-estimator-doc-link:hover,\n",
       ".sk-estimator-doc-link:hover {\n",
       "  /* unfitted */\n",
       "  background-color: var(--sklearn-color-unfitted-level-3);\n",
       "  color: var(--sklearn-color-background);\n",
       "  text-decoration: none;\n",
       "}\n",
       "\n",
       "div.sk-estimator.fitted:hover .sk-estimator-doc-link.fitted:hover,\n",
       ".sk-estimator-doc-link.fitted:hover,\n",
       "div.sk-label-container:hover .sk-estimator-doc-link.fitted:hover,\n",
       ".sk-estimator-doc-link.fitted:hover {\n",
       "  /* fitted */\n",
       "  background-color: var(--sklearn-color-fitted-level-3);\n",
       "  color: var(--sklearn-color-background);\n",
       "  text-decoration: none;\n",
       "}\n",
       "\n",
       "/* Span, style for the box shown on hovering the info icon */\n",
       ".sk-estimator-doc-link span {\n",
       "  display: none;\n",
       "  z-index: 9999;\n",
       "  position: relative;\n",
       "  font-weight: normal;\n",
       "  right: .2ex;\n",
       "  padding: .5ex;\n",
       "  margin: .5ex;\n",
       "  width: min-content;\n",
       "  min-width: 20ex;\n",
       "  max-width: 50ex;\n",
       "  color: var(--sklearn-color-text);\n",
       "  box-shadow: 2pt 2pt 4pt #999;\n",
       "  /* unfitted */\n",
       "  background: var(--sklearn-color-unfitted-level-0);\n",
       "  border: .5pt solid var(--sklearn-color-unfitted-level-3);\n",
       "}\n",
       "\n",
       ".sk-estimator-doc-link.fitted span {\n",
       "  /* fitted */\n",
       "  background: var(--sklearn-color-fitted-level-0);\n",
       "  border: var(--sklearn-color-fitted-level-3);\n",
       "}\n",
       "\n",
       ".sk-estimator-doc-link:hover span {\n",
       "  display: block;\n",
       "}\n",
       "\n",
       "/* \"?\"-specific style due to the `<a>` HTML tag */\n",
       "\n",
       "#sk-container-id-2 a.estimator_doc_link {\n",
       "  float: right;\n",
       "  font-size: 1rem;\n",
       "  line-height: 1em;\n",
       "  font-family: monospace;\n",
       "  background-color: var(--sklearn-color-background);\n",
       "  border-radius: 1rem;\n",
       "  height: 1rem;\n",
       "  width: 1rem;\n",
       "  text-decoration: none;\n",
       "  /* unfitted */\n",
       "  color: var(--sklearn-color-unfitted-level-1);\n",
       "  border: var(--sklearn-color-unfitted-level-1) 1pt solid;\n",
       "}\n",
       "\n",
       "#sk-container-id-2 a.estimator_doc_link.fitted {\n",
       "  /* fitted */\n",
       "  border: var(--sklearn-color-fitted-level-1) 1pt solid;\n",
       "  color: var(--sklearn-color-fitted-level-1);\n",
       "}\n",
       "\n",
       "/* On hover */\n",
       "#sk-container-id-2 a.estimator_doc_link:hover {\n",
       "  /* unfitted */\n",
       "  background-color: var(--sklearn-color-unfitted-level-3);\n",
       "  color: var(--sklearn-color-background);\n",
       "  text-decoration: none;\n",
       "}\n",
       "\n",
       "#sk-container-id-2 a.estimator_doc_link.fitted:hover {\n",
       "  /* fitted */\n",
       "  background-color: var(--sklearn-color-fitted-level-3);\n",
       "}\n",
       "</style><div id=\"sk-container-id-2\" class=\"sk-top-container\"><div class=\"sk-text-repr-fallback\"><pre>RandomizedSearchCV(cv=5,\n",
       "                   estimator=Pipeline(steps=[(&#x27;preprocessor&#x27;,\n",
       "                                              ColumnTransformer(transformers=[(&#x27;num&#x27;,\n",
       "                                                                               StandardScaler(),\n",
       "                                                                               [&#x27;Kilometer&#x27;,\n",
       "                                                                                &#x27;Power&#x27;,\n",
       "                                                                                &#x27;RegistrationYear&#x27;]),\n",
       "                                                                              (&#x27;ohe&#x27;,\n",
       "                                                                               OneHotEncoder(drop=&#x27;first&#x27;,\n",
       "                                                                                             handle_unknown=&#x27;ignore&#x27;,\n",
       "                                                                                             sparse_output=False),\n",
       "                                                                               [&#x27;Repaired&#x27;,\n",
       "                                                                                &#x27;Brand&#x27;,\n",
       "                                                                                &#x27;FuelType&#x27;,\n",
       "                                                                                &#x27;Gearbox&#x27;,\n",
       "                                                                                &#x27;VehicleType&#x27;,\n",
       "                                                                                &#x27;Model&#x27;])])),\n",
       "                                             (&#x27;regressor&#x27;, Ridge())]),\n",
       "                   n_jobs=-1,\n",
       "                   param_distributions={&#x27;regressor__alpha&#x27;: [0.3, 0.5, 0.7, 1],\n",
       "                                        &#x27;regressor__solver&#x27;: [&#x27;auto&#x27;, &#x27;svd&#x27;,\n",
       "                                                              &#x27;cholesky&#x27;,\n",
       "                                                              &#x27;lsqr&#x27;]},\n",
       "                   random_state=42, scoring=&#x27;neg_mean_squared_error&#x27;)</pre><b>In a Jupyter environment, please rerun this cell to show the HTML representation or trust the notebook. <br />On GitHub, the HTML representation is unable to render, please try loading this page with nbviewer.org.</b></div><div class=\"sk-container\" hidden><div class=\"sk-item sk-dashed-wrapped\"><div class=\"sk-label-container\"><div class=\"sk-label fitted sk-toggleable\"><input class=\"sk-toggleable__control sk-hidden--visually\" id=\"sk-estimator-id-8\" type=\"checkbox\" ><label for=\"sk-estimator-id-8\" class=\"sk-toggleable__label fitted sk-toggleable__label-arrow fitted\">&nbsp;&nbsp;RandomizedSearchCV<a class=\"sk-estimator-doc-link fitted\" rel=\"noreferrer\" target=\"_blank\" href=\"https://scikit-learn.org/1.5/modules/generated/sklearn.model_selection.RandomizedSearchCV.html\">?<span>Documentation for RandomizedSearchCV</span></a><span class=\"sk-estimator-doc-link fitted\">i<span>Fitted</span></span></label><div class=\"sk-toggleable__content fitted\"><pre>RandomizedSearchCV(cv=5,\n",
       "                   estimator=Pipeline(steps=[(&#x27;preprocessor&#x27;,\n",
       "                                              ColumnTransformer(transformers=[(&#x27;num&#x27;,\n",
       "                                                                               StandardScaler(),\n",
       "                                                                               [&#x27;Kilometer&#x27;,\n",
       "                                                                                &#x27;Power&#x27;,\n",
       "                                                                                &#x27;RegistrationYear&#x27;]),\n",
       "                                                                              (&#x27;ohe&#x27;,\n",
       "                                                                               OneHotEncoder(drop=&#x27;first&#x27;,\n",
       "                                                                                             handle_unknown=&#x27;ignore&#x27;,\n",
       "                                                                                             sparse_output=False),\n",
       "                                                                               [&#x27;Repaired&#x27;,\n",
       "                                                                                &#x27;Brand&#x27;,\n",
       "                                                                                &#x27;FuelType&#x27;,\n",
       "                                                                                &#x27;Gearbox&#x27;,\n",
       "                                                                                &#x27;VehicleType&#x27;,\n",
       "                                                                                &#x27;Model&#x27;])])),\n",
       "                                             (&#x27;regressor&#x27;, Ridge())]),\n",
       "                   n_jobs=-1,\n",
       "                   param_distributions={&#x27;regressor__alpha&#x27;: [0.3, 0.5, 0.7, 1],\n",
       "                                        &#x27;regressor__solver&#x27;: [&#x27;auto&#x27;, &#x27;svd&#x27;,\n",
       "                                                              &#x27;cholesky&#x27;,\n",
       "                                                              &#x27;lsqr&#x27;]},\n",
       "                   random_state=42, scoring=&#x27;neg_mean_squared_error&#x27;)</pre></div> </div></div><div class=\"sk-parallel\"><div class=\"sk-parallel-item\"><div class=\"sk-item\"><div class=\"sk-label-container\"><div class=\"sk-label fitted sk-toggleable\"><input class=\"sk-toggleable__control sk-hidden--visually\" id=\"sk-estimator-id-9\" type=\"checkbox\" ><label for=\"sk-estimator-id-9\" class=\"sk-toggleable__label fitted sk-toggleable__label-arrow fitted\">best_estimator_: Pipeline</label><div class=\"sk-toggleable__content fitted\"><pre>Pipeline(steps=[(&#x27;preprocessor&#x27;,\n",
       "                 ColumnTransformer(transformers=[(&#x27;num&#x27;, StandardScaler(),\n",
       "                                                  [&#x27;Kilometer&#x27;, &#x27;Power&#x27;,\n",
       "                                                   &#x27;RegistrationYear&#x27;]),\n",
       "                                                 (&#x27;ohe&#x27;,\n",
       "                                                  OneHotEncoder(drop=&#x27;first&#x27;,\n",
       "                                                                handle_unknown=&#x27;ignore&#x27;,\n",
       "                                                                sparse_output=False),\n",
       "                                                  [&#x27;Repaired&#x27;, &#x27;Brand&#x27;,\n",
       "                                                   &#x27;FuelType&#x27;, &#x27;Gearbox&#x27;,\n",
       "                                                   &#x27;VehicleType&#x27;, &#x27;Model&#x27;])])),\n",
       "                (&#x27;regressor&#x27;, Ridge(alpha=1, solver=&#x27;cholesky&#x27;))])</pre></div> </div></div><div class=\"sk-serial\"><div class=\"sk-item\"><div class=\"sk-serial\"><div class=\"sk-item sk-dashed-wrapped\"><div class=\"sk-label-container\"><div class=\"sk-label fitted sk-toggleable\"><input class=\"sk-toggleable__control sk-hidden--visually\" id=\"sk-estimator-id-10\" type=\"checkbox\" ><label for=\"sk-estimator-id-10\" class=\"sk-toggleable__label fitted sk-toggleable__label-arrow fitted\">&nbsp;preprocessor: ColumnTransformer<a class=\"sk-estimator-doc-link fitted\" rel=\"noreferrer\" target=\"_blank\" href=\"https://scikit-learn.org/1.5/modules/generated/sklearn.compose.ColumnTransformer.html\">?<span>Documentation for preprocessor: ColumnTransformer</span></a></label><div class=\"sk-toggleable__content fitted\"><pre>ColumnTransformer(transformers=[(&#x27;num&#x27;, StandardScaler(),\n",
       "                                 [&#x27;Kilometer&#x27;, &#x27;Power&#x27;, &#x27;RegistrationYear&#x27;]),\n",
       "                                (&#x27;ohe&#x27;,\n",
       "                                 OneHotEncoder(drop=&#x27;first&#x27;,\n",
       "                                               handle_unknown=&#x27;ignore&#x27;,\n",
       "                                               sparse_output=False),\n",
       "                                 [&#x27;Repaired&#x27;, &#x27;Brand&#x27;, &#x27;FuelType&#x27;, &#x27;Gearbox&#x27;,\n",
       "                                  &#x27;VehicleType&#x27;, &#x27;Model&#x27;])])</pre></div> </div></div><div class=\"sk-parallel\"><div class=\"sk-parallel-item\"><div class=\"sk-item\"><div class=\"sk-label-container\"><div class=\"sk-label fitted sk-toggleable\"><input class=\"sk-toggleable__control sk-hidden--visually\" id=\"sk-estimator-id-11\" type=\"checkbox\" ><label for=\"sk-estimator-id-11\" class=\"sk-toggleable__label fitted sk-toggleable__label-arrow fitted\">num</label><div class=\"sk-toggleable__content fitted\"><pre>[&#x27;Kilometer&#x27;, &#x27;Power&#x27;, &#x27;RegistrationYear&#x27;]</pre></div> </div></div><div class=\"sk-serial\"><div class=\"sk-item\"><div class=\"sk-estimator fitted sk-toggleable\"><input class=\"sk-toggleable__control sk-hidden--visually\" id=\"sk-estimator-id-12\" type=\"checkbox\" ><label for=\"sk-estimator-id-12\" class=\"sk-toggleable__label fitted sk-toggleable__label-arrow fitted\">&nbsp;StandardScaler<a class=\"sk-estimator-doc-link fitted\" rel=\"noreferrer\" target=\"_blank\" href=\"https://scikit-learn.org/1.5/modules/generated/sklearn.preprocessing.StandardScaler.html\">?<span>Documentation for StandardScaler</span></a></label><div class=\"sk-toggleable__content fitted\"><pre>StandardScaler()</pre></div> </div></div></div></div></div><div class=\"sk-parallel-item\"><div class=\"sk-item\"><div class=\"sk-label-container\"><div class=\"sk-label fitted sk-toggleable\"><input class=\"sk-toggleable__control sk-hidden--visually\" id=\"sk-estimator-id-13\" type=\"checkbox\" ><label for=\"sk-estimator-id-13\" class=\"sk-toggleable__label fitted sk-toggleable__label-arrow fitted\">ohe</label><div class=\"sk-toggleable__content fitted\"><pre>[&#x27;Repaired&#x27;, &#x27;Brand&#x27;, &#x27;FuelType&#x27;, &#x27;Gearbox&#x27;, &#x27;VehicleType&#x27;, &#x27;Model&#x27;]</pre></div> </div></div><div class=\"sk-serial\"><div class=\"sk-item\"><div class=\"sk-estimator fitted sk-toggleable\"><input class=\"sk-toggleable__control sk-hidden--visually\" id=\"sk-estimator-id-14\" type=\"checkbox\" ><label for=\"sk-estimator-id-14\" class=\"sk-toggleable__label fitted sk-toggleable__label-arrow fitted\">&nbsp;OneHotEncoder<a class=\"sk-estimator-doc-link fitted\" rel=\"noreferrer\" target=\"_blank\" href=\"https://scikit-learn.org/1.5/modules/generated/sklearn.preprocessing.OneHotEncoder.html\">?<span>Documentation for OneHotEncoder</span></a></label><div class=\"sk-toggleable__content fitted\"><pre>OneHotEncoder(drop=&#x27;first&#x27;, handle_unknown=&#x27;ignore&#x27;, sparse_output=False)</pre></div> </div></div></div></div></div></div></div><div class=\"sk-item\"><div class=\"sk-estimator fitted sk-toggleable\"><input class=\"sk-toggleable__control sk-hidden--visually\" id=\"sk-estimator-id-15\" type=\"checkbox\" ><label for=\"sk-estimator-id-15\" class=\"sk-toggleable__label fitted sk-toggleable__label-arrow fitted\">&nbsp;Ridge<a class=\"sk-estimator-doc-link fitted\" rel=\"noreferrer\" target=\"_blank\" href=\"https://scikit-learn.org/1.5/modules/generated/sklearn.linear_model.Ridge.html\">?<span>Documentation for Ridge</span></a></label><div class=\"sk-toggleable__content fitted\"><pre>Ridge(alpha=1, solver=&#x27;cholesky&#x27;)</pre></div> </div></div></div></div></div></div></div></div></div></div></div>"
      ],
      "text/plain": [
       "RandomizedSearchCV(cv=5,\n",
       "                   estimator=Pipeline(steps=[('preprocessor',\n",
       "                                              ColumnTransformer(transformers=[('num',\n",
       "                                                                               StandardScaler(),\n",
       "                                                                               ['Kilometer',\n",
       "                                                                                'Power',\n",
       "                                                                                'RegistrationYear']),\n",
       "                                                                              ('ohe',\n",
       "                                                                               OneHotEncoder(drop='first',\n",
       "                                                                                             handle_unknown='ignore',\n",
       "                                                                                             sparse_output=False),\n",
       "                                                                               ['Repaired',\n",
       "                                                                                'Brand',\n",
       "                                                                                'FuelType',\n",
       "                                                                                'Gearbox',\n",
       "                                                                                'VehicleType',\n",
       "                                                                                'Model'])])),\n",
       "                                             ('regressor', Ridge())]),\n",
       "                   n_jobs=-1,\n",
       "                   param_distributions={'regressor__alpha': [0.3, 0.5, 0.7, 1],\n",
       "                                        'regressor__solver': ['auto', 'svd',\n",
       "                                                              'cholesky',\n",
       "                                                              'lsqr']},\n",
       "                   random_state=42, scoring='neg_mean_squared_error')"
      ]
     },
     "execution_count": 76,
     "metadata": {},
     "output_type": "execute_result"
    }
   ],
   "source": [
    "ridge_gs = (RandomizedSearchCV(pipeline, param_ridge, cv=5, scoring='neg_mean_squared_error',\n",
    "                                   n_jobs=-1, random_state=RANDOM_STATE))\n",
    "ridge_gs.fit(X_train, y_train)"
   ]
  },
  {
   "cell_type": "code",
   "execution_count": 77,
   "metadata": {},
   "outputs": [],
   "source": [
    "start = time()\n",
    "ridge_gs.best_estimator_.fit(X_train, y_train)\n",
    "train_time_ridge = (time() - start) / 60\n",
    "rmse_ridge = np.sqrt(-ridge_gs.best_score_)"
   ]
  },
  {
   "cell_type": "code",
   "execution_count": 78,
   "metadata": {},
   "outputs": [],
   "source": [
    "# Замер времени предсказания\n",
    "start_predict = time()\n",
    "y_pred_train = ridge_gs.predict(X_train)  \n",
    "predict_time_ridge = (time() - start_predict) / 60  "
   ]
  },
  {
   "cell_type": "code",
   "execution_count": 79,
   "metadata": {},
   "outputs": [
    {
     "name": "stdout",
     "output_type": "stream",
     "text": [
      "Linear Regression RMSE (CV): 2689.8601\n",
      "Training Time: 0.0613 minutes\n",
      "Prediction Time on Train: 0.0250 minutes\n"
     ]
    }
   ],
   "source": [
    "# Вывод результатов\n",
    "print(f\"Linear Regression RMSE (CV): {rmse_ridge:.4f}\")\n",
    "print(f\"Training Time: {train_time_ridge:.4f} minutes\")\n",
    "print(f\"Prediction Time on Train: {predict_time_ridge:.4f} minutes\")"
   ]
  },
  {
   "cell_type": "markdown",
   "metadata": {},
   "source": [
    "### Градиентный бустинг"
   ]
  },
  {
   "cell_type": "code",
   "execution_count": 80,
   "metadata": {},
   "outputs": [],
   "source": [
    "lgb_pipeline = Pipeline(steps=[\n",
    "    ('preprocessor', data_preprocessor[0]),\n",
    "    ('regressor', lgb.LGBMRegressor(objective='regression', random_state=42, n_jobs=-1))\n",
    "])"
   ]
  },
  {
   "cell_type": "code",
   "execution_count": 81,
   "metadata": {},
   "outputs": [],
   "source": [
    "# Гиперпараметры для LightGBM\n",
    "param_random_lgb = {\n",
    "    'regressor__n_estimators': [100, 200],\n",
    "    'regressor__max_depth': [2, 5],\n",
    "    'regressor__num_leaves': [10, 20],\n",
    "    'regressor__boosting_type': ['gbdt', 'dart', 'goss']\n",
    "}"
   ]
  },
  {
   "cell_type": "code",
   "execution_count": 82,
   "metadata": {},
   "outputs": [
    {
     "data": {
      "text/html": [
       "<style>#sk-container-id-3 {\n",
       "  /* Definition of color scheme common for light and dark mode */\n",
       "  --sklearn-color-text: black;\n",
       "  --sklearn-color-line: gray;\n",
       "  /* Definition of color scheme for unfitted estimators */\n",
       "  --sklearn-color-unfitted-level-0: #fff5e6;\n",
       "  --sklearn-color-unfitted-level-1: #f6e4d2;\n",
       "  --sklearn-color-unfitted-level-2: #ffe0b3;\n",
       "  --sklearn-color-unfitted-level-3: chocolate;\n",
       "  /* Definition of color scheme for fitted estimators */\n",
       "  --sklearn-color-fitted-level-0: #f0f8ff;\n",
       "  --sklearn-color-fitted-level-1: #d4ebff;\n",
       "  --sklearn-color-fitted-level-2: #b3dbfd;\n",
       "  --sklearn-color-fitted-level-3: cornflowerblue;\n",
       "\n",
       "  /* Specific color for light theme */\n",
       "  --sklearn-color-text-on-default-background: var(--sg-text-color, var(--theme-code-foreground, var(--jp-content-font-color1, black)));\n",
       "  --sklearn-color-background: var(--sg-background-color, var(--theme-background, var(--jp-layout-color0, white)));\n",
       "  --sklearn-color-border-box: var(--sg-text-color, var(--theme-code-foreground, var(--jp-content-font-color1, black)));\n",
       "  --sklearn-color-icon: #696969;\n",
       "\n",
       "  @media (prefers-color-scheme: dark) {\n",
       "    /* Redefinition of color scheme for dark theme */\n",
       "    --sklearn-color-text-on-default-background: var(--sg-text-color, var(--theme-code-foreground, var(--jp-content-font-color1, white)));\n",
       "    --sklearn-color-background: var(--sg-background-color, var(--theme-background, var(--jp-layout-color0, #111)));\n",
       "    --sklearn-color-border-box: var(--sg-text-color, var(--theme-code-foreground, var(--jp-content-font-color1, white)));\n",
       "    --sklearn-color-icon: #878787;\n",
       "  }\n",
       "}\n",
       "\n",
       "#sk-container-id-3 {\n",
       "  color: var(--sklearn-color-text);\n",
       "}\n",
       "\n",
       "#sk-container-id-3 pre {\n",
       "  padding: 0;\n",
       "}\n",
       "\n",
       "#sk-container-id-3 input.sk-hidden--visually {\n",
       "  border: 0;\n",
       "  clip: rect(1px 1px 1px 1px);\n",
       "  clip: rect(1px, 1px, 1px, 1px);\n",
       "  height: 1px;\n",
       "  margin: -1px;\n",
       "  overflow: hidden;\n",
       "  padding: 0;\n",
       "  position: absolute;\n",
       "  width: 1px;\n",
       "}\n",
       "\n",
       "#sk-container-id-3 div.sk-dashed-wrapped {\n",
       "  border: 1px dashed var(--sklearn-color-line);\n",
       "  margin: 0 0.4em 0.5em 0.4em;\n",
       "  box-sizing: border-box;\n",
       "  padding-bottom: 0.4em;\n",
       "  background-color: var(--sklearn-color-background);\n",
       "}\n",
       "\n",
       "#sk-container-id-3 div.sk-container {\n",
       "  /* jupyter's `normalize.less` sets `[hidden] { display: none; }`\n",
       "     but bootstrap.min.css set `[hidden] { display: none !important; }`\n",
       "     so we also need the `!important` here to be able to override the\n",
       "     default hidden behavior on the sphinx rendered scikit-learn.org.\n",
       "     See: https://github.com/scikit-learn/scikit-learn/issues/21755 */\n",
       "  display: inline-block !important;\n",
       "  position: relative;\n",
       "}\n",
       "\n",
       "#sk-container-id-3 div.sk-text-repr-fallback {\n",
       "  display: none;\n",
       "}\n",
       "\n",
       "div.sk-parallel-item,\n",
       "div.sk-serial,\n",
       "div.sk-item {\n",
       "  /* draw centered vertical line to link estimators */\n",
       "  background-image: linear-gradient(var(--sklearn-color-text-on-default-background), var(--sklearn-color-text-on-default-background));\n",
       "  background-size: 2px 100%;\n",
       "  background-repeat: no-repeat;\n",
       "  background-position: center center;\n",
       "}\n",
       "\n",
       "/* Parallel-specific style estimator block */\n",
       "\n",
       "#sk-container-id-3 div.sk-parallel-item::after {\n",
       "  content: \"\";\n",
       "  width: 100%;\n",
       "  border-bottom: 2px solid var(--sklearn-color-text-on-default-background);\n",
       "  flex-grow: 1;\n",
       "}\n",
       "\n",
       "#sk-container-id-3 div.sk-parallel {\n",
       "  display: flex;\n",
       "  align-items: stretch;\n",
       "  justify-content: center;\n",
       "  background-color: var(--sklearn-color-background);\n",
       "  position: relative;\n",
       "}\n",
       "\n",
       "#sk-container-id-3 div.sk-parallel-item {\n",
       "  display: flex;\n",
       "  flex-direction: column;\n",
       "}\n",
       "\n",
       "#sk-container-id-3 div.sk-parallel-item:first-child::after {\n",
       "  align-self: flex-end;\n",
       "  width: 50%;\n",
       "}\n",
       "\n",
       "#sk-container-id-3 div.sk-parallel-item:last-child::after {\n",
       "  align-self: flex-start;\n",
       "  width: 50%;\n",
       "}\n",
       "\n",
       "#sk-container-id-3 div.sk-parallel-item:only-child::after {\n",
       "  width: 0;\n",
       "}\n",
       "\n",
       "/* Serial-specific style estimator block */\n",
       "\n",
       "#sk-container-id-3 div.sk-serial {\n",
       "  display: flex;\n",
       "  flex-direction: column;\n",
       "  align-items: center;\n",
       "  background-color: var(--sklearn-color-background);\n",
       "  padding-right: 1em;\n",
       "  padding-left: 1em;\n",
       "}\n",
       "\n",
       "\n",
       "/* Toggleable style: style used for estimator/Pipeline/ColumnTransformer box that is\n",
       "clickable and can be expanded/collapsed.\n",
       "- Pipeline and ColumnTransformer use this feature and define the default style\n",
       "- Estimators will overwrite some part of the style using the `sk-estimator` class\n",
       "*/\n",
       "\n",
       "/* Pipeline and ColumnTransformer style (default) */\n",
       "\n",
       "#sk-container-id-3 div.sk-toggleable {\n",
       "  /* Default theme specific background. It is overwritten whether we have a\n",
       "  specific estimator or a Pipeline/ColumnTransformer */\n",
       "  background-color: var(--sklearn-color-background);\n",
       "}\n",
       "\n",
       "/* Toggleable label */\n",
       "#sk-container-id-3 label.sk-toggleable__label {\n",
       "  cursor: pointer;\n",
       "  display: block;\n",
       "  width: 100%;\n",
       "  margin-bottom: 0;\n",
       "  padding: 0.5em;\n",
       "  box-sizing: border-box;\n",
       "  text-align: center;\n",
       "}\n",
       "\n",
       "#sk-container-id-3 label.sk-toggleable__label-arrow:before {\n",
       "  /* Arrow on the left of the label */\n",
       "  content: \"▸\";\n",
       "  float: left;\n",
       "  margin-right: 0.25em;\n",
       "  color: var(--sklearn-color-icon);\n",
       "}\n",
       "\n",
       "#sk-container-id-3 label.sk-toggleable__label-arrow:hover:before {\n",
       "  color: var(--sklearn-color-text);\n",
       "}\n",
       "\n",
       "/* Toggleable content - dropdown */\n",
       "\n",
       "#sk-container-id-3 div.sk-toggleable__content {\n",
       "  max-height: 0;\n",
       "  max-width: 0;\n",
       "  overflow: hidden;\n",
       "  text-align: left;\n",
       "  /* unfitted */\n",
       "  background-color: var(--sklearn-color-unfitted-level-0);\n",
       "}\n",
       "\n",
       "#sk-container-id-3 div.sk-toggleable__content.fitted {\n",
       "  /* fitted */\n",
       "  background-color: var(--sklearn-color-fitted-level-0);\n",
       "}\n",
       "\n",
       "#sk-container-id-3 div.sk-toggleable__content pre {\n",
       "  margin: 0.2em;\n",
       "  border-radius: 0.25em;\n",
       "  color: var(--sklearn-color-text);\n",
       "  /* unfitted */\n",
       "  background-color: var(--sklearn-color-unfitted-level-0);\n",
       "}\n",
       "\n",
       "#sk-container-id-3 div.sk-toggleable__content.fitted pre {\n",
       "  /* unfitted */\n",
       "  background-color: var(--sklearn-color-fitted-level-0);\n",
       "}\n",
       "\n",
       "#sk-container-id-3 input.sk-toggleable__control:checked~div.sk-toggleable__content {\n",
       "  /* Expand drop-down */\n",
       "  max-height: 200px;\n",
       "  max-width: 100%;\n",
       "  overflow: auto;\n",
       "}\n",
       "\n",
       "#sk-container-id-3 input.sk-toggleable__control:checked~label.sk-toggleable__label-arrow:before {\n",
       "  content: \"▾\";\n",
       "}\n",
       "\n",
       "/* Pipeline/ColumnTransformer-specific style */\n",
       "\n",
       "#sk-container-id-3 div.sk-label input.sk-toggleable__control:checked~label.sk-toggleable__label {\n",
       "  color: var(--sklearn-color-text);\n",
       "  background-color: var(--sklearn-color-unfitted-level-2);\n",
       "}\n",
       "\n",
       "#sk-container-id-3 div.sk-label.fitted input.sk-toggleable__control:checked~label.sk-toggleable__label {\n",
       "  background-color: var(--sklearn-color-fitted-level-2);\n",
       "}\n",
       "\n",
       "/* Estimator-specific style */\n",
       "\n",
       "/* Colorize estimator box */\n",
       "#sk-container-id-3 div.sk-estimator input.sk-toggleable__control:checked~label.sk-toggleable__label {\n",
       "  /* unfitted */\n",
       "  background-color: var(--sklearn-color-unfitted-level-2);\n",
       "}\n",
       "\n",
       "#sk-container-id-3 div.sk-estimator.fitted input.sk-toggleable__control:checked~label.sk-toggleable__label {\n",
       "  /* fitted */\n",
       "  background-color: var(--sklearn-color-fitted-level-2);\n",
       "}\n",
       "\n",
       "#sk-container-id-3 div.sk-label label.sk-toggleable__label,\n",
       "#sk-container-id-3 div.sk-label label {\n",
       "  /* The background is the default theme color */\n",
       "  color: var(--sklearn-color-text-on-default-background);\n",
       "}\n",
       "\n",
       "/* On hover, darken the color of the background */\n",
       "#sk-container-id-3 div.sk-label:hover label.sk-toggleable__label {\n",
       "  color: var(--sklearn-color-text);\n",
       "  background-color: var(--sklearn-color-unfitted-level-2);\n",
       "}\n",
       "\n",
       "/* Label box, darken color on hover, fitted */\n",
       "#sk-container-id-3 div.sk-label.fitted:hover label.sk-toggleable__label.fitted {\n",
       "  color: var(--sklearn-color-text);\n",
       "  background-color: var(--sklearn-color-fitted-level-2);\n",
       "}\n",
       "\n",
       "/* Estimator label */\n",
       "\n",
       "#sk-container-id-3 div.sk-label label {\n",
       "  font-family: monospace;\n",
       "  font-weight: bold;\n",
       "  display: inline-block;\n",
       "  line-height: 1.2em;\n",
       "}\n",
       "\n",
       "#sk-container-id-3 div.sk-label-container {\n",
       "  text-align: center;\n",
       "}\n",
       "\n",
       "/* Estimator-specific */\n",
       "#sk-container-id-3 div.sk-estimator {\n",
       "  font-family: monospace;\n",
       "  border: 1px dotted var(--sklearn-color-border-box);\n",
       "  border-radius: 0.25em;\n",
       "  box-sizing: border-box;\n",
       "  margin-bottom: 0.5em;\n",
       "  /* unfitted */\n",
       "  background-color: var(--sklearn-color-unfitted-level-0);\n",
       "}\n",
       "\n",
       "#sk-container-id-3 div.sk-estimator.fitted {\n",
       "  /* fitted */\n",
       "  background-color: var(--sklearn-color-fitted-level-0);\n",
       "}\n",
       "\n",
       "/* on hover */\n",
       "#sk-container-id-3 div.sk-estimator:hover {\n",
       "  /* unfitted */\n",
       "  background-color: var(--sklearn-color-unfitted-level-2);\n",
       "}\n",
       "\n",
       "#sk-container-id-3 div.sk-estimator.fitted:hover {\n",
       "  /* fitted */\n",
       "  background-color: var(--sklearn-color-fitted-level-2);\n",
       "}\n",
       "\n",
       "/* Specification for estimator info (e.g. \"i\" and \"?\") */\n",
       "\n",
       "/* Common style for \"i\" and \"?\" */\n",
       "\n",
       ".sk-estimator-doc-link,\n",
       "a:link.sk-estimator-doc-link,\n",
       "a:visited.sk-estimator-doc-link {\n",
       "  float: right;\n",
       "  font-size: smaller;\n",
       "  line-height: 1em;\n",
       "  font-family: monospace;\n",
       "  background-color: var(--sklearn-color-background);\n",
       "  border-radius: 1em;\n",
       "  height: 1em;\n",
       "  width: 1em;\n",
       "  text-decoration: none !important;\n",
       "  margin-left: 1ex;\n",
       "  /* unfitted */\n",
       "  border: var(--sklearn-color-unfitted-level-1) 1pt solid;\n",
       "  color: var(--sklearn-color-unfitted-level-1);\n",
       "}\n",
       "\n",
       ".sk-estimator-doc-link.fitted,\n",
       "a:link.sk-estimator-doc-link.fitted,\n",
       "a:visited.sk-estimator-doc-link.fitted {\n",
       "  /* fitted */\n",
       "  border: var(--sklearn-color-fitted-level-1) 1pt solid;\n",
       "  color: var(--sklearn-color-fitted-level-1);\n",
       "}\n",
       "\n",
       "/* On hover */\n",
       "div.sk-estimator:hover .sk-estimator-doc-link:hover,\n",
       ".sk-estimator-doc-link:hover,\n",
       "div.sk-label-container:hover .sk-estimator-doc-link:hover,\n",
       ".sk-estimator-doc-link:hover {\n",
       "  /* unfitted */\n",
       "  background-color: var(--sklearn-color-unfitted-level-3);\n",
       "  color: var(--sklearn-color-background);\n",
       "  text-decoration: none;\n",
       "}\n",
       "\n",
       "div.sk-estimator.fitted:hover .sk-estimator-doc-link.fitted:hover,\n",
       ".sk-estimator-doc-link.fitted:hover,\n",
       "div.sk-label-container:hover .sk-estimator-doc-link.fitted:hover,\n",
       ".sk-estimator-doc-link.fitted:hover {\n",
       "  /* fitted */\n",
       "  background-color: var(--sklearn-color-fitted-level-3);\n",
       "  color: var(--sklearn-color-background);\n",
       "  text-decoration: none;\n",
       "}\n",
       "\n",
       "/* Span, style for the box shown on hovering the info icon */\n",
       ".sk-estimator-doc-link span {\n",
       "  display: none;\n",
       "  z-index: 9999;\n",
       "  position: relative;\n",
       "  font-weight: normal;\n",
       "  right: .2ex;\n",
       "  padding: .5ex;\n",
       "  margin: .5ex;\n",
       "  width: min-content;\n",
       "  min-width: 20ex;\n",
       "  max-width: 50ex;\n",
       "  color: var(--sklearn-color-text);\n",
       "  box-shadow: 2pt 2pt 4pt #999;\n",
       "  /* unfitted */\n",
       "  background: var(--sklearn-color-unfitted-level-0);\n",
       "  border: .5pt solid var(--sklearn-color-unfitted-level-3);\n",
       "}\n",
       "\n",
       ".sk-estimator-doc-link.fitted span {\n",
       "  /* fitted */\n",
       "  background: var(--sklearn-color-fitted-level-0);\n",
       "  border: var(--sklearn-color-fitted-level-3);\n",
       "}\n",
       "\n",
       ".sk-estimator-doc-link:hover span {\n",
       "  display: block;\n",
       "}\n",
       "\n",
       "/* \"?\"-specific style due to the `<a>` HTML tag */\n",
       "\n",
       "#sk-container-id-3 a.estimator_doc_link {\n",
       "  float: right;\n",
       "  font-size: 1rem;\n",
       "  line-height: 1em;\n",
       "  font-family: monospace;\n",
       "  background-color: var(--sklearn-color-background);\n",
       "  border-radius: 1rem;\n",
       "  height: 1rem;\n",
       "  width: 1rem;\n",
       "  text-decoration: none;\n",
       "  /* unfitted */\n",
       "  color: var(--sklearn-color-unfitted-level-1);\n",
       "  border: var(--sklearn-color-unfitted-level-1) 1pt solid;\n",
       "}\n",
       "\n",
       "#sk-container-id-3 a.estimator_doc_link.fitted {\n",
       "  /* fitted */\n",
       "  border: var(--sklearn-color-fitted-level-1) 1pt solid;\n",
       "  color: var(--sklearn-color-fitted-level-1);\n",
       "}\n",
       "\n",
       "/* On hover */\n",
       "#sk-container-id-3 a.estimator_doc_link:hover {\n",
       "  /* unfitted */\n",
       "  background-color: var(--sklearn-color-unfitted-level-3);\n",
       "  color: var(--sklearn-color-background);\n",
       "  text-decoration: none;\n",
       "}\n",
       "\n",
       "#sk-container-id-3 a.estimator_doc_link.fitted:hover {\n",
       "  /* fitted */\n",
       "  background-color: var(--sklearn-color-fitted-level-3);\n",
       "}\n",
       "</style><div id=\"sk-container-id-3\" class=\"sk-top-container\"><div class=\"sk-text-repr-fallback\"><pre>RandomizedSearchCV(cv=5,\n",
       "                   estimator=Pipeline(steps=[(&#x27;preprocessor&#x27;,\n",
       "                                              ColumnTransformer(transformers=[(&#x27;num&#x27;,\n",
       "                                                                               StandardScaler(),\n",
       "                                                                               [&#x27;Kilometer&#x27;,\n",
       "                                                                                &#x27;Power&#x27;,\n",
       "                                                                                &#x27;RegistrationYear&#x27;]),\n",
       "                                                                              (&#x27;ord&#x27;,\n",
       "                                                                               Pipeline(steps=[(&#x27;simple_Imputer_before_ord&#x27;,\n",
       "                                                                                                SimpleImputer(strategy=&#x27;most_frequent&#x27;)),\n",
       "                                                                                               (&#x27;ord&#x27;,\n",
       "                                                                                                OrdinalEncoder(categories=[array([&#x27;yes&#x27;, &#x27;no&#x27;], dtype=object),\n",
       "                                                                                                                           array([&#x27;volkswagen&#x27;, &#x27;porsc...\n",
       "                                                                                                SimpleImputer(strategy=&#x27;most_frequent&#x27;))]),\n",
       "                                                                               [&#x27;Repaired&#x27;,\n",
       "                                                                                &#x27;Brand&#x27;,\n",
       "                                                                                &#x27;FuelType&#x27;,\n",
       "                                                                                &#x27;Gearbox&#x27;,\n",
       "                                                                                &#x27;VehicleType&#x27;,\n",
       "                                                                                &#x27;Model&#x27;])])),\n",
       "                                             (&#x27;regressor&#x27;,\n",
       "                                              LGBMRegressor(objective=&#x27;regression&#x27;,\n",
       "                                                            random_state=42))]),\n",
       "                   param_distributions={&#x27;regressor__boosting_type&#x27;: [&#x27;gbdt&#x27;,\n",
       "                                                                     &#x27;dart&#x27;,\n",
       "                                                                     &#x27;goss&#x27;],\n",
       "                                        &#x27;regressor__max_depth&#x27;: [2, 5],\n",
       "                                        &#x27;regressor__n_estimators&#x27;: [100, 200],\n",
       "                                        &#x27;regressor__num_leaves&#x27;: [10, 20]},\n",
       "                   random_state=42)</pre><b>In a Jupyter environment, please rerun this cell to show the HTML representation or trust the notebook. <br />On GitHub, the HTML representation is unable to render, please try loading this page with nbviewer.org.</b></div><div class=\"sk-container\" hidden><div class=\"sk-item sk-dashed-wrapped\"><div class=\"sk-label-container\"><div class=\"sk-label fitted sk-toggleable\"><input class=\"sk-toggleable__control sk-hidden--visually\" id=\"sk-estimator-id-16\" type=\"checkbox\" ><label for=\"sk-estimator-id-16\" class=\"sk-toggleable__label fitted sk-toggleable__label-arrow fitted\">&nbsp;&nbsp;RandomizedSearchCV<a class=\"sk-estimator-doc-link fitted\" rel=\"noreferrer\" target=\"_blank\" href=\"https://scikit-learn.org/1.5/modules/generated/sklearn.model_selection.RandomizedSearchCV.html\">?<span>Documentation for RandomizedSearchCV</span></a><span class=\"sk-estimator-doc-link fitted\">i<span>Fitted</span></span></label><div class=\"sk-toggleable__content fitted\"><pre>RandomizedSearchCV(cv=5,\n",
       "                   estimator=Pipeline(steps=[(&#x27;preprocessor&#x27;,\n",
       "                                              ColumnTransformer(transformers=[(&#x27;num&#x27;,\n",
       "                                                                               StandardScaler(),\n",
       "                                                                               [&#x27;Kilometer&#x27;,\n",
       "                                                                                &#x27;Power&#x27;,\n",
       "                                                                                &#x27;RegistrationYear&#x27;]),\n",
       "                                                                              (&#x27;ord&#x27;,\n",
       "                                                                               Pipeline(steps=[(&#x27;simple_Imputer_before_ord&#x27;,\n",
       "                                                                                                SimpleImputer(strategy=&#x27;most_frequent&#x27;)),\n",
       "                                                                                               (&#x27;ord&#x27;,\n",
       "                                                                                                OrdinalEncoder(categories=[array([&#x27;yes&#x27;, &#x27;no&#x27;], dtype=object),\n",
       "                                                                                                                           array([&#x27;volkswagen&#x27;, &#x27;porsc...\n",
       "                                                                                                SimpleImputer(strategy=&#x27;most_frequent&#x27;))]),\n",
       "                                                                               [&#x27;Repaired&#x27;,\n",
       "                                                                                &#x27;Brand&#x27;,\n",
       "                                                                                &#x27;FuelType&#x27;,\n",
       "                                                                                &#x27;Gearbox&#x27;,\n",
       "                                                                                &#x27;VehicleType&#x27;,\n",
       "                                                                                &#x27;Model&#x27;])])),\n",
       "                                             (&#x27;regressor&#x27;,\n",
       "                                              LGBMRegressor(objective=&#x27;regression&#x27;,\n",
       "                                                            random_state=42))]),\n",
       "                   param_distributions={&#x27;regressor__boosting_type&#x27;: [&#x27;gbdt&#x27;,\n",
       "                                                                     &#x27;dart&#x27;,\n",
       "                                                                     &#x27;goss&#x27;],\n",
       "                                        &#x27;regressor__max_depth&#x27;: [2, 5],\n",
       "                                        &#x27;regressor__n_estimators&#x27;: [100, 200],\n",
       "                                        &#x27;regressor__num_leaves&#x27;: [10, 20]},\n",
       "                   random_state=42)</pre></div> </div></div><div class=\"sk-parallel\"><div class=\"sk-parallel-item\"><div class=\"sk-item\"><div class=\"sk-label-container\"><div class=\"sk-label fitted sk-toggleable\"><input class=\"sk-toggleable__control sk-hidden--visually\" id=\"sk-estimator-id-17\" type=\"checkbox\" ><label for=\"sk-estimator-id-17\" class=\"sk-toggleable__label fitted sk-toggleable__label-arrow fitted\">best_estimator_: Pipeline</label><div class=\"sk-toggleable__content fitted\"><pre>Pipeline(steps=[(&#x27;preprocessor&#x27;,\n",
       "                 ColumnTransformer(transformers=[(&#x27;num&#x27;, StandardScaler(),\n",
       "                                                  [&#x27;Kilometer&#x27;, &#x27;Power&#x27;,\n",
       "                                                   &#x27;RegistrationYear&#x27;]),\n",
       "                                                 (&#x27;ord&#x27;,\n",
       "                                                  Pipeline(steps=[(&#x27;simple_Imputer_before_ord&#x27;,\n",
       "                                                                   SimpleImputer(strategy=&#x27;most_frequent&#x27;)),\n",
       "                                                                  (&#x27;ord&#x27;,\n",
       "                                                                   OrdinalEncoder(categories=[array([&#x27;yes&#x27;, &#x27;no&#x27;], dtype=object),\n",
       "                                                                                              array([&#x27;volkswagen&#x27;, &#x27;porsche&#x27;, &#x27;opel&#x27;, &#x27;bmw&#x27;, &#x27;honda&#x27;, &#x27;ford&#x27;, &#x27;n...\n",
       "       &#x27;samara&#x27;, &#x27;kalina&#x27;, &#x27;serie_2&#x27;, &#x27;delta&#x27;, &#x27;gl&#x27;, &#x27;range_rover_evoque&#x27;,\n",
       "       &#x27;rangerover&#x27;], dtype=object)],\n",
       "                                                                                  handle_unknown=&#x27;use_encoded_value&#x27;,\n",
       "                                                                                  unknown_value=nan)),\n",
       "                                                                  (&#x27;simple_Imputer_after_ord&#x27;,\n",
       "                                                                   SimpleImputer(strategy=&#x27;most_frequent&#x27;))]),\n",
       "                                                  [&#x27;Repaired&#x27;, &#x27;Brand&#x27;,\n",
       "                                                   &#x27;FuelType&#x27;, &#x27;Gearbox&#x27;,\n",
       "                                                   &#x27;VehicleType&#x27;, &#x27;Model&#x27;])])),\n",
       "                (&#x27;regressor&#x27;,\n",
       "                 LGBMRegressor(boosting_type=&#x27;goss&#x27;, max_depth=5, num_leaves=20,\n",
       "                               objective=&#x27;regression&#x27;, random_state=42))])</pre></div> </div></div><div class=\"sk-serial\"><div class=\"sk-item\"><div class=\"sk-serial\"><div class=\"sk-item sk-dashed-wrapped\"><div class=\"sk-label-container\"><div class=\"sk-label fitted sk-toggleable\"><input class=\"sk-toggleable__control sk-hidden--visually\" id=\"sk-estimator-id-18\" type=\"checkbox\" ><label for=\"sk-estimator-id-18\" class=\"sk-toggleable__label fitted sk-toggleable__label-arrow fitted\">&nbsp;preprocessor: ColumnTransformer<a class=\"sk-estimator-doc-link fitted\" rel=\"noreferrer\" target=\"_blank\" href=\"https://scikit-learn.org/1.5/modules/generated/sklearn.compose.ColumnTransformer.html\">?<span>Documentation for preprocessor: ColumnTransformer</span></a></label><div class=\"sk-toggleable__content fitted\"><pre>ColumnTransformer(transformers=[(&#x27;num&#x27;, StandardScaler(),\n",
       "                                 [&#x27;Kilometer&#x27;, &#x27;Power&#x27;, &#x27;RegistrationYear&#x27;]),\n",
       "                                (&#x27;ord&#x27;,\n",
       "                                 Pipeline(steps=[(&#x27;simple_Imputer_before_ord&#x27;,\n",
       "                                                  SimpleImputer(strategy=&#x27;most_frequent&#x27;)),\n",
       "                                                 (&#x27;ord&#x27;,\n",
       "                                                  OrdinalEncoder(categories=[array([&#x27;yes&#x27;, &#x27;no&#x27;], dtype=object),\n",
       "                                                                             array([&#x27;volkswagen&#x27;, &#x27;porsche&#x27;, &#x27;opel&#x27;, &#x27;bmw&#x27;, &#x27;honda&#x27;, &#x27;ford&#x27;, &#x27;nissan&#x27;,\n",
       "       &#x27;seat&#x27;, &#x27;toyota&#x27;, &#x27;alfa_rom...\n",
       "       &#x27;exeo&#x27;, &#x27;911&#x27;, &#x27;x_type&#x27;, &#x27;lodgy&#x27;, &#x27;citigo&#x27;, &#x27;duster&#x27;, &#x27;amarok&#x27;,\n",
       "       &#x27;lybra&#x27;, &#x27;q3&#x27;, &#x27;i3&#x27;, &#x27;9000&#x27;, &#x27;b_max&#x27;, &#x27;move&#x27;, &#x27;kappa&#x27;, &#x27;materia&#x27;,\n",
       "       &#x27;samara&#x27;, &#x27;kalina&#x27;, &#x27;serie_2&#x27;, &#x27;delta&#x27;, &#x27;gl&#x27;, &#x27;range_rover_evoque&#x27;,\n",
       "       &#x27;rangerover&#x27;], dtype=object)],\n",
       "                                                                 handle_unknown=&#x27;use_encoded_value&#x27;,\n",
       "                                                                 unknown_value=nan)),\n",
       "                                                 (&#x27;simple_Imputer_after_ord&#x27;,\n",
       "                                                  SimpleImputer(strategy=&#x27;most_frequent&#x27;))]),\n",
       "                                 [&#x27;Repaired&#x27;, &#x27;Brand&#x27;, &#x27;FuelType&#x27;, &#x27;Gearbox&#x27;,\n",
       "                                  &#x27;VehicleType&#x27;, &#x27;Model&#x27;])])</pre></div> </div></div><div class=\"sk-parallel\"><div class=\"sk-parallel-item\"><div class=\"sk-item\"><div class=\"sk-label-container\"><div class=\"sk-label fitted sk-toggleable\"><input class=\"sk-toggleable__control sk-hidden--visually\" id=\"sk-estimator-id-19\" type=\"checkbox\" ><label for=\"sk-estimator-id-19\" class=\"sk-toggleable__label fitted sk-toggleable__label-arrow fitted\">num</label><div class=\"sk-toggleable__content fitted\"><pre>[&#x27;Kilometer&#x27;, &#x27;Power&#x27;, &#x27;RegistrationYear&#x27;]</pre></div> </div></div><div class=\"sk-serial\"><div class=\"sk-item\"><div class=\"sk-estimator fitted sk-toggleable\"><input class=\"sk-toggleable__control sk-hidden--visually\" id=\"sk-estimator-id-20\" type=\"checkbox\" ><label for=\"sk-estimator-id-20\" class=\"sk-toggleable__label fitted sk-toggleable__label-arrow fitted\">&nbsp;StandardScaler<a class=\"sk-estimator-doc-link fitted\" rel=\"noreferrer\" target=\"_blank\" href=\"https://scikit-learn.org/1.5/modules/generated/sklearn.preprocessing.StandardScaler.html\">?<span>Documentation for StandardScaler</span></a></label><div class=\"sk-toggleable__content fitted\"><pre>StandardScaler()</pre></div> </div></div></div></div></div><div class=\"sk-parallel-item\"><div class=\"sk-item\"><div class=\"sk-label-container\"><div class=\"sk-label fitted sk-toggleable\"><input class=\"sk-toggleable__control sk-hidden--visually\" id=\"sk-estimator-id-21\" type=\"checkbox\" ><label for=\"sk-estimator-id-21\" class=\"sk-toggleable__label fitted sk-toggleable__label-arrow fitted\">ord</label><div class=\"sk-toggleable__content fitted\"><pre>[&#x27;Repaired&#x27;, &#x27;Brand&#x27;, &#x27;FuelType&#x27;, &#x27;Gearbox&#x27;, &#x27;VehicleType&#x27;, &#x27;Model&#x27;]</pre></div> </div></div><div class=\"sk-serial\"><div class=\"sk-item\"><div class=\"sk-serial\"><div class=\"sk-item\"><div class=\"sk-estimator fitted sk-toggleable\"><input class=\"sk-toggleable__control sk-hidden--visually\" id=\"sk-estimator-id-22\" type=\"checkbox\" ><label for=\"sk-estimator-id-22\" class=\"sk-toggleable__label fitted sk-toggleable__label-arrow fitted\">&nbsp;SimpleImputer<a class=\"sk-estimator-doc-link fitted\" rel=\"noreferrer\" target=\"_blank\" href=\"https://scikit-learn.org/1.5/modules/generated/sklearn.impute.SimpleImputer.html\">?<span>Documentation for SimpleImputer</span></a></label><div class=\"sk-toggleable__content fitted\"><pre>SimpleImputer(strategy=&#x27;most_frequent&#x27;)</pre></div> </div></div><div class=\"sk-item\"><div class=\"sk-estimator fitted sk-toggleable\"><input class=\"sk-toggleable__control sk-hidden--visually\" id=\"sk-estimator-id-23\" type=\"checkbox\" ><label for=\"sk-estimator-id-23\" class=\"sk-toggleable__label fitted sk-toggleable__label-arrow fitted\">&nbsp;OrdinalEncoder<a class=\"sk-estimator-doc-link fitted\" rel=\"noreferrer\" target=\"_blank\" href=\"https://scikit-learn.org/1.5/modules/generated/sklearn.preprocessing.OrdinalEncoder.html\">?<span>Documentation for OrdinalEncoder</span></a></label><div class=\"sk-toggleable__content fitted\"><pre>OrdinalEncoder(categories=[array([&#x27;yes&#x27;, &#x27;no&#x27;], dtype=object),\n",
       "                           array([&#x27;volkswagen&#x27;, &#x27;porsche&#x27;, &#x27;opel&#x27;, &#x27;bmw&#x27;, &#x27;honda&#x27;, &#x27;ford&#x27;, &#x27;nissan&#x27;,\n",
       "       &#x27;seat&#x27;, &#x27;toyota&#x27;, &#x27;alfa_romeo&#x27;, &#x27;mini&#x27;, &#x27;citroen&#x27;, &#x27;mitsubishi&#x27;,\n",
       "       &#x27;volvo&#x27;, &#x27;chrysler&#x27;, &#x27;peugeot&#x27;, &#x27;fiat&#x27;, &#x27;hyundai&#x27;, &#x27;renault&#x27;,\n",
       "       &#x27;audi&#x27;, &#x27;mercedes_benz&#x27;, &#x27;skoda&#x27;, &#x27;daihatsu&#x27;, &#x27;mazda&#x27;, &#x27;chevrolet&#x27;,\n",
       "       &#x27;smart&#x27;, &#x27;sonstige_autos&#x27;, &#x27;suzuki&#x27;, &#x27;lada&#x27;, &#x27;jeep...\n",
       "       &#x27;antara&#x27;, &#x27;crossfire&#x27;, &#x27;forester&#x27;, &#x27;cayenne&#x27;, &#x27;phaeton&#x27;, &#x27;justy&#x27;,\n",
       "       &#x27;300c&#x27;, &#x27;v_klasse&#x27;, &#x27;defender&#x27;, &#x27;glk&#x27;, &#x27;musa&#x27;, &#x27;aveo&#x27;, &#x27;q5&#x27;,\n",
       "       &#x27;exeo&#x27;, &#x27;911&#x27;, &#x27;x_type&#x27;, &#x27;lodgy&#x27;, &#x27;citigo&#x27;, &#x27;duster&#x27;, &#x27;amarok&#x27;,\n",
       "       &#x27;lybra&#x27;, &#x27;q3&#x27;, &#x27;i3&#x27;, &#x27;9000&#x27;, &#x27;b_max&#x27;, &#x27;move&#x27;, &#x27;kappa&#x27;, &#x27;materia&#x27;,\n",
       "       &#x27;samara&#x27;, &#x27;kalina&#x27;, &#x27;serie_2&#x27;, &#x27;delta&#x27;, &#x27;gl&#x27;, &#x27;range_rover_evoque&#x27;,\n",
       "       &#x27;rangerover&#x27;], dtype=object)],\n",
       "               handle_unknown=&#x27;use_encoded_value&#x27;, unknown_value=nan)</pre></div> </div></div><div class=\"sk-item\"><div class=\"sk-estimator fitted sk-toggleable\"><input class=\"sk-toggleable__control sk-hidden--visually\" id=\"sk-estimator-id-24\" type=\"checkbox\" ><label for=\"sk-estimator-id-24\" class=\"sk-toggleable__label fitted sk-toggleable__label-arrow fitted\">&nbsp;SimpleImputer<a class=\"sk-estimator-doc-link fitted\" rel=\"noreferrer\" target=\"_blank\" href=\"https://scikit-learn.org/1.5/modules/generated/sklearn.impute.SimpleImputer.html\">?<span>Documentation for SimpleImputer</span></a></label><div class=\"sk-toggleable__content fitted\"><pre>SimpleImputer(strategy=&#x27;most_frequent&#x27;)</pre></div> </div></div></div></div></div></div></div></div></div><div class=\"sk-item\"><div class=\"sk-estimator fitted sk-toggleable\"><input class=\"sk-toggleable__control sk-hidden--visually\" id=\"sk-estimator-id-25\" type=\"checkbox\" ><label for=\"sk-estimator-id-25\" class=\"sk-toggleable__label fitted sk-toggleable__label-arrow fitted\">LGBMRegressor</label><div class=\"sk-toggleable__content fitted\"><pre>LGBMRegressor(boosting_type=&#x27;goss&#x27;, max_depth=5, num_leaves=20,\n",
       "              objective=&#x27;regression&#x27;, random_state=42)</pre></div> </div></div></div></div></div></div></div></div></div></div></div>"
      ],
      "text/plain": [
       "RandomizedSearchCV(cv=5,\n",
       "                   estimator=Pipeline(steps=[('preprocessor',\n",
       "                                              ColumnTransformer(transformers=[('num',\n",
       "                                                                               StandardScaler(),\n",
       "                                                                               ['Kilometer',\n",
       "                                                                                'Power',\n",
       "                                                                                'RegistrationYear']),\n",
       "                                                                              ('ord',\n",
       "                                                                               Pipeline(steps=[('simple_Imputer_before_ord',\n",
       "                                                                                                SimpleImputer(strategy='most_frequent')),\n",
       "                                                                                               ('ord',\n",
       "                                                                                                OrdinalEncoder(categories=[array(['yes', 'no'], dtype=object),\n",
       "                                                                                                                           array(['volkswagen', 'porsc...\n",
       "                                                                                                SimpleImputer(strategy='most_frequent'))]),\n",
       "                                                                               ['Repaired',\n",
       "                                                                                'Brand',\n",
       "                                                                                'FuelType',\n",
       "                                                                                'Gearbox',\n",
       "                                                                                'VehicleType',\n",
       "                                                                                'Model'])])),\n",
       "                                             ('regressor',\n",
       "                                              LGBMRegressor(objective='regression',\n",
       "                                                            random_state=42))]),\n",
       "                   param_distributions={'regressor__boosting_type': ['gbdt',\n",
       "                                                                     'dart',\n",
       "                                                                     'goss'],\n",
       "                                        'regressor__max_depth': [2, 5],\n",
       "                                        'regressor__n_estimators': [100, 200],\n",
       "                                        'regressor__num_leaves': [10, 20]},\n",
       "                   random_state=42)"
      ]
     },
     "execution_count": 82,
     "metadata": {},
     "output_type": "execute_result"
    }
   ],
   "source": [
    "# Подбор гиперпараметров для LGBMRegressor\n",
    "lgbm_gs = (RandomizedSearchCV(estimator=lgb_pipeline, param_distributions=param_random_lgb,\n",
    "                                       cv=5, random_state=RANDOM_STATE))\n",
    "lgbm_gs.fit(X_train, y_train)"
   ]
  },
  {
   "cell_type": "code",
   "execution_count": 83,
   "metadata": {},
   "outputs": [],
   "source": [
    "start = time()\n",
    "lgbm_gs.best_estimator_.fit(X_train, y_train)\n",
    "train_time_lgbm = (time() - start) / 60\n",
    "rmse_lgbm = np.sqrt(lgbm_gs.best_score_)"
   ]
  },
  {
   "cell_type": "code",
   "execution_count": 84,
   "metadata": {},
   "outputs": [],
   "source": [
    "# Замер времени предсказания\n",
    "start_predict = time()\n",
    "y_pred_train = lgbm_gs.predict(X_train)  \n",
    "predict_time_lgbm = (time() - start_predict) / 60  "
   ]
  },
  {
   "cell_type": "code",
   "execution_count": 85,
   "metadata": {},
   "outputs": [
    {
     "name": "stdout",
     "output_type": "stream",
     "text": [
      "Linear Regression RMSE (CV): 0.9201\n",
      "Training Time: 0.1850 minutes\n",
      "Prediction Time on Train: 0.0305 minutes\n"
     ]
    }
   ],
   "source": [
    "# Вывод результатов\n",
    "print(f\"Linear Regression RMSE (CV): {rmse_lgbm:.4f}\")\n",
    "print(f\"Training Time: {train_time_lgbm:.4f} minutes\")\n",
    "print(f\"Prediction Time on Train: {predict_time_lgbm:.4f} minutes\")"
   ]
  },
  {
   "cell_type": "markdown",
   "metadata": {},
   "source": [
    "### Модель Dummy "
   ]
  },
  {
   "cell_type": "code",
   "execution_count": 86,
   "metadata": {},
   "outputs": [],
   "source": [
    "dummy_pipeline = Pipeline(steps=[\n",
    "    ('preprocessor', data_preprocessor[0]), \n",
    "    ('regressor', DummyRegressor())  \n",
    "])\n",
    "start = time()\n",
    "dummy_pipeline.fit(X_train, y_train)  # Обучаем модель на тренировочной выборке\n",
    "train_time_dummy = (time() - start) / 60  # Время обучения\n",
    "y_pred_dummy = dummy_pipeline.predict(X_test)\n",
    "\n",
    "start_predict = time()\n",
    "y_pred_train = dummy_pipeline.predict(X_train)  \n",
    "predict_time_dummy = (time() - start_predict) / 60  \n",
    "rmse_dummy = np.sqrt(mean_squared_error(y_test, y_pred_dummy))"
   ]
  },
  {
   "cell_type": "code",
   "execution_count": 87,
   "metadata": {},
   "outputs": [
    {
     "name": "stdout",
     "output_type": "stream",
     "text": [
      "Linear Regression RMSE (CV): 4597.6585\n",
      "Training Time: 0.0093 minutes\n",
      "Prediction Time on Train: 0.0066 minutes\n"
     ]
    }
   ],
   "source": [
    "# Вывод результатов\n",
    "print(f\"Linear Regression RMSE (CV): {rmse_dummy:.4f}\")\n",
    "print(f\"Training Time: {train_time_dummy:.4f} minutes\")\n",
    "print(f\"Prediction Time on Train: {predict_time_dummy:.4f} minutes\")"
   ]
  },
  {
   "cell_type": "markdown",
   "metadata": {},
   "source": [
    "**Вывод по 2 шагу: По итогу данного шага было обучено 3 модели Линейная регрессия, Ridge и модель градиентного бустинга, использованы несколько видов гиперпараметров для 2 и 3 модели. В ходе проверки на тестовой выборке получили, что только бустинговая модель достигла практически нулевого отклонения на кросс-валидации равным 0.92. Особенным параметром был boosting_type, которые определял тип бустинга. Пайпалайн показал, что лучшим типом был goss. Тип основанный на сокращении используемых данных, фокусируясь на наиболее значимых примерах. Проведено сравнение моделей с Dummy регрессором, результат работы этой модели также будет добавлен в итоговую таблицу и учтен при сравнении.**"
   ]
  },
  {
   "cell_type": "markdown",
   "metadata": {},
   "source": [
    "## Анализ моделей"
   ]
  },
  {
   "cell_type": "code",
   "execution_count": 88,
   "metadata": {},
   "outputs": [
    {
     "data": {
      "text/html": [
       "<div>\n",
       "<style scoped>\n",
       "    .dataframe tbody tr th:only-of-type {\n",
       "        vertical-align: middle;\n",
       "    }\n",
       "\n",
       "    .dataframe tbody tr th {\n",
       "        vertical-align: top;\n",
       "    }\n",
       "\n",
       "    .dataframe thead th {\n",
       "        text-align: right;\n",
       "    }\n",
       "</style>\n",
       "<table border=\"1\" class=\"dataframe\">\n",
       "  <thead>\n",
       "    <tr style=\"text-align: right;\">\n",
       "      <th></th>\n",
       "      <th>Model</th>\n",
       "      <th>RMSE</th>\n",
       "      <th>Training Time (min)</th>\n",
       "      <th>Pridict Time(Train data)</th>\n",
       "    </tr>\n",
       "  </thead>\n",
       "  <tbody>\n",
       "    <tr>\n",
       "      <th>0</th>\n",
       "      <td>Linear Regression</td>\n",
       "      <td>2689.935811</td>\n",
       "      <td>0.444776</td>\n",
       "      <td>0.024629</td>\n",
       "    </tr>\n",
       "    <tr>\n",
       "      <th>1</th>\n",
       "      <td>Ridge</td>\n",
       "      <td>2689.860120</td>\n",
       "      <td>0.061309</td>\n",
       "      <td>0.024990</td>\n",
       "    </tr>\n",
       "    <tr>\n",
       "      <th>2</th>\n",
       "      <td>LGBMRegressor</td>\n",
       "      <td>0.920146</td>\n",
       "      <td>0.185026</td>\n",
       "      <td>0.030470</td>\n",
       "    </tr>\n",
       "  </tbody>\n",
       "</table>\n",
       "</div>"
      ],
      "text/plain": [
       "               Model         RMSE  Training Time (min)  \\\n",
       "0  Linear Regression  2689.935811             0.444776   \n",
       "1              Ridge  2689.860120             0.061309   \n",
       "2      LGBMRegressor     0.920146             0.185026   \n",
       "\n",
       "   Pridict Time(Train data)  \n",
       "0                  0.024629  \n",
       "1                  0.024990  \n",
       "2                  0.030470  "
      ]
     },
     "execution_count": 88,
     "metadata": {},
     "output_type": "execute_result"
    }
   ],
   "source": [
    "results = {\n",
    "    'Model': ['Linear Regression', 'Ridge', 'LGBMRegressor'],\n",
    "    'RMSE': [rmse_linear, rmse_ridge, rmse_lgbm],\n",
    "    'Training Time (min)': [train_time_linear, train_time_ridge, train_time_lgbm],\n",
    "    'Pridict Time(Train data)': [predict_time_linear, predict_time_ridge, predict_time_lgbm]\n",
    "}\n",
    "\n",
    "df_results = pd.DataFrame(results)\n",
    "df_results"
   ]
  },
  {
   "cell_type": "code",
   "execution_count": 89,
   "metadata": {},
   "outputs": [],
   "source": [
    "best_model = lgbm_gs.best_estimator_\n",
    "best_model.fit(X_train, y_train)\n",
    "y_pred = best_model.predict(X_test)"
   ]
  },
  {
   "cell_type": "code",
   "execution_count": 90,
   "metadata": {},
   "outputs": [
    {
     "name": "stdout",
     "output_type": "stream",
     "text": [
      "Test RMSE: 1797.8873\n"
     ]
    }
   ],
   "source": [
    "# Оценка RMSE на тестовой выборке\n",
    "rmse_test = np.sqrt(mean_squared_error(y_test, y_pred))\n",
    "print(f\"Test RMSE: {rmse_test:.4f}\")"
   ]
  },
  {
   "cell_type": "markdown",
   "metadata": {},
   "source": [
    "**Итоги третьего шага(результаты кросс-валидации):  У заказчика было 3 критерия:**\n",
    " - качество \n",
    " - время обучения \n",
    " \n",
    "Ознакомиться с результатами работы моделей можно в итоговой таблице `df_results`.\n",
    "\n",
    " Таким образом, можно сказать, что в данном случае почти 11 минут у Бустинга выглядит намного больше, чем те же 2 минуты у обычной линейной регрессии, но качество у бустинга на кросс-валидации rmse = 0.92, что очень хороший показатель. На тестовой выборке была задача, чтобы RMSE не превышала 2500, у бустинговой модели получилось достичь результата в 1797, что удовлетворяет условию. Намного точнее можно  предсказать цену автомобиля Бустингом. Тем самым цены автомобилям будут утверждаться  по соответствию их характеристикам, поэтому заказчику рекомендуется использовать модель LGBMRegressor(boosting_type='goss', max_depth=5, n_estimators=200, num_leaves=20,objective='regression', random_state=42) с соответствующими параметрами."
   ]
  },
  {
   "cell_type": "markdown",
   "metadata": {},
   "source": [
    "## Итоговый вывод по проекту"
   ]
  },
  {
   "cell_type": "markdown",
   "metadata": {},
   "source": [
    "В ходе выполнения проекта были выполнены следующие шаги:\n",
    "\n",
    " - Загрузка необходимых библиотек и загрузка самих данных.\n",
    "\n",
    " - Предобработка данных включала в себя: \n",
    "      - Заполнение пропущенных значений с помощью SimpleImputer, который заполнил пропуски в категориальных признаках наиболее часто встречающимся значением;\n",
    "      - Было обнаружено 5 дубликатов, которые были удалены;\n",
    "      - Обработка аномальных значений: в столбце с мощностью автомобиля имелись нулевые значения, которые были заполнены средний значение по столбцу, без учета этих самых нулевых значений, год регистрации автомобиля был указан далеко за 2016 год, поэтому был получен срез данных, где мы ограничились промежутком времени от 1960 по 2016 год - года выгрузки анкет с сервиса;\n",
    "      - Удалены столбцы:\n",
    "        - NumberOfPictures - содержит одни нули, поэтому является не информативным столбцом.\n",
    "\n",
    "        - PostalCode - почтовый индекс владельца вряд ли может влиять на цену автомобиля\n",
    "\n",
    "        - DateCrawled, LastSeen, DateCreated  -  представленные даты тоже вряд ли могут влиять на цену автомобиля, цель предсказать которую нам необходимо.\n",
    "\n",
    "        - RegistrationMonth - так как особой сезонности в регистрации автомобилей мы не увидели, а дистация по годам достаточно большая, то больше информации дадут именно года. а не месяцы. К тому же в данном столбце около 40000 значений с 0 месяцем, удалять нельзя, так как пропадет много строк, поэтому легче избавиться от всего столбца.\n",
    "        - После всех окончательных манипуляций и удалений столбцов появились дубликаты снова, которые также были удалены.\n",
    " - Подготовка данных: \n",
    "     - Столбцы были распределены на категориальные  и количественные для дальнейшего корректного кодирования;\n",
    "     - Создан трансформер, которые будет преобразовывать соответствующие признаки при обучении.\n",
    " - Обучение : По итогу данного шага было обучено 3 модели Линейная регрессия, Ridge и модель градиентного бустинга, использованы несколько видов гиперпараметров для 2 и 3 модели. В ходе проверки на тестовой выборке получили, что только бустинговая модель достигла практически нулевого отклонения на кросс-валидации равным 0.92. Особенным параметром был boosting_type, которые определял тип бустинга. Пайпалайн показал, что лучшим типом был goss. Тип основанный на сокращении используемых данных, фокусируясь на наиболее значимых примерах. Проведено сравнение моделей с Dummy регрессором, результат работы этой модели также будет добавлен в итоговую таблицу и учтен при сравнении.\n",
    " \n",
    " - Анализ моделей:\n",
    " \n",
    "**Важными параметрами оценки модели были**:\n",
    " - качество \n",
    " - время обучения \n",
    " \n",
    "Ознакомиться с результатами работы моделей можно в итоговой таблице `df_results`.\n",
    "\n",
    " Таким образом, можно сказать, что в данном случае почти 11 минут у Бустинга выглядит намного больше, чем те же 2 минуты у обычной линейной регрессии, но качество у бустинга на кросс-валидации rmse = 0.92, что очень хороший показатель. На тестовой выборке была задача, чтобы RMSE не превышала 2500, у бустинговой модели получилось достичь результата в 1797, что удовлетворяет условию. Намного точнее можно  предсказать цену автомобиля Бустингом. Тем самым цены автомобилям будут утверждаться  по соответствию их характеристикам, поэтому заказчику рекомендуется использовать модель LGBMRegressor(boosting_type='goss', max_depth=5, n_estimators=200, num_leaves=20,objective='regression', random_state=42) с соответствующими параметрами."
   ]
  }
 ],
 "metadata": {
  "ExecuteTimeLog": [
   {
    "duration": 854,
    "start_time": "2024-09-11T13:31:59.635Z"
   },
   {
    "duration": 3,
    "start_time": "2024-09-11T13:32:04.187Z"
   },
   {
    "duration": 3,
    "start_time": "2024-09-11T13:34:20.940Z"
   },
   {
    "duration": 1104,
    "start_time": "2024-09-11T13:35:35.018Z"
   },
   {
    "duration": 146,
    "start_time": "2024-09-11T13:35:42.427Z"
   },
   {
    "duration": 142,
    "start_time": "2024-09-11T13:35:58.142Z"
   },
   {
    "duration": 136,
    "start_time": "2024-09-11T13:38:42.733Z"
   },
   {
    "duration": 8,
    "start_time": "2024-09-11T13:40:22.500Z"
   },
   {
    "duration": 3317,
    "start_time": "2024-09-11T13:40:37.248Z"
   },
   {
    "duration": 549,
    "start_time": "2024-09-11T13:40:42.966Z"
   },
   {
    "duration": 1372,
    "start_time": "2024-09-11T13:40:56.230Z"
   },
   {
    "duration": 1187,
    "start_time": "2024-09-11T13:41:04.905Z"
   },
   {
    "duration": 142,
    "start_time": "2024-09-11T13:41:18.156Z"
   },
   {
    "duration": 268,
    "start_time": "2024-09-11T13:52:02.287Z"
   },
   {
    "duration": 120,
    "start_time": "2024-09-11T13:52:13.217Z"
   },
   {
    "duration": 3,
    "start_time": "2024-09-11T13:53:17.137Z"
   },
   {
    "duration": 14,
    "start_time": "2024-09-11T13:54:02.998Z"
   },
   {
    "duration": 28,
    "start_time": "2024-09-11T14:07:29.798Z"
   },
   {
    "duration": 9,
    "start_time": "2024-09-11T14:07:43.461Z"
   },
   {
    "duration": 1531,
    "start_time": "2024-09-11T14:08:04.446Z"
   },
   {
    "duration": 6,
    "start_time": "2024-09-11T14:08:29.839Z"
   },
   {
    "duration": 162,
    "start_time": "2024-09-11T14:09:58.808Z"
   },
   {
    "duration": 727,
    "start_time": "2024-09-11T14:11:14.430Z"
   },
   {
    "duration": 174,
    "start_time": "2024-09-11T14:11:23.387Z"
   },
   {
    "duration": 2,
    "start_time": "2024-09-11T14:12:29.529Z"
   },
   {
    "duration": 2801,
    "start_time": "2024-09-11T14:12:43.051Z"
   },
   {
    "duration": 15,
    "start_time": "2024-09-11T14:13:22.122Z"
   },
   {
    "duration": 349,
    "start_time": "2024-09-11T14:14:45.975Z"
   },
   {
    "duration": 2593,
    "start_time": "2024-09-11T14:15:07.722Z"
   },
   {
    "duration": 52,
    "start_time": "2024-09-11T14:15:35.243Z"
   },
   {
    "duration": 45,
    "start_time": "2024-09-11T14:15:40.243Z"
   },
   {
    "duration": 2407,
    "start_time": "2024-09-11T14:18:59.633Z"
   },
   {
    "duration": 1327,
    "start_time": "2024-09-11T14:19:02.042Z"
   },
   {
    "duration": 3,
    "start_time": "2024-09-11T14:19:03.370Z"
   },
   {
    "duration": 1203,
    "start_time": "2024-09-11T14:19:03.374Z"
   },
   {
    "duration": 138,
    "start_time": "2024-09-11T14:19:04.579Z"
   },
   {
    "duration": 15,
    "start_time": "2024-09-11T14:19:04.718Z"
   },
   {
    "duration": 219,
    "start_time": "2024-09-11T14:19:04.735Z"
   },
   {
    "duration": 1271,
    "start_time": "2024-09-11T14:19:04.955Z"
   },
   {
    "duration": 750,
    "start_time": "2024-09-11T14:19:06.227Z"
   },
   {
    "duration": 187,
    "start_time": "2024-09-11T14:19:06.979Z"
   },
   {
    "duration": 2,
    "start_time": "2024-09-11T14:19:07.168Z"
   },
   {
    "duration": 46,
    "start_time": "2024-09-11T14:19:55.946Z"
   },
   {
    "duration": 2381,
    "start_time": "2024-09-11T14:20:08.677Z"
   },
   {
    "duration": 1499,
    "start_time": "2024-09-11T14:20:12.172Z"
   },
   {
    "duration": 3,
    "start_time": "2024-09-11T14:20:14.597Z"
   },
   {
    "duration": 1121,
    "start_time": "2024-09-11T14:20:14.828Z"
   },
   {
    "duration": 143,
    "start_time": "2024-09-11T14:20:15.951Z"
   },
   {
    "duration": 16,
    "start_time": "2024-09-11T14:20:18.632Z"
   },
   {
    "duration": 136,
    "start_time": "2024-09-11T14:20:19.770Z"
   },
   {
    "duration": 1385,
    "start_time": "2024-09-11T14:20:20.945Z"
   },
   {
    "duration": 820,
    "start_time": "2024-09-11T14:20:22.332Z"
   },
   {
    "duration": 191,
    "start_time": "2024-09-11T14:20:23.154Z"
   },
   {
    "duration": 2,
    "start_time": "2024-09-11T14:20:24.000Z"
   },
   {
    "duration": 1390,
    "start_time": "2024-09-11T14:22:06.402Z"
   },
   {
    "duration": 4,
    "start_time": "2024-09-11T14:44:20.800Z"
   },
   {
    "duration": 2371,
    "start_time": "2024-09-11T14:44:29.268Z"
   },
   {
    "duration": 1311,
    "start_time": "2024-09-11T14:44:31.641Z"
   },
   {
    "duration": 3,
    "start_time": "2024-09-11T14:44:32.954Z"
   },
   {
    "duration": 1156,
    "start_time": "2024-09-11T14:44:32.960Z"
   },
   {
    "duration": 158,
    "start_time": "2024-09-11T14:44:34.118Z"
   },
   {
    "duration": 26,
    "start_time": "2024-09-11T14:44:34.278Z"
   },
   {
    "duration": 152,
    "start_time": "2024-09-11T14:44:34.306Z"
   },
   {
    "duration": 1291,
    "start_time": "2024-09-11T14:44:34.459Z"
   },
   {
    "duration": 2,
    "start_time": "2024-09-11T14:44:35.752Z"
   },
   {
    "duration": 3,
    "start_time": "2024-09-11T14:48:48.675Z"
   },
   {
    "duration": 107,
    "start_time": "2024-09-11T14:48:59.743Z"
   },
   {
    "duration": 2,
    "start_time": "2024-09-11T14:49:06.052Z"
   },
   {
    "duration": 256,
    "start_time": "2024-09-11T14:49:07.546Z"
   },
   {
    "duration": 3607,
    "start_time": "2024-09-12T11:09:57.850Z"
   },
   {
    "duration": 1668,
    "start_time": "2024-09-12T11:10:01.459Z"
   },
   {
    "duration": 3,
    "start_time": "2024-09-12T11:10:03.129Z"
   },
   {
    "duration": 3182,
    "start_time": "2024-09-12T11:10:03.133Z"
   },
   {
    "duration": 194,
    "start_time": "2024-09-12T11:10:06.317Z"
   },
   {
    "duration": 17,
    "start_time": "2024-09-12T11:10:06.513Z"
   },
   {
    "duration": 168,
    "start_time": "2024-09-12T11:10:06.531Z"
   },
   {
    "duration": 1528,
    "start_time": "2024-09-12T11:10:06.700Z"
   },
   {
    "duration": 3,
    "start_time": "2024-09-12T11:10:08.230Z"
   },
   {
    "duration": 11,
    "start_time": "2024-09-12T11:10:08.235Z"
   },
   {
    "duration": 287,
    "start_time": "2024-09-12T11:10:08.248Z"
   },
   {
    "duration": 133,
    "start_time": "2024-09-12T11:10:56.681Z"
   },
   {
    "duration": 269,
    "start_time": "2024-09-12T11:11:12.530Z"
   },
   {
    "duration": 369,
    "start_time": "2024-09-12T11:11:41.710Z"
   },
   {
    "duration": 1508,
    "start_time": "2024-09-12T11:11:42.081Z"
   },
   {
    "duration": 11,
    "start_time": "2024-09-12T11:12:44.587Z"
   },
   {
    "duration": 481,
    "start_time": "2024-09-12T11:12:51.319Z"
   },
   {
    "duration": 469,
    "start_time": "2024-09-12T11:12:58.071Z"
   },
   {
    "duration": 3,
    "start_time": "2024-09-12T11:13:07.832Z"
   },
   {
    "duration": 497,
    "start_time": "2024-09-12T11:13:11.337Z"
   },
   {
    "duration": 447,
    "start_time": "2024-09-12T11:13:57.389Z"
   },
   {
    "duration": 467,
    "start_time": "2024-09-12T11:14:01.307Z"
   },
   {
    "duration": 4,
    "start_time": "2024-09-12T11:14:33.434Z"
   },
   {
    "duration": 509,
    "start_time": "2024-09-12T11:14:35.585Z"
   },
   {
    "duration": 4,
    "start_time": "2024-09-12T11:14:42.450Z"
   },
   {
    "duration": 133,
    "start_time": "2024-09-12T11:18:52.046Z"
   },
   {
    "duration": 4,
    "start_time": "2024-09-12T11:19:53.231Z"
   },
   {
    "duration": 19,
    "start_time": "2024-09-12T11:20:22.628Z"
   },
   {
    "duration": 3,
    "start_time": "2024-09-12T11:20:28.427Z"
   },
   {
    "duration": 116,
    "start_time": "2024-09-12T11:20:30.195Z"
   },
   {
    "duration": 4,
    "start_time": "2024-09-12T11:24:38.526Z"
   },
   {
    "duration": 116,
    "start_time": "2024-09-12T11:24:39.230Z"
   },
   {
    "duration": 4,
    "start_time": "2024-09-12T11:25:53.574Z"
   },
   {
    "duration": 14,
    "start_time": "2024-09-12T11:25:54.186Z"
   },
   {
    "duration": 3,
    "start_time": "2024-09-12T11:26:07.055Z"
   },
   {
    "duration": 116,
    "start_time": "2024-09-12T11:26:07.396Z"
   },
   {
    "duration": 3,
    "start_time": "2024-09-12T11:26:16.396Z"
   },
   {
    "duration": 58,
    "start_time": "2024-09-12T11:26:17.782Z"
   },
   {
    "duration": 4,
    "start_time": "2024-09-12T11:26:26.226Z"
   },
   {
    "duration": 120,
    "start_time": "2024-09-12T11:26:26.536Z"
   },
   {
    "duration": 4,
    "start_time": "2024-09-12T11:26:51.635Z"
   },
   {
    "duration": 139,
    "start_time": "2024-09-12T11:26:51.955Z"
   },
   {
    "duration": 8,
    "start_time": "2024-09-12T11:28:04.366Z"
   },
   {
    "duration": 174,
    "start_time": "2024-09-12T11:28:04.649Z"
   },
   {
    "duration": 3,
    "start_time": "2024-09-12T11:28:29.270Z"
   },
   {
    "duration": 184,
    "start_time": "2024-09-12T11:28:29.630Z"
   },
   {
    "duration": 3,
    "start_time": "2024-09-12T11:29:06.595Z"
   },
   {
    "duration": 202,
    "start_time": "2024-09-12T11:29:06.903Z"
   },
   {
    "duration": 3,
    "start_time": "2024-09-12T11:43:37.914Z"
   },
   {
    "duration": 226,
    "start_time": "2024-09-12T11:43:38.220Z"
   },
   {
    "duration": 13,
    "start_time": "2024-09-12T11:45:10.486Z"
   },
   {
    "duration": 8,
    "start_time": "2024-09-12T11:46:13.830Z"
   },
   {
    "duration": 9,
    "start_time": "2024-09-12T11:46:29.024Z"
   },
   {
    "duration": 10,
    "start_time": "2024-09-12T11:50:34.475Z"
   },
   {
    "duration": 10,
    "start_time": "2024-09-12T11:50:40.721Z"
   },
   {
    "duration": 3,
    "start_time": "2024-09-12T11:53:15.652Z"
   },
   {
    "duration": 5198,
    "start_time": "2024-09-12T11:53:48.141Z"
   },
   {
    "duration": 3,
    "start_time": "2024-09-12T11:55:01.226Z"
   },
   {
    "duration": 5221,
    "start_time": "2024-09-12T11:55:03.376Z"
   },
   {
    "duration": 3,
    "start_time": "2024-09-12T11:56:40.656Z"
   },
   {
    "duration": 201,
    "start_time": "2024-09-12T11:57:34.210Z"
   },
   {
    "duration": 3,
    "start_time": "2024-09-12T11:57:48.990Z"
   },
   {
    "duration": 15,
    "start_time": "2024-09-12T11:57:51.829Z"
   },
   {
    "duration": 3,
    "start_time": "2024-09-12T11:58:12.417Z"
   },
   {
    "duration": 181,
    "start_time": "2024-09-12T11:58:12.815Z"
   },
   {
    "duration": 3,
    "start_time": "2024-09-12T11:58:25.155Z"
   },
   {
    "duration": 240,
    "start_time": "2024-09-12T11:58:25.505Z"
   },
   {
    "duration": 3,
    "start_time": "2024-09-12T11:58:31.675Z"
   },
   {
    "duration": 304,
    "start_time": "2024-09-12T11:58:31.971Z"
   },
   {
    "duration": 3,
    "start_time": "2024-09-12T11:59:04.488Z"
   },
   {
    "duration": 247,
    "start_time": "2024-09-12T11:59:04.781Z"
   },
   {
    "duration": 5,
    "start_time": "2024-09-12T12:02:39.705Z"
   },
   {
    "duration": 267,
    "start_time": "2024-09-12T12:02:40.085Z"
   },
   {
    "duration": 1415,
    "start_time": "2024-09-12T12:03:17.883Z"
   },
   {
    "duration": 3,
    "start_time": "2024-09-12T13:03:25.360Z"
   },
   {
    "duration": 3,
    "start_time": "2024-09-12T13:05:01.377Z"
   },
   {
    "duration": 49,
    "start_time": "2024-09-12T18:05:17.505Z"
   },
   {
    "duration": 3272,
    "start_time": "2024-09-12T18:05:24.310Z"
   },
   {
    "duration": 1761,
    "start_time": "2024-09-12T18:05:30.554Z"
   },
   {
    "duration": 3,
    "start_time": "2024-09-12T18:05:32.317Z"
   },
   {
    "duration": 3055,
    "start_time": "2024-09-12T18:05:33.130Z"
   },
   {
    "duration": 159,
    "start_time": "2024-09-12T18:05:36.188Z"
   },
   {
    "duration": 141,
    "start_time": "2024-09-12T18:05:38.474Z"
   },
   {
    "duration": 1411,
    "start_time": "2024-09-12T18:05:39.264Z"
   },
   {
    "duration": 3,
    "start_time": "2024-09-12T18:05:40.677Z"
   },
   {
    "duration": 2,
    "start_time": "2024-09-12T18:05:40.901Z"
   },
   {
    "duration": 404,
    "start_time": "2024-09-12T18:05:43.237Z"
   },
   {
    "duration": 1466,
    "start_time": "2024-09-12T18:05:43.738Z"
   },
   {
    "duration": 473,
    "start_time": "2024-09-12T18:05:49.063Z"
   },
   {
    "duration": 3,
    "start_time": "2024-09-12T18:05:50.128Z"
   },
   {
    "duration": 556,
    "start_time": "2024-09-12T18:05:50.700Z"
   },
   {
    "duration": 4,
    "start_time": "2024-09-12T18:05:51.684Z"
   },
   {
    "duration": 3,
    "start_time": "2024-09-12T18:05:54.542Z"
   },
   {
    "duration": 3,
    "start_time": "2024-09-12T18:05:54.905Z"
   },
   {
    "duration": 216,
    "start_time": "2024-09-12T18:06:02.033Z"
   },
   {
    "duration": 154,
    "start_time": "2024-09-12T18:06:19.084Z"
   },
   {
    "duration": 3545,
    "start_time": "2024-09-12T18:06:43.903Z"
   },
   {
    "duration": 25,
    "start_time": "2024-09-12T18:07:28.250Z"
   },
   {
    "duration": 25,
    "start_time": "2024-09-12T18:07:34.914Z"
   },
   {
    "duration": 196,
    "start_time": "2024-09-12T18:07:55.448Z"
   },
   {
    "duration": 38,
    "start_time": "2024-09-12T18:09:44.413Z"
   },
   {
    "duration": 274,
    "start_time": "2024-09-12T18:10:57.633Z"
   },
   {
    "duration": 113,
    "start_time": "2024-09-12T18:11:32.626Z"
   },
   {
    "duration": 46,
    "start_time": "2024-09-12T18:12:30.080Z"
   },
   {
    "duration": 177,
    "start_time": "2024-09-12T18:13:47.217Z"
   },
   {
    "duration": 168,
    "start_time": "2024-09-12T18:13:58.126Z"
   },
   {
    "duration": 182,
    "start_time": "2024-09-12T18:14:17.070Z"
   },
   {
    "duration": 215,
    "start_time": "2024-09-12T18:14:47.574Z"
   },
   {
    "duration": 203,
    "start_time": "2024-09-12T18:15:01.932Z"
   },
   {
    "duration": 223,
    "start_time": "2024-09-12T18:15:30.620Z"
   },
   {
    "duration": 213,
    "start_time": "2024-09-12T18:15:40.707Z"
   },
   {
    "duration": 213,
    "start_time": "2024-09-12T18:16:02.686Z"
   },
   {
    "duration": 226,
    "start_time": "2024-09-12T18:16:13.131Z"
   },
   {
    "duration": 759,
    "start_time": "2024-09-12T18:17:34.974Z"
   },
   {
    "duration": 24,
    "start_time": "2024-09-12T18:17:52.585Z"
   },
   {
    "duration": 343,
    "start_time": "2024-09-12T18:18:47.551Z"
   },
   {
    "duration": 9,
    "start_time": "2024-09-12T18:19:02.306Z"
   },
   {
    "duration": 9,
    "start_time": "2024-09-12T18:19:05.450Z"
   },
   {
    "duration": 165,
    "start_time": "2024-09-12T18:19:14.553Z"
   },
   {
    "duration": 16,
    "start_time": "2024-09-12T18:19:44.856Z"
   },
   {
    "duration": 260,
    "start_time": "2024-09-12T18:22:13.362Z"
   },
   {
    "duration": 280,
    "start_time": "2024-09-12T18:25:57.975Z"
   },
   {
    "duration": 4,
    "start_time": "2024-09-12T18:26:14.127Z"
   },
   {
    "duration": 205,
    "start_time": "2024-09-12T18:26:18.223Z"
   },
   {
    "duration": 192,
    "start_time": "2024-09-12T18:26:24.584Z"
   },
   {
    "duration": 10,
    "start_time": "2024-09-12T18:26:54.046Z"
   },
   {
    "duration": 3,
    "start_time": "2024-09-12T18:27:38.530Z"
   },
   {
    "duration": 381,
    "start_time": "2024-09-12T18:27:51.355Z"
   },
   {
    "duration": 212,
    "start_time": "2024-09-12T18:27:58.501Z"
   },
   {
    "duration": 412,
    "start_time": "2024-09-12T18:28:09.301Z"
   },
   {
    "duration": 761,
    "start_time": "2024-09-12T18:28:15.708Z"
   },
   {
    "duration": 977,
    "start_time": "2024-09-12T18:29:05.423Z"
   },
   {
    "duration": 7,
    "start_time": "2024-09-12T18:29:42.573Z"
   },
   {
    "duration": 6,
    "start_time": "2024-09-12T18:29:56.842Z"
   },
   {
    "duration": 938,
    "start_time": "2024-09-12T18:30:02.063Z"
   },
   {
    "duration": 299,
    "start_time": "2024-09-12T18:30:07.581Z"
   },
   {
    "duration": 326,
    "start_time": "2024-09-12T18:31:13.741Z"
   },
   {
    "duration": 223,
    "start_time": "2024-09-12T18:31:25.859Z"
   },
   {
    "duration": 6,
    "start_time": "2024-09-12T18:31:53.711Z"
   },
   {
    "duration": 7,
    "start_time": "2024-09-12T18:32:19.376Z"
   },
   {
    "duration": 230,
    "start_time": "2024-09-12T18:32:49.009Z"
   },
   {
    "duration": 168,
    "start_time": "2024-09-12T18:32:56.963Z"
   },
   {
    "duration": 184,
    "start_time": "2024-09-12T18:33:00.528Z"
   },
   {
    "duration": 197,
    "start_time": "2024-09-12T18:33:05.103Z"
   },
   {
    "duration": 212,
    "start_time": "2024-09-12T18:33:38.653Z"
   },
   {
    "duration": 192,
    "start_time": "2024-09-12T18:34:18.785Z"
   },
   {
    "duration": 9,
    "start_time": "2024-09-12T18:34:57.385Z"
   },
   {
    "duration": 376,
    "start_time": "2024-09-12T18:35:48.648Z"
   },
   {
    "duration": 177,
    "start_time": "2024-09-12T18:36:01.147Z"
   },
   {
    "duration": 218,
    "start_time": "2024-09-12T18:36:05.293Z"
   },
   {
    "duration": 274,
    "start_time": "2024-09-12T18:36:36.054Z"
   },
   {
    "duration": 274,
    "start_time": "2024-09-12T18:36:57.296Z"
   },
   {
    "duration": 13,
    "start_time": "2024-09-12T18:37:12.066Z"
   },
   {
    "duration": 11,
    "start_time": "2024-09-12T18:37:45.348Z"
   },
   {
    "duration": 12,
    "start_time": "2024-09-12T18:37:55.911Z"
   },
   {
    "duration": 309,
    "start_time": "2024-09-12T18:38:13.056Z"
   },
   {
    "duration": 271,
    "start_time": "2024-09-12T18:38:24.637Z"
   },
   {
    "duration": 7,
    "start_time": "2024-09-12T18:38:56.795Z"
   },
   {
    "duration": 11,
    "start_time": "2024-09-12T18:39:27.324Z"
   },
   {
    "duration": 286,
    "start_time": "2024-09-12T18:41:12.905Z"
   },
   {
    "duration": 276,
    "start_time": "2024-09-12T18:41:48.385Z"
   },
   {
    "duration": 8,
    "start_time": "2024-09-12T18:41:53.281Z"
   },
   {
    "duration": 19,
    "start_time": "2024-09-12T18:45:54.373Z"
   },
   {
    "duration": 32,
    "start_time": "2024-09-12T18:46:57.100Z"
   },
   {
    "duration": 81,
    "start_time": "2024-09-12T18:49:47.838Z"
   },
   {
    "duration": 152,
    "start_time": "2024-09-12T18:50:26.533Z"
   },
   {
    "duration": 102,
    "start_time": "2024-09-12T18:50:35.629Z"
   },
   {
    "duration": 40,
    "start_time": "2024-09-12T18:51:24.700Z"
   },
   {
    "duration": 3,
    "start_time": "2024-09-12T18:53:10.636Z"
   },
   {
    "duration": 768,
    "start_time": "2024-09-12T18:55:13.332Z"
   },
   {
    "duration": 169,
    "start_time": "2024-09-12T18:55:57.807Z"
   },
   {
    "duration": 486,
    "start_time": "2024-09-12T18:55:59.090Z"
   },
   {
    "duration": 12,
    "start_time": "2024-09-12T18:56:24.842Z"
   },
   {
    "duration": 454,
    "start_time": "2024-09-12T18:56:50.434Z"
   },
   {
    "duration": 93,
    "start_time": "2024-09-12T18:57:32.136Z"
   },
   {
    "duration": 237,
    "start_time": "2024-09-12T18:57:32.886Z"
   },
   {
    "duration": 7,
    "start_time": "2024-09-12T18:57:59.100Z"
   },
   {
    "duration": 6,
    "start_time": "2024-09-12T18:58:05.838Z"
   },
   {
    "duration": 174,
    "start_time": "2024-09-12T18:58:48.294Z"
   },
   {
    "duration": 330,
    "start_time": "2024-09-12T18:58:50.054Z"
   },
   {
    "duration": 13,
    "start_time": "2024-09-12T19:00:04.368Z"
   },
   {
    "duration": 170,
    "start_time": "2024-09-12T19:00:37.033Z"
   },
   {
    "duration": 363,
    "start_time": "2024-09-12T19:00:37.651Z"
   },
   {
    "duration": 163,
    "start_time": "2024-09-12T19:01:19.420Z"
   },
   {
    "duration": 377,
    "start_time": "2024-09-12T19:01:19.908Z"
   },
   {
    "duration": 199,
    "start_time": "2024-09-12T19:02:03.633Z"
   },
   {
    "duration": 359,
    "start_time": "2024-09-12T19:02:04.936Z"
   },
   {
    "duration": 13,
    "start_time": "2024-09-12T19:02:08.078Z"
   },
   {
    "duration": 150,
    "start_time": "2024-09-12T19:02:12.141Z"
   },
   {
    "duration": 384,
    "start_time": "2024-09-12T19:02:13.544Z"
   },
   {
    "duration": 35,
    "start_time": "2024-09-12T19:02:16.484Z"
   },
   {
    "duration": 144,
    "start_time": "2024-09-12T19:02:18.685Z"
   },
   {
    "duration": 384,
    "start_time": "2024-09-12T19:02:19.185Z"
   },
   {
    "duration": 18,
    "start_time": "2024-09-12T19:03:36.705Z"
   },
   {
    "duration": 17,
    "start_time": "2024-09-12T19:04:49.873Z"
   },
   {
    "duration": 50,
    "start_time": "2024-09-12T19:04:56.486Z"
   },
   {
    "duration": 41,
    "start_time": "2024-09-12T19:05:05.981Z"
   },
   {
    "duration": 37,
    "start_time": "2024-09-12T19:05:20.288Z"
   },
   {
    "duration": 15,
    "start_time": "2024-09-12T19:05:52.842Z"
   },
   {
    "duration": 15,
    "start_time": "2024-09-12T19:08:50.114Z"
   },
   {
    "duration": 38,
    "start_time": "2024-09-12T19:09:11.456Z"
   },
   {
    "duration": 10,
    "start_time": "2024-09-12T19:09:18.825Z"
   },
   {
    "duration": 3,
    "start_time": "2024-09-12T19:09:29.150Z"
   },
   {
    "duration": 3,
    "start_time": "2024-09-12T19:09:30.819Z"
   },
   {
    "duration": 10,
    "start_time": "2024-09-12T19:09:37.527Z"
   },
   {
    "duration": 4,
    "start_time": "2024-09-12T19:10:04.117Z"
   },
   {
    "duration": 15,
    "start_time": "2024-09-12T19:10:07.478Z"
   },
   {
    "duration": 2743,
    "start_time": "2024-09-12T19:10:31.172Z"
   },
   {
    "duration": 1496,
    "start_time": "2024-09-12T19:10:33.917Z"
   },
   {
    "duration": 3,
    "start_time": "2024-09-12T19:10:35.415Z"
   },
   {
    "duration": 944,
    "start_time": "2024-09-12T19:10:35.419Z"
   },
   {
    "duration": 160,
    "start_time": "2024-09-12T19:10:36.366Z"
   },
   {
    "duration": 33,
    "start_time": "2024-09-12T19:10:36.528Z"
   },
   {
    "duration": 158,
    "start_time": "2024-09-12T19:10:36.563Z"
   },
   {
    "duration": 1552,
    "start_time": "2024-09-12T19:10:36.722Z"
   },
   {
    "duration": 4,
    "start_time": "2024-09-12T19:10:38.275Z"
   },
   {
    "duration": 29,
    "start_time": "2024-09-12T19:10:38.280Z"
   },
   {
    "duration": 364,
    "start_time": "2024-09-12T19:10:38.310Z"
   },
   {
    "duration": 1401,
    "start_time": "2024-09-12T19:10:38.675Z"
   },
   {
    "duration": 475,
    "start_time": "2024-09-12T19:10:40.078Z"
   },
   {
    "duration": 4,
    "start_time": "2024-09-12T19:10:40.558Z"
   },
   {
    "duration": 504,
    "start_time": "2024-09-12T19:10:40.564Z"
   },
   {
    "duration": 5,
    "start_time": "2024-09-12T19:10:41.070Z"
   },
   {
    "duration": 10,
    "start_time": "2024-09-12T19:10:41.077Z"
   },
   {
    "duration": 16,
    "start_time": "2024-09-12T19:10:41.089Z"
   },
   {
    "duration": 120,
    "start_time": "2024-09-12T19:10:41.107Z"
   },
   {
    "duration": 294,
    "start_time": "2024-09-12T19:10:41.229Z"
   },
   {
    "duration": 170,
    "start_time": "2024-09-12T19:10:41.525Z"
   },
   {
    "duration": 28,
    "start_time": "2024-09-12T19:10:41.698Z"
   },
   {
    "duration": 220,
    "start_time": "2024-09-12T19:10:41.728Z"
   },
   {
    "duration": 29,
    "start_time": "2024-09-12T19:10:41.955Z"
   },
   {
    "duration": 187,
    "start_time": "2024-09-12T19:10:41.986Z"
   },
   {
    "duration": 293,
    "start_time": "2024-09-12T19:10:42.175Z"
   },
   {
    "duration": 298,
    "start_time": "2024-09-12T19:10:42.470Z"
   },
   {
    "duration": 8,
    "start_time": "2024-09-12T19:10:42.770Z"
   },
   {
    "duration": 30,
    "start_time": "2024-09-12T19:10:42.780Z"
   },
   {
    "duration": 194,
    "start_time": "2024-09-12T19:10:42.812Z"
   },
   {
    "duration": 234,
    "start_time": "2024-09-12T19:10:43.008Z"
   },
   {
    "duration": 17,
    "start_time": "2024-09-12T19:10:43.244Z"
   },
   {
    "duration": 403,
    "start_time": "2024-09-12T19:10:43.263Z"
   },
   {
    "duration": 9,
    "start_time": "2024-09-12T19:10:43.668Z"
   },
   {
    "duration": 312,
    "start_time": "2024-09-12T19:10:43.679Z"
   },
   {
    "duration": 105,
    "start_time": "2024-09-12T19:10:43.993Z"
   },
   {
    "duration": 46,
    "start_time": "2024-09-12T19:10:44.100Z"
   },
   {
    "duration": 175,
    "start_time": "2024-09-12T19:10:44.155Z"
   },
   {
    "duration": 341,
    "start_time": "2024-09-12T19:10:44.332Z"
   },
   {
    "duration": 14,
    "start_time": "2024-09-12T19:10:44.674Z"
   },
   {
    "duration": 182,
    "start_time": "2024-09-12T19:10:44.692Z"
   },
   {
    "duration": 516,
    "start_time": "2024-09-12T19:10:44.876Z"
   },
   {
    "duration": 35,
    "start_time": "2024-09-12T19:10:45.393Z"
   },
   {
    "duration": 165,
    "start_time": "2024-09-12T19:10:45.429Z"
   },
   {
    "duration": 362,
    "start_time": "2024-09-12T19:10:45.596Z"
   },
   {
    "duration": 16,
    "start_time": "2024-09-12T19:10:45.959Z"
   },
   {
    "duration": 49,
    "start_time": "2024-09-12T19:10:45.976Z"
   },
   {
    "duration": 3,
    "start_time": "2024-09-12T19:10:46.027Z"
   },
   {
    "duration": 128,
    "start_time": "2024-09-12T19:10:46.031Z"
   },
   {
    "duration": 5,
    "start_time": "2024-09-12T19:11:11.277Z"
   },
   {
    "duration": 10,
    "start_time": "2024-09-12T19:11:27.528Z"
   },
   {
    "duration": 18,
    "start_time": "2024-09-12T19:11:38.297Z"
   },
   {
    "duration": 893,
    "start_time": "2024-09-12T19:12:04.694Z"
   },
   {
    "duration": 43,
    "start_time": "2024-09-12T19:12:10.450Z"
   },
   {
    "duration": 9,
    "start_time": "2024-09-12T19:12:16.250Z"
   },
   {
    "duration": 11,
    "start_time": "2024-09-12T19:12:21.140Z"
   },
   {
    "duration": 2560,
    "start_time": "2024-09-12T19:12:49.002Z"
   },
   {
    "duration": 1500,
    "start_time": "2024-09-12T19:12:51.564Z"
   },
   {
    "duration": 2,
    "start_time": "2024-09-12T19:12:53.066Z"
   },
   {
    "duration": 1002,
    "start_time": "2024-09-12T19:12:53.070Z"
   },
   {
    "duration": 148,
    "start_time": "2024-09-12T19:12:54.075Z"
   },
   {
    "duration": 33,
    "start_time": "2024-09-12T19:12:54.226Z"
   },
   {
    "duration": 153,
    "start_time": "2024-09-12T19:12:54.261Z"
   },
   {
    "duration": 1435,
    "start_time": "2024-09-12T19:12:54.415Z"
   },
   {
    "duration": 2,
    "start_time": "2024-09-12T19:12:55.856Z"
   },
   {
    "duration": 10,
    "start_time": "2024-09-12T19:12:55.860Z"
   },
   {
    "duration": 359,
    "start_time": "2024-09-12T19:12:55.872Z"
   },
   {
    "duration": 1317,
    "start_time": "2024-09-12T19:12:56.232Z"
   },
   {
    "duration": 487,
    "start_time": "2024-09-12T19:12:57.551Z"
   },
   {
    "duration": 4,
    "start_time": "2024-09-12T19:12:58.041Z"
   },
   {
    "duration": 513,
    "start_time": "2024-09-12T19:12:58.046Z"
   },
   {
    "duration": 4,
    "start_time": "2024-09-12T19:12:58.561Z"
   },
   {
    "duration": 5,
    "start_time": "2024-09-12T19:12:58.567Z"
   },
   {
    "duration": 4,
    "start_time": "2024-09-12T19:12:58.574Z"
   },
   {
    "duration": 118,
    "start_time": "2024-09-12T19:12:58.579Z"
   },
   {
    "duration": 220,
    "start_time": "2024-09-12T19:12:58.699Z"
   },
   {
    "duration": 158,
    "start_time": "2024-09-12T19:12:58.921Z"
   },
   {
    "duration": 25,
    "start_time": "2024-09-12T19:12:59.081Z"
   },
   {
    "duration": 235,
    "start_time": "2024-09-12T19:12:59.108Z"
   },
   {
    "duration": 32,
    "start_time": "2024-09-12T19:12:59.345Z"
   },
   {
    "duration": 167,
    "start_time": "2024-09-12T19:12:59.379Z"
   },
   {
    "duration": 263,
    "start_time": "2024-09-12T19:12:59.555Z"
   },
   {
    "duration": 287,
    "start_time": "2024-09-12T19:12:59.820Z"
   },
   {
    "duration": 6,
    "start_time": "2024-09-12T19:13:00.109Z"
   },
   {
    "duration": 40,
    "start_time": "2024-09-12T19:13:00.117Z"
   },
   {
    "duration": 203,
    "start_time": "2024-09-12T19:13:00.159Z"
   },
   {
    "duration": 221,
    "start_time": "2024-09-12T19:13:00.364Z"
   },
   {
    "duration": 10,
    "start_time": "2024-09-12T19:13:00.586Z"
   },
   {
    "duration": 327,
    "start_time": "2024-09-12T19:13:00.597Z"
   },
   {
    "duration": 9,
    "start_time": "2024-09-12T19:13:00.926Z"
   },
   {
    "duration": 234,
    "start_time": "2024-09-12T19:13:00.937Z"
   },
   {
    "duration": 111,
    "start_time": "2024-09-12T19:13:01.173Z"
   },
   {
    "duration": 100,
    "start_time": "2024-09-12T19:13:01.286Z"
   },
   {
    "duration": 193,
    "start_time": "2024-09-12T19:13:01.387Z"
   },
   {
    "duration": 373,
    "start_time": "2024-09-12T19:13:01.582Z"
   },
   {
    "duration": 15,
    "start_time": "2024-09-12T19:13:01.957Z"
   },
   {
    "duration": 171,
    "start_time": "2024-09-12T19:13:01.977Z"
   },
   {
    "duration": 484,
    "start_time": "2024-09-12T19:13:02.150Z"
   },
   {
    "duration": 44,
    "start_time": "2024-09-12T19:13:02.636Z"
   },
   {
    "duration": 164,
    "start_time": "2024-09-12T19:13:02.681Z"
   },
   {
    "duration": 340,
    "start_time": "2024-09-12T19:13:02.846Z"
   },
   {
    "duration": 23,
    "start_time": "2024-09-12T19:13:03.188Z"
   },
   {
    "duration": 53,
    "start_time": "2024-09-12T19:13:03.213Z"
   },
   {
    "duration": 12,
    "start_time": "2024-09-12T19:13:03.268Z"
   },
   {
    "duration": 4,
    "start_time": "2024-09-12T19:13:47.245Z"
   },
   {
    "duration": 12,
    "start_time": "2024-09-12T19:15:25.761Z"
   },
   {
    "duration": 7,
    "start_time": "2024-09-12T19:17:29.099Z"
   },
   {
    "duration": 40,
    "start_time": "2024-09-12T19:17:29.678Z"
   },
   {
    "duration": 4,
    "start_time": "2024-09-12T19:17:37.550Z"
   },
   {
    "duration": 26,
    "start_time": "2024-09-12T19:18:05.969Z"
   },
   {
    "duration": 111,
    "start_time": "2024-09-12T19:18:06.979Z"
   },
   {
    "duration": 871,
    "start_time": "2024-09-12T19:18:34.445Z"
   },
   {
    "duration": 2523,
    "start_time": "2024-09-12T19:18:55.007Z"
   },
   {
    "duration": 1519,
    "start_time": "2024-09-12T19:18:57.533Z"
   },
   {
    "duration": 4,
    "start_time": "2024-09-12T19:18:59.054Z"
   },
   {
    "duration": 949,
    "start_time": "2024-09-12T19:18:59.059Z"
   },
   {
    "duration": 172,
    "start_time": "2024-09-12T19:19:00.010Z"
   },
   {
    "duration": 18,
    "start_time": "2024-09-12T19:19:00.184Z"
   },
   {
    "duration": 170,
    "start_time": "2024-09-12T19:19:00.204Z"
   },
   {
    "duration": 1402,
    "start_time": "2024-09-12T19:19:00.376Z"
   },
   {
    "duration": 3,
    "start_time": "2024-09-12T19:19:01.779Z"
   },
   {
    "duration": 24,
    "start_time": "2024-09-12T19:19:01.784Z"
   },
   {
    "duration": 365,
    "start_time": "2024-09-12T19:19:01.810Z"
   },
   {
    "duration": 1378,
    "start_time": "2024-09-12T19:19:02.177Z"
   },
   {
    "duration": 505,
    "start_time": "2024-09-12T19:19:03.557Z"
   },
   {
    "duration": 5,
    "start_time": "2024-09-12T19:19:04.065Z"
   },
   {
    "duration": 516,
    "start_time": "2024-09-12T19:19:04.071Z"
   },
   {
    "duration": 4,
    "start_time": "2024-09-12T19:19:04.588Z"
   },
   {
    "duration": 8,
    "start_time": "2024-09-12T19:19:04.594Z"
   },
   {
    "duration": 10,
    "start_time": "2024-09-12T19:19:04.603Z"
   },
   {
    "duration": 106,
    "start_time": "2024-09-12T19:19:04.615Z"
   },
   {
    "duration": 207,
    "start_time": "2024-09-12T19:19:04.723Z"
   },
   {
    "duration": 170,
    "start_time": "2024-09-12T19:19:04.932Z"
   },
   {
    "duration": 27,
    "start_time": "2024-09-12T19:19:05.104Z"
   },
   {
    "duration": 257,
    "start_time": "2024-09-12T19:19:05.133Z"
   },
   {
    "duration": 26,
    "start_time": "2024-09-12T19:19:05.392Z"
   },
   {
    "duration": 175,
    "start_time": "2024-09-12T19:19:05.420Z"
   },
   {
    "duration": 276,
    "start_time": "2024-09-12T19:19:05.597Z"
   },
   {
    "duration": 299,
    "start_time": "2024-09-12T19:19:05.875Z"
   },
   {
    "duration": 6,
    "start_time": "2024-09-12T19:19:06.176Z"
   },
   {
    "duration": 14,
    "start_time": "2024-09-12T19:19:06.184Z"
   },
   {
    "duration": 211,
    "start_time": "2024-09-12T19:19:06.199Z"
   },
   {
    "duration": 243,
    "start_time": "2024-09-12T19:19:06.412Z"
   },
   {
    "duration": 9,
    "start_time": "2024-09-12T19:19:06.656Z"
   },
   {
    "duration": 297,
    "start_time": "2024-09-12T19:19:06.666Z"
   },
   {
    "duration": 7,
    "start_time": "2024-09-12T19:19:06.965Z"
   },
   {
    "duration": 291,
    "start_time": "2024-09-12T19:19:06.974Z"
   },
   {
    "duration": 105,
    "start_time": "2024-09-12T19:19:07.266Z"
   },
   {
    "duration": 39,
    "start_time": "2024-09-12T19:19:07.373Z"
   },
   {
    "duration": 199,
    "start_time": "2024-09-12T19:19:07.414Z"
   },
   {
    "duration": 354,
    "start_time": "2024-09-12T19:19:07.616Z"
   },
   {
    "duration": 14,
    "start_time": "2024-09-12T19:19:07.972Z"
   },
   {
    "duration": 165,
    "start_time": "2024-09-12T19:19:07.990Z"
   },
   {
    "duration": 486,
    "start_time": "2024-09-12T19:19:08.156Z"
   },
   {
    "duration": 41,
    "start_time": "2024-09-12T19:19:08.644Z"
   },
   {
    "duration": 157,
    "start_time": "2024-09-12T19:19:08.687Z"
   },
   {
    "duration": 353,
    "start_time": "2024-09-12T19:19:08.846Z"
   },
   {
    "duration": 21,
    "start_time": "2024-09-12T19:19:09.201Z"
   },
   {
    "duration": 51,
    "start_time": "2024-09-12T19:19:09.224Z"
   },
   {
    "duration": 14,
    "start_time": "2024-09-12T19:19:09.277Z"
   },
   {
    "duration": 99,
    "start_time": "2024-09-12T19:19:09.293Z"
   },
   {
    "duration": 4,
    "start_time": "2024-09-12T19:19:09.394Z"
   },
   {
    "duration": 11,
    "start_time": "2024-09-12T19:19:09.399Z"
   },
   {
    "duration": 6,
    "start_time": "2024-09-12T19:19:09.411Z"
   },
   {
    "duration": 6,
    "start_time": "2024-09-12T19:19:09.419Z"
   },
   {
    "duration": 7,
    "start_time": "2024-09-12T19:19:52.022Z"
   },
   {
    "duration": 38,
    "start_time": "2024-09-12T19:20:29.358Z"
   },
   {
    "duration": 33,
    "start_time": "2024-09-12T19:20:53.596Z"
   },
   {
    "duration": 28,
    "start_time": "2024-09-12T19:23:50.865Z"
   },
   {
    "duration": 4,
    "start_time": "2024-09-12T19:23:51.729Z"
   },
   {
    "duration": 12,
    "start_time": "2024-09-12T19:24:29.254Z"
   },
   {
    "duration": 135,
    "start_time": "2024-09-12T19:26:20.656Z"
   },
   {
    "duration": 4,
    "start_time": "2024-09-12T19:26:31.188Z"
   },
   {
    "duration": 6677,
    "start_time": "2024-09-12T19:32:13.970Z"
   },
   {
    "duration": 3197,
    "start_time": "2024-09-12T19:32:20.649Z"
   },
   {
    "duration": 4167,
    "start_time": "2024-09-12T19:32:23.848Z"
   },
   {
    "duration": 16,
    "start_time": "2024-09-12T19:34:04.709Z"
   },
   {
    "duration": 918,
    "start_time": "2024-09-13T12:34:06.961Z"
   },
   {
    "duration": 3450,
    "start_time": "2024-09-13T12:34:13.720Z"
   },
   {
    "duration": 7571,
    "start_time": "2024-09-13T12:34:17.173Z"
   },
   {
    "duration": 3355,
    "start_time": "2024-09-13T12:34:24.746Z"
   },
   {
    "duration": 3157,
    "start_time": "2024-09-15T17:28:03.844Z"
   },
   {
    "duration": 6383,
    "start_time": "2024-09-15T17:28:07.003Z"
   },
   {
    "duration": 3071,
    "start_time": "2024-09-15T17:28:13.387Z"
   },
   {
    "duration": 3920,
    "start_time": "2024-09-15T17:28:16.461Z"
   },
   {
    "duration": 1549,
    "start_time": "2024-09-15T17:28:20.383Z"
   },
   {
    "duration": 3,
    "start_time": "2024-09-15T17:28:21.933Z"
   },
   {
    "duration": 1173,
    "start_time": "2024-09-15T17:28:21.938Z"
   },
   {
    "duration": 154,
    "start_time": "2024-09-15T17:28:23.113Z"
   },
   {
    "duration": 16,
    "start_time": "2024-09-15T17:28:23.269Z"
   },
   {
    "duration": 159,
    "start_time": "2024-09-15T17:28:23.287Z"
   },
   {
    "duration": 1458,
    "start_time": "2024-09-15T17:28:23.447Z"
   },
   {
    "duration": 3,
    "start_time": "2024-09-15T17:28:24.906Z"
   },
   {
    "duration": 5,
    "start_time": "2024-09-15T17:28:24.910Z"
   },
   {
    "duration": 328,
    "start_time": "2024-09-15T17:28:24.917Z"
   },
   {
    "duration": 1255,
    "start_time": "2024-09-15T17:28:25.247Z"
   },
   {
    "duration": 430,
    "start_time": "2024-09-15T17:28:26.503Z"
   },
   {
    "duration": 4,
    "start_time": "2024-09-15T17:28:26.934Z"
   },
   {
    "duration": 450,
    "start_time": "2024-09-15T17:28:26.939Z"
   },
   {
    "duration": 4,
    "start_time": "2024-09-15T17:28:27.390Z"
   },
   {
    "duration": 24,
    "start_time": "2024-09-15T17:28:27.396Z"
   },
   {
    "duration": 11,
    "start_time": "2024-09-15T17:28:27.421Z"
   },
   {
    "duration": 20,
    "start_time": "2024-09-15T17:28:27.434Z"
   },
   {
    "duration": 260,
    "start_time": "2024-09-15T17:28:27.455Z"
   },
   {
    "duration": 151,
    "start_time": "2024-09-15T17:28:27.717Z"
   },
   {
    "duration": 25,
    "start_time": "2024-09-15T17:28:27.870Z"
   },
   {
    "duration": 214,
    "start_time": "2024-09-15T17:28:27.897Z"
   },
   {
    "duration": 24,
    "start_time": "2024-09-15T17:28:28.112Z"
   },
   {
    "duration": 150,
    "start_time": "2024-09-15T17:28:28.152Z"
   },
   {
    "duration": 261,
    "start_time": "2024-09-15T17:28:28.303Z"
   },
   {
    "duration": 286,
    "start_time": "2024-09-15T17:28:28.566Z"
   },
   {
    "duration": 6,
    "start_time": "2024-09-15T17:28:28.854Z"
   },
   {
    "duration": 11,
    "start_time": "2024-09-15T17:28:28.861Z"
   },
   {
    "duration": 200,
    "start_time": "2024-09-15T17:28:28.874Z"
   },
   {
    "duration": 210,
    "start_time": "2024-09-15T17:28:29.076Z"
   },
   {
    "duration": 10,
    "start_time": "2024-09-15T17:28:29.288Z"
   },
   {
    "duration": 305,
    "start_time": "2024-09-15T17:28:29.300Z"
   },
   {
    "duration": 8,
    "start_time": "2024-09-15T17:28:29.607Z"
   },
   {
    "duration": 283,
    "start_time": "2024-09-15T17:28:29.617Z"
   },
   {
    "duration": 118,
    "start_time": "2024-09-15T17:28:29.902Z"
   },
   {
    "duration": 67,
    "start_time": "2024-09-15T17:28:30.022Z"
   },
   {
    "duration": 171,
    "start_time": "2024-09-15T17:28:30.091Z"
   },
   {
    "duration": 327,
    "start_time": "2024-09-15T17:28:30.264Z"
   },
   {
    "duration": 15,
    "start_time": "2024-09-15T17:28:30.593Z"
   },
   {
    "duration": 157,
    "start_time": "2024-09-15T17:28:30.610Z"
   },
   {
    "duration": 483,
    "start_time": "2024-09-15T17:28:30.769Z"
   },
   {
    "duration": 32,
    "start_time": "2024-09-15T17:28:31.254Z"
   },
   {
    "duration": 156,
    "start_time": "2024-09-15T17:28:31.288Z"
   },
   {
    "duration": 322,
    "start_time": "2024-09-15T17:28:31.446Z"
   },
   {
    "duration": 15,
    "start_time": "2024-09-15T17:28:31.770Z"
   },
   {
    "duration": 78,
    "start_time": "2024-09-15T17:28:31.787Z"
   },
   {
    "duration": 14,
    "start_time": "2024-09-15T17:28:31.866Z"
   },
   {
    "duration": 50,
    "start_time": "2024-09-15T17:28:31.882Z"
   },
   {
    "duration": 4,
    "start_time": "2024-09-15T17:28:31.934Z"
   },
   {
    "duration": 41,
    "start_time": "2024-09-15T17:28:31.940Z"
   },
   {
    "duration": 4,
    "start_time": "2024-09-15T17:28:31.983Z"
   },
   {
    "duration": 16,
    "start_time": "2024-09-15T17:28:31.989Z"
   },
   {
    "duration": 4,
    "start_time": "2024-09-15T17:28:32.006Z"
   },
   {
    "duration": 131,
    "start_time": "2024-09-15T17:28:32.012Z"
   },
   {
    "duration": 0,
    "start_time": "2024-09-15T17:28:32.145Z"
   },
   {
    "duration": 0,
    "start_time": "2024-09-15T17:28:32.152Z"
   },
   {
    "duration": 0,
    "start_time": "2024-09-15T17:28:32.153Z"
   },
   {
    "duration": 0,
    "start_time": "2024-09-15T17:28:32.155Z"
   },
   {
    "duration": 1,
    "start_time": "2024-09-15T17:28:32.156Z"
   },
   {
    "duration": 0,
    "start_time": "2024-09-15T17:28:32.158Z"
   },
   {
    "duration": 0,
    "start_time": "2024-09-15T17:28:32.159Z"
   },
   {
    "duration": 18,
    "start_time": "2024-09-15T17:30:17.153Z"
   },
   {
    "duration": 2561,
    "start_time": "2024-09-15T17:30:39.293Z"
   },
   {
    "duration": 3118,
    "start_time": "2024-09-15T17:30:41.856Z"
   },
   {
    "duration": 2548,
    "start_time": "2024-09-15T17:30:44.976Z"
   },
   {
    "duration": 2855,
    "start_time": "2024-09-15T17:30:47.526Z"
   },
   {
    "duration": 1232,
    "start_time": "2024-09-15T17:30:50.383Z"
   },
   {
    "duration": 2,
    "start_time": "2024-09-15T17:30:51.617Z"
   },
   {
    "duration": 893,
    "start_time": "2024-09-15T17:30:51.621Z"
   },
   {
    "duration": 152,
    "start_time": "2024-09-15T17:30:52.516Z"
   },
   {
    "duration": 16,
    "start_time": "2024-09-15T17:30:52.669Z"
   },
   {
    "duration": 153,
    "start_time": "2024-09-15T17:30:52.686Z"
   },
   {
    "duration": 1368,
    "start_time": "2024-09-15T17:30:52.841Z"
   },
   {
    "duration": 3,
    "start_time": "2024-09-15T17:30:54.211Z"
   },
   {
    "duration": 5,
    "start_time": "2024-09-15T17:30:54.216Z"
   },
   {
    "duration": 355,
    "start_time": "2024-09-15T17:30:54.225Z"
   },
   {
    "duration": 1294,
    "start_time": "2024-09-15T17:30:54.581Z"
   },
   {
    "duration": 484,
    "start_time": "2024-09-15T17:30:55.876Z"
   },
   {
    "duration": 3,
    "start_time": "2024-09-15T17:30:56.362Z"
   },
   {
    "duration": 494,
    "start_time": "2024-09-15T17:30:56.367Z"
   },
   {
    "duration": 4,
    "start_time": "2024-09-15T17:30:56.862Z"
   },
   {
    "duration": 5,
    "start_time": "2024-09-15T17:30:56.867Z"
   },
   {
    "duration": 8,
    "start_time": "2024-09-15T17:30:56.873Z"
   },
   {
    "duration": 13,
    "start_time": "2024-09-15T17:30:56.883Z"
   },
   {
    "duration": 293,
    "start_time": "2024-09-15T17:30:56.897Z"
   },
   {
    "duration": 155,
    "start_time": "2024-09-15T17:30:57.191Z"
   },
   {
    "duration": 27,
    "start_time": "2024-09-15T17:30:57.351Z"
   },
   {
    "duration": 214,
    "start_time": "2024-09-15T17:30:57.380Z"
   },
   {
    "duration": 26,
    "start_time": "2024-09-15T17:30:57.596Z"
   },
   {
    "duration": 171,
    "start_time": "2024-09-15T17:30:57.624Z"
   },
   {
    "duration": 267,
    "start_time": "2024-09-15T17:30:57.797Z"
   },
   {
    "duration": 287,
    "start_time": "2024-09-15T17:30:58.066Z"
   },
   {
    "duration": 6,
    "start_time": "2024-09-15T17:30:58.356Z"
   },
   {
    "duration": 8,
    "start_time": "2024-09-15T17:30:58.364Z"
   },
   {
    "duration": 203,
    "start_time": "2024-09-15T17:30:58.373Z"
   },
   {
    "duration": 221,
    "start_time": "2024-09-15T17:30:58.578Z"
   },
   {
    "duration": 10,
    "start_time": "2024-09-15T17:30:58.802Z"
   },
   {
    "duration": 297,
    "start_time": "2024-09-15T17:30:58.813Z"
   },
   {
    "duration": 8,
    "start_time": "2024-09-15T17:30:59.112Z"
   },
   {
    "duration": 247,
    "start_time": "2024-09-15T17:30:59.122Z"
   },
   {
    "duration": 106,
    "start_time": "2024-09-15T17:30:59.371Z"
   },
   {
    "duration": 39,
    "start_time": "2024-09-15T17:30:59.479Z"
   },
   {
    "duration": 185,
    "start_time": "2024-09-15T17:30:59.523Z"
   },
   {
    "duration": 331,
    "start_time": "2024-09-15T17:30:59.709Z"
   },
   {
    "duration": 18,
    "start_time": "2024-09-15T17:31:00.042Z"
   },
   {
    "duration": 165,
    "start_time": "2024-09-15T17:31:00.062Z"
   },
   {
    "duration": 452,
    "start_time": "2024-09-15T17:31:00.229Z"
   },
   {
    "duration": 34,
    "start_time": "2024-09-15T17:31:00.683Z"
   },
   {
    "duration": 161,
    "start_time": "2024-09-15T17:31:00.719Z"
   },
   {
    "duration": 373,
    "start_time": "2024-09-15T17:31:00.881Z"
   },
   {
    "duration": 15,
    "start_time": "2024-09-15T17:31:01.256Z"
   },
   {
    "duration": 29,
    "start_time": "2024-09-15T17:31:01.273Z"
   },
   {
    "duration": 12,
    "start_time": "2024-09-15T17:31:01.304Z"
   },
   {
    "duration": 62,
    "start_time": "2024-09-15T17:31:01.318Z"
   },
   {
    "duration": 5,
    "start_time": "2024-09-15T17:31:01.381Z"
   },
   {
    "duration": 39,
    "start_time": "2024-09-15T17:31:01.388Z"
   },
   {
    "duration": 4,
    "start_time": "2024-09-15T17:31:01.429Z"
   },
   {
    "duration": 30,
    "start_time": "2024-09-15T17:31:01.435Z"
   },
   {
    "duration": 3,
    "start_time": "2024-09-15T17:31:01.466Z"
   },
   {
    "duration": 131,
    "start_time": "2024-09-15T17:31:01.471Z"
   },
   {
    "duration": 0,
    "start_time": "2024-09-15T17:31:01.604Z"
   },
   {
    "duration": 0,
    "start_time": "2024-09-15T17:31:01.605Z"
   },
   {
    "duration": 0,
    "start_time": "2024-09-15T17:31:01.606Z"
   },
   {
    "duration": 0,
    "start_time": "2024-09-15T17:31:01.607Z"
   },
   {
    "duration": 0,
    "start_time": "2024-09-15T17:31:01.608Z"
   },
   {
    "duration": 0,
    "start_time": "2024-09-15T17:31:01.609Z"
   },
   {
    "duration": 0,
    "start_time": "2024-09-15T17:31:01.610Z"
   },
   {
    "duration": 14,
    "start_time": "2024-09-15T17:40:56.476Z"
   },
   {
    "duration": 4,
    "start_time": "2024-09-15T17:41:16.339Z"
   },
   {
    "duration": 16,
    "start_time": "2024-09-15T17:41:25.330Z"
   },
   {
    "duration": 3,
    "start_time": "2024-09-15T17:42:45.850Z"
   },
   {
    "duration": 6,
    "start_time": "2024-09-15T17:43:20.603Z"
   },
   {
    "duration": 2,
    "start_time": "2024-09-15T17:43:31.377Z"
   },
   {
    "duration": 11,
    "start_time": "2024-09-15T17:44:38.048Z"
   },
   {
    "duration": 3,
    "start_time": "2024-09-15T17:44:47.050Z"
   },
   {
    "duration": 13,
    "start_time": "2024-09-15T17:44:56.063Z"
   },
   {
    "duration": 11,
    "start_time": "2024-09-15T17:45:32.318Z"
   },
   {
    "duration": 10,
    "start_time": "2024-09-15T17:48:03.618Z"
   },
   {
    "duration": 5,
    "start_time": "2024-09-15T17:48:23.940Z"
   },
   {
    "duration": 10,
    "start_time": "2024-09-15T17:48:36.843Z"
   },
   {
    "duration": 3,
    "start_time": "2024-09-15T17:49:52.722Z"
   },
   {
    "duration": 4,
    "start_time": "2024-09-15T17:49:53.230Z"
   },
   {
    "duration": 3,
    "start_time": "2024-09-15T17:49:53.703Z"
   },
   {
    "duration": 9,
    "start_time": "2024-09-15T17:49:54.703Z"
   },
   {
    "duration": 3,
    "start_time": "2024-09-15T17:50:07.440Z"
   },
   {
    "duration": 12,
    "start_time": "2024-09-15T17:50:15.178Z"
   },
   {
    "duration": 22,
    "start_time": "2024-09-15T17:52:42.285Z"
   },
   {
    "duration": 14,
    "start_time": "2024-09-15T17:52:53.780Z"
   },
   {
    "duration": 14,
    "start_time": "2024-09-15T17:53:25.849Z"
   },
   {
    "duration": 11,
    "start_time": "2024-09-15T17:53:53.373Z"
   },
   {
    "duration": 10,
    "start_time": "2024-09-15T17:56:25.536Z"
   },
   {
    "duration": 4,
    "start_time": "2024-09-15T17:56:36.806Z"
   },
   {
    "duration": 4,
    "start_time": "2024-09-15T17:58:39.760Z"
   },
   {
    "duration": 11,
    "start_time": "2024-09-15T17:59:03.856Z"
   },
   {
    "duration": 4,
    "start_time": "2024-09-15T17:59:50.737Z"
   },
   {
    "duration": 3,
    "start_time": "2024-09-15T17:59:54.804Z"
   },
   {
    "duration": 5,
    "start_time": "2024-09-15T18:00:40.512Z"
   },
   {
    "duration": 58,
    "start_time": "2024-09-15T18:00:52.435Z"
   },
   {
    "duration": 111,
    "start_time": "2024-09-15T18:01:46.579Z"
   },
   {
    "duration": 12,
    "start_time": "2024-09-15T18:02:02.972Z"
   },
   {
    "duration": 3,
    "start_time": "2024-09-15T18:05:09.951Z"
   },
   {
    "duration": 5012,
    "start_time": "2024-09-15T18:05:12.634Z"
   },
   {
    "duration": 4,
    "start_time": "2024-09-15T18:07:34.336Z"
   },
   {
    "duration": 5565,
    "start_time": "2024-09-15T18:07:37.932Z"
   },
   {
    "duration": 3,
    "start_time": "2024-09-15T18:09:21.572Z"
   },
   {
    "duration": 3,
    "start_time": "2024-09-15T18:12:51.587Z"
   },
   {
    "duration": 3,
    "start_time": "2024-09-15T18:12:53.123Z"
   },
   {
    "duration": 4,
    "start_time": "2024-09-15T18:12:53.933Z"
   },
   {
    "duration": 3,
    "start_time": "2024-09-15T18:12:54.908Z"
   },
   {
    "duration": 4,
    "start_time": "2024-09-15T18:12:56.899Z"
   },
   {
    "duration": 2,
    "start_time": "2024-09-15T18:12:57.878Z"
   },
   {
    "duration": 271836,
    "start_time": "2024-09-15T18:13:04.805Z"
   },
   {
    "duration": 18,
    "start_time": "2024-09-15T18:18:19.564Z"
   },
   {
    "duration": 29664,
    "start_time": "2024-09-15T18:23:46.737Z"
   },
   {
    "duration": 3,
    "start_time": "2024-09-15T18:24:39.079Z"
   },
   {
    "duration": 754,
    "start_time": "2024-09-15T18:24:39.364Z"
   },
   {
    "duration": 3,
    "start_time": "2024-09-15T18:25:32.357Z"
   },
   {
    "duration": 31349,
    "start_time": "2024-09-15T18:25:32.827Z"
   },
   {
    "duration": 3,
    "start_time": "2024-09-15T18:27:54.447Z"
   },
   {
    "duration": 3,
    "start_time": "2024-09-15T18:27:58.906Z"
   },
   {
    "duration": 2,
    "start_time": "2024-09-15T18:27:59.910Z"
   },
   {
    "duration": 2,
    "start_time": "2024-09-15T18:28:00.676Z"
   },
   {
    "duration": 4,
    "start_time": "2024-09-15T18:28:03.423Z"
   },
   {
    "duration": 3,
    "start_time": "2024-09-15T18:28:05.758Z"
   },
   {
    "duration": 85,
    "start_time": "2024-09-15T18:28:19.435Z"
   },
   {
    "duration": 259041,
    "start_time": "2024-09-15T18:28:22.012Z"
   },
   {
    "duration": 19,
    "start_time": "2024-09-15T18:37:10.207Z"
   },
   {
    "duration": 102,
    "start_time": "2024-09-15T18:37:12.642Z"
   },
   {
    "duration": 4,
    "start_time": "2024-09-15T18:38:36.520Z"
   },
   {
    "duration": 98,
    "start_time": "2024-09-15T18:38:47.660Z"
   },
   {
    "duration": 479156,
    "start_time": "2024-09-15T18:40:49.047Z"
   },
   {
    "duration": 27,
    "start_time": "2024-09-15T19:00:43.509Z"
   },
   {
    "duration": 3341,
    "start_time": "2024-09-16T13:44:16.288Z"
   },
   {
    "duration": 6469,
    "start_time": "2024-09-16T13:44:19.632Z"
   },
   {
    "duration": 3158,
    "start_time": "2024-09-16T13:44:26.102Z"
   },
   {
    "duration": 4098,
    "start_time": "2024-09-16T13:44:29.262Z"
   },
   {
    "duration": 1314,
    "start_time": "2024-09-16T13:44:33.363Z"
   },
   {
    "duration": 3,
    "start_time": "2024-09-16T13:44:34.679Z"
   },
   {
    "duration": 2880,
    "start_time": "2024-09-16T13:44:34.683Z"
   },
   {
    "duration": 105,
    "start_time": "2024-09-16T13:44:37.565Z"
   },
   {
    "duration": 13,
    "start_time": "2024-09-16T13:44:37.671Z"
   },
   {
    "duration": 109,
    "start_time": "2024-09-16T13:44:37.685Z"
   },
   {
    "duration": 1222,
    "start_time": "2024-09-16T13:44:37.795Z"
   },
   {
    "duration": 3,
    "start_time": "2024-09-16T13:44:39.019Z"
   },
   {
    "duration": 21,
    "start_time": "2024-09-16T13:44:39.023Z"
   },
   {
    "duration": 313,
    "start_time": "2024-09-16T13:44:39.047Z"
   },
   {
    "duration": 1090,
    "start_time": "2024-09-16T13:44:39.362Z"
   },
   {
    "duration": 413,
    "start_time": "2024-09-16T13:44:40.454Z"
   },
   {
    "duration": 3,
    "start_time": "2024-09-16T13:44:40.869Z"
   },
   {
    "duration": 414,
    "start_time": "2024-09-16T13:44:40.873Z"
   },
   {
    "duration": 4,
    "start_time": "2024-09-16T13:44:41.289Z"
   },
   {
    "duration": 79,
    "start_time": "2024-09-16T13:44:41.294Z"
   },
   {
    "duration": 74,
    "start_time": "2024-09-16T13:44:41.374Z"
   },
   {
    "duration": 20,
    "start_time": "2024-09-16T13:44:41.450Z"
   },
   {
    "duration": 237,
    "start_time": "2024-09-16T13:44:41.471Z"
   },
   {
    "duration": 127,
    "start_time": "2024-09-16T13:44:41.710Z"
   },
   {
    "duration": 22,
    "start_time": "2024-09-16T13:44:41.838Z"
   },
   {
    "duration": 252,
    "start_time": "2024-09-16T13:44:41.861Z"
   },
   {
    "duration": 23,
    "start_time": "2024-09-16T13:44:42.114Z"
   },
   {
    "duration": 128,
    "start_time": "2024-09-16T13:44:42.138Z"
   },
   {
    "duration": 242,
    "start_time": "2024-09-16T13:44:42.267Z"
   },
   {
    "duration": 264,
    "start_time": "2024-09-16T13:44:42.511Z"
   },
   {
    "duration": 4,
    "start_time": "2024-09-16T13:44:42.777Z"
   },
   {
    "duration": 7,
    "start_time": "2024-09-16T13:44:42.782Z"
   },
   {
    "duration": 163,
    "start_time": "2024-09-16T13:44:42.791Z"
   },
   {
    "duration": 172,
    "start_time": "2024-09-16T13:44:42.955Z"
   },
   {
    "duration": 8,
    "start_time": "2024-09-16T13:44:43.128Z"
   },
   {
    "duration": 252,
    "start_time": "2024-09-16T13:44:43.137Z"
   },
   {
    "duration": 5,
    "start_time": "2024-09-16T13:44:43.390Z"
   },
   {
    "duration": 271,
    "start_time": "2024-09-16T13:44:43.396Z"
   },
   {
    "duration": 70,
    "start_time": "2024-09-16T13:44:43.668Z"
   },
   {
    "duration": 38,
    "start_time": "2024-09-16T13:44:43.740Z"
   },
   {
    "duration": 146,
    "start_time": "2024-09-16T13:44:43.784Z"
   },
   {
    "duration": 351,
    "start_time": "2024-09-16T13:44:43.931Z"
   },
   {
    "duration": 11,
    "start_time": "2024-09-16T13:44:44.283Z"
   },
   {
    "duration": 103,
    "start_time": "2024-09-16T13:44:44.295Z"
   },
   {
    "duration": 408,
    "start_time": "2024-09-16T13:44:44.400Z"
   },
   {
    "duration": 25,
    "start_time": "2024-09-16T13:44:44.810Z"
   },
   {
    "duration": 111,
    "start_time": "2024-09-16T13:44:44.837Z"
   },
   {
    "duration": 338,
    "start_time": "2024-09-16T13:44:44.950Z"
   },
   {
    "duration": 18,
    "start_time": "2024-09-16T13:44:45.290Z"
   },
   {
    "duration": 173,
    "start_time": "2024-09-16T13:44:45.310Z"
   },
   {
    "duration": 11,
    "start_time": "2024-09-16T13:44:45.484Z"
   },
   {
    "duration": 40,
    "start_time": "2024-09-16T13:44:45.496Z"
   },
   {
    "duration": 3,
    "start_time": "2024-09-16T13:44:45.537Z"
   },
   {
    "duration": 120,
    "start_time": "2024-09-16T13:44:45.541Z"
   },
   {
    "duration": 3,
    "start_time": "2024-09-16T13:44:45.663Z"
   },
   {
    "duration": 25,
    "start_time": "2024-09-16T13:44:45.667Z"
   },
   {
    "duration": 15,
    "start_time": "2024-09-16T13:44:45.693Z"
   },
   {
    "duration": 12,
    "start_time": "2024-09-16T13:44:45.709Z"
   },
   {
    "duration": 38,
    "start_time": "2024-09-16T13:44:45.722Z"
   },
   {
    "duration": 6,
    "start_time": "2024-09-16T13:44:45.761Z"
   },
   {
    "duration": 170,
    "start_time": "2024-09-16T13:44:45.769Z"
   },
   {
    "duration": 5,
    "start_time": "2024-09-16T13:44:45.941Z"
   },
   {
    "duration": 4,
    "start_time": "2024-09-16T13:44:45.947Z"
   },
   {
    "duration": 61,
    "start_time": "2024-09-16T13:44:45.953Z"
   },
   {
    "duration": 25218,
    "start_time": "2024-09-16T13:44:46.015Z"
   },
   {
    "duration": 151,
    "start_time": "2024-09-16T13:45:11.234Z"
   },
   {
    "duration": 4,
    "start_time": "2024-09-16T13:45:11.387Z"
   },
   {
    "duration": 92,
    "start_time": "2024-09-16T13:45:11.392Z"
   },
   {
    "duration": 2,
    "start_time": "2024-09-16T13:48:32.055Z"
   },
   {
    "duration": 3,
    "start_time": "2024-09-16T13:48:32.492Z"
   },
   {
    "duration": 99768,
    "start_time": "2024-09-16T13:48:32.798Z"
   },
   {
    "duration": 154,
    "start_time": "2024-09-16T13:50:12.568Z"
   },
   {
    "duration": 5,
    "start_time": "2024-09-16T13:50:12.727Z"
   },
   {
    "duration": 148,
    "start_time": "2024-09-16T13:50:27.895Z"
   },
   {
    "duration": 4,
    "start_time": "2024-09-16T13:50:28.718Z"
   },
   {
    "duration": 101,
    "start_time": "2024-09-16T13:54:05.801Z"
   },
   {
    "duration": 2,
    "start_time": "2024-09-16T13:54:14.198Z"
   },
   {
    "duration": 65,
    "start_time": "2024-09-16T13:54:16.860Z"
   },
   {
    "duration": 8,
    "start_time": "2024-09-16T13:54:22.288Z"
   },
   {
    "duration": 24611,
    "start_time": "2024-09-16T13:54:35.702Z"
   },
   {
    "duration": 219,
    "start_time": "2024-09-16T13:55:00.314Z"
   },
   {
    "duration": 4,
    "start_time": "2024-09-16T13:55:00.534Z"
   },
   {
    "duration": 17,
    "start_time": "2024-09-16T13:55:39.609Z"
   },
   {
    "duration": 56,
    "start_time": "2024-09-16T13:55:40.181Z"
   },
   {
    "duration": 2,
    "start_time": "2024-09-16T13:55:43.183Z"
   },
   {
    "duration": 3,
    "start_time": "2024-09-16T13:55:43.797Z"
   },
   {
    "duration": 3,
    "start_time": "2024-09-16T13:55:44.514Z"
   },
   {
    "duration": 2,
    "start_time": "2024-09-16T13:55:45.538Z"
   },
   {
    "duration": 102003,
    "start_time": "2024-09-16T13:55:46.680Z"
   },
   {
    "duration": 139,
    "start_time": "2024-09-16T13:57:28.684Z"
   },
   {
    "duration": 4,
    "start_time": "2024-09-16T13:57:28.825Z"
   },
   {
    "duration": 5,
    "start_time": "2024-09-16T13:57:28.831Z"
   },
   {
    "duration": 27877,
    "start_time": "2024-09-16T13:57:28.837Z"
   },
   {
    "duration": 153,
    "start_time": "2024-09-16T13:57:56.715Z"
   },
   {
    "duration": 5,
    "start_time": "2024-09-16T13:57:56.869Z"
   },
   {
    "duration": 8,
    "start_time": "2024-09-16T14:03:25.623Z"
   },
   {
    "duration": 5,
    "start_time": "2024-09-16T14:03:42.725Z"
   },
   {
    "duration": 4,
    "start_time": "2024-09-16T14:03:48.151Z"
   },
   {
    "duration": 2,
    "start_time": "2024-09-16T14:03:57.881Z"
   },
   {
    "duration": 2,
    "start_time": "2024-09-16T14:04:13.342Z"
   },
   {
    "duration": 3,
    "start_time": "2024-09-16T14:04:14.672Z"
   },
   {
    "duration": 360119,
    "start_time": "2024-09-16T14:04:15.902Z"
   },
   {
    "duration": 136,
    "start_time": "2024-09-16T14:10:16.022Z"
   },
   {
    "duration": 4,
    "start_time": "2024-09-16T14:10:16.159Z"
   },
   {
    "duration": 3,
    "start_time": "2024-09-16T14:13:28.143Z"
   },
   {
    "duration": 3,
    "start_time": "2024-09-16T14:13:28.859Z"
   },
   {
    "duration": 2,
    "start_time": "2024-09-16T14:13:29.270Z"
   },
   {
    "duration": 2559,
    "start_time": "2024-09-16T14:34:12.604Z"
   },
   {
    "duration": 2963,
    "start_time": "2024-09-16T14:34:15.165Z"
   },
   {
    "duration": 2482,
    "start_time": "2024-09-16T14:34:18.129Z"
   },
   {
    "duration": 2760,
    "start_time": "2024-09-16T14:34:20.614Z"
   },
   {
    "duration": 1146,
    "start_time": "2024-09-16T14:34:23.377Z"
   },
   {
    "duration": 2,
    "start_time": "2024-09-16T14:34:24.525Z"
   },
   {
    "duration": 758,
    "start_time": "2024-09-16T14:34:24.528Z"
   },
   {
    "duration": 100,
    "start_time": "2024-09-16T14:34:25.288Z"
   },
   {
    "duration": 20,
    "start_time": "2024-09-16T14:34:25.390Z"
   },
   {
    "duration": 107,
    "start_time": "2024-09-16T14:34:25.412Z"
   },
   {
    "duration": 1084,
    "start_time": "2024-09-16T14:34:25.521Z"
   },
   {
    "duration": 3,
    "start_time": "2024-09-16T14:34:26.607Z"
   },
   {
    "duration": 15,
    "start_time": "2024-09-16T14:34:26.611Z"
   },
   {
    "duration": 308,
    "start_time": "2024-09-16T14:34:26.629Z"
   },
   {
    "duration": 976,
    "start_time": "2024-09-16T14:34:26.938Z"
   },
   {
    "duration": 381,
    "start_time": "2024-09-16T14:34:27.916Z"
   },
   {
    "duration": 9,
    "start_time": "2024-09-16T14:34:28.299Z"
   },
   {
    "duration": 404,
    "start_time": "2024-09-16T14:34:28.309Z"
   },
   {
    "duration": 3,
    "start_time": "2024-09-16T14:34:28.714Z"
   },
   {
    "duration": 11,
    "start_time": "2024-09-16T14:34:28.718Z"
   },
   {
    "duration": 15,
    "start_time": "2024-09-16T14:34:28.731Z"
   },
   {
    "duration": 29,
    "start_time": "2024-09-16T14:34:28.748Z"
   },
   {
    "duration": 229,
    "start_time": "2024-09-16T14:34:28.778Z"
   },
   {
    "duration": 125,
    "start_time": "2024-09-16T14:34:29.008Z"
   },
   {
    "duration": 21,
    "start_time": "2024-09-16T14:34:29.135Z"
   },
   {
    "duration": 182,
    "start_time": "2024-09-16T14:34:29.157Z"
   },
   {
    "duration": 28,
    "start_time": "2024-09-16T14:34:29.341Z"
   },
   {
    "duration": 136,
    "start_time": "2024-09-16T14:34:29.371Z"
   },
   {
    "duration": 222,
    "start_time": "2024-09-16T14:34:29.508Z"
   },
   {
    "duration": 234,
    "start_time": "2024-09-16T14:34:29.732Z"
   },
   {
    "duration": 4,
    "start_time": "2024-09-16T14:34:29.967Z"
   },
   {
    "duration": 14,
    "start_time": "2024-09-16T14:34:29.972Z"
   },
   {
    "duration": 161,
    "start_time": "2024-09-16T14:34:29.987Z"
   },
   {
    "duration": 172,
    "start_time": "2024-09-16T14:34:30.149Z"
   },
   {
    "duration": 7,
    "start_time": "2024-09-16T14:34:30.322Z"
   },
   {
    "duration": 288,
    "start_time": "2024-09-16T14:34:30.330Z"
   },
   {
    "duration": 5,
    "start_time": "2024-09-16T14:34:30.619Z"
   },
   {
    "duration": 190,
    "start_time": "2024-09-16T14:34:30.625Z"
   },
   {
    "duration": 69,
    "start_time": "2024-09-16T14:34:30.816Z"
   },
   {
    "duration": 41,
    "start_time": "2024-09-16T14:34:30.887Z"
   },
   {
    "duration": 121,
    "start_time": "2024-09-16T14:34:30.932Z"
   },
   {
    "duration": 320,
    "start_time": "2024-09-16T14:34:31.055Z"
   },
   {
    "duration": 11,
    "start_time": "2024-09-16T14:34:31.377Z"
   },
   {
    "duration": 110,
    "start_time": "2024-09-16T14:34:31.389Z"
   },
   {
    "duration": 388,
    "start_time": "2024-09-16T14:34:31.500Z"
   },
   {
    "duration": 41,
    "start_time": "2024-09-16T14:34:31.889Z"
   },
   {
    "duration": 105,
    "start_time": "2024-09-16T14:34:31.931Z"
   },
   {
    "duration": 324,
    "start_time": "2024-09-16T14:34:32.037Z"
   },
   {
    "duration": 15,
    "start_time": "2024-09-16T14:34:32.363Z"
   },
   {
    "duration": 55,
    "start_time": "2024-09-16T14:34:32.380Z"
   },
   {
    "duration": 15,
    "start_time": "2024-09-16T14:34:32.436Z"
   },
   {
    "duration": 58,
    "start_time": "2024-09-16T14:34:32.453Z"
   },
   {
    "duration": 3,
    "start_time": "2024-09-16T14:34:32.512Z"
   },
   {
    "duration": 67,
    "start_time": "2024-09-16T14:34:32.516Z"
   },
   {
    "duration": 4,
    "start_time": "2024-09-16T14:34:32.584Z"
   },
   {
    "duration": 20,
    "start_time": "2024-09-16T14:34:32.589Z"
   },
   {
    "duration": 11,
    "start_time": "2024-09-16T14:34:32.610Z"
   },
   {
    "duration": 38,
    "start_time": "2024-09-16T14:34:32.623Z"
   },
   {
    "duration": 78,
    "start_time": "2024-09-16T14:34:32.663Z"
   },
   {
    "duration": 3,
    "start_time": "2024-09-16T14:34:32.742Z"
   },
   {
    "duration": 64,
    "start_time": "2024-09-16T14:34:32.746Z"
   },
   {
    "duration": 40,
    "start_time": "2024-09-16T14:34:32.811Z"
   },
   {
    "duration": 38,
    "start_time": "2024-09-16T14:34:32.852Z"
   },
   {
    "duration": 101322,
    "start_time": "2024-09-16T14:34:32.891Z"
   },
   {
    "duration": 130,
    "start_time": "2024-09-16T14:36:14.214Z"
   },
   {
    "duration": 4,
    "start_time": "2024-09-16T14:36:14.345Z"
   },
   {
    "duration": 14,
    "start_time": "2024-09-16T14:36:14.350Z"
   },
   {
    "duration": 29550,
    "start_time": "2024-09-16T14:36:14.365Z"
   },
   {
    "duration": 217,
    "start_time": "2024-09-16T14:36:43.916Z"
   },
   {
    "duration": 4,
    "start_time": "2024-09-16T14:36:44.135Z"
   },
   {
    "duration": 3,
    "start_time": "2024-09-16T14:36:44.140Z"
   },
   {
    "duration": 5,
    "start_time": "2024-09-16T14:36:44.145Z"
   },
   {
    "duration": 7,
    "start_time": "2024-09-16T14:36:44.151Z"
   },
   {
    "duration": 365159,
    "start_time": "2024-09-16T14:36:44.159Z"
   },
   {
    "duration": 136,
    "start_time": "2024-09-16T14:42:49.321Z"
   },
   {
    "duration": 4,
    "start_time": "2024-09-16T14:42:49.458Z"
   },
   {
    "duration": 11,
    "start_time": "2024-09-16T14:42:49.464Z"
   },
   {
    "duration": 12,
    "start_time": "2024-09-16T14:42:49.476Z"
   },
   {
    "duration": 7,
    "start_time": "2024-09-16T14:42:49.489Z"
   },
   {
    "duration": 2462,
    "start_time": "2024-09-16T14:58:24.441Z"
   },
   {
    "duration": 2900,
    "start_time": "2024-09-16T14:58:26.905Z"
   },
   {
    "duration": 2480,
    "start_time": "2024-09-16T14:58:29.807Z"
   },
   {
    "duration": 2809,
    "start_time": "2024-09-16T14:58:32.288Z"
   },
   {
    "duration": 1164,
    "start_time": "2024-09-16T14:58:35.099Z"
   },
   {
    "duration": 3,
    "start_time": "2024-09-16T14:58:36.264Z"
   },
   {
    "duration": 760,
    "start_time": "2024-09-16T14:58:36.269Z"
   },
   {
    "duration": 111,
    "start_time": "2024-09-16T14:58:37.031Z"
   },
   {
    "duration": 14,
    "start_time": "2024-09-16T14:58:37.143Z"
   },
   {
    "duration": 118,
    "start_time": "2024-09-16T14:58:37.159Z"
   },
   {
    "duration": 1078,
    "start_time": "2024-09-16T14:58:37.279Z"
   },
   {
    "duration": 3,
    "start_time": "2024-09-16T14:58:38.359Z"
   },
   {
    "duration": 10,
    "start_time": "2024-09-16T14:58:38.364Z"
   },
   {
    "duration": 276,
    "start_time": "2024-09-16T14:58:38.377Z"
   },
   {
    "duration": 1036,
    "start_time": "2024-09-16T14:58:38.655Z"
   },
   {
    "duration": 373,
    "start_time": "2024-09-16T14:58:39.692Z"
   },
   {
    "duration": 3,
    "start_time": "2024-09-16T14:58:40.067Z"
   },
   {
    "duration": 489,
    "start_time": "2024-09-16T14:58:40.071Z"
   },
   {
    "duration": 4,
    "start_time": "2024-09-16T14:58:40.561Z"
   },
   {
    "duration": 14,
    "start_time": "2024-09-16T14:58:40.566Z"
   },
   {
    "duration": 28,
    "start_time": "2024-09-16T14:58:40.581Z"
   },
   {
    "duration": 44,
    "start_time": "2024-09-16T14:58:40.610Z"
   },
   {
    "duration": 254,
    "start_time": "2024-09-16T14:58:40.655Z"
   },
   {
    "duration": 131,
    "start_time": "2024-09-16T14:58:40.911Z"
   },
   {
    "duration": 24,
    "start_time": "2024-09-16T14:58:41.044Z"
   },
   {
    "duration": 177,
    "start_time": "2024-09-16T14:58:41.069Z"
   },
   {
    "duration": 23,
    "start_time": "2024-09-16T14:58:41.248Z"
   },
   {
    "duration": 130,
    "start_time": "2024-09-16T14:58:41.272Z"
   },
   {
    "duration": 217,
    "start_time": "2024-09-16T14:58:41.406Z"
   },
   {
    "duration": 234,
    "start_time": "2024-09-16T14:58:41.625Z"
   },
   {
    "duration": 4,
    "start_time": "2024-09-16T14:58:41.860Z"
   },
   {
    "duration": 15,
    "start_time": "2024-09-16T14:58:41.866Z"
   },
   {
    "duration": 145,
    "start_time": "2024-09-16T14:58:41.883Z"
   },
   {
    "duration": 171,
    "start_time": "2024-09-16T14:58:42.029Z"
   },
   {
    "duration": 26,
    "start_time": "2024-09-16T14:58:42.201Z"
   },
   {
    "duration": 283,
    "start_time": "2024-09-16T14:58:42.229Z"
   },
   {
    "duration": 5,
    "start_time": "2024-09-16T14:58:42.514Z"
   },
   {
    "duration": 272,
    "start_time": "2024-09-16T14:58:42.520Z"
   },
   {
    "duration": 69,
    "start_time": "2024-09-16T14:58:42.794Z"
   },
   {
    "duration": 53,
    "start_time": "2024-09-16T14:58:42.865Z"
   },
   {
    "duration": 141,
    "start_time": "2024-09-16T14:58:42.922Z"
   },
   {
    "duration": 311,
    "start_time": "2024-09-16T14:58:43.065Z"
   },
   {
    "duration": 11,
    "start_time": "2024-09-16T14:58:43.378Z"
   },
   {
    "duration": 101,
    "start_time": "2024-09-16T14:58:43.390Z"
   },
   {
    "duration": 395,
    "start_time": "2024-09-16T14:58:43.492Z"
   },
   {
    "duration": 33,
    "start_time": "2024-09-16T14:58:43.889Z"
   },
   {
    "duration": 108,
    "start_time": "2024-09-16T14:58:43.923Z"
   },
   {
    "duration": 347,
    "start_time": "2024-09-16T14:58:44.032Z"
   },
   {
    "duration": 26,
    "start_time": "2024-09-16T14:58:44.381Z"
   },
   {
    "duration": 31,
    "start_time": "2024-09-16T14:58:44.409Z"
   },
   {
    "duration": 9,
    "start_time": "2024-09-16T14:58:44.441Z"
   },
   {
    "duration": 40,
    "start_time": "2024-09-16T14:58:44.452Z"
   },
   {
    "duration": 3,
    "start_time": "2024-09-16T14:58:44.493Z"
   },
   {
    "duration": 34,
    "start_time": "2024-09-16T14:58:44.506Z"
   },
   {
    "duration": 3,
    "start_time": "2024-09-16T14:58:44.542Z"
   },
   {
    "duration": 14,
    "start_time": "2024-09-16T14:58:44.546Z"
   },
   {
    "duration": 13,
    "start_time": "2024-09-16T14:58:44.562Z"
   },
   {
    "duration": 33,
    "start_time": "2024-09-16T14:58:44.576Z"
   },
   {
    "duration": 62,
    "start_time": "2024-09-16T14:58:44.611Z"
   },
   {
    "duration": 4,
    "start_time": "2024-09-16T14:58:44.674Z"
   },
   {
    "duration": 21,
    "start_time": "2024-09-16T14:58:44.679Z"
   },
   {
    "duration": 10,
    "start_time": "2024-09-16T14:58:44.702Z"
   },
   {
    "duration": 26,
    "start_time": "2024-09-16T14:58:44.714Z"
   },
   {
    "duration": 2556,
    "start_time": "2024-09-16T15:00:01.162Z"
   },
   {
    "duration": 3016,
    "start_time": "2024-09-16T15:00:03.720Z"
   },
   {
    "duration": 2467,
    "start_time": "2024-09-16T15:00:06.737Z"
   },
   {
    "duration": 2823,
    "start_time": "2024-09-16T15:00:09.206Z"
   },
   {
    "duration": 1207,
    "start_time": "2024-09-16T15:00:12.031Z"
   },
   {
    "duration": 3,
    "start_time": "2024-09-16T15:00:13.239Z"
   },
   {
    "duration": 755,
    "start_time": "2024-09-16T15:00:13.243Z"
   },
   {
    "duration": 113,
    "start_time": "2024-09-16T15:00:14.000Z"
   },
   {
    "duration": 64,
    "start_time": "2024-09-16T15:00:14.115Z"
   },
   {
    "duration": 98,
    "start_time": "2024-09-16T15:00:14.180Z"
   },
   {
    "duration": 1198,
    "start_time": "2024-09-16T15:00:14.279Z"
   },
   {
    "duration": 3,
    "start_time": "2024-09-16T15:00:15.478Z"
   },
   {
    "duration": 22,
    "start_time": "2024-09-16T15:00:15.482Z"
   },
   {
    "duration": 310,
    "start_time": "2024-09-16T15:00:15.507Z"
   },
   {
    "duration": 1189,
    "start_time": "2024-09-16T15:00:15.818Z"
   },
   {
    "duration": 370,
    "start_time": "2024-09-16T15:00:17.008Z"
   },
   {
    "duration": 3,
    "start_time": "2024-09-16T15:00:17.379Z"
   },
   {
    "duration": 403,
    "start_time": "2024-09-16T15:00:17.383Z"
   },
   {
    "duration": 3,
    "start_time": "2024-09-16T15:00:17.788Z"
   },
   {
    "duration": 20,
    "start_time": "2024-09-16T15:00:17.792Z"
   },
   {
    "duration": 16,
    "start_time": "2024-09-16T15:00:17.813Z"
   },
   {
    "duration": 39,
    "start_time": "2024-09-16T15:00:17.830Z"
   },
   {
    "duration": 228,
    "start_time": "2024-09-16T15:00:17.870Z"
   },
   {
    "duration": 126,
    "start_time": "2024-09-16T15:00:18.099Z"
   },
   {
    "duration": 23,
    "start_time": "2024-09-16T15:00:18.227Z"
   },
   {
    "duration": 164,
    "start_time": "2024-09-16T15:00:18.252Z"
   },
   {
    "duration": 23,
    "start_time": "2024-09-16T15:00:18.417Z"
   },
   {
    "duration": 137,
    "start_time": "2024-09-16T15:00:18.442Z"
   },
   {
    "duration": 206,
    "start_time": "2024-09-16T15:00:18.580Z"
   },
   {
    "duration": 232,
    "start_time": "2024-09-16T15:00:18.787Z"
   },
   {
    "duration": 4,
    "start_time": "2024-09-16T15:00:19.021Z"
   },
   {
    "duration": 26,
    "start_time": "2024-09-16T15:00:19.026Z"
   },
   {
    "duration": 161,
    "start_time": "2024-09-16T15:00:19.053Z"
   },
   {
    "duration": 183,
    "start_time": "2024-09-16T15:00:19.216Z"
   },
   {
    "duration": 10,
    "start_time": "2024-09-16T15:00:19.401Z"
   },
   {
    "duration": 251,
    "start_time": "2024-09-16T15:00:19.412Z"
   },
   {
    "duration": 5,
    "start_time": "2024-09-16T15:00:19.665Z"
   },
   {
    "duration": 353,
    "start_time": "2024-09-16T15:00:19.671Z"
   },
   {
    "duration": 68,
    "start_time": "2024-09-16T15:00:20.025Z"
   },
   {
    "duration": 148,
    "start_time": "2024-09-16T15:00:20.094Z"
   },
   {
    "duration": 124,
    "start_time": "2024-09-16T15:00:20.246Z"
   },
   {
    "duration": 298,
    "start_time": "2024-09-16T15:00:20.371Z"
   },
   {
    "duration": 12,
    "start_time": "2024-09-16T15:00:20.671Z"
   },
   {
    "duration": 115,
    "start_time": "2024-09-16T15:00:20.684Z"
   },
   {
    "duration": 398,
    "start_time": "2024-09-16T15:00:20.800Z"
   },
   {
    "duration": 29,
    "start_time": "2024-09-16T15:00:21.206Z"
   },
   {
    "duration": 127,
    "start_time": "2024-09-16T15:00:21.237Z"
   },
   {
    "duration": 309,
    "start_time": "2024-09-16T15:00:21.365Z"
   },
   {
    "duration": 11,
    "start_time": "2024-09-16T15:00:21.676Z"
   },
   {
    "duration": 124,
    "start_time": "2024-09-16T15:00:21.689Z"
   },
   {
    "duration": 9,
    "start_time": "2024-09-16T15:00:21.815Z"
   },
   {
    "duration": 29,
    "start_time": "2024-09-16T15:00:21.826Z"
   },
   {
    "duration": 3,
    "start_time": "2024-09-16T15:00:21.857Z"
   },
   {
    "duration": 55,
    "start_time": "2024-09-16T15:00:21.861Z"
   },
   {
    "duration": 3,
    "start_time": "2024-09-16T15:00:21.918Z"
   },
   {
    "duration": 90,
    "start_time": "2024-09-16T15:00:21.922Z"
   },
   {
    "duration": 143,
    "start_time": "2024-09-16T15:00:22.013Z"
   },
   {
    "duration": 25,
    "start_time": "2024-09-16T15:00:22.158Z"
   },
   {
    "duration": 60,
    "start_time": "2024-09-16T15:00:22.184Z"
   },
   {
    "duration": 3,
    "start_time": "2024-09-16T15:00:22.245Z"
   },
   {
    "duration": 6,
    "start_time": "2024-09-16T15:00:22.249Z"
   },
   {
    "duration": 11,
    "start_time": "2024-09-16T15:00:22.257Z"
   },
   {
    "duration": 107,
    "start_time": "2024-09-16T15:00:22.269Z"
   },
   {
    "duration": 0,
    "start_time": "2024-09-16T15:00:22.377Z"
   },
   {
    "duration": 0,
    "start_time": "2024-09-16T15:00:22.378Z"
   },
   {
    "duration": 0,
    "start_time": "2024-09-16T15:00:22.379Z"
   },
   {
    "duration": 0,
    "start_time": "2024-09-16T15:00:22.380Z"
   },
   {
    "duration": 0,
    "start_time": "2024-09-16T15:00:22.381Z"
   },
   {
    "duration": 0,
    "start_time": "2024-09-16T15:00:22.382Z"
   },
   {
    "duration": 0,
    "start_time": "2024-09-16T15:00:22.383Z"
   },
   {
    "duration": 0,
    "start_time": "2024-09-16T15:00:22.383Z"
   },
   {
    "duration": 0,
    "start_time": "2024-09-16T15:00:22.384Z"
   },
   {
    "duration": 0,
    "start_time": "2024-09-16T15:00:22.385Z"
   },
   {
    "duration": 0,
    "start_time": "2024-09-16T15:00:22.386Z"
   },
   {
    "duration": 0,
    "start_time": "2024-09-16T15:00:22.387Z"
   },
   {
    "duration": 0,
    "start_time": "2024-09-16T15:00:22.388Z"
   },
   {
    "duration": 0,
    "start_time": "2024-09-16T15:00:22.389Z"
   },
   {
    "duration": 0,
    "start_time": "2024-09-16T15:00:22.390Z"
   },
   {
    "duration": 0,
    "start_time": "2024-09-16T15:00:22.391Z"
   },
   {
    "duration": 2527,
    "start_time": "2024-09-16T15:01:16.150Z"
   },
   {
    "duration": 3003,
    "start_time": "2024-09-16T15:01:18.679Z"
   },
   {
    "duration": 2457,
    "start_time": "2024-09-16T15:01:21.684Z"
   },
   {
    "duration": 2910,
    "start_time": "2024-09-16T15:01:24.143Z"
   },
   {
    "duration": 1116,
    "start_time": "2024-09-16T15:01:27.055Z"
   },
   {
    "duration": 2,
    "start_time": "2024-09-16T15:01:28.172Z"
   },
   {
    "duration": 698,
    "start_time": "2024-09-16T15:01:28.176Z"
   },
   {
    "duration": 120,
    "start_time": "2024-09-16T15:01:28.875Z"
   },
   {
    "duration": 18,
    "start_time": "2024-09-16T15:01:28.996Z"
   },
   {
    "duration": 118,
    "start_time": "2024-09-16T15:01:29.015Z"
   },
   {
    "duration": 1126,
    "start_time": "2024-09-16T15:01:29.135Z"
   },
   {
    "duration": 3,
    "start_time": "2024-09-16T15:01:30.263Z"
   },
   {
    "duration": 55,
    "start_time": "2024-09-16T15:01:30.268Z"
   },
   {
    "duration": 296,
    "start_time": "2024-09-16T15:01:30.326Z"
   },
   {
    "duration": 1184,
    "start_time": "2024-09-16T15:01:30.623Z"
   },
   {
    "duration": 364,
    "start_time": "2024-09-16T15:01:31.808Z"
   },
   {
    "duration": 4,
    "start_time": "2024-09-16T15:01:32.173Z"
   },
   {
    "duration": 423,
    "start_time": "2024-09-16T15:01:32.178Z"
   },
   {
    "duration": 6,
    "start_time": "2024-09-16T15:01:32.603Z"
   },
   {
    "duration": 108,
    "start_time": "2024-09-16T15:01:32.610Z"
   },
   {
    "duration": 29,
    "start_time": "2024-09-16T15:01:32.720Z"
   },
   {
    "duration": 49,
    "start_time": "2024-09-16T15:01:32.750Z"
   },
   {
    "duration": 212,
    "start_time": "2024-09-16T15:01:32.800Z"
   },
   {
    "duration": 118,
    "start_time": "2024-09-16T15:01:33.013Z"
   },
   {
    "duration": 23,
    "start_time": "2024-09-16T15:01:33.133Z"
   },
   {
    "duration": 178,
    "start_time": "2024-09-16T15:01:33.157Z"
   },
   {
    "duration": 22,
    "start_time": "2024-09-16T15:01:33.336Z"
   },
   {
    "duration": 131,
    "start_time": "2024-09-16T15:01:33.360Z"
   },
   {
    "duration": 196,
    "start_time": "2024-09-16T15:01:33.493Z"
   },
   {
    "duration": 231,
    "start_time": "2024-09-16T15:01:33.690Z"
   },
   {
    "duration": 4,
    "start_time": "2024-09-16T15:01:33.923Z"
   },
   {
    "duration": 173,
    "start_time": "2024-09-16T15:01:33.928Z"
   },
   {
    "duration": 241,
    "start_time": "2024-09-16T15:01:34.103Z"
   },
   {
    "duration": 172,
    "start_time": "2024-09-16T15:01:34.345Z"
   },
   {
    "duration": 8,
    "start_time": "2024-09-16T15:01:34.518Z"
   },
   {
    "duration": 244,
    "start_time": "2024-09-16T15:01:34.527Z"
   },
   {
    "duration": 5,
    "start_time": "2024-09-16T15:01:34.772Z"
   },
   {
    "duration": 230,
    "start_time": "2024-09-16T15:01:34.779Z"
   },
   {
    "duration": 68,
    "start_time": "2024-09-16T15:01:35.010Z"
   },
   {
    "duration": 50,
    "start_time": "2024-09-16T15:01:35.080Z"
   },
   {
    "duration": 134,
    "start_time": "2024-09-16T15:01:35.135Z"
   },
   {
    "duration": 312,
    "start_time": "2024-09-16T15:01:35.271Z"
   },
   {
    "duration": 27,
    "start_time": "2024-09-16T15:01:35.585Z"
   },
   {
    "duration": 101,
    "start_time": "2024-09-16T15:01:35.614Z"
   },
   {
    "duration": 470,
    "start_time": "2024-09-16T15:01:35.716Z"
   },
   {
    "duration": 37,
    "start_time": "2024-09-16T15:01:36.188Z"
   },
   {
    "duration": 106,
    "start_time": "2024-09-16T15:01:36.226Z"
   },
   {
    "duration": 299,
    "start_time": "2024-09-16T15:01:36.333Z"
   },
   {
    "duration": 11,
    "start_time": "2024-09-16T15:01:36.634Z"
   },
   {
    "duration": 47,
    "start_time": "2024-09-16T15:01:36.647Z"
   },
   {
    "duration": 9,
    "start_time": "2024-09-16T15:01:36.696Z"
   },
   {
    "duration": 57,
    "start_time": "2024-09-16T15:01:36.706Z"
   },
   {
    "duration": 3,
    "start_time": "2024-09-16T15:01:36.764Z"
   },
   {
    "duration": 61,
    "start_time": "2024-09-16T15:01:36.769Z"
   },
   {
    "duration": 4,
    "start_time": "2024-09-16T15:01:36.831Z"
   },
   {
    "duration": 30,
    "start_time": "2024-09-16T15:01:36.836Z"
   },
   {
    "duration": 52,
    "start_time": "2024-09-16T15:01:36.867Z"
   },
   {
    "duration": 42,
    "start_time": "2024-09-16T15:01:36.921Z"
   },
   {
    "duration": 73,
    "start_time": "2024-09-16T15:01:36.964Z"
   },
   {
    "duration": 3,
    "start_time": "2024-09-16T15:01:37.038Z"
   },
   {
    "duration": 23,
    "start_time": "2024-09-16T15:01:37.042Z"
   },
   {
    "duration": 34,
    "start_time": "2024-09-16T15:01:37.066Z"
   },
   {
    "duration": 36,
    "start_time": "2024-09-16T15:01:37.102Z"
   },
   {
    "duration": 29362,
    "start_time": "2024-09-16T15:01:37.140Z"
   },
   {
    "duration": 128,
    "start_time": "2024-09-16T15:02:06.504Z"
   },
   {
    "duration": 4,
    "start_time": "2024-09-16T15:02:06.633Z"
   },
   {
    "duration": 11,
    "start_time": "2024-09-16T15:02:06.639Z"
   },
   {
    "duration": 27867,
    "start_time": "2024-09-16T15:02:06.651Z"
   },
   {
    "duration": 208,
    "start_time": "2024-09-16T15:02:34.519Z"
   },
   {
    "duration": 4,
    "start_time": "2024-09-16T15:02:34.729Z"
   },
   {
    "duration": 18,
    "start_time": "2024-09-16T15:02:34.734Z"
   },
   {
    "duration": 27,
    "start_time": "2024-09-16T15:02:34.753Z"
   },
   {
    "duration": 36,
    "start_time": "2024-09-16T15:02:34.782Z"
   },
   {
    "duration": 221293,
    "start_time": "2024-09-16T15:02:34.820Z"
   },
   {
    "duration": 144,
    "start_time": "2024-09-16T15:06:16.115Z"
   },
   {
    "duration": 5,
    "start_time": "2024-09-16T15:06:16.261Z"
   },
   {
    "duration": 15,
    "start_time": "2024-09-16T15:06:16.268Z"
   },
   {
    "duration": 142,
    "start_time": "2024-09-16T15:06:16.285Z"
   },
   {
    "duration": 0,
    "start_time": "2024-09-16T15:06:16.428Z"
   },
   {
    "duration": 2,
    "start_time": "2024-09-16T15:14:39.584Z"
   },
   {
    "duration": 5,
    "start_time": "2024-09-16T15:14:40.907Z"
   },
   {
    "duration": 7,
    "start_time": "2024-09-16T15:14:55.115Z"
   },
   {
    "duration": 3,
    "start_time": "2024-09-16T15:15:49.423Z"
   },
   {
    "duration": 3,
    "start_time": "2024-09-16T15:18:22.500Z"
   },
   {
    "duration": 2,
    "start_time": "2024-09-16T15:18:57.681Z"
   },
   {
    "duration": 4,
    "start_time": "2024-09-16T15:19:03.257Z"
   },
   {
    "duration": 8,
    "start_time": "2024-09-16T15:19:04.607Z"
   },
   {
    "duration": 3,
    "start_time": "2024-09-16T15:20:03.773Z"
   },
   {
    "duration": 3,
    "start_time": "2024-09-16T15:20:34.697Z"
   },
   {
    "duration": 3,
    "start_time": "2024-09-16T15:20:35.824Z"
   },
   {
    "duration": 2,
    "start_time": "2024-09-16T15:20:36.234Z"
   },
   {
    "duration": 29,
    "start_time": "2024-09-16T15:20:37.165Z"
   },
   {
    "duration": 3,
    "start_time": "2024-09-16T15:22:22.469Z"
   },
   {
    "duration": 3,
    "start_time": "2024-09-16T15:22:23.012Z"
   },
   {
    "duration": 2468,
    "start_time": "2024-09-16T15:30:37.838Z"
   },
   {
    "duration": 3009,
    "start_time": "2024-09-16T15:30:40.308Z"
   },
   {
    "duration": 2419,
    "start_time": "2024-09-16T15:30:43.319Z"
   },
   {
    "duration": 2794,
    "start_time": "2024-09-16T15:30:45.740Z"
   },
   {
    "duration": 1108,
    "start_time": "2024-09-16T15:30:48.536Z"
   },
   {
    "duration": 3,
    "start_time": "2024-09-16T15:30:49.645Z"
   },
   {
    "duration": 706,
    "start_time": "2024-09-16T15:30:49.649Z"
   },
   {
    "duration": 99,
    "start_time": "2024-09-16T15:30:50.356Z"
   },
   {
    "duration": 13,
    "start_time": "2024-09-16T15:30:50.457Z"
   },
   {
    "duration": 107,
    "start_time": "2024-09-16T15:30:50.472Z"
   },
   {
    "duration": 1181,
    "start_time": "2024-09-16T15:30:50.580Z"
   },
   {
    "duration": 3,
    "start_time": "2024-09-16T15:30:51.763Z"
   },
   {
    "duration": 78,
    "start_time": "2024-09-16T15:30:51.767Z"
   },
   {
    "duration": 339,
    "start_time": "2024-09-16T15:30:51.849Z"
   },
   {
    "duration": 1094,
    "start_time": "2024-09-16T15:30:52.189Z"
   },
   {
    "duration": 386,
    "start_time": "2024-09-16T15:30:53.285Z"
   },
   {
    "duration": 3,
    "start_time": "2024-09-16T15:30:53.672Z"
   },
   {
    "duration": 394,
    "start_time": "2024-09-16T15:30:53.676Z"
   },
   {
    "duration": 4,
    "start_time": "2024-09-16T15:30:54.071Z"
   },
   {
    "duration": 129,
    "start_time": "2024-09-16T15:30:54.076Z"
   },
   {
    "duration": 107,
    "start_time": "2024-09-16T15:30:54.206Z"
   },
   {
    "duration": 24,
    "start_time": "2024-09-16T15:30:54.314Z"
   },
   {
    "duration": 211,
    "start_time": "2024-09-16T15:30:54.340Z"
   },
   {
    "duration": 122,
    "start_time": "2024-09-16T15:30:54.553Z"
   },
   {
    "duration": 43,
    "start_time": "2024-09-16T15:30:54.677Z"
   },
   {
    "duration": 174,
    "start_time": "2024-09-16T15:30:54.722Z"
   },
   {
    "duration": 28,
    "start_time": "2024-09-16T15:30:54.897Z"
   },
   {
    "duration": 133,
    "start_time": "2024-09-16T15:30:54.927Z"
   },
   {
    "duration": 211,
    "start_time": "2024-09-16T15:30:55.062Z"
   },
   {
    "duration": 234,
    "start_time": "2024-09-16T15:30:55.275Z"
   },
   {
    "duration": 4,
    "start_time": "2024-09-16T15:30:55.510Z"
   },
   {
    "duration": 15,
    "start_time": "2024-09-16T15:30:55.515Z"
   },
   {
    "duration": 163,
    "start_time": "2024-09-16T15:30:55.532Z"
   },
   {
    "duration": 170,
    "start_time": "2024-09-16T15:30:55.696Z"
   },
   {
    "duration": 7,
    "start_time": "2024-09-16T15:30:55.867Z"
   },
   {
    "duration": 303,
    "start_time": "2024-09-16T15:30:55.875Z"
   },
   {
    "duration": 5,
    "start_time": "2024-09-16T15:30:56.180Z"
   },
   {
    "duration": 299,
    "start_time": "2024-09-16T15:30:56.186Z"
   },
   {
    "duration": 69,
    "start_time": "2024-09-16T15:30:56.486Z"
   },
   {
    "duration": 29,
    "start_time": "2024-09-16T15:30:56.557Z"
   },
   {
    "duration": 137,
    "start_time": "2024-09-16T15:30:56.591Z"
   },
   {
    "duration": 370,
    "start_time": "2024-09-16T15:30:56.729Z"
   },
   {
    "duration": 12,
    "start_time": "2024-09-16T15:30:57.106Z"
   },
   {
    "duration": 116,
    "start_time": "2024-09-16T15:30:57.119Z"
   },
   {
    "duration": 391,
    "start_time": "2024-09-16T15:30:57.237Z"
   },
   {
    "duration": 27,
    "start_time": "2024-09-16T15:30:57.629Z"
   },
   {
    "duration": 112,
    "start_time": "2024-09-16T15:30:57.657Z"
   },
   {
    "duration": 308,
    "start_time": "2024-09-16T15:30:57.770Z"
   },
   {
    "duration": 26,
    "start_time": "2024-09-16T15:30:58.080Z"
   },
   {
    "duration": 181,
    "start_time": "2024-09-16T15:30:58.108Z"
   },
   {
    "duration": 28,
    "start_time": "2024-09-16T15:30:58.290Z"
   },
   {
    "duration": 34,
    "start_time": "2024-09-16T15:30:58.319Z"
   },
   {
    "duration": 4,
    "start_time": "2024-09-16T15:30:58.354Z"
   },
   {
    "duration": 46,
    "start_time": "2024-09-16T15:30:58.359Z"
   },
   {
    "duration": 5,
    "start_time": "2024-09-16T15:30:58.406Z"
   },
   {
    "duration": 14,
    "start_time": "2024-09-16T15:30:58.413Z"
   },
   {
    "duration": 7,
    "start_time": "2024-09-16T15:30:58.429Z"
   },
   {
    "duration": 35,
    "start_time": "2024-09-16T15:30:58.437Z"
   },
   {
    "duration": 64,
    "start_time": "2024-09-16T15:30:58.473Z"
   },
   {
    "duration": 2,
    "start_time": "2024-09-16T15:30:58.539Z"
   },
   {
    "duration": 27,
    "start_time": "2024-09-16T15:30:58.542Z"
   },
   {
    "duration": 6,
    "start_time": "2024-09-16T15:30:58.570Z"
   },
   {
    "duration": 7,
    "start_time": "2024-09-16T15:30:58.578Z"
   },
   {
    "duration": 27997,
    "start_time": "2024-09-16T15:30:58.586Z"
   },
   {
    "duration": 126,
    "start_time": "2024-09-16T15:31:26.584Z"
   },
   {
    "duration": 4,
    "start_time": "2024-09-16T15:31:26.712Z"
   },
   {
    "duration": 23,
    "start_time": "2024-09-16T15:31:26.717Z"
   },
   {
    "duration": 25275,
    "start_time": "2024-09-16T15:31:26.741Z"
   },
   {
    "duration": 221,
    "start_time": "2024-09-16T15:31:52.018Z"
   },
   {
    "duration": 50,
    "start_time": "2024-09-16T15:31:52.240Z"
   },
   {
    "duration": 19,
    "start_time": "2024-09-16T15:31:52.293Z"
   },
   {
    "duration": 19,
    "start_time": "2024-09-16T15:31:52.314Z"
   },
   {
    "duration": 15,
    "start_time": "2024-09-16T15:31:52.335Z"
   },
   {
    "duration": 247986,
    "start_time": "2024-09-16T15:31:52.351Z"
   },
   {
    "duration": 132,
    "start_time": "2024-09-16T15:36:00.406Z"
   },
   {
    "duration": 4,
    "start_time": "2024-09-16T15:36:00.540Z"
   },
   {
    "duration": 1964,
    "start_time": "2024-09-16T15:36:00.546Z"
   },
   {
    "duration": 3,
    "start_time": "2024-09-16T15:36:02.512Z"
   },
   {
    "duration": 39,
    "start_time": "2024-09-16T15:36:02.517Z"
   },
   {
    "duration": 153,
    "start_time": "2024-09-16T15:36:02.557Z"
   },
   {
    "duration": 0,
    "start_time": "2024-09-16T15:36:02.712Z"
   },
   {
    "duration": 4,
    "start_time": "2024-09-16T15:38:02.405Z"
   },
   {
    "duration": 3,
    "start_time": "2024-09-16T15:38:03.775Z"
   },
   {
    "duration": 11,
    "start_time": "2024-09-16T15:38:04.558Z"
   },
   {
    "duration": 3,
    "start_time": "2024-09-16T15:40:00.688Z"
   },
   {
    "duration": 3,
    "start_time": "2024-09-16T15:40:01.276Z"
   },
   {
    "duration": 11,
    "start_time": "2024-09-16T15:40:02.057Z"
   },
   {
    "duration": 8,
    "start_time": "2024-09-16T15:40:02.816Z"
   },
   {
    "duration": 4,
    "start_time": "2024-09-16T15:40:21.982Z"
   },
   {
    "duration": 3,
    "start_time": "2024-09-16T15:40:22.459Z"
   },
   {
    "duration": 22,
    "start_time": "2024-09-16T15:40:22.894Z"
   },
   {
    "duration": 9,
    "start_time": "2024-09-16T15:40:23.561Z"
   },
   {
    "duration": 1875,
    "start_time": "2024-09-16T15:41:53.406Z"
   },
   {
    "duration": 4,
    "start_time": "2024-09-16T15:41:55.283Z"
   },
   {
    "duration": 2,
    "start_time": "2024-09-16T15:41:59.702Z"
   },
   {
    "duration": 21,
    "start_time": "2024-09-16T15:42:00.457Z"
   },
   {
    "duration": 8,
    "start_time": "2024-09-16T15:42:01.175Z"
   },
   {
    "duration": 3,
    "start_time": "2024-09-16T15:43:39.748Z"
   },
   {
    "duration": 2,
    "start_time": "2024-09-16T15:43:41.516Z"
   },
   {
    "duration": 22,
    "start_time": "2024-09-16T15:43:42.148Z"
   },
   {
    "duration": 8,
    "start_time": "2024-09-16T15:43:43.122Z"
   },
   {
    "duration": 1908,
    "start_time": "2024-09-16T15:43:59.317Z"
   },
   {
    "duration": 3,
    "start_time": "2024-09-16T15:44:01.267Z"
   },
   {
    "duration": 3,
    "start_time": "2024-09-16T15:44:05.089Z"
   },
   {
    "duration": 28,
    "start_time": "2024-09-16T15:44:05.532Z"
   },
   {
    "duration": 1917,
    "start_time": "2024-09-16T15:45:39.924Z"
   },
   {
    "duration": 3,
    "start_time": "2024-09-16T15:45:41.842Z"
   },
   {
    "duration": 8,
    "start_time": "2024-09-16T15:45:49.600Z"
   },
   {
    "duration": 1892,
    "start_time": "2024-09-16T15:46:07.084Z"
   },
   {
    "duration": 3,
    "start_time": "2024-09-16T15:46:08.977Z"
   },
   {
    "duration": 12,
    "start_time": "2024-09-16T15:46:08.981Z"
   },
   {
    "duration": 2,
    "start_time": "2024-09-16T15:47:42.013Z"
   },
   {
    "duration": 3,
    "start_time": "2024-09-16T15:47:43.371Z"
   },
   {
    "duration": 2,
    "start_time": "2024-09-16T15:47:53.842Z"
   },
   {
    "duration": 2170985,
    "start_time": "2024-09-16T15:47:59.929Z"
   },
   {
    "duration": 0,
    "start_time": "2024-09-16T16:24:10.916Z"
   },
   {
    "duration": 2719,
    "start_time": "2024-09-16T16:24:51.992Z"
   },
   {
    "duration": 8,
    "start_time": "2024-09-16T16:25:23.606Z"
   },
   {
    "duration": 8,
    "start_time": "2024-09-16T16:26:03.493Z"
   },
   {
    "duration": 3,
    "start_time": "2024-09-16T16:26:35.201Z"
   },
   {
    "duration": 2,
    "start_time": "2024-09-16T16:26:36.052Z"
   },
   {
    "duration": 4,
    "start_time": "2024-09-16T16:26:37.571Z"
   },
   {
    "duration": 2485,
    "start_time": "2024-09-16T16:41:00.564Z"
   },
   {
    "duration": 3013,
    "start_time": "2024-09-16T16:41:03.050Z"
   },
   {
    "duration": 2434,
    "start_time": "2024-09-16T16:41:06.064Z"
   },
   {
    "duration": 2698,
    "start_time": "2024-09-16T16:41:08.501Z"
   },
   {
    "duration": 1187,
    "start_time": "2024-09-16T16:41:11.201Z"
   },
   {
    "duration": 3,
    "start_time": "2024-09-16T16:41:12.390Z"
   },
   {
    "duration": 878,
    "start_time": "2024-09-16T16:41:12.394Z"
   },
   {
    "duration": 105,
    "start_time": "2024-09-16T16:41:13.273Z"
   },
   {
    "duration": 13,
    "start_time": "2024-09-16T16:41:13.380Z"
   },
   {
    "duration": 112,
    "start_time": "2024-09-16T16:41:13.395Z"
   },
   {
    "duration": 1060,
    "start_time": "2024-09-16T16:41:13.509Z"
   },
   {
    "duration": 2,
    "start_time": "2024-09-16T16:41:14.571Z"
   },
   {
    "duration": 5,
    "start_time": "2024-09-16T16:41:14.575Z"
   },
   {
    "duration": 297,
    "start_time": "2024-09-16T16:41:14.581Z"
   },
   {
    "duration": 1035,
    "start_time": "2024-09-16T16:41:14.879Z"
   },
   {
    "duration": 360,
    "start_time": "2024-09-16T16:41:15.915Z"
   },
   {
    "duration": 3,
    "start_time": "2024-09-16T16:41:16.277Z"
   },
   {
    "duration": 391,
    "start_time": "2024-09-16T16:41:16.282Z"
   },
   {
    "duration": 4,
    "start_time": "2024-09-16T16:41:16.674Z"
   },
   {
    "duration": 23,
    "start_time": "2024-09-16T16:41:16.679Z"
   },
   {
    "duration": 11,
    "start_time": "2024-09-16T16:41:16.704Z"
   },
   {
    "duration": 20,
    "start_time": "2024-09-16T16:41:16.716Z"
   },
   {
    "duration": 211,
    "start_time": "2024-09-16T16:41:16.737Z"
   },
   {
    "duration": 139,
    "start_time": "2024-09-16T16:41:16.950Z"
   },
   {
    "duration": 26,
    "start_time": "2024-09-16T16:41:17.090Z"
   },
   {
    "duration": 160,
    "start_time": "2024-09-16T16:41:17.117Z"
   },
   {
    "duration": 30,
    "start_time": "2024-09-16T16:41:17.278Z"
   },
   {
    "duration": 119,
    "start_time": "2024-09-16T16:41:17.309Z"
   },
   {
    "duration": 216,
    "start_time": "2024-09-16T16:41:17.430Z"
   },
   {
    "duration": 229,
    "start_time": "2024-09-16T16:41:17.648Z"
   },
   {
    "duration": 5,
    "start_time": "2024-09-16T16:41:17.878Z"
   },
   {
    "duration": 7,
    "start_time": "2024-09-16T16:41:17.884Z"
   },
   {
    "duration": 155,
    "start_time": "2024-09-16T16:41:17.892Z"
   },
   {
    "duration": 169,
    "start_time": "2024-09-16T16:41:18.048Z"
   },
   {
    "duration": 6,
    "start_time": "2024-09-16T16:41:18.219Z"
   },
   {
    "duration": 251,
    "start_time": "2024-09-16T16:41:18.227Z"
   },
   {
    "duration": 6,
    "start_time": "2024-09-16T16:41:18.479Z"
   },
   {
    "duration": 2423,
    "start_time": "2024-09-16T16:41:40.166Z"
   },
   {
    "duration": 3009,
    "start_time": "2024-09-16T16:41:42.592Z"
   },
   {
    "duration": 2471,
    "start_time": "2024-09-16T16:41:45.602Z"
   },
   {
    "duration": 2709,
    "start_time": "2024-09-16T16:41:48.075Z"
   },
   {
    "duration": 1180,
    "start_time": "2024-09-16T16:41:50.786Z"
   },
   {
    "duration": 2,
    "start_time": "2024-09-16T16:41:51.967Z"
   },
   {
    "duration": 759,
    "start_time": "2024-09-16T16:41:51.970Z"
   },
   {
    "duration": 111,
    "start_time": "2024-09-16T16:41:52.731Z"
   },
   {
    "duration": 13,
    "start_time": "2024-09-16T16:41:52.843Z"
   },
   {
    "duration": 116,
    "start_time": "2024-09-16T16:41:52.857Z"
   },
   {
    "duration": 1070,
    "start_time": "2024-09-16T16:41:52.975Z"
   },
   {
    "duration": 2,
    "start_time": "2024-09-16T16:41:54.047Z"
   },
   {
    "duration": 20,
    "start_time": "2024-09-16T16:41:54.050Z"
   },
   {
    "duration": 292,
    "start_time": "2024-09-16T16:41:54.072Z"
   },
   {
    "duration": 1033,
    "start_time": "2024-09-16T16:41:54.366Z"
   },
   {
    "duration": 360,
    "start_time": "2024-09-16T16:41:55.406Z"
   },
   {
    "duration": 3,
    "start_time": "2024-09-16T16:41:55.767Z"
   },
   {
    "duration": 423,
    "start_time": "2024-09-16T16:41:55.771Z"
   },
   {
    "duration": 3,
    "start_time": "2024-09-16T16:41:56.195Z"
   },
   {
    "duration": 6,
    "start_time": "2024-09-16T16:41:56.199Z"
   },
   {
    "duration": 15,
    "start_time": "2024-09-16T16:41:56.207Z"
   },
   {
    "duration": 13,
    "start_time": "2024-09-16T16:41:56.223Z"
   },
   {
    "duration": 222,
    "start_time": "2024-09-16T16:41:56.237Z"
   },
   {
    "duration": 121,
    "start_time": "2024-09-16T16:41:56.461Z"
   },
   {
    "duration": 29,
    "start_time": "2024-09-16T16:41:56.583Z"
   },
   {
    "duration": 150,
    "start_time": "2024-09-16T16:41:56.613Z"
   },
   {
    "duration": 22,
    "start_time": "2024-09-16T16:41:56.764Z"
   },
   {
    "duration": 125,
    "start_time": "2024-09-16T16:41:56.787Z"
   },
   {
    "duration": 205,
    "start_time": "2024-09-16T16:41:56.914Z"
   },
   {
    "duration": 242,
    "start_time": "2024-09-16T16:41:57.120Z"
   },
   {
    "duration": 5,
    "start_time": "2024-09-16T16:41:57.364Z"
   },
   {
    "duration": 143,
    "start_time": "2024-09-16T16:41:57.370Z"
   },
   {
    "duration": 217,
    "start_time": "2024-09-16T16:41:57.514Z"
   },
   {
    "duration": 175,
    "start_time": "2024-09-16T16:41:57.732Z"
   },
   {
    "duration": 7,
    "start_time": "2024-09-16T16:41:57.908Z"
   },
   {
    "duration": 253,
    "start_time": "2024-09-16T16:41:57.916Z"
   },
   {
    "duration": 6,
    "start_time": "2024-09-16T16:41:58.170Z"
   },
   {
    "duration": 230,
    "start_time": "2024-09-16T16:41:58.177Z"
   },
   {
    "duration": 67,
    "start_time": "2024-09-16T16:41:58.408Z"
   },
   {
    "duration": 89,
    "start_time": "2024-09-16T16:41:58.476Z"
   },
   {
    "duration": 113,
    "start_time": "2024-09-16T16:41:58.569Z"
   },
   {
    "duration": 286,
    "start_time": "2024-09-16T16:41:58.684Z"
   },
   {
    "duration": 10,
    "start_time": "2024-09-16T16:41:58.971Z"
   },
   {
    "duration": 107,
    "start_time": "2024-09-16T16:41:58.982Z"
   },
   {
    "duration": 424,
    "start_time": "2024-09-16T16:41:59.091Z"
   },
   {
    "duration": 26,
    "start_time": "2024-09-16T16:41:59.516Z"
   },
   {
    "duration": 121,
    "start_time": "2024-09-16T16:41:59.543Z"
   },
   {
    "duration": 315,
    "start_time": "2024-09-16T16:41:59.666Z"
   },
   {
    "duration": 11,
    "start_time": "2024-09-16T16:41:59.983Z"
   },
   {
    "duration": 78,
    "start_time": "2024-09-16T16:41:59.995Z"
   },
   {
    "duration": 54,
    "start_time": "2024-09-16T16:42:00.074Z"
   },
   {
    "duration": 65,
    "start_time": "2024-09-16T16:42:00.129Z"
   },
   {
    "duration": 31,
    "start_time": "2024-09-16T16:42:00.196Z"
   },
   {
    "duration": 59,
    "start_time": "2024-09-16T16:42:00.228Z"
   },
   {
    "duration": 10,
    "start_time": "2024-09-16T16:42:00.288Z"
   },
   {
    "duration": 200,
    "start_time": "2024-09-16T16:42:00.299Z"
   },
   {
    "duration": 108,
    "start_time": "2024-09-16T16:42:00.501Z"
   },
   {
    "duration": 46,
    "start_time": "2024-09-16T16:42:00.610Z"
   },
   {
    "duration": 72,
    "start_time": "2024-09-16T16:42:00.657Z"
   },
   {
    "duration": 3,
    "start_time": "2024-09-16T16:42:00.730Z"
   },
   {
    "duration": 18,
    "start_time": "2024-09-16T16:42:00.734Z"
   },
   {
    "duration": 52,
    "start_time": "2024-09-16T16:42:00.753Z"
   },
   {
    "duration": 10,
    "start_time": "2024-09-16T16:42:00.806Z"
   },
   {
    "duration": 28303,
    "start_time": "2024-09-16T16:42:00.817Z"
   },
   {
    "duration": 128,
    "start_time": "2024-09-16T16:42:29.121Z"
   },
   {
    "duration": 4,
    "start_time": "2024-09-16T16:42:29.251Z"
   },
   {
    "duration": 29,
    "start_time": "2024-09-16T16:42:29.256Z"
   },
   {
    "duration": 27821,
    "start_time": "2024-09-16T16:42:29.286Z"
   },
   {
    "duration": 141,
    "start_time": "2024-09-16T16:42:57.109Z"
   },
   {
    "duration": 4,
    "start_time": "2024-09-16T16:42:57.251Z"
   },
   {
    "duration": 8,
    "start_time": "2024-09-16T16:42:57.256Z"
   },
   {
    "duration": 8,
    "start_time": "2024-09-16T16:42:57.265Z"
   },
   {
    "duration": 31,
    "start_time": "2024-09-16T16:42:57.274Z"
   },
   {
    "duration": 215202,
    "start_time": "2024-09-16T16:42:57.306Z"
   },
   {
    "duration": 167,
    "start_time": "2024-09-16T16:46:32.509Z"
   },
   {
    "duration": 5,
    "start_time": "2024-09-16T16:46:32.678Z"
   },
   {
    "duration": 14,
    "start_time": "2024-09-16T16:46:32.684Z"
   },
   {
    "duration": 4,
    "start_time": "2024-09-16T16:46:32.699Z"
   },
   {
    "duration": 33,
    "start_time": "2024-09-16T16:46:32.707Z"
   },
   {
    "duration": 2521,
    "start_time": "2024-09-16T17:11:41.383Z"
   },
   {
    "duration": 3257,
    "start_time": "2024-09-16T17:11:43.906Z"
   },
   {
    "duration": 2436,
    "start_time": "2024-09-16T17:11:47.165Z"
   },
   {
    "duration": 2742,
    "start_time": "2024-09-16T17:11:49.603Z"
   },
   {
    "duration": 1167,
    "start_time": "2024-09-16T17:11:52.347Z"
   },
   {
    "duration": 2,
    "start_time": "2024-09-16T17:11:53.516Z"
   },
   {
    "duration": 693,
    "start_time": "2024-09-16T17:11:53.519Z"
   },
   {
    "duration": 105,
    "start_time": "2024-09-16T17:11:54.214Z"
   },
   {
    "duration": 13,
    "start_time": "2024-09-16T17:11:54.321Z"
   },
   {
    "duration": 115,
    "start_time": "2024-09-16T17:11:54.335Z"
   },
   {
    "duration": 1157,
    "start_time": "2024-09-16T17:11:54.452Z"
   },
   {
    "duration": 3,
    "start_time": "2024-09-16T17:11:55.610Z"
   },
   {
    "duration": 21,
    "start_time": "2024-09-16T17:11:55.614Z"
   },
   {
    "duration": 277,
    "start_time": "2024-09-16T17:11:55.638Z"
   },
   {
    "duration": 1064,
    "start_time": "2024-09-16T17:11:55.917Z"
   },
   {
    "duration": 373,
    "start_time": "2024-09-16T17:11:56.982Z"
   },
   {
    "duration": 3,
    "start_time": "2024-09-16T17:11:57.357Z"
   },
   {
    "duration": 391,
    "start_time": "2024-09-16T17:11:57.361Z"
   },
   {
    "duration": 3,
    "start_time": "2024-09-16T17:11:57.754Z"
   },
   {
    "duration": 9,
    "start_time": "2024-09-16T17:11:57.758Z"
   },
   {
    "duration": 28,
    "start_time": "2024-09-16T17:11:57.768Z"
   },
   {
    "duration": 14,
    "start_time": "2024-09-16T17:11:57.797Z"
   },
   {
    "duration": 213,
    "start_time": "2024-09-16T17:11:57.812Z"
   },
   {
    "duration": 125,
    "start_time": "2024-09-16T17:11:58.027Z"
   },
   {
    "duration": 22,
    "start_time": "2024-09-16T17:11:58.153Z"
   },
   {
    "duration": 166,
    "start_time": "2024-09-16T17:11:58.177Z"
   },
   {
    "duration": 21,
    "start_time": "2024-09-16T17:11:58.345Z"
   },
   {
    "duration": 140,
    "start_time": "2024-09-16T17:11:58.367Z"
   },
   {
    "duration": 208,
    "start_time": "2024-09-16T17:11:58.508Z"
   },
   {
    "duration": 234,
    "start_time": "2024-09-16T17:11:58.718Z"
   },
   {
    "duration": 4,
    "start_time": "2024-09-16T17:11:58.954Z"
   },
   {
    "duration": 10,
    "start_time": "2024-09-16T17:11:58.959Z"
   },
   {
    "duration": 154,
    "start_time": "2024-09-16T17:11:58.971Z"
   },
   {
    "duration": 172,
    "start_time": "2024-09-16T17:11:59.126Z"
   },
   {
    "duration": 8,
    "start_time": "2024-09-16T17:11:59.300Z"
   },
   {
    "duration": 249,
    "start_time": "2024-09-16T17:11:59.309Z"
   },
   {
    "duration": 6,
    "start_time": "2024-09-16T17:11:59.559Z"
   },
   {
    "duration": 247,
    "start_time": "2024-09-16T17:11:59.567Z"
   },
   {
    "duration": 69,
    "start_time": "2024-09-16T17:11:59.816Z"
   },
   {
    "duration": 43,
    "start_time": "2024-09-16T17:11:59.886Z"
   },
   {
    "duration": 137,
    "start_time": "2024-09-16T17:11:59.933Z"
   },
   {
    "duration": 301,
    "start_time": "2024-09-16T17:12:00.072Z"
   },
   {
    "duration": 10,
    "start_time": "2024-09-16T17:12:00.374Z"
   },
   {
    "duration": 131,
    "start_time": "2024-09-16T17:12:00.385Z"
   },
   {
    "duration": 390,
    "start_time": "2024-09-16T17:12:00.518Z"
   },
   {
    "duration": 27,
    "start_time": "2024-09-16T17:12:00.910Z"
   },
   {
    "duration": 106,
    "start_time": "2024-09-16T17:12:00.938Z"
   },
   {
    "duration": 332,
    "start_time": "2024-09-16T17:12:01.045Z"
   },
   {
    "duration": 11,
    "start_time": "2024-09-16T17:12:01.379Z"
   },
   {
    "duration": 42,
    "start_time": "2024-09-16T17:12:01.392Z"
   },
   {
    "duration": 9,
    "start_time": "2024-09-16T17:12:01.436Z"
   },
   {
    "duration": 106,
    "start_time": "2024-09-16T17:12:01.446Z"
   },
   {
    "duration": 26,
    "start_time": "2024-09-16T17:12:01.553Z"
   },
   {
    "duration": 69,
    "start_time": "2024-09-16T17:12:01.581Z"
   },
   {
    "duration": 4,
    "start_time": "2024-09-16T17:12:01.651Z"
   },
   {
    "duration": 46,
    "start_time": "2024-09-16T17:12:01.655Z"
   },
   {
    "duration": 8,
    "start_time": "2024-09-16T17:12:01.702Z"
   },
   {
    "duration": 27,
    "start_time": "2024-09-16T17:12:01.711Z"
   },
   {
    "duration": 86,
    "start_time": "2024-09-16T17:12:01.739Z"
   },
   {
    "duration": 3,
    "start_time": "2024-09-16T17:12:01.827Z"
   },
   {
    "duration": 24,
    "start_time": "2024-09-16T17:12:01.832Z"
   },
   {
    "duration": 105,
    "start_time": "2024-09-16T17:12:01.857Z"
   },
   {
    "duration": 88,
    "start_time": "2024-09-16T17:12:01.964Z"
   },
   {
    "duration": 29676,
    "start_time": "2024-09-16T17:12:02.053Z"
   },
   {
    "duration": 139,
    "start_time": "2024-09-16T17:12:31.731Z"
   },
   {
    "duration": 5,
    "start_time": "2024-09-16T17:12:31.871Z"
   },
   {
    "duration": 13,
    "start_time": "2024-09-16T17:12:31.877Z"
   },
   {
    "duration": 27517,
    "start_time": "2024-09-16T17:12:31.891Z"
   },
   {
    "duration": 145,
    "start_time": "2024-09-16T17:12:59.410Z"
   },
   {
    "duration": 4,
    "start_time": "2024-09-16T17:12:59.557Z"
   },
   {
    "duration": 4,
    "start_time": "2024-09-16T17:12:59.562Z"
   },
   {
    "duration": 9,
    "start_time": "2024-09-16T17:12:59.567Z"
   },
   {
    "duration": 11,
    "start_time": "2024-09-16T17:12:59.578Z"
   },
   {
    "duration": 219120,
    "start_time": "2024-09-16T17:12:59.590Z"
   },
   {
    "duration": 146,
    "start_time": "2024-09-16T17:16:38.712Z"
   },
   {
    "duration": 4,
    "start_time": "2024-09-16T17:16:38.860Z"
   },
   {
    "duration": 8,
    "start_time": "2024-09-16T17:16:38.865Z"
   },
   {
    "duration": 4,
    "start_time": "2024-09-16T17:16:38.874Z"
   },
   {
    "duration": 4,
    "start_time": "2024-09-16T17:16:38.879Z"
   },
   {
    "duration": 2431,
    "start_time": "2024-09-16T17:44:45.970Z"
   },
   {
    "duration": 2928,
    "start_time": "2024-09-16T17:44:48.403Z"
   },
   {
    "duration": 2476,
    "start_time": "2024-09-16T17:44:51.332Z"
   },
   {
    "duration": 2758,
    "start_time": "2024-09-16T17:44:53.810Z"
   },
   {
    "duration": 1124,
    "start_time": "2024-09-16T17:44:56.570Z"
   },
   {
    "duration": 2,
    "start_time": "2024-09-16T17:44:57.695Z"
   },
   {
    "duration": 696,
    "start_time": "2024-09-16T17:44:57.699Z"
   },
   {
    "duration": 99,
    "start_time": "2024-09-16T17:44:58.396Z"
   },
   {
    "duration": 19,
    "start_time": "2024-09-16T17:44:58.496Z"
   },
   {
    "duration": 96,
    "start_time": "2024-09-16T17:44:58.516Z"
   },
   {
    "duration": 1324,
    "start_time": "2024-09-16T17:44:58.613Z"
   },
   {
    "duration": 2,
    "start_time": "2024-09-16T17:44:59.939Z"
   },
   {
    "duration": 19,
    "start_time": "2024-09-16T17:44:59.942Z"
   },
   {
    "duration": 285,
    "start_time": "2024-09-16T17:44:59.963Z"
   },
   {
    "duration": 1051,
    "start_time": "2024-09-16T17:45:00.249Z"
   },
   {
    "duration": 361,
    "start_time": "2024-09-16T17:45:01.306Z"
   },
   {
    "duration": 3,
    "start_time": "2024-09-16T17:45:01.669Z"
   },
   {
    "duration": 565,
    "start_time": "2024-09-16T17:45:01.673Z"
   },
   {
    "duration": 3,
    "start_time": "2024-09-16T17:45:02.239Z"
   },
   {
    "duration": 45,
    "start_time": "2024-09-16T17:45:02.243Z"
   },
   {
    "duration": 25,
    "start_time": "2024-09-16T17:45:02.289Z"
   },
   {
    "duration": 29,
    "start_time": "2024-09-16T17:45:02.316Z"
   },
   {
    "duration": 273,
    "start_time": "2024-09-16T17:45:02.346Z"
   },
   {
    "duration": 151,
    "start_time": "2024-09-16T17:45:02.621Z"
   },
   {
    "duration": 159,
    "start_time": "2024-09-16T17:45:02.774Z"
   },
   {
    "duration": 174,
    "start_time": "2024-09-16T17:45:02.934Z"
   },
   {
    "duration": 21,
    "start_time": "2024-09-16T17:45:03.109Z"
   },
   {
    "duration": 135,
    "start_time": "2024-09-16T17:45:03.131Z"
   },
   {
    "duration": 216,
    "start_time": "2024-09-16T17:45:03.267Z"
   },
   {
    "duration": 229,
    "start_time": "2024-09-16T17:45:03.484Z"
   },
   {
    "duration": 4,
    "start_time": "2024-09-16T17:45:03.715Z"
   },
   {
    "duration": 26,
    "start_time": "2024-09-16T17:45:03.720Z"
   },
   {
    "duration": 146,
    "start_time": "2024-09-16T17:45:03.747Z"
   },
   {
    "duration": 168,
    "start_time": "2024-09-16T17:45:03.894Z"
   },
   {
    "duration": 7,
    "start_time": "2024-09-16T17:45:04.063Z"
   },
   {
    "duration": 282,
    "start_time": "2024-09-16T17:45:04.071Z"
   },
   {
    "duration": 5,
    "start_time": "2024-09-16T17:45:04.355Z"
   },
   {
    "duration": 242,
    "start_time": "2024-09-16T17:45:04.361Z"
   },
   {
    "duration": 68,
    "start_time": "2024-09-16T17:45:04.604Z"
   },
   {
    "duration": 139,
    "start_time": "2024-09-16T17:45:04.673Z"
   },
   {
    "duration": 127,
    "start_time": "2024-09-16T17:45:04.816Z"
   },
   {
    "duration": 319,
    "start_time": "2024-09-16T17:45:04.944Z"
   },
   {
    "duration": 10,
    "start_time": "2024-09-16T17:45:05.264Z"
   },
   {
    "duration": 110,
    "start_time": "2024-09-16T17:45:05.276Z"
   },
   {
    "duration": 398,
    "start_time": "2024-09-16T17:45:05.388Z"
   },
   {
    "duration": 37,
    "start_time": "2024-09-16T17:45:05.787Z"
   },
   {
    "duration": 103,
    "start_time": "2024-09-16T17:45:05.825Z"
   },
   {
    "duration": 301,
    "start_time": "2024-09-16T17:45:05.929Z"
   },
   {
    "duration": 12,
    "start_time": "2024-09-16T17:45:06.231Z"
   },
   {
    "duration": 110,
    "start_time": "2024-09-16T17:45:06.244Z"
   },
   {
    "duration": 10,
    "start_time": "2024-09-16T17:45:06.355Z"
   },
   {
    "duration": 59,
    "start_time": "2024-09-16T17:45:06.366Z"
   },
   {
    "duration": 5,
    "start_time": "2024-09-16T17:45:06.426Z"
   },
   {
    "duration": 85,
    "start_time": "2024-09-16T17:45:06.433Z"
   },
   {
    "duration": 3,
    "start_time": "2024-09-16T17:45:06.519Z"
   },
   {
    "duration": 40,
    "start_time": "2024-09-16T17:45:06.524Z"
   },
   {
    "duration": 207,
    "start_time": "2024-09-16T17:45:06.565Z"
   },
   {
    "duration": 68,
    "start_time": "2024-09-16T17:45:06.773Z"
   },
   {
    "duration": 60,
    "start_time": "2024-09-16T17:45:06.842Z"
   },
   {
    "duration": 3,
    "start_time": "2024-09-16T17:45:06.903Z"
   },
   {
    "duration": 35,
    "start_time": "2024-09-16T17:45:06.907Z"
   },
   {
    "duration": 6,
    "start_time": "2024-09-16T17:45:06.943Z"
   },
   {
    "duration": 7,
    "start_time": "2024-09-16T17:45:06.950Z"
   },
   {
    "duration": 29422,
    "start_time": "2024-09-16T17:45:06.958Z"
   },
   {
    "duration": 134,
    "start_time": "2024-09-16T17:45:36.381Z"
   },
   {
    "duration": 4,
    "start_time": "2024-09-16T17:45:36.516Z"
   },
   {
    "duration": 19,
    "start_time": "2024-09-16T17:45:36.522Z"
   },
   {
    "duration": 26564,
    "start_time": "2024-09-16T17:45:36.543Z"
   },
   {
    "duration": 148,
    "start_time": "2024-09-16T17:46:03.108Z"
   },
   {
    "duration": 4,
    "start_time": "2024-09-16T17:46:03.257Z"
   },
   {
    "duration": 30,
    "start_time": "2024-09-16T17:46:03.262Z"
   },
   {
    "duration": 13,
    "start_time": "2024-09-16T17:46:03.293Z"
   },
   {
    "duration": 7,
    "start_time": "2024-09-16T17:46:03.307Z"
   },
   {
    "duration": 180797,
    "start_time": "2024-09-16T17:46:03.315Z"
   },
   {
    "duration": 131,
    "start_time": "2024-09-16T17:49:04.114Z"
   },
   {
    "duration": 4,
    "start_time": "2024-09-16T17:49:04.247Z"
   },
   {
    "duration": 31,
    "start_time": "2024-09-16T17:49:04.253Z"
   },
   {
    "duration": 18,
    "start_time": "2024-09-16T17:49:04.285Z"
   },
   {
    "duration": 14,
    "start_time": "2024-09-16T17:49:04.304Z"
   },
   {
    "duration": 445599,
    "start_time": "2024-09-16T17:49:04.319Z"
   },
   {
    "duration": 7,
    "start_time": "2024-09-16T17:56:29.920Z"
   },
   {
    "duration": 683,
    "start_time": "2024-09-16T17:56:29.928Z"
   },
   {
    "duration": 4,
    "start_time": "2024-09-16T17:58:28.064Z"
   },
   {
    "duration": 4,
    "start_time": "2024-09-16T17:58:38.016Z"
   },
   {
    "duration": 14,
    "start_time": "2024-09-16T18:24:11.077Z"
   },
   {
    "duration": 614,
    "start_time": "2024-09-16T18:40:38.763Z"
   },
   {
    "duration": 32,
    "start_time": "2024-09-16T18:40:49.294Z"
   },
   {
    "duration": 234,
    "start_time": "2024-09-16T18:40:49.948Z"
   },
   {
    "duration": 30,
    "start_time": "2024-09-16T18:40:56.849Z"
   },
   {
    "duration": 3,
    "start_time": "2024-09-16T18:40:59.936Z"
   },
   {
    "duration": 32,
    "start_time": "2024-09-16T18:41:02.287Z"
   },
   {
    "duration": 3,
    "start_time": "2024-09-16T18:41:02.811Z"
   },
   {
    "duration": 9,
    "start_time": "2024-09-16T18:41:20.682Z"
   },
   {
    "duration": 2479,
    "start_time": "2024-09-16T18:41:35.752Z"
   },
   {
    "duration": 4311,
    "start_time": "2024-09-16T18:41:38.234Z"
   },
   {
    "duration": 2455,
    "start_time": "2024-09-16T18:41:42.547Z"
   },
   {
    "duration": 2751,
    "start_time": "2024-09-16T18:41:45.004Z"
   },
   {
    "duration": 1107,
    "start_time": "2024-09-16T18:41:47.756Z"
   },
   {
    "duration": 2,
    "start_time": "2024-09-16T18:41:48.864Z"
   },
   {
    "duration": 764,
    "start_time": "2024-09-16T18:41:48.867Z"
   },
   {
    "duration": 108,
    "start_time": "2024-09-16T18:41:49.633Z"
   },
   {
    "duration": 13,
    "start_time": "2024-09-16T18:41:49.742Z"
   },
   {
    "duration": 110,
    "start_time": "2024-09-16T18:41:49.757Z"
   },
   {
    "duration": 1140,
    "start_time": "2024-09-16T18:41:49.869Z"
   },
   {
    "duration": 3,
    "start_time": "2024-09-16T18:41:51.010Z"
   },
   {
    "duration": 41,
    "start_time": "2024-09-16T18:41:51.014Z"
   },
   {
    "duration": 291,
    "start_time": "2024-09-16T18:41:51.057Z"
   },
   {
    "duration": 1041,
    "start_time": "2024-09-16T18:41:51.350Z"
   },
   {
    "duration": 368,
    "start_time": "2024-09-16T18:41:52.392Z"
   },
   {
    "duration": 3,
    "start_time": "2024-09-16T18:41:52.761Z"
   },
   {
    "duration": 376,
    "start_time": "2024-09-16T18:41:52.765Z"
   },
   {
    "duration": 3,
    "start_time": "2024-09-16T18:41:53.142Z"
   },
   {
    "duration": 4,
    "start_time": "2024-09-16T18:41:53.146Z"
   },
   {
    "duration": 12,
    "start_time": "2024-09-16T18:41:53.151Z"
   },
   {
    "duration": 12,
    "start_time": "2024-09-16T18:41:53.164Z"
   },
   {
    "duration": 230,
    "start_time": "2024-09-16T18:41:53.178Z"
   },
   {
    "duration": 121,
    "start_time": "2024-09-16T18:41:53.410Z"
   },
   {
    "duration": 23,
    "start_time": "2024-09-16T18:41:53.533Z"
   },
   {
    "duration": 162,
    "start_time": "2024-09-16T18:41:53.558Z"
   },
   {
    "duration": 21,
    "start_time": "2024-09-16T18:41:53.721Z"
   },
   {
    "duration": 134,
    "start_time": "2024-09-16T18:41:53.745Z"
   },
   {
    "duration": 203,
    "start_time": "2024-09-16T18:41:53.881Z"
   },
   {
    "duration": 226,
    "start_time": "2024-09-16T18:41:54.085Z"
   },
   {
    "duration": 5,
    "start_time": "2024-09-16T18:41:54.313Z"
   },
   {
    "duration": 8,
    "start_time": "2024-09-16T18:41:54.319Z"
   },
   {
    "duration": 159,
    "start_time": "2024-09-16T18:41:54.328Z"
   },
   {
    "duration": 168,
    "start_time": "2024-09-16T18:41:54.488Z"
   },
   {
    "duration": 6,
    "start_time": "2024-09-16T18:41:54.658Z"
   },
   {
    "duration": 250,
    "start_time": "2024-09-16T18:41:54.665Z"
   },
   {
    "duration": 7,
    "start_time": "2024-09-16T18:41:54.916Z"
   },
   {
    "duration": 340,
    "start_time": "2024-09-16T18:41:54.924Z"
   },
   {
    "duration": 69,
    "start_time": "2024-09-16T18:41:55.266Z"
   },
   {
    "duration": 30,
    "start_time": "2024-09-16T18:41:55.336Z"
   },
   {
    "duration": 155,
    "start_time": "2024-09-16T18:41:55.367Z"
   },
   {
    "duration": 297,
    "start_time": "2024-09-16T18:41:55.524Z"
   },
   {
    "duration": 10,
    "start_time": "2024-09-16T18:41:55.822Z"
   },
   {
    "duration": 104,
    "start_time": "2024-09-16T18:41:55.833Z"
   },
   {
    "duration": 370,
    "start_time": "2024-09-16T18:41:55.939Z"
   },
   {
    "duration": 25,
    "start_time": "2024-09-16T18:41:56.311Z"
   },
   {
    "duration": 101,
    "start_time": "2024-09-16T18:41:56.337Z"
   },
   {
    "duration": 326,
    "start_time": "2024-09-16T18:41:56.439Z"
   },
   {
    "duration": 11,
    "start_time": "2024-09-16T18:41:56.767Z"
   },
   {
    "duration": 177,
    "start_time": "2024-09-16T18:41:56.779Z"
   },
   {
    "duration": 8,
    "start_time": "2024-09-16T18:41:56.958Z"
   },
   {
    "duration": 123,
    "start_time": "2024-09-16T18:41:56.967Z"
   },
   {
    "duration": 3,
    "start_time": "2024-09-16T18:41:57.092Z"
   },
   {
    "duration": 39,
    "start_time": "2024-09-16T18:41:57.096Z"
   },
   {
    "duration": 3,
    "start_time": "2024-09-16T18:41:57.136Z"
   },
   {
    "duration": 18,
    "start_time": "2024-09-16T18:41:57.140Z"
   },
   {
    "duration": 26,
    "start_time": "2024-09-16T18:41:57.160Z"
   },
   {
    "duration": 25,
    "start_time": "2024-09-16T18:41:57.188Z"
   },
   {
    "duration": 60,
    "start_time": "2024-09-16T18:41:57.215Z"
   },
   {
    "duration": 2,
    "start_time": "2024-09-16T18:41:57.277Z"
   },
   {
    "duration": 16,
    "start_time": "2024-09-16T18:41:57.281Z"
   },
   {
    "duration": 11,
    "start_time": "2024-09-16T18:41:57.298Z"
   },
   {
    "duration": 8,
    "start_time": "2024-09-16T18:41:57.311Z"
   },
   {
    "duration": 29006,
    "start_time": "2024-09-16T18:41:57.320Z"
   },
   {
    "duration": 129,
    "start_time": "2024-09-16T18:42:26.328Z"
   },
   {
    "duration": 4,
    "start_time": "2024-09-16T18:42:26.459Z"
   },
   {
    "duration": 2,
    "start_time": "2024-09-16T18:42:26.464Z"
   },
   {
    "duration": 27248,
    "start_time": "2024-09-16T18:42:26.468Z"
   },
   {
    "duration": 167,
    "start_time": "2024-09-16T18:42:53.717Z"
   },
   {
    "duration": 5,
    "start_time": "2024-09-16T18:42:53.885Z"
   },
   {
    "duration": 32,
    "start_time": "2024-09-16T18:42:53.891Z"
   },
   {
    "duration": 76,
    "start_time": "2024-09-16T18:42:53.924Z"
   },
   {
    "duration": 4,
    "start_time": "2024-09-16T18:42:54.001Z"
   },
   {
    "duration": 172515,
    "start_time": "2024-09-16T18:42:54.006Z"
   },
   {
    "duration": 138,
    "start_time": "2024-09-16T18:45:46.523Z"
   },
   {
    "duration": 4,
    "start_time": "2024-09-16T18:45:46.663Z"
   },
   {
    "duration": 14,
    "start_time": "2024-09-16T18:45:46.669Z"
   },
   {
    "duration": 8,
    "start_time": "2024-09-16T18:45:46.685Z"
   },
   {
    "duration": 56,
    "start_time": "2024-09-16T18:45:46.694Z"
   },
   {
    "duration": 315281,
    "start_time": "2024-09-16T18:45:46.752Z"
   },
   {
    "duration": 7,
    "start_time": "2024-09-16T18:51:02.034Z"
   },
   {
    "duration": 770,
    "start_time": "2024-09-16T18:51:02.046Z"
   },
   {
    "duration": 18,
    "start_time": "2024-09-16T18:51:02.818Z"
   },
   {
    "duration": 49,
    "start_time": "2024-09-16T18:51:02.838Z"
   },
   {
    "duration": 175,
    "start_time": "2024-09-16T18:51:02.889Z"
   },
   {
    "duration": 2436,
    "start_time": "2024-09-16T19:02:57.598Z"
   },
   {
    "duration": 2988,
    "start_time": "2024-09-16T19:03:00.037Z"
   },
   {
    "duration": 2474,
    "start_time": "2024-09-16T19:03:03.027Z"
   },
   {
    "duration": 2871,
    "start_time": "2024-09-16T19:03:05.502Z"
   },
   {
    "duration": 1141,
    "start_time": "2024-09-16T19:03:08.375Z"
   },
   {
    "duration": 2,
    "start_time": "2024-09-16T19:03:09.517Z"
   },
   {
    "duration": 691,
    "start_time": "2024-09-16T19:03:09.521Z"
   },
   {
    "duration": 115,
    "start_time": "2024-09-16T19:03:10.213Z"
   },
   {
    "duration": 13,
    "start_time": "2024-09-16T19:03:10.329Z"
   },
   {
    "duration": 124,
    "start_time": "2024-09-16T19:03:10.343Z"
   },
   {
    "duration": 1073,
    "start_time": "2024-09-16T19:03:10.468Z"
   },
   {
    "duration": 2,
    "start_time": "2024-09-16T19:03:11.543Z"
   },
   {
    "duration": 21,
    "start_time": "2024-09-16T19:03:11.546Z"
   },
   {
    "duration": 293,
    "start_time": "2024-09-16T19:03:11.570Z"
   },
   {
    "duration": 1115,
    "start_time": "2024-09-16T19:03:11.864Z"
   },
   {
    "duration": 359,
    "start_time": "2024-09-16T19:03:12.981Z"
   },
   {
    "duration": 2,
    "start_time": "2024-09-16T19:03:13.342Z"
   },
   {
    "duration": 425,
    "start_time": "2024-09-16T19:03:13.346Z"
   },
   {
    "duration": 3,
    "start_time": "2024-09-16T19:03:13.772Z"
   },
   {
    "duration": 52,
    "start_time": "2024-09-16T19:03:13.776Z"
   },
   {
    "duration": 103,
    "start_time": "2024-09-16T19:03:13.830Z"
   },
   {
    "duration": 29,
    "start_time": "2024-09-16T19:03:13.934Z"
   },
   {
    "duration": 221,
    "start_time": "2024-09-16T19:03:13.964Z"
   },
   {
    "duration": 124,
    "start_time": "2024-09-16T19:03:14.186Z"
   },
   {
    "duration": 23,
    "start_time": "2024-09-16T19:03:14.311Z"
   },
   {
    "duration": 164,
    "start_time": "2024-09-16T19:03:14.336Z"
   },
   {
    "duration": 23,
    "start_time": "2024-09-16T19:03:14.501Z"
   },
   {
    "duration": 124,
    "start_time": "2024-09-16T19:03:14.525Z"
   },
   {
    "duration": 215,
    "start_time": "2024-09-16T19:03:14.651Z"
   },
   {
    "duration": 240,
    "start_time": "2024-09-16T19:03:14.867Z"
   },
   {
    "duration": 15,
    "start_time": "2024-09-16T19:03:15.108Z"
   },
   {
    "duration": 95,
    "start_time": "2024-09-16T19:03:15.124Z"
   },
   {
    "duration": 182,
    "start_time": "2024-09-16T19:03:15.221Z"
   },
   {
    "duration": 185,
    "start_time": "2024-09-16T19:03:15.405Z"
   },
   {
    "duration": 7,
    "start_time": "2024-09-16T19:03:15.592Z"
   },
   {
    "duration": 241,
    "start_time": "2024-09-16T19:03:15.607Z"
   },
   {
    "duration": 6,
    "start_time": "2024-09-16T19:03:15.850Z"
   },
   {
    "duration": 230,
    "start_time": "2024-09-16T19:03:15.857Z"
   },
   {
    "duration": 74,
    "start_time": "2024-09-16T19:03:16.089Z"
   },
   {
    "duration": 30,
    "start_time": "2024-09-16T19:03:16.165Z"
   },
   {
    "duration": 123,
    "start_time": "2024-09-16T19:03:16.206Z"
   },
   {
    "duration": 309,
    "start_time": "2024-09-16T19:03:16.330Z"
   },
   {
    "duration": 11,
    "start_time": "2024-09-16T19:03:16.641Z"
   },
   {
    "duration": 108,
    "start_time": "2024-09-16T19:03:16.654Z"
   },
   {
    "duration": 439,
    "start_time": "2024-09-16T19:03:16.764Z"
   },
   {
    "duration": 36,
    "start_time": "2024-09-16T19:03:17.209Z"
   },
   {
    "duration": 133,
    "start_time": "2024-09-16T19:03:17.246Z"
   },
   {
    "duration": 304,
    "start_time": "2024-09-16T19:03:17.380Z"
   },
   {
    "duration": 11,
    "start_time": "2024-09-16T19:03:17.685Z"
   },
   {
    "duration": 58,
    "start_time": "2024-09-16T19:03:17.707Z"
   },
   {
    "duration": 18,
    "start_time": "2024-09-16T19:03:17.766Z"
   },
   {
    "duration": 30,
    "start_time": "2024-09-16T19:03:17.785Z"
   },
   {
    "duration": 3,
    "start_time": "2024-09-16T19:03:17.817Z"
   },
   {
    "duration": 1231,
    "start_time": "2024-09-16T19:03:17.821Z"
   },
   {
    "duration": 0,
    "start_time": "2024-09-16T19:03:19.053Z"
   },
   {
    "duration": 0,
    "start_time": "2024-09-16T19:03:19.054Z"
   },
   {
    "duration": 0,
    "start_time": "2024-09-16T19:03:19.054Z"
   },
   {
    "duration": 0,
    "start_time": "2024-09-16T19:03:19.055Z"
   },
   {
    "duration": 0,
    "start_time": "2024-09-16T19:03:19.056Z"
   },
   {
    "duration": 0,
    "start_time": "2024-09-16T19:03:19.057Z"
   },
   {
    "duration": 0,
    "start_time": "2024-09-16T19:03:19.058Z"
   },
   {
    "duration": 0,
    "start_time": "2024-09-16T19:03:19.058Z"
   },
   {
    "duration": 0,
    "start_time": "2024-09-16T19:03:19.059Z"
   },
   {
    "duration": 0,
    "start_time": "2024-09-16T19:03:19.060Z"
   },
   {
    "duration": 0,
    "start_time": "2024-09-16T19:03:19.061Z"
   },
   {
    "duration": 0,
    "start_time": "2024-09-16T19:03:19.062Z"
   },
   {
    "duration": 1,
    "start_time": "2024-09-16T19:03:19.062Z"
   },
   {
    "duration": 0,
    "start_time": "2024-09-16T19:03:19.063Z"
   },
   {
    "duration": 0,
    "start_time": "2024-09-16T19:03:19.064Z"
   },
   {
    "duration": 0,
    "start_time": "2024-09-16T19:03:19.065Z"
   },
   {
    "duration": 0,
    "start_time": "2024-09-16T19:03:19.066Z"
   },
   {
    "duration": 0,
    "start_time": "2024-09-16T19:03:19.066Z"
   },
   {
    "duration": 0,
    "start_time": "2024-09-16T19:03:19.068Z"
   },
   {
    "duration": 0,
    "start_time": "2024-09-16T19:03:19.068Z"
   },
   {
    "duration": 0,
    "start_time": "2024-09-16T19:03:19.069Z"
   },
   {
    "duration": 0,
    "start_time": "2024-09-16T19:03:19.071Z"
   },
   {
    "duration": 0,
    "start_time": "2024-09-16T19:03:19.072Z"
   },
   {
    "duration": 0,
    "start_time": "2024-09-16T19:03:19.073Z"
   },
   {
    "duration": 0,
    "start_time": "2024-09-16T19:03:19.074Z"
   },
   {
    "duration": 0,
    "start_time": "2024-09-16T19:03:19.075Z"
   },
   {
    "duration": 0,
    "start_time": "2024-09-16T19:03:19.076Z"
   },
   {
    "duration": 0,
    "start_time": "2024-09-16T19:03:19.076Z"
   },
   {
    "duration": 0,
    "start_time": "2024-09-16T19:03:19.077Z"
   },
   {
    "duration": 0,
    "start_time": "2024-09-16T19:03:19.078Z"
   },
   {
    "duration": 0,
    "start_time": "2024-09-16T19:03:19.079Z"
   },
   {
    "duration": 2433,
    "start_time": "2024-09-16T19:03:52.041Z"
   },
   {
    "duration": 3054,
    "start_time": "2024-09-16T19:03:54.476Z"
   },
   {
    "duration": 2469,
    "start_time": "2024-09-16T19:03:57.531Z"
   },
   {
    "duration": 2795,
    "start_time": "2024-09-16T19:04:00.003Z"
   },
   {
    "duration": 1180,
    "start_time": "2024-09-16T19:04:02.799Z"
   },
   {
    "duration": 2,
    "start_time": "2024-09-16T19:04:03.980Z"
   },
   {
    "duration": 702,
    "start_time": "2024-09-16T19:04:03.983Z"
   },
   {
    "duration": 102,
    "start_time": "2024-09-16T19:04:04.686Z"
   },
   {
    "duration": 24,
    "start_time": "2024-09-16T19:04:04.789Z"
   },
   {
    "duration": 92,
    "start_time": "2024-09-16T19:04:04.815Z"
   },
   {
    "duration": 1028,
    "start_time": "2024-09-16T19:04:04.909Z"
   },
   {
    "duration": 2,
    "start_time": "2024-09-16T19:04:05.939Z"
   },
   {
    "duration": 76,
    "start_time": "2024-09-16T19:04:05.942Z"
   },
   {
    "duration": 393,
    "start_time": "2024-09-16T19:04:06.019Z"
   },
   {
    "duration": 1109,
    "start_time": "2024-09-16T19:04:06.413Z"
   },
   {
    "duration": 367,
    "start_time": "2024-09-16T19:04:07.523Z"
   },
   {
    "duration": 3,
    "start_time": "2024-09-16T19:04:07.891Z"
   },
   {
    "duration": 385,
    "start_time": "2024-09-16T19:04:07.895Z"
   },
   {
    "duration": 3,
    "start_time": "2024-09-16T19:04:08.282Z"
   },
   {
    "duration": 10,
    "start_time": "2024-09-16T19:04:08.286Z"
   },
   {
    "duration": 17,
    "start_time": "2024-09-16T19:04:08.297Z"
   },
   {
    "duration": 45,
    "start_time": "2024-09-16T19:04:08.315Z"
   },
   {
    "duration": 220,
    "start_time": "2024-09-16T19:04:08.362Z"
   },
   {
    "duration": 117,
    "start_time": "2024-09-16T19:04:08.584Z"
   },
   {
    "duration": 22,
    "start_time": "2024-09-16T19:04:08.706Z"
   },
   {
    "duration": 158,
    "start_time": "2024-09-16T19:04:08.729Z"
   },
   {
    "duration": 27,
    "start_time": "2024-09-16T19:04:08.889Z"
   },
   {
    "duration": 349,
    "start_time": "2024-09-16T19:04:08.919Z"
   },
   {
    "duration": 223,
    "start_time": "2024-09-16T19:04:09.270Z"
   },
   {
    "duration": 239,
    "start_time": "2024-09-16T19:04:09.494Z"
   },
   {
    "duration": 5,
    "start_time": "2024-09-16T19:04:09.734Z"
   },
   {
    "duration": 10,
    "start_time": "2024-09-16T19:04:09.741Z"
   },
   {
    "duration": 160,
    "start_time": "2024-09-16T19:04:09.752Z"
   },
   {
    "duration": 173,
    "start_time": "2024-09-16T19:04:09.913Z"
   },
   {
    "duration": 7,
    "start_time": "2024-09-16T19:04:10.087Z"
   },
   {
    "duration": 254,
    "start_time": "2024-09-16T19:04:10.095Z"
   },
   {
    "duration": 6,
    "start_time": "2024-09-16T19:04:10.350Z"
   },
   {
    "duration": 188,
    "start_time": "2024-09-16T19:04:10.357Z"
   },
   {
    "duration": 70,
    "start_time": "2024-09-16T19:04:10.547Z"
   },
   {
    "duration": 33,
    "start_time": "2024-09-16T19:04:10.618Z"
   },
   {
    "duration": 149,
    "start_time": "2024-09-16T19:04:10.652Z"
   },
   {
    "duration": 283,
    "start_time": "2024-09-16T19:04:10.802Z"
   },
   {
    "duration": 11,
    "start_time": "2024-09-16T19:04:11.086Z"
   },
   {
    "duration": 125,
    "start_time": "2024-09-16T19:04:11.107Z"
   },
   {
    "duration": 365,
    "start_time": "2024-09-16T19:04:11.234Z"
   },
   {
    "duration": 26,
    "start_time": "2024-09-16T19:04:11.606Z"
   },
   {
    "duration": 108,
    "start_time": "2024-09-16T19:04:11.633Z"
   },
   {
    "duration": 348,
    "start_time": "2024-09-16T19:04:11.742Z"
   },
   {
    "duration": 18,
    "start_time": "2024-09-16T19:04:12.091Z"
   },
   {
    "duration": 24,
    "start_time": "2024-09-16T19:04:12.110Z"
   },
   {
    "duration": 8,
    "start_time": "2024-09-16T19:04:12.135Z"
   },
   {
    "duration": 41,
    "start_time": "2024-09-16T19:04:12.144Z"
   },
   {
    "duration": 3,
    "start_time": "2024-09-16T19:04:12.186Z"
   },
   {
    "duration": 11,
    "start_time": "2024-09-16T19:04:12.191Z"
   },
   {
    "duration": 9,
    "start_time": "2024-09-16T19:04:12.207Z"
   },
   {
    "duration": 11,
    "start_time": "2024-09-16T19:04:12.217Z"
   },
   {
    "duration": 6,
    "start_time": "2024-09-16T19:04:12.229Z"
   },
   {
    "duration": 33,
    "start_time": "2024-09-16T19:04:12.236Z"
   },
   {
    "duration": 64,
    "start_time": "2024-09-16T19:04:12.270Z"
   },
   {
    "duration": 3,
    "start_time": "2024-09-16T19:04:12.335Z"
   },
   {
    "duration": 30,
    "start_time": "2024-09-16T19:04:12.340Z"
   },
   {
    "duration": 22,
    "start_time": "2024-09-16T19:04:12.372Z"
   },
   {
    "duration": 21,
    "start_time": "2024-09-16T19:04:12.396Z"
   },
   {
    "duration": 29163,
    "start_time": "2024-09-16T19:04:12.419Z"
   },
   {
    "duration": 135,
    "start_time": "2024-09-16T19:04:41.584Z"
   },
   {
    "duration": 4,
    "start_time": "2024-09-16T19:04:41.721Z"
   },
   {
    "duration": 26,
    "start_time": "2024-09-16T19:04:41.726Z"
   },
   {
    "duration": 28461,
    "start_time": "2024-09-16T19:04:41.753Z"
   },
   {
    "duration": 200,
    "start_time": "2024-09-16T19:05:10.215Z"
   },
   {
    "duration": 4,
    "start_time": "2024-09-16T19:05:10.416Z"
   },
   {
    "duration": 7,
    "start_time": "2024-09-16T19:05:10.422Z"
   },
   {
    "duration": 72,
    "start_time": "2024-09-16T19:05:10.430Z"
   },
   {
    "duration": 13,
    "start_time": "2024-09-16T19:05:10.503Z"
   },
   {
    "duration": 194820,
    "start_time": "2024-09-16T19:05:10.517Z"
   },
   {
    "duration": 141,
    "start_time": "2024-09-16T19:08:25.339Z"
   },
   {
    "duration": 4,
    "start_time": "2024-09-16T19:08:25.481Z"
   },
   {
    "duration": 8,
    "start_time": "2024-09-16T19:08:25.486Z"
   },
   {
    "duration": 13,
    "start_time": "2024-09-16T19:08:25.495Z"
   },
   {
    "duration": 23,
    "start_time": "2024-09-16T19:08:25.509Z"
   },
   {
    "duration": 2521,
    "start_time": "2024-09-16T19:11:03.367Z"
   },
   {
    "duration": 2888,
    "start_time": "2024-09-16T19:11:05.890Z"
   },
   {
    "duration": 2535,
    "start_time": "2024-09-16T19:11:08.781Z"
   },
   {
    "duration": 2818,
    "start_time": "2024-09-16T19:11:11.318Z"
   },
   {
    "duration": 1107,
    "start_time": "2024-09-16T19:11:14.138Z"
   },
   {
    "duration": 3,
    "start_time": "2024-09-16T19:11:15.247Z"
   },
   {
    "duration": 770,
    "start_time": "2024-09-16T19:11:15.252Z"
   },
   {
    "duration": 105,
    "start_time": "2024-09-16T19:11:16.023Z"
   },
   {
    "duration": 13,
    "start_time": "2024-09-16T19:11:16.129Z"
   },
   {
    "duration": 114,
    "start_time": "2024-09-16T19:11:16.143Z"
   },
   {
    "duration": 1115,
    "start_time": "2024-09-16T19:11:16.258Z"
   },
   {
    "duration": 3,
    "start_time": "2024-09-16T19:11:17.375Z"
   },
   {
    "duration": 9,
    "start_time": "2024-09-16T19:11:17.379Z"
   },
   {
    "duration": 295,
    "start_time": "2024-09-16T19:11:17.391Z"
   },
   {
    "duration": 1106,
    "start_time": "2024-09-16T19:11:17.687Z"
   },
   {
    "duration": 384,
    "start_time": "2024-09-16T19:11:18.794Z"
   },
   {
    "duration": 4,
    "start_time": "2024-09-16T19:11:19.179Z"
   },
   {
    "duration": 401,
    "start_time": "2024-09-16T19:11:19.184Z"
   },
   {
    "duration": 3,
    "start_time": "2024-09-16T19:11:19.587Z"
   },
   {
    "duration": 8,
    "start_time": "2024-09-16T19:11:19.591Z"
   },
   {
    "duration": 10,
    "start_time": "2024-09-16T19:11:19.600Z"
   },
   {
    "duration": 15,
    "start_time": "2024-09-16T19:11:19.611Z"
   },
   {
    "duration": 213,
    "start_time": "2024-09-16T19:11:19.628Z"
   },
   {
    "duration": 124,
    "start_time": "2024-09-16T19:11:19.842Z"
   },
   {
    "duration": 24,
    "start_time": "2024-09-16T19:11:19.967Z"
   },
   {
    "duration": 173,
    "start_time": "2024-09-16T19:11:19.992Z"
   },
   {
    "duration": 23,
    "start_time": "2024-09-16T19:11:20.166Z"
   },
   {
    "duration": 131,
    "start_time": "2024-09-16T19:11:20.190Z"
   },
   {
    "duration": 210,
    "start_time": "2024-09-16T19:11:20.322Z"
   },
   {
    "duration": 248,
    "start_time": "2024-09-16T19:11:20.533Z"
   },
   {
    "duration": 4,
    "start_time": "2024-09-16T19:11:20.783Z"
   },
   {
    "duration": 29,
    "start_time": "2024-09-16T19:11:20.788Z"
   },
   {
    "duration": 168,
    "start_time": "2024-09-16T19:11:20.818Z"
   },
   {
    "duration": 171,
    "start_time": "2024-09-16T19:11:20.987Z"
   },
   {
    "duration": 7,
    "start_time": "2024-09-16T19:11:21.159Z"
   },
   {
    "duration": 261,
    "start_time": "2024-09-16T19:11:21.168Z"
   },
   {
    "duration": 5,
    "start_time": "2024-09-16T19:11:21.431Z"
   },
   {
    "duration": 238,
    "start_time": "2024-09-16T19:11:21.437Z"
   },
   {
    "duration": 72,
    "start_time": "2024-09-16T19:11:21.677Z"
   },
   {
    "duration": 42,
    "start_time": "2024-09-16T19:11:21.750Z"
   },
   {
    "duration": 116,
    "start_time": "2024-09-16T19:11:21.810Z"
   },
   {
    "duration": 301,
    "start_time": "2024-09-16T19:11:21.927Z"
   },
   {
    "duration": 16,
    "start_time": "2024-09-16T19:11:22.229Z"
   },
   {
    "duration": 113,
    "start_time": "2024-09-16T19:11:22.247Z"
   },
   {
    "duration": 434,
    "start_time": "2024-09-16T19:11:22.362Z"
   },
   {
    "duration": 34,
    "start_time": "2024-09-16T19:11:22.797Z"
   },
   {
    "duration": 112,
    "start_time": "2024-09-16T19:11:22.832Z"
   },
   {
    "duration": 341,
    "start_time": "2024-09-16T19:11:22.945Z"
   },
   {
    "duration": 20,
    "start_time": "2024-09-16T19:11:23.288Z"
   },
   {
    "duration": 46,
    "start_time": "2024-09-16T19:11:23.309Z"
   },
   {
    "duration": 8,
    "start_time": "2024-09-16T19:11:23.356Z"
   },
   {
    "duration": 28,
    "start_time": "2024-09-16T19:11:23.366Z"
   },
   {
    "duration": 4,
    "start_time": "2024-09-16T19:11:23.395Z"
   },
   {
    "duration": 12,
    "start_time": "2024-09-16T19:11:23.400Z"
   },
   {
    "duration": 6,
    "start_time": "2024-09-16T19:11:23.413Z"
   },
   {
    "duration": 12,
    "start_time": "2024-09-16T19:11:23.420Z"
   },
   {
    "duration": 4,
    "start_time": "2024-09-16T19:11:23.433Z"
   },
   {
    "duration": 28,
    "start_time": "2024-09-16T19:11:23.438Z"
   },
   {
    "duration": 70,
    "start_time": "2024-09-16T19:11:23.467Z"
   },
   {
    "duration": 3,
    "start_time": "2024-09-16T19:11:23.538Z"
   },
   {
    "duration": 6,
    "start_time": "2024-09-16T19:11:23.543Z"
   },
   {
    "duration": 6,
    "start_time": "2024-09-16T19:11:23.550Z"
   },
   {
    "duration": 8,
    "start_time": "2024-09-16T19:11:23.557Z"
   },
   {
    "duration": 30155,
    "start_time": "2024-09-16T19:11:23.566Z"
   },
   {
    "duration": 136,
    "start_time": "2024-09-16T19:11:53.722Z"
   },
   {
    "duration": 4,
    "start_time": "2024-09-16T19:11:53.859Z"
   },
   {
    "duration": 3,
    "start_time": "2024-09-16T19:11:53.864Z"
   },
   {
    "duration": 27549,
    "start_time": "2024-09-16T19:11:53.869Z"
   },
   {
    "duration": 212,
    "start_time": "2024-09-16T19:12:21.420Z"
   },
   {
    "duration": 4,
    "start_time": "2024-09-16T19:12:21.633Z"
   },
   {
    "duration": 5,
    "start_time": "2024-09-16T19:12:21.638Z"
   },
   {
    "duration": 6,
    "start_time": "2024-09-16T19:12:21.644Z"
   },
   {
    "duration": 5,
    "start_time": "2024-09-16T19:12:21.651Z"
   },
   {
    "duration": 217667,
    "start_time": "2024-09-16T19:12:21.657Z"
   },
   {
    "duration": 141,
    "start_time": "2024-09-16T19:15:59.326Z"
   },
   {
    "duration": 4,
    "start_time": "2024-09-16T19:15:59.468Z"
   },
   {
    "duration": 16,
    "start_time": "2024-09-16T19:15:59.473Z"
   },
   {
    "duration": 9,
    "start_time": "2024-09-16T19:15:59.490Z"
   },
   {
    "duration": 31,
    "start_time": "2024-09-16T19:15:59.500Z"
   },
   {
    "duration": 2730709,
    "start_time": "2024-09-16T19:15:59.533Z"
   },
   {
    "duration": 70,
    "start_time": "2024-09-16T20:01:30.243Z"
   },
   {
    "duration": 1002,
    "start_time": "2024-09-16T20:01:30.314Z"
   },
   {
    "duration": 12,
    "start_time": "2024-09-16T20:01:31.317Z"
   },
   {
    "duration": 116,
    "start_time": "2024-09-16T20:01:31.330Z"
   },
   {
    "duration": 48,
    "start_time": "2024-09-16T20:01:31.447Z"
   },
   {
    "duration": 3516,
    "start_time": "2024-09-18T08:56:58.202Z"
   },
   {
    "duration": 6725,
    "start_time": "2024-09-18T08:57:01.720Z"
   },
   {
    "duration": 3213,
    "start_time": "2024-09-18T08:57:08.447Z"
   },
   {
    "duration": 4280,
    "start_time": "2024-09-18T08:57:11.663Z"
   },
   {
    "duration": 1463,
    "start_time": "2024-09-18T08:57:15.945Z"
   },
   {
    "duration": 3,
    "start_time": "2024-09-18T08:57:17.409Z"
   },
   {
    "duration": 1308,
    "start_time": "2024-09-18T08:57:17.414Z"
   },
   {
    "duration": 163,
    "start_time": "2024-09-18T08:57:18.724Z"
   },
   {
    "duration": 22,
    "start_time": "2024-09-18T08:57:18.888Z"
   },
   {
    "duration": 158,
    "start_time": "2024-09-18T08:57:18.913Z"
   },
   {
    "duration": 1462,
    "start_time": "2024-09-18T08:57:19.072Z"
   },
   {
    "duration": 3,
    "start_time": "2024-09-18T08:57:20.536Z"
   },
   {
    "duration": 13,
    "start_time": "2024-09-18T08:57:20.540Z"
   },
   {
    "duration": 369,
    "start_time": "2024-09-18T08:57:20.554Z"
   },
   {
    "duration": 1377,
    "start_time": "2024-09-18T08:57:20.925Z"
   },
   {
    "duration": 479,
    "start_time": "2024-09-18T08:57:22.303Z"
   },
   {
    "duration": 4,
    "start_time": "2024-09-18T08:57:22.783Z"
   },
   {
    "duration": 500,
    "start_time": "2024-09-18T08:57:22.788Z"
   },
   {
    "duration": 8,
    "start_time": "2024-09-18T08:57:23.290Z"
   },
   {
    "duration": 20,
    "start_time": "2024-09-18T08:57:23.300Z"
   },
   {
    "duration": 24,
    "start_time": "2024-09-18T08:57:23.322Z"
   },
   {
    "duration": 26,
    "start_time": "2024-09-18T08:57:23.348Z"
   },
   {
    "duration": 226,
    "start_time": "2024-09-18T08:57:23.376Z"
   },
   {
    "duration": 159,
    "start_time": "2024-09-18T08:57:23.603Z"
   },
   {
    "duration": 40,
    "start_time": "2024-09-18T08:57:23.763Z"
   },
   {
    "duration": 230,
    "start_time": "2024-09-18T08:57:23.804Z"
   },
   {
    "duration": 25,
    "start_time": "2024-09-18T08:57:24.036Z"
   },
   {
    "duration": 169,
    "start_time": "2024-09-18T08:57:24.065Z"
   },
   {
    "duration": 283,
    "start_time": "2024-09-18T08:57:24.235Z"
   },
   {
    "duration": 287,
    "start_time": "2024-09-18T08:57:24.520Z"
   },
   {
    "duration": 6,
    "start_time": "2024-09-18T08:57:24.809Z"
   },
   {
    "duration": 105,
    "start_time": "2024-09-18T08:57:24.817Z"
   },
   {
    "duration": 184,
    "start_time": "2024-09-18T08:57:24.924Z"
   },
   {
    "duration": 215,
    "start_time": "2024-09-18T08:57:25.110Z"
   },
   {
    "duration": 10,
    "start_time": "2024-09-18T08:57:25.327Z"
   },
   {
    "duration": 302,
    "start_time": "2024-09-18T08:57:25.339Z"
   },
   {
    "duration": 8,
    "start_time": "2024-09-18T08:57:25.643Z"
   },
   {
    "duration": 237,
    "start_time": "2024-09-18T08:57:25.653Z"
   },
   {
    "duration": 106,
    "start_time": "2024-09-18T08:57:25.892Z"
   },
   {
    "duration": 61,
    "start_time": "2024-09-18T08:57:25.999Z"
   },
   {
    "duration": 171,
    "start_time": "2024-09-18T08:57:26.061Z"
   },
   {
    "duration": 466,
    "start_time": "2024-09-18T08:57:26.234Z"
   },
   {
    "duration": 14,
    "start_time": "2024-09-18T08:57:26.701Z"
   },
   {
    "duration": 193,
    "start_time": "2024-09-18T08:57:26.716Z"
   },
   {
    "duration": 354,
    "start_time": "2024-09-18T08:57:26.911Z"
   },
   {
    "duration": 37,
    "start_time": "2024-09-18T08:57:27.266Z"
   },
   {
    "duration": 162,
    "start_time": "2024-09-18T08:57:27.305Z"
   },
   {
    "duration": 343,
    "start_time": "2024-09-18T08:57:27.468Z"
   },
   {
    "duration": 14,
    "start_time": "2024-09-18T08:57:27.813Z"
   },
   {
    "duration": 57,
    "start_time": "2024-09-18T08:57:27.829Z"
   },
   {
    "duration": 12,
    "start_time": "2024-09-18T08:57:27.887Z"
   },
   {
    "duration": 62,
    "start_time": "2024-09-18T08:57:27.901Z"
   },
   {
    "duration": 51,
    "start_time": "2024-09-18T08:57:27.964Z"
   },
   {
    "duration": 27,
    "start_time": "2024-09-18T08:57:28.016Z"
   },
   {
    "duration": 5,
    "start_time": "2024-09-18T08:57:28.045Z"
   },
   {
    "duration": 24,
    "start_time": "2024-09-18T08:57:28.051Z"
   },
   {
    "duration": 3,
    "start_time": "2024-09-18T08:57:28.077Z"
   },
   {
    "duration": 27,
    "start_time": "2024-09-18T08:57:28.082Z"
   },
   {
    "duration": 93,
    "start_time": "2024-09-18T08:57:28.111Z"
   },
   {
    "duration": 3,
    "start_time": "2024-09-18T08:57:28.205Z"
   },
   {
    "duration": 40,
    "start_time": "2024-09-18T08:57:28.210Z"
   },
   {
    "duration": 3,
    "start_time": "2024-09-18T08:57:28.252Z"
   },
   {
    "duration": 3,
    "start_time": "2024-09-18T08:57:28.257Z"
   },
   {
    "duration": 2610,
    "start_time": "2024-09-18T08:57:41.258Z"
   },
   {
    "duration": 3120,
    "start_time": "2024-09-18T08:57:43.871Z"
   },
   {
    "duration": 2663,
    "start_time": "2024-09-18T08:57:46.992Z"
   },
   {
    "duration": 2964,
    "start_time": "2024-09-18T08:57:49.658Z"
   },
   {
    "duration": 1339,
    "start_time": "2024-09-18T08:57:52.625Z"
   },
   {
    "duration": 2,
    "start_time": "2024-09-18T08:57:53.966Z"
   },
   {
    "duration": 966,
    "start_time": "2024-09-18T08:57:53.970Z"
   },
   {
    "duration": 152,
    "start_time": "2024-09-18T08:57:54.938Z"
   },
   {
    "duration": 17,
    "start_time": "2024-09-18T08:57:55.098Z"
   },
   {
    "duration": 155,
    "start_time": "2024-09-18T08:57:55.117Z"
   },
   {
    "duration": 1340,
    "start_time": "2024-09-18T08:57:55.274Z"
   },
   {
    "duration": 3,
    "start_time": "2024-09-18T08:57:56.616Z"
   },
   {
    "duration": 6,
    "start_time": "2024-09-18T08:57:56.620Z"
   },
   {
    "duration": 354,
    "start_time": "2024-09-18T08:57:56.629Z"
   },
   {
    "duration": 1250,
    "start_time": "2024-09-18T08:57:56.984Z"
   },
   {
    "duration": 481,
    "start_time": "2024-09-18T08:57:58.236Z"
   },
   {
    "duration": 4,
    "start_time": "2024-09-18T08:57:58.718Z"
   },
   {
    "duration": 522,
    "start_time": "2024-09-18T08:57:58.724Z"
   },
   {
    "duration": 4,
    "start_time": "2024-09-18T08:57:59.248Z"
   },
   {
    "duration": 24,
    "start_time": "2024-09-18T08:57:59.253Z"
   },
   {
    "duration": 5,
    "start_time": "2024-09-18T08:57:59.278Z"
   },
   {
    "duration": 16,
    "start_time": "2024-09-18T08:57:59.286Z"
   },
   {
    "duration": 300,
    "start_time": "2024-09-18T08:57:59.304Z"
   },
   {
    "duration": 166,
    "start_time": "2024-09-18T08:57:59.606Z"
   },
   {
    "duration": 29,
    "start_time": "2024-09-18T08:57:59.774Z"
   },
   {
    "duration": 208,
    "start_time": "2024-09-18T08:57:59.805Z"
   },
   {
    "duration": 26,
    "start_time": "2024-09-18T08:58:00.014Z"
   },
   {
    "duration": 175,
    "start_time": "2024-09-18T08:58:00.041Z"
   },
   {
    "duration": 280,
    "start_time": "2024-09-18T08:58:00.218Z"
   },
   {
    "duration": 285,
    "start_time": "2024-09-18T08:58:00.499Z"
   },
   {
    "duration": 13,
    "start_time": "2024-09-18T08:58:00.786Z"
   },
   {
    "duration": 209,
    "start_time": "2024-09-18T08:58:00.801Z"
   },
   {
    "duration": 184,
    "start_time": "2024-09-18T08:58:01.011Z"
   },
   {
    "duration": 216,
    "start_time": "2024-09-18T08:58:01.197Z"
   },
   {
    "duration": 10,
    "start_time": "2024-09-18T08:58:01.414Z"
   },
   {
    "duration": 313,
    "start_time": "2024-09-18T08:58:01.426Z"
   },
   {
    "duration": 7,
    "start_time": "2024-09-18T08:58:01.740Z"
   },
   {
    "duration": 289,
    "start_time": "2024-09-18T08:58:01.749Z"
   },
   {
    "duration": 103,
    "start_time": "2024-09-18T08:58:02.039Z"
   },
   {
    "duration": 38,
    "start_time": "2024-09-18T08:58:02.143Z"
   },
   {
    "duration": 194,
    "start_time": "2024-09-18T08:58:02.198Z"
   },
   {
    "duration": 311,
    "start_time": "2024-09-18T08:58:02.394Z"
   },
   {
    "duration": 13,
    "start_time": "2024-09-18T08:58:02.707Z"
   },
   {
    "duration": 155,
    "start_time": "2024-09-18T08:58:02.722Z"
   },
   {
    "duration": 470,
    "start_time": "2024-09-18T08:58:02.879Z"
   },
   {
    "duration": 34,
    "start_time": "2024-09-18T08:58:03.350Z"
   },
   {
    "duration": 169,
    "start_time": "2024-09-18T08:58:03.385Z"
   },
   {
    "duration": 347,
    "start_time": "2024-09-18T08:58:03.556Z"
   },
   {
    "duration": 15,
    "start_time": "2024-09-18T08:58:03.905Z"
   },
   {
    "duration": 40,
    "start_time": "2024-09-18T08:58:03.922Z"
   },
   {
    "duration": 51,
    "start_time": "2024-09-18T08:58:03.963Z"
   },
   {
    "duration": 33,
    "start_time": "2024-09-18T08:58:04.016Z"
   },
   {
    "duration": 5,
    "start_time": "2024-09-18T08:58:04.050Z"
   },
   {
    "duration": 47,
    "start_time": "2024-09-18T08:58:04.057Z"
   },
   {
    "duration": 4,
    "start_time": "2024-09-18T08:58:04.106Z"
   },
   {
    "duration": 14,
    "start_time": "2024-09-18T08:58:04.112Z"
   },
   {
    "duration": 18,
    "start_time": "2024-09-18T08:58:04.128Z"
   },
   {
    "duration": 112,
    "start_time": "2024-09-18T08:58:04.148Z"
   },
   {
    "duration": 107,
    "start_time": "2024-09-18T08:58:04.261Z"
   },
   {
    "duration": 3,
    "start_time": "2024-09-18T08:58:04.370Z"
   },
   {
    "duration": 4,
    "start_time": "2024-09-18T08:58:04.375Z"
   },
   {
    "duration": 9,
    "start_time": "2024-09-18T08:58:04.381Z"
   },
   {
    "duration": 15,
    "start_time": "2024-09-18T08:58:04.392Z"
   },
   {
    "duration": 35938,
    "start_time": "2024-09-18T08:58:04.408Z"
   },
   {
    "duration": 164,
    "start_time": "2024-09-18T08:58:40.348Z"
   },
   {
    "duration": 5,
    "start_time": "2024-09-18T08:58:40.514Z"
   },
   {
    "duration": 10,
    "start_time": "2024-09-18T08:58:40.520Z"
   },
   {
    "duration": 38467,
    "start_time": "2024-09-18T08:58:40.532Z"
   },
   {
    "duration": 169,
    "start_time": "2024-09-18T08:59:19.001Z"
   },
   {
    "duration": 4,
    "start_time": "2024-09-18T08:59:19.172Z"
   },
   {
    "duration": 7,
    "start_time": "2024-09-18T08:59:19.178Z"
   },
   {
    "duration": 10,
    "start_time": "2024-09-18T08:59:19.187Z"
   },
   {
    "duration": 4,
    "start_time": "2024-09-18T08:59:19.199Z"
   },
   {
    "duration": 388023,
    "start_time": "2024-09-18T08:59:19.205Z"
   },
   {
    "duration": 0,
    "start_time": "2024-09-18T09:05:47.230Z"
   },
   {
    "duration": 0,
    "start_time": "2024-09-18T09:05:47.231Z"
   },
   {
    "duration": 0,
    "start_time": "2024-09-18T09:05:47.233Z"
   },
   {
    "duration": 0,
    "start_time": "2024-09-18T09:05:47.234Z"
   },
   {
    "duration": 0,
    "start_time": "2024-09-18T09:05:47.236Z"
   },
   {
    "duration": 0,
    "start_time": "2024-09-18T09:05:47.237Z"
   },
   {
    "duration": 1,
    "start_time": "2024-09-18T09:05:47.238Z"
   },
   {
    "duration": 0,
    "start_time": "2024-09-18T09:05:47.240Z"
   },
   {
    "duration": 0,
    "start_time": "2024-09-18T09:05:47.241Z"
   },
   {
    "duration": 0,
    "start_time": "2024-09-18T09:05:47.243Z"
   },
   {
    "duration": 0,
    "start_time": "2024-09-18T09:05:47.244Z"
   },
   {
    "duration": 6,
    "start_time": "2024-09-18T09:06:19.748Z"
   },
   {
    "duration": 12,
    "start_time": "2024-09-18T09:06:27.721Z"
   },
   {
    "duration": 13,
    "start_time": "2024-09-18T09:06:35.022Z"
   },
   {
    "duration": 15,
    "start_time": "2024-09-18T09:06:42.125Z"
   },
   {
    "duration": 10,
    "start_time": "2024-09-18T09:06:52.365Z"
   },
   {
    "duration": 6,
    "start_time": "2024-09-18T09:06:58.412Z"
   },
   {
    "duration": 25,
    "start_time": "2024-09-18T09:07:20.701Z"
   },
   {
    "duration": 11,
    "start_time": "2024-09-18T09:07:36.566Z"
   },
   {
    "duration": 22,
    "start_time": "2024-09-18T09:08:08.019Z"
   },
   {
    "duration": 32,
    "start_time": "2024-09-18T09:08:12.221Z"
   },
   {
    "duration": 31,
    "start_time": "2024-09-18T09:08:25.338Z"
   },
   {
    "duration": 2601,
    "start_time": "2024-09-18T09:08:33.844Z"
   },
   {
    "duration": 3235,
    "start_time": "2024-09-18T09:08:36.447Z"
   },
   {
    "duration": 2573,
    "start_time": "2024-09-18T09:08:39.684Z"
   },
   {
    "duration": 3063,
    "start_time": "2024-09-18T09:08:42.259Z"
   },
   {
    "duration": 1357,
    "start_time": "2024-09-18T09:08:45.324Z"
   },
   {
    "duration": 2,
    "start_time": "2024-09-18T09:08:46.683Z"
   },
   {
    "duration": 940,
    "start_time": "2024-09-18T09:08:46.687Z"
   },
   {
    "duration": 156,
    "start_time": "2024-09-18T09:08:47.629Z"
   },
   {
    "duration": 17,
    "start_time": "2024-09-18T09:08:47.797Z"
   },
   {
    "duration": 157,
    "start_time": "2024-09-18T09:08:47.817Z"
   },
   {
    "duration": 1490,
    "start_time": "2024-09-18T09:08:47.976Z"
   },
   {
    "duration": 3,
    "start_time": "2024-09-18T09:08:49.468Z"
   },
   {
    "duration": 6,
    "start_time": "2024-09-18T09:08:49.473Z"
   },
   {
    "duration": 378,
    "start_time": "2024-09-18T09:08:49.481Z"
   },
   {
    "duration": 1430,
    "start_time": "2024-09-18T09:08:49.860Z"
   },
   {
    "duration": 493,
    "start_time": "2024-09-18T09:08:51.292Z"
   },
   {
    "duration": 11,
    "start_time": "2024-09-18T09:08:51.787Z"
   },
   {
    "duration": 549,
    "start_time": "2024-09-18T09:08:51.800Z"
   },
   {
    "duration": 4,
    "start_time": "2024-09-18T09:08:52.351Z"
   },
   {
    "duration": 21,
    "start_time": "2024-09-18T09:08:52.356Z"
   },
   {
    "duration": 10,
    "start_time": "2024-09-18T09:08:52.379Z"
   },
   {
    "duration": 43,
    "start_time": "2024-09-18T09:08:52.390Z"
   },
   {
    "duration": 284,
    "start_time": "2024-09-18T09:08:52.435Z"
   },
   {
    "duration": 158,
    "start_time": "2024-09-18T09:08:52.721Z"
   },
   {
    "duration": 30,
    "start_time": "2024-09-18T09:08:52.881Z"
   },
   {
    "duration": 212,
    "start_time": "2024-09-18T09:08:52.913Z"
   },
   {
    "duration": 25,
    "start_time": "2024-09-18T09:08:53.126Z"
   },
   {
    "duration": 159,
    "start_time": "2024-09-18T09:08:53.155Z"
   },
   {
    "duration": 260,
    "start_time": "2024-09-18T09:08:53.316Z"
   },
   {
    "duration": 297,
    "start_time": "2024-09-18T09:08:53.578Z"
   },
   {
    "duration": 8,
    "start_time": "2024-09-18T09:08:53.878Z"
   },
   {
    "duration": 15,
    "start_time": "2024-09-18T09:08:53.898Z"
   },
   {
    "duration": 193,
    "start_time": "2024-09-18T09:08:53.915Z"
   },
   {
    "duration": 220,
    "start_time": "2024-09-18T09:08:54.110Z"
   },
   {
    "duration": 9,
    "start_time": "2024-09-18T09:08:54.333Z"
   },
   {
    "duration": 305,
    "start_time": "2024-09-18T09:08:54.344Z"
   },
   {
    "duration": 7,
    "start_time": "2024-09-18T09:08:54.651Z"
   },
   {
    "duration": 242,
    "start_time": "2024-09-18T09:08:54.659Z"
   },
   {
    "duration": 117,
    "start_time": "2024-09-18T09:08:54.903Z"
   },
   {
    "duration": 54,
    "start_time": "2024-09-18T09:08:55.022Z"
   },
   {
    "duration": 176,
    "start_time": "2024-09-18T09:08:55.077Z"
   },
   {
    "duration": 345,
    "start_time": "2024-09-18T09:08:55.255Z"
   },
   {
    "duration": 13,
    "start_time": "2024-09-18T09:08:55.601Z"
   },
   {
    "duration": 151,
    "start_time": "2024-09-18T09:08:55.615Z"
   },
   {
    "duration": 462,
    "start_time": "2024-09-18T09:08:55.768Z"
   },
   {
    "duration": 33,
    "start_time": "2024-09-18T09:08:56.232Z"
   },
   {
    "duration": 166,
    "start_time": "2024-09-18T09:08:56.266Z"
   },
   {
    "duration": 366,
    "start_time": "2024-09-18T09:08:56.434Z"
   },
   {
    "duration": 16,
    "start_time": "2024-09-18T09:08:56.801Z"
   },
   {
    "duration": 33,
    "start_time": "2024-09-18T09:08:56.819Z"
   },
   {
    "duration": 11,
    "start_time": "2024-09-18T09:08:56.854Z"
   },
   {
    "duration": 51,
    "start_time": "2024-09-18T09:08:56.866Z"
   },
   {
    "duration": 4,
    "start_time": "2024-09-18T09:08:56.918Z"
   },
   {
    "duration": 109,
    "start_time": "2024-09-18T09:08:56.924Z"
   },
   {
    "duration": 4,
    "start_time": "2024-09-18T09:08:57.034Z"
   },
   {
    "duration": 30,
    "start_time": "2024-09-18T09:08:57.039Z"
   },
   {
    "duration": 10,
    "start_time": "2024-09-18T09:08:57.071Z"
   },
   {
    "duration": 4,
    "start_time": "2024-09-18T09:08:57.083Z"
   },
   {
    "duration": 14,
    "start_time": "2024-09-18T09:08:57.098Z"
   },
   {
    "duration": 75,
    "start_time": "2024-09-18T09:08:57.114Z"
   },
   {
    "duration": 3,
    "start_time": "2024-09-18T09:08:57.191Z"
   },
   {
    "duration": 27,
    "start_time": "2024-09-18T09:08:57.197Z"
   },
   {
    "duration": 9,
    "start_time": "2024-09-18T09:08:57.226Z"
   },
   {
    "duration": 4,
    "start_time": "2024-09-18T09:08:57.236Z"
   },
   {
    "duration": 32566,
    "start_time": "2024-09-18T09:08:57.241Z"
   },
   {
    "duration": 139,
    "start_time": "2024-09-18T09:09:29.809Z"
   },
   {
    "duration": 5,
    "start_time": "2024-09-18T09:09:29.950Z"
   },
   {
    "duration": 26,
    "start_time": "2024-09-18T09:09:29.956Z"
   },
   {
    "duration": 35826,
    "start_time": "2024-09-18T09:09:29.984Z"
   },
   {
    "duration": 146,
    "start_time": "2024-09-18T09:10:05.897Z"
   },
   {
    "duration": 5,
    "start_time": "2024-09-18T09:10:06.045Z"
   },
   {
    "duration": 24,
    "start_time": "2024-09-18T09:10:06.051Z"
   },
   {
    "duration": 34,
    "start_time": "2024-09-18T09:10:06.077Z"
   },
   {
    "duration": 49,
    "start_time": "2024-09-18T09:10:06.113Z"
   },
   {
    "duration": 396848,
    "start_time": "2024-09-18T09:10:06.164Z"
   },
   {
    "duration": 135,
    "start_time": "2024-09-18T09:16:43.014Z"
   },
   {
    "duration": 6,
    "start_time": "2024-09-18T09:16:43.150Z"
   },
   {
    "duration": 35,
    "start_time": "2024-09-18T09:16:43.157Z"
   },
   {
    "duration": 6,
    "start_time": "2024-09-18T09:16:43.194Z"
   },
   {
    "duration": 19,
    "start_time": "2024-09-18T09:16:43.202Z"
   },
   {
    "duration": 569100,
    "start_time": "2024-09-18T09:16:43.222Z"
   },
   {
    "duration": 9,
    "start_time": "2024-09-18T09:26:12.329Z"
   },
   {
    "duration": 766,
    "start_time": "2024-09-18T09:26:12.340Z"
   },
   {
    "duration": 19,
    "start_time": "2024-09-18T09:26:13.107Z"
   },
   {
    "duration": 37,
    "start_time": "2024-09-18T09:26:13.128Z"
   },
   {
    "duration": 89,
    "start_time": "2024-09-18T09:26:13.167Z"
   },
   {
    "duration": 2646,
    "start_time": "2024-09-18T09:29:17.020Z"
   },
   {
    "duration": 3111,
    "start_time": "2024-09-18T09:29:19.669Z"
   },
   {
    "duration": 2587,
    "start_time": "2024-09-18T09:29:22.783Z"
   },
   {
    "duration": 2885,
    "start_time": "2024-09-18T09:29:25.372Z"
   },
   {
    "duration": 1362,
    "start_time": "2024-09-18T09:29:28.259Z"
   },
   {
    "duration": 3,
    "start_time": "2024-09-18T09:29:29.622Z"
   },
   {
    "duration": 934,
    "start_time": "2024-09-18T09:29:29.626Z"
   },
   {
    "duration": 168,
    "start_time": "2024-09-18T09:29:30.562Z"
   },
   {
    "duration": 16,
    "start_time": "2024-09-18T09:29:30.732Z"
   },
   {
    "duration": 169,
    "start_time": "2024-09-18T09:29:30.751Z"
   },
   {
    "duration": 1396,
    "start_time": "2024-09-18T09:29:30.922Z"
   },
   {
    "duration": 2,
    "start_time": "2024-09-18T09:29:32.320Z"
   },
   {
    "duration": 15,
    "start_time": "2024-09-18T09:29:32.324Z"
   },
   {
    "duration": 361,
    "start_time": "2024-09-18T09:29:32.341Z"
   },
   {
    "duration": 1287,
    "start_time": "2024-09-18T09:29:32.704Z"
   },
   {
    "duration": 463,
    "start_time": "2024-09-18T09:29:33.997Z"
   },
   {
    "duration": 3,
    "start_time": "2024-09-18T09:29:34.462Z"
   },
   {
    "duration": 510,
    "start_time": "2024-09-18T09:29:34.467Z"
   },
   {
    "duration": 5,
    "start_time": "2024-09-18T09:29:34.979Z"
   },
   {
    "duration": 8,
    "start_time": "2024-09-18T09:29:34.997Z"
   },
   {
    "duration": 8,
    "start_time": "2024-09-18T09:29:35.006Z"
   },
   {
    "duration": 24,
    "start_time": "2024-09-18T09:29:35.015Z"
   },
   {
    "duration": 281,
    "start_time": "2024-09-18T09:29:35.041Z"
   },
   {
    "duration": 161,
    "start_time": "2024-09-18T09:29:35.323Z"
   },
   {
    "duration": 36,
    "start_time": "2024-09-18T09:29:35.486Z"
   },
   {
    "duration": 211,
    "start_time": "2024-09-18T09:29:35.524Z"
   },
   {
    "duration": 25,
    "start_time": "2024-09-18T09:29:35.737Z"
   },
   {
    "duration": 183,
    "start_time": "2024-09-18T09:29:35.767Z"
   },
   {
    "duration": 265,
    "start_time": "2024-09-18T09:29:35.951Z"
   },
   {
    "duration": 282,
    "start_time": "2024-09-18T09:29:36.218Z"
   },
   {
    "duration": 6,
    "start_time": "2024-09-18T09:29:36.501Z"
   },
   {
    "duration": 27,
    "start_time": "2024-09-18T09:29:36.509Z"
   },
   {
    "duration": 190,
    "start_time": "2024-09-18T09:29:36.538Z"
   },
   {
    "duration": 211,
    "start_time": "2024-09-18T09:29:36.729Z"
   },
   {
    "duration": 9,
    "start_time": "2024-09-18T09:29:36.942Z"
   },
   {
    "duration": 301,
    "start_time": "2024-09-18T09:29:36.953Z"
   },
   {
    "duration": 7,
    "start_time": "2024-09-18T09:29:37.256Z"
   },
   {
    "duration": 312,
    "start_time": "2024-09-18T09:29:37.265Z"
   },
   {
    "duration": 106,
    "start_time": "2024-09-18T09:29:37.579Z"
   },
   {
    "duration": 47,
    "start_time": "2024-09-18T09:29:37.687Z"
   },
   {
    "duration": 178,
    "start_time": "2024-09-18T09:29:37.736Z"
   },
   {
    "duration": 358,
    "start_time": "2024-09-18T09:29:37.916Z"
   },
   {
    "duration": 23,
    "start_time": "2024-09-18T09:29:38.275Z"
   },
   {
    "duration": 213,
    "start_time": "2024-09-18T09:29:38.300Z"
   },
   {
    "duration": 504,
    "start_time": "2024-09-18T09:29:38.515Z"
   },
   {
    "duration": 32,
    "start_time": "2024-09-18T09:29:39.020Z"
   },
   {
    "duration": 185,
    "start_time": "2024-09-18T09:29:39.053Z"
   },
   {
    "duration": 382,
    "start_time": "2024-09-18T09:29:39.241Z"
   },
   {
    "duration": 13,
    "start_time": "2024-09-18T09:29:39.625Z"
   },
   {
    "duration": 63,
    "start_time": "2024-09-18T09:29:39.639Z"
   },
   {
    "duration": 12,
    "start_time": "2024-09-18T09:29:39.704Z"
   },
   {
    "duration": 93,
    "start_time": "2024-09-18T09:29:39.717Z"
   },
   {
    "duration": 4,
    "start_time": "2024-09-18T09:29:39.812Z"
   },
   {
    "duration": 36,
    "start_time": "2024-09-18T09:29:39.818Z"
   },
   {
    "duration": 4,
    "start_time": "2024-09-18T09:29:39.855Z"
   },
   {
    "duration": 43,
    "start_time": "2024-09-18T09:29:39.860Z"
   },
   {
    "duration": 11,
    "start_time": "2024-09-18T09:29:39.904Z"
   },
   {
    "duration": 10,
    "start_time": "2024-09-18T09:29:39.916Z"
   },
   {
    "duration": 16,
    "start_time": "2024-09-18T09:29:39.927Z"
   },
   {
    "duration": 80,
    "start_time": "2024-09-18T09:29:39.945Z"
   },
   {
    "duration": 4,
    "start_time": "2024-09-18T09:29:40.026Z"
   },
   {
    "duration": 7,
    "start_time": "2024-09-18T09:29:40.031Z"
   },
   {
    "duration": 30,
    "start_time": "2024-09-18T09:29:40.039Z"
   },
   {
    "duration": 59,
    "start_time": "2024-09-18T09:29:40.070Z"
   },
   {
    "duration": 35284,
    "start_time": "2024-09-18T09:29:40.131Z"
   },
   {
    "duration": 157,
    "start_time": "2024-09-18T09:30:15.417Z"
   },
   {
    "duration": 4,
    "start_time": "2024-09-18T09:30:15.576Z"
   },
   {
    "duration": 24,
    "start_time": "2024-09-18T09:30:15.582Z"
   },
   {
    "duration": 40090,
    "start_time": "2024-09-18T09:30:15.608Z"
   },
   {
    "duration": 150,
    "start_time": "2024-09-18T09:30:55.700Z"
   },
   {
    "duration": 5,
    "start_time": "2024-09-18T09:30:55.852Z"
   },
   {
    "duration": 9,
    "start_time": "2024-09-18T09:30:55.859Z"
   },
   {
    "duration": 7,
    "start_time": "2024-09-18T09:30:55.870Z"
   },
   {
    "duration": 3,
    "start_time": "2024-09-18T09:30:55.879Z"
   },
   {
    "duration": 223820,
    "start_time": "2024-09-18T09:30:55.884Z"
   },
   {
    "duration": 160,
    "start_time": "2024-09-18T09:34:39.705Z"
   },
   {
    "duration": 5,
    "start_time": "2024-09-18T09:34:39.867Z"
   },
   {
    "duration": 7,
    "start_time": "2024-09-18T09:34:39.873Z"
   },
   {
    "duration": 4,
    "start_time": "2024-09-18T09:34:39.881Z"
   },
   {
    "duration": 15,
    "start_time": "2024-09-18T09:34:39.886Z"
   },
   {
    "duration": 790238,
    "start_time": "2024-09-18T09:34:39.903Z"
   },
   {
    "duration": 9,
    "start_time": "2024-09-18T09:47:50.147Z"
   },
   {
    "duration": 849,
    "start_time": "2024-09-18T09:47:50.158Z"
   },
   {
    "duration": 18,
    "start_time": "2024-09-18T09:47:51.009Z"
   },
   {
    "duration": 17,
    "start_time": "2024-09-18T09:47:51.029Z"
   },
   {
    "duration": 6,
    "start_time": "2024-09-18T09:47:51.098Z"
   },
   {
    "duration": 10,
    "start_time": "2024-09-18T09:49:20.445Z"
   },
   {
    "duration": 9,
    "start_time": "2024-09-18T09:49:32.630Z"
   },
   {
    "duration": 11,
    "start_time": "2024-09-18T09:50:24.638Z"
   },
   {
    "duration": 785,
    "start_time": "2024-09-18T09:50:36.426Z"
   },
   {
    "duration": 831,
    "start_time": "2024-09-18T09:53:50.467Z"
   },
   {
    "duration": 2580,
    "start_time": "2024-09-18T09:57:04.737Z"
   },
   {
    "duration": 3251,
    "start_time": "2024-09-18T09:57:07.319Z"
   },
   {
    "duration": 2531,
    "start_time": "2024-09-18T09:57:10.572Z"
   },
   {
    "duration": 2836,
    "start_time": "2024-09-18T09:57:13.106Z"
   },
   {
    "duration": 1325,
    "start_time": "2024-09-18T09:57:15.945Z"
   },
   {
    "duration": 3,
    "start_time": "2024-09-18T09:57:17.272Z"
   },
   {
    "duration": 973,
    "start_time": "2024-09-18T09:57:17.277Z"
   },
   {
    "duration": 159,
    "start_time": "2024-09-18T09:57:18.252Z"
   },
   {
    "duration": 35,
    "start_time": "2024-09-18T09:57:18.413Z"
   },
   {
    "duration": 182,
    "start_time": "2024-09-18T09:57:18.452Z"
   },
   {
    "duration": 1362,
    "start_time": "2024-09-18T09:57:18.636Z"
   },
   {
    "duration": 3,
    "start_time": "2024-09-18T09:57:20.000Z"
   },
   {
    "duration": 27,
    "start_time": "2024-09-18T09:57:20.005Z"
   },
   {
    "duration": 376,
    "start_time": "2024-09-18T09:57:20.035Z"
   },
   {
    "duration": 1339,
    "start_time": "2024-09-18T09:57:20.413Z"
   },
   {
    "duration": 481,
    "start_time": "2024-09-18T09:57:21.754Z"
   },
   {
    "duration": 3,
    "start_time": "2024-09-18T09:57:22.237Z"
   },
   {
    "duration": 531,
    "start_time": "2024-09-18T09:57:22.242Z"
   },
   {
    "duration": 4,
    "start_time": "2024-09-18T09:57:22.775Z"
   },
   {
    "duration": 6,
    "start_time": "2024-09-18T09:57:22.780Z"
   },
   {
    "duration": 12,
    "start_time": "2024-09-18T09:57:22.788Z"
   },
   {
    "duration": 16,
    "start_time": "2024-09-18T09:57:22.802Z"
   },
   {
    "duration": 284,
    "start_time": "2024-09-18T09:57:22.819Z"
   },
   {
    "duration": 164,
    "start_time": "2024-09-18T09:57:23.105Z"
   },
   {
    "duration": 35,
    "start_time": "2024-09-18T09:57:23.270Z"
   },
   {
    "duration": 213,
    "start_time": "2024-09-18T09:57:23.306Z"
   },
   {
    "duration": 24,
    "start_time": "2024-09-18T09:57:23.520Z"
   },
   {
    "duration": 175,
    "start_time": "2024-09-18T09:57:23.548Z"
   },
   {
    "duration": 287,
    "start_time": "2024-09-18T09:57:23.725Z"
   },
   {
    "duration": 295,
    "start_time": "2024-09-18T09:57:24.013Z"
   },
   {
    "duration": 6,
    "start_time": "2024-09-18T09:57:24.310Z"
   },
   {
    "duration": 15,
    "start_time": "2024-09-18T09:57:24.318Z"
   },
   {
    "duration": 204,
    "start_time": "2024-09-18T09:57:24.335Z"
   },
   {
    "duration": 211,
    "start_time": "2024-09-18T09:57:24.541Z"
   },
   {
    "duration": 9,
    "start_time": "2024-09-18T09:57:24.754Z"
   },
   {
    "duration": 321,
    "start_time": "2024-09-18T09:57:24.765Z"
   },
   {
    "duration": 12,
    "start_time": "2024-09-18T09:57:25.088Z"
   },
   {
    "duration": 290,
    "start_time": "2024-09-18T09:57:25.102Z"
   },
   {
    "duration": 106,
    "start_time": "2024-09-18T09:57:25.394Z"
   },
   {
    "duration": 42,
    "start_time": "2024-09-18T09:57:25.502Z"
   },
   {
    "duration": 187,
    "start_time": "2024-09-18T09:57:25.546Z"
   },
   {
    "duration": 345,
    "start_time": "2024-09-18T09:57:25.735Z"
   },
   {
    "duration": 21,
    "start_time": "2024-09-18T09:57:26.082Z"
   },
   {
    "duration": 152,
    "start_time": "2024-09-18T09:57:26.105Z"
   },
   {
    "duration": 478,
    "start_time": "2024-09-18T09:57:26.258Z"
   },
   {
    "duration": 34,
    "start_time": "2024-09-18T09:57:26.737Z"
   },
   {
    "duration": 158,
    "start_time": "2024-09-18T09:57:26.773Z"
   },
   {
    "duration": 371,
    "start_time": "2024-09-18T09:57:26.932Z"
   },
   {
    "duration": 15,
    "start_time": "2024-09-18T09:57:27.305Z"
   },
   {
    "duration": 31,
    "start_time": "2024-09-18T09:57:27.322Z"
   },
   {
    "duration": 11,
    "start_time": "2024-09-18T09:57:27.354Z"
   },
   {
    "duration": 54,
    "start_time": "2024-09-18T09:57:27.367Z"
   },
   {
    "duration": 61,
    "start_time": "2024-09-18T09:57:27.423Z"
   },
   {
    "duration": 40,
    "start_time": "2024-09-18T09:57:27.486Z"
   },
   {
    "duration": 4,
    "start_time": "2024-09-18T09:57:27.527Z"
   },
   {
    "duration": 24,
    "start_time": "2024-09-18T09:57:27.533Z"
   },
   {
    "duration": 14,
    "start_time": "2024-09-18T09:57:27.560Z"
   },
   {
    "duration": 22,
    "start_time": "2024-09-18T09:57:27.576Z"
   },
   {
    "duration": 24,
    "start_time": "2024-09-18T09:57:27.600Z"
   },
   {
    "duration": 79,
    "start_time": "2024-09-18T09:57:27.625Z"
   },
   {
    "duration": 3,
    "start_time": "2024-09-18T09:57:27.705Z"
   },
   {
    "duration": 4,
    "start_time": "2024-09-18T09:57:27.710Z"
   },
   {
    "duration": 4,
    "start_time": "2024-09-18T09:57:27.716Z"
   },
   {
    "duration": 4,
    "start_time": "2024-09-18T09:57:27.721Z"
   },
   {
    "duration": 34012,
    "start_time": "2024-09-18T09:57:27.726Z"
   },
   {
    "duration": 152,
    "start_time": "2024-09-18T09:58:01.740Z"
   },
   {
    "duration": 6,
    "start_time": "2024-09-18T09:58:01.897Z"
   },
   {
    "duration": 107,
    "start_time": "2024-09-18T09:58:01.905Z"
   },
   {
    "duration": 39688,
    "start_time": "2024-09-18T09:58:02.014Z"
   },
   {
    "duration": 149,
    "start_time": "2024-09-18T09:58:41.704Z"
   },
   {
    "duration": 5,
    "start_time": "2024-09-18T09:58:41.855Z"
   },
   {
    "duration": 9,
    "start_time": "2024-09-18T09:58:41.861Z"
   },
   {
    "duration": 16,
    "start_time": "2024-09-18T09:58:41.872Z"
   },
   {
    "duration": 4,
    "start_time": "2024-09-18T09:58:41.890Z"
   },
   {
    "duration": 295226,
    "start_time": "2024-09-18T09:58:41.896Z"
   },
   {
    "duration": 181,
    "start_time": "2024-09-18T10:03:37.124Z"
   },
   {
    "duration": 6,
    "start_time": "2024-09-18T10:03:37.307Z"
   },
   {
    "duration": 39,
    "start_time": "2024-09-18T10:03:37.314Z"
   },
   {
    "duration": 70,
    "start_time": "2024-09-18T10:03:37.355Z"
   },
   {
    "duration": 0,
    "start_time": "2024-09-18T10:03:37.428Z"
   },
   {
    "duration": 0,
    "start_time": "2024-09-18T10:03:37.429Z"
   },
   {
    "duration": 0,
    "start_time": "2024-09-18T10:03:37.430Z"
   },
   {
    "duration": 0,
    "start_time": "2024-09-18T10:03:37.432Z"
   },
   {
    "duration": 0,
    "start_time": "2024-09-18T10:03:37.433Z"
   },
   {
    "duration": 0,
    "start_time": "2024-09-18T10:03:37.435Z"
   },
   {
    "duration": 0,
    "start_time": "2024-09-18T10:03:37.437Z"
   },
   {
    "duration": 61,
    "start_time": "2024-09-18T10:12:02.411Z"
   },
   {
    "duration": 3,
    "start_time": "2024-09-18T10:12:15.885Z"
   },
   {
    "duration": 2,
    "start_time": "2024-09-18T10:12:17.819Z"
   },
   {
    "duration": 736425,
    "start_time": "2024-09-18T10:12:19.316Z"
   },
   {
    "duration": 12,
    "start_time": "2024-09-18T10:24:35.743Z"
   },
   {
    "duration": 846,
    "start_time": "2024-09-18T10:24:35.756Z"
   },
   {
    "duration": 4,
    "start_time": "2024-09-18T10:24:36.604Z"
   },
   {
    "duration": 13,
    "start_time": "2024-09-18T10:24:36.610Z"
   },
   {
    "duration": 3573,
    "start_time": "2024-09-18T15:04:51.055Z"
   },
   {
    "duration": 6973,
    "start_time": "2024-09-18T15:04:54.630Z"
   },
   {
    "duration": 3455,
    "start_time": "2024-09-18T15:05:01.605Z"
   },
   {
    "duration": 4491,
    "start_time": "2024-09-18T15:05:05.062Z"
   },
   {
    "duration": 1428,
    "start_time": "2024-09-18T15:05:09.556Z"
   },
   {
    "duration": 3,
    "start_time": "2024-09-18T15:05:10.985Z"
   },
   {
    "duration": 1213,
    "start_time": "2024-09-18T15:05:10.989Z"
   },
   {
    "duration": 161,
    "start_time": "2024-09-18T15:05:12.204Z"
   },
   {
    "duration": 16,
    "start_time": "2024-09-18T15:05:12.367Z"
   },
   {
    "duration": 169,
    "start_time": "2024-09-18T15:05:12.384Z"
   },
   {
    "duration": 1512,
    "start_time": "2024-09-18T15:05:12.554Z"
   },
   {
    "duration": 4,
    "start_time": "2024-09-18T15:05:14.068Z"
   },
   {
    "duration": 20,
    "start_time": "2024-09-18T15:05:14.073Z"
   },
   {
    "duration": 372,
    "start_time": "2024-09-18T15:05:14.096Z"
   },
   {
    "duration": 1340,
    "start_time": "2024-09-18T15:05:14.469Z"
   },
   {
    "duration": 448,
    "start_time": "2024-09-18T15:05:15.813Z"
   },
   {
    "duration": 4,
    "start_time": "2024-09-18T15:05:16.263Z"
   },
   {
    "duration": 489,
    "start_time": "2024-09-18T15:05:16.268Z"
   },
   {
    "duration": 4,
    "start_time": "2024-09-18T15:05:16.759Z"
   },
   {
    "duration": 3,
    "start_time": "2024-09-18T15:05:16.765Z"
   },
   {
    "duration": 8,
    "start_time": "2024-09-18T15:05:16.769Z"
   },
   {
    "duration": 14,
    "start_time": "2024-09-18T15:05:16.779Z"
   },
   {
    "duration": 294,
    "start_time": "2024-09-18T15:05:16.794Z"
   },
   {
    "duration": 161,
    "start_time": "2024-09-18T15:05:17.090Z"
   },
   {
    "duration": 85,
    "start_time": "2024-09-18T15:05:17.253Z"
   },
   {
    "duration": 225,
    "start_time": "2024-09-18T15:05:17.340Z"
   },
   {
    "duration": 26,
    "start_time": "2024-09-18T15:05:17.566Z"
   },
   {
    "duration": 179,
    "start_time": "2024-09-18T15:05:17.594Z"
   },
   {
    "duration": 283,
    "start_time": "2024-09-18T15:05:17.775Z"
   },
   {
    "duration": 294,
    "start_time": "2024-09-18T15:05:18.059Z"
   },
   {
    "duration": 6,
    "start_time": "2024-09-18T15:05:18.355Z"
   },
   {
    "duration": 21,
    "start_time": "2024-09-18T15:05:18.363Z"
   },
   {
    "duration": 183,
    "start_time": "2024-09-18T15:05:18.385Z"
   },
   {
    "duration": 213,
    "start_time": "2024-09-18T15:05:18.570Z"
   },
   {
    "duration": 9,
    "start_time": "2024-09-18T15:05:18.785Z"
   },
   {
    "duration": 312,
    "start_time": "2024-09-18T15:05:18.795Z"
   },
   {
    "duration": 11,
    "start_time": "2024-09-18T15:05:19.113Z"
   },
   {
    "duration": 239,
    "start_time": "2024-09-18T15:05:19.126Z"
   },
   {
    "duration": 116,
    "start_time": "2024-09-18T15:05:19.367Z"
   },
   {
    "duration": 59,
    "start_time": "2024-09-18T15:05:19.485Z"
   },
   {
    "duration": 170,
    "start_time": "2024-09-18T15:05:19.548Z"
   },
   {
    "duration": 312,
    "start_time": "2024-09-18T15:05:19.720Z"
   },
   {
    "duration": 12,
    "start_time": "2024-09-18T15:05:20.033Z"
   },
   {
    "duration": 160,
    "start_time": "2024-09-18T15:05:20.047Z"
   },
   {
    "duration": 450,
    "start_time": "2024-09-18T15:05:20.209Z"
   },
   {
    "duration": 30,
    "start_time": "2024-09-18T15:05:20.661Z"
   },
   {
    "duration": 169,
    "start_time": "2024-09-18T15:05:20.693Z"
   },
   {
    "duration": 370,
    "start_time": "2024-09-18T15:05:20.864Z"
   },
   {
    "duration": 13,
    "start_time": "2024-09-18T15:05:21.236Z"
   },
   {
    "duration": 129,
    "start_time": "2024-09-18T15:05:21.251Z"
   },
   {
    "duration": 13,
    "start_time": "2024-09-18T15:05:21.382Z"
   },
   {
    "duration": 40,
    "start_time": "2024-09-18T15:05:21.396Z"
   },
   {
    "duration": 16,
    "start_time": "2024-09-18T15:05:21.438Z"
   },
   {
    "duration": 75,
    "start_time": "2024-09-18T15:05:21.456Z"
   },
   {
    "duration": 3,
    "start_time": "2024-09-18T15:05:21.533Z"
   },
   {
    "duration": 68,
    "start_time": "2024-09-18T15:05:21.537Z"
   },
   {
    "duration": 18,
    "start_time": "2024-09-18T15:05:21.606Z"
   },
   {
    "duration": 25,
    "start_time": "2024-09-18T15:05:21.626Z"
   },
   {
    "duration": 43,
    "start_time": "2024-09-18T15:05:21.652Z"
   },
   {
    "duration": 77,
    "start_time": "2024-09-18T15:05:21.697Z"
   },
   {
    "duration": 3,
    "start_time": "2024-09-18T15:05:21.776Z"
   },
   {
    "duration": 24,
    "start_time": "2024-09-18T15:05:21.780Z"
   },
   {
    "duration": 15,
    "start_time": "2024-09-18T15:05:21.805Z"
   },
   {
    "duration": 27,
    "start_time": "2024-09-18T15:05:21.822Z"
   },
   {
    "duration": 34836,
    "start_time": "2024-09-18T15:05:21.850Z"
   },
   {
    "duration": 161,
    "start_time": "2024-09-18T15:05:56.688Z"
   },
   {
    "duration": 5,
    "start_time": "2024-09-18T15:05:56.851Z"
   },
   {
    "duration": 9,
    "start_time": "2024-09-18T15:05:56.858Z"
   },
   {
    "duration": 26654,
    "start_time": "2024-09-18T15:05:56.868Z"
   },
   {
    "duration": 147,
    "start_time": "2024-09-18T15:06:23.524Z"
   },
   {
    "duration": 5,
    "start_time": "2024-09-18T15:06:23.672Z"
   },
   {
    "duration": 3,
    "start_time": "2024-09-18T15:06:23.680Z"
   },
   {
    "duration": 4,
    "start_time": "2024-09-18T15:06:23.684Z"
   },
   {
    "duration": 6,
    "start_time": "2024-09-18T15:06:23.689Z"
   },
   {
    "duration": 141737,
    "start_time": "2024-09-18T15:06:23.696Z"
   },
   {
    "duration": 152,
    "start_time": "2024-09-18T15:08:45.435Z"
   },
   {
    "duration": 4,
    "start_time": "2024-09-18T15:08:45.589Z"
   },
   {
    "duration": 3,
    "start_time": "2024-09-18T15:08:45.595Z"
   },
   {
    "duration": 15,
    "start_time": "2024-09-18T15:08:45.599Z"
   },
   {
    "duration": 4,
    "start_time": "2024-09-18T15:08:45.616Z"
   },
   {
    "duration": 1885239,
    "start_time": "2024-09-18T15:08:45.622Z"
   },
   {
    "duration": 11,
    "start_time": "2024-09-18T15:40:10.863Z"
   },
   {
    "duration": 841,
    "start_time": "2024-09-18T15:40:10.875Z"
   },
   {
    "duration": 8,
    "start_time": "2024-09-18T15:40:11.721Z"
   },
   {
    "duration": 18,
    "start_time": "2024-09-18T15:40:11.730Z"
   },
   {
    "duration": 6,
    "start_time": "2024-09-18T15:41:37.564Z"
   },
   {
    "duration": 2,
    "start_time": "2024-09-18T15:42:18.635Z"
   },
   {
    "duration": 2,
    "start_time": "2024-09-18T15:42:19.306Z"
   },
   {
    "duration": 3,
    "start_time": "2024-09-18T15:42:20.853Z"
   },
   {
    "duration": 2619,
    "start_time": "2024-09-18T15:55:43.966Z"
   },
   {
    "duration": 3251,
    "start_time": "2024-09-18T15:55:46.588Z"
   },
   {
    "duration": 2623,
    "start_time": "2024-09-18T15:55:49.840Z"
   },
   {
    "duration": 3009,
    "start_time": "2024-09-18T15:55:52.465Z"
   },
   {
    "duration": 1212,
    "start_time": "2024-09-18T15:55:55.476Z"
   },
   {
    "duration": 2,
    "start_time": "2024-09-18T15:55:56.690Z"
   },
   {
    "duration": 945,
    "start_time": "2024-09-18T15:55:56.694Z"
   },
   {
    "duration": 160,
    "start_time": "2024-09-18T15:55:57.640Z"
   },
   {
    "duration": 29,
    "start_time": "2024-09-18T15:55:57.802Z"
   },
   {
    "duration": 1325,
    "start_time": "2024-09-18T15:55:57.833Z"
   },
   {
    "duration": 2,
    "start_time": "2024-09-18T15:55:59.160Z"
   },
   {
    "duration": 4,
    "start_time": "2024-09-18T15:55:59.164Z"
   },
   {
    "duration": 368,
    "start_time": "2024-09-18T15:55:59.170Z"
   },
   {
    "duration": 1302,
    "start_time": "2024-09-18T15:55:59.540Z"
   },
   {
    "duration": 462,
    "start_time": "2024-09-18T15:56:00.844Z"
   },
   {
    "duration": 8,
    "start_time": "2024-09-18T15:56:01.307Z"
   },
   {
    "duration": 502,
    "start_time": "2024-09-18T15:56:01.318Z"
   },
   {
    "duration": 4,
    "start_time": "2024-09-18T15:56:01.823Z"
   },
   {
    "duration": 60,
    "start_time": "2024-09-18T15:56:01.830Z"
   },
   {
    "duration": 11,
    "start_time": "2024-09-18T15:56:01.891Z"
   },
   {
    "duration": 308,
    "start_time": "2024-09-18T15:56:01.903Z"
   },
   {
    "duration": 178,
    "start_time": "2024-09-18T15:56:02.213Z"
   },
   {
    "duration": 30,
    "start_time": "2024-09-18T15:56:02.393Z"
   },
   {
    "duration": 238,
    "start_time": "2024-09-18T15:56:02.425Z"
   },
   {
    "duration": 25,
    "start_time": "2024-09-18T15:56:02.665Z"
   },
   {
    "duration": 168,
    "start_time": "2024-09-18T15:56:02.691Z"
   },
   {
    "duration": 286,
    "start_time": "2024-09-18T15:56:02.860Z"
   },
   {
    "duration": 296,
    "start_time": "2024-09-18T15:56:03.150Z"
   },
   {
    "duration": 5,
    "start_time": "2024-09-18T15:56:03.448Z"
   },
   {
    "duration": 84,
    "start_time": "2024-09-18T15:56:03.454Z"
   },
   {
    "duration": 197,
    "start_time": "2024-09-18T15:56:03.540Z"
   },
   {
    "duration": 219,
    "start_time": "2024-09-18T15:56:03.738Z"
   },
   {
    "duration": 9,
    "start_time": "2024-09-18T15:56:03.958Z"
   },
   {
    "duration": 311,
    "start_time": "2024-09-18T15:56:03.969Z"
   },
   {
    "duration": 6,
    "start_time": "2024-09-18T15:56:04.282Z"
   },
   {
    "duration": 257,
    "start_time": "2024-09-18T15:56:04.290Z"
   },
   {
    "duration": 113,
    "start_time": "2024-09-18T15:56:04.549Z"
   },
   {
    "duration": 37,
    "start_time": "2024-09-18T15:56:04.663Z"
   },
   {
    "duration": 175,
    "start_time": "2024-09-18T15:56:04.715Z"
   },
   {
    "duration": 411,
    "start_time": "2024-09-18T15:56:04.892Z"
   },
   {
    "duration": 20,
    "start_time": "2024-09-18T15:56:05.304Z"
   },
   {
    "duration": 147,
    "start_time": "2024-09-18T15:56:05.327Z"
   },
   {
    "duration": 363,
    "start_time": "2024-09-18T15:56:05.475Z"
   },
   {
    "duration": 29,
    "start_time": "2024-09-18T15:56:05.839Z"
   },
   {
    "duration": 164,
    "start_time": "2024-09-18T15:56:05.869Z"
   },
   {
    "duration": 328,
    "start_time": "2024-09-18T15:56:06.034Z"
   },
   {
    "duration": 14,
    "start_time": "2024-09-18T15:56:06.364Z"
   },
   {
    "duration": 53,
    "start_time": "2024-09-18T15:56:06.380Z"
   },
   {
    "duration": 11,
    "start_time": "2024-09-18T15:56:06.435Z"
   },
   {
    "duration": 53,
    "start_time": "2024-09-18T15:56:06.448Z"
   },
   {
    "duration": 3,
    "start_time": "2024-09-18T15:56:06.503Z"
   },
   {
    "duration": 76,
    "start_time": "2024-09-18T15:56:06.508Z"
   },
   {
    "duration": 4,
    "start_time": "2024-09-18T15:56:06.585Z"
   },
   {
    "duration": 43,
    "start_time": "2024-09-18T15:56:06.591Z"
   },
   {
    "duration": 11,
    "start_time": "2024-09-18T15:56:06.636Z"
   },
   {
    "duration": 16,
    "start_time": "2024-09-18T15:56:06.649Z"
   },
   {
    "duration": 53,
    "start_time": "2024-09-18T15:56:06.667Z"
   },
   {
    "duration": 63,
    "start_time": "2024-09-18T15:56:06.722Z"
   },
   {
    "duration": 4,
    "start_time": "2024-09-18T15:56:06.786Z"
   },
   {
    "duration": 120,
    "start_time": "2024-09-18T15:56:06.791Z"
   },
   {
    "duration": 13,
    "start_time": "2024-09-18T15:56:06.913Z"
   },
   {
    "duration": 43,
    "start_time": "2024-09-18T15:56:06.927Z"
   },
   {
    "duration": 2794,
    "start_time": "2024-09-18T15:59:51.140Z"
   },
   {
    "duration": 3934,
    "start_time": "2024-09-18T15:59:53.936Z"
   },
   {
    "duration": 2578,
    "start_time": "2024-09-18T15:59:57.872Z"
   },
   {
    "duration": 3108,
    "start_time": "2024-09-18T16:00:00.452Z"
   },
   {
    "duration": 1220,
    "start_time": "2024-09-18T16:00:03.562Z"
   },
   {
    "duration": 3,
    "start_time": "2024-09-18T16:00:04.785Z"
   },
   {
    "duration": 926,
    "start_time": "2024-09-18T16:00:04.789Z"
   },
   {
    "duration": 182,
    "start_time": "2024-09-18T16:00:05.717Z"
   },
   {
    "duration": 30,
    "start_time": "2024-09-18T16:00:05.901Z"
   },
   {
    "duration": 1368,
    "start_time": "2024-09-18T16:00:05.934Z"
   },
   {
    "duration": 3,
    "start_time": "2024-09-18T16:00:07.304Z"
   },
   {
    "duration": 28,
    "start_time": "2024-09-18T16:00:07.309Z"
   },
   {
    "duration": 399,
    "start_time": "2024-09-18T16:00:07.339Z"
   },
   {
    "duration": 1400,
    "start_time": "2024-09-18T16:00:07.740Z"
   },
   {
    "duration": 447,
    "start_time": "2024-09-18T16:00:09.142Z"
   },
   {
    "duration": 3,
    "start_time": "2024-09-18T16:00:09.591Z"
   },
   {
    "duration": 531,
    "start_time": "2024-09-18T16:00:09.595Z"
   },
   {
    "duration": 4,
    "start_time": "2024-09-18T16:00:10.128Z"
   },
   {
    "duration": 6,
    "start_time": "2024-09-18T16:00:10.133Z"
   },
   {
    "duration": 5,
    "start_time": "2024-09-18T16:00:10.140Z"
   },
   {
    "duration": 299,
    "start_time": "2024-09-18T16:00:10.146Z"
   },
   {
    "duration": 156,
    "start_time": "2024-09-18T16:00:10.447Z"
   },
   {
    "duration": 37,
    "start_time": "2024-09-18T16:00:10.604Z"
   },
   {
    "duration": 215,
    "start_time": "2024-09-18T16:00:10.642Z"
   },
   {
    "duration": 24,
    "start_time": "2024-09-18T16:00:10.858Z"
   },
   {
    "duration": 198,
    "start_time": "2024-09-18T16:00:10.883Z"
   },
   {
    "duration": 261,
    "start_time": "2024-09-18T16:00:11.083Z"
   },
   {
    "duration": 287,
    "start_time": "2024-09-18T16:00:11.348Z"
   },
   {
    "duration": 6,
    "start_time": "2024-09-18T16:00:11.637Z"
   },
   {
    "duration": 7,
    "start_time": "2024-09-18T16:00:11.644Z"
   },
   {
    "duration": 201,
    "start_time": "2024-09-18T16:00:11.652Z"
   },
   {
    "duration": 216,
    "start_time": "2024-09-18T16:00:11.855Z"
   },
   {
    "duration": 9,
    "start_time": "2024-09-18T16:00:12.072Z"
   },
   {
    "duration": 310,
    "start_time": "2024-09-18T16:00:12.082Z"
   },
   {
    "duration": 7,
    "start_time": "2024-09-18T16:00:12.394Z"
   },
   {
    "duration": 290,
    "start_time": "2024-09-18T16:00:12.414Z"
   },
   {
    "duration": 127,
    "start_time": "2024-09-18T16:00:12.706Z"
   },
   {
    "duration": 40,
    "start_time": "2024-09-18T16:00:12.834Z"
   },
   {
    "duration": 219,
    "start_time": "2024-09-18T16:00:12.876Z"
   },
   {
    "duration": 407,
    "start_time": "2024-09-18T16:00:13.097Z"
   },
   {
    "duration": 20,
    "start_time": "2024-09-18T16:00:13.513Z"
   },
   {
    "duration": 149,
    "start_time": "2024-09-18T16:00:13.534Z"
   },
   {
    "duration": 366,
    "start_time": "2024-09-18T16:00:13.684Z"
   },
   {
    "duration": 28,
    "start_time": "2024-09-18T16:00:14.051Z"
   },
   {
    "duration": 169,
    "start_time": "2024-09-18T16:00:14.081Z"
   },
   {
    "duration": 353,
    "start_time": "2024-09-18T16:00:14.252Z"
   },
   {
    "duration": 25,
    "start_time": "2024-09-18T16:00:14.606Z"
   },
   {
    "duration": 39,
    "start_time": "2024-09-18T16:00:14.632Z"
   },
   {
    "duration": 10,
    "start_time": "2024-09-18T16:00:14.673Z"
   },
   {
    "duration": 39,
    "start_time": "2024-09-18T16:00:14.684Z"
   },
   {
    "duration": 5,
    "start_time": "2024-09-18T16:00:14.725Z"
   },
   {
    "duration": 37,
    "start_time": "2024-09-18T16:00:14.731Z"
   },
   {
    "duration": 3,
    "start_time": "2024-09-18T16:00:14.770Z"
   },
   {
    "duration": 826,
    "start_time": "2024-09-18T16:00:14.774Z"
   },
   {
    "duration": 0,
    "start_time": "2024-09-18T16:00:15.601Z"
   },
   {
    "duration": 0,
    "start_time": "2024-09-18T16:00:15.604Z"
   },
   {
    "duration": 0,
    "start_time": "2024-09-18T16:00:15.605Z"
   },
   {
    "duration": 0,
    "start_time": "2024-09-18T16:00:15.606Z"
   },
   {
    "duration": 0,
    "start_time": "2024-09-18T16:00:15.608Z"
   },
   {
    "duration": 0,
    "start_time": "2024-09-18T16:00:15.609Z"
   },
   {
    "duration": 0,
    "start_time": "2024-09-18T16:00:15.611Z"
   },
   {
    "duration": 0,
    "start_time": "2024-09-18T16:00:15.612Z"
   },
   {
    "duration": 0,
    "start_time": "2024-09-18T16:00:15.614Z"
   },
   {
    "duration": 0,
    "start_time": "2024-09-18T16:00:15.615Z"
   },
   {
    "duration": 0,
    "start_time": "2024-09-18T16:00:15.616Z"
   },
   {
    "duration": 0,
    "start_time": "2024-09-18T16:00:15.618Z"
   },
   {
    "duration": 0,
    "start_time": "2024-09-18T16:00:15.619Z"
   },
   {
    "duration": 0,
    "start_time": "2024-09-18T16:00:15.621Z"
   },
   {
    "duration": 0,
    "start_time": "2024-09-18T16:00:15.622Z"
   },
   {
    "duration": 0,
    "start_time": "2024-09-18T16:00:15.626Z"
   },
   {
    "duration": 0,
    "start_time": "2024-09-18T16:00:15.627Z"
   },
   {
    "duration": 1,
    "start_time": "2024-09-18T16:00:15.628Z"
   },
   {
    "duration": 0,
    "start_time": "2024-09-18T16:00:15.630Z"
   },
   {
    "duration": 0,
    "start_time": "2024-09-18T16:00:15.632Z"
   },
   {
    "duration": 0,
    "start_time": "2024-09-18T16:00:15.632Z"
   },
   {
    "duration": 0,
    "start_time": "2024-09-18T16:00:15.633Z"
   },
   {
    "duration": 0,
    "start_time": "2024-09-18T16:00:15.634Z"
   },
   {
    "duration": 0,
    "start_time": "2024-09-18T16:00:15.635Z"
   },
   {
    "duration": 0,
    "start_time": "2024-09-18T16:00:15.636Z"
   },
   {
    "duration": 0,
    "start_time": "2024-09-18T16:00:15.637Z"
   },
   {
    "duration": 0,
    "start_time": "2024-09-18T16:00:15.638Z"
   },
   {
    "duration": 2656,
    "start_time": "2024-09-18T16:00:32.784Z"
   },
   {
    "duration": 3162,
    "start_time": "2024-09-18T16:00:35.442Z"
   },
   {
    "duration": 2545,
    "start_time": "2024-09-18T16:00:38.606Z"
   },
   {
    "duration": 3006,
    "start_time": "2024-09-18T16:00:41.153Z"
   },
   {
    "duration": 1236,
    "start_time": "2024-09-18T16:00:44.161Z"
   },
   {
    "duration": 2,
    "start_time": "2024-09-18T16:00:45.399Z"
   },
   {
    "duration": 1034,
    "start_time": "2024-09-18T16:00:45.403Z"
   },
   {
    "duration": 165,
    "start_time": "2024-09-18T16:00:46.439Z"
   },
   {
    "duration": 26,
    "start_time": "2024-09-18T16:00:46.606Z"
   },
   {
    "duration": 1356,
    "start_time": "2024-09-18T16:00:46.635Z"
   },
   {
    "duration": 3,
    "start_time": "2024-09-18T16:00:47.993Z"
   },
   {
    "duration": 18,
    "start_time": "2024-09-18T16:00:47.998Z"
   },
   {
    "duration": 418,
    "start_time": "2024-09-18T16:00:48.019Z"
   },
   {
    "duration": 1409,
    "start_time": "2024-09-18T16:00:48.438Z"
   },
   {
    "duration": 471,
    "start_time": "2024-09-18T16:00:49.848Z"
   },
   {
    "duration": 5,
    "start_time": "2024-09-18T16:00:50.322Z"
   },
   {
    "duration": 511,
    "start_time": "2024-09-18T16:00:50.331Z"
   },
   {
    "duration": 3,
    "start_time": "2024-09-18T16:00:50.844Z"
   },
   {
    "duration": 80,
    "start_time": "2024-09-18T16:00:50.849Z"
   },
   {
    "duration": 11,
    "start_time": "2024-09-18T16:00:50.930Z"
   },
   {
    "duration": 296,
    "start_time": "2024-09-18T16:00:50.943Z"
   },
   {
    "duration": 155,
    "start_time": "2024-09-18T16:00:51.241Z"
   },
   {
    "duration": 36,
    "start_time": "2024-09-18T16:00:51.398Z"
   },
   {
    "duration": 299,
    "start_time": "2024-09-18T16:00:51.435Z"
   },
   {
    "duration": 25,
    "start_time": "2024-09-18T16:00:51.736Z"
   },
   {
    "duration": 174,
    "start_time": "2024-09-18T16:00:51.762Z"
   },
   {
    "duration": 263,
    "start_time": "2024-09-18T16:00:51.938Z"
   },
   {
    "duration": 285,
    "start_time": "2024-09-18T16:00:52.205Z"
   },
   {
    "duration": 5,
    "start_time": "2024-09-18T16:00:52.492Z"
   },
   {
    "duration": 19,
    "start_time": "2024-09-18T16:00:52.498Z"
   },
   {
    "duration": 191,
    "start_time": "2024-09-18T16:00:52.519Z"
   },
   {
    "duration": 250,
    "start_time": "2024-09-18T16:00:52.711Z"
   },
   {
    "duration": 9,
    "start_time": "2024-09-18T16:00:52.963Z"
   },
   {
    "duration": 314,
    "start_time": "2024-09-18T16:00:52.974Z"
   },
   {
    "duration": 7,
    "start_time": "2024-09-18T16:00:53.290Z"
   },
   {
    "duration": 304,
    "start_time": "2024-09-18T16:00:53.299Z"
   },
   {
    "duration": 118,
    "start_time": "2024-09-18T16:00:53.605Z"
   },
   {
    "duration": 40,
    "start_time": "2024-09-18T16:00:53.725Z"
   },
   {
    "duration": 188,
    "start_time": "2024-09-18T16:00:53.767Z"
   },
   {
    "duration": 448,
    "start_time": "2024-09-18T16:00:53.957Z"
   },
   {
    "duration": 19,
    "start_time": "2024-09-18T16:00:54.407Z"
   },
   {
    "duration": 146,
    "start_time": "2024-09-18T16:00:54.428Z"
   },
   {
    "duration": 365,
    "start_time": "2024-09-18T16:00:54.576Z"
   },
   {
    "duration": 29,
    "start_time": "2024-09-18T16:00:54.943Z"
   },
   {
    "duration": 169,
    "start_time": "2024-09-18T16:00:54.974Z"
   },
   {
    "duration": 366,
    "start_time": "2024-09-18T16:00:55.144Z"
   },
   {
    "duration": 21,
    "start_time": "2024-09-18T16:00:55.511Z"
   },
   {
    "duration": 42,
    "start_time": "2024-09-18T16:00:55.534Z"
   },
   {
    "duration": 10,
    "start_time": "2024-09-18T16:00:55.578Z"
   },
   {
    "duration": 42,
    "start_time": "2024-09-18T16:00:55.590Z"
   },
   {
    "duration": 3,
    "start_time": "2024-09-18T16:00:55.634Z"
   },
   {
    "duration": 49,
    "start_time": "2024-09-18T16:00:55.638Z"
   },
   {
    "duration": 4,
    "start_time": "2024-09-18T16:00:55.688Z"
   },
   {
    "duration": 36,
    "start_time": "2024-09-18T16:00:55.693Z"
   },
   {
    "duration": 16,
    "start_time": "2024-09-18T16:00:55.730Z"
   },
   {
    "duration": 33,
    "start_time": "2024-09-18T16:00:55.747Z"
   },
   {
    "duration": 89,
    "start_time": "2024-09-18T16:00:55.781Z"
   },
   {
    "duration": 3,
    "start_time": "2024-09-18T16:00:55.871Z"
   },
   {
    "duration": 13,
    "start_time": "2024-09-18T16:00:55.876Z"
   },
   {
    "duration": 23,
    "start_time": "2024-09-18T16:00:55.890Z"
   },
   {
    "duration": 10,
    "start_time": "2024-09-18T16:00:55.915Z"
   },
   {
    "duration": 6442,
    "start_time": "2024-09-18T16:00:55.928Z"
   },
   {
    "duration": 11,
    "start_time": "2024-09-18T16:01:02.372Z"
   },
   {
    "duration": 0,
    "start_time": "2024-09-18T16:01:02.384Z"
   },
   {
    "duration": 0,
    "start_time": "2024-09-18T16:01:02.386Z"
   },
   {
    "duration": 1,
    "start_time": "2024-09-18T16:01:02.387Z"
   },
   {
    "duration": 0,
    "start_time": "2024-09-18T16:01:02.389Z"
   },
   {
    "duration": 0,
    "start_time": "2024-09-18T16:01:02.391Z"
   },
   {
    "duration": 0,
    "start_time": "2024-09-18T16:01:02.393Z"
   },
   {
    "duration": 0,
    "start_time": "2024-09-18T16:01:02.394Z"
   },
   {
    "duration": 0,
    "start_time": "2024-09-18T16:01:02.396Z"
   },
   {
    "duration": 0,
    "start_time": "2024-09-18T16:01:02.397Z"
   },
   {
    "duration": 1,
    "start_time": "2024-09-18T16:01:02.398Z"
   },
   {
    "duration": 0,
    "start_time": "2024-09-18T16:01:02.402Z"
   },
   {
    "duration": 0,
    "start_time": "2024-09-18T16:01:02.404Z"
   },
   {
    "duration": 0,
    "start_time": "2024-09-18T16:01:02.413Z"
   },
   {
    "duration": 0,
    "start_time": "2024-09-18T16:01:02.416Z"
   },
   {
    "duration": 0,
    "start_time": "2024-09-18T16:01:02.418Z"
   },
   {
    "duration": 0,
    "start_time": "2024-09-18T16:01:02.420Z"
   },
   {
    "duration": 0,
    "start_time": "2024-09-18T16:01:02.421Z"
   },
   {
    "duration": 5683,
    "start_time": "2024-09-18T16:03:07.896Z"
   },
   {
    "duration": 12,
    "start_time": "2024-09-18T16:03:13.944Z"
   },
   {
    "duration": 7,
    "start_time": "2024-09-18T16:03:30.019Z"
   },
   {
    "duration": 5373,
    "start_time": "2024-09-18T16:03:33.305Z"
   },
   {
    "duration": 9,
    "start_time": "2024-09-18T16:03:38.680Z"
   },
   {
    "duration": 0,
    "start_time": "2024-09-18T16:03:38.691Z"
   },
   {
    "duration": 60,
    "start_time": "2024-09-18T16:04:14.160Z"
   },
   {
    "duration": 18,
    "start_time": "2024-09-18T16:04:20.129Z"
   },
   {
    "duration": 3,
    "start_time": "2024-09-18T16:06:52.686Z"
   },
   {
    "duration": 75,
    "start_time": "2024-09-18T16:06:56.757Z"
   },
   {
    "duration": 5186,
    "start_time": "2024-09-18T16:06:59.321Z"
   },
   {
    "duration": 14,
    "start_time": "2024-09-18T16:07:04.509Z"
   },
   {
    "duration": 0,
    "start_time": "2024-09-18T16:07:04.525Z"
   },
   {
    "duration": 2687,
    "start_time": "2024-09-18T16:07:13.558Z"
   },
   {
    "duration": 3159,
    "start_time": "2024-09-18T16:07:16.248Z"
   },
   {
    "duration": 2555,
    "start_time": "2024-09-18T16:07:19.409Z"
   },
   {
    "duration": 2966,
    "start_time": "2024-09-18T16:07:21.966Z"
   },
   {
    "duration": 1291,
    "start_time": "2024-09-18T16:07:24.934Z"
   },
   {
    "duration": 3,
    "start_time": "2024-09-18T16:07:26.228Z"
   },
   {
    "duration": 952,
    "start_time": "2024-09-18T16:07:26.232Z"
   },
   {
    "duration": 195,
    "start_time": "2024-09-18T16:07:27.185Z"
   },
   {
    "duration": 18,
    "start_time": "2024-09-18T16:07:27.381Z"
   },
   {
    "duration": 1433,
    "start_time": "2024-09-18T16:07:27.413Z"
   },
   {
    "duration": 3,
    "start_time": "2024-09-18T16:07:28.848Z"
   },
   {
    "duration": 4,
    "start_time": "2024-09-18T16:07:28.852Z"
   },
   {
    "duration": 380,
    "start_time": "2024-09-18T16:07:28.857Z"
   },
   {
    "duration": 1352,
    "start_time": "2024-09-18T16:07:29.240Z"
   },
   {
    "duration": 497,
    "start_time": "2024-09-18T16:07:30.594Z"
   },
   {
    "duration": 3,
    "start_time": "2024-09-18T16:07:31.093Z"
   },
   {
    "duration": 538,
    "start_time": "2024-09-18T16:07:31.098Z"
   },
   {
    "duration": 4,
    "start_time": "2024-09-18T16:07:31.637Z"
   },
   {
    "duration": 21,
    "start_time": "2024-09-18T16:07:31.642Z"
   },
   {
    "duration": 11,
    "start_time": "2024-09-18T16:07:31.664Z"
   },
   {
    "duration": 289,
    "start_time": "2024-09-18T16:07:31.677Z"
   },
   {
    "duration": 164,
    "start_time": "2024-09-18T16:07:31.968Z"
   },
   {
    "duration": 23,
    "start_time": "2024-09-18T16:07:32.134Z"
   },
   {
    "duration": 227,
    "start_time": "2024-09-18T16:07:32.159Z"
   },
   {
    "duration": 34,
    "start_time": "2024-09-18T16:07:32.387Z"
   },
   {
    "duration": 188,
    "start_time": "2024-09-18T16:07:32.424Z"
   },
   {
    "duration": 278,
    "start_time": "2024-09-18T16:07:32.618Z"
   },
   {
    "duration": 300,
    "start_time": "2024-09-18T16:07:32.898Z"
   },
   {
    "duration": 18,
    "start_time": "2024-09-18T16:07:33.200Z"
   },
   {
    "duration": 15,
    "start_time": "2024-09-18T16:07:33.220Z"
   },
   {
    "duration": 218,
    "start_time": "2024-09-18T16:07:33.236Z"
   },
   {
    "duration": 216,
    "start_time": "2024-09-18T16:07:33.456Z"
   },
   {
    "duration": 9,
    "start_time": "2024-09-18T16:07:33.673Z"
   },
   {
    "duration": 314,
    "start_time": "2024-09-18T16:07:33.684Z"
   },
   {
    "duration": 17,
    "start_time": "2024-09-18T16:07:33.999Z"
   },
   {
    "duration": 308,
    "start_time": "2024-09-18T16:07:34.019Z"
   },
   {
    "duration": 119,
    "start_time": "2024-09-18T16:07:34.330Z"
   },
   {
    "duration": 88,
    "start_time": "2024-09-18T16:07:34.451Z"
   },
   {
    "duration": 187,
    "start_time": "2024-09-18T16:07:34.542Z"
   },
   {
    "duration": 386,
    "start_time": "2024-09-18T16:07:34.731Z"
   },
   {
    "duration": 15,
    "start_time": "2024-09-18T16:07:35.124Z"
   },
   {
    "duration": 179,
    "start_time": "2024-09-18T16:07:35.141Z"
   },
   {
    "duration": 469,
    "start_time": "2024-09-18T16:07:35.322Z"
   },
   {
    "duration": 39,
    "start_time": "2024-09-18T16:07:35.792Z"
   },
   {
    "duration": 164,
    "start_time": "2024-09-18T16:07:35.833Z"
   },
   {
    "duration": 353,
    "start_time": "2024-09-18T16:07:35.999Z"
   },
   {
    "duration": 14,
    "start_time": "2024-09-18T16:07:36.354Z"
   },
   {
    "duration": 45,
    "start_time": "2024-09-18T16:07:36.370Z"
   },
   {
    "duration": 17,
    "start_time": "2024-09-18T16:07:36.418Z"
   },
   {
    "duration": 50,
    "start_time": "2024-09-18T16:07:36.436Z"
   },
   {
    "duration": 4,
    "start_time": "2024-09-18T16:07:36.487Z"
   },
   {
    "duration": 59,
    "start_time": "2024-09-18T16:07:36.493Z"
   },
   {
    "duration": 16,
    "start_time": "2024-09-18T16:07:36.553Z"
   },
   {
    "duration": 80,
    "start_time": "2024-09-18T16:07:36.570Z"
   },
   {
    "duration": 11,
    "start_time": "2024-09-18T16:07:36.651Z"
   },
   {
    "duration": 35,
    "start_time": "2024-09-18T16:07:36.663Z"
   },
   {
    "duration": 89,
    "start_time": "2024-09-18T16:07:36.699Z"
   },
   {
    "duration": 3,
    "start_time": "2024-09-18T16:07:36.790Z"
   },
   {
    "duration": 24,
    "start_time": "2024-09-18T16:07:36.794Z"
   },
   {
    "duration": 7,
    "start_time": "2024-09-18T16:07:36.821Z"
   },
   {
    "duration": 10,
    "start_time": "2024-09-18T16:07:36.830Z"
   },
   {
    "duration": 2447,
    "start_time": "2024-09-18T16:36:18.298Z"
   },
   {
    "duration": 3050,
    "start_time": "2024-09-18T16:36:20.748Z"
   },
   {
    "duration": 2359,
    "start_time": "2024-09-18T16:36:23.799Z"
   },
   {
    "duration": 2890,
    "start_time": "2024-09-18T16:36:26.161Z"
   },
   {
    "duration": 1236,
    "start_time": "2024-09-18T16:36:29.053Z"
   },
   {
    "duration": 3,
    "start_time": "2024-09-18T16:36:30.291Z"
   },
   {
    "duration": 1113,
    "start_time": "2024-09-18T16:36:30.295Z"
   },
   {
    "duration": 158,
    "start_time": "2024-09-18T16:36:31.409Z"
   },
   {
    "duration": 15,
    "start_time": "2024-09-18T16:36:31.569Z"
   },
   {
    "duration": 1480,
    "start_time": "2024-09-18T16:36:31.587Z"
   },
   {
    "duration": 3,
    "start_time": "2024-09-18T16:36:33.068Z"
   },
   {
    "duration": 56,
    "start_time": "2024-09-18T16:36:33.072Z"
   },
   {
    "duration": 370,
    "start_time": "2024-09-18T16:36:33.130Z"
   },
   {
    "duration": 1226,
    "start_time": "2024-09-18T16:36:33.502Z"
   },
   {
    "duration": 425,
    "start_time": "2024-09-18T16:36:34.730Z"
   },
   {
    "duration": 4,
    "start_time": "2024-09-18T16:36:35.157Z"
   },
   {
    "duration": 482,
    "start_time": "2024-09-18T16:36:35.162Z"
   },
   {
    "duration": 3,
    "start_time": "2024-09-18T16:36:35.646Z"
   },
   {
    "duration": 39,
    "start_time": "2024-09-18T16:36:35.650Z"
   },
   {
    "duration": 5,
    "start_time": "2024-09-18T16:36:35.691Z"
   },
   {
    "duration": 279,
    "start_time": "2024-09-18T16:36:35.697Z"
   },
   {
    "duration": 154,
    "start_time": "2024-09-18T16:36:35.979Z"
   },
   {
    "duration": 27,
    "start_time": "2024-09-18T16:36:36.135Z"
   },
   {
    "duration": 209,
    "start_time": "2024-09-18T16:36:36.163Z"
   },
   {
    "duration": 25,
    "start_time": "2024-09-18T16:36:36.374Z"
   },
   {
    "duration": 159,
    "start_time": "2024-09-18T16:36:36.400Z"
   },
   {
    "duration": 256,
    "start_time": "2024-09-18T16:36:36.560Z"
   },
   {
    "duration": 267,
    "start_time": "2024-09-18T16:36:36.819Z"
   },
   {
    "duration": 6,
    "start_time": "2024-09-18T16:36:37.087Z"
   },
   {
    "duration": 22,
    "start_time": "2024-09-18T16:36:37.094Z"
   },
   {
    "duration": 179,
    "start_time": "2024-09-18T16:36:37.117Z"
   },
   {
    "duration": 223,
    "start_time": "2024-09-18T16:36:37.298Z"
   },
   {
    "duration": 9,
    "start_time": "2024-09-18T16:36:37.522Z"
   },
   {
    "duration": 294,
    "start_time": "2024-09-18T16:36:37.533Z"
   },
   {
    "duration": 6,
    "start_time": "2024-09-18T16:36:37.829Z"
   },
   {
    "duration": 286,
    "start_time": "2024-09-18T16:36:37.837Z"
   },
   {
    "duration": 104,
    "start_time": "2024-09-18T16:36:38.125Z"
   },
   {
    "duration": 36,
    "start_time": "2024-09-18T16:36:38.230Z"
   },
   {
    "duration": 184,
    "start_time": "2024-09-18T16:36:38.268Z"
   },
   {
    "duration": 431,
    "start_time": "2024-09-18T16:36:38.453Z"
   },
   {
    "duration": 12,
    "start_time": "2024-09-18T16:36:38.886Z"
   },
   {
    "duration": 148,
    "start_time": "2024-09-18T16:36:38.899Z"
   },
   {
    "duration": 373,
    "start_time": "2024-09-18T16:36:39.048Z"
   },
   {
    "duration": 31,
    "start_time": "2024-09-18T16:36:39.422Z"
   },
   {
    "duration": 165,
    "start_time": "2024-09-18T16:36:39.454Z"
   },
   {
    "duration": 339,
    "start_time": "2024-09-18T16:36:39.621Z"
   },
   {
    "duration": 14,
    "start_time": "2024-09-18T16:36:39.961Z"
   },
   {
    "duration": 40,
    "start_time": "2024-09-18T16:36:39.977Z"
   },
   {
    "duration": 51,
    "start_time": "2024-09-18T16:36:40.018Z"
   },
   {
    "duration": 97,
    "start_time": "2024-09-18T16:36:40.071Z"
   },
   {
    "duration": 4,
    "start_time": "2024-09-18T16:36:40.169Z"
   },
   {
    "duration": 38,
    "start_time": "2024-09-18T16:36:40.174Z"
   },
   {
    "duration": 3,
    "start_time": "2024-09-18T16:36:40.214Z"
   },
   {
    "duration": 11,
    "start_time": "2024-09-18T16:36:40.219Z"
   },
   {
    "duration": 3,
    "start_time": "2024-09-18T16:36:40.231Z"
   },
   {
    "duration": 17,
    "start_time": "2024-09-18T16:36:40.235Z"
   },
   {
    "duration": 98,
    "start_time": "2024-09-18T16:36:40.254Z"
   },
   {
    "duration": 3,
    "start_time": "2024-09-18T16:36:40.353Z"
   },
   {
    "duration": 8,
    "start_time": "2024-09-18T16:36:40.358Z"
   },
   {
    "duration": 3,
    "start_time": "2024-09-18T16:36:40.368Z"
   },
   {
    "duration": 5,
    "start_time": "2024-09-18T16:36:40.372Z"
   },
   {
    "duration": 2541,
    "start_time": "2024-09-18T16:49:08.250Z"
   },
   {
    "duration": 3236,
    "start_time": "2024-09-18T16:49:10.794Z"
   },
   {
    "duration": 2613,
    "start_time": "2024-09-18T16:49:14.032Z"
   },
   {
    "duration": 3096,
    "start_time": "2024-09-18T16:49:16.648Z"
   },
   {
    "duration": 1344,
    "start_time": "2024-09-18T16:49:19.746Z"
   },
   {
    "duration": 3,
    "start_time": "2024-09-18T16:49:21.091Z"
   },
   {
    "duration": 972,
    "start_time": "2024-09-18T16:49:21.095Z"
   },
   {
    "duration": 166,
    "start_time": "2024-09-18T16:49:22.069Z"
   },
   {
    "duration": 16,
    "start_time": "2024-09-18T16:49:22.237Z"
   },
   {
    "duration": 1418,
    "start_time": "2024-09-18T16:49:22.256Z"
   },
   {
    "duration": 3,
    "start_time": "2024-09-18T16:49:23.676Z"
   },
   {
    "duration": 75,
    "start_time": "2024-09-18T16:49:23.680Z"
   },
   {
    "duration": 384,
    "start_time": "2024-09-18T16:49:23.756Z"
   },
   {
    "duration": 1391,
    "start_time": "2024-09-18T16:49:24.142Z"
   },
   {
    "duration": 468,
    "start_time": "2024-09-18T16:49:25.535Z"
   },
   {
    "duration": 10,
    "start_time": "2024-09-18T16:49:26.005Z"
   },
   {
    "duration": 527,
    "start_time": "2024-09-18T16:49:26.018Z"
   },
   {
    "duration": 4,
    "start_time": "2024-09-18T16:49:26.546Z"
   },
   {
    "duration": 4,
    "start_time": "2024-09-18T16:49:26.551Z"
   },
   {
    "duration": 12,
    "start_time": "2024-09-18T16:49:26.557Z"
   },
   {
    "duration": 301,
    "start_time": "2024-09-18T16:49:26.570Z"
   },
   {
    "duration": 171,
    "start_time": "2024-09-18T16:49:26.872Z"
   },
   {
    "duration": 26,
    "start_time": "2024-09-18T16:49:27.045Z"
   },
   {
    "duration": 238,
    "start_time": "2024-09-18T16:49:27.073Z"
   },
   {
    "duration": 41,
    "start_time": "2024-09-18T16:49:27.313Z"
   },
   {
    "duration": 187,
    "start_time": "2024-09-18T16:49:27.356Z"
   },
   {
    "duration": 285,
    "start_time": "2024-09-18T16:49:27.546Z"
   },
   {
    "duration": 293,
    "start_time": "2024-09-18T16:49:27.837Z"
   },
   {
    "duration": 5,
    "start_time": "2024-09-18T16:49:28.132Z"
   },
   {
    "duration": 7,
    "start_time": "2024-09-18T16:49:28.139Z"
   },
   {
    "duration": 206,
    "start_time": "2024-09-18T16:49:28.147Z"
   },
   {
    "duration": 216,
    "start_time": "2024-09-18T16:49:28.354Z"
   },
   {
    "duration": 9,
    "start_time": "2024-09-18T16:49:28.572Z"
   },
   {
    "duration": 320,
    "start_time": "2024-09-18T16:49:28.583Z"
   },
   {
    "duration": 13,
    "start_time": "2024-09-18T16:49:28.905Z"
   },
   {
    "duration": 258,
    "start_time": "2024-09-18T16:49:28.920Z"
   },
   {
    "duration": 116,
    "start_time": "2024-09-18T16:49:29.180Z"
   },
   {
    "duration": 57,
    "start_time": "2024-09-18T16:49:29.298Z"
   },
   {
    "duration": 187,
    "start_time": "2024-09-18T16:49:29.357Z"
   },
   {
    "duration": 458,
    "start_time": "2024-09-18T16:49:29.546Z"
   },
   {
    "duration": 15,
    "start_time": "2024-09-18T16:49:30.014Z"
   },
   {
    "duration": 155,
    "start_time": "2024-09-18T16:49:30.031Z"
   },
   {
    "duration": 377,
    "start_time": "2024-09-18T16:49:30.188Z"
   },
   {
    "duration": 34,
    "start_time": "2024-09-18T16:49:30.567Z"
   },
   {
    "duration": 160,
    "start_time": "2024-09-18T16:49:30.603Z"
   },
   {
    "duration": 388,
    "start_time": "2024-09-18T16:49:30.765Z"
   },
   {
    "duration": 14,
    "start_time": "2024-09-18T16:49:31.154Z"
   },
   {
    "duration": 67,
    "start_time": "2024-09-18T16:49:31.170Z"
   },
   {
    "duration": 10,
    "start_time": "2024-09-18T16:49:31.239Z"
   },
   {
    "duration": 36,
    "start_time": "2024-09-18T16:49:31.251Z"
   },
   {
    "duration": 4,
    "start_time": "2024-09-18T16:49:31.289Z"
   },
   {
    "duration": 57,
    "start_time": "2024-09-18T16:49:31.294Z"
   },
   {
    "duration": 4,
    "start_time": "2024-09-18T16:49:31.352Z"
   },
   {
    "duration": 15,
    "start_time": "2024-09-18T16:49:31.358Z"
   },
   {
    "duration": 4,
    "start_time": "2024-09-18T16:49:31.374Z"
   },
   {
    "duration": 29,
    "start_time": "2024-09-18T16:49:31.380Z"
   },
   {
    "duration": 79,
    "start_time": "2024-09-18T16:49:31.417Z"
   },
   {
    "duration": 3,
    "start_time": "2024-09-18T16:49:31.498Z"
   },
   {
    "duration": 10,
    "start_time": "2024-09-18T16:49:31.514Z"
   },
   {
    "duration": 27,
    "start_time": "2024-09-18T16:49:31.527Z"
   },
   {
    "duration": 18,
    "start_time": "2024-09-18T16:49:31.555Z"
   },
   {
    "duration": 442860,
    "start_time": "2024-09-18T16:49:31.574Z"
   },
   {
    "duration": 67,
    "start_time": "2024-09-18T16:56:54.436Z"
   },
   {
    "duration": 0,
    "start_time": "2024-09-18T16:56:54.505Z"
   },
   {
    "duration": 0,
    "start_time": "2024-09-18T16:56:54.507Z"
   },
   {
    "duration": 0,
    "start_time": "2024-09-18T16:56:54.514Z"
   },
   {
    "duration": 0,
    "start_time": "2024-09-18T16:56:54.515Z"
   },
   {
    "duration": 0,
    "start_time": "2024-09-18T16:56:54.517Z"
   },
   {
    "duration": 0,
    "start_time": "2024-09-18T16:56:54.518Z"
   },
   {
    "duration": 0,
    "start_time": "2024-09-18T16:56:54.521Z"
   },
   {
    "duration": 0,
    "start_time": "2024-09-18T16:56:54.523Z"
   },
   {
    "duration": 0,
    "start_time": "2024-09-18T16:56:54.525Z"
   },
   {
    "duration": 0,
    "start_time": "2024-09-18T16:56:54.526Z"
   },
   {
    "duration": 0,
    "start_time": "2024-09-18T16:56:54.528Z"
   },
   {
    "duration": 0,
    "start_time": "2024-09-18T16:56:54.529Z"
   },
   {
    "duration": 0,
    "start_time": "2024-09-18T16:56:54.530Z"
   },
   {
    "duration": 0,
    "start_time": "2024-09-18T16:56:54.532Z"
   },
   {
    "duration": 0,
    "start_time": "2024-09-18T16:56:54.533Z"
   },
   {
    "duration": 0,
    "start_time": "2024-09-18T16:56:54.534Z"
   },
   {
    "duration": 0,
    "start_time": "2024-09-18T16:56:54.535Z"
   },
   {
    "duration": 3,
    "start_time": "2024-09-18T16:57:05.895Z"
   },
   {
    "duration": 28754,
    "start_time": "2024-09-18T16:57:06.277Z"
   },
   {
    "duration": 182,
    "start_time": "2024-09-18T16:57:35.033Z"
   },
   {
    "duration": 7,
    "start_time": "2024-09-18T16:57:35.217Z"
   },
   {
    "duration": 24,
    "start_time": "2024-09-18T17:35:14.788Z"
   },
   {
    "duration": 16,
    "start_time": "2024-09-18T17:36:24.340Z"
   },
   {
    "duration": 5,
    "start_time": "2024-09-18T17:36:36.799Z"
   },
   {
    "duration": 2631,
    "start_time": "2024-09-18T17:37:50.853Z"
   },
   {
    "duration": 3761,
    "start_time": "2024-09-18T17:37:53.486Z"
   },
   {
    "duration": 2694,
    "start_time": "2024-09-18T17:37:57.249Z"
   },
   {
    "duration": 3146,
    "start_time": "2024-09-18T17:37:59.945Z"
   },
   {
    "duration": 1322,
    "start_time": "2024-09-18T17:38:03.093Z"
   },
   {
    "duration": 4,
    "start_time": "2024-09-18T17:38:04.417Z"
   },
   {
    "duration": 989,
    "start_time": "2024-09-18T17:38:04.422Z"
   },
   {
    "duration": 173,
    "start_time": "2024-09-18T17:38:05.413Z"
   },
   {
    "duration": 27,
    "start_time": "2024-09-18T17:38:05.588Z"
   },
   {
    "duration": 1364,
    "start_time": "2024-09-18T17:38:05.618Z"
   },
   {
    "duration": 2,
    "start_time": "2024-09-18T17:38:06.984Z"
   },
   {
    "duration": 8,
    "start_time": "2024-09-18T17:38:06.988Z"
   },
   {
    "duration": 398,
    "start_time": "2024-09-18T17:38:06.997Z"
   },
   {
    "duration": 1383,
    "start_time": "2024-09-18T17:38:07.399Z"
   },
   {
    "duration": 468,
    "start_time": "2024-09-18T17:38:08.783Z"
   },
   {
    "duration": 4,
    "start_time": "2024-09-18T17:38:09.252Z"
   },
   {
    "duration": 482,
    "start_time": "2024-09-18T17:38:09.257Z"
   },
   {
    "duration": 3,
    "start_time": "2024-09-18T17:38:09.741Z"
   },
   {
    "duration": 21,
    "start_time": "2024-09-18T17:38:09.745Z"
   },
   {
    "duration": 4,
    "start_time": "2024-09-18T17:38:09.768Z"
   },
   {
    "duration": 289,
    "start_time": "2024-09-18T17:38:09.773Z"
   },
   {
    "duration": 165,
    "start_time": "2024-09-18T17:38:10.064Z"
   },
   {
    "duration": 22,
    "start_time": "2024-09-18T17:38:10.231Z"
   },
   {
    "duration": 223,
    "start_time": "2024-09-18T17:38:10.255Z"
   },
   {
    "duration": 24,
    "start_time": "2024-09-18T17:38:10.479Z"
   },
   {
    "duration": 153,
    "start_time": "2024-09-18T17:38:10.514Z"
   },
   {
    "duration": 266,
    "start_time": "2024-09-18T17:38:10.669Z"
   },
   {
    "duration": 282,
    "start_time": "2024-09-18T17:38:10.937Z"
   },
   {
    "duration": 60,
    "start_time": "2024-09-18T17:38:11.221Z"
   },
   {
    "duration": 147,
    "start_time": "2024-09-18T17:38:11.283Z"
   },
   {
    "duration": 0,
    "start_time": "2024-09-18T17:38:11.434Z"
   },
   {
    "duration": 0,
    "start_time": "2024-09-18T17:38:11.435Z"
   },
   {
    "duration": 0,
    "start_time": "2024-09-18T17:38:11.436Z"
   },
   {
    "duration": 0,
    "start_time": "2024-09-18T17:38:11.438Z"
   },
   {
    "duration": 0,
    "start_time": "2024-09-18T17:38:11.439Z"
   },
   {
    "duration": 0,
    "start_time": "2024-09-18T17:38:11.441Z"
   },
   {
    "duration": 0,
    "start_time": "2024-09-18T17:38:11.443Z"
   },
   {
    "duration": 0,
    "start_time": "2024-09-18T17:38:11.444Z"
   },
   {
    "duration": 0,
    "start_time": "2024-09-18T17:38:11.445Z"
   },
   {
    "duration": 0,
    "start_time": "2024-09-18T17:38:11.447Z"
   },
   {
    "duration": 0,
    "start_time": "2024-09-18T17:38:11.449Z"
   },
   {
    "duration": 0,
    "start_time": "2024-09-18T17:38:11.450Z"
   },
   {
    "duration": 0,
    "start_time": "2024-09-18T17:38:11.451Z"
   },
   {
    "duration": 0,
    "start_time": "2024-09-18T17:38:11.453Z"
   },
   {
    "duration": 0,
    "start_time": "2024-09-18T17:38:11.454Z"
   },
   {
    "duration": 0,
    "start_time": "2024-09-18T17:38:11.456Z"
   },
   {
    "duration": 0,
    "start_time": "2024-09-18T17:38:11.457Z"
   },
   {
    "duration": 0,
    "start_time": "2024-09-18T17:38:11.458Z"
   },
   {
    "duration": 0,
    "start_time": "2024-09-18T17:38:11.460Z"
   },
   {
    "duration": 0,
    "start_time": "2024-09-18T17:38:11.461Z"
   },
   {
    "duration": 0,
    "start_time": "2024-09-18T17:38:11.463Z"
   },
   {
    "duration": 0,
    "start_time": "2024-09-18T17:38:11.464Z"
   },
   {
    "duration": 0,
    "start_time": "2024-09-18T17:38:11.514Z"
   },
   {
    "duration": 0,
    "start_time": "2024-09-18T17:38:11.515Z"
   },
   {
    "duration": 0,
    "start_time": "2024-09-18T17:38:11.516Z"
   },
   {
    "duration": 0,
    "start_time": "2024-09-18T17:38:11.516Z"
   },
   {
    "duration": 0,
    "start_time": "2024-09-18T17:38:11.519Z"
   },
   {
    "duration": 0,
    "start_time": "2024-09-18T17:38:11.520Z"
   },
   {
    "duration": 0,
    "start_time": "2024-09-18T17:38:11.521Z"
   },
   {
    "duration": 0,
    "start_time": "2024-09-18T17:38:11.522Z"
   },
   {
    "duration": 0,
    "start_time": "2024-09-18T17:38:11.523Z"
   },
   {
    "duration": 0,
    "start_time": "2024-09-18T17:38:11.524Z"
   },
   {
    "duration": 0,
    "start_time": "2024-09-18T17:38:11.530Z"
   },
   {
    "duration": 0,
    "start_time": "2024-09-18T17:38:11.531Z"
   },
   {
    "duration": 0,
    "start_time": "2024-09-18T17:38:11.532Z"
   },
   {
    "duration": 0,
    "start_time": "2024-09-18T17:38:11.533Z"
   },
   {
    "duration": 0,
    "start_time": "2024-09-18T17:38:11.534Z"
   },
   {
    "duration": 0,
    "start_time": "2024-09-18T17:38:11.535Z"
   },
   {
    "duration": 0,
    "start_time": "2024-09-18T17:38:11.536Z"
   },
   {
    "duration": 0,
    "start_time": "2024-09-18T17:38:11.537Z"
   },
   {
    "duration": 0,
    "start_time": "2024-09-18T17:38:11.538Z"
   },
   {
    "duration": 0,
    "start_time": "2024-09-18T17:38:11.539Z"
   },
   {
    "duration": 0,
    "start_time": "2024-09-18T17:38:11.540Z"
   },
   {
    "duration": 0,
    "start_time": "2024-09-18T17:38:11.541Z"
   },
   {
    "duration": 0,
    "start_time": "2024-09-18T17:38:11.542Z"
   },
   {
    "duration": 0,
    "start_time": "2024-09-18T17:38:11.543Z"
   },
   {
    "duration": 0,
    "start_time": "2024-09-18T17:38:11.544Z"
   },
   {
    "duration": 0,
    "start_time": "2024-09-18T17:38:11.545Z"
   },
   {
    "duration": 0,
    "start_time": "2024-09-18T17:38:11.546Z"
   },
   {
    "duration": 0,
    "start_time": "2024-09-18T17:38:11.547Z"
   },
   {
    "duration": 0,
    "start_time": "2024-09-18T17:38:11.548Z"
   },
   {
    "duration": 0,
    "start_time": "2024-09-18T17:38:11.549Z"
   },
   {
    "duration": 55,
    "start_time": "2024-09-18T17:38:30.337Z"
   },
   {
    "duration": 47,
    "start_time": "2024-09-18T17:38:36.549Z"
   },
   {
    "duration": 45,
    "start_time": "2024-09-18T17:38:55.791Z"
   },
   {
    "duration": 46,
    "start_time": "2024-09-18T17:38:59.048Z"
   },
   {
    "duration": 41,
    "start_time": "2024-09-18T17:39:30.364Z"
   },
   {
    "duration": 45,
    "start_time": "2024-09-18T17:39:43.783Z"
   },
   {
    "duration": 16,
    "start_time": "2024-09-18T17:39:50.124Z"
   },
   {
    "duration": 117,
    "start_time": "2024-09-18T17:41:06.844Z"
   },
   {
    "duration": 293,
    "start_time": "2024-09-18T17:41:28.952Z"
   },
   {
    "duration": 132,
    "start_time": "2024-09-18T17:42:00.507Z"
   },
   {
    "duration": 289,
    "start_time": "2024-09-18T17:42:00.971Z"
   },
   {
    "duration": 2667,
    "start_time": "2024-09-18T17:43:04.427Z"
   },
   {
    "duration": 4163,
    "start_time": "2024-09-18T17:43:07.096Z"
   },
   {
    "duration": 2676,
    "start_time": "2024-09-18T17:43:11.261Z"
   },
   {
    "duration": 3116,
    "start_time": "2024-09-18T17:43:13.939Z"
   },
   {
    "duration": 1358,
    "start_time": "2024-09-18T17:43:17.058Z"
   },
   {
    "duration": 3,
    "start_time": "2024-09-18T17:43:18.419Z"
   },
   {
    "duration": 897,
    "start_time": "2024-09-18T17:43:18.423Z"
   },
   {
    "duration": 172,
    "start_time": "2024-09-18T17:43:19.322Z"
   },
   {
    "duration": 24,
    "start_time": "2024-09-18T17:43:19.495Z"
   },
   {
    "duration": 1533,
    "start_time": "2024-09-18T17:43:19.521Z"
   },
   {
    "duration": 3,
    "start_time": "2024-09-18T17:43:21.056Z"
   },
   {
    "duration": 16,
    "start_time": "2024-09-18T17:43:21.061Z"
   },
   {
    "duration": 359,
    "start_time": "2024-09-18T17:43:21.078Z"
   },
   {
    "duration": 1411,
    "start_time": "2024-09-18T17:43:21.440Z"
   },
   {
    "duration": 482,
    "start_time": "2024-09-18T17:43:22.852Z"
   },
   {
    "duration": 4,
    "start_time": "2024-09-18T17:43:23.337Z"
   },
   {
    "duration": 506,
    "start_time": "2024-09-18T17:43:23.343Z"
   },
   {
    "duration": 3,
    "start_time": "2024-09-18T17:43:23.851Z"
   },
   {
    "duration": 24,
    "start_time": "2024-09-18T17:43:23.855Z"
   },
   {
    "duration": 7,
    "start_time": "2024-09-18T17:43:23.880Z"
   },
   {
    "duration": 285,
    "start_time": "2024-09-18T17:43:23.889Z"
   },
   {
    "duration": 180,
    "start_time": "2024-09-18T17:43:24.175Z"
   },
   {
    "duration": 24,
    "start_time": "2024-09-18T17:43:24.357Z"
   },
   {
    "duration": 231,
    "start_time": "2024-09-18T17:43:24.383Z"
   },
   {
    "duration": 35,
    "start_time": "2024-09-18T17:43:24.617Z"
   },
   {
    "duration": 165,
    "start_time": "2024-09-18T17:43:24.653Z"
   },
   {
    "duration": 283,
    "start_time": "2024-09-18T17:43:24.820Z"
   },
   {
    "duration": 321,
    "start_time": "2024-09-18T17:43:25.104Z"
   },
   {
    "duration": 9,
    "start_time": "2024-09-18T17:43:25.427Z"
   },
   {
    "duration": 15,
    "start_time": "2024-09-18T17:43:25.438Z"
   },
   {
    "duration": 219,
    "start_time": "2024-09-18T17:43:25.455Z"
   },
   {
    "duration": 229,
    "start_time": "2024-09-18T17:43:25.676Z"
   },
   {
    "duration": 20,
    "start_time": "2024-09-18T17:43:25.907Z"
   },
   {
    "duration": 421,
    "start_time": "2024-09-18T17:43:25.930Z"
   },
   {
    "duration": 7,
    "start_time": "2024-09-18T17:43:26.353Z"
   },
   {
    "duration": 305,
    "start_time": "2024-09-18T17:43:26.361Z"
   },
   {
    "duration": 107,
    "start_time": "2024-09-18T17:43:26.668Z"
   },
   {
    "duration": 45,
    "start_time": "2024-09-18T17:43:26.777Z"
   },
   {
    "duration": 171,
    "start_time": "2024-09-18T17:43:26.824Z"
   },
   {
    "duration": 348,
    "start_time": "2024-09-18T17:43:26.997Z"
   },
   {
    "duration": 17,
    "start_time": "2024-09-18T17:43:27.352Z"
   },
   {
    "duration": 229,
    "start_time": "2024-09-18T17:43:27.371Z"
   },
   {
    "duration": 471,
    "start_time": "2024-09-18T17:43:27.602Z"
   },
   {
    "duration": 27,
    "start_time": "2024-09-18T17:43:28.075Z"
   },
   {
    "duration": 165,
    "start_time": "2024-09-18T17:43:28.104Z"
   },
   {
    "duration": 367,
    "start_time": "2024-09-18T17:43:28.271Z"
   },
   {
    "duration": 13,
    "start_time": "2024-09-18T17:43:28.640Z"
   },
   {
    "duration": 45,
    "start_time": "2024-09-18T17:43:28.655Z"
   },
   {
    "duration": 18,
    "start_time": "2024-09-18T17:43:28.701Z"
   },
   {
    "duration": 40,
    "start_time": "2024-09-18T17:43:28.721Z"
   },
   {
    "duration": 4,
    "start_time": "2024-09-18T17:43:28.763Z"
   },
   {
    "duration": 47,
    "start_time": "2024-09-18T17:43:28.768Z"
   },
   {
    "duration": 5,
    "start_time": "2024-09-18T17:43:28.818Z"
   },
   {
    "duration": 126,
    "start_time": "2024-09-18T17:43:28.825Z"
   },
   {
    "duration": 10,
    "start_time": "2024-09-18T17:43:28.953Z"
   },
   {
    "duration": 9,
    "start_time": "2024-09-18T17:43:28.965Z"
   },
   {
    "duration": 21,
    "start_time": "2024-09-18T17:43:28.976Z"
   },
   {
    "duration": 91,
    "start_time": "2024-09-18T17:43:28.999Z"
   },
   {
    "duration": 4,
    "start_time": "2024-09-18T17:43:29.091Z"
   },
   {
    "duration": 5,
    "start_time": "2024-09-18T17:43:29.096Z"
   },
   {
    "duration": 5,
    "start_time": "2024-09-18T17:43:29.114Z"
   },
   {
    "duration": 6,
    "start_time": "2024-09-18T17:43:29.121Z"
   },
   {
    "duration": 2769,
    "start_time": "2024-09-18T18:38:36.860Z"
   },
   {
    "duration": 3255,
    "start_time": "2024-09-18T18:38:39.631Z"
   },
   {
    "duration": 2856,
    "start_time": "2024-09-18T18:38:42.889Z"
   },
   {
    "duration": 3278,
    "start_time": "2024-09-18T18:38:45.747Z"
   },
   {
    "duration": 1347,
    "start_time": "2024-09-18T18:38:49.028Z"
   },
   {
    "duration": 3,
    "start_time": "2024-09-18T18:38:50.377Z"
   },
   {
    "duration": 975,
    "start_time": "2024-09-18T18:38:50.381Z"
   },
   {
    "duration": 169,
    "start_time": "2024-09-18T18:38:51.358Z"
   },
   {
    "duration": 18,
    "start_time": "2024-09-18T18:38:51.531Z"
   },
   {
    "duration": 1408,
    "start_time": "2024-09-18T18:38:51.551Z"
   },
   {
    "duration": 3,
    "start_time": "2024-09-18T18:38:52.960Z"
   },
   {
    "duration": 7,
    "start_time": "2024-09-18T18:38:52.965Z"
   },
   {
    "duration": 413,
    "start_time": "2024-09-18T18:38:52.973Z"
   },
   {
    "duration": 1455,
    "start_time": "2024-09-18T18:38:53.389Z"
   },
   {
    "duration": 476,
    "start_time": "2024-09-18T18:38:54.845Z"
   },
   {
    "duration": 5,
    "start_time": "2024-09-18T18:38:55.325Z"
   },
   {
    "duration": 505,
    "start_time": "2024-09-18T18:38:55.333Z"
   },
   {
    "duration": 3,
    "start_time": "2024-09-18T18:38:55.840Z"
   },
   {
    "duration": 4,
    "start_time": "2024-09-18T18:38:55.845Z"
   },
   {
    "duration": 4,
    "start_time": "2024-09-18T18:38:55.851Z"
   },
   {
    "duration": 325,
    "start_time": "2024-09-18T18:38:55.856Z"
   },
   {
    "duration": 175,
    "start_time": "2024-09-18T18:38:56.183Z"
   },
   {
    "duration": 23,
    "start_time": "2024-09-18T18:38:56.359Z"
   },
   {
    "duration": 225,
    "start_time": "2024-09-18T18:38:56.383Z"
   },
   {
    "duration": 38,
    "start_time": "2024-09-18T18:38:56.609Z"
   },
   {
    "duration": 152,
    "start_time": "2024-09-18T18:38:56.649Z"
   },
   {
    "duration": 285,
    "start_time": "2024-09-18T18:38:56.802Z"
   },
   {
    "duration": 319,
    "start_time": "2024-09-18T18:38:57.089Z"
   },
   {
    "duration": 14,
    "start_time": "2024-09-18T18:38:57.410Z"
   },
   {
    "duration": 198,
    "start_time": "2024-09-18T18:38:57.426Z"
   },
   {
    "duration": 232,
    "start_time": "2024-09-18T18:38:57.633Z"
   },
   {
    "duration": 9,
    "start_time": "2024-09-18T18:38:57.866Z"
   },
   {
    "duration": 325,
    "start_time": "2024-09-18T18:38:57.876Z"
   },
   {
    "duration": 13,
    "start_time": "2024-09-18T18:38:58.202Z"
   },
   {
    "duration": 294,
    "start_time": "2024-09-18T18:38:58.216Z"
   },
   {
    "duration": 48,
    "start_time": "2024-09-18T18:38:58.512Z"
   },
   {
    "duration": 197,
    "start_time": "2024-09-18T18:38:58.562Z"
   },
   {
    "duration": 353,
    "start_time": "2024-09-18T18:38:58.761Z"
   },
   {
    "duration": 21,
    "start_time": "2024-09-18T18:38:59.122Z"
   },
   {
    "duration": 145,
    "start_time": "2024-09-18T18:38:59.144Z"
   },
   {
    "duration": 473,
    "start_time": "2024-09-18T18:38:59.294Z"
   },
   {
    "duration": 30,
    "start_time": "2024-09-18T18:38:59.769Z"
   },
   {
    "duration": 178,
    "start_time": "2024-09-18T18:38:59.800Z"
   },
   {
    "duration": 365,
    "start_time": "2024-09-18T18:38:59.980Z"
   },
   {
    "duration": 31,
    "start_time": "2024-09-18T18:39:00.347Z"
   },
   {
    "duration": 11,
    "start_time": "2024-09-18T18:39:00.379Z"
   },
   {
    "duration": 48,
    "start_time": "2024-09-18T18:39:00.391Z"
   },
   {
    "duration": 4,
    "start_time": "2024-09-18T18:39:00.441Z"
   },
   {
    "duration": 58,
    "start_time": "2024-09-18T18:39:00.446Z"
   },
   {
    "duration": 4,
    "start_time": "2024-09-18T18:39:00.506Z"
   },
   {
    "duration": 107,
    "start_time": "2024-09-18T18:39:00.511Z"
   },
   {
    "duration": 21,
    "start_time": "2024-09-18T18:39:00.622Z"
   },
   {
    "duration": 10,
    "start_time": "2024-09-18T18:39:00.644Z"
   },
   {
    "duration": 26,
    "start_time": "2024-09-18T18:39:00.655Z"
   },
   {
    "duration": 91,
    "start_time": "2024-09-18T18:39:00.683Z"
   },
   {
    "duration": 3,
    "start_time": "2024-09-18T18:39:00.775Z"
   },
   {
    "duration": 21,
    "start_time": "2024-09-18T18:39:00.780Z"
   },
   {
    "duration": 3,
    "start_time": "2024-09-18T18:39:00.803Z"
   },
   {
    "duration": 6,
    "start_time": "2024-09-18T18:39:00.808Z"
   },
   {
    "duration": 227,
    "start_time": "2024-09-18T18:39:00.815Z"
   },
   {
    "duration": 9,
    "start_time": "2024-09-18T18:39:01.044Z"
   },
   {
    "duration": 0,
    "start_time": "2024-09-18T18:39:01.054Z"
   },
   {
    "duration": 0,
    "start_time": "2024-09-18T18:39:01.055Z"
   },
   {
    "duration": 1,
    "start_time": "2024-09-18T18:39:01.056Z"
   },
   {
    "duration": 0,
    "start_time": "2024-09-18T18:39:01.057Z"
   },
   {
    "duration": 0,
    "start_time": "2024-09-18T18:39:01.058Z"
   },
   {
    "duration": 0,
    "start_time": "2024-09-18T18:39:01.059Z"
   },
   {
    "duration": 0,
    "start_time": "2024-09-18T18:39:01.060Z"
   },
   {
    "duration": 0,
    "start_time": "2024-09-18T18:39:01.061Z"
   },
   {
    "duration": 0,
    "start_time": "2024-09-18T18:39:01.062Z"
   },
   {
    "duration": 0,
    "start_time": "2024-09-18T18:39:01.063Z"
   },
   {
    "duration": 0,
    "start_time": "2024-09-18T18:39:01.064Z"
   },
   {
    "duration": 0,
    "start_time": "2024-09-18T18:39:01.065Z"
   },
   {
    "duration": 0,
    "start_time": "2024-09-18T18:39:01.066Z"
   },
   {
    "duration": 0,
    "start_time": "2024-09-18T18:39:01.067Z"
   },
   {
    "duration": 0,
    "start_time": "2024-09-18T18:39:01.068Z"
   },
   {
    "duration": 0,
    "start_time": "2024-09-18T18:39:01.069Z"
   },
   {
    "duration": 0,
    "start_time": "2024-09-18T18:39:01.070Z"
   },
   {
    "duration": 2,
    "start_time": "2024-09-18T18:39:25.100Z"
   },
   {
    "duration": 3,
    "start_time": "2024-09-18T18:39:26.507Z"
   },
   {
    "duration": 1715089,
    "start_time": "2024-09-18T18:39:27.262Z"
   },
   {
    "duration": 10,
    "start_time": "2024-09-18T19:08:02.353Z"
   },
   {
    "duration": 0,
    "start_time": "2024-09-18T19:08:02.365Z"
   },
   {
    "duration": 174,
    "start_time": "2024-09-18T19:15:03.735Z"
   },
   {
    "duration": 11,
    "start_time": "2024-09-18T19:15:05.780Z"
   },
   {
    "duration": 5,
    "start_time": "2024-09-18T19:15:10.962Z"
   },
   {
    "duration": 5,
    "start_time": "2024-09-18T19:15:17.436Z"
   },
   {
    "duration": 22257,
    "start_time": "2024-09-18T19:15:17.795Z"
   },
   {
    "duration": 223,
    "start_time": "2024-09-18T19:15:40.054Z"
   },
   {
    "duration": 5,
    "start_time": "2024-09-18T19:15:40.278Z"
   },
   {
    "duration": 4,
    "start_time": "2024-09-18T19:15:57.325Z"
   },
   {
    "duration": 3,
    "start_time": "2024-09-18T19:15:57.649Z"
   },
   {
    "duration": 3,
    "start_time": "2024-09-18T19:15:58.101Z"
   },
   {
    "duration": 221496,
    "start_time": "2024-09-18T19:15:58.856Z"
   },
   {
    "duration": 0,
    "start_time": "2024-09-18T19:19:40.366Z"
   },
   {
    "duration": 0,
    "start_time": "2024-09-18T19:19:40.367Z"
   },
   {
    "duration": 154,
    "start_time": "2024-09-18T19:20:45.089Z"
   },
   {
    "duration": 5,
    "start_time": "2024-09-18T19:20:45.394Z"
   },
   {
    "duration": 3,
    "start_time": "2024-09-18T19:20:49.374Z"
   },
   {
    "duration": 3,
    "start_time": "2024-09-18T19:20:50.798Z"
   },
   {
    "duration": 3,
    "start_time": "2024-09-18T19:20:51.361Z"
   },
   {
    "duration": 4,
    "start_time": "2024-09-18T19:20:52.340Z"
   },
   {
    "duration": 898889,
    "start_time": "2024-09-18T19:21:02.536Z"
   },
   {
    "duration": 10,
    "start_time": "2024-09-18T19:36:01.426Z"
   },
   {
    "duration": 876,
    "start_time": "2024-09-18T19:36:01.438Z"
   },
   {
    "duration": 3,
    "start_time": "2024-09-18T19:47:22.431Z"
   },
   {
    "duration": 900,
    "start_time": "2024-09-18T20:05:43.433Z"
   },
   {
    "duration": 868,
    "start_time": "2024-09-18T20:06:01.066Z"
   },
   {
    "duration": 5,
    "start_time": "2024-09-18T20:06:05.278Z"
   },
   {
    "duration": 157,
    "start_time": "2024-09-18T20:06:39.297Z"
   },
   {
    "duration": 4,
    "start_time": "2024-09-18T20:06:41.473Z"
   },
   {
    "duration": 155,
    "start_time": "2024-09-18T20:07:01.680Z"
   },
   {
    "duration": 2,
    "start_time": "2024-09-18T20:08:02.671Z"
   },
   {
    "duration": 150,
    "start_time": "2024-09-18T20:10:51.953Z"
   },
   {
    "duration": 5,
    "start_time": "2024-09-18T20:10:55.199Z"
   },
   {
    "duration": 164,
    "start_time": "2024-09-18T20:10:58.032Z"
   },
   {
    "duration": 5,
    "start_time": "2024-09-18T20:10:58.544Z"
   },
   {
    "duration": 898,
    "start_time": "2024-09-18T20:11:08.216Z"
   },
   {
    "duration": 6,
    "start_time": "2024-09-18T20:11:09.116Z"
   },
   {
    "duration": 3,
    "start_time": "2024-09-18T20:25:45.842Z"
   },
   {
    "duration": 2402,
    "start_time": "2024-09-18T21:02:12.515Z"
   },
   {
    "duration": 3001,
    "start_time": "2024-09-18T21:02:14.919Z"
   },
   {
    "duration": 2325,
    "start_time": "2024-09-18T21:02:17.921Z"
   },
   {
    "duration": 2700,
    "start_time": "2024-09-18T21:02:20.249Z"
   },
   {
    "duration": 1192,
    "start_time": "2024-09-18T21:02:22.951Z"
   },
   {
    "duration": 3,
    "start_time": "2024-09-18T21:02:24.144Z"
   },
   {
    "duration": 876,
    "start_time": "2024-09-18T21:02:24.148Z"
   },
   {
    "duration": 149,
    "start_time": "2024-09-18T21:02:25.026Z"
   },
   {
    "duration": 15,
    "start_time": "2024-09-18T21:02:25.177Z"
   },
   {
    "duration": 1259,
    "start_time": "2024-09-18T21:02:25.195Z"
   },
   {
    "duration": 2,
    "start_time": "2024-09-18T21:02:26.456Z"
   },
   {
    "duration": 10,
    "start_time": "2024-09-18T21:02:26.459Z"
   },
   {
    "duration": 335,
    "start_time": "2024-09-18T21:02:26.470Z"
   },
   {
    "duration": 1211,
    "start_time": "2024-09-18T21:02:26.807Z"
   },
   {
    "duration": 427,
    "start_time": "2024-09-18T21:02:28.020Z"
   },
   {
    "duration": 4,
    "start_time": "2024-09-18T21:02:28.448Z"
   },
   {
    "duration": 469,
    "start_time": "2024-09-18T21:02:28.454Z"
   },
   {
    "duration": 4,
    "start_time": "2024-09-18T21:02:28.924Z"
   },
   {
    "duration": 3,
    "start_time": "2024-09-18T21:02:28.929Z"
   },
   {
    "duration": 8,
    "start_time": "2024-09-18T21:02:28.934Z"
   },
   {
    "duration": 273,
    "start_time": "2024-09-18T21:02:28.943Z"
   },
   {
    "duration": 147,
    "start_time": "2024-09-18T21:02:29.217Z"
   },
   {
    "duration": 26,
    "start_time": "2024-09-18T21:02:29.366Z"
   },
   {
    "duration": 199,
    "start_time": "2024-09-18T21:02:29.394Z"
   },
   {
    "duration": 27,
    "start_time": "2024-09-18T21:02:29.594Z"
   },
   {
    "duration": 144,
    "start_time": "2024-09-18T21:02:29.622Z"
   },
   {
    "duration": 246,
    "start_time": "2024-09-18T21:02:29.768Z"
   },
   {
    "duration": 287,
    "start_time": "2024-09-18T21:02:30.019Z"
   },
   {
    "duration": 8,
    "start_time": "2024-09-18T21:02:30.313Z"
   },
   {
    "duration": 224,
    "start_time": "2024-09-18T21:02:30.323Z"
   },
   {
    "duration": 210,
    "start_time": "2024-09-18T21:02:30.549Z"
   },
   {
    "duration": 8,
    "start_time": "2024-09-18T21:02:30.761Z"
   },
   {
    "duration": 411,
    "start_time": "2024-09-18T21:02:30.771Z"
   },
   {
    "duration": 8,
    "start_time": "2024-09-18T21:02:31.183Z"
   },
   {
    "duration": 273,
    "start_time": "2024-09-18T21:02:31.192Z"
   },
   {
    "duration": 38,
    "start_time": "2024-09-18T21:02:31.466Z"
   },
   {
    "duration": 161,
    "start_time": "2024-09-18T21:02:31.513Z"
   },
   {
    "duration": 414,
    "start_time": "2024-09-18T21:02:31.676Z"
   },
   {
    "duration": 26,
    "start_time": "2024-09-18T21:02:32.091Z"
   },
   {
    "duration": 134,
    "start_time": "2024-09-18T21:02:32.118Z"
   },
   {
    "duration": 374,
    "start_time": "2024-09-18T21:02:32.253Z"
   },
   {
    "duration": 30,
    "start_time": "2024-09-18T21:02:32.628Z"
   },
   {
    "duration": 159,
    "start_time": "2024-09-18T21:02:32.659Z"
   },
   {
    "duration": 348,
    "start_time": "2024-09-18T21:02:32.820Z"
   },
   {
    "duration": 30,
    "start_time": "2024-09-18T21:02:33.170Z"
   },
   {
    "duration": 22,
    "start_time": "2024-09-18T21:02:33.202Z"
   },
   {
    "duration": 41,
    "start_time": "2024-09-18T21:02:33.225Z"
   },
   {
    "duration": 8,
    "start_time": "2024-09-18T21:02:33.267Z"
   },
   {
    "duration": 46,
    "start_time": "2024-09-18T21:02:33.276Z"
   },
   {
    "duration": 4,
    "start_time": "2024-09-18T21:02:33.323Z"
   },
   {
    "duration": 124,
    "start_time": "2024-09-18T21:02:33.328Z"
   },
   {
    "duration": 11,
    "start_time": "2024-09-18T21:02:33.453Z"
   },
   {
    "duration": 31,
    "start_time": "2024-09-18T21:02:33.465Z"
   },
   {
    "duration": 44,
    "start_time": "2024-09-18T21:02:33.497Z"
   },
   {
    "duration": 93,
    "start_time": "2024-09-18T21:02:33.543Z"
   },
   {
    "duration": 3,
    "start_time": "2024-09-18T21:02:33.637Z"
   },
   {
    "duration": 19,
    "start_time": "2024-09-18T21:02:33.642Z"
   },
   {
    "duration": 27764,
    "start_time": "2024-09-18T21:02:33.662Z"
   },
   {
    "duration": 3,
    "start_time": "2024-09-18T21:03:01.427Z"
   },
   {
    "duration": 22,
    "start_time": "2024-09-18T21:03:01.432Z"
   },
   {
    "duration": 5,
    "start_time": "2024-09-18T21:03:01.455Z"
   },
   {
    "duration": 325970,
    "start_time": "2024-09-18T21:03:01.461Z"
   },
   {
    "duration": 3,
    "start_time": "2024-09-18T21:08:27.432Z"
   },
   {
    "duration": 20,
    "start_time": "2024-09-18T21:08:27.436Z"
   },
   {
    "duration": 13,
    "start_time": "2024-09-18T21:08:27.457Z"
   },
   {
    "duration": 401864,
    "start_time": "2024-09-18T21:08:27.471Z"
   },
   {
    "duration": 9,
    "start_time": "2024-09-18T21:15:09.337Z"
   },
   {
    "duration": 171,
    "start_time": "2024-09-18T21:15:09.348Z"
   },
   {
    "duration": 5,
    "start_time": "2024-09-18T21:15:09.520Z"
   },
   {
    "duration": 152,
    "start_time": "2024-09-18T21:15:09.526Z"
   },
   {
    "duration": 5,
    "start_time": "2024-09-18T21:15:09.679Z"
   },
   {
    "duration": 833,
    "start_time": "2024-09-18T21:15:09.685Z"
   },
   {
    "duration": 5,
    "start_time": "2024-09-18T21:15:10.520Z"
   },
   {
    "duration": 3308,
    "start_time": "2024-09-19T10:40:29.092Z"
   },
   {
    "duration": 6471,
    "start_time": "2024-09-19T10:40:32.403Z"
   },
   {
    "duration": 3089,
    "start_time": "2024-09-19T10:40:38.875Z"
   },
   {
    "duration": 3890,
    "start_time": "2024-09-19T10:40:41.966Z"
   },
   {
    "duration": 1308,
    "start_time": "2024-09-19T10:40:45.858Z"
   },
   {
    "duration": 2,
    "start_time": "2024-09-19T10:40:47.168Z"
   },
   {
    "duration": 2859,
    "start_time": "2024-09-19T10:40:47.171Z"
   },
   {
    "duration": 96,
    "start_time": "2024-09-19T10:40:50.032Z"
   },
   {
    "duration": 14,
    "start_time": "2024-09-19T10:40:50.130Z"
   },
   {
    "duration": 1264,
    "start_time": "2024-09-19T10:40:50.145Z"
   },
   {
    "duration": 3,
    "start_time": "2024-09-19T10:40:51.411Z"
   },
   {
    "duration": 22,
    "start_time": "2024-09-19T10:40:51.416Z"
   },
   {
    "duration": 317,
    "start_time": "2024-09-19T10:40:51.439Z"
   },
   {
    "duration": 1097,
    "start_time": "2024-09-19T10:40:51.759Z"
   },
   {
    "duration": 362,
    "start_time": "2024-09-19T10:40:52.858Z"
   },
   {
    "duration": 4,
    "start_time": "2024-09-19T10:40:53.221Z"
   },
   {
    "duration": 425,
    "start_time": "2024-09-19T10:40:53.227Z"
   },
   {
    "duration": 3,
    "start_time": "2024-09-19T10:40:53.654Z"
   },
   {
    "duration": 38,
    "start_time": "2024-09-19T10:40:53.658Z"
   },
   {
    "duration": 34,
    "start_time": "2024-09-19T10:40:53.697Z"
   },
   {
    "duration": 264,
    "start_time": "2024-09-19T10:40:53.732Z"
   },
   {
    "duration": 117,
    "start_time": "2024-09-19T10:40:53.997Z"
   },
   {
    "duration": 21,
    "start_time": "2024-09-19T10:40:54.116Z"
   },
   {
    "duration": 159,
    "start_time": "2024-09-19T10:40:54.138Z"
   },
   {
    "duration": 24,
    "start_time": "2024-09-19T10:40:54.298Z"
   },
   {
    "duration": 122,
    "start_time": "2024-09-19T10:40:54.323Z"
   },
   {
    "duration": 205,
    "start_time": "2024-09-19T10:40:54.446Z"
   },
   {
    "duration": 230,
    "start_time": "2024-09-19T10:40:54.652Z"
   },
   {
    "duration": 7,
    "start_time": "2024-09-19T10:40:54.884Z"
   },
   {
    "duration": 225,
    "start_time": "2024-09-19T10:40:54.893Z"
   },
   {
    "duration": 184,
    "start_time": "2024-09-19T10:40:55.119Z"
   },
   {
    "duration": 7,
    "start_time": "2024-09-19T10:40:55.306Z"
   },
   {
    "duration": 265,
    "start_time": "2024-09-19T10:40:55.314Z"
   },
   {
    "duration": 6,
    "start_time": "2024-09-19T10:40:55.580Z"
   },
   {
    "duration": 262,
    "start_time": "2024-09-19T10:40:55.587Z"
   },
   {
    "duration": 32,
    "start_time": "2024-09-19T10:40:55.851Z"
   },
   {
    "duration": 120,
    "start_time": "2024-09-19T10:40:55.884Z"
   },
   {
    "duration": 338,
    "start_time": "2024-09-19T10:40:56.007Z"
   },
   {
    "duration": 11,
    "start_time": "2024-09-19T10:40:56.346Z"
   },
   {
    "duration": 153,
    "start_time": "2024-09-19T10:40:56.358Z"
   },
   {
    "duration": 392,
    "start_time": "2024-09-19T10:40:56.515Z"
   },
   {
    "duration": 26,
    "start_time": "2024-09-19T10:40:56.908Z"
   },
   {
    "duration": 129,
    "start_time": "2024-09-19T10:40:56.936Z"
   },
   {
    "duration": 316,
    "start_time": "2024-09-19T10:40:57.067Z"
   },
   {
    "duration": 40,
    "start_time": "2024-09-19T10:40:57.385Z"
   },
   {
    "duration": 10,
    "start_time": "2024-09-19T10:40:57.426Z"
   },
   {
    "duration": 23,
    "start_time": "2024-09-19T10:40:57.437Z"
   },
   {
    "duration": 8,
    "start_time": "2024-09-19T10:40:57.461Z"
   },
   {
    "duration": 43,
    "start_time": "2024-09-19T10:40:57.470Z"
   },
   {
    "duration": 4,
    "start_time": "2024-09-19T10:40:57.514Z"
   },
   {
    "duration": 77,
    "start_time": "2024-09-19T10:40:57.520Z"
   },
   {
    "duration": 13,
    "start_time": "2024-09-19T10:40:57.598Z"
   },
   {
    "duration": 18,
    "start_time": "2024-09-19T10:40:57.612Z"
   },
   {
    "duration": 28,
    "start_time": "2024-09-19T10:40:57.631Z"
   },
   {
    "duration": 58,
    "start_time": "2024-09-19T10:40:57.661Z"
   },
   {
    "duration": 3,
    "start_time": "2024-09-19T10:40:57.721Z"
   },
   {
    "duration": 31,
    "start_time": "2024-09-19T10:40:57.726Z"
   },
   {
    "duration": 26453,
    "start_time": "2024-09-19T10:40:57.759Z"
   },
   {
    "duration": 3,
    "start_time": "2024-09-19T10:41:24.213Z"
   },
   {
    "duration": 31,
    "start_time": "2024-09-19T10:41:24.217Z"
   },
   {
    "duration": 3,
    "start_time": "2024-09-19T10:41:24.307Z"
   },
   {
    "duration": 77999,
    "start_time": "2024-09-19T10:41:24.311Z"
   },
   {
    "duration": 3,
    "start_time": "2024-09-19T10:42:42.312Z"
   },
   {
    "duration": 31,
    "start_time": "2024-09-19T10:42:42.316Z"
   },
   {
    "duration": 14,
    "start_time": "2024-09-19T10:42:42.348Z"
   },
   {
    "duration": 23107,
    "start_time": "2024-09-19T10:42:42.363Z"
   },
   {
    "duration": 12,
    "start_time": "2024-09-19T10:43:05.472Z"
   },
   {
    "duration": 0,
    "start_time": "2024-09-19T10:43:05.485Z"
   },
   {
    "duration": 0,
    "start_time": "2024-09-19T10:43:05.486Z"
   },
   {
    "duration": 0,
    "start_time": "2024-09-19T10:43:05.487Z"
   },
   {
    "duration": 0,
    "start_time": "2024-09-19T10:43:05.488Z"
   },
   {
    "duration": 0,
    "start_time": "2024-09-19T10:43:05.489Z"
   },
   {
    "duration": 0,
    "start_time": "2024-09-19T10:43:05.490Z"
   },
   {
    "duration": 212,
    "start_time": "2024-09-19T10:44:47.959Z"
   },
   {
    "duration": 171,
    "start_time": "2024-09-19T10:44:55.333Z"
   },
   {
    "duration": 179,
    "start_time": "2024-09-19T10:45:31.376Z"
   },
   {
    "duration": 183,
    "start_time": "2024-09-19T10:48:37.839Z"
   },
   {
    "duration": 23,
    "start_time": "2024-09-19T10:50:07.805Z"
   },
   {
    "duration": 4,
    "start_time": "2024-09-19T10:50:13.488Z"
   },
   {
    "duration": 15,
    "start_time": "2024-09-19T10:50:42.509Z"
   },
   {
    "duration": 5,
    "start_time": "2024-09-19T10:50:49.226Z"
   },
   {
    "duration": 6,
    "start_time": "2024-09-19T10:50:53.538Z"
   },
   {
    "duration": 5,
    "start_time": "2024-09-19T10:51:31.718Z"
   },
   {
    "duration": 6,
    "start_time": "2024-09-19T10:51:35.978Z"
   },
   {
    "duration": 6,
    "start_time": "2024-09-19T10:51:42.912Z"
   },
   {
    "duration": 5,
    "start_time": "2024-09-19T10:51:48.180Z"
   },
   {
    "duration": 4,
    "start_time": "2024-09-19T10:51:53.122Z"
   },
   {
    "duration": 5,
    "start_time": "2024-09-19T10:52:02.921Z"
   },
   {
    "duration": 38,
    "start_time": "2024-09-19T10:53:42.806Z"
   },
   {
    "duration": 3,
    "start_time": "2024-09-19T10:53:44.122Z"
   },
   {
    "duration": 3,
    "start_time": "2024-09-19T10:56:37.896Z"
   },
   {
    "duration": 2,
    "start_time": "2024-09-19T10:56:38.213Z"
   },
   {
    "duration": 670,
    "start_time": "2024-09-19T10:56:40.364Z"
   },
   {
    "duration": 98,
    "start_time": "2024-09-19T10:56:43.119Z"
   },
   {
    "duration": 11,
    "start_time": "2024-09-19T10:56:45.370Z"
   },
   {
    "duration": 1135,
    "start_time": "2024-09-19T10:56:48.754Z"
   },
   {
    "duration": 1058,
    "start_time": "2024-09-19T10:59:55.627Z"
   },
   {
    "duration": 311,
    "start_time": "2024-09-19T11:00:00.241Z"
   },
   {
    "duration": 4,
    "start_time": "2024-09-19T11:00:03.131Z"
   },
   {
    "duration": 342,
    "start_time": "2024-09-19T11:00:04.535Z"
   },
   {
    "duration": 3,
    "start_time": "2024-09-19T11:00:05.662Z"
   },
   {
    "duration": 3,
    "start_time": "2024-09-19T11:00:10.885Z"
   },
   {
    "duration": 3,
    "start_time": "2024-09-19T11:00:11.294Z"
   },
   {
    "duration": 211,
    "start_time": "2024-09-19T11:00:14.674Z"
   },
   {
    "duration": 26,
    "start_time": "2024-09-19T11:01:21.866Z"
   },
   {
    "duration": 17,
    "start_time": "2024-09-19T11:01:46.326Z"
   },
   {
    "duration": 21,
    "start_time": "2024-09-19T11:02:10.795Z"
   },
   {
    "duration": 21,
    "start_time": "2024-09-19T11:02:49.770Z"
   },
   {
    "duration": 18,
    "start_time": "2024-09-19T11:03:43.670Z"
   },
   {
    "duration": 30,
    "start_time": "2024-09-19T11:05:11.050Z"
   },
   {
    "duration": 18,
    "start_time": "2024-09-19T11:05:23.258Z"
   },
   {
    "duration": 3,
    "start_time": "2024-09-19T11:06:03.549Z"
   },
   {
    "duration": 4,
    "start_time": "2024-09-19T11:06:03.959Z"
   },
   {
    "duration": 151,
    "start_time": "2024-09-19T11:06:06.849Z"
   },
   {
    "duration": 141,
    "start_time": "2024-09-19T11:06:20.754Z"
   },
   {
    "duration": 4,
    "start_time": "2024-09-19T11:06:44.815Z"
   },
   {
    "duration": 3,
    "start_time": "2024-09-19T11:06:45.225Z"
   },
   {
    "duration": 152,
    "start_time": "2024-09-19T11:06:47.478Z"
   },
   {
    "duration": 117,
    "start_time": "2024-09-19T11:06:51.574Z"
   },
   {
    "duration": 3231,
    "start_time": "2024-09-19T12:35:29.269Z"
   },
   {
    "duration": 6491,
    "start_time": "2024-09-19T12:35:32.501Z"
   },
   {
    "duration": 3025,
    "start_time": "2024-09-19T12:35:38.994Z"
   },
   {
    "duration": 3793,
    "start_time": "2024-09-19T12:35:42.021Z"
   },
   {
    "duration": 1484,
    "start_time": "2024-09-19T12:39:04.363Z"
   },
   {
    "duration": 3,
    "start_time": "2024-09-19T12:39:05.849Z"
   },
   {
    "duration": 1192,
    "start_time": "2024-09-19T12:39:08.067Z"
   },
   {
    "duration": 141,
    "start_time": "2024-09-19T12:39:12.915Z"
   },
   {
    "duration": 19,
    "start_time": "2024-09-19T12:39:15.416Z"
   },
   {
    "duration": 229,
    "start_time": "2024-09-19T12:41:58.147Z"
   },
   {
    "duration": 1406,
    "start_time": "2024-09-19T12:42:10.319Z"
   },
   {
    "duration": 1181,
    "start_time": "2024-09-19T12:42:28.303Z"
   },
   {
    "duration": 2,
    "start_time": "2024-09-19T12:43:43.028Z"
   },
   {
    "duration": 2,
    "start_time": "2024-09-19T12:43:43.723Z"
   },
   {
    "duration": 337,
    "start_time": "2024-09-19T12:44:19.117Z"
   },
   {
    "duration": 262,
    "start_time": "2024-09-19T12:44:25.471Z"
   },
   {
    "duration": 1214,
    "start_time": "2024-09-19T12:44:28.848Z"
   },
   {
    "duration": 1109,
    "start_time": "2024-09-19T12:44:48.555Z"
   },
   {
    "duration": 579,
    "start_time": "2024-09-19T12:45:35.669Z"
   },
   {
    "duration": 503,
    "start_time": "2024-09-19T12:48:05.009Z"
   },
   {
    "duration": 18,
    "start_time": "2024-09-19T12:48:17.760Z"
   },
   {
    "duration": 195,
    "start_time": "2024-09-19T12:48:40.699Z"
   },
   {
    "duration": 7,
    "start_time": "2024-09-19T12:50:47.168Z"
   },
   {
    "duration": 199,
    "start_time": "2024-09-19T12:51:13.239Z"
   },
   {
    "duration": 610,
    "start_time": "2024-09-19T12:51:35.151Z"
   },
   {
    "duration": 3,
    "start_time": "2024-09-19T12:51:39.097Z"
   },
   {
    "duration": 805,
    "start_time": "2024-09-19T12:51:39.773Z"
   },
   {
    "duration": 7,
    "start_time": "2024-09-19T12:51:40.581Z"
   },
   {
    "duration": 5,
    "start_time": "2024-09-19T12:55:40.024Z"
   },
   {
    "duration": 3,
    "start_time": "2024-09-19T12:55:40.617Z"
   },
   {
    "duration": 857,
    "start_time": "2024-09-19T12:55:42.595Z"
   },
   {
    "duration": 140,
    "start_time": "2024-09-19T12:55:45.096Z"
   },
   {
    "duration": 14,
    "start_time": "2024-09-19T12:55:46.977Z"
   },
   {
    "duration": 1217,
    "start_time": "2024-09-19T12:55:52.968Z"
   },
   {
    "duration": 3,
    "start_time": "2024-09-19T12:55:58.898Z"
   },
   {
    "duration": 3,
    "start_time": "2024-09-19T12:55:59.449Z"
   },
   {
    "duration": 274,
    "start_time": "2024-09-19T12:56:12.604Z"
   },
   {
    "duration": 1258,
    "start_time": "2024-09-19T12:56:15.217Z"
   },
   {
    "duration": 6,
    "start_time": "2024-09-19T13:30:00.637Z"
   },
   {
    "duration": 3,
    "start_time": "2024-09-19T13:30:01.169Z"
   },
   {
    "duration": 907,
    "start_time": "2024-09-19T13:30:02.726Z"
   },
   {
    "duration": 153,
    "start_time": "2024-09-19T13:30:05.096Z"
   },
   {
    "duration": 13,
    "start_time": "2024-09-19T13:30:07.065Z"
   },
   {
    "duration": 1186,
    "start_time": "2024-09-19T13:30:09.595Z"
   },
   {
    "duration": 197,
    "start_time": "2024-09-19T13:30:15.674Z"
   },
   {
    "duration": 320,
    "start_time": "2024-09-19T13:30:59.097Z"
   },
   {
    "duration": 1425,
    "start_time": "2024-09-19T13:31:10.562Z"
   },
   {
    "duration": 1274,
    "start_time": "2024-09-19T13:31:20.015Z"
   },
   {
    "duration": 489,
    "start_time": "2024-09-19T13:32:12.643Z"
   },
   {
    "duration": 3,
    "start_time": "2024-09-19T13:32:43.937Z"
   },
   {
    "duration": 435,
    "start_time": "2024-09-19T13:32:44.850Z"
   },
   {
    "duration": 3,
    "start_time": "2024-09-19T13:32:45.287Z"
   },
   {
    "duration": 117,
    "start_time": "2024-09-19T13:35:00.413Z"
   },
   {
    "duration": 3,
    "start_time": "2024-09-19T13:35:05.948Z"
   },
   {
    "duration": 3,
    "start_time": "2024-09-19T13:35:06.217Z"
   },
   {
    "duration": 175,
    "start_time": "2024-09-19T13:35:08.599Z"
   },
   {
    "duration": 3,
    "start_time": "2024-09-19T13:35:21.676Z"
   },
   {
    "duration": 4,
    "start_time": "2024-09-19T13:35:21.988Z"
   },
   {
    "duration": 365,
    "start_time": "2024-09-19T13:35:24.153Z"
   },
   {
    "duration": 249,
    "start_time": "2024-09-19T13:36:07.000Z"
   },
   {
    "duration": 20,
    "start_time": "2024-09-19T13:36:32.990Z"
   },
   {
    "duration": 207,
    "start_time": "2024-09-19T13:36:49.932Z"
   },
   {
    "duration": 19,
    "start_time": "2024-09-19T13:37:33.294Z"
   },
   {
    "duration": 126,
    "start_time": "2024-09-19T13:37:34.799Z"
   },
   {
    "duration": 132,
    "start_time": "2024-09-19T13:38:38.701Z"
   },
   {
    "duration": 302,
    "start_time": "2024-09-19T13:38:50.775Z"
   },
   {
    "duration": 214,
    "start_time": "2024-09-19T13:39:12.316Z"
   },
   {
    "duration": 233,
    "start_time": "2024-09-19T13:39:29.690Z"
   },
   {
    "duration": 3210,
    "start_time": "2024-09-19T15:04:15.302Z"
   },
   {
    "duration": 6592,
    "start_time": "2024-09-19T15:04:18.515Z"
   },
   {
    "duration": 3323,
    "start_time": "2024-09-19T15:04:25.109Z"
   },
   {
    "duration": 4230,
    "start_time": "2024-09-19T15:04:28.435Z"
   },
   {
    "duration": 1538,
    "start_time": "2024-09-19T15:04:33.204Z"
   },
   {
    "duration": 3,
    "start_time": "2024-09-19T15:04:34.744Z"
   },
   {
    "duration": 2887,
    "start_time": "2024-09-19T15:04:34.784Z"
   },
   {
    "duration": 152,
    "start_time": "2024-09-19T15:04:41.190Z"
   },
   {
    "duration": 17,
    "start_time": "2024-09-19T15:04:43.235Z"
   },
   {
    "duration": 1549,
    "start_time": "2024-09-19T15:04:46.439Z"
   },
   {
    "duration": 254,
    "start_time": "2024-09-19T15:04:53.800Z"
   },
   {
    "duration": 3,
    "start_time": "2024-09-19T15:04:55.059Z"
   },
   {
    "duration": 3,
    "start_time": "2024-09-19T15:04:55.416Z"
   },
   {
    "duration": 388,
    "start_time": "2024-09-19T15:04:55.945Z"
   },
   {
    "duration": 1316,
    "start_time": "2024-09-19T15:05:24.854Z"
   },
   {
    "duration": 180,
    "start_time": "2024-09-19T15:06:12.997Z"
   },
   {
    "duration": 24,
    "start_time": "2024-09-19T15:06:23.046Z"
   },
   {
    "duration": 164,
    "start_time": "2024-09-19T15:06:43.370Z"
   },
   {
    "duration": 3,
    "start_time": "2024-09-19T15:06:44.539Z"
   },
   {
    "duration": 4,
    "start_time": "2024-09-19T15:06:45.528Z"
   },
   {
    "duration": 376,
    "start_time": "2024-09-19T15:07:00.646Z"
   },
   {
    "duration": 1334,
    "start_time": "2024-09-19T15:07:10.678Z"
   },
   {
    "duration": 574,
    "start_time": "2024-09-19T15:07:33.231Z"
   },
   {
    "duration": 3,
    "start_time": "2024-09-19T15:07:53.450Z"
   },
   {
    "duration": 592,
    "start_time": "2024-09-19T15:07:53.878Z"
   },
   {
    "duration": 5,
    "start_time": "2024-09-19T15:07:54.472Z"
   },
   {
    "duration": 120,
    "start_time": "2024-09-19T15:08:05.886Z"
   },
   {
    "duration": 4,
    "start_time": "2024-09-19T15:08:10.134Z"
   },
   {
    "duration": 4,
    "start_time": "2024-09-19T15:08:10.184Z"
   },
   {
    "duration": 179,
    "start_time": "2024-09-19T15:08:12.551Z"
   },
   {
    "duration": 377,
    "start_time": "2024-09-19T15:08:30.977Z"
   },
   {
    "duration": 177,
    "start_time": "2024-09-19T15:08:47.010Z"
   },
   {
    "duration": 148,
    "start_time": "2024-09-19T15:08:55.077Z"
   },
   {
    "duration": 21,
    "start_time": "2024-09-19T15:09:01.225Z"
   },
   {
    "duration": 240,
    "start_time": "2024-09-19T15:09:22.526Z"
   },
   {
    "duration": 30,
    "start_time": "2024-09-19T15:09:35.038Z"
   },
   {
    "duration": 138,
    "start_time": "2024-09-19T15:09:39.104Z"
   },
   {
    "duration": 261,
    "start_time": "2024-09-19T15:10:14.361Z"
   },
   {
    "duration": 342,
    "start_time": "2024-09-19T15:10:48.760Z"
   },
   {
    "duration": 262,
    "start_time": "2024-09-19T15:11:05.315Z"
   },
   {
    "duration": 10,
    "start_time": "2024-09-19T15:11:12.777Z"
   },
   {
    "duration": 186,
    "start_time": "2024-09-19T15:11:19.984Z"
   },
   {
    "duration": 227,
    "start_time": "2024-09-19T15:11:26.622Z"
   },
   {
    "duration": 10,
    "start_time": "2024-09-19T15:11:59.236Z"
   },
   {
    "duration": 336,
    "start_time": "2024-09-19T15:12:28.011Z"
   },
   {
    "duration": 7,
    "start_time": "2024-09-19T15:12:51.608Z"
   },
   {
    "duration": 308,
    "start_time": "2024-09-19T15:13:27.600Z"
   },
   {
    "duration": 34,
    "start_time": "2024-09-19T15:13:31.859Z"
   },
   {
    "duration": 139,
    "start_time": "2024-09-19T15:13:41.939Z"
   },
   {
    "duration": 357,
    "start_time": "2024-09-19T15:13:43.215Z"
   },
   {
    "duration": 12,
    "start_time": "2024-09-19T15:13:49.361Z"
   },
   {
    "duration": 120,
    "start_time": "2024-09-19T15:13:54.680Z"
   },
   {
    "duration": 393,
    "start_time": "2024-09-19T15:14:02.316Z"
   },
   {
    "duration": 26,
    "start_time": "2024-09-19T15:14:06.870Z"
   },
   {
    "duration": 111,
    "start_time": "2024-09-19T15:14:12.271Z"
   },
   {
    "duration": 316,
    "start_time": "2024-09-19T15:14:14.663Z"
   },
   {
    "duration": 33,
    "start_time": "2024-09-19T15:15:08.180Z"
   },
   {
    "duration": 11,
    "start_time": "2024-09-19T15:15:35.593Z"
   },
   {
    "duration": 11,
    "start_time": "2024-09-19T15:15:36.163Z"
   },
   {
    "duration": 15,
    "start_time": "2024-09-19T15:15:49.908Z"
   },
   {
    "duration": 16,
    "start_time": "2024-09-19T15:16:05.646Z"
   },
   {
    "duration": 140,
    "start_time": "2024-09-19T15:18:27.491Z"
   },
   {
    "duration": 13,
    "start_time": "2024-09-19T15:18:50.439Z"
   },
   {
    "duration": 6,
    "start_time": "2024-09-19T15:18:55.266Z"
   },
   {
    "duration": 22,
    "start_time": "2024-09-19T15:29:06.191Z"
   },
   {
    "duration": 33,
    "start_time": "2024-09-19T15:29:22.779Z"
   },
   {
    "duration": 26,
    "start_time": "2024-09-19T15:29:34.149Z"
   },
   {
    "duration": 33,
    "start_time": "2024-09-19T15:29:57.128Z"
   },
   {
    "duration": 31,
    "start_time": "2024-09-19T15:30:13.877Z"
   },
   {
    "duration": 76,
    "start_time": "2024-09-19T15:30:27.063Z"
   },
   {
    "duration": 11,
    "start_time": "2024-09-19T15:30:30.411Z"
   },
   {
    "duration": 13,
    "start_time": "2024-09-19T15:32:54.414Z"
   },
   {
    "duration": 12,
    "start_time": "2024-09-19T15:33:08.863Z"
   },
   {
    "duration": 1097,
    "start_time": "2024-09-19T15:41:15.159Z"
   },
   {
    "duration": 20,
    "start_time": "2024-09-19T15:41:32.833Z"
   },
   {
    "duration": 6,
    "start_time": "2024-09-19T15:41:42.592Z"
   },
   {
    "duration": 59,
    "start_time": "2024-09-19T15:42:37.104Z"
   },
   {
    "duration": 15,
    "start_time": "2024-09-19T15:42:45.111Z"
   },
   {
    "duration": 74,
    "start_time": "2024-09-19T15:42:57.375Z"
   },
   {
    "duration": 95,
    "start_time": "2024-09-19T15:43:33.015Z"
   },
   {
    "duration": 86,
    "start_time": "2024-09-19T15:43:49.854Z"
   },
   {
    "duration": 132,
    "start_time": "2024-09-19T15:44:11.138Z"
   },
   {
    "duration": 36,
    "start_time": "2024-09-19T15:44:43.770Z"
   },
   {
    "duration": 20,
    "start_time": "2024-09-19T15:45:19.252Z"
   },
   {
    "duration": 8,
    "start_time": "2024-09-19T15:46:03.288Z"
   },
   {
    "duration": 8,
    "start_time": "2024-09-19T15:46:11.714Z"
   },
   {
    "duration": 11,
    "start_time": "2024-09-19T15:46:24.251Z"
   },
   {
    "duration": 31,
    "start_time": "2024-09-19T15:46:31.020Z"
   },
   {
    "duration": 4,
    "start_time": "2024-09-19T15:48:25.081Z"
   },
   {
    "duration": 16,
    "start_time": "2024-09-19T15:49:09.362Z"
   },
   {
    "duration": 26,
    "start_time": "2024-09-19T15:49:56.932Z"
   },
   {
    "duration": 14,
    "start_time": "2024-09-19T15:50:20.834Z"
   },
   {
    "duration": 88,
    "start_time": "2024-09-19T15:51:03.325Z"
   },
   {
    "duration": 26,
    "start_time": "2024-09-19T15:52:53.765Z"
   },
   {
    "duration": 5,
    "start_time": "2024-09-19T15:52:54.060Z"
   },
   {
    "duration": 11,
    "start_time": "2024-09-19T15:53:22.624Z"
   },
   {
    "duration": 25,
    "start_time": "2024-09-19T15:58:32.812Z"
   },
   {
    "duration": 4,
    "start_time": "2024-09-19T15:58:49.853Z"
   },
   {
    "duration": 5,
    "start_time": "2024-09-19T15:59:23.179Z"
   },
   {
    "duration": 4,
    "start_time": "2024-09-19T15:59:54.590Z"
   },
   {
    "duration": 3,
    "start_time": "2024-09-19T16:00:33.886Z"
   },
   {
    "duration": 4,
    "start_time": "2024-09-19T16:00:44.131Z"
   },
   {
    "duration": 5,
    "start_time": "2024-09-19T16:01:19.149Z"
   },
   {
    "duration": 5,
    "start_time": "2024-09-19T16:01:28.352Z"
   },
   {
    "duration": 126,
    "start_time": "2024-09-19T16:03:29.725Z"
   },
   {
    "duration": 197,
    "start_time": "2024-09-19T16:04:13.747Z"
   },
   {
    "duration": 164,
    "start_time": "2024-09-19T16:07:27.263Z"
   },
   {
    "duration": 6,
    "start_time": "2024-09-19T16:07:28.138Z"
   },
   {
    "duration": 26,
    "start_time": "2024-09-19T16:12:02.031Z"
   },
   {
    "duration": 4,
    "start_time": "2024-09-19T16:12:43.327Z"
   },
   {
    "duration": 2,
    "start_time": "2024-09-19T16:12:44.564Z"
   },
   {
    "duration": 895,
    "start_time": "2024-09-19T16:12:46.815Z"
   },
   {
    "duration": 177,
    "start_time": "2024-09-19T16:12:49.686Z"
   },
   {
    "duration": 20,
    "start_time": "2024-09-19T16:12:52.184Z"
   },
   {
    "duration": 1313,
    "start_time": "2024-09-19T16:12:55.488Z"
   },
   {
    "duration": 160,
    "start_time": "2024-09-19T16:13:05.070Z"
   },
   {
    "duration": 2,
    "start_time": "2024-09-19T16:13:05.465Z"
   },
   {
    "duration": 3,
    "start_time": "2024-09-19T16:13:05.807Z"
   },
   {
    "duration": 339,
    "start_time": "2024-09-19T16:13:06.244Z"
   },
   {
    "duration": 1819,
    "start_time": "2024-09-19T16:13:09.662Z"
   },
   {
    "duration": 1364,
    "start_time": "2024-09-19T16:13:11.484Z"
   },
   {
    "duration": 553,
    "start_time": "2024-09-19T16:13:18.267Z"
   },
   {
    "duration": 4,
    "start_time": "2024-09-19T16:13:19.784Z"
   },
   {
    "duration": 505,
    "start_time": "2024-09-19T16:13:20.092Z"
   },
   {
    "duration": 4,
    "start_time": "2024-09-19T16:13:20.599Z"
   },
   {
    "duration": 4,
    "start_time": "2024-09-19T16:13:24.264Z"
   },
   {
    "duration": 5,
    "start_time": "2024-09-19T16:13:24.573Z"
   },
   {
    "duration": 186,
    "start_time": "2024-09-19T16:13:27.495Z"
   },
   {
    "duration": 155,
    "start_time": "2024-09-19T16:13:33.604Z"
   },
   {
    "duration": 21,
    "start_time": "2024-09-19T16:13:36.764Z"
   },
   {
    "duration": 231,
    "start_time": "2024-09-19T16:13:38.927Z"
   },
   {
    "duration": 27,
    "start_time": "2024-09-19T16:13:43.096Z"
   },
   {
    "duration": 137,
    "start_time": "2024-09-19T16:13:45.974Z"
   },
   {
    "duration": 284,
    "start_time": "2024-09-19T16:13:48.464Z"
   },
   {
    "duration": 284,
    "start_time": "2024-09-19T16:13:52.348Z"
   },
   {
    "duration": 8,
    "start_time": "2024-09-19T16:13:56.728Z"
   },
   {
    "duration": 291,
    "start_time": "2024-09-19T16:14:07.900Z"
   },
   {
    "duration": 200,
    "start_time": "2024-09-19T16:14:10.928Z"
   },
   {
    "duration": 10,
    "start_time": "2024-09-19T16:14:15.961Z"
   },
   {
    "duration": 290,
    "start_time": "2024-09-19T16:14:19.044Z"
   },
   {
    "duration": 9,
    "start_time": "2024-09-19T16:14:21.053Z"
   },
   {
    "duration": 268,
    "start_time": "2024-09-19T16:14:24.845Z"
   },
   {
    "duration": 32,
    "start_time": "2024-09-19T16:14:26.415Z"
   },
   {
    "duration": 153,
    "start_time": "2024-09-19T16:14:28.341Z"
   },
   {
    "duration": 358,
    "start_time": "2024-09-19T16:14:28.693Z"
   },
   {
    "duration": 12,
    "start_time": "2024-09-19T16:14:31.725Z"
   },
   {
    "duration": 128,
    "start_time": "2024-09-19T16:14:32.628Z"
   },
   {
    "duration": 354,
    "start_time": "2024-09-19T16:14:33.256Z"
   },
   {
    "duration": 35,
    "start_time": "2024-09-19T16:14:36.394Z"
   },
   {
    "duration": 113,
    "start_time": "2024-09-19T16:14:37.321Z"
   },
   {
    "duration": 351,
    "start_time": "2024-09-19T16:14:37.645Z"
   },
   {
    "duration": 25,
    "start_time": "2024-09-19T16:14:58.784Z"
   },
   {
    "duration": 11,
    "start_time": "2024-09-19T16:15:02.303Z"
   },
   {
    "duration": 10,
    "start_time": "2024-09-19T16:15:02.810Z"
   },
   {
    "duration": 131,
    "start_time": "2024-09-19T16:15:06.796Z"
   },
   {
    "duration": 4,
    "start_time": "2024-09-19T16:15:07.170Z"
   },
   {
    "duration": 86,
    "start_time": "2024-09-19T16:15:11.391Z"
   },
   {
    "duration": 4,
    "start_time": "2024-09-19T16:15:11.805Z"
   },
   {
    "duration": 27,
    "start_time": "2024-09-19T16:15:12.509Z"
   },
   {
    "duration": 32,
    "start_time": "2024-09-19T16:15:12.913Z"
   },
   {
    "duration": 6,
    "start_time": "2024-09-19T16:15:14.876Z"
   },
   {
    "duration": 11,
    "start_time": "2024-09-19T16:15:33.415Z"
   },
   {
    "duration": 23,
    "start_time": "2024-09-19T16:15:34.564Z"
   },
   {
    "duration": 172,
    "start_time": "2024-09-19T16:15:37.991Z"
   },
   {
    "duration": 169,
    "start_time": "2024-09-19T16:15:39.675Z"
   },
   {
    "duration": 5,
    "start_time": "2024-09-19T16:15:40.009Z"
   },
   {
    "duration": 3,
    "start_time": "2024-09-19T16:15:42.988Z"
   },
   {
    "duration": 16,
    "start_time": "2024-09-19T16:15:48.539Z"
   },
   {
    "duration": 4,
    "start_time": "2024-09-19T16:16:08.553Z"
   },
   {
    "duration": 4,
    "start_time": "2024-09-19T16:16:49.433Z"
   },
   {
    "duration": 3134,
    "start_time": "2024-09-19T17:34:39.365Z"
   },
   {
    "duration": 6416,
    "start_time": "2024-09-19T17:34:42.501Z"
   },
   {
    "duration": 3096,
    "start_time": "2024-09-19T17:34:48.919Z"
   },
   {
    "duration": 3991,
    "start_time": "2024-09-19T17:34:52.017Z"
   },
   {
    "duration": 44,
    "start_time": "2024-09-19T17:41:12.527Z"
   },
   {
    "duration": 1419,
    "start_time": "2024-09-19T17:41:30.857Z"
   },
   {
    "duration": 3,
    "start_time": "2024-09-19T17:41:33.929Z"
   },
   {
    "duration": 1113,
    "start_time": "2024-09-19T17:41:35.613Z"
   },
   {
    "duration": 148,
    "start_time": "2024-09-19T17:41:37.759Z"
   },
   {
    "duration": 16,
    "start_time": "2024-09-19T17:41:39.458Z"
   },
   {
    "duration": 1414,
    "start_time": "2024-09-19T17:41:42.444Z"
   },
   {
    "duration": 178,
    "start_time": "2024-09-19T17:41:52.305Z"
   },
   {
    "duration": 3,
    "start_time": "2024-09-19T17:41:52.841Z"
   },
   {
    "duration": 3,
    "start_time": "2024-09-19T17:41:53.256Z"
   },
   {
    "duration": 351,
    "start_time": "2024-09-19T17:41:57.009Z"
   },
   {
    "duration": 1352,
    "start_time": "2024-09-19T17:42:00.041Z"
   },
   {
    "duration": 1204,
    "start_time": "2024-09-19T17:42:02.702Z"
   },
   {
    "duration": 579,
    "start_time": "2024-09-19T17:42:07.105Z"
   },
   {
    "duration": 4,
    "start_time": "2024-09-19T17:42:07.823Z"
   },
   {
    "duration": 499,
    "start_time": "2024-09-19T17:42:08.130Z"
   },
   {
    "duration": 4,
    "start_time": "2024-09-19T17:42:09.052Z"
   },
   {
    "duration": 4,
    "start_time": "2024-09-19T17:42:11.203Z"
   },
   {
    "duration": 4,
    "start_time": "2024-09-19T17:42:11.613Z"
   },
   {
    "duration": 185,
    "start_time": "2024-09-19T17:42:14.173Z"
   },
   {
    "duration": 134,
    "start_time": "2024-09-19T17:42:17.118Z"
   },
   {
    "duration": 23,
    "start_time": "2024-09-19T17:42:18.878Z"
   },
   {
    "duration": 213,
    "start_time": "2024-09-19T17:42:20.419Z"
   },
   {
    "duration": 22,
    "start_time": "2024-09-19T17:42:22.794Z"
   },
   {
    "duration": 143,
    "start_time": "2024-09-19T17:42:24.310Z"
   },
   {
    "duration": 243,
    "start_time": "2024-09-19T17:42:26.358Z"
   },
   {
    "duration": 265,
    "start_time": "2024-09-19T17:42:32.975Z"
   },
   {
    "duration": 7,
    "start_time": "2024-09-19T17:42:35.371Z"
   },
   {
    "duration": 188,
    "start_time": "2024-09-19T17:42:40.283Z"
   },
   {
    "duration": 308,
    "start_time": "2024-09-19T17:42:43.444Z"
   },
   {
    "duration": 8,
    "start_time": "2024-09-19T17:42:46.611Z"
   },
   {
    "duration": 272,
    "start_time": "2024-09-19T17:42:48.281Z"
   },
   {
    "duration": 7,
    "start_time": "2024-09-19T17:42:51.307Z"
   },
   {
    "duration": 260,
    "start_time": "2024-09-19T17:42:53.185Z"
   },
   {
    "duration": 31,
    "start_time": "2024-09-19T17:42:55.336Z"
   },
   {
    "duration": 82,
    "start_time": "2024-09-19T17:42:57.077Z"
   },
   {
    "duration": 130,
    "start_time": "2024-09-19T17:43:02.506Z"
   },
   {
    "duration": 319,
    "start_time": "2024-09-19T17:43:02.916Z"
   },
   {
    "duration": 11,
    "start_time": "2024-09-19T17:43:06.191Z"
   },
   {
    "duration": 108,
    "start_time": "2024-09-19T17:43:07.624Z"
   },
   {
    "duration": 350,
    "start_time": "2024-09-19T17:43:08.340Z"
   },
   {
    "duration": 25,
    "start_time": "2024-09-19T17:43:16.533Z"
   },
   {
    "duration": 116,
    "start_time": "2024-09-19T17:43:17.352Z"
   },
   {
    "duration": 337,
    "start_time": "2024-09-19T17:43:17.856Z"
   },
   {
    "duration": 35,
    "start_time": "2024-09-19T17:43:21.231Z"
   },
   {
    "duration": 11,
    "start_time": "2024-09-19T17:43:24.431Z"
   },
   {
    "duration": 11,
    "start_time": "2024-09-19T17:43:24.932Z"
   },
   {
    "duration": 136,
    "start_time": "2024-09-19T17:43:27.389Z"
   },
   {
    "duration": 4,
    "start_time": "2024-09-19T17:43:27.839Z"
   },
   {
    "duration": 85,
    "start_time": "2024-09-19T17:43:31.383Z"
   },
   {
    "duration": 5,
    "start_time": "2024-09-19T17:43:31.716Z"
   },
   {
    "duration": 32,
    "start_time": "2024-09-19T17:43:32.303Z"
   },
   {
    "duration": 4,
    "start_time": "2024-09-19T17:43:34.044Z"
   },
   {
    "duration": 10,
    "start_time": "2024-09-19T17:43:37.319Z"
   },
   {
    "duration": 23,
    "start_time": "2024-09-19T17:43:38.960Z"
   },
   {
    "duration": 152,
    "start_time": "2024-09-19T17:43:42.235Z"
   },
   {
    "duration": 163,
    "start_time": "2024-09-19T17:43:43.771Z"
   },
   {
    "duration": 4,
    "start_time": "2024-09-19T17:43:44.283Z"
   },
   {
    "duration": 3,
    "start_time": "2024-09-19T17:43:47.356Z"
   },
   {
    "duration": 14,
    "start_time": "2024-09-19T17:45:34.362Z"
   },
   {
    "duration": 4,
    "start_time": "2024-09-19T17:45:36.821Z"
   },
   {
    "duration": 14,
    "start_time": "2024-09-19T17:47:42.669Z"
   },
   {
    "duration": 17,
    "start_time": "2024-09-19T17:47:51.116Z"
   },
   {
    "duration": 16,
    "start_time": "2024-09-19T17:47:55.981Z"
   },
   {
    "duration": 16,
    "start_time": "2024-09-19T17:48:07.859Z"
   },
   {
    "duration": 74,
    "start_time": "2024-09-19T17:49:17.185Z"
   },
   {
    "duration": 3,
    "start_time": "2024-09-19T17:49:27.528Z"
   },
   {
    "duration": 3,
    "start_time": "2024-09-19T17:49:39.122Z"
   },
   {
    "duration": 934,
    "start_time": "2024-09-19T17:49:50.474Z"
   },
   {
    "duration": 3,
    "start_time": "2024-09-19T17:50:25.996Z"
   },
   {
    "duration": 2,
    "start_time": "2024-09-19T17:50:28.966Z"
   },
   {
    "duration": 3,
    "start_time": "2024-09-19T17:50:31.425Z"
   },
   {
    "duration": 47583,
    "start_time": "2024-09-19T17:50:34.173Z"
   },
   {
    "duration": 4,
    "start_time": "2024-09-19T17:51:42.093Z"
   },
   {
    "duration": 3,
    "start_time": "2024-09-19T17:51:43.515Z"
   },
   {
    "duration": 3,
    "start_time": "2024-09-19T17:51:45.593Z"
   },
   {
    "duration": 617233,
    "start_time": "2024-09-19T17:51:45.971Z"
   },
   {
    "duration": 108,
    "start_time": "2024-09-19T18:02:39.487Z"
   },
   {
    "duration": 13,
    "start_time": "2024-09-19T18:10:27.248Z"
   },
   {
    "duration": 4,
    "start_time": "2024-09-19T18:17:12.446Z"
   },
   {
    "duration": 11,
    "start_time": "2024-09-19T18:22:11.467Z"
   },
   {
    "duration": 4,
    "start_time": "2024-09-19T18:22:47.494Z"
   },
   {
    "duration": 4251,
    "start_time": "2024-09-19T18:22:51.283Z"
   },
   {
    "duration": 10,
    "start_time": "2024-09-19T18:24:48.940Z"
   },
   {
    "duration": 4,
    "start_time": "2024-09-19T18:26:07.276Z"
   },
   {
    "duration": 3,
    "start_time": "2024-09-19T18:26:10.555Z"
   },
   {
    "duration": 4283,
    "start_time": "2024-09-19T18:26:10.963Z"
   },
   {
    "duration": 10,
    "start_time": "2024-09-19T18:31:27.787Z"
   },
   {
    "duration": 3,
    "start_time": "2024-09-19T18:31:39.259Z"
   },
   {
    "duration": 45356,
    "start_time": "2024-09-19T18:31:40.077Z"
   },
   {
    "duration": 3,
    "start_time": "2024-09-19T18:34:41.337Z"
   },
   {
    "duration": 3,
    "start_time": "2024-09-19T18:34:45.111Z"
   },
   {
    "duration": 3,
    "start_time": "2024-09-19T18:34:45.623Z"
   },
   {
    "duration": 458075,
    "start_time": "2024-09-19T18:35:45.041Z"
   },
   {
    "duration": 3,
    "start_time": "2024-09-19T18:43:50.392Z"
   },
   {
    "duration": 4,
    "start_time": "2024-09-19T18:44:13.431Z"
   },
   {
    "duration": 3,
    "start_time": "2024-09-19T18:45:22.251Z"
   },
   {
    "duration": 9,
    "start_time": "2024-09-19T18:46:09.874Z"
   },
   {
    "duration": 8,
    "start_time": "2024-09-19T18:46:26.447Z"
   },
   {
    "duration": 254,
    "start_time": "2024-09-19T18:46:31.647Z"
   },
   {
    "duration": 457,
    "start_time": "2024-09-19T18:47:01.572Z"
   },
   {
    "duration": 6,
    "start_time": "2024-09-19T18:47:02.907Z"
   },
   {
    "duration": 419678,
    "start_time": "2024-09-19T18:47:26.044Z"
   },
   {
    "duration": 9,
    "start_time": "2024-09-19T19:19:21.838Z"
   },
   {
    "duration": 11790,
    "start_time": "2024-09-19T19:19:38.938Z"
   },
   {
    "duration": 5,
    "start_time": "2024-09-19T19:19:50.815Z"
   },
   {
    "duration": 13,
    "start_time": "2024-09-19T19:36:15.496Z"
   },
   {
    "duration": 4,
    "start_time": "2024-09-19T19:36:20.812Z"
   },
   {
    "duration": 9,
    "start_time": "2024-09-19T19:49:28.274Z"
   },
   {
    "duration": 2795,
    "start_time": "2024-09-19T19:49:36.569Z"
   },
   {
    "duration": 3460,
    "start_time": "2024-09-19T19:50:19.698Z"
   },
   {
    "duration": 4096,
    "start_time": "2024-09-19T19:50:23.166Z"
   },
   {
    "duration": 11,
    "start_time": "2024-09-19T19:50:47.333Z"
   },
   {
    "duration": 2765,
    "start_time": "2024-09-19T19:51:13.850Z"
   },
   {
    "duration": 9,
    "start_time": "2024-09-19T19:51:21.530Z"
   },
   {
    "duration": 2864,
    "start_time": "2024-09-19T19:53:31.476Z"
   },
   {
    "duration": 2413,
    "start_time": "2024-09-19T20:00:26.323Z"
   },
   {
    "duration": 2823,
    "start_time": "2024-09-19T20:00:28.739Z"
   },
   {
    "duration": 2798,
    "start_time": "2024-09-19T20:00:31.563Z"
   },
   {
    "duration": 1191,
    "start_time": "2024-09-19T20:00:34.364Z"
   },
   {
    "duration": 2,
    "start_time": "2024-09-19T20:00:35.556Z"
   },
   {
    "duration": 881,
    "start_time": "2024-09-19T20:00:35.559Z"
   },
   {
    "duration": 139,
    "start_time": "2024-09-19T20:00:36.442Z"
   },
   {
    "duration": 15,
    "start_time": "2024-09-19T20:00:36.583Z"
   },
   {
    "duration": 1311,
    "start_time": "2024-09-19T20:00:36.599Z"
   },
   {
    "duration": 163,
    "start_time": "2024-09-19T20:00:37.913Z"
   },
   {
    "duration": 3,
    "start_time": "2024-09-19T20:00:38.078Z"
   },
   {
    "duration": 25,
    "start_time": "2024-09-19T20:00:38.082Z"
   },
   {
    "duration": 345,
    "start_time": "2024-09-19T20:00:38.108Z"
   },
   {
    "duration": 1261,
    "start_time": "2024-09-19T20:00:38.455Z"
   },
   {
    "duration": 1178,
    "start_time": "2024-09-19T20:00:39.718Z"
   },
   {
    "duration": 552,
    "start_time": "2024-09-19T20:00:40.898Z"
   },
   {
    "duration": 4,
    "start_time": "2024-09-19T20:00:41.451Z"
   },
   {
    "duration": 513,
    "start_time": "2024-09-19T20:00:41.456Z"
   },
   {
    "duration": 3,
    "start_time": "2024-09-19T20:00:41.971Z"
   },
   {
    "duration": 6,
    "start_time": "2024-09-19T20:00:41.976Z"
   },
   {
    "duration": 8,
    "start_time": "2024-09-19T20:00:41.984Z"
   },
   {
    "duration": 191,
    "start_time": "2024-09-19T20:00:41.994Z"
   },
   {
    "duration": 159,
    "start_time": "2024-09-19T20:00:42.187Z"
   },
   {
    "duration": 20,
    "start_time": "2024-09-19T20:00:42.347Z"
   },
   {
    "duration": 228,
    "start_time": "2024-09-19T20:00:42.368Z"
   },
   {
    "duration": 23,
    "start_time": "2024-09-19T20:00:42.598Z"
   },
   {
    "duration": 134,
    "start_time": "2024-09-19T20:00:42.622Z"
   },
   {
    "duration": 270,
    "start_time": "2024-09-19T20:00:42.759Z"
   },
   {
    "duration": 270,
    "start_time": "2024-09-19T20:00:43.030Z"
   },
   {
    "duration": 15,
    "start_time": "2024-09-19T20:00:43.302Z"
   },
   {
    "duration": 250,
    "start_time": "2024-09-19T20:00:43.318Z"
   },
   {
    "duration": 193,
    "start_time": "2024-09-19T20:00:43.570Z"
   },
   {
    "duration": 8,
    "start_time": "2024-09-19T20:00:43.764Z"
   },
   {
    "duration": 374,
    "start_time": "2024-09-19T20:00:43.774Z"
   },
   {
    "duration": 6,
    "start_time": "2024-09-19T20:00:44.150Z"
   },
   {
    "duration": 302,
    "start_time": "2024-09-19T20:00:44.157Z"
   },
   {
    "duration": 28,
    "start_time": "2024-09-19T20:00:44.460Z"
   },
   {
    "duration": 135,
    "start_time": "2024-09-19T20:00:44.489Z"
   },
   {
    "duration": 313,
    "start_time": "2024-09-19T20:00:44.626Z"
   },
   {
    "duration": 11,
    "start_time": "2024-09-19T20:00:44.940Z"
   },
   {
    "duration": 121,
    "start_time": "2024-09-19T20:00:44.953Z"
   },
   {
    "duration": 372,
    "start_time": "2024-09-19T20:00:45.076Z"
   },
   {
    "duration": 24,
    "start_time": "2024-09-19T20:00:45.449Z"
   },
   {
    "duration": 119,
    "start_time": "2024-09-19T20:00:45.475Z"
   },
   {
    "duration": 305,
    "start_time": "2024-09-19T20:00:45.596Z"
   },
   {
    "duration": 41,
    "start_time": "2024-09-19T20:00:45.902Z"
   },
   {
    "duration": 10,
    "start_time": "2024-09-19T20:00:45.944Z"
   },
   {
    "duration": 29,
    "start_time": "2024-09-19T20:00:45.955Z"
   },
   {
    "duration": 139,
    "start_time": "2024-09-19T20:00:45.986Z"
   },
   {
    "duration": 4,
    "start_time": "2024-09-19T20:00:46.126Z"
   },
   {
    "duration": 90,
    "start_time": "2024-09-19T20:00:46.131Z"
   },
   {
    "duration": 5,
    "start_time": "2024-09-19T20:00:46.222Z"
   },
   {
    "duration": 75,
    "start_time": "2024-09-19T20:00:46.228Z"
   },
   {
    "duration": 4,
    "start_time": "2024-09-19T20:00:46.305Z"
   },
   {
    "duration": 17,
    "start_time": "2024-09-19T20:00:46.310Z"
   },
   {
    "duration": 21,
    "start_time": "2024-09-19T20:00:46.328Z"
   },
   {
    "duration": 146,
    "start_time": "2024-09-19T20:00:46.351Z"
   },
   {
    "duration": 161,
    "start_time": "2024-09-19T20:00:46.499Z"
   },
   {
    "duration": 4,
    "start_time": "2024-09-19T20:00:46.661Z"
   },
   {
    "duration": 11,
    "start_time": "2024-09-19T20:00:46.667Z"
   },
   {
    "duration": 16,
    "start_time": "2024-09-19T20:00:46.679Z"
   },
   {
    "duration": 3,
    "start_time": "2024-09-19T20:00:46.697Z"
   },
   {
    "duration": 82,
    "start_time": "2024-09-19T20:00:46.701Z"
   },
   {
    "duration": 3,
    "start_time": "2024-09-19T20:00:46.785Z"
   },
   {
    "duration": 3,
    "start_time": "2024-09-19T20:00:46.789Z"
   },
   {
    "duration": 4550,
    "start_time": "2024-09-19T20:00:46.794Z"
   },
   {
    "duration": 3,
    "start_time": "2024-09-19T20:00:51.345Z"
   },
   {
    "duration": 45,
    "start_time": "2024-09-19T20:00:51.350Z"
   },
   {
    "duration": 45210,
    "start_time": "2024-09-19T20:00:51.414Z"
   },
   {
    "duration": 87,
    "start_time": "2024-09-19T20:01:36.626Z"
   },
   {
    "duration": 4,
    "start_time": "2024-09-19T20:01:36.716Z"
   },
   {
    "duration": 215,
    "start_time": "2024-09-19T20:01:36.722Z"
   },
   {
    "duration": 0,
    "start_time": "2024-09-19T20:01:36.938Z"
   },
   {
    "duration": 0,
    "start_time": "2024-09-19T20:01:36.939Z"
   },
   {
    "duration": 0,
    "start_time": "2024-09-19T20:01:36.940Z"
   },
   {
    "duration": 0,
    "start_time": "2024-09-19T20:01:36.942Z"
   },
   {
    "duration": 2423,
    "start_time": "2024-09-19T20:02:17.309Z"
   },
   {
    "duration": 2823,
    "start_time": "2024-09-19T20:02:19.735Z"
   },
   {
    "duration": 2724,
    "start_time": "2024-09-19T20:02:22.560Z"
   },
   {
    "duration": 1248,
    "start_time": "2024-09-19T20:02:25.286Z"
   },
   {
    "duration": 3,
    "start_time": "2024-09-19T20:02:26.535Z"
   },
   {
    "duration": 831,
    "start_time": "2024-09-19T20:02:26.539Z"
   },
   {
    "duration": 153,
    "start_time": "2024-09-19T20:02:27.372Z"
   },
   {
    "duration": 14,
    "start_time": "2024-09-19T20:02:27.527Z"
   },
   {
    "duration": 1212,
    "start_time": "2024-09-19T20:02:27.542Z"
   },
   {
    "duration": 153,
    "start_time": "2024-09-19T20:02:28.756Z"
   },
   {
    "duration": 3,
    "start_time": "2024-09-19T20:02:28.914Z"
   },
   {
    "duration": 15,
    "start_time": "2024-09-19T20:02:28.918Z"
   },
   {
    "duration": 315,
    "start_time": "2024-09-19T20:02:28.934Z"
   },
   {
    "duration": 1266,
    "start_time": "2024-09-19T20:02:29.250Z"
   },
   {
    "duration": 1196,
    "start_time": "2024-09-19T20:02:30.518Z"
   },
   {
    "duration": 565,
    "start_time": "2024-09-19T20:02:31.716Z"
   },
   {
    "duration": 3,
    "start_time": "2024-09-19T20:02:32.283Z"
   },
   {
    "duration": 535,
    "start_time": "2024-09-19T20:02:32.287Z"
   },
   {
    "duration": 4,
    "start_time": "2024-09-19T20:02:32.823Z"
   },
   {
    "duration": 29,
    "start_time": "2024-09-19T20:02:32.828Z"
   },
   {
    "duration": 13,
    "start_time": "2024-09-19T20:02:32.858Z"
   },
   {
    "duration": 201,
    "start_time": "2024-09-19T20:02:32.873Z"
   },
   {
    "duration": 142,
    "start_time": "2024-09-19T20:02:33.076Z"
   },
   {
    "duration": 21,
    "start_time": "2024-09-19T20:02:33.220Z"
   },
   {
    "duration": 251,
    "start_time": "2024-09-19T20:02:33.242Z"
   },
   {
    "duration": 29,
    "start_time": "2024-09-19T20:02:33.494Z"
   },
   {
    "duration": 141,
    "start_time": "2024-09-19T20:02:33.525Z"
   },
   {
    "duration": 250,
    "start_time": "2024-09-19T20:02:33.670Z"
   },
   {
    "duration": 295,
    "start_time": "2024-09-19T20:02:33.921Z"
   },
   {
    "duration": 6,
    "start_time": "2024-09-19T20:02:34.218Z"
   },
   {
    "duration": 253,
    "start_time": "2024-09-19T20:02:34.225Z"
   },
   {
    "duration": 188,
    "start_time": "2024-09-19T20:02:34.480Z"
   },
   {
    "duration": 8,
    "start_time": "2024-09-19T20:02:34.670Z"
   },
   {
    "duration": 363,
    "start_time": "2024-09-19T20:02:34.680Z"
   },
   {
    "duration": 6,
    "start_time": "2024-09-19T20:02:35.044Z"
   },
   {
    "duration": 318,
    "start_time": "2024-09-19T20:02:35.052Z"
   },
   {
    "duration": 30,
    "start_time": "2024-09-19T20:02:35.372Z"
   },
   {
    "duration": 136,
    "start_time": "2024-09-19T20:02:35.403Z"
   },
   {
    "duration": 320,
    "start_time": "2024-09-19T20:02:35.540Z"
   },
   {
    "duration": 11,
    "start_time": "2024-09-19T20:02:35.862Z"
   },
   {
    "duration": 193,
    "start_time": "2024-09-19T20:02:35.875Z"
   },
   {
    "duration": 364,
    "start_time": "2024-09-19T20:02:36.069Z"
   },
   {
    "duration": 25,
    "start_time": "2024-09-19T20:02:36.435Z"
   },
   {
    "duration": 116,
    "start_time": "2024-09-19T20:02:36.461Z"
   },
   {
    "duration": 321,
    "start_time": "2024-09-19T20:02:36.579Z"
   },
   {
    "duration": 40,
    "start_time": "2024-09-19T20:02:36.901Z"
   },
   {
    "duration": 11,
    "start_time": "2024-09-19T20:02:36.942Z"
   },
   {
    "duration": 49,
    "start_time": "2024-09-19T20:02:36.954Z"
   },
   {
    "duration": 166,
    "start_time": "2024-09-19T20:02:37.004Z"
   },
   {
    "duration": 4,
    "start_time": "2024-09-19T20:02:37.171Z"
   },
   {
    "duration": 146,
    "start_time": "2024-09-19T20:02:37.177Z"
   },
   {
    "duration": 5,
    "start_time": "2024-09-19T20:02:37.325Z"
   },
   {
    "duration": 64,
    "start_time": "2024-09-19T20:02:37.332Z"
   },
   {
    "duration": 5,
    "start_time": "2024-09-19T20:02:37.397Z"
   },
   {
    "duration": 11,
    "start_time": "2024-09-19T20:02:37.404Z"
   },
   {
    "duration": 22,
    "start_time": "2024-09-19T20:02:37.417Z"
   },
   {
    "duration": 153,
    "start_time": "2024-09-19T20:02:37.440Z"
   },
   {
    "duration": 160,
    "start_time": "2024-09-19T20:02:37.595Z"
   },
   {
    "duration": 5,
    "start_time": "2024-09-19T20:02:37.757Z"
   },
   {
    "duration": 4,
    "start_time": "2024-09-19T20:02:37.763Z"
   },
   {
    "duration": 24,
    "start_time": "2024-09-19T20:02:37.768Z"
   },
   {
    "duration": 4,
    "start_time": "2024-09-19T20:02:37.793Z"
   },
   {
    "duration": 70,
    "start_time": "2024-09-19T20:02:37.813Z"
   },
   {
    "duration": 4,
    "start_time": "2024-09-19T20:02:37.884Z"
   },
   {
    "duration": 63,
    "start_time": "2024-09-19T20:02:37.889Z"
   },
   {
    "duration": 4303,
    "start_time": "2024-09-19T20:02:37.954Z"
   },
   {
    "duration": 3,
    "start_time": "2024-09-19T20:02:42.259Z"
   },
   {
    "duration": 52,
    "start_time": "2024-09-19T20:02:42.264Z"
   },
   {
    "duration": 44397,
    "start_time": "2024-09-19T20:02:42.318Z"
   },
   {
    "duration": 4,
    "start_time": "2024-09-19T20:03:26.717Z"
   },
   {
    "duration": 8,
    "start_time": "2024-09-19T20:03:26.813Z"
   },
   {
    "duration": 342398,
    "start_time": "2024-09-19T20:03:26.823Z"
   },
   {
    "duration": 2979,
    "start_time": "2024-09-19T20:09:09.222Z"
   },
   {
    "duration": 13,
    "start_time": "2024-09-19T20:09:12.203Z"
   },
   {
    "duration": 6702,
    "start_time": "2024-09-19T20:09:12.217Z"
   },
   {
    "duration": 5,
    "start_time": "2024-09-19T20:09:18.921Z"
   },
   {
    "duration": 3314,
    "start_time": "2024-09-20T19:38:01.370Z"
   },
   {
    "duration": 7064,
    "start_time": "2024-09-20T19:38:04.687Z"
   },
   {
    "duration": 4654,
    "start_time": "2024-09-20T19:38:11.753Z"
   },
   {
    "duration": 1574,
    "start_time": "2024-09-20T19:38:20.534Z"
   },
   {
    "duration": 3,
    "start_time": "2024-09-20T19:38:25.127Z"
   },
   {
    "duration": 3098,
    "start_time": "2024-09-20T19:38:26.357Z"
   },
   {
    "duration": 142,
    "start_time": "2024-09-20T19:38:29.457Z"
   },
   {
    "duration": 16,
    "start_time": "2024-09-20T19:38:31.578Z"
   },
   {
    "duration": 1441,
    "start_time": "2024-09-20T19:38:34.650Z"
   },
   {
    "duration": 159,
    "start_time": "2024-09-20T19:38:40.255Z"
   },
   {
    "duration": 3,
    "start_time": "2024-09-20T19:38:40.566Z"
   },
   {
    "duration": 3,
    "start_time": "2024-09-20T19:38:40.877Z"
   },
   {
    "duration": 308,
    "start_time": "2024-09-20T19:39:43.259Z"
   },
   {
    "duration": 1396,
    "start_time": "2024-09-20T19:40:20.327Z"
   },
   {
    "duration": 1313,
    "start_time": "2024-09-20T19:40:21.725Z"
   },
   {
    "duration": 577,
    "start_time": "2024-09-20T19:40:36.020Z"
   },
   {
    "duration": 4,
    "start_time": "2024-09-20T19:40:37.326Z"
   },
   {
    "duration": 506,
    "start_time": "2024-09-20T19:40:39.605Z"
   },
   {
    "duration": 4,
    "start_time": "2024-09-20T19:40:40.808Z"
   },
   {
    "duration": 4,
    "start_time": "2024-09-20T19:40:44.605Z"
   },
   {
    "duration": 4,
    "start_time": "2024-09-20T19:40:45.213Z"
   },
   {
    "duration": 181,
    "start_time": "2024-09-20T19:40:47.881Z"
   },
   {
    "duration": 153,
    "start_time": "2024-09-20T19:40:51.315Z"
   },
   {
    "duration": 23,
    "start_time": "2024-09-20T19:40:55.381Z"
   },
   {
    "duration": 233,
    "start_time": "2024-09-20T19:40:57.601Z"
   },
   {
    "duration": 22,
    "start_time": "2024-09-20T19:41:03.643Z"
   },
   {
    "duration": 139,
    "start_time": "2024-09-20T19:41:05.487Z"
   },
   {
    "duration": 264,
    "start_time": "2024-09-20T19:41:08.652Z"
   },
   {
    "duration": 295,
    "start_time": "2024-09-20T19:41:11.734Z"
   },
   {
    "duration": 8,
    "start_time": "2024-09-20T19:41:15.830Z"
   },
   {
    "duration": 183,
    "start_time": "2024-09-20T19:41:23.304Z"
   },
   {
    "duration": 195,
    "start_time": "2024-09-20T19:41:26.910Z"
   },
   {
    "duration": 9,
    "start_time": "2024-09-20T19:41:30.372Z"
   },
   {
    "duration": 383,
    "start_time": "2024-09-20T19:41:32.827Z"
   },
   {
    "duration": 7,
    "start_time": "2024-09-20T19:41:35.592Z"
   },
   {
    "duration": 297,
    "start_time": "2024-09-20T19:41:38.050Z"
   },
   {
    "duration": 34,
    "start_time": "2024-09-20T19:41:40.508Z"
   },
   {
    "duration": 144,
    "start_time": "2024-09-20T19:41:42.658Z"
   },
   {
    "duration": 340,
    "start_time": "2024-09-20T19:41:43.510Z"
   },
   {
    "duration": 12,
    "start_time": "2024-09-20T19:41:47.055Z"
   },
   {
    "duration": 132,
    "start_time": "2024-09-20T19:41:48.597Z"
   },
   {
    "duration": 375,
    "start_time": "2024-09-20T19:41:49.724Z"
   },
   {
    "duration": 27,
    "start_time": "2024-09-20T19:41:52.833Z"
   },
   {
    "duration": 141,
    "start_time": "2024-09-20T19:41:55.458Z"
   },
   {
    "duration": 347,
    "start_time": "2024-09-20T19:41:56.277Z"
   },
   {
    "duration": 33,
    "start_time": "2024-09-20T19:42:00.375Z"
   },
   {
    "duration": 12,
    "start_time": "2024-09-20T19:42:03.548Z"
   },
   {
    "duration": 14,
    "start_time": "2024-09-20T19:42:04.574Z"
   },
   {
    "duration": 144,
    "start_time": "2024-09-20T19:42:48.915Z"
   },
   {
    "duration": 5,
    "start_time": "2024-09-20T19:42:50.242Z"
   },
   {
    "duration": 88,
    "start_time": "2024-09-20T19:43:50.761Z"
   },
   {
    "duration": 5,
    "start_time": "2024-09-20T19:43:51.682Z"
   },
   {
    "duration": 26,
    "start_time": "2024-09-20T19:43:54.243Z"
   },
   {
    "duration": 5,
    "start_time": "2024-09-20T19:43:54.918Z"
   },
   {
    "duration": 10,
    "start_time": "2024-09-20T19:44:05.098Z"
   },
   {
    "duration": 22,
    "start_time": "2024-09-20T19:44:06.942Z"
   },
   {
    "duration": 163,
    "start_time": "2024-09-20T19:44:12.807Z"
   },
   {
    "duration": 138,
    "start_time": "2024-09-20T19:44:47.213Z"
   },
   {
    "duration": 6,
    "start_time": "2024-09-20T19:44:48.413Z"
   },
   {
    "duration": 3,
    "start_time": "2024-09-20T19:44:59.881Z"
   },
   {
    "duration": 15,
    "start_time": "2024-09-20T19:46:38.390Z"
   },
   {
    "duration": 4,
    "start_time": "2024-09-20T19:46:38.903Z"
   },
   {
    "duration": 91,
    "start_time": "2024-09-20T19:46:39.517Z"
   },
   {
    "duration": 3,
    "start_time": "2024-09-20T19:47:42.699Z"
   },
   {
    "duration": 5,
    "start_time": "2024-09-20T19:50:18.655Z"
   },
   {
    "duration": 4,
    "start_time": "2024-09-20T19:52:16.450Z"
   },
   {
    "duration": 3,
    "start_time": "2024-09-20T19:52:27.310Z"
   },
   {
    "duration": 120070,
    "start_time": "2024-09-20T19:52:28.977Z"
   },
   {
    "duration": 3,
    "start_time": "2024-09-20T19:54:40.390Z"
   },
   {
    "duration": 3,
    "start_time": "2024-09-20T19:54:44.901Z"
   },
   {
    "duration": 1065634,
    "start_time": "2024-09-20T19:54:45.312Z"
   },
   {
    "duration": 702,
    "start_time": "2024-09-20T20:14:53.122Z"
   },
   {
    "duration": 1016,
    "start_time": "2024-09-20T20:22:25.630Z"
   },
   {
    "duration": 4,
    "start_time": "2024-09-20T20:22:26.684Z"
   },
   {
    "duration": 2659,
    "start_time": "2024-09-20T20:24:47.648Z"
   },
   {
    "duration": 3127,
    "start_time": "2024-09-20T20:24:50.310Z"
   },
   {
    "duration": 2896,
    "start_time": "2024-09-20T20:24:53.439Z"
   },
   {
    "duration": 1397,
    "start_time": "2024-09-20T20:24:56.337Z"
   },
   {
    "duration": 2,
    "start_time": "2024-09-20T20:24:57.736Z"
   },
   {
    "duration": 1038,
    "start_time": "2024-09-20T20:24:57.740Z"
   },
   {
    "duration": 184,
    "start_time": "2024-09-20T20:24:58.780Z"
   },
   {
    "duration": 16,
    "start_time": "2024-09-20T20:24:58.965Z"
   },
   {
    "duration": 1320,
    "start_time": "2024-09-20T20:24:58.983Z"
   },
   {
    "duration": 171,
    "start_time": "2024-09-20T20:25:00.305Z"
   },
   {
    "duration": 3,
    "start_time": "2024-09-20T20:25:00.478Z"
   },
   {
    "duration": 50,
    "start_time": "2024-09-20T20:25:00.483Z"
   },
   {
    "duration": 358,
    "start_time": "2024-09-20T20:25:00.535Z"
   },
   {
    "duration": 1373,
    "start_time": "2024-09-20T20:25:00.896Z"
   },
   {
    "duration": 1281,
    "start_time": "2024-09-20T20:25:02.270Z"
   },
   {
    "duration": 599,
    "start_time": "2024-09-20T20:25:03.553Z"
   },
   {
    "duration": 4,
    "start_time": "2024-09-20T20:25:04.154Z"
   },
   {
    "duration": 628,
    "start_time": "2024-09-20T20:25:04.159Z"
   },
   {
    "duration": 4,
    "start_time": "2024-09-20T20:25:04.789Z"
   },
   {
    "duration": 43,
    "start_time": "2024-09-20T20:25:04.794Z"
   },
   {
    "duration": 40,
    "start_time": "2024-09-20T20:25:04.839Z"
   },
   {
    "duration": 196,
    "start_time": "2024-09-20T20:25:04.881Z"
   },
   {
    "duration": 151,
    "start_time": "2024-09-20T20:25:05.078Z"
   },
   {
    "duration": 28,
    "start_time": "2024-09-20T20:25:05.231Z"
   },
   {
    "duration": 256,
    "start_time": "2024-09-20T20:25:05.261Z"
   },
   {
    "duration": 32,
    "start_time": "2024-09-20T20:25:05.519Z"
   },
   {
    "duration": 144,
    "start_time": "2024-09-20T20:25:05.552Z"
   },
   {
    "duration": 273,
    "start_time": "2024-09-20T20:25:05.697Z"
   },
   {
    "duration": 288,
    "start_time": "2024-09-20T20:25:05.971Z"
   },
   {
    "duration": 8,
    "start_time": "2024-09-20T20:25:06.261Z"
   },
   {
    "duration": 221,
    "start_time": "2024-09-20T20:25:06.270Z"
   },
   {
    "duration": 231,
    "start_time": "2024-09-20T20:25:06.493Z"
   },
   {
    "duration": 9,
    "start_time": "2024-09-20T20:25:06.725Z"
   },
   {
    "duration": 391,
    "start_time": "2024-09-20T20:25:06.736Z"
   },
   {
    "duration": 18,
    "start_time": "2024-09-20T20:25:07.129Z"
   },
   {
    "duration": 321,
    "start_time": "2024-09-20T20:25:07.148Z"
   },
   {
    "duration": 35,
    "start_time": "2024-09-20T20:25:07.470Z"
   },
   {
    "duration": 171,
    "start_time": "2024-09-20T20:25:07.507Z"
   },
   {
    "duration": 370,
    "start_time": "2024-09-20T20:25:07.680Z"
   },
   {
    "duration": 13,
    "start_time": "2024-09-20T20:25:08.052Z"
   },
   {
    "duration": 133,
    "start_time": "2024-09-20T20:25:08.071Z"
   },
   {
    "duration": 423,
    "start_time": "2024-09-20T20:25:08.205Z"
   },
   {
    "duration": 44,
    "start_time": "2024-09-20T20:25:08.630Z"
   },
   {
    "duration": 123,
    "start_time": "2024-09-20T20:25:08.676Z"
   },
   {
    "duration": 337,
    "start_time": "2024-09-20T20:25:08.801Z"
   },
   {
    "duration": 38,
    "start_time": "2024-09-20T20:25:09.140Z"
   },
   {
    "duration": 12,
    "start_time": "2024-09-20T20:25:09.180Z"
   },
   {
    "duration": 13,
    "start_time": "2024-09-20T20:25:09.194Z"
   },
   {
    "duration": 178,
    "start_time": "2024-09-20T20:25:09.209Z"
   },
   {
    "duration": 6,
    "start_time": "2024-09-20T20:25:09.389Z"
   },
   {
    "duration": 103,
    "start_time": "2024-09-20T20:25:09.396Z"
   },
   {
    "duration": 5,
    "start_time": "2024-09-20T20:25:09.502Z"
   },
   {
    "duration": 49,
    "start_time": "2024-09-20T20:25:09.509Z"
   },
   {
    "duration": 5,
    "start_time": "2024-09-20T20:25:09.559Z"
   },
   {
    "duration": 12,
    "start_time": "2024-09-20T20:25:09.565Z"
   },
   {
    "duration": 22,
    "start_time": "2024-09-20T20:25:09.578Z"
   },
   {
    "duration": 178,
    "start_time": "2024-09-20T20:25:09.602Z"
   },
   {
    "duration": 145,
    "start_time": "2024-09-20T20:25:09.782Z"
   },
   {
    "duration": 5,
    "start_time": "2024-09-20T20:25:09.929Z"
   },
   {
    "duration": 40,
    "start_time": "2024-09-20T20:25:09.936Z"
   },
   {
    "duration": 47,
    "start_time": "2024-09-20T20:25:09.978Z"
   },
   {
    "duration": 45,
    "start_time": "2024-09-20T20:25:10.027Z"
   },
   {
    "duration": 102,
    "start_time": "2024-09-20T20:25:10.074Z"
   },
   {
    "duration": 3,
    "start_time": "2024-09-20T20:25:10.178Z"
   },
   {
    "duration": 42,
    "start_time": "2024-09-20T20:25:10.183Z"
   },
   {
    "duration": 60771,
    "start_time": "2024-09-20T20:25:10.227Z"
   },
   {
    "duration": 0,
    "start_time": "2024-09-20T20:26:11.000Z"
   },
   {
    "duration": 0,
    "start_time": "2024-09-20T20:26:11.001Z"
   },
   {
    "duration": 0,
    "start_time": "2024-09-20T20:26:11.003Z"
   },
   {
    "duration": 0,
    "start_time": "2024-09-20T20:26:11.004Z"
   },
   {
    "duration": 0,
    "start_time": "2024-09-20T20:26:11.006Z"
   },
   {
    "duration": 0,
    "start_time": "2024-09-20T20:26:11.007Z"
   },
   {
    "duration": 0,
    "start_time": "2024-09-20T20:26:11.009Z"
   },
   {
    "duration": 0,
    "start_time": "2024-09-20T20:26:11.010Z"
   },
   {
    "duration": 0,
    "start_time": "2024-09-20T20:26:11.012Z"
   },
   {
    "duration": 0,
    "start_time": "2024-09-20T20:26:11.013Z"
   },
   {
    "duration": 0,
    "start_time": "2024-09-20T20:26:11.015Z"
   },
   {
    "duration": 0,
    "start_time": "2024-09-20T20:26:11.046Z"
   },
   {
    "duration": 0,
    "start_time": "2024-09-20T20:26:11.048Z"
   },
   {
    "duration": 0,
    "start_time": "2024-09-20T20:26:11.049Z"
   },
   {
    "duration": 2,
    "start_time": "2024-09-20T20:26:23.254Z"
   },
   {
    "duration": 5146,
    "start_time": "2024-09-20T20:26:24.141Z"
   },
   {
    "duration": 57,
    "start_time": "2024-09-20T20:26:29.291Z"
   },
   {
    "duration": 3,
    "start_time": "2024-09-20T20:27:08.710Z"
   },
   {
    "duration": 119350,
    "start_time": "2024-09-20T20:27:09.017Z"
   },
   {
    "duration": 4,
    "start_time": "2024-09-20T20:29:08.447Z"
   },
   {
    "duration": 93,
    "start_time": "2024-09-20T20:29:08.453Z"
   },
   {
    "duration": 17,
    "start_time": "2024-09-20T20:29:08.548Z"
   },
   {
    "duration": 1060485,
    "start_time": "2024-09-20T20:29:08.568Z"
   },
   {
    "duration": 93,
    "start_time": "2024-09-20T20:46:49.057Z"
   },
   {
    "duration": 4,
    "start_time": "2024-09-20T20:46:49.153Z"
   },
   {
    "duration": 93,
    "start_time": "2024-09-20T20:46:49.160Z"
   },
   {
    "duration": 653895,
    "start_time": "2024-09-20T20:46:49.255Z"
   },
   {
    "duration": 13,
    "start_time": "2024-09-20T20:57:43.153Z"
   },
   {
    "duration": 0,
    "start_time": "2024-09-20T20:57:43.167Z"
   },
   {
    "duration": 0,
    "start_time": "2024-09-20T20:57:43.169Z"
   },
   {
    "duration": 0,
    "start_time": "2024-09-20T20:57:43.170Z"
   },
   {
    "duration": 0,
    "start_time": "2024-09-20T20:57:43.171Z"
   },
   {
    "duration": 0,
    "start_time": "2024-09-20T20:57:43.172Z"
   },
   {
    "duration": 1823,
    "start_time": "2024-09-20T21:01:28.339Z"
   },
   {
    "duration": 5,
    "start_time": "2024-09-20T21:01:30.395Z"
   },
   {
    "duration": 983,
    "start_time": "2024-09-20T21:01:37.818Z"
   },
   {
    "duration": 3,
    "start_time": "2024-09-20T21:01:38.803Z"
   },
   {
    "duration": 11,
    "start_time": "2024-09-20T21:01:44.977Z"
   },
   {
    "duration": 13876,
    "start_time": "2024-09-20T21:01:44.990Z"
   },
   {
    "duration": 81,
    "start_time": "2024-09-20T21:01:58.868Z"
   },
   {
    "duration": 3769,
    "start_time": "2024-09-22T14:30:12.068Z"
   },
   {
    "duration": 9813,
    "start_time": "2024-09-22T14:30:15.840Z"
   },
   {
    "duration": 4713,
    "start_time": "2024-09-22T14:30:25.655Z"
   },
   {
    "duration": 2034,
    "start_time": "2024-09-22T14:30:30.370Z"
   },
   {
    "duration": 6,
    "start_time": "2024-09-22T14:30:32.406Z"
   },
   {
    "duration": 7588,
    "start_time": "2024-09-22T14:30:32.413Z"
   },
   {
    "duration": 163,
    "start_time": "2024-09-22T14:30:40.002Z"
   },
   {
    "duration": 16,
    "start_time": "2024-09-22T14:30:40.167Z"
   },
   {
    "duration": 1540,
    "start_time": "2024-09-22T14:30:40.185Z"
   },
   {
    "duration": 166,
    "start_time": "2024-09-22T14:30:41.727Z"
   },
   {
    "duration": 2,
    "start_time": "2024-09-22T14:30:41.895Z"
   },
   {
    "duration": 6,
    "start_time": "2024-09-22T14:30:41.899Z"
   },
   {
    "duration": 322,
    "start_time": "2024-09-22T14:30:41.906Z"
   },
   {
    "duration": 1610,
    "start_time": "2024-09-22T14:30:42.230Z"
   },
   {
    "duration": 1207,
    "start_time": "2024-09-22T14:30:43.846Z"
   },
   {
    "duration": 635,
    "start_time": "2024-09-22T14:30:45.055Z"
   },
   {
    "duration": 4,
    "start_time": "2024-09-22T14:30:45.691Z"
   },
   {
    "duration": 532,
    "start_time": "2024-09-22T14:30:45.696Z"
   },
   {
    "duration": 4,
    "start_time": "2024-09-22T14:30:46.230Z"
   },
   {
    "duration": 12,
    "start_time": "2024-09-22T14:30:46.236Z"
   },
   {
    "duration": 5,
    "start_time": "2024-09-22T14:30:46.250Z"
   },
   {
    "duration": 200,
    "start_time": "2024-09-22T14:30:46.256Z"
   },
   {
    "duration": 160,
    "start_time": "2024-09-22T14:30:46.458Z"
   },
   {
    "duration": 32,
    "start_time": "2024-09-22T14:30:46.620Z"
   },
   {
    "duration": 241,
    "start_time": "2024-09-22T14:30:46.654Z"
   },
   {
    "duration": 29,
    "start_time": "2024-09-22T14:30:46.897Z"
   },
   {
    "duration": 155,
    "start_time": "2024-09-22T14:30:46.927Z"
   },
   {
    "duration": 288,
    "start_time": "2024-09-22T14:30:47.086Z"
   },
   {
    "duration": 285,
    "start_time": "2024-09-22T14:30:47.376Z"
   },
   {
    "duration": 12,
    "start_time": "2024-09-22T14:30:47.663Z"
   },
   {
    "duration": 216,
    "start_time": "2024-09-22T14:30:47.677Z"
   },
   {
    "duration": 307,
    "start_time": "2024-09-22T14:30:47.895Z"
   },
   {
    "duration": 9,
    "start_time": "2024-09-22T14:30:48.204Z"
   },
   {
    "duration": 286,
    "start_time": "2024-09-22T14:30:48.214Z"
   },
   {
    "duration": 13,
    "start_time": "2024-09-22T14:30:48.502Z"
   },
   {
    "duration": 395,
    "start_time": "2024-09-22T14:30:48.517Z"
   },
   {
    "duration": 34,
    "start_time": "2024-09-22T14:30:48.914Z"
   },
   {
    "duration": 148,
    "start_time": "2024-09-22T14:30:48.950Z"
   },
   {
    "duration": 364,
    "start_time": "2024-09-22T14:30:49.101Z"
   },
   {
    "duration": 13,
    "start_time": "2024-09-22T14:30:49.467Z"
   },
   {
    "duration": 136,
    "start_time": "2024-09-22T14:30:49.482Z"
   },
   {
    "duration": 393,
    "start_time": "2024-09-22T14:30:49.620Z"
   },
   {
    "duration": 39,
    "start_time": "2024-09-22T14:30:50.016Z"
   },
   {
    "duration": 151,
    "start_time": "2024-09-22T14:30:50.057Z"
   },
   {
    "duration": 342,
    "start_time": "2024-09-22T14:30:50.210Z"
   },
   {
    "duration": 37,
    "start_time": "2024-09-22T14:30:50.554Z"
   },
   {
    "duration": 15,
    "start_time": "2024-09-22T14:30:50.593Z"
   },
   {
    "duration": 41,
    "start_time": "2024-09-22T14:30:50.609Z"
   },
   {
    "duration": 155,
    "start_time": "2024-09-22T14:30:50.652Z"
   },
   {
    "duration": 5,
    "start_time": "2024-09-22T14:30:50.810Z"
   },
   {
    "duration": 165,
    "start_time": "2024-09-22T14:30:50.818Z"
   },
   {
    "duration": 6,
    "start_time": "2024-09-22T14:30:50.985Z"
   },
   {
    "duration": 36,
    "start_time": "2024-09-22T14:30:50.993Z"
   },
   {
    "duration": 6,
    "start_time": "2024-09-22T14:30:51.046Z"
   },
   {
    "duration": 12,
    "start_time": "2024-09-22T14:30:51.054Z"
   },
   {
    "duration": 23,
    "start_time": "2024-09-22T14:30:51.068Z"
   },
   {
    "duration": 296,
    "start_time": "2024-09-22T14:30:51.093Z"
   },
   {
    "duration": 149,
    "start_time": "2024-09-22T14:30:51.391Z"
   },
   {
    "duration": 4,
    "start_time": "2024-09-22T14:30:51.545Z"
   },
   {
    "duration": 4,
    "start_time": "2024-09-22T14:30:51.551Z"
   },
   {
    "duration": 15,
    "start_time": "2024-09-22T14:30:51.557Z"
   },
   {
    "duration": 3,
    "start_time": "2024-09-22T14:30:51.574Z"
   },
   {
    "duration": 104,
    "start_time": "2024-09-22T14:30:51.579Z"
   },
   {
    "duration": 4,
    "start_time": "2024-09-22T14:30:51.685Z"
   },
   {
    "duration": 4,
    "start_time": "2024-09-22T14:30:51.691Z"
   },
   {
    "duration": 145082,
    "start_time": "2024-09-22T14:30:51.696Z"
   },
   {
    "duration": 194,
    "start_time": "2024-09-22T14:33:16.780Z"
   },
   {
    "duration": 0,
    "start_time": "2024-09-22T14:33:16.976Z"
   },
   {
    "duration": 0,
    "start_time": "2024-09-22T14:33:16.977Z"
   },
   {
    "duration": 0,
    "start_time": "2024-09-22T14:33:16.979Z"
   },
   {
    "duration": 0,
    "start_time": "2024-09-22T14:33:16.980Z"
   },
   {
    "duration": 0,
    "start_time": "2024-09-22T14:33:16.982Z"
   },
   {
    "duration": 0,
    "start_time": "2024-09-22T14:33:16.983Z"
   },
   {
    "duration": 0,
    "start_time": "2024-09-22T14:33:16.985Z"
   },
   {
    "duration": 0,
    "start_time": "2024-09-22T14:33:16.986Z"
   },
   {
    "duration": 0,
    "start_time": "2024-09-22T14:33:16.987Z"
   },
   {
    "duration": 0,
    "start_time": "2024-09-22T14:33:16.989Z"
   },
   {
    "duration": 0,
    "start_time": "2024-09-22T14:33:16.990Z"
   },
   {
    "duration": 0,
    "start_time": "2024-09-22T14:33:16.991Z"
   },
   {
    "duration": 0,
    "start_time": "2024-09-22T14:33:16.993Z"
   },
   {
    "duration": 0,
    "start_time": "2024-09-22T14:33:16.994Z"
   },
   {
    "duration": 1,
    "start_time": "2024-09-22T14:33:16.995Z"
   },
   {
    "duration": 0,
    "start_time": "2024-09-22T14:33:16.997Z"
   },
   {
    "duration": 0,
    "start_time": "2024-09-22T14:33:16.999Z"
   },
   {
    "duration": 0,
    "start_time": "2024-09-22T14:33:17.000Z"
   },
   {
    "duration": 0,
    "start_time": "2024-09-22T14:33:17.001Z"
   },
   {
    "duration": 26690,
    "start_time": "2024-09-22T14:36:10.071Z"
   },
   {
    "duration": 1481,
    "start_time": "2024-09-22T14:38:54.270Z"
   },
   {
    "duration": 92,
    "start_time": "2024-09-22T14:38:55.756Z"
   },
   {
    "duration": 4,
    "start_time": "2024-09-22T14:39:00.611Z"
   },
   {
    "duration": 3,
    "start_time": "2024-09-22T14:39:03.960Z"
   },
   {
    "duration": 9,
    "start_time": "2024-09-22T14:39:05.380Z"
   },
   {
    "duration": 3,
    "start_time": "2024-09-22T14:39:20.162Z"
   },
   {
    "duration": 9,
    "start_time": "2024-09-22T14:39:21.842Z"
   },
   {
    "duration": 1134908,
    "start_time": "2024-09-22T14:39:39.360Z"
   },
   {
    "duration": 3775,
    "start_time": "2024-09-22T14:58:34.270Z"
   },
   {
    "duration": 1503,
    "start_time": "2024-09-22T14:58:38.047Z"
   },
   {
    "duration": 92,
    "start_time": "2024-09-22T14:58:39.555Z"
   },
   {
    "duration": 4,
    "start_time": "2024-09-22T15:15:42.510Z"
   },
   {
    "duration": 3,
    "start_time": "2024-09-22T15:15:43.084Z"
   },
   {
    "duration": 615187,
    "start_time": "2024-09-22T15:16:01.661Z"
   },
   {
    "duration": 11104,
    "start_time": "2024-09-22T15:26:16.850Z"
   },
   {
    "duration": 1890,
    "start_time": "2024-09-22T15:26:27.956Z"
   },
   {
    "duration": 4,
    "start_time": "2024-09-22T15:26:29.848Z"
   },
   {
    "duration": 1078,
    "start_time": "2024-09-22T15:26:29.853Z"
   },
   {
    "duration": 3,
    "start_time": "2024-09-22T15:26:30.933Z"
   },
   {
    "duration": 35,
    "start_time": "2024-09-22T15:26:30.938Z"
   },
   {
    "duration": 14582,
    "start_time": "2024-09-22T15:26:30.974Z"
   },
   {
    "duration": 5,
    "start_time": "2024-09-22T15:26:45.558Z"
   }
  ],
  "kernelspec": {
   "display_name": "Python 3 (ipykernel)",
   "language": "python",
   "name": "python3"
  },
  "language_info": {
   "codemirror_mode": {
    "name": "ipython",
    "version": 3
   },
   "file_extension": ".py",
   "mimetype": "text/x-python",
   "name": "python",
   "nbconvert_exporter": "python",
   "pygments_lexer": "ipython3",
   "version": "3.9.5"
  },
  "toc": {
   "base_numbering": 1,
   "nav_menu": {},
   "number_sections": true,
   "sideBar": true,
   "skip_h1_title": true,
   "title_cell": "Table of Contents",
   "title_sidebar": "Contents",
   "toc_cell": false,
   "toc_position": {},
   "toc_section_display": true,
   "toc_window_display": true
  }
 },
 "nbformat": 4,
 "nbformat_minor": 2
}
