{
 "cells": [
  {
   "cell_type": "markdown",
   "metadata": {},
   "source": [
    "# Выбор локации для скважины"
   ]
  },
  {
   "cell_type": "markdown",
   "metadata": {},
   "source": [
    "Допустим, вы работаете в добывающей компании «ГлавРосГосНефть». Нужно решить, где бурить новую скважину.\n",
    "\n",
    "Вам предоставлены пробы нефти в трёх регионах: в каждом 10 000 месторождений, где измерили качество нефти и объём её запасов. Постройте модель машинного обучения, которая поможет определить регион, где добыча принесёт наибольшую прибыль. Проанализируйте возможную прибыль и риски техникой *Bootstrap.*\n",
    "\n",
    "Шаги для выбора локации:\n",
    "\n",
    "- В избранном регионе ищут месторождения, для каждого определяют значения признаков;\n",
    "- Строят модель и оценивают объём запасов;\n",
    "- Выбирают месторождения с самым высокими оценками значений. Количество месторождений зависит от бюджета компании и стоимости разработки одной скважины;\n",
    "- Прибыль равна суммарной прибыли отобранных месторождений."
   ]
  },
  {
   "cell_type": "code",
   "execution_count": 1,
   "metadata": {},
   "outputs": [
    {
     "name": "stdout",
     "output_type": "stream",
     "text": [
      "Collecting sweetviz\n",
      "  Downloading sweetviz-2.3.1-py3-none-any.whl (15.1 MB)\n",
      "\u001b[K     |████████████████████████████████| 15.1 MB 2.5 MB/s eta 0:00:01\n",
      "\u001b[?25hCollecting importlib-resources>=1.2.0\n",
      "  Downloading importlib_resources-6.4.5-py3-none-any.whl (36 kB)\n",
      "Requirement already satisfied: pandas!=1.0.0,!=1.0.1,!=1.0.2,>=0.25.3 in /opt/conda/lib/python3.9/site-packages (from sweetviz) (1.2.4)\n",
      "Requirement already satisfied: matplotlib>=3.1.3 in /opt/conda/lib/python3.9/site-packages (from sweetviz) (3.3.4)\n",
      "Requirement already satisfied: numpy>=1.16.0 in /opt/conda/lib/python3.9/site-packages (from sweetviz) (1.21.1)\n",
      "Requirement already satisfied: tqdm>=4.43.0 in /opt/conda/lib/python3.9/site-packages (from sweetviz) (4.61.2)\n",
      "Requirement already satisfied: scipy>=1.3.2 in /opt/conda/lib/python3.9/site-packages (from sweetviz) (1.9.1)\n",
      "Requirement already satisfied: jinja2>=2.11.1 in /opt/conda/lib/python3.9/site-packages (from sweetviz) (3.0.1)\n",
      "Requirement already satisfied: zipp>=3.1.0 in /opt/conda/lib/python3.9/site-packages (from importlib-resources>=1.2.0->sweetviz) (3.5.0)\n",
      "Requirement already satisfied: MarkupSafe>=2.0 in /opt/conda/lib/python3.9/site-packages (from jinja2>=2.11.1->sweetviz) (2.1.1)\n",
      "Requirement already satisfied: pillow>=6.2.0 in /opt/conda/lib/python3.9/site-packages (from matplotlib>=3.1.3->sweetviz) (8.4.0)\n",
      "Requirement already satisfied: pyparsing!=2.0.4,!=2.1.2,!=2.1.6,>=2.0.3 in /opt/conda/lib/python3.9/site-packages (from matplotlib>=3.1.3->sweetviz) (2.4.7)\n",
      "Requirement already satisfied: cycler>=0.10 in /opt/conda/lib/python3.9/site-packages (from matplotlib>=3.1.3->sweetviz) (0.11.0)\n",
      "Requirement already satisfied: kiwisolver>=1.0.1 in /opt/conda/lib/python3.9/site-packages (from matplotlib>=3.1.3->sweetviz) (1.4.4)\n",
      "Requirement already satisfied: python-dateutil>=2.1 in /opt/conda/lib/python3.9/site-packages (from matplotlib>=3.1.3->sweetviz) (2.8.1)\n",
      "Requirement already satisfied: pytz>=2017.3 in /opt/conda/lib/python3.9/site-packages (from pandas!=1.0.0,!=1.0.1,!=1.0.2,>=0.25.3->sweetviz) (2021.1)\n",
      "Requirement already satisfied: six>=1.5 in /opt/conda/lib/python3.9/site-packages (from python-dateutil>=2.1->matplotlib>=3.1.3->sweetviz) (1.16.0)\n",
      "Installing collected packages: importlib-resources, sweetviz\n",
      "Successfully installed importlib-resources-6.4.5 sweetviz-2.3.1\n",
      "Note: you may need to restart the kernel to use updated packages.\n"
     ]
    }
   ],
   "source": [
    "pip install sweetviz"
   ]
  },
  {
   "cell_type": "markdown",
   "metadata": {},
   "source": [
    "## Загрузка и подготовка данных"
   ]
  },
  {
   "cell_type": "code",
   "execution_count": 2,
   "metadata": {},
   "outputs": [],
   "source": [
    "import pandas as pd\n",
    "import matplotlib.pyplot as plt\n",
    "import warnings\n",
    "import sweetviz as sv\n",
    "import numpy as np\n",
    "from IPython.display import display, HTML\n",
    "from sklearn.preprocessing import StandardScaler, MinMaxScaler\n",
    "from sklearn.linear_model import LinearRegression\n",
    "from sklearn.model_selection import train_test_split, cross_val_score\n",
    "from sklearn.metrics import mean_squared_error, make_scorer"
   ]
  },
  {
   "cell_type": "code",
   "execution_count": 3,
   "metadata": {},
   "outputs": [],
   "source": [
    "warnings.filterwarnings('ignore')"
   ]
  },
  {
   "cell_type": "code",
   "execution_count": 4,
   "metadata": {},
   "outputs": [],
   "source": [
    "try:\n",
    "    data_g0 = pd.read_csv('/datasets/geo_data_0.csv')\n",
    "    data_g1 = pd.read_csv('/datasets/geo_data_1.csv')\n",
    "    data_g2 = pd.read_csv('/datasets/geo_data_2.csv')\n",
    "except:\n",
    "    data_g0 = pd.read_csv('geo_data_0.csv')\n",
    "    data_g1 = pd.read_csv('geo_data_1.csv')\n",
    "    data_g2 = pd.read_csv('geo_data_2.csv')"
   ]
  },
  {
   "cell_type": "markdown",
   "metadata": {},
   "source": [
    "### Общий отчет о датасетах"
   ]
  },
  {
   "cell_type": "code",
   "execution_count": 5,
   "metadata": {},
   "outputs": [
    {
     "data": {
      "application/vnd.jupyter.widget-view+json": {
       "model_id": "309172f327fa400898fdcb2b93869af9",
       "version_major": 2,
       "version_minor": 0
      },
      "text/plain": [
       "                                             |          | [  0%]   00:00 -> (? left)"
      ]
     },
     "metadata": {},
     "output_type": "display_data"
    },
    {
     "name": "stdout",
     "output_type": "stream",
     "text": [
      "Report common_analysis0.html was generated! NOTEBOOK/COLAB USERS: the web browser MAY not pop up, regardless, the report IS saved in your notebook/colab files.\n"
     ]
    }
   ],
   "source": [
    "report_g0 = sv.analyze([data_g0, \"Location_0\"])\n",
    "report_g0.show_html('common_analysis0.html')"
   ]
  },
  {
   "cell_type": "code",
   "execution_count": 6,
   "metadata": {},
   "outputs": [
    {
     "data": {
      "application/vnd.jupyter.widget-view+json": {
       "model_id": "8cf49a562fe144f0a6b80f7fdd84a66f",
       "version_major": 2,
       "version_minor": 0
      },
      "text/plain": [
       "                                             |          | [  0%]   00:00 -> (? left)"
      ]
     },
     "metadata": {},
     "output_type": "display_data"
    },
    {
     "name": "stdout",
     "output_type": "stream",
     "text": [
      "Report common_analysis1.html was generated! NOTEBOOK/COLAB USERS: the web browser MAY not pop up, regardless, the report IS saved in your notebook/colab files.\n"
     ]
    }
   ],
   "source": [
    "report_g1 = sv.analyze([data_g1, \"Location_1\"])\n",
    "report_g1.show_html('common_analysis1.html')"
   ]
  },
  {
   "cell_type": "code",
   "execution_count": 7,
   "metadata": {},
   "outputs": [
    {
     "data": {
      "application/vnd.jupyter.widget-view+json": {
       "model_id": "4328a33fae084680a495f21b46790460",
       "version_major": 2,
       "version_minor": 0
      },
      "text/plain": [
       "                                             |          | [  0%]   00:00 -> (? left)"
      ]
     },
     "metadata": {},
     "output_type": "display_data"
    },
    {
     "name": "stdout",
     "output_type": "stream",
     "text": [
      "Report common_analysis2.html was generated! NOTEBOOK/COLAB USERS: the web browser MAY not pop up, regardless, the report IS saved in your notebook/colab files.\n"
     ]
    }
   ],
   "source": [
    "report_g2 = sv.analyze([data_g2, \"Location_2\"])\n",
    "report_g2.show_html('common_analysis2.html')"
   ]
  },
  {
   "cell_type": "code",
   "execution_count": 8,
   "metadata": {},
   "outputs": [
    {
     "data": {
      "text/html": [
       "<script type=\"text/javascript\">\n",
       "                   window.open(\"common_analysis0.html\", \"_blank\");\n",
       "               </script>"
      ],
      "text/plain": [
       "<IPython.core.display.HTML object>"
      ]
     },
     "metadata": {},
     "output_type": "display_data"
    }
   ],
   "source": [
    "display(HTML('''<script type=\"text/javascript\">\n",
    "                   window.open(\"common_analysis0.html\", \"_blank\");\n",
    "               </script>'''))"
   ]
  },
  {
   "cell_type": "code",
   "execution_count": 9,
   "metadata": {},
   "outputs": [
    {
     "data": {
      "text/html": [
       "<script type=\"text/javascript\">\n",
       "                   window.open(\"common_analysis1.html\", \"_blank\");\n",
       "               </script>"
      ],
      "text/plain": [
       "<IPython.core.display.HTML object>"
      ]
     },
     "metadata": {},
     "output_type": "display_data"
    }
   ],
   "source": [
    "display(HTML('''<script type=\"text/javascript\">\n",
    "                   window.open(\"common_analysis1.html\", \"_blank\");\n",
    "               </script>'''))"
   ]
  },
  {
   "cell_type": "code",
   "execution_count": 10,
   "metadata": {},
   "outputs": [
    {
     "data": {
      "text/html": [
       "<script type=\"text/javascript\">\n",
       "                   window.open(\"common_analysis2.html\", \"_blank\");\n",
       "               </script>"
      ],
      "text/plain": [
       "<IPython.core.display.HTML object>"
      ]
     },
     "metadata": {},
     "output_type": "display_data"
    }
   ],
   "source": [
    "display(HTML('''<script type=\"text/javascript\">\n",
    "                   window.open(\"common_analysis2.html\", \"_blank\");\n",
    "               </script>'''))"
   ]
  },
  {
   "cell_type": "markdown",
   "metadata": {},
   "source": [
    "**Вывод: Загружены необходимые библиотеки для работы. Для просмотра всех основных параметров датасетов использована библиотека sweetviz, с помощью которой можно получить отчет о датасетах. Вывести его можно запустив последние 3 ячейки кода выше. По 1 датасету можно сказать, что 2 из 4 признаков распределены нормально, а вот f0 и f1 имеют другую структуру, дубликатов и пропусков нету. Во 2 датасете нормально распределены данные у признака f1, дубликатов и пропусков также нету. В 3 датасете все признаки имеют нормальное распределение, дубликатов и пропусков нету.**"
   ]
  },
  {
   "cell_type": "markdown",
   "metadata": {},
   "source": [
    "### Подготовка данных"
   ]
  },
  {
   "cell_type": "code",
   "execution_count": 11,
   "metadata": {},
   "outputs": [
    {
     "data": {
      "text/html": [
       "<div>\n",
       "<style scoped>\n",
       "    .dataframe tbody tr th:only-of-type {\n",
       "        vertical-align: middle;\n",
       "    }\n",
       "\n",
       "    .dataframe tbody tr th {\n",
       "        vertical-align: top;\n",
       "    }\n",
       "\n",
       "    .dataframe thead th {\n",
       "        text-align: right;\n",
       "    }\n",
       "</style>\n",
       "<table border=\"1\" class=\"dataframe\">\n",
       "  <thead>\n",
       "    <tr style=\"text-align: right;\">\n",
       "      <th></th>\n",
       "      <th>id</th>\n",
       "      <th>f0</th>\n",
       "      <th>f1</th>\n",
       "      <th>f2</th>\n",
       "      <th>product</th>\n",
       "    </tr>\n",
       "  </thead>\n",
       "  <tbody>\n",
       "    <tr>\n",
       "      <th>0</th>\n",
       "      <td>txEyH</td>\n",
       "      <td>0.705745</td>\n",
       "      <td>-0.497823</td>\n",
       "      <td>1.221170</td>\n",
       "      <td>105.280062</td>\n",
       "    </tr>\n",
       "    <tr>\n",
       "      <th>1</th>\n",
       "      <td>2acmU</td>\n",
       "      <td>1.334711</td>\n",
       "      <td>-0.340164</td>\n",
       "      <td>4.365080</td>\n",
       "      <td>73.037750</td>\n",
       "    </tr>\n",
       "    <tr>\n",
       "      <th>2</th>\n",
       "      <td>409Wp</td>\n",
       "      <td>1.022732</td>\n",
       "      <td>0.151990</td>\n",
       "      <td>1.419926</td>\n",
       "      <td>85.265647</td>\n",
       "    </tr>\n",
       "    <tr>\n",
       "      <th>3</th>\n",
       "      <td>iJLyR</td>\n",
       "      <td>-0.032172</td>\n",
       "      <td>0.139033</td>\n",
       "      <td>2.978566</td>\n",
       "      <td>168.620776</td>\n",
       "    </tr>\n",
       "    <tr>\n",
       "      <th>4</th>\n",
       "      <td>Xdl7t</td>\n",
       "      <td>1.988431</td>\n",
       "      <td>0.155413</td>\n",
       "      <td>4.751769</td>\n",
       "      <td>154.036647</td>\n",
       "    </tr>\n",
       "  </tbody>\n",
       "</table>\n",
       "</div>"
      ],
      "text/plain": [
       "      id        f0        f1        f2     product\n",
       "0  txEyH  0.705745 -0.497823  1.221170  105.280062\n",
       "1  2acmU  1.334711 -0.340164  4.365080   73.037750\n",
       "2  409Wp  1.022732  0.151990  1.419926   85.265647\n",
       "3  iJLyR -0.032172  0.139033  2.978566  168.620776\n",
       "4  Xdl7t  1.988431  0.155413  4.751769  154.036647"
      ]
     },
     "execution_count": 11,
     "metadata": {},
     "output_type": "execute_result"
    }
   ],
   "source": [
    "data_g0.head()"
   ]
  },
  {
   "cell_type": "code",
   "execution_count": 12,
   "metadata": {},
   "outputs": [
    {
     "data": {
      "text/html": [
       "<div>\n",
       "<style scoped>\n",
       "    .dataframe tbody tr th:only-of-type {\n",
       "        vertical-align: middle;\n",
       "    }\n",
       "\n",
       "    .dataframe tbody tr th {\n",
       "        vertical-align: top;\n",
       "    }\n",
       "\n",
       "    .dataframe thead th {\n",
       "        text-align: right;\n",
       "    }\n",
       "</style>\n",
       "<table border=\"1\" class=\"dataframe\">\n",
       "  <thead>\n",
       "    <tr style=\"text-align: right;\">\n",
       "      <th></th>\n",
       "      <th>id</th>\n",
       "      <th>f0</th>\n",
       "      <th>f1</th>\n",
       "      <th>f2</th>\n",
       "      <th>product</th>\n",
       "    </tr>\n",
       "  </thead>\n",
       "  <tbody>\n",
       "    <tr>\n",
       "      <th>0</th>\n",
       "      <td>kBEdx</td>\n",
       "      <td>-15.001348</td>\n",
       "      <td>-8.276000</td>\n",
       "      <td>-0.005876</td>\n",
       "      <td>3.179103</td>\n",
       "    </tr>\n",
       "    <tr>\n",
       "      <th>1</th>\n",
       "      <td>62mP7</td>\n",
       "      <td>14.272088</td>\n",
       "      <td>-3.475083</td>\n",
       "      <td>0.999183</td>\n",
       "      <td>26.953261</td>\n",
       "    </tr>\n",
       "    <tr>\n",
       "      <th>2</th>\n",
       "      <td>vyE1P</td>\n",
       "      <td>6.263187</td>\n",
       "      <td>-5.948386</td>\n",
       "      <td>5.001160</td>\n",
       "      <td>134.766305</td>\n",
       "    </tr>\n",
       "    <tr>\n",
       "      <th>3</th>\n",
       "      <td>KcrkZ</td>\n",
       "      <td>-13.081196</td>\n",
       "      <td>-11.506057</td>\n",
       "      <td>4.999415</td>\n",
       "      <td>137.945408</td>\n",
       "    </tr>\n",
       "    <tr>\n",
       "      <th>4</th>\n",
       "      <td>AHL4O</td>\n",
       "      <td>12.702195</td>\n",
       "      <td>-8.147433</td>\n",
       "      <td>5.004363</td>\n",
       "      <td>134.766305</td>\n",
       "    </tr>\n",
       "  </tbody>\n",
       "</table>\n",
       "</div>"
      ],
      "text/plain": [
       "      id         f0         f1        f2     product\n",
       "0  kBEdx -15.001348  -8.276000 -0.005876    3.179103\n",
       "1  62mP7  14.272088  -3.475083  0.999183   26.953261\n",
       "2  vyE1P   6.263187  -5.948386  5.001160  134.766305\n",
       "3  KcrkZ -13.081196 -11.506057  4.999415  137.945408\n",
       "4  AHL4O  12.702195  -8.147433  5.004363  134.766305"
      ]
     },
     "execution_count": 12,
     "metadata": {},
     "output_type": "execute_result"
    }
   ],
   "source": [
    "data_g1.head()"
   ]
  },
  {
   "cell_type": "code",
   "execution_count": 13,
   "metadata": {},
   "outputs": [
    {
     "data": {
      "text/html": [
       "<div>\n",
       "<style scoped>\n",
       "    .dataframe tbody tr th:only-of-type {\n",
       "        vertical-align: middle;\n",
       "    }\n",
       "\n",
       "    .dataframe tbody tr th {\n",
       "        vertical-align: top;\n",
       "    }\n",
       "\n",
       "    .dataframe thead th {\n",
       "        text-align: right;\n",
       "    }\n",
       "</style>\n",
       "<table border=\"1\" class=\"dataframe\">\n",
       "  <thead>\n",
       "    <tr style=\"text-align: right;\">\n",
       "      <th></th>\n",
       "      <th>id</th>\n",
       "      <th>f0</th>\n",
       "      <th>f1</th>\n",
       "      <th>f2</th>\n",
       "      <th>product</th>\n",
       "    </tr>\n",
       "  </thead>\n",
       "  <tbody>\n",
       "    <tr>\n",
       "      <th>0</th>\n",
       "      <td>txEyH</td>\n",
       "      <td>0.705745</td>\n",
       "      <td>-0.497823</td>\n",
       "      <td>1.221170</td>\n",
       "      <td>105.280062</td>\n",
       "    </tr>\n",
       "    <tr>\n",
       "      <th>1</th>\n",
       "      <td>2acmU</td>\n",
       "      <td>1.334711</td>\n",
       "      <td>-0.340164</td>\n",
       "      <td>4.365080</td>\n",
       "      <td>73.037750</td>\n",
       "    </tr>\n",
       "    <tr>\n",
       "      <th>2</th>\n",
       "      <td>409Wp</td>\n",
       "      <td>1.022732</td>\n",
       "      <td>0.151990</td>\n",
       "      <td>1.419926</td>\n",
       "      <td>85.265647</td>\n",
       "    </tr>\n",
       "    <tr>\n",
       "      <th>3</th>\n",
       "      <td>iJLyR</td>\n",
       "      <td>-0.032172</td>\n",
       "      <td>0.139033</td>\n",
       "      <td>2.978566</td>\n",
       "      <td>168.620776</td>\n",
       "    </tr>\n",
       "    <tr>\n",
       "      <th>4</th>\n",
       "      <td>Xdl7t</td>\n",
       "      <td>1.988431</td>\n",
       "      <td>0.155413</td>\n",
       "      <td>4.751769</td>\n",
       "      <td>154.036647</td>\n",
       "    </tr>\n",
       "  </tbody>\n",
       "</table>\n",
       "</div>"
      ],
      "text/plain": [
       "      id        f0        f1        f2     product\n",
       "0  txEyH  0.705745 -0.497823  1.221170  105.280062\n",
       "1  2acmU  1.334711 -0.340164  4.365080   73.037750\n",
       "2  409Wp  1.022732  0.151990  1.419926   85.265647\n",
       "3  iJLyR -0.032172  0.139033  2.978566  168.620776\n",
       "4  Xdl7t  1.988431  0.155413  4.751769  154.036647"
      ]
     },
     "execution_count": 13,
     "metadata": {},
     "output_type": "execute_result"
    }
   ],
   "source": [
    "data_g0.head()"
   ]
  },
  {
   "cell_type": "code",
   "execution_count": 14,
   "metadata": {},
   "outputs": [],
   "source": [
    "scaler = StandardScaler()\n",
    "data_g0.loc[:, ['f0_0', 'f1_1', 'f2_2']] = scaler.fit_transform(data_g0.set_index('id').drop(columns='product'))\n",
    "data_g1.loc[:, ['f0_0', 'f1_1', 'f2_2']] = scaler.transform(data_g1.set_index('id').drop(columns='product'))\n",
    "data_g2.loc[:, ['f0_0', 'f1_1', 'f2_2']] = scaler.transform(data_g2.set_index('id').drop(columns='product'))"
   ]
  },
  {
   "cell_type": "code",
   "execution_count": 15,
   "metadata": {},
   "outputs": [
    {
     "data": {
      "text/html": [
       "<div>\n",
       "<style scoped>\n",
       "    .dataframe tbody tr th:only-of-type {\n",
       "        vertical-align: middle;\n",
       "    }\n",
       "\n",
       "    .dataframe tbody tr th {\n",
       "        vertical-align: top;\n",
       "    }\n",
       "\n",
       "    .dataframe thead th {\n",
       "        text-align: right;\n",
       "    }\n",
       "</style>\n",
       "<table border=\"1\" class=\"dataframe\">\n",
       "  <thead>\n",
       "    <tr style=\"text-align: right;\">\n",
       "      <th></th>\n",
       "      <th>id</th>\n",
       "      <th>f0</th>\n",
       "      <th>f1</th>\n",
       "      <th>f2</th>\n",
       "      <th>product</th>\n",
       "      <th>f0_0</th>\n",
       "      <th>f1_1</th>\n",
       "      <th>f2_2</th>\n",
       "    </tr>\n",
       "  </thead>\n",
       "  <tbody>\n",
       "    <tr>\n",
       "      <th>0</th>\n",
       "      <td>txEyH</td>\n",
       "      <td>0.705745</td>\n",
       "      <td>-0.497823</td>\n",
       "      <td>1.221170</td>\n",
       "      <td>105.280062</td>\n",
       "      <td>0.235512</td>\n",
       "      <td>-1.482793</td>\n",
       "      <td>-0.394515</td>\n",
       "    </tr>\n",
       "    <tr>\n",
       "      <th>1</th>\n",
       "      <td>2acmU</td>\n",
       "      <td>1.334711</td>\n",
       "      <td>-0.340164</td>\n",
       "      <td>4.365080</td>\n",
       "      <td>73.037750</td>\n",
       "      <td>0.956946</td>\n",
       "      <td>-1.170246</td>\n",
       "      <td>0.573368</td>\n",
       "    </tr>\n",
       "    <tr>\n",
       "      <th>2</th>\n",
       "      <td>409Wp</td>\n",
       "      <td>1.022732</td>\n",
       "      <td>0.151990</td>\n",
       "      <td>1.419926</td>\n",
       "      <td>85.265647</td>\n",
       "      <td>0.599101</td>\n",
       "      <td>-0.194581</td>\n",
       "      <td>-0.333326</td>\n",
       "    </tr>\n",
       "    <tr>\n",
       "      <th>3</th>\n",
       "      <td>iJLyR</td>\n",
       "      <td>-0.032172</td>\n",
       "      <td>0.139033</td>\n",
       "      <td>2.978566</td>\n",
       "      <td>168.620776</td>\n",
       "      <td>-0.610890</td>\n",
       "      <td>-0.220269</td>\n",
       "      <td>0.146516</td>\n",
       "    </tr>\n",
       "    <tr>\n",
       "      <th>4</th>\n",
       "      <td>Xdl7t</td>\n",
       "      <td>1.988431</td>\n",
       "      <td>0.155413</td>\n",
       "      <td>4.751769</td>\n",
       "      <td>154.036647</td>\n",
       "      <td>1.706773</td>\n",
       "      <td>-0.187797</td>\n",
       "      <td>0.692414</td>\n",
       "    </tr>\n",
       "  </tbody>\n",
       "</table>\n",
       "</div>"
      ],
      "text/plain": [
       "      id        f0        f1        f2     product      f0_0      f1_1  \\\n",
       "0  txEyH  0.705745 -0.497823  1.221170  105.280062  0.235512 -1.482793   \n",
       "1  2acmU  1.334711 -0.340164  4.365080   73.037750  0.956946 -1.170246   \n",
       "2  409Wp  1.022732  0.151990  1.419926   85.265647  0.599101 -0.194581   \n",
       "3  iJLyR -0.032172  0.139033  2.978566  168.620776 -0.610890 -0.220269   \n",
       "4  Xdl7t  1.988431  0.155413  4.751769  154.036647  1.706773 -0.187797   \n",
       "\n",
       "       f2_2  \n",
       "0 -0.394515  \n",
       "1  0.573368  \n",
       "2 -0.333326  \n",
       "3  0.146516  \n",
       "4  0.692414  "
      ]
     },
     "execution_count": 15,
     "metadata": {},
     "output_type": "execute_result"
    }
   ],
   "source": [
    "data_g0.head()"
   ]
  },
  {
   "cell_type": "code",
   "execution_count": 16,
   "metadata": {},
   "outputs": [
    {
     "data": {
      "text/html": [
       "<div>\n",
       "<style scoped>\n",
       "    .dataframe tbody tr th:only-of-type {\n",
       "        vertical-align: middle;\n",
       "    }\n",
       "\n",
       "    .dataframe tbody tr th {\n",
       "        vertical-align: top;\n",
       "    }\n",
       "\n",
       "    .dataframe thead th {\n",
       "        text-align: right;\n",
       "    }\n",
       "</style>\n",
       "<table border=\"1\" class=\"dataframe\">\n",
       "  <thead>\n",
       "    <tr style=\"text-align: right;\">\n",
       "      <th></th>\n",
       "      <th>id</th>\n",
       "      <th>f0</th>\n",
       "      <th>f1</th>\n",
       "      <th>f2</th>\n",
       "      <th>product</th>\n",
       "      <th>f0_0</th>\n",
       "      <th>f1_1</th>\n",
       "      <th>f2_2</th>\n",
       "    </tr>\n",
       "  </thead>\n",
       "  <tbody>\n",
       "    <tr>\n",
       "      <th>0</th>\n",
       "      <td>kBEdx</td>\n",
       "      <td>-15.001348</td>\n",
       "      <td>-8.276000</td>\n",
       "      <td>-0.005876</td>\n",
       "      <td>3.179103</td>\n",
       "      <td>-17.780771</td>\n",
       "      <td>-16.902525</td>\n",
       "      <td>-0.772273</td>\n",
       "    </tr>\n",
       "    <tr>\n",
       "      <th>1</th>\n",
       "      <td>62mP7</td>\n",
       "      <td>14.272088</td>\n",
       "      <td>-3.475083</td>\n",
       "      <td>0.999183</td>\n",
       "      <td>26.953261</td>\n",
       "      <td>15.796320</td>\n",
       "      <td>-7.385019</td>\n",
       "      <td>-0.462856</td>\n",
       "    </tr>\n",
       "    <tr>\n",
       "      <th>2</th>\n",
       "      <td>vyE1P</td>\n",
       "      <td>6.263187</td>\n",
       "      <td>-5.948386</td>\n",
       "      <td>5.001160</td>\n",
       "      <td>134.766305</td>\n",
       "      <td>6.609985</td>\n",
       "      <td>-12.288181</td>\n",
       "      <td>0.769192</td>\n",
       "    </tr>\n",
       "    <tr>\n",
       "      <th>3</th>\n",
       "      <td>KcrkZ</td>\n",
       "      <td>-13.081196</td>\n",
       "      <td>-11.506057</td>\n",
       "      <td>4.999415</td>\n",
       "      <td>137.945408</td>\n",
       "      <td>-15.578326</td>\n",
       "      <td>-23.305902</td>\n",
       "      <td>0.768655</td>\n",
       "    </tr>\n",
       "    <tr>\n",
       "      <th>4</th>\n",
       "      <td>AHL4O</td>\n",
       "      <td>12.702195</td>\n",
       "      <td>-8.147433</td>\n",
       "      <td>5.004363</td>\n",
       "      <td>134.766305</td>\n",
       "      <td>13.995628</td>\n",
       "      <td>-16.647650</td>\n",
       "      <td>0.770178</td>\n",
       "    </tr>\n",
       "  </tbody>\n",
       "</table>\n",
       "</div>"
      ],
      "text/plain": [
       "      id         f0         f1        f2     product       f0_0       f1_1  \\\n",
       "0  kBEdx -15.001348  -8.276000 -0.005876    3.179103 -17.780771 -16.902525   \n",
       "1  62mP7  14.272088  -3.475083  0.999183   26.953261  15.796320  -7.385019   \n",
       "2  vyE1P   6.263187  -5.948386  5.001160  134.766305   6.609985 -12.288181   \n",
       "3  KcrkZ -13.081196 -11.506057  4.999415  137.945408 -15.578326 -23.305902   \n",
       "4  AHL4O  12.702195  -8.147433  5.004363  134.766305  13.995628 -16.647650   \n",
       "\n",
       "       f2_2  \n",
       "0 -0.772273  \n",
       "1 -0.462856  \n",
       "2  0.769192  \n",
       "3  0.768655  \n",
       "4  0.770178  "
      ]
     },
     "execution_count": 16,
     "metadata": {},
     "output_type": "execute_result"
    }
   ],
   "source": [
    "data_g1.head()"
   ]
  },
  {
   "cell_type": "code",
   "execution_count": 17,
   "metadata": {},
   "outputs": [
    {
     "data": {
      "text/html": [
       "<div>\n",
       "<style scoped>\n",
       "    .dataframe tbody tr th:only-of-type {\n",
       "        vertical-align: middle;\n",
       "    }\n",
       "\n",
       "    .dataframe tbody tr th {\n",
       "        vertical-align: top;\n",
       "    }\n",
       "\n",
       "    .dataframe thead th {\n",
       "        text-align: right;\n",
       "    }\n",
       "</style>\n",
       "<table border=\"1\" class=\"dataframe\">\n",
       "  <thead>\n",
       "    <tr style=\"text-align: right;\">\n",
       "      <th></th>\n",
       "      <th>id</th>\n",
       "      <th>f0</th>\n",
       "      <th>f1</th>\n",
       "      <th>f2</th>\n",
       "      <th>product</th>\n",
       "      <th>f0_0</th>\n",
       "      <th>f1_1</th>\n",
       "      <th>f2_2</th>\n",
       "    </tr>\n",
       "  </thead>\n",
       "  <tbody>\n",
       "    <tr>\n",
       "      <th>0</th>\n",
       "      <td>fwXo0</td>\n",
       "      <td>-1.146987</td>\n",
       "      <td>0.963328</td>\n",
       "      <td>-0.828965</td>\n",
       "      <td>27.758673</td>\n",
       "      <td>-1.889601</td>\n",
       "      <td>1.413843</td>\n",
       "      <td>-1.025669</td>\n",
       "    </tr>\n",
       "    <tr>\n",
       "      <th>1</th>\n",
       "      <td>WJtFt</td>\n",
       "      <td>0.262778</td>\n",
       "      <td>0.269839</td>\n",
       "      <td>-2.530187</td>\n",
       "      <td>56.069697</td>\n",
       "      <td>-0.272578</td>\n",
       "      <td>0.039046</td>\n",
       "      <td>-1.549407</td>\n",
       "    </tr>\n",
       "    <tr>\n",
       "      <th>2</th>\n",
       "      <td>ovLUW</td>\n",
       "      <td>0.194587</td>\n",
       "      <td>0.289035</td>\n",
       "      <td>-5.586433</td>\n",
       "      <td>62.871910</td>\n",
       "      <td>-0.350794</td>\n",
       "      <td>0.077101</td>\n",
       "      <td>-2.490303</td>\n",
       "    </tr>\n",
       "    <tr>\n",
       "      <th>3</th>\n",
       "      <td>q6cA6</td>\n",
       "      <td>2.236060</td>\n",
       "      <td>-0.553760</td>\n",
       "      <td>0.930038</td>\n",
       "      <td>114.572842</td>\n",
       "      <td>1.990807</td>\n",
       "      <td>-1.593685</td>\n",
       "      <td>-0.484143</td>\n",
       "    </tr>\n",
       "    <tr>\n",
       "      <th>4</th>\n",
       "      <td>WPMUX</td>\n",
       "      <td>-0.515993</td>\n",
       "      <td>1.716266</td>\n",
       "      <td>5.899011</td>\n",
       "      <td>149.600746</td>\n",
       "      <td>-1.165841</td>\n",
       "      <td>2.906493</td>\n",
       "      <td>1.045604</td>\n",
       "    </tr>\n",
       "  </tbody>\n",
       "</table>\n",
       "</div>"
      ],
      "text/plain": [
       "      id        f0        f1        f2     product      f0_0      f1_1  \\\n",
       "0  fwXo0 -1.146987  0.963328 -0.828965   27.758673 -1.889601  1.413843   \n",
       "1  WJtFt  0.262778  0.269839 -2.530187   56.069697 -0.272578  0.039046   \n",
       "2  ovLUW  0.194587  0.289035 -5.586433   62.871910 -0.350794  0.077101   \n",
       "3  q6cA6  2.236060 -0.553760  0.930038  114.572842  1.990807 -1.593685   \n",
       "4  WPMUX -0.515993  1.716266  5.899011  149.600746 -1.165841  2.906493   \n",
       "\n",
       "       f2_2  \n",
       "0 -1.025669  \n",
       "1 -1.549407  \n",
       "2 -2.490303  \n",
       "3 -0.484143  \n",
       "4  1.045604  "
      ]
     },
     "execution_count": 17,
     "metadata": {},
     "output_type": "execute_result"
    }
   ],
   "source": [
    "data_g2.head()"
   ]
  },
  {
   "cell_type": "markdown",
   "metadata": {},
   "source": [
    "## Обучение и проверка модели"
   ]
  },
  {
   "cell_type": "code",
   "execution_count": 18,
   "metadata": {},
   "outputs": [],
   "source": [
    "# Функция для обучения и оценки модели на каждом регионе\n",
    "def train_and_evaluate(data):\n",
    "    # Разделение данных на признаки (X) и целевой признак (y)\n",
    "    X = data[['f0_0', 'f1_1', 'f2_2']]\n",
    "    y = data['product']\n",
    "    \n",
    "    # Разделение на обучающую и валидационную выборки\n",
    "    X_train, X_valid, y_train, y_valid = train_test_split(X, y, test_size=0.25, random_state=42)\n",
    "    \n",
    "    # Обучение модели линейной регрессии\n",
    "    model = LinearRegression()\n",
    "    model.fit(X_train, y_train)\n",
    "    \n",
    "    # Предсказание на валидационной выборке\n",
    "    y_pred = model.predict(X_valid)\n",
    "    \n",
    "    # Сохранение предсказаний и фактических значений\n",
    "    predictions = pd.DataFrame({'actual': y_valid, 'predicted': y_pred})\n",
    "    \n",
    "    # Вычисление среднего запаса предсказанного сырья\n",
    "    mean_predicted = np.mean(y_pred)\n",
    "    \n",
    "    # Вычисление RMSE\n",
    "    rmse = np.sqrt(mean_squared_error(y_valid, y_pred))\n",
    "    \n",
    "    # Печать результатов\n",
    "    print(f\"Средний запас предсказанного сырья: {mean_predicted:.2f} тыс. баррелей\")\n",
    "    print(f\"RMSE модели: {rmse:.2f}\")\n",
    "    \n",
    "    return predictions"
   ]
  },
  {
   "cell_type": "code",
   "execution_count": 19,
   "metadata": {},
   "outputs": [
    {
     "name": "stdout",
     "output_type": "stream",
     "text": [
      "Регион 0:\n",
      "Средний запас предсказанного сырья: 92.40 тыс. баррелей\n",
      "RMSE модели: 37.76\n",
      "\n",
      "Регион 1:\n",
      "Средний запас предсказанного сырья: 68.71 тыс. баррелей\n",
      "RMSE модели: 0.89\n",
      "\n",
      "Регион 2:\n",
      "Средний запас предсказанного сырья: 94.77 тыс. баррелей\n",
      "RMSE модели: 40.15\n"
     ]
    }
   ],
   "source": [
    "# Обучение и оценка для каждого региона\n",
    "print(\"Регион 0:\")\n",
    "predictions_0 = train_and_evaluate(data_g0)\n",
    "\n",
    "print(\"\\nРегион 1:\")\n",
    "predictions_1 = train_and_evaluate(data_g1)\n",
    "\n",
    "print(\"\\nРегион 2:\")\n",
    "predictions_2 = train_and_evaluate(data_g2)"
   ]
  },
  {
   "cell_type": "markdown",
   "metadata": {},
   "source": [
    "**Вывод: На данном шаге написана функция, которая обучает модель Линейной регрессии, делает предсказания на валидационной выборке и расчитывает метрику RMSE. Получаем, что модель для 0 региона показывает один из наибольших средних запасов сырья, но rmse велика, для 1 региона наименьший запас сырья, но rmse имеет маленькое значение, что очень хорошо. Для 2 региона параметры почти такие же как и для региона 2, но средний запас чуть больше и rmse тоже увеличилась.**"
   ]
  },
  {
   "cell_type": "markdown",
   "metadata": {},
   "source": [
    "## Подготовка к расчёту прибыли"
   ]
  },
  {
   "cell_type": "code",
   "execution_count": 20,
   "metadata": {},
   "outputs": [],
   "source": [
    "ALL_PLACE = 500 # Всего выбирают 500 точек\n",
    "LEARN_PLACE = 200 # с помощью машинного обучения\n",
    "ALL_MONEY = 10 ** 10 # Общий бюджет\n",
    "PROFIT_ONE_BARREL= 450 # Цена за один баррель\n",
    "PROFIT_ONE_PRODUCT= 45 * (10 **4) # Цена с единицы продукта (Объем в тысячах баррелей)"
   ]
  },
  {
   "cell_type": "code",
   "execution_count": 21,
   "metadata": {},
   "outputs": [
    {
     "name": "stdout",
     "output_type": "stream",
     "text": [
      "Достаточный объем сырья для безубыточности: 111.11 тыс. баррелей\n",
      "Средний запас в Регионе 0: 92.4 тыс. баррелей\n",
      "В регионе 0 средний запас сырья меньше, чем объем сырья необходимый для безубыточности.\n",
      "+----------------------------------+\n",
      "Средний запас в Регионе 1: 68.71 тыс. баррелей\n",
      "В регионе 1 средний запас сырья меньше, чем объем сырья необходимый для безубыточности.\n",
      "+----------------------------------+\n",
      "Средний запас в Регионе 2: 94.77 тыс. баррелей\n",
      "В регионе 2 средний запас сырья меньше, чем объем сырья необходимый для безубыточности.\n",
      "+----------------------------------+\n"
     ]
    }
   ],
   "source": [
    "# Расчет достаточного объема сырья для безубыточности\n",
    "sufficient_volume = ALL_MONEY / (PROFIT_ONE_PRODUCT * LEARN_PLACE)\n",
    "print(f\"Достаточный объем сырья для безубыточности: {sufficient_volume:.2f} тыс. баррелей\")\n",
    "\n",
    "# Средние запасы предсказанного сырья по регионам\n",
    "avg_reserves_region_012 = [92.4, 68.71, 94.77]\n",
    "region = [0, 1, 2]\n",
    "for reserve, region in zip(avg_reserves_region_012, region):\n",
    "    print(f\"Средний запас в Регионе {region}: {reserve} тыс. баррелей\")\n",
    "    if reserve > sufficient_volume:\n",
    "        print(f\"В регионе {region} средний запас сырья больше, чем объем сырья необходимый для безубыточности.\")\n",
    "    else: \n",
    "        print(f\"В регионе {region} средний запас сырья меньше, чем объем сырья необходимый для безубыточности.\")\n",
    "    print(\"+----------------------------------+\")"
   ]
  },
  {
   "cell_type": "markdown",
   "metadata": {},
   "source": [
    "**Вывод: Получаем, что для того, чтобы постройка скважин окупилась, их необходимая производительность должна быть 111 тысяч баррелей. Но однако среднего запаса сырья предсказанного моделью не хватает для того, чтобы скважины окупились во всех регионах.** "
   ]
  },
  {
   "cell_type": "markdown",
   "metadata": {},
   "source": [
    "## Расчёт прибыли и рисков "
   ]
  },
  {
   "cell_type": "code",
   "execution_count": 22,
   "metadata": {},
   "outputs": [],
   "source": [
    "def calculate_profit(predictions, true_values, count_wells, price_per_product):\n",
    "    selected_indices = np.argsort(predictions)[-count_wells:]  # Индексы лучших скважин по предсказаниям\n",
    "    selected_true_values = true_values.iloc[selected_indices]  # Соответствующие истинные значения\n",
    "    total_volume = selected_true_values.sum()\n",
    "    profit = (total_volume * price_per_product - ALL_MONEY) / (10 ** 9)\n",
    "    return profit"
   ]
  },
  {
   "cell_type": "code",
   "execution_count": 23,
   "metadata": {},
   "outputs": [
    {
     "name": "stdout",
     "output_type": "stream",
     "text": [
      "Прибыль для района 0: 3.36 млрд. руб.\n",
      "Прибыль для района 1: 2.42 млрд. руб.\n",
      "Прибыль для района 2: 2.60 млрд. руб.\n"
     ]
    }
   ],
   "source": [
    "# Параметры\n",
    "count_wells = 200  # Количество лучших скважин для расчета прибыли\n",
    "# Расчет прибыли\n",
    "profit_0 = calculate_profit(predictions_0['predicted'], predictions_0['actual'], count_wells, PROFIT_ONE_PRODUCT)\n",
    "print(f\"Прибыль для района 0: {profit_0:.2f} млрд. руб.\")\n",
    "profit_1 = calculate_profit(predictions_1['predicted'], predictions_1['actual'], count_wells, PROFIT_ONE_PRODUCT)\n",
    "print(f\"Прибыль для района 1: {profit_1:.2f} млрд. руб.\")\n",
    "profit_2 = calculate_profit(predictions_2['predicted'], predictions_2['actual'], count_wells, PROFIT_ONE_PRODUCT)\n",
    "print(f\"Прибыль для района 2: {profit_2:.2f} млрд. руб.\")"
   ]
  },
  {
   "cell_type": "markdown",
   "metadata": {},
   "source": [
    "**Вывод: Регион 1 показывает лучший результат, скважины в том районе приносят наибольшую прибыль.**"
   ]
  },
  {
   "cell_type": "code",
   "execution_count": 24,
   "metadata": {},
   "outputs": [],
   "source": [
    "state = np.random.RandomState(12345)\n",
    "def bootstrap_profit(data, count_wells, price_per_product):\n",
    "    n_samples=1000\n",
    "    profits = []\n",
    "    for _ in range(n_samples):\n",
    "        subsample = data.sample(n=ALL_PLACE, replace=True, random_state=state)\n",
    "        selected_data = subsample.sort_values(by='predicted', ascending=False).head(count_wells)\n",
    "        profit = calculate_profit(selected_data['predicted'], selected_data['actual'], count_wells, price_per_product)\n",
    "        profits.append(profit)\n",
    "    profits = np.array(profits)\n",
    "    mean_profit = np.mean(profits)\n",
    "    lower = np.percentile(profits, 2.5)\n",
    "    upper = np.percentile(profits, 97.5)\n",
    "    risk_of_loss = (profits < 0).mean()  # Доля выборок с убытками\n",
    "    \n",
    "    return mean_profit, (lower, upper), risk_of_loss\n"
   ]
  },
  {
   "cell_type": "code",
   "execution_count": 25,
   "metadata": {},
   "outputs": [
    {
     "name": "stdout",
     "output_type": "stream",
     "text": [
      "Регион 0: Средняя прибыль = 0.41 млрд. руб., 95% доверительный интервал = (-0.11774213649487013, 0.9117370507514055), Риск убытков = 6.70%\n",
      "Регион 1: Средняя прибыль = 0.44 млрд. руб., 95% доверительный интервал = (0.03572848928085324, 0.8280066390043884), Риск убытков = 1.60%\n",
      "Регион 2: Средняя прибыль = 0.39 млрд. руб., 95% доверительный интервал = (-0.16478516610904617, 0.8882062341976783), Риск убытков = 7.80%\n"
     ]
    }
   ],
   "source": [
    "# Расчет прибыли и рисков для региона 0\n",
    "mean_profit_0, confidence_interval_0, risk_0 = bootstrap_profit(predictions_0, count_wells, PROFIT_ONE_PRODUCT)\n",
    "print(f\"Регион 0: Средняя прибыль = {mean_profit_0:.2f} млрд. руб., 95% доверительный интервал = {confidence_interval_0}, Риск убытков = {risk_0:.2%}\")\n",
    "\n",
    "# Расчет прибыли и рисков для региона 1\n",
    "mean_profit_1, confidence_interval_1, risk_1 = bootstrap_profit(predictions_1, count_wells, PROFIT_ONE_PRODUCT)\n",
    "print(f\"Регион 1: Средняя прибыль = {mean_profit_1:.2f} млрд. руб., 95% доверительный интервал = {confidence_interval_1}, Риск убытков = {risk_1:.2%}\")\n",
    "\n",
    "# Расчет прибыли и рисков для региона 2\n",
    "mean_profit_2, confidence_interval_2, risk_2 = bootstrap_profit(predictions_2, count_wells, PROFIT_ONE_PRODUCT)\n",
    "print(f\"Регион 2: Средняя прибыль = {mean_profit_2:.2f} млрд. руб., 95% доверительный интервал = {confidence_interval_2}, Риск убытков = {risk_2:.2%}\")"
   ]
  },
  {
   "cell_type": "markdown",
   "metadata": {},
   "source": [
    "Регион 1 показывает наивысшую среднюю прибыль среди всех трех регионов. Однако все значения достаточно близки, что указывает на сравнительно небольшую разницу в ожидаемой доходности между регионами.\n",
    "\n",
    "\n",
    "Для регионов 0 и 2 нижняя граница доверительного интервала отрицательная, что указывает на вероятность того, что прибыль может оказаться отрицательной. В регионе 1 обе границы положительные, что делает этот регион более стабильным с точки зрения предсказанной прибыли.\n",
    "\n",
    "Регион 1 имеет наименьший риск убытков (1.6%), что делает его наиболее безопасным вариантом. В то время как регионы 0 и 2 имеют более высокий риск убытков (6.7% и 7.8% соответственно).\n"
   ]
  },
  {
   "cell_type": "markdown",
   "metadata": {},
   "source": [
    "## Итоговый вывод"
   ]
  },
  {
   "cell_type": "markdown",
   "metadata": {},
   "source": [
    "В ходе выполнения проекта были выполнены следующие шаги:\n",
    "\n",
    "- Подключены необходимые инструменты для работы. С помощью sweetviz выведена общая информация о датасетах и распределение данных.\n",
    "\n",
    "- Далее построена функция, которая обучает модель Линейной регрессии, делает предсказания на валидационной выборке и расчитывает метрику RMSE. Получаем, что модель для 0 региона показывает один из наибольших средних запасов сырья, но rmse велика, для 1 региона наименьший запас сырья, но rmse имеет маленькое значение, что очень хорошо. Для 2 региона параметры почти такие же как и для региона 2, но средний запас чуть больше и rmse тоже увеличилась.\n",
    "\n",
    "- После этого посчитано количество сырья необходимое для того, чтобы постройка скважин окупилась - 111 тыс. баррелей. Также посчитано сколько сможет дать прибыли скважины в каждом регионе и применена техника bootstrap для оценки распределения прибыли, полуены следующие результаты:\n",
    "\n",
    "    1. **Средняя прибыль**:\n",
    "       - Регион 0: Средняя прибыль составляет 0.41 млрд руб.\n",
    "       - Регион 1: Средняя прибыль составляет 0.44 млрд руб.\n",
    "       - Регион 2: Средняя прибыль составляет 0.39 млрд руб.\n",
    "   \n",
    "       Регион 0 имеет самую высокую среднюю прибыль среди всех трех регионов, что делает его наиболее привлекательным с точки зрения ожидаемой доходности.\n",
    "\n",
    "    2. **95%-й доверительный интервал**:\n",
    "       - Регион 0: (-0.118, 0.912) млрд руб.\n",
    "       - Регион 1: (0.036, 0.828) млрд руб.\n",
    "       - Регион 2: (-0.165, 0.888) млрд руб.\n",
    "\n",
    "       - Для регионов 0 и 2 нижняя граница доверительного интервала отрицательная, что указывает на вероятность того, что прибыль может оказаться отрицательной. \n",
    "       - В регионе 1 обе границы положительные, что делает этот регион более стабильным с точки зрения предсказанной прибыли.\n",
    "\n",
    "    3. **Риск убытков**:\n",
    "       - Регион 0: Риск убытков составляет 6.7%.\n",
    "       - Регион 1: Риск убытков составляет 1.6%.\n",
    "       - Регион 2: Риск убытков составляет 7.8%.\n",
    "\n",
    "       \n",
    "1. Регион 1 является наиболее предпочтительным для разработки скважин, поскольку:\n",
    "   - Он показывает наивысшую среднюю прибыль (0.44 млрд руб.).\n",
    "   - Он единственный, где доверительный интервал полностью положительный.\n",
    "   - У него самый низкий риск убытков (1.6%).\n",
    "\n",
    "2. Регион 0 и Регион 2 менее привлекательны:\n",
    "   - Оба имеют отрицательные границы доверительных интервалов, что указывает на вероятность убытков.\n",
    "   - Риск убытков выше по сравнению с регионом 1.\n",
    "\n",
    "Таким образом, Регион 1 выглядит наиболее безопасным и прибыльным для инвестиций, несмотря на сравнительно невысокую среднюю прибыль."
   ]
  }
 ],
 "metadata": {
  "ExecuteTimeLog": [
   {
    "duration": 815,
    "start_time": "2024-08-09T15:32:31.887Z"
   },
   {
    "duration": 3,
    "start_time": "2024-08-09T15:32:33.524Z"
   },
   {
    "duration": 943,
    "start_time": "2024-08-09T15:34:29.994Z"
   },
   {
    "duration": 13,
    "start_time": "2024-08-09T15:36:52.428Z"
   },
   {
    "duration": 5334,
    "start_time": "2024-08-09T15:39:25.886Z"
   },
   {
    "duration": 768,
    "start_time": "2024-08-09T15:39:33.392Z"
   },
   {
    "duration": 4202,
    "start_time": "2024-08-09T15:41:05.459Z"
   },
   {
    "duration": 4313,
    "start_time": "2024-08-09T15:59:37.170Z"
   },
   {
    "duration": 4064,
    "start_time": "2024-08-09T15:59:48.126Z"
   },
   {
    "duration": 3859,
    "start_time": "2024-08-09T15:59:58.367Z"
   },
   {
    "duration": 111,
    "start_time": "2024-08-09T16:00:17.311Z"
   },
   {
    "duration": 60,
    "start_time": "2024-08-09T16:03:51.834Z"
   },
   {
    "duration": 4261,
    "start_time": "2024-08-09T16:04:09.447Z"
   },
   {
    "duration": 54,
    "start_time": "2024-08-09T16:04:20.608Z"
   },
   {
    "duration": 62,
    "start_time": "2024-08-09T16:04:27.391Z"
   },
   {
    "duration": 40,
    "start_time": "2024-08-09T16:04:35.046Z"
   },
   {
    "duration": 37,
    "start_time": "2024-08-09T16:04:44.671Z"
   },
   {
    "duration": 3,
    "start_time": "2024-08-09T16:05:09.146Z"
   },
   {
    "duration": 2,
    "start_time": "2024-08-09T16:05:19.378Z"
   },
   {
    "duration": 11,
    "start_time": "2024-08-09T16:05:28.601Z"
   },
   {
    "duration": 8,
    "start_time": "2024-08-09T16:05:39.967Z"
   },
   {
    "duration": 10,
    "start_time": "2024-08-09T16:09:20.334Z"
   },
   {
    "duration": 3,
    "start_time": "2024-08-09T16:09:24.237Z"
   },
   {
    "duration": 40,
    "start_time": "2024-08-09T16:09:26.680Z"
   },
   {
    "duration": 4106,
    "start_time": "2024-08-09T16:12:20.145Z"
   },
   {
    "duration": 3800,
    "start_time": "2024-08-09T16:12:24.253Z"
   },
   {
    "duration": 4388,
    "start_time": "2024-08-09T16:12:28.055Z"
   },
   {
    "duration": 4036,
    "start_time": "2024-08-09T16:12:37.197Z"
   },
   {
    "duration": 3441,
    "start_time": "2024-08-09T16:12:41.236Z"
   },
   {
    "duration": 33,
    "start_time": "2024-08-09T16:12:51.479Z"
   },
   {
    "duration": 31,
    "start_time": "2024-08-09T16:12:59.708Z"
   },
   {
    "duration": 35,
    "start_time": "2024-08-09T16:13:08.900Z"
   },
   {
    "duration": 12,
    "start_time": "2024-08-09T16:14:26.112Z"
   },
   {
    "duration": 44,
    "start_time": "2024-08-09T16:17:07.478Z"
   },
   {
    "duration": 9,
    "start_time": "2024-08-09T16:18:25.766Z"
   },
   {
    "duration": 10,
    "start_time": "2024-08-09T16:18:26.094Z"
   },
   {
    "duration": 36,
    "start_time": "2024-08-09T16:25:14.797Z"
   },
   {
    "duration": 23,
    "start_time": "2024-08-09T16:26:49.118Z"
   },
   {
    "duration": 9,
    "start_time": "2024-08-09T16:27:05.184Z"
   },
   {
    "duration": 19,
    "start_time": "2024-08-09T16:28:03.926Z"
   },
   {
    "duration": 9,
    "start_time": "2024-08-09T16:28:05.907Z"
   },
   {
    "duration": 920,
    "start_time": "2024-08-09T16:28:16.939Z"
   },
   {
    "duration": 20,
    "start_time": "2024-08-09T16:28:23.777Z"
   },
   {
    "duration": 10,
    "start_time": "2024-08-09T16:28:24.410Z"
   },
   {
    "duration": 36,
    "start_time": "2024-08-09T16:29:13.797Z"
   },
   {
    "duration": 9,
    "start_time": "2024-08-09T16:29:32.742Z"
   },
   {
    "duration": 9,
    "start_time": "2024-08-09T16:29:45.761Z"
   },
   {
    "duration": 10,
    "start_time": "2024-08-09T16:29:47.385Z"
   },
   {
    "duration": 54,
    "start_time": "2024-08-09T16:33:16.178Z"
   },
   {
    "duration": 4,
    "start_time": "2024-08-09T16:33:41.573Z"
   },
   {
    "duration": 26,
    "start_time": "2024-08-09T16:35:40.971Z"
   },
   {
    "duration": 25,
    "start_time": "2024-08-09T16:38:12.497Z"
   },
   {
    "duration": 22,
    "start_time": "2024-08-09T16:41:31.557Z"
   },
   {
    "duration": 56,
    "start_time": "2024-08-09T16:42:32.532Z"
   },
   {
    "duration": 4,
    "start_time": "2024-08-09T16:44:15.359Z"
   },
   {
    "duration": 15,
    "start_time": "2024-08-09T16:46:23.497Z"
   },
   {
    "duration": 12,
    "start_time": "2024-08-09T16:47:05.072Z"
   },
   {
    "duration": 4,
    "start_time": "2024-08-09T16:49:24.173Z"
   },
   {
    "duration": 7,
    "start_time": "2024-08-09T16:50:31.131Z"
   },
   {
    "duration": 25,
    "start_time": "2024-08-09T16:51:02.536Z"
   },
   {
    "duration": 10,
    "start_time": "2024-08-09T16:51:47.687Z"
   },
   {
    "duration": 25,
    "start_time": "2024-08-09T16:51:50.512Z"
   },
   {
    "duration": 6,
    "start_time": "2024-08-09T16:51:50.756Z"
   },
   {
    "duration": 13,
    "start_time": "2024-08-09T16:52:26.607Z"
   },
   {
    "duration": 6,
    "start_time": "2024-08-09T16:52:28.989Z"
   },
   {
    "duration": 39,
    "start_time": "2024-08-09T16:54:39.752Z"
   },
   {
    "duration": 39,
    "start_time": "2024-08-09T16:55:13.346Z"
   },
   {
    "duration": 10,
    "start_time": "2024-08-09T16:56:04.766Z"
   },
   {
    "duration": 6,
    "start_time": "2024-08-09T16:56:44.796Z"
   },
   {
    "duration": 3,
    "start_time": "2024-08-09T17:06:04.255Z"
   },
   {
    "duration": 3,
    "start_time": "2024-08-09T17:06:49.683Z"
   },
   {
    "duration": 836,
    "start_time": "2024-08-09T17:07:17.626Z"
   },
   {
    "duration": 748,
    "start_time": "2024-08-09T17:07:28.515Z"
   },
   {
    "duration": 820,
    "start_time": "2024-08-09T17:08:47.842Z"
   },
   {
    "duration": 12,
    "start_time": "2024-08-09T17:11:09.153Z"
   },
   {
    "duration": 13,
    "start_time": "2024-08-09T17:11:17.659Z"
   },
   {
    "duration": 11,
    "start_time": "2024-08-09T17:12:27.671Z"
   },
   {
    "duration": 10,
    "start_time": "2024-08-09T17:12:36.657Z"
   },
   {
    "duration": 5,
    "start_time": "2024-08-09T17:13:19.665Z"
   },
   {
    "duration": 3,
    "start_time": "2024-08-09T17:14:43.981Z"
   },
   {
    "duration": 833,
    "start_time": "2024-08-09T17:14:51.628Z"
   },
   {
    "duration": 2,
    "start_time": "2024-08-09T17:15:04.371Z"
   },
   {
    "duration": 828,
    "start_time": "2024-08-09T17:15:06.232Z"
   },
   {
    "duration": 4,
    "start_time": "2024-08-10T18:22:42.322Z"
   },
   {
    "duration": 4312,
    "start_time": "2024-08-10T18:23:02.299Z"
   },
   {
    "duration": 1766,
    "start_time": "2024-08-10T18:23:06.614Z"
   },
   {
    "duration": 3,
    "start_time": "2024-08-10T18:23:08.382Z"
   },
   {
    "duration": 1058,
    "start_time": "2024-08-10T18:23:08.387Z"
   },
   {
    "duration": 4255,
    "start_time": "2024-08-10T18:23:09.448Z"
   },
   {
    "duration": 4337,
    "start_time": "2024-08-10T18:23:13.705Z"
   },
   {
    "duration": 3912,
    "start_time": "2024-08-10T18:23:18.043Z"
   },
   {
    "duration": 34,
    "start_time": "2024-08-10T18:23:21.957Z"
   },
   {
    "duration": 35,
    "start_time": "2024-08-10T18:23:21.993Z"
   },
   {
    "duration": 32,
    "start_time": "2024-08-10T18:23:22.030Z"
   },
   {
    "duration": 12,
    "start_time": "2024-08-10T18:23:22.064Z"
   },
   {
    "duration": 10,
    "start_time": "2024-08-10T18:23:22.077Z"
   },
   {
    "duration": 54,
    "start_time": "2024-08-10T18:23:22.089Z"
   },
   {
    "duration": 59,
    "start_time": "2024-08-10T18:23:22.146Z"
   },
   {
    "duration": 11,
    "start_time": "2024-08-10T18:23:22.206Z"
   },
   {
    "duration": 48,
    "start_time": "2024-08-10T18:23:22.219Z"
   },
   {
    "duration": 9,
    "start_time": "2024-08-10T18:23:22.269Z"
   },
   {
    "duration": 24,
    "start_time": "2024-08-10T18:23:22.280Z"
   },
   {
    "duration": 63,
    "start_time": "2024-08-10T18:23:22.305Z"
   },
   {
    "duration": 3,
    "start_time": "2024-08-10T18:23:22.370Z"
   },
   {
    "duration": 5,
    "start_time": "2024-08-10T18:23:22.374Z"
   },
   {
    "duration": 740,
    "start_time": "2024-08-10T18:23:22.381Z"
   },
   {
    "duration": 123,
    "start_time": "2024-08-10T18:26:47.470Z"
   },
   {
    "duration": 10,
    "start_time": "2024-08-10T18:27:04.261Z"
   },
   {
    "duration": 24,
    "start_time": "2024-08-10T18:27:21.260Z"
   },
   {
    "duration": 17,
    "start_time": "2024-08-10T18:27:35.185Z"
   },
   {
    "duration": 31,
    "start_time": "2024-08-10T18:27:57.482Z"
   },
   {
    "duration": 193,
    "start_time": "2024-08-10T18:33:50.704Z"
   },
   {
    "duration": 19,
    "start_time": "2024-08-10T18:35:52.562Z"
   },
   {
    "duration": 20,
    "start_time": "2024-08-10T18:35:58.070Z"
   },
   {
    "duration": 19,
    "start_time": "2024-08-10T18:39:38.140Z"
   },
   {
    "duration": 19,
    "start_time": "2024-08-10T18:39:49.800Z"
   },
   {
    "duration": 1086,
    "start_time": "2024-08-10T18:44:36.131Z"
   },
   {
    "duration": 575,
    "start_time": "2024-08-10T18:44:49.746Z"
   },
   {
    "duration": 67,
    "start_time": "2024-08-10T18:46:36.142Z"
   },
   {
    "duration": 13,
    "start_time": "2024-08-10T18:46:39.621Z"
   },
   {
    "duration": 60,
    "start_time": "2024-08-10T18:47:17.487Z"
   },
   {
    "duration": 9,
    "start_time": "2024-08-10T18:47:28.657Z"
   },
   {
    "duration": 454,
    "start_time": "2024-08-10T18:47:34.695Z"
   },
   {
    "duration": 163,
    "start_time": "2024-08-10T18:47:38.799Z"
   },
   {
    "duration": 11,
    "start_time": "2024-08-10T18:47:40.534Z"
   },
   {
    "duration": 11,
    "start_time": "2024-08-10T18:47:43.498Z"
   },
   {
    "duration": 12,
    "start_time": "2024-08-10T18:47:44.623Z"
   },
   {
    "duration": 31,
    "start_time": "2024-08-10T18:48:59.290Z"
   },
   {
    "duration": 12,
    "start_time": "2024-08-10T18:50:06.695Z"
   },
   {
    "duration": 33,
    "start_time": "2024-08-10T18:50:07.282Z"
   },
   {
    "duration": 6,
    "start_time": "2024-08-10T18:55:43.750Z"
   },
   {
    "duration": 6,
    "start_time": "2024-08-10T18:56:28.516Z"
   },
   {
    "duration": 6,
    "start_time": "2024-08-10T18:56:39.324Z"
   },
   {
    "duration": 11,
    "start_time": "2024-08-10T18:57:50.524Z"
   },
   {
    "duration": 11,
    "start_time": "2024-08-10T18:59:25.359Z"
   },
   {
    "duration": 12,
    "start_time": "2024-08-10T18:59:36.709Z"
   },
   {
    "duration": 10,
    "start_time": "2024-08-10T18:59:57.080Z"
   },
   {
    "duration": 4,
    "start_time": "2024-08-10T19:00:44.191Z"
   },
   {
    "duration": 63,
    "start_time": "2024-08-10T19:00:54.840Z"
   },
   {
    "duration": 468,
    "start_time": "2024-08-10T19:01:01.087Z"
   },
   {
    "duration": 227,
    "start_time": "2024-08-10T19:01:06.002Z"
   },
   {
    "duration": 20,
    "start_time": "2024-08-10T19:01:09.687Z"
   },
   {
    "duration": 11,
    "start_time": "2024-08-10T19:01:10.302Z"
   },
   {
    "duration": 21,
    "start_time": "2024-08-10T19:01:11.543Z"
   },
   {
    "duration": 6,
    "start_time": "2024-08-10T19:01:12.196Z"
   },
   {
    "duration": 10,
    "start_time": "2024-08-10T19:01:13.682Z"
   },
   {
    "duration": 10,
    "start_time": "2024-08-10T19:01:15.057Z"
   },
   {
    "duration": 6,
    "start_time": "2024-08-10T19:06:29.074Z"
   },
   {
    "duration": 6,
    "start_time": "2024-08-10T19:06:39.462Z"
   },
   {
    "duration": 366,
    "start_time": "2024-08-10T19:08:57.040Z"
   },
   {
    "duration": 384,
    "start_time": "2024-08-10T19:09:05.642Z"
   },
   {
    "duration": 29,
    "start_time": "2024-08-10T19:09:57.459Z"
   },
   {
    "duration": 11,
    "start_time": "2024-08-10T19:10:09.847Z"
   },
   {
    "duration": 15,
    "start_time": "2024-08-10T19:10:15.041Z"
   },
   {
    "duration": 16,
    "start_time": "2024-08-10T19:10:17.936Z"
   },
   {
    "duration": 6,
    "start_time": "2024-08-10T19:10:18.345Z"
   },
   {
    "duration": 13,
    "start_time": "2024-08-10T19:10:34.012Z"
   },
   {
    "duration": 11,
    "start_time": "2024-08-10T19:10:34.740Z"
   },
   {
    "duration": 24,
    "start_time": "2024-08-10T19:11:13.948Z"
   },
   {
    "duration": 21,
    "start_time": "2024-08-10T19:11:14.666Z"
   },
   {
    "duration": 6,
    "start_time": "2024-08-10T19:11:15.138Z"
   },
   {
    "duration": 4,
    "start_time": "2024-08-10T19:11:48.663Z"
   },
   {
    "duration": 5,
    "start_time": "2024-08-10T19:12:17.849Z"
   },
   {
    "duration": 390,
    "start_time": "2024-08-10T19:12:20.816Z"
   },
   {
    "duration": 82788,
    "start_time": "2024-08-12T17:21:37.702Z"
   },
   {
    "duration": 1516,
    "start_time": "2024-08-12T17:23:00.492Z"
   },
   {
    "duration": 3,
    "start_time": "2024-08-12T17:23:02.009Z"
   },
   {
    "duration": 1756,
    "start_time": "2024-08-12T17:23:02.013Z"
   },
   {
    "duration": 3614,
    "start_time": "2024-08-12T17:23:03.771Z"
   },
   {
    "duration": 3601,
    "start_time": "2024-08-12T17:23:07.387Z"
   },
   {
    "duration": 3311,
    "start_time": "2024-08-12T17:23:10.990Z"
   },
   {
    "duration": 29,
    "start_time": "2024-08-12T17:23:14.303Z"
   },
   {
    "duration": 25,
    "start_time": "2024-08-12T17:23:14.334Z"
   },
   {
    "duration": 24,
    "start_time": "2024-08-12T17:23:14.361Z"
   },
   {
    "duration": 11,
    "start_time": "2024-08-12T17:23:14.387Z"
   },
   {
    "duration": 8,
    "start_time": "2024-08-12T17:23:14.399Z"
   },
   {
    "duration": 9,
    "start_time": "2024-08-12T17:23:14.409Z"
   },
   {
    "duration": 175,
    "start_time": "2024-08-12T17:23:14.421Z"
   },
   {
    "duration": 11,
    "start_time": "2024-08-12T17:23:14.598Z"
   },
   {
    "duration": 11,
    "start_time": "2024-08-12T17:23:14.611Z"
   },
   {
    "duration": 12,
    "start_time": "2024-08-12T17:23:14.623Z"
   },
   {
    "duration": 5,
    "start_time": "2024-08-12T17:23:14.637Z"
   },
   {
    "duration": 346,
    "start_time": "2024-08-12T17:23:14.643Z"
   },
   {
    "duration": 3,
    "start_time": "2024-08-12T18:32:41.435Z"
   },
   {
    "duration": 5,
    "start_time": "2024-08-12T18:38:16.011Z"
   },
   {
    "duration": 3,
    "start_time": "2024-08-12T18:45:34.562Z"
   },
   {
    "duration": 21,
    "start_time": "2024-08-12T18:47:48.745Z"
   },
   {
    "duration": 4,
    "start_time": "2024-08-12T18:47:55.209Z"
   },
   {
    "duration": 152,
    "start_time": "2024-08-12T18:48:46.968Z"
   },
   {
    "duration": 97,
    "start_time": "2024-08-12T18:49:20.290Z"
   },
   {
    "duration": 3,
    "start_time": "2024-08-12T18:49:45.832Z"
   },
   {
    "duration": 102,
    "start_time": "2024-08-12T18:49:46.182Z"
   },
   {
    "duration": 3,
    "start_time": "2024-08-12T18:50:25.544Z"
   },
   {
    "duration": 45,
    "start_time": "2024-08-12T18:50:26.738Z"
   },
   {
    "duration": 11,
    "start_time": "2024-08-12T18:52:09.083Z"
   },
   {
    "duration": 11,
    "start_time": "2024-08-12T18:52:16.553Z"
   },
   {
    "duration": 107,
    "start_time": "2024-08-12T18:52:27.779Z"
   },
   {
    "duration": 21,
    "start_time": "2024-08-12T18:55:46.579Z"
   },
   {
    "duration": 20,
    "start_time": "2024-08-12T18:56:23.287Z"
   },
   {
    "duration": 3,
    "start_time": "2024-08-12T18:57:01.068Z"
   },
   {
    "duration": 13,
    "start_time": "2024-08-12T18:57:01.543Z"
   },
   {
    "duration": 3,
    "start_time": "2024-08-12T18:57:21.886Z"
   },
   {
    "duration": 12,
    "start_time": "2024-08-12T18:57:22.239Z"
   },
   {
    "duration": 13,
    "start_time": "2024-08-12T18:57:38.569Z"
   },
   {
    "duration": 39443,
    "start_time": "2024-08-13T09:16:54.552Z"
   },
   {
    "duration": 1793,
    "start_time": "2024-08-13T09:17:33.997Z"
   },
   {
    "duration": 3,
    "start_time": "2024-08-13T09:17:35.792Z"
   },
   {
    "duration": 1035,
    "start_time": "2024-08-13T09:17:35.797Z"
   },
   {
    "duration": 4499,
    "start_time": "2024-08-13T09:17:36.835Z"
   },
   {
    "duration": 4400,
    "start_time": "2024-08-13T09:17:41.336Z"
   },
   {
    "duration": 4024,
    "start_time": "2024-08-13T09:17:45.738Z"
   },
   {
    "duration": 38,
    "start_time": "2024-08-13T09:17:49.764Z"
   },
   {
    "duration": 34,
    "start_time": "2024-08-13T09:17:49.804Z"
   },
   {
    "duration": 32,
    "start_time": "2024-08-13T09:17:49.840Z"
   },
   {
    "duration": 11,
    "start_time": "2024-08-13T09:17:49.873Z"
   },
   {
    "duration": 33,
    "start_time": "2024-08-13T09:17:49.885Z"
   },
   {
    "duration": 20,
    "start_time": "2024-08-13T09:17:49.921Z"
   },
   {
    "duration": 200,
    "start_time": "2024-08-13T09:17:49.944Z"
   },
   {
    "duration": 13,
    "start_time": "2024-08-13T09:17:50.145Z"
   },
   {
    "duration": 44,
    "start_time": "2024-08-13T09:17:50.160Z"
   },
   {
    "duration": 27,
    "start_time": "2024-08-13T09:17:50.211Z"
   },
   {
    "duration": 24,
    "start_time": "2024-08-13T09:17:50.240Z"
   },
   {
    "duration": 456,
    "start_time": "2024-08-13T09:17:50.265Z"
   },
   {
    "duration": 194,
    "start_time": "2024-08-13T09:17:50.723Z"
   },
   {
    "duration": 11,
    "start_time": "2024-08-13T09:17:50.920Z"
   },
   {
    "duration": 100,
    "start_time": "2024-08-13T09:17:51.007Z"
   },
   {
    "duration": 28,
    "start_time": "2024-08-13T09:17:51.112Z"
   },
   {
    "duration": 63,
    "start_time": "2024-08-13T09:17:51.141Z"
   },
   {
    "duration": 28,
    "start_time": "2024-08-13T09:30:17.764Z"
   },
   {
    "duration": 84,
    "start_time": "2024-08-13T09:30:36.791Z"
   },
   {
    "duration": 6,
    "start_time": "2024-08-13T09:36:09.256Z"
   },
   {
    "duration": 4,
    "start_time": "2024-08-13T09:36:10.610Z"
   },
   {
    "duration": 139,
    "start_time": "2024-08-13T09:36:11.029Z"
   },
   {
    "duration": 10,
    "start_time": "2024-08-13T09:39:18.911Z"
   },
   {
    "duration": 5,
    "start_time": "2024-08-13T09:39:20.295Z"
   },
   {
    "duration": 85,
    "start_time": "2024-08-13T09:39:21.173Z"
   },
   {
    "duration": 15,
    "start_time": "2024-08-13T09:40:35.110Z"
   },
   {
    "duration": 159698,
    "start_time": "2024-08-13T18:54:35.457Z"
   },
   {
    "duration": 1527,
    "start_time": "2024-08-13T18:57:15.157Z"
   },
   {
    "duration": 2,
    "start_time": "2024-08-13T18:57:16.686Z"
   },
   {
    "duration": 1725,
    "start_time": "2024-08-13T18:57:16.690Z"
   },
   {
    "duration": 3667,
    "start_time": "2024-08-13T18:57:18.418Z"
   },
   {
    "duration": 3603,
    "start_time": "2024-08-13T18:57:22.086Z"
   },
   {
    "duration": 3312,
    "start_time": "2024-08-13T18:57:25.691Z"
   },
   {
    "duration": 79,
    "start_time": "2024-08-13T18:57:29.005Z"
   },
   {
    "duration": 59,
    "start_time": "2024-08-13T18:57:29.085Z"
   },
   {
    "duration": 64,
    "start_time": "2024-08-13T18:57:29.145Z"
   },
   {
    "duration": 10,
    "start_time": "2024-08-13T18:57:29.210Z"
   },
   {
    "duration": 8,
    "start_time": "2024-08-13T18:57:29.221Z"
   },
   {
    "duration": 10,
    "start_time": "2024-08-13T18:57:29.230Z"
   },
   {
    "duration": 147,
    "start_time": "2024-08-13T18:57:29.242Z"
   },
   {
    "duration": 10,
    "start_time": "2024-08-13T18:57:29.390Z"
   },
   {
    "duration": 24,
    "start_time": "2024-08-13T18:57:29.401Z"
   },
   {
    "duration": 12,
    "start_time": "2024-08-13T18:57:29.427Z"
   },
   {
    "duration": 5,
    "start_time": "2024-08-13T18:57:29.441Z"
   },
   {
    "duration": 437,
    "start_time": "2024-08-13T18:57:29.448Z"
   },
   {
    "duration": 194,
    "start_time": "2024-08-13T18:57:29.888Z"
   },
   {
    "duration": 4,
    "start_time": "2024-08-13T18:57:30.084Z"
   },
   {
    "duration": 136,
    "start_time": "2024-08-13T18:57:30.090Z"
   },
   {
    "duration": 39,
    "start_time": "2024-08-13T18:57:30.228Z"
   },
   {
    "duration": 104,
    "start_time": "2024-08-13T18:57:30.269Z"
   },
   {
    "duration": 65,
    "start_time": "2024-08-13T18:57:30.375Z"
   },
   {
    "duration": 28,
    "start_time": "2024-08-13T18:57:30.441Z"
   },
   {
    "duration": 49,
    "start_time": "2024-08-13T18:57:30.471Z"
   },
   {
    "duration": 31,
    "start_time": "2024-08-13T18:57:30.521Z"
   },
   {
    "duration": 274,
    "start_time": "2024-08-13T18:57:30.553Z"
   },
   {
    "duration": 5,
    "start_time": "2024-08-13T19:00:41.639Z"
   },
   {
    "duration": 11,
    "start_time": "2024-08-13T19:00:42.049Z"
   },
   {
    "duration": 4,
    "start_time": "2024-08-13T19:00:45.381Z"
   },
   {
    "duration": 55839,
    "start_time": "2024-08-13T19:00:45.820Z"
   },
   {
    "duration": 8,
    "start_time": "2024-08-13T19:03:42.684Z"
   },
   {
    "duration": 10,
    "start_time": "2024-08-13T19:03:47.292Z"
   },
   {
    "duration": 26,
    "start_time": "2024-08-13T19:03:59.069Z"
   },
   {
    "duration": 4,
    "start_time": "2024-08-13T19:05:18.328Z"
   },
   {
    "duration": 318,
    "start_time": "2024-08-13T19:05:18.768Z"
   },
   {
    "duration": 7,
    "start_time": "2024-08-13T19:05:27.578Z"
   },
   {
    "duration": 21,
    "start_time": "2024-08-13T19:05:32.050Z"
   },
   {
    "duration": 22,
    "start_time": "2024-08-13T19:06:25.388Z"
   },
   {
    "duration": 4,
    "start_time": "2024-08-13T19:06:40.350Z"
   },
   {
    "duration": 3,
    "start_time": "2024-08-13T19:06:58.578Z"
   },
   {
    "duration": 5,
    "start_time": "2024-08-13T19:06:58.810Z"
   },
   {
    "duration": 4,
    "start_time": "2024-08-13T19:07:11.173Z"
   },
   {
    "duration": 13,
    "start_time": "2024-08-13T19:09:38.426Z"
   },
   {
    "duration": 3990,
    "start_time": "2024-08-15T07:54:09.689Z"
   },
   {
    "duration": 1676,
    "start_time": "2024-08-15T07:54:13.682Z"
   },
   {
    "duration": 3,
    "start_time": "2024-08-15T07:54:15.360Z"
   },
   {
    "duration": 1745,
    "start_time": "2024-08-15T07:54:15.365Z"
   },
   {
    "duration": 3814,
    "start_time": "2024-08-15T07:54:17.111Z"
   },
   {
    "duration": 3855,
    "start_time": "2024-08-15T07:54:20.926Z"
   },
   {
    "duration": 3615,
    "start_time": "2024-08-15T07:54:24.783Z"
   },
   {
    "duration": 30,
    "start_time": "2024-08-15T07:54:28.400Z"
   },
   {
    "duration": 34,
    "start_time": "2024-08-15T07:54:28.431Z"
   },
   {
    "duration": 47,
    "start_time": "2024-08-15T07:54:28.467Z"
   },
   {
    "duration": 11,
    "start_time": "2024-08-15T07:54:28.516Z"
   },
   {
    "duration": 17,
    "start_time": "2024-08-15T07:54:28.528Z"
   },
   {
    "duration": 29,
    "start_time": "2024-08-15T07:54:28.546Z"
   },
   {
    "duration": 167,
    "start_time": "2024-08-15T07:54:28.577Z"
   },
   {
    "duration": 11,
    "start_time": "2024-08-15T07:54:28.746Z"
   },
   {
    "duration": 46,
    "start_time": "2024-08-15T07:54:28.759Z"
   },
   {
    "duration": 11,
    "start_time": "2024-08-15T07:54:28.807Z"
   },
   {
    "duration": 6,
    "start_time": "2024-08-15T07:54:28.820Z"
   },
   {
    "duration": 386,
    "start_time": "2024-08-15T07:54:28.828Z"
   },
   {
    "duration": 4,
    "start_time": "2024-08-15T07:54:29.216Z"
   },
   {
    "duration": 6,
    "start_time": "2024-08-15T07:54:29.309Z"
   },
   {
    "duration": 94,
    "start_time": "2024-08-15T07:54:29.317Z"
   },
   {
    "duration": 20,
    "start_time": "2024-08-15T07:54:29.413Z"
   },
   {
    "duration": 25,
    "start_time": "2024-08-15T07:54:29.435Z"
   },
   {
    "duration": 4,
    "start_time": "2024-08-15T07:54:29.462Z"
   },
   {
    "duration": 18,
    "start_time": "2024-08-15T07:54:29.467Z"
   },
   {
    "duration": 154,
    "start_time": "2024-08-15T07:54:29.487Z"
   },
   {
    "duration": 8,
    "start_time": "2024-08-15T08:56:04.490Z"
   },
   {
    "duration": 14,
    "start_time": "2024-08-15T08:57:13.298Z"
   },
   {
    "duration": 14,
    "start_time": "2024-08-15T08:57:27.252Z"
   },
   {
    "duration": 14,
    "start_time": "2024-08-15T08:57:41.254Z"
   },
   {
    "duration": 14,
    "start_time": "2024-08-15T09:00:40.247Z"
   },
   {
    "duration": 8,
    "start_time": "2024-08-15T09:01:02.366Z"
   },
   {
    "duration": 330,
    "start_time": "2024-08-15T09:01:41.191Z"
   },
   {
    "duration": 13,
    "start_time": "2024-08-15T09:01:45.274Z"
   },
   {
    "duration": 13,
    "start_time": "2024-08-15T09:03:31.675Z"
   },
   {
    "duration": 5,
    "start_time": "2024-08-15T09:14:43.935Z"
   },
   {
    "duration": 15547,
    "start_time": "2024-08-15T09:15:19.554Z"
   },
   {
    "duration": 15465,
    "start_time": "2024-08-15T09:15:53.964Z"
   },
   {
    "duration": 6,
    "start_time": "2024-08-15T09:17:08.097Z"
   },
   {
    "duration": 15401,
    "start_time": "2024-08-15T09:17:17.722Z"
   },
   {
    "duration": 6,
    "start_time": "2024-08-15T09:22:09.049Z"
   },
   {
    "duration": 6115,
    "start_time": "2024-08-15T09:22:11.610Z"
   },
   {
    "duration": 5,
    "start_time": "2024-08-15T09:22:48.474Z"
   },
   {
    "duration": 18132,
    "start_time": "2024-08-15T09:22:48.883Z"
   },
   {
    "duration": 6,
    "start_time": "2024-08-15T09:23:59.653Z"
   },
   {
    "duration": 18340,
    "start_time": "2024-08-15T09:24:00.051Z"
   },
   {
    "duration": 18254,
    "start_time": "2024-08-15T09:26:46.672Z"
   },
   {
    "duration": 2440,
    "start_time": "2024-08-15T09:31:42.280Z"
   },
   {
    "duration": 1383,
    "start_time": "2024-08-15T09:31:44.722Z"
   },
   {
    "duration": 3,
    "start_time": "2024-08-15T09:31:46.107Z"
   },
   {
    "duration": 402,
    "start_time": "2024-08-15T09:31:46.111Z"
   },
   {
    "duration": 3911,
    "start_time": "2024-08-15T09:31:46.515Z"
   },
   {
    "duration": 3833,
    "start_time": "2024-08-15T09:31:50.428Z"
   },
   {
    "duration": 3674,
    "start_time": "2024-08-15T09:31:54.263Z"
   },
   {
    "duration": 31,
    "start_time": "2024-08-15T09:31:57.938Z"
   },
   {
    "duration": 28,
    "start_time": "2024-08-15T09:31:57.970Z"
   },
   {
    "duration": 25,
    "start_time": "2024-08-15T09:31:58.000Z"
   },
   {
    "duration": 11,
    "start_time": "2024-08-15T09:31:58.027Z"
   },
   {
    "duration": 12,
    "start_time": "2024-08-15T09:31:58.039Z"
   },
   {
    "duration": 12,
    "start_time": "2024-08-15T09:31:58.052Z"
   },
   {
    "duration": 157,
    "start_time": "2024-08-15T09:31:58.066Z"
   },
   {
    "duration": 11,
    "start_time": "2024-08-15T09:31:58.224Z"
   },
   {
    "duration": 13,
    "start_time": "2024-08-15T09:31:58.237Z"
   },
   {
    "duration": 39,
    "start_time": "2024-08-15T09:31:58.251Z"
   },
   {
    "duration": 8,
    "start_time": "2024-08-15T09:31:58.292Z"
   },
   {
    "duration": 415,
    "start_time": "2024-08-15T09:31:58.301Z"
   },
   {
    "duration": 5,
    "start_time": "2024-08-15T09:31:58.718Z"
   },
   {
    "duration": 8,
    "start_time": "2024-08-15T09:31:58.808Z"
   },
   {
    "duration": 18,
    "start_time": "2024-08-15T09:31:58.908Z"
   },
   {
    "duration": 18,
    "start_time": "2024-08-15T09:31:58.928Z"
   },
   {
    "duration": 58,
    "start_time": "2024-08-15T09:31:58.947Z"
   },
   {
    "duration": 6,
    "start_time": "2024-08-15T09:31:59.007Z"
   },
   {
    "duration": 18503,
    "start_time": "2024-08-15T09:31:59.014Z"
   },
   {
    "duration": 73,
    "start_time": "2024-08-15T09:32:17.519Z"
   },
   {
    "duration": 29,
    "start_time": "2024-08-15T09:38:27.884Z"
   },
   {
    "duration": 27,
    "start_time": "2024-08-15T09:38:47.953Z"
   },
   {
    "duration": 29,
    "start_time": "2024-08-15T09:38:57.794Z"
   },
   {
    "duration": 4,
    "start_time": "2024-08-15T09:45:10.826Z"
   },
   {
    "duration": 375,
    "start_time": "2024-08-15T09:45:12.537Z"
   },
   {
    "duration": 3,
    "start_time": "2024-08-15T09:45:17.788Z"
   },
   {
    "duration": 6,
    "start_time": "2024-08-15T09:45:21.166Z"
   },
   {
    "duration": 3,
    "start_time": "2024-08-15T09:45:25.673Z"
   },
   {
    "duration": 14,
    "start_time": "2024-08-15T09:45:25.980Z"
   },
   {
    "duration": 6,
    "start_time": "2024-08-15T09:45:45.531Z"
   },
   {
    "duration": 18413,
    "start_time": "2024-08-15T09:45:45.885Z"
   },
   {
    "duration": 163731,
    "start_time": "2024-08-15T12:48:22.871Z"
   },
   {
    "duration": 10505,
    "start_time": "2024-08-15T12:51:06.604Z"
   },
   {
    "duration": 3,
    "start_time": "2024-08-15T12:51:17.111Z"
   },
   {
    "duration": 1043,
    "start_time": "2024-08-15T12:51:17.116Z"
   },
   {
    "duration": 4113,
    "start_time": "2024-08-15T12:51:18.161Z"
   },
   {
    "duration": 4128,
    "start_time": "2024-08-15T12:51:22.276Z"
   },
   {
    "duration": 3843,
    "start_time": "2024-08-15T12:51:26.406Z"
   },
   {
    "duration": 33,
    "start_time": "2024-08-15T12:51:30.251Z"
   },
   {
    "duration": 55,
    "start_time": "2024-08-15T12:51:30.286Z"
   },
   {
    "duration": 53,
    "start_time": "2024-08-15T12:51:30.344Z"
   },
   {
    "duration": 13,
    "start_time": "2024-08-15T12:51:30.398Z"
   },
   {
    "duration": 24,
    "start_time": "2024-08-15T12:51:30.413Z"
   },
   {
    "duration": 38,
    "start_time": "2024-08-15T12:51:30.439Z"
   },
   {
    "duration": 186,
    "start_time": "2024-08-15T12:51:30.479Z"
   },
   {
    "duration": 11,
    "start_time": "2024-08-15T12:51:30.667Z"
   },
   {
    "duration": 82,
    "start_time": "2024-08-15T12:51:30.680Z"
   },
   {
    "duration": 68,
    "start_time": "2024-08-15T12:51:30.763Z"
   },
   {
    "duration": 67,
    "start_time": "2024-08-15T12:51:30.832Z"
   },
   {
    "duration": 577,
    "start_time": "2024-08-15T12:51:30.901Z"
   },
   {
    "duration": 3,
    "start_time": "2024-08-15T12:51:31.480Z"
   },
   {
    "duration": 272,
    "start_time": "2024-08-15T12:51:31.485Z"
   },
   {
    "duration": 64,
    "start_time": "2024-08-15T12:51:31.759Z"
   },
   {
    "duration": 42,
    "start_time": "2024-08-15T12:51:31.824Z"
   },
   {
    "duration": 50,
    "start_time": "2024-08-15T12:51:31.868Z"
   },
   {
    "duration": 19152,
    "start_time": "2024-08-15T12:51:31.919Z"
   },
   {
    "duration": 3,
    "start_time": "2024-08-15T12:58:58.548Z"
   },
   {
    "duration": 118,
    "start_time": "2024-08-15T12:58:58.900Z"
   },
   {
    "duration": 3,
    "start_time": "2024-08-15T12:59:07.492Z"
   },
   {
    "duration": 18,
    "start_time": "2024-08-15T12:59:08.455Z"
   },
   {
    "duration": 6,
    "start_time": "2024-08-15T12:59:10.222Z"
   },
   {
    "duration": 19558,
    "start_time": "2024-08-15T12:59:11.448Z"
   },
   {
    "duration": 12,
    "start_time": "2024-08-15T12:59:47.788Z"
   },
   {
    "duration": 4304,
    "start_time": "2024-08-16T06:13:23.158Z"
   },
   {
    "duration": 1764,
    "start_time": "2024-08-16T06:13:27.465Z"
   },
   {
    "duration": 3,
    "start_time": "2024-08-16T06:13:29.231Z"
   },
   {
    "duration": 1069,
    "start_time": "2024-08-16T06:13:29.236Z"
   },
   {
    "duration": 4379,
    "start_time": "2024-08-16T06:13:30.307Z"
   },
   {
    "duration": 4215,
    "start_time": "2024-08-16T06:13:34.688Z"
   },
   {
    "duration": 3910,
    "start_time": "2024-08-16T06:13:38.905Z"
   },
   {
    "duration": 58,
    "start_time": "2024-08-16T06:13:42.817Z"
   },
   {
    "duration": 101,
    "start_time": "2024-08-16T06:13:42.878Z"
   },
   {
    "duration": 34,
    "start_time": "2024-08-16T06:13:42.982Z"
   },
   {
    "duration": 14,
    "start_time": "2024-08-16T06:13:43.018Z"
   },
   {
    "duration": 14,
    "start_time": "2024-08-16T06:13:43.034Z"
   },
   {
    "duration": 16,
    "start_time": "2024-08-16T06:13:43.050Z"
   },
   {
    "duration": 206,
    "start_time": "2024-08-16T06:13:43.068Z"
   },
   {
    "duration": 12,
    "start_time": "2024-08-16T06:13:43.276Z"
   },
   {
    "duration": 21,
    "start_time": "2024-08-16T06:13:43.290Z"
   },
   {
    "duration": 12,
    "start_time": "2024-08-16T06:13:43.313Z"
   },
   {
    "duration": 6,
    "start_time": "2024-08-16T06:13:43.327Z"
   },
   {
    "duration": 448,
    "start_time": "2024-08-16T06:13:43.335Z"
   },
   {
    "duration": 4,
    "start_time": "2024-08-16T06:13:43.785Z"
   },
   {
    "duration": 183,
    "start_time": "2024-08-16T06:13:43.792Z"
   },
   {
    "duration": 69,
    "start_time": "2024-08-16T06:13:43.977Z"
   },
   {
    "duration": 25,
    "start_time": "2024-08-16T06:13:44.048Z"
   },
   {
    "duration": 7,
    "start_time": "2024-08-16T06:13:44.075Z"
   },
   {
    "duration": 19807,
    "start_time": "2024-08-16T06:13:44.083Z"
   },
   {
    "duration": 4,
    "start_time": "2024-08-16T06:15:16.970Z"
   },
   {
    "duration": 5,
    "start_time": "2024-08-16T06:16:21.124Z"
   },
   {
    "duration": 6,
    "start_time": "2024-08-16T06:18:25.724Z"
   },
   {
    "duration": 5,
    "start_time": "2024-08-16T06:22:26.543Z"
   },
   {
    "duration": 7,
    "start_time": "2024-08-16T06:22:40.673Z"
   },
   {
    "duration": 6,
    "start_time": "2024-08-16T06:25:36.232Z"
   },
   {
    "duration": 7,
    "start_time": "2024-08-16T06:26:17.974Z"
   },
   {
    "duration": 6,
    "start_time": "2024-08-16T06:26:31.022Z"
   },
   {
    "duration": 6,
    "start_time": "2024-08-16T06:26:58.527Z"
   },
   {
    "duration": 52,
    "start_time": "2024-08-16T06:30:54.912Z"
   },
   {
    "duration": 28,
    "start_time": "2024-08-16T06:31:19.696Z"
   },
   {
    "duration": 58,
    "start_time": "2024-08-16T06:33:31.407Z"
   },
   {
    "duration": 6,
    "start_time": "2024-08-16T06:35:15.572Z"
   },
   {
    "duration": 6,
    "start_time": "2024-08-16T06:35:30.448Z"
   },
   {
    "duration": 5,
    "start_time": "2024-08-16T06:35:44.898Z"
   },
   {
    "duration": 6,
    "start_time": "2024-08-16T06:35:50.997Z"
   },
   {
    "duration": 4,
    "start_time": "2024-08-16T06:36:48.094Z"
   },
   {
    "duration": 14,
    "start_time": "2024-08-16T06:36:50.047Z"
   },
   {
    "duration": 5,
    "start_time": "2024-08-16T06:37:25.051Z"
   },
   {
    "duration": 13,
    "start_time": "2024-08-16T06:37:27.655Z"
   },
   {
    "duration": 5,
    "start_time": "2024-08-16T06:40:51.671Z"
   },
   {
    "duration": 5,
    "start_time": "2024-08-16T06:40:54.001Z"
   },
   {
    "duration": 16625,
    "start_time": "2024-08-16T06:41:14.617Z"
   },
   {
    "duration": 5,
    "start_time": "2024-08-16T06:45:45.643Z"
   },
   {
    "duration": 116,
    "start_time": "2024-08-16T06:45:47.969Z"
   },
   {
    "duration": 15,
    "start_time": "2024-08-16T06:46:21.923Z"
   },
   {
    "duration": 13,
    "start_time": "2024-08-16T06:48:01.447Z"
   },
   {
    "duration": 5,
    "start_time": "2024-08-16T06:49:19.359Z"
   },
   {
    "duration": 16,
    "start_time": "2024-08-16T06:49:21.644Z"
   },
   {
    "duration": 4,
    "start_time": "2024-08-16T06:50:41.673Z"
   },
   {
    "duration": 16,
    "start_time": "2024-08-16T06:50:46.655Z"
   },
   {
    "duration": 3,
    "start_time": "2024-08-16T06:51:53.983Z"
   },
   {
    "duration": 4,
    "start_time": "2024-08-16T06:52:17.718Z"
   },
   {
    "duration": 4,
    "start_time": "2024-08-16T06:53:15.102Z"
   },
   {
    "duration": 3228,
    "start_time": "2024-08-16T06:53:17.477Z"
   },
   {
    "duration": 6,
    "start_time": "2024-08-16T06:54:19.072Z"
   },
   {
    "duration": 2514,
    "start_time": "2024-08-16T07:01:17.258Z"
   },
   {
    "duration": 1435,
    "start_time": "2024-08-16T07:01:19.775Z"
   },
   {
    "duration": 3,
    "start_time": "2024-08-16T07:01:21.211Z"
   },
   {
    "duration": 458,
    "start_time": "2024-08-16T07:01:21.215Z"
   },
   {
    "duration": 4049,
    "start_time": "2024-08-16T07:01:21.675Z"
   },
   {
    "duration": 4170,
    "start_time": "2024-08-16T07:01:25.726Z"
   },
   {
    "duration": 3782,
    "start_time": "2024-08-16T07:01:29.898Z"
   },
   {
    "duration": 904,
    "start_time": "2024-08-16T07:01:33.682Z"
   },
   {
    "duration": 262,
    "start_time": "2024-08-16T07:01:34.588Z"
   },
   {
    "duration": 240,
    "start_time": "2024-08-16T07:01:34.852Z"
   },
   {
    "duration": 11,
    "start_time": "2024-08-16T07:01:35.094Z"
   },
   {
    "duration": 37,
    "start_time": "2024-08-16T07:01:35.107Z"
   },
   {
    "duration": 18,
    "start_time": "2024-08-16T07:01:35.146Z"
   },
   {
    "duration": 182,
    "start_time": "2024-08-16T07:01:35.167Z"
   },
   {
    "duration": 18,
    "start_time": "2024-08-16T07:01:35.351Z"
   },
   {
    "duration": 12,
    "start_time": "2024-08-16T07:01:35.371Z"
   },
   {
    "duration": 18,
    "start_time": "2024-08-16T07:01:35.385Z"
   },
   {
    "duration": 10,
    "start_time": "2024-08-16T07:01:35.404Z"
   },
   {
    "duration": 453,
    "start_time": "2024-08-16T07:01:35.416Z"
   },
   {
    "duration": 5,
    "start_time": "2024-08-16T07:01:35.870Z"
   },
   {
    "duration": 108,
    "start_time": "2024-08-16T07:01:35.876Z"
   },
   {
    "duration": 5,
    "start_time": "2024-08-16T07:01:35.986Z"
   },
   {
    "duration": 80,
    "start_time": "2024-08-16T07:01:35.992Z"
   },
   {
    "duration": 5,
    "start_time": "2024-08-16T07:01:36.074Z"
   },
   {
    "duration": 76,
    "start_time": "2024-08-16T07:01:36.080Z"
   },
   {
    "duration": 3098,
    "start_time": "2024-08-16T07:01:36.157Z"
   },
   {
    "duration": 5,
    "start_time": "2024-08-16T07:01:55.532Z"
   },
   {
    "duration": 3256,
    "start_time": "2024-08-16T07:01:57.557Z"
   },
   {
    "duration": 5,
    "start_time": "2024-08-16T07:09:02.662Z"
   },
   {
    "duration": 3155,
    "start_time": "2024-08-16T07:09:07.093Z"
   },
   {
    "duration": 103,
    "start_time": "2024-08-16T07:14:07.120Z"
   },
   {
    "duration": 2587,
    "start_time": "2024-08-16T07:14:34.254Z"
   },
   {
    "duration": 1481,
    "start_time": "2024-08-16T07:14:36.843Z"
   },
   {
    "duration": 3,
    "start_time": "2024-08-16T07:14:38.325Z"
   },
   {
    "duration": 454,
    "start_time": "2024-08-16T07:14:38.330Z"
   },
   {
    "duration": 4124,
    "start_time": "2024-08-16T07:14:38.786Z"
   },
   {
    "duration": 4295,
    "start_time": "2024-08-16T07:14:42.912Z"
   },
   {
    "duration": 3897,
    "start_time": "2024-08-16T07:14:47.209Z"
   },
   {
    "duration": 105,
    "start_time": "2024-08-16T07:14:51.108Z"
   },
   {
    "duration": 83,
    "start_time": "2024-08-16T07:14:51.216Z"
   },
   {
    "duration": 67,
    "start_time": "2024-08-16T07:14:51.302Z"
   },
   {
    "duration": 12,
    "start_time": "2024-08-16T07:14:51.371Z"
   },
   {
    "duration": 17,
    "start_time": "2024-08-16T07:14:51.385Z"
   },
   {
    "duration": 16,
    "start_time": "2024-08-16T07:14:51.403Z"
   },
   {
    "duration": 187,
    "start_time": "2024-08-16T07:14:51.421Z"
   },
   {
    "duration": 12,
    "start_time": "2024-08-16T07:14:51.610Z"
   },
   {
    "duration": 21,
    "start_time": "2024-08-16T07:14:51.624Z"
   },
   {
    "duration": 31,
    "start_time": "2024-08-16T07:14:51.647Z"
   },
   {
    "duration": 12,
    "start_time": "2024-08-16T07:14:51.680Z"
   },
   {
    "duration": 387,
    "start_time": "2024-08-16T07:14:51.694Z"
   },
   {
    "duration": 81,
    "start_time": "2024-08-16T07:14:52.085Z"
   },
   {
    "duration": 144,
    "start_time": "2024-08-16T07:14:52.168Z"
   },
   {
    "duration": 4,
    "start_time": "2024-08-16T07:14:52.314Z"
   },
   {
    "duration": 20,
    "start_time": "2024-08-16T07:14:52.320Z"
   },
   {
    "duration": 19,
    "start_time": "2024-08-16T07:14:52.342Z"
   },
   {
    "duration": 3161,
    "start_time": "2024-08-16T07:14:52.362Z"
   },
   {
    "duration": 6,
    "start_time": "2024-08-16T07:15:13.735Z"
   },
   {
    "duration": 7419,
    "start_time": "2024-08-16T07:15:15.639Z"
   },
   {
    "duration": 5,
    "start_time": "2024-08-16T07:15:36.534Z"
   },
   {
    "duration": 3501,
    "start_time": "2024-08-16T07:15:38.221Z"
   },
   {
    "duration": 6,
    "start_time": "2024-08-16T07:16:43.484Z"
   },
   {
    "duration": 3341,
    "start_time": "2024-08-16T07:16:45.361Z"
   },
   {
    "duration": 2578,
    "start_time": "2024-08-16T07:18:11.165Z"
   },
   {
    "duration": 1488,
    "start_time": "2024-08-16T07:18:13.745Z"
   },
   {
    "duration": 4,
    "start_time": "2024-08-16T07:18:15.234Z"
   },
   {
    "duration": 445,
    "start_time": "2024-08-16T07:18:15.240Z"
   },
   {
    "duration": 3998,
    "start_time": "2024-08-16T07:18:15.686Z"
   },
   {
    "duration": 4118,
    "start_time": "2024-08-16T07:18:19.686Z"
   },
   {
    "duration": 3629,
    "start_time": "2024-08-16T07:18:23.807Z"
   },
   {
    "duration": 39,
    "start_time": "2024-08-16T07:18:27.438Z"
   },
   {
    "duration": 32,
    "start_time": "2024-08-16T07:18:27.479Z"
   },
   {
    "duration": 36,
    "start_time": "2024-08-16T07:18:27.514Z"
   },
   {
    "duration": 12,
    "start_time": "2024-08-16T07:18:27.552Z"
   },
   {
    "duration": 9,
    "start_time": "2024-08-16T07:18:27.566Z"
   },
   {
    "duration": 19,
    "start_time": "2024-08-16T07:18:27.577Z"
   },
   {
    "duration": 188,
    "start_time": "2024-08-16T07:18:27.598Z"
   },
   {
    "duration": 12,
    "start_time": "2024-08-16T07:18:27.788Z"
   },
   {
    "duration": 11,
    "start_time": "2024-08-16T07:18:27.802Z"
   },
   {
    "duration": 17,
    "start_time": "2024-08-16T07:18:27.815Z"
   },
   {
    "duration": 6,
    "start_time": "2024-08-16T07:18:27.834Z"
   },
   {
    "duration": 432,
    "start_time": "2024-08-16T07:18:27.841Z"
   },
   {
    "duration": 4,
    "start_time": "2024-08-16T07:18:28.276Z"
   },
   {
    "duration": 98,
    "start_time": "2024-08-16T07:18:28.367Z"
   },
   {
    "duration": 3,
    "start_time": "2024-08-16T07:18:28.467Z"
   },
   {
    "duration": 26,
    "start_time": "2024-08-16T07:18:28.472Z"
   },
   {
    "duration": 4,
    "start_time": "2024-08-16T07:18:28.500Z"
   },
   {
    "duration": 3231,
    "start_time": "2024-08-16T07:18:28.506Z"
   },
   {
    "duration": 4254,
    "start_time": "2024-12-14T08:17:48.454Z"
   },
   {
    "duration": 1451,
    "start_time": "2024-12-14T08:17:52.710Z"
   },
   {
    "duration": 8,
    "start_time": "2024-12-14T08:17:54.164Z"
   },
   {
    "duration": 685,
    "start_time": "2024-12-14T08:17:54.174Z"
   },
   {
    "duration": 4022,
    "start_time": "2024-12-14T08:17:54.862Z"
   },
   {
    "duration": 3997,
    "start_time": "2024-12-14T08:17:58.886Z"
   },
   {
    "duration": 3706,
    "start_time": "2024-12-14T08:18:02.885Z"
   },
   {
    "duration": 48,
    "start_time": "2024-12-14T08:18:06.592Z"
   },
   {
    "duration": 51,
    "start_time": "2024-12-14T08:18:06.641Z"
   },
   {
    "duration": 45,
    "start_time": "2024-12-14T08:18:06.694Z"
   },
   {
    "duration": 12,
    "start_time": "2024-12-14T08:18:06.741Z"
   },
   {
    "duration": 13,
    "start_time": "2024-12-14T08:18:06.754Z"
   },
   {
    "duration": 13,
    "start_time": "2024-12-14T08:18:06.769Z"
   },
   {
    "duration": 183,
    "start_time": "2024-12-14T08:18:06.784Z"
   },
   {
    "duration": 11,
    "start_time": "2024-12-14T08:18:06.969Z"
   },
   {
    "duration": 21,
    "start_time": "2024-12-14T08:18:06.982Z"
   },
   {
    "duration": 16,
    "start_time": "2024-12-14T08:18:07.005Z"
   },
   {
    "duration": 7,
    "start_time": "2024-12-14T08:18:07.023Z"
   },
   {
    "duration": 456,
    "start_time": "2024-12-14T08:18:07.031Z"
   },
   {
    "duration": 83,
    "start_time": "2024-12-14T08:18:07.489Z"
   },
   {
    "duration": 139,
    "start_time": "2024-12-14T08:18:07.574Z"
   },
   {
    "duration": 10,
    "start_time": "2024-12-14T08:18:07.715Z"
   },
   {
    "duration": 23,
    "start_time": "2024-12-14T08:18:07.726Z"
   },
   {
    "duration": 5,
    "start_time": "2024-12-14T08:18:07.751Z"
   },
   {
    "duration": 3200,
    "start_time": "2024-12-14T08:18:07.757Z"
   }
  ],
  "kernelspec": {
   "display_name": "Python 3 (ipykernel)",
   "language": "python",
   "name": "python3"
  },
  "language_info": {
   "codemirror_mode": {
    "name": "ipython",
    "version": 3
   },
   "file_extension": ".py",
   "mimetype": "text/x-python",
   "name": "python",
   "nbconvert_exporter": "python",
   "pygments_lexer": "ipython3",
   "version": "3.9.5"
  },
  "toc": {
   "base_numbering": 1,
   "nav_menu": {},
   "number_sections": true,
   "sideBar": true,
   "skip_h1_title": true,
   "title_cell": "Table of Contents",
   "title_sidebar": "Contents",
   "toc_cell": false,
   "toc_position": {},
   "toc_section_display": true,
   "toc_window_display": true
  }
 },
 "nbformat": 4,
 "nbformat_minor": 2
}
