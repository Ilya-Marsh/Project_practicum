{
 "cells": [
  {
   "cell_type": "markdown",
   "metadata": {
    "toc": true
   },
   "source": [
    "<h1>Содержание<span class=\"tocSkip\"></span></h1>\n",
    "<div class=\"toc\"><ul class=\"toc-item\"><li><span><a href=\"#Подготовка\" data-toc-modified-id=\"Подготовка-1\"><span class=\"toc-item-num\">1&nbsp;&nbsp;</span>Подготовка</a></span></li><li><span><a href=\"#Обучение-модели\" data-toc-modified-id=\"Обучение-модели-2\"><span class=\"toc-item-num\">2&nbsp;&nbsp;</span>Обучение модели</a></span></li><li><span><a href=\"#Выводы\" data-toc-modified-id=\"Выводы-3\"><span class=\"toc-item-num\">3&nbsp;&nbsp;</span>Выводы</a></span></li><li><span><a href=\"#Чек-лист-проверки\" data-toc-modified-id=\"Чек-лист-проверки-4\"><span class=\"toc-item-num\">4&nbsp;&nbsp;</span>Чек-лист проверки</a></span></li></ul></div>"
   ]
  },
  {
   "cell_type": "markdown",
   "metadata": {},
   "source": [
    "# Проект для «Викишоп»"
   ]
  },
  {
   "cell_type": "markdown",
   "metadata": {},
   "source": [
    "Интернет-магазин «Викишоп» запускает новый сервис. Теперь пользователи могут редактировать и дополнять описания товаров, как в вики-сообществах. То есть клиенты предлагают свои правки и комментируют изменения других. Магазину нужен инструмент, который будет искать токсичные комментарии и отправлять их на модерацию. \n",
    "\n",
    "Обучите модель классифицировать комментарии на позитивные и негативные. В вашем распоряжении набор данных с разметкой о токсичности правок.\n",
    "\n",
    "Постройте модель со значением метрики качества *F1* не меньше 0.75. \n",
    "\n",
    "**Инструкция по выполнению проекта**\n",
    "\n",
    "1. Загрузите и подготовьте данные.\n",
    "2. Обучите разные модели. \n",
    "3. Сделайте выводы.\n",
    "\n",
    "Для выполнения проекта применять *BERT* необязательно, но вы можете попробовать.\n",
    "\n",
    "**Описание данных**\n",
    "\n",
    "Данные находятся в файле `toxic_comments.csv`. Столбец *text* в нём содержит текст комментария, а *toxic* — целевой признак."
   ]
  },
  {
   "cell_type": "code",
   "execution_count": 1,
   "metadata": {},
   "outputs": [],
   "source": [
    "! pip install -q pandarallel"
   ]
  },
  {
   "cell_type": "markdown",
   "metadata": {},
   "source": [
    "## Подготовка"
   ]
  },
  {
   "cell_type": "code",
   "execution_count": 2,
   "metadata": {},
   "outputs": [
    {
     "name": "stdout",
     "output_type": "stream",
     "text": [
      "INFO: Pandarallel will run on 4 workers.\n",
      "INFO: Pandarallel will use Memory file system to transfer data between the main process and workers.\n"
     ]
    }
   ],
   "source": [
    "import pandas as pd\n",
    "import matplotlib.pyplot as plt\n",
    "from tqdm import tqdm, notebook\n",
    "tqdm.pandas()\n",
    "from pandarallel import pandarallel\n",
    "pandarallel.initialize(progress_bar=True)\n",
    "import warnings\n",
    "import numpy as np\n",
    "import re\n",
    "import seaborn as sns\n",
    "import nltk\n",
    "from nltk.corpus import wordnet\n",
    "from sklearn.feature_extraction.text import TfidfVectorizer\n",
    "from nltk.tokenize import word_tokenize\n",
    "from nltk.stem import WordNetLemmatizer\n",
    "from sklearn.model_selection import train_test_split, RandomizedSearchCV\n",
    "from sklearn.linear_model import LogisticRegression\n",
    "from sklearn.metrics import f1_score, accuracy_score\n",
    "from sklearn.dummy import DummyClassifier\n",
    "from sklearn.tree import DecisionTreeClassifier\n",
    "from sklearn.svm import SVC\n",
    "from sklearn.pipeline import Pipeline\n",
    "from scipy.stats import randint, uniform"
   ]
  },
  {
   "cell_type": "code",
   "execution_count": 3,
   "metadata": {},
   "outputs": [],
   "source": [
    "warnings.filterwarnings('ignore')"
   ]
  },
  {
   "cell_type": "code",
   "execution_count": 4,
   "metadata": {},
   "outputs": [
    {
     "name": "stderr",
     "output_type": "stream",
     "text": [
      "[nltk_data] Downloading package stopwords to /home/jovyan/nltk_data...\n",
      "[nltk_data]   Package stopwords is already up-to-date!\n",
      "[nltk_data] Downloading package punkt to /home/jovyan/nltk_data...\n",
      "[nltk_data]   Package punkt is already up-to-date!\n",
      "[nltk_data] Downloading package wordnet to /home/jovyan/nltk_data...\n",
      "[nltk_data]   Package wordnet is already up-to-date!\n",
      "[nltk_data] Downloading package averaged_perceptron_tagger to\n",
      "[nltk_data]     /home/jovyan/nltk_data...\n",
      "[nltk_data]   Package averaged_perceptron_tagger is already up-to-\n",
      "[nltk_data]       date!\n"
     ]
    },
    {
     "data": {
      "text/plain": [
       "True"
      ]
     },
     "execution_count": 4,
     "metadata": {},
     "output_type": "execute_result"
    }
   ],
   "source": [
    "nltk.download(\"stopwords\") # поддерживает удаление стоп-слов\n",
    "nltk.download('punkt') # делит текст на список предложений\n",
    "nltk.download('wordnet')# проводит лемматизацию\n",
    "nltk.download('averaged_perceptron_tagger')"
   ]
  },
  {
   "cell_type": "markdown",
   "metadata": {},
   "source": [
    "**Загрузили дополнительную библиотеку для параллельной обработки датасета, подключили все необхоимые инструменты.**"
   ]
  },
  {
   "cell_type": "code",
   "execution_count": 5,
   "metadata": {},
   "outputs": [],
   "source": [
    "try:\n",
    "    data = pd.read_csv('/datasets/toxic_comments.csv')\n",
    "except:\n",
    "    data = pd.read_csv('toxic_comments.csv')"
   ]
  },
  {
   "cell_type": "code",
   "execution_count": 6,
   "metadata": {},
   "outputs": [
    {
     "data": {
      "text/html": [
       "<div>\n",
       "<style scoped>\n",
       "    .dataframe tbody tr th:only-of-type {\n",
       "        vertical-align: middle;\n",
       "    }\n",
       "\n",
       "    .dataframe tbody tr th {\n",
       "        vertical-align: top;\n",
       "    }\n",
       "\n",
       "    .dataframe thead th {\n",
       "        text-align: right;\n",
       "    }\n",
       "</style>\n",
       "<table border=\"1\" class=\"dataframe\">\n",
       "  <thead>\n",
       "    <tr style=\"text-align: right;\">\n",
       "      <th></th>\n",
       "      <th>Unnamed: 0</th>\n",
       "      <th>text</th>\n",
       "      <th>toxic</th>\n",
       "    </tr>\n",
       "  </thead>\n",
       "  <tbody>\n",
       "    <tr>\n",
       "      <th>0</th>\n",
       "      <td>0</td>\n",
       "      <td>Explanation\\nWhy the edits made under my usern...</td>\n",
       "      <td>0</td>\n",
       "    </tr>\n",
       "    <tr>\n",
       "      <th>1</th>\n",
       "      <td>1</td>\n",
       "      <td>D'aww! He matches this background colour I'm s...</td>\n",
       "      <td>0</td>\n",
       "    </tr>\n",
       "    <tr>\n",
       "      <th>2</th>\n",
       "      <td>2</td>\n",
       "      <td>Hey man, I'm really not trying to edit war. It...</td>\n",
       "      <td>0</td>\n",
       "    </tr>\n",
       "    <tr>\n",
       "      <th>3</th>\n",
       "      <td>3</td>\n",
       "      <td>\"\\nMore\\nI can't make any real suggestions on ...</td>\n",
       "      <td>0</td>\n",
       "    </tr>\n",
       "    <tr>\n",
       "      <th>4</th>\n",
       "      <td>4</td>\n",
       "      <td>You, sir, are my hero. Any chance you remember...</td>\n",
       "      <td>0</td>\n",
       "    </tr>\n",
       "  </tbody>\n",
       "</table>\n",
       "</div>"
      ],
      "text/plain": [
       "   Unnamed: 0                                               text  toxic\n",
       "0           0  Explanation\\nWhy the edits made under my usern...      0\n",
       "1           1  D'aww! He matches this background colour I'm s...      0\n",
       "2           2  Hey man, I'm really not trying to edit war. It...      0\n",
       "3           3  \"\\nMore\\nI can't make any real suggestions on ...      0\n",
       "4           4  You, sir, are my hero. Any chance you remember...      0"
      ]
     },
     "execution_count": 6,
     "metadata": {},
     "output_type": "execute_result"
    }
   ],
   "source": [
    "data.head()"
   ]
  },
  {
   "cell_type": "code",
   "execution_count": 7,
   "metadata": {},
   "outputs": [
    {
     "name": "stdout",
     "output_type": "stream",
     "text": [
      "<class 'pandas.core.frame.DataFrame'>\n",
      "RangeIndex: 159292 entries, 0 to 159291\n",
      "Data columns (total 3 columns):\n",
      " #   Column      Non-Null Count   Dtype \n",
      "---  ------      --------------   ----- \n",
      " 0   Unnamed: 0  159292 non-null  int64 \n",
      " 1   text        159292 non-null  object\n",
      " 2   toxic       159292 non-null  int64 \n",
      "dtypes: int64(2), object(1)\n",
      "memory usage: 3.6+ MB\n"
     ]
    }
   ],
   "source": [
    "data.info()"
   ]
  },
  {
   "cell_type": "code",
   "execution_count": 8,
   "metadata": {},
   "outputs": [],
   "source": [
    "data = data.drop('Unnamed: 0', axis=1)"
   ]
  },
  {
   "cell_type": "markdown",
   "metadata": {},
   "source": [
    "**Загрузили данные, посмотрели их структуру и общую информацию.**"
   ]
  },
  {
   "cell_type": "code",
   "execution_count": 9,
   "metadata": {},
   "outputs": [
    {
     "data": {
      "image/png": "[encoded data removed]",
      "text/plain": [
       "<Figure size 576x576 with 1 Axes>"
      ]
     },
     "metadata": {
      "needs_background": "light"
     },
     "output_type": "display_data"
    }
   ],
   "source": [
    "plt.figure(figsize=(8, 8))\n",
    "sns.countplot(data=data, x=\"toxic\")\n",
    "plt.title('Диаграмма количества оценок тональности текста на всех доступных данных')\n",
    "plt.show()"
   ]
  },
  {
   "cell_type": "markdown",
   "metadata": {},
   "source": [
    "**Из полученной диаграммы получаем, что негативных комментариев намного меньше, чем положительных. Отсюда можно сказать, что при обучении модели необходимо задать особый параметр, отвечающий за сбалансированность классов, а также попробовать найти соответсвующий порог разделения классов.**"
   ]
  },
  {
   "cell_type": "code",
   "execution_count": 10,
   "metadata": {},
   "outputs": [],
   "source": [
    "# Функция для получения правильных частей речи для лемматизатора\n",
    "def get_wordnet_pos(tag):\n",
    "    if tag.startswith('J'):\n",
    "        return wordnet.ADJ  # прилагательное\n",
    "    elif tag.startswith('V'):\n",
    "        return wordnet.VERB  # глагол\n",
    "    elif tag.startswith('N'):\n",
    "        return wordnet.NOUN  # существительное\n",
    "    elif tag.startswith('R'):\n",
    "        return wordnet.ADV  # наречие\n",
    "    else:\n",
    "        return wordnet.NOUN"
   ]
  },
  {
   "cell_type": "code",
   "execution_count": 11,
   "metadata": {},
   "outputs": [],
   "source": [
    "def preprocess_comment(comment):\n",
    "    # Приведение к нижнему регистру и удаление неалфавитных символов\n",
    "    coment = comment.lower()\n",
    "    comment = re.sub(r'[^a-zA-Z]', ' ', comment)\n",
    "    \n",
    "    # Токенизация\n",
    "    tokens = word_tokenize(comment)\n",
    "    \n",
    "    # POS-теггинг (части речи)\n",
    "    pos_tags = nltk.pos_tag(tokens)\n",
    "    \n",
    "    # Лемматизация с учетом частей речи\n",
    "    lemmatizer = WordNetLemmatizer()\n",
    "    tokens = [lemmatizer.lemmatize(token, get_wordnet_pos(tag)) for token, tag in pos_tags]\n",
    "    \n",
    "    return ' '.join(tokens)\n"
   ]
  },
  {
   "cell_type": "code",
   "execution_count": 12,
   "metadata": {},
   "outputs": [],
   "source": [
    "data_sample = data.sample(n=50000, random_state=42)"
   ]
  },
  {
   "cell_type": "markdown",
   "metadata": {},
   "source": [
    "**Для достижения нужного качества модели можно попробовать воспользоваться не всеми представленными данными, так как  кроме качества важна скорость обучения. Возьмем 50_000 рандомных строк.**"
   ]
  },
  {
   "cell_type": "code",
   "execution_count": 13,
   "metadata": {},
   "outputs": [
    {
     "data": {
      "image/png": "[encoded data removed]",
      "text/plain": [
       "<Figure size 576x576 with 1 Axes>"
      ]
     },
     "metadata": {
      "needs_background": "light"
     },
     "output_type": "display_data"
    }
   ],
   "source": [
    "plt.figure(figsize=(8, 8))\n",
    "sns.countplot(data=data_sample, x=\"toxic\")\n",
    "plt.title('Диаграмма количества оценок тональности текста на сэмплированном датасете')\n",
    "plt.show()"
   ]
  },
  {
   "cell_type": "markdown",
   "metadata": {},
   "source": [
    "**Распределение классов в сэмплированном датасете не изменилась.**"
   ]
  },
  {
   "cell_type": "code",
   "execution_count": 14,
   "metadata": {},
   "outputs": [
    {
     "data": {
      "application/vnd.jupyter.widget-view+json": {
       "model_id": "ff3bd6b3fb7140a8aa77f548ff5b6fd3",
       "version_major": 2,
       "version_minor": 0
      },
      "text/plain": [
       "VBox(children=(HBox(children=(IntProgress(value=0, description='0.00%', max=12500), Label(value='0 / 12500')))…"
      ]
     },
     "metadata": {},
     "output_type": "display_data"
    }
   ],
   "source": [
    "data_sample['processed_comments'] = data_sample['text'].parallel_apply(lambda x: preprocess_comment(x))"
   ]
  },
  {
   "cell_type": "markdown",
   "metadata": {},
   "source": [
    "**Используем выше написанную функцию для подготовки текста, которая включает: удаление не алфавитных символов, лемматизацию(приведение слов к начальной форме) и токенизацию, но по итогу все равно в конечном итоге мы получим ту же самую строку, только обработанную.**"
   ]
  },
  {
   "cell_type": "code",
   "execution_count": 15,
   "metadata": {},
   "outputs": [
    {
     "data": {
      "text/html": [
       "<div>\n",
       "<style scoped>\n",
       "    .dataframe tbody tr th:only-of-type {\n",
       "        vertical-align: middle;\n",
       "    }\n",
       "\n",
       "    .dataframe tbody tr th {\n",
       "        vertical-align: top;\n",
       "    }\n",
       "\n",
       "    .dataframe thead th {\n",
       "        text-align: right;\n",
       "    }\n",
       "</style>\n",
       "<table border=\"1\" class=\"dataframe\">\n",
       "  <thead>\n",
       "    <tr style=\"text-align: right;\">\n",
       "      <th></th>\n",
       "      <th>text</th>\n",
       "      <th>toxic</th>\n",
       "      <th>processed_comments</th>\n",
       "    </tr>\n",
       "  </thead>\n",
       "  <tbody>\n",
       "    <tr>\n",
       "      <th>31015</th>\n",
       "      <td>Sometime back, I just happened to log on to ww...</td>\n",
       "      <td>0</td>\n",
       "      <td>Sometime back I just happen to log on to www i...</td>\n",
       "    </tr>\n",
       "    <tr>\n",
       "      <th>102832</th>\n",
       "      <td>\"\\n\\nThe latest edit is much better, don't mak...</td>\n",
       "      <td>0</td>\n",
       "      <td>The late edit be much good don t make this art...</td>\n",
       "    </tr>\n",
       "    <tr>\n",
       "      <th>67317</th>\n",
       "      <td>\" October 2007 (UTC)\\n\\nI would think you'd be...</td>\n",
       "      <td>0</td>\n",
       "      <td>October UTC I would think you d be able to get...</td>\n",
       "    </tr>\n",
       "    <tr>\n",
       "      <th>81091</th>\n",
       "      <td>Thanks for the tip on the currency translation...</td>\n",
       "      <td>0</td>\n",
       "      <td>Thanks for the tip on the currency translation...</td>\n",
       "    </tr>\n",
       "    <tr>\n",
       "      <th>90091</th>\n",
       "      <td>I would argue that if content on the Con in co...</td>\n",
       "      <td>0</td>\n",
       "      <td>I would argue that if content on the Con in co...</td>\n",
       "    </tr>\n",
       "  </tbody>\n",
       "</table>\n",
       "</div>"
      ],
      "text/plain": [
       "                                                     text  toxic  \\\n",
       "31015   Sometime back, I just happened to log on to ww...      0   \n",
       "102832  \"\\n\\nThe latest edit is much better, don't mak...      0   \n",
       "67317   \" October 2007 (UTC)\\n\\nI would think you'd be...      0   \n",
       "81091   Thanks for the tip on the currency translation...      0   \n",
       "90091   I would argue that if content on the Con in co...      0   \n",
       "\n",
       "                                       processed_comments  \n",
       "31015   Sometime back I just happen to log on to www i...  \n",
       "102832  The late edit be much good don t make this art...  \n",
       "67317   October UTC I would think you d be able to get...  \n",
       "81091   Thanks for the tip on the currency translation...  \n",
       "90091   I would argue that if content on the Con in co...  "
      ]
     },
     "execution_count": 15,
     "metadata": {},
     "output_type": "execute_result"
    }
   ],
   "source": [
    "data_sample.head()"
   ]
  },
  {
   "cell_type": "code",
   "execution_count": 16,
   "metadata": {},
   "outputs": [],
   "source": [
    "X = data_sample['processed_comments']\n",
    "y = data_sample['toxic']\n",
    "X_train, X_test, y_train, y_test = train_test_split(X, y, test_size = 0.2, random_state = 42)"
   ]
  },
  {
   "cell_type": "markdown",
   "metadata": {},
   "source": [
    "**Разделим данные на таргет и признаки, а также на тестовую и тренировочную выборки, для того, чтобы векторизатор обучить на train, а потом трансформировать тестовые.**"
   ]
  },
  {
   "cell_type": "code",
   "execution_count": 17,
   "metadata": {},
   "outputs": [],
   "source": [
    "tfidf_vectorizer = TfidfVectorizer(stop_words=\"english\")\n",
    "#преобразуем текст\n",
    "X_train = tfidf_vectorizer.fit_transform(X_train)\n",
    "X_test = tfidf_vectorizer.transform(X_test)"
   ]
  },
  {
   "cell_type": "markdown",
   "metadata": {},
   "source": [
    "**Общий вывод: В данном шаге произведена подготовка текста к обучению, а именно взяли уменьшенный датасет, данные из него прошли лемматизацию, токенизацию и удаление не алфавитных символов. Данные разделены на тестовую и обучающую выборки. Векторизовали данные с помощью TfidfVectorizer.**"
   ]
  },
  {
   "cell_type": "markdown",
   "metadata": {},
   "source": [
    "## Обучение модели"
   ]
  },
  {
   "cell_type": "code",
   "execution_count": 18,
   "metadata": {},
   "outputs": [],
   "source": [
    "pipeline = Pipeline([ \n",
    "    ('classifier', LogisticRegression(max_iter=1000, class_weight='balanced', random_state=42))\n",
    "])"
   ]
  },
  {
   "cell_type": "code",
   "execution_count": 19,
   "metadata": {},
   "outputs": [],
   "source": [
    "param_distributions = [\n",
    "    {\n",
    "        'classifier': [DecisionTreeClassifier(random_state=42)],\n",
    "        'classifier__max_depth': range(1, 10, 3),  # Глубина дерева\n",
    "        'classifier__min_samples_split': range(2, 10, 2),  # Минимальное количество образцов для разделения\n",
    "    },\n",
    "    {\n",
    "        'classifier': [LogisticRegression(solver='liblinear', class_weight='balanced', random_state=42)],\n",
    "        'classifier__C': range(5, 15, 5),  # Регуляризация C\n",
    "        'classifier__penalty': ['l1', 'l2'],  # Тип регуляризации\n",
    "    },\n",
    "    {\n",
    "        'classifier': [SVC(random_state=42)],\n",
    "        'classifier__C': range(1, 10, 3),  # Регуляризация C\n",
    "        'classifier__kernel': ['linear', 'rbf'],  # Тип ядра\n",
    "    }\n",
    "]"
   ]
  },
  {
   "cell_type": "code",
   "execution_count": 20,
   "metadata": {},
   "outputs": [],
   "source": [
    "random_search = RandomizedSearchCV(\n",
    "    pipeline, \n",
    "    param_distributions, \n",
    "    n_iter=10,  \n",
    "    scoring='f1', \n",
    "    n_jobs=-1,  \n",
    "    cv=5,  \n",
    "    random_state=42\n",
    ")"
   ]
  },
  {
   "cell_type": "code",
   "execution_count": 21,
   "metadata": {},
   "outputs": [
    {
     "data": {
      "text/plain": [
       "RandomizedSearchCV(cv=5,\n",
       "                   estimator=Pipeline(steps=[('classifier',\n",
       "                                              LogisticRegression(class_weight='balanced',\n",
       "                                                                 max_iter=1000,\n",
       "                                                                 random_state=42))]),\n",
       "                   n_jobs=-1,\n",
       "                   param_distributions=[{'classifier': [DecisionTreeClassifier(random_state=42)],\n",
       "                                         'classifier__max_depth': range(1, 10, 3),\n",
       "                                         'classifier__min_samples_split': range(2, 10, 2)},\n",
       "                                        {'classifier': [LogisticRegression(C=5,\n",
       "                                                                           class_weight='balanced',\n",
       "                                                                           random_state=42,\n",
       "                                                                           solver='liblinear')],\n",
       "                                         'classifier__C': range(5, 15, 5),\n",
       "                                         'classifier__penalty': ['l1', 'l2']},\n",
       "                                        {'classifier': [SVC(random_state=42)],\n",
       "                                         'classifier__C': range(1, 10, 3),\n",
       "                                         'classifier__kernel': ['linear',\n",
       "                                                                'rbf']}],\n",
       "                   random_state=42, scoring='f1')"
      ]
     },
     "execution_count": 21,
     "metadata": {},
     "output_type": "execute_result"
    }
   ],
   "source": [
    "# Обучение модели и подбор гиперпараметров\n",
    "random_search.fit(X_train, y_train)"
   ]
  },
  {
   "cell_type": "code",
   "execution_count": 22,
   "metadata": {},
   "outputs": [
    {
     "name": "stdout",
     "output_type": "stream",
     "text": [
      "Лучшие параметры: {'classifier__penalty': 'l2', 'classifier__C': 5, 'classifier': LogisticRegression(C=5, class_weight='balanced', random_state=42,\n",
      "                   solver='liblinear')}\n",
      "Лучший результат на кросс-валидации: 0.7440\n"
     ]
    }
   ],
   "source": [
    "# Вывод результатов\n",
    "print(f\"Лучшие параметры: {random_search.best_params_}\")\n",
    "print(f\"Лучший результат на кросс-валидации: {random_search.best_score_:.4f}\")"
   ]
  },
  {
   "cell_type": "markdown",
   "metadata": {},
   "source": [
    "**На кросс-валидации получаем лучшую модель - Логистическую регрессию и лучшую метрику на кросс-валидации 0.744.**"
   ]
  },
  {
   "cell_type": "code",
   "execution_count": 23,
   "metadata": {},
   "outputs": [],
   "source": [
    "best_model = random_search.best_estimator_"
   ]
  },
  {
   "cell_type": "code",
   "execution_count": 24,
   "metadata": {},
   "outputs": [
    {
     "name": "stdout",
     "output_type": "stream",
     "text": [
      "F1-score: 0.756\n"
     ]
    }
   ],
   "source": [
    "test_predictions = best_model.predict(X_test)\n",
    "f1 = f1_score(y_test, test_predictions)\n",
    "print(f'F1-score: {round(f1, 3)}')"
   ]
  },
  {
   "cell_type": "markdown",
   "metadata": {},
   "source": [
    "**При тестировании лучшей модели на тестовой выборке получаем метрику 0.756, что удовлетворяет условию задачи.**"
   ]
  },
  {
   "cell_type": "code",
   "execution_count": 25,
   "metadata": {},
   "outputs": [
    {
     "data": {
      "text/plain": [
       "DummyClassifier(random_state=42, strategy='stratified')"
      ]
     },
     "execution_count": 25,
     "metadata": {},
     "output_type": "execute_result"
    }
   ],
   "source": [
    "dummy = DummyClassifier(strategy=\"stratified\", random_state=42)\n",
    "dummy.fit(X_train, y_train)"
   ]
  },
  {
   "cell_type": "code",
   "execution_count": 26,
   "metadata": {},
   "outputs": [
    {
     "name": "stdout",
     "output_type": "stream",
     "text": [
      "F1-score: 0.10861983059292477\n"
     ]
    }
   ],
   "source": [
    "test_predictions_dummy = dummy.predict(X_test)\n",
    "f1 = f1_score(y_test, test_predictions_dummy)\n",
    "print(f'F1-score: {f1}')"
   ]
  },
  {
   "cell_type": "markdown",
   "metadata": {},
   "source": [
    "**Вывод: Обучена модель Логистической регрессии, удовлетворяющая заданной метрике. Итоговая метрика получилась равной 0.756 на тестовой выборке. Также обучена модель Dummy, которая дает метрику f1_score 0.108, при настройках случайной классификации.**"
   ]
  },
  {
   "cell_type": "markdown",
   "metadata": {},
   "source": [
    "## Выводы"
   ]
  },
  {
   "cell_type": "markdown",
   "metadata": {},
   "source": [
    "В ходе данного проекта была выполнена подготовка данных и обучение модели для классификации комментариев на положительные и негативные. Были подключены необходимые библиотеки, включая библиотеку для параллельной обработки данных, что ускорило предобработку текста. После анализа структуры данных было выявлено, что негативных комментариев существенно меньше, что потребовало применения методов балансировки классов и подбора порога для разделения.\n",
    "\n",
    "Для оптимизации времени обучения был выбран уменьшенный датасет размером в 50 000 случайных строк. Использованная функция предобработки текста выполнила лемматизацию, токенизацию и удаление неалфавитных символов, преобразовав комментарии в строки, подготовленные для дальнейшего анализа. Данные были разделены на тренировочную и тестовую выборки. Векторизация текста была выполнена с помощью `TfidfVectorizer`, что позволило преобразовать текст в числовые признаки.\n",
    "\n",
    "Основной моделью для обучения была Логистическая регрессия на кросс-валидации с лучшей метрикой 0.744 Результаты модели на тестовой выборке показали следующие числовые значения метрик:\n",
    "- **f1_score**: 0.756\n",
    "\n",
    "Дополнительно была обучена базовая модель Dummy, которая показала метрику f1_score равную 0.108. Это подтверждает, что Логистическая регрессия продемонстрировала значительно лучшие результаты и является адекватным выбором для задачи.\n",
    "\n",
    "Таким образом, итоговая модель Логистической регрессии показала хорошие результаты и удовлетворяет заданным требованиям по качеству."
   ]
  }
 ],
 "metadata": {
  "ExecuteTimeLog": [
   {
    "duration": 506,
    "start_time": "2024-10-06T07:13:20.032Z"
   },
   {
    "duration": 5018,
    "start_time": "2024-10-06T07:13:41.639Z"
   },
   {
    "duration": 970,
    "start_time": "2024-10-06T07:13:50.529Z"
   },
   {
    "duration": 969,
    "start_time": "2024-10-06T07:14:04.947Z"
   },
   {
    "duration": 3,
    "start_time": "2024-10-06T07:14:24.632Z"
   },
   {
    "duration": 56,
    "start_time": "2024-10-06T07:14:25.785Z"
   },
   {
    "duration": 3751,
    "start_time": "2024-10-06T07:14:42.197Z"
   },
   {
    "duration": 61,
    "start_time": "2024-10-06T07:14:56.928Z"
   },
   {
    "duration": 9,
    "start_time": "2024-10-06T07:15:00.716Z"
   },
   {
    "duration": 32,
    "start_time": "2024-10-06T07:15:11.676Z"
   },
   {
    "duration": 10,
    "start_time": "2024-10-06T07:16:15.029Z"
   },
   {
    "duration": 335,
    "start_time": "2024-10-06T07:16:32.361Z"
   },
   {
    "duration": 5,
    "start_time": "2024-10-06T07:16:48.309Z"
   },
   {
    "duration": 21202,
    "start_time": "2024-10-06T07:16:51.996Z"
   },
   {
    "duration": 14,
    "start_time": "2024-10-06T07:17:22.754Z"
   },
   {
    "duration": 514,
    "start_time": "2024-10-06T07:21:04.936Z"
   },
   {
    "duration": 130,
    "start_time": "2024-10-06T07:21:25.971Z"
   },
   {
    "duration": 7,
    "start_time": "2024-10-06T07:21:59.399Z"
   },
   {
    "duration": 4,
    "start_time": "2024-10-06T07:22:33.088Z"
   },
   {
    "duration": 5,
    "start_time": "2024-10-06T07:23:48.249Z"
   },
   {
    "duration": 955,
    "start_time": "2024-10-06T07:25:20.306Z"
   },
   {
    "duration": 4,
    "start_time": "2024-10-06T07:25:27.682Z"
   },
   {
    "duration": 8,
    "start_time": "2024-10-06T07:27:04.566Z"
   },
   {
    "duration": 26,
    "start_time": "2024-10-06T07:27:15.403Z"
   },
   {
    "duration": 10,
    "start_time": "2024-10-06T07:29:14.800Z"
   },
   {
    "duration": 9826,
    "start_time": "2024-10-06T07:29:16.951Z"
   },
   {
    "duration": 3,
    "start_time": "2024-10-06T07:29:34.154Z"
   },
   {
    "duration": 2,
    "start_time": "2024-10-06T07:29:34.464Z"
   },
   {
    "duration": 2,
    "start_time": "2024-10-06T07:29:34.973Z"
   },
   {
    "duration": 161,
    "start_time": "2024-10-06T07:29:35.485Z"
   },
   {
    "duration": 3,
    "start_time": "2024-10-06T07:29:36.099Z"
   },
   {
    "duration": 3,
    "start_time": "2024-10-06T07:29:40.093Z"
   },
   {
    "duration": 2420,
    "start_time": "2024-10-06T07:30:12.862Z"
   },
   {
    "duration": 1598,
    "start_time": "2024-10-06T07:30:15.285Z"
   },
   {
    "duration": 2,
    "start_time": "2024-10-06T07:30:16.885Z"
   },
   {
    "duration": 382,
    "start_time": "2024-10-06T07:30:16.888Z"
   },
   {
    "duration": 903,
    "start_time": "2024-10-06T07:30:17.275Z"
   },
   {
    "duration": 15,
    "start_time": "2024-10-06T07:30:18.181Z"
   },
   {
    "duration": 63,
    "start_time": "2024-10-06T07:30:18.198Z"
   },
   {
    "duration": 119,
    "start_time": "2024-10-06T07:30:18.262Z"
   },
   {
    "duration": 5,
    "start_time": "2024-10-06T07:30:18.383Z"
   },
   {
    "duration": 13,
    "start_time": "2024-10-06T07:30:18.391Z"
   },
   {
    "duration": 29496,
    "start_time": "2024-10-06T07:30:18.406Z"
   },
   {
    "duration": 10,
    "start_time": "2024-10-06T07:30:47.904Z"
   },
   {
    "duration": 1453,
    "start_time": "2024-10-06T07:30:47.916Z"
   },
   {
    "duration": 9,
    "start_time": "2024-10-06T07:30:49.375Z"
   },
   {
    "duration": 10499,
    "start_time": "2024-10-06T07:30:49.386Z"
   },
   {
    "duration": 4,
    "start_time": "2024-10-06T07:30:59.886Z"
   },
   {
    "duration": 39,
    "start_time": "2024-10-06T07:30:59.892Z"
   },
   {
    "duration": 43,
    "start_time": "2024-10-06T07:30:59.933Z"
   },
   {
    "duration": 265,
    "start_time": "2024-10-06T07:30:59.979Z"
   },
   {
    "duration": 4,
    "start_time": "2024-10-06T07:31:00.245Z"
   },
   {
    "duration": 12,
    "start_time": "2024-10-06T07:31:00.251Z"
   },
   {
    "duration": 97,
    "start_time": "2024-10-06T07:32:26.613Z"
   },
   {
    "duration": 2481,
    "start_time": "2024-10-06T07:33:44.009Z"
   },
   {
    "duration": 1615,
    "start_time": "2024-10-06T07:33:46.492Z"
   },
   {
    "duration": 3,
    "start_time": "2024-10-06T07:33:48.109Z"
   },
   {
    "duration": 358,
    "start_time": "2024-10-06T07:33:48.113Z"
   },
   {
    "duration": 912,
    "start_time": "2024-10-06T07:33:48.476Z"
   },
   {
    "duration": 10,
    "start_time": "2024-10-06T07:33:49.389Z"
   },
   {
    "duration": 33,
    "start_time": "2024-10-06T07:33:49.400Z"
   },
   {
    "duration": 144,
    "start_time": "2024-10-06T07:33:49.435Z"
   },
   {
    "duration": 4,
    "start_time": "2024-10-06T07:33:49.580Z"
   },
   {
    "duration": 19,
    "start_time": "2024-10-06T07:33:49.585Z"
   },
   {
    "duration": 104,
    "start_time": "2024-10-06T07:33:49.605Z"
   },
   {
    "duration": 44599,
    "start_time": "2024-10-06T07:33:49.711Z"
   },
   {
    "duration": 10,
    "start_time": "2024-10-06T07:34:34.312Z"
   },
   {
    "duration": 2245,
    "start_time": "2024-10-06T07:34:34.325Z"
   },
   {
    "duration": 13,
    "start_time": "2024-10-06T07:34:36.575Z"
   },
   {
    "duration": 10795,
    "start_time": "2024-10-06T07:34:36.590Z"
   },
   {
    "duration": 5,
    "start_time": "2024-10-06T07:34:47.477Z"
   },
   {
    "duration": 7,
    "start_time": "2024-10-06T07:34:47.483Z"
   },
   {
    "duration": 3,
    "start_time": "2024-10-06T07:34:47.492Z"
   },
   {
    "duration": 338,
    "start_time": "2024-10-06T07:34:47.497Z"
   },
   {
    "duration": 3,
    "start_time": "2024-10-06T07:34:47.837Z"
   },
   {
    "duration": 4,
    "start_time": "2024-10-06T07:34:47.842Z"
   },
   {
    "duration": 4,
    "start_time": "2024-10-06T07:40:51.472Z"
   },
   {
    "duration": 11,
    "start_time": "2024-10-06T07:43:13.016Z"
   },
   {
    "duration": 2140,
    "start_time": "2024-10-06T07:43:13.581Z"
   },
   {
    "duration": 9760,
    "start_time": "2024-10-06T07:43:33.119Z"
   },
   {
    "duration": 4,
    "start_time": "2024-10-06T07:43:42.881Z"
   },
   {
    "duration": 3,
    "start_time": "2024-10-06T07:43:42.886Z"
   },
   {
    "duration": 3,
    "start_time": "2024-10-06T07:43:42.891Z"
   },
   {
    "duration": 356,
    "start_time": "2024-10-06T07:43:42.895Z"
   },
   {
    "duration": 3,
    "start_time": "2024-10-06T07:43:43.253Z"
   },
   {
    "duration": 4,
    "start_time": "2024-10-06T07:43:43.257Z"
   },
   {
    "duration": 4,
    "start_time": "2024-10-06T07:44:08.974Z"
   },
   {
    "duration": 129,
    "start_time": "2024-10-06T07:44:22.366Z"
   },
   {
    "duration": 9,
    "start_time": "2024-10-06T07:44:36.858Z"
   },
   {
    "duration": 3,
    "start_time": "2024-10-06T07:45:45.571Z"
   },
   {
    "duration": 2349,
    "start_time": "2024-10-06T07:46:25.320Z"
   },
   {
    "duration": 1608,
    "start_time": "2024-10-06T07:46:27.671Z"
   },
   {
    "duration": 3,
    "start_time": "2024-10-06T07:46:29.280Z"
   },
   {
    "duration": 358,
    "start_time": "2024-10-06T07:46:29.284Z"
   },
   {
    "duration": 902,
    "start_time": "2024-10-06T07:46:29.644Z"
   },
   {
    "duration": 8,
    "start_time": "2024-10-06T07:46:30.548Z"
   },
   {
    "duration": 47,
    "start_time": "2024-10-06T07:46:30.558Z"
   },
   {
    "duration": 144,
    "start_time": "2024-10-06T07:46:30.607Z"
   },
   {
    "duration": 4,
    "start_time": "2024-10-06T07:46:30.752Z"
   },
   {
    "duration": 29,
    "start_time": "2024-10-06T07:46:30.757Z"
   },
   {
    "duration": 109,
    "start_time": "2024-10-06T07:46:30.788Z"
   },
   {
    "duration": 81066,
    "start_time": "2024-10-06T07:46:30.899Z"
   },
   {
    "duration": 0,
    "start_time": "2024-10-06T07:47:51.967Z"
   },
   {
    "duration": 0,
    "start_time": "2024-10-06T07:47:51.975Z"
   },
   {
    "duration": 0,
    "start_time": "2024-10-06T07:47:51.976Z"
   },
   {
    "duration": 0,
    "start_time": "2024-10-06T07:47:51.977Z"
   },
   {
    "duration": 0,
    "start_time": "2024-10-06T07:47:51.978Z"
   },
   {
    "duration": 1,
    "start_time": "2024-10-06T07:47:51.979Z"
   },
   {
    "duration": 0,
    "start_time": "2024-10-06T07:47:51.981Z"
   },
   {
    "duration": 0,
    "start_time": "2024-10-06T07:47:51.982Z"
   },
   {
    "duration": 0,
    "start_time": "2024-10-06T07:47:51.983Z"
   },
   {
    "duration": 0,
    "start_time": "2024-10-06T07:47:51.984Z"
   },
   {
    "duration": 0,
    "start_time": "2024-10-06T07:47:51.985Z"
   },
   {
    "duration": 11,
    "start_time": "2024-10-06T07:48:34.041Z"
   },
   {
    "duration": 4,
    "start_time": "2024-10-06T07:48:43.206Z"
   },
   {
    "duration": 8,
    "start_time": "2024-10-06T07:48:57.406Z"
   },
   {
    "duration": 229,
    "start_time": "2024-10-06T07:49:13.346Z"
   },
   {
    "duration": 122,
    "start_time": "2024-10-06T07:49:13.706Z"
   },
   {
    "duration": 2395,
    "start_time": "2024-10-06T07:49:38.285Z"
   },
   {
    "duration": 1572,
    "start_time": "2024-10-06T07:49:40.682Z"
   },
   {
    "duration": 3,
    "start_time": "2024-10-06T07:49:42.256Z"
   },
   {
    "duration": 380,
    "start_time": "2024-10-06T07:49:42.261Z"
   },
   {
    "duration": 889,
    "start_time": "2024-10-06T07:49:42.643Z"
   },
   {
    "duration": 9,
    "start_time": "2024-10-06T07:49:43.534Z"
   },
   {
    "duration": 64,
    "start_time": "2024-10-06T07:49:43.545Z"
   },
   {
    "duration": 119,
    "start_time": "2024-10-06T07:49:43.610Z"
   },
   {
    "duration": 5,
    "start_time": "2024-10-06T07:49:43.731Z"
   },
   {
    "duration": 341,
    "start_time": "2024-10-06T07:49:43.737Z"
   },
   {
    "duration": 0,
    "start_time": "2024-10-06T07:49:44.080Z"
   },
   {
    "duration": 0,
    "start_time": "2024-10-06T07:49:44.081Z"
   },
   {
    "duration": 0,
    "start_time": "2024-10-06T07:49:44.082Z"
   },
   {
    "duration": 0,
    "start_time": "2024-10-06T07:49:44.083Z"
   },
   {
    "duration": 0,
    "start_time": "2024-10-06T07:49:44.084Z"
   },
   {
    "duration": 0,
    "start_time": "2024-10-06T07:49:44.085Z"
   },
   {
    "duration": 0,
    "start_time": "2024-10-06T07:49:44.086Z"
   },
   {
    "duration": 0,
    "start_time": "2024-10-06T07:49:44.087Z"
   },
   {
    "duration": 0,
    "start_time": "2024-10-06T07:49:44.088Z"
   },
   {
    "duration": 0,
    "start_time": "2024-10-06T07:49:44.089Z"
   },
   {
    "duration": 0,
    "start_time": "2024-10-06T07:49:44.090Z"
   },
   {
    "duration": 0,
    "start_time": "2024-10-06T07:49:44.091Z"
   },
   {
    "duration": 0,
    "start_time": "2024-10-06T07:49:44.093Z"
   },
   {
    "duration": 17,
    "start_time": "2024-10-06T07:49:56.210Z"
   },
   {
    "duration": 110,
    "start_time": "2024-10-06T07:49:56.885Z"
   },
   {
    "duration": 67718,
    "start_time": "2024-10-06T07:49:57.259Z"
   },
   {
    "duration": 9,
    "start_time": "2024-10-06T07:51:06.492Z"
   },
   {
    "duration": 16,
    "start_time": "2024-10-06T07:51:17.509Z"
   },
   {
    "duration": 3421,
    "start_time": "2024-10-06T07:51:17.802Z"
   },
   {
    "duration": 19777,
    "start_time": "2024-10-06T07:51:24.298Z"
   },
   {
    "duration": 5,
    "start_time": "2024-10-06T07:51:44.078Z"
   },
   {
    "duration": 40,
    "start_time": "2024-10-06T07:51:44.085Z"
   },
   {
    "duration": 3,
    "start_time": "2024-10-06T07:51:44.128Z"
   },
   {
    "duration": 501,
    "start_time": "2024-10-06T07:51:44.133Z"
   },
   {
    "duration": 3,
    "start_time": "2024-10-06T07:51:44.635Z"
   },
   {
    "duration": 4,
    "start_time": "2024-10-06T07:51:44.640Z"
   },
   {
    "duration": 6,
    "start_time": "2024-10-06T07:51:44.646Z"
   },
   {
    "duration": 30763,
    "start_time": "2024-10-06T07:52:56.425Z"
   },
   {
    "duration": 5,
    "start_time": "2024-10-06T07:53:27.191Z"
   },
   {
    "duration": 79,
    "start_time": "2024-10-06T07:53:27.197Z"
   },
   {
    "duration": 22,
    "start_time": "2024-10-06T07:53:27.278Z"
   },
   {
    "duration": 541,
    "start_time": "2024-10-06T07:53:27.302Z"
   },
   {
    "duration": 3,
    "start_time": "2024-10-06T07:53:27.845Z"
   },
   {
    "duration": 5,
    "start_time": "2024-10-06T07:53:27.849Z"
   },
   {
    "duration": 21,
    "start_time": "2024-10-06T07:53:27.855Z"
   },
   {
    "duration": 19921,
    "start_time": "2024-10-06T08:08:27.960Z"
   },
   {
    "duration": 2453,
    "start_time": "2024-10-06T08:09:08.600Z"
   },
   {
    "duration": 1631,
    "start_time": "2024-10-06T08:09:11.055Z"
   },
   {
    "duration": 2,
    "start_time": "2024-10-06T08:09:12.688Z"
   },
   {
    "duration": 293,
    "start_time": "2024-10-06T08:09:12.692Z"
   },
   {
    "duration": 867,
    "start_time": "2024-10-06T08:09:12.987Z"
   },
   {
    "duration": 9,
    "start_time": "2024-10-06T08:09:13.855Z"
   },
   {
    "duration": 32,
    "start_time": "2024-10-06T08:09:13.876Z"
   },
   {
    "duration": 129,
    "start_time": "2024-10-06T08:09:13.910Z"
   },
   {
    "duration": 4,
    "start_time": "2024-10-06T08:09:14.040Z"
   },
   {
    "duration": 20,
    "start_time": "2024-10-06T08:09:14.045Z"
   },
   {
    "duration": 97,
    "start_time": "2024-10-06T08:09:14.067Z"
   },
   {
    "duration": 43840,
    "start_time": "2024-10-06T08:09:14.175Z"
   },
   {
    "duration": 61,
    "start_time": "2024-10-06T08:09:58.017Z"
   },
   {
    "duration": 12,
    "start_time": "2024-10-06T08:09:58.082Z"
   },
   {
    "duration": 2213,
    "start_time": "2024-10-06T08:09:58.096Z"
   },
   {
    "duration": 9365,
    "start_time": "2024-10-06T08:10:00.311Z"
   },
   {
    "duration": 4,
    "start_time": "2024-10-06T08:10:09.678Z"
   },
   {
    "duration": 3,
    "start_time": "2024-10-06T08:10:09.683Z"
   },
   {
    "duration": 6,
    "start_time": "2024-10-06T08:10:09.687Z"
   },
   {
    "duration": 348,
    "start_time": "2024-10-06T08:10:09.694Z"
   },
   {
    "duration": 3,
    "start_time": "2024-10-06T08:10:10.043Z"
   },
   {
    "duration": 8,
    "start_time": "2024-10-06T08:10:10.047Z"
   },
   {
    "duration": 23,
    "start_time": "2024-10-06T08:10:10.056Z"
   },
   {
    "duration": 6,
    "start_time": "2024-10-06T08:13:26.517Z"
   },
   {
    "duration": 130,
    "start_time": "2024-10-06T08:13:58.648Z"
   },
   {
    "duration": 130,
    "start_time": "2024-10-06T08:14:02.578Z"
   },
   {
    "duration": 134,
    "start_time": "2024-10-06T08:15:02.484Z"
   },
   {
    "duration": 136,
    "start_time": "2024-10-06T08:15:32.122Z"
   },
   {
    "duration": 109,
    "start_time": "2024-10-06T08:15:51.009Z"
   },
   {
    "duration": 144,
    "start_time": "2024-10-06T08:16:02.289Z"
   },
   {
    "duration": 115,
    "start_time": "2024-10-06T08:16:50.912Z"
   },
   {
    "duration": 2449,
    "start_time": "2024-10-06T08:16:58.672Z"
   },
   {
    "duration": 1688,
    "start_time": "2024-10-06T08:17:01.125Z"
   },
   {
    "duration": 2,
    "start_time": "2024-10-06T08:17:02.815Z"
   },
   {
    "duration": 236,
    "start_time": "2024-10-06T08:17:02.819Z"
   },
   {
    "duration": 886,
    "start_time": "2024-10-06T08:17:03.057Z"
   },
   {
    "duration": 9,
    "start_time": "2024-10-06T08:17:03.945Z"
   },
   {
    "duration": 46,
    "start_time": "2024-10-06T08:17:03.955Z"
   },
   {
    "duration": 175,
    "start_time": "2024-10-06T08:17:04.003Z"
   },
   {
    "duration": 4,
    "start_time": "2024-10-06T08:17:04.179Z"
   },
   {
    "duration": 82,
    "start_time": "2024-10-06T08:17:04.184Z"
   },
   {
    "duration": 115,
    "start_time": "2024-10-06T08:17:04.268Z"
   },
   {
    "duration": 43536,
    "start_time": "2024-10-06T08:17:04.384Z"
   },
   {
    "duration": 63,
    "start_time": "2024-10-06T08:17:47.922Z"
   },
   {
    "duration": 40,
    "start_time": "2024-10-06T08:17:47.988Z"
   },
   {
    "duration": 2246,
    "start_time": "2024-10-06T08:17:48.030Z"
   },
   {
    "duration": 20803,
    "start_time": "2024-10-06T08:17:50.277Z"
   },
   {
    "duration": 4,
    "start_time": "2024-10-06T08:18:11.082Z"
   },
   {
    "duration": 4,
    "start_time": "2024-10-06T08:18:11.088Z"
   },
   {
    "duration": 2,
    "start_time": "2024-10-06T08:18:11.094Z"
   },
   {
    "duration": 391,
    "start_time": "2024-10-06T08:18:11.098Z"
   },
   {
    "duration": 3,
    "start_time": "2024-10-06T08:18:11.491Z"
   },
   {
    "duration": 3,
    "start_time": "2024-10-06T08:18:11.496Z"
   },
   {
    "duration": 5,
    "start_time": "2024-10-06T08:18:11.501Z"
   },
   {
    "duration": 8,
    "start_time": "2024-10-06T08:24:05.767Z"
   },
   {
    "duration": 5,
    "start_time": "2024-10-06T08:24:20.809Z"
   },
   {
    "duration": 5,
    "start_time": "2024-10-06T08:24:24.758Z"
   },
   {
    "duration": 805,
    "start_time": "2024-10-06T08:24:30.883Z"
   },
   {
    "duration": 713,
    "start_time": "2024-10-06T08:24:38.185Z"
   },
   {
    "duration": 5,
    "start_time": "2024-10-06T08:24:47.347Z"
   },
   {
    "duration": 5,
    "start_time": "2024-10-06T08:24:55.516Z"
   },
   {
    "duration": 15,
    "start_time": "2024-10-06T08:25:36.778Z"
   },
   {
    "duration": 4,
    "start_time": "2024-10-06T08:25:52.732Z"
   },
   {
    "duration": 53,
    "start_time": "2024-10-06T08:30:40.260Z"
   },
   {
    "duration": 4,
    "start_time": "2024-10-06T08:46:19.165Z"
   },
   {
    "duration": 11,
    "start_time": "2024-10-06T08:46:28.082Z"
   },
   {
    "duration": 6,
    "start_time": "2024-10-06T08:46:28.581Z"
   },
   {
    "duration": 2226,
    "start_time": "2024-10-06T08:46:42.567Z"
   },
   {
    "duration": 19726,
    "start_time": "2024-10-06T08:47:55.751Z"
   },
   {
    "duration": 8,
    "start_time": "2024-10-06T08:48:15.480Z"
   },
   {
    "duration": 4,
    "start_time": "2024-10-06T08:48:56.788Z"
   },
   {
    "duration": 2,
    "start_time": "2024-10-06T08:48:57.085Z"
   },
   {
    "duration": 2,
    "start_time": "2024-10-06T08:48:57.373Z"
   },
   {
    "duration": 334,
    "start_time": "2024-10-06T08:48:57.637Z"
   },
   {
    "duration": 4,
    "start_time": "2024-10-06T08:48:58.223Z"
   },
   {
    "duration": 2,
    "start_time": "2024-10-06T08:49:02.316Z"
   },
   {
    "duration": 4,
    "start_time": "2024-10-06T08:49:02.551Z"
   },
   {
    "duration": 8,
    "start_time": "2024-10-06T08:50:47.050Z"
   },
   {
    "duration": 4,
    "start_time": "2024-10-06T08:53:29.386Z"
   },
   {
    "duration": 3,
    "start_time": "2024-10-06T08:53:36.436Z"
   },
   {
    "duration": 8,
    "start_time": "2024-10-06T08:53:44.226Z"
   },
   {
    "duration": 7,
    "start_time": "2024-10-06T08:56:36.399Z"
   },
   {
    "duration": 5,
    "start_time": "2024-10-06T08:57:23.242Z"
   },
   {
    "duration": 8,
    "start_time": "2024-10-06T08:57:47.571Z"
   },
   {
    "duration": 8,
    "start_time": "2024-10-06T08:57:56.706Z"
   },
   {
    "duration": 19,
    "start_time": "2024-10-06T08:58:31.010Z"
   },
   {
    "duration": 15,
    "start_time": "2024-10-06T08:58:47.734Z"
   },
   {
    "duration": 8,
    "start_time": "2024-10-06T08:59:16.878Z"
   },
   {
    "duration": 7,
    "start_time": "2024-10-06T08:59:24.429Z"
   },
   {
    "duration": 8,
    "start_time": "2024-10-06T09:03:35.605Z"
   },
   {
    "duration": 14,
    "start_time": "2024-10-06T09:04:19.580Z"
   },
   {
    "duration": 6,
    "start_time": "2024-10-06T09:04:28.360Z"
   },
   {
    "duration": 9,
    "start_time": "2024-10-06T09:05:05.444Z"
   },
   {
    "duration": 8,
    "start_time": "2024-10-06T09:05:10.224Z"
   },
   {
    "duration": 8,
    "start_time": "2024-10-06T09:05:10.874Z"
   },
   {
    "duration": 5,
    "start_time": "2024-10-06T09:05:32.420Z"
   },
   {
    "duration": 10,
    "start_time": "2024-10-06T09:05:41.494Z"
   },
   {
    "duration": 5,
    "start_time": "2024-10-06T09:05:49.583Z"
   },
   {
    "duration": 8,
    "start_time": "2024-10-06T09:06:02.945Z"
   },
   {
    "duration": 5,
    "start_time": "2024-10-06T09:06:03.186Z"
   },
   {
    "duration": 11,
    "start_time": "2024-10-06T09:06:38.002Z"
   },
   {
    "duration": 5,
    "start_time": "2024-10-06T09:06:50.411Z"
   },
   {
    "duration": 4,
    "start_time": "2024-10-06T09:07:10.421Z"
   },
   {
    "duration": 5,
    "start_time": "2024-10-06T09:07:18.507Z"
   },
   {
    "duration": 52,
    "start_time": "2024-10-06T09:08:56.492Z"
   },
   {
    "duration": 6,
    "start_time": "2024-10-06T09:09:26.220Z"
   },
   {
    "duration": 2464,
    "start_time": "2024-10-06T09:28:19.013Z"
   },
   {
    "duration": 1644,
    "start_time": "2024-10-06T09:28:21.480Z"
   },
   {
    "duration": 3,
    "start_time": "2024-10-06T09:28:23.126Z"
   },
   {
    "duration": 246,
    "start_time": "2024-10-06T09:28:23.131Z"
   },
   {
    "duration": 897,
    "start_time": "2024-10-06T09:28:23.379Z"
   },
   {
    "duration": 10,
    "start_time": "2024-10-06T09:28:24.278Z"
   },
   {
    "duration": 32,
    "start_time": "2024-10-06T09:28:24.290Z"
   },
   {
    "duration": 160,
    "start_time": "2024-10-06T09:28:24.323Z"
   },
   {
    "duration": 3,
    "start_time": "2024-10-06T09:28:24.485Z"
   },
   {
    "duration": 13,
    "start_time": "2024-10-06T09:28:24.490Z"
   },
   {
    "duration": 158,
    "start_time": "2024-10-06T09:28:24.504Z"
   },
   {
    "duration": 44855,
    "start_time": "2024-10-06T09:28:24.664Z"
   },
   {
    "duration": 9,
    "start_time": "2024-10-06T09:29:09.522Z"
   },
   {
    "duration": 48,
    "start_time": "2024-10-06T09:29:09.534Z"
   },
   {
    "duration": 2270,
    "start_time": "2024-10-06T09:29:09.583Z"
   },
   {
    "duration": 21121,
    "start_time": "2024-10-06T09:29:11.855Z"
   },
   {
    "duration": 10,
    "start_time": "2024-10-06T09:29:32.977Z"
   },
   {
    "duration": 17,
    "start_time": "2024-10-06T09:29:32.988Z"
   },
   {
    "duration": 14,
    "start_time": "2024-10-06T09:29:33.006Z"
   },
   {
    "duration": 33,
    "start_time": "2024-10-06T09:29:33.021Z"
   },
   {
    "duration": 371,
    "start_time": "2024-10-06T09:29:33.055Z"
   },
   {
    "duration": 3,
    "start_time": "2024-10-06T09:29:33.428Z"
   },
   {
    "duration": 10,
    "start_time": "2024-10-06T09:29:33.432Z"
   },
   {
    "duration": 7,
    "start_time": "2024-10-06T09:29:33.444Z"
   },
   {
    "duration": 7,
    "start_time": "2024-10-06T09:29:33.453Z"
   },
   {
    "duration": 22,
    "start_time": "2024-10-06T09:29:33.461Z"
   },
   {
    "duration": 15,
    "start_time": "2024-10-06T09:29:33.485Z"
   },
   {
    "duration": 5085,
    "start_time": "2024-10-06T09:56:11.637Z"
   },
   {
    "duration": 1951,
    "start_time": "2024-10-06T09:56:16.725Z"
   },
   {
    "duration": 3,
    "start_time": "2024-10-06T09:56:18.677Z"
   },
   {
    "duration": 195,
    "start_time": "2024-10-06T09:56:18.681Z"
   },
   {
    "duration": 1260,
    "start_time": "2024-10-06T09:56:18.878Z"
   },
   {
    "duration": 9,
    "start_time": "2024-10-06T09:56:20.139Z"
   },
   {
    "duration": 32,
    "start_time": "2024-10-06T09:56:20.150Z"
   },
   {
    "duration": 229,
    "start_time": "2024-10-06T09:56:20.184Z"
   },
   {
    "duration": 3,
    "start_time": "2024-10-06T09:56:20.415Z"
   },
   {
    "duration": 45,
    "start_time": "2024-10-06T09:56:20.420Z"
   },
   {
    "duration": 238,
    "start_time": "2024-10-06T09:56:20.467Z"
   },
   {
    "duration": 48184,
    "start_time": "2024-10-06T09:56:20.707Z"
   },
   {
    "duration": 10,
    "start_time": "2024-10-06T09:57:08.893Z"
   },
   {
    "duration": 59,
    "start_time": "2024-10-06T09:57:08.905Z"
   },
   {
    "duration": 2227,
    "start_time": "2024-10-06T09:57:08.966Z"
   },
   {
    "duration": 8674,
    "start_time": "2024-10-06T09:57:11.195Z"
   },
   {
    "duration": 83,
    "start_time": "2024-10-06T09:57:19.872Z"
   },
   {
    "duration": 33,
    "start_time": "2024-10-06T09:57:19.958Z"
   },
   {
    "duration": 33,
    "start_time": "2024-10-06T09:57:19.992Z"
   },
   {
    "duration": 29,
    "start_time": "2024-10-06T09:57:20.027Z"
   },
   {
    "duration": 454,
    "start_time": "2024-10-06T09:57:20.057Z"
   },
   {
    "duration": 3,
    "start_time": "2024-10-06T09:57:20.512Z"
   },
   {
    "duration": 17,
    "start_time": "2024-10-06T09:57:20.517Z"
   },
   {
    "duration": 85,
    "start_time": "2024-10-06T09:57:20.536Z"
   },
   {
    "duration": 37,
    "start_time": "2024-10-06T09:57:20.623Z"
   },
   {
    "duration": 39,
    "start_time": "2024-10-06T09:57:20.661Z"
   },
   {
    "duration": 18,
    "start_time": "2024-10-06T09:57:20.702Z"
   },
   {
    "duration": 5386,
    "start_time": "2024-10-06T13:09:45.182Z"
   },
   {
    "duration": 2197,
    "start_time": "2024-10-06T13:10:28.144Z"
   },
   {
    "duration": 3,
    "start_time": "2024-10-06T13:13:09.691Z"
   },
   {
    "duration": 263,
    "start_time": "2024-10-06T13:13:09.939Z"
   },
   {
    "duration": 1224,
    "start_time": "2024-10-06T13:13:21.228Z"
   },
   {
    "duration": 9,
    "start_time": "2024-10-06T13:13:24.017Z"
   },
   {
    "duration": 34,
    "start_time": "2024-10-06T13:13:24.319Z"
   },
   {
    "duration": 9,
    "start_time": "2024-10-06T13:13:27.320Z"
   },
   {
    "duration": 141,
    "start_time": "2024-10-06T13:13:31.838Z"
   },
   {
    "duration": 4,
    "start_time": "2024-10-06T13:13:38.225Z"
   },
   {
    "duration": 5,
    "start_time": "2024-10-06T13:13:59.583Z"
   },
   {
    "duration": 3,
    "start_time": "2024-10-06T13:14:29.683Z"
   },
   {
    "duration": 12,
    "start_time": "2024-10-06T13:14:35.056Z"
   },
   {
    "duration": 113,
    "start_time": "2024-10-06T13:14:37.055Z"
   },
   {
    "duration": 575,
    "start_time": "2024-10-06T13:14:40.806Z"
   },
   {
    "duration": 6,
    "start_time": "2024-10-06T13:15:41.768Z"
   },
   {
    "duration": 63501,
    "start_time": "2024-10-06T13:15:47.380Z"
   },
   {
    "duration": 590,
    "start_time": "2024-10-06T13:20:11.417Z"
   },
   {
    "duration": 4,
    "start_time": "2024-10-06T13:21:04.957Z"
   },
   {
    "duration": 4,
    "start_time": "2024-10-06T13:21:06.770Z"
   },
   {
    "duration": 43,
    "start_time": "2024-10-06T13:21:10.222Z"
   },
   {
    "duration": 1370,
    "start_time": "2024-10-06T13:21:14.893Z"
   },
   {
    "duration": 10,
    "start_time": "2024-10-06T13:22:14.996Z"
   },
   {
    "duration": 325187,
    "start_time": "2024-10-06T13:22:19.357Z"
   },
   {
    "duration": 2430,
    "start_time": "2024-10-06T13:28:25.718Z"
   },
   {
    "duration": 1792,
    "start_time": "2024-10-06T13:28:28.151Z"
   },
   {
    "duration": 4,
    "start_time": "2024-10-06T13:28:29.945Z"
   },
   {
    "duration": 183,
    "start_time": "2024-10-06T13:28:29.951Z"
   },
   {
    "duration": 884,
    "start_time": "2024-10-06T13:28:30.135Z"
   },
   {
    "duration": 12,
    "start_time": "2024-10-06T13:28:31.021Z"
   },
   {
    "duration": 33,
    "start_time": "2024-10-06T13:28:31.043Z"
   },
   {
    "duration": 17,
    "start_time": "2024-10-06T13:28:31.078Z"
   },
   {
    "duration": 170,
    "start_time": "2024-10-06T13:28:31.096Z"
   },
   {
    "duration": 3,
    "start_time": "2024-10-06T13:28:31.269Z"
   },
   {
    "duration": 17,
    "start_time": "2024-10-06T13:28:31.274Z"
   },
   {
    "duration": 5,
    "start_time": "2024-10-06T13:28:31.293Z"
   },
   {
    "duration": 15,
    "start_time": "2024-10-06T13:28:31.299Z"
   },
   {
    "duration": 130,
    "start_time": "2024-10-06T13:28:31.315Z"
   },
   {
    "duration": 59921,
    "start_time": "2024-10-06T13:28:31.446Z"
   },
   {
    "duration": 11,
    "start_time": "2024-10-06T13:29:31.370Z"
   },
   {
    "duration": 82,
    "start_time": "2024-10-06T13:29:31.383Z"
   },
   {
    "duration": 2641,
    "start_time": "2024-10-06T13:29:31.467Z"
   },
   {
    "duration": 22434,
    "start_time": "2024-10-06T13:29:34.110Z"
   },
   {
    "duration": 18,
    "start_time": "2024-10-06T13:29:56.547Z"
   },
   {
    "duration": 5,
    "start_time": "2024-10-06T13:29:56.575Z"
   },
   {
    "duration": 4,
    "start_time": "2024-10-06T13:29:56.582Z"
   },
   {
    "duration": 4,
    "start_time": "2024-10-06T13:29:56.588Z"
   },
   {
    "duration": 425,
    "start_time": "2024-10-06T13:29:56.594Z"
   },
   {
    "duration": 4,
    "start_time": "2024-10-06T13:29:57.021Z"
   },
   {
    "duration": 14,
    "start_time": "2024-10-06T13:29:57.027Z"
   },
   {
    "duration": 7,
    "start_time": "2024-10-06T13:29:57.044Z"
   },
   {
    "duration": 10,
    "start_time": "2024-10-06T13:29:57.063Z"
   },
   {
    "duration": 10,
    "start_time": "2024-10-06T13:29:57.075Z"
   },
   {
    "duration": 7,
    "start_time": "2024-10-06T13:29:57.087Z"
   },
   {
    "duration": 10,
    "start_time": "2024-10-06T13:29:57.095Z"
   },
   {
    "duration": 15,
    "start_time": "2024-10-06T13:30:42.738Z"
   },
   {
    "duration": 2284,
    "start_time": "2024-10-06T13:30:44.716Z"
   },
   {
    "duration": 167,
    "start_time": "2024-10-06T13:35:20.981Z"
   },
   {
    "duration": 13,
    "start_time": "2024-10-06T13:35:38.378Z"
   },
   {
    "duration": 6,
    "start_time": "2024-10-06T13:37:06.690Z"
   },
   {
    "duration": 9,
    "start_time": "2024-10-06T13:39:29.725Z"
   },
   {
    "duration": 14,
    "start_time": "2024-10-06T13:40:40.903Z"
   },
   {
    "duration": 4,
    "start_time": "2024-10-06T13:45:11.252Z"
   },
   {
    "duration": 14,
    "start_time": "2024-10-06T13:45:52.344Z"
   },
   {
    "duration": 7,
    "start_time": "2024-10-06T13:46:20.715Z"
   },
   {
    "duration": 11,
    "start_time": "2024-10-06T13:46:26.884Z"
   },
   {
    "duration": 7,
    "start_time": "2024-10-06T13:47:54.970Z"
   },
   {
    "duration": 6,
    "start_time": "2024-10-06T14:55:55.922Z"
   },
   {
    "duration": 4,
    "start_time": "2024-10-06T15:18:07.510Z"
   },
   {
    "duration": 4,
    "start_time": "2024-10-06T15:18:09.456Z"
   },
   {
    "duration": 968320,
    "start_time": "2024-10-06T15:18:09.826Z"
   },
   {
    "duration": 5,
    "start_time": "2024-10-06T15:36:50.619Z"
   },
   {
    "duration": 2,
    "start_time": "2024-10-06T15:39:42.975Z"
   },
   {
    "duration": 9,
    "start_time": "2024-10-06T15:40:04.482Z"
   },
   {
    "duration": 19,
    "start_time": "2024-10-06T15:41:12.838Z"
   },
   {
    "duration": 21,
    "start_time": "2024-10-06T15:46:16.619Z"
   },
   {
    "duration": 6,
    "start_time": "2024-10-06T15:47:56.846Z"
   },
   {
    "duration": 8,
    "start_time": "2024-10-06T15:47:57.156Z"
   },
   {
    "duration": 5,
    "start_time": "2024-10-06T15:51:11.642Z"
   },
   {
    "duration": 8,
    "start_time": "2024-10-06T15:51:12.421Z"
   },
   {
    "duration": 8,
    "start_time": "2024-10-06T15:56:31.353Z"
   },
   {
    "duration": 5,
    "start_time": "2024-10-06T15:56:36.297Z"
   },
   {
    "duration": 2345,
    "start_time": "2024-10-06T16:05:45.370Z"
   },
   {
    "duration": 1748,
    "start_time": "2024-10-06T16:05:47.718Z"
   },
   {
    "duration": 3,
    "start_time": "2024-10-06T16:05:49.468Z"
   },
   {
    "duration": 228,
    "start_time": "2024-10-06T16:05:49.473Z"
   },
   {
    "duration": 933,
    "start_time": "2024-10-06T16:05:49.702Z"
   },
   {
    "duration": 11,
    "start_time": "2024-10-06T16:05:50.637Z"
   },
   {
    "duration": 32,
    "start_time": "2024-10-06T16:05:50.650Z"
   },
   {
    "duration": 10,
    "start_time": "2024-10-06T16:05:50.684Z"
   },
   {
    "duration": 161,
    "start_time": "2024-10-06T16:05:50.696Z"
   },
   {
    "duration": 4,
    "start_time": "2024-10-06T16:05:50.860Z"
   },
   {
    "duration": 4,
    "start_time": "2024-10-06T16:05:50.865Z"
   },
   {
    "duration": 5,
    "start_time": "2024-10-06T16:05:50.870Z"
   },
   {
    "duration": 13,
    "start_time": "2024-10-06T16:05:50.876Z"
   },
   {
    "duration": 135,
    "start_time": "2024-10-06T16:05:50.891Z"
   },
   {
    "duration": 2394,
    "start_time": "2024-10-06T16:06:22.294Z"
   },
   {
    "duration": 1634,
    "start_time": "2024-10-06T16:06:24.690Z"
   },
   {
    "duration": 3,
    "start_time": "2024-10-06T16:06:26.326Z"
   },
   {
    "duration": 185,
    "start_time": "2024-10-06T16:06:26.331Z"
   },
   {
    "duration": 875,
    "start_time": "2024-10-06T16:06:26.518Z"
   },
   {
    "duration": 13,
    "start_time": "2024-10-06T16:06:27.395Z"
   },
   {
    "duration": 46,
    "start_time": "2024-10-06T16:06:27.411Z"
   },
   {
    "duration": 13,
    "start_time": "2024-10-06T16:06:27.458Z"
   },
   {
    "duration": 150,
    "start_time": "2024-10-06T16:06:27.473Z"
   },
   {
    "duration": 3,
    "start_time": "2024-10-06T16:06:27.625Z"
   },
   {
    "duration": 4,
    "start_time": "2024-10-06T16:06:27.643Z"
   },
   {
    "duration": 15,
    "start_time": "2024-10-06T16:06:27.648Z"
   },
   {
    "duration": 119,
    "start_time": "2024-10-06T16:06:27.665Z"
   },
   {
    "duration": 234856,
    "start_time": "2024-10-06T16:06:27.787Z"
   },
   {
    "duration": 9,
    "start_time": "2024-10-06T16:10:22.645Z"
   },
   {
    "duration": 14,
    "start_time": "2024-10-06T16:10:22.656Z"
   },
   {
    "duration": 2213,
    "start_time": "2024-10-06T16:10:22.672Z"
   },
   {
    "duration": 3,
    "start_time": "2024-10-06T16:10:24.888Z"
   },
   {
    "duration": 11,
    "start_time": "2024-10-06T16:10:24.893Z"
   },
   {
    "duration": 6,
    "start_time": "2024-10-06T16:10:24.906Z"
   },
   {
    "duration": 994137,
    "start_time": "2024-10-06T16:10:24.914Z"
   },
   {
    "duration": 4,
    "start_time": "2024-10-06T16:26:59.052Z"
   },
   {
    "duration": 27,
    "start_time": "2024-10-06T16:26:59.058Z"
   },
   {
    "duration": 12,
    "start_time": "2024-10-06T16:26:59.087Z"
   },
   {
    "duration": 5,
    "start_time": "2024-10-06T16:26:59.100Z"
   },
   {
    "duration": 13,
    "start_time": "2024-10-06T16:26:59.107Z"
   },
   {
    "duration": 50,
    "start_time": "2024-10-16T11:56:21.621Z"
   },
   {
    "duration": 5298,
    "start_time": "2024-10-16T11:56:32.504Z"
   },
   {
    "duration": 9,
    "start_time": "2024-10-16T11:56:47.762Z"
   }
  ],
  "kernelspec": {
   "display_name": "Python 3 (ipykernel)",
   "language": "python",
   "name": "python3"
  },
  "language_info": {
   "codemirror_mode": {
    "name": "ipython",
    "version": 3
   },
   "file_extension": ".py",
   "mimetype": "text/x-python",
   "name": "python",
   "nbconvert_exporter": "python",
   "pygments_lexer": "ipython3",
   "version": "3.9.5"
  },
  "toc": {
   "base_numbering": 1,
   "nav_menu": {},
   "number_sections": true,
   "sideBar": true,
   "skip_h1_title": true,
   "title_cell": "Содержание",
   "title_sidebar": "Contents",
   "toc_cell": true,
   "toc_position": {
    "height": "calc(100% - 180px)",
    "left": "10px",
    "top": "150px",
    "width": "302.391px"
   },
   "toc_section_display": true,
   "toc_window_display": false
  }
 },
 "nbformat": 4,
 "nbformat_minor": 2
}
